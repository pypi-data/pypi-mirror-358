{
  "cells": [
    {
      "cell_type": "code",
      "execution_count": null,
      "metadata": {
        "vscode": {
          "languageId": "plaintext"
        }
      },
      "outputs": [],
      "source": [
        "# 🎯 Syft Objects: Inline Content Display\n",
        "\n",
        "**Click buttons to view content directly in the notebook!**\n",
        "\n",
        "This demo shows the new inline content display functionality:\n",
        "- 📄 **View Demo/Real** → See first 1000 characters inline\n",
        "- 📋 **Copy button** → Copy file path to clipboard\n",
        "- ✕ **Close button** → Hide content display\n",
        "- 🔒 **No external files** → Everything works within Jupyter\n"
      ]
    },
    {
      "cell_type": "code",
      "execution_count": null,
      "metadata": {},
      "outputs": [],
      "source": [
        "from syft_objects import syobj\n",
        "\n",
        "print(\"🔧 Syft Objects with Inline Content Display Ready!\")\n"
      ]
    },
    {
      "cell_type": "code",
      "execution_count": null,
      "metadata": {},
      "outputs": [],
      "source": [
        "## 📄 Basic Content Display\n",
        "\n",
        "Create an object with explicit mock vs private contents:\n"
      ]
    },
    {
      "cell_type": "code",
      "execution_count": null,
      "metadata": {},
      "outputs": [],
      "source": [
        "# Basic example with short content\n",
        "basic_obj = syobj(\n",
        "    name=\"Customer Analysis\",\n",
        "    mock_contents=\"Sample data: 100 customers, avg age 42, 60% retention rate\",\n",
        "    private_contents=\"Full data: 47,293 customers, avg age 41.7, 58.3% retention, avg LTV $1,247\"\n",
        ")\n",
        "\n",
        "# Display the object - click the buttons to see inline content!\n",
        "basic_obj\n"
      ]
    },
    {
      "cell_type": "code",
      "execution_count": null,
      "metadata": {},
      "outputs": [],
      "source": [
        "## 📊 Long Content with Truncation\n",
        "\n",
        "See how content over 1000 characters is automatically truncated:\n"
      ]
    },
    {
      "cell_type": "code",
      "execution_count": null,
      "metadata": {},
      "outputs": [],
      "source": [
        "# Create long content to demonstrate truncation\n",
        "long_content = \"\\n\".join([\n",
        "    \"📊 QUARTERLY BUSINESS REPORT\",\n",
        "    \"=\" * 40,\n",
        "    \"\",\n",
        "    \"📈 Revenue Performance:\",\n",
        "    \"- Q1 2024: Strong growth across all segments\",\n",
        "    \"- Customer acquisition up 23% year-over-year\", \n",
        "    \"- Average deal size increased by 15%\",\n",
        "    \"- Retention rate improved to industry-leading levels\",\n",
        "    \"\",\n",
        "    \"🎯 Key Metrics:\",\n",
        "    \"- Monthly recurring revenue trending upward\",\n",
        "    \"- Customer satisfaction scores at all-time high\",\n",
        "    \"- Product adoption rate exceeding projections\",\n",
        "    \"- Market share gains in competitive landscape\",\n",
        "    \"\",\n",
        "    \"🔮 Future Outlook:\",\n",
        "    \"- Expansion into new geographic markets planned\",\n",
        "    \"- Product roadmap includes innovative features\",\n",
        "    \"- Strategic partnerships under negotiation\",\n",
        "    \"- Investment in technology infrastructure continuing\"\n",
        "] * 5)  # Repeat 5 times to make it long\n",
        "\n",
        "long_obj = syobj(\n",
        "    name=\"Quarterly Report\",\n",
        "    mock_contents=long_content,\n",
        "    private_contents=long_content + \"\\n\\n🔐 CONFIDENTIAL: Revenue $2.8M, Profit 23.7%\",\n",
        "    discovery_read=[\"public\"],\n",
        "    mock_read=[\"employee@company.com\"],\n",
        "    private_read=[\"executive@company.com\"]\n",
        ")\n",
        "\n",
        "print(f\"Content length: {len(long_content)} characters\")\n",
        "\n",
        "# Click buttons to see truncated content with \"... (truncated)\" notice\n",
        "long_obj\n"
      ]
    },
    {
      "cell_type": "code",
      "execution_count": null,
      "metadata": {},
      "outputs": [],
      "source": [
        "## ✨ Key Features Summary\n",
        "\n",
        "The inline content display provides:\n",
        "\n",
        "### 🖱️ Interactive Buttons\n",
        "- **View Demo** → Shows mock content inline\n",
        "- **View Real** → Shows private content inline  \n",
        "- **📋 Copy** → Copies file path to clipboard\n",
        "- **✕ Close** → Hides content display\n",
        "\n",
        "### 📄 Smart Content Handling\n",
        "- First 1000 characters displayed\n",
        "- Auto-truncation with notice\n",
        "- Binary file detection  \n",
        "- Error handling for missing files\n",
        "\n",
        "### 🔒 No External Dependencies\n",
        "- Everything works within Jupyter\n",
        "- No need to open external file viewers\n",
        "- Copy file paths for external use\n",
        "- Secure content display\n",
        "\n",
        "### 🎨 Rich Styling\n",
        "- Beautiful HTML with permission badges\n",
        "- Color-coded access levels\n",
        "- Responsive design\n",
        "- Clean typography\n",
        "\n",
        "**🎉 Perfect for secure file sharing in Jupyter environments!**\n"
      ]
    }
  ],
  "metadata": {
    "language_info": {
      "name": "python"
    }
  },
  "nbformat": 4,
  "nbformat_minor": 2
}
