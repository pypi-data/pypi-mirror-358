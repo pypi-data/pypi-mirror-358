{
 "cells": [
  {
   "cell_type": "code",
   "execution_count": 1,
   "metadata": {},
   "outputs": [
    {
     "name": "stderr",
     "output_type": "stream",
     "text": [
      "\u001b[32m2025-06-29 19:51:42.847\u001b[0m | \u001b[1mINFO    \u001b[0m | \u001b[36msyft_code_queue.data_scientist_api\u001b[0m:\u001b[36m__init__\u001b[0m:\u001b[36m54\u001b[0m - \u001b[1mInitialized Data Scientist API for andrew@openmined.org\u001b[0m\n",
      "\u001b[32m2025-06-29 19:51:42.847\u001b[0m | \u001b[1mINFO    \u001b[0m | \u001b[36msyft_code_queue.data_owner_api\u001b[0m:\u001b[36m__init__\u001b[0m:\u001b[36m55\u001b[0m - \u001b[1mInitialized Data Owner API for andrew@openmined.org\u001b[0m\n",
      "\u001b[32m2025-06-29 19:51:42.848\u001b[0m | \u001b[1mINFO    \u001b[0m | \u001b[36msyft_code_queue\u001b[0m:\u001b[36m__init__\u001b[0m:\u001b[36m79\u001b[0m - \u001b[1mInitialized syft-code-queue API for andrew@openmined.org\u001b[0m\n"
     ]
    }
   ],
   "source": [
    "import syft_code_queue as q"
   ]
  },
  {
   "cell_type": "code",
   "execution_count": 2,
   "metadata": {},
   "outputs": [
    {
     "name": "stderr",
     "output_type": "stream",
     "text": [
      "\u001b[32m2025-06-29 19:51:43.436\u001b[0m | \u001b[1mINFO    \u001b[0m | \u001b[36msyft_code_queue.client\u001b[0m:\u001b[36msubmit_code\u001b[0m:\u001b[36m92\u001b[0m - \u001b[1mSubmitted job 'Customer Insights Analysis' to andrew@openmined.org\u001b[0m\n",
      "\u001b[32m2025-06-29 19:51:43.437\u001b[0m | \u001b[1mINFO    \u001b[0m | \u001b[36msyft_code_queue.data_scientist_api\u001b[0m:\u001b[36msubmit_job\u001b[0m:\u001b[36m104\u001b[0m - \u001b[1mSubmitted job 'Customer Insights Analysis' to andrew@openmined.org (ID: 64628bf6-47d9-4005-a568-50044fd326ca)\u001b[0m\n"
     ]
    }
   ],
   "source": [
    "job = q.submit_python(\n",
    "    target_email='andrew@openmined.org',  # To yourself as DO\n",
    "    script_content=\"print('Hello world')\",       # Customer analysis code\n",
    "    name='Customer Insights Analysis',\n",
    "    description='Privacy-safe customer behavior analysis',\n",
    "    tags=['privacy-safe', 'customer-analysis', 'business-insights']\n",
    ")"
   ]
  },
  {
   "cell_type": "code",
   "execution_count": 3,
   "metadata": {},
   "outputs": [
    {
     "name": "stderr",
     "output_type": "stream",
     "text": [
      "\u001b[32m2025-06-29 19:51:44.482\u001b[0m | \u001b[34m\u001b[1mDEBUG   \u001b[0m | \u001b[36msyft_code_queue.data_scientist_api\u001b[0m:\u001b[36mwait_for_completion\u001b[0m:\u001b[36m391\u001b[0m - \u001b[34m\u001b[1mJob Customer Insights Analysis status: pending\u001b[0m\n",
      "\u001b[32m2025-06-29 19:51:49.487\u001b[0m | \u001b[34m\u001b[1mDEBUG   \u001b[0m | \u001b[36msyft_code_queue.data_scientist_api\u001b[0m:\u001b[36mwait_for_completion\u001b[0m:\u001b[36m391\u001b[0m - \u001b[34m\u001b[1mJob Customer Insights Analysis status: pending\u001b[0m\n",
      "\u001b[32m2025-06-29 19:51:54.494\u001b[0m | \u001b[34m\u001b[1mDEBUG   \u001b[0m | \u001b[36msyft_code_queue.data_scientist_api\u001b[0m:\u001b[36mwait_for_completion\u001b[0m:\u001b[36m391\u001b[0m - \u001b[34m\u001b[1mJob Customer Insights Analysis status: pending\u001b[0m\n",
      "\u001b[32m2025-06-29 19:51:59.496\u001b[0m | \u001b[34m\u001b[1mDEBUG   \u001b[0m | \u001b[36msyft_code_queue.data_scientist_api\u001b[0m:\u001b[36mwait_for_completion\u001b[0m:\u001b[36m391\u001b[0m - \u001b[34m\u001b[1mJob Customer Insights Analysis status: pending\u001b[0m\n",
      "\u001b[32m2025-06-29 19:52:04.503\u001b[0m | \u001b[34m\u001b[1mDEBUG   \u001b[0m | \u001b[36msyft_code_queue.data_scientist_api\u001b[0m:\u001b[36mwait_for_completion\u001b[0m:\u001b[36m391\u001b[0m - \u001b[34m\u001b[1mJob Customer Insights Analysis status: approved\u001b[0m\n",
      "\u001b[32m2025-06-29 19:52:09.510\u001b[0m | \u001b[34m\u001b[1mDEBUG   \u001b[0m | \u001b[36msyft_code_queue.data_scientist_api\u001b[0m:\u001b[36mwait_for_completion\u001b[0m:\u001b[36m391\u001b[0m - \u001b[34m\u001b[1mJob Customer Insights Analysis status: approved\u001b[0m\n",
      "\u001b[32m2025-06-29 19:52:14.512\u001b[0m | \u001b[34m\u001b[1mDEBUG   \u001b[0m | \u001b[36msyft_code_queue.data_scientist_api\u001b[0m:\u001b[36mwait_for_completion\u001b[0m:\u001b[36m391\u001b[0m - \u001b[34m\u001b[1mJob Customer Insights Analysis status: approved\u001b[0m\n",
      "\u001b[32m2025-06-29 19:52:19.514\u001b[0m | \u001b[34m\u001b[1mDEBUG   \u001b[0m | \u001b[36msyft_code_queue.data_scientist_api\u001b[0m:\u001b[36mwait_for_completion\u001b[0m:\u001b[36m391\u001b[0m - \u001b[34m\u001b[1mJob Customer Insights Analysis status: approved\u001b[0m\n",
      "\u001b[32m2025-06-29 19:52:24.520\u001b[0m | \u001b[34m\u001b[1mDEBUG   \u001b[0m | \u001b[36msyft_code_queue.data_scientist_api\u001b[0m:\u001b[36mwait_for_completion\u001b[0m:\u001b[36m391\u001b[0m - \u001b[34m\u001b[1mJob Customer Insights Analysis status: approved\u001b[0m\n",
      "\u001b[32m2025-06-29 19:52:29.527\u001b[0m | \u001b[34m\u001b[1mDEBUG   \u001b[0m | \u001b[36msyft_code_queue.data_scientist_api\u001b[0m:\u001b[36mwait_for_completion\u001b[0m:\u001b[36m391\u001b[0m - \u001b[34m\u001b[1mJob Customer Insights Analysis status: approved\u001b[0m\n",
      "\u001b[32m2025-06-29 19:52:34.529\u001b[0m | \u001b[34m\u001b[1mDEBUG   \u001b[0m | \u001b[36msyft_code_queue.data_scientist_api\u001b[0m:\u001b[36mwait_for_completion\u001b[0m:\u001b[36m391\u001b[0m - \u001b[34m\u001b[1mJob Customer Insights Analysis status: approved\u001b[0m\n",
      "\u001b[32m2025-06-29 19:52:39.535\u001b[0m | \u001b[34m\u001b[1mDEBUG   \u001b[0m | \u001b[36msyft_code_queue.data_scientist_api\u001b[0m:\u001b[36mwait_for_completion\u001b[0m:\u001b[36m391\u001b[0m - \u001b[34m\u001b[1mJob Customer Insights Analysis status: approved\u001b[0m\n",
      "\u001b[32m2025-06-29 19:52:44.540\u001b[0m | \u001b[34m\u001b[1mDEBUG   \u001b[0m | \u001b[36msyft_code_queue.data_scientist_api\u001b[0m:\u001b[36mwait_for_completion\u001b[0m:\u001b[36m391\u001b[0m - \u001b[34m\u001b[1mJob Customer Insights Analysis status: approved\u001b[0m\n",
      "\u001b[32m2025-06-29 19:52:49.545\u001b[0m | \u001b[34m\u001b[1mDEBUG   \u001b[0m | \u001b[36msyft_code_queue.data_scientist_api\u001b[0m:\u001b[36mwait_for_completion\u001b[0m:\u001b[36m391\u001b[0m - \u001b[34m\u001b[1mJob Customer Insights Analysis status: approved\u001b[0m\n",
      "\u001b[32m2025-06-29 19:52:54.549\u001b[0m | \u001b[34m\u001b[1mDEBUG   \u001b[0m | \u001b[36msyft_code_queue.data_scientist_api\u001b[0m:\u001b[36mwait_for_completion\u001b[0m:\u001b[36m391\u001b[0m - \u001b[34m\u001b[1mJob Customer Insights Analysis status: approved\u001b[0m\n",
      "\u001b[32m2025-06-29 19:52:59.554\u001b[0m | \u001b[34m\u001b[1mDEBUG   \u001b[0m | \u001b[36msyft_code_queue.data_scientist_api\u001b[0m:\u001b[36mwait_for_completion\u001b[0m:\u001b[36m391\u001b[0m - \u001b[34m\u001b[1mJob Customer Insights Analysis status: approved\u001b[0m\n",
      "\u001b[32m2025-06-29 19:53:04.558\u001b[0m | \u001b[34m\u001b[1mDEBUG   \u001b[0m | \u001b[36msyft_code_queue.data_scientist_api\u001b[0m:\u001b[36mwait_for_completion\u001b[0m:\u001b[36m391\u001b[0m - \u001b[34m\u001b[1mJob Customer Insights Analysis status: approved\u001b[0m\n",
      "\u001b[32m2025-06-29 19:53:09.565\u001b[0m | \u001b[34m\u001b[1mDEBUG   \u001b[0m | \u001b[36msyft_code_queue.data_scientist_api\u001b[0m:\u001b[36mwait_for_completion\u001b[0m:\u001b[36m391\u001b[0m - \u001b[34m\u001b[1mJob Customer Insights Analysis status: approved\u001b[0m\n",
      "\u001b[32m2025-06-29 19:53:14.567\u001b[0m | \u001b[34m\u001b[1mDEBUG   \u001b[0m | \u001b[36msyft_code_queue.data_scientist_api\u001b[0m:\u001b[36mwait_for_completion\u001b[0m:\u001b[36m391\u001b[0m - \u001b[34m\u001b[1mJob Customer Insights Analysis status: approved\u001b[0m\n",
      "\u001b[32m2025-06-29 19:53:19.574\u001b[0m | \u001b[34m\u001b[1mDEBUG   \u001b[0m | \u001b[36msyft_code_queue.data_scientist_api\u001b[0m:\u001b[36mwait_for_completion\u001b[0m:\u001b[36m391\u001b[0m - \u001b[34m\u001b[1mJob Customer Insights Analysis status: approved\u001b[0m\n",
      "\u001b[32m2025-06-29 19:53:24.582\u001b[0m | \u001b[34m\u001b[1mDEBUG   \u001b[0m | \u001b[36msyft_code_queue.data_scientist_api\u001b[0m:\u001b[36mwait_for_completion\u001b[0m:\u001b[36m391\u001b[0m - \u001b[34m\u001b[1mJob Customer Insights Analysis status: approved\u001b[0m\n",
      "\u001b[32m2025-06-29 19:53:29.587\u001b[0m | \u001b[34m\u001b[1mDEBUG   \u001b[0m | \u001b[36msyft_code_queue.data_scientist_api\u001b[0m:\u001b[36mwait_for_completion\u001b[0m:\u001b[36m391\u001b[0m - \u001b[34m\u001b[1mJob Customer Insights Analysis status: approved\u001b[0m\n",
      "\u001b[32m2025-06-29 19:53:34.592\u001b[0m | \u001b[34m\u001b[1mDEBUG   \u001b[0m | \u001b[36msyft_code_queue.data_scientist_api\u001b[0m:\u001b[36mwait_for_completion\u001b[0m:\u001b[36m391\u001b[0m - \u001b[34m\u001b[1mJob Customer Insights Analysis status: approved\u001b[0m\n",
      "\u001b[32m2025-06-29 19:53:39.597\u001b[0m | \u001b[34m\u001b[1mDEBUG   \u001b[0m | \u001b[36msyft_code_queue.data_scientist_api\u001b[0m:\u001b[36mwait_for_completion\u001b[0m:\u001b[36m391\u001b[0m - \u001b[34m\u001b[1mJob Customer Insights Analysis status: approved\u001b[0m\n",
      "\u001b[32m2025-06-29 19:53:44.603\u001b[0m | \u001b[34m\u001b[1mDEBUG   \u001b[0m | \u001b[36msyft_code_queue.data_scientist_api\u001b[0m:\u001b[36mwait_for_completion\u001b[0m:\u001b[36m391\u001b[0m - \u001b[34m\u001b[1mJob Customer Insights Analysis status: approved\u001b[0m\n",
      "\u001b[32m2025-06-29 19:53:49.609\u001b[0m | \u001b[34m\u001b[1mDEBUG   \u001b[0m | \u001b[36msyft_code_queue.data_scientist_api\u001b[0m:\u001b[36mwait_for_completion\u001b[0m:\u001b[36m391\u001b[0m - \u001b[34m\u001b[1mJob Customer Insights Analysis status: approved\u001b[0m\n",
      "\u001b[32m2025-06-29 19:53:54.616\u001b[0m | \u001b[34m\u001b[1mDEBUG   \u001b[0m | \u001b[36msyft_code_queue.data_scientist_api\u001b[0m:\u001b[36mwait_for_completion\u001b[0m:\u001b[36m391\u001b[0m - \u001b[34m\u001b[1mJob Customer Insights Analysis status: approved\u001b[0m\n",
      "\u001b[32m2025-06-29 19:53:59.620\u001b[0m | \u001b[34m\u001b[1mDEBUG   \u001b[0m | \u001b[36msyft_code_queue.data_scientist_api\u001b[0m:\u001b[36mwait_for_completion\u001b[0m:\u001b[36m391\u001b[0m - \u001b[34m\u001b[1mJob Customer Insights Analysis status: approved\u001b[0m\n",
      "\u001b[32m2025-06-29 19:54:04.624\u001b[0m | \u001b[34m\u001b[1mDEBUG   \u001b[0m | \u001b[36msyft_code_queue.data_scientist_api\u001b[0m:\u001b[36mwait_for_completion\u001b[0m:\u001b[36m391\u001b[0m - \u001b[34m\u001b[1mJob Customer Insights Analysis status: approved\u001b[0m\n",
      "\u001b[32m2025-06-29 19:54:09.626\u001b[0m | \u001b[34m\u001b[1mDEBUG   \u001b[0m | \u001b[36msyft_code_queue.data_scientist_api\u001b[0m:\u001b[36mwait_for_completion\u001b[0m:\u001b[36m391\u001b[0m - \u001b[34m\u001b[1mJob Customer Insights Analysis status: approved\u001b[0m\n",
      "\u001b[32m2025-06-29 19:54:14.629\u001b[0m | \u001b[34m\u001b[1mDEBUG   \u001b[0m | \u001b[36msyft_code_queue.data_scientist_api\u001b[0m:\u001b[36mwait_for_completion\u001b[0m:\u001b[36m391\u001b[0m - \u001b[34m\u001b[1mJob Customer Insights Analysis status: approved\u001b[0m\n",
      "\u001b[32m2025-06-29 19:54:19.631\u001b[0m | \u001b[34m\u001b[1mDEBUG   \u001b[0m | \u001b[36msyft_code_queue.data_scientist_api\u001b[0m:\u001b[36mwait_for_completion\u001b[0m:\u001b[36m391\u001b[0m - \u001b[34m\u001b[1mJob Customer Insights Analysis status: approved\u001b[0m\n",
      "\u001b[32m2025-06-29 19:54:24.639\u001b[0m | \u001b[34m\u001b[1mDEBUG   \u001b[0m | \u001b[36msyft_code_queue.data_scientist_api\u001b[0m:\u001b[36mwait_for_completion\u001b[0m:\u001b[36m391\u001b[0m - \u001b[34m\u001b[1mJob Customer Insights Analysis status: approved\u001b[0m\n",
      "\u001b[32m2025-06-29 19:54:29.642\u001b[0m | \u001b[34m\u001b[1mDEBUG   \u001b[0m | \u001b[36msyft_code_queue.data_scientist_api\u001b[0m:\u001b[36mwait_for_completion\u001b[0m:\u001b[36m391\u001b[0m - \u001b[34m\u001b[1mJob Customer Insights Analysis status: approved\u001b[0m\n",
      "\u001b[32m2025-06-29 19:54:34.650\u001b[0m | \u001b[34m\u001b[1mDEBUG   \u001b[0m | \u001b[36msyft_code_queue.data_scientist_api\u001b[0m:\u001b[36mwait_for_completion\u001b[0m:\u001b[36m391\u001b[0m - \u001b[34m\u001b[1mJob Customer Insights Analysis status: approved\u001b[0m\n",
      "\u001b[32m2025-06-29 19:54:39.654\u001b[0m | \u001b[34m\u001b[1mDEBUG   \u001b[0m | \u001b[36msyft_code_queue.data_scientist_api\u001b[0m:\u001b[36mwait_for_completion\u001b[0m:\u001b[36m391\u001b[0m - \u001b[34m\u001b[1mJob Customer Insights Analysis status: approved\u001b[0m\n",
      "\u001b[32m2025-06-29 19:54:44.659\u001b[0m | \u001b[34m\u001b[1mDEBUG   \u001b[0m | \u001b[36msyft_code_queue.data_scientist_api\u001b[0m:\u001b[36mwait_for_completion\u001b[0m:\u001b[36m391\u001b[0m - \u001b[34m\u001b[1mJob Customer Insights Analysis status: approved\u001b[0m\n",
      "\u001b[32m2025-06-29 19:54:49.665\u001b[0m | \u001b[34m\u001b[1mDEBUG   \u001b[0m | \u001b[36msyft_code_queue.data_scientist_api\u001b[0m:\u001b[36mwait_for_completion\u001b[0m:\u001b[36m391\u001b[0m - \u001b[34m\u001b[1mJob Customer Insights Analysis status: approved\u001b[0m\n",
      "\u001b[32m2025-06-29 19:54:54.670\u001b[0m | \u001b[34m\u001b[1mDEBUG   \u001b[0m | \u001b[36msyft_code_queue.data_scientist_api\u001b[0m:\u001b[36mwait_for_completion\u001b[0m:\u001b[36m391\u001b[0m - \u001b[34m\u001b[1mJob Customer Insights Analysis status: approved\u001b[0m\n",
      "\u001b[32m2025-06-29 19:54:59.675\u001b[0m | \u001b[34m\u001b[1mDEBUG   \u001b[0m | \u001b[36msyft_code_queue.data_scientist_api\u001b[0m:\u001b[36mwait_for_completion\u001b[0m:\u001b[36m391\u001b[0m - \u001b[34m\u001b[1mJob Customer Insights Analysis status: approved\u001b[0m\n",
      "\u001b[32m2025-06-29 19:55:04.683\u001b[0m | \u001b[34m\u001b[1mDEBUG   \u001b[0m | \u001b[36msyft_code_queue.data_scientist_api\u001b[0m:\u001b[36mwait_for_completion\u001b[0m:\u001b[36m391\u001b[0m - \u001b[34m\u001b[1mJob Customer Insights Analysis status: approved\u001b[0m\n",
      "\u001b[32m2025-06-29 19:55:09.689\u001b[0m | \u001b[34m\u001b[1mDEBUG   \u001b[0m | \u001b[36msyft_code_queue.data_scientist_api\u001b[0m:\u001b[36mwait_for_completion\u001b[0m:\u001b[36m391\u001b[0m - \u001b[34m\u001b[1mJob Customer Insights Analysis status: approved\u001b[0m\n",
      "\u001b[32m2025-06-29 19:55:14.698\u001b[0m | \u001b[34m\u001b[1mDEBUG   \u001b[0m | \u001b[36msyft_code_queue.data_scientist_api\u001b[0m:\u001b[36mwait_for_completion\u001b[0m:\u001b[36m391\u001b[0m - \u001b[34m\u001b[1mJob Customer Insights Analysis status: approved\u001b[0m\n",
      "\u001b[32m2025-06-29 19:55:19.709\u001b[0m | \u001b[34m\u001b[1mDEBUG   \u001b[0m | \u001b[36msyft_code_queue.data_scientist_api\u001b[0m:\u001b[36mwait_for_completion\u001b[0m:\u001b[36m391\u001b[0m - \u001b[34m\u001b[1mJob Customer Insights Analysis status: approved\u001b[0m\n",
      "\u001b[32m2025-06-29 19:55:24.715\u001b[0m | \u001b[34m\u001b[1mDEBUG   \u001b[0m | \u001b[36msyft_code_queue.data_scientist_api\u001b[0m:\u001b[36mwait_for_completion\u001b[0m:\u001b[36m391\u001b[0m - \u001b[34m\u001b[1mJob Customer Insights Analysis status: approved\u001b[0m\n",
      "\u001b[32m2025-06-29 19:55:29.717\u001b[0m | \u001b[34m\u001b[1mDEBUG   \u001b[0m | \u001b[36msyft_code_queue.data_scientist_api\u001b[0m:\u001b[36mwait_for_completion\u001b[0m:\u001b[36m391\u001b[0m - \u001b[34m\u001b[1mJob Customer Insights Analysis status: approved\u001b[0m\n",
      "\u001b[32m2025-06-29 19:55:34.724\u001b[0m | \u001b[34m\u001b[1mDEBUG   \u001b[0m | \u001b[36msyft_code_queue.data_scientist_api\u001b[0m:\u001b[36mwait_for_completion\u001b[0m:\u001b[36m391\u001b[0m - \u001b[34m\u001b[1mJob Customer Insights Analysis status: approved\u001b[0m\n",
      "\u001b[32m2025-06-29 19:55:39.731\u001b[0m | \u001b[34m\u001b[1mDEBUG   \u001b[0m | \u001b[36msyft_code_queue.data_scientist_api\u001b[0m:\u001b[36mwait_for_completion\u001b[0m:\u001b[36m391\u001b[0m - \u001b[34m\u001b[1mJob Customer Insights Analysis status: approved\u001b[0m\n",
      "\u001b[32m2025-06-29 19:55:44.746\u001b[0m | \u001b[34m\u001b[1mDEBUG   \u001b[0m | \u001b[36msyft_code_queue.data_scientist_api\u001b[0m:\u001b[36mwait_for_completion\u001b[0m:\u001b[36m391\u001b[0m - \u001b[34m\u001b[1mJob Customer Insights Analysis status: approved\u001b[0m\n",
      "\u001b[32m2025-06-29 19:55:49.753\u001b[0m | \u001b[34m\u001b[1mDEBUG   \u001b[0m | \u001b[36msyft_code_queue.data_scientist_api\u001b[0m:\u001b[36mwait_for_completion\u001b[0m:\u001b[36m391\u001b[0m - \u001b[34m\u001b[1mJob Customer Insights Analysis status: approved\u001b[0m\n",
      "\u001b[32m2025-06-29 19:55:54.757\u001b[0m | \u001b[34m\u001b[1mDEBUG   \u001b[0m | \u001b[36msyft_code_queue.data_scientist_api\u001b[0m:\u001b[36mwait_for_completion\u001b[0m:\u001b[36m391\u001b[0m - \u001b[34m\u001b[1mJob Customer Insights Analysis status: approved\u001b[0m\n",
      "\u001b[32m2025-06-29 19:55:59.763\u001b[0m | \u001b[34m\u001b[1mDEBUG   \u001b[0m | \u001b[36msyft_code_queue.data_scientist_api\u001b[0m:\u001b[36mwait_for_completion\u001b[0m:\u001b[36m391\u001b[0m - \u001b[34m\u001b[1mJob Customer Insights Analysis status: approved\u001b[0m\n",
      "\u001b[32m2025-06-29 19:56:04.769\u001b[0m | \u001b[34m\u001b[1mDEBUG   \u001b[0m | \u001b[36msyft_code_queue.data_scientist_api\u001b[0m:\u001b[36mwait_for_completion\u001b[0m:\u001b[36m391\u001b[0m - \u001b[34m\u001b[1mJob Customer Insights Analysis status: approved\u001b[0m\n",
      "\u001b[32m2025-06-29 19:56:09.777\u001b[0m | \u001b[34m\u001b[1mDEBUG   \u001b[0m | \u001b[36msyft_code_queue.data_scientist_api\u001b[0m:\u001b[36mwait_for_completion\u001b[0m:\u001b[36m391\u001b[0m - \u001b[34m\u001b[1mJob Customer Insights Analysis status: approved\u001b[0m\n",
      "\u001b[32m2025-06-29 19:56:14.785\u001b[0m | \u001b[34m\u001b[1mDEBUG   \u001b[0m | \u001b[36msyft_code_queue.data_scientist_api\u001b[0m:\u001b[36mwait_for_completion\u001b[0m:\u001b[36m391\u001b[0m - \u001b[34m\u001b[1mJob Customer Insights Analysis status: approved\u001b[0m\n",
      "\u001b[32m2025-06-29 19:56:19.791\u001b[0m | \u001b[34m\u001b[1mDEBUG   \u001b[0m | \u001b[36msyft_code_queue.data_scientist_api\u001b[0m:\u001b[36mwait_for_completion\u001b[0m:\u001b[36m391\u001b[0m - \u001b[34m\u001b[1mJob Customer Insights Analysis status: approved\u001b[0m\n",
      "\u001b[32m2025-06-29 19:56:24.797\u001b[0m | \u001b[34m\u001b[1mDEBUG   \u001b[0m | \u001b[36msyft_code_queue.data_scientist_api\u001b[0m:\u001b[36mwait_for_completion\u001b[0m:\u001b[36m391\u001b[0m - \u001b[34m\u001b[1mJob Customer Insights Analysis status: approved\u001b[0m\n",
      "\u001b[32m2025-06-29 19:56:29.810\u001b[0m | \u001b[34m\u001b[1mDEBUG   \u001b[0m | \u001b[36msyft_code_queue.data_scientist_api\u001b[0m:\u001b[36mwait_for_completion\u001b[0m:\u001b[36m391\u001b[0m - \u001b[34m\u001b[1mJob Customer Insights Analysis status: approved\u001b[0m\n",
      "\u001b[32m2025-06-29 19:56:34.819\u001b[0m | \u001b[34m\u001b[1mDEBUG   \u001b[0m | \u001b[36msyft_code_queue.data_scientist_api\u001b[0m:\u001b[36mwait_for_completion\u001b[0m:\u001b[36m391\u001b[0m - \u001b[34m\u001b[1mJob Customer Insights Analysis status: approved\u001b[0m\n",
      "\u001b[32m2025-06-29 19:56:39.823\u001b[0m | \u001b[34m\u001b[1mDEBUG   \u001b[0m | \u001b[36msyft_code_queue.data_scientist_api\u001b[0m:\u001b[36mwait_for_completion\u001b[0m:\u001b[36m391\u001b[0m - \u001b[34m\u001b[1mJob Customer Insights Analysis status: approved\u001b[0m\n",
      "\u001b[32m2025-06-29 19:56:44.831\u001b[0m | \u001b[34m\u001b[1mDEBUG   \u001b[0m | \u001b[36msyft_code_queue.data_scientist_api\u001b[0m:\u001b[36mwait_for_completion\u001b[0m:\u001b[36m391\u001b[0m - \u001b[34m\u001b[1mJob Customer Insights Analysis status: approved\u001b[0m\n",
      "\u001b[32m2025-06-29 19:56:49.836\u001b[0m | \u001b[34m\u001b[1mDEBUG   \u001b[0m | \u001b[36msyft_code_queue.data_scientist_api\u001b[0m:\u001b[36mwait_for_completion\u001b[0m:\u001b[36m391\u001b[0m - \u001b[34m\u001b[1mJob Customer Insights Analysis status: approved\u001b[0m\n",
      "\u001b[32m2025-06-29 19:56:54.843\u001b[0m | \u001b[34m\u001b[1mDEBUG   \u001b[0m | \u001b[36msyft_code_queue.data_scientist_api\u001b[0m:\u001b[36mwait_for_completion\u001b[0m:\u001b[36m391\u001b[0m - \u001b[34m\u001b[1mJob Customer Insights Analysis status: approved\u001b[0m\n",
      "\u001b[32m2025-06-29 19:56:59.847\u001b[0m | \u001b[34m\u001b[1mDEBUG   \u001b[0m | \u001b[36msyft_code_queue.data_scientist_api\u001b[0m:\u001b[36mwait_for_completion\u001b[0m:\u001b[36m391\u001b[0m - \u001b[34m\u001b[1mJob Customer Insights Analysis status: approved\u001b[0m\n",
      "\u001b[32m2025-06-29 19:57:04.854\u001b[0m | \u001b[34m\u001b[1mDEBUG   \u001b[0m | \u001b[36msyft_code_queue.data_scientist_api\u001b[0m:\u001b[36mwait_for_completion\u001b[0m:\u001b[36m391\u001b[0m - \u001b[34m\u001b[1mJob Customer Insights Analysis status: approved\u001b[0m\n",
      "\u001b[32m2025-06-29 19:57:09.860\u001b[0m | \u001b[34m\u001b[1mDEBUG   \u001b[0m | \u001b[36msyft_code_queue.data_scientist_api\u001b[0m:\u001b[36mwait_for_completion\u001b[0m:\u001b[36m391\u001b[0m - \u001b[34m\u001b[1mJob Customer Insights Analysis status: approved\u001b[0m\n",
      "\u001b[32m2025-06-29 19:57:14.864\u001b[0m | \u001b[34m\u001b[1mDEBUG   \u001b[0m | \u001b[36msyft_code_queue.data_scientist_api\u001b[0m:\u001b[36mwait_for_completion\u001b[0m:\u001b[36m391\u001b[0m - \u001b[34m\u001b[1mJob Customer Insights Analysis status: approved\u001b[0m\n",
      "\u001b[32m2025-06-29 19:57:19.868\u001b[0m | \u001b[34m\u001b[1mDEBUG   \u001b[0m | \u001b[36msyft_code_queue.data_scientist_api\u001b[0m:\u001b[36mwait_for_completion\u001b[0m:\u001b[36m391\u001b[0m - \u001b[34m\u001b[1mJob Customer Insights Analysis status: approved\u001b[0m\n",
      "\u001b[32m2025-06-29 19:57:24.875\u001b[0m | \u001b[34m\u001b[1mDEBUG   \u001b[0m | \u001b[36msyft_code_queue.data_scientist_api\u001b[0m:\u001b[36mwait_for_completion\u001b[0m:\u001b[36m391\u001b[0m - \u001b[34m\u001b[1mJob Customer Insights Analysis status: approved\u001b[0m\n",
      "\u001b[32m2025-06-29 19:57:29.878\u001b[0m | \u001b[34m\u001b[1mDEBUG   \u001b[0m | \u001b[36msyft_code_queue.data_scientist_api\u001b[0m:\u001b[36mwait_for_completion\u001b[0m:\u001b[36m391\u001b[0m - \u001b[34m\u001b[1mJob Customer Insights Analysis status: approved\u001b[0m\n",
      "\u001b[32m2025-06-29 19:57:34.882\u001b[0m | \u001b[34m\u001b[1mDEBUG   \u001b[0m | \u001b[36msyft_code_queue.data_scientist_api\u001b[0m:\u001b[36mwait_for_completion\u001b[0m:\u001b[36m391\u001b[0m - \u001b[34m\u001b[1mJob Customer Insights Analysis status: approved\u001b[0m\n",
      "\u001b[32m2025-06-29 19:57:39.887\u001b[0m | \u001b[34m\u001b[1mDEBUG   \u001b[0m | \u001b[36msyft_code_queue.data_scientist_api\u001b[0m:\u001b[36mwait_for_completion\u001b[0m:\u001b[36m391\u001b[0m - \u001b[34m\u001b[1mJob Customer Insights Analysis status: approved\u001b[0m\n",
      "\u001b[32m2025-06-29 19:57:44.893\u001b[0m | \u001b[34m\u001b[1mDEBUG   \u001b[0m | \u001b[36msyft_code_queue.data_scientist_api\u001b[0m:\u001b[36mwait_for_completion\u001b[0m:\u001b[36m391\u001b[0m - \u001b[34m\u001b[1mJob Customer Insights Analysis status: approved\u001b[0m\n",
      "\u001b[32m2025-06-29 19:57:49.896\u001b[0m | \u001b[34m\u001b[1mDEBUG   \u001b[0m | \u001b[36msyft_code_queue.data_scientist_api\u001b[0m:\u001b[36mwait_for_completion\u001b[0m:\u001b[36m391\u001b[0m - \u001b[34m\u001b[1mJob Customer Insights Analysis status: approved\u001b[0m\n",
      "\u001b[32m2025-06-29 19:57:54.902\u001b[0m | \u001b[34m\u001b[1mDEBUG   \u001b[0m | \u001b[36msyft_code_queue.data_scientist_api\u001b[0m:\u001b[36mwait_for_completion\u001b[0m:\u001b[36m391\u001b[0m - \u001b[34m\u001b[1mJob Customer Insights Analysis status: approved\u001b[0m\n",
      "\u001b[32m2025-06-29 19:57:59.909\u001b[0m | \u001b[34m\u001b[1mDEBUG   \u001b[0m | \u001b[36msyft_code_queue.data_scientist_api\u001b[0m:\u001b[36mwait_for_completion\u001b[0m:\u001b[36m391\u001b[0m - \u001b[34m\u001b[1mJob Customer Insights Analysis status: approved\u001b[0m\n",
      "\u001b[32m2025-06-29 19:58:04.913\u001b[0m | \u001b[34m\u001b[1mDEBUG   \u001b[0m | \u001b[36msyft_code_queue.data_scientist_api\u001b[0m:\u001b[36mwait_for_completion\u001b[0m:\u001b[36m391\u001b[0m - \u001b[34m\u001b[1mJob Customer Insights Analysis status: approved\u001b[0m\n",
      "\u001b[32m2025-06-29 19:58:09.916\u001b[0m | \u001b[34m\u001b[1mDEBUG   \u001b[0m | \u001b[36msyft_code_queue.data_scientist_api\u001b[0m:\u001b[36mwait_for_completion\u001b[0m:\u001b[36m391\u001b[0m - \u001b[34m\u001b[1mJob Customer Insights Analysis status: approved\u001b[0m\n",
      "\u001b[32m2025-06-29 19:58:14.921\u001b[0m | \u001b[34m\u001b[1mDEBUG   \u001b[0m | \u001b[36msyft_code_queue.data_scientist_api\u001b[0m:\u001b[36mwait_for_completion\u001b[0m:\u001b[36m391\u001b[0m - \u001b[34m\u001b[1mJob Customer Insights Analysis status: approved\u001b[0m\n",
      "\u001b[32m2025-06-29 19:58:19.927\u001b[0m | \u001b[34m\u001b[1mDEBUG   \u001b[0m | \u001b[36msyft_code_queue.data_scientist_api\u001b[0m:\u001b[36mwait_for_completion\u001b[0m:\u001b[36m391\u001b[0m - \u001b[34m\u001b[1mJob Customer Insights Analysis status: approved\u001b[0m\n",
      "\u001b[32m2025-06-29 19:58:24.932\u001b[0m | \u001b[34m\u001b[1mDEBUG   \u001b[0m | \u001b[36msyft_code_queue.data_scientist_api\u001b[0m:\u001b[36mwait_for_completion\u001b[0m:\u001b[36m391\u001b[0m - \u001b[34m\u001b[1mJob Customer Insights Analysis status: approved\u001b[0m\n",
      "\u001b[32m2025-06-29 19:58:29.939\u001b[0m | \u001b[34m\u001b[1mDEBUG   \u001b[0m | \u001b[36msyft_code_queue.data_scientist_api\u001b[0m:\u001b[36mwait_for_completion\u001b[0m:\u001b[36m391\u001b[0m - \u001b[34m\u001b[1mJob Customer Insights Analysis status: approved\u001b[0m\n",
      "\u001b[32m2025-06-29 19:58:34.946\u001b[0m | \u001b[34m\u001b[1mDEBUG   \u001b[0m | \u001b[36msyft_code_queue.data_scientist_api\u001b[0m:\u001b[36mwait_for_completion\u001b[0m:\u001b[36m391\u001b[0m - \u001b[34m\u001b[1mJob Customer Insights Analysis status: approved\u001b[0m\n",
      "\u001b[32m2025-06-29 19:58:39.952\u001b[0m | \u001b[34m\u001b[1mDEBUG   \u001b[0m | \u001b[36msyft_code_queue.data_scientist_api\u001b[0m:\u001b[36mwait_for_completion\u001b[0m:\u001b[36m391\u001b[0m - \u001b[34m\u001b[1mJob Customer Insights Analysis status: approved\u001b[0m\n",
      "\u001b[32m2025-06-29 19:58:44.954\u001b[0m | \u001b[34m\u001b[1mDEBUG   \u001b[0m | \u001b[36msyft_code_queue.data_scientist_api\u001b[0m:\u001b[36mwait_for_completion\u001b[0m:\u001b[36m391\u001b[0m - \u001b[34m\u001b[1mJob Customer Insights Analysis status: approved\u001b[0m\n",
      "\u001b[32m2025-06-29 19:58:49.958\u001b[0m | \u001b[34m\u001b[1mDEBUG   \u001b[0m | \u001b[36msyft_code_queue.data_scientist_api\u001b[0m:\u001b[36mwait_for_completion\u001b[0m:\u001b[36m391\u001b[0m - \u001b[34m\u001b[1mJob Customer Insights Analysis status: approved\u001b[0m\n",
      "\u001b[32m2025-06-29 19:58:54.967\u001b[0m | \u001b[34m\u001b[1mDEBUG   \u001b[0m | \u001b[36msyft_code_queue.data_scientist_api\u001b[0m:\u001b[36mwait_for_completion\u001b[0m:\u001b[36m391\u001b[0m - \u001b[34m\u001b[1mJob Customer Insights Analysis status: approved\u001b[0m\n",
      "\u001b[32m2025-06-29 19:58:59.971\u001b[0m | \u001b[34m\u001b[1mDEBUG   \u001b[0m | \u001b[36msyft_code_queue.data_scientist_api\u001b[0m:\u001b[36mwait_for_completion\u001b[0m:\u001b[36m391\u001b[0m - \u001b[34m\u001b[1mJob Customer Insights Analysis status: approved\u001b[0m\n",
      "\u001b[32m2025-06-29 19:59:04.976\u001b[0m | \u001b[34m\u001b[1mDEBUG   \u001b[0m | \u001b[36msyft_code_queue.data_scientist_api\u001b[0m:\u001b[36mwait_for_completion\u001b[0m:\u001b[36m391\u001b[0m - \u001b[34m\u001b[1mJob Customer Insights Analysis status: approved\u001b[0m\n",
      "\u001b[32m2025-06-29 19:59:09.981\u001b[0m | \u001b[34m\u001b[1mDEBUG   \u001b[0m | \u001b[36msyft_code_queue.data_scientist_api\u001b[0m:\u001b[36mwait_for_completion\u001b[0m:\u001b[36m391\u001b[0m - \u001b[34m\u001b[1mJob Customer Insights Analysis status: approved\u001b[0m\n",
      "\u001b[32m2025-06-29 19:59:14.987\u001b[0m | \u001b[34m\u001b[1mDEBUG   \u001b[0m | \u001b[36msyft_code_queue.data_scientist_api\u001b[0m:\u001b[36mwait_for_completion\u001b[0m:\u001b[36m391\u001b[0m - \u001b[34m\u001b[1mJob Customer Insights Analysis status: approved\u001b[0m\n",
      "\u001b[32m2025-06-29 19:59:19.995\u001b[0m | \u001b[34m\u001b[1mDEBUG   \u001b[0m | \u001b[36msyft_code_queue.data_scientist_api\u001b[0m:\u001b[36mwait_for_completion\u001b[0m:\u001b[36m391\u001b[0m - \u001b[34m\u001b[1mJob Customer Insights Analysis status: approved\u001b[0m\n",
      "\u001b[32m2025-06-29 19:59:25.003\u001b[0m | \u001b[34m\u001b[1mDEBUG   \u001b[0m | \u001b[36msyft_code_queue.data_scientist_api\u001b[0m:\u001b[36mwait_for_completion\u001b[0m:\u001b[36m391\u001b[0m - \u001b[34m\u001b[1mJob Customer Insights Analysis status: approved\u001b[0m\n",
      "\u001b[32m2025-06-29 19:59:30.009\u001b[0m | \u001b[34m\u001b[1mDEBUG   \u001b[0m | \u001b[36msyft_code_queue.data_scientist_api\u001b[0m:\u001b[36mwait_for_completion\u001b[0m:\u001b[36m391\u001b[0m - \u001b[34m\u001b[1mJob Customer Insights Analysis status: approved\u001b[0m\n",
      "\u001b[32m2025-06-29 19:59:35.016\u001b[0m | \u001b[34m\u001b[1mDEBUG   \u001b[0m | \u001b[36msyft_code_queue.data_scientist_api\u001b[0m:\u001b[36mwait_for_completion\u001b[0m:\u001b[36m391\u001b[0m - \u001b[34m\u001b[1mJob Customer Insights Analysis status: approved\u001b[0m\n",
      "\u001b[32m2025-06-29 19:59:40.019\u001b[0m | \u001b[34m\u001b[1mDEBUG   \u001b[0m | \u001b[36msyft_code_queue.data_scientist_api\u001b[0m:\u001b[36mwait_for_completion\u001b[0m:\u001b[36m391\u001b[0m - \u001b[34m\u001b[1mJob Customer Insights Analysis status: approved\u001b[0m\n",
      "\u001b[32m2025-06-29 19:59:45.026\u001b[0m | \u001b[34m\u001b[1mDEBUG   \u001b[0m | \u001b[36msyft_code_queue.data_scientist_api\u001b[0m:\u001b[36mwait_for_completion\u001b[0m:\u001b[36m391\u001b[0m - \u001b[34m\u001b[1mJob Customer Insights Analysis status: approved\u001b[0m\n",
      "\u001b[32m2025-06-29 19:59:50.033\u001b[0m | \u001b[34m\u001b[1mDEBUG   \u001b[0m | \u001b[36msyft_code_queue.data_scientist_api\u001b[0m:\u001b[36mwait_for_completion\u001b[0m:\u001b[36m391\u001b[0m - \u001b[34m\u001b[1mJob Customer Insights Analysis status: approved\u001b[0m\n",
      "\u001b[32m2025-06-29 19:59:55.037\u001b[0m | \u001b[34m\u001b[1mDEBUG   \u001b[0m | \u001b[36msyft_code_queue.data_scientist_api\u001b[0m:\u001b[36mwait_for_completion\u001b[0m:\u001b[36m391\u001b[0m - \u001b[34m\u001b[1mJob Customer Insights Analysis status: approved\u001b[0m\n",
      "\u001b[32m2025-06-29 20:00:00.041\u001b[0m | \u001b[34m\u001b[1mDEBUG   \u001b[0m | \u001b[36msyft_code_queue.data_scientist_api\u001b[0m:\u001b[36mwait_for_completion\u001b[0m:\u001b[36m391\u001b[0m - \u001b[34m\u001b[1mJob Customer Insights Analysis status: approved\u001b[0m\n",
      "\u001b[32m2025-06-29 20:00:05.045\u001b[0m | \u001b[34m\u001b[1mDEBUG   \u001b[0m | \u001b[36msyft_code_queue.data_scientist_api\u001b[0m:\u001b[36mwait_for_completion\u001b[0m:\u001b[36m391\u001b[0m - \u001b[34m\u001b[1mJob Customer Insights Analysis status: approved\u001b[0m\n",
      "\u001b[32m2025-06-29 20:00:10.052\u001b[0m | \u001b[34m\u001b[1mDEBUG   \u001b[0m | \u001b[36msyft_code_queue.data_scientist_api\u001b[0m:\u001b[36mwait_for_completion\u001b[0m:\u001b[36m391\u001b[0m - \u001b[34m\u001b[1mJob Customer Insights Analysis status: approved\u001b[0m\n",
      "\u001b[32m2025-06-29 20:00:15.057\u001b[0m | \u001b[34m\u001b[1mDEBUG   \u001b[0m | \u001b[36msyft_code_queue.data_scientist_api\u001b[0m:\u001b[36mwait_for_completion\u001b[0m:\u001b[36m391\u001b[0m - \u001b[34m\u001b[1mJob Customer Insights Analysis status: approved\u001b[0m\n",
      "\u001b[32m2025-06-29 20:00:20.063\u001b[0m | \u001b[34m\u001b[1mDEBUG   \u001b[0m | \u001b[36msyft_code_queue.data_scientist_api\u001b[0m:\u001b[36mwait_for_completion\u001b[0m:\u001b[36m391\u001b[0m - \u001b[34m\u001b[1mJob Customer Insights Analysis status: approved\u001b[0m\n",
      "\u001b[32m2025-06-29 20:00:25.069\u001b[0m | \u001b[34m\u001b[1mDEBUG   \u001b[0m | \u001b[36msyft_code_queue.data_scientist_api\u001b[0m:\u001b[36mwait_for_completion\u001b[0m:\u001b[36m391\u001b[0m - \u001b[34m\u001b[1mJob Customer Insights Analysis status: approved\u001b[0m\n",
      "\u001b[32m2025-06-29 20:00:30.079\u001b[0m | \u001b[34m\u001b[1mDEBUG   \u001b[0m | \u001b[36msyft_code_queue.data_scientist_api\u001b[0m:\u001b[36mwait_for_completion\u001b[0m:\u001b[36m391\u001b[0m - \u001b[34m\u001b[1mJob Customer Insights Analysis status: approved\u001b[0m\n",
      "\u001b[32m2025-06-29 20:00:35.086\u001b[0m | \u001b[34m\u001b[1mDEBUG   \u001b[0m | \u001b[36msyft_code_queue.data_scientist_api\u001b[0m:\u001b[36mwait_for_completion\u001b[0m:\u001b[36m391\u001b[0m - \u001b[34m\u001b[1mJob Customer Insights Analysis status: approved\u001b[0m\n",
      "\u001b[32m2025-06-29 20:00:40.092\u001b[0m | \u001b[34m\u001b[1mDEBUG   \u001b[0m | \u001b[36msyft_code_queue.data_scientist_api\u001b[0m:\u001b[36mwait_for_completion\u001b[0m:\u001b[36m391\u001b[0m - \u001b[34m\u001b[1mJob Customer Insights Analysis status: approved\u001b[0m\n",
      "\u001b[32m2025-06-29 20:00:45.096\u001b[0m | \u001b[34m\u001b[1mDEBUG   \u001b[0m | \u001b[36msyft_code_queue.data_scientist_api\u001b[0m:\u001b[36mwait_for_completion\u001b[0m:\u001b[36m391\u001b[0m - \u001b[34m\u001b[1mJob Customer Insights Analysis status: approved\u001b[0m\n",
      "\u001b[32m2025-06-29 20:00:50.113\u001b[0m | \u001b[34m\u001b[1mDEBUG   \u001b[0m | \u001b[36msyft_code_queue.data_scientist_api\u001b[0m:\u001b[36mwait_for_completion\u001b[0m:\u001b[36m391\u001b[0m - \u001b[34m\u001b[1mJob Customer Insights Analysis status: approved\u001b[0m\n",
      "\u001b[32m2025-06-29 20:00:55.121\u001b[0m | \u001b[34m\u001b[1mDEBUG   \u001b[0m | \u001b[36msyft_code_queue.data_scientist_api\u001b[0m:\u001b[36mwait_for_completion\u001b[0m:\u001b[36m391\u001b[0m - \u001b[34m\u001b[1mJob Customer Insights Analysis status: approved\u001b[0m\n",
      "\u001b[32m2025-06-29 20:01:00.128\u001b[0m | \u001b[34m\u001b[1mDEBUG   \u001b[0m | \u001b[36msyft_code_queue.data_scientist_api\u001b[0m:\u001b[36mwait_for_completion\u001b[0m:\u001b[36m391\u001b[0m - \u001b[34m\u001b[1mJob Customer Insights Analysis status: approved\u001b[0m\n",
      "\u001b[32m2025-06-29 20:01:05.136\u001b[0m | \u001b[34m\u001b[1mDEBUG   \u001b[0m | \u001b[36msyft_code_queue.data_scientist_api\u001b[0m:\u001b[36mwait_for_completion\u001b[0m:\u001b[36m391\u001b[0m - \u001b[34m\u001b[1mJob Customer Insights Analysis status: approved\u001b[0m\n",
      "\u001b[32m2025-06-29 20:01:10.142\u001b[0m | \u001b[34m\u001b[1mDEBUG   \u001b[0m | \u001b[36msyft_code_queue.data_scientist_api\u001b[0m:\u001b[36mwait_for_completion\u001b[0m:\u001b[36m391\u001b[0m - \u001b[34m\u001b[1mJob Customer Insights Analysis status: approved\u001b[0m\n",
      "\u001b[32m2025-06-29 20:01:15.148\u001b[0m | \u001b[34m\u001b[1mDEBUG   \u001b[0m | \u001b[36msyft_code_queue.data_scientist_api\u001b[0m:\u001b[36mwait_for_completion\u001b[0m:\u001b[36m391\u001b[0m - \u001b[34m\u001b[1mJob Customer Insights Analysis status: approved\u001b[0m\n",
      "\u001b[32m2025-06-29 20:01:20.154\u001b[0m | \u001b[34m\u001b[1mDEBUG   \u001b[0m | \u001b[36msyft_code_queue.data_scientist_api\u001b[0m:\u001b[36mwait_for_completion\u001b[0m:\u001b[36m391\u001b[0m - \u001b[34m\u001b[1mJob Customer Insights Analysis status: approved\u001b[0m\n",
      "\u001b[32m2025-06-29 20:01:25.161\u001b[0m | \u001b[34m\u001b[1mDEBUG   \u001b[0m | \u001b[36msyft_code_queue.data_scientist_api\u001b[0m:\u001b[36mwait_for_completion\u001b[0m:\u001b[36m391\u001b[0m - \u001b[34m\u001b[1mJob Customer Insights Analysis status: approved\u001b[0m\n",
      "\u001b[32m2025-06-29 20:01:30.167\u001b[0m | \u001b[34m\u001b[1mDEBUG   \u001b[0m | \u001b[36msyft_code_queue.data_scientist_api\u001b[0m:\u001b[36mwait_for_completion\u001b[0m:\u001b[36m391\u001b[0m - \u001b[34m\u001b[1mJob Customer Insights Analysis status: approved\u001b[0m\n",
      "\u001b[32m2025-06-29 20:01:35.171\u001b[0m | \u001b[34m\u001b[1mDEBUG   \u001b[0m | \u001b[36msyft_code_queue.data_scientist_api\u001b[0m:\u001b[36mwait_for_completion\u001b[0m:\u001b[36m391\u001b[0m - \u001b[34m\u001b[1mJob Customer Insights Analysis status: approved\u001b[0m\n",
      "\u001b[32m2025-06-29 20:01:40.175\u001b[0m | \u001b[34m\u001b[1mDEBUG   \u001b[0m | \u001b[36msyft_code_queue.data_scientist_api\u001b[0m:\u001b[36mwait_for_completion\u001b[0m:\u001b[36m391\u001b[0m - \u001b[34m\u001b[1mJob Customer Insights Analysis status: approved\u001b[0m\n"
     ]
    },
    {
     "ename": "TimeoutError",
     "evalue": "Job 64628bf6-47d9-4005-a568-50044fd326ca did not complete within 600 seconds",
     "output_type": "error",
     "traceback": [
      "\u001b[31m---------------------------------------------------------------------------\u001b[39m",
      "\u001b[31mTimeoutError\u001b[39m                              Traceback (most recent call last)",
      "\u001b[36mCell\u001b[39m\u001b[36m \u001b[39m\u001b[32mIn[3]\u001b[39m\u001b[32m, line 1\u001b[39m\n\u001b[32m----> \u001b[39m\u001b[32m1\u001b[39m \u001b[43mjob\u001b[49m\u001b[43m.\u001b[49m\u001b[43mwait_for_completion\u001b[49m\u001b[43m(\u001b[49m\u001b[43m)\u001b[49m\n",
      "\u001b[36mFile \u001b[39m\u001b[32m~/Desktop/organic-coop-enclave/syft-code-queue/src/syft_code_queue/models.py:176\u001b[39m, in \u001b[36mCodeJob.wait_for_completion\u001b[39m\u001b[34m(self, timeout)\u001b[39m\n\u001b[32m    174\u001b[39m \u001b[38;5;28;01mif\u001b[39;00m \u001b[38;5;28mself\u001b[39m._ds_api \u001b[38;5;129;01mis\u001b[39;00m \u001b[38;5;28;01mNone\u001b[39;00m:\n\u001b[32m    175\u001b[39m     \u001b[38;5;28;01mraise\u001b[39;00m \u001b[38;5;167;01mRuntimeError\u001b[39;00m(\u001b[33m\"\u001b[39m\u001b[33mJob not connected to DataScientist API - cannot wait\u001b[39m\u001b[33m\"\u001b[39m)\n\u001b[32m--> \u001b[39m\u001b[32m176\u001b[39m \u001b[38;5;28;01mreturn\u001b[39;00m \u001b[38;5;28;43mself\u001b[39;49m\u001b[43m.\u001b[49m\u001b[43m_ds_api\u001b[49m\u001b[43m.\u001b[49m\u001b[43mwait_for_completion\u001b[49m\u001b[43m(\u001b[49m\u001b[38;5;28;43mself\u001b[39;49m\u001b[43m.\u001b[49m\u001b[43muid\u001b[49m\u001b[43m,\u001b[49m\u001b[43m \u001b[49m\u001b[43mtimeout\u001b[49m\u001b[43m)\u001b[49m\n",
      "\u001b[36mFile \u001b[39m\u001b[32m~/Desktop/organic-coop-enclave/syft-code-queue/src/syft_code_queue/data_scientist_api.py:394\u001b[39m, in \u001b[36mDataScientistAPI.wait_for_completion\u001b[39m\u001b[34m(self, job_uid, timeout, poll_interval)\u001b[39m\n\u001b[32m    391\u001b[39m     logger.debug(\u001b[33mf\u001b[39m\u001b[33m\"\u001b[39m\u001b[33mJob \u001b[39m\u001b[38;5;132;01m{\u001b[39;00mjob.name\u001b[38;5;132;01m}\u001b[39;00m\u001b[33m status: \u001b[39m\u001b[38;5;132;01m{\u001b[39;00mjob.status.value\u001b[38;5;132;01m}\u001b[39;00m\u001b[33m\"\u001b[39m)\n\u001b[32m    392\u001b[39m     time.sleep(poll_interval)\n\u001b[32m--> \u001b[39m\u001b[32m394\u001b[39m \u001b[38;5;28;01mraise\u001b[39;00m \u001b[38;5;167;01mTimeoutError\u001b[39;00m(\u001b[33mf\u001b[39m\u001b[33m\"\u001b[39m\u001b[33mJob \u001b[39m\u001b[38;5;132;01m{\u001b[39;00mjob_uid\u001b[38;5;132;01m}\u001b[39;00m\u001b[33m did not complete within \u001b[39m\u001b[38;5;132;01m{\u001b[39;00mtimeout\u001b[38;5;132;01m}\u001b[39;00m\u001b[33m seconds\u001b[39m\u001b[33m\"\u001b[39m)\n",
      "\u001b[31mTimeoutError\u001b[39m: Job 64628bf6-47d9-4005-a568-50044fd326ca did not complete within 600 seconds"
     ]
    }
   ],
   "source": [
    "job.wait_for_completion()"
   ]
  },
  {
   "cell_type": "code",
   "execution_count": 29,
   "metadata": {},
   "outputs": [
    {
     "name": "stdout",
     "output_type": "stream",
     "text": [
      "Job: Customer Insights Analysis (91e3b9fc-9bbd-4285-a8ba-273a70c10215)\n",
      "Requester: andrew@openmined.org\n",
      "Started: 2025-06-29 15:53:15.043900\n",
      "Duration: 0.02s\n",
      "Exit Code: 0\n",
      "--------------------------------------------------\n",
      "STDOUT:\n",
      "Hello world\n",
      "\n",
      "--------------------------------------------------\n",
      "STDERR:\n",
      "\n"
     ]
    }
   ],
   "source": [
    "print(job.get_logs())"
   ]
  },
  {
   "cell_type": "code",
   "execution_count": null,
   "metadata": {},
   "outputs": [],
   "source": []
  }
 ],
 "metadata": {
  "kernelspec": {
   "display_name": "Python 3 (ipykernel)",
   "language": "python",
   "name": "python3"
  },
  "language_info": {
   "codemirror_mode": {
    "name": "ipython",
    "version": 3
   },
   "file_extension": ".py",
   "mimetype": "text/x-python",
   "name": "python",
   "nbconvert_exporter": "python",
   "pygments_lexer": "ipython3",
   "version": "3.12.9"
  }
 },
 "nbformat": 4,
 "nbformat_minor": 4
}
