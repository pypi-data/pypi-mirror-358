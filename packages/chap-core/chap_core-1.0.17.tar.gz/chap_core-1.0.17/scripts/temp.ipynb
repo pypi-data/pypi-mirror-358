{
 "cells": [
  {
   "cell_type": "code",
   "execution_count": 1,
   "metadata": {},
   "outputs": [
    {
     "ename": "ModuleNotFoundError",
     "evalue": "No module named 'climate_health.datatypes'; 'climate_health' is not a package",
     "output_type": "error",
     "traceback": [
      "\u001B[1;31m---------------------------------------------------------------------------\u001B[0m",
      "\u001B[1;31mModuleNotFoundError\u001B[0m                       Traceback (most recent call last)",
      "Cell \u001B[1;32mIn[1], line 3\u001B[0m\n\u001B[0;32m      1\u001B[0m \u001B[38;5;28;01mimport\u001B[39;00m \u001B[38;5;21;01mpandas\u001B[39;00m \u001B[38;5;28;01mas\u001B[39;00m \u001B[38;5;21;01mpd\u001B[39;00m\n\u001B[0;32m      2\u001B[0m \u001B[38;5;28;01mfrom\u001B[39;00m \u001B[38;5;21;01mcollections\u001B[39;00m \u001B[38;5;28;01mimport\u001B[39;00m defaultdict\n\u001B[1;32m----> 3\u001B[0m \u001B[38;5;28;01mfrom\u001B[39;00m \u001B[38;5;21;01mclimate_health\u001B[39;00m\u001B[38;5;21;01m.\u001B[39;00m\u001B[38;5;21;01mdatatypes\u001B[39;00m \u001B[38;5;28;01mimport\u001B[39;00m ClimateHealthTimeSeries\n",
      "\u001B[1;31mModuleNotFoundError\u001B[0m: No module named 'climate_health.datatypes'; 'climate_health' is not a package"
     ]
    }
   ],
   "source": [
    "import pandas as pd\n",
    "from collections import defaultdict\n",
    "from datatypes import ClimateHealthTimeSeries"
   ]
  },
  {
   "cell_type": "code",
   "execution_count": null,
   "metadata": {},
   "outputs": [],
   "source": []
  },
  {
   "cell_type": "code",
   "execution_count": 29,
   "metadata": {},
   "outputs": [],
   "source": [
    "def lagged_rows(data, lag_rows, lag=1):\n",
    "    new_data = data.iloc[lag:]\n",
    "    for lag_row in lag_rows:\n",
    "        for i in range(lag):\n",
    "            lagged_col = data.iloc[lag-i-1:-1-i, lag_row].values\n",
    "            new_data.insert(len(new_data.columns), f\"{data.columns[lag_row]}_lag_{i+1}\", lagged_col)\n",
    "    return new_data"
   ]
  },
  {
   "cell_type": "code",
   "execution_count": 30,
   "metadata": {},
   "outputs": [],
   "source": [
    "def split_to_train_test_truth_fixed_ahead_lag(data, split_fraction):\n",
    "    hardcoded_test_col = 3\n",
    "    n = data.shape[0]\n",
    "    train_idx = n * split_fraction % 1\n",
    "    X = data.drop(data.columns[hardcoded_test_col], axis = 1) \n",
    "    Y = data.iloc[:, hardcoded_test_col]\n",
    "\n",
    "    X_train = X.iloc[:train_idx]\n",
    "    X_test = X.iloc[train_idx:]\n",
    "    Y_train = Y.iloc[:train_idx]\n",
    "    Y_test = Y.iloc[train_idx:]\n",
    "\n",
    "    return X_train, Y_train, X_test, Y_test"
   ]
  },
  {
   "cell_type": "code",
   "execution_count": 31,
   "metadata": {},
   "outputs": [],
   "source": [
    "class PlaceholderModel:\n",
    "\n",
    "    def __init__(self):\n",
    "        return\n",
    "\n",
    "    def fit(self, X_train, Y_train):\n",
    "        return self\n",
    "    \n",
    "    def predict(self, single_X_test):\n",
    "        return 0"
   ]
  },
  {
   "cell_type": "code",
   "execution_count": 26,
   "metadata": {},
   "outputs": [],
   "source": [
    "class AssessmentReport:\n",
    "    def __init__(self, text):\n",
    "        self.text = text\n",
    "        return"
   ]
  },
  {
   "cell_type": "code",
   "execution_count": 27,
   "metadata": {},
   "outputs": [],
   "source": [
    "def make_assessment_report(prediction_dict, truth_dict) -> AssessmentReport:\n",
    "    return AssessmentReport(\"Good job!\")"
   ]
  },
  {
   "cell_type": "code",
   "execution_count": 5,
   "metadata": {},
   "outputs": [],
   "source": [
    "nice_data = pd.read_csv(\"../../example_data/data.csv\")"
   ]
  },
  {
   "cell_type": "code",
   "execution_count": 3,
   "metadata": {},
   "outputs": [],
   "source": [
    "lags = [1, 5, 10]\n",
    "models = [ch.Regressor(...), ch.Guesser(...)]"
   ]
  },
  {
   "cell_type": "code",
   "execution_count": null,
   "metadata": {},
   "outputs": [],
   "source": [
    "def main_with_outer_lagged(fn: str, split_fraction: float, model: ChPredictionMethodWithSpecificFeatureConfig) -> AssessmentReport:\n",
    "    data = ClimateHealthTimeSeries.from_csv(fn)  # real data or simulated data\n",
    "    data = data.topandas()\n",
    "    \n",
    "    prediction_dict = defaultdict(dict)\n",
    "    truth_dict = {}\n",
    "    for lag_ahead in range(1, 10):\n",
    "        rowbased_data = lagged_rows(data, lag_rows=[3], lag=lag_ahead)\n",
    "        X_train, Y_train, X_test, Y_test = split_to_train_test_truth_fixed_ahead_lag(rowbased_data, now_timepoint, lag_ahead)\n",
    "        model.fit(X_train, Y_train)\n",
    "        for test_time_offset, (single_X_test, single_Y_test) in enumerate(zip(X_test, Y_test)):\n",
    "            prediction_dict[lag_ahead][test_time_offset] = model.predict(single_X_test)\n",
    "            truth_dict[lag_ahead][test_time_offset] = single_Y_test   \n",
    "    report = make_assessment_report(prediction_dict, truth_dict)\n",
    "    return report"
   ]
  },
  {
   "cell_type": "code",
   "execution_count": null,
   "metadata": {},
   "outputs": [],
   "source": [
    "main_with_outer_lagged()"
   ]
  },
  {
   "cell_type": "code",
   "execution_count": null,
   "metadata": {},
   "outputs": [],
   "source": [
    "import climate_health as ch\n",
    "import pandas as pd\n",
    "\n",
    "#nice_data = ch.simulate(corr = 0.6, length = 3000)\n",
    "nice_data = pd.read_csv(\"nice_data.csv\")\n",
    "\n",
    "lags = [1, 5, 10]\n",
    "models = [ch.Regressor(...), ch.Guesser(...)]\n",
    "\n",
    "scores = MVP(nice_data, lags, models, time_point)\n",
    "\n",
    "# MSE    - lag - mdl\n",
    "# 0.3252 -  1  - Regressor\n",
    "# 0.4552 -  5  - Regressor\n",
    "# 0.7252 - 10  - Regressor\n",
    "# 0.8252 -  1  - Guesser\n",
    "# 0.9252 -  5  - Guesser\n",
    "# 0.8652 - 10  - Guesser"
   ]
  },
  {
   "cell_type": "code",
   "execution_count": null,
   "metadata": {},
   "outputs": [],
   "source": [
    "def MVP(nice_data, lags, models, time_point):\n",
    "    for lag in lags:\n",
    "        lagged_data = ch.lag(nice_data, lag)\n",
    "        train, test = ch.split(lagged_data, time_point)\n",
    "        for model in models:\n",
    "            my_mdl = model.train(train)\n",
    "            score = my_mdl.test(test)\n",
    "            print(score, lag, model)"
   ]
  },
  {
   "cell_type": "code",
   "execution_count": 89,
   "metadata": {},
   "outputs": [],
   "source": [
    "import pandas as pd\n",
    "import matplotlib.pyplot as plt"
   ]
  },
  {
   "cell_type": "code",
   "execution_count": 166,
   "metadata": {},
   "outputs": [],
   "source": [
    "data = pd.read_csv(\"../../example_data/data.csv\")"
   ]
  },
  {
   "cell_type": "code",
   "execution_count": 9,
   "metadata": {},
   "outputs": [],
   "source": [
    "new_data = lagged_rows(nice_data, lag_rows = [3], lag=2)"
   ]
  },
  {
   "cell_type": "code",
   "execution_count": 10,
   "metadata": {},
   "outputs": [
    {
     "data": {
      "text/html": [
       "<div>\n",
       "<style scoped>\n",
       "    .dataframe tbody tr th:only-of-type {\n",
       "        vertical-align: middle;\n",
       "    }\n",
       "\n",
       "    .dataframe tbody tr th {\n",
       "        vertical-align: top;\n",
       "    }\n",
       "\n",
       "    .dataframe thead th {\n",
       "        text-align: right;\n",
       "    }\n",
       "</style>\n",
       "<table border=\"1\" class=\"dataframe\">\n",
       "  <thead>\n",
       "    <tr style=\"text-align: right;\">\n",
       "      <th></th>\n",
       "      <th>Time</th>\n",
       "      <th>Rain</th>\n",
       "      <th>Temperature</th>\n",
       "      <th>Disease</th>\n",
       "      <th>Disease_lag_1</th>\n",
       "      <th>Disease_lag_2</th>\n",
       "    </tr>\n",
       "  </thead>\n",
       "  <tbody>\n",
       "    <tr>\n",
       "      <th>2</th>\n",
       "      <td>2003-01-15</td>\n",
       "      <td>0.000000</td>\n",
       "      <td>17.664000</td>\n",
       "      <td>84.880000</td>\n",
       "      <td>83.200000</td>\n",
       "      <td>88.000000</td>\n",
       "    </tr>\n",
       "    <tr>\n",
       "      <th>3</th>\n",
       "      <td>2003-01-22</td>\n",
       "      <td>0.000000</td>\n",
       "      <td>17.397600</td>\n",
       "      <td>87.892000</td>\n",
       "      <td>84.880000</td>\n",
       "      <td>83.200000</td>\n",
       "    </tr>\n",
       "    <tr>\n",
       "      <th>4</th>\n",
       "      <td>2003-01-29</td>\n",
       "      <td>0.000000</td>\n",
       "      <td>17.157840</td>\n",
       "      <td>92.102800</td>\n",
       "      <td>87.892000</td>\n",
       "      <td>84.880000</td>\n",
       "    </tr>\n",
       "    <tr>\n",
       "      <th>5</th>\n",
       "      <td>2003-02-05</td>\n",
       "      <td>0.000000</td>\n",
       "      <td>16.223874</td>\n",
       "      <td>100.983429</td>\n",
       "      <td>92.102800</td>\n",
       "      <td>87.892000</td>\n",
       "    </tr>\n",
       "    <tr>\n",
       "      <th>6</th>\n",
       "      <td>2003-02-12</td>\n",
       "      <td>0.000000</td>\n",
       "      <td>16.283305</td>\n",
       "      <td>109.566904</td>\n",
       "      <td>100.983429</td>\n",
       "      <td>92.102800</td>\n",
       "    </tr>\n",
       "    <tr>\n",
       "      <th>...</th>\n",
       "      <td>...</td>\n",
       "      <td>...</td>\n",
       "      <td>...</td>\n",
       "      <td>...</td>\n",
       "      <td>...</td>\n",
       "      <td>...</td>\n",
       "    </tr>\n",
       "    <tr>\n",
       "      <th>1091</th>\n",
       "      <td>2023-11-29</td>\n",
       "      <td>15.636364</td>\n",
       "      <td>20.708580</td>\n",
       "      <td>692.818869</td>\n",
       "      <td>703.234498</td>\n",
       "      <td>710.811459</td>\n",
       "    </tr>\n",
       "    <tr>\n",
       "      <th>1092</th>\n",
       "      <td>2023-12-06</td>\n",
       "      <td>15.636364</td>\n",
       "      <td>21.037722</td>\n",
       "      <td>680.757530</td>\n",
       "      <td>692.818869</td>\n",
       "      <td>703.234498</td>\n",
       "    </tr>\n",
       "    <tr>\n",
       "      <th>1093</th>\n",
       "      <td>2023-12-13</td>\n",
       "      <td>0.000000</td>\n",
       "      <td>20.433950</td>\n",
       "      <td>668.587780</td>\n",
       "      <td>680.757530</td>\n",
       "      <td>692.818869</td>\n",
       "    </tr>\n",
       "    <tr>\n",
       "      <th>1094</th>\n",
       "      <td>2023-12-20</td>\n",
       "      <td>0.000000</td>\n",
       "      <td>18.990555</td>\n",
       "      <td>663.635005</td>\n",
       "      <td>668.587780</td>\n",
       "      <td>680.757530</td>\n",
       "    </tr>\n",
       "    <tr>\n",
       "      <th>1095</th>\n",
       "      <td>2023-12-27</td>\n",
       "      <td>0.000000</td>\n",
       "      <td>19.491500</td>\n",
       "      <td>656.177507</td>\n",
       "      <td>663.635005</td>\n",
       "      <td>668.587780</td>\n",
       "    </tr>\n",
       "  </tbody>\n",
       "</table>\n",
       "<p>1094 rows × 6 columns</p>\n",
       "</div>"
      ],
      "text/plain": [
       "            Time       Rain  Temperature     Disease  Disease_lag_1  \\\n",
       "2     2003-01-15   0.000000    17.664000   84.880000      83.200000   \n",
       "3     2003-01-22   0.000000    17.397600   87.892000      84.880000   \n",
       "4     2003-01-29   0.000000    17.157840   92.102800      87.892000   \n",
       "5     2003-02-05   0.000000    16.223874  100.983429      92.102800   \n",
       "6     2003-02-12   0.000000    16.283305  109.566904     100.983429   \n",
       "...          ...        ...          ...         ...            ...   \n",
       "1091  2023-11-29  15.636364    20.708580  692.818869     703.234498   \n",
       "1092  2023-12-06  15.636364    21.037722  680.757530     692.818869   \n",
       "1093  2023-12-13   0.000000    20.433950  668.587780     680.757530   \n",
       "1094  2023-12-20   0.000000    18.990555  663.635005     668.587780   \n",
       "1095  2023-12-27   0.000000    19.491500  656.177507     663.635005   \n",
       "\n",
       "      Disease_lag_2  \n",
       "2         88.000000  \n",
       "3         83.200000  \n",
       "4         84.880000  \n",
       "5         87.892000  \n",
       "6         92.102800  \n",
       "...             ...  \n",
       "1091     710.811459  \n",
       "1092     703.234498  \n",
       "1093     692.818869  \n",
       "1094     680.757530  \n",
       "1095     668.587780  \n",
       "\n",
       "[1094 rows x 6 columns]"
      ]
     },
     "execution_count": 10,
     "metadata": {},
     "output_type": "execute_result"
    }
   ],
   "source": [
    "new_data"
   ]
  },
  {
   "cell_type": "code",
   "execution_count": null,
   "metadata": {},
   "outputs": [],
   "source": []
  }
 ],
 "metadata": {
  "kernelspec": {
   "display_name": "myEnv",
   "language": "python",
   "name": "python3"
  },
  "language_info": {
   "codemirror_mode": {
    "name": "ipython",
    "version": 3
   },
   "file_extension": ".py",
   "mimetype": "text/x-python",
   "name": "python",
   "nbconvert_exporter": "python",
   "pygments_lexer": "ipython3",
   "version": "3.8.18"
  }
 },
 "nbformat": 4,
 "nbformat_minor": 2
}
