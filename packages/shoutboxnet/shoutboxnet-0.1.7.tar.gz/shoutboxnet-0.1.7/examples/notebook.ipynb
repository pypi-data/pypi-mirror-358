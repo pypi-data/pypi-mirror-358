{
  "nbformat": 4,
  "nbformat_minor": 0,
  "metadata": {
    "colab": {
      "provenance": []
    },
    "kernelspec": {
      "name": "python3",
      "display_name": "Python 3"
    },
    "language_info": {
      "name": "python"
    }
  },
  "cells": [
    {
      "cell_type": "code",
      "execution_count": null,
      "metadata": {
        "colab": {
          "base_uri": "https://localhost:8080/"
        },
        "id": "jXdvdSePFtXg",
        "outputId": "b767f9e9-e6ab-43ae-b1cd-ec13fbd726f4"
      },
      "outputs": [
        {
          "output_type": "stream",
          "name": "stdout",
          "text": [
            "Requirement already satisfied: shoutboxnet in /usr/local/lib/python3.11/dist-packages (0.1.6)\n",
            "Requirement already satisfied: requests>=2.25.0 in /usr/local/lib/python3.11/dist-packages (from shoutboxnet) (2.32.3)\n",
            "Requirement already satisfied: charset-normalizer<4,>=2 in /usr/local/lib/python3.11/dist-packages (from requests>=2.25.0->shoutboxnet) (3.4.2)\n",
            "Requirement already satisfied: idna<4,>=2.5 in /usr/local/lib/python3.11/dist-packages (from requests>=2.25.0->shoutboxnet) (3.10)\n",
            "Requirement already satisfied: urllib3<3,>=1.21.1 in /usr/local/lib/python3.11/dist-packages (from requests>=2.25.0->shoutboxnet) (2.4.0)\n",
            "Requirement already satisfied: certifi>=2017.4.17 in /usr/local/lib/python3.11/dist-packages (from requests>=2.25.0->shoutboxnet) (2025.4.26)\n"
          ]
        }
      ],
      "source": [
        "!pip install shoutboxnet"
      ]
    },
    {
      "cell_type": "code",
      "source": [
        "api_key = 'your-api-key-here'"
      ],
      "metadata": {
        "id": "dgoofIenF-Ck"
      },
      "execution_count": null,
      "outputs": []
    },
    {
      "cell_type": "code",
      "source": [
        "from shoutbox import ShoutboxClient, Email, EmailAddress, Attachment\n",
        "client = ShoutboxClient(api_key)\n",
        "\n"
      ],
      "metadata": {
        "id": "BCrMytsiGErQ"
      },
      "execution_count": null,
      "outputs": []
    },
    {
      "cell_type": "code",
      "source": [
        "# Basic email\n",
        "email = Email(\n",
        "    from_email=\"sender@example.com\",\n",
        "    to=\"recipient@example.com\",\n",
        "    subject=\"Test Email\",\n",
        "    html=\"<h1>Hello!</h1><p>This is a test email.</p>\",\n",
        "    reply_to=\"reply@example.com\"\n",
        ")\n",
        "\n",
        "print(client.send(email))"
      ],
      "metadata": {
        "colab": {
          "base_uri": "https://localhost:8080/"
        },
        "id": "aDu2vk_bGIKn",
        "outputId": "a0d5d7a2-8b19-4ca6-a915-fb670e25e259"
      },
      "execution_count": null,
      "outputs": [
        {
          "output_type": "stream",
          "name": "stdout",
          "text": [
            "{'data': {'email_id': '4ac2b390-70d6-4fb8-9cb5-b642c225a78e', 'job_id': 'email-4ac2b390-70d6-4fb8-9cb5-b642c225a78e', 'public_id': '26226e91-58f4-4d0d-9fea-adca02435184'}, 'status': 202, 'title': 'Email Queued Successfully', 'type': 'https://docs.shoutbox.dev/api/responses/success'}\n"
          ]
        }
      ]
    },
    {
      "cell_type": "code",
      "source": [
        "# Email with attachments\n",
        "email_with_attachments = Email(\n",
        "    from_email=\"sender@example.com\",\n",
        "    to=\"recipient@example.com\",\n",
        "    subject=\"Test Email with Attachments\",\n",
        "    html=\"<h1>Hello!</h1><p>This email includes attachments.</p>\",\n",
        "    attachments=[\n",
        "        # Just provide the filepath - content and type are handled automatically\n",
        "        Attachment(filepath=\"./sample_data/anscombe.json\")\n",
        "    ]\n",
        ")\n",
        "\n",
        "print(client.send(email_with_attachments))"
      ],
      "metadata": {
        "colab": {
          "base_uri": "https://localhost:8080/"
        },
        "id": "pqOJaQOzGPoA",
        "outputId": "45ed8d4b-2e56-4570-d54e-26b5953d28aa"
      },
      "execution_count": null,
      "outputs": [
        {
          "output_type": "stream",
          "name": "stdout",
          "text": [
            "{'data': {'email_id': '9abdef41-74d1-4ad6-b45a-62d9f7938bb3', 'job_id': 'email-9abdef41-74d1-4ad6-b45a-62d9f7938bb3', 'public_id': 'd1ebe795-47b2-45a9-885f-843ccff35761'}, 'status': 202, 'title': 'Email Queued Successfully', 'type': 'https://docs.shoutbox.dev/api/responses/success'}\n"
          ]
        }
      ]
    },
    {
      "cell_type": "code",
      "source": [],
      "metadata": {
        "id": "QTY8r9uYGzd8"
      },
      "execution_count": null,
      "outputs": []
    }
  ]
}