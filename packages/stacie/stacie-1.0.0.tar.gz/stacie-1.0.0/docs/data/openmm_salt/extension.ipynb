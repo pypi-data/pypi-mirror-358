{
 "cells": [
  {
   "cell_type": "markdown",
   "metadata": {},
   "source": [
    "# Production simulation of a Molten NaCl Salt with OpenMM\n",
    "\n",
    "The settings are practically identical to `initial.ipynb`, the only differences are:\n",
    "\n",
    "- Restart from the last snapshot of an NVE production run.\n",
    "- There is no NpT or NVT re-equilibration, just continuation of the NVE run with more steps."
   ]
  },
  {
   "cell_type": "markdown",
   "metadata": {},
   "source": [
    "## Setup"
   ]
  },
  {
   "cell_type": "code",
   "execution_count": null,
   "metadata": {},
   "outputs": [],
   "source": [
    "import mdtraj\n",
    "import nglview\n",
    "from bhmtf import add_nacl_forces, load_nacl\n",
    "from openmm import unit\n",
    "from stepup.core.api import amend\n",
    "from utils import make_plots, runmd"
   ]
  },
  {
   "cell_type": "code",
   "execution_count": null,
   "metadata": {
    "tags": [
     "parameters"
    ]
   },
   "outputs": [],
   "source": [
    "# All parameters in this cell can be changed through papermill:\n",
    "# - https://papermill.readthedocs.io/\n",
    "# - https://reproducible-reporting.github.io/stepup-reprep/stable/reference/stepup.reprep.api/#stepup.reprep.api.execute_papermill\n",
    "\n",
    "seed = 42\n",
    "part = 1\n",
    "nstep_nve = 8000\n",
    "\n",
    "# Time-related settings\n",
    "timestep = 5 * unit.femtosecond\n",
    "stride = 10"
   ]
  },
  {
   "cell_type": "code",
   "execution_count": null,
   "metadata": {},
   "outputs": [],
   "source": [
    "# Inform StepUp of the output files it should expect, and which files are used as inputs.\n",
    "prefix = f\"sim{seed:04d}_part{part:02d}\"\n",
    "print(\"Random seed:\", seed)\n",
    "print(\"Prefix:\", prefix)\n",
    "print(\"Number of steps:\", nstep_nve)\n",
    "amend(\n",
    "    inp=[\n",
    "        \"bhmtf.py\",\n",
    "        \"utils.py\",\n",
    "        f\"output/sim{seed:04d}_part00_first.pdb\",\n",
    "        f\"output/sim{seed:04d}_part{part - 1:02d}_nve_last.chk\",\n",
    "    ],\n",
    "    out=[\n",
    "        f\"output/{prefix}_nve_traj.csv\",\n",
    "        f\"output/{prefix}_nve_traj.dcd\",\n",
    "        f\"output/{prefix}_nve_last.pdb\",\n",
    "        f\"output/{prefix}_nve_last.chk\",\n",
    "    ],\n",
    ")"
   ]
  },
  {
   "cell_type": "markdown",
   "metadata": {},
   "source": [
    "## Continuation in the NVE ensemble"
   ]
  },
  {
   "cell_type": "code",
   "execution_count": null,
   "metadata": {},
   "outputs": [],
   "source": [
    "# Load the final structure of the exploration run.\n",
    "system, topology, atnums, atcoords_init = load_nacl(f\"output/sim{seed:04d}_part00_first.pdb\")\n",
    "add_nacl_forces(system, topology, do_charge=True, cutoff=1.5 * unit.nanometer)"
   ]
  },
  {
   "cell_type": "code",
   "execution_count": null,
   "metadata": {},
   "outputs": [],
   "source": [
    "runmd(\n",
    "    f\"{prefix}_nve\",\n",
    "    system,\n",
    "    topology,\n",
    "    nstep=nstep_nve,\n",
    "    timestep=timestep,\n",
    "    stride=stride,\n",
    "    load_checkpoint_from=f\"output/sim{seed:04d}_part{part - 1:02d}_nve_last.chk\",\n",
    ")"
   ]
  },
  {
   "cell_type": "code",
   "execution_count": null,
   "metadata": {},
   "outputs": [],
   "source": [
    "traj = mdtraj.load(f\"output/{prefix}_nve_traj.dcd\", top=f\"output/sim{seed:04d}_part00_first.pdb\")\n",
    "view = nglview.show_mdtraj(traj)\n",
    "view.add_unitcell()\n",
    "view"
   ]
  },
  {
   "cell_type": "code",
   "execution_count": null,
   "metadata": {},
   "outputs": [],
   "source": [
    "make_plots(f\"{prefix}_nve\")"
   ]
  }
 ],
 "metadata": {
  "kernelspec": {
   "display_name": "venv",
   "language": "python",
   "name": "python3"
  },
  "language_info": {
   "codemirror_mode": {
    "name": "ipython",
    "version": 3
   },
   "file_extension": ".py",
   "mimetype": "text/x-python",
   "name": "python",
   "nbconvert_exporter": "python",
   "pygments_lexer": "ipython3"
  }
 },
 "nbformat": 4,
 "nbformat_minor": 2
}
