{
 "cells": [
  {
   "cell_type": "markdown",
   "id": "fb9b76ac-2dbc-4392-8854-d8f016a3a3c2",
   "metadata": {},
   "source": [
    "# Exploration simulation of a Molten NaCl Salt with OpenMM\n",
    "\n",
    "This notebook performs an NpT equilibration followed by an NVE production run.\n",
    "The NVE simulation is intended for a first analysis of a system,\n",
    "to get a basic idea of the time scales of this system,\n",
    "which will be used to verify or fine-tune the simulation time and block size for the production run.\n",
    "\n",
    "The Born-Huggins-Mayer-Tosi-Fumi force field for NaCl is implemented in `bhmtf.py`.\n",
    "The MD implementation and some related utility functions can be found in `utils.py`.\n",
    "This notebook merely ties these two together and performs some basic sanity checks on the results.\n",
    "\n",
    "You can use this notebook as such, but it is also designed to be used as a step in a StepUp workflow\n",
    "that performs all the MD simulations for a reasonably accurate computation of the conductivity of NaCl.\n",
    "If set, the environment variable `REREP_NBARGS` is used to set the seed for the random part00ization of the thermostat and the velocities."
   ]
  },
  {
   "cell_type": "markdown",
   "id": "d894cc08",
   "metadata": {},
   "source": [
    "## Setup"
   ]
  },
  {
   "cell_type": "code",
   "execution_count": null,
   "id": "5f785c8f-a7c9-4dc0-8c24-0ac100b21afe",
   "metadata": {},
   "outputs": [],
   "source": [
    "import mdtraj\n",
    "import nglview\n",
    "from bhmtf import add_nacl_forces, build_nacl_lattice\n",
    "from openmm import unit\n",
    "from openmm.app import PDBFile\n",
    "from openmm.version import version as openmm_version\n",
    "from stepup.core.api import amend\n",
    "from utils import make_plots, runmd\n",
    "\n",
    "print(\"OpenMM version:\", openmm_version)"
   ]
  },
  {
   "cell_type": "code",
   "execution_count": null,
   "id": "d75e3f41",
   "metadata": {
    "tags": [
     "parameters"
    ]
   },
   "outputs": [],
   "source": [
    "# All parameters in this cell can be changed through papermill:\n",
    "# - https://papermill.readthedocs.io/\n",
    "# - https://reproducible-reporting.github.io/stepup-reprep/stable/reference/stepup.reprep.api/#stepup.reprep.api.execute_papermill\n",
    "\n",
    "# Simulation parameters\n",
    "seed = 42\n",
    "\n",
    "# Physical parameters\n",
    "temperature = 1100 * unit.kelvin\n",
    "pressure = 1 * unit.bar\n",
    "\n",
    "# The experimental density from https://doi.org/10.1021/jp5050332 is only used for initialization.\n",
    "# Higher initial densities will let the system crystallize.\n",
    "density = 1.4444 * unit.gram / unit.centimeter**3\n",
    "\n",
    "# Time-related settings\n",
    "timestep = 5 * unit.femtosecond\n",
    "stride = 10\n",
    "nstep_nvt = 4000\n",
    "nstep_npt = 30000\n",
    "nstep_nve = 8000\n",
    "tau_thermostat = 1 * unit.picosecond"
   ]
  },
  {
   "cell_type": "code",
   "execution_count": null,
   "id": "515f945f",
   "metadata": {},
   "outputs": [],
   "source": [
    "# Inform StepUp of the output files it should expect, and which files are used as inputs.\n",
    "prefix = f\"sim{seed:04d}_part00\"\n",
    "print(\"Prefix:\", prefix)\n",
    "amend(\n",
    "    inp=[\n",
    "        \"bhmtf.py\",\n",
    "        \"utils.py\",\n",
    "    ],\n",
    "    out=[\n",
    "        f\"output/{prefix}_first.pdb\",\n",
    "        f\"output/{prefix}_nvt_traj.csv\",\n",
    "        f\"output/{prefix}_nvt_traj.dcd\",\n",
    "        f\"output/{prefix}_nvt_last.pdb\",\n",
    "        f\"output/{prefix}_nvt_last.chk\",\n",
    "        f\"output/{prefix}_npt_traj.csv\",\n",
    "        f\"output/{prefix}_npt_traj.dcd\",\n",
    "        f\"output/{prefix}_npt_last.pdb\",\n",
    "        f\"output/{prefix}_npt_last.chk\",\n",
    "        f\"output/{prefix}_nve_traj.csv\",\n",
    "        f\"output/{prefix}_nve_traj.dcd\",\n",
    "        f\"output/{prefix}_nve_last.pdb\",\n",
    "        f\"output/{prefix}_nve_last.chk\",\n",
    "    ],\n",
    ")"
   ]
  },
  {
   "cell_type": "markdown",
   "id": "8cc9d2d4",
   "metadata": {},
   "source": [
    "## Initial state"
   ]
  },
  {
   "cell_type": "code",
   "execution_count": null,
   "id": "311d5285",
   "metadata": {},
   "outputs": [],
   "source": [
    "# Build initial state (1728 = (6*2)**3 ions)\n",
    "# Same settings as in Wang 2020 (https://doi.org/10.1063/5.0023225)\n",
    "system, topology, atnums, atcoords_init = build_nacl_lattice(6, density)\n",
    "add_nacl_forces(system, topology, do_charge=True, cutoff=1.5 * unit.nanometer)\n",
    "\n",
    "with open(f\"output/{prefix}_first.pdb\", \"w\") as f:\n",
    "    PDBFile.writeFile(topology, atcoords_init, f)\n",
    "# Visualize the initial geometry.\n",
    "view = nglview.show_mdtraj(mdtraj.load(f\"output/{prefix}_first.pdb\"))\n",
    "view.add_unitcell()\n",
    "view"
   ]
  },
  {
   "cell_type": "markdown",
   "id": "d4e0e319",
   "metadata": {},
   "source": [
    "## First Equilibration in the NVT ensemble"
   ]
  },
  {
   "cell_type": "code",
   "execution_count": null,
   "id": "6956f0cd",
   "metadata": {},
   "outputs": [],
   "source": [
    "runmd(\n",
    "    f\"{prefix}_nvt\",\n",
    "    system,\n",
    "    topology,\n",
    "    nstep=nstep_nvt,\n",
    "    timestep=timestep,\n",
    "    stride=stride,\n",
    "    atcoords=atcoords_init,\n",
    "    temperature=temperature,\n",
    "    seed=seed,\n",
    ")"
   ]
  },
  {
   "cell_type": "code",
   "execution_count": null,
   "id": "fd052e08-851b-4556-82ab-2807a54a4072",
   "metadata": {},
   "outputs": [],
   "source": [
    "traj = mdtraj.load(f\"output/{prefix}_nvt_traj.dcd\", top=f\"output/{prefix}_first.pdb\")\n",
    "view = nglview.show_mdtraj(traj)\n",
    "view.add_unitcell()\n",
    "view"
   ]
  },
  {
   "cell_type": "code",
   "execution_count": null,
   "id": "7ef0a038",
   "metadata": {},
   "outputs": [],
   "source": [
    "make_plots(f\"{prefix}_nvt\")"
   ]
  },
  {
   "cell_type": "markdown",
   "id": "4d4a56a4",
   "metadata": {},
   "source": [
    "## Second Equilibration in the NpT ensemble"
   ]
  },
  {
   "cell_type": "code",
   "execution_count": null,
   "id": "e1b2587e",
   "metadata": {},
   "outputs": [],
   "source": [
    "runmd(\n",
    "    f\"{prefix}_npt\",\n",
    "    system,\n",
    "    topology,\n",
    "    nstep=nstep_npt,\n",
    "    timestep=timestep,\n",
    "    stride=stride,\n",
    "    load_checkpoint_from=f\"output/{prefix}_nvt_last.chk\",\n",
    "    temperature=temperature,\n",
    "    pressure=pressure,\n",
    "    seed=seed + 12345,\n",
    ")"
   ]
  },
  {
   "cell_type": "code",
   "execution_count": null,
   "id": "226024f0",
   "metadata": {},
   "outputs": [],
   "source": [
    "traj = mdtraj.load(f\"output/{prefix}_npt_traj.dcd\", top=f\"output/{prefix}_first.pdb\")\n",
    "view = nglview.show_mdtraj(traj)\n",
    "view.add_unitcell()\n",
    "view"
   ]
  },
  {
   "cell_type": "code",
   "execution_count": null,
   "id": "2b188b53",
   "metadata": {},
   "outputs": [],
   "source": [
    "make_plots(f\"{prefix}_npt\")"
   ]
  },
  {
   "cell_type": "markdown",
   "id": "f85a7c99",
   "metadata": {},
   "source": [
    "## Initial Production in the NVE ensemble"
   ]
  },
  {
   "cell_type": "code",
   "execution_count": null,
   "id": "b855311b",
   "metadata": {},
   "outputs": [],
   "source": [
    "runmd(\n",
    "    f\"{prefix}_nve\",\n",
    "    system,\n",
    "    topology,\n",
    "    nstep=nstep_nve,\n",
    "    timestep=timestep,\n",
    "    stride=stride,\n",
    "    load_checkpoint_from=f\"output/{prefix}_npt_last.chk\",\n",
    "    reset_stepcounter=True,\n",
    ")"
   ]
  },
  {
   "cell_type": "code",
   "execution_count": null,
   "id": "94a29d2f",
   "metadata": {},
   "outputs": [],
   "source": [
    "traj = mdtraj.load(f\"output/{prefix}_nve_traj.dcd\", top=f\"output/{prefix}_first.pdb\")\n",
    "view = nglview.show_mdtraj(traj)\n",
    "view.add_unitcell()\n",
    "view"
   ]
  },
  {
   "cell_type": "code",
   "execution_count": null,
   "id": "df6899a9",
   "metadata": {},
   "outputs": [],
   "source": [
    "make_plots(f\"{prefix}_nve\")"
   ]
  }
 ],
 "metadata": {
  "kernelspec": {
   "display_name": "venv",
   "language": "python",
   "name": "python3"
  },
  "language_info": {
   "codemirror_mode": {
    "name": "ipython",
    "version": 3
   },
   "file_extension": ".py",
   "mimetype": "text/x-python",
   "name": "python",
   "nbconvert_exporter": "python",
   "pygments_lexer": "ipython3"
  }
 },
 "nbformat": 4,
 "nbformat_minor": 5
}
