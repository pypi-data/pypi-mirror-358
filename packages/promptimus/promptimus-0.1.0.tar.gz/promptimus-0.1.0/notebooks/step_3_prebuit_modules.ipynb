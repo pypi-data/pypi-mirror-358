{
 "cells": [
  {
   "cell_type": "code",
   "execution_count": 1,
   "id": "76681f47-6727-4def-af0f-d71705b53970",
   "metadata": {},
   "outputs": [],
   "source": [
    "%load_ext rich"
   ]
  },
  {
   "cell_type": "markdown",
   "id": "2771c65c-09a7-4e71-aa24-151c7cfde2a4",
   "metadata": {},
   "source": [
    "# Pre-built modules"
   ]
  },
  {
   "cell_type": "code",
   "execution_count": 2,
   "id": "60cf0f14-9cf4-4fd6-a123-8e8ecd809876",
   "metadata": {},
   "outputs": [],
   "source": [
    "import promptimus as pm"
   ]
  },
  {
   "cell_type": "code",
   "execution_count": 3,
   "id": "e7f54c43-478c-4795-a764-8c378b7b6e47",
   "metadata": {},
   "outputs": [],
   "source": [
    "ollama = pm.llms.OpenAILike(\n",
    "    model_name=\"gemma3:4b\", base_url=\"http://lilan:11434/v1\", api_key=\"DUMMY\"\n",
    ")"
   ]
  },
  {
   "cell_type": "markdown",
   "id": "5397b4b3-e6f1-4d9c-a841-62b29695814e",
   "metadata": {},
   "source": [
    "## Memory Module"
   ]
  },
  {
   "cell_type": "code",
   "execution_count": 4,
   "id": "ebc24c68-2596-4bed-8c52-8952ae91e59b",
   "metadata": {},
   "outputs": [],
   "source": [
    "assistant = pm.modules.MemoryModule(\n",
    "    memory_size=3, system_prompt=\"You are an assistant.\"\n",
    ").with_llm(ollama)"
   ]
  },
  {
   "cell_type": "code",
   "execution_count": 5,
   "id": "1844c713-99fc-46f5-973f-a2a8173c9792",
   "metadata": {},
   "outputs": [
    {
     "data": {
      "text/html": [
       "<pre style=\"white-space:pre;overflow-x:auto;line-height:normal;font-family:Menlo,'DejaVu Sans Mono',consolas,'Courier New',monospace\"></pre>\n"
      ],
      "text/plain": []
     },
     "metadata": {},
     "output_type": "display_data"
    },
    {
     "data": {
      "text/plain": [
       "\n",
       "\u001b[1;35mMessage\u001b[0m\u001b[1m(\u001b[0m\n",
       "    \u001b[33mrole\u001b[0m=\u001b[1m<\u001b[0m\u001b[1;95mMessageRole.ASSISTANT:\u001b[0m\u001b[39m \u001b[0m\u001b[32m'assistant'\u001b[0m\u001b[1m>\u001b[0m,\n",
       "    \u001b[33mcontent\u001b[0m=\u001b[32m'Hi Ailadin! It’s lovely to meet you. What’s on your mind today? 😊 \\n\\nDo you want to chat about something specific, or were you just saying hello?'\u001b[0m,\n",
       "    \u001b[33mtool_calls\u001b[0m=\u001b[3;35mNone\u001b[0m,\n",
       "    \u001b[33mtool_call_id\u001b[0m=\u001b[3;35mNone\u001b[0m\n",
       "\u001b[1m)\u001b[0m"
      ]
     },
     "execution_count": 5,
     "metadata": {},
     "output_type": "execute_result"
    }
   ],
   "source": [
    "await assistant.forward(\"Hi my name is Ailadin!\")"
   ]
  },
  {
   "cell_type": "code",
   "execution_count": 6,
   "id": "cb27a715-483b-40ec-9ced-8c0e04bd60f5",
   "metadata": {},
   "outputs": [
    {
     "data": {
      "text/html": [
       "<pre style=\"white-space:pre;overflow-x:auto;line-height:normal;font-family:Menlo,'DejaVu Sans Mono',consolas,'Courier New',monospace\"></pre>\n"
      ],
      "text/plain": []
     },
     "metadata": {},
     "output_type": "display_data"
    },
    {
     "data": {
      "text/plain": [
       "\n",
       "\u001b[1;35mMessage\u001b[0m\u001b[1m(\u001b[0m\n",
       "    \u001b[33mrole\u001b[0m=\u001b[1m<\u001b[0m\u001b[1;95mMessageRole.ASSISTANT:\u001b[0m\u001b[39m \u001b[0m\u001b[32m'assistant'\u001b[0m\u001b[1m>\u001b[0m,\n",
       "    \u001b[33mcontent\u001b[0m=\u001b[32m\"Your\u001b[0m\u001b[32m name is Ailadin! 😊 I just confirmed it with you. \\n\\nIt's nice to chat with you. \\n\\nIs there anything you’d like to talk about?\"\u001b[0m,\n",
       "    \u001b[33mtool_calls\u001b[0m=\u001b[3;35mNone\u001b[0m,\n",
       "    \u001b[33mtool_call_id\u001b[0m=\u001b[3;35mNone\u001b[0m\n",
       "\u001b[1m)\u001b[0m"
      ]
     },
     "execution_count": 6,
     "metadata": {},
     "output_type": "execute_result"
    }
   ],
   "source": [
    "# remembering name from context\n",
    "await assistant.forward(\"What is my name?\")"
   ]
  },
  {
   "cell_type": "code",
   "execution_count": 7,
   "id": "6b5125ad-7c0f-46aa-9904-05f186c342c0",
   "metadata": {},
   "outputs": [
    {
     "data": {
      "text/html": [
       "<pre style=\"white-space:pre;overflow-x:auto;line-height:normal;font-family:Menlo,'DejaVu Sans Mono',consolas,'Courier New',monospace\"></pre>\n"
      ],
      "text/plain": []
     },
     "metadata": {},
     "output_type": "display_data"
    },
    {
     "data": {
      "text/plain": [
       "\n",
       "\u001b[1;35mMessage\u001b[0m\u001b[1m(\u001b[0m\n",
       "    \u001b[33mrole\u001b[0m=\u001b[1m<\u001b[0m\u001b[1;95mMessageRole.ASSISTANT:\u001b[0m\u001b[39m \u001b[0m\u001b[32m'assistant'\u001b[0m\u001b[1m>\u001b[0m,\n",
       "    \u001b[33mcontent\u001b[0m=\u001b[32m'That’s a great question! I don’t really *have* a name in the way a person does. I’m a large language model, and I was developed by Google. You can just think of me as an assistant. 😊 \\n\\nWhat can I help you with today?'\u001b[0m,\n",
       "    \u001b[33mtool_calls\u001b[0m=\u001b[3;35mNone\u001b[0m,\n",
       "    \u001b[33mtool_call_id\u001b[0m=\u001b[3;35mNone\u001b[0m\n",
       "\u001b[1m)\u001b[0m"
      ]
     },
     "execution_count": 7,
     "metadata": {},
     "output_type": "execute_result"
    }
   ],
   "source": [
    "await assistant.forward(\"What is your name?\")"
   ]
  },
  {
   "cell_type": "code",
   "execution_count": 8,
   "id": "ea04a2aa-a909-4bbf-8378-9a04d4c953ec",
   "metadata": {},
   "outputs": [
    {
     "data": {
      "text/html": [
       "<pre style=\"white-space:pre;overflow-x:auto;line-height:normal;font-family:Menlo,'DejaVu Sans Mono',consolas,'Courier New',monospace\"></pre>\n"
      ],
      "text/plain": []
     },
     "metadata": {},
     "output_type": "display_data"
    },
    {
     "data": {
      "text/plain": [
       "\n",
       "\u001b[1;35mMessage\u001b[0m\u001b[1m(\u001b[0m\n",
       "    \u001b[33mrole\u001b[0m=\u001b[1m<\u001b[0m\u001b[1;95mMessageRole.ASSISTANT:\u001b[0m\u001b[39m \u001b[0m\u001b[32m'assistant'\u001b[0m\u001b[1m>\u001b[0m,\n",
       "    \u001b[33mcontent\u001b[0m=\u001b[32m'Okay, to tell you the weather, I need to know your location! 😊 \\n\\nCould you tell me:\\n\\n*   **What city and state \u001b[0m\u001b[32m(\u001b[0m\u001b[32mor country\u001b[0m\u001b[32m)\u001b[0m\u001b[32m are you in?** \\n\\nOnce you give me that information, I can look up the weather for you.'\u001b[0m,\n",
       "    \u001b[33mtool_calls\u001b[0m=\u001b[3;35mNone\u001b[0m,\n",
       "    \u001b[33mtool_call_id\u001b[0m=\u001b[3;35mNone\u001b[0m\n",
       "\u001b[1m)\u001b[0m"
      ]
     },
     "execution_count": 8,
     "metadata": {},
     "output_type": "execute_result"
    }
   ],
   "source": [
    "await assistant.forward(\"What is my the weather today?\")"
   ]
  },
  {
   "cell_type": "code",
   "execution_count": 9,
   "id": "467c4ac6-cb6d-4470-b11f-0e4a33e9e4fc",
   "metadata": {},
   "outputs": [
    {
     "data": {
      "text/html": [
       "<pre style=\"white-space:pre;overflow-x:auto;line-height:normal;font-family:Menlo,'DejaVu Sans Mono',consolas,'Courier New',monospace\"></pre>\n"
      ],
      "text/plain": []
     },
     "metadata": {},
     "output_type": "display_data"
    },
    {
     "data": {
      "text/plain": [
       "Memory\u001b[1m[\u001b[0m\u001b[1;35mdeque\u001b[0m\u001b[1m(\u001b[0m\u001b[1m[\u001b[0m\u001b[1;35mMessage\u001b[0m\u001b[1m(\u001b[0m\u001b[33mrole\u001b[0m=\u001b[1m<\u001b[0m\u001b[1;95mMessageRole.ASSISTANT:\u001b[0m\u001b[39m \u001b[0m\u001b[32m'assistant'\u001b[0m\u001b[39m>, \u001b[0m\u001b[33mcontent\u001b[0m\u001b[39m=\u001b[0m\u001b[32m'That’s a great question! I don’t really *have* a name in the way a person does. I’m a large language model, and I was developed by Google. You can just think of me as an assistant. 😊 \\n\\nWhat can I help you with today?'\u001b[0m\u001b[39m, \u001b[0m\u001b[33mtool_calls\u001b[0m\u001b[39m=\u001b[0m\u001b[3;35mNone\u001b[0m\u001b[39m, \u001b[0m\u001b[33mtool_call_id\u001b[0m\u001b[39m=\u001b[0m\u001b[3;35mNone\u001b[0m\u001b[1;39m)\u001b[0m\u001b[39m, \u001b[0m\u001b[1;35mMessage\u001b[0m\u001b[1;39m(\u001b[0m\u001b[33mrole\u001b[0m\u001b[39m=<MessageRole.USER: \u001b[0m\u001b[32m'user'\u001b[0m\u001b[39m>, \u001b[0m\u001b[33mcontent\u001b[0m\u001b[39m=\u001b[0m\u001b[32m'What is my the weather today?'\u001b[0m\u001b[39m, \u001b[0m\u001b[33mtool_calls\u001b[0m\u001b[39m=\u001b[0m\u001b[3;35mNone\u001b[0m\u001b[39m, \u001b[0m\u001b[33mtool_call_id\u001b[0m\u001b[39m=\u001b[0m\u001b[3;35mNone\u001b[0m\u001b[1;39m)\u001b[0m\u001b[39m, \u001b[0m\u001b[1;35mMessage\u001b[0m\u001b[1;39m(\u001b[0m\u001b[33mrole\u001b[0m\u001b[39m=<MessageRole.ASSISTANT: \u001b[0m\u001b[32m'assistant'\u001b[0m\u001b[1m>\u001b[0m, \u001b[33mcontent\u001b[0m=\u001b[32m'Okay, to tell you the weather, I need to know your location! 😊 \\n\\nCould you tell me:\\n\\n*   **What city and state \u001b[0m\u001b[32m(\u001b[0m\u001b[32mor country\u001b[0m\u001b[32m)\u001b[0m\u001b[32m are you in?** \\n\\nOnce you give me that information, I can look up the weather for you.'\u001b[0m, \u001b[33mtool_calls\u001b[0m=\u001b[3;35mNone\u001b[0m, \u001b[33mtool_call_id\u001b[0m=\u001b[3;35mNone\u001b[0m\u001b[1m)\u001b[0m\u001b[1m]\u001b[0m, \u001b[33mmaxlen\u001b[0m=\u001b[1;36m3\u001b[0m\u001b[1m)\u001b[0m\u001b[1m]\u001b[0m"
      ]
     },
     "execution_count": 9,
     "metadata": {},
     "output_type": "execute_result"
    }
   ],
   "source": [
    "# memory maxlen exhausted\n",
    "assistant.memory"
   ]
  },
  {
   "cell_type": "code",
   "execution_count": 10,
   "id": "a66435a8-72bd-47a7-81c0-dda203aaa12e",
   "metadata": {},
   "outputs": [
    {
     "data": {
      "text/html": [
       "<pre style=\"white-space:pre;overflow-x:auto;line-height:normal;font-family:Menlo,'DejaVu Sans Mono',consolas,'Courier New',monospace\"></pre>\n"
      ],
      "text/plain": []
     },
     "metadata": {},
     "output_type": "display_data"
    },
    {
     "data": {
      "text/plain": [
       "\n",
       "\u001b[1;35mMessage\u001b[0m\u001b[1m(\u001b[0m\n",
       "    \u001b[33mrole\u001b[0m=\u001b[1m<\u001b[0m\u001b[1;95mMessageRole.ASSISTANT:\u001b[0m\u001b[39m \u001b[0m\u001b[32m'assistant'\u001b[0m\u001b[1m>\u001b[0m,\n",
       "    \u001b[33mcontent\u001b[0m=\u001b[32m\"I\u001b[0m\u001b[32m apologize, but I have no memory of our previous conversations. As an AI, I don't retain information from one interaction to the next. \\n\\nPlease don't tell me your name again – it's not something I can remember! 😊 \\n\\nLet's start fresh. How can I help you today?\"\u001b[0m,\n",
       "    \u001b[33mtool_calls\u001b[0m=\u001b[3;35mNone\u001b[0m,\n",
       "    \u001b[33mtool_call_id\u001b[0m=\u001b[3;35mNone\u001b[0m\n",
       "\u001b[1m)\u001b[0m"
      ]
     },
     "execution_count": 10,
     "metadata": {},
     "output_type": "execute_result"
    }
   ],
   "source": [
    "# now it doesn't have memory in context\n",
    "await assistant.forward(\"Can you recall my name?\")"
   ]
  },
  {
   "cell_type": "code",
   "execution_count": 11,
   "id": "987571d3-37b0-4ddf-9d6f-8cc1a2dc7a6b",
   "metadata": {},
   "outputs": [
    {
     "data": {
      "text/html": [
       "<pre style=\"white-space:pre;overflow-x:auto;line-height:normal;font-family:Menlo,'DejaVu Sans Mono',consolas,'Courier New',monospace\"></pre>\n"
      ],
      "text/plain": []
     },
     "metadata": {},
     "output_type": "display_data"
    },
    {
     "data": {
      "text/plain": [
       "Memory\u001b[1m[\u001b[0m\u001b[1;35mdeque\u001b[0m\u001b[1m(\u001b[0m\u001b[1m[\u001b[0m\u001b[1m]\u001b[0m, \u001b[33mmaxlen\u001b[0m=\u001b[1;36m3\u001b[0m\u001b[1m)\u001b[0m\u001b[1m]\u001b[0m"
      ]
     },
     "execution_count": 11,
     "metadata": {},
     "output_type": "execute_result"
    }
   ],
   "source": [
    "# memory can be cleaned manually\n",
    "assistant.memory.reset()\n",
    "assistant.memory"
   ]
  },
  {
   "cell_type": "code",
   "execution_count": 12,
   "id": "cb4ebd6d-2e6b-420a-bf9f-de6e5194afc7",
   "metadata": {},
   "outputs": [
    {
     "name": "stdout",
     "output_type": "stream",
     "text": [
      "Inside context Memory[deque([Message(role=<MessageRole.ASSISTANT: 'assistant'>, content='Hi Ailadin! It’s really nice to meet you. How can I help you today? 😊 \\n\\nDo you have something specific you’d like to talk about, or were you just saying hello?', tool_calls=None, tool_call_id=None), Message(role=<MessageRole.USER: 'user'>, content='What is my name', tool_calls=None, tool_call_id=None), Message(role=<MessageRole.ASSISTANT: 'assistant'>, content='Your name is Ailadin! 😊 \\n\\nIt’s a lovely name. \\n\\nIs there anything you’d like to tell me about yourself, or were you just checking to see if I remembered?', tool_calls=None, tool_call_id=None)], maxlen=3)]\n",
      "----\n",
      "Outside context Memory[deque([], maxlen=3)]\n"
     ]
    }
   ],
   "source": [
    "# or can be cleared on context enter and exit\n",
    "\n",
    "with assistant.memory:\n",
    "    await assistant.forward(\"Hi my name is Ailadin\")\n",
    "    await assistant.forward(\"What is my name\")\n",
    "    print(\"Inside context\", assistant.memory)\n",
    "print(\"----\")\n",
    "print(\"Outside context\", assistant.memory)"
   ]
  },
  {
   "cell_type": "code",
   "execution_count": 13,
   "id": "9c4a8a51-3e00-4bb0-ba66-031383279f7f",
   "metadata": {},
   "outputs": [
    {
     "name": "stdout",
     "output_type": "stream",
     "text": [
      "\n",
      "[prompt]\n",
      "prompt = \"\"\"\n",
      "You are an assistant.\n",
      "\"\"\"\n",
      "\n",
      "role = \"\"\"\n",
      "system\n",
      "\"\"\"\n",
      "\n",
      "\n"
     ]
    }
   ],
   "source": [
    "print(assistant.describe())"
   ]
  },
  {
   "cell_type": "markdown",
   "id": "3bd0e803-19ff-4a4c-a3db-c7a218b3a123",
   "metadata": {},
   "source": [
    "## Structural Output"
   ]
  },
  {
   "cell_type": "code",
   "execution_count": 4,
   "id": "465742d6-d6d4-480f-aea4-bcd4d883102e",
   "metadata": {},
   "outputs": [],
   "source": [
    "from enum import StrEnum, auto\n",
    "\n",
    "from pydantic import BaseModel, Field"
   ]
  },
  {
   "cell_type": "code",
   "execution_count": 5,
   "id": "650b3788-f145-4a56-a3db-1ad33e88241f",
   "metadata": {},
   "outputs": [],
   "source": [
    "class Operation(StrEnum):\n",
    "    SUM = auto()\n",
    "    SUB = auto()\n",
    "    DIV = auto()\n",
    "    MUL = auto()\n",
    "\n",
    "\n",
    "class CalculatorSchema(BaseModel):\n",
    "    reasoning: str\n",
    "    a: float = Field(description=\"The left operand.\")\n",
    "    b: float = Field(description=\"The right operand.\")\n",
    "    op: Operation = Field(description=\"The operation to execute.\")\n",
    "\n",
    "\n",
    "ollama = pm.llms.OpenAILike(\n",
    "    model_name=\"gemma3:12b\", base_url=\"http://lilan:11434/v1\", api_key=\"DUMMY\"\n",
    ")\n",
    "\n",
    "module = pm.modules.StructuralOutput(\n",
    "    CalculatorSchema, retry_message_role=pm.MessageRole.USER\n",
    ").with_llm(ollama)"
   ]
  },
  {
   "cell_type": "code",
   "execution_count": 17,
   "id": "ad94aad1-3c22-4eee-9904-d0c14e1985aa",
   "metadata": {},
   "outputs": [
    {
     "data": {
      "text/html": [
       "<pre style=\"white-space:pre;overflow-x:auto;line-height:normal;font-family:Menlo,'DejaVu Sans Mono',consolas,'Courier New',monospace\"></pre>\n"
      ],
      "text/plain": []
     },
     "metadata": {},
     "output_type": "display_data"
    },
    {
     "data": {
      "text/plain": [
       "\n",
       "\u001b[1;35mCalculatorSchema\u001b[0m\u001b[1m(\u001b[0m\n",
       "    \u001b[33mreasoning\u001b[0m=\u001b[32m'To find twice the amount of cows, I multiply the initial number of cows by 2.'\u001b[0m,\n",
       "    \u001b[33ma\u001b[0m=\u001b[1;36m10\u001b[0m\u001b[1;36m.0\u001b[0m,\n",
       "    \u001b[33mb\u001b[0m=\u001b[1;36m2\u001b[0m\u001b[1;36m.0\u001b[0m,\n",
       "    \u001b[33mop\u001b[0m=\u001b[1m<\u001b[0m\u001b[1;95mOperation.MUL:\u001b[0m\u001b[39m \u001b[0m\u001b[32m'mul'\u001b[0m\u001b[1m>\u001b[0m\n",
       "\u001b[1m)\u001b[0m"
      ]
     },
     "execution_count": 17,
     "metadata": {},
     "output_type": "execute_result"
    }
   ],
   "source": [
    "await module.forward(\"I have 10 cows, I need twice the amount\")"
   ]
  },
  {
   "cell_type": "code",
   "execution_count": 18,
   "id": "3c62462f-5f43-481a-b4f9-ce415015d3cf",
   "metadata": {},
   "outputs": [
    {
     "data": {
      "text/html": [
       "<pre style=\"white-space:pre;overflow-x:auto;line-height:normal;font-family:Menlo,'DejaVu Sans Mono',consolas,'Courier New',monospace\"></pre>\n"
      ],
      "text/plain": []
     },
     "metadata": {},
     "output_type": "display_data"
    },
    {
     "data": {
      "text/plain": [
       "\u001b[1;35mCalculatorSchema\u001b[0m\u001b[1m(\u001b[0m\u001b[33mreasoning\u001b[0m=\u001b[32m'Half of 10 is 5.'\u001b[0m, \u001b[33ma\u001b[0m=\u001b[1;36m10\u001b[0m\u001b[1;36m.0\u001b[0m, \u001b[33mb\u001b[0m=\u001b[1;36m0\u001b[0m\u001b[1;36m.5\u001b[0m, \u001b[33mop\u001b[0m=\u001b[1m<\u001b[0m\u001b[1;95mOperation.DIV:\u001b[0m\u001b[39m \u001b[0m\u001b[32m'div'\u001b[0m\u001b[1m>\u001b[0m\u001b[1m)\u001b[0m"
      ]
     },
     "execution_count": 18,
     "metadata": {},
     "output_type": "execute_result"
    }
   ],
   "source": [
    "await module.forward(\"I have 10 cows, i need half of them\")"
   ]
  },
  {
   "cell_type": "code",
   "execution_count": 19,
   "id": "c8ea835a-70e6-4a82-b6e2-cf7042dc1d6e",
   "metadata": {},
   "outputs": [
    {
     "data": {
      "text/html": [
       "<pre style=\"white-space:pre;overflow-x:auto;line-height:normal;font-family:Menlo,'DejaVu Sans Mono',consolas,'Courier New',monospace\"></pre>\n"
      ],
      "text/plain": []
     },
     "metadata": {},
     "output_type": "display_data"
    },
    {
     "data": {
      "text/plain": [
       "\u001b[1;35mCalculatorSchema\u001b[0m\u001b[1m(\u001b[0m\u001b[33mreasoning\u001b[0m=\u001b[32m'11.11 - 11 = 0.11'\u001b[0m, \u001b[33ma\u001b[0m=\u001b[1;36m11\u001b[0m\u001b[1;36m.11\u001b[0m, \u001b[33mb\u001b[0m=\u001b[1;36m11\u001b[0m\u001b[1;36m.0\u001b[0m, \u001b[33mop\u001b[0m=\u001b[1m<\u001b[0m\u001b[1;95mOperation.SUB:\u001b[0m\u001b[39m \u001b[0m\u001b[32m'sub'\u001b[0m\u001b[1m>\u001b[0m\u001b[1m)\u001b[0m"
      ]
     },
     "execution_count": 19,
     "metadata": {},
     "output_type": "execute_result"
    }
   ],
   "source": [
    "await module.forward(\"I have 11.11 cows. and 11 left the herd\")"
   ]
  },
  {
   "cell_type": "code",
   "execution_count": 20,
   "id": "a0433498-ba52-4a98-9464-a05a93ae316b",
   "metadata": {},
   "outputs": [
    {
     "data": {
      "text/html": [
       "<pre style=\"white-space:pre;overflow-x:auto;line-height:normal;font-family:Menlo,'DejaVu Sans Mono',consolas,'Courier New',monospace\"></pre>\n"
      ],
      "text/plain": []
     },
     "metadata": {},
     "output_type": "display_data"
    },
    {
     "data": {
      "text/plain": [
       "\n",
       "\u001b[1;35mCalculatorSchema\u001b[0m\u001b[1m(\u001b[0m\n",
       "    \u001b[33mreasoning\u001b[0m=\u001b[32m'To find the total number of cows, we need to sum the number of cows I have and the number my friend has.'\u001b[0m,\n",
       "    \u001b[33ma\u001b[0m=\u001b[1;36m5\u001b[0m\u001b[1;36m.0\u001b[0m,\n",
       "    \u001b[33mb\u001b[0m=\u001b[1;36m7\u001b[0m\u001b[1;36m.0\u001b[0m,\n",
       "    \u001b[33mop\u001b[0m=\u001b[1m<\u001b[0m\u001b[1;95mOperation.SUM:\u001b[0m\u001b[39m \u001b[0m\u001b[32m'sum'\u001b[0m\u001b[1m>\u001b[0m\n",
       "\u001b[1m)\u001b[0m"
      ]
     },
     "execution_count": 20,
     "metadata": {},
     "output_type": "execute_result"
    }
   ],
   "source": [
    "await module.forward(\"I have 5 cows. and my friend have 7\")"
   ]
  },
  {
   "cell_type": "code",
   "execution_count": 21,
   "id": "c149f600-e187-4168-a115-51f54a584131",
   "metadata": {},
   "outputs": [
    {
     "name": "stdout",
     "output_type": "stream",
     "text": [
      "model_json_schema = \"\"\"\n",
      "{\n",
      "    \"$defs\": {\n",
      "        \"Operation\": {\n",
      "            \"enum\": [\n",
      "                \"sum\",\n",
      "                \"sub\",\n",
      "                \"div\",\n",
      "                \"mul\"\n",
      "            ],\n",
      "            \"title\": \"Operation\",\n",
      "            \"type\": \"string\"\n",
      "        }\n",
      "    },\n",
      "    \"properties\": {\n",
      "        \"reasoning\": {\n",
      "            \"title\": \"Reasoning\",\n",
      "            \"type\": \"string\"\n",
      "        },\n",
      "        \"a\": {\n",
      "            \"description\": \"The left operand.\",\n",
      "            \"title\": \"A\",\n",
      "            \"type\": \"number\"\n",
      "        },\n",
      "        \"b\": {\n",
      "            \"description\": \"The right operand.\",\n",
      "            \"title\": \"B\",\n",
      "            \"type\": \"number\"\n",
      "        },\n",
      "        \"op\": {\n",
      "            \"$ref\": \"#/$defs/Operation\",\n",
      "            \"description\": \"The operation to execute.\"\n",
      "        }\n",
      "    },\n",
      "    \"required\": [\n",
      "        \"reasoning\",\n",
      "        \"a\",\n",
      "        \"b\",\n",
      "        \"op\"\n",
      "    ],\n",
      "    \"title\": \"CalculatorSchema\",\n",
      "    \"type\": \"object\"\n",
      "}\n",
      "\"\"\"\n",
      "\n",
      "retry_template = \"\"\"\n",
      "Your response does not conform to the required schema. Please correct your output by ensuring it matches the expected format and constraints. \n",
      "\n",
      "**Schema Validation Error:**  \n",
      "`{error_message}`  \n",
      "  \n",
      "Please reattempt the response, ensuring strict adherence to the schema.    \n",
      "\"\"\"\n",
      "\n",
      "\n",
      "\n",
      "[predictor.prompt]\n",
      "prompt = \"\"\"\n",
      "You are designed to generate structured JSON outputs adhering to a predefined schema without any embellishments or formatting.\n",
      "\n",
      "Schema Description: {schema_description}\n",
      "\n",
      "Response Guidelines:\n",
      "- Ensure all required fields are present and correctly formatted. \n",
      "- Enforce any constraints on fields (e.g., length limits, specific formats) strictly.\n",
      "- Exclude optional fields if they aren't applicable; do not return null for them.\n",
      "- Provide valid JSON output without additional commentary, formatting markers like ```json, or unnecessary line breaks.\n",
      "\"\"\"\n",
      "\n",
      "role = \"\"\"\n",
      "system\n",
      "\"\"\"\n",
      "\n",
      "\n"
     ]
    }
   ],
   "source": [
    "print(module.describe())"
   ]
  },
  {
   "cell_type": "markdown",
   "id": "1894130d-e01c-4a3c-8560-46ba37b00766",
   "metadata": {},
   "source": [
    "### OpenAI provider\n",
    "\n",
    "OpenAI provider supports structural output feature without needing to provide json schema in prompt."
   ]
  },
  {
   "cell_type": "code",
   "execution_count": 6,
   "id": "292a4737-5c33-458b-85a2-308e4bedfb63",
   "metadata": {},
   "outputs": [],
   "source": [
    "openai = pm.llms.OpenAILike(\n",
    "    model_name=\"gpt-4.1-nano\",\n",
    ")"
   ]
  },
  {
   "cell_type": "code",
   "execution_count": 7,
   "id": "d33a0859-488b-4293-8c38-871acef30a6e",
   "metadata": {},
   "outputs": [],
   "source": [
    "module = pm.modules.StructuralOutput(CalculatorSchema, native=True).with_llm(openai)"
   ]
  },
  {
   "cell_type": "code",
   "execution_count": 8,
   "id": "f0278017-6716-4171-9c7d-28c31b066949",
   "metadata": {},
   "outputs": [
    {
     "name": "stdout",
     "output_type": "stream",
     "text": [
      "model_json_schema = \"\"\"\n",
      "{\n",
      "    \"$defs\": {\n",
      "        \"Operation\": {\n",
      "            \"enum\": [\n",
      "                \"sum\",\n",
      "                \"sub\",\n",
      "                \"div\",\n",
      "                \"mul\"\n",
      "            ],\n",
      "            \"title\": \"Operation\",\n",
      "            \"type\": \"string\"\n",
      "        }\n",
      "    },\n",
      "    \"properties\": {\n",
      "        \"reasoning\": {\n",
      "            \"title\": \"Reasoning\",\n",
      "            \"type\": \"string\"\n",
      "        },\n",
      "        \"a\": {\n",
      "            \"description\": \"The left operand.\",\n",
      "            \"title\": \"A\",\n",
      "            \"type\": \"number\"\n",
      "        },\n",
      "        \"b\": {\n",
      "            \"description\": \"The right operand.\",\n",
      "            \"title\": \"B\",\n",
      "            \"type\": \"number\"\n",
      "        },\n",
      "        \"op\": {\n",
      "            \"$ref\": \"#/$defs/Operation\",\n",
      "            \"description\": \"The operation to execute.\"\n",
      "        }\n",
      "    },\n",
      "    \"required\": [\n",
      "        \"reasoning\",\n",
      "        \"a\",\n",
      "        \"b\",\n",
      "        \"op\"\n",
      "    ],\n",
      "    \"title\": \"CalculatorSchema\",\n",
      "    \"type\": \"object\"\n",
      "}\n",
      "\"\"\"\n",
      "\n",
      "retry_template = \"\"\"\n",
      "Your response does not conform to the required schema. Please correct your output by ensuring it matches the expected format and constraints. \n",
      "\n",
      "**Schema Validation Error:**  \n",
      "`{error_message}`  \n",
      "  \n",
      "Please reattempt the response, ensuring strict adherence to the schema.    \n",
      "\"\"\"\n",
      "\n",
      "\n",
      "\n",
      "[predictor.prompt]\n",
      "prompt = \"\"\"\n",
      "You are designed to generate structured JSON outputs adhering to a predefined schema without any embellishments or formatting.\n",
      "\n",
      "Response Guidelines:\n",
      "- Ensure all required fields are present and correctly formatted. \n",
      "- Enforce any constraints on fields (e.g., length limits, specific formats) strictly.\n",
      "- Exclude optional fields if they aren't applicable; do not return null for them.\n",
      "- Provide valid JSON output without additional commentary, formatting markers like ```json, or unnecessary line breaks.\n",
      "\"\"\"\n",
      "\n",
      "role = \"\"\"\n",
      "system\n",
      "\"\"\"\n",
      "\n",
      "\n"
     ]
    }
   ],
   "source": [
    "print(module.describe())"
   ]
  },
  {
   "cell_type": "code",
   "execution_count": 9,
   "id": "fa6295a6-4c74-4ae2-bb63-01ca72563761",
   "metadata": {},
   "outputs": [
    {
     "data": {
      "text/html": [
       "<pre style=\"white-space:pre;overflow-x:auto;line-height:normal;font-family:Menlo,'DejaVu Sans Mono',consolas,'Courier New',monospace\"></pre>\n"
      ],
      "text/plain": []
     },
     "metadata": {},
     "output_type": "display_data"
    },
    {
     "data": {
      "text/plain": [
       "\n",
       "\u001b[1;35mCalculatorSchema\u001b[0m\u001b[1m(\u001b[0m\n",
       "    \u001b[33mreasoning\u001b[0m=\u001b[32m'You currently have 10 cows and want twice that amount. Doubling 10 results in 20 cows.'\u001b[0m,\n",
       "    \u001b[33ma\u001b[0m=\u001b[1;36m10\u001b[0m\u001b[1;36m.0\u001b[0m,\n",
       "    \u001b[33mb\u001b[0m=\u001b[1;36m10\u001b[0m\u001b[1;36m.0\u001b[0m,\n",
       "    \u001b[33mop\u001b[0m=\u001b[1m<\u001b[0m\u001b[1;95mOperation.MUL:\u001b[0m\u001b[39m \u001b[0m\u001b[32m'mul'\u001b[0m\u001b[1m>\u001b[0m\n",
       "\u001b[1m)\u001b[0m"
      ]
     },
     "execution_count": 9,
     "metadata": {},
     "output_type": "execute_result"
    }
   ],
   "source": [
    "await module.forward(\"I have 10 cows, I need twice the amount\")"
   ]
  },
  {
   "cell_type": "code",
   "execution_count": 10,
   "id": "16a27a66-bf48-4180-984f-b3fd4e1e88d8",
   "metadata": {},
   "outputs": [
    {
     "data": {
      "text/html": [
       "<pre style=\"white-space:pre;overflow-x:auto;line-height:normal;font-family:Menlo,'DejaVu Sans Mono',consolas,'Courier New',monospace\"></pre>\n"
      ],
      "text/plain": []
     },
     "metadata": {},
     "output_type": "display_data"
    },
    {
     "data": {
      "text/plain": [
       "\n",
       "\u001b[1;35mCalculatorSchema\u001b[0m\u001b[1m(\u001b[0m\n",
       "    \u001b[33mreasoning\u001b[0m=\u001b[32m'Half of 10 cows is obtained by dividing the total number of cows by 2. So, 10 divided by 2 equals 5.'\u001b[0m,\n",
       "    \u001b[33ma\u001b[0m=\u001b[1;36m10\u001b[0m\u001b[1;36m.0\u001b[0m,\n",
       "    \u001b[33mb\u001b[0m=\u001b[1;36m2\u001b[0m\u001b[1;36m.0\u001b[0m,\n",
       "    \u001b[33mop\u001b[0m=\u001b[1m<\u001b[0m\u001b[1;95mOperation.DIV:\u001b[0m\u001b[39m \u001b[0m\u001b[32m'div'\u001b[0m\u001b[1m>\u001b[0m\n",
       "\u001b[1m)\u001b[0m"
      ]
     },
     "execution_count": 10,
     "metadata": {},
     "output_type": "execute_result"
    }
   ],
   "source": [
    "await module.forward(\"I have 10 cows, i need half of them\")"
   ]
  },
  {
   "cell_type": "code",
   "execution_count": 11,
   "id": "2f4a4c2c-acad-4eac-b797-c45447d3244a",
   "metadata": {},
   "outputs": [
    {
     "data": {
      "text/html": [
       "<pre style=\"white-space:pre;overflow-x:auto;line-height:normal;font-family:Menlo,'DejaVu Sans Mono',consolas,'Courier New',monospace\"></pre>\n"
      ],
      "text/plain": []
     },
     "metadata": {},
     "output_type": "display_data"
    },
    {
     "data": {
      "text/plain": [
       "\n",
       "\u001b[1;35mCalculatorSchema\u001b[0m\u001b[1m(\u001b[0m\n",
       "    \u001b[33mreasoning\u001b[0m=\u001b[32m'The initial number of cows is 11.11. When 11 cows leave the herd, the remaining cows are calculated by subtracting 11 from 11.11.'\u001b[0m,\n",
       "    \u001b[33ma\u001b[0m=\u001b[1;36m11\u001b[0m\u001b[1;36m.11\u001b[0m,\n",
       "    \u001b[33mb\u001b[0m=\u001b[1;36m11\u001b[0m\u001b[1;36m.0\u001b[0m,\n",
       "    \u001b[33mop\u001b[0m=\u001b[1m<\u001b[0m\u001b[1;95mOperation.SUB:\u001b[0m\u001b[39m \u001b[0m\u001b[32m'sub'\u001b[0m\u001b[1m>\u001b[0m\n",
       "\u001b[1m)\u001b[0m"
      ]
     },
     "execution_count": 11,
     "metadata": {},
     "output_type": "execute_result"
    }
   ],
   "source": [
    "await module.forward(\"I have 11.11 cows. and 11 left the herd\")"
   ]
  },
  {
   "cell_type": "code",
   "execution_count": 12,
   "id": "a55d7b23-eaa8-4db2-a3cc-c4abab7d2443",
   "metadata": {},
   "outputs": [
    {
     "data": {
      "text/html": [
       "<pre style=\"white-space:pre;overflow-x:auto;line-height:normal;font-family:Menlo,'DejaVu Sans Mono',consolas,'Courier New',monospace\"></pre>\n"
      ],
      "text/plain": []
     },
     "metadata": {},
     "output_type": "display_data"
    },
    {
     "data": {
      "text/plain": [
       "\n",
       "\u001b[1;35mCalculatorSchema\u001b[0m\u001b[1m(\u001b[0m\n",
       "    \u001b[33mreasoning\u001b[0m=\u001b[32m'The user provided the number of cows they have and their friend has. The task appears to be to sum these quantities.'\u001b[0m,\n",
       "    \u001b[33ma\u001b[0m=\u001b[1;36m5\u001b[0m\u001b[1;36m.0\u001b[0m,\n",
       "    \u001b[33mb\u001b[0m=\u001b[1;36m7\u001b[0m\u001b[1;36m.0\u001b[0m,\n",
       "    \u001b[33mop\u001b[0m=\u001b[1m<\u001b[0m\u001b[1;95mOperation.SUM:\u001b[0m\u001b[39m \u001b[0m\u001b[32m'sum'\u001b[0m\u001b[1m>\u001b[0m\n",
       "\u001b[1m)\u001b[0m"
      ]
     },
     "execution_count": 12,
     "metadata": {},
     "output_type": "execute_result"
    }
   ],
   "source": [
    "await module.forward(\"I have 5 cows. and my friend have 7\")"
   ]
  }
 ],
 "metadata": {
  "kernelspec": {
   "display_name": "promptimus",
   "language": "python",
   "name": "promptimus"
  },
  "language_info": {
   "codemirror_mode": {
    "name": "ipython",
    "version": 3
   },
   "file_extension": ".py",
   "mimetype": "text/x-python",
   "name": "python",
   "nbconvert_exporter": "python",
   "pygments_lexer": "ipython3",
   "version": "3.12.8"
  }
 },
 "nbformat": 4,
 "nbformat_minor": 5
}
