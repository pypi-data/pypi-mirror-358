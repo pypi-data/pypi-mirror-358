{
 "cells": [
  {
   "cell_type": "markdown",
   "metadata": {},
   "source": [
    "# STIPS Basic Tutorial\n",
    "\n",
    "If you prefer to work within a Jupyter notebook, this notebook will follow the same processes as the Basic Tutorial to create a STIPS observation. Like the Basic Tutorial, it assumes that you already have STIPS installed; see [Installing STIPS](https://stsci-stips.readthedocs.io/en/latest/installation.html) in the STIPS documentation if not."
   ]
  },
  {
   "cell_type": "markdown",
   "metadata": {},
   "source": [
    "## Importing STIPS and checking the STIPS environment\n",
    "\n",
    "In order to use STIPS, you must have several sets of data files installed ([Installing STIPS](https://stsci-stips.readthedocs.io/en/latest/installation.html) contains instructions on doing this). In order to test your STIPS installation, STIPS includes an environment report utility that shows which version of STIPS you have installed, as well as the versions of the most important support packages that STIPS uses. When you run the cell below, you should get output something like this:\n",
    "\n",
    "> STIPS Version x.y.z with Data Version x.y.z at /Some/Path/To/stips_data\n",
    ">\n",
    "> STIPS Grid Generated with x.y.z\n",
    ">\n",
    "> Pandeia Version a.b.c with Data Version a.b.c at /Some/Path/To/pandeia_refdata\n",
    ">\n",
    "> Webbpsf Version d.e.f with Data Version d.e.f at /Some/Path/To/WEBBPSF_PATH"
   ]
  },
  {
   "cell_type": "code",
   "execution_count": null,
   "metadata": {},
   "outputs": [],
   "source": [
    "from astropy.io import fits\n",
    "from matplotlib import style\n",
    "from stips.scene_module import SceneModule\n",
    "import matplotlib\n",
    "import matplotlib.pyplot as plt\n",
    "import stips\n",
    "\n",
    "%matplotlib inline\n",
    "%config InlineBackend.figure_format = 'svg'\n",
    "\n",
    "matplotlib.rcParams['axes.grid'] = False\n",
    "matplotlib.rcParams['image.origin'] = 'lower'\n",
    "\n",
    "print(stips.__env__report__)"
   ]
  },
  {
   "cell_type": "markdown",
   "metadata": {},
   "source": [
    "## Setting up some Basics\n",
    "\n",
    "STIPS allows you to set up some basic elements of your observation and pass them when creating and running observations. The section below shows one way to set these up."
   ]
  },
  {
   "cell_type": "code",
   "execution_count": null,
   "metadata": {},
   "outputs": [],
   "source": [
    "obs_prefix = 'notebook_example'\n",
    "obs_ra = 150.0\n",
    "obs_dec = -2.5"
   ]
  },
  {
   "cell_type": "markdown",
   "metadata": {},
   "source": [
    "## Creating a Scene to Observe\n",
    "\n",
    "STIPS contains functions to generate stellar populations as well as background galaxies. These functions are all present in the `SceneModule` class. In order to know what sort of populations to generate, the Scene Module requires input dictionaries to specify population parameters. In this example, we will create the following:\n",
    "\n",
    "* A stellar population representing a globular cluster with\n",
    "  * 100 stars\n",
    "  * An age of 7.5 billion years\n",
    "  * A metallicity of -2.0\n",
    "  * A Salpeter IMF with alpha=-2.35\n",
    "  * A binary fraction of 10%\n",
    "  * A clustered distribution (higher-mass stars closer to the population centre)\n",
    "  * An inverse power-law distribution\n",
    "  * A radius of 100 parsecs\n",
    "  * A distance of 10 kpc\n",
    "  * No offset from the centre of the scene being created\n",
    "* A collection of background galaxies with\n",
    "  * 10 galaxies\n",
    "  * Redshifts between 0 and 0.2\n",
    "  * Radii between 0.01 and 2.0 arcsec\n",
    "  * V-band surface brightness magnitudes between 28 and 24\n",
    "  * Uniform spatial distribution (unclustered) over 200 arcsec\n",
    "  * No offset from the center of the scene being created\n",
    "  \n",
    "\n",
    "##### Note: \n",
    "Background galaxies are available in STIPS, but are neither supported nor tested.\n",
    "  "
   ]
  },
  {
   "cell_type": "code",
   "execution_count": null,
   "metadata": {},
   "outputs": [],
   "source": [
    "scm = SceneModule(out_prefix=obs_prefix, ra=obs_ra, dec=obs_dec, out_path='notebooks_data/')\n",
    "\n",
    "stellar_parameters = {\n",
    "                      'n_stars': 100,\n",
    "                      'age_low': 7.5e12, \n",
    "                      'age_high': 7.5e12,\n",
    "                      'z_low': -2.0, \n",
    "                      'z_high': -2.0,\n",
    "                      'imf': 'salpeter', \n",
    "                      'alpha': -2.35,\n",
    "                      'binary_fraction': 0.1,\n",
    "                      'clustered': True,\n",
    "                      'distribution': 'invpow',\n",
    "                      'radius': 100.0, \n",
    "                      'radius_units': 'pc',\n",
    "                      'distance_low': 10.0, \n",
    "                      'distance_high': 10.0,\n",
    "                      'offset_ra': 0.0, \n",
    "                      'offset_dec': 0.0\n",
    "                     }\n",
    "\n",
    "stellar_cat_file = scm.CreatePopulation(stellar_parameters)\n",
    "print(\"Stellar population saved to file {}\".format(stellar_cat_file))\n",
    "\n",
    "galaxy_parameters = {\n",
    "                     'n_gals': 10,\n",
    "                     'z_low': 0.0, \n",
    "                     'z_high': 0.2,\n",
    "                     'rad_low': 0.01, \n",
    "                     'rad_high': 2.0,\n",
    "                     'sb_v_low': 28.0, \n",
    "                     'sb_v_high': 24.0,\n",
    "                     'distribution': 'uniform', \n",
    "                     'clustered': False,\n",
    "                     'radius': 200.0, \n",
    "                     'radius_units': 'arcsec',\n",
    "                     'offset_ra': 0.0, \n",
    "                     'offset_dec': 0.0\n",
    "                    }\n",
    "\n",
    "galaxy_cat_file = scm.CreateGalaxies(galaxy_parameters)\n",
    "print(\"Galaxy population saved to file {}\".format(galaxy_cat_file))"
   ]
  },
  {
   "cell_type": "markdown",
   "metadata": {},
   "source": [
    "## Creating a STIPS observation\n",
    "\n",
    "Once a scene has been created, it's possible to observe that scene as many times as you wish (and from as many places as you wish, although obviously any observation that doesn't include at least some of the scene will simply be an empty exposure). In this case, we create a single Roman WFI observation.\n",
    "\n",
    "STIPS uses a bit of specialialized terminology to describe its observations. In particular:\n",
    "\n",
    "* An *observation* is a set of exposures with a single instrument (e.g. Roman WFI), one or more filters (where each\n",
    "  exposure in the observation will be repeated for every included filter), some number of the instrument's \n",
    "  detectors (for WFI between 1 and 18), where each exposure in the observation will be repeated, with the \n",
    "  appropriate inter-detector offset, for every included detector, a single chosen sky background value, and a  \n",
    "  single exposure time (applied to each exposure in the observation), and one or more offsets.\n",
    "* An *offset* is a single telescope pointing. For each offset specified in the observation, an exposure will be \n",
    "  created for each detector and each filter at the offset. STIPS may, optionally, create one or more mosaics at \n",
    "  each offset, with a single mosaic including all detectors with the same filter. In addition, STIPS can create a \n",
    "  single combined mosaic for each filter in the combined Observation.\n",
    "\n",
    "In this case, we will create an observation with:\n",
    "\n",
    "* Roman WFI F129\n",
    "* 1 detector\n",
    "* No distortion\n",
    "* A sky background of 0.15 counts/s/pixel\n",
    "* The ID 1\n",
    "* An exposure time of 1000 seconds\n",
    "\n",
    "We will use a single offset with:\n",
    "\n",
    "* An ID of 1\n",
    "* No centering (if an offset is centred then, for a multi-detector observation, each detector is centred on the   \n",
    "  offset co-ordinates individually rather than the instrument as a whole being centred there)\n",
    "* No change in RA, DEC, or PA from the centre of the observation\n",
    "\n",
    "and the following residual settings:\n",
    "\n",
    "* Flatfield residual: off\n",
    "* Dark current residual: off\n",
    "* Cosmic ray removal residual: off\n",
    "* Poisson noise residual: on\n",
    "* Readnoise residual: on\n"
   ]
  },
  {
   "cell_type": "code",
   "execution_count": null,
   "metadata": {},
   "outputs": [],
   "source": [
    "from stips.observation_module import ObservationModule\n",
    "\n",
    "offset = {\n",
    "          'offset_id': 1,\n",
    "          'offset_centre': False,\n",
    "          'offset_ra': 0.0,\n",
    "          'offset_dec': 0.0,\n",
    "          'offset_pa': 0.0\n",
    "         }\n",
    "\n",
    "residuals = {\n",
    "             'residual_flat': False,\n",
    "             'residual_dark': False,\n",
    "             'residual_cosmic': False,\n",
    "             'residual_poisson': True,\n",
    "             'residual_readnoise': True,\n",
    "            }\n",
    "\n",
    "observation_parameters = {\n",
    "                          'instrument': 'WFI',\n",
    "                          'filters': ['F129'],\n",
    "                          'detectors': 1,\n",
    "                          'distortion': False,\n",
    "                          'background': 0.15,\n",
    "                          'observations_id': 1,\n",
    "                          'exptime': 1000,\n",
    "                          'offsets': [offset]\n",
    "                         }\n",
    "\n",
    "obm = ObservationModule(observation_parameters, out_prefix=obs_prefix, ra=obs_ra, dec=obs_dec,\n",
    "                        residuals=residuals, out_path='notebooks_data/')"
   ]
  },
  {
   "cell_type": "markdown",
   "metadata": {},
   "source": [
    "Finally, we call nextObservation() -– this function is used to move between different combinations of offset and filter.  It must be called once in order to initialize the observation module to the first observatiom before adding catalogues."
   ]
  },
  {
   "cell_type": "code",
   "execution_count": null,
   "metadata": {},
   "outputs": [],
   "source": [
    "obm.nextObservation()"
   ]
  },
  {
   "cell_type": "markdown",
   "metadata": {},
   "source": [
    "## Observing the Scene\n",
    "\n",
    "In order to observe the scene, we must add the scene catalogues created above to it, add in error residuals, and finalize the observation. In so doing, we create output catalogues which are taken from the input catalogues, but only contain the sources visible to the detectors, and convert source brightnesses into units of counts/s for the detectors."
   ]
  },
  {
   "cell_type": "code",
   "execution_count": null,
   "metadata": {
    "scrolled": true,
    "tags": []
   },
   "outputs": [],
   "source": [
    "output_stellar_catalogues = obm.addCatalogue(stellar_cat_file)\n",
    "output_galaxy_catalogues = obm.addCatalogue(galaxy_cat_file)\n",
    "\n",
    "print(\"Output Catalogues are {} and {}.\".format(output_stellar_catalogues, output_galaxy_catalogues))\n",
    "\n",
    "psf_file = obm.addError()\n",
    "\n",
    "print(\"PSF File is {}\".format(psf_file))\n",
    "\n",
    "fits_file, mosaic_file, params = obm.finalize(mosaic=False)\n",
    "\n",
    "print(\"Output FITS file is {}\".format(fits_file))\n",
    "print(\"Output Mosaic File is {}\".format(mosaic_file))\n",
    "print(\"Observation Parameters are {}\".format(params))"
   ]
  },
  {
   "cell_type": "markdown",
   "metadata": {
    "tags": []
   },
   "source": [
    "## Show the Result\n",
    "\n",
    "We use pyplot to plot the resulting simulated image."
   ]
  },
  {
   "cell_type": "code",
   "execution_count": null,
   "metadata": {},
   "outputs": [],
   "source": [
    "with fits.open(fits_file) as result_file:\n",
    "    result_data = result_file[1].data\n",
    "\n",
    "fig1 = plt.figure()\n",
    "norm = matplotlib.colors.LogNorm(vmin=result_data.min(), vmax=result_data.max())\n",
    "im = plt.matshow(result_data, norm=norm)\n",
    "plt.savefig('notebooks_data/notebook_example_basic_scene.jpeg')"
   ]
  },
  {
   "cell_type": "markdown",
   "metadata": {},
   "source": [
    "As well as a detail from the detector center."
   ]
  },
  {
   "cell_type": "code",
   "execution_count": null,
   "metadata": {},
   "outputs": [],
   "source": [
    "fig2 = plt.figure()\n",
    "im2 = plt.matshow(result_data[1800:2300, 1800:2300], norm=norm)\n",
    "plt.savefig('notebooks_data/notebook_example_basic_scene.jpeg')"
   ]
  }
 ],
 "metadata": {
  "kernelspec": {
   "display_name": "Python 3",
   "language": "python",
   "name": "python3"
  },
  "language_info": {
   "codemirror_mode": {
    "name": "ipython",
    "version": 3
   },
   "file_extension": ".py",
   "mimetype": "text/x-python",
   "name": "python",
   "nbconvert_exporter": "python",
   "pygments_lexer": "ipython3",
   "version": "3.7.4"
  }
 },
 "nbformat": 4,
 "nbformat_minor": 4
}
