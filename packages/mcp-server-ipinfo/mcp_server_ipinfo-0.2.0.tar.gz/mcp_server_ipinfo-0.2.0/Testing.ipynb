{
 "cells": [
  {
   "cell_type": "code",
   "execution_count": 1,
   "id": "4aa982d5-07aa-4037-ad9b-a814bd04c7ed",
   "metadata": {},
   "outputs": [],
   "source": [
    "import ipinfo"
   ]
  },
  {
   "cell_type": "code",
   "execution_count": 2,
   "id": "81e3105f-d12e-4882-ac5c-cded8e85b4f2",
   "metadata": {},
   "outputs": [],
   "source": [
    "import os"
   ]
  },
  {
   "cell_type": "code",
   "execution_count": 3,
   "id": "12db4e7e-0f5c-44dd-8461-ee60f8d1c8cf",
   "metadata": {},
   "outputs": [],
   "source": [
    "IPINFO_API_TOKEN = os.environ.get(\"IPINFO_API_TOKEN\", None)"
   ]
  },
  {
   "cell_type": "code",
   "execution_count": 4,
   "id": "589b3e98-235a-40fb-831a-b1a0365eb467",
   "metadata": {},
   "outputs": [],
   "source": [
    "IPINFO_API_TOKEN = \"80bfeb40cc2821\""
   ]
  },
  {
   "cell_type": "code",
   "execution_count": 5,
   "id": "45c3a993-1bf9-4ef9-80c2-7bd66b258c13",
   "metadata": {},
   "outputs": [
    {
     "data": {
      "text/plain": [
       "'80bfeb40cc2821'"
      ]
     },
     "execution_count": 5,
     "metadata": {},
     "output_type": "execute_result"
    }
   ],
   "source": [
    "IPINFO_API_TOKEN"
   ]
  },
  {
   "cell_type": "code",
   "execution_count": 6,
   "id": "20f0a3ff-9ca8-4387-baa1-5d7c34ec10b0",
   "metadata": {},
   "outputs": [],
   "source": [
    "handler = ipinfo.getHandler(access_token=IPINFO_API_TOKEN)"
   ]
  },
  {
   "cell_type": "code",
   "execution_count": 7,
   "id": "b1861d34-ef54-4268-aacd-c7b42a60755f",
   "metadata": {},
   "outputs": [],
   "source": [
    "details = handler.getDetails()"
   ]
  },
  {
   "cell_type": "code",
   "execution_count": 8,
   "id": "974c6696-76dd-4e71-9fef-de4d1e6356c2",
   "metadata": {},
   "outputs": [
    {
     "data": {
      "text/plain": [
       "<ipinfo.details.Details at 0x10b10ba10>"
      ]
     },
     "execution_count": 8,
     "metadata": {},
     "output_type": "execute_result"
    }
   ],
   "source": [
    "details"
   ]
  },
  {
   "cell_type": "code",
   "execution_count": 9,
   "id": "7288b24c-ab8a-4615-90f8-3c6b62c09613",
   "metadata": {},
   "outputs": [
    {
     "data": {
      "text/plain": [
       "['__class__',\n",
       " '__delattr__',\n",
       " '__dict__',\n",
       " '__dir__',\n",
       " '__doc__',\n",
       " '__eq__',\n",
       " '__firstlineno__',\n",
       " '__format__',\n",
       " '__ge__',\n",
       " '__getattr__',\n",
       " '__getattribute__',\n",
       " '__getstate__',\n",
       " '__gt__',\n",
       " '__hash__',\n",
       " '__init__',\n",
       " '__init_subclass__',\n",
       " '__le__',\n",
       " '__lt__',\n",
       " '__module__',\n",
       " '__ne__',\n",
       " '__new__',\n",
       " '__reduce__',\n",
       " '__reduce_ex__',\n",
       " '__repr__',\n",
       " '__setattr__',\n",
       " '__sizeof__',\n",
       " '__static_attributes__',\n",
       " '__str__',\n",
       " '__subclasshook__',\n",
       " '__weakref__',\n",
       " 'all',\n",
       " 'details']"
      ]
     },
     "execution_count": 9,
     "metadata": {},
     "output_type": "execute_result"
    }
   ],
   "source": [
    "dir(details)"
   ]
  },
  {
   "cell_type": "code",
   "execution_count": 10,
   "id": "035c3c44-99eb-464a-9fa0-f24a60e36e42",
   "metadata": {},
   "outputs": [
    {
     "data": {
      "text/plain": [
       "{'ip': '73.35.157.240',\n",
       " 'hostname': 'c-73-35-157-240.hsd1.wa.comcast.net',\n",
       " 'city': 'Mercer Island',\n",
       " 'region': 'Washington',\n",
       " 'country': 'US',\n",
       " 'loc': '47.5707,-122.2221',\n",
       " 'org': 'AS7922 Comcast Cable Communications, LLC',\n",
       " 'postal': '98040',\n",
       " 'timezone': 'America/Los_Angeles',\n",
       " 'country_name': 'United States',\n",
       " 'isEU': False,\n",
       " 'country_flag_url': 'https://cdn.ipinfo.io/static/images/countries-flags/US.svg',\n",
       " 'country_flag': {'emoji': '🇺🇸', 'unicode': 'U+1F1FA U+1F1F8'},\n",
       " 'country_currency': {'code': 'USD', 'symbol': '$'},\n",
       " 'continent': {'code': 'NA', 'name': 'North America'},\n",
       " 'latitude': '47.5707',\n",
       " 'longitude': '-122.2221'}"
      ]
     },
     "execution_count": 10,
     "metadata": {},
     "output_type": "execute_result"
    }
   ],
   "source": [
    "details.all"
   ]
  },
  {
   "cell_type": "code",
   "execution_count": 11,
   "id": "2e030de9-e19c-468d-8a93-31248990aacb",
   "metadata": {},
   "outputs": [
    {
     "data": {
      "text/plain": [
       "{'ip': '73.35.157.240',\n",
       " 'hostname': 'c-73-35-157-240.hsd1.wa.comcast.net',\n",
       " 'city': 'Mercer Island',\n",
       " 'region': 'Washington',\n",
       " 'country': 'US',\n",
       " 'loc': '47.5707,-122.2221',\n",
       " 'org': 'AS7922 Comcast Cable Communications, LLC',\n",
       " 'postal': '98040',\n",
       " 'timezone': 'America/Los_Angeles',\n",
       " 'country_name': 'United States',\n",
       " 'isEU': False,\n",
       " 'country_flag_url': 'https://cdn.ipinfo.io/static/images/countries-flags/US.svg',\n",
       " 'country_flag': {'emoji': '🇺🇸', 'unicode': 'U+1F1FA U+1F1F8'},\n",
       " 'country_currency': {'code': 'USD', 'symbol': '$'},\n",
       " 'continent': {'code': 'NA', 'name': 'North America'},\n",
       " 'latitude': '47.5707',\n",
       " 'longitude': '-122.2221'}"
      ]
     },
     "execution_count": 11,
     "metadata": {},
     "output_type": "execute_result"
    }
   ],
   "source": [
    "details.details"
   ]
  },
  {
   "cell_type": "code",
   "execution_count": 13,
   "id": "abe7948e-b3cb-411e-9f59-bcba1261906a",
   "metadata": {},
   "outputs": [],
   "source": [
    "from pydantic import BaseModel, condecimal, constr\n",
    "from pydantic.networks import HttpUrl, IPvAnyAddress\n",
    "\n",
    "\n",
    "class IPDetails(BaseModel):\n",
    "    ip: IPvAnyAddress\n",
    "    hostname: str | None = None\n",
    "    city: str | None = None\n",
    "    region: str | None = None\n",
    "    country: constr(pattern=r\"^[A-Z]{2}$\") | None = None\n",
    "    loc: str | None = None\n",
    "    org: str | None = None\n",
    "    postal: str | None = None\n",
    "    timezone: str | None = None\n",
    "    country_name: str | None = None\n",
    "    isEU: bool | None = None\n",
    "    country_flag_url: HttpUrl | None = None\n",
    "    country_flag: dict | None = None\n",
    "    country_currency: dict | None = None\n",
    "    continent: dict | None = None\n",
    "    latitude: condecimal(ge=-90, le=90) | None = None\n",
    "    longitude: condecimal(ge=-180, le=180) | None = None"
   ]
  },
  {
   "cell_type": "code",
   "execution_count": 21,
   "id": "fe8a5d89-7ac7-4c82-af4b-5059d4902ecc",
   "metadata": {},
   "outputs": [
    {
     "data": {
      "text/plain": [
       "IPDetails(ip=IPv4Address('73.35.157.240'), hostname='c-73-35-157-240.hsd1.wa.comcast.net', city='Mercer Island', region='Washington', country='US', loc='47.5707,-122.2221', org='AS7922 Comcast Cable Communications, LLC', postal='98040', timezone='America/Los_Angeles', country_name='United States', isEU=False, country_flag_url=HttpUrl('https://cdn.ipinfo.io/static/images/countries-flags/US.svg'), country_flag={'emoji': '🇺🇸', 'unicode': 'U+1F1FA U+1F1F8'}, country_currency={'code': 'USD', 'symbol': '$'}, continent={'code': 'NA', 'name': 'North America'}, latitude=Decimal('47.5707'), longitude=Decimal('-122.2221'))"
      ]
     },
     "execution_count": 21,
     "metadata": {},
     "output_type": "execute_result"
    }
   ],
   "source": [
    "IPDetails(**details.all)"
   ]
  },
  {
   "cell_type": "code",
   "execution_count": 17,
   "id": "f00f41bd-18ef-4edd-9f72-db62b9b93321",
   "metadata": {},
   "outputs": [
    {
     "data": {
      "text/plain": [
       "{'code': 'USD', 'symbol': '$'}"
      ]
     },
     "execution_count": 17,
     "metadata": {},
     "output_type": "execute_result"
    }
   ],
   "source": [
    "details.details[\"country_currency\"]"
   ]
  },
  {
   "cell_type": "code",
   "execution_count": 19,
   "id": "b84f4db2-0656-4ed5-aa30-8225b70a36c9",
   "metadata": {},
   "outputs": [
    {
     "data": {
      "text/plain": [
       "<ipinfo.details.Details at 0x10b10ba10>"
      ]
     },
     "execution_count": 19,
     "metadata": {},
     "output_type": "execute_result"
    }
   ],
   "source": [
    "details"
   ]
  },
  {
   "cell_type": "code",
   "execution_count": 20,
   "id": "869c226a-1b57-4644-9307-0d5c1a63f4ae",
   "metadata": {},
   "outputs": [
    {
     "data": {
      "text/plain": [
       "{'code': 'NA', 'name': 'North America'}"
      ]
     },
     "execution_count": 20,
     "metadata": {},
     "output_type": "execute_result"
    }
   ],
   "source": [
    "details.continent"
   ]
  },
  {
   "cell_type": "code",
   "execution_count": 1,
   "id": "d1c0d92b-9a2f-4d64-8fbe-bcf0cfe949fb",
   "metadata": {},
   "outputs": [],
   "source": [
    "from mcp.server.fastmcp import FastMCP"
   ]
  },
  {
   "cell_type": "code",
   "execution_count": 2,
   "id": "74a671f2-c80f-40d9-8665-37e49dea34a8",
   "metadata": {},
   "outputs": [],
   "source": [
    "mcp = FastMCP(\"testing\")"
   ]
  },
  {
   "cell_type": "code",
   "execution_count": 3,
   "id": "9889c8d5-7ae0-451f-8715-c1318b68b783",
   "metadata": {},
   "outputs": [
    {
     "data": {
      "text/plain": [
       "\u001b[0;31mSignature:\u001b[0m \u001b[0mmcp\u001b[0m\u001b[0;34m.\u001b[0m\u001b[0mtool\u001b[0m\u001b[0;34m(\u001b[0m\u001b[0mname\u001b[0m\u001b[0;34m:\u001b[0m \u001b[0mstr\u001b[0m \u001b[0;34m|\u001b[0m \u001b[0;32mNone\u001b[0m \u001b[0;34m=\u001b[0m \u001b[0;32mNone\u001b[0m\u001b[0;34m,\u001b[0m \u001b[0mdescription\u001b[0m\u001b[0;34m:\u001b[0m \u001b[0mstr\u001b[0m \u001b[0;34m|\u001b[0m \u001b[0;32mNone\u001b[0m \u001b[0;34m=\u001b[0m \u001b[0;32mNone\u001b[0m\u001b[0;34m)\u001b[0m \u001b[0;34m->\u001b[0m \u001b[0mCallable\u001b[0m\u001b[0;34m\u001b[0m\u001b[0;34m\u001b[0m\u001b[0m\n",
       "\u001b[0;31mDocstring:\u001b[0m\n",
       "Decorator to register a tool.\n",
       "\n",
       "Tools can optionally request a Context object by adding a parameter with the\n",
       "Context type annotation. The context provides access to MCP capabilities like\n",
       "logging, progress reporting, and resource access.\n",
       "\n",
       "Args:\n",
       "    name: Optional name for the tool (defaults to function name)\n",
       "    description: Optional description of what the tool does\n",
       "\n",
       "Example:\n",
       "    @server.tool()\n",
       "    def my_tool(x: int) -> str:\n",
       "        return str(x)\n",
       "\n",
       "    @server.tool()\n",
       "    def tool_with_context(x: int, ctx: Context) -> str:\n",
       "        ctx.info(f\"Processing {x}\")\n",
       "        return str(x)\n",
       "\n",
       "    @server.tool()\n",
       "    async def async_tool(x: int, context: Context) -> str:\n",
       "        await context.report_progress(50, 100)\n",
       "        return str(x)\n",
       "\u001b[0;31mFile:\u001b[0m      ~/projects/mcp-server-ipinfo/.venv/lib/python3.13/site-packages/mcp/server/fastmcp/server.py\n",
       "\u001b[0;31mType:\u001b[0m      method"
      ]
     },
     "metadata": {},
     "output_type": "display_data"
    }
   ],
   "source": [
    "?mcp.tool"
   ]
  },
  {
   "cell_type": "code",
   "execution_count": null,
   "id": "5e2e5efc-1cba-43a3-bccb-15fc21b32994",
   "metadata": {},
   "outputs": [],
   "source": []
  }
 ],
 "metadata": {
  "kernelspec": {
   "display_name": "Python 3 (ipykernel)",
   "language": "python",
   "name": "python3"
  },
  "language_info": {
   "codemirror_mode": {
    "name": "ipython",
    "version": 3
   },
   "file_extension": ".py",
   "mimetype": "text/x-python",
   "name": "python",
   "nbconvert_exporter": "python",
   "pygments_lexer": "ipython3",
   "version": "3.13.1"
  }
 },
 "nbformat": 4,
 "nbformat_minor": 5
}
