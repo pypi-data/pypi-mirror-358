{
 "cells": [
  {
   "cell_type": "markdown",
   "id": "48e29347",
   "metadata": {},
   "source": [
    "# Enhanced Table Processing\n",
    "\n",
    "Tables can appear in PDFs in wildly different ways—cleanly tagged in the PDF structure, drawn with ruling lines, or simply implied by visual spacing.  `natural-pdf` exposes several back-ends under the single method `extract_table()` so you can choose the strategy that matches your document.\n",
    "\n",
    "Below we walk through the three main options, when to reach for each one, and sample code you can adapt (replace the example PDF URLs with your own files).\n",
    "\n",
    "## 1. `method=\"pdfplumber\"`  (default)\n",
    "\n",
    "* **How it works** – delegates to pdfplumber's ruling-line heuristics; looks for vertical/horizontal lines and whitespace gutters.\n",
    "* **Best for** – digitally-born PDFs where the table grid is drawn or where columns have consistent whitespace.\n",
    "\n",
    "### Example A – Grid-based (line) detection"
   ]
  },
  {
   "cell_type": "code",
   "execution_count": 1,
   "id": "bddd5cda",
   "metadata": {
    "execution": {
     "iopub.execute_input": "2025-06-27T02:37:46.503922Z",
     "iopub.status.busy": "2025-06-27T02:37:46.503576Z",
     "iopub.status.idle": "2025-06-27T02:37:49.062535Z",
     "shell.execute_reply": "2025-06-27T02:37:49.061948Z"
    }
   },
   "outputs": [
    {
     "data": {
      "text/plain": [
       "TableResult(rows=8…)"
      ]
     },
     "execution_count": 1,
     "metadata": {},
     "output_type": "execute_result"
    }
   ],
   "source": [
    "from natural_pdf import PDF\n",
    "\n",
    "pdf = PDF(\"https://github.com/jsoma/natural-pdf/raw/refs/heads/main/pdfs/01-practice.pdf\")\n",
    "page = pdf.pages[0]\n",
    "\n",
    "# Optional fine-tuning for pdfplumber.  Typical tweaks are vertical/horizontal strategies.\n",
    "settings = {\n",
    "    \"vertical_strategy\": \"lines\",\n",
    "    \"horizontal_strategy\": \"lines\",\n",
    "    \"intersection_tolerance\": 3,\n",
    "}\n",
    "\n",
    "rows = page.extract_table(method=\"pdfplumber\", table_settings=settings)\n",
    "rows  # ▶︎ returns a list of lists"
   ]
  },
  {
   "cell_type": "markdown",
   "id": "3b25c7f1",
   "metadata": {},
   "source": [
    "Expected output: a small list of rows containing the text exactly as it appears in the digital table.\n",
    "\n",
    "### Example B – Whitespace-driven detection\n",
    "\n",
    "Sometimes a table is **drawn without ruling lines** (or the PDF stores them as thick rectangles so the line detector ignores them).  In that case you can switch both strategies to `\"text\"` so pdfplumber clusters by the gaps between words rather than relying on graphics commands:"
   ]
  },
  {
   "cell_type": "code",
   "execution_count": 2,
   "id": "aeb9693e",
   "metadata": {
    "execution": {
     "iopub.execute_input": "2025-06-27T02:37:49.065159Z",
     "iopub.status.busy": "2025-06-27T02:37:49.064836Z",
     "iopub.status.idle": "2025-06-27T02:37:49.099768Z",
     "shell.execute_reply": "2025-06-27T02:37:49.098900Z"
    }
   },
   "outputs": [],
   "source": [
    "settings_text = {\n",
    "    \"vertical_strategy\": \"text\",   # look for whitespace gutters\n",
    "    \"horizontal_strategy\": \"text\", # group into rows by vertical gaps\n",
    "    \"text_x_tolerance\": 2,          # tune for narrow columns\n",
    "    \"text_y_tolerance\": 2,\n",
    "}\n",
    "\n",
    "rows_text = page.extract_table(method=\"pdfplumber\", table_settings=settings_text)"
   ]
  },
  {
   "cell_type": "markdown",
   "id": "a6376219",
   "metadata": {},
   "source": [
    "Compare `rows_text` with the earlier `rows` list—if your PDF omits the grid, the whitespace strategy will usually outperform line-based detection.\n",
    "\n",
    "---\n",
    "\n",
    "## 2. `method=\"tatr\"`  (Table Transformer)\n",
    "\n",
    "* **How it works** – runs Microsoft's Table Transformer (LayoutLM-based) to detect tables, rows and cells visually, then reads the text inside each cell.\n",
    "* **Best for** – scanned or camera-based documents, or born-digital files where ruling lines are missing/irregular.\n",
    "* **Dependencies** – requires the **AI** extra (`pip install \"natural-pdf[ai]\"`) because it needs `torch`, `transformers`, and `torchvision`.\n",
    "\n",
    "### Example"
   ]
  },
  {
   "cell_type": "code",
   "execution_count": 3,
   "id": "6ac688d0",
   "metadata": {
    "execution": {
     "iopub.execute_input": "2025-06-27T02:37:49.102864Z",
     "iopub.status.busy": "2025-06-27T02:37:49.102573Z",
     "iopub.status.idle": "2025-06-27T02:38:21.064837Z",
     "shell.execute_reply": "2025-06-27T02:38:21.064431Z"
    }
   },
   "outputs": [
    {
     "data": {
      "application/vnd.jupyter.widget-view+json": {
       "model_id": "4541c74fc4eb40438cc12e4cf93bc689",
       "version_major": 2,
       "version_minor": 0
      },
      "text/plain": [
       "Rendering pages:   0%|          | 0/1 [00:00<?, ?it/s]"
      ]
     },
     "metadata": {},
     "output_type": "display_data"
    },
    {
     "name": "stderr",
     "output_type": "stream",
     "text": [
      "Using CPU. Note: This module is much faster with a GPU.\n"
     ]
    },
    {
     "name": "stderr",
     "output_type": "stream",
     "text": [
      "/Users/soma/Development/natural-pdf/.nox/tutorials/lib/python3.10/site-packages/torch/utils/data/dataloader.py:683: UserWarning: 'pin_memory' argument is set as true but not supported on MPS now, then device pinned memory won't be used.\n",
      "  warnings.warn(warn_msg)\n"
     ]
    },
    {
     "data": {
      "text/plain": [
       "TableResult(rows=0)"
      ]
     },
     "execution_count": 3,
     "metadata": {},
     "output_type": "execute_result"
    }
   ],
   "source": [
    "from natural_pdf import PDF\n",
    "\n",
    "pdf = PDF(\"https://github.com/jsoma/natural-pdf/raw/refs/heads/main/pdfs/needs-ocr.pdf\")\n",
    "page = pdf.pages[0]\n",
    "\n",
    "# If the page is scanned, run OCR first so each cell has text\n",
    "page.apply_ocr(engine=\"easyocr\", languages=[\"en\"], resolution=200)\n",
    "\n",
    "# Table Transformer needs the layout model; specify device if you have GPU\n",
    "rows = page.extract_table(method=\"tatr\")\n",
    "rows"
   ]
  },
  {
   "cell_type": "markdown",
   "id": "4726241f",
   "metadata": {},
   "source": [
    "Expected output: the table rows—even when the grid is just implied—arrive with text already OCR-corrected.\n",
    "\n",
    "---\n",
    "\n",
    "## 3. `method=\"text\"`  (Whitespace heuristic)\n",
    "\n",
    "* **How it works** – groups words into lines, then uses whitespace clustering (Jenks breaks) to infer columns; no layout model.\n",
    "* **Best for** – simple, left-aligned tables with consistent columns but no ruling lines; fastest option.\n",
    "\n",
    "### Example"
   ]
  },
  {
   "cell_type": "code",
   "execution_count": 4,
   "id": "1cf1c783",
   "metadata": {
    "execution": {
     "iopub.execute_input": "2025-06-27T02:38:21.066861Z",
     "iopub.status.busy": "2025-06-27T02:38:21.066433Z",
     "iopub.status.idle": "2025-06-27T02:38:21.068914Z",
     "shell.execute_reply": "2025-06-27T02:38:21.068387Z"
    }
   },
   "outputs": [],
   "source": [
    "# from natural_pdf import PDF\n",
    "\n",
    "# pdf = PDF(\"https://github.com/jsoma/natural-pdf/raw/refs/heads/main/pdfs/whitespace-table.pdf\")\n",
    "# page = pdf.pages[0]\n",
    "\n",
    "# rows = page.extract_table(method=\"text\", table_settings={\"min_words_horizontal\": 2})\n",
    "# for row in rows:\n",
    "#     print(row)"
   ]
  },
  {
   "cell_type": "markdown",
   "id": "339cc36a",
   "metadata": {},
   "source": [
    "Expected output: printed rows that roughly match the visual columns; best effort on ragged layouts.\n",
    "\n",
    "---\n",
    "\n",
    "## 4. Lines-first workflow (when pdfplumber misses rows/cols)\n",
    "\n",
    "If `method=\"pdfplumber\"` cannot find the grid, detect lines explicitly and build the table structure yourself."
   ]
  },
  {
   "cell_type": "code",
   "execution_count": 5,
   "id": "7cd9fddd",
   "metadata": {
    "execution": {
     "iopub.execute_input": "2025-06-27T02:38:21.071605Z",
     "iopub.status.busy": "2025-06-27T02:38:21.071438Z",
     "iopub.status.idle": "2025-06-27T02:38:22.776627Z",
     "shell.execute_reply": "2025-06-27T02:38:22.776210Z"
    }
   },
   "outputs": [],
   "source": [
    "from natural_pdf.analyzers import Guides\n",
    "\n",
    "page.detect_lines(resolution=200, source_label=\"detected\", horizontal=True, vertical=True)\n",
    "\n",
    "# (Optional) visual check\n",
    "page.find_all(\"line[source=detected]\").show(group_by=\"orientation\")\n",
    "\n",
    "# Convert lines → regions using Guides\n",
    "guides = Guides.from_lines(page, source_label=\"detected\")\n",
    "guides.build_grid(source=\"detected\", cell_padding=0.5)\n",
    "\n",
    "table = page.find(\"region[type='table']\")"
   ]
  },
  {
   "cell_type": "markdown",
   "id": "ab56bece",
   "metadata": {},
   "source": [
    "---\n",
    "\n",
    "## TODO\n",
    "\n",
    "* Provide a benchmark matrix of speed vs. accuracy for the three methods.\n",
    "* Add a snippet showing how to export cell regions directly to a pandas **DataFrame**.\n",
    "* Document edge-cases: rotated tables, merged cells, or header repetition across pages.\n",
    "* Include guidance on mixing methods—e.g., run `detect_lines` first, fall back to `text` for cells lacking grid."
   ]
  }
 ],
 "metadata": {
  "jupytext": {
   "cell_metadata_filter": "-all",
   "main_language": "python",
   "notebook_metadata_filter": "-all",
   "text_representation": {
    "extension": ".md",
    "format_name": "markdown"
   }
  },
  "language_info": {
   "codemirror_mode": {
    "name": "ipython",
    "version": 3
   },
   "file_extension": ".py",
   "mimetype": "text/x-python",
   "name": "python",
   "nbconvert_exporter": "python",
   "pygments_lexer": "ipython3",
   "version": "3.10.13"
  },
  "widgets": {
   "application/vnd.jupyter.widget-state+json": {
    "state": {
     "00024b8bd60e464f8090869292a56c43": {
      "model_module": "@jupyter-widgets/controls",
      "model_module_version": "2.0.0",
      "model_name": "HTMLModel",
      "state": {
       "_dom_classes": [],
       "_model_module": "@jupyter-widgets/controls",
       "_model_module_version": "2.0.0",
       "_model_name": "HTMLModel",
       "_view_count": null,
       "_view_module": "@jupyter-widgets/controls",
       "_view_module_version": "2.0.0",
       "_view_name": "HTMLView",
       "description": "",
       "description_allow_html": false,
       "layout": "IPY_MODEL_79b85061a9e74b5dad08d64250ecc400",
       "placeholder": "​",
       "style": "IPY_MODEL_1e5736d672d64be7b77df92ef03a2672",
       "tabbable": null,
       "tooltip": null,
       "value": " 1/1 [00:00&lt;00:00,  1.83it/s]"
      }
     },
     "0fba8bba5b204f9fb827cc1659a29277": {
      "model_module": "@jupyter-widgets/controls",
      "model_module_version": "2.0.0",
      "model_name": "FloatProgressModel",
      "state": {
       "_dom_classes": [],
       "_model_module": "@jupyter-widgets/controls",
       "_model_module_version": "2.0.0",
       "_model_name": "FloatProgressModel",
       "_view_count": null,
       "_view_module": "@jupyter-widgets/controls",
       "_view_module_version": "2.0.0",
       "_view_name": "ProgressView",
       "bar_style": "",
       "description": "",
       "description_allow_html": false,
       "layout": "IPY_MODEL_3d1daf877f434bb99e7ffcce6c612de7",
       "max": 1.0,
       "min": 0.0,
       "orientation": "horizontal",
       "style": "IPY_MODEL_2cd1872aee0044c29674d8d4a856c8c7",
       "tabbable": null,
       "tooltip": null,
       "value": 1.0
      }
     },
     "1e5736d672d64be7b77df92ef03a2672": {
      "model_module": "@jupyter-widgets/controls",
      "model_module_version": "2.0.0",
      "model_name": "HTMLStyleModel",
      "state": {
       "_model_module": "@jupyter-widgets/controls",
       "_model_module_version": "2.0.0",
       "_model_name": "HTMLStyleModel",
       "_view_count": null,
       "_view_module": "@jupyter-widgets/base",
       "_view_module_version": "2.0.0",
       "_view_name": "StyleView",
       "background": null,
       "description_width": "",
       "font_size": null,
       "text_color": null
      }
     },
     "2cd1872aee0044c29674d8d4a856c8c7": {
      "model_module": "@jupyter-widgets/controls",
      "model_module_version": "2.0.0",
      "model_name": "ProgressStyleModel",
      "state": {
       "_model_module": "@jupyter-widgets/controls",
       "_model_module_version": "2.0.0",
       "_model_name": "ProgressStyleModel",
       "_view_count": null,
       "_view_module": "@jupyter-widgets/base",
       "_view_module_version": "2.0.0",
       "_view_name": "StyleView",
       "bar_color": null,
       "description_width": ""
      }
     },
     "3d1daf877f434bb99e7ffcce6c612de7": {
      "model_module": "@jupyter-widgets/base",
      "model_module_version": "2.0.0",
      "model_name": "LayoutModel",
      "state": {
       "_model_module": "@jupyter-widgets/base",
       "_model_module_version": "2.0.0",
       "_model_name": "LayoutModel",
       "_view_count": null,
       "_view_module": "@jupyter-widgets/base",
       "_view_module_version": "2.0.0",
       "_view_name": "LayoutView",
       "align_content": null,
       "align_items": null,
       "align_self": null,
       "border_bottom": null,
       "border_left": null,
       "border_right": null,
       "border_top": null,
       "bottom": null,
       "display": null,
       "flex": null,
       "flex_flow": null,
       "grid_area": null,
       "grid_auto_columns": null,
       "grid_auto_flow": null,
       "grid_auto_rows": null,
       "grid_column": null,
       "grid_gap": null,
       "grid_row": null,
       "grid_template_areas": null,
       "grid_template_columns": null,
       "grid_template_rows": null,
       "height": null,
       "justify_content": null,
       "justify_items": null,
       "left": null,
       "margin": null,
       "max_height": null,
       "max_width": null,
       "min_height": null,
       "min_width": null,
       "object_fit": null,
       "object_position": null,
       "order": null,
       "overflow": null,
       "padding": null,
       "right": null,
       "top": null,
       "visibility": null,
       "width": null
      }
     },
     "3dd3e5b1eb574d6189eb0a4d2f00cdeb": {
      "model_module": "@jupyter-widgets/base",
      "model_module_version": "2.0.0",
      "model_name": "LayoutModel",
      "state": {
       "_model_module": "@jupyter-widgets/base",
       "_model_module_version": "2.0.0",
       "_model_name": "LayoutModel",
       "_view_count": null,
       "_view_module": "@jupyter-widgets/base",
       "_view_module_version": "2.0.0",
       "_view_name": "LayoutView",
       "align_content": null,
       "align_items": null,
       "align_self": null,
       "border_bottom": null,
       "border_left": null,
       "border_right": null,
       "border_top": null,
       "bottom": null,
       "display": null,
       "flex": null,
       "flex_flow": null,
       "grid_area": null,
       "grid_auto_columns": null,
       "grid_auto_flow": null,
       "grid_auto_rows": null,
       "grid_column": null,
       "grid_gap": null,
       "grid_row": null,
       "grid_template_areas": null,
       "grid_template_columns": null,
       "grid_template_rows": null,
       "height": null,
       "justify_content": null,
       "justify_items": null,
       "left": null,
       "margin": null,
       "max_height": null,
       "max_width": null,
       "min_height": null,
       "min_width": null,
       "object_fit": null,
       "object_position": null,
       "order": null,
       "overflow": null,
       "padding": null,
       "right": null,
       "top": null,
       "visibility": "hidden",
       "width": null
      }
     },
     "4541c74fc4eb40438cc12e4cf93bc689": {
      "model_module": "@jupyter-widgets/controls",
      "model_module_version": "2.0.0",
      "model_name": "HBoxModel",
      "state": {
       "_dom_classes": [],
       "_model_module": "@jupyter-widgets/controls",
       "_model_module_version": "2.0.0",
       "_model_name": "HBoxModel",
       "_view_count": null,
       "_view_module": "@jupyter-widgets/controls",
       "_view_module_version": "2.0.0",
       "_view_name": "HBoxView",
       "box_style": "",
       "children": [
        "IPY_MODEL_7bf1932b71c047e08e9781787743bd88",
        "IPY_MODEL_0fba8bba5b204f9fb827cc1659a29277",
        "IPY_MODEL_00024b8bd60e464f8090869292a56c43"
       ],
       "layout": "IPY_MODEL_3dd3e5b1eb574d6189eb0a4d2f00cdeb",
       "tabbable": null,
       "tooltip": null
      }
     },
     "6dd29f8befc543aab19afd76df2d1d27": {
      "model_module": "@jupyter-widgets/controls",
      "model_module_version": "2.0.0",
      "model_name": "HTMLStyleModel",
      "state": {
       "_model_module": "@jupyter-widgets/controls",
       "_model_module_version": "2.0.0",
       "_model_name": "HTMLStyleModel",
       "_view_count": null,
       "_view_module": "@jupyter-widgets/base",
       "_view_module_version": "2.0.0",
       "_view_name": "StyleView",
       "background": null,
       "description_width": "",
       "font_size": null,
       "text_color": null
      }
     },
     "79b85061a9e74b5dad08d64250ecc400": {
      "model_module": "@jupyter-widgets/base",
      "model_module_version": "2.0.0",
      "model_name": "LayoutModel",
      "state": {
       "_model_module": "@jupyter-widgets/base",
       "_model_module_version": "2.0.0",
       "_model_name": "LayoutModel",
       "_view_count": null,
       "_view_module": "@jupyter-widgets/base",
       "_view_module_version": "2.0.0",
       "_view_name": "LayoutView",
       "align_content": null,
       "align_items": null,
       "align_self": null,
       "border_bottom": null,
       "border_left": null,
       "border_right": null,
       "border_top": null,
       "bottom": null,
       "display": null,
       "flex": null,
       "flex_flow": null,
       "grid_area": null,
       "grid_auto_columns": null,
       "grid_auto_flow": null,
       "grid_auto_rows": null,
       "grid_column": null,
       "grid_gap": null,
       "grid_row": null,
       "grid_template_areas": null,
       "grid_template_columns": null,
       "grid_template_rows": null,
       "height": null,
       "justify_content": null,
       "justify_items": null,
       "left": null,
       "margin": null,
       "max_height": null,
       "max_width": null,
       "min_height": null,
       "min_width": null,
       "object_fit": null,
       "object_position": null,
       "order": null,
       "overflow": null,
       "padding": null,
       "right": null,
       "top": null,
       "visibility": null,
       "width": null
      }
     },
     "7bf1932b71c047e08e9781787743bd88": {
      "model_module": "@jupyter-widgets/controls",
      "model_module_version": "2.0.0",
      "model_name": "HTMLModel",
      "state": {
       "_dom_classes": [],
       "_model_module": "@jupyter-widgets/controls",
       "_model_module_version": "2.0.0",
       "_model_name": "HTMLModel",
       "_view_count": null,
       "_view_module": "@jupyter-widgets/controls",
       "_view_module_version": "2.0.0",
       "_view_name": "HTMLView",
       "description": "",
       "description_allow_html": false,
       "layout": "IPY_MODEL_e3134402fdb843f1aae96feb5b410f8c",
       "placeholder": "​",
       "style": "IPY_MODEL_6dd29f8befc543aab19afd76df2d1d27",
       "tabbable": null,
       "tooltip": null,
       "value": "Rendering pages: 100%"
      }
     },
     "e3134402fdb843f1aae96feb5b410f8c": {
      "model_module": "@jupyter-widgets/base",
      "model_module_version": "2.0.0",
      "model_name": "LayoutModel",
      "state": {
       "_model_module": "@jupyter-widgets/base",
       "_model_module_version": "2.0.0",
       "_model_name": "LayoutModel",
       "_view_count": null,
       "_view_module": "@jupyter-widgets/base",
       "_view_module_version": "2.0.0",
       "_view_name": "LayoutView",
       "align_content": null,
       "align_items": null,
       "align_self": null,
       "border_bottom": null,
       "border_left": null,
       "border_right": null,
       "border_top": null,
       "bottom": null,
       "display": null,
       "flex": null,
       "flex_flow": null,
       "grid_area": null,
       "grid_auto_columns": null,
       "grid_auto_flow": null,
       "grid_auto_rows": null,
       "grid_column": null,
       "grid_gap": null,
       "grid_row": null,
       "grid_template_areas": null,
       "grid_template_columns": null,
       "grid_template_rows": null,
       "height": null,
       "justify_content": null,
       "justify_items": null,
       "left": null,
       "margin": null,
       "max_height": null,
       "max_width": null,
       "min_height": null,
       "min_width": null,
       "object_fit": null,
       "object_position": null,
       "order": null,
       "overflow": null,
       "padding": null,
       "right": null,
       "top": null,
       "visibility": null,
       "width": null
      }
     }
    },
    "version_major": 2,
    "version_minor": 0
   }
  }
 },
 "nbformat": 4,
 "nbformat_minor": 5
}