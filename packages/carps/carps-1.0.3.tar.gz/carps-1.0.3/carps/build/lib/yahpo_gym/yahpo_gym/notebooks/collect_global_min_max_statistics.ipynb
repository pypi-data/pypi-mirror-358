{
 "cells": [
  {
   "cell_type": "markdown",
   "id": "374b3070",
   "metadata": {},
   "source": [
    "# Finding the Minimum and Maximum of all YAHPO instances"
   ]
  },
  {
   "cell_type": "code",
   "execution_count": 1,
   "id": "92e43751-a955-4398-a1b0-a7aa187eb877",
   "metadata": {},
   "outputs": [],
   "source": [
    "# Prepare a data frame with all the min/max values and all instances\n",
    "\n",
    "import pandas as pd\n",
    "from yahpo_gym import benchmark_set\n",
    "from yahpo_gym.configuration import list_scenarios\n",
    "scns = list_scenarios()\n",
    "\n",
    "dfs = []\n",
    "for sc in scns:\n",
    "    bench = benchmark_set.BenchmarkSet(sc)\n",
    "    dfs += [pd.DataFrame({\n",
    "        \"scenario\": sc,\n",
    "        \"instance\": bench.instances if bench.instances is not None else \"\"\n",
    "    })]\n",
    "\n",
    "df = pd.concat(dfs)"
   ]
  },
  {
   "cell_type": "code",
   "execution_count": 17,
   "id": "58cc7007",
   "metadata": {},
   "outputs": [],
   "source": [
    "def get_min_max_rs(row, bs=10000, iters=50):\n",
    "    res = []\n",
    "    for _ in range(iters):\n",
    "        # Set up the surrogate\n",
    "        bench = benchmark_set.BenchmarkSet(row.scenario)\n",
    "        if row.scenario != \"nb301\":\n",
    "            bench.set_instance(row.instance)\n",
    "        # Sample batch size configurations & evaluate\n",
    "        value = bench.config_space.sample_configuration(bs)\n",
    "        xs = bench.objective_function(value)\n",
    "        tmp = pd.DataFrame(xs).apply([min,max]).rename_axis(\"statistic\").reset_index().melt(id_vars='statistic', var_name='metric')\n",
    "        res += [tmp]\n",
    "    all = pd.concat(res, ignore_index=True)\n",
    "\n",
    "    df = pd.concat([\n",
    "        all[all.statistic==\"min\"].groupby(['metric', 'statistic']).apply(\"min\"),\n",
    "        all[all.statistic==\"max\"].groupby(['metric', 'statistic']).apply(\"max\")\n",
    "    ])\n",
    "    df['scenario'] = row.scenario\n",
    "    df['instance'] = row.instance\n",
    "    df.to_csv('yahpo_min_max.csv', mode='a', header=False)\n",
    "    return \"procced\"\n",
    "    \n",
    "# Header:\n",
    "# metric,statistic,value,scenario,instance"
   ]
  },
  {
   "cell_type": "code",
   "execution_count": 18,
   "id": "d33fb079",
   "metadata": {},
   "outputs": [],
   "source": [
    "import dask\n",
    "from dask.distributed import Client, progress\n",
    "from dask.diagnostics import ProgressBar\n",
    "done = pd.read_csv('yahpo_min_max.csv')\n",
    "\n",
    "client = Client(threads_per_worker=1, n_workers=6)\n",
    "procd = []\n",
    "\n",
    "for _, rw in df.iterrows():\n",
    "   # Only run instances that were not run before\n",
    "   if len(done[(done.scenario == rw.scenario) & (done.instance == rw.instance)]) == 0:\n",
    "      procd.append(dask.delayed(get_min_max_rs)(rw))\n",
    "\n",
    "with ProgressBar():\n",
    "    dask.compute(*procd)"
   ]
  }
 ],
 "metadata": {
  "kernelspec": {
   "display_name": "Python 3.9.13 ('autoglue')",
   "language": "python",
   "name": "python3"
  },
  "language_info": {
   "codemirror_mode": {
    "name": "ipython",
    "version": 3
   },
   "file_extension": ".py",
   "mimetype": "text/x-python",
   "name": "python",
   "nbconvert_exporter": "python",
   "pygments_lexer": "ipython3",
   "version": "3.9.13"
  },
  "vscode": {
   "interpreter": {
    "hash": "8a81a92907c7074919594f2ef1b55747da2a8d1085c7203e69707c806e781e79"
   }
  }
 },
 "nbformat": 4,
 "nbformat_minor": 5
}
