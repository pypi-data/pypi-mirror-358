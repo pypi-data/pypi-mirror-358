{
 "cells": [
  {
   "cell_type": "markdown",
   "metadata": {},
   "source": [
    "# Using YAHPO Gym: A quick introduction\n",
    "\n",
    "With YAHPO Gym we can benchmark a new hyperparameter optimization method on a large amount of problems in a very short time-frame.\n",
    "\n",
    "This tutorial walks us through the core concepts and functionality of `yahpo_gym` and showcases a practical example.\n",
    "\n",
    "YAHPO Gym consists of several collections of `instances`, so-called `scenarios`.\n",
    "\n",
    "The `instances` within a `scenario` reflect different datasets on which hyperparameter optimization is performed on, but share the same hyperparameter optimization task. Thus, they share the same search space and the same targets.\n",
    "\n",
    "To provide a more concrete example, the collection of all instances in `\"lcbench\"` is a `scenario`,\n",
    "while a single task (e.g. task `\"3945\"`) is called an `instance`.\n",
    "\n",
    "An `instance` thus defines a single HPO problem for a given ML algorithm and task."
   ]
  },
  {
   "cell_type": "markdown",
   "metadata": {},
   "source": [
    "## Core functionality: BenchmarkSet\n",
    "A `BenchmarkSet` can be instantiated using a `scenario` and an `instance`. \n",
    "\n",
    "It contains all logic required to evaluate the surrogate mdoel for a fiven hyperparameter configuration.\n"
   ]
  },
  {
   "cell_type": "code",
   "execution_count": 1,
   "metadata": {},
   "outputs": [],
   "source": [
    "from yahpo_gym import *\n",
    "b = BenchmarkSet(scenario=\"lcbench\")"
   ]
  },
  {
   "cell_type": "markdown",
   "metadata": {},
   "source": [
    "This allows us to query several important properties of the benchmark problem:\n",
    "\n",
    "- scenario : The scenario f the configuration\n",
    "- y_names  : The names of the target variables included in the surrogate model\n",
    "- hp_names: The names of all hyperparameters\n",
    "- cat_names : The names of categorical hyperparameters\n",
    "- cont_names  :  The names of continuous hyperparameters\n",
    "- fidelity_params  : The name of the fidelity parameter(s)\n",
    "- instance_names : The column pertaining to the available instances in a dataset\n",
    "- runtime_name : The name of parameters remeasuring runtime of  the model. \n",
    "- data : A `pandas` `DataFrame` containing the data used to train the surrogates. Only available if the data was downloaded."
   ]
  },
  {
   "cell_type": "code",
   "execution_count": 5,
   "metadata": {},
   "outputs": [
    {
     "data": {
      "text/plain": [
       "['time',\n",
       " 'val_accuracy',\n",
       " 'val_cross_entropy',\n",
       " 'val_balanced_accuracy',\n",
       " 'test_cross_entropy',\n",
       " 'test_balanced_accuracy']"
      ]
     },
     "execution_count": 5,
     "metadata": {},
     "output_type": "execute_result"
    }
   ],
   "source": [
    "# We can for example query the target outputs of our surrogate:\n",
    "b.targets"
   ]
  },
  {
   "cell_type": "code",
   "execution_count": 2,
   "metadata": {},
   "outputs": [
    {
     "data": {
      "text/plain": [
       "['3945',\n",
       " '7593',\n",
       " '34539',\n",
       " '126025',\n",
       " '126026',\n",
       " '126029',\n",
       " '146212',\n",
       " '167083',\n",
       " '167104',\n",
       " '167149',\n",
       " '167152',\n",
       " '167161',\n",
       " '167168',\n",
       " '167181',\n",
       " '167184',\n",
       " '167185',\n",
       " '167190',\n",
       " '167200',\n",
       " '167201',\n",
       " '168329',\n",
       " '168330',\n",
       " '168331',\n",
       " '168335',\n",
       " '168868',\n",
       " '168908',\n",
       " '168910',\n",
       " '189354',\n",
       " '189862',\n",
       " '189865',\n",
       " '189866',\n",
       " '189873',\n",
       " '189905',\n",
       " '189906',\n",
       " '189908',\n",
       " '189909']"
      ]
     },
     "execution_count": 2,
     "metadata": {},
     "output_type": "execute_result"
    }
   ],
   "source": [
    "# Or the available instances:\n",
    "b.instances"
   ]
  },
  {
   "cell_type": "markdown",
   "metadata": {},
   "source": [
    "A list of all available scenarios can be obtained using `list_scenarios()`:"
   ]
  },
  {
   "cell_type": "code",
   "execution_count": 3,
   "metadata": {},
   "outputs": [
    {
     "data": {
      "text/plain": [
       "['lcbench',\n",
       " 'fcnet',\n",
       " 'nb301',\n",
       " 'rbv2_svm',\n",
       " 'rbv2_ranger',\n",
       " 'rbv2_rpart',\n",
       " 'rbv2_glmnet',\n",
       " 'rbv2_xgboost',\n",
       " 'rbv2_aknn',\n",
       " 'rbv2_super',\n",
       " 'iaml_ranger',\n",
       " 'iaml_rpart',\n",
       " 'iaml_glmnet',\n",
       " 'iaml_xgboost',\n",
       " 'iaml_super']"
      ]
     },
     "execution_count": 3,
     "metadata": {},
     "output_type": "execute_result"
    }
   ],
   "source": [
    "list_scenarios()"
   ]
  },
  {
   "cell_type": "markdown",
   "metadata": {},
   "source": [
    "We can now set an instance, this defines the instance (i.e. concrete dataset) to be evaluated.\n",
    "\n",
    "We can furthermore obtain the search space (a `ConfigSpace`) using `get_opt_space()`.\n",
    "\n",
    "Sample a concrete configuration and evaluate it using `objective_function`."
   ]
  },
  {
   "cell_type": "code",
   "execution_count": 4,
   "metadata": {},
   "outputs": [
    {
     "data": {
      "text/plain": [
       "[{'time': 10.814257,\n",
       "  'val_accuracy': 78.32861,\n",
       "  'val_cross_entropy': 0.62682784,\n",
       "  'val_balanced_accuracy': 0.59657735,\n",
       "  'test_cross_entropy': 0.5863595,\n",
       "  'test_balanced_accuracy': 0.59338015}]"
      ]
     },
     "execution_count": 4,
     "metadata": {},
     "output_type": "execute_result"
    }
   ],
   "source": [
    "# Set an instance\n",
    "b.set_instance(\"3945\")\n",
    "# Sample a point from the configspace\n",
    "xs = b.get_opt_space().sample_configuration(1)\n",
    "# Evaluate the configurattion\n",
    "b.objective_function(xs)"
   ]
  },
  {
   "cell_type": "markdown",
   "metadata": {},
   "source": [
    "The input to `objective_function` can be a `Dictionary` or a `ConfigSpace.Configuration`:"
   ]
  },
  {
   "cell_type": "code",
   "execution_count": 5,
   "metadata": {},
   "outputs": [
    {
     "data": {
      "text/plain": [
       "Configuration:\n",
       "  OpenML_task_id, Constant: '3945'\n",
       "  batch_size, Value: 171\n",
       "  epoch, Value: 17\n",
       "  learning_rate, Value: 0.00048312752361389624\n",
       "  max_dropout, Value: 0.7456459659315888\n",
       "  max_units, Value: 157.55779409778975\n",
       "  momentum, Value: 0.11712091337258465\n",
       "  num_layers, Value: 2\n",
       "  weight_decay, Value: 0.03826906311299458"
      ]
     },
     "execution_count": 5,
     "metadata": {},
     "output_type": "execute_result"
    }
   ],
   "source": [
    "xs"
   ]
  },
  {
   "cell_type": "markdown",
   "metadata": {},
   "source": [
    "## Setup (One Time)\n",
    "\n",
    "Before first use, `yahpo_gym` requires a simple one-time setup step to\n",
    "download all meta-data required for prediction using surrogates.\n",
    "\n",
    "This **metadata** can be downloaded (or cloned) from GitHub:\n",
    "(https://github.com/slds-lmu/yahpo_data)\n",
    "\n",
    "Once downloaded, we can run the chunk below to set up the path to the downloaded metadata.\n",
    "The following chunk assumes, you downloaded the **metadata** to the \"~/yahpo_data\" directory."
   ]
  },
  {
   "cell_type": "code",
   "execution_count": 17,
   "metadata": {},
   "outputs": [],
   "source": [
    "# Initialize the local config & set path for surrogates and metadata\n",
    "from yahpo_gym import local_config\n",
    "local_config.init_config()\n",
    "local_config.set_data_path(\"~/yahpo_data\")"
   ]
  },
  {
   "cell_type": "markdown",
   "metadata": {},
   "source": [
    "## Separate Fidelity Space\n",
    "For some scenarios we require the search space / configuration without\n",
    "the *fidelity parameters*. \n",
    "This can be achieved using `drop_fidelity_params':"
   ]
  },
  {
   "cell_type": "code",
   "execution_count": 10,
   "metadata": {},
   "outputs": [],
   "source": [
    "b = BenchmarkSet(\"lcbench\", instance = \"3945\")\n",
    "# Sample a point from the configspace\n",
    "xs = b.get_opt_space(drop_fidelity_params=True).sample_configuration(1)"
   ]
  },
  {
   "cell_type": "code",
   "execution_count": 11,
   "metadata": {},
   "outputs": [
    {
     "data": {
      "text/plain": [
       "Configuration:\n",
       "  OpenML_task_id, Constant: '3945'\n",
       "  batch_size, Value: 33\n",
       "  learning_rate, Value: 0.08676686454385556\n",
       "  max_dropout, Value: 0.6256452001406675\n",
       "  max_units, Value: 644.4361804106277\n",
       "  momentum, Value: 0.5468432946724163\n",
       "  num_layers, Value: 1\n",
       "  weight_decay, Value: 0.08029711547491447"
      ]
     },
     "execution_count": 11,
     "metadata": {},
     "output_type": "execute_result"
    }
   ],
   "source": [
    "# Drop the fidelity param 'epoch':\n",
    "xs"
   ]
  },
  {
   "cell_type": "code",
   "execution_count": 12,
   "metadata": {},
   "outputs": [
    {
     "data": {
      "text/plain": [
       "{'OpenML_task_id': '3945',\n",
       " 'batch_size': 33,\n",
       " 'learning_rate': 0.08676686454385556,\n",
       " 'max_dropout': 0.6256452001406675,\n",
       " 'max_units': 644.4361804106277,\n",
       " 'momentum': 0.5468432946724163,\n",
       " 'num_layers': 1,\n",
       " 'weight_decay': 0.08029711547491447,\n",
       " 'epoch': 52}"
      ]
     },
     "execution_count": 12,
     "metadata": {},
     "output_type": "execute_result"
    }
   ],
   "source": [
    "# Convert to dictionary and add epoch\n",
    "xs = xs.get_dictionary()\n",
    "xs.update({'epoch':52})\n",
    "xs"
   ]
  },
  {
   "cell_type": "code",
   "execution_count": 13,
   "metadata": {},
   "outputs": [
    {
     "data": {
      "text/plain": [
       "[{'time': 529.00366,\n",
       "  'val_accuracy': 95.132614,\n",
       "  'val_cross_entropy': 0.49781695,\n",
       "  'val_balanced_accuracy': 0.8299375,\n",
       "  'test_cross_entropy': 0.50857186,\n",
       "  'test_balanced_accuracy': 0.82421905}]"
      ]
     },
     "execution_count": 13,
     "metadata": {},
     "output_type": "execute_result"
    }
   ],
   "source": [
    "b.objective_function(xs)"
   ]
  }
 ],
 "metadata": {
  "interpreter": {
   "hash": "b3cdc79f509a9ca6cc625385dfd789e9f9f8ab6d1f415976660039c24316de9a"
  },
  "kernelspec": {
   "display_name": "Python 3 (ipykernel)",
   "language": "python",
   "name": "python3"
  },
  "language_info": {
   "codemirror_mode": {
    "name": "ipython",
    "version": 3
   },
   "file_extension": ".py",
   "mimetype": "text/x-python",
   "name": "python",
   "nbconvert_exporter": "python",
   "pygments_lexer": "ipython3",
   "version": "3.10.4"
  }
 },
 "nbformat": 4,
 "nbformat_minor": 2
}
