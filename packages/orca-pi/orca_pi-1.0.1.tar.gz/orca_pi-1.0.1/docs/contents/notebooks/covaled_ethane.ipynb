{
 "cells": [
  {
   "cell_type": "markdown",
   "id": "2887ae18",
   "metadata": {},
   "source": [
    "# CovaLED Analysis\n",
    "\n",
    "This tutorial demonstrates how to use ORCA together with the ORCA python interface (OPI) to perform a **[Local Energy Decomposition (LED)](https://doi.org/10.1021/acs.jctc.6b00523)** analysis to decompose the interaction energy of a non-covalent host-guest complex. The subsystems are decomposed into fragments bound by covalent bonds which is possible due to the CovaLED. Additionally, post-processing for the **[fragment-pairwise LED (fp-LED)](https://doi.org/10.1002/anie.202421922)** is performed, which allows the decomposition of interaction energies in exclusively pair-wise contributions.\n",
    "\n",
    "In this notebook we will:\n",
    "1.  Import the required python dependencies.\n",
    "2.  Define a working directory.\n",
    "3.  Set up a host&ndash;guest input structure for our calculation.\n",
    "4.  Run an LED calculation for the complete system.\n",
    "5.  Assign a host and a guest automatically.\n",
    "6.  Run the calculations for host and guest.\n",
    "7.  Perform post-processing for the standard LED.\n",
    "8.  Perform post-processing for the fp-LED.\n",
    "9.  Gather the results in pandas dataframes.\n",
    "10. Visualize the LED interactions with heatmaps.\n",
    "11. Interpretation of the results."
   ]
  },
  {
   "cell_type": "markdown",
   "id": "0e7b75a9",
   "metadata": {},
   "source": [
    "## Step 1: Import Dependencies\n",
    "\n",
    "We start by importing the modules needed for:\n",
    "- Interfacing with ORCA input/output\n",
    "- Numerical calculations and data handling\n",
    "- Plotting results\n",
    "\n",
    "> **Note:** We additionally import modules for visualization/plotting like `py3Dmol`. For this, it might be necessary to install `py3Dmol` into your OPI `venv` (e.g., by activating the `.venv` and using `uv pip install py3Dmol`)."
   ]
  },
  {
   "cell_type": "code",
   "execution_count": 1,
   "id": "78657414",
   "metadata": {},
   "outputs": [],
   "source": [
    "from pathlib import Path\n",
    "import shutil\n",
    "\n",
    "# > pandas and numpy for data handling\n",
    "import pandas as pd\n",
    "import numpy as np\n",
    "\n",
    "# > OPI imports for performing ORCA calculations and reading output\n",
    "from opi.core import Calculator\n",
    "from opi.output.core import Output\n",
    "from opi.input.simple_keywords import BasisSet, Dlpno, \\\n",
    "    Scf, AuxBasisSet, Approximation, Wft\n",
    "from opi.input.structures.structure import Structure\n",
    "\n",
    "# > Imports for plotting results visualization of molecules\n",
    "import matplotlib.pyplot as plt\n",
    "import seaborn as sns\n",
    "import py3Dmol"
   ]
  },
  {
   "cell_type": "markdown",
   "id": "28791864",
   "metadata": {},
   "source": [
    "## Step 2: Working Directory and Conversion Factor\n",
    "\n",
    "We define a subfolder `RUN` in which the actual ORCA calculations will take place. Also, we define a conversion factor, since we want the resulting interaction energies in kcal/mol for better interpretability."
   ]
  },
  {
   "cell_type": "code",
   "execution_count": null,
   "id": "3e349fdf",
   "metadata": {},
   "outputs": [],
   "source": [
    "# > Calculation is performed in `RUN`\n",
    "working_dir = Path(\"RUN\")\n",
    "# > The `working_dir`is automatically (re-)created\n",
    "shutil.rmtree(working_dir, ignore_errors=True)\n",
    "working_dir.mkdir()\n",
    "# > Conversion factor for atomic units to kcal/mol\n",
    "unit_conversion = 627.509 "
   ]
  },
  {
   "cell_type": "markdown",
   "id": "5f638574",
   "metadata": {},
   "source": [
    "## Step 3: Setup the Input Structure\n",
    "\n",
    "As an example, we will take a simple ethane dimer. The 3D structure in Cartesian coordinates is defined and visualized:\n"
   ]
  },
  {
   "cell_type": "code",
   "execution_count": 3,
   "id": "61fac6de",
   "metadata": {},
   "outputs": [
    {
     "data": {
      "application/3dmoljs_load.v0": "<div id=\"3dmolviewer_17500541423399923\"  style=\"position: relative; width: 400px; height: 400px;\">\n        <p id=\"3dmolwarning_17500541423399923\" style=\"background-color:#ffcccc;color:black\">3Dmol.js failed to load for some reason.  Please check your browser console for error messages.<br></p>\n        </div>\n<script>\n\nvar loadScriptAsync = function(uri){\n  return new Promise((resolve, reject) => {\n    //this is to ignore the existence of requirejs amd\n    var savedexports, savedmodule;\n    if (typeof exports !== 'undefined') savedexports = exports;\n    else exports = {}\n    if (typeof module !== 'undefined') savedmodule = module;\n    else module = {}\n\n    var tag = document.createElement('script');\n    tag.src = uri;\n    tag.async = true;\n    tag.onload = () => {\n        exports = savedexports;\n        module = savedmodule;\n        resolve();\n    };\n  var firstScriptTag = document.getElementsByTagName('script')[0];\n  firstScriptTag.parentNode.insertBefore(tag, firstScriptTag);\n});\n};\n\nif(typeof $3Dmolpromise === 'undefined') {\n$3Dmolpromise = null;\n  $3Dmolpromise = loadScriptAsync('https://cdn.jsdelivr.net/npm/3dmol@2.5.0/build/3Dmol-min.js');\n}\n\nvar viewer_17500541423399923 = null;\nvar warn = document.getElementById(\"3dmolwarning_17500541423399923\");\nif(warn) {\n    warn.parentNode.removeChild(warn);\n}\n$3Dmolpromise.then(function() {\nviewer_17500541423399923 = $3Dmol.createViewer(document.getElementById(\"3dmolviewer_17500541423399923\"),{backgroundColor:\"white\"});\nviewer_17500541423399923.zoomTo();\n\tviewer_17500541423399923.addModel(\"16\\n\\n   C   -7.95601053588590      3.15195494946836      0.27839423386884\\n   H   -8.05179200418556      2.32105035333223      0.97643318840757\\n   H   -8.76671687926839      3.06907938063429     -0.44469508271450\\n   H   -8.10439460873783      4.07476211185951      0.83796813304307\\n   C   -6.59679579710356      3.13992001745864     -0.41129316526153\\n   H   -6.44433232188420      2.21634557454439     -0.96856734466103\\n   H   -5.78737090643299      3.22474156709677      0.31305681682191\\n   H   -6.50317719735328      3.96948543870281     -1.11109265496380\\n   C   -7.98491788051681     -0.47692316195123     -0.27920144845602\\n   H   -8.79547255792874     -0.40025515615629      0.44475840345098\\n   H   -8.14024532507479     -1.38893575993245     -0.85442072275227\\n   H   -8.07387099754762      0.36622931992467     -0.96327738147245\\n   C   -6.62637230870360     -0.48881716933962      0.41184856873533\\n   H   -6.54173070676907     -1.33138502402438      1.09714355762301\\n   H   -6.46548339397797      0.42323949114744      0.98551040416686\\n   H   -5.81650657862927     -0.56907193276525     -0.31256550583595\\n\\n\",\"xyz\");\n\tviewer_17500541423399923.setStyle({},{\"stick\": {}, \"sphere\": {\"scale\": 0.3}});\n\tviewer_17500541423399923.zoomTo();\nviewer_17500541423399923.render();\n});\n</script>",
      "text/html": [
       "<div id=\"3dmolviewer_17500541423399923\"  style=\"position: relative; width: 400px; height: 400px;\">\n",
       "        <p id=\"3dmolwarning_17500541423399923\" style=\"background-color:#ffcccc;color:black\">3Dmol.js failed to load for some reason.  Please check your browser console for error messages.<br></p>\n",
       "        </div>\n",
       "<script>\n",
       "\n",
       "var loadScriptAsync = function(uri){\n",
       "  return new Promise((resolve, reject) => {\n",
       "    //this is to ignore the existence of requirejs amd\n",
       "    var savedexports, savedmodule;\n",
       "    if (typeof exports !== 'undefined') savedexports = exports;\n",
       "    else exports = {}\n",
       "    if (typeof module !== 'undefined') savedmodule = module;\n",
       "    else module = {}\n",
       "\n",
       "    var tag = document.createElement('script');\n",
       "    tag.src = uri;\n",
       "    tag.async = true;\n",
       "    tag.onload = () => {\n",
       "        exports = savedexports;\n",
       "        module = savedmodule;\n",
       "        resolve();\n",
       "    };\n",
       "  var firstScriptTag = document.getElementsByTagName('script')[0];\n",
       "  firstScriptTag.parentNode.insertBefore(tag, firstScriptTag);\n",
       "});\n",
       "};\n",
       "\n",
       "if(typeof $3Dmolpromise === 'undefined') {\n",
       "$3Dmolpromise = null;\n",
       "  $3Dmolpromise = loadScriptAsync('https://cdn.jsdelivr.net/npm/3dmol@2.5.0/build/3Dmol-min.js');\n",
       "}\n",
       "\n",
       "var viewer_17500541423399923 = null;\n",
       "var warn = document.getElementById(\"3dmolwarning_17500541423399923\");\n",
       "if(warn) {\n",
       "    warn.parentNode.removeChild(warn);\n",
       "}\n",
       "$3Dmolpromise.then(function() {\n",
       "viewer_17500541423399923 = $3Dmol.createViewer(document.getElementById(\"3dmolviewer_17500541423399923\"),{backgroundColor:\"white\"});\n",
       "viewer_17500541423399923.zoomTo();\n",
       "\tviewer_17500541423399923.addModel(\"16\\n\\n   C   -7.95601053588590      3.15195494946836      0.27839423386884\\n   H   -8.05179200418556      2.32105035333223      0.97643318840757\\n   H   -8.76671687926839      3.06907938063429     -0.44469508271450\\n   H   -8.10439460873783      4.07476211185951      0.83796813304307\\n   C   -6.59679579710356      3.13992001745864     -0.41129316526153\\n   H   -6.44433232188420      2.21634557454439     -0.96856734466103\\n   H   -5.78737090643299      3.22474156709677      0.31305681682191\\n   H   -6.50317719735328      3.96948543870281     -1.11109265496380\\n   C   -7.98491788051681     -0.47692316195123     -0.27920144845602\\n   H   -8.79547255792874     -0.40025515615629      0.44475840345098\\n   H   -8.14024532507479     -1.38893575993245     -0.85442072275227\\n   H   -8.07387099754762      0.36622931992467     -0.96327738147245\\n   C   -6.62637230870360     -0.48881716933962      0.41184856873533\\n   H   -6.54173070676907     -1.33138502402438      1.09714355762301\\n   H   -6.46548339397797      0.42323949114744      0.98551040416686\\n   H   -5.81650657862927     -0.56907193276525     -0.31256550583595\\n\\n\",\"xyz\");\n",
       "\tviewer_17500541423399923.setStyle({},{\"stick\": {}, \"sphere\": {\"scale\": 0.3}});\n",
       "\tviewer_17500541423399923.zoomTo();\n",
       "viewer_17500541423399923.render();\n",
       "});\n",
       "</script>"
      ]
     },
     "metadata": {},
     "output_type": "display_data"
    }
   ],
   "source": [
    "# > define cartesian coordinates as python string\n",
    "xyz_data = \"\"\"\\\n",
    "16\n",
    "\n",
    "   C   -7.95601053588590      3.15195494946836      0.27839423386884\n",
    "   H   -8.05179200418556      2.32105035333223      0.97643318840757\n",
    "   H   -8.76671687926839      3.06907938063429     -0.44469508271450\n",
    "   H   -8.10439460873783      4.07476211185951      0.83796813304307\n",
    "   C   -6.59679579710356      3.13992001745864     -0.41129316526153\n",
    "   H   -6.44433232188420      2.21634557454439     -0.96856734466103\n",
    "   H   -5.78737090643299      3.22474156709677      0.31305681682191\n",
    "   H   -6.50317719735328      3.96948543870281     -1.11109265496380\n",
    "   C   -7.98491788051681     -0.47692316195123     -0.27920144845602\n",
    "   H   -8.79547255792874     -0.40025515615629      0.44475840345098\n",
    "   H   -8.14024532507479     -1.38893575993245     -0.85442072275227\n",
    "   H   -8.07387099754762      0.36622931992467     -0.96327738147245\n",
    "   C   -6.62637230870360     -0.48881716933962      0.41184856873533\n",
    "   H   -6.54173070676907     -1.33138502402438      1.09714355762301\n",
    "   H   -6.46548339397797      0.42323949114744      0.98551040416686\n",
    "   H   -5.81650657862927     -0.56907193276525     -0.31256550583595\\n\n",
    "\"\"\"\n",
    "\n",
    "# > Visualize the input structure\n",
    "view = py3Dmol.view(width=400, height=400)\n",
    "view.addModel(xyz_data, 'xyz')\n",
    "view.setStyle({}, {'stick': {}, 'sphere': {'scale': 0.3}})\n",
    "view.zoomTo()\n",
    "view.show()\n",
    "\n",
    "# > Write the input structure to a file\n",
    "with open(working_dir / \"struc.xyz\",\"w\") as f:\n",
    "    f.write(xyz_data)\n",
    "# > Read the structure into object\n",
    "structure = Structure.from_xyz(working_dir / \"struc.xyz\")"
   ]
  },
  {
   "cell_type": "markdown",
   "id": "951edfa2",
   "metadata": {},
   "source": [
    "## Step 4: Run CovaLED for the Supramolecular System\n",
    "\n",
    "First, we run an LED calculation with DLPNO-CCSD(T)/def2-SVP for the complete system using `NORMALPNO` and `NORMALSCF` settings. We choose the small basis set and only moderate PNO and SCF settings to keep the computational costs for this notebook small. Note that these settings are usually not sufficient for production runs. The fragments in the CovaLED calculation will automatically be detected by ORCA (each ethane molecule is divided into two CH<sub>3</sub> fragments making four in total), but can also manually be assigned. We define and run three helper functions: `setup_calc`, `run_calc`, and `check_and_parse_output`. \n",
    "\n",
    "First, we set up the calculation with `setup_calc`:"
   ]
  },
  {
   "cell_type": "code",
   "execution_count": 4,
   "id": "2af6539f",
   "metadata": {},
   "outputs": [],
   "source": [
    "def setup_calc(basename : str, working_dir: Path, structure: Structure, ncores: int = 4) -> Calculator:\n",
    "    # > Set up a Calculator object, the basename for the ORCA calculation is set to LED\n",
    "    calc = Calculator(basename=basename, working_dir=working_dir)\n",
    "    # > Assign structure to calculator\n",
    "    calc.structure = structure\n",
    "\n",
    "    # > Define a simple keyword list for the ORCA calculation\n",
    "    sk_list = [\n",
    "    Wft.DLPNO_CCSD_T, # > Use DLPNO-CCSD(T)\n",
    "    BasisSet.DEF2_SVP, # > Use the def2-SVP basis set\n",
    "    AuxBasisSet.DEF2_SVP_C, # > Use the def2-svp/c auxiliary basis set\n",
    "    AuxBasisSet.DEF2_J, # > Use the def2-svp/j auxiliary basis set\n",
    "    Dlpno.NORMALPNO, # > normal PNO settings\n",
    "    Scf.NORMALSCF, # > normal SCF settings\n",
    "    Approximation.RIJCOSX, # > Use RIJCOSX\n",
    "    Dlpno.LED, # > Make energy decomposition\n",
    "    ]\n",
    "\n",
    "    # use simple keywords in calculator\n",
    "    calc.input.add_simple_keywords(*sk_list)\n",
    "\n",
    "    # > If specific fragments are desired they can be assigned,\n",
    "    # otherwise ORCA's autofragmentator will create them.\n",
    "    calc.input.add_arbitrary_string(\"%frag\\n STOREFRAGS true\\n FragProc  FUNCTIONALGROUPS,EXTEND,CONNECTIVITY\\n DOINTERFRAGBONDS true\\n end\")\n",
    "\n",
    "    # Define number of CPUs for the calcualtion\n",
    "    calc.input.ncores = ncores # > 4 CPUs for this ORCA run\n",
    "\n",
    "    return calc\n",
    "\n",
    "calc_supersystem = setup_calc(\"supersystem\", working_dir=working_dir, structure=structure)"
   ]
  },
  {
   "cell_type": "markdown",
   "id": "4b44c827",
   "metadata": {},
   "source": [
    "Then we run the calculation with `run_calc` and obtain the output:"
   ]
  },
  {
   "cell_type": "code",
   "execution_count": 5,
   "id": "51d541ec",
   "metadata": {},
   "outputs": [
    {
     "name": "stdout",
     "output_type": "stream",
     "text": [
      "Running ORCA calculation ...   Done\n"
     ]
    }
   ],
   "source": [
    "def run_calc(calc: Calculator) -> Output:\n",
    "    # > Write the ORCA input file\n",
    "    calc.write_input()\n",
    "    # > Run the ORCA calculation\n",
    "    print(\"Running ORCA calculation ...\", end=\"\")\n",
    "    calc.run()\n",
    "    print(\"   Done\")\n",
    "\n",
    "    # > Get the output object\n",
    "    output = calc.get_output()\n",
    "    \n",
    "    return output\n",
    "\n",
    "output_supersystem = run_calc(calc_supersystem)"
   ]
  },
  {
   "cell_type": "markdown",
   "id": "9c667188",
   "metadata": {},
   "source": [
    "The successful calculation has to be checked and parsed, which is done in `check_and_parse_output`:"
   ]
  },
  {
   "cell_type": "code",
   "execution_count": 6,
   "id": "28d9ac30",
   "metadata": {},
   "outputs": [
    {
     "name": "stdout",
     "output_type": "stream",
     "text": [
      "ORCA terminated normally and the SCF converged\n"
     ]
    }
   ],
   "source": [
    "def check_and_parse_output(output: Output):\n",
    "    # > Check for proper termination of ORCA\n",
    "    status = output.terminated_normally()\n",
    "    if not status:\n",
    "        # > ORCA did not terminate normally\n",
    "        raise RuntimeError(f\"ORCA did not terminate normally, see output file: {output.get_outfile()}\")\n",
    "    else:\n",
    "        # > ORCA did terminate normally so we can parse the output\n",
    "        output.parse()\n",
    "\n",
    "    # Now check for convergence of the SCF\n",
    "    if output.results_properties.geometries[0].single_point_data.converged:\n",
    "        print(\"ORCA terminated normally and the SCF converged\")\n",
    "    else:\n",
    "        raise RuntimeError(\"SCF DID NOT CONVERGE\")\n",
    "    \n",
    "check_and_parse_output(output_supersystem)"
   ]
  },
  {
   "cell_type": "markdown",
   "id": "d7d28086",
   "metadata": {},
   "source": [
    "## Step 5: Definition of Subsystems\n",
    "Next, we extract the automatic generated fragments and define a host and a guest subsystem. In our example, the host and guest system is one ethane molecule with two fragments each."
   ]
  },
  {
   "cell_type": "code",
   "execution_count": 7,
   "id": "3f9871a3",
   "metadata": {},
   "outputs": [
    {
     "name": "stdout",
     "output_type": "stream",
     "text": [
      "Here you can view the fragment IDs:\n"
     ]
    },
    {
     "data": {
      "application/3dmoljs_load.v0": "<div id=\"3dmolviewer_17500541669371924\"  style=\"position: relative; width: 400px; height: 400px;\">\n        <p id=\"3dmolwarning_17500541669371924\" style=\"background-color:#ffcccc;color:black\">3Dmol.js failed to load for some reason.  Please check your browser console for error messages.<br></p>\n        </div>\n<script>\n\nvar loadScriptAsync = function(uri){\n  return new Promise((resolve, reject) => {\n    //this is to ignore the existence of requirejs amd\n    var savedexports, savedmodule;\n    if (typeof exports !== 'undefined') savedexports = exports;\n    else exports = {}\n    if (typeof module !== 'undefined') savedmodule = module;\n    else module = {}\n\n    var tag = document.createElement('script');\n    tag.src = uri;\n    tag.async = true;\n    tag.onload = () => {\n        exports = savedexports;\n        module = savedmodule;\n        resolve();\n    };\n  var firstScriptTag = document.getElementsByTagName('script')[0];\n  firstScriptTag.parentNode.insertBefore(tag, firstScriptTag);\n});\n};\n\nif(typeof $3Dmolpromise === 'undefined') {\n$3Dmolpromise = null;\n  $3Dmolpromise = loadScriptAsync('https://cdn.jsdelivr.net/npm/3dmol@2.5.0/build/3Dmol-min.js');\n}\n\nvar viewer_17500541669371924 = null;\nvar warn = document.getElementById(\"3dmolwarning_17500541669371924\");\nif(warn) {\n    warn.parentNode.removeChild(warn);\n}\n$3Dmolpromise.then(function() {\nviewer_17500541669371924 = $3Dmol.createViewer(document.getElementById(\"3dmolviewer_17500541669371924\"),{backgroundColor:\"white\"});\nviewer_17500541669371924.zoomTo();\n\tviewer_17500541669371924.addModel(\"16\\n\\n   C   -7.95601053588590      3.15195494946836      0.27839423386884\\n   H   -8.05179200418556      2.32105035333223      0.97643318840757\\n   H   -8.76671687926839      3.06907938063429     -0.44469508271450\\n   H   -8.10439460873783      4.07476211185951      0.83796813304307\\n   C   -6.59679579710356      3.13992001745864     -0.41129316526153\\n   H   -6.44433232188420      2.21634557454439     -0.96856734466103\\n   H   -5.78737090643299      3.22474156709677      0.31305681682191\\n   H   -6.50317719735328      3.96948543870281     -1.11109265496380\\n   C   -7.98491788051681     -0.47692316195123     -0.27920144845602\\n   H   -8.79547255792874     -0.40025515615629      0.44475840345098\\n   H   -8.14024532507479     -1.38893575993245     -0.85442072275227\\n   H   -8.07387099754762      0.36622931992467     -0.96327738147245\\n   C   -6.62637230870360     -0.48881716933962      0.41184856873533\\n   H   -6.54173070676907     -1.33138502402438      1.09714355762301\\n   H   -6.46548339397797      0.42323949114744      0.98551040416686\\n   H   -5.81650657862927     -0.56907193276525     -0.31256550583595\\n\\n\",\"xyz\");\n\tviewer_17500541669371924.setStyle({},{\"stick\": {}, \"sphere\": {\"scale\": 0.3}});\n\tviewer_17500541669371924.zoomTo();\n\tviewer_17500541669371924.addLabel(\"1\",{\"position\": {\"x\": -7.9560105358859, \"y\": 3.15195494946836, \"z\": 0.27839423386884}, \"backgroundColor\": \"black\", \"fontColor\": \"white\", \"showBackground\": true, \"fontSize\": 12});\n\tviewer_17500541669371924.addLabel(\"1\",{\"position\": {\"x\": -8.05179200418556, \"y\": 2.32105035333223, \"z\": 0.97643318840757}, \"backgroundColor\": \"black\", \"fontColor\": \"white\", \"showBackground\": true, \"fontSize\": 12});\n\tviewer_17500541669371924.addLabel(\"1\",{\"position\": {\"x\": -8.76671687926839, \"y\": 3.06907938063429, \"z\": -0.4446950827145}, \"backgroundColor\": \"black\", \"fontColor\": \"white\", \"showBackground\": true, \"fontSize\": 12});\n\tviewer_17500541669371924.addLabel(\"1\",{\"position\": {\"x\": -8.10439460873783, \"y\": 4.07476211185951, \"z\": 0.83796813304307}, \"backgroundColor\": \"black\", \"fontColor\": \"white\", \"showBackground\": true, \"fontSize\": 12});\n\tviewer_17500541669371924.addLabel(\"2\",{\"position\": {\"x\": -6.59679579710356, \"y\": 3.13992001745864, \"z\": -0.41129316526153}, \"backgroundColor\": \"black\", \"fontColor\": \"white\", \"showBackground\": true, \"fontSize\": 12});\n\tviewer_17500541669371924.addLabel(\"2\",{\"position\": {\"x\": -6.4443323218842, \"y\": 2.21634557454439, \"z\": -0.96856734466103}, \"backgroundColor\": \"black\", \"fontColor\": \"white\", \"showBackground\": true, \"fontSize\": 12});\n\tviewer_17500541669371924.addLabel(\"2\",{\"position\": {\"x\": -5.78737090643299, \"y\": 3.22474156709677, \"z\": 0.31305681682191}, \"backgroundColor\": \"black\", \"fontColor\": \"white\", \"showBackground\": true, \"fontSize\": 12});\n\tviewer_17500541669371924.addLabel(\"2\",{\"position\": {\"x\": -6.50317719735328, \"y\": 3.96948543870281, \"z\": -1.1110926549638}, \"backgroundColor\": \"black\", \"fontColor\": \"white\", \"showBackground\": true, \"fontSize\": 12});\n\tviewer_17500541669371924.addLabel(\"3\",{\"position\": {\"x\": -7.98491788051681, \"y\": -0.47692316195123, \"z\": -0.27920144845602}, \"backgroundColor\": \"black\", \"fontColor\": \"white\", \"showBackground\": true, \"fontSize\": 12});\n\tviewer_17500541669371924.addLabel(\"3\",{\"position\": {\"x\": -8.79547255792874, \"y\": -0.40025515615629, \"z\": 0.44475840345098}, \"backgroundColor\": \"black\", \"fontColor\": \"white\", \"showBackground\": true, \"fontSize\": 12});\n\tviewer_17500541669371924.addLabel(\"3\",{\"position\": {\"x\": -8.14024532507479, \"y\": -1.38893575993245, \"z\": -0.85442072275227}, \"backgroundColor\": \"black\", \"fontColor\": \"white\", \"showBackground\": true, \"fontSize\": 12});\n\tviewer_17500541669371924.addLabel(\"3\",{\"position\": {\"x\": -8.07387099754762, \"y\": 0.36622931992467, \"z\": -0.96327738147245}, \"backgroundColor\": \"black\", \"fontColor\": \"white\", \"showBackground\": true, \"fontSize\": 12});\n\tviewer_17500541669371924.addLabel(\"4\",{\"position\": {\"x\": -6.6263723087036, \"y\": -0.48881716933962, \"z\": 0.41184856873533}, \"backgroundColor\": \"black\", \"fontColor\": \"white\", \"showBackground\": true, \"fontSize\": 12});\n\tviewer_17500541669371924.addLabel(\"4\",{\"position\": {\"x\": -6.54173070676907, \"y\": -1.33138502402438, \"z\": 1.09714355762301}, \"backgroundColor\": \"black\", \"fontColor\": \"white\", \"showBackground\": true, \"fontSize\": 12});\n\tviewer_17500541669371924.addLabel(\"4\",{\"position\": {\"x\": -6.46548339397797, \"y\": 0.42323949114744, \"z\": 0.98551040416686}, \"backgroundColor\": \"black\", \"fontColor\": \"white\", \"showBackground\": true, \"fontSize\": 12});\n\tviewer_17500541669371924.addLabel(\"4\",{\"position\": {\"x\": -5.81650657862927, \"y\": -0.56907193276525, \"z\": -0.31256550583595}, \"backgroundColor\": \"black\", \"fontColor\": \"white\", \"showBackground\": true, \"fontSize\": 12});\nviewer_17500541669371924.render();\n});\n</script>",
      "text/html": [
       "<div id=\"3dmolviewer_17500541669371924\"  style=\"position: relative; width: 400px; height: 400px;\">\n",
       "        <p id=\"3dmolwarning_17500541669371924\" style=\"background-color:#ffcccc;color:black\">3Dmol.js failed to load for some reason.  Please check your browser console for error messages.<br></p>\n",
       "        </div>\n",
       "<script>\n",
       "\n",
       "var loadScriptAsync = function(uri){\n",
       "  return new Promise((resolve, reject) => {\n",
       "    //this is to ignore the existence of requirejs amd\n",
       "    var savedexports, savedmodule;\n",
       "    if (typeof exports !== 'undefined') savedexports = exports;\n",
       "    else exports = {}\n",
       "    if (typeof module !== 'undefined') savedmodule = module;\n",
       "    else module = {}\n",
       "\n",
       "    var tag = document.createElement('script');\n",
       "    tag.src = uri;\n",
       "    tag.async = true;\n",
       "    tag.onload = () => {\n",
       "        exports = savedexports;\n",
       "        module = savedmodule;\n",
       "        resolve();\n",
       "    };\n",
       "  var firstScriptTag = document.getElementsByTagName('script')[0];\n",
       "  firstScriptTag.parentNode.insertBefore(tag, firstScriptTag);\n",
       "});\n",
       "};\n",
       "\n",
       "if(typeof $3Dmolpromise === 'undefined') {\n",
       "$3Dmolpromise = null;\n",
       "  $3Dmolpromise = loadScriptAsync('https://cdn.jsdelivr.net/npm/3dmol@2.5.0/build/3Dmol-min.js');\n",
       "}\n",
       "\n",
       "var viewer_17500541669371924 = null;\n",
       "var warn = document.getElementById(\"3dmolwarning_17500541669371924\");\n",
       "if(warn) {\n",
       "    warn.parentNode.removeChild(warn);\n",
       "}\n",
       "$3Dmolpromise.then(function() {\n",
       "viewer_17500541669371924 = $3Dmol.createViewer(document.getElementById(\"3dmolviewer_17500541669371924\"),{backgroundColor:\"white\"});\n",
       "viewer_17500541669371924.zoomTo();\n",
       "\tviewer_17500541669371924.addModel(\"16\\n\\n   C   -7.95601053588590      3.15195494946836      0.27839423386884\\n   H   -8.05179200418556      2.32105035333223      0.97643318840757\\n   H   -8.76671687926839      3.06907938063429     -0.44469508271450\\n   H   -8.10439460873783      4.07476211185951      0.83796813304307\\n   C   -6.59679579710356      3.13992001745864     -0.41129316526153\\n   H   -6.44433232188420      2.21634557454439     -0.96856734466103\\n   H   -5.78737090643299      3.22474156709677      0.31305681682191\\n   H   -6.50317719735328      3.96948543870281     -1.11109265496380\\n   C   -7.98491788051681     -0.47692316195123     -0.27920144845602\\n   H   -8.79547255792874     -0.40025515615629      0.44475840345098\\n   H   -8.14024532507479     -1.38893575993245     -0.85442072275227\\n   H   -8.07387099754762      0.36622931992467     -0.96327738147245\\n   C   -6.62637230870360     -0.48881716933962      0.41184856873533\\n   H   -6.54173070676907     -1.33138502402438      1.09714355762301\\n   H   -6.46548339397797      0.42323949114744      0.98551040416686\\n   H   -5.81650657862927     -0.56907193276525     -0.31256550583595\\n\\n\",\"xyz\");\n",
       "\tviewer_17500541669371924.setStyle({},{\"stick\": {}, \"sphere\": {\"scale\": 0.3}});\n",
       "\tviewer_17500541669371924.zoomTo();\n",
       "\tviewer_17500541669371924.addLabel(\"1\",{\"position\": {\"x\": -7.9560105358859, \"y\": 3.15195494946836, \"z\": 0.27839423386884}, \"backgroundColor\": \"black\", \"fontColor\": \"white\", \"showBackground\": true, \"fontSize\": 12});\n",
       "\tviewer_17500541669371924.addLabel(\"1\",{\"position\": {\"x\": -8.05179200418556, \"y\": 2.32105035333223, \"z\": 0.97643318840757}, \"backgroundColor\": \"black\", \"fontColor\": \"white\", \"showBackground\": true, \"fontSize\": 12});\n",
       "\tviewer_17500541669371924.addLabel(\"1\",{\"position\": {\"x\": -8.76671687926839, \"y\": 3.06907938063429, \"z\": -0.4446950827145}, \"backgroundColor\": \"black\", \"fontColor\": \"white\", \"showBackground\": true, \"fontSize\": 12});\n",
       "\tviewer_17500541669371924.addLabel(\"1\",{\"position\": {\"x\": -8.10439460873783, \"y\": 4.07476211185951, \"z\": 0.83796813304307}, \"backgroundColor\": \"black\", \"fontColor\": \"white\", \"showBackground\": true, \"fontSize\": 12});\n",
       "\tviewer_17500541669371924.addLabel(\"2\",{\"position\": {\"x\": -6.59679579710356, \"y\": 3.13992001745864, \"z\": -0.41129316526153}, \"backgroundColor\": \"black\", \"fontColor\": \"white\", \"showBackground\": true, \"fontSize\": 12});\n",
       "\tviewer_17500541669371924.addLabel(\"2\",{\"position\": {\"x\": -6.4443323218842, \"y\": 2.21634557454439, \"z\": -0.96856734466103}, \"backgroundColor\": \"black\", \"fontColor\": \"white\", \"showBackground\": true, \"fontSize\": 12});\n",
       "\tviewer_17500541669371924.addLabel(\"2\",{\"position\": {\"x\": -5.78737090643299, \"y\": 3.22474156709677, \"z\": 0.31305681682191}, \"backgroundColor\": \"black\", \"fontColor\": \"white\", \"showBackground\": true, \"fontSize\": 12});\n",
       "\tviewer_17500541669371924.addLabel(\"2\",{\"position\": {\"x\": -6.50317719735328, \"y\": 3.96948543870281, \"z\": -1.1110926549638}, \"backgroundColor\": \"black\", \"fontColor\": \"white\", \"showBackground\": true, \"fontSize\": 12});\n",
       "\tviewer_17500541669371924.addLabel(\"3\",{\"position\": {\"x\": -7.98491788051681, \"y\": -0.47692316195123, \"z\": -0.27920144845602}, \"backgroundColor\": \"black\", \"fontColor\": \"white\", \"showBackground\": true, \"fontSize\": 12});\n",
       "\tviewer_17500541669371924.addLabel(\"3\",{\"position\": {\"x\": -8.79547255792874, \"y\": -0.40025515615629, \"z\": 0.44475840345098}, \"backgroundColor\": \"black\", \"fontColor\": \"white\", \"showBackground\": true, \"fontSize\": 12});\n",
       "\tviewer_17500541669371924.addLabel(\"3\",{\"position\": {\"x\": -8.14024532507479, \"y\": -1.38893575993245, \"z\": -0.85442072275227}, \"backgroundColor\": \"black\", \"fontColor\": \"white\", \"showBackground\": true, \"fontSize\": 12});\n",
       "\tviewer_17500541669371924.addLabel(\"3\",{\"position\": {\"x\": -8.07387099754762, \"y\": 0.36622931992467, \"z\": -0.96327738147245}, \"backgroundColor\": \"black\", \"fontColor\": \"white\", \"showBackground\": true, \"fontSize\": 12});\n",
       "\tviewer_17500541669371924.addLabel(\"4\",{\"position\": {\"x\": -6.6263723087036, \"y\": -0.48881716933962, \"z\": 0.41184856873533}, \"backgroundColor\": \"black\", \"fontColor\": \"white\", \"showBackground\": true, \"fontSize\": 12});\n",
       "\tviewer_17500541669371924.addLabel(\"4\",{\"position\": {\"x\": -6.54173070676907, \"y\": -1.33138502402438, \"z\": 1.09714355762301}, \"backgroundColor\": \"black\", \"fontColor\": \"white\", \"showBackground\": true, \"fontSize\": 12});\n",
       "\tviewer_17500541669371924.addLabel(\"4\",{\"position\": {\"x\": -6.46548339397797, \"y\": 0.42323949114744, \"z\": 0.98551040416686}, \"backgroundColor\": \"black\", \"fontColor\": \"white\", \"showBackground\": true, \"fontSize\": 12});\n",
       "\tviewer_17500541669371924.addLabel(\"4\",{\"position\": {\"x\": -5.81650657862927, \"y\": -0.56907193276525, \"z\": -0.31256550583595}, \"backgroundColor\": \"black\", \"fontColor\": \"white\", \"showBackground\": true, \"fontSize\": 12});\n",
       "viewer_17500541669371924.render();\n",
       "});\n",
       "</script>"
      ]
     },
     "metadata": {},
     "output_type": "display_data"
    }
   ],
   "source": [
    "# > Shortcut to the fragments data\n",
    "frags = output_supersystem.results_properties.geometries[0].geometry.fragments\n",
    "# > Obtain the number of fragments in the led for the suprasystem (4 in our case)\n",
    "nfrags = int(output_supersystem.results_properties.geometries[0].mdci_led.numoffragments)\n",
    "\n",
    "# > First fragment of guest\n",
    "ofs_sub = 3\n",
    "\n",
    "# > Generate a list of atoms in the fragments\n",
    "atoms_in_frag = [[] for _ in range(nfrags)]\n",
    "for index, value in enumerate(frags):\n",
    "    frag_id = int(value[0])\n",
    "    # > Offset by 1 since internal ORCA counting starts at 0\n",
    "    atoms_in_frag[frag_id-1].append(index)\n",
    "    structure.atoms[index].fragment_id = frag_id\n",
    "\n",
    "# > Define a list of atoms in the subsystems\n",
    "atoms_in_sub = [] \n",
    "atoms_in_sub.append([atom for frag in atoms_in_frag[:ofs_sub-1] for atom in frag]) # > First subsystem contains the two fragments of first ethane\n",
    "atoms_in_sub.append([atom for frag in atoms_in_frag[ofs_sub-1:] for atom in frag]) # > Second subsystem contains the two fragments of second ethane\n",
    "nsub = len(atoms_in_sub)\n",
    "\n",
    "# > Define a list of fragments in the subsystems\n",
    "frag_in_sub = [[] for _ in range(nsub)]\n",
    "for ifrag in range(nfrags):\n",
    "    if ifrag < ofs_sub-1: frag_in_sub[0].append(ifrag)\n",
    "    if ifrag >= ofs_sub-1: frag_in_sub[1].append(ifrag)\n",
    "\n",
    "# > Define offset for guest subsystem\n",
    "offset = len(frag_in_sub[0])\n",
    "\n",
    "# > Visualize the fragments \n",
    "print(\"Here you can view the fragment IDs:\")\n",
    "for atom in structure.atoms:\n",
    "    x, y, z = atom.coordinates.coordinates\n",
    "    view.addLabel(f\"{atom.fragment_id}\", {\n",
    "        'position': {'x': x, 'y': y, 'z': z},\n",
    "        'backgroundColor': 'black',\n",
    "        'fontColor': 'white',\n",
    "        'showBackground': True,\n",
    "        'fontSize': 12\n",
    "    })\n",
    "view.show()"
   ]
  },
  {
   "cell_type": "markdown",
   "id": "556b1376",
   "metadata": {},
   "source": [
    "## Step 6: Run the Host and Guest Calculations"
   ]
  },
  {
   "cell_type": "code",
   "execution_count": 8,
   "id": "2e6b996b",
   "metadata": {},
   "outputs": [
    {
     "name": "stdout",
     "output_type": "stream",
     "text": [
      "Running ORCA calculation ...   Done\n",
      "ORCA terminated normally and the SCF converged\n",
      "Running ORCA calculation ...   Done\n",
      "ORCA terminated normally and the SCF converged\n"
     ]
    }
   ],
   "source": [
    "sub_outputs: list[Output] = []\n",
    "# > Loop over subsystems, obtain substructures, and perform calculations\n",
    "for i in range(len(atoms_in_sub)):\n",
    "    \n",
    "    # > Prepare calculation for the subsystem \n",
    "    subsystem = i + 1\n",
    "    sub_structure = calc_supersystem.structure.extract_substructure(atoms_in_sub[i])\n",
    "    calc_subsystem = setup_calc(f\"subsystem_{subsystem}\", working_dir, sub_structure)\n",
    "        \n",
    "    # > Visualize the subsystem for which the calculation will run\n",
    "    # > First, remove fragment data for visualization\n",
    "    for atom in calc_subsystem.structure.atoms: \n",
    "        atom.fragment_id = None\n",
    "\n",
    "    # > Run the calculation\n",
    "    output_sub = run_calc(calc_subsystem)\n",
    "\n",
    "    # > Check and parse the output\n",
    "    check_and_parse_output(output_sub)\n",
    "\n",
    "    sub_outputs.append(output_sub)"
   ]
  },
  {
   "cell_type": "markdown",
   "id": "71352834",
   "metadata": {},
   "source": [
    "## Step 7: Processing for Standard LED\n",
    "\n",
    "Now, we perform the post-processing for the LED."
   ]
  },
  {
   "cell_type": "code",
   "execution_count": 9,
   "id": "b97f203c",
   "metadata": {},
   "outputs": [],
   "source": [
    "# > Shortcut to the led data for the supersystem\n",
    "led_data = output_supersystem.results_properties.geometries[0].mdci_led\n",
    "# > Number of subsystems is two\n",
    "nsub = 2\n",
    "# > Number of fragments\n",
    "nfrags = int(output_supersystem.results_properties.geometries[0].mdci_led.numoffragments)\n",
    "\n",
    "# > Get shortcuts to the CCSD(T) energy for the subsystems (host and guest)\n",
    "sub_outputs_energy = []\n",
    "sub_outputs_led = []\n",
    "for output in sub_outputs:\n",
    "    # > energy[0] will be the SCF energy and energy[1] the CCSD(T) energy\n",
    "    sub_outputs_energy.append(output.results_properties.geometries[0].energy[1])\n",
    "    sub_outputs_led.append(output.results_properties.geometries[0].mdci_led)\n",
    "\n",
    "# > Process LED data\n",
    "LED_pairwise_Total = {}\n",
    "LED_pairwise_Ref = {}\n",
    "LED_pairwise_Corr = {}\n",
    "LED_pairwise_Ref_Coulomb = {}\n",
    "LED_pairwise_Ref_Exch = {}\n",
    "LED_pairwise_Corr_Disp = {}\n",
    "\n",
    "# > First, we collect the results from the suprasystem LED calculation\n",
    "for x in range(nfrags):\n",
    "    for y in range(x + 1):\n",
    "        pair = (x, y)\n",
    "        E_tot = led_data.totint[x][y]\n",
    "        E_ref = led_data.refint[x][y]\n",
    "        E_corr = led_data.corrint[x][y]\n",
    "        LED_pairwise_Ref[pair] = E_ref\n",
    "        LED_pairwise_Corr[pair] = E_corr\n",
    "        LED_pairwise_Total[pair] = E_tot\n",
    "        if x != y:\n",
    "            E_ref_elstat = led_data.electrostref[x][y]\n",
    "            E_ref_exch = led_data.exchangeref[x][y]\n",
    "            E_corr_disp = led_data.dispcontr[x][y] + led_data.dispweak[x][y]\n",
    "            LED_pairwise_Ref_Coulomb[pair] = E_ref_elstat\n",
    "            LED_pairwise_Ref_Exch[pair] = E_ref_exch\n",
    "            LED_pairwise_Corr_Disp[pair] = E_corr_disp\n",
    "\n",
    "# > Now, we subtract the results from the subsystem LED calculations\n",
    "for x in range(nfrags):\n",
    "    for y in range(x + 1):\n",
    "        pair = (x, y)\n",
    "        E_ref = 0.\n",
    "        E_corr = 0.\n",
    "        foundPair = False\n",
    "        # > Check, if fragments are on subsystem 1\n",
    "        if x in frag_in_sub[0] and y in frag_in_sub[0]:\n",
    "            foundPair = True\n",
    "            if sub_outputs_led[0]: \n",
    "                E_ref = sub_outputs_led[0].refint[x][y]\n",
    "                E_corr = sub_outputs_led[0].corrint[x][y]\n",
    "                if x != y: \n",
    "                    E_ref_elstat = sub_outputs_led[0].electrostref[x][y]\n",
    "                    E_ref_exch = sub_outputs_led[0].exchangeref[x][y]\n",
    "                    E_corr_disp = sub_outputs_led[0].dispcontr[x][y] + sub_outputs_led[0].dispweak[x][y]\n",
    "            else:\n",
    "                E_ref = sub_outputs_energy[0].refenergy[0][0]\n",
    "                E_corr = sub_outputs_energy[0].correnergy[0][0]\n",
    "        # > Check, if fragments are on the subsystem 2\n",
    "        elif x in frag_in_sub[1] and y in frag_in_sub[1]:\n",
    "            foundPair = True\n",
    "            if sub_outputs_led[1]:\n",
    "                E_ref = sub_outputs_led[1].refint[x-offset][y-offset]\n",
    "                E_corr = sub_outputs_led[1].corrint[x-offset][y-offset]\n",
    "                if x != y and sub_outputs_led[1]:\n",
    "                    E_ref_elstat = sub_outputs_led[1].electrostref[x-offset][y-offset]\n",
    "                    E_ref_exch = sub_outputs_led[1].exchangeref[x-offset][y-offset]\n",
    "                    E_corr_disp = sub_outputs_led[1].dispcontr[x-offset][y-offset] + sub_outputs_led[1].dispweak[x-offset][y-offset]\n",
    "            else:\n",
    "                E_ref = sub_outputs_energy[1].refenergy[0][0]\n",
    "                E_corr = sub_outputs_energy[1].correnergy[0][0]\n",
    "\n",
    "        # > Subtract the calculated data from the subsystems\n",
    "        if foundPair:\n",
    "            LED_pairwise_Ref[pair] -= E_ref\n",
    "            LED_pairwise_Corr[pair] -= E_corr\n",
    "            LED_pairwise_Total[pair] -= (E_ref + E_corr)\n",
    "            if x != y:\n",
    "                LED_pairwise_Ref_Coulomb[pair] -= E_ref_elstat\n",
    "                LED_pairwise_Ref_Exch[pair] -= E_ref_exch\n",
    "                LED_pairwise_Corr_Disp[pair] -= E_corr_disp"
   ]
  },
  {
   "cell_type": "markdown",
   "id": "86600d57",
   "metadata": {},
   "source": [
    "## Step 8: Processing for fp-CovaLED\n",
    "\n",
    "Next, we use the CovaLED results and post-process them to fp-CovaLED results, where the interaction energy is decomposed into only pair-wise terms. We calculate the scaling factors from absolute values for better numerical stability. The scaling is done for the total energies and for the reference energies, while the correlations contributions are obtained from subtracting the reference energies from the total energies."
   ]
  },
  {
   "cell_type": "code",
   "execution_count": 10,
   "id": "ae987660",
   "metadata": {},
   "outputs": [],
   "source": [
    "def fp_analysis_abs():\n",
    "    for x in range(nfrags):\n",
    "        for y in range(x):\n",
    "            pairXY = (x,y)\n",
    "            pairXX = (x,x)\n",
    "            pairYY = (y,y)\n",
    "            E_Total_XY_unscaled = LED_pairwise_Total[pairXY]\n",
    "            dE_Total_X_unscaled = LED_pairwise_Total[pairXX]\n",
    "            dE_Total_Y_unscaled = LED_pairwise_Total[pairYY]\n",
    "            E_Ref_XY_unscaled = LED_pairwise_Ref[pairXY]\n",
    "            dE_Ref_X_unscaled = LED_pairwise_Ref[pairXX]\n",
    "            dE_Ref_Y_unscaled = LED_pairwise_Ref[pairYY]\n",
    "            denom_X_Total = 0\n",
    "            denom_Y_Total = 0\n",
    "            denom_X_Ref = 0\n",
    "            denom_Y_Ref = 0\n",
    "            # > Calculate the denominator of the weights with absolute values\n",
    "            for k in range(nfrags):\n",
    "                minXK = min(x, k)\n",
    "                maxXK = max(x, k)\n",
    "                pairXK = (maxXK, minXK)\n",
    "                E_Total_XK_unscaled = LED_pairwise_Total[pairXK]\n",
    "                E_Ref_XK_unscaled = LED_pairwise_Ref[pairXK]\n",
    "                if k != x:\n",
    "                    denom_X_Total += abs(E_Total_XK_unscaled)\n",
    "                    denom_X_Ref += abs(E_Ref_XK_unscaled)\n",
    "                minYK = min(y, k)\n",
    "                maxYK = max(y, k)\n",
    "                pairYK = (maxYK, minYK)\n",
    "                E_Total_YK_unscaled = LED_pairwise_Total[pairYK]\n",
    "                E_Ref_YK_unscaled = LED_pairwise_Ref[pairYK]\n",
    "                if k != y:\n",
    "                    denom_Y_Total += abs(E_Total_YK_unscaled)\n",
    "                    denom_Y_Ref += abs(E_Ref_YK_unscaled)\n",
    "            scalingX_Total = dE_Total_X_unscaled / denom_X_Total\n",
    "            scalingY_Total = dE_Total_Y_unscaled / denom_Y_Total\n",
    "            scaling_Total = scalingX_Total + scalingY_Total\n",
    "            scalingX_Ref = dE_Ref_X_unscaled / denom_X_Ref\n",
    "            scalingY_Ref = dE_Ref_Y_unscaled / denom_Y_Ref\n",
    "            scaling_Ref = scalingX_Ref + scalingY_Ref\n",
    "            # > Take the absolute values of the interfragment contributions\n",
    "            E_Total_XY_scaled = scaling_Total * abs(E_Total_XY_unscaled)\n",
    "            E_Ref_XY_scaled = scaling_Ref * abs(E_Ref_XY_unscaled)\n",
    "            E_Corr_XY_scaled = E_Total_XY_scaled - E_Ref_XY_scaled\n",
    "            # > Calculate Elprep contributions\n",
    "            LED_pairwise_Ref_Elprep[pairXY] = E_Ref_XY_scaled\n",
    "            LED_pairwise_Corr_Elprep[pairXY] = E_Corr_XY_scaled\n",
    "            LED_pairwise_Total_Elprep[pairXY] = E_Total_XY_scaled\n",
    "    \n",
    "    # > Add the Elprep contributions\n",
    "    for x in range(nfrags):\n",
    "        for y in range(x):\n",
    "            pairXY = (x, y)\n",
    "            LED_pairwise_Ref[pairXY] += LED_pairwise_Ref_Elprep[pairXY]\n",
    "            LED_pairwise_Corr[pairXY] += LED_pairwise_Corr_Elprep[pairXY]\n",
    "            LED_pairwise_Total[pairXY] += LED_pairwise_Total_Elprep[pairXY]\n",
    "    \n",
    "    # > Set the intra-fragment contributions that were distributed to zero\n",
    "    for x in range(nfrags):\n",
    "        pair = (x,x)\n",
    "        LED_pairwise_Total[pair] = 0.\n",
    "        LED_pairwise_Ref[pair] = 0.\n",
    "        LED_pairwise_Corr[pair] = 0.\n",
    "        LED_pairwise_Ref_Coulomb[pair] = 0.\n",
    "        LED_pairwise_Ref_Exch[pair] = 0.\n",
    "        LED_pairwise_Corr_Disp[pair] = 0.\n",
    "\n",
    "LED_pairwise_Total_Elprep = {}\n",
    "LED_pairwise_Ref_Elprep = {}\n",
    "LED_pairwise_Corr_Elprep = {}\n",
    "# > Run the actual analysis\n",
    "fp_analysis_abs()"
   ]
  },
  {
   "cell_type": "markdown",
   "id": "ed964570",
   "metadata": {},
   "source": [
    "## Step 9: Gather the Results in pandas Dataframes\n",
    "\n",
    "For easier access, we store the results in a dictonary of pandas dataframes."
   ]
  },
  {
   "cell_type": "code",
   "execution_count": 11,
   "id": "d3eb79ed",
   "metadata": {},
   "outputs": [],
   "source": [
    "# > Function for generating pandas dataframes\n",
    "def gen_led_frame(led_dict: dict[tuple[int,int], float]) -> pd.DataFrame:\n",
    "    # Create a full 2D array filled with NaNs\n",
    "    grid = np.full((nfrags, nfrags), np.nan)\n",
    "\n",
    "    # > Fill the grid with LED results\n",
    "    for (x, y), value in led_dict.items():\n",
    "        grid[y, x] = value * unit_conversion\n",
    "\n",
    "    # > Convert to DataFrame\n",
    "    df = pd.DataFrame(grid)\n",
    "    # > Offset indices by 1 to start counting with 1\n",
    "    df.index += 1\n",
    "    df.columns += 1\n",
    "\n",
    "    return df\n",
    "\n",
    "# > Generation of data frames\n",
    "data_frames = {}\n",
    "data_frames[\"LED_Total\"] = gen_led_frame(LED_pairwise_Total)\n",
    "data_frames[\"LED_Corr\"] = gen_led_frame(LED_pairwise_Corr)\n",
    "data_frames[\"LED_Ref\"] = gen_led_frame(LED_pairwise_Ref)\n",
    "data_frames[\"LED_Ref_Coulomb\"] = gen_led_frame(LED_pairwise_Ref_Coulomb)\n",
    "data_frames[\"LED_Ref_Exch\"] = gen_led_frame(LED_pairwise_Ref_Exch)\n",
    "data_frames[\"LED_Corr_Disp\"] = gen_led_frame(LED_pairwise_Corr_Disp)\n",
    "data_frames[\"LED_Total_Elprep\"] = gen_led_frame(LED_pairwise_Total_Elprep)\n",
    "data_frames[\"LED_Ref_Elprep\"] = gen_led_frame(LED_pairwise_Ref_Elprep)\n",
    "data_frames[\"LED_Corr_Elprep\"] = gen_led_frame(LED_pairwise_Corr_Elprep)"
   ]
  },
  {
   "cell_type": "markdown",
   "id": "c4694678",
   "metadata": {},
   "source": [
    "## Step 10: Visualization of the Results in Heatmaps\n",
    "\n",
    "Now we visualize the fp-LED total interaction energy in a heatmap:"
   ]
  },
  {
   "cell_type": "code",
   "execution_count": 12,
   "id": "3c9baafe",
   "metadata": {},
   "outputs": [
    {
     "name": "stdout",
     "output_type": "stream",
     "text": [
      "Visualization of fragments:\n"
     ]
    },
    {
     "data": {
      "application/3dmoljs_load.v0": "<div id=\"3dmolviewer_17500541828327925\"  style=\"position: relative; width: 400px; height: 400px;\">\n        <p id=\"3dmolwarning_17500541828327925\" style=\"background-color:#ffcccc;color:black\">3Dmol.js failed to load for some reason.  Please check your browser console for error messages.<br></p>\n        </div>\n<script>\n\nvar loadScriptAsync = function(uri){\n  return new Promise((resolve, reject) => {\n    //this is to ignore the existence of requirejs amd\n    var savedexports, savedmodule;\n    if (typeof exports !== 'undefined') savedexports = exports;\n    else exports = {}\n    if (typeof module !== 'undefined') savedmodule = module;\n    else module = {}\n\n    var tag = document.createElement('script');\n    tag.src = uri;\n    tag.async = true;\n    tag.onload = () => {\n        exports = savedexports;\n        module = savedmodule;\n        resolve();\n    };\n  var firstScriptTag = document.getElementsByTagName('script')[0];\n  firstScriptTag.parentNode.insertBefore(tag, firstScriptTag);\n});\n};\n\nif(typeof $3Dmolpromise === 'undefined') {\n$3Dmolpromise = null;\n  $3Dmolpromise = loadScriptAsync('https://cdn.jsdelivr.net/npm/3dmol@2.5.0/build/3Dmol-min.js');\n}\n\nvar viewer_17500541828327925 = null;\nvar warn = document.getElementById(\"3dmolwarning_17500541828327925\");\nif(warn) {\n    warn.parentNode.removeChild(warn);\n}\n$3Dmolpromise.then(function() {\nviewer_17500541828327925 = $3Dmol.createViewer(document.getElementById(\"3dmolviewer_17500541828327925\"),{backgroundColor:\"white\"});\nviewer_17500541828327925.zoomTo();\n\tviewer_17500541828327925.addModel(\"16\\n\\n   C   -7.95601053588590      3.15195494946836      0.27839423386884\\n   H   -8.05179200418556      2.32105035333223      0.97643318840757\\n   H   -8.76671687926839      3.06907938063429     -0.44469508271450\\n   H   -8.10439460873783      4.07476211185951      0.83796813304307\\n   C   -6.59679579710356      3.13992001745864     -0.41129316526153\\n   H   -6.44433232188420      2.21634557454439     -0.96856734466103\\n   H   -5.78737090643299      3.22474156709677      0.31305681682191\\n   H   -6.50317719735328      3.96948543870281     -1.11109265496380\\n   C   -7.98491788051681     -0.47692316195123     -0.27920144845602\\n   H   -8.79547255792874     -0.40025515615629      0.44475840345098\\n   H   -8.14024532507479     -1.38893575993245     -0.85442072275227\\n   H   -8.07387099754762      0.36622931992467     -0.96327738147245\\n   C   -6.62637230870360     -0.48881716933962      0.41184856873533\\n   H   -6.54173070676907     -1.33138502402438      1.09714355762301\\n   H   -6.46548339397797      0.42323949114744      0.98551040416686\\n   H   -5.81650657862927     -0.56907193276525     -0.31256550583595\\n\\n\",\"xyz\");\n\tviewer_17500541828327925.setStyle({},{\"stick\": {}, \"sphere\": {\"scale\": 0.3}});\n\tviewer_17500541828327925.zoomTo();\n\tviewer_17500541828327925.addLabel(\"1\",{\"position\": {\"x\": -7.9560105358859, \"y\": 3.15195494946836, \"z\": 0.27839423386884}, \"backgroundColor\": \"black\", \"fontColor\": \"white\", \"showBackground\": true, \"fontSize\": 12});\n\tviewer_17500541828327925.addLabel(\"1\",{\"position\": {\"x\": -8.05179200418556, \"y\": 2.32105035333223, \"z\": 0.97643318840757}, \"backgroundColor\": \"black\", \"fontColor\": \"white\", \"showBackground\": true, \"fontSize\": 12});\n\tviewer_17500541828327925.addLabel(\"1\",{\"position\": {\"x\": -8.76671687926839, \"y\": 3.06907938063429, \"z\": -0.4446950827145}, \"backgroundColor\": \"black\", \"fontColor\": \"white\", \"showBackground\": true, \"fontSize\": 12});\n\tviewer_17500541828327925.addLabel(\"1\",{\"position\": {\"x\": -8.10439460873783, \"y\": 4.07476211185951, \"z\": 0.83796813304307}, \"backgroundColor\": \"black\", \"fontColor\": \"white\", \"showBackground\": true, \"fontSize\": 12});\n\tviewer_17500541828327925.addLabel(\"2\",{\"position\": {\"x\": -6.59679579710356, \"y\": 3.13992001745864, \"z\": -0.41129316526153}, \"backgroundColor\": \"black\", \"fontColor\": \"white\", \"showBackground\": true, \"fontSize\": 12});\n\tviewer_17500541828327925.addLabel(\"2\",{\"position\": {\"x\": -6.4443323218842, \"y\": 2.21634557454439, \"z\": -0.96856734466103}, \"backgroundColor\": \"black\", \"fontColor\": \"white\", \"showBackground\": true, \"fontSize\": 12});\n\tviewer_17500541828327925.addLabel(\"2\",{\"position\": {\"x\": -5.78737090643299, \"y\": 3.22474156709677, \"z\": 0.31305681682191}, \"backgroundColor\": \"black\", \"fontColor\": \"white\", \"showBackground\": true, \"fontSize\": 12});\n\tviewer_17500541828327925.addLabel(\"2\",{\"position\": {\"x\": -6.50317719735328, \"y\": 3.96948543870281, \"z\": -1.1110926549638}, \"backgroundColor\": \"black\", \"fontColor\": \"white\", \"showBackground\": true, \"fontSize\": 12});\n\tviewer_17500541828327925.addLabel(\"3\",{\"position\": {\"x\": -7.98491788051681, \"y\": -0.47692316195123, \"z\": -0.27920144845602}, \"backgroundColor\": \"black\", \"fontColor\": \"white\", \"showBackground\": true, \"fontSize\": 12});\n\tviewer_17500541828327925.addLabel(\"3\",{\"position\": {\"x\": -8.79547255792874, \"y\": -0.40025515615629, \"z\": 0.44475840345098}, \"backgroundColor\": \"black\", \"fontColor\": \"white\", \"showBackground\": true, \"fontSize\": 12});\n\tviewer_17500541828327925.addLabel(\"3\",{\"position\": {\"x\": -8.14024532507479, \"y\": -1.38893575993245, \"z\": -0.85442072275227}, \"backgroundColor\": \"black\", \"fontColor\": \"white\", \"showBackground\": true, \"fontSize\": 12});\n\tviewer_17500541828327925.addLabel(\"3\",{\"position\": {\"x\": -8.07387099754762, \"y\": 0.36622931992467, \"z\": -0.96327738147245}, \"backgroundColor\": \"black\", \"fontColor\": \"white\", \"showBackground\": true, \"fontSize\": 12});\n\tviewer_17500541828327925.addLabel(\"4\",{\"position\": {\"x\": -6.6263723087036, \"y\": -0.48881716933962, \"z\": 0.41184856873533}, \"backgroundColor\": \"black\", \"fontColor\": \"white\", \"showBackground\": true, \"fontSize\": 12});\n\tviewer_17500541828327925.addLabel(\"4\",{\"position\": {\"x\": -6.54173070676907, \"y\": -1.33138502402438, \"z\": 1.09714355762301}, \"backgroundColor\": \"black\", \"fontColor\": \"white\", \"showBackground\": true, \"fontSize\": 12});\n\tviewer_17500541828327925.addLabel(\"4\",{\"position\": {\"x\": -6.46548339397797, \"y\": 0.42323949114744, \"z\": 0.98551040416686}, \"backgroundColor\": \"black\", \"fontColor\": \"white\", \"showBackground\": true, \"fontSize\": 12});\n\tviewer_17500541828327925.addLabel(\"4\",{\"position\": {\"x\": -5.81650657862927, \"y\": -0.56907193276525, \"z\": -0.31256550583595}, \"backgroundColor\": \"black\", \"fontColor\": \"white\", \"showBackground\": true, \"fontSize\": 12});\nviewer_17500541828327925.render();\n});\n</script>",
      "text/html": [
       "<div id=\"3dmolviewer_17500541828327925\"  style=\"position: relative; width: 400px; height: 400px;\">\n",
       "        <p id=\"3dmolwarning_17500541828327925\" style=\"background-color:#ffcccc;color:black\">3Dmol.js failed to load for some reason.  Please check your browser console for error messages.<br></p>\n",
       "        </div>\n",
       "<script>\n",
       "\n",
       "var loadScriptAsync = function(uri){\n",
       "  return new Promise((resolve, reject) => {\n",
       "    //this is to ignore the existence of requirejs amd\n",
       "    var savedexports, savedmodule;\n",
       "    if (typeof exports !== 'undefined') savedexports = exports;\n",
       "    else exports = {}\n",
       "    if (typeof module !== 'undefined') savedmodule = module;\n",
       "    else module = {}\n",
       "\n",
       "    var tag = document.createElement('script');\n",
       "    tag.src = uri;\n",
       "    tag.async = true;\n",
       "    tag.onload = () => {\n",
       "        exports = savedexports;\n",
       "        module = savedmodule;\n",
       "        resolve();\n",
       "    };\n",
       "  var firstScriptTag = document.getElementsByTagName('script')[0];\n",
       "  firstScriptTag.parentNode.insertBefore(tag, firstScriptTag);\n",
       "});\n",
       "};\n",
       "\n",
       "if(typeof $3Dmolpromise === 'undefined') {\n",
       "$3Dmolpromise = null;\n",
       "  $3Dmolpromise = loadScriptAsync('https://cdn.jsdelivr.net/npm/3dmol@2.5.0/build/3Dmol-min.js');\n",
       "}\n",
       "\n",
       "var viewer_17500541828327925 = null;\n",
       "var warn = document.getElementById(\"3dmolwarning_17500541828327925\");\n",
       "if(warn) {\n",
       "    warn.parentNode.removeChild(warn);\n",
       "}\n",
       "$3Dmolpromise.then(function() {\n",
       "viewer_17500541828327925 = $3Dmol.createViewer(document.getElementById(\"3dmolviewer_17500541828327925\"),{backgroundColor:\"white\"});\n",
       "viewer_17500541828327925.zoomTo();\n",
       "\tviewer_17500541828327925.addModel(\"16\\n\\n   C   -7.95601053588590      3.15195494946836      0.27839423386884\\n   H   -8.05179200418556      2.32105035333223      0.97643318840757\\n   H   -8.76671687926839      3.06907938063429     -0.44469508271450\\n   H   -8.10439460873783      4.07476211185951      0.83796813304307\\n   C   -6.59679579710356      3.13992001745864     -0.41129316526153\\n   H   -6.44433232188420      2.21634557454439     -0.96856734466103\\n   H   -5.78737090643299      3.22474156709677      0.31305681682191\\n   H   -6.50317719735328      3.96948543870281     -1.11109265496380\\n   C   -7.98491788051681     -0.47692316195123     -0.27920144845602\\n   H   -8.79547255792874     -0.40025515615629      0.44475840345098\\n   H   -8.14024532507479     -1.38893575993245     -0.85442072275227\\n   H   -8.07387099754762      0.36622931992467     -0.96327738147245\\n   C   -6.62637230870360     -0.48881716933962      0.41184856873533\\n   H   -6.54173070676907     -1.33138502402438      1.09714355762301\\n   H   -6.46548339397797      0.42323949114744      0.98551040416686\\n   H   -5.81650657862927     -0.56907193276525     -0.31256550583595\\n\\n\",\"xyz\");\n",
       "\tviewer_17500541828327925.setStyle({},{\"stick\": {}, \"sphere\": {\"scale\": 0.3}});\n",
       "\tviewer_17500541828327925.zoomTo();\n",
       "\tviewer_17500541828327925.addLabel(\"1\",{\"position\": {\"x\": -7.9560105358859, \"y\": 3.15195494946836, \"z\": 0.27839423386884}, \"backgroundColor\": \"black\", \"fontColor\": \"white\", \"showBackground\": true, \"fontSize\": 12});\n",
       "\tviewer_17500541828327925.addLabel(\"1\",{\"position\": {\"x\": -8.05179200418556, \"y\": 2.32105035333223, \"z\": 0.97643318840757}, \"backgroundColor\": \"black\", \"fontColor\": \"white\", \"showBackground\": true, \"fontSize\": 12});\n",
       "\tviewer_17500541828327925.addLabel(\"1\",{\"position\": {\"x\": -8.76671687926839, \"y\": 3.06907938063429, \"z\": -0.4446950827145}, \"backgroundColor\": \"black\", \"fontColor\": \"white\", \"showBackground\": true, \"fontSize\": 12});\n",
       "\tviewer_17500541828327925.addLabel(\"1\",{\"position\": {\"x\": -8.10439460873783, \"y\": 4.07476211185951, \"z\": 0.83796813304307}, \"backgroundColor\": \"black\", \"fontColor\": \"white\", \"showBackground\": true, \"fontSize\": 12});\n",
       "\tviewer_17500541828327925.addLabel(\"2\",{\"position\": {\"x\": -6.59679579710356, \"y\": 3.13992001745864, \"z\": -0.41129316526153}, \"backgroundColor\": \"black\", \"fontColor\": \"white\", \"showBackground\": true, \"fontSize\": 12});\n",
       "\tviewer_17500541828327925.addLabel(\"2\",{\"position\": {\"x\": -6.4443323218842, \"y\": 2.21634557454439, \"z\": -0.96856734466103}, \"backgroundColor\": \"black\", \"fontColor\": \"white\", \"showBackground\": true, \"fontSize\": 12});\n",
       "\tviewer_17500541828327925.addLabel(\"2\",{\"position\": {\"x\": -5.78737090643299, \"y\": 3.22474156709677, \"z\": 0.31305681682191}, \"backgroundColor\": \"black\", \"fontColor\": \"white\", \"showBackground\": true, \"fontSize\": 12});\n",
       "\tviewer_17500541828327925.addLabel(\"2\",{\"position\": {\"x\": -6.50317719735328, \"y\": 3.96948543870281, \"z\": -1.1110926549638}, \"backgroundColor\": \"black\", \"fontColor\": \"white\", \"showBackground\": true, \"fontSize\": 12});\n",
       "\tviewer_17500541828327925.addLabel(\"3\",{\"position\": {\"x\": -7.98491788051681, \"y\": -0.47692316195123, \"z\": -0.27920144845602}, \"backgroundColor\": \"black\", \"fontColor\": \"white\", \"showBackground\": true, \"fontSize\": 12});\n",
       "\tviewer_17500541828327925.addLabel(\"3\",{\"position\": {\"x\": -8.79547255792874, \"y\": -0.40025515615629, \"z\": 0.44475840345098}, \"backgroundColor\": \"black\", \"fontColor\": \"white\", \"showBackground\": true, \"fontSize\": 12});\n",
       "\tviewer_17500541828327925.addLabel(\"3\",{\"position\": {\"x\": -8.14024532507479, \"y\": -1.38893575993245, \"z\": -0.85442072275227}, \"backgroundColor\": \"black\", \"fontColor\": \"white\", \"showBackground\": true, \"fontSize\": 12});\n",
       "\tviewer_17500541828327925.addLabel(\"3\",{\"position\": {\"x\": -8.07387099754762, \"y\": 0.36622931992467, \"z\": -0.96327738147245}, \"backgroundColor\": \"black\", \"fontColor\": \"white\", \"showBackground\": true, \"fontSize\": 12});\n",
       "\tviewer_17500541828327925.addLabel(\"4\",{\"position\": {\"x\": -6.6263723087036, \"y\": -0.48881716933962, \"z\": 0.41184856873533}, \"backgroundColor\": \"black\", \"fontColor\": \"white\", \"showBackground\": true, \"fontSize\": 12});\n",
       "\tviewer_17500541828327925.addLabel(\"4\",{\"position\": {\"x\": -6.54173070676907, \"y\": -1.33138502402438, \"z\": 1.09714355762301}, \"backgroundColor\": \"black\", \"fontColor\": \"white\", \"showBackground\": true, \"fontSize\": 12});\n",
       "\tviewer_17500541828327925.addLabel(\"4\",{\"position\": {\"x\": -6.46548339397797, \"y\": 0.42323949114744, \"z\": 0.98551040416686}, \"backgroundColor\": \"black\", \"fontColor\": \"white\", \"showBackground\": true, \"fontSize\": 12});\n",
       "\tviewer_17500541828327925.addLabel(\"4\",{\"position\": {\"x\": -5.81650657862927, \"y\": -0.56907193276525, \"z\": -0.31256550583595}, \"backgroundColor\": \"black\", \"fontColor\": \"white\", \"showBackground\": true, \"fontSize\": 12});\n",
       "viewer_17500541828327925.render();\n",
       "});\n",
       "</script>"
      ]
     },
     "metadata": {},
     "output_type": "display_data"
    },
    {
     "name": "stdout",
     "output_type": "stream",
     "text": [
      "Total interaction energy is -0.7 kcal/mol\n"
     ]
    },
    {
     "data": {
      "image/png": "[encoded data removed]",
      "text/plain": [
       "<Figure size 600x500 with 2 Axes>"
      ]
     },
     "metadata": {},
     "output_type": "display_data"
    }
   ],
   "source": [
    "# Function to plot the results in a heatmap\n",
    "def plot_led(name: str, df: pd.DataFrame):\n",
    "    plt.figure(figsize=(6, 5))\n",
    "    sns.heatmap(df, annot=True,fmt=\".1f\", cmap=\"RdBu\", center=0)\n",
    "    plt.title(f\"{name} (kcal/mol)\")\n",
    "    plt.xlabel(\"Fragment X\")\n",
    "    plt.ylabel(\"Fragment Y\")\n",
    "    plt.show()\n",
    "\n",
    "# > Show the structure with fragment IDs once more\n",
    "print(\"Visualization of fragments:\")\n",
    "view.show()\n",
    "\n",
    "# > Calculate the total interaction energy between fragment 1 and everything else\n",
    "etot = np.nansum(data_frames[\"LED_Total\"].to_numpy())\n",
    "print(f\"Total interaction energy is {etot:.1f} kcal/mol\")\n",
    "\n",
    "# > Plot the heatmap\n",
    "plot_led(\"LED_Total\",data_frames[\"LED_Total\"])"
   ]
  },
  {
   "cell_type": "markdown",
   "id": "c68b2a78",
   "metadata": {},
   "source": [
    "## Step 11: Interpretation of the Results\n",
    "The heatmap shown above visualizes the pair-wise contributions to the interaction energy of fragment 1 and the rest. The overall interaction energy is negative. We can also plot different contributions:"
   ]
  },
  {
   "cell_type": "code",
   "execution_count": 13,
   "id": "04b4a12b",
   "metadata": {},
   "outputs": [
    {
     "data": {
      "image/png": "[encoded data removed]",
      "text/plain": [
       "<Figure size 600x500 with 2 Axes>"
      ]
     },
     "metadata": {},
     "output_type": "display_data"
    },
    {
     "data": {
      "image/png": "[encoded data removed]",
      "text/plain": [
       "<Figure size 600x500 with 2 Axes>"
      ]
     },
     "metadata": {},
     "output_type": "display_data"
    }
   ],
   "source": [
    "plot_led(\"LED_Ref\",data_frames[\"LED_Ref\"])\n",
    "plot_led(\"LED_Corr\",data_frames[\"LED_Corr\"])"
   ]
  },
  {
   "cell_type": "markdown",
   "id": "0e032186",
   "metadata": {},
   "source": [
    "It can be seen that the correlation effects are critical for the overall negative interaction energy.\n",
    "> **Note:** If you are interested in the other contributions you can download this notebook, run it on your computer, and plot the other heatmaps with the functionality provided here."
   ]
  },
  {
   "cell_type": "markdown",
   "id": "bc91f99b",
   "metadata": {},
   "source": [
    "## Summary\n",
    "The fp-CovaLED scheme was applied to an ethane dimer to showcase how to perform CovaLED calculations with the ORCA python interface (OPI). It is a helpful tool, e.g., for investigating protein&ndash;ligand interactions fragment-resolved. In principle, any structure can also be used with the autofragmentator, but care should be taken that no covalent bonds between the subsystems are broken."
   ]
  }
 ],
 "metadata": {
  "jupytext": {
   "cell_metadata_filter": "-all",
   "executable": "/usr/bin/env python3",
   "main_language": "python",
   "notebook_metadata_filter": "-all"
  },
  "kernelspec": {
   "display_name": ".venv",
   "language": "python",
   "name": "python3"
  },
  "language_info": {
   "codemirror_mode": {
    "name": "ipython",
    "version": 3
   },
   "file_extension": ".py",
   "mimetype": "text/x-python",
   "name": "python",
   "nbconvert_exporter": "python",
   "pygments_lexer": "ipython3",
   "version": "3.12.3"
  }
 },
 "nbformat": 4,
 "nbformat_minor": 5
}
