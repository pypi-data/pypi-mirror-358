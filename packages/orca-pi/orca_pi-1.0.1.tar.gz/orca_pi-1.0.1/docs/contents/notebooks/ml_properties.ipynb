{
 "cells": [
  {
   "cell_type": "markdown",
   "id": "2887ae18",
   "metadata": {},
   "source": [
    "# Properties for ML models\n",
    "\n",
    "This tutorial demonstrates how to use ORCA together with the ORCA python interface (OPI) to calculate electronic properties relevant for, e.g., training machine-learned interatomic potentials (MLIPs). As an example, we will use the reference level &omega;B97M-V/def2-TZVPD used for generating reliable training data, e.g., for [OMol25](https://arxiv.org/abs/2505.08762). As an exemplary molecule, we use 4-methylpyrazole.\n",
    "\n",
    "In this notebook we will:\n",
    "1.  Import the required python dependencies.\n",
    "2.  Define a working directory.\n",
    "3.  Set up the input structure.\n",
    "4.  Define the calculation settings.\n",
    "5.  Perform the ORCA calculation.\n",
    "6.  Check for proper termination and convergence.\n",
    "7.  Process the results."
   ]
  },
  {
   "cell_type": "markdown",
   "id": "0e7b75a9",
   "metadata": {},
   "source": [
    "## Step 1: Import Dependencies\n",
    "\n",
    "We start by importing the modules needed for:\n",
    "- Interfacing with ORCA input/output\n",
    "- Numerical calculations and data handling\n",
    "- Plotting results\n"
   ]
  },
  {
   "cell_type": "code",
   "execution_count": 1,
   "id": "78657414",
   "metadata": {},
   "outputs": [],
   "source": [
    "from pathlib import Path\n",
    "import shutil\n",
    "\n",
    "# > pandas and numpy for data handling\n",
    "import pandas as pd\n",
    "import numpy as np\n",
    "\n",
    "# > OPI imports for performing ORCA calculations and reading output\n",
    "from opi.core import Calculator\n",
    "from opi.output.core import Output\n",
    "from opi.input.simple_keywords import BasisSet, \\\n",
    "    Scf, AuxBasisSet, Approximation, Dft, Task, OutputControl, Grid\n",
    "from opi.input.structures.structure import Structure\n",
    "\n",
    "# > for visualization of molecules\n",
    "import py3Dmol"
   ]
  },
  {
   "cell_type": "markdown",
   "id": "28791864",
   "metadata": {},
   "source": [
    "## Step 2: Working directory\n",
    "\n",
    "We define a subfolder `RUN` in which the actual ORCA calculations will take place."
   ]
  },
  {
   "cell_type": "code",
   "execution_count": null,
   "id": "3e349fdf",
   "metadata": {},
   "outputs": [],
   "source": [
    "# > Calculation is performed in `RUN`\n",
    "working_dir = Path(\"RUN\")\n",
    "# > The `working_dir`is automatically (re-)created\n",
    "shutil.rmtree(working_dir, ignore_errors=True)\n",
    "working_dir.mkdir()"
   ]
  },
  {
   "cell_type": "markdown",
   "id": "5f638574",
   "metadata": {},
   "source": [
    "## Step 3: Setup the Input Structure\n",
    "\n",
    "We define the structure with Cartesian coordinates in angstrom and visualize it:\n"
   ]
  },
  {
   "cell_type": "code",
   "execution_count": 3,
   "id": "61fac6de",
   "metadata": {},
   "outputs": [
    {
     "data": {
      "application/3dmoljs_load.v0": "<div id=\"3dmolviewer_1750054109780941\"  style=\"position: relative; width: 400px; height: 400px;\">\n        <p id=\"3dmolwarning_1750054109780941\" style=\"background-color:#ffcccc;color:black\">3Dmol.js failed to load for some reason.  Please check your browser console for error messages.<br></p>\n        </div>\n<script>\n\nvar loadScriptAsync = function(uri){\n  return new Promise((resolve, reject) => {\n    //this is to ignore the existence of requirejs amd\n    var savedexports, savedmodule;\n    if (typeof exports !== 'undefined') savedexports = exports;\n    else exports = {}\n    if (typeof module !== 'undefined') savedmodule = module;\n    else module = {}\n\n    var tag = document.createElement('script');\n    tag.src = uri;\n    tag.async = true;\n    tag.onload = () => {\n        exports = savedexports;\n        module = savedmodule;\n        resolve();\n    };\n  var firstScriptTag = document.getElementsByTagName('script')[0];\n  firstScriptTag.parentNode.insertBefore(tag, firstScriptTag);\n});\n};\n\nif(typeof $3Dmolpromise === 'undefined') {\n$3Dmolpromise = null;\n  $3Dmolpromise = loadScriptAsync('https://cdn.jsdelivr.net/npm/3dmol@2.5.0/build/3Dmol-min.js');\n}\n\nvar viewer_1750054109780941 = null;\nvar warn = document.getElementById(\"3dmolwarning_1750054109780941\");\nif(warn) {\n    warn.parentNode.removeChild(warn);\n}\n$3Dmolpromise.then(function() {\nviewer_1750054109780941 = $3Dmol.createViewer(document.getElementById(\"3dmolviewer_1750054109780941\"),{backgroundColor:\"white\"});\nviewer_1750054109780941.zoomTo();\n\tviewer_1750054109780941.addModel(\"12\\n\\nN  1.3237  0.6845 -0.0002\\nN  1.4406 -0.6544 -0.0001\\nC -0.7492 -0.0043  0.0001\\nC  0.0327  1.1249  0.0002\\nC -2.2189 -0.0810 -0.0002\\nC  0.1711 -1.0697  0.0001\\nH -0.2057  2.1791  0.0003\\nH -2.6522  0.6920 -0.6433\\nH -2.5652 -1.0527 -0.3670\\nH -2.6091  0.0584  1.0131\\nH -0.0275 -2.1321  0.0003\\nH  2.1699  1.2401 -0.0003\\n\\n\",\"xyz\");\n\tviewer_1750054109780941.setStyle({},{\"stick\": {}, \"sphere\": {\"scale\": 0.3}});\n\tviewer_1750054109780941.zoomTo();\nviewer_1750054109780941.render();\n});\n</script>",
      "text/html": [
       "<div id=\"3dmolviewer_1750054109780941\"  style=\"position: relative; width: 400px; height: 400px;\">\n",
       "        <p id=\"3dmolwarning_1750054109780941\" style=\"background-color:#ffcccc;color:black\">3Dmol.js failed to load for some reason.  Please check your browser console for error messages.<br></p>\n",
       "        </div>\n",
       "<script>\n",
       "\n",
       "var loadScriptAsync = function(uri){\n",
       "  return new Promise((resolve, reject) => {\n",
       "    //this is to ignore the existence of requirejs amd\n",
       "    var savedexports, savedmodule;\n",
       "    if (typeof exports !== 'undefined') savedexports = exports;\n",
       "    else exports = {}\n",
       "    if (typeof module !== 'undefined') savedmodule = module;\n",
       "    else module = {}\n",
       "\n",
       "    var tag = document.createElement('script');\n",
       "    tag.src = uri;\n",
       "    tag.async = true;\n",
       "    tag.onload = () => {\n",
       "        exports = savedexports;\n",
       "        module = savedmodule;\n",
       "        resolve();\n",
       "    };\n",
       "  var firstScriptTag = document.getElementsByTagName('script')[0];\n",
       "  firstScriptTag.parentNode.insertBefore(tag, firstScriptTag);\n",
       "});\n",
       "};\n",
       "\n",
       "if(typeof $3Dmolpromise === 'undefined') {\n",
       "$3Dmolpromise = null;\n",
       "  $3Dmolpromise = loadScriptAsync('https://cdn.jsdelivr.net/npm/3dmol@2.5.0/build/3Dmol-min.js');\n",
       "}\n",
       "\n",
       "var viewer_1750054109780941 = null;\n",
       "var warn = document.getElementById(\"3dmolwarning_1750054109780941\");\n",
       "if(warn) {\n",
       "    warn.parentNode.removeChild(warn);\n",
       "}\n",
       "$3Dmolpromise.then(function() {\n",
       "viewer_1750054109780941 = $3Dmol.createViewer(document.getElementById(\"3dmolviewer_1750054109780941\"),{backgroundColor:\"white\"});\n",
       "viewer_1750054109780941.zoomTo();\n",
       "\tviewer_1750054109780941.addModel(\"12\\n\\nN  1.3237  0.6845 -0.0002\\nN  1.4406 -0.6544 -0.0001\\nC -0.7492 -0.0043  0.0001\\nC  0.0327  1.1249  0.0002\\nC -2.2189 -0.0810 -0.0002\\nC  0.1711 -1.0697  0.0001\\nH -0.2057  2.1791  0.0003\\nH -2.6522  0.6920 -0.6433\\nH -2.5652 -1.0527 -0.3670\\nH -2.6091  0.0584  1.0131\\nH -0.0275 -2.1321  0.0003\\nH  2.1699  1.2401 -0.0003\\n\\n\",\"xyz\");\n",
       "\tviewer_1750054109780941.setStyle({},{\"stick\": {}, \"sphere\": {\"scale\": 0.3}});\n",
       "\tviewer_1750054109780941.zoomTo();\n",
       "viewer_1750054109780941.render();\n",
       "});\n",
       "</script>"
      ]
     },
     "metadata": {},
     "output_type": "display_data"
    }
   ],
   "source": [
    "# > define cartesian coordinates in angstrom as python string \n",
    "xyz_data = \"\"\"\\\n",
    "12\n",
    "\n",
    "N  1.3237  0.6845 -0.0002\n",
    "N  1.4406 -0.6544 -0.0001\n",
    "C -0.7492 -0.0043  0.0001\n",
    "C  0.0327  1.1249  0.0002\n",
    "C -2.2189 -0.0810 -0.0002\n",
    "C  0.1711 -1.0697  0.0001\n",
    "H -0.2057  2.1791  0.0003\n",
    "H -2.6522  0.6920 -0.6433\n",
    "H -2.5652 -1.0527 -0.3670\n",
    "H -2.6091  0.0584  1.0131\n",
    "H -0.0275 -2.1321  0.0003\n",
    "H  2.1699  1.2401 -0.0003\\n\n",
    "\"\"\"\n",
    "# > Visualize the input structure\n",
    "view = py3Dmol.view(width=400, height=400)\n",
    "view.addModel(xyz_data, 'xyz')\n",
    "view.setStyle({}, {'stick': {}, 'sphere': {'scale': 0.3}})\n",
    "view.zoomTo()\n",
    "view.show()\n",
    "\n",
    "# > Write the input structure to a file\n",
    "with open(working_dir / \"struc.xyz\",\"w\") as f:\n",
    "    f.write(xyz_data)\n",
    "# > Read structure into object\n",
    "structure = Structure.from_xyz(working_dir / \"struc.xyz\")"
   ]
  },
  {
   "cell_type": "markdown",
   "id": "79a842c1",
   "metadata": {},
   "source": [
    "## Step 4: Define the Calculation Settings\n",
    "Next, we have to define the settings used in the ORCA calculation. This can be done by defining a calculator and adding simple keywords to it:"
   ]
  },
  {
   "cell_type": "code",
   "execution_count": 4,
   "id": "e6bc13a1",
   "metadata": {},
   "outputs": [],
   "source": [
    "def setup_calc(basename : str, working_dir: Path, structure: Structure, ncores: int = 4) -> Calculator:\n",
    "    # > Set up a Calculator object, the basename for the ORCA calculation is set to LED\n",
    "    calc = Calculator(basename=basename, working_dir=working_dir)\n",
    "    # > Assign structure to calculator\n",
    "    calc.structure = structure\n",
    "\n",
    "    # define a level of theory: wB97M-V/def2-TZVPPD with simple\n",
    "    sk_list = [\n",
    "        Dft.WB97M_V, # > wB97M-V method\n",
    "        BasisSet.DEF2_TZVPD, # > def2-TZVPD basis set\n",
    "        AuxBasisSet.DEF2_J, # > auxiliary basis set\n",
    "        Scf.TIGHTSCF, # > tight SCF\n",
    "        Approximation.RIJCOSX, # > Use RIJ and COSX\n",
    "        Grid.DEFGRID3, # > Large grid for exchange-correlation and COSX\n",
    "        Task.ENGRAD, # > Calculate energy and gradient\n",
    "        OutputControl.PRINTGAP, # > Print HOMO-LUMO gap\n",
    "    ]\n",
    "\n",
    "    # use simple keywords in calculator\n",
    "    calc.input.add_simple_keywords(*sk_list)\n",
    "\n",
    "    # Define number of CPUs for the calcualtion\n",
    "    calc.input.ncores = ncores # > 4 CPUs for this ORCA run\n",
    "\n",
    "    return calc\n",
    "\n",
    "calc = setup_calc(\"single_point\", working_dir=working_dir, structure=structure)"
   ]
  },
  {
   "cell_type": "markdown",
   "id": "951edfa2",
   "metadata": {},
   "source": [
    "## Step 5: Perform the ORCA calculation\n",
    "\n",
    "To perform the calculation, we have to write the input in ORCA format first, and then run the job by using the `run()` function of the calculator class. The output of ORCA can be written to the calculator with its `get_output()` function."
   ]
  },
  {
   "cell_type": "code",
   "execution_count": 5,
   "id": "2af6539f",
   "metadata": {},
   "outputs": [
    {
     "name": "stdout",
     "output_type": "stream",
     "text": [
      "Running ORCA calculation ...   Done\n"
     ]
    }
   ],
   "source": [
    "def run_calc(calc: Calculator) -> Output:\n",
    "    # > Write the ORCA input file\n",
    "    calc.write_input()\n",
    "    # > Run the ORCA calculation\n",
    "    print(\"Running ORCA calculation ...\", end=\"\")\n",
    "    calc.run()\n",
    "    print(\"   Done\")\n",
    "\n",
    "    # > Get the output object\n",
    "    output = calc.get_output()\n",
    "    \n",
    "    return output\n",
    "\n",
    "output = run_calc(calc)"
   ]
  },
  {
   "cell_type": "markdown",
   "id": "d7d28086",
   "metadata": {},
   "source": [
    "## Step 6: Check for Proper Termination and Convergence\n",
    "When performing automated computations, a termination and convergence check should always be included and, when computing larger data sets, failed convergence should be handled. A simple check could look like:"
   ]
  },
  {
   "cell_type": "code",
   "execution_count": 6,
   "id": "3f9871a3",
   "metadata": {},
   "outputs": [
    {
     "name": "stdout",
     "output_type": "stream",
     "text": [
      "SCF CONVERGED\n"
     ]
    }
   ],
   "source": [
    "def check_and_parse_output(output: Output):\n",
    "    # > Check for proper termination of ORCA\n",
    "    status = output.terminated_normally()\n",
    "    if not status:\n",
    "        # > ORCA did not terminate normally\n",
    "        raise RuntimeError(\"ORCA did not terminate normally. Please check RUN/single_point.out\")\n",
    "    else:\n",
    "        # > ORCA did terminate normally so we can parse the output\n",
    "        output.parse()\n",
    "\n",
    "    # Now check for convergence of the SCF\n",
    "    if output.results_properties.geometries[0].single_point_data.converged:\n",
    "        print(\"SCF CONVERGED\")\n",
    "    else:\n",
    "        raise RuntimeError(\"SCF DID NOT CONVERGE\")\n",
    "    \n",
    "check_and_parse_output(output)"
   ]
  },
  {
   "cell_type": "markdown",
   "id": "556b1376",
   "metadata": {},
   "source": [
    "## Step 7: Process the Results\n",
    "After a successful calculation, we can access the results and store them. For example:"
   ]
  },
  {
   "cell_type": "code",
   "execution_count": 7,
   "id": "2e6b996b",
   "metadata": {},
   "outputs": [
    {
     "name": "stdout",
     "output_type": "stream",
     "text": [
      "Restricted calculation detected.\n"
     ]
    }
   ],
   "source": [
    "def process_output(output: Output) -> dict:\n",
    "    # > Conversion factor for Hartree -> eV\n",
    "    h_to_eV = 27.2114\n",
    "    # > Conversion factor for Bohr -> Angstrom\n",
    "    bohr_to_A = 0.529177\n",
    "\n",
    "    # > Energy and gradient information\n",
    "    # > Total energy in eV\n",
    "    Etot = output.results_properties.geometries[0].single_point_data.finalenergy*h_to_eV\n",
    "    # > VV10 energy part in eV\n",
    "    # > Note that VV10 is self-consistent in gradient computations and thus ecnl is used\n",
    "    E_VV10 = output.results_properties.geometries[0].dft_energy.ecnl*h_to_eV\n",
    "    # > Gradient in eV/Bohr (list of size n_atoms containing one list per atom containing three entries)\n",
    "    Grad = output.results_properties.geometries[0].nuclear_gradient[0].grad\n",
    "    Grad = [[x * (h_to_eV/bohr_to_A) for x in nuc_grad] for nuc_grad in Grad]\n",
    "\n",
    "    # > General information\n",
    "    # > Charge of molecule (float value)\n",
    "    tot_chrg = output.results_properties.calculation_info.charge\n",
    "    # > Spin of molecule (float value)\n",
    "    tot_spin = output.results_properties.calculation_info.mult\n",
    "    # > Number of atoms (float value)\n",
    "    n_at = output.results_properties.calculation_info.numofatoms\n",
    "    # > Number of electrons (float value)\n",
    "    n_el = output.results_properties.calculation_info.numofelectrons\n",
    "    # > Number of basis functions (float value)\n",
    "    n_bf = output.results_properties.calculation_info.numofbasisfuncts\n",
    "    # > Number of alpha electrons (float value)\n",
    "    n_el_alp = output.results_properties.geometries[0].dft_energy.nalphael\n",
    "    # > Number of beta electrons (float value)\n",
    "    n_el_beta = output.results_properties.geometries[0].dft_energy.nbetael\n",
    "\n",
    "    # > Population analysis\n",
    "    # > Loewdin charges (list of size n_atoms containing lists with 3 entries)\n",
    "    chrgs_lowedin = output.results_properties.geometries[0].loewdin_population_analysis[0].atomiccharges\n",
    "    # > Mulliken charges (list of size n_atoms containing lists with 3 entries)\n",
    "    chrgs_mulliken = output.results_properties.geometries[0].mulliken_population_analysis[0].atomiccharges\n",
    "    # > Mayer bond order (list of size of the number of bonds)\n",
    "    bond_order = output.results_properties.geometries[0].mayer_population_analysis[0].bondorders\n",
    "    # > Mayer's total valence (list of size n_atoms)\n",
    "    va_mayer = output.results_properties.geometries[0].mayer_population_analysis[0].va\n",
    "\n",
    "    # > Dipole moments\n",
    "    # > Total dipole moments (list with 3 entries: x, y, z)\n",
    "    dip_tot = output.results_properties.geometries[0].dipole_moment[0].dipoletotal\n",
    "    # > Magnitude of dipole (float value)\n",
    "    dip_mag = output.results_properties.geometries[0].dipole_moment[0].dipolemagnitude\n",
    "    # > Electronic dipole contributions (list with 3 entries: x, y, z)\n",
    "    dip_el = output.results_properties.geometries[0].dipole_moment[0].dipoleeleccontrib\n",
    "    # > Nuclear dipole contributions (list with 3 entries: x, y, z)\n",
    "    dip_nu = output.results_properties.geometries[0].dipole_moment[0].dipolenuccontrib\n",
    "\n",
    "    # > MO handling\n",
    "    mos = output.results_gbw.molecule.molecularorbitals.mos # > saves a list of MOs with size n_atoms\n",
    "    mo_energies = []\n",
    "    mo_occupancy = []\n",
    "    for mo in mos:\n",
    "        mo_energies.append(mo.orbitalenergy) # > Extract the MO energies\n",
    "        mo_occupancy.append(mo.occupancy) # > Extract the occupation numbers\n",
    "    mo_energies = np.array(mo_energies) # > Make float list\n",
    "    mo_occupancy = np.array(mo_occupancy) # > Make float list\n",
    "    if np.all(np.isin(mo_occupancy, [1.0, 0.0])):\n",
    "        print(\"Unrestricted calculation detected.\")\n",
    "    elif np.all(np.isin(mo_occupancy, [2.0, 0.0])):\n",
    "        print(\"Restricted calculation detected.\")\n",
    "\n",
    "    HOMO_energy = np.max(mo_energies[(mo_occupancy == 1.0) | (mo_occupancy == 2.0)]) # > Detect HOMO energy\n",
    "    HOMO_energy = HOMO_energy * h_to_eV\n",
    "    LUMO_energy = np.min(mo_energies[mo_occupancy == 0.0]) # > Detect LUMO energy\n",
    "    LUMO_energy = LUMO_energy * h_to_eV\n",
    "\n",
    "    summary_data = {\n",
    "    \"Total Energy [eV]\": [Etot],\n",
    "    \"Gradient [ev/A]\": [str(Grad[0][0])[:10]+', '+str(Grad[1][0])[:10]+', '+str(Grad[2][0])[:10]],\n",
    "    \"VV10 Energy [eV]\": [E_VV10],\n",
    "    \"Dipole Magnitude\": [dip_mag],\n",
    "    \"Total Charge\": [tot_chrg],\n",
    "    \"Spin Multiplicity\": [tot_spin],\n",
    "    \"Number of Atoms\": [n_at],\n",
    "    \"Number of Electrons\": [n_el],\n",
    "    \"Alpha Electrons\": [n_el_alp],\n",
    "    \"Beta Electrons\": [n_el_beta],\n",
    "    \"Basis Functions\": [n_bf],\n",
    "    \"HOMO Energy [eV]\": [HOMO_energy],\n",
    "    \"LUMO Energy [eV]\": [LUMO_energy],\n",
    "    }\n",
    "    \n",
    "    return summary_data\n",
    "\n",
    "summary_data = process_output(output)"
   ]
  },
  {
   "cell_type": "markdown",
   "id": "4a5135e1",
   "metadata": {},
   "source": [
    "In the following, the resulting values are shown with pandas:"
   ]
  },
  {
   "cell_type": "code",
   "execution_count": 8,
   "id": "090cf317",
   "metadata": {},
   "outputs": [
    {
     "data": {
      "text/html": [
       "<div>\n",
       "<style scoped>\n",
       "    .dataframe tbody tr th:only-of-type {\n",
       "        vertical-align: middle;\n",
       "    }\n",
       "\n",
       "    .dataframe tbody tr th {\n",
       "        vertical-align: top;\n",
       "    }\n",
       "\n",
       "    .dataframe thead th {\n",
       "        text-align: right;\n",
       "    }\n",
       "</style>\n",
       "<table border=\"1\" class=\"dataframe\">\n",
       "  <thead>\n",
       "    <tr style=\"text-align: right;\">\n",
       "      <th></th>\n",
       "      <th></th>\n",
       "    </tr>\n",
       "  </thead>\n",
       "  <tbody>\n",
       "    <tr>\n",
       "      <th>Total Energy [eV]</th>\n",
       "      <td>-7224.999592</td>\n",
       "    </tr>\n",
       "    <tr>\n",
       "      <th>Gradient [ev/A]</th>\n",
       "      <td>-0.2618496, -0.2178024, -0.0299517</td>\n",
       "    </tr>\n",
       "    <tr>\n",
       "      <th>VV10 Energy [eV]</th>\n",
       "      <td>4.606442</td>\n",
       "    </tr>\n",
       "    <tr>\n",
       "      <th>Dipole Magnitude</th>\n",
       "      <td>0.942574</td>\n",
       "    </tr>\n",
       "    <tr>\n",
       "      <th>Total Charge</th>\n",
       "      <td>0</td>\n",
       "    </tr>\n",
       "    <tr>\n",
       "      <th>Spin Multiplicity</th>\n",
       "      <td>1</td>\n",
       "    </tr>\n",
       "    <tr>\n",
       "      <th>Number of Atoms</th>\n",
       "      <td>12</td>\n",
       "    </tr>\n",
       "    <tr>\n",
       "      <th>Number of Electrons</th>\n",
       "      <td>44</td>\n",
       "    </tr>\n",
       "    <tr>\n",
       "      <th>Alpha Electrons</th>\n",
       "      <td>22</td>\n",
       "    </tr>\n",
       "    <tr>\n",
       "      <th>Beta Electrons</th>\n",
       "      <td>22</td>\n",
       "    </tr>\n",
       "    <tr>\n",
       "      <th>Basis Functions</th>\n",
       "      <td>276</td>\n",
       "    </tr>\n",
       "    <tr>\n",
       "      <th>HOMO Energy [eV]</th>\n",
       "      <td>-9.049915</td>\n",
       "    </tr>\n",
       "    <tr>\n",
       "      <th>LUMO Energy [eV]</th>\n",
       "      <td>1.044256</td>\n",
       "    </tr>\n",
       "  </tbody>\n",
       "</table>\n",
       "</div>"
      ],
      "text/plain": [
       "                                                       \n",
       "Total Energy [eV]                          -7224.999592\n",
       "Gradient [ev/A]      -0.2618496, -0.2178024, -0.0299517\n",
       "VV10 Energy [eV]                               4.606442\n",
       "Dipole Magnitude                               0.942574\n",
       "Total Charge                                          0\n",
       "Spin Multiplicity                                     1\n",
       "Number of Atoms                                      12\n",
       "Number of Electrons                                  44\n",
       "Alpha Electrons                                      22\n",
       "Beta Electrons                                       22\n",
       "Basis Functions                                     276\n",
       "HOMO Energy [eV]                              -9.049915\n",
       "LUMO Energy [eV]                               1.044256"
      ]
     },
     "execution_count": 8,
     "metadata": {},
     "output_type": "execute_result"
    }
   ],
   "source": [
    "df_summary = pd.DataFrame(summary_data, index=[\"\"])\n",
    "df_summary.T"
   ]
  }
 ],
 "metadata": {
  "jupytext": {
   "cell_metadata_filter": "-all",
   "executable": "/usr/bin/env python3",
   "main_language": "python",
   "notebook_metadata_filter": "-all"
  },
  "kernelspec": {
   "display_name": ".venv",
   "language": "python",
   "name": "python3"
  },
  "language_info": {
   "codemirror_mode": {
    "name": "ipython",
    "version": 3
   },
   "file_extension": ".py",
   "mimetype": "text/x-python",
   "name": "python",
   "nbconvert_exporter": "python",
   "pygments_lexer": "ipython3",
   "version": "3.12.3"
  }
 },
 "nbformat": 4,
 "nbformat_minor": 5
}
