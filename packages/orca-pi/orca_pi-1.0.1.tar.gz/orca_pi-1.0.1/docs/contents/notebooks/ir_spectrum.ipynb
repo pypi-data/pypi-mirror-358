{
 "cells": [
  {
   "cell_type": "markdown",
   "id": "e0e99fee",
   "metadata": {},
   "source": [
    "# Calculation of an IR Spectrum\n",
    "\n",
    "This tutorial demonstrates the calculation of an IR spectrum using the ORCA python interface (OPI).\n",
    "\n",
    "In this notebook we will:\n",
    "1.  Import the required Python dependencies\n",
    "2.  Define a working directory\n",
    "3.  Set up an input structure for our calculation\n",
    "4.  Perform a frequency calculation in the gas-phase\n",
    "5.  Parse the results and plot it"
   ]
  },
  {
   "cell_type": "markdown",
   "id": "212717c9",
   "metadata": {},
   "source": [
    "## Step 1: Import Dependencies\n",
    "\n",
    "We start by importing the modules needed for:\n",
    "- Interfacing with ORCA input/output\n",
    "- Numerical calculations and data handling\n",
    "- Plotting results\n",
    "\n",
    "> **Note:** We additionally import modules for visualization/plotting like `py3Dmol`. For this, it might be necessary to install `py3Dmol` into your OPI `venv` (e.g., by activating the `.venv` and using `uv pip install py3Dmol`)."
   ]
  },
  {
   "cell_type": "code",
   "execution_count": 1,
   "id": "c4e782f3",
   "metadata": {},
   "outputs": [],
   "source": [
    "# > Import pathlib for directory handling\n",
    "from pathlib import Path\n",
    "import shutil\n",
    "\n",
    "# > Import numpy for data handling and numerical operations\n",
    "import numpy as np\n",
    "\n",
    "# > OPI imports for performing ORCA calculations and reading output\n",
    "from opi.core import Calculator\n",
    "from opi.input.simple_keywords import Dft, Task, BasisSet, Approximation, AuxBasisSet, DispersionCorrection\n",
    "from opi.input.structures.structure import Structure\n",
    "from opi.input.blocks.block_freq import BlockFreq\n",
    "\n",
    "# > Import libraries for visualization\n",
    "import matplotlib.pyplot as plt\n",
    "import py3Dmol"
   ]
  },
  {
   "cell_type": "markdown",
   "id": "df4fa70f",
   "metadata": {},
   "source": [
    "## Step 2: Define Working Directory\n",
    "\n",
    "All actual calculations will be performed in a subfolder **RUN_09**."
   ]
  },
  {
   "cell_type": "code",
   "execution_count": null,
   "id": "79954204",
   "metadata": {},
   "outputs": [],
   "source": [
    "# > Calculation is performed in `RUN`\n",
    "working_dir = Path(\"RUN\")\n",
    "# > The `working_dir`is automatically (re-)created\n",
    "shutil.rmtree(working_dir, ignore_errors=True)\n",
    "working_dir.mkdir()"
   ]
  },
  {
   "cell_type": "markdown",
   "id": "d20b43ee",
   "metadata": {},
   "source": [
    "## Step 3: Setup an Input Structure\n",
    "\n",
    "We use **methanol** as our example molecule. The 3D structure in Cartesian coordinates is defined in XYZ format and visualized.\n"
   ]
  },
  {
   "cell_type": "code",
   "execution_count": 3,
   "id": "ee3e7959",
   "metadata": {},
   "outputs": [
    {
     "data": {
      "application/3dmoljs_load.v0": "<div id=\"3dmolviewer_17500543976174674\"  style=\"position: relative; width: 500px; height: 500px;\">\n        <p id=\"3dmolwarning_17500543976174674\" style=\"background-color:#ffcccc;color:black\">3Dmol.js failed to load for some reason.  Please check your browser console for error messages.<br></p>\n        </div>\n<script>\n\nvar loadScriptAsync = function(uri){\n  return new Promise((resolve, reject) => {\n    //this is to ignore the existence of requirejs amd\n    var savedexports, savedmodule;\n    if (typeof exports !== 'undefined') savedexports = exports;\n    else exports = {}\n    if (typeof module !== 'undefined') savedmodule = module;\n    else module = {}\n\n    var tag = document.createElement('script');\n    tag.src = uri;\n    tag.async = true;\n    tag.onload = () => {\n        exports = savedexports;\n        module = savedmodule;\n        resolve();\n    };\n  var firstScriptTag = document.getElementsByTagName('script')[0];\n  firstScriptTag.parentNode.insertBefore(tag, firstScriptTag);\n});\n};\n\nif(typeof $3Dmolpromise === 'undefined') {\n$3Dmolpromise = null;\n  $3Dmolpromise = loadScriptAsync('https://cdn.jsdelivr.net/npm/3dmol@2.5.0/build/3Dmol-min.js');\n}\n\nvar viewer_17500543976174674 = null;\nvar warn = document.getElementById(\"3dmolwarning_17500543976174674\");\nif(warn) {\n    warn.parentNode.removeChild(warn);\n}\n$3Dmolpromise.then(function() {\nviewer_17500543976174674 = $3Dmol.createViewer(document.getElementById(\"3dmolviewer_17500543976174674\"),{backgroundColor:\"white\"});\nviewer_17500543976174674.zoomTo();\n\tviewer_17500543976174674.addModel(\"7\\n\\nO            1.14430000000000        0.24120000000000        0.00000000000000\\nC           -1.25740000000000        0.18150000000000        0.00000000000000\\nC            0.11300000000000       -0.42260000000000        0.00000000000000\\nH           -1.79380000000000       -0.14930000000000        0.89240000000000\\nH           -1.18650000000000        1.27190000000000        0.00160000000000\\nH           -1.79280000000000       -0.14680000000000       -0.89380000000000\\nH            0.14780000000000       -1.52520000000000       -0.00070000000000\\n\\n\",\"xyz\");\n\tviewer_17500543976174674.setStyle({\"stick\": {\"radius\": 0.1}, \"sphere\": {\"scale\": 0.2}});\n\tviewer_17500543976174674.setBackgroundColor(\"white\");\n\tviewer_17500543976174674.zoomTo();\nviewer_17500543976174674.render();\n});\n</script>",
      "text/html": [
       "<div id=\"3dmolviewer_17500543976174674\"  style=\"position: relative; width: 500px; height: 500px;\">\n",
       "        <p id=\"3dmolwarning_17500543976174674\" style=\"background-color:#ffcccc;color:black\">3Dmol.js failed to load for some reason.  Please check your browser console for error messages.<br></p>\n",
       "        </div>\n",
       "<script>\n",
       "\n",
       "var loadScriptAsync = function(uri){\n",
       "  return new Promise((resolve, reject) => {\n",
       "    //this is to ignore the existence of requirejs amd\n",
       "    var savedexports, savedmodule;\n",
       "    if (typeof exports !== 'undefined') savedexports = exports;\n",
       "    else exports = {}\n",
       "    if (typeof module !== 'undefined') savedmodule = module;\n",
       "    else module = {}\n",
       "\n",
       "    var tag = document.createElement('script');\n",
       "    tag.src = uri;\n",
       "    tag.async = true;\n",
       "    tag.onload = () => {\n",
       "        exports = savedexports;\n",
       "        module = savedmodule;\n",
       "        resolve();\n",
       "    };\n",
       "  var firstScriptTag = document.getElementsByTagName('script')[0];\n",
       "  firstScriptTag.parentNode.insertBefore(tag, firstScriptTag);\n",
       "});\n",
       "};\n",
       "\n",
       "if(typeof $3Dmolpromise === 'undefined') {\n",
       "$3Dmolpromise = null;\n",
       "  $3Dmolpromise = loadScriptAsync('https://cdn.jsdelivr.net/npm/3dmol@2.5.0/build/3Dmol-min.js');\n",
       "}\n",
       "\n",
       "var viewer_17500543976174674 = null;\n",
       "var warn = document.getElementById(\"3dmolwarning_17500543976174674\");\n",
       "if(warn) {\n",
       "    warn.parentNode.removeChild(warn);\n",
       "}\n",
       "$3Dmolpromise.then(function() {\n",
       "viewer_17500543976174674 = $3Dmol.createViewer(document.getElementById(\"3dmolviewer_17500543976174674\"),{backgroundColor:\"white\"});\n",
       "viewer_17500543976174674.zoomTo();\n",
       "\tviewer_17500543976174674.addModel(\"7\\n\\nO            1.14430000000000        0.24120000000000        0.00000000000000\\nC           -1.25740000000000        0.18150000000000        0.00000000000000\\nC            0.11300000000000       -0.42260000000000        0.00000000000000\\nH           -1.79380000000000       -0.14930000000000        0.89240000000000\\nH           -1.18650000000000        1.27190000000000        0.00160000000000\\nH           -1.79280000000000       -0.14680000000000       -0.89380000000000\\nH            0.14780000000000       -1.52520000000000       -0.00070000000000\\n\\n\",\"xyz\");\n",
       "\tviewer_17500543976174674.setStyle({\"stick\": {\"radius\": 0.1}, \"sphere\": {\"scale\": 0.2}});\n",
       "\tviewer_17500543976174674.setBackgroundColor(\"white\");\n",
       "\tviewer_17500543976174674.zoomTo();\n",
       "viewer_17500543976174674.render();\n",
       "});\n",
       "</script>"
      ]
     },
     "metadata": {},
     "output_type": "display_data"
    }
   ],
   "source": [
    "# > Define the molecule's Cartesian coordinates in Angstroem as python string \n",
    "xyz_data = \"\"\"\\\n",
    "7\n",
    "\n",
    "O            1.14430000000000        0.24120000000000        0.00000000000000\n",
    "C           -1.25740000000000        0.18150000000000        0.00000000000000\n",
    "C            0.11300000000000       -0.42260000000000        0.00000000000000\n",
    "H           -1.79380000000000       -0.14930000000000        0.89240000000000\n",
    "H           -1.18650000000000        1.27190000000000        0.00160000000000\n",
    "H           -1.79280000000000       -0.14680000000000       -0.89380000000000\n",
    "H            0.14780000000000       -1.52520000000000       -0.00070000000000\\n\n",
    "\"\"\"\n",
    "\n",
    "# > Visualize the molecular structure using py3Dmol\n",
    "view = py3Dmol.view(width=500, height=500)\n",
    "view.addModel(xyz_data, \"xyz\")\n",
    "view.setStyle({'stick': {'radius': 0.1}, 'sphere': {'scale': 0.2}})\n",
    "view.setBackgroundColor('white')\n",
    "view.zoomTo()\n",
    "view.show()\n",
    "\n",
    "# > Save the XYZ structure to a file\n",
    "with open(working_dir / \"struc.xyz\",\"w\") as f:\n",
    "    f.write(xyz_data)"
   ]
  },
  {
   "cell_type": "markdown",
   "id": "bc0c4e7d",
   "metadata": {},
   "source": [
    "## Step 4: Calculation in the Gas-Phase\n",
    "\n",
    "\n",
    "We run a geometry optimization and frequency calculation"
   ]
  },
  {
   "cell_type": "code",
   "execution_count": 4,
   "id": "e9a89662",
   "metadata": {},
   "outputs": [
    {
     "name": "stdout",
     "output_type": "stream",
     "text": [
      "Running ORCA frequency calculation ...   Done\n"
     ]
    }
   ],
   "source": [
    "# > Set up path and create directory for implicit model calculation\n",
    "xyz_file = working_dir / \"struc.xyz\"\n",
    "\n",
    "# > Create a Calculator object for ORCA input generation and execution\n",
    "calc = Calculator(basename=\"gas\", working_dir=working_dir)\n",
    "\n",
    "# > Load the molecular structure from XYZ file\n",
    "structure = Structure.from_xyz(xyz_file)\n",
    "calc.structure = structure\n",
    "calc.structure.charge = 0\n",
    "calc.structure.multiplicity = 1\n",
    "\n",
    "# > Add calculation keywords\n",
    "calc.input.add_simple_keywords(\n",
    "    Dft.B3LYP, # > B3LYP method\n",
    "    BasisSet.AUG_CC_PVDZ, # > daug-cc-pVDZ basis set\n",
    "    AuxBasisSet.DEF2_J, # > auxiliary basis set\n",
    "    Approximation.RIJCOSX, # > Use RIJ and COSX\n",
    "    DispersionCorrection.D4, # > Use D4 model\n",
    "    Task.FREQ # > Do analytical Hessian\n",
    ")\n",
    "\n",
    "calc.input.add_blocks(\n",
    "    BlockFreq(scalfreq=0.970) # > Optimal scaling factor for B3LYP/aug-cc-pVDZ\n",
    ")\n",
    "\n",
    "# > Write the ORCA input file\n",
    "calc.write_input()\n",
    "# > Run the ORCA calculation\n",
    "print(\"Running ORCA frequency calculation ...\", end=\"\")\n",
    "calc.run()\n",
    "print(\"   Done\")"
   ]
  },
  {
   "cell_type": "markdown",
   "id": "35602c02",
   "metadata": {},
   "source": [
    "## Step 5: Parse Vibrational Spectrum and Plot it\n",
    "\n",
    "We define a function for extracting the vibrational spectrum from the ORCA and plot it."
   ]
  },
  {
   "cell_type": "code",
   "execution_count": 5,
   "id": "e4562636",
   "metadata": {},
   "outputs": [
    {
     "data": {
      "image/png": "[encoded data removed]",
      "text/plain": [
       "<Figure size 1000x500 with 1 Axes>"
      ]
     },
     "metadata": {},
     "output_type": "display_data"
    }
   ],
   "source": [
    "def plot_vibrational_spectrum(vibrational_spectrum: Path) -> None:\n",
    "    wave_numbers = []\n",
    "    intensities = []\n",
    "\n",
    "    # > While frequencies are available in OPI,\n",
    "    # > intensities are currently not.\n",
    "    # > Therefore, we grep them manually.\n",
    "    with open(vibrational_spectrum) as f:\n",
    "        in_block = False\n",
    "        for line in f:\n",
    "            if not in_block and \"IR SPECTRUM\" in line:\n",
    "                in_block = True\n",
    "                for _ in range(5):\n",
    "                    next(f)\n",
    "            elif in_block and not line.strip():  # end of block\n",
    "                break\n",
    "            elif in_block:\n",
    "                parts = line.split()\n",
    "                try:\n",
    "                    wave_number = float(parts[1])\n",
    "                    intensity = float(parts[3])\n",
    "                    if wave_number > 0 and intensity > 0:\n",
    "                        wave_numbers.append(wave_number)\n",
    "                        intensities.append(intensity)\n",
    "                except ValueError:\n",
    "                    continue\n",
    "\n",
    "    # > Generate IR spectrum by creating a zero baseline and populating intensity values\n",
    "    max_wave = int(max(wave_numbers)) + 100\n",
    "    full_range = np.arange(0, max_wave, 1)\n",
    "    spectrum = np.zeros_like(full_range, dtype=float)\n",
    "\n",
    "    for wn, inten in zip(wave_numbers, intensities):\n",
    "        index = int(wn)\n",
    "        if index < len(spectrum):\n",
    "            spectrum[index] = inten\n",
    "\n",
    "    # > Plot the vibrational IR spectrum\n",
    "    plt.figure(figsize=(10, 5))\n",
    "    plt.plot(full_range, spectrum)\n",
    "    plt.xlabel('Wavenumber (cm⁻¹)')\n",
    "    plt.ylabel('IR Intensity (km/mol)')\n",
    "    plt.title('Vibrational Spectrum')\n",
    "    plt.grid(True)\n",
    "    plt.xlim(0, max_wave)\n",
    "    plt.ylim(0, max(intensities))\n",
    "    plt.tight_layout()\n",
    "    plt.show()\n",
    "\n",
    "# > Plot vibrational spectrum for implicit solvation result\n",
    "spectrum_path = working_dir / \"gas.out\"\n",
    "plot_vibrational_spectrum(spectrum_path)"
   ]
  },
  {
   "cell_type": "markdown",
   "id": "b44ecfb6",
   "metadata": {},
   "source": [
    "## Summary\n",
    "\n",
    "In this notebook we demonstrated how the ORCA Python interface can be employed to calculate the frequencies and intensities required for predicting an IR spectrum."
   ]
  }
 ],
 "metadata": {
  "kernelspec": {
   "display_name": ".venv",
   "language": "python",
   "name": "python3"
  },
  "language_info": {
   "codemirror_mode": {
    "name": "ipython",
    "version": 3
   },
   "file_extension": ".py",
   "mimetype": "text/x-python",
   "name": "python",
   "nbconvert_exporter": "python",
   "pygments_lexer": "ipython3",
   "version": "3.12.3"
  }
 },
 "nbformat": 4,
 "nbformat_minor": 5
}
