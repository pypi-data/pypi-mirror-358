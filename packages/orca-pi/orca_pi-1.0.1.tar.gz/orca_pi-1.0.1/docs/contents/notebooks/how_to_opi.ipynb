{
 "cells": [
  {
   "cell_type": "markdown",
   "id": "2887ae18",
   "metadata": {},
   "source": [
    "# How to OPI &ndash; A First Example\n",
    "\n",
    "This tutorial demonstrates the basic use of ORCA together with the ORCA python interface (OPI). As an example, we will simply compute the energy of a water molecule. Therefore, we will write a script that performs the OPI calculation and access the results. Both can be done with OPI.\n",
    "\n",
    "In this notebook we will:\n",
    "1.  Import the required python dependencies.\n",
    "2.  Define a working directory.\n",
    "3.  Set up the input structure.\n",
    "4.  Define the calculation settings.\n",
    "5.  Perform the ORCA calculation.\n",
    "6.  Check for proper termination and convergence.\n",
    "7.  Process the results."
   ]
  },
  {
   "cell_type": "markdown",
   "id": "0e7b75a9",
   "metadata": {},
   "source": [
    "## Step 1: Import Dependencies\n",
    "\n",
    "The first thing to do for using OPI is to import the modules needed. We additionally import also the modules for visualization like `py3Dmol`. For this, it might be necessary to install `py3Dmol` into your OPI `venv` (e.g., by activating the `.venv` and using `uv pip install py3Dmol`)."
   ]
  },
  {
   "cell_type": "code",
   "execution_count": 1,
   "id": "78657414",
   "metadata": {},
   "outputs": [],
   "source": [
    "from pathlib import Path\n",
    "import shutil\n",
    "\n",
    "# > OPI imports for performing ORCA calculations and reading output\n",
    "from opi.core import Calculator\n",
    "from opi.output.core import Output\n",
    "from opi.input.simple_keywords import Dft, Task\n",
    "from opi.input.structures.structure import Structure\n",
    "\n",
    "# > for visualization of molecules\n",
    "import py3Dmol"
   ]
  },
  {
   "cell_type": "markdown",
   "id": "28791864",
   "metadata": {},
   "source": [
    "## Step 2: Working Directory\n",
    "\n",
    "When working with OPI, it is always a good idea to define a subfolder in which the actual ORCA calculations will take place. In this case, we set up a `RUN` directory"
   ]
  },
  {
   "cell_type": "code",
   "execution_count": 2,
   "id": "3e349fdf",
   "metadata": {},
   "outputs": [],
   "source": [
    "# > Calculation is performed in `RUN`\n",
    "working_dir = Path(\"RUN\")\n",
    "# > The `working_dir`is automatically (re-)created\n",
    "shutil.rmtree(working_dir, ignore_errors=True)\n",
    "working_dir.mkdir()"
   ]
  },
  {
   "cell_type": "markdown",
   "id": "5f638574",
   "metadata": {},
   "source": [
    "## Step 3: Setup the Input Structure\n",
    "\n",
    "We define the structure with Cartesian coordinates in angstrom and visualize it:\n"
   ]
  },
  {
   "cell_type": "code",
   "execution_count": 3,
   "id": "61fac6de",
   "metadata": {},
   "outputs": [
    {
     "data": {
      "application/3dmoljs_load.v0": "<div id=\"3dmolviewer_17500548781483736\"  style=\"position: relative; width: 400px; height: 400px;\">\n        <p id=\"3dmolwarning_17500548781483736\" style=\"background-color:#ffcccc;color:black\">3Dmol.js failed to load for some reason.  Please check your browser console for error messages.<br></p>\n        </div>\n<script>\n\nvar loadScriptAsync = function(uri){\n  return new Promise((resolve, reject) => {\n    //this is to ignore the existence of requirejs amd\n    var savedexports, savedmodule;\n    if (typeof exports !== 'undefined') savedexports = exports;\n    else exports = {}\n    if (typeof module !== 'undefined') savedmodule = module;\n    else module = {}\n\n    var tag = document.createElement('script');\n    tag.src = uri;\n    tag.async = true;\n    tag.onload = () => {\n        exports = savedexports;\n        module = savedmodule;\n        resolve();\n    };\n  var firstScriptTag = document.getElementsByTagName('script')[0];\n  firstScriptTag.parentNode.insertBefore(tag, firstScriptTag);\n});\n};\n\nif(typeof $3Dmolpromise === 'undefined') {\n$3Dmolpromise = null;\n  $3Dmolpromise = loadScriptAsync('https://cdn.jsdelivr.net/npm/3dmol@2.5.0/build/3Dmol-min.js');\n}\n\nvar viewer_17500548781483736 = null;\nvar warn = document.getElementById(\"3dmolwarning_17500548781483736\");\nif(warn) {\n    warn.parentNode.removeChild(warn);\n}\n$3Dmolpromise.then(function() {\nviewer_17500548781483736 = $3Dmol.createViewer(document.getElementById(\"3dmolviewer_17500548781483736\"),{backgroundColor:\"white\"});\nviewer_17500548781483736.zoomTo();\n\tviewer_17500548781483736.addModel(\"3\\n\\nO      0.00000   -0.00000    0.00000\\nH      0.00000    0.96899    0.00000\\nH      0.93966   -0.23409    0.03434\\n\\n\",\"xyz\");\n\tviewer_17500548781483736.setStyle({},{\"stick\": {}, \"sphere\": {\"scale\": 0.3}});\n\tviewer_17500548781483736.zoomTo();\nviewer_17500548781483736.render();\n});\n</script>",
      "text/html": [
       "<div id=\"3dmolviewer_17500548781483736\"  style=\"position: relative; width: 400px; height: 400px;\">\n",
       "        <p id=\"3dmolwarning_17500548781483736\" style=\"background-color:#ffcccc;color:black\">3Dmol.js failed to load for some reason.  Please check your browser console for error messages.<br></p>\n",
       "        </div>\n",
       "<script>\n",
       "\n",
       "var loadScriptAsync = function(uri){\n",
       "  return new Promise((resolve, reject) => {\n",
       "    //this is to ignore the existence of requirejs amd\n",
       "    var savedexports, savedmodule;\n",
       "    if (typeof exports !== 'undefined') savedexports = exports;\n",
       "    else exports = {}\n",
       "    if (typeof module !== 'undefined') savedmodule = module;\n",
       "    else module = {}\n",
       "\n",
       "    var tag = document.createElement('script');\n",
       "    tag.src = uri;\n",
       "    tag.async = true;\n",
       "    tag.onload = () => {\n",
       "        exports = savedexports;\n",
       "        module = savedmodule;\n",
       "        resolve();\n",
       "    };\n",
       "  var firstScriptTag = document.getElementsByTagName('script')[0];\n",
       "  firstScriptTag.parentNode.insertBefore(tag, firstScriptTag);\n",
       "});\n",
       "};\n",
       "\n",
       "if(typeof $3Dmolpromise === 'undefined') {\n",
       "$3Dmolpromise = null;\n",
       "  $3Dmolpromise = loadScriptAsync('https://cdn.jsdelivr.net/npm/3dmol@2.5.0/build/3Dmol-min.js');\n",
       "}\n",
       "\n",
       "var viewer_17500548781483736 = null;\n",
       "var warn = document.getElementById(\"3dmolwarning_17500548781483736\");\n",
       "if(warn) {\n",
       "    warn.parentNode.removeChild(warn);\n",
       "}\n",
       "$3Dmolpromise.then(function() {\n",
       "viewer_17500548781483736 = $3Dmol.createViewer(document.getElementById(\"3dmolviewer_17500548781483736\"),{backgroundColor:\"white\"});\n",
       "viewer_17500548781483736.zoomTo();\n",
       "\tviewer_17500548781483736.addModel(\"3\\n\\nO      0.00000   -0.00000    0.00000\\nH      0.00000    0.96899    0.00000\\nH      0.93966   -0.23409    0.03434\\n\\n\",\"xyz\");\n",
       "\tviewer_17500548781483736.setStyle({},{\"stick\": {}, \"sphere\": {\"scale\": 0.3}});\n",
       "\tviewer_17500548781483736.zoomTo();\n",
       "viewer_17500548781483736.render();\n",
       "});\n",
       "</script>"
      ]
     },
     "metadata": {},
     "output_type": "display_data"
    }
   ],
   "source": [
    "# > Define cartesian coordinates in angstrom as python string \n",
    "xyz_data = \"\"\"\\\n",
    "3\n",
    "\n",
    "O      0.00000   -0.00000    0.00000\n",
    "H      0.00000    0.96899    0.00000\n",
    "H      0.93966   -0.23409    0.03434\\n\n",
    "\"\"\"\n",
    "# > Visualize the input structure\n",
    "view = py3Dmol.view(width=400, height=400)\n",
    "view.addModel(xyz_data, 'xyz')\n",
    "view.setStyle({}, {'stick': {}, 'sphere': {'scale': 0.3}})\n",
    "view.zoomTo()\n",
    "view.show()\n",
    "\n",
    "# > Write the input structure to a file\n",
    "with open(working_dir / \"struc.xyz\",\"w\") as f:\n",
    "    f.write(xyz_data)\n",
    "# > Read structure into object\n",
    "structure = Structure.from_xyz(working_dir / \"struc.xyz\")"
   ]
  },
  {
   "cell_type": "markdown",
   "id": "79a842c1",
   "metadata": {},
   "source": [
    "## Step 4: Define the Calculation Settings\n",
    "Next, we have to define the settings used in the ORCA optimization. This can be done by defining a calculator and adding simple keywords to it:"
   ]
  },
  {
   "cell_type": "code",
   "execution_count": 4,
   "id": "e6bc13a1",
   "metadata": {},
   "outputs": [],
   "source": [
    "def setup_calc(basename : str, working_dir: Path, structure: Structure, ncores: int = 1) -> Calculator:\n",
    "    # > Set up a Calculator object, the basename for the ORCA calculation is also set\n",
    "    calc = Calculator(basename=basename, working_dir=working_dir)\n",
    "    # > Assign structure to calculator\n",
    "    calc.structure = structure\n",
    "\n",
    "    # Define a level of theory: we use r2SCAN-3c for geometry optimization\n",
    "    sk_list = [\n",
    "        Dft.R2SCAN_3C, # > r2SCAN-3c method (Comes with a predefined basis set)\n",
    "        Task.SP # > Perform the singlepoint\n",
    "    ]\n",
    "\n",
    "    # > Use simple keywords in calculator\n",
    "    calc.input.add_simple_keywords(*sk_list)\n",
    "\n",
    "    # > Define number of CPUs for the calcualtion\n",
    "    calc.input.ncores = ncores # > CPUs for this ORCA run (default: 1)\n",
    "\n",
    "    return calc\n",
    "\n",
    "calc = setup_calc(\"single_point\", working_dir=working_dir, structure=structure)"
   ]
  },
  {
   "cell_type": "markdown",
   "id": "951edfa2",
   "metadata": {},
   "source": [
    "## Step 5: Perform the Calculation\n",
    "\n",
    "To perform the single-point calculation, we have to write the input in ORCA format first, and then run the job by using the `run()` function of the calculator class. The output of ORCA can be written to the calculator with its `get_output()` function."
   ]
  },
  {
   "cell_type": "code",
   "execution_count": 5,
   "id": "2af6539f",
   "metadata": {},
   "outputs": [
    {
     "name": "stdout",
     "output_type": "stream",
     "text": [
      "Running ORCA calculation ...   Done\n"
     ]
    }
   ],
   "source": [
    "def run_calc(calc: Calculator) -> Output:\n",
    "    # > Write the ORCA input file\n",
    "    calc.write_input()\n",
    "    # > Run the ORCA calculation\n",
    "    print(\"Running ORCA calculation ...\", end=\"\")\n",
    "    calc.run()\n",
    "    print(\"   Done\")\n",
    "\n",
    "    # > Get the output object\n",
    "    output = calc.get_output()\n",
    "    \n",
    "    return output\n",
    "\n",
    "output = run_calc(calc)"
   ]
  },
  {
   "cell_type": "markdown",
   "id": "d7d28086",
   "metadata": {},
   "source": [
    "## Step 6: Check for Proper Termination and Convergence\n",
    "When performing automated computations, a termination and convergence check should always be included. A simple check could look like:"
   ]
  },
  {
   "cell_type": "code",
   "execution_count": 6,
   "id": "3f9871a3",
   "metadata": {},
   "outputs": [
    {
     "name": "stdout",
     "output_type": "stream",
     "text": [
      "SCF CONVERGED\n"
     ]
    }
   ],
   "source": [
    "def check_and_parse_output(output: Output):\n",
    "    # > Check for proper termination of ORCA\n",
    "    status = output.terminated_normally()\n",
    "    if not status:\n",
    "        # > ORCA did not terminate normally\n",
    "        raise RuntimeError(\"ORCA did not terminate normally. Please check RUN/single_point.out\")\n",
    "    else:\n",
    "        # > ORCA did terminate normally so we can parse the output\n",
    "        output.parse()\n",
    "\n",
    "    # Now check for convergence of the SCF\n",
    "    if output.results_properties.geometries[0].single_point_data.converged:\n",
    "        print(\"SCF CONVERGED\")\n",
    "    else:\n",
    "        raise RuntimeError(\"SCF DID NOT CONVERGE\")\n",
    "    \n",
    "check_and_parse_output(output)"
   ]
  },
  {
   "cell_type": "markdown",
   "id": "556b1376",
   "metadata": {},
   "source": [
    "## Step 7: Access the Results\n",
    "After a successful calculation, we can access the resulting properties. They are generally available via the `output` object:"
   ]
  },
  {
   "cell_type": "code",
   "execution_count": 7,
   "id": "2e6b996b",
   "metadata": {},
   "outputs": [
    {
     "name": "stdout",
     "output_type": "stream",
     "text": [
      "Final energy in Hartee:  -76.41884216440265\n"
     ]
    }
   ],
   "source": [
    "# > Total energy in Hartee\n",
    "Etot = output.results_properties.geometries[0].single_point_data.finalenergy\n",
    "\n",
    "# > Print total energy\n",
    "print(\"Final energy in Hartee: \",Etot)"
   ]
  },
  {
   "cell_type": "markdown",
   "id": "2b65a93f",
   "metadata": {},
   "source": [
    "## Summary\n",
    "\n",
    "In this notebook we demonstrated how to perform a DFT single point energy calculation with the ORCA Python Interface (OPI). "
   ]
  }
 ],
 "metadata": {
  "jupytext": {
   "cell_metadata_filter": "-all",
   "executable": "/usr/bin/env python3",
   "main_language": "python",
   "notebook_metadata_filter": "-all"
  },
  "kernelspec": {
   "display_name": ".venv",
   "language": "python",
   "name": "python3"
  },
  "language_info": {
   "codemirror_mode": {
    "name": "ipython",
    "version": 3
   },
   "file_extension": ".py",
   "mimetype": "text/x-python",
   "name": "python",
   "nbconvert_exporter": "python",
   "pygments_lexer": "ipython3",
   "version": "3.12.3"
  }
 },
 "nbformat": 4,
 "nbformat_minor": 5
}
