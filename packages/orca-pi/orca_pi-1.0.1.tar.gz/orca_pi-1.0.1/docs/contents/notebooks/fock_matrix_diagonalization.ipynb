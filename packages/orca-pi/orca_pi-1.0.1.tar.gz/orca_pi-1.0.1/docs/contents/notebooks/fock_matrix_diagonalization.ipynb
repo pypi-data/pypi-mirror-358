{
 "cells": [
  {
   "cell_type": "markdown",
   "id": "71a2f48b",
   "metadata": {},
   "source": [
    "# Fock Matrix Diagonalization\n",
    "\n",
    "This tutorial demonstrates how to extract the Fock Matrix from an ORCA calculation using the ORCA python interface (OPI). After extraction the Fock matrix is diagonalized and Koopmans' theorem is used to estimate the ionization energy.\n",
    "\n",
    "In this notebook we will:\n",
    "1. Import the Required Dependencies\n",
    "2. Define a Working Directory and Prepare Structures\n",
    "3. Download and Prepare Molecular Structure from PubChem\n",
    "4. Run ORCA Calculations\n",
    "5. Extract Matrices and Perform Fock Matrix Diagonalization"
   ]
  },
  {
   "cell_type": "markdown",
   "id": "e86ab3fc",
   "metadata": {},
   "source": [
    "## Step 1: Import Dependencies\n",
    "\n",
    "We begin by importing all required Python modules for this tutorial. These include:\n",
    "\n",
    "- **File and directory handling**: for managing input/output files.\n",
    "- **JSON parsing**: for reading ORCA-generated GBW JSON files.\n",
    "- **Numerical libraries**: for matrix operations, diagonalization, and eigenvalue problems.\n",
    "- **PubChem data retrieval**: for downloading molecular structures directly from PubChem using REST APIs.\n",
    "- **RDKit**: for molecule handling, conversion, and generating 3D geometries.\n",
    "- **ORCA Python Interface (OPI)**: for setting up, running, and parsing ORCA quantum chemistry calculations.\n",
    "- **py3Dmol**: for interactive 3D visualization of molecular structures directly in the notebook.\n",
    "\n",
    "> **Note:** We additionally import modules for visualization/plotting like `py3Dmol`. For this, it might be necessary to install `py3Dmol` into your OPI `venv` (e.g., by activating the `.venv` and using `uv pip install py3Dmol`)."
   ]
  },
  {
   "cell_type": "code",
   "execution_count": 1,
   "id": "b4b88031",
   "metadata": {},
   "outputs": [],
   "source": [
    "# > Import pathlib for directory handling\n",
    "from pathlib import Path\n",
    "import shutil\n",
    "\n",
    "# > Import library for parsing and handling JSON data\n",
    "import json\n",
    "\n",
    "# > Import libraries for data handling and numerical operations\n",
    "import numpy as np\n",
    "from scipy.linalg import eigh\n",
    "\n",
    "# > Import libraries for retrieving molecular data from PubChem\n",
    "import requests\n",
    "from rdkit import Chem\n",
    "from rdkit.Chem import AllChem\n",
    "\n",
    "# > OPI imports for performing ORCA calculations and reading output\n",
    "from opi.core import Calculator\n",
    "from opi.input.structures.structure import Structure\n",
    "from opi.input.simple_keywords import BasisSet, Scf\n",
    "from opi.input.simple_keywords.method import Method\n",
    "\n",
    "# > Import py3Dmol for 3D molecular visualization\n",
    "import py3Dmol"
   ]
  },
  {
   "cell_type": "markdown",
   "id": "62980249",
   "metadata": {},
   "source": [
    "## Step 2: Define Working Directory\n",
    "\n",
    "All actual calculations will be performed in a subfolder `RUN`."
   ]
  },
  {
   "cell_type": "code",
   "execution_count": null,
   "id": "8712d717",
   "metadata": {},
   "outputs": [],
   "source": [
    "# > Calculation is performed in `RUN`\n",
    "working_dir = Path(\"RUN\")\n",
    "# > The `working_dir`is automatically (re-)created\n",
    "shutil.rmtree(working_dir, ignore_errors=True)\n",
    "working_dir.mkdir()\n",
    "# > Conversion factor for atomic units to eV\n",
    "unit_conversion = 27.211386"
   ]
  },
  {
   "cell_type": "markdown",
   "id": "986bd3db",
   "metadata": {},
   "source": [
    "## Step 3: Download and Prepare Molecular Structure from PubChem\n",
    "\n",
    "In this step, we retrieve the molecular structure of the target molecule directly from PubChem using its REST API.\n"
   ]
  },
  {
   "cell_type": "code",
   "execution_count": 3,
   "id": "3613f8e7",
   "metadata": {},
   "outputs": [
    {
     "data": {
      "application/3dmoljs_load.v0": "<div id=\"3dmolviewer_17500546305853076\"  style=\"position: relative; width: 500px; height: 500px;\">\n        <p id=\"3dmolwarning_17500546305853076\" style=\"background-color:#ffcccc;color:black\">3Dmol.js failed to load for some reason.  Please check your browser console for error messages.<br></p>\n        </div>\n<script>\n\nvar loadScriptAsync = function(uri){\n  return new Promise((resolve, reject) => {\n    //this is to ignore the existence of requirejs amd\n    var savedexports, savedmodule;\n    if (typeof exports !== 'undefined') savedexports = exports;\n    else exports = {}\n    if (typeof module !== 'undefined') savedmodule = module;\n    else module = {}\n\n    var tag = document.createElement('script');\n    tag.src = uri;\n    tag.async = true;\n    tag.onload = () => {\n        exports = savedexports;\n        module = savedmodule;\n        resolve();\n    };\n  var firstScriptTag = document.getElementsByTagName('script')[0];\n  firstScriptTag.parentNode.insertBefore(tag, firstScriptTag);\n});\n};\n\nif(typeof $3Dmolpromise === 'undefined') {\n$3Dmolpromise = null;\n  $3Dmolpromise = loadScriptAsync('https://cdn.jsdelivr.net/npm/3dmol@2.5.0/build/3Dmol-min.js');\n}\n\nvar viewer_17500546305853076 = null;\nvar warn = document.getElementById(\"3dmolwarning_17500546305853076\");\nif(warn) {\n    warn.parentNode.removeChild(warn);\n}\n$3Dmolpromise.then(function() {\nviewer_17500546305853076 = $3Dmol.createViewer(document.getElementById(\"3dmolviewer_17500546305853076\"),{backgroundColor:\"white\"});\nviewer_17500546305853076.zoomTo();\n\tviewer_17500546305853076.addModel(\"12\\nBenzene from PubChem\\nC 1.248304 -0.608663 0.020241\\nC 1.162910 0.783815 -0.009751\\nC 0.085880 -1.367215 0.029461\\nC -0.083862 1.377383 -0.029663\\nC -1.172897 -0.776179 0.009534\\nC -1.248874 0.600792 -0.020075\\nH 2.214636 -1.094188 0.036189\\nH 2.060975 1.401574 -0.017551\\nH 0.180920 -2.444718 0.052859\\nH -0.184018 2.470019 -0.053395\\nH -2.044321 -1.415992 0.017949\\nH -2.219655 1.073372 -0.035797\",\"xyz\");\n\tviewer_17500546305853076.setStyle({\"stick\": {\"radius\": 0.1}, \"sphere\": {\"scale\": 0.2}});\n\tviewer_17500546305853076.setBackgroundColor(\"white\");\n\tviewer_17500546305853076.zoomTo();\nviewer_17500546305853076.render();\n});\n</script>",
      "text/html": [
       "<div id=\"3dmolviewer_17500546305853076\"  style=\"position: relative; width: 500px; height: 500px;\">\n",
       "        <p id=\"3dmolwarning_17500546305853076\" style=\"background-color:#ffcccc;color:black\">3Dmol.js failed to load for some reason.  Please check your browser console for error messages.<br></p>\n",
       "        </div>\n",
       "<script>\n",
       "\n",
       "var loadScriptAsync = function(uri){\n",
       "  return new Promise((resolve, reject) => {\n",
       "    //this is to ignore the existence of requirejs amd\n",
       "    var savedexports, savedmodule;\n",
       "    if (typeof exports !== 'undefined') savedexports = exports;\n",
       "    else exports = {}\n",
       "    if (typeof module !== 'undefined') savedmodule = module;\n",
       "    else module = {}\n",
       "\n",
       "    var tag = document.createElement('script');\n",
       "    tag.src = uri;\n",
       "    tag.async = true;\n",
       "    tag.onload = () => {\n",
       "        exports = savedexports;\n",
       "        module = savedmodule;\n",
       "        resolve();\n",
       "    };\n",
       "  var firstScriptTag = document.getElementsByTagName('script')[0];\n",
       "  firstScriptTag.parentNode.insertBefore(tag, firstScriptTag);\n",
       "});\n",
       "};\n",
       "\n",
       "if(typeof $3Dmolpromise === 'undefined') {\n",
       "$3Dmolpromise = null;\n",
       "  $3Dmolpromise = loadScriptAsync('https://cdn.jsdelivr.net/npm/3dmol@2.5.0/build/3Dmol-min.js');\n",
       "}\n",
       "\n",
       "var viewer_17500546305853076 = null;\n",
       "var warn = document.getElementById(\"3dmolwarning_17500546305853076\");\n",
       "if(warn) {\n",
       "    warn.parentNode.removeChild(warn);\n",
       "}\n",
       "$3Dmolpromise.then(function() {\n",
       "viewer_17500546305853076 = $3Dmol.createViewer(document.getElementById(\"3dmolviewer_17500546305853076\"),{backgroundColor:\"white\"});\n",
       "viewer_17500546305853076.zoomTo();\n",
       "\tviewer_17500546305853076.addModel(\"12\\nBenzene from PubChem\\nC 1.248304 -0.608663 0.020241\\nC 1.162910 0.783815 -0.009751\\nC 0.085880 -1.367215 0.029461\\nC -0.083862 1.377383 -0.029663\\nC -1.172897 -0.776179 0.009534\\nC -1.248874 0.600792 -0.020075\\nH 2.214636 -1.094188 0.036189\\nH 2.060975 1.401574 -0.017551\\nH 0.180920 -2.444718 0.052859\\nH -0.184018 2.470019 -0.053395\\nH -2.044321 -1.415992 0.017949\\nH -2.219655 1.073372 -0.035797\",\"xyz\");\n",
       "\tviewer_17500546305853076.setStyle({\"stick\": {\"radius\": 0.1}, \"sphere\": {\"scale\": 0.2}});\n",
       "\tviewer_17500546305853076.setBackgroundColor(\"white\");\n",
       "\tviewer_17500546305853076.zoomTo();\n",
       "viewer_17500546305853076.render();\n",
       "});\n",
       "</script>"
      ]
     },
     "metadata": {},
     "output_type": "display_data"
    }
   ],
   "source": [
    "# > Download molecule data from PubChem\n",
    "mol_name = \"Benzene\"\n",
    "cid_url = f\"https://pubchem.ncbi.nlm.nih.gov/rest/pug/compound/name/{mol_name}/cids/JSON\"\n",
    "cid_response = requests.get(cid_url)\n",
    "cid_response.raise_for_status()\n",
    "cid = cid_response.json()['IdentifierList']['CID'][0]\n",
    "\n",
    "sdf_url = f\"https://pubchem.ncbi.nlm.nih.gov/rest/pug/compound/cid/{cid}/record/SDF/?record_type=3d\"\n",
    "sdf_response = requests.get(sdf_url)\n",
    "sdf_response.raise_for_status()\n",
    "sdf_data = sdf_response.text\n",
    "\n",
    "# > Parse SDF and generate 3D conformer with RDKit\n",
    "mol = Chem.MolFromMolBlock(sdf_data)\n",
    "mol = Chem.AddHs(mol)\n",
    "AllChem.EmbedMolecule(mol, AllChem.ETKDG())\n",
    "conf = mol.GetConformer()\n",
    "\n",
    "# > Convert to XYZ format\n",
    "num_atoms = mol.GetNumAtoms()\n",
    "lines = [str(num_atoms), f\"{mol_name} from PubChem\"]\n",
    "for atom in mol.GetAtoms():\n",
    "    pos = conf.GetAtomPosition(atom.GetIdx())\n",
    "    symbol = atom.GetSymbol()\n",
    "    lines.append(f\"{symbol} {pos.x:.6f} {pos.y:.6f} {pos.z:.6f}\")\n",
    "\n",
    "xyz_data = \"\\n\".join(lines)\n",
    "\n",
    "# > Visualize the molecular structure using py3Dmol\n",
    "view = py3Dmol.view(width=500, height=500)\n",
    "view.addModel(xyz_data, \"xyz\")\n",
    "view.setStyle({'stick': {'radius': 0.1}, 'sphere': {'scale': 0.2}})\n",
    "view.setBackgroundColor('white')\n",
    "view.zoomTo()\n",
    "view.show()\n",
    "\n",
    "# Save the XYZ structure to a file\n",
    "with open(working_dir / \"struc.xyz\",\"w\") as f:\n",
    "    f.write(xyz_data)"
   ]
  },
  {
   "cell_type": "markdown",
   "id": "5154dda2",
   "metadata": {},
   "source": [
    "## Step 4: ORCA Calculations\n",
    "\n",
    "Now, we perform a HF/STO-3G calculation. We set up a config_dict and use it to request integrals.  "
   ]
  },
  {
   "cell_type": "code",
   "execution_count": 4,
   "id": "6d5e55e6",
   "metadata": {},
   "outputs": [
    {
     "name": "stdout",
     "output_type": "stream",
     "text": [
      "Running ORCA calculation ...   Done\n"
     ]
    }
   ],
   "source": [
    "# > Set up path for the structure\n",
    "xyz_file = working_dir / \"struc.xyz\"\n",
    "\n",
    "# > Define GBW JSON configuration\n",
    "config_dict = {\n",
    "    \"MOCoefficients\": True,\n",
    "    \"1elPropertyIntegrals\": [\"dipole\"],\n",
    "    \"1elIntegrals\": [\"H\", \"S\"],\n",
    "    \"FockMatrix\": [\"F\", \"J\", \"K\"],\n",
    "    \"JSONFormats\": [\"json\"]\n",
    "}\n",
    "\n",
    "# > Create a Calculator object for ORCA input generation and execution\n",
    "calc = Calculator(basename=\"benzene\", working_dir=working_dir)\n",
    "\n",
    "# > Load the molecular structure from XYZ file\n",
    "structure = Structure.from_xyz(xyz_file)\n",
    "calc.structure = structure\n",
    "calc.structure.charge = 0\n",
    "calc.structure.multiplicity = 1\n",
    "\n",
    "# > Add calculation keywords\n",
    "calc.input.add_simple_keywords(\n",
    "            Method.HF,\n",
    "            BasisSet.STO_3G,\n",
    "            Scf.TIGHTSCF\n",
    ")\n",
    "\n",
    "# > Write the ORCA input file\n",
    "calc.write_input()\n",
    "# > Run the ORCA calculation\n",
    "print(\"Running ORCA calculation ...\", end=\"\")\n",
    "calc.run()\n",
    "print(\"   Done\")\n",
    "\n",
    "# > Get output and use it to create the gbw json output with config\n",
    "output = calc.get_output()\n",
    "status = output.terminated_normally()\n",
    "if status: \n",
    "    output.parse()\n",
    "    output.create_gbw_json(force=True,config=config_dict)\n",
    "else:\n",
    "    raise RuntimeError(\"ORCA did not terminate normally.\")"
   ]
  },
  {
   "cell_type": "markdown",
   "id": "43a24353",
   "metadata": {},
   "source": [
    "## Step 5: Extract Matrices and Perform Fock Matrix Diagonalization"
   ]
  },
  {
   "cell_type": "code",
   "execution_count": 5,
   "id": "1734d03b",
   "metadata": {},
   "outputs": [
    {
     "name": "stdout",
     "output_type": "stream",
     "text": [
      "Ionization energy (eV): 7.601747747143446\n"
     ]
    }
   ],
   "source": [
    "# Load the GBW JSON file\n",
    "with open(working_dir / \"benzene.json\") as f:\n",
    "    json_data = json.load(f)\n",
    "\n",
    "# Extract integrals from the JSON file:\n",
    "h = np.array(json_data['Molecule']['H-Matrix'])\n",
    "f = np.array(json_data['Molecule']['F-Matrix'][0])\n",
    "s = np.array(json_data['Molecule']['S-Matrix'])\n",
    "\n",
    "# Build the full AO Fock matrix by adding core Hamiltonian and Fock correction\n",
    "fao = h + f\n",
    "# Perform generalized eigenvalue problem\n",
    "eigenvalues, _ = eigh(fao, s)\n",
    "# Convert orbital energies from Hartree to eV\n",
    "eigenvalues_ev = eigenvalues * unit_conversion\n",
    "\n",
    "# Estimate ionization energy using Koopmans' theorem\n",
    "print(\"Ionization energy (eV):\", -max([e for e in eigenvalues_ev if e < 0]))"
   ]
  },
  {
   "cell_type": "markdown",
   "id": "93341b6e",
   "metadata": {},
   "source": [
    "## Summary\n",
    "\n",
    "In this notebook we demonstrated how to utilize the ORCA Python Interface (OPI) to obtain Integrals from an ORCA calculation. We used this functionality to obtain the Fock matrix of a benzene molecule, diagonalized it with `eigh`, and used Koopmans' theorem to estimate the ionization energy."
   ]
  }
 ],
 "metadata": {
  "kernelspec": {
   "display_name": ".venv",
   "language": "python",
   "name": "python3"
  },
  "language_info": {
   "codemirror_mode": {
    "name": "ipython",
    "version": 3
   },
   "file_extension": ".py",
   "mimetype": "text/x-python",
   "name": "python",
   "nbconvert_exporter": "python",
   "pygments_lexer": "ipython3",
   "version": "3.12.3"
  }
 },
 "nbformat": 4,
 "nbformat_minor": 5
}
