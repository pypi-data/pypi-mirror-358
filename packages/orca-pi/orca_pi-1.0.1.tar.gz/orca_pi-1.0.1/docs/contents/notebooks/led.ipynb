{
 "cells": [
  {
   "cell_type": "markdown",
   "id": "2887ae18",
   "metadata": {},
   "source": [
    "# LED Analysis\n",
    "\n",
    "This tutorial demonstrates how to use ORCA together with the ORCA python interface (OPI) to perform a **[Local Energy Decomposition (LED)](https://doi.org/10.1021/acs.jctc.6b00523)** analysis to decompose the interaction energy of a non-covalent host-guest complex. Additionally, post-processing for the **[fragment-pairwise LED (fp-LED)](https://doi.org/10.1002/anie.202421922)** is performed, which allows the decomposition of interaction energies in exclusively pair-wise contributions.\n",
    "\n",
    "In this notebook we will:\n",
    "1.  Import the required python dependencies.\n",
    "2.  Define a working directory.\n",
    "3.  Set up a host&ndash;guest input structure for our calculation.\n",
    "4.  Run an LED calculation for the complete system.\n",
    "5.  Assign a host and a guest automatically.\n",
    "6.  Run calculations for host and guest.\n",
    "7.  Perform post-processing for the standard LED.\n",
    "8.  Perform post-processing for the fp-LED.\n",
    "9.  Gather the results in pandas dataframes.\n",
    "10. Visualize the LED interactions with heatmaps.\n",
    "11. Interpretation of the results."
   ]
  },
  {
   "cell_type": "markdown",
   "id": "0e7b75a9",
   "metadata": {},
   "source": [
    "## Step 1: Import Dependencies\n",
    "\n",
    "We start by importing the modules needed for:\n",
    "- Interfacing with ORCA input/output\n",
    "- Numerical calculations and data handling\n",
    "- Plotting results\n",
    "\n",
    "> **Note:** We additionally import modules for visualization/plotting like `py3Dmol`. For this, it might be necessary to install `py3Dmol` into your OPI `venv` (e.g., by activating the `.venv` and using `uv pip install py3Dmol`)."
   ]
  },
  {
   "cell_type": "code",
   "execution_count": 1,
   "id": "78657414",
   "metadata": {},
   "outputs": [],
   "source": [
    "from pathlib import Path\n",
    "import shutil\n",
    "\n",
    "# > pandas and numpy for data handling\n",
    "import pandas as pd\n",
    "import numpy as np\n",
    "\n",
    "# > OPI imports for performing ORCA calculations and reading the output\n",
    "from opi.core import Calculator\n",
    "from opi.output.core import Output\n",
    "from opi.input.simple_keywords import BasisSet, Dlpno, \\\n",
    "    Scf, AuxBasisSet, Approximation, Wft\n",
    "from opi.input.structures.structure import Structure\n",
    "\n",
    "# > For plotting results visualization of molecules\n",
    "import matplotlib.pyplot as plt\n",
    "import seaborn as sns\n",
    "import py3Dmol"
   ]
  },
  {
   "cell_type": "markdown",
   "id": "28791864",
   "metadata": {},
   "source": [
    "## Step 2: Working Directory and Conversion Factor\n",
    "\n",
    "We define a subfolder `RUN` in which the actual ORCA calculations will take place. Also, we define a conversion factor, since we want the resulting interaction energies in kcal/mol for better interpretability."
   ]
  },
  {
   "cell_type": "code",
   "execution_count": null,
   "id": "3e349fdf",
   "metadata": {},
   "outputs": [],
   "source": [
    "# > Calculation is performed in `RUN`\n",
    "working_dir = Path(\"RUN\")\n",
    "# > The `working_dir`is automatically (re-)created\n",
    "shutil.rmtree(working_dir, ignore_errors=True)\n",
    "working_dir.mkdir()\n",
    "# > Conversion factor for atomic units to kcal/mol\n",
    "unit_conversion = 627.509 "
   ]
  },
  {
   "cell_type": "markdown",
   "id": "5f638574",
   "metadata": {},
   "source": [
    "## Step 3: Setup the Input Structure\n",
    "\n",
    "As an example we will look at the interaction of methanol with three water molecules. The 3D structure in Cartesian coordinates is defined and visualized:\n"
   ]
  },
  {
   "cell_type": "code",
   "execution_count": 3,
   "id": "61fac6de",
   "metadata": {},
   "outputs": [
    {
     "data": {
      "application/3dmoljs_load.v0": "<div id=\"3dmolviewer_17500541340222764\"  style=\"position: relative; width: 400px; height: 400px;\">\n        <p id=\"3dmolwarning_17500541340222764\" style=\"background-color:#ffcccc;color:black\">3Dmol.js failed to load for some reason.  Please check your browser console for error messages.<br></p>\n        </div>\n<script>\n\nvar loadScriptAsync = function(uri){\n  return new Promise((resolve, reject) => {\n    //this is to ignore the existence of requirejs amd\n    var savedexports, savedmodule;\n    if (typeof exports !== 'undefined') savedexports = exports;\n    else exports = {}\n    if (typeof module !== 'undefined') savedmodule = module;\n    else module = {}\n\n    var tag = document.createElement('script');\n    tag.src = uri;\n    tag.async = true;\n    tag.onload = () => {\n        exports = savedexports;\n        module = savedmodule;\n        resolve();\n    };\n  var firstScriptTag = document.getElementsByTagName('script')[0];\n  firstScriptTag.parentNode.insertBefore(tag, firstScriptTag);\n});\n};\n\nif(typeof $3Dmolpromise === 'undefined') {\n$3Dmolpromise = null;\n  $3Dmolpromise = loadScriptAsync('https://cdn.jsdelivr.net/npm/3dmol@2.5.0/build/3Dmol-min.js');\n}\n\nvar viewer_17500541340222764 = null;\nvar warn = document.getElementById(\"3dmolwarning_17500541340222764\");\nif(warn) {\n    warn.parentNode.removeChild(warn);\n}\n$3Dmolpromise.then(function() {\nviewer_17500541340222764 = $3Dmol.createViewer(document.getElementById(\"3dmolviewer_17500541340222764\"),{backgroundColor:\"white\"});\nviewer_17500541340222764.zoomTo();\n\tviewer_17500541340222764.addModel(\"15\\n\\nO      1.88878   -1.95233   -0.28948\\nH      2.92501   -3.28661    0.90657\\nH      2.93956   -3.64997   -0.83856\\nH      1.44798   -3.87401    0.10426\\nC      2.33580   -3.25294   -0.01484\\nH      2.64332   -1.32264   -0.27726\\nO      0.00000    0.00000    0.00000\\nH     -0.61425   -0.07593   -0.73002\\nH      0.54322   -0.80712   -0.00284\\nO      1.86706    1.85104    0.75482\\nH      1.22835    1.18615    0.44091\\nH      1.34844    2.58596    1.08333\\nO      3.79229   -0.00000   -0.00000\\nH      3.21057    0.64166    0.42375\\nH      4.29234    0.44984   -0.68198\\n\\n\",\"xyz\");\n\tviewer_17500541340222764.setStyle({},{\"stick\": {}, \"sphere\": {\"scale\": 0.3}});\n\tviewer_17500541340222764.zoomTo();\nviewer_17500541340222764.render();\n});\n</script>",
      "text/html": [
       "<div id=\"3dmolviewer_17500541340222764\"  style=\"position: relative; width: 400px; height: 400px;\">\n",
       "        <p id=\"3dmolwarning_17500541340222764\" style=\"background-color:#ffcccc;color:black\">3Dmol.js failed to load for some reason.  Please check your browser console for error messages.<br></p>\n",
       "        </div>\n",
       "<script>\n",
       "\n",
       "var loadScriptAsync = function(uri){\n",
       "  return new Promise((resolve, reject) => {\n",
       "    //this is to ignore the existence of requirejs amd\n",
       "    var savedexports, savedmodule;\n",
       "    if (typeof exports !== 'undefined') savedexports = exports;\n",
       "    else exports = {}\n",
       "    if (typeof module !== 'undefined') savedmodule = module;\n",
       "    else module = {}\n",
       "\n",
       "    var tag = document.createElement('script');\n",
       "    tag.src = uri;\n",
       "    tag.async = true;\n",
       "    tag.onload = () => {\n",
       "        exports = savedexports;\n",
       "        module = savedmodule;\n",
       "        resolve();\n",
       "    };\n",
       "  var firstScriptTag = document.getElementsByTagName('script')[0];\n",
       "  firstScriptTag.parentNode.insertBefore(tag, firstScriptTag);\n",
       "});\n",
       "};\n",
       "\n",
       "if(typeof $3Dmolpromise === 'undefined') {\n",
       "$3Dmolpromise = null;\n",
       "  $3Dmolpromise = loadScriptAsync('https://cdn.jsdelivr.net/npm/3dmol@2.5.0/build/3Dmol-min.js');\n",
       "}\n",
       "\n",
       "var viewer_17500541340222764 = null;\n",
       "var warn = document.getElementById(\"3dmolwarning_17500541340222764\");\n",
       "if(warn) {\n",
       "    warn.parentNode.removeChild(warn);\n",
       "}\n",
       "$3Dmolpromise.then(function() {\n",
       "viewer_17500541340222764 = $3Dmol.createViewer(document.getElementById(\"3dmolviewer_17500541340222764\"),{backgroundColor:\"white\"});\n",
       "viewer_17500541340222764.zoomTo();\n",
       "\tviewer_17500541340222764.addModel(\"15\\n\\nO      1.88878   -1.95233   -0.28948\\nH      2.92501   -3.28661    0.90657\\nH      2.93956   -3.64997   -0.83856\\nH      1.44798   -3.87401    0.10426\\nC      2.33580   -3.25294   -0.01484\\nH      2.64332   -1.32264   -0.27726\\nO      0.00000    0.00000    0.00000\\nH     -0.61425   -0.07593   -0.73002\\nH      0.54322   -0.80712   -0.00284\\nO      1.86706    1.85104    0.75482\\nH      1.22835    1.18615    0.44091\\nH      1.34844    2.58596    1.08333\\nO      3.79229   -0.00000   -0.00000\\nH      3.21057    0.64166    0.42375\\nH      4.29234    0.44984   -0.68198\\n\\n\",\"xyz\");\n",
       "\tviewer_17500541340222764.setStyle({},{\"stick\": {}, \"sphere\": {\"scale\": 0.3}});\n",
       "\tviewer_17500541340222764.zoomTo();\n",
       "viewer_17500541340222764.render();\n",
       "});\n",
       "</script>"
      ]
     },
     "metadata": {},
     "output_type": "display_data"
    }
   ],
   "source": [
    "# > Define cartesian coordinates in Angstroem as python string \n",
    "# > In principle, this can be replaced with other small neutral nci complexes\n",
    "xyz_data = \"\"\"\\\n",
    "15\n",
    "\n",
    "O      1.88878   -1.95233   -0.28948\n",
    "H      2.92501   -3.28661    0.90657\n",
    "H      2.93956   -3.64997   -0.83856\n",
    "H      1.44798   -3.87401    0.10426\n",
    "C      2.33580   -3.25294   -0.01484\n",
    "H      2.64332   -1.32264   -0.27726\n",
    "O      0.00000    0.00000    0.00000\n",
    "H     -0.61425   -0.07593   -0.73002\n",
    "H      0.54322   -0.80712   -0.00284\n",
    "O      1.86706    1.85104    0.75482\n",
    "H      1.22835    1.18615    0.44091\n",
    "H      1.34844    2.58596    1.08333\n",
    "O      3.79229   -0.00000   -0.00000\n",
    "H      3.21057    0.64166    0.42375\n",
    "H      4.29234    0.44984   -0.68198\\n\n",
    "\"\"\"\n",
    "# > Visualize the input structure\n",
    "view = py3Dmol.view(width=400, height=400)\n",
    "view.addModel(xyz_data, 'xyz')\n",
    "view.setStyle({}, {'stick': {}, 'sphere': {'scale': 0.3}})\n",
    "view.zoomTo()\n",
    "view.show()\n",
    "\n",
    "# > Write the input structure to a file\n",
    "with open(working_dir / \"struc.xyz\",\"w\") as f:\n",
    "    f.write(xyz_data)\n",
    "# > Read structure into object\n",
    "structure = Structure.from_xyz(working_dir / \"struc.xyz\")"
   ]
  },
  {
   "cell_type": "markdown",
   "id": "951edfa2",
   "metadata": {},
   "source": [
    "## Step 4: Run LED for the Supramolecular System\n",
    "\n",
    "First, we run an LED calculation with DLPNO-CCSD(T)/def2-SVP for the complete system using `NORMALPNO` and `NORMALSCF` settings. We choose the small basis set and only moderate PNO and SCF settings to keep the computational costs for this notebook small. Note that these settings are usually not sufficient for production runs. The Fragments in the LED calculation will automatically be detected by ORCA (four fragments in this example, one for each molecule), but can also manually be assigned. We define and run three helper functions: `setup_calc`, `run_calc`, and `check_and_parse_output`. \n",
    "\n",
    "First, we set up the calculation with `setup_calc`:"
   ]
  },
  {
   "cell_type": "code",
   "execution_count": 4,
   "id": "2af6539f",
   "metadata": {},
   "outputs": [],
   "source": [
    "def setup_calc(basename : str, working_dir: Path, structure: Structure, ncores: int = 4) -> Calculator:\n",
    "    # > Set up a Calculator object\n",
    "    calc = Calculator(basename=basename, working_dir=working_dir)\n",
    "    # > Assign structure to calculator\n",
    "    calc.structure = structure\n",
    "\n",
    "    # > Define a simple keyword list for the ORCA calculation\n",
    "    sk_list = [\n",
    "    Wft.DLPNO_CCSD_T, # > Use DLPNO-CCSD(T)\n",
    "    BasisSet.DEF2_SVP, # > Use the def2-SVP basis set\n",
    "    AuxBasisSet.DEF2_SVP_C, # > Use the def2-svp/c auxiliary basis set\n",
    "    AuxBasisSet.DEF2_J, # > Use the def2-svp/j auxiliary basis set\n",
    "    Dlpno.NORMALPNO, # > normal PNO settings\n",
    "    Scf.NORMALSCF, # > normal SCF settings\n",
    "    Approximation.RIJCOSX, # > Use RIJCOSX\n",
    "    Dlpno.LED, # > Make energy decomposition\n",
    "    ]\n",
    "\n",
    "    # use simple keywords in calculator\n",
    "    calc.input.add_simple_keywords(*sk_list)\n",
    "\n",
    "    # Define number of CPUs for the calcualtion\n",
    "    calc.input.ncores = ncores # > 4 CPUs for this ORCA run\n",
    "\n",
    "    return calc\n",
    "\n",
    "calc_supersystem = setup_calc(\"supersystem\", working_dir=working_dir, structure=structure)"
   ]
  },
  {
   "cell_type": "markdown",
   "id": "26b1f036",
   "metadata": {},
   "source": [
    "Then we run the calculation with `run_calc` and obtain the output:"
   ]
  },
  {
   "cell_type": "code",
   "execution_count": 5,
   "id": "d5378c77",
   "metadata": {},
   "outputs": [
    {
     "name": "stdout",
     "output_type": "stream",
     "text": [
      "Running ORCA calculation ...   Done\n"
     ]
    }
   ],
   "source": [
    "def run_calc(calc: Calculator) -> Output:\n",
    "    # > Write the ORCA input file\n",
    "    calc.write_input()\n",
    "    # > Run the ORCA calculation\n",
    "    print(\"Running ORCA calculation ...\", end=\"\")\n",
    "    calc.run()\n",
    "    print(\"   Done\")\n",
    "\n",
    "    # > Get the output object\n",
    "    output = calc.get_output()\n",
    "    \n",
    "    return output\n",
    "\n",
    "output_supersystem = run_calc(calc_supersystem)"
   ]
  },
  {
   "cell_type": "markdown",
   "id": "46532ccd",
   "metadata": {},
   "source": [
    "The successful calculation has to be checked and parsed, which is done in `check_and_parse_output`:"
   ]
  },
  {
   "cell_type": "code",
   "execution_count": 6,
   "id": "16b26293",
   "metadata": {},
   "outputs": [
    {
     "name": "stdout",
     "output_type": "stream",
     "text": [
      "ORCA terminated normally and the SCF converged\n"
     ]
    }
   ],
   "source": [
    "def check_and_parse_output(output: Output):\n",
    "    # > Check for proper termination of ORCA\n",
    "    status = output.terminated_normally()\n",
    "    if not status:\n",
    "        # > ORCA did not terminate normally\n",
    "        raise RuntimeError(f\"ORCA did not terminate normally, see output file: {output.get_outfile()}\")\n",
    "    else:\n",
    "        # > ORCA did terminate normally so we can parse the output\n",
    "        output.parse()\n",
    "\n",
    "    # Now check for convergence of the SCF\n",
    "    if output.results_properties.geometries[0].single_point_data.converged:\n",
    "        print(\"ORCA terminated normally and the SCF converged\")\n",
    "    else:\n",
    "        raise RuntimeError(\"SCF DID NOT CONVERGE\")\n",
    "    \n",
    "check_and_parse_output(output_supersystem)"
   ]
  },
  {
   "cell_type": "markdown",
   "id": "d7d28086",
   "metadata": {},
   "source": [
    "## Step 5: Definition of Subsystems\n",
    "Next, we extract the automatically generated fragments, save them to a dictionary, and define a host and a guest subsystem. In our example, methanol is the guest and the water cluster is the host."
   ]
  },
  {
   "cell_type": "code",
   "execution_count": 7,
   "id": "3f9871a3",
   "metadata": {},
   "outputs": [
    {
     "name": "stdout",
     "output_type": "stream",
     "text": [
      "Here, the fragment IDs are depicted:\n"
     ]
    },
    {
     "data": {
      "application/3dmoljs_load.v0": "<div id=\"3dmolviewer_1750054155478774\"  style=\"position: relative; width: 400px; height: 400px;\">\n        <p id=\"3dmolwarning_1750054155478774\" style=\"background-color:#ffcccc;color:black\">3Dmol.js failed to load for some reason.  Please check your browser console for error messages.<br></p>\n        </div>\n<script>\n\nvar loadScriptAsync = function(uri){\n  return new Promise((resolve, reject) => {\n    //this is to ignore the existence of requirejs amd\n    var savedexports, savedmodule;\n    if (typeof exports !== 'undefined') savedexports = exports;\n    else exports = {}\n    if (typeof module !== 'undefined') savedmodule = module;\n    else module = {}\n\n    var tag = document.createElement('script');\n    tag.src = uri;\n    tag.async = true;\n    tag.onload = () => {\n        exports = savedexports;\n        module = savedmodule;\n        resolve();\n    };\n  var firstScriptTag = document.getElementsByTagName('script')[0];\n  firstScriptTag.parentNode.insertBefore(tag, firstScriptTag);\n});\n};\n\nif(typeof $3Dmolpromise === 'undefined') {\n$3Dmolpromise = null;\n  $3Dmolpromise = loadScriptAsync('https://cdn.jsdelivr.net/npm/3dmol@2.5.0/build/3Dmol-min.js');\n}\n\nvar viewer_1750054155478774 = null;\nvar warn = document.getElementById(\"3dmolwarning_1750054155478774\");\nif(warn) {\n    warn.parentNode.removeChild(warn);\n}\n$3Dmolpromise.then(function() {\nviewer_1750054155478774 = $3Dmol.createViewer(document.getElementById(\"3dmolviewer_1750054155478774\"),{backgroundColor:\"white\"});\nviewer_1750054155478774.zoomTo();\n\tviewer_1750054155478774.addModel(\"15\\n\\nO      1.88878   -1.95233   -0.28948\\nH      2.92501   -3.28661    0.90657\\nH      2.93956   -3.64997   -0.83856\\nH      1.44798   -3.87401    0.10426\\nC      2.33580   -3.25294   -0.01484\\nH      2.64332   -1.32264   -0.27726\\nO      0.00000    0.00000    0.00000\\nH     -0.61425   -0.07593   -0.73002\\nH      0.54322   -0.80712   -0.00284\\nO      1.86706    1.85104    0.75482\\nH      1.22835    1.18615    0.44091\\nH      1.34844    2.58596    1.08333\\nO      3.79229   -0.00000   -0.00000\\nH      3.21057    0.64166    0.42375\\nH      4.29234    0.44984   -0.68198\\n\\n\",\"xyz\");\n\tviewer_1750054155478774.setStyle({},{\"stick\": {}, \"sphere\": {\"scale\": 0.3}});\n\tviewer_1750054155478774.zoomTo();\n\tviewer_1750054155478774.addLabel(\"1\",{\"position\": {\"x\": 1.88878, \"y\": -1.95233, \"z\": -0.28948}, \"backgroundColor\": \"black\", \"fontColor\": \"white\", \"showBackground\": true, \"fontSize\": 12});\n\tviewer_1750054155478774.addLabel(\"1\",{\"position\": {\"x\": 2.92501, \"y\": -3.28661, \"z\": 0.90657}, \"backgroundColor\": \"black\", \"fontColor\": \"white\", \"showBackground\": true, \"fontSize\": 12});\n\tviewer_1750054155478774.addLabel(\"1\",{\"position\": {\"x\": 2.93956, \"y\": -3.64997, \"z\": -0.83856}, \"backgroundColor\": \"black\", \"fontColor\": \"white\", \"showBackground\": true, \"fontSize\": 12});\n\tviewer_1750054155478774.addLabel(\"1\",{\"position\": {\"x\": 1.44798, \"y\": -3.87401, \"z\": 0.10426}, \"backgroundColor\": \"black\", \"fontColor\": \"white\", \"showBackground\": true, \"fontSize\": 12});\n\tviewer_1750054155478774.addLabel(\"1\",{\"position\": {\"x\": 2.3358, \"y\": -3.25294, \"z\": -0.01484}, \"backgroundColor\": \"black\", \"fontColor\": \"white\", \"showBackground\": true, \"fontSize\": 12});\n\tviewer_1750054155478774.addLabel(\"1\",{\"position\": {\"x\": 2.64332, \"y\": -1.32264, \"z\": -0.27726}, \"backgroundColor\": \"black\", \"fontColor\": \"white\", \"showBackground\": true, \"fontSize\": 12});\n\tviewer_1750054155478774.addLabel(\"2\",{\"position\": {\"x\": 0.0, \"y\": 0.0, \"z\": 0.0}, \"backgroundColor\": \"black\", \"fontColor\": \"white\", \"showBackground\": true, \"fontSize\": 12});\n\tviewer_1750054155478774.addLabel(\"2\",{\"position\": {\"x\": -0.61425, \"y\": -0.07593, \"z\": -0.73002}, \"backgroundColor\": \"black\", \"fontColor\": \"white\", \"showBackground\": true, \"fontSize\": 12});\n\tviewer_1750054155478774.addLabel(\"2\",{\"position\": {\"x\": 0.54322, \"y\": -0.80712, \"z\": -0.00284}, \"backgroundColor\": \"black\", \"fontColor\": \"white\", \"showBackground\": true, \"fontSize\": 12});\n\tviewer_1750054155478774.addLabel(\"3\",{\"position\": {\"x\": 1.86706, \"y\": 1.85104, \"z\": 0.75482}, \"backgroundColor\": \"black\", \"fontColor\": \"white\", \"showBackground\": true, \"fontSize\": 12});\n\tviewer_1750054155478774.addLabel(\"3\",{\"position\": {\"x\": 1.22835, \"y\": 1.18615, \"z\": 0.44091}, \"backgroundColor\": \"black\", \"fontColor\": \"white\", \"showBackground\": true, \"fontSize\": 12});\n\tviewer_1750054155478774.addLabel(\"3\",{\"position\": {\"x\": 1.34844, \"y\": 2.58596, \"z\": 1.08333}, \"backgroundColor\": \"black\", \"fontColor\": \"white\", \"showBackground\": true, \"fontSize\": 12});\n\tviewer_1750054155478774.addLabel(\"4\",{\"position\": {\"x\": 3.79229, \"y\": -0.0, \"z\": -0.0}, \"backgroundColor\": \"black\", \"fontColor\": \"white\", \"showBackground\": true, \"fontSize\": 12});\n\tviewer_1750054155478774.addLabel(\"4\",{\"position\": {\"x\": 3.21057, \"y\": 0.64166, \"z\": 0.42375}, \"backgroundColor\": \"black\", \"fontColor\": \"white\", \"showBackground\": true, \"fontSize\": 12});\n\tviewer_1750054155478774.addLabel(\"4\",{\"position\": {\"x\": 4.29234, \"y\": 0.44984, \"z\": -0.68198}, \"backgroundColor\": \"black\", \"fontColor\": \"white\", \"showBackground\": true, \"fontSize\": 12});\nviewer_1750054155478774.render();\n});\n</script>",
      "text/html": [
       "<div id=\"3dmolviewer_1750054155478774\"  style=\"position: relative; width: 400px; height: 400px;\">\n",
       "        <p id=\"3dmolwarning_1750054155478774\" style=\"background-color:#ffcccc;color:black\">3Dmol.js failed to load for some reason.  Please check your browser console for error messages.<br></p>\n",
       "        </div>\n",
       "<script>\n",
       "\n",
       "var loadScriptAsync = function(uri){\n",
       "  return new Promise((resolve, reject) => {\n",
       "    //this is to ignore the existence of requirejs amd\n",
       "    var savedexports, savedmodule;\n",
       "    if (typeof exports !== 'undefined') savedexports = exports;\n",
       "    else exports = {}\n",
       "    if (typeof module !== 'undefined') savedmodule = module;\n",
       "    else module = {}\n",
       "\n",
       "    var tag = document.createElement('script');\n",
       "    tag.src = uri;\n",
       "    tag.async = true;\n",
       "    tag.onload = () => {\n",
       "        exports = savedexports;\n",
       "        module = savedmodule;\n",
       "        resolve();\n",
       "    };\n",
       "  var firstScriptTag = document.getElementsByTagName('script')[0];\n",
       "  firstScriptTag.parentNode.insertBefore(tag, firstScriptTag);\n",
       "});\n",
       "};\n",
       "\n",
       "if(typeof $3Dmolpromise === 'undefined') {\n",
       "$3Dmolpromise = null;\n",
       "  $3Dmolpromise = loadScriptAsync('https://cdn.jsdelivr.net/npm/3dmol@2.5.0/build/3Dmol-min.js');\n",
       "}\n",
       "\n",
       "var viewer_1750054155478774 = null;\n",
       "var warn = document.getElementById(\"3dmolwarning_1750054155478774\");\n",
       "if(warn) {\n",
       "    warn.parentNode.removeChild(warn);\n",
       "}\n",
       "$3Dmolpromise.then(function() {\n",
       "viewer_1750054155478774 = $3Dmol.createViewer(document.getElementById(\"3dmolviewer_1750054155478774\"),{backgroundColor:\"white\"});\n",
       "viewer_1750054155478774.zoomTo();\n",
       "\tviewer_1750054155478774.addModel(\"15\\n\\nO      1.88878   -1.95233   -0.28948\\nH      2.92501   -3.28661    0.90657\\nH      2.93956   -3.64997   -0.83856\\nH      1.44798   -3.87401    0.10426\\nC      2.33580   -3.25294   -0.01484\\nH      2.64332   -1.32264   -0.27726\\nO      0.00000    0.00000    0.00000\\nH     -0.61425   -0.07593   -0.73002\\nH      0.54322   -0.80712   -0.00284\\nO      1.86706    1.85104    0.75482\\nH      1.22835    1.18615    0.44091\\nH      1.34844    2.58596    1.08333\\nO      3.79229   -0.00000   -0.00000\\nH      3.21057    0.64166    0.42375\\nH      4.29234    0.44984   -0.68198\\n\\n\",\"xyz\");\n",
       "\tviewer_1750054155478774.setStyle({},{\"stick\": {}, \"sphere\": {\"scale\": 0.3}});\n",
       "\tviewer_1750054155478774.zoomTo();\n",
       "\tviewer_1750054155478774.addLabel(\"1\",{\"position\": {\"x\": 1.88878, \"y\": -1.95233, \"z\": -0.28948}, \"backgroundColor\": \"black\", \"fontColor\": \"white\", \"showBackground\": true, \"fontSize\": 12});\n",
       "\tviewer_1750054155478774.addLabel(\"1\",{\"position\": {\"x\": 2.92501, \"y\": -3.28661, \"z\": 0.90657}, \"backgroundColor\": \"black\", \"fontColor\": \"white\", \"showBackground\": true, \"fontSize\": 12});\n",
       "\tviewer_1750054155478774.addLabel(\"1\",{\"position\": {\"x\": 2.93956, \"y\": -3.64997, \"z\": -0.83856}, \"backgroundColor\": \"black\", \"fontColor\": \"white\", \"showBackground\": true, \"fontSize\": 12});\n",
       "\tviewer_1750054155478774.addLabel(\"1\",{\"position\": {\"x\": 1.44798, \"y\": -3.87401, \"z\": 0.10426}, \"backgroundColor\": \"black\", \"fontColor\": \"white\", \"showBackground\": true, \"fontSize\": 12});\n",
       "\tviewer_1750054155478774.addLabel(\"1\",{\"position\": {\"x\": 2.3358, \"y\": -3.25294, \"z\": -0.01484}, \"backgroundColor\": \"black\", \"fontColor\": \"white\", \"showBackground\": true, \"fontSize\": 12});\n",
       "\tviewer_1750054155478774.addLabel(\"1\",{\"position\": {\"x\": 2.64332, \"y\": -1.32264, \"z\": -0.27726}, \"backgroundColor\": \"black\", \"fontColor\": \"white\", \"showBackground\": true, \"fontSize\": 12});\n",
       "\tviewer_1750054155478774.addLabel(\"2\",{\"position\": {\"x\": 0.0, \"y\": 0.0, \"z\": 0.0}, \"backgroundColor\": \"black\", \"fontColor\": \"white\", \"showBackground\": true, \"fontSize\": 12});\n",
       "\tviewer_1750054155478774.addLabel(\"2\",{\"position\": {\"x\": -0.61425, \"y\": -0.07593, \"z\": -0.73002}, \"backgroundColor\": \"black\", \"fontColor\": \"white\", \"showBackground\": true, \"fontSize\": 12});\n",
       "\tviewer_1750054155478774.addLabel(\"2\",{\"position\": {\"x\": 0.54322, \"y\": -0.80712, \"z\": -0.00284}, \"backgroundColor\": \"black\", \"fontColor\": \"white\", \"showBackground\": true, \"fontSize\": 12});\n",
       "\tviewer_1750054155478774.addLabel(\"3\",{\"position\": {\"x\": 1.86706, \"y\": 1.85104, \"z\": 0.75482}, \"backgroundColor\": \"black\", \"fontColor\": \"white\", \"showBackground\": true, \"fontSize\": 12});\n",
       "\tviewer_1750054155478774.addLabel(\"3\",{\"position\": {\"x\": 1.22835, \"y\": 1.18615, \"z\": 0.44091}, \"backgroundColor\": \"black\", \"fontColor\": \"white\", \"showBackground\": true, \"fontSize\": 12});\n",
       "\tviewer_1750054155478774.addLabel(\"3\",{\"position\": {\"x\": 1.34844, \"y\": 2.58596, \"z\": 1.08333}, \"backgroundColor\": \"black\", \"fontColor\": \"white\", \"showBackground\": true, \"fontSize\": 12});\n",
       "\tviewer_1750054155478774.addLabel(\"4\",{\"position\": {\"x\": 3.79229, \"y\": -0.0, \"z\": -0.0}, \"backgroundColor\": \"black\", \"fontColor\": \"white\", \"showBackground\": true, \"fontSize\": 12});\n",
       "\tviewer_1750054155478774.addLabel(\"4\",{\"position\": {\"x\": 3.21057, \"y\": 0.64166, \"z\": 0.42375}, \"backgroundColor\": \"black\", \"fontColor\": \"white\", \"showBackground\": true, \"fontSize\": 12});\n",
       "\tviewer_1750054155478774.addLabel(\"4\",{\"position\": {\"x\": 4.29234, \"y\": 0.44984, \"z\": -0.68198}, \"backgroundColor\": \"black\", \"fontColor\": \"white\", \"showBackground\": true, \"fontSize\": 12});\n",
       "viewer_1750054155478774.render();\n",
       "});\n",
       "</script>"
      ]
     },
     "metadata": {},
     "output_type": "display_data"
    }
   ],
   "source": [
    "# > Shortcut to the fragments data\n",
    "frags = output_supersystem.results_properties.geometries[0].geometry.fragments\n",
    "# > Obtain the number of fragments in the led (fragment numbering continuous)\n",
    "nfrags = int(output_supersystem.results_properties.geometries[0].mdci_led.numoffragments)\n",
    "\n",
    "# > Generate a list of atoms in the fragments\n",
    "atoms_in_frag = [[] for _ in range(nfrags)]\n",
    "for index, value in enumerate(frags):\n",
    "    frag_id = int(value[0])\n",
    "    atoms_in_frag[frag_id-1].append(index)\n",
    "    structure.atoms[index].fragment_id = frag_id\n",
    "\n",
    "# > Define a list of atoms in the subsystems\n",
    "atoms_in_sub = [] \n",
    "atoms_in_sub.append(atoms_in_frag[0])   #> First subsystem (guest) contains the first fragment which is methanol\n",
    "atoms_in_sub.append([atom for frag in atoms_in_frag[1:] for atom in frag])  #> Second subsystem (host) contains all the other fragments which are the water molecules\n",
    "nsub = len(atoms_in_sub)\n",
    "\n",
    "# > Define a list of fragments in the subsystems\n",
    "frag_in_sub = [[] for _ in range(nsub)]\n",
    "for ifrag in range(nfrags):\n",
    "    if ifrag == 0: frag_in_sub[0].append(ifrag) # > First fragment is the guest (first subsystem)\n",
    "    if ifrag > 0: frag_in_sub[1].append(ifrag)  # > All other fragments are the host (second subsystem)\n",
    "\n",
    "# > Visualize the fragments \n",
    "print(\"Here, the fragment IDs are depicted:\")\n",
    "for atom in structure.atoms:\n",
    "    x, y, z = atom.coordinates.coordinates\n",
    "    view.addLabel(f\"{atom.fragment_id}\", {\n",
    "        'position': {'x': x, 'y': y, 'z': z},\n",
    "        'backgroundColor': 'black',\n",
    "        'fontColor': 'white',\n",
    "        'showBackground': True,\n",
    "        'fontSize': 12\n",
    "    })\n",
    "view.show()\n",
    "\n",
    "# Set the fragment IDs to None, so that the autofragmentator can assign them\n",
    "for index, value in enumerate(frags):\n",
    "    structure.atoms[index].fragment_id = None"
   ]
  },
  {
   "cell_type": "markdown",
   "id": "556b1376",
   "metadata": {},
   "source": [
    "## Step 6: Run the Host and Guest Calculations\n",
    "\n",
    "After defining the host&ndash;guest system, we run the LED calculations for the subsystems. Here we can utilize the helper functions defined above:"
   ]
  },
  {
   "cell_type": "code",
   "execution_count": 8,
   "id": "2e6b996b",
   "metadata": {},
   "outputs": [
    {
     "name": "stdout",
     "output_type": "stream",
     "text": [
      "Visualizing the guest:\n"
     ]
    },
    {
     "data": {
      "application/3dmoljs_load.v0": "<div id=\"3dmolviewer_17500541554983373\"  style=\"position: relative; width: 400px; height: 400px;\">\n        <p id=\"3dmolwarning_17500541554983373\" style=\"background-color:#ffcccc;color:black\">3Dmol.js failed to load for some reason.  Please check your browser console for error messages.<br></p>\n        </div>\n<script>\n\nvar loadScriptAsync = function(uri){\n  return new Promise((resolve, reject) => {\n    //this is to ignore the existence of requirejs amd\n    var savedexports, savedmodule;\n    if (typeof exports !== 'undefined') savedexports = exports;\n    else exports = {}\n    if (typeof module !== 'undefined') savedmodule = module;\n    else module = {}\n\n    var tag = document.createElement('script');\n    tag.src = uri;\n    tag.async = true;\n    tag.onload = () => {\n        exports = savedexports;\n        module = savedmodule;\n        resolve();\n    };\n  var firstScriptTag = document.getElementsByTagName('script')[0];\n  firstScriptTag.parentNode.insertBefore(tag, firstScriptTag);\n});\n};\n\nif(typeof $3Dmolpromise === 'undefined') {\n$3Dmolpromise = null;\n  $3Dmolpromise = loadScriptAsync('https://cdn.jsdelivr.net/npm/3dmol@2.5.0/build/3Dmol-min.js');\n}\n\nvar viewer_17500541554983373 = null;\nvar warn = document.getElementById(\"3dmolwarning_17500541554983373\");\nif(warn) {\n    warn.parentNode.removeChild(warn);\n}\n$3Dmolpromise.then(function() {\nviewer_17500541554983373 = $3Dmol.createViewer(document.getElementById(\"3dmolviewer_17500541554983373\"),{backgroundColor:\"white\"});\nviewer_17500541554983373.zoomTo();\n\tviewer_17500541554983373.addModel(\"6\\n\\nO             1.8887799999999999            -1.9523299999999999            -0.2894800000000000\\nH             2.9250099999999999            -3.2866100000000000             0.9065700000000000\\nH             2.9395600000000002            -3.6499700000000002            -0.8385600000000000\\nH             1.4479800000000000            -3.8740100000000002             0.1042600000000000\\nC             2.3357999999999999            -3.2529400000000002            -0.0148400000000000\\nH             2.6433200000000001            -1.3226400000000000            -0.2772600000000000\\n\\n\",\"xyz\");\n\tviewer_17500541554983373.setStyle({},{\"stick\": {}, \"sphere\": {\"scale\": 0.3}});\n\tviewer_17500541554983373.zoomTo();\nviewer_17500541554983373.render();\n});\n</script>",
      "text/html": [
       "<div id=\"3dmolviewer_17500541554983373\"  style=\"position: relative; width: 400px; height: 400px;\">\n",
       "        <p id=\"3dmolwarning_17500541554983373\" style=\"background-color:#ffcccc;color:black\">3Dmol.js failed to load for some reason.  Please check your browser console for error messages.<br></p>\n",
       "        </div>\n",
       "<script>\n",
       "\n",
       "var loadScriptAsync = function(uri){\n",
       "  return new Promise((resolve, reject) => {\n",
       "    //this is to ignore the existence of requirejs amd\n",
       "    var savedexports, savedmodule;\n",
       "    if (typeof exports !== 'undefined') savedexports = exports;\n",
       "    else exports = {}\n",
       "    if (typeof module !== 'undefined') savedmodule = module;\n",
       "    else module = {}\n",
       "\n",
       "    var tag = document.createElement('script');\n",
       "    tag.src = uri;\n",
       "    tag.async = true;\n",
       "    tag.onload = () => {\n",
       "        exports = savedexports;\n",
       "        module = savedmodule;\n",
       "        resolve();\n",
       "    };\n",
       "  var firstScriptTag = document.getElementsByTagName('script')[0];\n",
       "  firstScriptTag.parentNode.insertBefore(tag, firstScriptTag);\n",
       "});\n",
       "};\n",
       "\n",
       "if(typeof $3Dmolpromise === 'undefined') {\n",
       "$3Dmolpromise = null;\n",
       "  $3Dmolpromise = loadScriptAsync('https://cdn.jsdelivr.net/npm/3dmol@2.5.0/build/3Dmol-min.js');\n",
       "}\n",
       "\n",
       "var viewer_17500541554983373 = null;\n",
       "var warn = document.getElementById(\"3dmolwarning_17500541554983373\");\n",
       "if(warn) {\n",
       "    warn.parentNode.removeChild(warn);\n",
       "}\n",
       "$3Dmolpromise.then(function() {\n",
       "viewer_17500541554983373 = $3Dmol.createViewer(document.getElementById(\"3dmolviewer_17500541554983373\"),{backgroundColor:\"white\"});\n",
       "viewer_17500541554983373.zoomTo();\n",
       "\tviewer_17500541554983373.addModel(\"6\\n\\nO             1.8887799999999999            -1.9523299999999999            -0.2894800000000000\\nH             2.9250099999999999            -3.2866100000000000             0.9065700000000000\\nH             2.9395600000000002            -3.6499700000000002            -0.8385600000000000\\nH             1.4479800000000000            -3.8740100000000002             0.1042600000000000\\nC             2.3357999999999999            -3.2529400000000002            -0.0148400000000000\\nH             2.6433200000000001            -1.3226400000000000            -0.2772600000000000\\n\\n\",\"xyz\");\n",
       "\tviewer_17500541554983373.setStyle({},{\"stick\": {}, \"sphere\": {\"scale\": 0.3}});\n",
       "\tviewer_17500541554983373.zoomTo();\n",
       "viewer_17500541554983373.render();\n",
       "});\n",
       "</script>"
      ]
     },
     "metadata": {},
     "output_type": "display_data"
    },
    {
     "name": "stdout",
     "output_type": "stream",
     "text": [
      "Running ORCA calculation ...   Done\n",
      "ORCA terminated normally and the SCF converged\n",
      "Visualizing the host:\n"
     ]
    },
    {
     "data": {
      "application/3dmoljs_load.v0": "<div id=\"3dmolviewer_17500541642718446\"  style=\"position: relative; width: 400px; height: 400px;\">\n        <p id=\"3dmolwarning_17500541642718446\" style=\"background-color:#ffcccc;color:black\">3Dmol.js failed to load for some reason.  Please check your browser console for error messages.<br></p>\n        </div>\n<script>\n\nvar loadScriptAsync = function(uri){\n  return new Promise((resolve, reject) => {\n    //this is to ignore the existence of requirejs amd\n    var savedexports, savedmodule;\n    if (typeof exports !== 'undefined') savedexports = exports;\n    else exports = {}\n    if (typeof module !== 'undefined') savedmodule = module;\n    else module = {}\n\n    var tag = document.createElement('script');\n    tag.src = uri;\n    tag.async = true;\n    tag.onload = () => {\n        exports = savedexports;\n        module = savedmodule;\n        resolve();\n    };\n  var firstScriptTag = document.getElementsByTagName('script')[0];\n  firstScriptTag.parentNode.insertBefore(tag, firstScriptTag);\n});\n};\n\nif(typeof $3Dmolpromise === 'undefined') {\n$3Dmolpromise = null;\n  $3Dmolpromise = loadScriptAsync('https://cdn.jsdelivr.net/npm/3dmol@2.5.0/build/3Dmol-min.js');\n}\n\nvar viewer_17500541642718446 = null;\nvar warn = document.getElementById(\"3dmolwarning_17500541642718446\");\nif(warn) {\n    warn.parentNode.removeChild(warn);\n}\n$3Dmolpromise.then(function() {\nviewer_17500541642718446 = $3Dmol.createViewer(document.getElementById(\"3dmolviewer_17500541642718446\"),{backgroundColor:\"white\"});\nviewer_17500541642718446.zoomTo();\n\tviewer_17500541642718446.addModel(\"9\\n\\nO             0.0000000000000000             0.0000000000000000             0.0000000000000000\\nH            -0.6142500000000000            -0.0759300000000000            -0.7300200000000000\\nH             0.5432200000000000            -0.8071199999999999            -0.0028400000000000\\nO             1.8670599999999999             1.8510400000000000             0.7548200000000000\\nH             1.2283500000000001             1.1861500000000000             0.4409100000000000\\nH             1.3484400000000001             2.5859600000000000             1.0833299999999999\\nO             3.7922899999999999            -0.0000000000000000            -0.0000000000000000\\nH             3.2105700000000001             0.6416600000000000             0.4237500000000000\\nH             4.2923400000000003             0.4498400000000000            -0.6819800000000000\\n\\n\",\"xyz\");\n\tviewer_17500541642718446.setStyle({},{\"stick\": {}, \"sphere\": {\"scale\": 0.3}});\n\tviewer_17500541642718446.zoomTo();\nviewer_17500541642718446.render();\n});\n</script>",
      "text/html": [
       "<div id=\"3dmolviewer_17500541642718446\"  style=\"position: relative; width: 400px; height: 400px;\">\n",
       "        <p id=\"3dmolwarning_17500541642718446\" style=\"background-color:#ffcccc;color:black\">3Dmol.js failed to load for some reason.  Please check your browser console for error messages.<br></p>\n",
       "        </div>\n",
       "<script>\n",
       "\n",
       "var loadScriptAsync = function(uri){\n",
       "  return new Promise((resolve, reject) => {\n",
       "    //this is to ignore the existence of requirejs amd\n",
       "    var savedexports, savedmodule;\n",
       "    if (typeof exports !== 'undefined') savedexports = exports;\n",
       "    else exports = {}\n",
       "    if (typeof module !== 'undefined') savedmodule = module;\n",
       "    else module = {}\n",
       "\n",
       "    var tag = document.createElement('script');\n",
       "    tag.src = uri;\n",
       "    tag.async = true;\n",
       "    tag.onload = () => {\n",
       "        exports = savedexports;\n",
       "        module = savedmodule;\n",
       "        resolve();\n",
       "    };\n",
       "  var firstScriptTag = document.getElementsByTagName('script')[0];\n",
       "  firstScriptTag.parentNode.insertBefore(tag, firstScriptTag);\n",
       "});\n",
       "};\n",
       "\n",
       "if(typeof $3Dmolpromise === 'undefined') {\n",
       "$3Dmolpromise = null;\n",
       "  $3Dmolpromise = loadScriptAsync('https://cdn.jsdelivr.net/npm/3dmol@2.5.0/build/3Dmol-min.js');\n",
       "}\n",
       "\n",
       "var viewer_17500541642718446 = null;\n",
       "var warn = document.getElementById(\"3dmolwarning_17500541642718446\");\n",
       "if(warn) {\n",
       "    warn.parentNode.removeChild(warn);\n",
       "}\n",
       "$3Dmolpromise.then(function() {\n",
       "viewer_17500541642718446 = $3Dmol.createViewer(document.getElementById(\"3dmolviewer_17500541642718446\"),{backgroundColor:\"white\"});\n",
       "viewer_17500541642718446.zoomTo();\n",
       "\tviewer_17500541642718446.addModel(\"9\\n\\nO             0.0000000000000000             0.0000000000000000             0.0000000000000000\\nH            -0.6142500000000000            -0.0759300000000000            -0.7300200000000000\\nH             0.5432200000000000            -0.8071199999999999            -0.0028400000000000\\nO             1.8670599999999999             1.8510400000000000             0.7548200000000000\\nH             1.2283500000000001             1.1861500000000000             0.4409100000000000\\nH             1.3484400000000001             2.5859600000000000             1.0833299999999999\\nO             3.7922899999999999            -0.0000000000000000            -0.0000000000000000\\nH             3.2105700000000001             0.6416600000000000             0.4237500000000000\\nH             4.2923400000000003             0.4498400000000000            -0.6819800000000000\\n\\n\",\"xyz\");\n",
       "\tviewer_17500541642718446.setStyle({},{\"stick\": {}, \"sphere\": {\"scale\": 0.3}});\n",
       "\tviewer_17500541642718446.zoomTo();\n",
       "viewer_17500541642718446.render();\n",
       "});\n",
       "</script>"
      ]
     },
     "metadata": {},
     "output_type": "display_data"
    },
    {
     "name": "stdout",
     "output_type": "stream",
     "text": [
      "Running ORCA calculation ...   Done\n",
      "ORCA terminated normally and the SCF converged\n"
     ]
    }
   ],
   "source": [
    "sub_outputs: list[Output] = []\n",
    "# > Loop over subsystems (host and guest), obtain substructures, and perform calculations\n",
    "for i in range(len(atoms_in_sub)):\n",
    "    \n",
    "    # > Prepare calculation for the subsystem \n",
    "    subsystem = i + 1\n",
    "    sub_structure = calc_supersystem.structure.extract_substructure(atoms_in_sub[i])\n",
    "    calc_subsystem = setup_calc(f\"subsystem_{subsystem}\", working_dir, sub_structure)\n",
    "\n",
    "    \n",
    "    # > Visualize the subsystem for which the calculation will run\n",
    "    # > First remove fragment data for visualization\n",
    "    for atom in calc_subsystem.structure.atoms: atom.fragment_id = None\n",
    "    xyz_data = calc_subsystem.structure.to_xyz_block()\n",
    "    # > Visualize the subsystem with py3Dmol\n",
    "    view_sub = py3Dmol.view(width=400, height=400)\n",
    "    view_sub.addModel(xyz_data, 'xyz')\n",
    "    view_sub.setStyle({}, {'stick': {}, 'sphere': {'scale': 0.3}})\n",
    "    view_sub.zoomTo()\n",
    "    print(\"Visualizing the guest:\" if subsystem == 1 else \"Visualizing the host:\")\n",
    "    view_sub.show()\n",
    "\n",
    "    # > Run the calculation\n",
    "    output_sub = run_calc(calc_subsystem)\n",
    "\n",
    "    # > Check and parse the output\n",
    "    check_and_parse_output(output_sub)\n",
    "\n",
    "    sub_outputs.append(output_sub)"
   ]
  },
  {
   "cell_type": "markdown",
   "id": "71352834",
   "metadata": {},
   "source": [
    "## Step 7: Processing for Standard LED\n",
    "\n",
    "Now, we can extract the energies for a standard LED."
   ]
  },
  {
   "cell_type": "code",
   "execution_count": 9,
   "id": "b97f203c",
   "metadata": {},
   "outputs": [],
   "source": [
    "# > Shortcut to the LED data for the supersystem\n",
    "led_data = output_supersystem.results_properties.geometries[0].mdci_led\n",
    "# > Number of subsystems is two\n",
    "nsub = 2\n",
    "# > Number of fragments\n",
    "nfrags = int(output_supersystem.results_properties.geometries[0].mdci_led.numoffragments)\n",
    "\n",
    "# > Define shortcuts to the CCSD(T) energies for the subsystems (host and guest)\n",
    "sub_outputs_energy = []\n",
    "sub_outputs_led = []\n",
    "for output in sub_outputs:\n",
    "    # > energy[0] will be the SCF energy and energy[1] the CCSD(T) energy\n",
    "    sub_outputs_energy.append(output.results_properties.geometries[0].energy[1])\n",
    "    sub_outputs_led.append(output.results_properties.geometries[0].mdci_led)\n",
    "\n",
    "# > Define variables to store the LED data\n",
    "LED_pairwise_Total = {}\n",
    "LED_pairwise_Ref = {}\n",
    "LED_pairwise_Corr = {}\n",
    "LED_pairwise_Ref_Coulomb = {}\n",
    "LED_pairwise_Ref_Exch = {}\n",
    "LED_pairwise_Corr_Disp = {}\n",
    "\n",
    "# > First, we collect the results from the suprasystem LED calculation\n",
    "for x in range(nfrags):\n",
    "    for y in range(x + 1):\n",
    "        pair = (x, y)\n",
    "        E_tot = led_data.totint[x][y]\n",
    "        E_ref = led_data.refint[x][y]\n",
    "        E_corr = led_data.corrint[x][y]\n",
    "        LED_pairwise_Ref[pair] = E_ref\n",
    "        LED_pairwise_Corr[pair] = E_corr\n",
    "        LED_pairwise_Total[pair] = E_tot\n",
    "        if x != y:\n",
    "            E_ref_elstat = led_data.electrostref[x][y]\n",
    "            E_ref_exch = led_data.exchangeref[x][y]\n",
    "            E_corr_disp = led_data.dispcontr[x][y] + led_data.dispweak[x][y]\n",
    "            LED_pairwise_Ref_Coulomb[pair] = E_ref_elstat\n",
    "            LED_pairwise_Ref_Exch[pair] = E_ref_exch\n",
    "            LED_pairwise_Corr_Disp[pair] = E_corr_disp\n",
    "\n",
    "# > Now, we substract the results from the subsystem LED calculations\n",
    "for x in range(nfrags):\n",
    "    for y in range(x + 1):\n",
    "        pair = (x, y)\n",
    "        E_ref = 0.\n",
    "        E_corr = 0.\n",
    "        foundPair = False\n",
    "        # > Check if both fragments are the guest\n",
    "        if x in frag_in_sub[0] and y in frag_in_sub[0]:\n",
    "            foundPair = True\n",
    "            # > Since the guest subsystem is only one fragment, no led data will be present\n",
    "            # > and this will always be false\n",
    "            if sub_outputs_led[0]: \n",
    "                E_ref = sub_outputs_led[0].refint[x][y]\n",
    "                E_corr = sub_outputs_led[0].corrint[x][y]\n",
    "                if x != y: \n",
    "                    E_ref_elstat = sub_outputs_led[0].electrostref[x][y]\n",
    "                    E_ref_exch = sub_outputs_led[0].exchangeref[x][y]\n",
    "                    E_corr_disp = sub_outputs_led[0].dispcontr[x][y] + sub_outputs_led[0].dispweak[x][y]\n",
    "            else:\n",
    "                E_ref = sub_outputs_energy[0].refenergy[0][0]\n",
    "                E_corr = sub_outputs_energy[0].correnergy[0][0]\n",
    "        # > Check if both fragments are on the host\n",
    "        elif x in frag_in_sub[1] and y in frag_in_sub[1]:\n",
    "            foundPair = True\n",
    "            # > The host subsystem does not include the first (guest) fragment\n",
    "            # > Therefore, x and y have to be shifted if multiple fragments are present\n",
    "            if sub_outputs_led[1]:\n",
    "                E_ref = sub_outputs_led[1].refint[x-1][y-1]\n",
    "                E_corr = sub_outputs_led[1].corrint[x-1][y-1]\n",
    "                if x != y and sub_outputs_led[1]:\n",
    "                    E_ref_elstat = sub_outputs_led[1].electrostref[x-1][y-1]\n",
    "                    E_ref_exch = sub_outputs_led[1].exchangeref[x-1][y-1]\n",
    "                    E_corr_disp = sub_outputs_led[1].dispcontr[x-1][y-1] + sub_outputs_led[1].dispweak[x-1][y-1]\n",
    "            else:\n",
    "                E_ref = sub_outputs_energy[1].refenergy[0][0]\n",
    "                E_corr = sub_outputs_energy[1].correnergy[0][0]\n",
    "\n",
    "        # > Subtract the calculated data from the subsystems\n",
    "        if foundPair:\n",
    "            LED_pairwise_Ref[pair] -= E_ref\n",
    "            LED_pairwise_Corr[pair] -= E_corr\n",
    "            LED_pairwise_Total[pair] -= (E_ref + E_corr)\n",
    "            if x != y:\n",
    "                LED_pairwise_Ref_Coulomb[pair] -= E_ref_elstat\n",
    "                LED_pairwise_Ref_Exch[pair] -= E_ref_exch\n",
    "                LED_pairwise_Corr_Disp[pair] -= E_corr_disp"
   ]
  },
  {
   "cell_type": "markdown",
   "id": "86600d57",
   "metadata": {},
   "source": [
    "## Step 8: Processing for fp-LED\n",
    "\n",
    "Next, we use the LED results and post-process them to fp-LED results, where the interaction energy is decomposed into only pair-wise terms. We calculate the scaling factors from absolute values for better numerical stability. The scaling is done for the total energies and for the reference energies, while the correlations contributions are obtained from subtracting the reference energies from the total energies."
   ]
  },
  {
   "cell_type": "code",
   "execution_count": 10,
   "id": "ae987660",
   "metadata": {},
   "outputs": [],
   "source": [
    "def fp_analysis_abs():\n",
    "    for x in range(nfrags):\n",
    "        for y in range(x):\n",
    "            pairXY = (x,y)\n",
    "            pairXX = (x,x)\n",
    "            pairYY = (y,y)\n",
    "            E_Total_XY_unscaled = LED_pairwise_Total[pairXY]\n",
    "            dE_Total_X_unscaled = LED_pairwise_Total[pairXX]\n",
    "            dE_Total_Y_unscaled = LED_pairwise_Total[pairYY]\n",
    "            E_Ref_XY_unscaled = LED_pairwise_Ref[pairXY]\n",
    "            dE_Ref_X_unscaled = LED_pairwise_Ref[pairXX]\n",
    "            dE_Ref_Y_unscaled = LED_pairwise_Ref[pairYY]\n",
    "            denom_X_Total = 0\n",
    "            denom_Y_Total = 0\n",
    "            denom_X_Ref = 0\n",
    "            denom_Y_Ref = 0\n",
    "            # > Calculate the denominator of the weights with absolute values\n",
    "            for k in range(nfrags):\n",
    "                minXK = min(x, k)\n",
    "                maxXK = max(x, k)\n",
    "                pairXK = (maxXK, minXK)\n",
    "                E_Total_XK_unscaled = LED_pairwise_Total[pairXK]\n",
    "                E_Ref_XK_unscaled = LED_pairwise_Ref[pairXK]\n",
    "                if k != x:\n",
    "                    denom_X_Total += abs(E_Total_XK_unscaled)\n",
    "                    denom_X_Ref += abs(E_Ref_XK_unscaled)\n",
    "                minYK = min(y, k)\n",
    "                maxYK = max(y, k)\n",
    "                pairYK = (maxYK, minYK)\n",
    "                E_Total_YK_unscaled = LED_pairwise_Total[pairYK]\n",
    "                E_Ref_YK_unscaled = LED_pairwise_Ref[pairYK]\n",
    "                if k != y:\n",
    "                    denom_Y_Total += abs(E_Total_YK_unscaled)\n",
    "                    denom_Y_Ref += abs(E_Ref_YK_unscaled)\n",
    "            scalingX_Total = dE_Total_X_unscaled / denom_X_Total\n",
    "            scalingY_Total = dE_Total_Y_unscaled / denom_Y_Total\n",
    "            scaling_Total = scalingX_Total + scalingY_Total\n",
    "            scalingX_Ref = dE_Ref_X_unscaled / denom_X_Ref\n",
    "            scalingY_Ref = dE_Ref_Y_unscaled / denom_Y_Ref\n",
    "            scaling_Ref = scalingX_Ref + scalingY_Ref\n",
    "            # > Take the absolute values of the interfragment contributions\n",
    "            E_Total_XY_scaled = scaling_Total * abs(E_Total_XY_unscaled)\n",
    "            E_Ref_XY_scaled = scaling_Ref * abs(E_Ref_XY_unscaled)\n",
    "            E_Corr_XY_scaled = E_Total_XY_scaled - E_Ref_XY_scaled\n",
    "            # > Calculate Elprep contributions\n",
    "            LED_pairwise_Ref_Elprep[pairXY] = E_Ref_XY_scaled\n",
    "            LED_pairwise_Corr_Elprep[pairXY] = E_Corr_XY_scaled\n",
    "            LED_pairwise_Total_Elprep[pairXY] = E_Total_XY_scaled\n",
    "    \n",
    "    # > Add the Elprep contributions\n",
    "    for x in range(nfrags):\n",
    "        for y in range(x):\n",
    "            pairXY = (x, y)\n",
    "            LED_pairwise_Ref[pairXY] += LED_pairwise_Ref_Elprep[pairXY]\n",
    "            LED_pairwise_Corr[pairXY] += LED_pairwise_Corr_Elprep[pairXY]\n",
    "            LED_pairwise_Total[pairXY] += LED_pairwise_Total_Elprep[pairXY]\n",
    "    \n",
    "    # > Set the intra-fragment contributions that were distributed to zero\n",
    "    for x in range(nfrags):\n",
    "        pair = (x,x)\n",
    "        LED_pairwise_Total[pair] = 0.\n",
    "        LED_pairwise_Ref[pair] = 0.\n",
    "        LED_pairwise_Corr[pair] = 0.\n",
    "        LED_pairwise_Ref_Coulomb[pair] = 0.\n",
    "        LED_pairwise_Ref_Exch[pair] = 0.\n",
    "        LED_pairwise_Corr_Disp[pair] = 0.\n",
    "\n",
    "LED_pairwise_Total_Elprep = {}\n",
    "LED_pairwise_Ref_Elprep = {}\n",
    "LED_pairwise_Corr_Elprep = {}\n",
    "# > Run the actual analysis\n",
    "fp_analysis_abs()"
   ]
  },
  {
   "cell_type": "markdown",
   "id": "ed964570",
   "metadata": {},
   "source": [
    "## Step 9: Gather the Results in pandas Dataframes\n",
    "\n",
    "For easier access, we store the results in a dictonary of pandas dataframes."
   ]
  },
  {
   "cell_type": "code",
   "execution_count": 11,
   "id": "d3eb79ed",
   "metadata": {},
   "outputs": [],
   "source": [
    "# > Function for generating pandas dataframes\n",
    "def gen_led_frame(led_dict: dict[tuple[int,int], float]) -> pd.DataFrame:\n",
    "    # Create a full 2D array filled with NaNs\n",
    "    grid = np.full((nfrags, nfrags), np.nan)\n",
    "\n",
    "    # > Fill the grid with LED results\n",
    "    for (x, y), value in led_dict.items():\n",
    "        grid[y, x] = value * unit_conversion\n",
    "\n",
    "    # > Convert to DataFrame\n",
    "    df = pd.DataFrame(grid)\n",
    "    # > offset indices by 1 to start counting with 1\n",
    "    df.index += 1\n",
    "    df.columns += 1\n",
    "\n",
    "    return df\n",
    "\n",
    "# > Generation of data frames\n",
    "data_frames = {}\n",
    "data_frames[\"LED_Total\"] = gen_led_frame(LED_pairwise_Total)\n",
    "data_frames[\"LED_Corr\"] = gen_led_frame(LED_pairwise_Corr)\n",
    "data_frames[\"LED_Ref\"] = gen_led_frame(LED_pairwise_Ref)\n",
    "data_frames[\"LED_Ref_Coulomb\"] = gen_led_frame(LED_pairwise_Ref_Coulomb)\n",
    "data_frames[\"LED_Ref_Exch\"] = gen_led_frame(LED_pairwise_Ref_Exch)\n",
    "data_frames[\"LED_Corr_Disp\"] = gen_led_frame(LED_pairwise_Corr_Disp)\n",
    "data_frames[\"LED_Total_Elprep\"] = gen_led_frame(LED_pairwise_Total_Elprep)\n",
    "data_frames[\"LED_Ref_Elprep\"] = gen_led_frame(LED_pairwise_Ref_Elprep)\n",
    "data_frames[\"LED_Corr_Elprep\"] = gen_led_frame(LED_pairwise_Corr_Elprep)"
   ]
  },
  {
   "cell_type": "markdown",
   "id": "c4694678",
   "metadata": {},
   "source": [
    "## Step 10: Visualization of the Results in Heatmaps\n",
    "\n",
    "For visualizing the fp-LED total interaction energy, we can use a heatmap:"
   ]
  },
  {
   "cell_type": "code",
   "execution_count": 12,
   "id": "3c9baafe",
   "metadata": {},
   "outputs": [
    {
     "name": "stdout",
     "output_type": "stream",
     "text": [
      "Visualization of fragments:\n"
     ]
    },
    {
     "data": {
      "application/3dmoljs_load.v0": "<div id=\"3dmolviewer_17500541731506295\"  style=\"position: relative; width: 400px; height: 400px;\">\n        <p id=\"3dmolwarning_17500541731506295\" style=\"background-color:#ffcccc;color:black\">3Dmol.js failed to load for some reason.  Please check your browser console for error messages.<br></p>\n        </div>\n<script>\n\nvar loadScriptAsync = function(uri){\n  return new Promise((resolve, reject) => {\n    //this is to ignore the existence of requirejs amd\n    var savedexports, savedmodule;\n    if (typeof exports !== 'undefined') savedexports = exports;\n    else exports = {}\n    if (typeof module !== 'undefined') savedmodule = module;\n    else module = {}\n\n    var tag = document.createElement('script');\n    tag.src = uri;\n    tag.async = true;\n    tag.onload = () => {\n        exports = savedexports;\n        module = savedmodule;\n        resolve();\n    };\n  var firstScriptTag = document.getElementsByTagName('script')[0];\n  firstScriptTag.parentNode.insertBefore(tag, firstScriptTag);\n});\n};\n\nif(typeof $3Dmolpromise === 'undefined') {\n$3Dmolpromise = null;\n  $3Dmolpromise = loadScriptAsync('https://cdn.jsdelivr.net/npm/3dmol@2.5.0/build/3Dmol-min.js');\n}\n\nvar viewer_17500541731506295 = null;\nvar warn = document.getElementById(\"3dmolwarning_17500541731506295\");\nif(warn) {\n    warn.parentNode.removeChild(warn);\n}\n$3Dmolpromise.then(function() {\nviewer_17500541731506295 = $3Dmol.createViewer(document.getElementById(\"3dmolviewer_17500541731506295\"),{backgroundColor:\"white\"});\nviewer_17500541731506295.zoomTo();\n\tviewer_17500541731506295.addModel(\"15\\n\\nO      1.88878   -1.95233   -0.28948\\nH      2.92501   -3.28661    0.90657\\nH      2.93956   -3.64997   -0.83856\\nH      1.44798   -3.87401    0.10426\\nC      2.33580   -3.25294   -0.01484\\nH      2.64332   -1.32264   -0.27726\\nO      0.00000    0.00000    0.00000\\nH     -0.61425   -0.07593   -0.73002\\nH      0.54322   -0.80712   -0.00284\\nO      1.86706    1.85104    0.75482\\nH      1.22835    1.18615    0.44091\\nH      1.34844    2.58596    1.08333\\nO      3.79229   -0.00000   -0.00000\\nH      3.21057    0.64166    0.42375\\nH      4.29234    0.44984   -0.68198\\n\\n\",\"xyz\");\n\tviewer_17500541731506295.setStyle({},{\"stick\": {}, \"sphere\": {\"scale\": 0.3}});\n\tviewer_17500541731506295.zoomTo();\n\tviewer_17500541731506295.addLabel(\"1\",{\"position\": {\"x\": 1.88878, \"y\": -1.95233, \"z\": -0.28948}, \"backgroundColor\": \"black\", \"fontColor\": \"white\", \"showBackground\": true, \"fontSize\": 12});\n\tviewer_17500541731506295.addLabel(\"1\",{\"position\": {\"x\": 2.92501, \"y\": -3.28661, \"z\": 0.90657}, \"backgroundColor\": \"black\", \"fontColor\": \"white\", \"showBackground\": true, \"fontSize\": 12});\n\tviewer_17500541731506295.addLabel(\"1\",{\"position\": {\"x\": 2.93956, \"y\": -3.64997, \"z\": -0.83856}, \"backgroundColor\": \"black\", \"fontColor\": \"white\", \"showBackground\": true, \"fontSize\": 12});\n\tviewer_17500541731506295.addLabel(\"1\",{\"position\": {\"x\": 1.44798, \"y\": -3.87401, \"z\": 0.10426}, \"backgroundColor\": \"black\", \"fontColor\": \"white\", \"showBackground\": true, \"fontSize\": 12});\n\tviewer_17500541731506295.addLabel(\"1\",{\"position\": {\"x\": 2.3358, \"y\": -3.25294, \"z\": -0.01484}, \"backgroundColor\": \"black\", \"fontColor\": \"white\", \"showBackground\": true, \"fontSize\": 12});\n\tviewer_17500541731506295.addLabel(\"1\",{\"position\": {\"x\": 2.64332, \"y\": -1.32264, \"z\": -0.27726}, \"backgroundColor\": \"black\", \"fontColor\": \"white\", \"showBackground\": true, \"fontSize\": 12});\n\tviewer_17500541731506295.addLabel(\"2\",{\"position\": {\"x\": 0.0, \"y\": 0.0, \"z\": 0.0}, \"backgroundColor\": \"black\", \"fontColor\": \"white\", \"showBackground\": true, \"fontSize\": 12});\n\tviewer_17500541731506295.addLabel(\"2\",{\"position\": {\"x\": -0.61425, \"y\": -0.07593, \"z\": -0.73002}, \"backgroundColor\": \"black\", \"fontColor\": \"white\", \"showBackground\": true, \"fontSize\": 12});\n\tviewer_17500541731506295.addLabel(\"2\",{\"position\": {\"x\": 0.54322, \"y\": -0.80712, \"z\": -0.00284}, \"backgroundColor\": \"black\", \"fontColor\": \"white\", \"showBackground\": true, \"fontSize\": 12});\n\tviewer_17500541731506295.addLabel(\"3\",{\"position\": {\"x\": 1.86706, \"y\": 1.85104, \"z\": 0.75482}, \"backgroundColor\": \"black\", \"fontColor\": \"white\", \"showBackground\": true, \"fontSize\": 12});\n\tviewer_17500541731506295.addLabel(\"3\",{\"position\": {\"x\": 1.22835, \"y\": 1.18615, \"z\": 0.44091}, \"backgroundColor\": \"black\", \"fontColor\": \"white\", \"showBackground\": true, \"fontSize\": 12});\n\tviewer_17500541731506295.addLabel(\"3\",{\"position\": {\"x\": 1.34844, \"y\": 2.58596, \"z\": 1.08333}, \"backgroundColor\": \"black\", \"fontColor\": \"white\", \"showBackground\": true, \"fontSize\": 12});\n\tviewer_17500541731506295.addLabel(\"4\",{\"position\": {\"x\": 3.79229, \"y\": -0.0, \"z\": -0.0}, \"backgroundColor\": \"black\", \"fontColor\": \"white\", \"showBackground\": true, \"fontSize\": 12});\n\tviewer_17500541731506295.addLabel(\"4\",{\"position\": {\"x\": 3.21057, \"y\": 0.64166, \"z\": 0.42375}, \"backgroundColor\": \"black\", \"fontColor\": \"white\", \"showBackground\": true, \"fontSize\": 12});\n\tviewer_17500541731506295.addLabel(\"4\",{\"position\": {\"x\": 4.29234, \"y\": 0.44984, \"z\": -0.68198}, \"backgroundColor\": \"black\", \"fontColor\": \"white\", \"showBackground\": true, \"fontSize\": 12});\nviewer_17500541731506295.render();\n});\n</script>",
      "text/html": [
       "<div id=\"3dmolviewer_17500541731506295\"  style=\"position: relative; width: 400px; height: 400px;\">\n",
       "        <p id=\"3dmolwarning_17500541731506295\" style=\"background-color:#ffcccc;color:black\">3Dmol.js failed to load for some reason.  Please check your browser console for error messages.<br></p>\n",
       "        </div>\n",
       "<script>\n",
       "\n",
       "var loadScriptAsync = function(uri){\n",
       "  return new Promise((resolve, reject) => {\n",
       "    //this is to ignore the existence of requirejs amd\n",
       "    var savedexports, savedmodule;\n",
       "    if (typeof exports !== 'undefined') savedexports = exports;\n",
       "    else exports = {}\n",
       "    if (typeof module !== 'undefined') savedmodule = module;\n",
       "    else module = {}\n",
       "\n",
       "    var tag = document.createElement('script');\n",
       "    tag.src = uri;\n",
       "    tag.async = true;\n",
       "    tag.onload = () => {\n",
       "        exports = savedexports;\n",
       "        module = savedmodule;\n",
       "        resolve();\n",
       "    };\n",
       "  var firstScriptTag = document.getElementsByTagName('script')[0];\n",
       "  firstScriptTag.parentNode.insertBefore(tag, firstScriptTag);\n",
       "});\n",
       "};\n",
       "\n",
       "if(typeof $3Dmolpromise === 'undefined') {\n",
       "$3Dmolpromise = null;\n",
       "  $3Dmolpromise = loadScriptAsync('https://cdn.jsdelivr.net/npm/3dmol@2.5.0/build/3Dmol-min.js');\n",
       "}\n",
       "\n",
       "var viewer_17500541731506295 = null;\n",
       "var warn = document.getElementById(\"3dmolwarning_17500541731506295\");\n",
       "if(warn) {\n",
       "    warn.parentNode.removeChild(warn);\n",
       "}\n",
       "$3Dmolpromise.then(function() {\n",
       "viewer_17500541731506295 = $3Dmol.createViewer(document.getElementById(\"3dmolviewer_17500541731506295\"),{backgroundColor:\"white\"});\n",
       "viewer_17500541731506295.zoomTo();\n",
       "\tviewer_17500541731506295.addModel(\"15\\n\\nO      1.88878   -1.95233   -0.28948\\nH      2.92501   -3.28661    0.90657\\nH      2.93956   -3.64997   -0.83856\\nH      1.44798   -3.87401    0.10426\\nC      2.33580   -3.25294   -0.01484\\nH      2.64332   -1.32264   -0.27726\\nO      0.00000    0.00000    0.00000\\nH     -0.61425   -0.07593   -0.73002\\nH      0.54322   -0.80712   -0.00284\\nO      1.86706    1.85104    0.75482\\nH      1.22835    1.18615    0.44091\\nH      1.34844    2.58596    1.08333\\nO      3.79229   -0.00000   -0.00000\\nH      3.21057    0.64166    0.42375\\nH      4.29234    0.44984   -0.68198\\n\\n\",\"xyz\");\n",
       "\tviewer_17500541731506295.setStyle({},{\"stick\": {}, \"sphere\": {\"scale\": 0.3}});\n",
       "\tviewer_17500541731506295.zoomTo();\n",
       "\tviewer_17500541731506295.addLabel(\"1\",{\"position\": {\"x\": 1.88878, \"y\": -1.95233, \"z\": -0.28948}, \"backgroundColor\": \"black\", \"fontColor\": \"white\", \"showBackground\": true, \"fontSize\": 12});\n",
       "\tviewer_17500541731506295.addLabel(\"1\",{\"position\": {\"x\": 2.92501, \"y\": -3.28661, \"z\": 0.90657}, \"backgroundColor\": \"black\", \"fontColor\": \"white\", \"showBackground\": true, \"fontSize\": 12});\n",
       "\tviewer_17500541731506295.addLabel(\"1\",{\"position\": {\"x\": 2.93956, \"y\": -3.64997, \"z\": -0.83856}, \"backgroundColor\": \"black\", \"fontColor\": \"white\", \"showBackground\": true, \"fontSize\": 12});\n",
       "\tviewer_17500541731506295.addLabel(\"1\",{\"position\": {\"x\": 1.44798, \"y\": -3.87401, \"z\": 0.10426}, \"backgroundColor\": \"black\", \"fontColor\": \"white\", \"showBackground\": true, \"fontSize\": 12});\n",
       "\tviewer_17500541731506295.addLabel(\"1\",{\"position\": {\"x\": 2.3358, \"y\": -3.25294, \"z\": -0.01484}, \"backgroundColor\": \"black\", \"fontColor\": \"white\", \"showBackground\": true, \"fontSize\": 12});\n",
       "\tviewer_17500541731506295.addLabel(\"1\",{\"position\": {\"x\": 2.64332, \"y\": -1.32264, \"z\": -0.27726}, \"backgroundColor\": \"black\", \"fontColor\": \"white\", \"showBackground\": true, \"fontSize\": 12});\n",
       "\tviewer_17500541731506295.addLabel(\"2\",{\"position\": {\"x\": 0.0, \"y\": 0.0, \"z\": 0.0}, \"backgroundColor\": \"black\", \"fontColor\": \"white\", \"showBackground\": true, \"fontSize\": 12});\n",
       "\tviewer_17500541731506295.addLabel(\"2\",{\"position\": {\"x\": -0.61425, \"y\": -0.07593, \"z\": -0.73002}, \"backgroundColor\": \"black\", \"fontColor\": \"white\", \"showBackground\": true, \"fontSize\": 12});\n",
       "\tviewer_17500541731506295.addLabel(\"2\",{\"position\": {\"x\": 0.54322, \"y\": -0.80712, \"z\": -0.00284}, \"backgroundColor\": \"black\", \"fontColor\": \"white\", \"showBackground\": true, \"fontSize\": 12});\n",
       "\tviewer_17500541731506295.addLabel(\"3\",{\"position\": {\"x\": 1.86706, \"y\": 1.85104, \"z\": 0.75482}, \"backgroundColor\": \"black\", \"fontColor\": \"white\", \"showBackground\": true, \"fontSize\": 12});\n",
       "\tviewer_17500541731506295.addLabel(\"3\",{\"position\": {\"x\": 1.22835, \"y\": 1.18615, \"z\": 0.44091}, \"backgroundColor\": \"black\", \"fontColor\": \"white\", \"showBackground\": true, \"fontSize\": 12});\n",
       "\tviewer_17500541731506295.addLabel(\"3\",{\"position\": {\"x\": 1.34844, \"y\": 2.58596, \"z\": 1.08333}, \"backgroundColor\": \"black\", \"fontColor\": \"white\", \"showBackground\": true, \"fontSize\": 12});\n",
       "\tviewer_17500541731506295.addLabel(\"4\",{\"position\": {\"x\": 3.79229, \"y\": -0.0, \"z\": -0.0}, \"backgroundColor\": \"black\", \"fontColor\": \"white\", \"showBackground\": true, \"fontSize\": 12});\n",
       "\tviewer_17500541731506295.addLabel(\"4\",{\"position\": {\"x\": 3.21057, \"y\": 0.64166, \"z\": 0.42375}, \"backgroundColor\": \"black\", \"fontColor\": \"white\", \"showBackground\": true, \"fontSize\": 12});\n",
       "\tviewer_17500541731506295.addLabel(\"4\",{\"position\": {\"x\": 4.29234, \"y\": 0.44984, \"z\": -0.68198}, \"backgroundColor\": \"black\", \"fontColor\": \"white\", \"showBackground\": true, \"fontSize\": 12});\n",
       "viewer_17500541731506295.render();\n",
       "});\n",
       "</script>"
      ]
     },
     "metadata": {},
     "output_type": "display_data"
    },
    {
     "name": "stdout",
     "output_type": "stream",
     "text": [
      "Total interaction energy is -20.3 kcal/mol\n"
     ]
    },
    {
     "data": {
      "image/png": "[encoded data removed]",
      "text/plain": [
       "<Figure size 600x500 with 2 Axes>"
      ]
     },
     "metadata": {},
     "output_type": "display_data"
    }
   ],
   "source": [
    "# Function to plot the results in a heatmap\n",
    "def plot_led(name: str, df: pd.DataFrame):\n",
    "    plt.figure(figsize=(6, 5))\n",
    "    sns.heatmap(df, annot=True, fmt=\".1f\", cmap=\"RdBu\", center=0)\n",
    "    plt.title(f\"{name} (kcal/mol)\")\n",
    "    plt.xlabel(\"Fragment X\")\n",
    "    plt.ylabel(\"Fragment Y\")\n",
    "    plt.show()\n",
    "\n",
    "# > Show the structure with fragment IDs once more\n",
    "print(\"Visualization of fragments:\")\n",
    "view.show()\n",
    "\n",
    "# > Calculate the total interaction energy between fragment 1 and everything else\n",
    "etot = np.nansum(data_frames[\"LED_Total\"].to_numpy())\n",
    "print(f\"Total interaction energy is {etot:.1f} kcal/mol\")\n",
    "\n",
    "# > Actually plot the heatmap\n",
    "plot_led(\"LED_Total\",data_frames[\"LED_Total\"])"
   ]
  },
  {
   "cell_type": "markdown",
   "id": "c68b2a78",
   "metadata": {},
   "source": [
    "## Step 11: Interpretation of the Results\n",
    "The heatmap shown above visualizes the pair-wise contributions to the host-guest interaction energy. The overall interaction energy is negative and as expected the contributions between methanol (fragment 1) and the water molecules with direct hydrogen bonds to it (fragment 2 and 4) have the largest contributions to the overall interaction energy. We take a closer look at the contributions from the Hartee-Fock (HF) reference function `LED_Ref` and the correlation contribution `LED_Corr`:  "
   ]
  },
  {
   "cell_type": "code",
   "execution_count": 13,
   "id": "04b4a12b",
   "metadata": {},
   "outputs": [
    {
     "data": {
      "image/png": "[encoded data removed]",
      "text/plain": [
       "<Figure size 600x500 with 2 Axes>"
      ]
     },
     "metadata": {},
     "output_type": "display_data"
    },
    {
     "data": {
      "image/png": "[encoded data removed]",
      "text/plain": [
       "<Figure size 600x500 with 2 Axes>"
      ]
     },
     "metadata": {},
     "output_type": "display_data"
    }
   ],
   "source": [
    "plot_led(\"LED_Ref\",data_frames[\"LED_Ref\"])\n",
    "plot_led(\"LED_Corr\",data_frames[\"LED_Corr\"])"
   ]
  },
  {
   "cell_type": "markdown",
   "id": "0e032186",
   "metadata": {},
   "source": [
    "It can be seen that the largest part of the hydrogen bond interactions is already described at the HF reference level, while the correlation contributions are smaller but critical for accuracy. \n",
    "> **Note:** If you are interested in the other contributions you can download this notebook, run it on your computer, and plot the other heatmaps with the functionality provided here."
   ]
  },
  {
   "cell_type": "markdown",
   "id": "bc91f99b",
   "metadata": {},
   "source": [
    "## Notes on performing LED calculations\n",
    "The shown LED analysis can be applied to all host-guest complexes with neutral charge and no covalent bonds between them. The first fragment automatically found by the ORCA fragmentator will always be the guest and all the other fragments the host."
   ]
  }
 ],
 "metadata": {
  "jupytext": {
   "cell_metadata_filter": "-all",
   "executable": "/usr/bin/env python3",
   "main_language": "python",
   "notebook_metadata_filter": "-all"
  },
  "kernelspec": {
   "display_name": ".venv",
   "language": "python",
   "name": "python3"
  },
  "language_info": {
   "codemirror_mode": {
    "name": "ipython",
    "version": 3
   },
   "file_extension": ".py",
   "mimetype": "text/x-python",
   "name": "python",
   "nbconvert_exporter": "python",
   "pygments_lexer": "ipython3",
   "version": "3.12.3"
  }
 },
 "nbformat": 4,
 "nbformat_minor": 5
}
