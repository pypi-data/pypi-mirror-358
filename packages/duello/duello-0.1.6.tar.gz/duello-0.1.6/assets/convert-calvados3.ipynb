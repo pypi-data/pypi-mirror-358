{
 "cells": [
  {
   "cell_type": "markdown",
   "id": "4361d9a4-90ce-496d-9e37-ba136213df53",
   "metadata": {},
   "source": [
    "# Convert Calvados to Faunus-RS format\n",
    "\n",
    "This converts CSV files to JSON files for Faunus.\n",
    "\n",
    "## Further processing to YAML\n",
    "\n",
    "The JSON file should be converted to YAML and here it's important to convert the `hydrophobicity` column which is currently a `string`. It should instead represent a custom datatype, `Lambda` or `λ` as signified with `!`.\n",
    "In short, convert to YAML and remove the quotes, `\"`.\n",
    "\n",
    "## References\n",
    "\n",
    "- [Calvados2](https://open-research-europe.ec.europa.eu/articles/2-94/v2)\n",
    "- [Calvados3](https://onlinelibrary.wiley.com/doi/10.1002/pro.5172)\n",
    "- [Github](https://github.com/KULL-Centre/CALVADOS)"
   ]
  },
  {
   "cell_type": "code",
   "execution_count": null,
   "id": "2cb49b8b-d96c-4c5d-bd8d-f663ed7d09c3",
   "metadata": {},
   "outputs": [],
   "source": [
    "%matplotlib inline\n",
    "\n",
    "import numpy as np\n",
    "import matplotlib.pyplot as plt\n",
    "import pandas as pd\n",
    "import urllib.request\n",
    "import os.path"
   ]
  },
  {
   "cell_type": "code",
   "execution_count": null,
   "id": "24898e25-192f-46bb-ac4b-d7f5425c5e7c",
   "metadata": {},
   "outputs": [],
   "source": [
    "def convert_calvados3():\n",
    "    csvfile = \"calvados3.csv\"\n",
    "    if not os.path.isfile(csvfile):\n",
    "        urllib.request.urlretrieve(\n",
    "            \"https://raw.githubusercontent.com/KULL-Centre/CALVADOS/refs/heads/main/examples/single_MDP/input/residues_CALVADOS3.csv\",\n",
    "            csvfile,\n",
    "        )\n",
    "    df = pd.read_csv(\n",
    "        csvfile, usecols=[\"three\", \"MW\", \"sigmas\", \"sigmas\", \"q\", \"lambdas\"]\n",
    "    )\n",
    "    df.columns = [\"name\", \"mass\", \"hydrophobicity\", \"sigma\", \"charge\"]\n",
    "    df[\"hydrophobicity\"] = df[\"hydrophobicity\"].map(\"!Lambda {:.5}\".format)\n",
    "    df[\"ε\"] = 0.8368  # kJ/mol\n",
    "    df[\"sigma\"] *= 10  # nm -> angstrom\n",
    "    df.to_json(\"calvados3.json\", orient=\"records\", force_ascii=False)\n",
    "    return df"
   ]
  },
  {
   "cell_type": "code",
   "execution_count": null,
   "id": "c8def71d-a4e8-48c8-a6e2-4b629efb148d",
   "metadata": {},
   "outputs": [],
   "source": [
    "df = convert_calvados3()\n",
    "df"
   ]
  },
  {
   "cell_type": "markdown",
   "id": "d8fa0254-d66b-49a3-a649-597c5de52548",
   "metadata": {},
   "source": [
    "# Plot potential"
   ]
  },
  {
   "cell_type": "code",
   "execution_count": null,
   "id": "98d4dfa6-53bf-4e99-b20f-9dd68984fbd7",
   "metadata": {},
   "outputs": [],
   "source": [
    "σ = 6.0  # angstrom\n",
    "ε = 0.8368  # kJ/mol\n",
    "λ = 0.5\n",
    "rc = 3 * σ  # angstrom\n",
    "\n",
    "\n",
    "def lj(r):\n",
    "    return 4 * ε * ((σ / r) ** 12 - (σ / r) ** 6)\n",
    "\n",
    "\n",
    "def ah(r):\n",
    "    if r > rc:\n",
    "        return 0.0\n",
    "    if r <= σ * 2 ** (1 / 6):\n",
    "        return lj(r) - λ * lj(rc) + ε * (1 - λ)\n",
    "    return λ * (lj(r) - lj(rc))\n",
    "\n",
    "\n",
    "r = np.linspace(0.9 * σ, rc, 50)\n",
    "f = np.vectorize(ah)\n",
    "\n",
    "plt.plot(r / σ, lj(r) / ε, label=\"Lennard-Jones\")\n",
    "plt.plot(r / σ, f(r) / ε, label=\"Ashbaugh-Hatch\")\n",
    "\n",
    "plt.xlabel(\"r/σ\")\n",
    "plt.ylabel(\"u(r)/ε\")\n",
    "plt.legend(loc=0, frameon=False)"
   ]
  }
 ],
 "metadata": {
  "kernelspec": {
   "display_name": "Python 3 (ipykernel)",
   "language": "python",
   "name": "python3"
  },
  "language_info": {
   "codemirror_mode": {
    "name": "ipython",
    "version": 3
   },
   "file_extension": ".py",
   "mimetype": "text/x-python",
   "name": "python",
   "nbconvert_exporter": "python",
   "pygments_lexer": "ipython3",
   "version": "3.9.13"
  }
 },
 "nbformat": 4,
 "nbformat_minor": 5
}
