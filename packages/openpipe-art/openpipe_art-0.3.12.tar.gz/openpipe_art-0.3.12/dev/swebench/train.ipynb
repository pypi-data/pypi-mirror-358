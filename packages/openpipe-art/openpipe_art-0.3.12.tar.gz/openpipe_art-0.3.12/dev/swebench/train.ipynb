{
 "cells": [
  {
   "cell_type": "code",
   "execution_count": 1,
   "metadata": {},
   "outputs": [],
   "source": [
    "%load_ext autoreload\n",
    "%autoreload 2"
   ]
  },
  {
   "cell_type": "code",
   "execution_count": null,
   "metadata": {},
   "outputs": [],
   "source": [
    "%%html\n",
    "<style>\n",
    ".cell-output-ipywidget-background {\n",
    "    background-color: transparent !important;\n",
    "}\n",
    ":root {\n",
    "    --jp-widgets-color: var(--vscode-editor-foreground);\n",
    "    --jp-widgets-font-size: var(--vscode-editor-font-size);\n",
    "}  \n",
    "</style>"
   ]
  },
  {
   "cell_type": "code",
   "execution_count": 3,
   "metadata": {},
   "outputs": [],
   "source": [
    "from dotenv import load_dotenv\n",
    "import nest_asyncio\n",
    "import os\n",
    "\n",
    "# PREPARE ENVIRONMENT\n",
    "os.environ[\"MODAL_IMAGE_BUILDER_VERSION\"] = \"2024.10\"\n",
    "os.environ[\"SWE_AGENT_CONFIG_DIR\"] = \".\"\n",
    "os.environ[\"SWE_AGENT_TOOLS_DIR\"] = \"tools\"\n",
    "os.environ[\"SWE_AGENT_TRAJECTORY_DIR\"] = \"trajectories\"\n",
    "os.environ[\"WEAVE_PRINT_CALL_LINK\"] = \"False\"\n",
    "os.environ[\"WEAVE_LOG_LEVEL\"] = \"CRITICAL\"\n",
    "\n",
    "os.makedirs(\"replays\", exist_ok=True)\n",
    "os.makedirs(\"trajectories\", exist_ok=True)\n",
    "\n",
    "load_dotenv()\n",
    "nest_asyncio.apply()"
   ]
  },
  {
   "cell_type": "code",
   "execution_count": null,
   "metadata": {},
   "outputs": [],
   "source": [
    "import art\n",
    "from art.local import LocalBackend\n",
    "from rollout import ModelConfig\n",
    "import torch\n",
    "\n",
    "# INITIALIZE MODEL\n",
    "backend = LocalBackend()\n",
    "model = art.TrainableModel(\n",
    "    name=\"025\",\n",
    "    project=\"sweagent\",\n",
    "    config=ModelConfig(\n",
    "        max_input_tokens=40_960,\n",
    "        system_prompt_suffix=\"\\n/no_think\",\n",
    "        xml_function_calling=True,\n",
    "    ),\n",
    "    # inference_api_key=\"default\",\n",
    "    # inference_base_url=\"http://0.0.0.0:8000/v1\",\n",
    "    # inference_model_name=\"Qwen/Qwen3-32B\",\n",
    "    base_model=\"Qwen/Qwen3-32B\",\n",
    "    _internal_config=art.dev.InternalModelConfig(\n",
    "        engine_args=art.dev.EngineArgs(\n",
    "            tensor_parallel_size=torch.cuda.device_count(), gpu_memory_utilization=0.85\n",
    "        ),\n",
    "        torchtune_args=art.dev.TorchtuneArgs(model=\"qwen3_32b\", model_type=\"QWEN3\", async_weight_syncing=True),\n",
    "    ),\n",
    ")\n",
    "await model.register(backend)"
   ]
  },
  {
   "cell_type": "code",
   "execution_count": 5,
   "metadata": {},
   "outputs": [],
   "source": [
    "from sandboxes import terminate_sandboxes\n",
    "\n",
    "# await terminate_sandboxes()"
   ]
  },
  {
   "cell_type": "code",
   "execution_count": null,
   "metadata": {},
   "outputs": [],
   "source": [
    "import weave\n",
    "\n",
    "from instances import as_instances_iter, get_filtered_swe_smith_instances_df\n",
    "from rollout import rollout\n",
    "\n",
    "weave.init(project_name=model.project)\n",
    "rollout = weave.op(rollout)\n",
    "\n",
    "# TRAIN MODEL\n",
    "instances = (\n",
    "    get_filtered_swe_smith_instances_df()\n",
    "    .sample(fraction=1.0, shuffle=True, seed=42)\n",
    "    .pipe(as_instances_iter)\n",
    ")\n",
    "\n",
    "async for trajectory_groups in art.trajectory_group_batches(\n",
    "    (\n",
    "        art.TrajectoryGroup(rollout(model, instance) for _ in range(4))\n",
    "        for instance in instances\n",
    "    ),\n",
    "    batch_size=4,\n",
    "    max_concurrent_batches=3,\n",
    "    skip_batches=await model.get_step(),\n",
    "):\n",
    "    await model.train(\n",
    "        trajectory_groups,\n",
    "        _config=art.dev.TrainConfig(allow_training_without_logprobs=True),\n",
    "    )"
   ]
  }
 ],
 "metadata": {
  "kernelspec": {
   "display_name": ".venv",
   "language": "python",
   "name": "python3"
  },
  "language_info": {
   "codemirror_mode": {
    "name": "ipython",
    "version": 3
   },
   "file_extension": ".py",
   "mimetype": "text/x-python",
   "name": "python",
   "nbconvert_exporter": "python",
   "pygments_lexer": "ipython3",
   "version": "3.10.16"
  }
 },
 "nbformat": 4,
 "nbformat_minor": 2
}
