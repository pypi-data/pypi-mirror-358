{
 "cells": [
  {
   "cell_type": "markdown",
   "id": "8358e29c",
   "metadata": {},
   "source": [
    "# Inclusive and Exclusive Inputs\n",
    "\n",
    "Inclusive and Exclusive Inputs refers to the [2.4.3. Inclusive and Exclusive Inputs](https://www.commonwl.org/user_guide/topics/inputs.html#inclusive-and-exclusive-inputs) paragraph of the _2.4. Inputs_ chapter of the [Common Workflow Language User Guide](https://www.commonwl.org/user_guide/index.html#).\n",
    "\n",
    "It shows also how the library is able to handle and convert `record` types."
   ]
  },
  {
   "cell_type": "markdown",
   "id": "49492847",
   "metadata": {},
   "source": [
    "## 1. Parsing\n",
    "\n",
    "Convert the CWL document, from its YAML representation, to the CWL DOM via [cwl-utils APIs](https://github.com/common-workflow-language/cwl-utils):"
   ]
  },
  {
   "cell_type": "code",
   "execution_count": null,
   "id": "28253a7a",
   "metadata": {},
   "outputs": [
    {
     "name": "stdout",
     "output_type": "stream",
     "text": [
      "baseCommand: echo\n",
      "class: CommandLineTool\n",
      "cwlVersion: v1.2\n",
      "id: io://\n",
      "inputs:\n",
      "- id: io:/#dependent_parameters\n",
      "  type:\n",
      "    fields:\n",
      "    - inputBinding:\n",
      "        prefix: -A\n",
      "      name: io:/#dependent_parameters/dependent_parameters/itemA\n",
      "      type: string\n",
      "    - inputBinding:\n",
      "        prefix: -B\n",
      "      name: io:/#dependent_parameters/dependent_parameters/itemB\n",
      "      type: string\n",
      "    name: io:/#dependent_parameters/dependent_parameters\n",
      "    type: record\n",
      "- id: io:/#exclusive_parameters\n",
      "  type:\n",
      "  - fields:\n",
      "    - inputBinding:\n",
      "        prefix: -C\n",
      "      name: io:/#exclusive_parameters/itemC/itemC\n",
      "      type: string\n",
      "    name: io:/#exclusive_parameters/itemC\n",
      "    type: record\n",
      "  - fields:\n",
      "    - inputBinding:\n",
      "        prefix: -D\n",
      "      name: io:/#exclusive_parameters/itemD/itemD\n",
      "      type: string\n",
      "    name: io:/#exclusive_parameters/itemD\n",
      "    type: record\n",
      "outputs:\n",
      "- id: io:/#example_out\n",
      "  type: stdout\n",
      "stdout: output.txt\n",
      "\n"
     ]
    }
   ],
   "source": [
    "from cwl_utils.parser import load_document_by_yaml, save\n",
    "import yaml\n",
    "\n",
    "with open('./workflows/inclusive-exclusive-inputs.cwl') as f:\n",
    "    cwl_content = yaml.load(f, Loader=yaml.SafeLoader)\n",
    "\n",
    "cwl = load_document_by_yaml(yaml=cwl_content, uri=\"io://\", load_all=True)\n",
    "\n",
    "print(\n",
    "    yaml.dump(\n",
    "        save(\n",
    "            val=cwl,\n",
    "            relative_uris=False\n",
    "        )\n",
    "    )\n",
    ")"
   ]
  },
  {
   "cell_type": "markdown",
   "id": "a127e3f7",
   "metadata": {},
   "source": [
    "# 2. Inputs conversion\n",
    "\n",
    "Once the document is parsed, invoke the `cwl2ogc` APIs to convert the CWL inputs to the OGC JSON format:"
   ]
  },
  {
   "cell_type": "code",
   "execution_count": 2,
   "id": "fba17ea4",
   "metadata": {},
   "outputs": [
    {
     "name": "stdout",
     "output_type": "stream",
     "text": [
      "{\n",
      "  \"#dependent_parameters\": {\n",
      "    \"schema\": {\n",
      "      \"type\": \"object\",\n",
      "      \"properties\": {\n",
      "        \"itemA\": {\n",
      "          \"type\": \"string\"\n",
      "        },\n",
      "        \"itemB\": {\n",
      "          \"type\": \"string\"\n",
      "        }\n",
      "      },\n",
      "      \"required\": [\n",
      "        \"itemA\",\n",
      "        \"itemB\"\n",
      "      ]\n",
      "    }\n",
      "  },\n",
      "  \"#exclusive_parameters\": {\n",
      "    \"schema\": {\n",
      "      \"nullable\": false,\n",
      "      \"anyOf\": [\n",
      "        {\n",
      "          \"type\": \"object\",\n",
      "          \"properties\": {\n",
      "            \"itemC\": {\n",
      "              \"type\": \"string\"\n",
      "            }\n",
      "          },\n",
      "          \"required\": [\n",
      "            \"itemC\"\n",
      "          ]\n",
      "        },\n",
      "        {\n",
      "          \"type\": \"object\",\n",
      "          \"properties\": {\n",
      "            \"itemD\": {\n",
      "              \"type\": \"string\"\n",
      "            }\n",
      "          },\n",
      "          \"required\": [\n",
      "            \"itemD\"\n",
      "          ]\n",
      "        }\n",
      "      ]\n",
      "    }\n",
      "  }\n",
      "}\n"
     ]
    }
   ],
   "source": [
    "from cwl2ogc import BaseCWLtypes2OGCConverter\n",
    "import json\n",
    "\n",
    "converter = BaseCWLtypes2OGCConverter(cwl)\n",
    "\n",
    "inputs = converter.to_ogc(cwl.inputs)\n",
    "\n",
    "print(json.dumps(inputs, indent=2))"
   ]
  },
  {
   "cell_type": "markdown",
   "id": "8f73dd47",
   "metadata": {},
   "source": [
    "# 2. Outputs conversion\n",
    "\n",
    "Users can reuse the `BaseCWLtypes2OGCConverter` instance to convert the CWL outputs to the OGC JSON format:"
   ]
  },
  {
   "cell_type": "code",
   "execution_count": 3,
   "id": "1ddfe702",
   "metadata": {},
   "outputs": [
    {
     "name": "stdout",
     "output_type": "stream",
     "text": [
      "{\n",
      "  \"#example_out\": {\n",
      "    \"schema\": {\n",
      "      \"type\": \"string\"\n",
      "    }\n",
      "  }\n",
      "}\n"
     ]
    }
   ],
   "source": [
    "outputs = converter.to_ogc(cwl.outputs)\n",
    "\n",
    "print(json.dumps(outputs, indent=2))"
   ]
  }
 ],
 "metadata": {
  "kernelspec": {
   "display_name": "cwl2ogc",
   "language": "python",
   "name": "python3"
  },
  "language_info": {
   "codemirror_mode": {
    "name": "ipython",
    "version": 3
   },
   "file_extension": ".py",
   "mimetype": "text/x-python",
   "name": "python",
   "nbconvert_exporter": "python",
   "pygments_lexer": "ipython3",
   "version": "3.12.8"
  }
 },
 "nbformat": 4,
 "nbformat_minor": 5
}
