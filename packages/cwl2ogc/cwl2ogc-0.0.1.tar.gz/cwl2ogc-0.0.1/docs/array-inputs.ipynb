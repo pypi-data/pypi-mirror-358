{
 "cells": [
  {
   "cell_type": "markdown",
   "id": "8358e29c",
   "metadata": {},
   "source": [
    "# Array Inputs\n",
    "\n",
    "Array Inputs refers to the [2.4.2. Array Inputs](https://www.commonwl.org/user_guide/topics/inputs.html#array-inputs) paragraph of the _2.4. Inputs_ chapter of the [Common Workflow Language User Guide](https://www.commonwl.org/user_guide/index.html#)"
   ]
  },
  {
   "cell_type": "markdown",
   "id": "49492847",
   "metadata": {},
   "source": [
    "## 1. Parsing\n",
    "\n",
    "Convert the CWL document, from its YAML representation, to the CWL DOM via [cwl-utils APIs](https://github.com/common-workflow-language/cwl-utils):"
   ]
  },
  {
   "cell_type": "code",
   "execution_count": null,
   "id": "28253a7a",
   "metadata": {},
   "outputs": [
    {
     "name": "stdout",
     "output_type": "stream",
     "text": [
      "baseCommand: echo\n",
      "class: CommandLineTool\n",
      "cwlVersion: v1.2\n",
      "id: io:/#array-inputs\n",
      "inputs:\n",
      "- doc: filesA doc\n",
      "  id: io:/#array-inputs/filesA\n",
      "  inputBinding:\n",
      "    position: 1\n",
      "    prefix: -A\n",
      "  label: filesA label\n",
      "  type:\n",
      "    items: string\n",
      "    name: _:c4d512af-726b-4143-92cc-142312f9c0a6\n",
      "    type: array\n",
      "- doc: filesB doc\n",
      "  id: io:/#array-inputs/filesB\n",
      "  inputBinding:\n",
      "    position: 2\n",
      "  label: filesB label\n",
      "  type:\n",
      "    inputBinding:\n",
      "      prefix: -B=\n",
      "      separate: false\n",
      "    items: string\n",
      "    name: _:ea4d84e1-34f6-4d82-8d84-e7f3377a4aba\n",
      "    type: array\n",
      "- doc: filesC doc\n",
      "  id: io:/#array-inputs/filesC\n",
      "  inputBinding:\n",
      "    itemSeparator: ','\n",
      "    position: 4\n",
      "    prefix: -C=\n",
      "    separate: false\n",
      "  label: filesC label\n",
      "  type:\n",
      "    items: string\n",
      "    name: _:03e601e7-875f-4d2d-bd15-29c4a428c732\n",
      "    type: array\n",
      "outputs:\n",
      "- id: io:/#array-inputs/example_out\n",
      "  type: stdout\n",
      "stdout: output.txt\n",
      "\n"
     ]
    }
   ],
   "source": [
    "from cwl_utils.parser import load_document_by_yaml, save\n",
    "import yaml\n",
    "\n",
    "with open('./workflows/array-inputs.cwl') as f:\n",
    "    cwl_content = yaml.load(f, Loader=yaml.SafeLoader)\n",
    "\n",
    "cwl = load_document_by_yaml(yaml=cwl_content, uri=\"io://\", load_all=True)\n",
    "\n",
    "print(\n",
    "    yaml.dump(\n",
    "        save(\n",
    "            val=cwl,\n",
    "            relative_uris=False\n",
    "        )\n",
    "    )\n",
    ")"
   ]
  },
  {
   "cell_type": "markdown",
   "id": "a127e3f7",
   "metadata": {},
   "source": [
    "# 2. Inputs conversion\n",
    "\n",
    "Once the document is parsed, invoke the `cwl2ogc` APIs to convert the CWL inputs to the OGC JSON format:"
   ]
  },
  {
   "cell_type": "code",
   "execution_count": 2,
   "id": "fba17ea4",
   "metadata": {},
   "outputs": [
    {
     "name": "stdout",
     "output_type": "stream",
     "text": [
      "{\n",
      "  \"filesA\": {\n",
      "    \"schema\": {\n",
      "      \"type\": \"array\",\n",
      "      \"items\": {\n",
      "        \"type\": \"string\"\n",
      "      }\n",
      "    },\n",
      "    \"title\": \"filesA label\",\n",
      "    \"description\": \"filesA doc\"\n",
      "  },\n",
      "  \"filesB\": {\n",
      "    \"schema\": {\n",
      "      \"type\": \"array\",\n",
      "      \"items\": {\n",
      "        \"type\": \"string\"\n",
      "      }\n",
      "    },\n",
      "    \"title\": \"filesB label\",\n",
      "    \"description\": \"filesB doc\"\n",
      "  },\n",
      "  \"filesC\": {\n",
      "    \"schema\": {\n",
      "      \"type\": \"array\",\n",
      "      \"items\": {\n",
      "        \"type\": \"string\"\n",
      "      }\n",
      "    },\n",
      "    \"title\": \"filesC label\",\n",
      "    \"description\": \"filesC doc\"\n",
      "  }\n",
      "}\n"
     ]
    }
   ],
   "source": [
    "from cwl2ogc import BaseCWLtypes2OGCConverter\n",
    "import json\n",
    "\n",
    "converter = BaseCWLtypes2OGCConverter(cwl)\n",
    "\n",
    "inputs = converter.to_ogc(cwl.inputs)\n",
    "\n",
    "print(json.dumps(inputs, indent=2))"
   ]
  },
  {
   "cell_type": "markdown",
   "id": "8f73dd47",
   "metadata": {},
   "source": [
    "# 2. Outputs conversion\n",
    "\n",
    "Users can reuse the `BaseCWLtypes2OGCConverter` instance to convert the CWL outputs to the OGC JSON format:"
   ]
  },
  {
   "cell_type": "code",
   "execution_count": 3,
   "id": "1ddfe702",
   "metadata": {},
   "outputs": [
    {
     "name": "stdout",
     "output_type": "stream",
     "text": [
      "{\n",
      "  \"example_out\": {\n",
      "    \"schema\": {\n",
      "      \"type\": \"string\"\n",
      "    }\n",
      "  }\n",
      "}\n"
     ]
    }
   ],
   "source": [
    "outputs = converter.to_ogc(cwl.outputs)\n",
    "\n",
    "print(json.dumps(outputs, indent=2))"
   ]
  }
 ],
 "metadata": {
  "kernelspec": {
   "display_name": "cwl2ogc",
   "language": "python",
   "name": "python3"
  },
  "language_info": {
   "codemirror_mode": {
    "name": "ipython",
    "version": 3
   },
   "file_extension": ".py",
   "mimetype": "text/x-python",
   "name": "python",
   "nbconvert_exporter": "python",
   "pygments_lexer": "ipython3",
   "version": "3.12.8"
  }
 },
 "nbformat": 4,
 "nbformat_minor": 5
}
