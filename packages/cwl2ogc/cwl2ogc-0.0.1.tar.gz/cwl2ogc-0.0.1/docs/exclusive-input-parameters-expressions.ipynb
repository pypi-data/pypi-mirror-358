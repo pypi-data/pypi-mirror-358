{
 "cells": [
  {
   "cell_type": "markdown",
   "id": "8358e29c",
   "metadata": {},
   "source": [
    "# Exclusive Input Parameters with Expressions\n",
    "\n",
    "Exclusive Input Parameters with Expressions refers to the [2.4.3.1. Exclusive Input Parameters with Expressions](https://www.commonwl.org/user_guide/topics/inputs.html#exclusive-input-parameters-with-expressions) paragraph of the _2.4. Inputs_ chapter of the [Common Workflow Language User Guide](https://www.commonwl.org/user_guide/index.html#)."
   ]
  },
  {
   "cell_type": "markdown",
   "id": "49492847",
   "metadata": {},
   "source": [
    "## 1. Parsing\n",
    "\n",
    "Convert the CWL document, from its YAML representation, to the CWL DOM via [cwl-utils APIs](https://github.com/common-workflow-language/cwl-utils):"
   ]
  },
  {
   "cell_type": "code",
   "execution_count": 1,
   "id": "28253a7a",
   "metadata": {},
   "outputs": [
    {
     "name": "stdout",
     "output_type": "stream",
     "text": [
      "baseCommand: 'true'\n",
      "class: CommandLineTool\n",
      "cwlVersion: v1.2\n",
      "id: io:/#exclusive-parameter-expressions\n",
      "inputs:\n",
      "- doc: file_format doc\n",
      "  id: io:/#exclusive-parameter-expressions/file_format\n",
      "  label: file_format label\n",
      "  type:\n",
      "  - 'null'\n",
      "  - inputBinding:\n",
      "      position: 0\n",
      "      prefix: --format\n",
      "    name: io:/#exclusive-parameter-expressions/file_format/format_choices\n",
      "    symbols:\n",
      "    - io:/#exclusive-parameter-expressions/file_format/format_choices/auto\n",
      "    - io:/#exclusive-parameter-expressions/file_format/format_choices/fasta\n",
      "    - io:/#exclusive-parameter-expressions/file_format/format_choices/fastq\n",
      "    - io:/#exclusive-parameter-expressions/file_format/format_choices/fasta.gz\n",
      "    - io:/#exclusive-parameter-expressions/file_format/format_choices/fastq.gz\n",
      "    type: enum\n",
      "outputs:\n",
      "- id: io:/#exclusive-parameter-expressions/text_output\n",
      "  outputBinding:\n",
      "    outputEval: $(inputs.file_format)\n",
      "  type: string\n",
      "\n"
     ]
    }
   ],
   "source": [
    "from cwl_utils.parser import load_document_by_yaml, save\n",
    "import yaml\n",
    "\n",
    "with open('./workflows/exclusive-input-parameters-expressions.cwl') as f:\n",
    "    cwl_content = yaml.load(f, Loader=yaml.SafeLoader)\n",
    "\n",
    "cwl = load_document_by_yaml(yaml=cwl_content, uri=\"io://\", load_all=True)\n",
    "\n",
    "print(\n",
    "    yaml.dump(\n",
    "        save(\n",
    "            val=cwl,\n",
    "            relative_uris=False\n",
    "        )\n",
    "    )\n",
    ")"
   ]
  },
  {
   "cell_type": "markdown",
   "id": "a127e3f7",
   "metadata": {},
   "source": [
    "# 2. Inputs conversion\n",
    "\n",
    "Once the document is parsed, invoke the `cwl2ogc` APIs to convert the CWL inputs to the OGC JSON format:"
   ]
  },
  {
   "cell_type": "code",
   "execution_count": 2,
   "id": "fba17ea4",
   "metadata": {},
   "outputs": [
    {
     "name": "stdout",
     "output_type": "stream",
     "text": [
      "{\n",
      "  \"file_format\": {\n",
      "    \"schema\": {\n",
      "      \"nullable\": true,\n",
      "      \"type\": \"string\",\n",
      "      \"enum\": [\n",
      "        \"auto\",\n",
      "        \"fasta\",\n",
      "        \"fastq\",\n",
      "        \"fasta.gz\",\n",
      "        \"fastq.gz\"\n",
      "      ]\n",
      "    },\n",
      "    \"title\": \"file_format label\",\n",
      "    \"description\": \"file_format doc\"\n",
      "  }\n",
      "}\n"
     ]
    }
   ],
   "source": [
    "from cwl2ogc import BaseCWLtypes2OGCConverter\n",
    "import json\n",
    "\n",
    "converter = BaseCWLtypes2OGCConverter(cwl)\n",
    "\n",
    "inputs = converter.to_ogc(cwl.inputs)\n",
    "\n",
    "print(json.dumps(inputs, indent=2))"
   ]
  },
  {
   "cell_type": "markdown",
   "id": "8f73dd47",
   "metadata": {},
   "source": [
    "# 2. Outputs conversion\n",
    "\n",
    "Users can reuse the `BaseCWLtypes2OGCConverter` instance to convert the CWL outputs to the OGC JSON format:"
   ]
  },
  {
   "cell_type": "code",
   "execution_count": 3,
   "id": "1ddfe702",
   "metadata": {},
   "outputs": [
    {
     "name": "stdout",
     "output_type": "stream",
     "text": [
      "{\n",
      "  \"text_output\": {\n",
      "    \"schema\": {\n",
      "      \"type\": \"string\"\n",
      "    }\n",
      "  }\n",
      "}\n"
     ]
    }
   ],
   "source": [
    "outputs = converter.to_ogc(cwl.outputs)\n",
    "\n",
    "print(json.dumps(outputs, indent=2))"
   ]
  }
 ],
 "metadata": {
  "kernelspec": {
   "display_name": "cwl2ogc",
   "language": "python",
   "name": "python3"
  },
  "language_info": {
   "codemirror_mode": {
    "name": "ipython",
    "version": 3
   },
   "file_extension": ".py",
   "mimetype": "text/x-python",
   "name": "python",
   "nbconvert_exporter": "python",
   "pygments_lexer": "ipython3",
   "version": "3.12.8"
  }
 },
 "nbformat": 4,
 "nbformat_minor": 5
}
