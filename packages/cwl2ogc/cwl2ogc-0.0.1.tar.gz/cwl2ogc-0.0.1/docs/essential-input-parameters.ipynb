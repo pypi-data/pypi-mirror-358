{
 "cells": [
  {
   "cell_type": "markdown",
   "id": "8358e29c",
   "metadata": {},
   "source": [
    "# Essential Input Parameters\n",
    "\n",
    "Essential Input Parameters refers to the [2.4.1. Essential Input Parameters](https://www.commonwl.org/user_guide/topics/inputs.html#essential-input-parameters) paragraph of the _2.4. Inputs_ chapter of the [Common Workflow Language User Guide](https://www.commonwl.org/user_guide/index.html#)"
   ]
  },
  {
   "cell_type": "markdown",
   "id": "49492847",
   "metadata": {},
   "source": [
    "## 1. Parsing\n",
    "\n",
    "Convert the CWL document, from its YAML representation, to the CWL DOM via [cwl-utils APIs](https://github.com/common-workflow-language/cwl-utils):"
   ]
  },
  {
   "cell_type": "code",
   "execution_count": null,
   "id": "28253a7a",
   "metadata": {},
   "outputs": [
    {
     "name": "stdout",
     "output_type": "stream",
     "text": [
      "baseCommand: echo\n",
      "class: CommandLineTool\n",
      "cwlVersion: v1.2\n",
      "id: io:/#inp\n",
      "inputs:\n",
      "- doc: example_flag doc\n",
      "  id: io:/#inp/example_flag\n",
      "  inputBinding:\n",
      "    position: 1\n",
      "    prefix: -f\n",
      "  label: example_flag label\n",
      "  type: boolean\n",
      "- doc: example_string doc\n",
      "  id: io:/#inp/example_string\n",
      "  inputBinding:\n",
      "    position: 3\n",
      "    prefix: --example-string\n",
      "  label: example_string label\n",
      "  type: string\n",
      "- doc: example_int doc\n",
      "  id: io:/#inp/example_int\n",
      "  inputBinding:\n",
      "    position: 2\n",
      "    prefix: -i\n",
      "    separate: false\n",
      "  label: example_int label\n",
      "  type: int\n",
      "- doc: example_file doc\n",
      "  id: io:/#inp/example_file\n",
      "  inputBinding:\n",
      "    position: 4\n",
      "    prefix: --file=\n",
      "    separate: false\n",
      "  label: example_file label\n",
      "  type:\n",
      "  - 'null'\n",
      "  - File\n",
      "- default: auto\n",
      "  doc: example_enum doc\n",
      "  id: io:/#inp/example_enum\n",
      "  inputBinding:\n",
      "    position: 5\n",
      "    prefix: --format\n",
      "    separate: false\n",
      "  label: example_enum label\n",
      "  type:\n",
      "    name: _:ffefc86e-6702-4912-81f8-4b28f4c30d0e\n",
      "    symbols:\n",
      "    - io:/#inp/example_enum/auto\n",
      "    - io:/#inp/example_enum/fasta\n",
      "    - io:/#inp/example_enum/fastq\n",
      "    - io:/#inp/example_enum/fasta.gz\n",
      "    - io:/#inp/example_enum/fastq.gz\n",
      "    type: enum\n",
      "outputs: []\n",
      "\n"
     ]
    }
   ],
   "source": [
    "from cwl_utils.parser import load_document_by_yaml, save\n",
    "import yaml\n",
    "\n",
    "with open('./workflows/essential-input-parameters.cwl') as f:\n",
    "    cwl_content = yaml.load(f, Loader=yaml.SafeLoader)\n",
    "\n",
    "cwl = load_document_by_yaml(yaml=cwl_content, uri=\"io://\", load_all=True)\n",
    "\n",
    "print(\n",
    "    yaml.dump(\n",
    "        save(\n",
    "            val=cwl,\n",
    "            relative_uris=False\n",
    "        )\n",
    "    )\n",
    ")"
   ]
  },
  {
   "cell_type": "markdown",
   "id": "a127e3f7",
   "metadata": {},
   "source": [
    "# 2. Inputs conversion\n",
    "\n",
    "Once the document is parsed, invoke the `cwl2ogc` APIs to convert the CWL inputs to the OGC JSON format:"
   ]
  },
  {
   "cell_type": "code",
   "execution_count": 7,
   "id": "fba17ea4",
   "metadata": {},
   "outputs": [
    {
     "name": "stdout",
     "output_type": "stream",
     "text": [
      "{\n",
      "  \"example_flag\": {\n",
      "    \"schema\": {\n",
      "      \"type\": \"boolean\"\n",
      "    },\n",
      "    \"title\": \"example_flag label\",\n",
      "    \"description\": \"example_flag doc\"\n",
      "  },\n",
      "  \"example_string\": {\n",
      "    \"schema\": {\n",
      "      \"type\": \"string\"\n",
      "    },\n",
      "    \"title\": \"example_string label\",\n",
      "    \"description\": \"example_string doc\"\n",
      "  },\n",
      "  \"example_int\": {\n",
      "    \"schema\": {\n",
      "      \"type\": \"integer\"\n",
      "    },\n",
      "    \"title\": \"example_int label\",\n",
      "    \"description\": \"example_int doc\"\n",
      "  },\n",
      "  \"example_file\": {\n",
      "    \"schema\": {\n",
      "      \"nullable\": true,\n",
      "      \"type\": \"string\",\n",
      "      \"format\": \"uri\"\n",
      "    },\n",
      "    \"title\": \"example_file label\",\n",
      "    \"description\": \"example_file doc\"\n",
      "  },\n",
      "  \"example_enum\": {\n",
      "    \"schema\": {\n",
      "      \"type\": \"string\",\n",
      "      \"enum\": [\n",
      "        \"auto\",\n",
      "        \"fasta\",\n",
      "        \"fastq\",\n",
      "        \"fasta.gz\",\n",
      "        \"fastq.gz\"\n",
      "      ],\n",
      "      \"default\": \"auto\"\n",
      "    },\n",
      "    \"title\": \"example_enum label\",\n",
      "    \"description\": \"example_enum doc\"\n",
      "  }\n",
      "}\n"
     ]
    }
   ],
   "source": [
    "from cwl2ogc import BaseCWLtypes2OGCConverter\n",
    "import json\n",
    "\n",
    "converter = BaseCWLtypes2OGCConverter(cwl)\n",
    "\n",
    "inputs = converter.to_ogc(cwl.inputs)\n",
    "\n",
    "print(json.dumps(inputs, indent=2))"
   ]
  },
  {
   "cell_type": "markdown",
   "id": "8f73dd47",
   "metadata": {},
   "source": [
    "# 2. Outputs conversion\n",
    "\n",
    "Users can reuse the `BaseCWLtypes2OGCConverter` instance to convert the CWL outputs to the OGC JSON format:"
   ]
  },
  {
   "cell_type": "code",
   "execution_count": 8,
   "id": "1ddfe702",
   "metadata": {},
   "outputs": [
    {
     "name": "stdout",
     "output_type": "stream",
     "text": [
      "{}\n"
     ]
    }
   ],
   "source": [
    "outputs = converter.to_ogc(cwl.outputs)\n",
    "\n",
    "print(json.dumps(outputs, indent=2))"
   ]
  }
 ],
 "metadata": {
  "kernelspec": {
   "display_name": "cwl2ogc",
   "language": "python",
   "name": "python3"
  },
  "language_info": {
   "codemirror_mode": {
    "name": "ipython",
    "version": 3
   },
   "file_extension": ".py",
   "mimetype": "text/x-python",
   "name": "python",
   "nbconvert_exporter": "python",
   "pygments_lexer": "ipython3",
   "version": "3.12.8"
  }
 },
 "nbformat": 4,
 "nbformat_minor": 5
}
