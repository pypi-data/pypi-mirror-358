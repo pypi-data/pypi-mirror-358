{
 "cells": [
  {
   "cell_type": "code",
   "execution_count": 1,
   "id": "10223a34-ab6c-4194-8c1d-bf94b9da9aa6",
   "metadata": {},
   "outputs": [
    {
     "name": "stdout",
     "output_type": "stream",
     "text": [
      "\n",
      "\u001b[1m[\u001b[0m\u001b[34;49mnotice\u001b[0m\u001b[1;39;49m]\u001b[0m\u001b[39;49m A new release of pip is available: \u001b[0m\u001b[31;49m25.0.1\u001b[0m\u001b[39;49m -> \u001b[0m\u001b[32;49m25.1.1\u001b[0m\n",
      "\u001b[1m[\u001b[0m\u001b[34;49mnotice\u001b[0m\u001b[1;39;49m]\u001b[0m\u001b[39;49m To update, run: \u001b[0m\u001b[32;49mpip install --upgrade pip\u001b[0m\n"
     ]
    }
   ],
   "source": [
    "!pip install -q chonkie docling model2vec rich torch transformers tqdm requests helix-py"
   ]
  },
  {
   "cell_type": "code",
   "execution_count": 2,
   "id": "82062cc2-2bd0-4a9d-bd7e-77cd354ddad1",
   "metadata": {},
   "outputs": [
    {
     "name": "stderr",
     "output_type": "stream",
     "text": [
      "/Users/ln/dev/helix-py/venv/lib/python3.13/site-packages/tqdm/auto.py:21: TqdmWarning: IProgress not found. Please update jupyter and ipywidgets. See https://ipywidgets.readthedocs.io/en/stable/user_install.html\n",
      "  from .autonotebook import tqdm as notebook_tqdm\n"
     ]
    }
   ],
   "source": [
    "from chonkie import RecursiveChunker, RecursiveRules, RecursiveLevel\n",
    "from docling.document_converter import DocumentConverter\n",
    "from transformers import AutoTokenizer, AutoModel\n",
    "from rich.console import Console\n",
    "from rich.text import Text\n",
    "from typing import List, Tuple\n",
    "import numpy as np\n",
    "import os\n",
    "import torch\n",
    "from tqdm import tqdm\n",
    "import requests\n",
    "\n",
    "import helix\n",
    "from helix.client import Query\n",
    "from helix.types import Payload"
   ]
  },
  {
   "cell_type": "code",
   "execution_count": 3,
   "id": "43f77118-41f0-4b42-b26e-e26996f1e066",
   "metadata": {},
   "outputs": [],
   "source": [
    "console = Console()\n",
    "\n",
    "# A wrapper to pretty print\n",
    "def rprint(text: str, console: Console=console, width: int = 80) -> None:\n",
    "  richtext = Text(text)\n",
    "  console.print(richtext.wrap(console, width=width))"
   ]
  },
  {
   "cell_type": "code",
   "execution_count": 4,
   "id": "35a7b215-dbd0-4851-aba8-b973efd1d62b",
   "metadata": {},
   "outputs": [],
   "source": [
    "tokenizer = AutoTokenizer.from_pretrained(\"microsoft/codebert-base\")\n",
    "model = AutoModel.from_pretrained(\"microsoft/codebert-base\")"
   ]
  },
  {
   "cell_type": "code",
   "execution_count": 5,
   "id": "f657dfb9-353f-40c3-818b-293f0ad6c21d",
   "metadata": {},
   "outputs": [],
   "source": [
    "rust_docs_endpoints = [\n",
    "    (1, \"Getting Started\", \"https://doc.rust-lang.org/book/ch01-00-getting-started.html\"),\n",
    "    (1, \"Installation\", \"https://doc.rust-lang.org/book/ch01-01-installation.html\"),\n",
    "    (1, \"Hello, World!\", \"https://doc.rust-lang.org/book/ch01-02-hello-world.html\"),\n",
    "    (1, \"Hello, Cargo!\", \"https://doc.rust-lang.org/book/ch01-03-hello-cargo.html\"),\n",
    "    (2, \"Guessing Game Tutorial\", \"https://doc.rust-lang.org/book/ch02-00-guessing-game-tutorial.html\"),\n",
    "    (3, \"Common Programming Concepts\", \"https://doc.rust-lang.org/book/ch03-00-common-programming-concepts.html\"),\n",
    "    (3, \"Variables and Mutability\", \"https://doc.rust-lang.org/book/ch03-01-variables-and-mutability.html\"),\n",
    "    (3, \"Data Types\", \"https://doc.rust-lang.org/book/ch03-02-data-types.html\"),\n",
    "    (3, \"How Functions Work\", \"https://doc.rust-lang.org/book/ch03-03-how-functions-work.html\"),\n",
    "    (3, \"Comments\", \"https://doc.rust-lang.org/book/ch03-04-comments.html\"),\n",
    "    (3, \"Control Flow\", \"https://doc.rust-lang.org/book/ch03-05-control-flow.html\"),\n",
    "    (4, \"Understanding Ownership\", \"https://doc.rust-lang.org/book/ch04-00-understanding-ownership.html\"),\n",
    "    (4, \"What is Ownership?\", \"https://doc.rust-lang.org/book/ch04-01-what-is-ownership.html\"),\n",
    "    (4, \"References and Borrowing\", \"https://doc.rust-lang.org/book/ch04-02-references-and-borrowing.html\"),\n",
    "    (4, \"Slices\", \"https://doc.rust-lang.org/book/ch04-03-slices.html\"),\n",
    "    (5, \"Structs\", \"https://doc.rust-lang.org/book/ch05-00-structs.html\"),\n",
    "    (5, \"Defining Structs\", \"https://doc.rust-lang.org/book/ch05-01-defining-structs.html\"),\n",
    "    (5, \"Example Structs\", \"https://doc.rust-lang.org/book/ch05-02-example-structs.html\"),\n",
    "    (5, \"Method Syntax\", \"https://doc.rust-lang.org/book/ch05-03-method-syntax.html\"),\n",
    "    (6, \"Enums\", \"https://doc.rust-lang.org/book/ch06-00-enums.html\"),\n",
    "    (6, \"Defining an Enum\", \"https://doc.rust-lang.org/book/ch06-01-defining-an-enum.html\"),\n",
    "    (6, \"Match\", \"https://doc.rust-lang.org/book/ch06-02-match.html\"),\n",
    "    (6, \"If Let\", \"https://doc.rust-lang.org/book/ch06-03-if-let.html\"),\n",
    "    (7, \"Managing Growing Projects with Packages, Crates, and Modules\", \"https://doc.rust-lang.org/book/ch07-00-managing-growing-projects-with-packages-crates-and-modules.html\"),\n",
    "    (7, \"Packages and Crates\", \"https://doc.rust-lang.org/book/ch07-01-packages-and-crates.html\"),\n",
    "    (7, \"Defining Modules to Control Scope and Privacy\", \"https://doc.rust-lang.org/book/ch07-02-defining-modules-to-control-scope-and-privacy.html\"),\n",
    "    (7, \"Paths for Referring to an Item in the Module Tree\", \"https://doc.rust-lang.org/book/ch07-03-paths-for-referring-to-an-item-in-the-module-tree.html\"),\n",
    "    (8, \"Common Collections\", \"https://doc.rust-lang.org/book/ch08-00-common-collections.html\"),\n",
    "    (8, \"Vectors\", \"https://doc.rust-lang.org/book/ch08-01-vectors.html\"),\n",
    "    (8, \"Strings\", \"https://doc.rust-lang.org/book/ch08-02-strings.html\"),\n",
    "    (8, \"Hash Maps\", \"https://doc.rust-lang.org/book/ch08-03-hash-maps.html\"),\n",
    "    (9, \"Error Handling\", \"https://doc.rust-lang.org/book/ch09-00-error-handling.html\"),\n",
    "    (9, \"Unrecoverable Errors with Panic\", \"https://doc.rust-lang.org/book/ch09-01-unrecoverable-errors-with-panic.html\"),\n",
    "    (9, \"Recoverable Errors with Result\", \"https://doc.rust-lang.org/book/ch09-02-recoverable-errors-with-result.html\"),\n",
    "    (9, \"To Panic or Not to Panic\", \"https://doc.rust-lang.org/book/ch09-03-to-panic-or-not-to-panic.html\"),\n",
    "    (10, \"Generics\", \"https://doc.rust-lang.org/book/ch10-00-generics.html\"),\n",
    "    (10, \"Syntax\", \"https://doc.rust-lang.org/book/ch10-01-syntax.html\"),\n",
    "    (10, \"Traits\", \"https://doc.rust-lang.org/book/ch10-02-traits.html\"),\n",
    "    (10, \"Lifetime Syntax\", \"https://doc.rust-lang.org/book/ch10-03-lifetime-syntax.html\"),\n",
    "    (11, \"Testing\", \"https://doc.rust-lang.org/book/ch11-00-testing.html\"),\n",
    "    (11, \"Writing Tests\", \"https://doc.rust-lang.org/book/ch11-01-writing-tests.html\"),\n",
    "    (11, \"Running Tests\", \"https://doc.rust-lang.org/book/ch11-02-running-tests.html\"),\n",
    "    (11, \"Test Organization\", \"https://doc.rust-lang.org/book/ch11-03-test-organization.html\"),\n",
    "    (12, \"An I/O Project\", \"https://doc.rust-lang.org/book/ch12-00-an-io-project.html\"),\n",
    "    (12, \"Accepting Command Line Arguments\", \"https://doc.rust-lang.org/book/ch12-01-accepting-command-line-arguments.html\"),\n",
    "    (12, \"Reading a File\", \"https://doc.rust-lang.org/book/ch12-02-reading-a-file.html\"),\n",
    "    (12, \"Improving Error Handling and Modularity\", \"https://doc.rust-lang.org/book/ch12-03-improving-error-handling-and-modularity.html\"),\n",
    "    (12, \"Testing the Library's Functionality\", \"https://doc.rust-lang.org/book/ch12-04-testing-the-librarys-functionality.html\"),\n",
    "    (12, \"Working with Environment Variables\", \"https://doc.rust-lang.org/book/ch12-05-working-with-environment-variables.html\"),\n",
    "    (12, \"Writing to stderr Instead of stdout\", \"https://doc.rust-lang.org/book/ch12-06-writing-to-stderr-instead-of-stdout.html\"),\n",
    "    (13, \"Functional Features\", \"https://doc.rust-lang.org/book/ch13-00-functional-features.html\"),\n",
    "    (13, \"Closures\", \"https://doc.rust-lang.org/book/ch13-01-closures.html\"),\n",
    "    (13, \"Iterators\", \"https://doc.rust-lang.org/book/ch13-02-iterators.html\"),\n",
    "    (13, \"Improving Our I/O Project\", \"https://doc.rust-lang.org/book/ch13-03-improving-our-io-project.html\"),\n",
    "    (14, \"More About Cargo\", \"https://doc.rust-lang.org/book/ch14-00-more-about-cargo.html\"),\n",
    "    (14, \"Release Profiles\", \"https://doc.rust-lang.org/book/ch14-01-release-profiles.html\"),\n",
    "    (14, \"Publishing to Crates.io\", \"https://doc.rust-lang.org/book/ch14-02-publishing-to-crates-io.html\"),\n",
    "    (14, \"Cargo Workspaces\", \"https://doc.rust-lang.org/book/ch14-03-cargo-workspaces.html\"),\n",
    "    (14, \"Installing Binaries\", \"https://doc.rust-lang.org/book/ch14-04-installing-binaries.html\"),\n",
    "    (14, \"Extending Cargo\", \"https://doc.rust-lang.org/book/ch14-05-extending-cargo.html\"),\n",
    "    (15, \"Smart Pointers\", \"https://doc.rust-lang.org/book/ch15-00-smart-pointers.html\"),\n",
    "    (15, \"Box\", \"https://doc.rust-lang.org/book/ch15-01-box.html\"),\n",
    "    (15, \"Deref\", \"https://doc.rust-lang.org/book/ch15-02-deref.html\"),\n",
    "    (15, \"Drop\", \"https://doc.rust-lang.org/book/ch15-03-drop.html\"),\n",
    "    (15, \"Rc\", \"https://doc.rust-lang.org/book/ch15-04-rc.html\"),\n",
    "    (15, \"Interior Mutability\", \"https://doc.rust-lang.org/book/ch15-05-interior-mutability.html\"),\n",
    "    (15, \"Reference Cycles\", \"https://doc.rust-lang.org/book/ch15-06-reference-cycles.html\"),\n",
    "    (16, \"Concurrency\", \"https://doc.rust-lang.org/book/ch16-00-concurrency.html\"),\n",
    "    (16, \"Threads\", \"https://doc.rust-lang.org/book/ch16-01-threads.html\"),\n",
    "    (16, \"Message Passing\", \"https://doc.rust-lang.org/book/ch16-02-message-passing.html\"),\n",
    "    (16, \"Shared State\", \"https://doc.rust-lang.org/book/ch16-03-shared-state.html\"),\n",
    "    (16, \"Extensible Concurrency: Sync and Send\", \"https://doc.rust-lang.org/book/ch16-04-extensible-concurrency-sync-and-send.html\"),\n",
    "    (17, \"Object-Oriented Programming\", \"https://doc.rust-lang.org/book/ch17-00-oop.html\"),\n",
    "    (17, \"What is OO?\", \"https://doc.rust-lang.org/book/ch17-01-what-is-oo.html\"),\n",
    "    (17, \"Trait Objects\", \"https://doc.rust-lang.org/book/ch17-02-trait-objects.html\"),\n",
    "    (17, \"OO Design Patterns\", \"https://doc.rust-lang.org/book/ch17-03-oo-design-patterns.html\"),\n",
    "    (18, \"Patterns\", \"https://doc.rust-lang.org/book/ch18-00-patterns.html\"),\n",
    "    (18, \"All the Places for Patterns\", \"https://doc.rust-lang.org/book/ch18-01-all-the-places-for-patterns.html\"),\n",
    "    (18, \"Refutability\", \"https://doc.rust-lang.org/book/ch18-02-refutability.html\"),\n",
    "    (18, \"Pattern Syntax\", \"https://doc.rust-lang.org/book/ch18-03-pattern-syntax.html\"),\n",
    "    (19, \"Advanced Patterns\", \"https://doc.rust-lang.org/book/ch19-00-patterns.html\"),\n",
    "    (19, \"All the Places for Patterns\", \"https://doc.rust-lang.org/book/ch19-01-all-the-places-for-patterns.html\"),\n",
    "    (19, \"Refutability\", \"https://doc.rust-lang.org/book/ch19-02-refutability.html\"),\n",
    "    (19, \"Pattern Syntax\", \"https://doc.rust-lang.org/book/ch19-03-pattern-syntax.html\"),\n",
    "    (20, \"Advanced Features\", \"https://doc.rust-lang.org/book/ch20-00-advanced-features.html\"),\n",
    "    (20, \"Unsafe Rust\", \"https://doc.rust-lang.org/book/ch20-01-unsafe-rust.html\"),\n",
    "    (20, \"Advanced Traits\", \"https://doc.rust-lang.org/book/ch20-02-advanced-traits.html\"),\n",
    "    (20, \"Advanced Types\", \"https://doc.rust-lang.org/book/ch20-03-advanced-types.html\"),\n",
    "    (20, \"Advanced Functions and Closures\", \"https://doc.rust-lang.org/book/ch20-04-advanced-functions-and-closures.html\"),\n",
    "    (20, \"Macros\", \"https://doc.rust-lang.org/book/ch20-05-macros.html\"),\n",
    "]"
   ]
  },
  {
   "cell_type": "code",
   "execution_count": 6,
   "id": "22bdad91-4c74-492f-a06e-800bd5f0f668",
   "metadata": {},
   "outputs": [],
   "source": [
    "converter = DocumentConverter()\n",
    "results = [(ch, sch, converter.convert(doc)) for ch, sch, doc in rust_docs_endpoints]\n",
    "text_results = [(ch, sch, res.document.export_to_markdown()) for ch, sch, res in results]"
   ]
  },
  {
   "cell_type": "code",
   "execution_count": 7,
   "id": "02b59d77-c543-420d-ad83-0d9a191e58d5",
   "metadata": {},
   "outputs": [],
   "source": [
    "rules = RecursiveRules(\n",
    "    levels=[\n",
    "        RecursiveLevel(delimiters=['######', '#####', '####', '###', '##', '#']),\n",
    "        RecursiveLevel(delimiters=['\\n\\n', '\\n', '\\r\\n', '\\r']),\n",
    "        RecursiveLevel(delimiters='.?!;:'),\n",
    "        RecursiveLevel()\n",
    "    ]\n",
    ")\n",
    "chunker = RecursiveChunker(rules=rules, chunk_size=250)"
   ]
  },
  {
   "cell_type": "code",
   "execution_count": 8,
   "id": "00660bea-d877-476a-9b67-2772b2c5d5d1",
   "metadata": {},
   "outputs": [
    {
     "name": "stdout",
     "output_type": "stream",
     "text": [
      "Total number of lists of chunks: 90\n"
     ]
    },
    {
     "data": {
      "text/html": [
       "<pre style=\"white-space:pre;overflow-x:auto;line-height:normal;font-family:Menlo,'DejaVu Sans Mono',consolas,'Courier New',monospace\"># The Rust Programming Language\n",
       "\n",
       "# Getting Started\n",
       "\n",
       "Let’s start your Rust journey! There’s a lot to learn, but every journey starts\n",
       "somewhere. In this chapter, we’ll discuss:\n",
       "\n",
       "- Installing Rust on Linux, macOS, and Windows\n",
       "- Writing a program that prints Hello, world!\n",
       "- Using cargo, Rust’s package manager and build system\n",
       "</pre>\n"
      ],
      "text/plain": [
       "# The Rust Programming Language\n",
       "\n",
       "# Getting Started\n",
       "\n",
       "Let’s start your Rust journey! There’s a lot to learn, but every journey starts\n",
       "somewhere. In this chapter, we’ll discuss:\n",
       "\n",
       "- Installing Rust on Linux, macOS, and Windows\n",
       "- Writing a program that prints Hello, world!\n",
       "- Using cargo, Rust’s package manager and build system\n"
      ]
     },
     "metadata": {},
     "output_type": "display_data"
    },
    {
     "name": "stdout",
     "output_type": "stream",
     "text": [
      "-------------------------------------------------------------------------------- \n",
      "\n",
      "\n"
     ]
    },
    {
     "data": {
      "text/html": [
       "<pre style=\"white-space:pre;overflow-x:auto;line-height:normal;font-family:Menlo,'DejaVu Sans Mono',consolas,'Courier New',monospace\"># The Rust Programming Language\n",
       "\n",
       "## Installation\n",
       "\n",
       "The first step is to install Rust. We’ll download Rust through rustup, a\n",
       "command line tool for managing Rust versions and associated tools. You’ll need\n",
       "an internet connection for the download.\n",
       "\n",
       "Note: If you prefer not to use rustup for some reason, please see the\n",
       "Other Rust Installation Methods page for more options.\n",
       "\n",
       "The following steps install the latest stable version of the Rust compiler.\n",
       "Rust’s stability guarantees ensure that all the examples in the book that\n",
       "compile will continue to compile with newer Rust versions. The output might\n",
       "differ slightly between versions because Rust often improves error messages and\n",
       "warnings. In other words, any newer, stable version of Rust you install using\n",
       "these steps should work as expected with the content of this book.\n",
       "\n",
       "#\n",
       "</pre>\n"
      ],
      "text/plain": [
       "# The Rust Programming Language\n",
       "\n",
       "## Installation\n",
       "\n",
       "The first step is to install Rust. We’ll download Rust through rustup, a\n",
       "command line tool for managing Rust versions and associated tools. You’ll need\n",
       "an internet connection for the download.\n",
       "\n",
       "Note: If you prefer not to use rustup for some reason, please see the\n",
       "Other Rust Installation Methods page for more options.\n",
       "\n",
       "The following steps install the latest stable version of the Rust compiler.\n",
       "Rust’s stability guarantees ensure that all the examples in the book that\n",
       "compile will continue to compile with newer Rust versions. The output might\n",
       "differ slightly between versions because Rust often improves error messages and\n",
       "warnings. In other words, any newer, stable version of Rust you install using\n",
       "these steps should work as expected with the content of this book.\n",
       "\n",
       "#\n"
      ]
     },
     "metadata": {},
     "output_type": "display_data"
    },
    {
     "name": "stdout",
     "output_type": "stream",
     "text": [
      "-------------------------------------------------------------------------------- \n",
      "\n",
      "\n"
     ]
    },
    {
     "data": {
      "text/html": [
       "<pre style=\"white-space:pre;overflow-x:auto;line-height:normal;font-family:Menlo,'DejaVu Sans Mono',consolas,'Courier New',monospace\">## Command Line Notation\n",
       "\n",
       "In this chapter and throughout the book, we’ll show some commands used in the\n",
       "terminal. Lines that you should enter in a terminal all start with $. You\n",
       "don’t need to type the $ character; it’s the command line prompt shown to\n",
       "indicate the start of each command. Lines that don’t start with $ typically\n",
       "show the output of the previous command. Additionally, PowerShell-specific\n",
       "examples will use &amp;gt; rather than $.\n",
       "\n",
       "#\n",
       "</pre>\n"
      ],
      "text/plain": [
       "## Command Line Notation\n",
       "\n",
       "In this chapter and throughout the book, we’ll show some commands used in the\n",
       "terminal. Lines that you should enter in a terminal all start with $. You\n",
       "don’t need to type the $ character; it’s the command line prompt shown to\n",
       "indicate the start of each command. Lines that don’t start with $ typically\n",
       "show the output of the previous command. Additionally, PowerShell-specific\n",
       "examples will use &gt; rather than $.\n",
       "\n",
       "#\n"
      ]
     },
     "metadata": {},
     "output_type": "display_data"
    },
    {
     "name": "stdout",
     "output_type": "stream",
     "text": [
      "-------------------------------------------------------------------------------- \n",
      "\n",
      "\n"
     ]
    },
    {
     "data": {
      "text/html": [
       "<pre style=\"white-space:pre;overflow-x:auto;line-height:normal;font-family:Menlo,'DejaVu Sans Mono',consolas,'Courier New',monospace\">## Installing rustup on Linux or macOS\n",
       "\n",
       "If you’re using Linux or macOS, open a terminal and enter the following command:\n",
       "\n",
       "```\n",
       "$ curl --proto '=https' --tlsv1.2 https://sh.rustup.rs -sSf | sh\n",
       "```\n",
       "\n",
       "The command downloads a script and starts the installation of the rustup\n",
       "tool, which installs the latest stable version of Rust. You might be prompted\n",
       "for your password. If the install is successful, the following line will appear:\n",
       "\n",
       "```\n",
       "Rust is installed now. Great!\n",
       "```\n",
       "\n",
       "You will also need a linker, which is a program that Rust uses to join its\n",
       "compiled outputs into one file. It is likely you already have one. If you get\n",
       "linker errors, you should install a C compiler, which will typically include a\n",
       "linker. A C compiler is also useful because some common Rust packages depend on\n",
       "C code and will need a C compiler.\n",
       "\n",
       "On macOS, you can get a C compiler by running:\n",
       "\n",
       "```\n",
       "$ xcode-select --install\n",
       "\n",
       "</pre>\n"
      ],
      "text/plain": [
       "## Installing rustup on Linux or macOS\n",
       "\n",
       "If you’re using Linux or macOS, open a terminal and enter the following command:\n",
       "\n",
       "```\n",
       "$ curl --proto '=https' --tlsv1.2 https://sh.rustup.rs -sSf | sh\n",
       "```\n",
       "\n",
       "The command downloads a script and starts the installation of the rustup\n",
       "tool, which installs the latest stable version of Rust. You might be prompted\n",
       "for your password. If the install is successful, the following line will appear:\n",
       "\n",
       "```\n",
       "Rust is installed now. Great!\n",
       "```\n",
       "\n",
       "You will also need a linker, which is a program that Rust uses to join its\n",
       "compiled outputs into one file. It is likely you already have one. If you get\n",
       "linker errors, you should install a C compiler, which will typically include a\n",
       "linker. A C compiler is also useful because some common Rust packages depend on\n",
       "C code and will need a C compiler.\n",
       "\n",
       "On macOS, you can get a C compiler by running:\n",
       "\n",
       "```\n",
       "$ xcode-select --install\n",
       "\n"
      ]
     },
     "metadata": {},
     "output_type": "display_data"
    },
    {
     "name": "stdout",
     "output_type": "stream",
     "text": [
      "-------------------------------------------------------------------------------- \n",
      "\n",
      "\n"
     ]
    },
    {
     "data": {
      "text/html": [
       "<pre style=\"white-space:pre;overflow-x:auto;line-height:normal;font-family:Menlo,'DejaVu Sans Mono',consolas,'Courier New',monospace\">```\n",
       "\n",
       "Linux users should generally install GCC or Clang, according to their\n",
       "distribution’s documentation. For example, if you use Ubuntu, you can install\n",
       "the build-essential package.\n",
       "\n",
       "#\n",
       "</pre>\n"
      ],
      "text/plain": [
       "```\n",
       "\n",
       "Linux users should generally install GCC or Clang, according to their\n",
       "distribution’s documentation. For example, if you use Ubuntu, you can install\n",
       "the build-essential package.\n",
       "\n",
       "#\n"
      ]
     },
     "metadata": {},
     "output_type": "display_data"
    },
    {
     "name": "stdout",
     "output_type": "stream",
     "text": [
      "-------------------------------------------------------------------------------- \n",
      "\n",
      "\n"
     ]
    },
    {
     "data": {
      "text/html": [
       "<pre style=\"white-space:pre;overflow-x:auto;line-height:normal;font-family:Menlo,'DejaVu Sans Mono',consolas,'Courier New',monospace\"># The Rust Programming Language\n",
       "\n",
       "## Hello, World!\n",
       "\n",
       "Now that you’ve installed Rust, it’s time to write your first Rust program.\n",
       "It’s traditional when learning a new language to write a little program that\n",
       "prints the text Hello, world! to the screen, so we’ll do the same here!\n",
       "\n",
       "Note: This book assumes basic familiarity with the command line. Rust makes\n",
       "no specific demands about your editing or tooling or where your code lives, so\n",
       "if you prefer to use an integrated development environment (IDE) instead of\n",
       "the command line, feel free to use your favorite IDE. Many IDEs now have some\n",
       "degree of Rust support; check the IDE’s documentation for details. The Rust\n",
       "team has been focusing on enabling great IDE support via rust-analyzer. See\n",
       "Appendix D for more details.\n",
       "\n",
       "#\n",
       "</pre>\n"
      ],
      "text/plain": [
       "# The Rust Programming Language\n",
       "\n",
       "## Hello, World!\n",
       "\n",
       "Now that you’ve installed Rust, it’s time to write your first Rust program.\n",
       "It’s traditional when learning a new language to write a little program that\n",
       "prints the text Hello, world! to the screen, so we’ll do the same here!\n",
       "\n",
       "Note: This book assumes basic familiarity with the command line. Rust makes\n",
       "no specific demands about your editing or tooling or where your code lives, so\n",
       "if you prefer to use an integrated development environment (IDE) instead of\n",
       "the command line, feel free to use your favorite IDE. Many IDEs now have some\n",
       "degree of Rust support; check the IDE’s documentation for details. The Rust\n",
       "team has been focusing on enabling great IDE support via rust-analyzer. See\n",
       "Appendix D for more details.\n",
       "\n",
       "#\n"
      ]
     },
     "metadata": {},
     "output_type": "display_data"
    },
    {
     "name": "stdout",
     "output_type": "stream",
     "text": [
      "-------------------------------------------------------------------------------- \n",
      "\n",
      "\n"
     ]
    },
    {
     "data": {
      "text/html": [
       "<pre style=\"white-space:pre;overflow-x:auto;line-height:normal;font-family:Menlo,'DejaVu Sans Mono',consolas,'Courier New',monospace\">## Creating a Project Directory\n",
       "\n",
       "You’ll start by making a directory to store your Rust code. It doesn’t matter\n",
       "to Rust where your code lives, but for the exercises and projects in this book,\n",
       "we suggest making a projects directory in your home directory and keeping all\n",
       "your projects there.\n",
       "\n",
       "Open a terminal and enter the following commands to make a projects directory\n",
       "and a directory for the “Hello, world!” project within the projects directory.\n",
       "\n",
       "For Linux, macOS, and PowerShell on Windows, enter this:\n",
       "\n",
       "```\n",
       "$ mkdir ~/projects\n",
       "$ cd ~/projects\n",
       "$ mkdir hello_world\n",
       "$ cd hello_world\n",
       "```\n",
       "\n",
       "For Windows CMD, enter this:\n",
       "\n",
       "```\n",
       "&gt; mkdir \"%USERPROFILE%\\projects\"\n",
       "&gt; cd /d \"%USERPROFILE%\\projects\"\n",
       "&gt; mkdir hello_world\n",
       "&gt; cd hello_world\n",
       "```\n",
       "\n",
       "#\n",
       "</pre>\n"
      ],
      "text/plain": [
       "## Creating a Project Directory\n",
       "\n",
       "You’ll start by making a directory to store your Rust code. It doesn’t matter\n",
       "to Rust where your code lives, but for the exercises and projects in this book,\n",
       "we suggest making a projects directory in your home directory and keeping all\n",
       "your projects there.\n",
       "\n",
       "Open a terminal and enter the following commands to make a projects directory\n",
       "and a directory for the “Hello, world!” project within the projects directory.\n",
       "\n",
       "For Linux, macOS, and PowerShell on Windows, enter this:\n",
       "\n",
       "```\n",
       "$ mkdir ~/projects\n",
       "$ cd ~/projects\n",
       "$ mkdir hello_world\n",
       "$ cd hello_world\n",
       "```\n",
       "\n",
       "For Windows CMD, enter this:\n",
       "\n",
       "```\n",
       "> mkdir \"%USERPROFILE%\\projects\"\n",
       "> cd /d \"%USERPROFILE%\\projects\"\n",
       "> mkdir hello_world\n",
       "> cd hello_world\n",
       "```\n",
       "\n",
       "#\n"
      ]
     },
     "metadata": {},
     "output_type": "display_data"
    },
    {
     "name": "stdout",
     "output_type": "stream",
     "text": [
      "-------------------------------------------------------------------------------- \n",
      "\n",
      "\n"
     ]
    },
    {
     "data": {
      "text/html": [
       "<pre style=\"white-space:pre;overflow-x:auto;line-height:normal;font-family:Menlo,'DejaVu Sans Mono',consolas,'Courier New',monospace\">## Writing and Running a Rust Program\n",
       "\n",
       "Next, make a new source file and call it main.rs. Rust files always end with\n",
       "the .rs extension. If you’re using more than one word in your filename, the\n",
       "convention is to use an underscore to separate them. For example, use\n",
       "hello\\_world.rs rather than helloworld.rs.\n",
       "\n",
       "Now open the main.rs file you just created and enter the code in Listing 1-1.\n",
       "\n",
       "Listing 1-1: A program that prints Hello, world!\n",
       "\n",
       "&lt;!-- image --&gt;\n",
       "\n",
       "Save the file and go back to your terminal window in the\n",
       "~/projects/hello\\_world directory. On Linux or macOS, enter the following\n",
       "commands to compile and run the file:\n",
       "\n",
       "```\n",
       "$ rustc main.rs\n",
       "$ ./main\n",
       "Hello, world!\n",
       "```\n",
       "\n",
       "On Windows, enter the command .\\main.exe instead of ./main:\n",
       "\n",
       "```\n",
       "&gt; rustc main.rs\n",
       "&gt; .\\main.exe\n",
       "\n",
       "</pre>\n"
      ],
      "text/plain": [
       "## Writing and Running a Rust Program\n",
       "\n",
       "Next, make a new source file and call it main.rs. Rust files always end with\n",
       "the .rs extension. If you’re using more than one word in your filename, the\n",
       "convention is to use an underscore to separate them. For example, use\n",
       "hello\\_world.rs rather than helloworld.rs.\n",
       "\n",
       "Now open the main.rs file you just created and enter the code in Listing 1-1.\n",
       "\n",
       "Listing 1-1: A program that prints Hello, world!\n",
       "\n",
       "<!-- image -->\n",
       "\n",
       "Save the file and go back to your terminal window in the\n",
       "~/projects/hello\\_world directory. On Linux or macOS, enter the following\n",
       "commands to compile and run the file:\n",
       "\n",
       "```\n",
       "$ rustc main.rs\n",
       "$ ./main\n",
       "Hello, world!\n",
       "```\n",
       "\n",
       "On Windows, enter the command .\\main.exe instead of ./main:\n",
       "\n",
       "```\n",
       "> rustc main.rs\n",
       "> .\\main.exe\n",
       "\n"
      ]
     },
     "metadata": {},
     "output_type": "display_data"
    },
    {
     "name": "stdout",
     "output_type": "stream",
     "text": [
      "-------------------------------------------------------------------------------- \n",
      "\n",
      "\n"
     ]
    },
    {
     "data": {
      "text/html": [
       "<pre style=\"white-space:pre;overflow-x:auto;line-height:normal;font-family:Menlo,'DejaVu Sans Mono',consolas,'Courier New',monospace\">Hello, world!\n",
       "```\n",
       "\n",
       "Regardless of your operating system, the string Hello, world! should print to\n",
       "the terminal. If you don’t see this output, refer back to the\n",
       "“Troubleshooting” part of the Installation\n",
       "section for ways to get help.\n",
       "\n",
       "If Hello, world! did print, congratulations! You’ve officially written a Rust\n",
       "program. That makes you a Rust programmer—welcome!\n",
       "\n",
       "#\n",
       "</pre>\n"
      ],
      "text/plain": [
       "Hello, world!\n",
       "```\n",
       "\n",
       "Regardless of your operating system, the string Hello, world! should print to\n",
       "the terminal. If you don’t see this output, refer back to the\n",
       "“Troubleshooting” part of the Installation\n",
       "section for ways to get help.\n",
       "\n",
       "If Hello, world! did print, congratulations! You’ve officially written a Rust\n",
       "program. That makes you a Rust programmer—welcome!\n",
       "\n",
       "#\n"
      ]
     },
     "metadata": {},
     "output_type": "display_data"
    },
    {
     "name": "stdout",
     "output_type": "stream",
     "text": [
      "-------------------------------------------------------------------------------- \n",
      "\n",
      "\n"
     ]
    }
   ],
   "source": [
    "list_of_chunks = [(ch, sch, content, chunker(content)) for ch, sch, content in text_results]\n",
    "print(f\"Total number of lists of chunks: {len(list_of_chunks)}\")\n",
    "# @title A quick look at our chunks~\n",
    "for ch, sch, conent, clist in list_of_chunks[:3]:\n",
    "    for chunk in clist[:4]:\n",
    "        rprint(chunk.text)\n",
    "        print('-'*80, '\\n\\n')"
   ]
  },
  {
   "cell_type": "code",
   "execution_count": 9,
   "id": "3902eca6-f719-48fa-8e3a-286d58481229",
   "metadata": {},
   "outputs": [],
   "source": [
    "def vectorize_text(text):\n",
    "    inputs = tokenizer(text, return_tensors=\"pt\", truncation=True, padding=True, max_length=512)\n",
    "    with torch.no_grad():\n",
    "        outputs = model(**inputs)\n",
    "        embedding = outputs.last_hidden_state[:, 0, :].squeeze().tolist()\n",
    "    return embedding\n",
    "\n",
    "def vectorize_chunked(chunked: List[str]) -> List[List[float]]:\n",
    "    # embedding dims: 768\n",
    "    vectorized = []\n",
    "    for chunk in tqdm(chunked):\n",
    "        embedding = vectorize_text(chunk)\n",
    "        vectorized.append(embedding)\n",
    "    return vectorized\n",
    "\n",
    "OLLAMA_API_URL = \"http://localhost:11434/api/generate\"\n",
    "\n",
    "def get_ollama_response(prompt):\n",
    "    payload = {\n",
    "        \"model\": \"llama3.1:8b\",\n",
    "        \"prompt\": prompt,\n",
    "        \"stream\": False\n",
    "    }\n",
    "    response = requests.post(OLLAMA_API_URL, json=payload)\n",
    "    if response.status_code == 200:\n",
    "        return response.json()[\"response\"]\n",
    "    else:\n",
    "        raise Exception(f\"Ollama API request failed with status {response.status_code}\")\n",
    "\n",
    "def create_prompt(context: str, query: str) -> str:\n",
    "    prompt_template = \"\"\"<instructions>\n",
    "    Based on the provided contexts, answer the given question to the best of your ability.\n",
    "    </instructions>\n",
    "\n",
    "    <context>\n",
    "    {context}\n",
    "    </context>\n",
    "\n",
    "    <query>\n",
    "    {query}\n",
    "    </query>\n",
    "    \"\"\"\n",
    "    prompt = prompt_template.format(context=context, query=query)\n",
    "    return prompt"
   ]
  },
  {
   "cell_type": "code",
   "execution_count": 10,
   "id": "1db673ad-1c97-4cd3-a773-a9de396dd4aa",
   "metadata": {},
   "outputs": [
    {
     "name": "stderr",
     "output_type": "stream",
     "text": [
      "100%|█████████████████████████████████████████████████████████████████████████████████████████████████████████████| 90/90 [02:59<00:00,  2.00s/it]"
     ]
    },
    {
     "name": "stdout",
     "output_type": "stream",
     "text": [
      "length of items: 90\n"
     ]
    },
    {
     "name": "stderr",
     "output_type": "stream",
     "text": [
      "\n"
     ]
    }
   ],
   "source": [
    "items = [(ch, [(sch, content, [(chunk.text, vectorize_text(chunk.text)) for chunk in clist])]) for ch, sch, content, clist in tqdm(list_of_chunks)]\n",
    "print(f\"length of items: {len(items)}\")"
   ]
  },
  {
   "cell_type": "code",
   "execution_count": 11,
   "id": "de85bc27-de9e-408b-9959-8e872651858f",
   "metadata": {},
   "outputs": [
    {
     "name": "stdout",
     "output_type": "stream",
     "text": [
      "\u001b[32m[HELIX]\u001b[0m Helix instance found at 'http://0.0.0.0:6969'\n"
     ]
    }
   ],
   "source": [
    "db = helix.Client(local=True)\n",
    "\n",
    "class loaddocs_rag(Query):\n",
    "    def __init__(\n",
    "        self,\n",
    "        chapters: List[Tuple[int, List[Tuple[str, str, List[Tuple[str, List[float]]]]]]],\n",
    "    ):\n",
    "        super().__init__()\n",
    "        self.chapters = chapters\n",
    "\n",
    "    def query(self) -> List[Payload]:\n",
    "        chapters_payload = []\n",
    "        for id, subchapters in self.chapters:\n",
    "            for title, content, chunks in subchapters:\n",
    "                chunks_l = []\n",
    "                for chunk, vector in chunks:\n",
    "                    chunks_l.append({ \"chunk\": chunk, \"vector\": vector })\n",
    "                subchapter_payload = [{ \"title\": title, \"content\": content, \"chunks\": chunks_l }]\n",
    "            chapters_payload.append({ \"id\": id, \"subchapters\": subchapter_payload })\n",
    "        return [{ \"chapters\": chapters_payload }]\n",
    "\n",
    "    def response(self, response):\n",
    "        return response\n",
    "\n",
    "class searchdocs_rag(Query):\n",
    "    def __init__(self, query_vector: List[float], k: int=3):\n",
    "        super().__init__()\n",
    "        self.query_vector = query_vector\n",
    "        self.k = k\n",
    "\n",
    "    def query(self) -> List[Payload]:\n",
    "        return [{ \"query\": self.query_vector, \"k\": self.k }]\n",
    "\n",
    "    def response(self, response):\n",
    "        return response"
   ]
  },
  {
   "cell_type": "code",
   "execution_count": 12,
   "id": "da909461-9bde-4a0a-9756-661b3a3b61e4",
   "metadata": {},
   "outputs": [
    {
     "name": "stderr",
     "output_type": "stream",
     "text": [
      "\u001b[32m[HELIX]\u001b[0m Querying 'http://0.0.0.0:6969/loaddocs_rag': 100%|██████████████████████████████████████████████████████████| 1/1 [00:33<00:00, 33.60s/it]\u001b[0m\n"
     ]
    },
    {
     "data": {
      "text/plain": [
       "[{'Success': 'Success'}]"
      ]
     },
     "execution_count": 12,
     "metadata": {},
     "output_type": "execute_result"
    }
   ],
   "source": [
    "# insert all the docs to vectors into helix\n",
    "db.query(loaddocs_rag(items))"
   ]
  },
  {
   "cell_type": "code",
   "execution_count": 25,
   "id": "c35356ad-fbd6-46e8-a205-36fae3108d80",
   "metadata": {},
   "outputs": [
    {
     "name": "stderr",
     "output_type": "stream",
     "text": [
      "\u001b[32m[HELIX]\u001b[0m Querying 'http://0.0.0.0:6969/searchdocs_rag': 100%|████████████████████████████████████████████████████████| 1/1 [00:00<00:00, 33.68it/s]\u001b[0m"
     ]
    },
    {
     "name": "stdout",
     "output_type": "stream",
     "text": [
      "['# The Rust Programming Language\\n\\n## Control Flow\\n\\nThe ability to run some code depending on whether a condition is true and to\\nrun some code repeatedly while a condition is true are basic building blocks\\nin most programming languages. The most common constructs that let you control\\nthe flow of execution of Rust code are if expressions and loops.\\n\\n### if Expressions\\n\\nAn if expression allows you to branch your code depending on conditions. You\\nprovide a condition and then state, “If this condition is met, run this block\\nof code. If the condition is not met, do not run this block of code.”\\n\\nCreate a new project called branches in your projects directory to explore\\nthe if expression. In the src/main.rs file, input the following:\\n\\nFilename: src/main.rs\\n\\n```\\nfn main() {\\n    let number = 3;\\n\\n    if number < 5 {\\n        println!(\"condition was true\");\\n    } else {\\n        println!(\"condition was false\");\\n    }\\n}\\n```\\n\\nAll if expressions start with the keyword if, followed by a condition. In\\nthis case, the condition checks whether or not the variable number has a\\nvalue less than 5. We place the block of code to execute if the condition is\\ntrue immediately after the condition inside curly brackets. Blocks of code\\nassociated with the conditions in if expressions are sometimes called arms,\\njust like the arms in match expressions that we discussed in the “Comparing\\nthe Guess to the Secret Number” section of Chapter 2.\\n\\nOptionally, we can also include an else expression, which we chose to do\\nhere, to give the program an alternative block of code to execute should the\\ncondition evaluate to false. If you don’t provide an else expression and\\nthe condition is false, the program will just skip the if block and move on\\nto the next bit of code.\\n\\nTry running this code; you should see the following output:\\n\\n```\\n$ cargo run\\n   Compiling branches v0.1.0 (file:///projects/branches)\\n    Finished `dev` profile [unoptimized + debuginfo] target(s) in 0.31s\\n     Running `target/debug/branches`\\ncondition was true\\n```\\n\\nLet’s try changing the value of number to a value that makes the condition\\nfalse to see what happens:\\n\\n```\\nfn main() {\\n    let number = 7;\\n\\n    if number < 5 {\\n        println!(\"condition was true\");\\n    } else {\\n        println!(\"condition was false\");\\n    }\\n}\\n```\\n\\nRun the program again, and look at the output:\\n\\n```\\n$ cargo run\\n   Compiling branches v0.1.0 (file:///projects/branches)\\n    Finished `dev` profile [unoptimized + debuginfo] target(s) in 0.31s\\n     Running `target/debug/branches`\\ncondition was false\\n```\\n\\nIt’s also worth noting that the condition in this code must be a bool. If\\nthe condition isn’t a bool, we’ll get an error. For example, try running the\\nfollowing code:\\n\\nFilename: src/main.rs\\n\\n```\\nfn main() {\\n    let number = 3;\\n\\n    if number {\\n        println!(\"number was three\");\\n    }\\n}\\n```\\n\\nThe if condition evaluates to a value of 3 this time, and Rust throws an\\nerror:\\n\\n```\\n$ cargo run\\n   Compiling branches v0.1.0 (file:///projects/branches)\\nerror[E0308]: mismatched types\\n --> src/main.rs:4:8\\n  |\\n4 |     if number {\\n  |        ^^^^^^ expected `bool`, found integer\\n\\nFor more information about this error, try `rustc --explain E0308`.\\nerror: could not compile `branches` (bin \"branches\") due to 1 previous error\\n```\\n\\nThe error indicates that Rust expected a bool but got an integer. Unlike\\nlanguages such as Ruby and JavaScript, Rust will not automatically try to\\nconvert non-Boolean types to a Boolean. You must be explicit and always provide\\nif with a Boolean as its condition. If we want the if code block to run\\nonly when a number is not equal to 0, for example, we can change the if\\nexpression to the following:\\n\\nFilename: src/main.rs\\n\\n```\\nfn main() {\\n    let number = 3;\\n\\n    if number != 0 {\\n        println!(\"number was something other than zero\");\\n    }\\n}\\n```\\n\\nRunning this code will print number was something other than zero.\\n\\n#### Handling Multiple Conditions with else if\\n\\nYou can use multiple conditions by combining if and else in an else if\\nexpression. For example:\\n\\nFilename: src/main.rs\\n\\n```\\nfn main() {\\n    let number = 6;\\n\\n    if number % 4 == 0 {\\n        println!(\"number is divisible by 4\");\\n    } else if number % 3 == 0 {\\n        println!(\"number is divisible by 3\");\\n    } else if number % 2 == 0 {\\n        println!(\"number is divisible by 2\");\\n    } else {\\n        println!(\"number is not divisible by 4, 3, or 2\");\\n    }\\n}\\n```\\n\\nThis program has four possible paths it can take. After running it, you should\\nsee the following output:\\n\\n```\\n$ cargo run\\n   Compiling branches v0.1.0 (file:///projects/branches)\\n    Finished `dev` profile [unoptimized + debuginfo] target(s) in 0.31s\\n     Running `target/debug/branches`\\nnumber is divisible by 3\\n```\\n\\nWhen this program executes, it checks each if expression in turn and executes\\nthe first body for which the condition evaluates to true. Note that even\\nthough 6 is divisible by 2, we don’t see the output number is divisible by 2,\\nnor do we see the number is not divisible by 4, 3, or 2 text from the else\\nblock. That’s because Rust only executes the block for the first true\\ncondition, and once it finds one, it doesn’t even check the rest.\\n\\nUsing too many else if expressions can clutter your code, so if you have more\\nthan one, you might want to refactor your code. Chapter 6 describes a powerful\\nRust branching construct called match for these cases.\\n\\n#### Using if in a let Statement\\n\\nBecause if is an expression, we can use it on the right side of a let\\nstatement to assign the outcome to a variable, as in Listing 3-2.\\n\\nListing 3-2: Assigning the result of an if expression to a variable\\n\\n<!-- image -->\\n\\nThe number variable will be bound to a value based on the outcome of the if\\nexpression. Run this code to see what happens:\\n\\n```\\n$ cargo run\\n   Compiling branches v0.1.0 (file:///projects/branches)\\n    Finished `dev` profile [unoptimized + debuginfo] target(s) in 0.30s\\n     Running `target/debug/branches`\\nThe value of number is: 5\\n```\\n\\nRemember that blocks of code evaluate to the last expression in them, and\\nnumbers by themselves are also expressions. In this case, the value of the\\nwhole if expression depends on which block of code executes. This means the\\nvalues that have the potential to be results from each arm of the if must be\\nthe same type; in Listing 3-2, the results of both the if arm and the else\\narm were i32 integers. If the types are mismatched, as in the following\\nexample, we’ll get an error:\\n\\nFilename: src/main.rs\\n\\n```\\nfn main() {\\n    let condition = true;\\n\\n    let number = if condition { 5 } else { \"six\" };\\n\\n    println!(\"The value of number is: {number}\");\\n}\\n```\\n\\nWhen we try to compile this code, we’ll get an error. The if and else arms\\nhave value types that are incompatible, and Rust indicates exactly where to\\nfind the problem in the program:\\n\\n```\\n$ cargo run\\n   Compiling branches v0.1.0 (file:///projects/branches)\\nerror[E0308]: `if` and `else` have incompatible types\\n --> src/main.rs:4:44\\n  |\\n4 |     let number = if condition { 5 } else { \"six\" };\\n  |                                 -          ^^^^^ expected integer, found `&str`\\n  |                                 |\\n  |                                 expected because of this\\n\\nFor more information about this error, try `rustc --explain E0308`.\\nerror: could not compile `branches` (bin \"branches\") due to 1 previous error\\n```\\n\\nThe expression in the if block evaluates to an integer, and the expression in\\nthe else block evaluates to a string. This won’t work because variables must\\nhave a single type, and Rust needs to know at compile time what type the\\nnumber variable is, definitively. Knowing the type of number lets the\\ncompiler verify the type is valid everywhere we use number. Rust wouldn’t be\\nable to do that if the type of number was only determined at runtime; the\\ncompiler would be more complex and would make fewer guarantees about the code\\nif it had to keep track of multiple hypothetical types for any variable.\\n\\n### Repetition with Loops\\n\\nIt’s often useful to execute a block of code more than once. For this task,\\nRust provides several loops, which will run through the code inside the loop\\nbody to the end and then start immediately back at the beginning. To experiment\\nwith loops, let’s make a new project called loops.\\n\\nRust has three kinds of loops: loop, while, and for. Let’s try each one.\\n\\n#### Repeating Code with loop\\n\\nThe loop keyword tells Rust to execute a block of code over and over again\\nforever or until you explicitly tell it to stop.\\n\\nAs an example, change the src/main.rs file in your loops directory to look\\nlike this:\\n\\nFilename: src/main.rs\\n\\n```\\nfn main() {\\n    loop {\\n        println!(\"again!\");\\n    }\\n}\\n```\\n\\nWhen we run this program, we’ll see again! printed over and over continuously\\nuntil we stop the program manually. Most terminals support the keyboard shortcut\\nctrl-c to interrupt a program that is stuck in a continual\\nloop. Give it a try:\\n\\n```\\n$ cargo run\\n   Compiling loops v0.1.0 (file:///projects/loops)\\n    Finished `dev` profile [unoptimized + debuginfo] target(s) in 0.08s\\n     Running `target/debug/loops`\\nagain!\\nagain!\\nagain!\\nagain!\\n^Cagain!\\n```\\n\\nThe symbol ^C represents where you pressed ctrl-c. You\\nmay or may not see the word again! printed after the ^C, depending on where\\nthe code was in the loop when it received the interrupt signal.\\n\\nFortunately, Rust also provides a way to break out of a loop using code. You\\ncan place the break keyword within the loop to tell the program when to stop\\nexecuting the loop. Recall that we did this in the guessing game in the\\n“Quitting After a Correct Guess” section of Chapter 2 to exit the program when the user won the game by\\nguessing the correct number.\\n\\nWe also used continue in the guessing game, which in a loop tells the program\\nto skip over any remaining code in this iteration of the loop and go to the\\nnext iteration.\\n\\n#### Returning Values from Loops\\n\\nOne of the uses of a loop is to retry an operation you know might fail, such\\nas checking whether a thread has completed its job. You might also need to pass\\nthe result of that operation out of the loop to the rest of your code. To do\\nthis, you can add the value you want returned after the break expression you\\nuse to stop the loop; that value will be returned out of the loop so you can\\nuse it, as shown here:\\n\\n```\\nfn main() {\\n    let mut counter = 0;\\n\\n    let result = loop {\\n        counter += 1;\\n\\n        if counter == 10 {\\n            break counter * 2;\\n        }\\n    };\\n\\n    println!(\"The result is {result}\");\\n}\\n```\\n\\nBefore the loop, we declare a variable named counter and initialize it to\\n0. Then we declare a variable named result to hold the value returned from\\nthe loop. On every iteration of the loop, we add 1 to the counter variable,\\nand then check whether the counter is equal to 10. When it is, we use the\\nbreak keyword with the value counter * 2. After the loop, we use a\\nsemicolon to end the statement that assigns the value to result. Finally, we\\nprint the value in result, which in this case is 20.\\n\\nYou can also return from inside a loop. While break only exits the current\\nloop, return always exits the current function.\\n\\n#### Loop Labels to Disambiguate Between Multiple Loops\\n\\nIf you have loops within loops, break and continue apply to the innermost\\nloop at that point. You can optionally specify a loop label on a loop that\\nyou can then use with break or continue to specify that those keywords\\napply to the labeled loop instead of the innermost loop. Loop labels must begin\\nwith a single quote. Here’s an example with two nested loops:\\n\\n```\\nfn main() {\\n    let mut count = 0;\\n    \\'counting_up: loop {\\n        println!(\"count = {count}\");\\n        let mut remaining = 10;\\n\\n        loop {\\n            println!(\"remaining = {remaining}\");\\n            if remaining == 9 {\\n                break;\\n            }\\n            if count == 2 {\\n                break \\'counting_up;\\n            }\\n            remaining -= 1;\\n        }\\n\\n        count += 1;\\n    }\\n    println!(\"End count = {count}\");\\n}\\n```\\n\\nThe outer loop has the label \\'counting\\\\_up, and it will count up from 0 to 2.\\nThe inner loop without a label counts down from 10 to 9. The first break that\\ndoesn’t specify a label will exit the inner loop only. The break \\'counting\\\\_up; statement will exit the outer loop. This code prints:\\n\\n```\\n$ cargo run\\n   Compiling loops v0.1.0 (file:///projects/loops)\\n    Finished `dev` profile [unoptimized + debuginfo] target(s) in 0.58s\\n     Running `target/debug/loops`\\ncount = 0\\nremaining = 10\\nremaining = 9\\ncount = 1\\nremaining = 10\\nremaining = 9\\ncount = 2\\nremaining = 10\\nEnd count = 2\\n```\\n\\n#### Conditional Loops with while\\n\\nA program will often need to evaluate a condition within a loop. While the\\ncondition is true, the loop runs. When the condition ceases to be true, the\\nprogram calls break, stopping the loop. It’s possible to implement behavior\\nlike this using a combination of loop, if, else, and break; you could\\ntry that now in a program, if you’d like. However, this pattern is so common\\nthat Rust has a built-in language construct for it, called a while loop. In\\nListing 3-3, we use while to loop the program three times, counting down each\\ntime, and then, after the loop, print a message and exit.\\n\\nListing 3-3: Using a while loop to run code while a condition evaluates to true\\n\\n<!-- image -->\\n\\nThis construct eliminates a lot of nesting that would be necessary if you used\\nloop, if, else, and break, and it’s clearer. While a condition\\nevaluates to true, the code runs; otherwise, it exits the loop.\\n\\n#### Looping Through a Collection with for\\n\\nYou can also use the while construct to loop over the elements of a\\ncollection, such as an array. For example, the loop in Listing 3-4 prints each\\nelement in the array a.\\n\\nListing 3-4: Looping through each element of a collection using a while loop\\n\\n<!-- image -->\\n\\nHere, the code counts up through the elements in the array. It starts at index\\n0, and then loops until it reaches the final index in the array (that is,\\nwhen index &lt; 5 is no longer true). Running this code will print every\\nelement in the array:\\n\\n```\\n$ cargo run\\n   Compiling loops v0.1.0 (file:///projects/loops)\\n    Finished `dev` profile [unoptimized + debuginfo] target(s) in 0.32s\\n     Running `target/debug/loops`\\nthe value is: 10\\nthe value is: 20\\nthe value is: 30\\nthe value is: 40\\nthe value is: 50\\n```\\n\\nAll five array values appear in the terminal, as expected. Even though index\\nwill reach a value of 5 at some point, the loop stops executing before trying\\nto fetch a sixth value from the array.\\n\\nHowever, this approach is error prone; we could cause the program to panic if\\nthe index value or test condition is incorrect. For example, if you changed the\\ndefinition of the a array to have four elements but forgot to update the\\ncondition to while index &lt; 4, the code would panic. It’s also slow, because\\nthe compiler adds runtime code to perform the conditional check of whether the\\nindex is within the bounds of the array on every iteration through the loop.\\n\\nAs a more concise alternative, you can use a for loop and execute some code\\nfor each item in a collection. A for loop looks like the code in Listing 3-5.\\n\\nListing 3-5: Looping through each element of a collection using a for loop\\n\\n<!-- image -->\\n\\nWhen we run this code, we’ll see the same output as in Listing 3-4. More\\nimportantly, we’ve now increased the safety of the code and eliminated the\\nchance of bugs that might result from going beyond the end of the array or not\\ngoing far enough and missing some items.\\n\\nUsing the for loop, you wouldn’t need to remember to change any other code if\\nyou changed the number of values in the array, as you would with the method\\nused in Listing 3-4.\\n\\nThe safety and conciseness of for loops make them the most commonly used loop\\nconstruct in Rust. Even in situations in which you want to run some code a\\ncertain number of times, as in the countdown example that used a while loop\\nin Listing 3-3, most Rustaceans would use a for loop. The way to do that\\nwould be to use a Range, provided by the standard library, which generates\\nall numbers in sequence starting from one number and ending before another\\nnumber.\\n\\nHere’s what the countdown would look like using a for loop and another method\\nwe’ve not yet talked about, rev, to reverse the range:\\n\\nFilename: src/main.rs\\n\\n```\\nfn main() {\\n    for number in (1..4).rev() {\\n        println!(\"{number}!\");\\n    }\\n    println!(\"LIFTOFF!!!\");\\n}\\n```\\n\\nThis code is a bit nicer, isn’t it?\\n\\n## Summary\\n\\nYou made it! This was a sizable chapter: you learned about variables, scalar\\nand compound data types, functions, comments, if expressions, and loops! To\\npractice with the concepts discussed in this chapter, try building programs to\\ndo the following:\\n\\n- Convert temperatures between Fahrenheit and Celsius.\\n- Generate the nth Fibonacci number.\\n- Print the lyrics to the Christmas carol “The Twelve Days of Christmas,”\\ntaking advantage of the repetition in the song.\\n\\nWhen you’re ready to move on, we’ll talk about a concept in Rust that doesn’t\\ncommonly exist in other programming languages: ownership.'] \n",
      "\n",
      "['# The Rust Programming Language\\n\\n## Macros\\n\\nWe’ve used macros like println! throughout this book, but we haven’t fully\\nexplored what a macro is and how it works. The term macro refers to a family\\nof features in Rust: declarative macros with macro\\\\_rules! and three kinds\\nof procedural macros:\\n\\n- Custom #[derive] macros that specify code added with the derive attribute\\nused on structs and enums\\n- Attribute-like macros that define custom attributes usable on any item\\n- Function-like macros that look like function calls but operate on the tokens\\nspecified as their argument\\n\\nWe’ll talk about each of these in turn, but first, let’s look at why we even\\nneed macros when we already have functions.\\n\\n### The Difference Between Macros and Functions\\n\\nFundamentally, macros are a way of writing code that writes other code, which\\nis known as metaprogramming. In Appendix C, we discuss the derive\\nattribute, which generates an implementation of various traits for you. We’ve\\nalso used the println! and vec! macros throughout the book. All of these\\nmacros expand to produce more code than the code you’ve written manually.\\n\\nMetaprogramming is useful for reducing the amount of code you have to write and\\nmaintain, which is also one of the roles of functions. However, macros have\\nsome additional powers that functions don’t have.\\n\\nA function signature must declare the number and type of parameters the\\nfunction has. Macros, on the other hand, can take a variable number of\\nparameters: we can call println!(\"hello\") with one argument or\\nprintln!(\"hello {}\", name) with two arguments. Also, macros are expanded\\nbefore the compiler interprets the meaning of the code, so a macro can, for\\nexample, implement a trait on a given type. A function can’t, because it gets\\ncalled at runtime and a trait needs to be implemented at compile time.\\n\\nThe downside to implementing a macro instead of a function is that macro\\ndefinitions are more complex than function definitions because you’re writing\\nRust code that writes Rust code. Due to this indirection, macro definitions are\\ngenerally more difficult to read, understand, and maintain than function\\ndefinitions.\\n\\nAnother important difference between macros and functions is that you must\\ndefine macros or bring them into scope before you call them in a file, as\\nopposed to functions you can define anywhere and call anywhere.\\n\\n### Declarative Macros with macro\\\\_rules! for General Metaprogramming\\n\\nThe most widely used form of macros in Rust is the declarative macro. These\\nare also sometimes referred to as “macros by example,” “macro\\\\_rules! macros,”\\nor just plain “macros.” At their core, declarative macros allow you to write\\nsomething similar to a Rust match expression. As discussed in Chapter 6,\\nmatch expressions are control structures that take an expression, compare the\\nresultant value of the expression to patterns, and then run the code associated\\nwith the matching pattern. Macros also compare a value to patterns that are\\nassociated with particular code: in this situation, the value is the literal\\nRust source code passed to the macro; the patterns are compared with the\\nstructure of that source code; and the code associated with each pattern, when\\nmatched, replaces the code passed to the macro. This all happens during\\ncompilation.\\n\\nTo define a macro, you use the macro\\\\_rules! construct. Let’s explore how to\\nuse macro\\\\_rules! by looking at how the vec! macro is defined. Chapter 8\\ncovered how we can use the vec! macro to create a new vector with particular\\nvalues. For example, the following macro creates a new vector containing three\\nintegers:\\n\\n```\\n#![allow(unused)]\\nfn main() {\\nlet v: Vec<u32> = vec![1, 2, 3];\\n}\\n```\\n\\nWe could also use the vec! macro to make a vector of two integers or a vector\\nof five string slices. We wouldn’t be able to use a function to do the same\\nbecause we wouldn’t know the number or type of values up front.\\n\\nListing 20-35 shows a slightly simplified definition of the vec! macro.\\n\\nListing 20-35: A simplified version of the vec! macro definition\\n\\n<!-- image -->\\n\\nNote: The actual definition of the vec! macro in the standard library\\nincludes code to pre-allocate the correct amount of memory up front. That code\\nis an optimization that we don’t include here, to make the example simpler.\\n\\nThe #[macro\\\\_export] annotation indicates that this macro should be made\\navailable whenever the crate in which the macro is defined is brought into\\nscope. Without this annotation, the macro can’t be brought into scope.\\n\\nWe then start the macro definition with macro\\\\_rules! and the name of the\\nmacro we’re defining without the exclamation mark. The name, in this case\\nvec, is followed by curly brackets denoting the body of the macro definition.\\n\\nThe structure in the vec! body is similar to the structure of a match\\nexpression. Here we have one arm with the pattern ( $( $x:expr ),* ),\\nfollowed by =&gt; and the block of code associated with this pattern. If the\\npattern matches, the associated block of code will be emitted. Given that this\\nis the only pattern in this macro, there is only one valid way to match; any\\nother pattern will result in an error. More complex macros will have more than\\none arm.\\n\\nValid pattern syntax in macro definitions is different from the pattern syntax\\ncovered in Chapter 19 because macro patterns are matched against Rust code\\nstructure rather than values. Let’s walk through what the pattern pieces in\\nListing 20-29 mean; for the full macro pattern syntax, see the Rust\\nReference.\\n\\nFirst we use a set of parentheses to encompass the whole pattern. We use a\\ndollar sign ($) to declare a variable in the macro system that will contain\\nthe Rust code matching the pattern. The dollar sign makes it clear this is a\\nmacro variable as opposed to a regular Rust variable. Next comes a set of\\nparentheses that captures values that match the pattern within the parentheses\\nfor use in the replacement code. Within $() is $x:expr, which matches any\\nRust expression and gives the expression the name $x.\\n\\nThe comma following $() indicates that a literal comma separator character\\nmust appear between each instance of the code that matches the code within\\n$(). The * specifies that the pattern matches zero or more of whatever\\nprecedes the *.\\n\\nWhen we call this macro with vec![1, 2, 3];, the $x pattern matches three\\ntimes with the three expressions 1, 2, and 3.\\n\\nNow let’s look at the pattern in the body of the code associated with this arm:\\ntemp\\\\_vec.push() within $()* is generated for each part that matches $()\\nin the pattern zero or more times depending on how many times the pattern\\nmatches. The $x is replaced with each expression matched. When we call this\\nmacro with vec![1, 2, 3];, the code generated that replaces this macro call\\nwill be the following:\\n\\n```\\n{\\n    let mut temp_vec = Vec::new();\\n    temp_vec.push(1);\\n    temp_vec.push(2);\\n    temp_vec.push(3);\\n    temp_vec\\n}\\n```\\n\\nWe’ve defined a macro that can take any number of arguments of any type and can\\ngenerate code to create a vector containing the specified elements.\\n\\nTo learn more about how to write macros, consult the online documentation or\\nother resources, such as “The Little Book of Rust Macros” started by\\nDaniel Keep and continued by Lukas Wirth.\\n\\n### Procedural Macros for Generating Code from Attributes\\n\\nThe second form of macros is the procedural macro, which acts more like a\\nfunction (and is a type of procedure). Procedural macros accept some code as\\nan input, operate on that code, and produce some code as an output rather than\\nmatching against patterns and replacing the code with other code as declarative\\nmacros do. The three kinds of procedural macros are custom derive,\\nattribute-like, and function-like, and all work in a similar fashion.\\n\\nWhen creating procedural macros, the definitions must reside in their own crate\\nwith a special crate type. This is for complex technical reasons that we hope\\nto eliminate in the future. In Listing 20-36, we show how to define a\\nprocedural macro, where some\\\\_attribute is a placeholder for using a specific\\nmacro variety.\\n\\nListing 20-36: An example of defining a procedural macro\\n\\n<!-- image -->\\n\\nThe function that defines a procedural macro takes a TokenStream as an input\\nand produces a TokenStream as an output. The TokenStream type is defined by\\nthe proc\\\\_macro crate that is included with Rust and represents a sequence of\\ntokens. This is the core of the macro: the source code that the macro is\\noperating on makes up the input TokenStream, and the code the macro produces\\nis the output TokenStream. The function also has an attribute attached to it\\nthat specifies which kind of procedural macro we’re creating. We can have\\nmultiple kinds of procedural macros in the same crate.\\n\\nLet’s look at the different kinds of procedural macros. We’ll start with a\\ncustom derive macro and then explain the small dissimilarities that make the\\nother forms different.\\n\\n### How to Write a Custom derive Macro\\n\\nLet’s create a crate named hello\\\\_macro that defines a trait named\\nHelloMacro with one associated function named hello\\\\_macro. Rather than\\nmaking our users implement the HelloMacro trait for each of their types,\\nwe’ll provide a procedural macro so users can annotate their type with\\n#[derive(HelloMacro)] to get a default implementation of the hello\\\\_macro\\nfunction. The default implementation will print Hello, Macro! My name is TypeName! where TypeName is the name of the type on which this trait has\\nbeen defined. In other words, we’ll write a crate that enables another\\nprogrammer to write code like Listing 20-37 using our crate.\\n\\nListing 20-37: The code a user of our crate will be able to write when using our procedural macro\\n\\n<!-- image -->\\n\\nThis code will print Hello, Macro! My name is Pancakes! when we’re done. The\\nfirst step is to make a new library crate, like this:\\n\\n```\\n$ cargo new hello_macro --lib\\n```\\n\\nNext, we’ll define the HelloMacro trait and its associated function:\\n\\nListing 20-38: A simple trait that we will use with the derive macro\\n\\n<!-- image -->\\n\\nWe have a trait and its function. At this point, our crate user could implement\\nthe trait to achieve the desired functionality, as in Listing 20-39.\\n\\nListing 20-39: How it would look if users wrote a manual implementation of the HelloMacro trait\\n\\n<!-- image -->\\n\\nHowever, they would need to write the implementation block for each type they\\nwanted to use with hello\\\\_macro; we want to spare them from having to do this\\nwork.\\n\\nAdditionally, we can’t yet provide the hello\\\\_macro function with default\\nimplementation that will print the name of the type the trait is implemented\\non: Rust doesn’t have reflection capabilities, so it can’t look up the type’s\\nname at runtime. We need a macro to generate code at compile time.\\n\\nThe next step is to define the procedural macro. At the time of this writing,\\nprocedural macros need to be in their own crate. Eventually, this restriction\\nmight be lifted. The convention for structuring crates and macro crates is as\\nfollows: for a crate named foo, a custom derive procedural macro crate is\\ncalled foo\\\\_derive. Let’s start a new crate called hello\\\\_macro\\\\_derive inside\\nour hello\\\\_macro project:\\n\\n```\\n$ cargo new hello_macro_derive --lib\\n```\\n\\nOur two crates are tightly related, so we create the procedural macro crate\\nwithin the directory of our hello\\\\_macro crate. If we change the trait\\ndefinition in hello\\\\_macro, we’ll have to change the implementation of the\\nprocedural macro in hello\\\\_macro\\\\_derive as well. The two crates will need to\\nbe published separately, and programmers using these crates will need to add\\nboth as dependencies and bring them both into scope. We could instead have the\\nhello\\\\_macro crate use hello\\\\_macro\\\\_derive as a dependency and re-export the\\nprocedural macro code. However, the way we’ve structured the project makes it\\npossible for programmers to use hello\\\\_macro even if they don’t want the\\nderive functionality.\\n\\nWe need to declare the hello\\\\_macro\\\\_derive crate as a procedural macro crate.\\nWe’ll also need functionality from the syn and quote crates, as you’ll see\\nin a moment, so we need to add them as dependencies. Add the following to the\\nCargo.toml file for hello\\\\_macro\\\\_derive:\\n\\n<!-- image -->\\n\\nTo start defining the procedural macro, place the code in Listing 20-40 into\\nyour src/lib.rs file for the hello\\\\_macro\\\\_derive crate. Note that this code\\nwon’t compile until we add a definition for the impl\\\\_hello\\\\_macro function.\\n\\nListing 20-40: Code that most procedural macro crates will require in order to process Rust code\\n\\n<!-- image -->\\n\\nNotice that we’ve split the code into the hello\\\\_macro\\\\_derive function, which\\nis responsible for parsing the TokenStream, and the impl\\\\_hello\\\\_macro\\nfunction, which is responsible for transforming the syntax tree: this makes\\nwriting a procedural macro more convenient. The code in the outer function\\n(hello\\\\_macro\\\\_derive in this case) will be the same for almost every\\nprocedural macro crate you see or create. The code you specify in the body of\\nthe inner function (impl\\\\_hello\\\\_macro in this case) will be different\\ndepending on your procedural macro’s purpose.\\n\\nWe’ve introduced three new crates: proc\\\\_macro, syn, and quote. The\\nproc\\\\_macro crate comes with Rust, so we didn’t need to add that to the\\ndependencies in Cargo.toml. The proc\\\\_macro crate is the compiler’s API that\\nallows us to read and manipulate Rust code from our code.\\n\\nThe syn crate parses Rust code from a string into a data structure that we\\ncan perform operations on. The quote crate turns syn data structures back\\ninto Rust code. These crates make it much simpler to parse any sort of Rust\\ncode we might want to handle: writing a full parser for Rust code is no simple\\ntask.\\n\\nThe hello\\\\_macro\\\\_derive function will be called when a user of our library\\nspecifies #[derive(HelloMacro)] on a type. This is possible because we’ve\\nannotated the hello\\\\_macro\\\\_derive function here with proc\\\\_macro\\\\_derive and\\nspecified the name HelloMacro, which matches our trait name; this is the\\nconvention most procedural macros follow.\\n\\nThe hello\\\\_macro\\\\_derive function first converts the input from a\\nTokenStream to a data structure that we can then interpret and perform\\noperations on. This is where syn comes into play. The parse function in\\nsyn takes a TokenStream and returns a DeriveInput struct representing the\\nparsed Rust code. Listing 20-41 shows the relevant parts of the DeriveInput\\nstruct we get from parsing the struct Pancakes; string.\\n\\nListing 20-41: The DeriveInput instance we get when parsing the code that has the macro’s attribute in Listing 20-37\\n\\n<!-- image -->\\n\\nThe fields of this struct show that the Rust code we’ve parsed is a unit struct\\nwith the ident (identifier, meaning the name) of Pancakes. There are more\\nfields on this struct for describing all sorts of Rust code; check the syn\\ndocumentation for DeriveInput for more information.\\n\\nSoon we’ll define the impl\\\\_hello\\\\_macro function, which is where we’ll build\\nthe new Rust code we want to include. But before we do, note that the output\\nfor our derive macro is also a TokenStream. The returned TokenStream is\\nadded to the code that our crate users write, so when they compile their crate,\\nthey’ll get the extra functionality that we provide in the modified\\nTokenStream.\\n\\nYou might have noticed that we’re calling unwrap to cause the\\nhello\\\\_macro\\\\_derive function to panic if the call to the syn::parse function\\nfails here. It’s necessary for our procedural macro to panic on errors because\\nproc\\\\_macro\\\\_derive functions must return TokenStream rather than Result to\\nconform to the procedural macro API. We’ve simplified this example by using\\nunwrap; in production code, you should provide more specific error messages\\nabout what went wrong by using panic! or expect.\\n\\nNow that we have the code to turn the annotated Rust code from a TokenStream\\ninto a DeriveInput instance, let’s generate the code that implements the\\nHelloMacro trait on the annotated type, as shown in Listing 20-42.\\n\\nListing 20-42: Implementing the HelloMacro trait using the parsed Rust code\\n\\n<!-- image -->\\n\\nWe get an Ident struct instance containing the name (identifier) of the\\nannotated type using ast.ident. The struct in Listing 20-33 shows that when\\nwe run the impl\\\\_hello\\\\_macro function on the code in Listing 20-31, the\\nident we get will have the ident field with a value of \"Pancakes\". Thus,\\nthe name variable in Listing 20-34 will contain an Ident struct instance\\nthat, when printed, will be the string \"Pancakes\", the name of the struct in\\nListing 20-37.\\n\\nThe quote! macro lets us define the Rust code that we want to return. The\\ncompiler expects something different to the direct result of the quote!\\nmacro’s execution, so we need to convert it to a TokenStream. We do this by\\ncalling the into method, which consumes this intermediate representation and\\nreturns a value of the required TokenStream type.\\n\\nThe quote! macro also provides some very cool templating mechanics: we can\\nenter #name, and quote! will replace it with the value in the variable\\nname. You can even do some repetition similar to the way regular macros work.\\nCheck out the quote crate’s docs for a thorough introduction.\\n\\nWe want our procedural macro to generate an implementation of our HelloMacro\\ntrait for the type the user annotated, which we can get by using #name. The\\ntrait implementation has the one function hello\\\\_macro, whose body contains the\\nfunctionality we want to provide: printing Hello, Macro! My name is and then\\nthe name of the annotated type.\\n\\nThe stringify! macro used here is built into Rust. It takes a Rust\\nexpression, such as 1 + 2, and at compile time turns the expression into a\\nstring literal, such as \"1 + 2\". This is different from format! or\\nprintln!, macros which evaluate the expression and then turn the result into\\na String. There is a possibility that the #name input might be an\\nexpression to print literally, so we use stringify!. Using stringify! also\\nsaves an allocation by converting #name to a string literal at compile time.\\n\\nAt this point, cargo build should complete successfully in both hello\\\\_macro\\nand hello\\\\_macro\\\\_derive. Let’s hook up these crates to the code in Listing\\n20-31 to see the procedural macro in action! Create a new binary project in\\nyour projects directory using cargo new pancakes. We need to add\\nhello\\\\_macro and hello\\\\_macro\\\\_derive as dependencies in the pancakes\\ncrate’s Cargo.toml. If you’re publishing your versions of hello\\\\_macro and\\nhello\\\\_macro\\\\_derive to crates.io, they would be regular\\ndependencies; if not, you can specify them as path dependencies as follows:\\n\\n```\\nhello_macro = { path = \"../hello_macro\" }\\nhello_macro_derive = { path = \"../hello_macro/hello_macro_derive\" }\\n```\\n\\nPut the code in Listing 20-37 into src/main.rs, and run cargo run: it\\nshould print Hello, Macro! My name is Pancakes! The implementation of the\\nHelloMacro trait from the procedural macro was included without the\\npancakes crate needing to implement it; the #[derive(HelloMacro)] added the\\ntrait implementation.\\n\\nNext, let’s explore how the other kinds of procedural macros differ from custom\\nderive macros.\\n\\n### Attribute-Like macros\\n\\nAttribute-like macros are similar to custom derive macros, but instead of\\ngenerating code for the derive attribute, they allow you to create new\\nattributes. They’re also more flexible: derive only works for structs and\\nenums; attributes can be applied to other items as well, such as functions.\\nHere’s an example of using an attribute-like macro. Say you have an attribute\\nnamed route that annotates functions when using a web application framework:\\n\\n```\\n#[route(GET, \"/\")]\\nfn index() {\\n```\\n\\nThis #[route] attribute would be defined by the framework as a procedural\\nmacro. The signature of the macro definition function would look like this:\\n\\n```\\n#[proc_macro_attribute]\\npub fn route(attr: TokenStream, item: TokenStream) -> TokenStream {\\n```\\n\\nHere, we have two parameters of type TokenStream. The first is for the\\ncontents of the attribute: the GET, \"/\" part. The second is the body of the\\nitem the attribute is attached to: in this case, fn index() {} and the rest\\nof the function’s body.\\n\\nOther than that, attribute-like macros work the same way as custom derive\\nmacros: you create a crate with the proc-macro crate type and implement a\\nfunction that generates the code you want!\\n\\n### Function-Like macros\\n\\nFunction-like macros define macros that look like function calls. Similarly to\\nmacro\\\\_rules! macros, they’re more flexible than functions; for example, they\\ncan take an unknown number of arguments. However, macro\\\\_rules! macros can only\\nbe defined using the match-like syntax we discussed in “Declarative Macros with\\nmacro\\\\_rules! for General Metaprogramming” earlier.\\nFunction-like macros take a TokenStream parameter and their definition\\nmanipulates that TokenStream using Rust code as the other two types of\\nprocedural macros do. An example of a function-like macro is an sql! macro\\nthat might be called like so:\\n\\n```\\nlet sql = sql!(SELECT * FROM posts WHERE id=1);\\n```\\n\\nThis macro would parse the SQL statement inside it and check that it’s\\nsyntactically correct, which is much more complex processing than a\\nmacro\\\\_rules! macro can do. The sql! macro would be defined like this:\\n\\n```\\n#[proc_macro]\\npub fn sql(input: TokenStream) -> TokenStream {\\n```\\n\\nThis definition is similar to the custom derive macro’s signature: we receive\\nthe tokens that are inside the parentheses and return the code we wanted to\\ngenerate.\\n\\n## Summary\\n\\nWhew! Now you have some Rust features in your toolbox that you likely won’t use\\noften, but you’ll know they’re available in very particular circumstances.\\nWe’ve introduced several complex topics so that when you encounter them in\\nerror message suggestions or in other people’s code, you’ll be able to\\nrecognize these concepts and syntax. Use this chapter as a reference to guide\\nyou to solutions.\\n\\nNext, we’ll put everything we’ve discussed throughout the book into practice\\nand do one more project!'] \n",
      "\n",
      "['# The Rust Programming Language\\n\\n# Smart Pointers\\n\\nA pointer is a general concept for a variable that contains an address in\\nmemory. This address refers to, or “points at,” some other data. The most\\ncommon kind of pointer in Rust is a reference, which you learned about in\\nChapter 4. References are indicated by the &amp; symbol and borrow the value they\\npoint to. They don’t have any special capabilities other than referring to\\ndata, and they have no overhead.\\n\\nSmart pointers, on the other hand, are data structures that act like a\\npointer but also have additional metadata and capabilities. The concept of\\nsmart pointers isn’t unique to Rust: smart pointers originated in C++ and exist\\nin other languages as well. Rust has a variety of smart pointers defined in the\\nstandard library that provide functionality beyond that provided by references.\\nTo explore the general concept, we’ll look at a couple of different examples of\\nsmart pointers, including a reference counting smart pointer type. This\\npointer enables you to allow data to have multiple owners by keeping track of\\nthe number of owners and, when no owners remain, cleaning up the data.\\n\\nRust, with its concept of ownership and borrowing, has an additional difference\\nbetween references and smart pointers: while references only borrow data, in\\nmany cases smart pointers own the data they point to.\\n\\nThough we didn’t call them as such at the time, we’ve already encountered a few\\nsmart pointers in this book, including String and Vec&lt;T&gt; in Chapter 8. Both\\nof these types count as smart pointers because they own some memory and allow\\nyou to manipulate it. They also have metadata and extra capabilities or\\nguarantees. String, for example, stores its capacity as metadata and has the\\nextra ability to ensure its data will always be valid UTF-8.\\n\\nSmart pointers are usually implemented using structs. Unlike an ordinary\\nstruct, smart pointers implement the Deref and Drop traits. The Deref\\ntrait allows an instance of the smart pointer struct to behave like a reference\\nso you can write your code to work with either references or smart pointers.\\nThe Drop trait allows you to customize the code that’s run when an instance\\nof the smart pointer goes out of scope. In this chapter, we’ll discuss both of\\nthese traits and demonstrate why they’re important to smart pointers.\\n\\nGiven that the smart pointer pattern is a general design pattern used\\nfrequently in Rust, this chapter won’t cover every existing smart pointer. Many\\nlibraries have their own smart pointers, and you can even write your own. We’ll\\ncover the most common smart pointers in the standard library:\\n\\n- Box&lt;T&gt;, for allocating values on the heap\\n- Rc&lt;T&gt;, a reference counting type that enables multiple ownership\\n- Ref&lt;T&gt; and RefMut&lt;T&gt;, accessed through RefCell&lt;T&gt;, a type that enforces\\nthe borrowing rules at runtime instead of compile time\\n\\nIn addition, we’ll cover the interior mutability pattern where an immutable\\ntype exposes an API for mutating an interior value. We’ll also discuss\\nreference cycles: how they can leak memory and how to prevent them.\\n\\nLet’s dive in!'] \n",
      "\n"
     ]
    },
    {
     "name": "stderr",
     "output_type": "stream",
     "text": [
      "\n"
     ]
    },
    {
     "data": {
      "text/plain": [
       "[None, None, None]"
      ]
     },
     "execution_count": 25,
     "metadata": {},
     "output_type": "execute_result"
    }
   ],
   "source": [
    "user_prompt = \"what is ownership in rust and how does it relate to lifetimes\"\n",
    "query_embedding = vectorize_text(user_prompt)\n",
    "res = db.query(searchdocs_rag(query_embedding))[0]['subchapters']\n",
    "[print(r['content'], \"\\n\") for r in res]"
   ]
  },
  {
   "cell_type": "code",
   "execution_count": 26,
   "id": "5e8a588b-2168-4bab-a5a4-1cd63ac126eb",
   "metadata": {},
   "outputs": [
    {
     "name": "stdout",
     "output_type": "stream",
     "text": [
      "reponse: Based on the provided context, here's an answer to your question:\n",
      "\n",
      "Ownership and Lifetimes in Rust:\n",
      "\n",
      "In Rust, **ownership** refers to the concept of a variable being responsible for the data it points to. This means that when you assign a value to a new variable, it becomes the owner of that data, and it's responsible for cleaning up the data when it goes out of scope.\n",
      "\n",
      "Rust has a strict ownership system that ensures each value has at most one owner at any given time. When a value is assigned to a new variable, its previous owner (if any) must be moved or cloned first, transferring the ownership of the data to the new owner.\n",
      "\n",
      "**Lifetimes**, on the other hand, refer to the scope in which a value exists and can be used safely. A lifetime specifies how long a value remains alive and is accessible from different parts of the code.\n",
      "\n",
      "In Rust, lifetimes are not just about memory management; they're also about ensuring that variables are accessed within their valid scope. This helps prevent common programming mistakes like accessing a variable after it has gone out of scope.\n",
      "\n",
      "To illustrate this concept, consider the following example:\n",
      "```rust\n",
      "let s = String::from(\"Hello\");  // s is the owner of the string data\n",
      "\n",
      "let t = s;  // t becomes the new owner of the string data\n",
      "              // s is moved into t, and its ownership is transferred\n",
      "println!(\"{}\", s);  // This will cause a compilation error because s has no value\n",
      "```\n",
      "In this example, `s` is the initial owner of the string data. When we assign it to `t`, its ownership is transferred to `t`, and `s` becomes an invalid variable (since its reference count reaches zero). Trying to print `s` will result in a compilation error.\n",
      "\n",
      "By understanding ownership and lifetimes in Rust, you can write safer, more maintainable code that's less prone to common programming errors.\n"
     ]
    }
   ],
   "source": [
    "response = get_ollama_response(create_prompt(res, user_prompt))\n",
    "print(f\"reponse: {response}\")"
   ]
  },
  {
   "cell_type": "code",
   "execution_count": null,
   "id": "927ae19d-a238-413d-a4b0-cd9011d323d0",
   "metadata": {},
   "outputs": [],
   "source": []
  }
 ],
 "metadata": {
  "kernelspec": {
   "display_name": "Python 3 (ipykernel)",
   "language": "python",
   "name": "python3"
  },
  "language_info": {
   "codemirror_mode": {
    "name": "ipython",
    "version": 3
   },
   "file_extension": ".py",
   "mimetype": "text/x-python",
   "name": "python",
   "nbconvert_exporter": "python",
   "pygments_lexer": "ipython3",
   "version": "3.13.3"
  }
 },
 "nbformat": 4,
 "nbformat_minor": 5
}
