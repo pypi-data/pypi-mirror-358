{
 "cells": [
  {
   "cell_type": "markdown",
   "id": "9f9546e7",
   "metadata": {},
   "source": [
    "# RTL-Generator"
   ]
  },
  {
   "cell_type": "markdown",
   "id": "8a0e40db",
   "metadata": {},
   "source": [
    "## Overview\n",
    "\n",
    "This repository contains an RTL-Generator and flexible parameterizer written in Python. Documentation is currently a work in progress.\n",
    "\n",
    "![RTL Generator Architecture](docs/architecture.svg)  \n",
    "*Intended workflow using RTL-Generator.*\n",
    "\n",
    "RTL-Generator is built to enable easy and flexible parameterization of RTL code. Currently, only Verilog/SystemVerilog is supported (due to use of formatter). Using RTL-Generator with an existing or new RTL project is easy: simply run `gen-rtl setup` at the top-level of your heirarchy, add your configuration options to `options.yml`, add parameter keys to the RTL, and add any more complex parameterization to a `gen_<module_name>.py` script. `gen-rtl generate` will then automatically generate your parameterized RTL project!\n",
    "\n",
    "### Supported Hardware Description Languages\n",
    "\n",
    "As of the current version, rtl-generator only supports Verilog/SystemVerilog. We will gladly accept contributions of support for other languages, provided they do not break the current language support or require any major modifications to the basic framework. Support for another language would require:\n",
    "\n",
    "* Regular Expression comment matching for paramaterizer tags consistent with Verilog/SystemVerilog implementation (see [generator.py](src/rtl_generator/generator.py)).\n",
    "* Formatter implementation (see [format.py](src/rtl_generator/format.py) for example).\n",
    "\n",
    "A class-based approach to language support has not been implemented yet, but is likely a good solution for handling different HDL's more efficiently."
   ]
  },
  {
   "cell_type": "markdown",
   "id": "ea9721ad",
   "metadata": {},
   "source": [
    "## Installation\n",
    "\n",
    "RTL-Generator can be installed using `python3 -m pip install rtl-generator`, and running any of `gen-rtl setup`, `gen-rtl update`, or `gen-rtl generate`.\n",
    "\n",
    "RTL-generator also depends on [Verible](https://github.com/chipsalliance/verible) to format output RTL. Follow Verible's install directions and ensure Verible is on your system's PATH.\n"
   ]
  },
  {
   "cell_type": "markdown",
   "id": "a6d55390",
   "metadata": {},
   "source": [
    "## Usage\n",
    "\n",
    "In short, the subcommands provided by `gen-rtl` are:\n",
    "\n",
    "- [setup](#setup): Sets up necessary files to use RTL-Generator in a new/existing project\n",
    "- [update](#update): Ensure necessary files to use RTL-Generator are in place after modifying the RTL heirarchy\n",
    "- [generate](#generate): Generate the parameterized RTL\n",
    "\n",
    "Additionally, a number of files within the project directory structure are necessary:\n",
    "\n",
    "- [options.yml](#options-yaml): A YAML file in the top level directory that defines arguments for the generator.\n",
    "- [gen_{rtl_name}.py](#generator-helpers): Python scripts alongside any module in the heirarchy, used to integrate any module-specific generation functionality.\n",
    "\n",
    "These files can be automatically created using the `setup` and `update` commands.\n",
    "\n",
    "### Setup\n",
    "\n",
    "This subcommand is run using `gen-rtl setup` in the same directory as the top-level module in your project. The name of this directory is used as `rtl_name` in file creation. \n",
    "\n",
    "- A python script named `gen_{rtl_name}.py`. This is used by default to ensure all submodules pick up the same top level `options.yml` file in generation, so default arguments only need to be modified in a single place.\n",
    "- Additional scripts named `gen_{submodule_name}.py` in any submodule directory, following the same directory name to script name transform.\n",
    "\n",
    "This command takes no arguments, and only executes if `options.yml` does not exist.\n",
    "\n",
    "### Update\n",
    "\n",
    "This subcommand is run using `gen-rtl update` in any directory in your project. It will automatically create submodule scripts in any submodule directory of the directory it is ran in, if such a script does not already exist. This command takes no arguments.\n",
    "\n",
    "### Generate\n",
    "\n",
    "This subcommand is run using `gen-rtl generate` in any directory in your project. It triggers the generator to generate the RTL for the module in that directory and any submodules thereof, propagating the same options to all generated RTL. This command takes any argument defined in the top level `options.yml`, as well as `--{module_name}_input`, `--{module_name}_output`, which define the path to the input template file and output RTL files respectively, and `--replace_includes`, which tells the generator to merge all of the generated and included RTL into the same top-level RTL file.\n",
    "\n",
    "The generator finds parameterizable sections by looking for instances of the tag `#{(parameter_name)}`. If a tag is contained within a comment of the RTL, the tag is not replaced by the generator, and needs a matching `#{/(parameter_name)}` tag also within a comment to indicate the end of the section. By not replacing the tag, the generated RTL can be re-used as the template in future runs of the generator. Tags not within comments are replaced by the generator, and are intended for use as single-generation only.\n",
    "\n",
    "The generator determines what to replace parameterized sections with by searching for a match of `parameter_name` in the following order:\n",
    "\n",
    "- Variable in current Generator Helper scope: replaces the section with the value of the variable, converted to a string\n",
    "- Function in the current Generator Helper scope: replaces the section with the returned string from calling the function\n",
    "- Variable in the global scope (this includes passed arguments): replaces the section with the value of the variable, converted to a string\n",
    "- Function in the global scope: replaces the section with the returned string from calling the function\n",
    "\n",
    "A `KeyError` is raised and generated RTL not written if `parameter_name` is not found in any of the above locations.\n",
    "\n",
    "### Files used by RTL-Generator\n",
    "\n",
    "#### Options YAML\n",
    "\n",
    "The `options.yml` file is used to automatically create the CLI for the generator for a project. This project uses [Argparse](https://docs.python.org/3/library/argparse.html), so any keyword arg used in creating a CLI using argparse can be defined in this file. Generating at any level of the heirarchy references the same `options.yml` file at the top level, meaning default argument values only have to be modified in one place.\n",
    "\n",
    "#### Generator Helpers\n",
    "\n",
    "These python scripts get loaded when a module is being generated, and are not intended to be ran standalone. The default versions generated by running `setup` or `update` import their parent helper, with the top level helper defining the path to `options.yml` used by `generate`.\n",
    "\n",
    "These scripts are where more complex parameterization is intended to take place: other Python modules can be included here to calculate options or generate RTL at runtime. An example of this for a Bluetooth Low Energy Digital Baseband can be seen on the `dev` branch.\n",
    "\n",
    "### Included Methods\n",
    "\n",
    "There are other useful methods that this module exposes, though documentation/development of these is ongoing. Examples can be seen in the example Bluetooth Low Energy Digital Baseband on the `dev` branch.\n"
   ]
  },
  {
   "cell_type": "markdown",
   "id": "fb2bdc01",
   "metadata": {},
   "source": [
    "## Example usage\n",
    "\n",
    "Consider the following project structure:\n",
    "\n",
    "- example\n",
    "    - example_submodule\n",
    "        - example_submodule.sv\n",
    "    - example.sv\n",
    "\n",
    "After running `setup`, the directory structure will now look like:\n",
    "\n",
    "- example\n",
    "    - example_submodule\n",
    "        - example_submodule.sv\n",
    "        - *gen_example_submodule.py*\n",
    "    - example.sv\n",
    "    - *gen_example.py*\n",
    "    - *options.yml*\n",
    "\n",
    "If you were to add another submodule, for example, a submodule of `example_submodule`, you would then run `update` to introduce this module to the `gen-rtl` heirarchy:\n",
    "\n",
    "- example\n",
    "    - example_submodule\n",
    "        - deeper_submodule\n",
    "            - deeper_submodule.sv\n",
    "            - *gen_deeper_submodule.py*\n",
    "        - example_submodule.sv\n",
    "        - *gen_example_submodule.py*\n",
    "    - example.sv\n",
    "    - *gen_example.py*\n",
    "    - *options.yml*\n",
    "\n",
    "Running `generate` will now work at any level of the heirarchy. All CLI arguments will be added along with their default values from the top-level `options.yml` file, and all submodules will also be generated alongside the module being generated. For example, running `generate` from the `example_submodule` directory would generate `example_submodule.sv` and `deeper_submodule.sv`, but not `example.sv`. Running `generate` from the `example` directory would generate the entire heirarchy."
   ]
  },
  {
   "cell_type": "markdown",
   "id": "a10c2ab3",
   "metadata": {},
   "source": [
    "## Development\n",
    "\n",
    "Development on this project is done on the `dev` branch.\n"
   ]
  },
  {
   "cell_type": "markdown",
   "id": "c39f8260",
   "metadata": {},
   "source": [
    "## Attribution and Related Publications:\n",
    "\n",
    "Please cite RTL-Generator by the following publication:\n",
    "\n",
    "```\n",
    "@article{rtl-generator,\n",
    "  author={Hippe, Brandon P. and Burnett, David C.},\n",
    "  journal={2025 Workshop on Conventions, Tools, and Ideas in Physical Design (WOVEN)},\n",
    "  title={A Python-based RTL Generator Demonstrated on a Low-IF 2-FSK Wireless Communication System},\n",
    "  year={2025},\n",
    "  pages={1-3},\n",
    "  note={Accepted, to appear},\n",
    "}\n",
    "```"
   ]
  }
 ],
 "metadata": {
  "kernelspec": {
   "display_name": ".venv",
   "language": "python",
   "name": "python3"
  },
  "language_info": {
   "name": "python",
   "version": "3.11.9"
  }
 },
 "nbformat": 4,
 "nbformat_minor": 5
}
