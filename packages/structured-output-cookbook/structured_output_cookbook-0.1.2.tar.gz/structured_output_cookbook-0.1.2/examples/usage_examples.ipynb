{
  "cells": [
    {
      "cell_type": "code",
      "execution_count": null,
      "metadata": {
        "vscode": {
          "languageId": "plaintext"
        }
      },
      "outputs": [],
      "source": [
        "# Structured Output Cookbook - Usage Examples\n",
        "\n",
        "This notebook demonstrates how to use the Structured Output Cookbook for extracting structured data from text using LLMs.\n",
        "\n",
        "## Features\n",
        "- 🎯 **Predefined Templates**: Ready-to-use schemas for common tasks\n",
        "- 🛠️ **Custom YAML Schemas**: Create your own extraction schemas  \n",
        "- 🔍 **Schema Validation**: Automatic validation of schema structure\n",
        "- 📊 **Rich Output**: Detailed extraction results with token usage\n",
        "\n",
        "## Prerequisites\n",
        "Make sure you have your OpenAI API key set as an environment variable:\n",
        "```bash\n",
        "export OPENAI_API_KEY=\"your-api-key-here\"\n",
        "```\n"
      ]
    },
    {
      "cell_type": "code",
      "execution_count": 1,
      "metadata": {},
      "outputs": [
        {
          "name": "stdout",
          "output_type": "stream",
          "text": [
            "🚀 Initializing Structured Output Cookbook...\n",
            "✅ System initialized successfully!\n"
          ]
        }
      ],
      "source": [
        "# Import required modules\n",
        "import os\n",
        "import json\n",
        "from structured_output_cookbook import (\n",
        "    StructuredExtractor, \n",
        "    SchemaLoader, \n",
        "    JobDescriptionSchema, \n",
        "    RecipeSchema,\n",
        "    Config\n",
        ")\n",
        "\n",
        "# Initialize the system\n",
        "print(\"🚀 Initializing Structured Output Cookbook...\")\n",
        "\n",
        "# Load configuration\n",
        "config = Config.from_env()\n",
        "extractor = StructuredExtractor(config)\n",
        "\n",
        "print(\"✅ System initialized successfully!\")\n"
      ]
    },
    {
      "cell_type": "code",
      "execution_count": 2,
      "metadata": {},
      "outputs": [
        {
          "name": "stdout",
          "output_type": "stream",
          "text": [
            "📝 Minimal logging configured - only errors will be shown\n"
          ]
        }
      ],
      "source": [
        "# 🔧 Optional: Setup minimal logging for cleaner notebook output\n",
        "from structured_output_cookbook.utils import setup_minimal_logger\n",
        "\n",
        "# This reduces log verbosity - only shows warnings and errors\n",
        "# Comment out this line if you want to see detailed logs\n",
        "setup_minimal_logger(level=\"ERROR\")  # Options: DEBUG, INFO, WARNING, ERROR, CRITICAL\n",
        "\n",
        "print(\"📝 Minimal logging configured - only errors will be shown\")\n"
      ]
    },
    {
      "cell_type": "code",
      "execution_count": null,
      "metadata": {},
      "outputs": [],
      "source": [
        "## 📝 Example 1: Using Predefined Templates\n",
        "\n",
        "The library comes with built-in templates for common extraction tasks like recipes and job descriptions.\n"
      ]
    },
    {
      "cell_type": "code",
      "execution_count": 3,
      "metadata": {},
      "outputs": [
        {
          "name": "stdout",
          "output_type": "stream",
          "text": [
            "🍝 Extracting recipe information...\n",
            "✅ Recipe extraction successful!\n",
            "\n",
            "📖 Recipe: Spaghetti Carbonara\n",
            "🍽️ Serves: 4 people\n",
            "⏱️ Total time: None\n",
            "🏷️ Difficulty: Medium\n",
            "🌍 Cuisine: Italian\n",
            "\n",
            "🛒 Ingredients (6 items):\n",
            "1. 400 g spaghetti pasta\n",
            "2. 200 g guanciale or pancetta\n",
            "3. 4 None large eggs\n",
            "4. 100 g Pecorino Romano cheese\n",
            "5. None None Freshly ground black pepper\n",
            "  ... and 1 more\n",
            "\n",
            "📊 Tokens used: 1094\n",
            "💰 Estimated cost: ~$0.0109\n"
          ]
        }
      ],
      "source": [
        "# Example 1: Recipe Extraction\n",
        "recipe_text = \"\"\"\n",
        "Spaghetti Carbonara - The Classic Italian Recipe\n",
        "\n",
        "Ingredients:\n",
        "- 400g spaghetti pasta\n",
        "- 200g guanciale or pancetta, diced\n",
        "- 4 large eggs\n",
        "- 100g Pecorino Romano cheese, grated\n",
        "- Freshly ground black pepper\n",
        "- Salt for pasta water\n",
        "\n",
        "Instructions:\n",
        "1. Bring a large pot of salted water to boil and cook spaghetti until al dente (about 8-10 minutes)\n",
        "2. While pasta cooks, fry guanciale in a large pan until crispy (about 5 minutes)\n",
        "3. In a bowl, whisk together eggs, grated cheese, and plenty of black pepper\n",
        "4. Drain pasta, reserving 1 cup of pasta water\n",
        "5. Add hot pasta to the pan with guanciale\n",
        "6. Remove from heat and quickly stir in egg mixture, adding pasta water as needed\n",
        "7. Serve immediately with extra cheese and pepper\n",
        "\n",
        "Serves 4 people. Preparation time: 10 minutes. Cooking time: 15 minutes.\n",
        "Difficulty: Medium. Cuisine: Italian.\n",
        "\"\"\"\n",
        "\n",
        "print(\"🍝 Extracting recipe information...\")\n",
        "result = extractor.extract(recipe_text, RecipeSchema)\n",
        "\n",
        "if result.success and result.data:\n",
        "    print(\"✅ Recipe extraction successful!\\n\")\n",
        "    \n",
        "    # Display key information\n",
        "    data = result.data\n",
        "    print(f\"📖 Recipe: {data.get('name', 'N/A')}\")\n",
        "    print(f\"🍽️ Serves: {data.get('servings', 'N/A')} people\")\n",
        "    print(f\"⏱️ Total time: {data.get('total_time', 'N/A')}\")\n",
        "    print(f\"🏷️ Difficulty: {data.get('difficulty', 'N/A')}\")\n",
        "    print(f\"🌍 Cuisine: {data.get('cuisine', 'N/A')}\")\n",
        "    \n",
        "    ingredients = data.get('ingredients', [])\n",
        "    print(f\"\\n🛒 Ingredients ({len(ingredients)} items):\")\n",
        "    for i, ingredient in enumerate(ingredients[:5], 1):  # Show first 5\n",
        "        name = ingredient.get('name', 'Unknown')\n",
        "        quantity = ingredient.get('quantity', '')\n",
        "        unit = ingredient.get('unit', '')\n",
        "        print(f\"  {i}. {quantity} {unit} {name}\".strip())\n",
        "    if len(ingredients) > 5:\n",
        "        print(f\"  ... and {len(ingredients) - 5} more\")\n",
        "    \n",
        "    tokens = result.tokens_used or 0\n",
        "    print(f\"\\n📊 Tokens used: {tokens}\")\n",
        "    print(f\"💰 Estimated cost: ~${(tokens * 0.00001):.4f}\")\n",
        "else:\n",
        "    print(f\"❌ Recipe extraction failed: {result.error}\")\n"
      ]
    },
    {
      "cell_type": "code",
      "execution_count": 4,
      "metadata": {},
      "outputs": [
        {
          "name": "stdout",
          "output_type": "stream",
          "text": [
            "💼 Extracting job description information...\n",
            "✅ Job extraction successful!\n",
            "\n",
            "🎯 Position: Senior Python Developer\n",
            "🏢 Company: TechCorp\n",
            "📍 Location: Remote (US timezone preferred)\n",
            "💼 Type: Full-time\n",
            "📈 Level: Senior (5+ years)\n",
            "💰 Salary: $120,000 - $150,000 per year\n",
            "🏠 Remote: Yes\n",
            "\n",
            "✅ Required Skills (6):\n",
            "  • Python programming (5+ years experience)\n",
            "  • Django or Flask frameworks\n",
            "  • PostgreSQL or MySQL databases\n",
            "  • RESTful API development\n",
            "  • Git version control\n",
            "  ... and 1 more\n",
            "\n",
            "📊 Tokens used: 851\n"
          ]
        }
      ],
      "source": [
        "# Example 2: Job Description Extraction\n",
        "job_text = \"\"\"\n",
        "Senior Python Developer - Remote Position\n",
        "\n",
        "TechCorp is seeking a Senior Python Developer to join our growing engineering team. \n",
        "This is a full-time remote position with competitive salary and excellent benefits.\n",
        "\n",
        "Location: Remote (US timezone preferred)\n",
        "Salary: $120,000 - $150,000 per year\n",
        "Experience Level: Senior (5+ years)\n",
        "\n",
        "Required Skills:\n",
        "- Python programming (5+ years experience)\n",
        "- Django or Flask frameworks\n",
        "- PostgreSQL or MySQL databases\n",
        "- RESTful API development\n",
        "- Git version control\n",
        "- Docker containerization\n",
        "\n",
        "Preferred Skills:\n",
        "- AWS cloud services\n",
        "- React.js frontend development\n",
        "- CI/CD pipelines\n",
        "- Microservices architecture\n",
        "\n",
        "Responsibilities:\n",
        "- Design and develop scalable web applications\n",
        "- Collaborate with cross-functional teams\n",
        "- Code review and mentoring junior developers\n",
        "- Participate in architecture decisions\n",
        "- Write comprehensive unit tests\n",
        "\n",
        "Benefits:\n",
        "- Health, dental, and vision insurance\n",
        "- 401(k) with company matching\n",
        "- Flexible vacation policy\n",
        "- Professional development budget\n",
        "- Home office stipend\n",
        "\n",
        "Remote work available. Apply now to join our innovative team!\n",
        "\"\"\"\n",
        "\n",
        "print(\"💼 Extracting job description information...\")\n",
        "result = extractor.extract(job_text, JobDescriptionSchema)\n",
        "\n",
        "if result.success and result.data:\n",
        "    print(\"✅ Job extraction successful!\\n\")\n",
        "    \n",
        "    data = result.data\n",
        "    print(f\"🎯 Position: {data.get('title', 'N/A')}\")\n",
        "    print(f\"🏢 Company: {data.get('company', 'N/A')}\")\n",
        "    print(f\"📍 Location: {data.get('location', 'N/A')}\")\n",
        "    print(f\"💼 Type: {data.get('employment_type', 'N/A')}\")\n",
        "    print(f\"📈 Level: {data.get('experience_level', 'N/A')}\")\n",
        "    print(f\"💰 Salary: {data.get('salary_range', 'N/A')}\")\n",
        "    print(f\"🏠 Remote: {'Yes' if data.get('remote_work') else 'No'}\")\n",
        "    \n",
        "    required_skills = data.get('required_skills', [])\n",
        "    print(f\"\\n✅ Required Skills ({len(required_skills)}):\")\n",
        "    for skill in required_skills[:5]:\n",
        "        print(f\"  • {skill}\")\n",
        "    if len(required_skills) > 5:\n",
        "        print(f\"  ... and {len(required_skills) - 5} more\")\n",
        "    \n",
        "    print(f\"\\n📊 Tokens used: {result.tokens_used}\")\n",
        "else:\n",
        "    print(f\"❌ Job extraction failed: {result.error}\")\n"
      ]
    },
    {
      "cell_type": "code",
      "execution_count": null,
      "metadata": {},
      "outputs": [],
      "source": [
        "## 🎯 Example 2: Using Custom YAML Schemas\n",
        "\n",
        "Custom schemas allow you to create specialized extraction templates for any domain. Let's explore the available schemas and use them.\n"
      ]
    },
    {
      "cell_type": "code",
      "execution_count": 4,
      "metadata": {},
      "outputs": [
        {
          "name": "stderr",
          "output_type": "stream",
          "text": [
            "\u001b[32m2025-06-29 07:21:26.322\u001b[0m | \u001b[1mINFO    \u001b[0m | \u001b[36mstructured_output_cookbook.utils.schema_loader\u001b[0m:\u001b[36mload_schema\u001b[0m:\u001b[36m102\u001b[0m - \u001b[1mLoaded schema: news_article\u001b[0m\n",
            "\u001b[32m2025-06-29 07:21:26.327\u001b[0m | \u001b[1mINFO    \u001b[0m | \u001b[36mstructured_output_cookbook.utils.schema_loader\u001b[0m:\u001b[36mload_schema\u001b[0m:\u001b[36m102\u001b[0m - \u001b[1mLoaded schema: customer_support\u001b[0m\n",
            "\u001b[32m2025-06-29 07:21:26.331\u001b[0m | \u001b[1mINFO    \u001b[0m | \u001b[36mstructured_output_cookbook.utils.schema_loader\u001b[0m:\u001b[36mload_schema\u001b[0m:\u001b[36m102\u001b[0m - \u001b[1mLoaded schema: product_review\u001b[0m\n"
          ]
        },
        {
          "name": "stdout",
          "output_type": "stream",
          "text": [
            "🗂️ Available custom schemas:\n",
            "  📋 news_article: Extract structured information from news articles\n",
            "  📋 customer_support: Extract structured information from customer support tickets or emails\n",
            "  📋 product_review: Extract structured information from product reviews\n",
            "\n",
            "✅ Found 3 custom schemas\n"
          ]
        }
      ],
      "source": [
        "# Load custom schema loader\n",
        "loader = SchemaLoader(\"../config/schemas\")\n",
        "\n",
        "# List available custom schemas\n",
        "available_schemas = loader.get_available_schemas()\n",
        "print(\"🗂️ Available custom schemas:\")\n",
        "for schema_name in available_schemas:\n",
        "    try:\n",
        "        schema = loader.load_schema(schema_name)\n",
        "        print(f\"  📋 {schema_name}: {schema.description}\")\n",
        "    except Exception as e:\n",
        "        print(f\"  ❌ {schema_name}: Error loading - {e}\")\n",
        "\n",
        "print(f\"\\n✅ Found {len(available_schemas)} custom schemas\")\n"
      ]
    },
    {
      "cell_type": "code",
      "execution_count": 5,
      "metadata": {},
      "outputs": [
        {
          "name": "stderr",
          "output_type": "stream",
          "text": [
            "\u001b[32m2025-06-29 07:21:31.276\u001b[0m | \u001b[1mINFO    \u001b[0m | \u001b[36mstructured_output_cookbook.utils.schema_loader\u001b[0m:\u001b[36mload_schema\u001b[0m:\u001b[36m102\u001b[0m - \u001b[1mLoaded schema: news_article\u001b[0m\n",
            "\u001b[32m2025-06-29 07:21:31.278\u001b[0m | \u001b[1mINFO    \u001b[0m | \u001b[36mstructured_output_cookbook.extractor\u001b[0m:\u001b[36mextract_with_yaml_schema\u001b[0m:\u001b[36m111\u001b[0m - \u001b[1mStarting extraction with YAML schema: News Article\u001b[0m\n"
          ]
        },
        {
          "name": "stdout",
          "output_type": "stream",
          "text": [
            "📰 Extracting news article information...\n"
          ]
        },
        {
          "name": "stderr",
          "output_type": "stream",
          "text": [
            "\u001b[32m2025-06-29 07:21:33.352\u001b[0m | \u001b[1mINFO    \u001b[0m | \u001b[36mstructured_output_cookbook.extractor\u001b[0m:\u001b[36mextract_with_yaml_schema\u001b[0m:\u001b[36m140\u001b[0m - \u001b[1mYAML schema extraction completed successfully\u001b[0m\n"
          ]
        },
        {
          "name": "stdout",
          "output_type": "stream",
          "text": [
            "✅ News extraction successful!\n",
            "\n",
            "📰 Headline: Apple Unveils Revolutionary iPhone 15 Pro with Titanium Design\n",
            "📝 Summary: Apple has announced the iPhone 15 Pro, featuring a titanium design and advanced AI capabilities. CEO...\n",
            "📅 Date: September 12, 2023\n",
            "✍️ Author: None\n",
            "📍 Location: Cupertino, Calif.\n",
            "\n",
            "👥 Key People: Tim Cook\n",
            "🏢 Organizations: Apple Inc.\n",
            "🏷️ Category: technology\n",
            "😊 Sentiment: positive\n",
            "\n",
            "📊 Tokens used: 677\n",
            "💰 Estimated cost: ~$0.0068\n"
          ]
        }
      ],
      "source": [
        "# Example: News Article Extraction\n",
        "news_text = \"\"\"\n",
        "Apple Unveils Revolutionary iPhone 15 Pro with Titanium Design\n",
        "\n",
        "CUPERTINO, Calif., September 12, 2023 - Apple Inc. today announced the highly anticipated \n",
        "iPhone 15 Pro, featuring a breakthrough titanium design and advanced artificial intelligence \n",
        "capabilities that set a new standard for smartphone technology.\n",
        "\n",
        "CEO Tim Cook unveiled the device during Apple's annual keynote event at Apple Park, \n",
        "highlighting the phone's industry-leading camera system, enhanced battery life, and \n",
        "revolutionary Action Button that replaces the traditional mute switch.\n",
        "\n",
        "\"The iPhone 15 Pro represents the biggest leap forward in iPhone technology since its inception,\" \n",
        "said Cook during the presentation. \"With its titanium aerospace-grade construction and \n",
        "cutting-edge A17 Pro chip, we're delivering unprecedented performance in a device that's \n",
        "lighter than ever before.\"\n",
        "\n",
        "The new smartphone, starting at $999, features a 6.1-inch display and will be available \n",
        "for pre-order this Friday, with general availability beginning September 22. Early reviews \n",
        "from technology analysts suggest the device could drive significant sales growth for Apple \n",
        "in the competitive smartphone market.\n",
        "\n",
        "Industry experts predict the iPhone 15 Pro could capture substantial market share from \n",
        "competitors, particularly in the premium smartphone segment where Apple has historically \n",
        "dominated.\n",
        "\"\"\"\n",
        "\n",
        "print(\"📰 Extracting news article information...\")\n",
        "\n",
        "try:\n",
        "    # Load the news article schema\n",
        "    news_schema = loader.load_schema(\"news_article\")\n",
        "    \n",
        "    # Perform extraction\n",
        "    result = extractor.extract_with_yaml_schema(news_text, news_schema)\n",
        "    \n",
        "    if result.success and result.data:\n",
        "        print(\"✅ News extraction successful!\\n\")\n",
        "        \n",
        "        data = result.data\n",
        "        print(f\"📰 Headline: {data.get('headline', 'N/A')}\")\n",
        "        print(f\"📝 Summary: {data.get('summary', 'N/A')[:100]}...\")\n",
        "        print(f\"📅 Date: {data.get('publication_date', 'N/A')}\")\n",
        "        print(f\"✍️ Author: {data.get('author', 'N/A')}\")\n",
        "        print(f\"📍 Location: {data.get('location', 'N/A')}\")\n",
        "        \n",
        "        key_people = data.get('key_people', [])\n",
        "        if key_people:\n",
        "            print(f\"\\n👥 Key People: {', '.join(key_people)}\")\n",
        "        \n",
        "        organizations = data.get('organizations', [])\n",
        "        if organizations:\n",
        "            print(f\"🏢 Organizations: {', '.join(organizations)}\")\n",
        "        \n",
        "        print(f\"🏷️ Category: {data.get('category', 'N/A')}\")\n",
        "        print(f\"😊 Sentiment: {data.get('sentiment', 'N/A')}\")\n",
        "        \n",
        "        tokens = result.tokens_used or 0\n",
        "        print(f\"\\n📊 Tokens used: {tokens}\")\n",
        "        print(f\"💰 Estimated cost: ~${(tokens * 0.00001):.4f}\")\n",
        "    else:\n",
        "        print(f\"❌ News extraction failed: {result.error}\")\n",
        "        \n",
        "except Exception as e:\n",
        "    print(f\"❌ Error: {e}\")\n"
      ]
    },
    {
      "cell_type": "code",
      "execution_count": 6,
      "metadata": {},
      "outputs": [
        {
          "name": "stderr",
          "output_type": "stream",
          "text": [
            "\u001b[32m2025-06-29 07:21:33.372\u001b[0m | \u001b[1mINFO    \u001b[0m | \u001b[36mstructured_output_cookbook.utils.schema_loader\u001b[0m:\u001b[36mload_schema\u001b[0m:\u001b[36m102\u001b[0m - \u001b[1mLoaded schema: product_review\u001b[0m\n",
            "\u001b[32m2025-06-29 07:21:33.374\u001b[0m | \u001b[1mINFO    \u001b[0m | \u001b[36mstructured_output_cookbook.extractor\u001b[0m:\u001b[36mextract_with_yaml_schema\u001b[0m:\u001b[36m111\u001b[0m - \u001b[1mStarting extraction with YAML schema: Product Review\u001b[0m\n"
          ]
        },
        {
          "name": "stdout",
          "output_type": "stream",
          "text": [
            "⭐ Extracting product review information...\n"
          ]
        },
        {
          "name": "stderr",
          "output_type": "stream",
          "text": [
            "\u001b[32m2025-06-29 07:21:36.318\u001b[0m | \u001b[1mINFO    \u001b[0m | \u001b[36mstructured_output_cookbook.extractor\u001b[0m:\u001b[36mextract_with_yaml_schema\u001b[0m:\u001b[36m140\u001b[0m - \u001b[1mYAML schema extraction completed successfully\u001b[0m\n"
          ]
        },
        {
          "name": "stdout",
          "output_type": "stream",
          "text": [
            "✅ Review extraction successful!\n",
            "\n",
            "📱 Product: WF-1000XM4\n",
            "🏷️ Brand: Sony\n",
            "⭐ Rating: 5\n",
            "👤 Reviewer: Sarah Johnson\n",
            "✅ Verified: Yes\n",
            "\n",
            "✅ Pros (5):\n",
            "  • Incredible noise cancellation\n",
            "  • Battery life is fantastic\n",
            "  • Sound quality is crystal clear with amazing bass\n",
            "  • Comfortable fit\n",
            "  • Quick charge feature\n",
            "\n",
            "❌ Cons (3):\n",
            "  • A bit pricey at $280\n",
            "  • Touch controls can be a bit sensitive\n",
            "  • Case is slightly bulky compared to AirPods\n",
            "\n",
            "😊 Sentiment: positive\n",
            "👍 Would Recommend: Yes\n",
            "💰 Price Mentioned: $280\n",
            "\n",
            "📊 Tokens used: 664\n"
          ]
        }
      ],
      "source": [
        "# Example: Product Review Extraction\n",
        "review_text = \"\"\"\n",
        "Amazing Wireless Earbuds - 5 Stars!\n",
        "\n",
        "By Sarah Johnson - Verified Purchase - October 15, 2023\n",
        "\n",
        "I've been using the Sony WF-1000XM4 earbuds for about 3 months now and I'm absolutely \n",
        "blown away by the quality! \n",
        "\n",
        "PROS:\n",
        "✅ Incredible noise cancellation - I can't hear anything when I'm on the subway\n",
        "✅ Battery life is fantastic - easily gets me through 8+ hours with the case\n",
        "✅ Sound quality is crystal clear with amazing bass\n",
        "✅ Comfortable fit even for long listening sessions\n",
        "✅ Quick charge feature is a lifesaver\n",
        "\n",
        "CONS:\n",
        "❌ A bit pricey at $280, but honestly worth every penny\n",
        "❌ The touch controls can be a bit sensitive sometimes\n",
        "❌ Case is slightly bulky compared to AirPods\n",
        "\n",
        "Overall, these are hands down the best wireless earbuds I've ever owned. The noise \n",
        "cancellation alone makes them worth the price. I've recommended them to all my friends \n",
        "and family. Would definitely buy again!\n",
        "\n",
        "Rating: 5/5 stars ⭐⭐⭐⭐⭐\n",
        "Would I recommend? Absolutely YES!\n",
        "\"\"\"\n",
        "\n",
        "print(\"⭐ Extracting product review information...\")\n",
        "\n",
        "try:\n",
        "    # Load the product review schema\n",
        "    review_schema = loader.load_schema(\"product_review\")\n",
        "    \n",
        "    # Perform extraction\n",
        "    result = extractor.extract_with_yaml_schema(review_text, review_schema)\n",
        "    \n",
        "    if result.success and result.data:\n",
        "        print(\"✅ Review extraction successful!\\n\")\n",
        "        \n",
        "        data = result.data\n",
        "        print(f\"📱 Product: {data.get('product_name', 'N/A')}\")\n",
        "        print(f\"🏷️ Brand: {data.get('brand', 'N/A')}\")\n",
        "        print(f\"⭐ Rating: {data.get('rating', 'N/A')}\")\n",
        "        print(f\"👤 Reviewer: {data.get('reviewer_name', 'N/A')}\")\n",
        "        print(f\"✅ Verified: {'Yes' if data.get('verified_purchase') else 'No'}\")\n",
        "        \n",
        "        pros = data.get('pros', [])\n",
        "        if pros:\n",
        "            print(f\"\\n✅ Pros ({len(pros)}):\")\n",
        "            for pro in pros:\n",
        "                print(f\"  • {pro}\")\n",
        "        \n",
        "        cons = data.get('cons', [])\n",
        "        if cons:\n",
        "            print(f\"\\n❌ Cons ({len(cons)}):\")\n",
        "            for con in cons:\n",
        "                print(f\"  • {con}\")\n",
        "        \n",
        "        print(f\"\\n😊 Sentiment: {data.get('overall_sentiment', 'N/A')}\")\n",
        "        print(f\"👍 Would Recommend: {'Yes' if data.get('would_recommend') else 'No'}\")\n",
        "        \n",
        "        price = data.get('price_mentioned')\n",
        "        if price:\n",
        "            print(f\"💰 Price Mentioned: {price}\")\n",
        "        \n",
        "        print(f\"\\n📊 Tokens used: {result.tokens_used}\")\n",
        "    else:\n",
        "        print(f\"❌ Review extraction failed: {result.error}\")\n",
        "        \n",
        "except Exception as e:\n",
        "    print(f\"❌ Error: {e}\")\n"
      ]
    },
    {
      "cell_type": "code",
      "execution_count": null,
      "metadata": {},
      "outputs": [],
      "source": [
        "## 🔍 Example 3: Schema Validation and Inspection\n",
        "\n",
        "Let's explore how to validate schemas and inspect their structure programmatically.\n"
      ]
    },
    {
      "cell_type": "code",
      "execution_count": 7,
      "metadata": {},
      "outputs": [
        {
          "name": "stderr",
          "output_type": "stream",
          "text": [
            "\u001b[32m2025-06-29 07:21:36.336\u001b[0m | \u001b[1mINFO    \u001b[0m | \u001b[36mstructured_output_cookbook.utils.schema_loader\u001b[0m:\u001b[36mload_schema\u001b[0m:\u001b[36m102\u001b[0m - \u001b[1mLoaded schema: news_article\u001b[0m\n",
            "\u001b[32m2025-06-29 07:21:36.342\u001b[0m | \u001b[1mINFO    \u001b[0m | \u001b[36mstructured_output_cookbook.utils.schema_loader\u001b[0m:\u001b[36mload_schema\u001b[0m:\u001b[36m102\u001b[0m - \u001b[1mLoaded schema: news_article\u001b[0m\n",
            "\u001b[32m2025-06-29 07:21:36.347\u001b[0m | \u001b[1mINFO    \u001b[0m | \u001b[36mstructured_output_cookbook.utils.schema_loader\u001b[0m:\u001b[36mload_schema\u001b[0m:\u001b[36m102\u001b[0m - \u001b[1mLoaded schema: customer_support\u001b[0m\n",
            "\u001b[32m2025-06-29 07:21:36.352\u001b[0m | \u001b[1mINFO    \u001b[0m | \u001b[36mstructured_output_cookbook.utils.schema_loader\u001b[0m:\u001b[36mload_schema\u001b[0m:\u001b[36m102\u001b[0m - \u001b[1mLoaded schema: customer_support\u001b[0m\n",
            "\u001b[32m2025-06-29 07:21:36.357\u001b[0m | \u001b[1mINFO    \u001b[0m | \u001b[36mstructured_output_cookbook.utils.schema_loader\u001b[0m:\u001b[36mload_schema\u001b[0m:\u001b[36m102\u001b[0m - \u001b[1mLoaded schema: product_review\u001b[0m\n",
            "\u001b[32m2025-06-29 07:21:36.362\u001b[0m | \u001b[1mINFO    \u001b[0m | \u001b[36mstructured_output_cookbook.utils.schema_loader\u001b[0m:\u001b[36mload_schema\u001b[0m:\u001b[36m102\u001b[0m - \u001b[1mLoaded schema: product_review\u001b[0m\n"
          ]
        },
        {
          "name": "stdout",
          "output_type": "stream",
          "text": [
            "🔍 Validating all available schemas...\n",
            "\n",
            "📋 Schema: news_article\n",
            "   Status: ✅ Valid\n",
            "   Name: News Article\n",
            "   Description: Extract structured information from news articles\n",
            "   Properties: 9 total, 9 required\n",
            "   Key fields:\n",
            "     • headline: string (required)\n",
            "     • summary: string (required)\n",
            "     • publication_date: ['string', 'null'] (required)\n",
            "     ... and 6 more\n",
            "\n",
            "📋 Schema: customer_support\n",
            "   Status: ✅ Valid\n",
            "   Name: Customer Support Ticket\n",
            "   Description: Extract structured information from customer support tickets or emails\n",
            "   Properties: 12 total, 12 required\n",
            "   Key fields:\n",
            "     • ticket_id: ['string', 'null'] (required)\n",
            "     • customer_name: ['string', 'null'] (required)\n",
            "     • customer_email: ['string', 'null'] (required)\n",
            "     ... and 9 more\n",
            "\n",
            "📋 Schema: product_review\n",
            "   Status: ✅ Valid\n",
            "   Name: Product Review\n",
            "   Description: Extract structured information from product reviews\n",
            "   Properties: 11 total, 11 required\n",
            "   Key fields:\n",
            "     • product_name: string (required)\n",
            "     • brand: ['string', 'null'] (required)\n",
            "     • rating: ['number', 'null'] (required)\n",
            "     ... and 8 more\n",
            "\n"
          ]
        }
      ],
      "source": [
        "# Schema validation and inspection\n",
        "print(\"🔍 Validating all available schemas...\\n\")\n",
        "\n",
        "for schema_name in available_schemas:\n",
        "    print(f\"📋 Schema: {schema_name}\")\n",
        "    \n",
        "    # Validate schema structure\n",
        "    is_valid, error = loader.validate_schema_structure(schema_name)\n",
        "    status = \"✅ Valid\" if is_valid else f\"❌ Invalid: {error}\"\n",
        "    print(f\"   Status: {status}\")\n",
        "    \n",
        "    if is_valid:\n",
        "        try:\n",
        "            # Load and inspect schema\n",
        "            schema = loader.load_schema(schema_name)\n",
        "            \n",
        "            print(f\"   Name: {schema.name}\")\n",
        "            print(f\"   Description: {schema.description}\")\n",
        "            \n",
        "            # Count properties\n",
        "            properties = schema.schema.get('properties', {})\n",
        "            required = schema.schema.get('required', [])\n",
        "            \n",
        "            print(f\"   Properties: {len(properties)} total, {len(required)} required\")\n",
        "            \n",
        "            # Show some properties\n",
        "            if properties:\n",
        "                print(\"   Key fields:\")\n",
        "                for prop_name, prop_def in list(properties.items())[:3]:\n",
        "                    prop_type = prop_def.get('type', 'unknown')\n",
        "                    is_required = prop_name in required\n",
        "                    req_mark = \" (required)\" if is_required else \"\"\n",
        "                    print(f\"     • {prop_name}: {prop_type}{req_mark}\")\n",
        "                \n",
        "                if len(properties) > 3:\n",
        "                    print(f\"     ... and {len(properties) - 3} more\")\n",
        "            \n",
        "        except Exception as e:\n",
        "            print(f\"   ❌ Error loading schema: {e}\")\n",
        "    \n",
        "    print()  # Empty line for readability\n"
      ]
    },
    {
      "cell_type": "code",
      "execution_count": null,
      "metadata": {},
      "outputs": [],
      "source": [
        "## 📊 Example 4: Batch Processing and Analysis\n",
        "\n",
        "Let's process multiple texts and analyze the results.\n"
      ]
    },
    {
      "cell_type": "code",
      "execution_count": 8,
      "metadata": {},
      "outputs": [
        {
          "name": "stderr",
          "output_type": "stream",
          "text": [
            "\u001b[32m2025-06-29 07:21:36.445\u001b[0m | \u001b[1mINFO    \u001b[0m | \u001b[36mstructured_output_cookbook.utils.schema_loader\u001b[0m:\u001b[36mload_schema\u001b[0m:\u001b[36m102\u001b[0m - \u001b[1mLoaded schema: product_review\u001b[0m\n",
            "\u001b[32m2025-06-29 07:21:36.447\u001b[0m | \u001b[1mINFO    \u001b[0m | \u001b[36mstructured_output_cookbook.extractor\u001b[0m:\u001b[36mextract_with_yaml_schema\u001b[0m:\u001b[36m111\u001b[0m - \u001b[1mStarting extraction with YAML schema: Product Review\u001b[0m\n"
          ]
        },
        {
          "name": "stdout",
          "output_type": "stream",
          "text": [
            "📊 Processing multiple product reviews...\n",
            "\n",
            "Processing review 1/4...\n"
          ]
        },
        {
          "name": "stderr",
          "output_type": "stream",
          "text": [
            "\u001b[32m2025-06-29 07:21:37.869\u001b[0m | \u001b[1mINFO    \u001b[0m | \u001b[36mstructured_output_cookbook.extractor\u001b[0m:\u001b[36mextract_with_yaml_schema\u001b[0m:\u001b[36m140\u001b[0m - \u001b[1mYAML schema extraction completed successfully\u001b[0m\n",
            "\u001b[32m2025-06-29 07:21:37.870\u001b[0m | \u001b[1mINFO    \u001b[0m | \u001b[36mstructured_output_cookbook.extractor\u001b[0m:\u001b[36mextract_with_yaml_schema\u001b[0m:\u001b[36m111\u001b[0m - \u001b[1mStarting extraction with YAML schema: Product Review\u001b[0m\n"
          ]
        },
        {
          "name": "stdout",
          "output_type": "stream",
          "text": [
            "  ✅ Rating: 5, Sentiment: positive, Recommend: True\n",
            "Processing review 2/4...\n"
          ]
        },
        {
          "name": "stderr",
          "output_type": "stream",
          "text": [
            "\u001b[32m2025-06-29 07:21:39.310\u001b[0m | \u001b[1mINFO    \u001b[0m | \u001b[36mstructured_output_cookbook.extractor\u001b[0m:\u001b[36mextract_with_yaml_schema\u001b[0m:\u001b[36m140\u001b[0m - \u001b[1mYAML schema extraction completed successfully\u001b[0m\n",
            "\u001b[32m2025-06-29 07:21:39.312\u001b[0m | \u001b[1mINFO    \u001b[0m | \u001b[36mstructured_output_cookbook.extractor\u001b[0m:\u001b[36mextract_with_yaml_schema\u001b[0m:\u001b[36m111\u001b[0m - \u001b[1mStarting extraction with YAML schema: Product Review\u001b[0m\n"
          ]
        },
        {
          "name": "stdout",
          "output_type": "stream",
          "text": [
            "  ✅ Rating: 3, Sentiment: mixed, Recommend: None\n",
            "Processing review 3/4...\n"
          ]
        },
        {
          "name": "stderr",
          "output_type": "stream",
          "text": [
            "\u001b[32m2025-06-29 07:21:40.403\u001b[0m | \u001b[1mINFO    \u001b[0m | \u001b[36mstructured_output_cookbook.extractor\u001b[0m:\u001b[36mextract_with_yaml_schema\u001b[0m:\u001b[36m140\u001b[0m - \u001b[1mYAML schema extraction completed successfully\u001b[0m\n",
            "\u001b[32m2025-06-29 07:21:40.405\u001b[0m | \u001b[1mINFO    \u001b[0m | \u001b[36mstructured_output_cookbook.extractor\u001b[0m:\u001b[36mextract_with_yaml_schema\u001b[0m:\u001b[36m111\u001b[0m - \u001b[1mStarting extraction with YAML schema: Product Review\u001b[0m\n"
          ]
        },
        {
          "name": "stdout",
          "output_type": "stream",
          "text": [
            "  ✅ Rating: 1, Sentiment: negative, Recommend: False\n",
            "Processing review 4/4...\n"
          ]
        },
        {
          "name": "stderr",
          "output_type": "stream",
          "text": [
            "\u001b[32m2025-06-29 07:21:41.541\u001b[0m | \u001b[1mINFO    \u001b[0m | \u001b[36mstructured_output_cookbook.extractor\u001b[0m:\u001b[36mextract_with_yaml_schema\u001b[0m:\u001b[36m140\u001b[0m - \u001b[1mYAML schema extraction completed successfully\u001b[0m\n"
          ]
        },
        {
          "name": "stdout",
          "output_type": "stream",
          "text": [
            "  ✅ Rating: 5, Sentiment: positive, Recommend: True\n",
            "\n",
            "📈 Batch Processing Summary:\n",
            "  📝 Reviews processed: 4\n",
            "  ✅ Successful extractions: 4\n",
            "  📊 Total tokens used: 1633\n",
            "  💰 Total estimated cost: ~$0.0163\n",
            "\n",
            "🔍 Analysis of Results:\n",
            "  😊 Sentiment distribution:\n",
            "    • positive: 2\n",
            "    • mixed: 1\n",
            "    • negative: 1\n",
            "  ⭐ Average rating: 3.5/5\n",
            "  👍 Recommendation rate: 66.7%\n"
          ]
        }
      ],
      "source": [
        "# Batch processing example\n",
        "sample_reviews = [\n",
        "    \"Great product! Love the design and functionality. 5 stars! - John D.\",\n",
        "    \"Okay product but overpriced. Works as expected but nothing special. 3/5 - Mary S.\", \n",
        "    \"Terrible quality. Broke after 2 weeks. Don't waste your money! 1 star - Bob K.\",\n",
        "    \"Excellent value for money. Highly recommend this product! ⭐⭐⭐⭐⭐ - Lisa M.\"\n",
        "]\n",
        "\n",
        "print(\"📊 Processing multiple product reviews...\\n\")\n",
        "\n",
        "# Load review schema\n",
        "review_schema = loader.load_schema(\"product_review\")\n",
        "\n",
        "results = []\n",
        "total_tokens = 0\n",
        "\n",
        "for i, review_text in enumerate(sample_reviews, 1):\n",
        "    print(f\"Processing review {i}/{len(sample_reviews)}...\")\n",
        "    \n",
        "    try:\n",
        "        result = extractor.extract_with_yaml_schema(review_text, review_schema)\n",
        "        \n",
        "        if result.success and result.data:\n",
        "            results.append(result.data)\n",
        "            total_tokens += result.tokens_used or 0\n",
        "            \n",
        "            rating = result.data.get('rating', 'N/A')\n",
        "            sentiment = result.data.get('overall_sentiment', 'N/A')\n",
        "            recommend = result.data.get('would_recommend', False)\n",
        "            \n",
        "            print(f\"  ✅ Rating: {rating}, Sentiment: {sentiment}, Recommend: {recommend}\")\n",
        "        else:\n",
        "            print(f\"  ❌ Failed: {result.error}\")\n",
        "            \n",
        "    except Exception as e:\n",
        "        print(f\"  ❌ Error: {e}\")\n",
        "\n",
        "print(f\"\\n📈 Batch Processing Summary:\")\n",
        "print(f\"  📝 Reviews processed: {len(sample_reviews)}\")\n",
        "print(f\"  ✅ Successful extractions: {len(results)}\")\n",
        "print(f\"  📊 Total tokens used: {total_tokens}\")\n",
        "print(f\"  💰 Total estimated cost: ~${(total_tokens * 0.00001):.4f}\")\n",
        "\n",
        "# Analyze results\n",
        "if results:\n",
        "    print(f\"\\n🔍 Analysis of Results:\")\n",
        "    \n",
        "    # Count sentiments\n",
        "    sentiments = [r.get('overall_sentiment') for r in results if r.get('overall_sentiment')]\n",
        "    if sentiments:\n",
        "        from collections import Counter\n",
        "        sentiment_counts = Counter(sentiments)\n",
        "        print(f\"  😊 Sentiment distribution:\")\n",
        "        for sentiment, count in sentiment_counts.items():\n",
        "            print(f\"    • {sentiment}: {count}\")\n",
        "    \n",
        "    # Average rating (if available)\n",
        "    ratings = [r.get('rating') for r in results if r.get('rating') and isinstance(r.get('rating'), (int, float))]\n",
        "    if ratings:\n",
        "        avg_rating = sum(ratings) / len(ratings)\n",
        "        print(f\"  ⭐ Average rating: {avg_rating:.1f}/5\")\n",
        "    \n",
        "    # Recommendation rate\n",
        "    recommendations = [r.get('would_recommend') for r in results if r.get('would_recommend') is not None]\n",
        "    if recommendations:\n",
        "        recommend_rate = sum(recommendations) / len(recommendations) * 100\n",
        "        print(f\"  👍 Recommendation rate: {recommend_rate:.1f}%\")\n"
      ]
    },
    {
      "cell_type": "code",
      "execution_count": null,
      "metadata": {},
      "outputs": [],
      "source": [
        "## 🛠️ Example 5: Creating a Custom Schema\n",
        "\n",
        "Here's how you can create your own custom YAML schema for specific extraction needs.\n"
      ]
    },
    {
      "cell_type": "code",
      "execution_count": 9,
      "metadata": {},
      "outputs": [
        {
          "name": "stdout",
          "output_type": "stream",
          "text": [
            "🛠️ Custom Schema Example:\n",
            "To create a custom schema, save the above YAML structure to:\n",
            "📁 config/schemas/meeting_minutes.yaml\n",
            "\n",
            "📋 Schema Structure Overview:\n",
            "  • name: Human-readable schema name\n",
            "  • description: Brief description of what it extracts\n",
            "  • system_prompt: Instructions for the LLM\n",
            "  • schema: JSON Schema definition with properties and validation\n",
            "\n",
            "🎯 Key Requirements:\n",
            "  • Must have type: 'object' with properties\n",
            "  • Include required fields array\n",
            "  • Set additionalProperties: false for strict validation\n",
            "  • Use descriptive field descriptions\n"
          ]
        }
      ],
      "source": [
        "# Example: Custom schema structure (for reference)\n",
        "custom_schema_example = \"\"\"\n",
        "# Meeting Minutes Extraction Schema\n",
        "name: \"Meeting Minutes\"\n",
        "description: \"Extract structured information from meeting minutes and notes\"\n",
        "\n",
        "# System prompt for extraction\n",
        "system_prompt: |\n",
        "  Extract structured information from the following meeting minutes.\n",
        "  Focus on identifying:\n",
        "  - Meeting details (date, attendees, duration)\n",
        "  - Key decisions and action items\n",
        "  - Discussion topics and outcomes\n",
        "  \n",
        "  If information is not available, leave fields as null or empty arrays.\n",
        "\n",
        "# JSON Schema definition\n",
        "schema:\n",
        "  type: object\n",
        "  properties:\n",
        "    meeting_title:\n",
        "      type: string\n",
        "      description: \"Title or subject of the meeting\"\n",
        "    date:\n",
        "      type: [\"string\", \"null\"]\n",
        "      description: \"Meeting date\"\n",
        "    attendees:\n",
        "      type: array\n",
        "      items:\n",
        "        type: string\n",
        "      description: \"List of meeting attendees\"\n",
        "    duration:\n",
        "      type: [\"string\", \"null\"]\n",
        "      description: \"Meeting duration\"\n",
        "    decisions:\n",
        "      type: array\n",
        "      items:\n",
        "        type: string\n",
        "      description: \"Key decisions made during the meeting\"\n",
        "    action_items:\n",
        "      type: array\n",
        "      items:\n",
        "        type: object\n",
        "        properties:\n",
        "          task:\n",
        "            type: string\n",
        "            description: \"Description of the action item\"\n",
        "          assignee:\n",
        "            type: [\"string\", \"null\"]\n",
        "            description: \"Person assigned to the task\"\n",
        "          deadline:\n",
        "            type: [\"string\", \"null\"]\n",
        "            description: \"Deadline for the task\"\n",
        "        required: [\"task\"]\n",
        "      description: \"Action items from the meeting\"\n",
        "    topics_discussed:\n",
        "      type: array\n",
        "      items:\n",
        "        type: string\n",
        "      description: \"Main topics discussed in the meeting\"\n",
        "  required: [\"meeting_title\", \"attendees\", \"decisions\", \"action_items\", \"topics_discussed\"]\n",
        "  additionalProperties: false\n",
        "\"\"\"\n",
        "\n",
        "print(\"🛠️ Custom Schema Example:\")\n",
        "print(\"To create a custom schema, save the above YAML structure to:\")\n",
        "print(\"📁 config/schemas/meeting_minutes.yaml\")\n",
        "print()\n",
        "print(\"📋 Schema Structure Overview:\")\n",
        "print(\"  • name: Human-readable schema name\")\n",
        "print(\"  • description: Brief description of what it extracts\") \n",
        "print(\"  • system_prompt: Instructions for the LLM\")\n",
        "print(\"  • schema: JSON Schema definition with properties and validation\")\n",
        "print()\n",
        "print(\"🎯 Key Requirements:\")\n",
        "print(\"  • Must have type: 'object' with properties\")\n",
        "print(\"  • Include required fields array\")\n",
        "print(\"  • Set additionalProperties: false for strict validation\")\n",
        "print(\"  • Use descriptive field descriptions\")\n"
      ]
    },
    {
      "cell_type": "code",
      "execution_count": null,
      "metadata": {},
      "outputs": [],
      "source": []
    }
  ],
  "metadata": {
    "kernelspec": {
      "display_name": ".venv",
      "language": "python",
      "name": "python3"
    },
    "language_info": {
      "codemirror_mode": {
        "name": "ipython",
        "version": 3
      },
      "file_extension": ".py",
      "mimetype": "text/x-python",
      "name": "python",
      "nbconvert_exporter": "python",
      "pygments_lexer": "ipython3",
      "version": "3.13.5"
    }
  },
  "nbformat": 4,
  "nbformat_minor": 2
}
