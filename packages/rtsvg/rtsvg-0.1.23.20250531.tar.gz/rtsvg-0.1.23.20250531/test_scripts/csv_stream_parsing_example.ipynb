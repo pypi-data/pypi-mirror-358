{
 "cells": [
  {
   "cell_type": "code",
   "execution_count": null,
   "metadata": {},
   "outputs": [],
   "source": [
    "import os\n",
    "import csv\n",
    "import zipfile\n",
    "\n",
    "#\n",
    "# Examples from Google's AI Overview\n",
    "#\n",
    "\n",
    "# Example for a csv file\n",
    "#with open('large_file.csv', 'r') as file:\n",
    "#    csv_reader = csv.reader(file)\n",
    "#    for row in csv_reader:\n",
    "#        # Process each row as it is read\n",
    "#        print(row)\n",
    "\n",
    "# Example for csv file inside a zip file\n",
    "def stream_csv_from_zip(zip_file_path, csv_file_name):\n",
    "    with zipfile.ZipFile(zip_file_path, 'r') as zip_file:\n",
    "        with zip_file.open(csv_file_name, 'r') as csv_file:\n",
    "            csv_reader = csv.reader(csv_file.read().decode('utf-8').splitlines())\n",
    "            header = next(csv_reader)\n",
    "            yield header\n",
    "            for row in csv_reader:\n",
    "                yield row\n"
   ]
  },
  {
   "cell_type": "code",
   "execution_count": null,
   "metadata": {},
   "outputs": [],
   "source": [
    "my_zip_file = '../../data/2013_vast_challenge/orig_files/VAST2013MC3_NetworkFlow.zip'\n",
    "with zipfile.ZipFile(my_zip_file, 'r') as zip_ref:\n",
    "    for file in zip_ref.namelist():\n",
    "        print(file)\n",
    "my_csv_file = 'nf/nf-chunk1.csv'"
   ]
  },
  {
   "cell_type": "code",
   "execution_count": null,
   "metadata": {},
   "outputs": [],
   "source": [
    "if my_csv_file is not None:\n",
    "    row_counts = 0\n",
    "    for row in stream_csv_from_zip(my_zip_file, my_csv_file):\n",
    "        if row_counts <= 1: print(row) # print header and first row\n",
    "        row_counts += 1\n",
    "    print(row_counts)"
   ]
  },
  {
   "cell_type": "code",
   "execution_count": null,
   "metadata": {},
   "outputs": [],
   "source": [
    "import json\n",
    "def processJSON(json_file, zip_ref):\n",
    "    with zip_ref.open(json_file, 'r') as f:\n",
    "        json_data = json.loads(f.read())\n",
    "    print(f'json = {json_data}')\n",
    "\n",
    "def processCSV(csv_file, zip_ref):\n",
    "    with zip_ref.open(csv_file, 'r') as f:\n",
    "        csv_reader = csv.reader(f.read().decode('utf-8').splitlines())\n",
    "        header = next(csv_reader)\n",
    "        for row in csv_reader:\n",
    "            print(row)\n",
    "\n",
    "def processZipStream(zip_file, parent_zip=None, indent=0):\n",
    "    if parent_zip is None:\n",
    "        with zipfile.ZipFile(zip_file, 'r') as zip_ref:\n",
    "            for file in zip_ref.namelist():\n",
    "                print(f'**\\n** {file}\\n**')\n",
    "                if   file.endswith('.json'): processJSON     (file, zip_ref)\n",
    "                elif file.endswith('.csv'):  processCSV      (file, zip_ref)\n",
    "                elif file.endswith('.zip'):  processZipStream(file, zip_ref, indent+1)\n",
    "    else:\n",
    "        with parent_zip.open(zip_file, 'r') as nested_zip_file:\n",
    "            with zipfile.ZipFile(nested_zip_file, 'r') as inner_zip:\n",
    "                for inner_file_info in inner_zip.infolist():\n",
    "                    print(' ' * indent + inner_file_info.filename)\n",
    "                    if   inner_file_info.filename.endswith('.json'): processJSON     (inner_file_info.filename, inner_zip)\n",
    "                    elif inner_file_info.filename.endswith('.csv'):  processCSV      (inner_file_info.filename, inner_zip)\n",
    "                    elif inner_file_info.filename.endswith('.zip'):  processZipStream(inner_file_info.filename, inner_zip, indent+1)\n",
    "\n",
    "processZipStream('../../tmp/fourth.zip')"
   ]
  },
  {
   "cell_type": "code",
   "execution_count": null,
   "metadata": {},
   "outputs": [],
   "source": []
  }
 ],
 "metadata": {
  "kernelspec": {
   "display_name": ".venv",
   "language": "python",
   "name": "python3"
  },
  "language_info": {
   "codemirror_mode": {
    "name": "ipython",
    "version": 3
   },
   "file_extension": ".py",
   "mimetype": "text/x-python",
   "name": "python",
   "nbconvert_exporter": "python",
   "pygments_lexer": "ipython3",
   "version": "3.12.3"
  }
 },
 "nbformat": 4,
 "nbformat_minor": 2
}
