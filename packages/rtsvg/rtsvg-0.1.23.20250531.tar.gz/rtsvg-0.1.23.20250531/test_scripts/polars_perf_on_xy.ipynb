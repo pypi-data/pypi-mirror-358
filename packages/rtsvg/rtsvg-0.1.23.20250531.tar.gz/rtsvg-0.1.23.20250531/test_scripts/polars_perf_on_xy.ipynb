{
 "cells": [
  {
   "cell_type": "code",
   "execution_count": null,
   "metadata": {},
   "outputs": [],
   "source": [
    "#\n",
    "# Replicates xy creation for polars dataframe\n",
    "# ... amd 7900x / 32G ram\n",
    "# ... Python 3.11.6\n",
    "#\n",
    "import polars as pl\n",
    "import numpy as np\n",
    "import time\n",
    "from rtsvg import *\n",
    "rt = RACETrack()\n",
    "ts0 = time.time()\n",
    "# ... 46,138,310 netflow records\n",
    "df = pl.concat([pl.read_csv('../../data/2013_vast_challenge/mc3_netflow/nf/nf-chunk1.csv'),\n",
    "                pl.read_csv('../../data/2013_vast_challenge/mc3_netflow/nf/nf-chunk2.csv'),\n",
    "                pl.read_csv('../../data/2013_vast_challenge/mc3_netflow/nf/nf-chunk3.csv')])\n",
    "ts1 = time.time()\n",
    "df = rt.columnsAreTimestamps(df, 'parsedDate')\n",
    "ts2 = time.time()\n",
    "# 13.0s load ... 0.5s fix time\n",
    "#  7.0s load ... 0.6s fix time\n",
    "#  6.8s load ... 0.5s fix time\n",
    "print(f'Load time = {ts1-ts0:0.2f}s | Column fix time = {ts2-ts1:0.2f}s | {len(df)}') "
   ]
  },
  {
   "cell_type": "code",
   "execution_count": null,
   "metadata": {},
   "outputs": [],
   "source": [
    "#\n",
    "# Axis Creation Time\n",
    "#\n",
    "ts3 = time.time()\n",
    "df, x_is_time, x_label_min, x_label_max, xT, x_order, x_min, x_max = rt.xyCreateAxisColumn(df, 'parsedDate',               False, 'x_norm')\n",
    "ts4 = time.time()\n",
    "df, y_is_time, y_label_min, y_label_max, yT, y_order, y_min, y_max = rt.xyCreateAxisColumn(df, 'firstSeenSrcIp',           False, 'y_norm')\n",
    "ts5 = time.time()\n",
    "df, z_is_time, z_label_min, z_label_max, zT, z_order, z_min, z_max = rt.xyCreateAxisColumn(df, 'firstSeenSrcPayloadBytes', False, 'z_norm')\n",
    "ts6 = time.time()\n",
    "# x-axs | y-axs | z-axs ... categoricals take the longest...\n",
    "# ======|=======|======\n",
    "# 0.37s | 2.49s | 1.21s\n",
    "# 0.40s | 2.55s | 1.25s\n",
    "# 0.37s | 2.51s | 1.29s\n",
    "print(f'x_axis = {ts4-ts3:0.2f}s | y_axis = {ts5-ts4:0.2f}s | z_axis = {ts6-ts5:0.2f}s')"
   ]
  },
  {
   "cell_type": "code",
   "execution_count": null,
   "metadata": {},
   "outputs": [],
   "source": [
    "ts7 = time.time()\n",
    "df = df.with_columns((10 + pl.col('x_norm')*512).alias(\"x_norm_px\"))\n",
    "df = df.with_columns([pl.col('x_norm_px').cast(pl.Int32)])\n",
    "ts8 = time.time()\n",
    "df = df.with_columns((10 + pl.col('y_norm')*512).alias(\"y_norm_px\"))\n",
    "df = df.with_columns([pl.col('y_norm_px').cast(pl.Int32)])\n",
    "ts9 = time.time()\n",
    "df = df.with_columns((522 - pl.col('z_norm')*512).alias(\"z_norm_px\"))\n",
    "ts10 = time.time()\n",
    "# x-axs | y-axs | z-axs  ### Pixel alignment takes twice as long...\n",
    "# ======|=======|======\n",
    "# 0.25s | 0.25s | 0.12s\n",
    "print(f'x_axis = {ts8-ts7:0.2f}s | y_axis = {ts9-ts8:0.2f}s | z_axis = {ts10-ts9:0.2f}s')"
   ]
  },
  {
   "cell_type": "code",
   "execution_count": null,
   "metadata": {},
   "outputs": [],
   "source": [
    "ts11 = time.time()\n",
    "gb = df.group_by(['x_norm_px','y_norm_px'])\n",
    "ts12 = time.time()\n",
    "for k, k_df in gb:\n",
    "    pass\n",
    "ts13 = time.time()\n",
    "# groupby | loop\n",
    "# ========|=======\n",
    "# 0.01s   | 5.58s\n",
    "# 0.00s   | 5.51s\n",
    "print(f'groupby = {ts12-ts11:0.2f} | loop = {ts13-ts12:0.2f}s')"
   ]
  },
  {
   "cell_type": "code",
   "execution_count": null,
   "metadata": {},
   "outputs": [],
   "source": [
    "ts14 = time.time()\n",
    "pb = df.partition_by(['x_norm_px','y_norm_px'], as_dict=True)\n",
    "ts15 = time.time()\n",
    "pixels = 0\n",
    "for x in pb.keys():\n",
    "    pixels += 1\n",
    "ts16 = time.time()\n",
    "# partition_by | loop\n",
    "# =============|=======\n",
    "#  2.55s       | 0.00s\n",
    "# 12.29s       | 0.00s # re-run always takes +10s more... don't know why...\n",
    "#  2.56s       | 0.00s (107,563 pixels)\n",
    "# 12.38s       | 0.00s\n",
    "print(f'partition_by = {ts15-ts14:0.2f} | loop = {ts16-ts15:0.2f} | px = {pixels}')"
   ]
  },
  {
   "cell_type": "code",
   "execution_count": null,
   "metadata": {},
   "outputs": [],
   "source": [
    "ts17 = time.time()\n",
    "px_only = df.group_by(['x_norm_px','y_norm_px']).agg(pl.count())\n",
    "ts18 = time.time()\n",
    "pixels = 0\n",
    "for i in range(len(px_only)):\n",
    "    pixels += 1\n",
    "ts19 = time.time()\n",
    "print(f'group_by = {ts18-ts17:0.2f} | loop = {ts19-ts18:0.2f} | px = {pixels}')\n",
    "# group_by | loop\n",
    "# =========|=======\n",
    "# 0.19s    | 0.00s (107,563 pixels)\n",
    "# 0.18s    | 0.00s"
   ]
  },
  {
   "cell_type": "code",
   "execution_count": null,
   "metadata": {},
   "outputs": [],
   "source": []
  }
 ],
 "metadata": {
  "kernelspec": {
   "display_name": ".venv",
   "language": "python",
   "name": "python3"
  },
  "language_info": {
   "codemirror_mode": {
    "name": "ipython",
    "version": 3
   },
   "file_extension": ".py",
   "mimetype": "text/x-python",
   "name": "python",
   "nbconvert_exporter": "python",
   "pygments_lexer": "ipython3",
   "version": "3.12.3"
  }
 },
 "nbformat": 4,
 "nbformat_minor": 2
}
