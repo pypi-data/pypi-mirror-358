{
 "cells": [
  {
   "cell_type": "code",
   "execution_count": null,
   "metadata": {},
   "outputs": [],
   "source": [
    "# Takes the output from routing_3.ipynb and works on the routing portion of it\n",
    "import polars as pl\n",
    "import numpy as np\n",
    "import networkx as nx\n",
    "from rt_bundled_ego_chord_diagram import RTBundledEgoChordDiagram\n",
    "import rtsvg\n",
    "rt = rtsvg.RACETrack()\n",
    "\n",
    "edges_filename  = '../../data/stanford/facebook/1684.edges'\n",
    "_lu_ = {'fm':[], 'to':[]}\n",
    "for _edge_ in open(edges_filename, 'rt').read().split('\\n'):\n",
    "    if _edge_ == '': continue\n",
    "    _split_     = _edge_.split()\n",
    "    _fm_, _to_  = _split_[0], _split_[1]\n",
    "    _lu_['fm'].append(_fm_), _lu_['to'].append(_to_)\n",
    "df = pl.DataFrame(_lu_)\n",
    "# Only Keep The Largest Component\n",
    "g = rt.createNetworkXGraph(df, [('fm','to')])\n",
    "comp_largest = None\n",
    "for _comp_ in nx.connected_components(g):\n",
    "    if comp_largest is None:            comp_largest = _comp_\n",
    "    if len(_comp_) > len(comp_largest): comp_largest = _comp_\n",
    "df = df.filter(pl.col('fm').is_in(comp_largest) & pl.col('to').is_in(comp_largest))\n",
    "_relates_ = [('fm','to')]\n",
    "'''\n",
    "import os\n",
    "_dir_   = '../../data/2013_vast_challenge/mc3_netflow/nf'\n",
    "_files_ = os.listdir(_dir_)\n",
    "_dfs_   = []\n",
    "for _file_ in _files_:\n",
    "    _dfs_.append(pl.read_csv(_dir_ + '/' + _file_))\n",
    "    break\n",
    "df = pl.concat(_dfs_) # .sample(50_000)\n",
    "_relates_ = [('firstSeenSrcIp', 'firstSeenDestIp')]\n",
    "'''\n",
    "df.shape, len(set(df['fm']) | set(df['to']))"
   ]
  },
  {
   "cell_type": "code",
   "execution_count": null,
   "metadata": {},
   "outputs": [],
   "source": [
    "becd = RTBundledEgoChordDiagram(rt, df, _relates_, high_degree_node_count=25, chord_diagram_points=2, w=1500, h=900)\n",
    "# rt.link(becd.df_routing, [('__fm__','__to__')], becd.pos_routing, node_size='small', w=1500, h=900)\n",
    "becd"
   ]
  },
  {
   "cell_type": "code",
   "execution_count": null,
   "metadata": {},
   "outputs": [],
   "source": [
    "rt.tile([becd.outlineSVG(render_inter_edges=False)])"
   ]
  },
  {
   "cell_type": "code",
   "execution_count": null,
   "metadata": {},
   "outputs": [],
   "source": [
    "def pivot(_lu_):\n",
    "    df_lu = {'bin':[],'__count__':[]}\n",
    "    for k in _lu_: df_lu['bin'].append(k), df_lu['__count__'].append(_lu_[k])\n",
    "    return pl.DataFrame(df_lu)\n",
    "rt.histogram(pivot(becd.time_lu), bin_by='bin', count_by='__count__', w=512)"
   ]
  },
  {
   "cell_type": "code",
   "execution_count": null,
   "metadata": {},
   "outputs": [],
   "source": [
    "'''\n",
    "_tiles_ = []\n",
    "for _fm_ in set(becd.df_aligned_btwn_communities_collapsed['__fm__']):\n",
    "    _max_ = 1\n",
    "    svgs = [f'<svg x=\"0\" y=\"0\" width=\"{becd.w}\" height=\"{becd.h}\"><rect x=\"0\" y=\"0\" width=\"{becd.w}\" height=\"{becd.h}\" fill=\"#ffffff\"/>']\n",
    "    for _segment_ in becd.segment_contains_tree:\n",
    "        _xy0_, _xy1_ = becd.pos_routing[_segment_[0]], becd.pos_routing[_segment_[1]]\n",
    "        svgs.append(f'<line x1=\"{_xy0_[0]}\" y1=\"{_xy0_[1]}\" x2=\"{_xy1_[0]}\" y2=\"{_xy1_[1]}\" stroke=\"#ff0000\" stroke-width=\"1.0\"/>')\n",
    "        if _fm_ in becd.segment_contains_tree[_segment_]:\n",
    "            if becd.segment_contains_tree[_segment_][_fm_] > _max_:\n",
    "                _max_ = becd.segment_contains_tree[_segment_][_fm_]\n",
    "    for _segment_ in becd.segment_contains_tree:\n",
    "        if _fm_ in becd.segment_contains_tree[_segment_]:\n",
    "            _xy0_, _xy1_ = becd.pos_routing[_segment_[0]], becd.pos_routing[_segment_[1]]\n",
    "            _width_ = 5.0 * becd.segment_contains_tree[_segment_][_fm_] / _max_\n",
    "            svgs.append(f'<line x1=\"{_xy0_[0]}\" y1=\"{_xy0_[1]}\" x2=\"{_xy1_[0]}\" y2=\"{_xy1_[1]}\" stroke=\"#000000\" stroke-width=\"{_width_}\"/>')\n",
    "    svgs.append(rt.svgText(_fm_, 5, becd.h - 5))\n",
    "    svgs.append('</svg>')\n",
    "    _tiles_.append(''.join(svgs))\n",
    "rt.tile(_tiles_, horz=False, spacer=10)\n",
    "'''\n",
    "# Find the most frequent occuring _fm_\n",
    "_sorter_ = []\n",
    "for _fm_ in set(becd.df_aligned_btwn_communities_collapsed['__fm__']):\n",
    "    _count_, _max_ = 0, 1\n",
    "    for _segment_ in becd.segment_contains_tree:\n",
    "        if _fm_ in becd.segment_contains_tree[_segment_]:\n",
    "            _count_ += 1\n",
    "            _max_    = max(_max_, becd.segment_contains_tree[_segment_][_fm_])\n",
    "    _sorter_.append((_count_, _fm_, _max_))\n",
    "_sorter_ = sorted(_sorter_, reverse=True)\n",
    "_count_, _fm_, _max_ = _sorter_[0]\n",
    "svgs = [f'<svg x=\"0\" y=\"0\" width=\"{becd.w}\" height=\"{becd.h}\"><rect x=\"0\" y=\"0\" width=\"{becd.w}\" height=\"{becd.h}\" fill=\"#ffffff\"/>']\n",
    "for _segment_ in becd.segment_contains_tree:\n",
    "    if _fm_ in becd.segment_contains_tree[_segment_]:\n",
    "        _xy0_, _xy1_ = becd.pos_routing[_segment_[0]], becd.pos_routing[_segment_[1]]\n",
    "        _width_ = 1.0 + 9.0 * becd.segment_contains_tree[_segment_][_fm_] / _max_\n",
    "        svgs.append(f'<line x1=\"{_xy0_[0]}\" y1=\"{_xy0_[1]}\" x2=\"{_xy1_[0]}\" y2=\"{_xy1_[1]}\" stroke=\"#000000\" stroke-width=\"{_width_}\"/>')\n",
    "_x_, _y_ = becd.pos_routing[_fm_]\n",
    "svgs.append(f'<circle cx=\"{_x_}\" cy=\"{_y_}\" r=\"6\" fill=\"none\" stroke=\"#ff0000\"/>')\n",
    "for i in range(len(becd.circles)):\n",
    "    _circle_ = becd.circles[i]\n",
    "    svgs.append(f'<circle cx=\"{_circle_[0]}\" cy=\"{_circle_[1]}\" r=\"{_circle_[2]}\" fill=\"none\" stroke=\"#d0d0d0\"/>')\n",
    "\n",
    "svgs.append('</svg>')\n",
    "print(_fm_)\n",
    "print('goes to', len(set(becd.df_aligned_btwn_communities_collapsed.filter(pl.col('__fm__')==_fm_)['__to__'])))\n",
    "rt.tile([''.join(svgs)])"
   ]
  },
  {
   "cell_type": "code",
   "execution_count": null,
   "metadata": {},
   "outputs": [],
   "source": []
  }
 ],
 "metadata": {
  "kernelspec": {
   "display_name": ".venv",
   "language": "python",
   "name": "python3"
  },
  "language_info": {
   "codemirror_mode": {
    "name": "ipython",
    "version": 3
   },
   "file_extension": ".py",
   "mimetype": "text/x-python",
   "name": "python",
   "nbconvert_exporter": "python",
   "pygments_lexer": "ipython3",
   "version": "3.12.3"
  }
 },
 "nbformat": 4,
 "nbformat_minor": 2
}
