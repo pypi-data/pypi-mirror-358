{
 "cells": [
  {
   "cell_type": "code",
   "execution_count": null,
   "id": "3a5b0400",
   "metadata": {},
   "outputs": [],
   "source": [
    "import polars as pl\n",
    "import pandas as pd\n",
    "import networkx as nx\n",
    "import panel as pn\n",
    "#import tracemalloc\n",
    "import os\n",
    "#tracemalloc.start()\n",
    "import rtsvg\n",
    "rt = rtsvg.RACETrack()\n",
    "\n",
    "#\n",
    "# Select By Color doesn't work if there's a cloud with multiple\n",
    "# colors within it...  if the cloud is only single color (which\n",
    "# is currently rendered as \"white\"), it works...\n",
    "#\n",
    "# If multiple clouds are mixed colors, then selecting by color\n",
    "# for them selects the multi-colored clouds...\n",
    "#\n",
    "# Ctrl-Click is an issue on Mac when using \"_igl_.show()\"... it\n",
    "# popups up the popup menu... one (poor) solution is to start\n",
    "# your drag with the mouse and then press/hold the \"ctrl\" key...\n",
    "#\n",
    "# ... this doesn't necessarily help with some of the other\n",
    "# \"ctrl\"-key issues...\n",
    "#\n",
    "# This problem isn't apparent when using panel in VSCode...\n",
    "# ... however VSCode will eventually die (unsure why) when you\n",
    "# use the interactiveGraphLayout() for a long time...  it doesn't\n",
    "# appear to be a memory issue...  The way this looks is that all\n",
    "# the non-cell areas in VSCode turn gray...  (when using the dark \n",
    "# theme)\n",
    "#\n",
    "\n",
    "edges_filename  = '../../data/stanford/facebook/348.edges'\n",
    "layout_filename = '../../data/stanford/facebook/348.rt_layout.parquet'\n",
    "_lu_ = {'fm':[], 'to':[]}\n",
    "for _edge_ in open(edges_filename, 'rt').read().split('\\n'):\n",
    "    if _edge_ == '': continue\n",
    "    _split_     = _edge_.split()\n",
    "    _fm_, _to_  = int(_split_[0]), int(_split_[1])\n",
    "    _lu_['fm'].append(_fm_), _lu_['to'].append(_to_)\n",
    "df            = pl.DataFrame(_lu_)\n",
    "df            = df.with_columns(pl.col('fm').cast(pl.String), pl.col('to').cast(pl.String))\n",
    "g             = rt.createNetworkXGraph(df, [('fm','to')])\n",
    "_pos_         = nx.spring_layout(g)\n",
    "_relates_     = [('fm','to')]\n",
    "_node_colors_ = {}\n",
    "community_i   = 0\n",
    "for _community_ in nx.community.louvain_communities(g):\n",
    "    community_i += 1\n",
    "    for _node_ in _community_: _node_colors_[_node_] = rt.co_mgr.getColor(community_i)\n",
    "_ln_params_ = {'relationships':_relates_, 'pos':_pos_, 'color_by':'gp', 'node_color':_node_colors_, 'link_shape':'curve', 'link_size':'vary', 'draw_labels':False}\n",
    "_l_  = rt.link    (df, track_state=True, **_ln_params_)\n",
    "_ln_ = rt.linkNode(df, track_state=True, **_ln_params_)\n",
    "_l_._repr_svg_(), _ln_._repr_svg_()\n",
    "#rt.tile([_l_, _ln_], spacer=10)\n",
    "_igl_ = rt.interactiveGraphLayout(df, _ln_params_, w=600, h=600)\n",
    "_igl_"
   ]
  },
  {
   "cell_type": "code",
   "execution_count": null,
   "id": "3f2736ab",
   "metadata": {},
   "outputs": [],
   "source": [
    "#current, peak = tracemalloc.get_traced_memory()\n",
    "#print(f\"Current memory usage is {current / 10**6}MB; Peak was {peak / 10**6}MB\")"
   ]
  },
  {
   "cell_type": "code",
   "execution_count": null,
   "id": "359f4ea7",
   "metadata": {},
   "outputs": [],
   "source": [
    "_ln_params_ = {'relationships':_relates_, 'pos':{}, 'color_by':'gp', 'node_color':_node_colors_, 'draw_labels':False}\n",
    "_igl2_ = rt.interactiveGraphLayout(df, _ln_params_, w=600, h=600, use_linknode=True)\n",
    "_histogram_ = rt.interactivePanel(df, {(0,0,1,1):('histogram', {'bin_by':'fm', 'count_by':'to'})}, 200, 600)\n",
    "_igl_.register_companion_viz(_histogram_),     _igl_.register_companion_viz(_igl2_)\n",
    "_igl2_.register_companion_viz(_histogram_),    _igl2_.register_companion_viz(_igl_)\n",
    "_histogram_.register_companion_viz(_igl_),     _histogram_.register_companion_viz(_igl2_)\n",
    "#pn.Row(_igl_, _igl2_, _histogram_).show()"
   ]
  },
  {
   "cell_type": "code",
   "execution_count": null,
   "id": "99764eec",
   "metadata": {},
   "outputs": [],
   "source": [
    "# Simple test for link labels\n",
    "df = pl.DataFrame({'fm':'a b c d'.split(), \n",
    "                   'to':'b c d a'.split(),\n",
    "                   't': '1 1 2 2'.split()})\n",
    "_params_ = {'df':df, 'relationships':[('fm','to')], 'pos':{'a':(0,0),'b':(1,0), 'c':(1,1), 'd':(0,1)}, 'bounds_percent':.3,\n",
    "            'draw_labels':True, 'node_labels':{'b':'Label For B\\nMore'},\n",
    "            'link_labels':True, 'color_by':'t', 'link_color':'vary', 'link_size':2}\n",
    "#rt.tile([rt.linkNode(**_params_),rt.link(**_params_)], spacer=10)"
   ]
  },
  {
   "cell_type": "code",
   "execution_count": null,
   "id": "b30e92f3",
   "metadata": {},
   "outputs": [],
   "source": [
    "a = ['a','b','c','d']\n",
    "a.index('b')"
   ]
  },
  {
   "cell_type": "code",
   "execution_count": null,
   "id": "43362846",
   "metadata": {},
   "outputs": [],
   "source": []
  }
 ],
 "metadata": {
  "kernelspec": {
   "display_name": ".venv",
   "language": "python",
   "name": "python3"
  },
  "language_info": {
   "codemirror_mode": {
    "name": "ipython",
    "version": 3
   },
   "file_extension": ".py",
   "mimetype": "text/x-python",
   "name": "python",
   "nbconvert_exporter": "python",
   "pygments_lexer": "ipython3",
   "version": "3.12.3"
  }
 },
 "nbformat": 4,
 "nbformat_minor": 5
}
