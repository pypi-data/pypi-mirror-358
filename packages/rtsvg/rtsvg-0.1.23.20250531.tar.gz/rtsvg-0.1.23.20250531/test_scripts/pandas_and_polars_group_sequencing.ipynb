{
 "cells": [
  {
   "cell_type": "code",
   "execution_count": null,
   "metadata": {},
   "outputs": [],
   "source": [
    "import polars as pl\n",
    "import pandas as pd\n",
    "import numpy as np\n",
    "\n",
    "import sys\n",
    "sys.path.insert(1, '../rtsvg')\n",
    "from rtsvg import *\n",
    "rt = RACETrack()"
   ]
  },
  {
   "cell_type": "code",
   "execution_count": null,
   "metadata": {},
   "outputs": [],
   "source": [
    "df = pl.DataFrame({'s':['a', 'a',  'a',  'a',   'b', 'b', 'b', 'b', 'b'],\n",
    "                   'n':[ 1,   10,   2,    11,    9,   8,   5,   3,   2],\n",
    "                   'o':['x', 'y',  'z',  'x',   'y', 'z', 'x', 'y', 'z']})\n",
    "df = df.with_columns(pl.lit(1).alias('c')).sort(['s','n']).with_columns(pl.col(\"c\").cumsum().over(\"s\").suffix(\"_order\")).drop('c')\n",
    "df"
   ]
  },
  {
   "cell_type": "code",
   "execution_count": null,
   "metadata": {},
   "outputs": [],
   "source": [
    "df = pd.DataFrame({'s':['a', 'a',  'a',  'a',   'b', 'b', 'b', 'b', 'b'],\n",
    "                   'n':[ 1,   10,   2,    11,    9,   8,   5,   3,   2],\n",
    "                   'o':['x', 'y',  'z',  'x',   'y', 'z', 'x', 'y', 'z']})\n",
    "df['c'] = 1\n",
    "df = df.sort_values(by=['s', 'n'])\n",
    "df['c_order'] = df.groupby('s')['c'].cumsum()\n",
    "df = df.drop('c',axis=1)\n",
    "df"
   ]
  },
  {
   "cell_type": "code",
   "execution_count": null,
   "metadata": {},
   "outputs": [],
   "source": [
    "import random\n",
    "import time\n",
    "def makeData(samples):\n",
    "    s_s, n_s, o_s = [], [], []\n",
    "    for x in range(samples):\n",
    "        s = str(chr(ord('a') + random.randint(0,25))) + str(chr(ord('a') + random.randint(0,25)))\n",
    "        n = random.randint(0,10000)\n",
    "        o = str(chr(ord('a') + random.randint(0,25))) + str(chr(ord('a') + random.randint(0,25))) + str(chr(ord('a') + random.randint(0,25))) + str(chr(ord('a') + random.randint(0,25)))\n",
    "        s_s.append(s), n_s.append(n), o_s.append(o)\n",
    "    return pd.DataFrame({'s':s_s, 'n':n_s, 'o':o_s})\n",
    "\n",
    "xs, ys, ts = [], [], []\n",
    "for samples in [10000, 100000, 1000000, 3000000, 5000000, 7000000, 10000000]: # , 100000000, 1000000000, 10000000000, 100000000000]:\n",
    "    df    = makeData(samples)\n",
    "    df_pl = pl.from_pandas(df)\n",
    "\n",
    "    t0_pl = time.time()\n",
    "    df_pl_out = df_pl.with_columns(pl.lit(1).alias('c')).sort(['s','n']).with_columns(pl.col(\"c\").cumsum().over(\"s\").suffix(\"_order\")).drop('c')\n",
    "    t1_pl = time.time()\n",
    "\n",
    "    t0_pl_lazy = time.time()\n",
    "    df_pl_lazy_out = df_pl.lazy().with_columns(pl.lit(1).alias('c')).sort(['s','n']).with_columns(pl.col(\"c\").cumsum().over(\"s\").suffix(\"_order\")).drop('c').collect()\n",
    "    t1_pl_lazy = time.time()\n",
    "\n",
    "    t0_pd = time.time()\n",
    "    df['c'] = 1\n",
    "    df = df.sort_values(by=['s', 'n'])\n",
    "    df['c_order'] = df.groupby('s')['c'].cumsum()\n",
    "    df = df.drop('c',axis=1)\n",
    "    t1_pd = time.time()\n",
    "\n",
    "    xs.append(samples),    ys.append(t1_pl - t0_pl),           ts.append('polars')\n",
    "    xs.append(samples),    ys.append(t1_pl_lazy - t0_pl_lazy), ts.append('polars_lazy')\n",
    "    xs.append(samples),    ys.append(t1_pd - t0_pd),           ts.append('pandas')\n",
    "\n",
    "rt.co_mgr.str_to_color_lu['polars']      = '#c0c0ff' # Ligher Blue\n",
    "rt.co_mgr.str_to_color_lu['polars_lazy'] = '#0000ff' # Deeper Blue\n",
    "rt.co_mgr.str_to_color_lu['pandas']      = '#ffa0a0' # Pink\n",
    "rt.xy(pd.DataFrame({'x':xs, 'time':ys, 'lib':ts}), x_field='x', y_field='time', line_groupby_field='lib', line_groupby_w=3, color_by='lib')"
   ]
  },
  {
   "cell_type": "markdown",
   "metadata": {},
   "source": [
    "'<svg id=\"xy_4481\" x=\"0\" y=\"0\" width=\"256\" height=\"256\" xmlns=\"http://www.w3.org/2000/svg\"><rect width=\"255\" height=\"255\" x=\"0\" y=\"0\" fill=\"#ffffff\" fill-opacity=\"1.0\" stroke=\"#ffffff\" stroke-opacity=\"1.0\" /><line x1=\"17\" y1=\"239\" x2=\"17\"                 y2=\"3\"      stroke=\"#101010\" stroke-width=\".6\" /><line x1=\"17\" y1=\"239\" x2=\"251\" y2=\"239\"   stroke=\"#101010\" stroke-width=\".6\" /><polyline points=\"17,236 19,234 40,202 87,177 133,133 180,83 251,3 \" stroke=\"#ffa0a0\" stroke-width=\"3\" fill=\"none\" /><polyline points=\"17,236 19,236 40,231 87,223 133,215 180,204 251,185 \" stroke=\"#c0c0ff\" stroke-width=\"3\" fill=\"none\" /><polyline points=\"17,237 19,236 40,231 87,223 133,213 180,202 251,175 \" stroke=\"#0000ff\" stroke-width=\"3\" fill=\"none\" /><circle cx=\"17\" cy=\"236\" r=\"2\" fill=\"#4988b6\" stroke=\"#4988b6\" fill-opacity=\"1.0\" stroke-opacity=\"1.0\" /><circle cx=\"17\" cy=\"237\" r=\"2\" fill=\"#0000ff\" stroke=\"#0000ff\" fill-opacity=\"1.0\" stroke-opacity=\"1.0\" /><circle cx=\"19\" cy=\"234\" r=\"2\" fill=\"#ffa0a0\" stroke=\"#ffa0a0\" fill-opacity=\"1.0\" stroke-opacity=\"1.0\" /><circle cx=\"19\" cy=\"236\" r=\"2\" fill=\"#4988b6\" stroke=\"#4988b6\" fill-opacity=\"1.0\" stroke-opacity=\"1.0\" /><circle cx=\"40\" cy=\"202\" r=\"2\" fill=\"#ffa0a0\" stroke=\"#ffa0a0\" fill-opacity=\"1.0\" stroke-opacity=\"1.0\" /><circle cx=\"40\" cy=\"231\" r=\"2\" fill=\"#4988b6\" stroke=\"#4988b6\" fill-opacity=\"1.0\" stroke-opacity=\"1.0\" /><circle cx=\"87\" cy=\"177\" r=\"2\" fill=\"#ffa0a0\" stroke=\"#ffa0a0\" fill-opacity=\"1.0\" stroke-opacity=\"1.0\" /><circle cx=\"87\" cy=\"223\" r=\"2\" fill=\"#4988b6\" stroke=\"#4988b6\" fill-opacity=\"1.0\" stroke-opacity=\"1.0\" /><circle cx=\"133\" cy=\"133\" r=\"2\" fill=\"#ffa0a0\" stroke=\"#ffa0a0\" fill-opacity=\"1.0\" stroke-opacity=\"1.0\" /><circle cx=\"133\" cy=\"213\" r=\"2\" fill=\"#0000ff\" stroke=\"#0000ff\" fill-opacity=\"1.0\" stroke-opacity=\"1.0\" /><circle cx=\"133\" cy=\"215\" r=\"2\" fill=\"#c0c0ff\" stroke=\"#c0c0ff\" fill-opacity=\"1.0\" stroke-opacity=\"1.0\" /><circle cx=\"180\" cy=\"83\" r=\"2\" fill=\"#ffa0a0\" stroke=\"#ffa0a0\" fill-opacity=\"1.0\" stroke-opacity=\"1.0\" /><circle cx=\"180\" cy=\"202\" r=\"2\" fill=\"#0000ff\" stroke=\"#0000ff\" fill-opacity=\"1.0\" stroke-opacity=\"1.0\" /><circle cx=\"180\" cy=\"204\" r=\"2\" fill=\"#c0c0ff\" stroke=\"#c0c0ff\" fill-opacity=\"1.0\" stroke-opacity=\"1.0\" /><circle cx=\"251\" cy=\"3\" r=\"2\" fill=\"#ffa0a0\" stroke=\"#ffa0a0\" fill-opacity=\"1.0\" stroke-opacity=\"1.0\" /><circle cx=\"251\" cy=\"175\" r=\"2\" fill=\"#0000ff\" stroke=\"#0000ff\" fill-opacity=\"1.0\" stroke-opacity=\"1.0\" /><circle cx=\"251\" cy=\"185\" r=\"2\" fill=\"#c0c0ff\" stroke=\"#c0c0ff\" fill-opacity=\"1.0\" stroke-opacity=\"1.0\" /><text x=\"17\" text-anchor=\"start\" y=\"253\" font-family=\"Times\" fill=\"#000000\" font-size=\"12px\">10000</text><text x=\"251\" text-anchor=\"end\" y=\"253\" font-family=\"Times\" fill=\"#000000\" font-size=\"12px\">10000000</text><text x=\"134.0\" text-anchor=\"middle\" y=\"253\" font-family=\"Times\" fill=\"#000000\" font-size=\"12px\">x</text><text x=\"13\" text-anchor=\"start\" y=\"237\" font-family=\"Times\" fill=\"#000000\" font-size=\"12px\" transform=\"rotate(-90,13,237)\">0.00</text><text x=\"13\" text-anchor=\"end\" y=\"3\" font-family=\"Times\" fill=\"#000000\" font-size=\"12px\" transform=\"rotate(-90,13,3)\">7.52</text><text x=\"13\" text-anchor=\"middle\" y=\"120.0\" font-family=\"Times\" fill=\"#000000\" font-size=\"12px\" transform=\"rotate(-90,13,120.0)\">time</text><rect width=\"255\" height=\"256\" x=\"0\" y=\"0\" fill-opacity=\"0.0\" fill=\"none\" stroke=\"#000000\" /></svg>'"
   ]
  },
  {
   "cell_type": "code",
   "execution_count": null,
   "metadata": {},
   "outputs": [],
   "source": []
  }
 ],
 "metadata": {
  "kernelspec": {
   "display_name": "Python 3",
   "language": "python",
   "name": "python3"
  },
  "language_info": {
   "codemirror_mode": {
    "name": "ipython",
    "version": 3
   },
   "file_extension": ".py",
   "mimetype": "text/x-python",
   "name": "python",
   "nbconvert_exporter": "python",
   "pygments_lexer": "ipython3",
   "version": "3.11.6"
  }
 },
 "nbformat": 4,
 "nbformat_minor": 2
}
