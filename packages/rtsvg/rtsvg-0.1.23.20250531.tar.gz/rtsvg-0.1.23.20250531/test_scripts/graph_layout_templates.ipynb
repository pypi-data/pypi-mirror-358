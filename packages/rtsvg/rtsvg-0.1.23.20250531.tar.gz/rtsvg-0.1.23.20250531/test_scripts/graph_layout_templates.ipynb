{
 "cells": [
  {
   "cell_type": "code",
   "execution_count": null,
   "metadata": {},
   "outputs": [],
   "source": [
    "import pandas as pd\n",
    "import polars as pl\n",
    "import numpy as np\n",
    "import networkx as nx\n",
    "from os.path import exists\n",
    "import random\n",
    "import rtsvg\n",
    "rt = rtsvg.RACETrack()\n",
    "relates    = [('fm','to')]\n",
    "_filename_layouts_ = '../rtsvg/config/simple_graph_layouts.csv'\n",
    "_filename_df_      = '../rtsvg/config/simple_graphs_df.csv'\n",
    "def randStr(n=5): return ''.join(random.choices('abcdefghijklmnopqrstuvwxyzABCDEFGHIJKLMNOPQRSTUVWXYZ', k=n))"
   ]
  },
  {
   "cell_type": "code",
   "execution_count": 2,
   "metadata": {},
   "outputs": [],
   "source": [
    "# subgraph extraction example code\n",
    "#g = rt.createNetworkXGraph(pl.DataFrame(_lu_), relates)\n",
    "#for _comp_ in nx.connected_components(g):\n",
    "#    g.subgraph(_comp_)"
   ]
  },
  {
   "cell_type": "code",
   "execution_count": 3,
   "metadata": {},
   "outputs": [],
   "source": [
    "#\n",
    "# graphCreateAllEdgeCombinationsForConnectedGraph()\n",
    "# - This function will create all possible connected graphs with the given number of nodes\n",
    "#\n",
    "# Scalability:\n",
    "# - 5 nodes -- time taken is  0.5s on M1 Pro\n",
    "# - 6 nodes -- time taken is 24.6s on M1 Pro\n",
    "#\n",
    "def graphCreateAllEdgeCombinationsForConnectedGraph(nodes=6):\n",
    "    if nodes > 6: raise ValueError('Too many nodes -- only up to 6 nodes supported')\n",
    "    max_edges           = nodes*(nodes-1)//2\n",
    "    gs_found, lus_found = [], []\n",
    "    for i in range(1, 2**max_edges):\n",
    "        mini_lu = {'fm':[], 'to':[]}\n",
    "        bit_no  = 0\n",
    "        for node_0 in range(nodes):\n",
    "            for node_1 in range(node_0+1, nodes):\n",
    "                if i & (1<<bit_no): mini_lu['fm'].append(f'{node_0}'), mini_lu['to'].append(f'{node_1}')\n",
    "                bit_no += 1\n",
    "        # Create this spectific graph\n",
    "        g_mini = rt.createNetworkXGraph(pl.DataFrame(mini_lu), relates)\n",
    "        # Make sure it is connected and has the right number of nodes\n",
    "        if nx.is_connected(g_mini) and nx.number_of_nodes(g_mini) == nodes:\n",
    "            # Make sure this graph is not already found\n",
    "            already_seen = False\n",
    "            for _other_ in gs_found:\n",
    "                if nx.is_isomorphic(g_mini, _other_):\n",
    "                    already_seen = True\n",
    "                    break\n",
    "            # If it is not already found, add it\n",
    "            if not already_seen:\n",
    "                gs_found.append(g_mini)\n",
    "                lus_found.append(mini_lu)\n",
    "    # transpose into a single dictionary\n",
    "    _lu_ = {'fm':[], 'to':[], 'fm_i':[], 'to_i':[], 'graph_no':[]}\n",
    "    for graph_no in range(len(lus_found)):\n",
    "        graph_no_str = f'{nodes}_{graph_no}'\n",
    "        my_lu = lus_found[graph_no]\n",
    "        for i in range(len(my_lu['fm'])):\n",
    "            _lu_['fm']      .append(f'{graph_no_str}_{my_lu[\"fm\"][i]}')\n",
    "            _lu_['to']      .append(f'{graph_no_str}_{my_lu[\"to\"][i]}')\n",
    "            _lu_['fm_i']    .append(int(my_lu['fm'][i]))\n",
    "            _lu_['to_i']    .append(int(my_lu['to'][i]))\n",
    "            _lu_['graph_no'].append(graph_no_str)\n",
    "    return _lu_\n",
    "\n",
    "if exists(_filename_df_): \n",
    "    df = pl.read_csv(_filename_df_)\n",
    "else:\n",
    "    _dfs_ = []\n",
    "    for num_of_nodes in range(2,7): _dfs_.append(pl.DataFrame(graphCreateAllEdgeCombinationsForConnectedGraph(num_of_nodes)))\n",
    "    df = pl.concat(_dfs_)\n",
    "    df.to_csv(_filename_df_)"
   ]
  },
  {
   "cell_type": "code",
   "execution_count": null,
   "metadata": {},
   "outputs": [],
   "source": [
    "pos = {}\n",
    "if exists(_filename_layouts_):\n",
    "    df_pos = pd.read_csv(_filename_layouts_)\n",
    "    for i in range(len(df_pos)): pos[df_pos['node'][i]] = (df_pos['x'][i], df_pos['y'][i])\n",
    "igl = rt.interactiveGraphLayout(df, ln_params={'relationships':relates, 'pos':pos}, w=1600, h=900)\n",
    "igl"
   ]
  },
  {
   "cell_type": "code",
   "execution_count": 5,
   "metadata": {},
   "outputs": [],
   "source": [
    "lu_save = {'node':[], 'x':[], 'y':[]}\n",
    "for _node_ in igl.pos:\n",
    "    lu_save['node'].append(_node_)\n",
    "    lu_save['x']   .append(igl.pos[_node_][0])\n",
    "    lu_save['y']   .append(igl.pos[_node_][1])\n",
    "pd.DataFrame(lu_save).to_csv(_filename_layouts_, index=False)"
   ]
  },
  {
   "cell_type": "code",
   "execution_count": 6,
   "metadata": {},
   "outputs": [],
   "source": []
  },
  {
   "cell_type": "code",
   "execution_count": null,
   "metadata": {},
   "outputs": [],
   "source": []
  }
 ],
 "metadata": {
  "kernelspec": {
   "display_name": ".venv",
   "language": "python",
   "name": "python3"
  },
  "language_info": {
   "codemirror_mode": {
    "name": "ipython",
    "version": 3
   },
   "file_extension": ".py",
   "mimetype": "text/x-python",
   "name": "python",
   "nbconvert_exporter": "python",
   "pygments_lexer": "ipython3",
   "version": "3.12.3"
  }
 },
 "nbformat": 4,
 "nbformat_minor": 2
}
