{
 "cells": [
  {
   "cell_type": "code",
   "execution_count": null,
   "metadata": {},
   "outputs": [],
   "source": [
    "import polars as pl\n",
    "import json\n",
    "import rtsvg\n",
    "rt = rtsvg.RACETrack()"
   ]
  },
  {
   "cell_type": "code",
   "execution_count": null,
   "metadata": {},
   "outputs": [],
   "source": [
    "city_lu = {'name':[], 'lat':[], 'lon':[]}\n",
    "city_lu['name'].append('la'),      city_lu['lat'].append(34.05),     city_lu['lon'].append(-118.25)\n",
    "city_lu['name'].append('nyc'),     city_lu['lat'].append(40.716667), city_lu['lon'].append( -74.0)\n",
    "city_lu['name'].append('london'),  city_lu['lat'].append(51.507222), city_lu['lon'].append(  -0.1275)\n",
    "city_lu['name'].append('paris'),   city_lu['lat'].append(48.856667), city_lu['lon'].append(   2.352222)\n",
    "city_lu['name'].append('chicago'), city_lu['lat'].append(41.881944), city_lu['lon'].append( -87.627778)\n",
    "json.dumps(rt.toGeoJSONPoints(pl.DataFrame(city_lu), lat_field='lat', lon_field='lon', id_field='name'))"
   ]
  },
  {
   "cell_type": "code",
   "execution_count": null,
   "metadata": {},
   "outputs": [],
   "source": [
    "def cityLatLon(name):\n",
    "    i = city_lu['name'].index(name)\n",
    "    return (city_lu['lat'][i], city_lu['lon'][i])\n",
    "\n",
    "path = {}\n",
    "path['a'] = ['la', 'chicago', 'nyc',   'london']\n",
    "path['b'] = ['la', 'nyc',     'paris', 'london']\n",
    "\n",
    "my_path_lu = {'path_id':[], 'lat':[], 'lon':[], 'num':[]}\n",
    "for _path_id_ in path.keys():\n",
    "    _path_ = path[_path_id_]\n",
    "    for i in range(len(_path_)):\n",
    "        _city_        = _path_[i]\n",
    "        _city_latlon_ = cityLatLon(_city_)\n",
    "        my_path_lu['path_id'].append(_path_id_)\n",
    "        my_path_lu['lat']    .append(_city_latlon_[0])\n",
    "        my_path_lu['lon']    .append(_city_latlon_[1])\n",
    "        my_path_lu['num']    .append(i)\n",
    "\n",
    "json.dumps(rt.toGeoJSONPaths(pl.DataFrame(my_path_lu), lat_field='lat', lon_field='lon', id_field='path_id', seq_field='num'))"
   ]
  },
  {
   "cell_type": "code",
   "execution_count": null,
   "metadata": {},
   "outputs": [],
   "source": []
  }
 ],
 "metadata": {
  "kernelspec": {
   "display_name": ".venv",
   "language": "python",
   "name": "python3"
  },
  "language_info": {
   "codemirror_mode": {
    "name": "ipython",
    "version": 3
   },
   "file_extension": ".py",
   "mimetype": "text/x-python",
   "name": "python",
   "nbconvert_exporter": "python",
   "pygments_lexer": "ipython3",
   "version": "3.12.3"
  }
 },
 "nbformat": 4,
 "nbformat_minor": 2
}
