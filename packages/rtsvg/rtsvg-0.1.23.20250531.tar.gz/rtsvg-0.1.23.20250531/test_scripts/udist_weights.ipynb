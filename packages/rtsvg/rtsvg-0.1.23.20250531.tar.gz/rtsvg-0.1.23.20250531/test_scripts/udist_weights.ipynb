{
 "cells": [
  {
   "cell_type": "code",
   "execution_count": null,
   "id": "57f4defd",
   "metadata": {},
   "outputs": [],
   "source": [
    "#\n",
    "# Demonstrates how weights affect the Uniform Distribution for Scatterplots Algorithm\n",
    "# ... there needs to be a cooling factor because eventually the points just start wandering around\n",
    "# ... when they really should just settle\n",
    "#\n",
    "import polars as pl\n",
    "import rtsvg\n",
    "rt = rtsvg.RACETrack()\n",
    "from rtsvg import UDistScatterPlotsViaSectorsTileOpt\n",
    "from math import pi, cos, sin, sqrt\n",
    "import random\n",
    "\n",
    "_xvals_, _yvals_, _wvals_, _colors_ = [], [], [], []\n",
    "\n",
    "#                                cx   cy    r     mass   pts    color\n",
    "_centers_and_masses_and_n_ = [( 4.0,  4.0,  2.0,  0.05,  100, '#FF0000'), \n",
    "                              ( 5.0,  2.0,  1.5,  1.00,   90, '#0000FF'), \n",
    "                              ( 1.0,  1.0,  1.0,  3.00,   50, '#FF00FF')]\n",
    "_xys_ = set()\n",
    "for _cmn_ in _centers_and_masses_and_n_:\n",
    "    _x_, _y_, _r_, _m_, _n_, _color_ = _cmn_\n",
    "    for _i_ in range(_n_):\n",
    "        _a_  = random.random() * 2 * pi\n",
    "        _cr_ = random.random() * _r_\n",
    "        _cx_ = _x_ + _cr_ * cos(_a_)\n",
    "        _cy_ = _y_ + _cr_ * sin(_a_)\n",
    "        _xys_.add((_cx_, _cy_))\n",
    "        _xvals_.append(_cx_), _yvals_.append(_cy_), _wvals_.append(_m_), _colors_.append(_color_)\n",
    "print(len(_xys_))\n",
    "udist = UDistScatterPlotsViaSectorsTileOpt(_xvals_, _yvals_, _wvals_, _colors_, vector_scalar=0.001, iterations=1024)\n",
    "udist"
   ]
  },
  {
   "cell_type": "code",
   "execution_count": null,
   "id": "59675915",
   "metadata": {},
   "outputs": [],
   "source": [
    "rt.tile([udist.svgAnimation(duration=\"10s\", w=512, h=512, r=0.002)])"
   ]
  },
  {
   "cell_type": "code",
   "execution_count": null,
   "id": "3fea0d63",
   "metadata": {},
   "outputs": [],
   "source": []
  }
 ],
 "metadata": {
  "kernelspec": {
   "display_name": ".venv",
   "language": "python",
   "name": "python3"
  },
  "language_info": {
   "codemirror_mode": {
    "name": "ipython",
    "version": 3
   },
   "file_extension": ".py",
   "mimetype": "text/x-python",
   "name": "python",
   "nbconvert_exporter": "python",
   "pygments_lexer": "ipython3",
   "version": "3.13.3"
  }
 },
 "nbformat": 4,
 "nbformat_minor": 5
}
