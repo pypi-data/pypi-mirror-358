{
 "cells": [
  {
   "cell_type": "code",
   "execution_count": null,
   "metadata": {},
   "outputs": [],
   "source": [
    "import panel as pn\n",
    "from panel.reactive import ReactiveHTML\n",
    "import param\n",
    "class KeyAndMouseHTML(ReactiveHTML):\n",
    "    _template = \"\"\"\n",
    "<svg id=\"parent\" tabindex=\"0\" width=\"600\" height=\"100\"\n",
    "     onkeypress=\"${script('keyPress')}\"  onkeydown=\"${script('keyDown')}\"     onkeyup=\"${script('keyUp')}\"\n",
    "     onmousedown=\"${script('mouseDown')}\"onmousemove=\"${script('mouseMove')}\" onmouseup=\"${script('mouseUp')}\"\n",
    "     onmousewheel=\"${script('mouseWheel')}\" >\n",
    "  <circle id=\"c0\" cx=\"50\"  cy=\"50\" r=\"40\" fill=\"#a0a0a0\" />\n",
    "  <circle id=\"c1\" cx=\"150\" cy=\"50\" r=\"40\" fill=\"#a0a0a0\" />\n",
    "  <circle id=\"c2\" cx=\"250\" cy=\"50\" r=\"40\" fill=\"#a0a0a0\" />\n",
    "  <rect id=\"rect\" x=\"0\"  y=\"0\" width=\"600\" height=\"100\" fill=\"#0000ff\" fill-opacity=\"0.3\"\n",
    "       onmousedown=\"${script('mouseDown')}\"onmousemove=\"${script('mouseMove')}\" onmouseup=\"${script('mouseUp')}\"\n",
    "  />\n",
    "</svg>\n",
    "\"\"\"\n",
    "    _scripts = {\n",
    "        'keyPress':   \"\"\" c0.setAttribute(\"fill\", \"#ff0000\"); \"\"\",\n",
    "        'keyDown':    \"\"\" c0.setAttribute(\"fill\", \"#00ff00\"); \"\"\",\n",
    "        'keyUp':      \"\"\" c0.setAttribute(\"fill\", \"#a0a0a0\"); \"\"\",\n",
    "        'mouseDown':  \"\"\" c1.setAttribute(\"fill\", \"#ff0000\"); \"\"\",\n",
    "        'mouseMove':  \"\"\" c2.setAttribute(\"fill\", \"#ff0000\"); \"\"\",\n",
    "        'mouseUp':    \"\"\" c1.setAttribute(\"fill\", \"#a0a0a0\"); c2.setAttribute(\"fill\", \"#a0a0a0\"); \"\"\",\n",
    "        'mouseWheel': \"\"\" event.preventDefault(); c2.setAttribute(\"fill\", \"#00ff00\"); \"\"\"\n",
    "    }\n",
    "    def __init__(self, **params):\n",
    "        super().__init__(**params)\n",
    "pn.extension()\n",
    "k_and_m = KeyAndMouseHTML()\n",
    "k_and_m"
   ]
  },
  {
   "cell_type": "code",
   "execution_count": null,
   "metadata": {},
   "outputs": [],
   "source": []
  }
 ],
 "metadata": {
  "kernelspec": {
   "display_name": ".venv",
   "language": "python",
   "name": "python3"
  },
  "language_info": {
   "codemirror_mode": {
    "name": "ipython",
    "version": 3
   },
   "file_extension": ".py",
   "mimetype": "text/x-python",
   "name": "python",
   "nbconvert_exporter": "python",
   "pygments_lexer": "ipython3",
   "version": "3.11.6"
  }
 },
 "nbformat": 4,
 "nbformat_minor": 2
}
