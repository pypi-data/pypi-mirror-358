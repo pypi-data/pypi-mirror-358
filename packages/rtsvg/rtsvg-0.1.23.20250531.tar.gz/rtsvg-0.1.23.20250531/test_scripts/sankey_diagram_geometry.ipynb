{
 "cells": [
  {
   "cell_type": "code",
   "execution_count": null,
   "metadata": {},
   "outputs": [],
   "source": [
    "import rtsvg\n",
    "import uuid\n",
    "import copy\n",
    "rt = rtsvg.RACETrack()"
   ]
  },
  {
   "cell_type": "code",
   "execution_count": null,
   "metadata": {},
   "outputs": [],
   "source": [
    "# Example Data\n",
    "_fm_  = (10, 10, 100)\n",
    "_tos_ = [(100, 10, 10), (200, 50, 10), (120, 160, 80)]\n",
    "svgs = [f'<svg x=\"0\" y=\"0\" width=\"512\" height=\"256\"><rect x=\"0\" y=\"0\" width=\"512\" height=\"256\" fill=\"#ffffff\"/>']\n",
    "_fm_  = (10, 10, 100)\n",
    "_tos_ = [(100, 10, 10), (200, 50, 10), (120, 160, 80)]\n",
    "svgs.append(rt.sankeyGeometry(_fm_, _tos_))\n",
    "_fm_  = (120, 160, 80)\n",
    "_tos_ = [(200, 10, 10), (210, 80, 10), (200, 160, 60)]\n",
    "svgs.append(rt.sankeyGeometry(_fm_, _tos_, colors='#ff0000'))\n",
    "_fm_       = (200,  160, 60)\n",
    "_tos_      = [(300, 100, 30),(320, 150, 30)]\n",
    "_color_lu_ = {(200,  160, 60):'#ff0000',\n",
    "              (300,  100, 30):'#00ff00',\n",
    "              (320,  150, 30):'#0000ff'}\n",
    "svgs.append(rt.sankeyGeometry(_fm_, _tos_, colors=_color_lu_, opacity=0.5))\n",
    "_fm_       = (300, 100, 30)\n",
    "_tos_      = [(450, 85, 15),(450, 120, 15)]\n",
    "_color_lu_ = {(300,  100, 30):'#00ff00'}\n",
    "svgs.append(rt.sankeyGeometry(_fm_, _tos_, colors=_color_lu_, opacity=0.5))\n",
    "_fm_       = (320,  150, 30)\n",
    "_tos_      = [(450,140,15),(450, 180, 15)]\n",
    "_color_lu_ = {(320,  150, 30):'#ff0000',\n",
    "              (450,  180, 15):'#0000ff'}\n",
    "svgs.append(rt.sankeyGeometry(_fm_, _tos_, colors=_color_lu_, opacity=0.75))\n",
    "svgs.append('</svg>')\n",
    "rt.tile([''.join(svgs)])"
   ]
  },
  {
   "cell_type": "code",
   "execution_count": null,
   "metadata": {},
   "outputs": [],
   "source": []
  },
  {
   "cell_type": "code",
   "execution_count": null,
   "metadata": {},
   "outputs": [],
   "source": []
  },
  {
   "cell_type": "code",
   "execution_count": null,
   "metadata": {},
   "outputs": [],
   "source": []
  }
 ],
 "metadata": {
  "kernelspec": {
   "display_name": ".venv",
   "language": "python",
   "name": "python3"
  },
  "language_info": {
   "codemirror_mode": {
    "name": "ipython",
    "version": 3
   },
   "file_extension": ".py",
   "mimetype": "text/x-python",
   "name": "python",
   "nbconvert_exporter": "python",
   "pygments_lexer": "ipython3",
   "version": "3.12.3"
  }
 },
 "nbformat": 4,
 "nbformat_minor": 2
}
