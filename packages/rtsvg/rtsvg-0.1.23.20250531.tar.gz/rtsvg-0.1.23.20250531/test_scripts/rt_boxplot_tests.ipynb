{
 "cells": [
  {
   "cell_type": "code",
   "execution_count": null,
   "id": "23a4ed1c",
   "metadata": {},
   "outputs": [],
   "source": [
    "import pandas as pd\n",
    "import plotly.express as px\n",
    "import matplotlib.pyplot as plt\n",
    "import numpy as np\n",
    "import random\n",
    "import rtsvg\n",
    "rt   = rtsvg.RACETrack()\n",
    "_lu_ = {'bin':[], 'count':[]}\n",
    "for i in range(1000):\n",
    "    _bin_ = chr(ord('A') + random.randint(0,5))\n",
    "    _lu_['bin']  .append(_bin_)\n",
    "    if   _bin_ == 'A': _ave_, _std_ =   4, 1\n",
    "    elif _bin_ == 'B': _ave_, _std_ =   3, 1\n",
    "    elif _bin_ == 'C': _ave_, _std_ =   6, 5\n",
    "    elif _bin_ == 'D': _ave_, _std_ =   7, 0.5\n",
    "    elif _bin_ == 'E': _ave_, _std_ =   9, 4\n",
    "    elif _bin_ == 'F': _ave_, _std_ =   5, 2\n",
    "    _lu_['count'].append(random.gauss(_ave_, _std_))\n",
    "df = pd.DataFrame(_lu_)\n",
    "rt.boxplot(df, bin_by='bin', count_by='count', order_by=['A','B','C','D','E','F'], w=512, h=256)"
   ]
  },
  {
   "cell_type": "code",
   "execution_count": null,
   "id": "208a9f28",
   "metadata": {},
   "outputs": [],
   "source": [
    "fig = px.box(df, x='bin', y='count', category_orders={'bin': ['A', 'B', 'C', 'D', 'E', 'F']})\n",
    "fig.show()"
   ]
  },
  {
   "cell_type": "code",
   "execution_count": null,
   "id": "6a85cde9",
   "metadata": {},
   "outputs": [],
   "source": [
    "import seaborn as sns\n",
    "sns.boxplot(data=df, x=\"bin\", y=\"count\", order=['A', 'B', 'C', 'D', 'E', 'F'])"
   ]
  },
  {
   "cell_type": "code",
   "execution_count": null,
   "id": "8c076e55",
   "metadata": {},
   "outputs": [],
   "source": []
  }
 ],
 "metadata": {
  "kernelspec": {
   "display_name": ".venv",
   "language": "python",
   "name": "python3"
  },
  "language_info": {
   "codemirror_mode": {
    "name": "ipython",
    "version": 3
   },
   "file_extension": ".py",
   "mimetype": "text/x-python",
   "name": "python",
   "nbconvert_exporter": "python",
   "pygments_lexer": "ipython3",
   "version": "3.12.3"
  }
 },
 "nbformat": 4,
 "nbformat_minor": 5
}
