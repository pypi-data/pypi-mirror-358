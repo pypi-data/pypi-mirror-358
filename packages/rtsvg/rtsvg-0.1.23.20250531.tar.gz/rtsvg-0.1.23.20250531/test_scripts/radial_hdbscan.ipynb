{
 "cells": [
  {
   "cell_type": "code",
   "execution_count": null,
   "metadata": {},
   "outputs": [],
   "source": [
    "import rtsvg\n",
    "import hdbscan\n",
    "import numpy as np\n",
    "import random\n",
    "from math import cos, sin, pi\n",
    "to_rad = lambda d: d*pi/180\n",
    "rt = rtsvg.RACETrack()"
   ]
  },
  {
   "cell_type": "code",
   "execution_count": null,
   "metadata": {},
   "outputs": [],
   "source": [
    "n   = 250\n",
    "pts = np.array([random.random()*360.0 for i in range(n)])\n",
    "pts = pts.reshape(-1,1)\n",
    "clusterer = hdbscan.HDBSCAN()\n",
    "clusterer.fit(pts)\n",
    "w,h,r = 600, 600, 290\n",
    "svg = [f'<svg x=\"0\" y=\"0\" width=\"{w}\" height=\"{h}\"><rect width=\"{w}\" height=\"{h}\" fill=\"#ffffff\" stroke=\"#ffffff\" />']\n",
    "for i in range(len(pts)):\n",
    "    _x_ = (w/2) + r * cos(to_rad(pts[i][0])) \n",
    "    _y_ = (h/2) + r * sin(to_rad(pts[i][0]))\n",
    "    _color_ = rt.co_mgr.getColor(clusterer.labels_[i])\n",
    "    svg.append(f'<circle cx=\"{_x_}\" cy=\"{_y_}\" r=\"3.5\" fill=\"{_color_}\" />')\n",
    "clusterer.labels_\n",
    "rt.tile([''.join(svg)+'</svg>'])"
   ]
  },
  {
   "cell_type": "code",
   "execution_count": 3,
   "metadata": {},
   "outputs": [],
   "source": [
    "_df_ = clusterer.condensed_tree_.to_pandas()\n",
    "parent_to_children, child_to_parent = {}, {}\n",
    "for i in range(len(_df_)):\n",
    "    _parent_, _child_, _child_size_ = _df_.iloc[i]['parent'], _df_.iloc[i]['child'], _df_.iloc[i]['child_size']\n",
    "    # print(f'{_parent_} -> {_child_} ({_child_size_})')\n",
    "    if _parent_ not in parent_to_children.keys(): parent_to_children[_parent_] = []\n",
    "    parent_to_children[_parent_].append(_child_)\n",
    "    if _child_ not in child_to_parent.keys(): child_to_parent[_child_] = []\n",
    "    child_to_parent[_child_].append(_parent_)"
   ]
  },
  {
   "cell_type": "code",
   "execution_count": null,
   "metadata": {},
   "outputs": [],
   "source": [
    "svg_ring_one = []\n",
    "parents_seen = set()\n",
    "for i in range(len(pts)):\n",
    "    _parent_ = child_to_parent[i][0]\n",
    "    parents_seen.add(_parent_)\n",
    "for _parent_ in parents_seen:\n",
    "    all_children_at_leaves = True\n",
    "    _angles_               = []\n",
    "    _children_        = parent_to_children[_parent_]\n",
    "    _children_labels_ = set()\n",
    "    for _child_ in _children_:\n",
    "        if _child_ >= len(pts): all_children_at_leaves = False\n",
    "        else:                   \n",
    "            _angles_.append(pts[int(_child_)])\n",
    "            _children_labels_.add(clusterer.labels_[int(_child_)])\n",
    "    if all_children_at_leaves:\n",
    "        _angle_  = rt.averageDegrees(_angles_)\n",
    "        _x_, _y_ = (w/2) + (r - 40) * cos(to_rad(_angle_)), (h/2) + (r - 40) * sin(to_rad(_angle_))\n",
    "        if len(_children_labels_) == 1: _color_ = rt.co_mgr.getColor(list(_children_labels_)[0])\n",
    "        else:                           _color_ = '#000000'\n",
    "        svg_ring_one.append(f'<circle cx=\"{_x_}\" cy=\"{_y_}\" r=\"3\" fill=\"{_color_}\" />')\n",
    "rt.tile([''.join(svg)+''.join(svg_ring_one)+'</svg>'])"
   ]
  },
  {
   "cell_type": "code",
   "execution_count": null,
   "metadata": {},
   "outputs": [],
   "source": [
    "_parent_to_angles_ = {}\n",
    "_parent_to_angle_  = {}\n",
    "_node_depth_       = {}\n",
    "_parent_completes_ = set()\n",
    "for i in range(len(pts)): \n",
    "    _parent_completes_.add(i)\n",
    "    _parent_to_angles_[i] = [pts[i][0]]\n",
    "    _parent_to_angle_ [i] = pts[i][0]\n",
    "def fillParentAngles(_parent_):\n",
    "    if _parent_ in _parent_completes_: return\n",
    "    _angles_ = []\n",
    "    for _child_ in parent_to_children[_parent_]:\n",
    "        if _child_ not in _parent_completes_: fillParentAngles(_child_)\n",
    "        _angles_.append(_parent_to_angle_[_child_])\n",
    "    _angle_                      = rt.averageDegrees(_angles_)\n",
    "    _parent_to_angles_[_parent_] = _angles_\n",
    "    _parent_to_angle_ [_parent_] = _angle_\n",
    "_root_ = None\n",
    "for _parent_ in parent_to_children.keys():\n",
    "    _parent_ = int(_parent_)\n",
    "    if _parent_ not in child_to_parent: \n",
    "        if _root_ is not None: raise Exception(\"multiple roots found!\")\n",
    "        _root_ = _parent_\n",
    "    fillParentAngles(_parent_)\n",
    "def calculateDepth(_node_):\n",
    "    if _node_ in _node_depth_: return _node_depth_[_node_]\n",
    "    if _node_ not in parent_to_children: _node_depth_[_node_] = 1\n",
    "    else:                                _node_depth_[_node_] = 1 + max([calculateDepth(_child_) for _child_ in parent_to_children[_node_]])\n",
    "    return _node_depth_[_node_]\n",
    "tree_depth = calculateDepth(_root_)\n",
    "svg_rings = []\n",
    "def ringRadius(_depth_): return r - r * (_depth_-1)/(tree_depth-1)\n",
    "for i in range(1, tree_depth+1):\n",
    "    svg_rings.append(f'<circle cx=\"{w/2}\" cy=\"{h/2}\" r=\"{ringRadius(i)}\" fill=\"none\" stroke=\"#000000\" stroke-width=\"0.1\" />')\n",
    "for _node_ in _node_depth_.keys():\n",
    "    _depth_  = _node_depth_[_node_]\n",
    "    _r_ring_ = ringRadius(_depth_)\n",
    "    _angle_  = _parent_to_angle_[_node_]\n",
    "    svg_rings.append(f'<circle cx=\"{(w/2) + _r_ring_ * cos(to_rad(_angle_))}\" cy=\"{(h/2) + _r_ring_ * sin(to_rad(_angle_))}\" r=\"2\" fill=\"black\" />')\n",
    "svg_rings.append(f'<circle cx=\"{w/2}\" cy=\"{h/2}\" r=\"6\" fill=\"none\" stroke=\"#ff0000\" stroke-width=\"0.5\" />')\n",
    "rt.tile([''.join(svg)+''.join(svg_rings)+'</svg>'])"
   ]
  },
  {
   "cell_type": "code",
   "execution_count": null,
   "metadata": {},
   "outputs": [],
   "source": []
  }
 ],
 "metadata": {
  "kernelspec": {
   "display_name": ".venv",
   "language": "python",
   "name": "python3"
  },
  "language_info": {
   "codemirror_mode": {
    "name": "ipython",
    "version": 3
   },
   "file_extension": ".py",
   "mimetype": "text/x-python",
   "name": "python",
   "nbconvert_exporter": "python",
   "pygments_lexer": "ipython3",
   "version": "3.12.3"
  }
 },
 "nbformat": 4,
 "nbformat_minor": 2
}
