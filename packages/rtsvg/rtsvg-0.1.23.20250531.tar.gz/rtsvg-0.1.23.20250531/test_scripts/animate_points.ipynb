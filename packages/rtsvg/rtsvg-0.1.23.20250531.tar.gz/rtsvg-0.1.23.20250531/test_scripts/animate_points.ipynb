{
 "cells": [
  {
   "cell_type": "code",
   "execution_count": null,
   "metadata": {},
   "outputs": [],
   "source": [
    "import pandas as pd\n",
    "import numpy  as np\n",
    "import random\n",
    "import time\n",
    "import sys\n",
    "from rtsvg import *\n",
    "rt = RACETrack()"
   ]
  },
  {
   "cell_type": "code",
   "execution_count": null,
   "metadata": {},
   "outputs": [],
   "source": [
    "def svgAnimation(n=10, w=500, h=500, t=4):\n",
    "    svg = [f'<svg x=\"0\" y=\"0\" width=\"{w}\" height=\"{h}\" xmlns=\"http://www.w3.org/2000/svg\">']\n",
    "    for i in range(n):\n",
    "        x0, y0 = random.randint(0,w), random.randint(0,h)\n",
    "        x1, y1 = random.randint(0,w), random.randint(0,h)\n",
    "        svg.append(f'<circle cx=\"{x0}\" cy=\"{y0}\" r=\"1\" stroke=\"#ff0000\" fill=\"#ff0000\">')\n",
    "        svg.append(f'<animate attributeName=\"cx\" from=\"{x0}\" to=\"{x1}\" begin=\"0s\" dur=\"{t}s\" fill=\"freeze\" />')\n",
    "        svg.append(f'<animate attributeName=\"cy\" from=\"{y0}\" to=\"{y1}\" begin=\"0s\" dur=\"{t}s\" fill=\"freeze\" />')\n",
    "        svg.append('</circle>')\n",
    "    svg.append('</svg>')\n",
    "    return ''.join(svg)\n",
    "# macbook pro:  greater than 8K points is a little slow in vscode\n",
    "#rt.tile([svgAnimation(25000,t=10)])"
   ]
  },
  {
   "cell_type": "code",
   "execution_count": null,
   "metadata": {},
   "outputs": [],
   "source": [
    "def svgAnimation2(n=10, w=500, h=500, t=4):\n",
    "    svg = [f'<svg x=\"0\" y=\"0\" width=\"{w}\" height=\"{h}\" xmlns=\"http://www.w3.org/2000/svg\">']\n",
    "    for i in range(n):\n",
    "        x0, y0 = random.randint(0,w), random.randint(0,h)\n",
    "        x1, y1 = random.randint(0,w), random.randint(0,h)\n",
    "        svg.append(f'<circle cx=\"{x0}\" cy=\"{y0}\" r=\"1\" stroke=\"#ff0000\" fill=\"#ff0000\">')\n",
    "        svg.append('<animateMotion ')\n",
    "        svg.append(f'path=\"m 0 0 l {x1-x0} {y1-y0} l {x0-x1} {y0-y1}\" ')\n",
    "        svg.append('begin=\"0s\" ')\n",
    "        svg.append(f'dur=\"{t}s\" ')\n",
    "        svg.append('repeatCount=\"indefinite\" ')\n",
    "        svg.append('/>')\n",
    "        svg.append('</circle>')\n",
    "    svg.append('</svg>')\n",
    "    return ''.join(svg)\n",
    "# macbook pro:  greater than 15K points is a little slow in vscode\n",
    "rt.tile([svgAnimation2(15000)])"
   ]
  },
  {
   "cell_type": "code",
   "execution_count": null,
   "metadata": {},
   "outputs": [],
   "source": []
  }
 ],
 "metadata": {
  "kernelspec": {
   "display_name": ".venv",
   "language": "python",
   "name": "python3"
  },
  "language_info": {
   "codemirror_mode": {
    "name": "ipython",
    "version": 3
   },
   "file_extension": ".py",
   "mimetype": "text/x-python",
   "name": "python",
   "nbconvert_exporter": "python",
   "pygments_lexer": "ipython3",
   "version": "3.12.3"
  }
 },
 "nbformat": 4,
 "nbformat_minor": 2
}
