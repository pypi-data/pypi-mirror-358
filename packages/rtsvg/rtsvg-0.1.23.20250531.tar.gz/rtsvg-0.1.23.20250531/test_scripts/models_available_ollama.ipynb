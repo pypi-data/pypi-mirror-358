{
 "cells": [
  {
   "cell_type": "code",
   "execution_count": null,
   "id": "f19136fc",
   "metadata": {},
   "outputs": [],
   "source": [
    "#\n",
    "# https://stackoverflow.com/questions/79372940/how-to-get-a-list-of-models-available-in-ollama-using-langchain\n",
    "#\n",
    "# works... but is probably fragile if anything w/ ollama changes...\n",
    "#\n",
    "import requests\n",
    "\n",
    "OLLAMA_URL = \"http://127.0.0.1:11434\"\n",
    "\n",
    "def get_models() -> list:\n",
    "    thelist = requests.get(OLLAMA_URL+\"/api/tags\")\n",
    "    jsondata = thelist.json()\n",
    "    result = list()\n",
    "    for model in jsondata[\"models\"]: result.append(model[\"model\"])\n",
    "    return result\n",
    "get_models()"
   ]
  },
  {
   "cell_type": "code",
   "execution_count": null,
   "id": "51ce31d7",
   "metadata": {},
   "outputs": [],
   "source": []
  }
 ],
 "metadata": {
  "kernelspec": {
   "display_name": ".venv",
   "language": "python",
   "name": "python3"
  },
  "language_info": {
   "codemirror_mode": {
    "name": "ipython",
    "version": 3
   },
   "file_extension": ".py",
   "mimetype": "text/x-python",
   "name": "python",
   "nbconvert_exporter": "python",
   "pygments_lexer": "ipython3",
   "version": "3.12.3"
  }
 },
 "nbformat": 4,
 "nbformat_minor": 5
}
