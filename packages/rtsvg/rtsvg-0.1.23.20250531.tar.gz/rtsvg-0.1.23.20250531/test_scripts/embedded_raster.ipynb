{
 "cells": [
  {
   "cell_type": "code",
   "execution_count": null,
   "metadata": {},
   "outputs": [],
   "source": [
    "from PIL import Image\n",
    "import base64"
   ]
  },
  {
   "cell_type": "code",
   "execution_count": null,
   "metadata": {},
   "outputs": [],
   "source": [
    "img = Image.new('RGB',(20,20))\n",
    "for x in range(10):\n",
    "    for y in range(10):\n",
    "        img.putpixel((x,   y),   0x00ff0000)\n",
    "        img.putpixel((x+10,y),   0x0000ff00)\n",
    "        img.putpixel((x,   y+10),0x000000ff)\n",
    "        img.putpixel((x+10,y+10),0x00ffffff)\n",
    "img"
   ]
  },
  {
   "cell_type": "code",
   "execution_count": null,
   "metadata": {},
   "outputs": [],
   "source": [
    "from io import BytesIO\n",
    "byteIO = BytesIO()\n",
    "img.save(byteIO,format='PNG')\n",
    "byteArr = byteIO.getvalue()\n",
    "\n",
    "svg =  '<svg xmlns=\"http://www.w3.org/2000/svg\" xmlns:xlink=\"http://www.w3.org/1999/xlink\" width=\"100\" height=\"100\">'\n",
    "svg += '<image width=\"20\" height=\"20\" xlink:href=\"data:image/png;base64,'\n",
    "svg += str(base64.b64encode(byteArr), 'utf-8')\n",
    "svg += '\"/></svg>'\n",
    "class svg_object(object):\n",
    "    def __init__(self, _svg_):\n",
    "        self.svg = _svg_\n",
    "    def _repr_svg_(self):\n",
    "        return self.svg\n",
    "svg_object(svg)"
   ]
  },
  {
   "cell_type": "code",
   "execution_count": null,
   "metadata": {},
   "outputs": [],
   "source": [
    "len(str(base64.b64encode(byteArr), 'utf-8')) # Max for this method is 50K..."
   ]
  },
  {
   "cell_type": "code",
   "execution_count": null,
   "metadata": {},
   "outputs": [],
   "source": [
    "# Looks like only really small images will fit into 50K size limit...\n",
    "import random\n",
    "for sz in range(200,2000,200):\n",
    "    img = Image.new('RGB',(sz,sz))\n",
    "    byteIO = BytesIO()\n",
    "    img.save(byteIO,format='PNG')\n",
    "    byteArr = byteIO.getvalue()\n",
    "    base64_length = len(str(base64.b64encode(byteArr), 'utf-8'))\n",
    "    for x in range(sz):\n",
    "        for y in range(sz):\n",
    "            img.putpixel((x,y),random.randint(0,512))\n",
    "    byteIO = BytesIO()\n",
    "    img.save(byteIO,format='PNG')\n",
    "    byteArr = byteIO.getvalue()\n",
    "    base64_length_w_noise = len(str(base64.b64encode(byteArr), 'utf-8'))\n",
    "    byteIO = BytesIO()\n",
    "    img.save(byteIO,format='JPEG')\n",
    "    byteArr = byteIO.getvalue()\n",
    "    base64_length_w_noise_jpg = len(str(base64.b64encode(byteArr), 'utf-8'))\n",
    "    print(f'sz={sz:8}\\tb64_len={base64_length:8} (png)\\tb64_len_w_noise={base64_length_w_noise:8} (png)\\t{base64_length_w_noise < 50000}' + \\\n",
    "          f'\\t{base64_length_w_noise_jpg:8}')"
   ]
  },
  {
   "cell_type": "code",
   "execution_count": null,
   "metadata": {},
   "outputs": [],
   "source": []
  }
 ],
 "metadata": {
  "kernelspec": {
   "display_name": ".venv",
   "language": "python",
   "name": "python3"
  },
  "language_info": {
   "codemirror_mode": {
    "name": "ipython",
    "version": 3
   },
   "file_extension": ".py",
   "mimetype": "text/x-python",
   "name": "python",
   "nbconvert_exporter": "python",
   "pygments_lexer": "ipython3",
   "version": "3.11.6"
  }
 },
 "nbformat": 4,
 "nbformat_minor": 2
}
