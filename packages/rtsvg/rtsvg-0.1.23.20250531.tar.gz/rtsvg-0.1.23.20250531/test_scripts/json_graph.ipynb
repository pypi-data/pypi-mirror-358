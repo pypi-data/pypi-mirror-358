{
 "cells": [
  {
   "cell_type": "code",
   "execution_count": null,
   "metadata": {},
   "outputs": [],
   "source": [
    "import pandas as pd\n",
    "import polars as pl\n",
    "import numpy  as np\n",
    "import networkx as nx\n",
    "import time\n",
    "import json\n",
    "import os\n",
    "import sys\n",
    "sys.path.insert(1, '../rtsvg')\n",
    "from rtsvg import *\n",
    "rt = RACETrack()"
   ]
  },
  {
   "cell_type": "code",
   "execution_count": null,
   "metadata": {},
   "outputs": [],
   "source": [
    "_txt_  = open('../../data/kaggle_imdb_600k/international-movies-json/03f765ee-8070-449e-a932-e26eef08119f.json').read()\n",
    "_json_ = json.loads(_txt_)"
   ]
  },
  {
   "cell_type": "code",
   "execution_count": null,
   "metadata": {},
   "outputs": [],
   "source": [
    "_rtjson_ = rt.jsonRepr(_json_)\n",
    "_df_, _relates_, _labels_ = _rtjson_.starPathGraphDataFrame()\n",
    "_g_ = rt.createNetworkXGraph(_df_, _relates_)\n",
    "_pos_ = rt.hyperTreeLayout(_g_)\n",
    "rt.linkNode(_df_, _relates_, _pos_, node_labels=_labels_, node_labels_only=True, node_size='small', draw_labels=True, w=768, h=512)"
   ]
  },
  {
   "cell_type": "code",
   "execution_count": null,
   "metadata": {},
   "outputs": [],
   "source": [
    "_df_, _relates_, _labels_ = _rtjson_.absolutePathGraphDataFrame()\n",
    "_g_ = rt.createNetworkXGraph(_df_, _relates_)\n",
    "_pos_ = rt.hyperTreeLayout(_g_)\n",
    "# rt.linkNode(_df_, _relates_, _pos_, node_labels=_labels_, node_labels_only=True, node_size='small', draw_labels=True, w=1536, h=768) # kindof large..."
   ]
  },
  {
   "cell_type": "code",
   "execution_count": null,
   "metadata": {},
   "outputs": [],
   "source": [
    "_json_simple_txt_ = '''\n",
    "{\"id\":1,\n",
    " \"people\":[{\"first\":\"John\", \"last\":\"Smith\", \"id\":10, \"age\":30, \"city\":\"nyc\",          \"state\":\"ny\", \"country\":\"us\"},\n",
    "           {\"first\":\"Joe\",  \"last\":\"Smith\", \"id\":20, \"age\":35,                        \"state\":\"ny\", \"country\":\"us\"},\n",
    "           {\"first\":\"Mary\", \"last\":\"Jones\", \"id\":30, \"age\":32, \"city\":\"philadelphia\", \"state\":\"pa\", \"country\":\"us\"}],\n",
    " \"knowsFrom\":[[10, 20, {\"EventName\":\"Conference A\", \"EventDate\":\"2020-01-01\"}], \n",
    "              [20, 30, {\"EventName\":\"Conference B\", \"EventDate\":\"2021-03-10\"}]],\n",
    " \"education\":[{\"id\":10, \"degreeReceived\":\"Ph.D. in Computer Science\",   \"university\":\"Stanford University\"},\n",
    "              {\"id\":10, \"degreeReceived\":\"Masters in Computer Science\", \"university\":\"University of Pennsylvania\"}],\n",
    " \"total_people\":3\n",
    "}'''\n",
    "_rtjson_simple_ = rt.jsonRepr(json.loads(_json_simple_txt_))\n",
    "_df_, _relates_, _labels_ = _rtjson_simple_.absolutePathGraphDataFrame()\n",
    "_g_   = rt.createNetworkXGraph(_df_, _relates_)\n",
    "_pos_ = rt.hyperTreeLayout(_g_)\n",
    "rt.linkNode(_df_, _relates_, _pos_, node_labels=_labels_, node_labels_only=True, node_size='small', draw_labels=True, w=1536, h=768)"
   ]
  },
  {
   "cell_type": "code",
   "execution_count": null,
   "metadata": {},
   "outputs": [],
   "source": [
    "_json_test2_ = '''\n",
    "{\n",
    "\"id\":1,\n",
    "\"universities\":[\n",
    "    {\"name\":\"some city college\",\n",
    "     \"staff\":[\n",
    "        {\"name\":\"joe\",  \"age\":40, \"degrees\":[\"math\",\"cs\"],  \"teaches\":[\"math_101\",    \"math_102\", \"computer_science_202\"]},\n",
    "        {\"name\":\"mary\", \"age\":41, \"degrees\":[]},\n",
    "        {\"name\":\"sue\",  \"age\":43, \"degrees\":[\"biology\"],    \"teaches\":[\"biology_101\", \"biology_102\"]}\n",
    "     ],\n",
    "     \"type\":\"4y\"\n",
    "    },\n",
    "    {\"name\":\"other city university\",\n",
    "     \"staff\":[\n",
    "        {\"name\":\"jessica\", \"age\":46, \"degrees\":[\"business administration\"], \"teaches\":[\"business_101\", \"business_102\"]},\n",
    "        {\"name\":\"bob\",     \"age\":44, \"degrees\":[\"history\"],                 \"teaches\":[\"history_101\",  \"history_102\"]}\n",
    "     ],\n",
    "     \"type\":\"2y\"\n",
    "    }\n",
    "],\n",
    "\"type\":\"defined in code\"\n",
    "}\n",
    "'''\n",
    "_rtjson_test2_ = rt.jsonRepr(json.loads(_json_test2_))\n",
    "_dfa_, _relatesa_, _labelsa_ = _rtjson_test2_.absolutePathGraphDataFrame()\n",
    "_posa_ = rt.hyperTreeLayout(rt.createNetworkXGraph(_dfa_, _relatesa_))\n",
    "_dfs_, _relatess_, _labelss_ = _rtjson_test2_.starPathGraphDataFrame()\n",
    "_poss_ = rt.hyperTreeLayout(rt.createNetworkXGraph(_dfs_, _relatess_))\n",
    "params = {'node_labels_only':True, 'node_size':'small', 'draw_labels':True, 'w':512, 'h':512}\n",
    "rt.tile([rt.linkNode(_dfa_, _relatesa_, _posa_, node_labels=_labelsa_, **params), \n",
    "         rt.linkNode(_dfs_, _relatess_, _poss_, node_labels=_labelss_, **params)])"
   ]
  },
  {
   "cell_type": "code",
   "execution_count": null,
   "metadata": {},
   "outputs": [],
   "source": []
  }
 ],
 "metadata": {
  "kernelspec": {
   "display_name": ".venv",
   "language": "python",
   "name": "python3"
  },
  "language_info": {
   "codemirror_mode": {
    "name": "ipython",
    "version": 3
   },
   "file_extension": ".py",
   "mimetype": "text/x-python",
   "name": "python",
   "nbconvert_exporter": "python",
   "pygments_lexer": "ipython3",
   "version": "3.11.6"
  }
 },
 "nbformat": 4,
 "nbformat_minor": 2
}
