{
 "cells": [
  {
   "cell_type": "code",
   "execution_count": null,
   "metadata": {},
   "outputs": [],
   "source": [
    "import pandas as pd\n",
    "import polars as pl\n",
    "import numpy  as np\n",
    "import networkx as nx\n",
    "from math import sin, cos, pi, sqrt\n",
    "import random\n",
    "import time\n",
    "import copy\n",
    "import os\n",
    "from rtsvg import *\n",
    "rt = RACETrack()"
   ]
  },
  {
   "cell_type": "code",
   "execution_count": null,
   "metadata": {},
   "outputs": [],
   "source": [
    "edges_filename  = '../../data/stanford/facebook/348.edges'\n",
    "layout_filename = '../../data/stanford/facebook/348.rt_layout.parquet'\n",
    "os.path.exists(edges_filename), os.path.exists(layout_filename)"
   ]
  },
  {
   "cell_type": "code",
   "execution_count": null,
   "metadata": {},
   "outputs": [],
   "source": [
    "_lu_ = {'fm':[], 'to':[]}\n",
    "for _edge_ in open(edges_filename, 'rt').read().split('\\n'):\n",
    "    if _edge_ == '': continue\n",
    "    _split_     = _edge_.split()\n",
    "    _fm_, _to_  = int(_split_[0]), int(_split_[1])\n",
    "    _lu_['fm'].append(_fm_), _lu_['to'].append(_to_)\n",
    "df  = pl.DataFrame(_lu_)\n",
    "g   = rt.createNetworkXGraph(df, [('fm','to')])\n",
    "pos = nx.spring_layout(g)\n",
    "ln_params = {'relationships':[('fm','to')], 'pos':pos}\n",
    "_rtg_ = rt.interactiveGraphLayout(df, ln_params, w=768, h=768)\n",
    "if os.path.exists(layout_filename): _rtg_.loadLayout(layout_filename)\n",
    "_rtg_"
   ]
  },
  {
   "cell_type": "code",
   "execution_count": 4,
   "metadata": {},
   "outputs": [],
   "source": [
    "_rtg_.saveLayout(layout_filename)"
   ]
  },
  {
   "cell_type": "code",
   "execution_count": null,
   "metadata": {},
   "outputs": [],
   "source": [
    "xmin,ymin,xmax,ymax = None, None, None, None\n",
    "for _xy_ in pos.values():\n",
    "    if xmin is None or _xy_[0] < xmin: xmin = _xy_[0]\n",
    "    if ymin is None or _xy_[1] < ymin: ymin = _xy_[1]\n",
    "    if xmax is None or _xy_[0] > xmax: xmax = _xy_[0]\n",
    "    if ymax is None or _xy_[1] > ymax: ymax = _xy_[1]\n",
    "xperc, yperc = (xmax-xmin)*0.05, (ymax-ymin)*0.05\n",
    "xmin,ymin,xmax,ymax = xmin-xperc, ymin-yperc, xmax+xperc, ymax+yperc\n",
    "print(xmin,ymin,xmax,ymax)"
   ]
  },
  {
   "cell_type": "code",
   "execution_count": null,
   "metadata": {},
   "outputs": [],
   "source": [
    "def multiLevelEuclideanMST(pos, levels=3):\n",
    "    _d_shortest_ = None\n",
    "    _lu_ = {'fm':[], 'to':[]}\n",
    "    edge_already_chosen = set()\n",
    "    for _level_ in range(levels):\n",
    "        g_this_round = nx.Graph()\n",
    "        segment_already_seen_this_round = set()\n",
    "        for k0 in pos.keys():\n",
    "            xy0 = pos[k0]\n",
    "            for k1 in pos.keys():\n",
    "                if k0 == k1: continue\n",
    "                xy1 = pos[k1]\n",
    "                seg = (xy0,xy1)\n",
    "                if seg in edge_already_chosen or \\\n",
    "                   seg in segment_already_seen_this_round: continue\n",
    "                _d_ = sqrt((xy0[0] - xy1[0])**2 + (xy0[1] - xy1[1])**2)\n",
    "                if _d_shortest_ is None or _d_ < _d_shortest_: _d_shortest_ = _d_\n",
    "                g_this_round.add_edge(k0,k1,weight=_d_)\n",
    "                segment_already_seen_this_round.add(seg)\n",
    "                segment_already_seen_this_round.add((k1,k0))\n",
    "        g_emst_this_round = nx.minimum_spanning_tree(g_this_round)\n",
    "        for _edge_ in g_emst_this_round.edges: \n",
    "            _lu_['fm'].append(_edge_[0]), _lu_['to'].append(_edge_[1])\n",
    "            edge_already_chosen.add((pos[_edge_[0]], pos[_edge_[1]]))\n",
    "            edge_already_chosen.add((pos[_edge_[1]], pos[_edge_[0]]))\n",
    "    return pl.DataFrame(_lu_), _d_shortest_\n",
    "\n",
    "df_multi_emst, d_shortest = multiLevelEuclideanMST(pos, levels=2)\n",
    "\n",
    "w, h = 600, 600\n",
    "svg = [f'<svg width=\"{w}\" height=\"{h}\" x=\"0\" y=\"0\">']\n",
    "xT,yT = lambda x: w*(x-xmin)/(xmax-xmin), lambda y: h - h*(y-ymin)/(ymax-ymin)\n",
    "for key in pos.keys(): svg.append(f'<circle cx=\"{xT(pos[key][0])}\" cy=\"{yT(pos[key][1])}\" r=\"1.2\" fill=\"#a0a0a0\"/>')\n",
    "for i in range(len(df_multi_emst)):\n",
    "    _fm_,  _to_  = df_multi_emst['fm'][i], df_multi_emst['to'][i]\n",
    "    _xy0_, _xy1_ = pos[_fm_], pos[_to_]\n",
    "    svg.append(f'<line x1=\"{xT(_xy0_[0])}\" y1=\"{yT(_xy0_[1])}\" x2=\"{xT(_xy1_[0])}\" y2=\"{yT(_xy1_[1])}\" stroke-width=\"0.2\" stroke=\"#a0a0a0\" />')\n",
    "\n",
    "#raster = [[None for x in range(w)] for y in range(h)]\n",
    "#for key in pos.keys(): \n",
    "#    _x_, _y_ = int(xT(pos[key][0])), int(yT(pos[key][1]))\n",
    "#    raster[_y_][_x_] = key\n",
    "#raster_state, raster_found_time, raster_origin = rt.levelSetFast(raster)\n",
    "#rt.svgObject(rt.levelSetStateAndFoundTimeSVG(raster_state, raster_found_time))\n",
    "\n",
    "pts = []\n",
    "for i in range(len(df_multi_emst)):\n",
    "    _fm_,  _to_  = df_multi_emst['fm'][i], df_multi_emst['to'][i]\n",
    "    _xy0_, _xy1_ = pos[_fm_], pos[_to_]\n",
    "    _x_,   _y_   = (_xy0_[0] + _xy1_[0])/2.0, (_xy0_[1] + _xy1_[1])/2.0\n",
    "    pts.append((_x_,_y_))\n",
    "    svg.append(f'<circle cx=\"{xT(_x_)}\" cy=\"{yT(_y_)}\" r=\"1.2\" fill=\"#ff0000\"/>')\n",
    "    _d_          = sqrt((_xy0_[0] - _xy1_[0])**2 + (_xy0_[1] - _xy1_[1])**2)\n",
    "    if _d_ >= 4.0 * d_shortest:\n",
    "        dx, dy = _xy1_[0] - _xy0_[0], _xy1_[1] - _xy0_[1]\n",
    "        _x_, _y_ = _xy0_[0] + 3.0*dx/4.0, _xy0_[1] + 3.0*dy/4.0\n",
    "        #svg.append(f'<circle cx=\"{xT(_x_)}\" cy=\"{yT(_y_)}\" r=\"1.2\" fill=\"#0000ff\"/>')\n",
    "        _x_, _y_ = _xy0_[0] + 1.0*dx/4.0, _xy0_[1] + 1.0*dy/4.0\n",
    "        #svg.append(f'<circle cx=\"{xT(_x_)}\" cy=\"{yT(_y_)}\" r=\"1.2\" fill=\"#0000ff\"/>')\n",
    "\n",
    "g_skeleton = nx.Graph()\n",
    "qt = rt.xyQuadTree((xmin,ymin,xmax,ymax), 30)\n",
    "qt.add(pts)\n",
    "for pt in pts:\n",
    "    nbor_tuples = qt.closest(pt, 6)\n",
    "    for i in range(1, len(nbor_tuples)):\n",
    "        nbor_tuple = nbor_tuples[i]\n",
    "        nbor_pt    = nbor_tuple[1]\n",
    "        g_skeleton.add_edge(pt, nbor_pt, weight=1.0 / (1.0 + sqrt((pt[0] - nbor_pt[0])**2 + (pt[1] - nbor_pt[1])**2)))\n",
    "        svg.append(f'<line x1=\"{xT(pt[0])}\" y1=\"{yT(pt[1])}\" x2=\"{xT(nbor_pt[0])}\" y2=\"{yT(nbor_pt[1])}\" stroke-width=\"0.2\" stroke=\"#0000ff\" />')\n",
    "\n",
    "svg.append('</svg>')\n",
    "rt.tile([''.join(svg), rt.link(df, [('fm','to')], pos, node_size=0.8, link_size=0.1,w=600, h=600)])"
   ]
  },
  {
   "cell_type": "code",
   "execution_count": null,
   "metadata": {},
   "outputs": [],
   "source": [
    "_pts_   = nx.shortest_path(g_skeleton, pts[1], pts[30])\n",
    "_trans_ = []\n",
    "for i in range(len(_pts_)): _trans_.append((xT(_pts_[i][0]), yT(_pts_[i][1])))\n",
    "_pts_ = _trans_\n",
    "\n",
    "svg = [f'<svg width=\"{w}\" height=\"{h}\" x=\"0\" y=\"0\">']\n",
    "for i in range(len(_pts_)-1):\n",
    "    _xy0_, _xy1_ = _pts_[i], _pts_[i+1]\n",
    "    svg.append(f'<line x1=\"{_xy0_[0]}\" y1=\"{_xy0_[1]}\" x2=\"{_xy1_[0]}\" y2=\"{_xy1_[1]}\" stroke-width=\"1.0\" stroke=\"#000000\" />')\n",
    "svg.append(f'<path d=\"{rt.svgPathCubicBSpline(_pts_, beta=0.9)}\" stroke=\"#ff0000\" fill=\"none\" />')\n",
    "svg.append('</svg>')\n",
    "rt.tile([''.join(svg)])"
   ]
  },
  {
   "cell_type": "code",
   "execution_count": null,
   "metadata": {},
   "outputs": [],
   "source": []
  },
  {
   "cell_type": "code",
   "execution_count": null,
   "metadata": {},
   "outputs": [],
   "source": []
  }
 ],
 "metadata": {
  "kernelspec": {
   "display_name": "Python 3",
   "language": "python",
   "name": "python3"
  },
  "language_info": {
   "codemirror_mode": {
    "name": "ipython",
    "version": 3
   },
   "file_extension": ".py",
   "mimetype": "text/x-python",
   "name": "python",
   "nbconvert_exporter": "python",
   "pygments_lexer": "ipython3",
   "version": "3.12.3"
  }
 },
 "nbformat": 4,
 "nbformat_minor": 2
}
