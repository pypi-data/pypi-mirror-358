{
 "cells": [
  {
   "cell_type": "code",
   "execution_count": null,
   "metadata": {},
   "outputs": [],
   "source": [
    "import pandas as pd\n",
    "import geopandas as gpd\n",
    "import fiona\n",
    "import numpy as np\n",
    "from shapely import Polygon, MultiPolygon, LineString, GeometryCollection, MultiLineString\n",
    "import sys\n",
    "sys.path.insert(1, '../rtsvg')\n",
    "from rtsvg import *\n",
    "rt = RACETrack()"
   ]
  },
  {
   "cell_type": "code",
   "execution_count": null,
   "metadata": {},
   "outputs": [],
   "source": [
    "coast_file = \"../../wb_coastlines_10m/WB_Coastlines_10m/WB_Coastlines_10m.shp\"\n",
    "land_file  = \"../../wb_land_10m/WB_Land_10m/WB_Land_10m.shp\"\n",
    "gdf_coast  = gpd.read_file(coast_file)\n",
    "gdf_land   = gpd.read_file(land_file)"
   ]
  },
  {
   "cell_type": "code",
   "execution_count": null,
   "metadata": {},
   "outputs": [],
   "source": [
    "_lons_, _lats_, _names_ = [], [], []\n",
    "_lons_.append( -73.935242),  _lats_.append(40.730610),  _names_.append('NYC')\n",
    "_lons_.append(-118.243683),  _lats_.append(34.052235),  _names_.append('LA')\n",
    "_lons_.append( -80.191788),  _lats_.append(25.761681),  _names_.append('Miami')\n",
    "_lons_.append(-149.863129),  _lats_.append(61.217381),  _names_.append('Anchorage')\n",
    "\n",
    "df = pd.DataFrame({'x':_lons_, 'y':_lats_, 'name':_names_})\n",
    "\n",
    "bg_shape_lu = {}\n",
    "for i in range(len(gdf_land)):\n",
    "    _clipped_ = gdf_land.clip_by_rect(df['x'].min(), df['y'].min(), df['x'].max(), df['y'].max()).iloc[i]\n",
    "    d = rt.shapelyPolygonToSVGPathDescription(_clipped_)\n",
    "    if d is not None:\n",
    "        bg_shape_lu[len(bg_shape_lu)] = d\n",
    "\n",
    "rt.xy(df, x_field='x', y_field='y', bg_shape_lu=bg_shape_lu, bg_shape_fill='#e0e0e0', \n",
    "      dot_size=6.0, w=384, h=256)"
   ]
  },
  {
   "cell_type": "code",
   "execution_count": null,
   "metadata": {},
   "outputs": [],
   "source": [
    "df2 = pd.DataFrame({'fm':['NYC','LA','Miami','Anchorage','LA'], \n",
    "                    'to':['LA','Miami','NYC','LA','Anchorage']})\n",
    "pos = {'NYC':(_lons_[0],_lats_[0]), 'LA':(_lons_[1],_lats_[1]), \n",
    "       'Miami':(_lons_[2],_lats_[2]), 'Anchorage':(_lons_[3],_lats_[3])}\n",
    "rt.linkNode(df2, [('fm','to')], pos, link_shape='curve', \n",
    "            bg_shape_lu=bg_shape_lu, bg_shape_fill='#e0e0e0', w=384, h=256)"
   ]
  },
  {
   "cell_type": "code",
   "execution_count": null,
   "metadata": {},
   "outputs": [],
   "source": [
    "bg_shape_lu = {}\n",
    "gdf_coast_clip = gdf_coast.clip_by_rect(df['x'].min(), df['y'].min(), df['x'].max(), df['y'].max())\n",
    "for i in range(len(gdf_coast_clip)):\n",
    "    _clipped_ = gdf_coast_clip.iloc[i]\n",
    "    d = rt.shapelyPolygonToSVGPathDescription(_clipped_)\n",
    "    if d is not None:\n",
    "        bg_shape_lu[len(bg_shape_lu)] = d\n",
    "rt.xy(df, x_field='x', y_field='y', bg_shape_lu=bg_shape_lu, dot_size=6.0, w=384, h=256)"
   ]
  },
  {
   "cell_type": "code",
   "execution_count": null,
   "metadata": {},
   "outputs": [],
   "source": [
    "df2 = pd.DataFrame({'fm':['NYC','LA','Miami','Anchorage','LA'], \n",
    "                    'to':['LA','Miami','NYC','LA','Anchorage']})\n",
    "pos = {'NYC':(_lons_[0],_lats_[0]), 'LA':(_lons_[1],_lats_[1]), \n",
    "       'Miami':(_lons_[2],_lats_[2]), 'Anchorage':(_lons_[3],_lats_[3])}\n",
    "rt.linkNode(df2, [('fm','to')], pos, link_shape='curve', \n",
    "            bg_shape_lu=bg_shape_lu, w=384, h=256)"
   ]
  },
  {
   "cell_type": "code",
   "execution_count": null,
   "metadata": {},
   "outputs": [],
   "source": [
    "clip = (df['x'].min(), df['y'].min(), df['x'].max(), df['y'].max())\n",
    "bg_land_lu,  bg_land_fill_lu  = rt.createBackgroundLookupsFromShapeFile(land_file,  clip_rect=clip)\n",
    "bg_coast_lu, bg_coast_fill_lu = rt.createBackgroundLookupsFromShapeFile(coast_file, clip_rect=clip)\n",
    "\n",
    "parms = { 'df':df, 'x_field':'x', 'y_field':'y', 'dot_size':6.0, 'w':384, 'h':256 }\n",
    "\n",
    "rt.tile([rt.xy(**parms, bg_shape_lu=bg_land_lu,  bg_shape_fill=bg_land_fill_lu),\n",
    "         rt.xy(**parms, bg_shape_lu=bg_coast_lu, bg_shape_fill=bg_coast_fill_lu)])"
   ]
  },
  {
   "cell_type": "code",
   "execution_count": null,
   "metadata": {},
   "outputs": [],
   "source": [
    "# For testing only... takes too many resources without clipping...\n",
    "if False:\n",
    "    bg_land_lu,  bg_land_fill_lu  = rt.createBackgroundLookupsFromShapeFile(land_file)\n",
    "    bg_coast_lu, bg_coast_fill_lu = rt.createBackgroundLookupsFromShapeFile(coast_file)\n",
    "    parms = { 'df':df, 'x_field':'x', 'y_field':'y', 'dot_size':6.0, 'w':384, 'h':256 }\n",
    "    rt.tile([rt.xy(**parms, bg_shape_lu=bg_land_lu,  bg_shape_fill=bg_land_fill_lu),\n",
    "            rt.xy(**parms, bg_shape_lu=bg_coast_lu, bg_shape_fill=bg_coast_fill_lu)])"
   ]
  },
  {
   "cell_type": "code",
   "execution_count": null,
   "metadata": {},
   "outputs": [],
   "source": [
    "county_file  = '../../cb_2018_us_county_20m/cb_2018_us_county_20m/cb_2018_us_county_20m.shp'\n",
    "state_file   = '../../cb_2018_us_state_20m/cb_2018_us_state_20m/cb_2018_us_state_20m.shp'\n",
    "zipcode_file = '../../cb_2018_us_zcta510_500k/cb_2018_us_zcta510_500k/cb_2018_us_zcta510_500k.shp'\n",
    "clip = (df['x'].min(), df['y'].min(), df['x'].max(), df['y'].max())\n",
    "bg_state_lu, bg_state_fill_lu = rt.createBackgroundLookupsFromShapeFile(state_file,  clip_rect=clip)\n",
    "parms = { 'df':df, 'x_field':'x', 'y_field':'y', 'dot_size':6.0, 'w':384, 'h':256 }\n",
    "rt.tile([rt.xy(**parms, bg_shape_lu=bg_state_lu, bg_shape_fill=bg_state_fill_lu),\n",
    "         rt.xy(**parms, bg_shape_lu=bg_state_lu, bg_shape_fill=None),\n",
    "         rt.xy(**parms, bg_shape_lu=bg_state_lu, bg_shape_fill='vary')])"
   ]
  },
  {
   "cell_type": "code",
   "execution_count": null,
   "metadata": {},
   "outputs": [],
   "source": [
    "_lons_, _lats_, _names_ = [], [], []\n",
    "_lons_.append(-73.935242),  _lats_.append(40.730610),  _names_.append('NYC')\n",
    "_lons_.append(-78.878738),  _lats_.append(42.880230),  _names_.append('Buffalo')\n",
    "_lons_.append(-76.154480),  _lats_.append(43.088947),  _names_.append('Syracuse')\n",
    "_lons_.append(-73.756233),  _lats_.append(42.652580),  _names_.append('Albany')\n",
    "df3 = pd.DataFrame({'x':_lons_, 'y':_lats_, 'name':_names_})\n",
    "df4 = pd.DataFrame({'city':_names_})\n",
    "clip = (df3['x'].min(), df3['y'].min(), df3['x'].max(), df3['y'].max())\n",
    "bg_county_lu,  bg_county_fill_lu  = rt.createBackgroundLookupsFromShapeFile(county_file,  clip_rect=clip)\n",
    "def zipCodeNamingFunc(_series_, _gpd_index_):\n",
    "    return int(_series_['ZCTA5CE10'])\n",
    "bg_zipcode_lu, bg_zipcode_fill_lu = rt.createBackgroundLookupsFromShapeFile(zipcode_file, clip_rect=clip,naming=zipCodeNamingFunc)\n",
    "pos = {}\n",
    "for i in range(len(_names_)):\n",
    "    pos[_names_[i]] = (df3['x'][i], df3['y'][i])\n",
    "parms = {'df':df4, 'relationships':[('city','city')], 'pos':pos}\n",
    "rt.table([rt.linkNode(**parms, bg_shape_lu=bg_county_lu,  bg_shape_fill=bg_county_fill_lu),\n",
    "          rt.linkNode(**parms, bg_shape_lu=bg_county_lu,  bg_shape_fill=None),\n",
    "          rt.linkNode(**parms, bg_shape_lu=bg_county_lu,  bg_shape_fill='vary'),\n",
    "          rt.linkNode(**parms, bg_shape_lu=bg_zipcode_lu, bg_shape_fill=bg_zipcode_fill_lu),\n",
    "          rt.linkNode(**parms, bg_shape_lu=bg_zipcode_lu, bg_shape_fill=None),\n",
    "          rt.linkNode(**parms, bg_shape_lu=bg_zipcode_lu, bg_shape_fill='vary')], per_row=3)"
   ]
  },
  {
   "cell_type": "code",
   "execution_count": null,
   "metadata": {},
   "outputs": [],
   "source": []
  }
 ],
 "metadata": {
  "kernelspec": {
   "display_name": "Python 3",
   "language": "python",
   "name": "python3"
  },
  "language_info": {
   "codemirror_mode": {
    "name": "ipython",
    "version": 3
   },
   "file_extension": ".py",
   "mimetype": "text/x-python",
   "name": "python",
   "nbconvert_exporter": "python",
   "pygments_lexer": "ipython3",
   "version": "3.11.7"
  }
 },
 "nbformat": 4,
 "nbformat_minor": 2
}
