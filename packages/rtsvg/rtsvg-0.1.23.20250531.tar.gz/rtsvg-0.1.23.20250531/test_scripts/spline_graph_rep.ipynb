{
 "cells": [
  {
   "cell_type": "code",
   "execution_count": null,
   "id": "a82ac7c8",
   "metadata": {},
   "outputs": [],
   "source": [
    "#\n",
    "# Representation using splines for edges\n",
    "#\n",
    "import polars   as pl\n",
    "import networkx as nx\n",
    "import rtsvg\n",
    "rt = rtsvg.RACETrack()\n",
    "\n",
    "# Render Operation\n",
    "def svgSplineRender(_df_):\n",
    "    _ops_ = [pl.lit('<path d=\"M '), pl.col('x0'), pl.lit(' '), pl.col('y0'), pl.lit(' C '),\n",
    "             pl.col('xa'), pl.lit(' '), pl.col('ya'), pl.lit(' '),\n",
    "             pl.col('xb'), pl.lit(' '), pl.col('yb'), pl.lit(' '),\n",
    "             pl.col('x1'), pl.lit(' '), pl.col('y1'), pl.lit('\" fill=\"none\" stroke=\"#000000\" stroke-width=\"0.002\" />')]\n",
    "    x0, y0, x1, y1 = min(_df_['x0'].min(), _df_['x1'].min()), min(_df_['y0'].min(), _df_['y1'].min()), max(_df_['x0'].max(), _df_['x1'].max()), max(_df_['y0'].max(), _df_['y1'].max())\n",
    "    svg = [f'<svg x=\"0\" y=\"0\" width=\"768\" height=\"768\" viewBox=\"{x0} {y0} {x1-x0} {y1-y0}\" xmlns=\"http://www.w3.org/2000/svg\">']\n",
    "    svg.append(f'<rect x=\"{x0}\" y=\"{y0}\" width=\"{x1-x0}\" height=\"{y1-y0}\" fill=\"#ffffff\" />')\n",
    "    _df_ = _df_.with_columns(pl.concat_str(_ops_).alias('svg'))\n",
    "    svg.extend(_df_['svg'].to_list())\n",
    "    svg.append('</svg>')\n",
    "    return ''.join(svg)\n",
    "\n",
    "edges_filename  = '../../data/stanford/facebook/414.edges'\n",
    "layout_filename = '../../data/stanford/facebook/414.rt_layout.parquet'\n",
    "\n",
    "_lu_ = {'fm':[], 'to':[]}\n",
    "for _edge_ in open(edges_filename, 'rt').read().split('\\n'):\n",
    "    if _edge_ == '': continue\n",
    "    _split_     = _edge_.split()\n",
    "    _fm_, _to_  = int(_split_[0]), int(_split_[1])\n",
    "    _lu_['fm'].append(_fm_), _lu_['to'].append(_to_)\n",
    "df  = pl.DataFrame(_lu_)\n",
    "\n",
    "g   = rt.createNetworkXGraph(df, [('fm','to')])\n",
    "pos = nx.spring_layout(g)\n",
    "\n",
    "_nodes_                   = list(pos.keys())\n",
    "_xs_, _ys_, _ws_, _ns_ = [], [], [], []\n",
    "for i in range(len(_nodes_)):\n",
    "    _xs_   .append(pos[_nodes_[i]][0])\n",
    "    _ys_   .append(pos[_nodes_[i]][1])\n",
    "    _ws_   .append(g.degree(_nodes_[i]))\n",
    "    _ns_   .append(_nodes_[i])\n",
    "_df_         = pl.DataFrame({'x':_xs_, 'y':_ys_, 'w':_ws_, 'node':_ns_})\n",
    "_df_results_ = rt.uniformSampleDistributionInScatterplotsViaSectorBasedTransformation(_df_, 'x', 'y', wgt_field='w', iterations=128)\n",
    "_pos_ = {}\n",
    "for i in range(len(_df_results_)): _pos_[_df_results_['node'][i]] = (_df_results_['x'][i], _df_results_['y'][i])\n",
    "rt.tile([rt.link(df, [('fm','to')], pos,   w=600, h=600, link_shape='curve', link_size=1),\n",
    "         rt.link(df, [('fm','to')], _pos_, w=600, h=600, link_shape='curve', link_size=1)], spacer=10)"
   ]
  },
  {
   "cell_type": "code",
   "execution_count": null,
   "id": "4a9774f5",
   "metadata": {},
   "outputs": [],
   "source": []
  }
 ],
 "metadata": {
  "kernelspec": {
   "display_name": ".venv",
   "language": "python",
   "name": "python3"
  },
  "language_info": {
   "codemirror_mode": {
    "name": "ipython",
    "version": 3
   },
   "file_extension": ".py",
   "mimetype": "text/x-python",
   "name": "python",
   "nbconvert_exporter": "python",
   "pygments_lexer": "ipython3",
   "version": "3.13.3"
  }
 },
 "nbformat": 4,
 "nbformat_minor": 5
}
