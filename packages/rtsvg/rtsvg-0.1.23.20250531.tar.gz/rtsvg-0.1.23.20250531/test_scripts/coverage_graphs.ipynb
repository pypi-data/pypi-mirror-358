{
 "cells": [
  {
   "cell_type": "code",
   "execution_count": null,
   "metadata": {},
   "outputs": [],
   "source": [
    "import polars as pl\n",
    "import pandas as pd\n",
    "import numpy as np\n",
    "import networkx as nx\n",
    "import rtsvg\n",
    "import os\n",
    "import json\n",
    "rt = rtsvg.RACETrack()"
   ]
  },
  {
   "cell_type": "code",
   "execution_count": null,
   "metadata": {},
   "outputs": [],
   "source": [
    "# Parse all of the coverage files\n",
    "coverage_files  = os.listdir('../coverage/')\n",
    "coverage_lu     = {}\n",
    "code_files_seen = set()\n",
    "for _file_ in coverage_files:\n",
    "    _json_  = json.loads(open('../coverage/' + _file_).read())\n",
    "    coverage_lu[_file_] = _json_\n",
    "    code_files_seen = code_files_seen.union(_json_['files'].keys())\n",
    "\n",
    "# Remove any tests files\n",
    "to_remove = set()\n",
    "for _file_ in code_files_seen:\n",
    "    if _file_.startswith('tests/'): to_remove.add(_file_)\n",
    "code_files_seen = code_files_seen - to_remove\n",
    "\n",
    "# Convert them into a dataframe that determines the timestamp, code_file, and percent_covered\n",
    "_lu_ = {'timestamp':[], 'code_file':[], 'percent_covered':[]}\n",
    "for _file_ in coverage_files:\n",
    "    _json_      = coverage_lu[_file_]\n",
    "    _timestamp_ = _json_['meta']['timestamp']\n",
    "    for _code_file_ in code_files_seen:\n",
    "        if _code_file_ in _json_['files']:\n",
    "            _percent_covered_ = _json_['files'][_code_file_]['summary']['percent_covered']\n",
    "            _lu_['timestamp'].append(_timestamp_), _lu_['code_file'].append(_code_file_), _lu_['percent_covered'].append(_percent_covered_)\n",
    "df = pl.DataFrame(_lu_)\n",
    "df = rt.columnsAreTimestamps(df, ['timestamp'])\n",
    "last_timestamp_seen = df['timestamp'].max()\n",
    "\n",
    "# Plot them out\n",
    "rt.tile([rt.xy(df, x_field='timestamp', y_field='percent_covered', line_groupby_field='code_file', line_groupby_w=4, color_by='code_file', dot_size=None, w=1024, h=512),\n",
    "         rt.histogram(df.filter(pl.col('timestamp') == last_timestamp_seen), bin_by='code_file', count_by='percent_covered', color_by='code_file', w=512, h=512)])\n"
   ]
  },
  {
   "cell_type": "code",
   "execution_count": null,
   "metadata": {},
   "outputs": [],
   "source": []
  }
 ],
 "metadata": {
  "kernelspec": {
   "display_name": ".venv",
   "language": "python",
   "name": "python3"
  },
  "language_info": {
   "codemirror_mode": {
    "name": "ipython",
    "version": 3
   },
   "file_extension": ".py",
   "mimetype": "text/x-python",
   "name": "python",
   "nbconvert_exporter": "python",
   "pygments_lexer": "ipython3",
   "version": "3.12.3"
  }
 },
 "nbformat": 4,
 "nbformat_minor": 2
}
