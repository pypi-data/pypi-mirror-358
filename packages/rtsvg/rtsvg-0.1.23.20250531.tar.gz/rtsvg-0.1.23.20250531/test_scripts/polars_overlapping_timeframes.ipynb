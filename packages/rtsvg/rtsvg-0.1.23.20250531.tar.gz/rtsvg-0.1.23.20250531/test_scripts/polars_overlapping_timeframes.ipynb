{
 "cells": [
  {
   "cell_type": "code",
   "execution_count": null,
   "metadata": {},
   "outputs": [],
   "source": [
    "#\n",
    "# Source:\n",
    "# https://stackoverflow.com/questions/73222000/polars-conditional-merge-of-rows\n",
    "#\n",
    "import datetime as dt\n",
    "import polars as pl\n",
    "\n",
    "data = (\n",
    "    pl.DataFrame(\n",
    "        {\n",
    "            \"time_start\": [ \"12:00\", \"12:20\", \"12:40\", \"13:10\", \"13:15\", \"13:50\", \"13:55\", \"14:50\", \"15:20\", \"15:25\"],\n",
    "            \"time_end\":   [ \"12:15\", \"12:30\", \"13:00\", \"13:20\", \"13:45\", \"14:00\", \"14:45\", \"15:00\", \"15:30\", \"15:35\"],\n",
    "            \"type\":       [ \"a\",     \"a\",     \"a\",     \"b\",     \"b\",     \"c\",     \"c\",     \"a\",     \"a\",     \"d\"],\n",
    "        }\n",
    "    )\n",
    ").with_columns(\n",
    "    pl.col(\"type\").cast(pl.Categorical),\n",
    "    pl.format(\"2020-01-01T{}:00\", \"time_start\")\n",
    "      .str.to_datetime()\n",
    "      .dt.cast_time_unit(\"ms\")\n",
    "      .alias(\"time_start\"),\n",
    "    pl.format(\"2020-01-01T{}:00\", \"time_end\")\n",
    "      .str.to_datetime()\n",
    "      .dt.cast_time_unit(\"ms\")\n",
    "      .alias(\"time_end\"),\n",
    ")\n",
    "data"
   ]
  },
  {
   "cell_type": "code",
   "execution_count": null,
   "metadata": {},
   "outputs": [],
   "source": [
    "#\n",
    "# Note -- Replace the \"15m\" with \"0m\" to only combine overlapping timeframes\n",
    "#\n",
    "# Source:\n",
    "# https://stackoverflow.com/questions/73222000/polars-conditional-merge-of-rows\n",
    "#\n",
    "(\n",
    "    data\n",
    "    .sort('time_start')\n",
    "    .with_columns(\n",
    "        (\n",
    "            (\n",
    "                pl.col('time_end').dt.offset_by('15m') <\n",
    "                pl.col('time_start').shift(-1)\n",
    "            ) |\n",
    "            (\n",
    "                pl.col('type') != pl.col('type').shift(-1)\n",
    "            )\n",
    "        )\n",
    "        .shift(1, fill_value=False)\n",
    "        .cum_sum()\n",
    "        .alias('run_nbr'),\n",
    "    )\n",
    "    .group_by('run_nbr')\n",
    "    .agg(\n",
    "        pl.col('time_start').min().alias('time_start'),\n",
    "        pl.col('time_end').max().alias('time_end'),\n",
    "        pl.col('type').first().alias('type'),\n",
    "    )\n",
    "    .sort('time_start')\n",
    ")"
   ]
  },
  {
   "cell_type": "code",
   "execution_count": null,
   "metadata": {},
   "outputs": [],
   "source": [
    "import rtsvg\n",
    "rt = rtsvg.RACETrack()\n",
    "\n",
    "df = pl.DataFrame({'fld0':['a','b','c','a','a','a'], \n",
    "                   'fld1':[ 1,  1,  1,  2,  2,  1 ],\n",
    "                   'fld2':['x','x','x','y','z','x'],\n",
    "                   'ts0': ['2023-01-01 00:00:00', '2023-01-01 00:20:00', '2023-01-01 00:25:00', '2023-01-01 00:05:00', '2023-01-01 00:45:00', '2023-01-01 00:15:00'],\n",
    "                   'ts1': ['2023-01-01 00:10:00', '2023-01-01 00:30:00', '2023-01-01 00:30:00', '2023-01-01 00:30:00', '2023-01-01 01:00:00', '2023-01-01 00:25:00']})\n",
    "df = rt.columnsAreTimestamps(df, ['ts0', 'ts1'])\n",
    "df = df.sort(['fld0','ts0'])\n",
    "df"
   ]
  },
  {
   "cell_type": "code",
   "execution_count": null,
   "metadata": {},
   "outputs": [],
   "source": [
    "rt.polarsGroupOverlappingTimeframes(df, 'ts0', 'ts1', 'fld0')"
   ]
  },
  {
   "cell_type": "code",
   "execution_count": null,
   "metadata": {},
   "outputs": [],
   "source": [
    "rt.polarsGroupOverlappingTimeframes(df, 'ts0', 'ts1', ['fld0', 'fld1'])"
   ]
  },
  {
   "cell_type": "code",
   "execution_count": null,
   "metadata": {},
   "outputs": [],
   "source": [
    "rt.polarsGroupOverlappingTimeframes(df, 'ts0', 'ts1', ['fld0', 'fld1', 'fld2'])"
   ]
  },
  {
   "cell_type": "code",
   "execution_count": null,
   "metadata": {},
   "outputs": [],
   "source": []
  }
 ],
 "metadata": {
  "kernelspec": {
   "display_name": ".venv",
   "language": "python",
   "name": "python3"
  },
  "language_info": {
   "codemirror_mode": {
    "name": "ipython",
    "version": 3
   },
   "file_extension": ".py",
   "mimetype": "text/x-python",
   "name": "python",
   "nbconvert_exporter": "python",
   "pygments_lexer": "ipython3",
   "version": "3.12.3"
  }
 },
 "nbformat": 4,
 "nbformat_minor": 2
}
