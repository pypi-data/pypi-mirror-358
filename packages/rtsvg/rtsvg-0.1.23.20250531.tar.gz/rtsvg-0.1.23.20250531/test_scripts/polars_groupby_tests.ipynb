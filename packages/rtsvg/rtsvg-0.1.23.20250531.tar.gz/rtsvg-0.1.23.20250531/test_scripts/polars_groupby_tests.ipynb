{
 "cells": [
  {
   "cell_type": "code",
   "execution_count": null,
   "id": "d6d972b7",
   "metadata": {},
   "outputs": [],
   "source": [
    "import polars as pl\n",
    "import time\n",
    "import random\n",
    "\n",
    "#\n",
    "# Should have been called group_by tests... not join tests...\n",
    "#\n",
    "\n",
    "# 10M samples / M1 Pro (16G) (int version, two runs separated by pipe)\n",
    "# 1 join tuples: 0.024 | 0.024\n",
    "# 2 join tuples: 0.142 | 0.080\n",
    "# 3 join tuples: 0.127 | 0.095\n",
    "# 4 join tuples: 0.151 | 0.127\n",
    "# 5 join tuples: 0.179 | 0.190\n",
    "\n",
    "for join_tuples in range(1,6):\n",
    "    _tuples_ = []\n",
    "    for indices in range(1000):  _tuples_.append(tuple([random.randint(0,100) for i in range(join_tuples)]))\n",
    "    _lu_              = {'to_sum':[]}\n",
    "    _groupby_columns_ = []\n",
    "    for i       in range(join_tuples): \n",
    "        _lu_[f'col{i}'] = []\n",
    "        _groupby_columns_.append(f'col{i}')\n",
    "    for samples in range(10_000_000): # range(10_000_000):\n",
    "        _index_ = random.randint(0, len(_tuples_)-1)\n",
    "        for i in range(join_tuples): _lu_[f'col{i}'].append(_tuples_[_index_][i])\n",
    "        _lu_['to_sum'].append(random.random())\n",
    "    df = pl.DataFrame(_lu_)\n",
    "    t  = time.time()\n",
    "    df.group_by(_groupby_columns_).agg(pl.col('to_sum').sum())\n",
    "    print(f'{join_tuples} join tuples: {time.time() - t:.3f}')"
   ]
  },
  {
   "cell_type": "code",
   "execution_count": null,
   "id": "507775ef",
   "metadata": {},
   "outputs": [],
   "source": [
    "# 10M samples / M1 Pro (16G) (float version, two runs separated by pipe)\n",
    "# 1 join tuples: 0.056 | 0.056\n",
    "# 2 join tuples: 0.095 | 0.087\n",
    "# 3 join tuples: 0.105 | 0.102\n",
    "# 4 join tuples: 0.129 | 0.123\n",
    "# 5 join tuples: 0.174 | 0.158\n",
    "\n",
    "for join_tuples in range(1,6):\n",
    "    _tuples_ = []\n",
    "    for indices in range(1000):  _tuples_.append(tuple([random.random() for i in range(join_tuples)]))\n",
    "    _lu_              = {'to_sum':[]}\n",
    "    _groupby_columns_ = []\n",
    "    for i       in range(join_tuples): \n",
    "        _lu_[f'col{i}'] = []\n",
    "        _groupby_columns_.append(f'col{i}')\n",
    "    for samples in range(10_000_000): # range(10_000_000):\n",
    "        _index_ = random.randint(0, len(_tuples_)-1)\n",
    "        for i in range(join_tuples): _lu_[f'col{i}'].append(_tuples_[_index_][i])\n",
    "        _lu_['to_sum'].append(random.random())\n",
    "    df = pl.DataFrame(_lu_)\n",
    "    t  = time.time()\n",
    "    df.group_by(_groupby_columns_).agg(pl.col('to_sum').sum())\n",
    "    print(f'{join_tuples} join tuples: {time.time() - t:.3f}')"
   ]
  },
  {
   "cell_type": "code",
   "execution_count": null,
   "id": "fcf8bc72",
   "metadata": {},
   "outputs": [],
   "source": []
  }
 ],
 "metadata": {
  "kernelspec": {
   "display_name": ".venv",
   "language": "python",
   "name": "python3"
  },
  "language_info": {
   "codemirror_mode": {
    "name": "ipython",
    "version": 3
   },
   "file_extension": ".py",
   "mimetype": "text/x-python",
   "name": "python",
   "nbconvert_exporter": "python",
   "pygments_lexer": "ipython3",
   "version": "3.13.3"
  }
 },
 "nbformat": 4,
 "nbformat_minor": 5
}
