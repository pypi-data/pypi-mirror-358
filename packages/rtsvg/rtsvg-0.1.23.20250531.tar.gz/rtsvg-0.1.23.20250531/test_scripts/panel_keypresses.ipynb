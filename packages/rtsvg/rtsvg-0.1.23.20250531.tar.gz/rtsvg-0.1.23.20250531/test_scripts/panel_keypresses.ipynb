{
 "cells": [
  {
   "cell_type": "code",
   "execution_count": null,
   "metadata": {},
   "outputs": [],
   "source": [
    "import pandas as pd\n",
    "import numpy as np\n",
    "import panel as pn\n",
    "from panel.reactive import ReactiveHTML\n",
    "import param\n",
    "import rtsvg\n",
    "rt = rtsvg.RACETrack()\n",
    "class MyRTReactiveKeyPresses(ReactiveHTML):\n",
    "    _template = \"\"\"\n",
    "        <svg tabindex=\"1\" id=\"myparent\" width=\"200\" height=\"100\" onkeypress=\"${script('myonkeypress')}\" onkeydown=\"${script('myonkeydown')}\" onkeyup=\"${script('myonkeyup')}\" >\n",
    "            <svg id=\"mod\" x=\"0\" y=\"0\" width=\"200\" height=\"100\">\n",
    "                <rect width=\"200\" height=\"100\" fill=\"#ffffff\"/>   \n",
    "                <circle id=\"mycircle\" cx=\"50\" cy=\"50\" r=\"30\" fill=\"#000000\" />\n",
    "                <rect id=\"r0\" x=\"20\" y=\"90\" width=\"10\" height=\"10\" fill=\"#000000\" />\n",
    "                <rect id=\"r1\" x=\"40\" y=\"90\" width=\"10\" height=\"10\" fill=\"#000000\" />\n",
    "                <rect id=\"r2\" x=\"60\" y=\"90\" width=\"10\" height=\"10\" fill=\"#000000\" />\n",
    "            </svg>\n",
    "        </svg>\n",
    "    \"\"\"\n",
    "    my_key     = param.Integer(default=0)\n",
    "    key_pressed = param.Integer(default=0)\n",
    "    def __init__(self, **kwargs):\n",
    "        self._template = \"\"\"\n",
    "        <svg tabindex=\"1\" id=\"myparent\" width=\"200\" height=\"120\" onkeypress=\"${script('myonkeypress')}\" onkeydown=\"${script('myonkeydown')}\" onkeyup=\"${script('myonkeyup')}\" >\n",
    "            <svg id=\"mod\" x=\"0\" y=\"0\" width=\"200\" height=\"100\">\n",
    "                <rect width=\"200\" height=\"100\" fill=\"#ffffff\"/>   \n",
    "                <circle id=\"mycircle\" cx=\"50\" cy=\"50\" r=\"30\" fill=\"#000000\" />\n",
    "                <rect id=\"r0\" x=\"20\" y=\"90\" width=\"10\" height=\"10\" fill=\"#000000\" />\n",
    "                <rect id=\"r1\" x=\"40\" y=\"90\" width=\"10\" height=\"10\" fill=\"#000000\" />\n",
    "                <rect id=\"r2\" x=\"60\" y=\"90\" width=\"10\" height=\"10\" fill=\"#000000\" />\n",
    "            </svg>\n",
    "        </svg>\n",
    "    \"\"\"\n",
    "        super().__init__(**kwargs)\n",
    "    _scripts = {\n",
    "        'render':\"\"\"\n",
    "            mycircle.setAttribute(\"fill\", \"#0000ff\");\n",
    "            data.my_key = data.my_key | 0x01;\n",
    "        \"\"\",\n",
    "        'myonkeypress':\"\"\"\n",
    "            mycircle.setAttribute(\"fill\", \"#ff0000\");\n",
    "            r0.setAttribute(\"fill\", \"#ff0000\")\n",
    "            data.my_key = data.my_key | 0x02;\n",
    "            data.key_pressed = event.keyCode;\n",
    "            // event.preventDefault();\n",
    "        \"\"\",\n",
    "        'myonkeydown':\"\"\"\n",
    "            mycircle.setAttribute(\"fill\", \"#00ff00\");\n",
    "            r1.setAttribute(\"fill\", \"#ff0000\")\n",
    "            data.my_key = data.my_key | 0x04;\n",
    "            data.key_pressed = event.keyCode;\n",
    "            // event.preventDefault(); // this one prevents the keypress from ever happening... you still get the keyup event\n",
    "        \"\"\",\n",
    "        'myonkeyup':\"\"\"\n",
    "            mycircle.setAttribute(\"fill\", \"#0000ff\");\n",
    "            r2.setAttribute(\"fill\", \"#ff0000\")\n",
    "            data.my_key = data.my_key | 0x08;\n",
    "            data.key_pressed = event.keyCode;\n",
    "            // event.preventDefault();\n",
    "        \"\"\"\n",
    "    }\n",
    "kp = MyRTReactiveKeyPresses()"
   ]
  },
  {
   "cell_type": "code",
   "execution_count": null,
   "metadata": {},
   "outputs": [],
   "source": [
    "kp"
   ]
  },
  {
   "cell_type": "code",
   "execution_count": null,
   "metadata": {},
   "outputs": [],
   "source": [
    "kp.my_key, kp.key_pressed"
   ]
  },
  {
   "cell_type": "code",
   "execution_count": null,
   "metadata": {},
   "outputs": [],
   "source": [
    "# Newer Test Results (9 May 2025) // VSCode // Version: 1.100.0 (Universal)\n",
    "\n",
    "# \"a-z\", \"0-9\", \"+-_=[]{};':\",.<>?/\" - safe and safe as shifted too\n",
    "# Enter, Arrow Keys, Tab, Escape - not safe\n",
    "# Ctrl-[GNPQRW] -- not safe\n",
    "\n",
    "# Older Test Results (maybe 15 August 2024 ... definitely not sooner than this)\n",
    "\n",
    "# nope \"ab d f   jkl  o      v x\"   -- these keys manipulate the notebook cells\n",
    "# okay \"  c e ghi   mn pqrstu w yz\" -- these keys don't seem to be shortcuts\n",
    "# ... all are safe with \"shift\"\n",
    "# ... not all are safe with \"control\" - not these: \"gnpqrw\" \n",
    "# ... that leaves \"cehimstuyz\" as the only safe keys for shift & control combinations\n",
    "# ... 1..90 are all safe... shift + 1..90 are all safe... but not ctrl + 1..90"
   ]
  }
 ],
 "metadata": {
  "kernelspec": {
   "display_name": ".venv",
   "language": "python",
   "name": "python3"
  },
  "language_info": {
   "codemirror_mode": {
    "name": "ipython",
    "version": 3
   },
   "file_extension": ".py",
   "mimetype": "text/x-python",
   "name": "python",
   "nbconvert_exporter": "python",
   "pygments_lexer": "ipython3",
   "version": "3.12.3"
  }
 },
 "nbformat": 4,
 "nbformat_minor": 4
}
