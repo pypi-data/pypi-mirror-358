{
 "cells": [
  {
   "cell_type": "code",
   "execution_count": null,
   "metadata": {},
   "outputs": [],
   "source": [
    "import pandas as pd\n",
    "from scipy.cluster.hierarchy import linkage\n",
    "import numpy as np\n",
    "import random\n",
    "import string\n",
    "import rtsvg\n",
    "rt = rtsvg.RACETrack()\n",
    "def randomString(): return ''.join(random.choices(string.ascii_uppercase + string.digits, k=10))\n",
    "_tiles_, _dfs_ = [], []\n",
    "for _number_of_models_ in range(5,8):\n",
    "    for _question_id_ in range(1, 4): \n",
    "        for _number_of_scus_ in range(10, 40, 4): # range(4, 100, 4):\n",
    "            _qid_  = f'q{_question_id_}_m{_number_of_models_}_scu{_number_of_scus_}'\n",
    "            _scus_ = []\n",
    "            for i in range(_number_of_scus_): _scus_.append(randomString())\n",
    "            _lu_ = {'qid':[], 'q':[], 'm':[], 'scu':[]}\n",
    "            for _model_no_ in range(_number_of_models_):\n",
    "                num_of_scus = random.randint(1, len(_scus_))\n",
    "                _scus_choices_ = random.sample(_scus_, num_of_scus)\n",
    "                for _scu_ in _scus_choices_:\n",
    "                    _lu_['qid'].append(_qid_)\n",
    "                    _lu_['q']  .append('???')\n",
    "                    _lu_['m']  .append(f'm{_model_no_}')\n",
    "                    _lu_['scu'].append(_scu_)\n",
    "            df_test  = pd.DataFrame(_lu_)\n",
    "            _dfs_.append(df_test)\n",
    "            _list_   = list(set(df_test['m']))\n",
    "            #\n",
    "            # Colors are from Colorgorical\n",
    "            # http://vrl.cs.brown.edu/color\n",
    "            #@article{gramazio-2017-ccd,\n",
    "            # author={Gramazio, Connor C. and Laidlaw, David H. and Schloss, Karen B.},\n",
    "            # journal={IEEE Transactions on Visualization and Computer Graphics},\n",
    "            # title={Colorgorical: creating discriminable and preferable color palettes for information visualization},\n",
    "            # year={2017}}\n",
    "            #\n",
    "            _colors_ = [\"#0cc0aa\", \"#1d7583\", \"#68c3ef\", \"#4149a3\", \"#ffa8ff\", \"#ae4acd\", \"#8f8ac5\", \"#7b2750\", \"#f0348f\"]\n",
    "            for i in range(len(_list_)): rt.co_mgr.str_to_color_lu[_list_[i]] = _colors_[i]\n",
    "            scu_pyramid_test = rtsvg.SCUPyramidMethodDiagram(rt, df_test, 'qid', 'scu', 'm', q_id_multiple=1.2)\n",
    "            _tiles_.append(scu_pyramid_test.svgSnowman(_qid_, r_scu=14))\n",
    "            _tiles_.append(scu_pyramid_test.svgCairn  (_qid_, attach_histogram_to_levels=False, rx=0, histogram=True))\n",
    "            _tiles_.append(scu_pyramid_test.svgPyramid(_qid_))\n",
    "rt.table(_tiles_, per_row=3, spacer=10)"
   ]
  },
  {
   "cell_type": "code",
   "execution_count": null,
   "metadata": {},
   "outputs": [],
   "source": [
    "# Order Sets By Similarity Example\n",
    "from scipy.cluster.hierarchy import linkage\n",
    "import numpy as np\n",
    "_list_ = [\n",
    "    {1,2,3},\n",
    "    {1,3},\n",
    "    {4,5,6},\n",
    "    {1,2,3},\n",
    "    {4,5,8},\n",
    "    {1,2},\n",
    "    {1,3}\n",
    "]\n",
    "_array_ = []\n",
    "for i in range(len(_list_)):\n",
    "    _row_ = []\n",
    "    for j in range(len(_list_)):\n",
    "        _similarity_ = len(_list_[i] & _list_[j]) / len(_list_[i] | _list_[j])\n",
    "        _row_.append(_similarity_)\n",
    "    _array_.append(_row_)\n",
    "# Perform hierarchical clustering\n",
    "linkage_matrix = linkage(_array_, method='ward')\n",
    "# Place into a tree\n",
    "parent_to_children = {}\n",
    "next_node_id       = len(_list_)\n",
    "for row in linkage_matrix:\n",
    "    to_merge_0, to_merge_1 = int(row[0]), int(row[1])\n",
    "    parent_to_children[next_node_id] = [to_merge_0, to_merge_1]\n",
    "    next_node_id += 1\n",
    "root_node = next_node_id - 1\n",
    "# Walk the leaves of the dendrogram\n",
    "def leafWalk(node_id):\n",
    "    if node_id < len(_list_):\n",
    "        return [node_id]\n",
    "    left_child, right_child = parent_to_children[node_id]\n",
    "    return leafWalk(left_child) + leafWalk(right_child)\n",
    "order = leafWalk(root_node)\n",
    "#for i in order:print(_list_[i])"
   ]
  },
  {
   "cell_type": "code",
   "execution_count": null,
   "metadata": {},
   "outputs": [],
   "source": [
    "q_id_field   = 'qid'\n",
    "source_field = 'm'\n",
    "scu_field    = 'scu'\n",
    "\n",
    "def __scu_level_source_counds__      (df, qid, q_id_field, source_field, scu_field):\n",
    "    _df_ =  df .query(f'`{q_id_field}` == @qid')\n",
    "    _df_ = _df_.groupby(scu_field)[source_field].nunique().reset_index().rename({source_field:'__source_count__'},axis=1).sort_values('__source_count__', ascending=False)\n",
    "    _df_ = _df_.groupby('__source_count__')[scu_field].nunique().reset_index().rename({scu_field:'__scus_on_level__'},axis=1)\n",
    "    r = {}\n",
    "    for i in range(len(_df_)):\n",
    "        scus_on_level = _df_.iloc[i]['__scus_on_level__']\n",
    "        level         = _df_.iloc[i]['__source_count__']\n",
    "        r[level] = scus_on_level\n",
    "    return r\n",
    "\n",
    "def pyramidTopHeavyScore   (df, qid, q_id_field, source_field, scu_field):\n",
    "    pass\n",
    "\n",
    "def pyramidBottomHeavyScore(df, qid, q_id_field, source_field, scu_field):\n",
    "    pass\n"
   ]
  },
  {
   "cell_type": "code",
   "execution_count": null,
   "metadata": {},
   "outputs": [],
   "source": [
    "i     = 1\n",
    "qid   = _dfs_[i].iloc[0][q_id_field]\n",
    "_svg_ = rtsvg.SCUPyramidMethodDiagram(rt, _dfs_[i], q_id_field, scu_field, source_field).svgCairn(qid)\n",
    "rt.tile([_svg_])"
   ]
  },
  {
   "cell_type": "code",
   "execution_count": null,
   "metadata": {},
   "outputs": [],
   "source": [
    "__scu_level_source_counds__(_dfs_[i], qid, q_id_field, source_field, scu_field)"
   ]
  },
  {
   "cell_type": "code",
   "execution_count": null,
   "metadata": {},
   "outputs": [],
   "source": []
  }
 ],
 "metadata": {
  "kernelspec": {
   "display_name": ".venv",
   "language": "python",
   "name": "python3"
  },
  "language_info": {
   "codemirror_mode": {
    "name": "ipython",
    "version": 3
   },
   "file_extension": ".py",
   "mimetype": "text/x-python",
   "name": "python",
   "nbconvert_exporter": "python",
   "pygments_lexer": "ipython3",
   "version": "3.12.3"
  }
 },
 "nbformat": 4,
 "nbformat_minor": 2
}
