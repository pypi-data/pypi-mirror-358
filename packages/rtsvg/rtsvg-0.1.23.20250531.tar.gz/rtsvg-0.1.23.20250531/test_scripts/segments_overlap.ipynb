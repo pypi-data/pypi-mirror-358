{
 "cells": [
  {
   "cell_type": "code",
   "execution_count": null,
   "metadata": {},
   "outputs": [],
   "source": [
    "import rtsvg\n",
    "rt = rtsvg.RACETrack()\n",
    "def testSegments(seg0, seg1, expected_result, w=128, h=128, x_ins=16, y_ins=16):\n",
    "    x_min, x_max = min(seg0[0][0],seg0[1][0],seg1[0][0],seg1[1][0]), max(seg0[0][0],seg0[1][0],seg1[0][0],seg1[1][0])\n",
    "    y_min, y_max = min(seg0[0][1],seg0[1][1],seg1[0][1],seg1[1][1]), max(seg0[0][1],seg0[1][1],seg1[0][1],seg1[1][1])\n",
    "    if x_max - x_min < 0.1: x_min, x_max = x_min - 0.5, x_max + 0.5\n",
    "    if y_max - y_min < 0.1: y_min, y_max = y_min - 0.5, y_max + 0.5\n",
    "    t_or_f = rt.segmentsOverlap(seg0, seg1)\n",
    "    svg     = [f'<svg x=\"0\" y=\"0\" width=\"{w}\" height=\"{h}\">']\n",
    "    _color_ = '#eaffea' if t_or_f else '#ffdada'\n",
    "    svg.append(f'<rect x=\"0\" y=\"0\" width=\"{w}\" height=\"{h}\" fill=\"{_color_}\"/>')\n",
    "    toSx = lambda wx: x_ins + (w-2*x_ins)*(wx - x_min)/(x_max - x_min)\n",
    "    toSy = lambda wy: y_ins + (h-2*y_ins)*(wy - y_min)/(y_max - y_min)\n",
    "    def drawSegment(s, fill):\n",
    "        _color_ = '#0000ff' if fill else '#000000'\n",
    "        _x1_, _x2_ = toSx(s[0][0]), toSx(s[1][0])\n",
    "        _y1_, _y2_ = toSy(s[0][1]), toSy(s[1][1])\n",
    "        svg.append(f'<line x1=\"{_x1_}\" y1=\"{_y1_}\" x2=\"{_x2_}\" y2=\"{_y2_}\" stroke=\"{_color_}\" stroke-width=\"1.5\"/>')\n",
    "        if fill:\n",
    "            svg.append(f'<circle cx=\"{_x1_}\" cy=\"{_y1_}\" r=\"3\" fill=\"{_color_}\" stroke=\"none\" />')\n",
    "            svg.append(f'<circle cx=\"{_x2_}\" cy=\"{_y2_}\" r=\"3\" fill=\"{_color_}\" stroke=\"none\" />')\n",
    "        else:\n",
    "            svg.append(f'<circle cx=\"{_x1_}\" cy=\"{_y1_}\" r=\"4\" fill=\"none\" stroke=\"{_color_}\" />')\n",
    "            svg.append(f'<circle cx=\"{_x2_}\" cy=\"{_y2_}\" r=\"4\" fill=\"none\" stroke=\"{_color_}\" />')\n",
    "    \n",
    "    if expected_result == t_or_f: _to_render_ = chr(0x2713)\n",
    "    else:                         _to_render_ = chr(10060)\n",
    "    svg.append(rt.svgText(_to_render_, 2, h - 2, 16))\n",
    "\n",
    "    drawSegment(seg0, False)\n",
    "    drawSegment(seg1, True)\n",
    "    svg.append(\"</svg>\")\n",
    "    return ''.join(svg)"
   ]
  },
  {
   "cell_type": "code",
   "execution_count": null,
   "metadata": {},
   "outputs": [],
   "source": [
    "tests = [\n",
    "    [((1,0),    (0,0)),        ((0,0),      (0,1)),         False],\n",
    "    [((1,1),    (0.5,0.5)),    ((0.5,0.5),  (0,0)),         False],\n",
    "    [((1,1),    (0.25,0.25)),  ((0.75,0.75),(0,0)),         True],\n",
    "    [((0,0),    (0,0.5)),      ((0,0.5),    (0,1.0)),       False],\n",
    "    [((0,0),    (0.5,0)),      ((0.5,0),    (1,0)),         False],\n",
    "    [((0,0.1),  (0.5,0.1)),    ((0.5,0),    (1,0)),         False],\n",
    "    [((0,0.01), (0.5,0.01)),   ((0.5,0),    (1,0)),         False],\n",
    "    [((0,0.001),(0.5,0.001)),  ((0.5,0),    (1,0)),         False],\n",
    "    [((0,0.001),(0.5,0.005)),  ((0.5,0),    (1,0)),         True],\n",
    "    [((0,0.001),(0.5,0.009)),  ((0.5,0),    (1,0)),         True],\n",
    "    [((0,0.001),(0.5,0.012)),  ((0.5,0),    (1,0)),         False],\n",
    "    [((0,0.001),(0.5,0.018)),  ((0.5,0),    (1,0)),         False],\n",
    "    [((0,0.001),(0.6,0.021)),  ((0.5,0),    (1,0)),         False],\n",
    "    [((0,0),    (1,1)),        ((1,1),      (0.5,0.5)),     True],\n",
    "    [((0,0),    (1,1)),        ((1,1),      (0.99,0.99)),   True],\n",
    "    [((0,0),    (1,1)),        ((1,1),      (1.001,1.001)), False],\n",
    "    [((0,0),    (1,0)),        ((0,0),      (1,0)),         True],\n",
    "    [((0,0),    (1,0)),        ((1,0),      (0,0)),         True],\n",
    "    [((0,1),    (0,0)),        ((0,0),      (0,1)),         True],\n",
    "    [((0,1),    (0,0)),        ((0,0),      (0,0.999)),     True],\n",
    "    [((0,1),    (0,0)),        ((0,0),      (0,0.99)),      True],\n",
    "    [((0,1),    (0,0)),        ((0,0),      (0,0.9)),       True],\n",
    "    [((0,1),    (0,0)),        ((0.001,0),  (0.001,1)),     True],\n",
    "]\n",
    "svgs = []\n",
    "for _test_ in tests: svgs.append(testSegments(_test_[0], _test_[1],_test_[2]))\n",
    "rt.table(svgs, spacer=10, per_row=8)"
   ]
  },
  {
   "cell_type": "code",
   "execution_count": null,
   "metadata": {},
   "outputs": [],
   "source": []
  },
  {
   "cell_type": "code",
   "execution_count": null,
   "metadata": {},
   "outputs": [],
   "source": []
  }
 ],
 "metadata": {
  "kernelspec": {
   "display_name": ".venv",
   "language": "python",
   "name": "python3"
  },
  "language_info": {
   "codemirror_mode": {
    "name": "ipython",
    "version": 3
   },
   "file_extension": ".py",
   "mimetype": "text/x-python",
   "name": "python",
   "nbconvert_exporter": "python",
   "pygments_lexer": "ipython3",
   "version": "3.12.3"
  }
 },
 "nbformat": 4,
 "nbformat_minor": 2
}
