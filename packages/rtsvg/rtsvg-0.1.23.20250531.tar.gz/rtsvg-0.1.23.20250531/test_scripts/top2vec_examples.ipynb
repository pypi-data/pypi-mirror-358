{
 "cells": [
  {
   "cell_type": "code",
   "execution_count": null,
   "metadata": {},
   "outputs": [],
   "source": [
    "import pandas as pd\n",
    "import polars as pl\n",
    "import numpy  as np\n",
    "from top2vec import Top2Vec\n",
    "import sys\n",
    "sys.path.insert(1, '../rtsvg')\n",
    "from rtsvg import *\n",
    "rt = RACETrack()"
   ]
  },
  {
   "cell_type": "code",
   "execution_count": null,
   "metadata": {},
   "outputs": [],
   "source": [
    "df = pd.read_csv('../../data/kaggle_phishing_emails/Phishing_Email.csv').sample(2000)\n",
    "df = df.drop(['Unnamed: 0'],axis=1)\n",
    "df['Email Text'] = df['Email Text'].astype(str)\n",
    "ls = list()\n",
    "for x in df['Email Text']:\n",
    "    ls.append(str(x))\n",
    "topic_model = Top2Vec(ls)\n",
    "df['topic_number'] = topic_model.get_documents_topics(list(range(len(df))))[0]\n",
    "topic_model.get_num_topics()"
   ]
  },
  {
   "cell_type": "code",
   "execution_count": null,
   "metadata": {},
   "outputs": [],
   "source": [
    "rt.smallMultiples(df, category_by='topic_number', sm_type='wordCloud', sm_params={'text_fields':'Email Text'})"
   ]
  },
  {
   "cell_type": "code",
   "execution_count": null,
   "metadata": {},
   "outputs": [],
   "source": [
    "rt.co_mgr.str_to_color_lu['Phishing Email'] = '#ff0000'\n",
    "rt.co_mgr.str_to_color_lu['Safe Email']     = '#0000ff'\n",
    "rt.histogram(df, bin_by='topic_number', color_by='Email Type')"
   ]
  },
  {
   "cell_type": "code",
   "execution_count": null,
   "metadata": {},
   "outputs": [],
   "source": []
  }
 ],
 "metadata": {
  "kernelspec": {
   "display_name": ".venv",
   "language": "python",
   "name": "python3"
  },
  "language_info": {
   "codemirror_mode": {
    "name": "ipython",
    "version": 3
   },
   "file_extension": ".py",
   "mimetype": "text/x-python",
   "name": "python",
   "nbconvert_exporter": "python",
   "pygments_lexer": "ipython3",
   "version": "3.11.6"
  }
 },
 "nbformat": 4,
 "nbformat_minor": 2
}
