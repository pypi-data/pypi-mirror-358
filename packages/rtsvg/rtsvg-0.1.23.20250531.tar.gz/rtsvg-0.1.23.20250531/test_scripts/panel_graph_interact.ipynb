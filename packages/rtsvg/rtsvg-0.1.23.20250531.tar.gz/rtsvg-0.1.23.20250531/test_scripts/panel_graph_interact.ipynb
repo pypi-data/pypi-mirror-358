{
 "cells": [
  {
   "cell_type": "code",
   "execution_count": null,
   "metadata": {},
   "outputs": [],
   "source": [
    "import pandas as pd\n",
    "import polars as pl\n",
    "import rtsvg\n",
    "# from rt_panel_mixin import RTGraphInteractiveLayout\n",
    "\n",
    "rt = rtsvg.RACETrack()\n",
    "\n",
    "df = pl.DataFrame({'fm':'a b c d e a'.split(),\n",
    "                   'to':'b c d e a d'.split()})\n",
    "_pos_    = {'a':(0.0,0.0), 'b':(1.0,0.0), 'c':(1.0,1.0), 'd':(0.5,1.0), 'e':(0.0,1.0)}\n",
    "_params_ = {'relationships':[('fm','to')], 'draw_labels':True, 'render_pos_context':True, \n",
    "            'link_size':'large', 'link_opacity':0.2, 'pos':_pos_}\n",
    "_rtg_ = rt.interactiveGraphLayout(df, _params_, w=300, h=200)\n",
    "_rtg_"
   ]
  },
  {
   "cell_type": "code",
   "execution_count": null,
   "metadata": {},
   "outputs": [],
   "source": [
    "#_rtg_.info_str = \"Test\"\n",
    "#_rtg_.selected_entities, _rtg_.selectionpath, _rtg_.last_key, _rtg_.allentities_x0, _rtg_.allentities_y0\n",
    "_rtg_.selectEntities(set(['a','b','c']))\n",
    "_rtg_.selectedEntities()"
   ]
  },
  {
   "cell_type": "code",
   "execution_count": null,
   "metadata": {},
   "outputs": [],
   "source": [
    "_rtg_.op_str\n",
    "#rt.linkNode(df, pos=_pos_, **_params_)"
   ]
  },
  {
   "cell_type": "code",
   "execution_count": null,
   "metadata": {},
   "outputs": [],
   "source": [
    "df_nf  = pl.read_csv('../../netflow_sample.csv').sample(10_000)\n",
    "print(len(set(df_nf['sip']) | set(df_nf['dip'])))\n",
    "pos_nf = {}\n",
    "print('total nodes = ', len(set(df_nf['sip']) | set(df_nf['dip'])))"
   ]
  },
  {
   "cell_type": "code",
   "execution_count": null,
   "metadata": {},
   "outputs": [],
   "source": [
    "_rtg_nf_ = rt.interactiveGraphLayout(df_nf, {'relationships':[('sip','dip')], 'draw_labels':True, 'link_opacity':0.1, 'pos':pos_nf})\n",
    "_rtg_nf_"
   ]
  },
  {
   "cell_type": "code",
   "execution_count": null,
   "metadata": {},
   "outputs": [],
   "source": [
    "# ... so only keys that are safe with shift will be used // 2024-06-16\n",
    "# in firefox for jupyter lab, neither \"m\" nor \"r\" are safe to use (unless defaults are prevented... then everything\n",
    "# is safe (assuming w/out control being pressed) ... except that's not how visual studio code works...\n",
    "# okay \"  c e ghi   mn pqrstu w yz\" -- these keys don't seem to be shortcuts // visual studio code\n",
    "# okay \"  c e ghi    n pq stu w yz\" -- these keys don't seem to be shortcuts // firefox for jupyter lab\n",
    "# used \"    e g      n pq st  w  z\"\n",
    "# aval \"  c     i           u   y \" -- set(okay) minus set(used)\n",
    "# ... all are safe with \"shift\" ... any mouse does is not safe with shift 2024-06-18\n",
    "\n",
    "# 'e' :            - expand selection \n",
    "# 'e' : shift      - use a digraph\n",
    "# 'g' :            - apply layout shape to the selected nodes\n",
    "# 'g' : shift      - cycle through layout options\n",
    "# 'n' :            - iterate through the selection modes for nodes\n",
    "# 'p':             - remove nodes from dataframe (push new dataframe onto the stack)\n",
    "# 'p': shift       - add them back in (go up the stack)\n",
    "# 'q' :            - invert selection\n",
    "# 'q' : shift      - select common neighbors\n",
    "# 's' :            - set selected nodes to the sticky label set\n",
    "# 's' : shift      - subtract nodes from sticky labels\n",
    "# 't':             - combine into a single node\n",
    "# 'w' :            - add nodes to sticky labels\n",
    "# 'w' : shift      - toggle through \"all labels\" / \"sticky labels\" / \"no labels\"\n",
    "# 'z' :            - zoom (if selected nodes, fit all selected in view) ... if none selected, fit all nodes in the view\n",
    "# 'z' : shift      - selected w/ all neighbors in view\n",
    "\n",
    "\n",
    "# '1..90':         - select nodes by degree w/ 0 == > 9 degree\n",
    "# '1..90':         - (if nodes are already selected... do the intersection with those nodes)\n",
    "# '1..90': shift   - subtract those nodes from the selection\n"
   ]
  },
  {
   "cell_type": "code",
   "execution_count": null,
   "metadata": {},
   "outputs": [],
   "source": [
    "df = pl.DataFrame({'fm':'a b c d'.split(), 'to':'b c d a'.split(), 'ct':[1, 1, 6, 3]})\n",
    "_pos_ = {'a':(0.0,0.0), 'b':(1.0,0.0), 'c':(1.0,1.0), 'd':(0.5,1.0)}\n",
    "_params_ = {'relationships':[('fm','to')], 'pos':_pos_, 'link_size':'vary', 'count_by':'ct', \n",
    "            'draw_labels':True, 'node_labels':{'d':'test','c':'more'}}\n",
    "_rtg_ = rt.interactiveGraphLayout(df, _params_, w=300, h=200)\n",
    "_rtg_"
   ]
  },
  {
   "cell_type": "code",
   "execution_count": null,
   "metadata": {},
   "outputs": [],
   "source": [
    "_rtg_.selectEntities(set(['test','more','a']))"
   ]
  },
  {
   "cell_type": "code",
   "execution_count": null,
   "metadata": {},
   "outputs": [],
   "source": [
    "_rtg_.selectedEntities()"
   ]
  },
  {
   "cell_type": "code",
   "execution_count": null,
   "metadata": {},
   "outputs": [],
   "source": [
    "set(_rtg_.graphs[0].nodes())"
   ]
  },
  {
   "cell_type": "code",
   "execution_count": null,
   "metadata": {},
   "outputs": [],
   "source": [
    "_rtg_.saveLayout('test_layout.csv')"
   ]
  },
  {
   "cell_type": "code",
   "execution_count": null,
   "metadata": {},
   "outputs": [],
   "source": [
    "_rtg_.loadLayout('test_layout.csv')"
   ]
  },
  {
   "cell_type": "code",
   "execution_count": null,
   "metadata": {},
   "outputs": [],
   "source": []
  }
 ],
 "metadata": {
  "kernelspec": {
   "display_name": "Python 3 (ipykernel)",
   "language": "python",
   "name": "python3"
  },
  "language_info": {
   "codemirror_mode": {
    "name": "ipython",
    "version": 3
   },
   "file_extension": ".py",
   "mimetype": "text/x-python",
   "name": "python",
   "nbconvert_exporter": "python",
   "pygments_lexer": "ipython3",
   "version": "3.12.3"
  }
 },
 "nbformat": 4,
 "nbformat_minor": 4
}
