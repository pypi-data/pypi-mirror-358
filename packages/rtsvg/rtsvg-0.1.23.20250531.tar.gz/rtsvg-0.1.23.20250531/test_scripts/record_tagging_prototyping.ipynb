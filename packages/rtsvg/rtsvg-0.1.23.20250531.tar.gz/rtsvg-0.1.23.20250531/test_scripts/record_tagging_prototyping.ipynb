{
 "cells": [
  {
   "cell_type": "code",
   "execution_count": null,
   "id": "fea17cef",
   "metadata": {},
   "outputs": [],
   "source": [
    "import pandas as pd\n",
    "import polars as pl\n",
    "import rtsvg\n",
    "rt   = rtsvg.RACETrack()\n",
    "_lu_ = {'fm':'a b b a'.split(),\n",
    "        'in':[1, 2, 3, 4],\n",
    "        'to':'b c a b'.split()}\n",
    "df_pd = pd.DataFrame(_lu_)\n",
    "df_pl = pl.DataFrame(_lu_)\n",
    "df_pd_sub = df_pd.query('fm == \"a\" or to == \"a\"')\n",
    "df_pl_sub = df_pl.filter(pl.col('fm').is_in(['a']) | pl.col('to').is_in(['a']))\n",
    "df_pd     = rt.tag(df_pd, df_pd_sub, 'color=red')\n",
    "df_pd"
   ]
  },
  {
   "cell_type": "code",
   "execution_count": null,
   "id": "945ae128",
   "metadata": {},
   "outputs": [],
   "source": [
    "df_pd_sub"
   ]
  },
  {
   "cell_type": "code",
   "execution_count": null,
   "id": "fce10009",
   "metadata": {},
   "outputs": [],
   "source": [
    "df_pd = rt.tag(df_pd, df_pd_sub, 'color=blue', op='add')\n",
    "df_pd"
   ]
  },
  {
   "cell_type": "code",
   "execution_count": null,
   "id": "2c9bd04c",
   "metadata": {},
   "outputs": [],
   "source": [
    "df_pd = rt.tag(df_pd, df_pd_sub, 'type=square', op='add')\n",
    "df_pd"
   ]
  },
  {
   "cell_type": "code",
   "execution_count": null,
   "id": "250d0a9d",
   "metadata": {},
   "outputs": [],
   "source": [
    "df_pl = rt.tag(df_pl, df_pl_sub, 'color=red')\n",
    "df_pl"
   ]
  },
  {
   "cell_type": "code",
   "execution_count": null,
   "id": "dc0793d5",
   "metadata": {},
   "outputs": [],
   "source": [
    "df_pl_sub"
   ]
  },
  {
   "cell_type": "code",
   "execution_count": null,
   "id": "4293a0b1",
   "metadata": {},
   "outputs": [],
   "source": [
    "df_pl = rt.tag(df_pl, df_pl_sub, 'color=blue')\n",
    "df_pl"
   ]
  },
  {
   "cell_type": "code",
   "execution_count": null,
   "id": "a6b7db29",
   "metadata": {},
   "outputs": [],
   "source": [
    "df_pl = rt.tag(df_pl, df_pl_sub, 'type=square', op='add')\n",
    "df_pl"
   ]
  },
  {
   "cell_type": "code",
   "execution_count": null,
   "id": "be84538e",
   "metadata": {},
   "outputs": [],
   "source": []
  }
 ],
 "metadata": {
  "kernelspec": {
   "display_name": ".venv",
   "language": "python",
   "name": "python3"
  },
  "language_info": {
   "codemirror_mode": {
    "name": "ipython",
    "version": 3
   },
   "file_extension": ".py",
   "mimetype": "text/x-python",
   "name": "python",
   "nbconvert_exporter": "python",
   "pygments_lexer": "ipython3",
   "version": "3.13.3"
  }
 },
 "nbformat": 4,
 "nbformat_minor": 5
}
