{
 "cells": [
  {
   "cell_type": "code",
   "execution_count": null,
   "id": "cd837309",
   "metadata": {},
   "outputs": [],
   "source": [
    "import polars as pl\n",
    "import rtsvg\n",
    "rt = rtsvg.RACETrack()\n",
    "df = pl.DataFrame({'fm':'a b c d a b c d a b c m'.split(), \n",
    "                   'to':'b c d a b c d a b c d n'.split(),\n",
    "                   'ty':'x x x x x y y y y y y y'.split()})\n",
    "rt.link(df, [('fm','to')], link_shape='curve')"
   ]
  },
  {
   "cell_type": "code",
   "execution_count": null,
   "id": "5573df11",
   "metadata": {},
   "outputs": [],
   "source": [
    "# Keeps a single record per edge\n",
    "df_single_rec = df.group_by(['fm','to']).first()\n",
    "df_single_rec"
   ]
  },
  {
   "cell_type": "code",
   "execution_count": null,
   "id": "f5c3222b",
   "metadata": {},
   "outputs": [],
   "source": [
    "# For two records (i.e., two edges), add back in all the records for those edges... (reverse of the last operation)\n",
    "_df_, _tuples_ = df_single_rec.sample(2), set()\n",
    "for k, k_df in _df_.group_by(['fm','to']): _tuples_.add(k)\n",
    "print(_tuples_)\n",
    "df.filter(pl.struct(['fm', 'to']).is_in(_df_.select(['fm', 'to']).unique().to_dicts())) # just this line is needed"
   ]
  },
  {
   "cell_type": "code",
   "execution_count": null,
   "id": "97a6482d",
   "metadata": {},
   "outputs": [],
   "source": [
    "# For two nodes, add all the records in for those nodes\n",
    "_nodes_ = set(['c','d'])\n",
    "df.filter(pl.col('fm').is_in(_nodes_) | pl.col('to').is_in(_nodes_))"
   ]
  },
  {
   "cell_type": "code",
   "execution_count": null,
   "id": "2f03b9b6",
   "metadata": {},
   "outputs": [],
   "source": []
  }
 ],
 "metadata": {
  "kernelspec": {
   "display_name": ".venv",
   "language": "python",
   "name": "python3"
  },
  "language_info": {
   "codemirror_mode": {
    "name": "ipython",
    "version": 3
   },
   "file_extension": ".py",
   "mimetype": "text/x-python",
   "name": "python",
   "nbconvert_exporter": "python",
   "pygments_lexer": "ipython3",
   "version": "3.12.3"
  }
 },
 "nbformat": 4,
 "nbformat_minor": 5
}
