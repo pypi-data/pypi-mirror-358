{
 "cells": [
  {
   "cell_type": "code",
   "execution_count": null,
   "metadata": {},
   "outputs": [],
   "source": [
    "# Finds updated version of python implementation that allows the same\n",
    "# f-string start symbol to occur within the braces of the f-string...\n",
    "#\n",
    "# Too lazy to install pyenv...\n",
    "import re\n",
    "import os\n",
    "_to_test_ = [r\"\"\".*f['].*[{].*['].*['].*[}]['].*\"\"\",\n",
    "             r\"\"\".*f[\"].*[{].*[\"].*[\"].*[}][\"].*\"\"\"]\n",
    "\n",
    "_dir_   = '../rtsvg/'\n",
    "_files_ = os.listdir(_dir_)\n",
    "for _file_ in _files_:\n",
    "    if _file_.endswith('.py'):\n",
    "        with open(_dir_ + _file_, 'r') as f:\n",
    "            _lines_ = f.readlines()\n",
    "        for _line_ in _lines_:\n",
    "            for _test_ in _to_test_:\n",
    "                _match_ = re.match(_test_, _line_)\n",
    "                if _match_: print(_file_ + '\\n' + str(_match_) + '\\n' + _line_)"
   ]
  },
  {
   "cell_type": "code",
   "execution_count": null,
   "metadata": {},
   "outputs": [],
   "source": [
    "#\n",
    "# Tests...\n",
    "#\n",
    "_strs_ = '''f'this is okay {\"okay!\"}'\n",
    "f'this is not okay {'not okay!'}'\n",
    "\n",
    "f\"this is not okay {\"not okay!\"}\"\n",
    "f\"this is okay {'okay!'}\"'''\n",
    "for _str_ in _strs_.split('\\n'):\n",
    "    print(re.match(r\"\"\".*f['].*[{].*['].*['].*[}]['].*\"\"\", _str_))\n",
    "    print(re.match(r\"\"\".*f[\"].*[{].*[\"].*[\"].*[}][\"].*\"\"\", _str_))"
   ]
  },
  {
   "cell_type": "code",
   "execution_count": null,
   "metadata": {},
   "outputs": [],
   "source": []
  }
 ],
 "metadata": {
  "kernelspec": {
   "display_name": ".venv",
   "language": "python",
   "name": "python3"
  },
  "language_info": {
   "codemirror_mode": {
    "name": "ipython",
    "version": 3
   },
   "file_extension": ".py",
   "mimetype": "text/x-python",
   "name": "python",
   "nbconvert_exporter": "python",
   "pygments_lexer": "ipython3",
   "version": "3.12.3"
  }
 },
 "nbformat": 4,
 "nbformat_minor": 2
}
