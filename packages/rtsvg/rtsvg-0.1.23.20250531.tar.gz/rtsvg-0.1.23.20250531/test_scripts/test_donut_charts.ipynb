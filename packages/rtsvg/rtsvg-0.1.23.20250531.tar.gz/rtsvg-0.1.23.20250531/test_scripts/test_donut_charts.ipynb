{
 "cells": [
  {
   "cell_type": "code",
   "execution_count": null,
   "id": "783c8f73",
   "metadata": {},
   "outputs": [],
   "source": [
    "import pandas as pd\n",
    "import polars as pl\n",
    "import rtsvg\n",
    "rt = rtsvg.RACETrack()"
   ]
  },
  {
   "cell_type": "code",
   "execution_count": null,
   "id": "0e9993a3",
   "metadata": {
    "panel-layout": {
     "height": 175.58334350585938,
     "visible": true,
     "width": 100
    }
   },
   "outputs": [],
   "source": [
    "_lu_  = {'count':[10.0,40.0,5.0],\n",
    "         'alpha':['a','b','c'],\n",
    "         'color':['green','blue','yellow']}\n",
    "for i in range(5):\n",
    "    _lu_['count'].append(0.5)\n",
    "    _lu_['alpha'].append(chr(ord('a')+i%26))\n",
    "    _lu_['color'].append(str(i))\n",
    "df    = pd.DataFrame(_lu_)\n",
    "df_pl = pl.DataFrame(_lu_)\n",
    "pc0 = rt.pieChart(df,    color_by='color', count_by='count', style='pie',   track_state=True)\n",
    "pc1 = rt.pieChart(df,    color_by='color', count_by='count', style='donut', track_state=True)\n",
    "pc2 = rt.pieChart(df_pl, color_by='color', count_by='count', style='pie',   track_state=True)\n",
    "pc3 = rt.pieChart(df_pl, color_by='color', count_by='count', style='donut', track_state=True)\n",
    "rt.tile([pc0, pc1, pc2, pc3])"
   ]
  },
  {
   "cell_type": "code",
   "execution_count": null,
   "id": "7feffbf8",
   "metadata": {
    "panel-layout": {
     "height": 338.33331298828125,
     "visible": true,
     "width": 100
    }
   },
   "outputs": [],
   "source": [
    "_spec_ = {(0,0,1,1):('pieChart',   {'style':'pie',    'color_by':'color'})} # breaks w/ polars\n",
    "# _spec_ = {(0,0,1,1):('histogram',  {'bin_by':'alpha', 'color_by':'color'})} # breaks w/ polars\n",
    "rt.layout(_spec_, df_pl, color_by='color', count_by='count', w=256, h=128)"
   ]
  },
  {
   "cell_type": "code",
   "execution_count": null,
   "id": "076e5eee",
   "metadata": {
    "panel-layout": {
     "height": 132.0833282470703,
     "visible": true,
     "width": 100
    }
   },
   "outputs": [],
   "source": [
    "_ip_ = rt.interactivePanel(df, _spec_, rt_params={'color_by':'color', 'count_by':'count'}, w=256, h=128)\n",
    "_ip_"
   ]
  },
  {
   "cell_type": "code",
   "execution_count": null,
   "id": "8235d4a0",
   "metadata": {
    "panel-layout": {
     "height": 132.08334350585938,
     "visible": true,
     "width": 100
    },
    "scrolled": true
   },
   "outputs": [],
   "source": [
    "_ip2_ = rt.interactivePanel(df_pl, _spec_, rt_params={'color_by':'color', 'count_by':'count'}, w=256, h=128)\n",
    "_ip2_"
   ]
  },
  {
   "cell_type": "code",
   "execution_count": null,
   "id": "4d838a02-21f8-4b3b-8f7b-e6eae5acc1fb",
   "metadata": {},
   "outputs": [],
   "source": []
  }
 ],
 "metadata": {
  "kernelspec": {
   "display_name": "Python 3 (ipykernel)",
   "language": "python",
   "name": "python3"
  },
  "language_info": {
   "codemirror_mode": {
    "name": "ipython",
    "version": 3
   },
   "file_extension": ".py",
   "mimetype": "text/x-python",
   "name": "python",
   "nbconvert_exporter": "python",
   "pygments_lexer": "ipython3",
   "version": "3.12.3"
  },
  "panel-cell-order": [
   "0e9993a3",
   "7feffbf8",
   "076e5eee",
   "8235d4a0"
  ]
 },
 "nbformat": 4,
 "nbformat_minor": 5
}
