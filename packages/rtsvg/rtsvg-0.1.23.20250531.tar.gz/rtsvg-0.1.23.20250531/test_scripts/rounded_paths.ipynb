{
 "cells": [
  {
   "cell_type": "code",
   "execution_count": null,
   "metadata": {},
   "outputs": [],
   "source": [
    "import rtsvg\n",
    "rt = rtsvg.RACETrack()\n",
    "svg_hdr = '<svg x=\"0\" y=\"0\" width=\"512\" height=\"512\"> <rect x=\"0\" y=\"0\" width=\"512\" height=\"512\" fill=\"white\" />'\n",
    "svg_ftr = '</svg>'\n",
    "p  = 'M 100 100 L 130 100 L 130 80 L 150 80 L 150 100 L 200 100 L 200 150 L 250 150 L 250 200 L 200 200 L 180 200 L 150 240 L 120 200 L 100 200 Z'\n",
    "rt.table([svg_hdr + f'<path d=\"{p}\"                       stroke=\"black\" stroke-width=\"1.0\" fill=\"none\" />' + svg_ftr,\n",
    "          svg_hdr + f'<path d=\"{rt.svgSmoothPath(p,5)}\"   stroke=\"red\"   stroke-width=\"1.0\" fill=\"none\" />' + svg_ftr,\n",
    "          svg_hdr + f'<path d=\"{rt.svgSmoothPath(p,50)}\"  stroke=\"red\"   stroke-width=\"1.0\" fill=\"none\" />' + svg_ftr,\n",
    "          svg_hdr + f'<path d=\"{rt.svgSmoothPath(p,500)}\" stroke=\"red\"   stroke-width=\"1.0\" fill=\"none\" />' + svg_ftr], per_row=2, spacer=10)"
   ]
  },
  {
   "cell_type": "code",
   "execution_count": null,
   "metadata": {},
   "outputs": [],
   "source": []
  }
 ],
 "metadata": {
  "kernelspec": {
   "display_name": ".venv",
   "language": "python",
   "name": "python3"
  },
  "language_info": {
   "codemirror_mode": {
    "name": "ipython",
    "version": 3
   },
   "file_extension": ".py",
   "mimetype": "text/x-python",
   "name": "python",
   "nbconvert_exporter": "python",
   "pygments_lexer": "ipython3",
   "version": "3.12.3"
  }
 },
 "nbformat": 4,
 "nbformat_minor": 2
}
