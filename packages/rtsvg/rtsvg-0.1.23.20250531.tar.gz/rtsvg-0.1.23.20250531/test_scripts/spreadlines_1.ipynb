{
 "cells": [
  {
   "cell_type": "code",
   "execution_count": null,
   "metadata": {},
   "outputs": [],
   "source": [
    "import pandas as pd\n",
    "import polars as pl\n",
    "import numpy as np\n",
    "import time\n",
    "import random\n",
    "import copy\n",
    "import rtsvg\n",
    "rt = rtsvg.RACETrack()\n",
    "\n",
    "from spreadlines_prototyping import spreadLines\n",
    "\n",
    "df1 = pl.read_csv('../../data/2013_vast_challenge/mc3_netflow/nf/nf-chunk1.csv')\n",
    "df2 = pl.read_csv('../../data/2013_vast_challenge/mc3_netflow/nf/nf-chunk2.csv')\n",
    "df3 = pl.read_csv('../../data/2013_vast_challenge/mc3_netflow/nf/nf-chunk3.csv')\n",
    "df  = pl.concat([df1, df2, df3])\n",
    "\n",
    "df = rt.columnsAreTimestamps(df, 'parsedDate')\n",
    "df = df.rename({'TimeSeconds':                '_del1_',\n",
    "                'parsedDate':                 'timestamp',\n",
    "                'dateTimeStr':                '_del2_',\n",
    "                'ipLayerProtocol':            'pro',\n",
    "                'ipLayerProtocolCode':        '_del3_',\n",
    "                'firstSeenSrcIp':             'sip',\n",
    "                'firstSeenDestIp':            'dip',\n",
    "                'firstSeenSrcPort':           'spt',\n",
    "                'firstSeenDestPort':          'dpt',\n",
    "                'moreFragments':              '_del4_',\n",
    "                'contFragments':              '_del5_',\n",
    "                'durationSeconds':            'dur',\n",
    "                'firstSeenSrcPayloadBytes':   '_del6_',\n",
    "                'firstSeenDestPayloadBytes':  '_del7_',\n",
    "                'firstSeenSrcTotalBytes':     'soct',\n",
    "                'firstSeenDestTotalBytes':    'doct',\n",
    "                'firstSeenSrcPacketCount':    'spkt',\n",
    "                'firstSeenDestPacketCount':   'dpkt',\n",
    "                'recordForceOut':             '_del8_'})\n",
    "df = df.drop(['_del1_', '_del2_', '_del3_', '_del4_', '_del5_', '_del6_', '_del7_', '_del8_'])\n",
    "#df = df.sample(100_000)"
   ]
  },
  {
   "cell_type": "code",
   "execution_count": null,
   "metadata": {},
   "outputs": [],
   "source": [
    "# original impl:               about 14s per render ... total is about 43s\n",
    "# w/out the alter concat step: about  9s per render ... total is about 28s\n",
    "params = {'rt_self':rt, 'df':df, 'relationships':[('sip','dip')], 'node_color':'node', 'every':'1d', 'h':384}\n",
    "sl0   =       spreadLines(node_focus='172.30.0.4',                                                           **params)\n",
    "sl0_2 = rtsvg.spreadLines(node_focus='172.30.0.4',                                                           **params)\n",
    "rt.tile([sl0, sl0_2], horz=False)"
   ]
  },
  {
   "cell_type": "code",
   "execution_count": null,
   "metadata": {},
   "outputs": [],
   "source": [
    "sl1   =       spreadLines(node_focus='172.30.0.4', only_render_nodes=set(['10.156.165.212', '10.16.5.15',]), **params)\n",
    "sl1_2 = rtsvg.spreadLines(node_focus='172.30.0.4', only_render_nodes=set(['10.156.165.212', '10.16.5.15',]), **params)\n",
    "rt.tile([sl1, sl1_2], horz=False)"
   ]
  },
  {
   "cell_type": "code",
   "execution_count": null,
   "metadata": {},
   "outputs": [],
   "source": [
    "sl2   =       spreadLines(node_focus='172.30.0.4', only_render_nodes=set(),                                  **params)\n",
    "sl2_2 = rtsvg.spreadLines(node_focus='172.30.0.4', only_render_nodes=set(),                                  **params)\n",
    "rt.tile([sl2, sl2_2], horz=False)"
   ]
  },
  {
   "cell_type": "code",
   "execution_count": null,
   "metadata": {},
   "outputs": [],
   "source": [
    "# completes in 3s\n",
    "_every_          = '1d'\n",
    "df               = df.sort('timestamp')\n",
    "s                = '172.30.0.4'\n",
    "_df_             = df.group_by_dynamic('timestamp', every=_every_, group_by=['sip','dip']).agg()\n",
    "_one_degree_     = _df_.filter((pl.col('sip') == s) | (pl.col('dip') == s))\n",
    "_one_degree_set_ = set(_one_degree_['sip']) | set(_one_degree_['dip'])\n",
    "_df_             = _df_.filter((pl.col('sip').is_in(_one_degree_set_)) | (pl.col('dip').is_in(_one_degree_set_)))\n",
    "_df_             = _df_.sort('timestamp')\n",
    "for k, k_df in _df_.group_by_dynamic('timestamp', every=_every_):\n",
    "    ..."
   ]
  },
  {
   "cell_type": "code",
   "execution_count": null,
   "metadata": {},
   "outputs": [],
   "source": []
  }
 ],
 "metadata": {
  "kernelspec": {
   "display_name": ".venv",
   "language": "python",
   "name": "python3"
  },
  "language_info": {
   "codemirror_mode": {
    "name": "ipython",
    "version": 3
   },
   "file_extension": ".py",
   "mimetype": "text/x-python",
   "name": "python",
   "nbconvert_exporter": "python",
   "pygments_lexer": "ipython3",
   "version": "3.12.3"
  }
 },
 "nbformat": 4,
 "nbformat_minor": 2
}
