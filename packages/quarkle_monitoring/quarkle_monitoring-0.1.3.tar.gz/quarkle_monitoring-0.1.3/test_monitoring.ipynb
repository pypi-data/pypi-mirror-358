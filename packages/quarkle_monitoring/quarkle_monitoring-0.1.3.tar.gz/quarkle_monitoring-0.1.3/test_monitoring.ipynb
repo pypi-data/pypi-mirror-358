{
  "cells": [
    {
      "cell_type": "raw",
      "metadata": {
        "vscode": {
          "languageId": "raw"
        }
      },
      "source": [
        "# Quarkle Error Monitoring - Test Notebook\n",
        "\n",
        "This notebook demonstrates the error monitoring system with both simple orchestrator usage and advanced individual component control.\n",
        "\n",
        "## Features Covered:\n",
        "- ✅ **Simple Orchestrator**: Easy setup with `QuarkleMonitoring`\n",
        "- ✅ **Individual Components**: Advanced usage with separate cache, error tracking, and notifications\n",
        "- ✅ **Protocol-based Design**: Loose coupling between components\n",
        "- ✅ **Memory Cache**: Built-in fallback when Redis isn't available\n",
        "- ✅ **Slack Integration**: Error alerts and lifecycle notifications\n",
        "- ✅ **Decorator Pattern**: Automatic error tracking for functions\n",
        "- ✅ **Rate Limiting**: Prevents spam alerts\n"
      ]
    },
    {
      "cell_type": "code",
      "execution_count": null,
      "metadata": {},
      "outputs": [],
      "source": [
        "# Import all the components\n",
        "import os\n",
        "import time\n",
        "import json\n",
        "from typing import Dict, Any\n",
        "\n",
        "# Import the monitoring system\n",
        "from quarkle_monitoring import (\n",
        "    QuarkleMonitoring,\n",
        "    ErrorTracker, \n",
        "    SlackNotifier,\n",
        "    QuarkleCache,\n",
        "    MemoryCache,\n",
        "    track_errors\n",
        ")\n",
        "\n",
        "print(\"✅ All imports successful!\")\n",
        "print(\"📦 Available components:\")\n",
        "print(\"  - QuarkleMonitoring (orchestrator)\")\n",
        "print(\"  - ErrorTracker (error tracking)\")\n",
        "print(\"  - SlackNotifier (Slack alerts)\")\n",
        "print(\"  - QuarkleCache (Redis cache)\")\n",
        "print(\"  - MemoryCache (in-memory cache)\")\n",
        "print(\"  - track_errors (decorator)\")\n"
      ]
    },
    {
      "cell_type": "raw",
      "metadata": {
        "vscode": {
          "languageId": "raw"
        }
      },
      "source": [
        "## 1. Simple Orchestrator Approach\n",
        "\n",
        "The easiest way to use the monitoring system - everything wired together automatically.\n"
      ]
    },
    {
      "cell_type": "code",
      "execution_count": null,
      "metadata": {},
      "outputs": [],
      "source": [
        "# Setup the monitoring system (simple approach)\n",
        "# Using memory cache for this demo (no Redis needed)\n",
        "\n",
        "# MANUAL INPUT: Add your Slack token here\n",
        "SLACK_TOKEN = \"\"  # <- Enter your Slack bot token here\n",
        "SLACK_CHANNEL = \"#alerts\"  # <- Change to your channel\n",
        "\n",
        "# Create the monitoring system\n",
        "monitoring = QuarkleMonitoring(\n",
        "    service_name=\"test-notebook\",\n",
        "    slack_token=SLACK_TOKEN if SLACK_TOKEN else None,\n",
        "    slack_channel=SLACK_CHANNEL,\n",
        "    use_redis=False,  # Use memory cache for demo\n",
        "    version=\"notebook-v1.0\"\n",
        ")\n",
        "\n",
        "print(\"🚀 Monitoring system initialized!\")\n",
        "print(f\"📧 Service: {monitoring.service_name}\")\n",
        "print(f\"💾 Cache type: {type(monitoring.cache).__name__}\")\n",
        "print(f\"🔔 Slack configured: {monitoring.slack.client is not None}\")\n",
        "\n",
        "# Show what components are available\n",
        "print(\"\\n📦 Available via properties:\")\n",
        "print(f\"  - monitoring.cache: {type(monitoring.cache).__name__}\")\n",
        "print(f\"  - monitoring.error_tracker: {type(monitoring.error_tracker).__name__}\")\n",
        "print(f\"  - monitoring.slack: {type(monitoring.slack).__name__}\")\n"
      ]
    },
    {
      "cell_type": "raw",
      "metadata": {
        "vscode": {
          "languageId": "raw"
        }
      },
      "source": [
        "### Test Error Tracking\n"
      ]
    },
    {
      "cell_type": "code",
      "execution_count": null,
      "metadata": {},
      "outputs": [],
      "source": [
        "# Test error tracking (will send Slack alert if token is provided)\n",
        "print(\"🧪 Testing error tracking...\")\n",
        "\n",
        "# Track a 404 error\n",
        "result = monitoring.track_error(\n",
        "    error_code=404,\n",
        "    endpoint=\"/api/users/123\",\n",
        "    user_id=\"test_user\",\n",
        "    extra={\"request_id\": \"abc-123\", \"method\": \"GET\"}\n",
        ")\n",
        "\n",
        "print(f\"📊 Error tracked: {result}\")\n",
        "\n",
        "# Track a 403 error  \n",
        "result2 = monitoring.track_error(\n",
        "    error_code=403,\n",
        "    endpoint=\"/api/admin\",\n",
        "    user_id=\"unauthorized_user\",\n",
        "    extra={\"attempted_action\": \"delete_user\"}\n",
        ")\n",
        "\n",
        "print(f\"📊 Error tracked: {result2}\")\n",
        "\n",
        "# Try to track the same 404 again (should be rate limited)\n",
        "result3 = monitoring.track_error(\n",
        "    error_code=404,\n",
        "    endpoint=\"/api/users/123\",\n",
        "    user_id=\"test_user\"\n",
        ")\n",
        "\n",
        "print(f\"📊 Error tracked (should be rate limited): {result3}\")\n",
        "\n",
        "# Track a 500 error (should be ignored - only 4xx errors are tracked)\n",
        "result4 = monitoring.track_error(\n",
        "    error_code=500,\n",
        "    endpoint=\"/api/broken\"\n",
        ")\n",
        "\n",
        "print(f\"📊 500 error (ignored): {result4}\")\n"
      ]
    },
    {
      "cell_type": "raw",
      "metadata": {
        "vscode": {
          "languageId": "raw"
        }
      },
      "source": [
        "### Test Lifecycle Alerts\n"
      ]
    },
    {
      "cell_type": "code",
      "execution_count": null,
      "metadata": {},
      "outputs": [],
      "source": [
        "# Test lifecycle alerts (startup/shutdown notifications)\n",
        "print(\"🔔 Testing lifecycle alerts...\")\n",
        "\n",
        "# Send startup alert\n",
        "startup_result = monitoring.send_lifecycle_alert(\"startup\", {\n",
        "    \"environment\": \"notebook\",\n",
        "    \"python_version\": \"3.10\",\n",
        "    \"startup_time\": time.time()\n",
        "})\n",
        "\n",
        "print(f\"🚀 Startup alert sent: {startup_result}\")\n",
        "\n",
        "# Send custom alert\n",
        "custom_result = monitoring.send_lifecycle_alert(\"deployment\", {\n",
        "    \"version\": \"v2.1.0\",\n",
        "    \"deployed_by\": \"notebook_user\",\n",
        "    \"features\": [\"new_error_tracking\", \"slack_integration\"]\n",
        "})\n",
        "\n",
        "print(f\"📦 Deployment alert sent: {custom_result}\")\n",
        "\n",
        "# Send shutdown alert\n",
        "shutdown_result = monitoring.send_lifecycle_alert(\"shutdown\", {\n",
        "    \"uptime_seconds\": 300,\n",
        "    \"reason\": \"notebook_restart\"\n",
        "})\n",
        "\n",
        "print(f\"🛑 Shutdown alert sent: {shutdown_result}\")\n"
      ]
    },
    {
      "cell_type": "raw",
      "metadata": {
        "vscode": {
          "languageId": "raw"
        }
      },
      "source": [
        "### Test Decorator Pattern\n",
        "\n",
        "Automatic error tracking for functions using the `@track_errors` decorator.\n"
      ]
    },
    {
      "cell_type": "code",
      "execution_count": null,
      "metadata": {},
      "outputs": [],
      "source": [
        "# Test the decorator pattern\n",
        "print(\"🎯 Testing decorator pattern...\")\n",
        "\n",
        "# Create a decorator using our error tracker\n",
        "@track_errors(monitoring.error_tracker)\n",
        "def api_endpoint(user_id: str, action: str):\n",
        "    \"\"\"Simulate an API endpoint that might fail.\"\"\"\n",
        "    if action == \"forbidden\":\n",
        "        error = Exception(\"Access denied\")\n",
        "        error.status_code = 403\n",
        "        raise error\n",
        "    elif action == \"not_found\":\n",
        "        error = Exception(\"Resource not found\")\n",
        "        error.status_code = 404\n",
        "        raise error\n",
        "    elif action == \"server_error\":\n",
        "        error = Exception(\"Internal server error\")\n",
        "        error.status_code = 500\n",
        "        raise error\n",
        "    else:\n",
        "        return f\"Success: {action} for user {user_id}\"\n",
        "\n",
        "# Test successful execution\n",
        "try:\n",
        "    result = api_endpoint(\"user123\", \"get_profile\")\n",
        "    print(f\"✅ Success: {result}\")\n",
        "except Exception as e:\n",
        "    print(f\"❌ Error: {e}\")\n",
        "\n",
        "# Test 403 error (should be tracked and alert sent)\n",
        "try:\n",
        "    result = api_endpoint(\"user456\", \"forbidden\")\n",
        "    print(f\"✅ Success: {result}\")\n",
        "except Exception as e:\n",
        "    print(f\"🔒 403 Error tracked: {e}\")\n",
        "\n",
        "# Test 404 error (should be tracked and alert sent)\n",
        "try:\n",
        "    result = api_endpoint(\"user789\", \"not_found\")\n",
        "    print(f\"✅ Success: {result}\")\n",
        "except Exception as e:\n",
        "    print(f\"🔍 404 Error tracked: {e}\")\n",
        "\n",
        "# Test 500 error (should NOT be tracked - only 4xx errors)\n",
        "try:\n",
        "    result = api_endpoint(\"user999\", \"server_error\")\n",
        "    print(f\"✅ Success: {result}\")\n",
        "except Exception as e:\n",
        "    print(f\"💥 500 Error (not tracked): {e}\")\n"
      ]
    },
    {
      "cell_type": "raw",
      "metadata": {
        "vscode": {
          "languageId": "raw"
        }
      },
      "source": [
        "## 2. Advanced Usage - Individual Components\n",
        "\n",
        "For more control, you can use the components independently.\n"
      ]
    },
    {
      "cell_type": "code",
      "execution_count": null,
      "metadata": {},
      "outputs": [],
      "source": [
        "# Advanced: Use individual components\n",
        "print(\"🔧 Testing individual components...\")\n",
        "\n",
        "# Option 1: Use Redis cache (requires AWS/Redis setup)\n",
        "print(\"\\n1️⃣ Redis Cache Setup:\")\n",
        "try:\n",
        "    redis_cache = QuarkleCache(stage=\"dev\", service_name=\"notebook-test\")\n",
        "    print(f\"   ✅ Redis cache initialized: {redis_cache._client is not None}\")\n",
        "except Exception as e:\n",
        "    print(f\"   ❌ Redis failed (expected): {e}\")\n",
        "    redis_cache = None\n",
        "\n",
        "# Option 2: Use memory cache (always works)\n",
        "print(\"\\n2️⃣ Memory Cache Setup:\")\n",
        "memory_cache = MemoryCache()\n",
        "print(f\"   ✅ Memory cache initialized\")\n",
        "\n",
        "# Test cache operations\n",
        "print(\"\\n3️⃣ Cache Operations:\")\n",
        "cache_to_test = redis_cache if redis_cache and redis_cache._client else memory_cache\n",
        "print(f\"   Using: {type(cache_to_test).__name__}\")\n",
        "\n",
        "# Test rate limiting\n",
        "allowed1 = cache_to_test.rate_limit(\"test_action\", 1, 60)\n",
        "print(f\"   First rate limit check: {allowed1}\")\n",
        "\n",
        "allowed2 = cache_to_test.rate_limit(\"test_action\", 1, 60)  \n",
        "print(f\"   Second rate limit check (should be False): {allowed2}\")\n",
        "\n",
        "# Test set/get if supported\n",
        "if hasattr(cache_to_test, 'get'):\n",
        "    cache_to_test.set(\"test_key\", \"test_value\", 30)\n",
        "    value = cache_to_test.get(\"test_key\")\n",
        "    print(f\"   Set/Get test: {value}\")\n",
        "\n",
        "print(\"\\n4️⃣ Independent Error Tracker:\")\n",
        "independent_tracker = ErrorTracker(\n",
        "    cache=cache_to_test,\n",
        "    service_name=\"independent-service\",\n",
        "    version=\"manual-v1.0\"\n",
        ")\n",
        "\n",
        "should_alert, error_data = independent_tracker.track_error(\n",
        "    error_code=401,\n",
        "    endpoint=\"/api/auth\",\n",
        "    user_id=\"test_user_2\",\n",
        "    extra={\"auth_method\": \"oauth\"}\n",
        ")\n",
        "\n",
        "print(f\"   Independent error tracking: {should_alert}\")\n",
        "if error_data:\n",
        "    print(f\"   Error hash: {error_data.get('error_hash', 'N/A')}\")\n",
        "    print(f\"   Service: {error_data.get('service', 'N/A')}\")\n",
        "    print(f\"   Version: {error_data.get('git_hash', 'N/A')}\")\n",
        "\n",
        "print(\"\\n5️⃣ Independent Slack Notifier:\")\n",
        "independent_slack = SlackNotifier(\n",
        "    token=SLACK_TOKEN if SLACK_TOKEN else None,\n",
        "    channel=SLACK_CHANNEL\n",
        ")\n",
        "\n",
        "if should_alert and error_data and independent_slack.client:\n",
        "    try:\n",
        "        slack_result = independent_slack.send_error_alert(error_data)\n",
        "        print(f\"   ✅ Slack alert sent independently: {slack_result}\")\n",
        "    except Exception as e:\n",
        "        print(f\"   ❌ Slack alert failed: {e}\")\n",
        "else:\n",
        "    print(f\"   ⏭️  Slack alert skipped (token: {SLACK_TOKEN is not None and SLACK_TOKEN != ''}, should_alert: {should_alert})\")\n"
      ]
    },
    {
      "cell_type": "raw",
      "metadata": {
        "vscode": {
          "languageId": "raw"
        }
      },
      "source": [
        "## 3. Protocol-Based Design Demo\n",
        "\n",
        "Demonstrates how any cache implementing the `CacheInterface` protocol works with `ErrorTracker`.\n"
      ]
    },
    {
      "cell_type": "code",
      "execution_count": null,
      "metadata": {},
      "outputs": [],
      "source": [
        "# Demonstrate protocol-based design\n",
        "print(\"🔌 Protocol-Based Design Demo\")\n",
        "\n",
        "# Create a custom cache that implements the protocol\n",
        "class CustomCache:\n",
        "    \"\"\"Custom cache that implements CacheInterface protocol.\"\"\"\n",
        "    \n",
        "    def __init__(self):\n",
        "        self.data = {}\n",
        "        self.rate_limits = {}\n",
        "        print(\"   📦 CustomCache initialized\")\n",
        "    \n",
        "    def rate_limit(self, key: str, limit: int, window: int = 3600) -> bool:\n",
        "        \"\"\"Simple rate limiting implementation.\"\"\"\n",
        "        import time\n",
        "        now = time.time()\n",
        "        \n",
        "        if key in self.rate_limits:\n",
        "            last_time = self.rate_limits[key]\n",
        "            if now - last_time < window:\n",
        "                return False  # Rate limited\n",
        "        \n",
        "        self.rate_limits[key] = now\n",
        "        return True  # Allowed\n",
        "    \n",
        "    def set(self, key: str, value: str, ttl: int = 3600) -> bool:\n",
        "        \"\"\"Store data (ignoring TTL for simplicity).\"\"\"\n",
        "        self.data[key] = value\n",
        "        return True\n",
        "\n",
        "# Use custom cache with ErrorTracker (no inheritance needed!)\n",
        "print(\"\\n🔗 Using custom cache with ErrorTracker:\")\n",
        "custom_cache = CustomCache()\n",
        "\n",
        "# This works because CustomCache implements the required methods\n",
        "protocol_tracker = ErrorTracker(\n",
        "    cache=custom_cache,  # Duck typing - no inheritance required!\n",
        "    service_name=\"protocol-demo\",\n",
        "    version=\"custom-v1.0\"\n",
        ")\n",
        "\n",
        "print(\"   ✅ ErrorTracker accepts custom cache (protocol-based)\")\n",
        "\n",
        "# Test it works\n",
        "should_alert, error_data = protocol_tracker.track_error(\n",
        "    error_code=422,\n",
        "    endpoint=\"/api/validation\",\n",
        "    extra={\"field\": \"email\", \"reason\": \"invalid_format\"}\n",
        ")\n",
        "\n",
        "print(f\"   📊 Custom cache error tracking: {should_alert}\")\n",
        "print(f\"   🎯 Error hash: {error_data.get('error_hash', 'N/A') if error_data else 'N/A'}\")\n",
        "\n",
        "# Show that the data was stored in our custom cache\n",
        "print(f\"   💾 Custom cache now has {len(custom_cache.data)} items stored\")\n",
        "print(f\"   ⏱️  Rate limits tracked: {len(custom_cache.rate_limits)} keys\")\n",
        "\n",
        "print(\"\\n✨ This demonstrates the power of Protocol-based design:\")\n",
        "print(\"   - No inheritance required\")\n",
        "print(\"   - Any class with rate_limit() and set() methods works\")\n",
        "print(\"   - Enables 'duck typing' with type hints\")\n"
      ]
    },
    {
      "cell_type": "raw",
      "metadata": {
        "vscode": {
          "languageId": "raw"
        }
      },
      "source": [
        "## 2. Advanced Usage - Individual Components\n",
        "\n",
        "For more control, you can use components independently. This shows the protocol-based design in action.\n"
      ]
    }
  ],
  "metadata": {
    "language_info": {
      "name": "python"
    }
  },
  "nbformat": 4,
  "nbformat_minor": 2
}
