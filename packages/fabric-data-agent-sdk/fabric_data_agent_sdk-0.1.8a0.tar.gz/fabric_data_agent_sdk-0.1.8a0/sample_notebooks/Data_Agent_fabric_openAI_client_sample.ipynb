{
 "cells": [
  {
   "cell_type": "markdown",
   "id": "4a372ba0-ba13-4c52-9c72-6d231ea5db31",
   "metadata": {
    "microsoft": {
     "language": "python",
     "language_group": "synapse_pyspark"
    },
    "nteract": {
     "transient": {
      "deleting": false
     }
    }
   },
   "source": [
    "### Fabric Data Agent Client Implementation"
   ]
  },
  {
   "cell_type": "markdown",
   "id": "f34836ad",
   "metadata": {
    "vscode": {
     "languageId": "markdown"
    }
   },
   "source": [
    "### Introduction\n",
    "This notebook demonstrates how to set up and manage a Fabric Data Agent to query and analyze data. Through step-by-step instructions and examples, you will learn how to install necessary packages, create or fetch an existing Data Agent, connect datasources, and run queries for insights. This will help you or your team quickly get started with data-driven decision-making in Fabric. "
   ]
  },
  {
   "cell_type": "markdown",
   "id": "055bfb82",
   "metadata": {
    "vscode": {
     "languageId": "markdown"
    }
   },
   "source": [
    "### Installation and Prerequisites\n",
    "- A Microsoft Fabric environment or subscription is required.\n",
    "- Fabric Capacity: F64 (or higher)  \n",
    "- Tenant Switches: Enable AI skill, Copilot, cross-geo processing, and cross-geo storage. \n",
    "- Data Sources: Warehouse, Lakehouse, Power BI semantic models, KQL databases.\n",
    "- Ensure the Python package \"fabric-data-agent-sdk\" is installed (as shown in the following cell).\n",
    "- You also need \"sempy\" and other dependencies from \"fabric\" to leverage Fabric Data Agent features. These can be preinstalled in your Fabric environment."
   ]
  },
  {
   "cell_type": "code",
   "execution_count": null,
   "id": "a64bfce5-a877-401f-bbb0-3bebfc883674",
   "metadata": {
    "microsoft": {
     "language": "python",
     "language_group": "synapse_pyspark"
    }
   },
   "outputs": [
    {
     "data": {
      "application/vnd.livy.statement-meta+json": {
       "execution_finish_time": "2025-03-03T23:24:21.6474639Z",
       "execution_start_time": "2025-03-03T23:24:01.0307079Z",
       "livy_statement_state": "available",
       "normalized_state": "finished",
       "parent_msg_id": "567de348-ea75-4f80-a630-a1a6668f7290",
       "queued_time": "2025-03-03T23:23:47.8041083Z",
       "session_id": "dcaeaad8-6824-4b3f-b781-84c0269606d7",
       "session_start_time": "2025-03-03T23:23:47.8046178Z",
       "spark_pool": null,
       "state": "finished",
       "statement_id": 7,
       "statement_ids": [
        3,
        4,
        5,
        6,
        7
       ]
      },
      "text/plain": [
       "StatementMeta(, dcaeaad8-6824-4b3f-b781-84c0269606d7, 7, Finished, Available, Finished)"
      ]
     },
     "metadata": {},
     "output_type": "display_data"
    },
    {
     "name": "stdout",
     "output_type": "stream",
     "text": [
      "Processing /lakehouse/default/Files/fabric.dataagent_sdk-0.0.1a0-py3-none-any.whl\n",
      "Requirement already satisfied: semantic-link-sempy>=0.8.0 in /home/trusted-service-user/cluster-env/trident_env/lib/python3.10/site-packages (from fabric.dataagent-sdk==0.0.1a0) (0.9.0)\n",
      "Collecting openai>=1.57.0 (from fabric.dataagent-sdk==0.0.1a0)\n",
      "  Downloading openai-1.65.2-py3-none-any.whl (473 kB)\n",
      "\u001b[2K     \u001b[90m━━━━━━━━━━━━━━━━━━━━━━━━━━━━━━━━━━━━━━\u001b[0m \u001b[32m473.2/473.2 kB\u001b[0m \u001b[31m17.0 MB/s\u001b[0m eta \u001b[36m0:00:00\u001b[0m\n",
      "\u001b[?25hCollecting httpx==0.27.2 (from fabric.dataagent-sdk==0.0.1a0)\n",
      "  Downloading httpx-0.27.2-py3-none-any.whl (76 kB)\n",
      "\u001b[2K     \u001b[90m━━━━━━━━━━━━━━━━━━━━━━━━━━━━━━━━━━━━━━━━\u001b[0m \u001b[32m76.4/76.4 kB\u001b[0m \u001b[31m32.2 MB/s\u001b[0m eta \u001b[36m0:00:00\u001b[0m\n",
      "\u001b[?25hRequirement already satisfied: anyio in /home/trusted-service-user/cluster-env/trident_env/lib/python3.10/site-packages (from httpx==0.27.2->fabric.dataagent-sdk==0.0.1a0) (3.7.1)\n",
      "Requirement already satisfied: certifi in /home/trusted-service-user/cluster-env/trident_env/lib/python3.10/site-packages (from httpx==0.27.2->fabric.dataagent-sdk==0.0.1a0) (2023.7.22)\n",
      "Collecting httpcore==1.* (from httpx==0.27.2->fabric.dataagent-sdk==0.0.1a0)\n",
      "  Downloading httpcore-1.0.7-py3-none-any.whl (78 kB)\n",
      "\u001b[2K     \u001b[90m━━━━━━━━━━━━━━━━━━━━━━━━━━━━━━━━━━━━━━━━\u001b[0m \u001b[32m78.6/78.6 kB\u001b[0m \u001b[31m46.4 MB/s\u001b[0m eta \u001b[36m0:00:00\u001b[0m\n",
      "\u001b[?25hRequirement already satisfied: idna in /home/trusted-service-user/cluster-env/trident_env/lib/python3.10/site-packages (from httpx==0.27.2->fabric.dataagent-sdk==0.0.1a0) (3.4)\n",
      "Requirement already satisfied: sniffio in /home/trusted-service-user/cluster-env/trident_env/lib/python3.10/site-packages (from httpx==0.27.2->fabric.dataagent-sdk==0.0.1a0) (1.3.0)\n",
      "Requirement already satisfied: h11<0.15,>=0.13 in /home/trusted-service-user/cluster-env/trident_env/lib/python3.10/site-packages (from httpcore==1.*->httpx==0.27.2->fabric.dataagent-sdk==0.0.1a0) (0.14.0)\n",
      "Collecting distro<2,>=1.7.0 (from openai>=1.57.0->fabric.dataagent-sdk==0.0.1a0)\n",
      "  Downloading distro-1.9.0-py3-none-any.whl (20 kB)\n",
      "Collecting jiter<1,>=0.4.0 (from openai>=1.57.0->fabric.dataagent-sdk==0.0.1a0)\n",
      "  Downloading jiter-0.8.2-cp310-cp310-manylinux_2_17_x86_64.manylinux2014_x86_64.whl (345 kB)\n",
      "\u001b[2K     \u001b[90m━━━━━━━━━━━━━━━━━━━━━━━━━━━━━━━━━━━━━━\u001b[0m \u001b[32m345.0/345.0 kB\u001b[0m \u001b[31m54.4 MB/s\u001b[0m eta \u001b[36m0:00:00\u001b[0m\n",
      "\u001b[?25hRequirement already satisfied: pydantic<3,>=1.9.0 in /home/trusted-service-user/cluster-env/trident_env/lib/python3.10/site-packages (from openai>=1.57.0->fabric.dataagent-sdk==0.0.1a0) (1.10.9)\n",
      "Requirement already satisfied: tqdm>4 in /home/trusted-service-user/cluster-env/trident_env/lib/python3.10/site-packages (from openai>=1.57.0->fabric.dataagent-sdk==0.0.1a0) (4.66.1)\n",
      "Collecting typing-extensions<5,>=4.11 (from openai>=1.57.0->fabric.dataagent-sdk==0.0.1a0)\n",
      "  Downloading typing_extensions-4.12.2-py3-none-any.whl (37 kB)\n",
      "Requirement already satisfied: clr-loader>=0.2.5 in /home/trusted-service-user/cluster-env/trident_env/lib/python3.10/site-packages (from semantic-link-sempy>=0.8.0->fabric.dataagent-sdk==0.0.1a0) (0.2.6)\n",
      "Requirement already satisfied: graphviz>=0.20.1 in /home/trusted-service-user/cluster-env/trident_env/lib/python3.10/site-packages (from semantic-link-sempy>=0.8.0->fabric.dataagent-sdk==0.0.1a0) (0.20.1)\n",
      "Requirement already satisfied: pyarrow>=12.0.1 in /home/trusted-service-user/cluster-env/trident_env/lib/python3.10/site-packages (from semantic-link-sempy>=0.8.0->fabric.dataagent-sdk==0.0.1a0) (12.0.1)\n",
      "Requirement already satisfied: pythonnet>=3.0.1 in /home/trusted-service-user/cluster-env/trident_env/lib/python3.10/site-packages (from semantic-link-sempy>=0.8.0->fabric.dataagent-sdk==0.0.1a0) (3.0.1)\n",
      "Requirement already satisfied: scikit-learn>=1.2.2 in /home/trusted-service-user/cluster-env/trident_env/lib/python3.10/site-packages (from semantic-link-sempy>=0.8.0->fabric.dataagent-sdk==0.0.1a0) (1.3.0)\n",
      "Requirement already satisfied: setuptools>=68.2.2 in /home/trusted-service-user/cluster-env/trident_env/lib/python3.10/site-packages (from semantic-link-sempy>=0.8.0->fabric.dataagent-sdk==0.0.1a0) (68.2.2)\n",
      "Requirement already satisfied: rich>=13.3.5 in /home/trusted-service-user/cluster-env/trident_env/lib/python3.10/site-packages (from semantic-link-sempy>=0.8.0->fabric.dataagent-sdk==0.0.1a0) (13.6.0)\n",
      "Requirement already satisfied: exceptiongroup in /home/trusted-service-user/cluster-env/trident_env/lib/python3.10/site-packages (from anyio->httpx==0.27.2->fabric.dataagent-sdk==0.0.1a0) (1.1.3)\n",
      "Requirement already satisfied: cffi>=1.13 in /home/trusted-service-user/cluster-env/trident_env/lib/python3.10/site-packages (from clr-loader>=0.2.5->semantic-link-sempy>=0.8.0->fabric.dataagent-sdk==0.0.1a0) (1.16.0)\n",
      "Requirement already satisfied: numpy>=1.16.6 in /home/trusted-service-user/cluster-env/trident_env/lib/python3.10/site-packages (from pyarrow>=12.0.1->semantic-link-sempy>=0.8.0->fabric.dataagent-sdk==0.0.1a0) (1.24.3)\n",
      "Requirement already satisfied: markdown-it-py>=2.2.0 in /home/trusted-service-user/cluster-env/trident_env/lib/python3.10/site-packages (from rich>=13.3.5->semantic-link-sempy>=0.8.0->fabric.dataagent-sdk==0.0.1a0) (3.0.0)\n",
      "Requirement already satisfied: pygments<3.0.0,>=2.13.0 in /home/trusted-service-user/cluster-env/trident_env/lib/python3.10/site-packages (from rich>=13.3.5->semantic-link-sempy>=0.8.0->fabric.dataagent-sdk==0.0.1a0) (2.16.1)\n",
      "Requirement already satisfied: scipy>=1.5.0 in /home/trusted-service-user/cluster-env/trident_env/lib/python3.10/site-packages (from scikit-learn>=1.2.2->semantic-link-sempy>=0.8.0->fabric.dataagent-sdk==0.0.1a0) (1.10.1)\n",
      "Requirement already satisfied: joblib>=1.1.1 in /home/trusted-service-user/cluster-env/trident_env/lib/python3.10/site-packages (from scikit-learn>=1.2.2->semantic-link-sempy>=0.8.0->fabric.dataagent-sdk==0.0.1a0) (1.3.2)\n",
      "Requirement already satisfied: threadpoolctl>=2.0.0 in /home/trusted-service-user/cluster-env/trident_env/lib/python3.10/site-packages (from scikit-learn>=1.2.2->semantic-link-sempy>=0.8.0->fabric.dataagent-sdk==0.0.1a0) (3.2.0)\n",
      "Requirement already satisfied: pycparser in /home/trusted-service-user/cluster-env/trident_env/lib/python3.10/site-packages (from cffi>=1.13->clr-loader>=0.2.5->semantic-link-sempy>=0.8.0->fabric.dataagent-sdk==0.0.1a0) (2.21)\n",
      "Requirement already satisfied: mdurl~=0.1 in /home/trusted-service-user/cluster-env/trident_env/lib/python3.10/site-packages (from markdown-it-py>=2.2.0->rich>=13.3.5->semantic-link-sempy>=0.8.0->fabric.dataagent-sdk==0.0.1a0) (0.1.0)\n",
      "Installing collected packages: typing-extensions, jiter, httpcore, distro, httpx, openai, fabric.dataagent-sdk\n",
      "  Attempting uninstall: typing-extensions\n",
      "    Found existing installation: typing_extensions 4.5.0\n",
      "    Not uninstalling typing-extensions at /home/trusted-service-user/cluster-env/trident_env/lib/python3.10/site-packages, outside environment /nfs4/pyenv-44b73897-5a90-44fc-9349-00483e4ec002\n",
      "    Can't uninstall 'typing_extensions'. No files were found to uninstall.\n",
      "  Attempting uninstall: openai\n",
      "    Found existing installation: openai 0.27.8\n",
      "    Not uninstalling openai at /home/trusted-service-user/cluster-env/trident_env/lib/python3.10/site-packages, outside environment /nfs4/pyenv-44b73897-5a90-44fc-9349-00483e4ec002\n",
      "    Can't uninstall 'openai'. No files were found to uninstall.\n",
      "\u001b[31mERROR: pip's dependency resolver does not currently take into account all the packages that are installed. This behaviour is the source of the following dependency conflicts.\n",
      "sentence-transformers 2.0.0 requires sentencepiece, which is not installed.\n",
      "sentence-transformers 2.0.0 requires torchvision, which is not installed.\n",
      "dash 2.14.0 requires Flask<2.3.0,>=1.0.4, but you have flask 3.0.0 which is incompatible.\n",
      "dash 2.14.0 requires Werkzeug<2.3.0, but you have werkzeug 3.0.1 which is incompatible.\n",
      "tensorflow 2.12.1 requires typing-extensions<4.6.0,>=3.6.6, but you have typing-extensions 4.12.2 which is incompatible.\u001b[0m\u001b[31m\n",
      "\u001b[0mSuccessfully installed distro-1.9.0 fabric.dataagent-sdk-0.0.1a0 httpcore-1.0.7 httpx-0.27.2 jiter-0.8.2 openai-1.65.2 typing-extensions-4.12.2\n",
      "\n",
      "\u001b[1m[\u001b[0m\u001b[34;49mnotice\u001b[0m\u001b[1;39;49m]\u001b[0m\u001b[39;49m A new release of pip is available: \u001b[0m\u001b[31;49m23.1.2\u001b[0m\u001b[39;49m -> \u001b[0m\u001b[32;49m25.0.1\u001b[0m\n",
      "\u001b[1m[\u001b[0m\u001b[34;49mnotice\u001b[0m\u001b[1;39;49m]\u001b[0m\u001b[39;49m To update, run: \u001b[0m\u001b[32;49mpython -m pip install --upgrade pip\u001b[0m\n",
      "Note: you may need to restart the kernel to use updated packages.\n",
      "Warning: PySpark kernel has been restarted to use updated packages.\n",
      "\n"
     ]
    }
   ],
   "source": [
    "%pip install fabric-data-agent-sdk"
   ]
  },
  {
   "cell_type": "markdown",
   "id": "29054244-29a9-40d3-8f7c-d3d8086ea329",
   "metadata": {
    "microsoft": {
     "language": "python",
     "language_group": "synapse_pyspark"
    },
    "nteract": {
     "transient": {
      "deleting": false
     }
    }
   },
   "source": [
    "### Import Data Agent methods and specify Data Agent name"
   ]
  },
  {
   "cell_type": "markdown",
   "id": "211e448a-ec78-4c17-9c91-9ed49d8667fd",
   "metadata": {
    "microsoft": {
     "language": "python",
     "language_group": "synapse_pyspark"
    },
    "nteract": {
     "transient": {
      "deleting": false
     }
    }
   },
   "source": [
    "Assign a fabric.dataagent name (previously Data Agent was called AI Skill, and method names will be updated to the same in near future). Import methods to manage, create and delete Data Agent."
   ]
  },
  {
   "cell_type": "code",
   "execution_count": null,
   "id": "371785e1-bcac-4bff-9127-e179c0881431",
   "metadata": {
    "jupyter": {
     "outputs_hidden": false,
     "source_hidden": false
    },
    "microsoft": {
     "language": "python",
     "language_group": "synapse_pyspark"
    },
    "nteract": {
     "transient": {
      "deleting": false
     }
    }
   },
   "outputs": [
    {
     "data": {
      "application/vnd.livy.statement-meta+json": {
       "execution_finish_time": "2025-03-03T23:24:32.3713977Z",
       "execution_start_time": "2025-03-03T23:24:27.3141754Z",
       "livy_statement_state": "available",
       "normalized_state": "finished",
       "parent_msg_id": "e62e19bd-63ed-4c61-80e3-1ca0776d92d9",
       "queued_time": "2025-03-03T23:23:47.8028587Z",
       "session_id": "dcaeaad8-6824-4b3f-b781-84c0269606d7",
       "session_start_time": null,
       "spark_pool": null,
       "state": "finished",
       "statement_id": 9,
       "statement_ids": [
        9
       ]
      },
      "text/plain": [
       "StatementMeta(, dcaeaad8-6824-4b3f-b781-84c0269606d7, 9, Finished, Available, Finished)"
      ]
     },
     "metadata": {},
     "output_type": "display_data"
    }
   ],
   "source": [
    "# Specify the DataAgent\n",
    "from fabric.dataagent.client import (\n",
    "    FabricDataAgentManagement,\n",
    "    create_data_agent,\n",
    "    delete_data_agent,\n",
    ")\n",
    "\n",
    "data_agent_name = \"agent_sample\""
   ]
  },
  {
   "cell_type": "markdown",
   "id": "1386d241-d27a-4b16-82bb-dbe84dd129d4",
   "metadata": {
    "microsoft": {
     "language": "python",
     "language_group": "synapse_pyspark"
    },
    "nteract": {
     "transient": {
      "deleting": false
     }
    }
   },
   "source": [
    "#### New vs Pre-existing Agent\n",
    "- Data Agent is either created or pointed to a preexisting one.\n",
    "- If you are creating a new Data Agent, use `create_data_agent`.\n",
    "- In case of existing agent already created, `create_data_agent` can lead to an error message mentioning conflict in name. In that case, you should use `FabricDataAgentManagement`.\n",
    "e.g. `data_agent = FabricDataAgentManagement(data_agent_name)`"
   ]
  },
  {
   "cell_type": "code",
   "execution_count": null,
   "id": "1995e4dd-491c-41ad-97a0-a9684144cfbb",
   "metadata": {
    "microsoft": {
     "language": "python",
     "language_group": "synapse_pyspark"
    }
   },
   "outputs": [
    {
     "data": {
      "application/vnd.livy.statement-meta+json": {
       "execution_finish_time": "2025-03-03T23:24:44.6757985Z",
       "execution_start_time": "2025-03-03T23:24:32.3738878Z",
       "livy_statement_state": "available",
       "normalized_state": "finished",
       "parent_msg_id": "6f42579c-82ae-4eac-b8e4-69e7aec8f6d2",
       "queued_time": "2025-03-03T23:23:47.8035456Z",
       "session_id": "dcaeaad8-6824-4b3f-b781-84c0269606d7",
       "session_start_time": null,
       "spark_pool": null,
       "state": "finished",
       "statement_id": 10,
       "statement_ids": [
        10
       ]
      },
      "text/plain": [
       "StatementMeta(, dcaeaad8-6824-4b3f-b781-84c0269606d7, 10, Finished, Available, Finished)"
      ]
     },
     "metadata": {},
     "output_type": "display_data"
    },
    {
     "data": {
      "text/plain": [
       "DataAgentConfiguration(instructions=None, user_description=None)"
      ]
     },
     "execution_count": 10,
     "metadata": {},
     "output_type": "execute_result"
    }
   ],
   "source": [
    "# create or fetch DataAgent\n",
    "data_agent = create_data_agent(data_agent_name)\n",
    "# by default the instructions and description for the Data Agent will be empty, we will update them later in the notebook\n",
    "data_agent.get_configuration()"
   ]
  },
  {
   "cell_type": "markdown",
   "id": "9526c49f-fc94-42d1-aa04-33459e7ddd6e",
   "metadata": {
    "microsoft": {
     "language": "python",
     "language_group": "synapse_pyspark"
    },
    "nteract": {
     "transient": {
      "deleting": false
     }
    }
   },
   "source": [
    "Upon Data Agent creation, you will see a new Data Agent in your workspace. If you are using a pre-existing one, make sure to assign it as the `data_agent_name`."
   ]
  },
  {
   "cell_type": "markdown",
   "id": "e7390f62-b156-454a-a348-c2e217bc4915",
   "metadata": {
    "microsoft": {
     "language": "python",
     "language_group": "synapse_pyspark"
    },
    "nteract": {
     "transient": {
      "deleting": false
     }
    }
   },
   "source": [
    "#### Add User Instructions\n",
    "You can update configuration by adding instructions and user description. `user_instructions` are same as `model_notes` in UI. Note that these instructions are for Agent and not directly used by the tools the agent uses. In the next update, adding notes to tools will be facilitated. For now, you can specify instructions for the agent itself to use specific instructions for tools. "
   ]
  },
  {
   "cell_type": "code",
   "execution_count": 4,
   "id": "c3b645aa-2152-4e35-bd46-916ff775e496",
   "metadata": {
    "microsoft": {
     "language": "python",
     "language_group": "synapse_pyspark"
    }
   },
   "outputs": [
    {
     "data": {
      "application/vnd.livy.statement-meta+json": {
       "execution_finish_time": "2025-03-03T23:24:45.0069684Z",
       "execution_start_time": "2025-03-03T23:24:44.6783514Z",
       "livy_statement_state": "available",
       "normalized_state": "finished",
       "parent_msg_id": "cf34ee8d-05b2-4138-9757-61210473e19d",
       "queued_time": "2025-03-03T23:23:47.8042137Z",
       "session_id": "dcaeaad8-6824-4b3f-b781-84c0269606d7",
       "session_start_time": null,
       "spark_pool": null,
       "state": "finished",
       "statement_id": 11,
       "statement_ids": [
        11
       ]
      },
      "text/plain": [
       "StatementMeta(, dcaeaad8-6824-4b3f-b781-84c0269606d7, 11, Finished, Available, Finished)"
      ]
     },
     "metadata": {},
     "output_type": "display_data"
    }
   ],
   "source": [
    "user_instructions = \"\"\"You are an expert analyst. For *any* user question that requires you to query a database, instead of answering it directly,\n",
    "you should give the user a detailed response around the question, from the *available database added as a datasource*. You should do this by extending\n",
    "the user question into 3 distinct questions to independently query the database with. Here is an example that shows how to do it:\\n If the question is \n",
    "\"what is the top selling product in 2019?\". Expand these questions to gather more information, such as asking \"what is the top selling 3 products in 2019\"\n",
    "to learn not only the top one, but how it compares to the others following it. Then ask \"what was the top 3 products sold in 2018\" to learn about the\n",
    "previous year. Then ask \"what were the top 3 best-selling products across all years?\" to learn about the overall response. Then query the database for\n",
    "each question independently. \\nThis way we are learning not only the best selling product, but how it compares with top 3, learn about the previous year,\n",
    "and learn about all time. After getting the answer for each question, formulate your response to answer the original user question with these additional\n",
    "details. This will give the user a more comprehensive look at their original query. We gave an example with one sample question but you should follow these\n",
    "instructions for any user questions that requires a database look up.\"\"\""
   ]
  },
  {
   "cell_type": "markdown",
   "id": "e60195fa-0903-4b8a-af3b-e57234759384",
   "metadata": {
    "microsoft": {
     "language": "python",
     "language_group": "synapse_pyspark"
    },
    "nteract": {
     "transient": {
      "deleting": false
     }
    }
   },
   "source": [
    "#### Update and Verify\n",
    "`update_configuration` will update the instructions and also add `user_description` for the Fabric Agent API. You can verify this by calling `get_configuration`"
   ]
  },
  {
   "cell_type": "code",
   "execution_count": 5,
   "id": "b87ddf81-f195-4d08-93f4-74b39debe1c9",
   "metadata": {
    "microsoft": {
     "language": "python",
     "language_group": "synapse_pyspark"
    }
   },
   "outputs": [
    {
     "data": {
      "application/vnd.livy.statement-meta+json": {
       "execution_finish_time": "2025-03-03T23:24:48.6389723Z",
       "execution_start_time": "2025-03-03T23:24:45.0096792Z",
       "livy_statement_state": "available",
       "normalized_state": "finished",
       "parent_msg_id": "8909c293-7dde-4de9-81a7-26c4df9d5824",
       "queued_time": "2025-03-03T23:23:47.8047884Z",
       "session_id": "dcaeaad8-6824-4b3f-b781-84c0269606d7",
       "session_start_time": null,
       "spark_pool": null,
       "state": "finished",
       "statement_id": 12,
       "statement_ids": [
        12
       ]
      },
      "text/plain": [
       "StatementMeta(, dcaeaad8-6824-4b3f-b781-84c0269606d7, 12, Finished, Available, Finished)"
      ]
     },
     "metadata": {},
     "output_type": "display_data"
    },
    {
     "data": {
      "text/plain": [
       "DataAgentConfiguration(instructions='You are an expert analyst. For *any* user question that requires you to query a database, instead of answering it directly,\\nyou should give the user a detailed response around the question, from the *available database added as a datasource*. You should do this by extending\\nthe user question into 3 distinct questions to independently query the database with. Here is an example that shows how to do it:\\n If the question is \\n\"what is the top selling product in 2019?\". Expand these questions to gather more information, such as asking \"what is the top selling 3 products in 2019\"\\nto learn not only the top one, but how it compares to the others following it. Then ask \"what was the top 3 products sold in 2018\" to learn about the\\nprevious year. Then ask \"what were the top 3 best-selling products across all years?\" to learn about the overall response. Then query the database for\\neach question independently. \\nThis way we are learning not only the best selling product, but how it compares with top 3, learn about the previous year,\\nand learn about all time. After getting the answer for each question, formulate your response to answer the original user question with these additional\\ndetails. This will give the user a more comprehensive look at their original query. We gave an example with one sample question but you should follow these\\ninstructions for any user questions that requires a database look up.', user_description='Instructions for Fabric Data Agent to assist with insights from the AdventureWorks dataset. ')"
      ]
     },
     "execution_count": 16,
     "metadata": {},
     "output_type": "execute_result"
    }
   ],
   "source": [
    "data_agent.update_configuration(\n",
    "    instructions=user_instructions,\n",
    "    user_description=\"Instructions for Fabric Data Agent to assist with insights from the AdventureWorks dataset. \",\n",
    ")\n",
    "data_agent.get_configuration()"
   ]
  },
  {
   "cell_type": "markdown",
   "id": "95c79dec-af36-42d1-bccc-c82c5385952e",
   "metadata": {
    "microsoft": {
     "language": "python",
     "language_group": "synapse_pyspark"
    },
    "nteract": {
     "transient": {
      "deleting": false
     }
    }
   },
   "source": [
    "#### Adding Datasources\n",
    "Use the `add_datasource` method to add relevant datasources to get insights from. In this sample, we are showing how to add a Lakehouse.\n",
    "Note that, if you already added the lakehouse, you don't need to do it again. We need to check if datasources is already connected."
   ]
  },
  {
   "cell_type": "code",
   "execution_count": null,
   "id": "be5b0307-d9dd-442e-82a0-b93538057dfe",
   "metadata": {
    "microsoft": {
     "language": "python",
     "language_group": "synapse_pyspark"
    }
   },
   "outputs": [
    {
     "data": {
      "application/vnd.livy.statement-meta+json": {
       "execution_finish_time": "2025-03-03T23:24:52.286581Z",
       "execution_start_time": "2025-03-03T23:24:48.6415063Z",
       "livy_statement_state": "available",
       "normalized_state": "finished",
       "parent_msg_id": "91d567dc-827a-4112-9b22-a235dd83ee15",
       "queued_time": "2025-03-03T23:23:47.8053775Z",
       "session_id": "dcaeaad8-6824-4b3f-b781-84c0269606d7",
       "session_start_time": null,
       "spark_pool": null,
       "state": "finished",
       "statement_id": 13,
       "statement_ids": [
        13
       ]
      },
      "text/plain": [
       "StatementMeta(, dcaeaad8-6824-4b3f-b781-84c0269606d7, 13, Finished, Available, Finished)"
      ]
     },
     "metadata": {},
     "output_type": "display_data"
    },
    {
     "data": {
      "text/plain": [
       "Datasource(c379c093-3137-4547-84ca-824299351f9c)"
      ]
     },
     "execution_count": 19,
     "metadata": {},
     "output_type": "execute_result"
    }
   ],
   "source": [
    "# add a lakehouse\n",
    "lakehouse_name = \"AdventureWorks\"\n",
    "data_agent.add_datasource(lakehouse_name, type=\"lakehouse\")"
   ]
  },
  {
   "cell_type": "markdown",
   "id": "dc9471e9-9965-47af-9e14-19ab27dd0c24",
   "metadata": {
    "microsoft": {
     "language": "python",
     "language_group": "synapse_pyspark"
    },
    "nteract": {
     "transient": {
      "deleting": false
     }
    }
   },
   "source": [
    "#### Exploring Data Within the Notebook\n",
    "- Assign lakehouse data or other datasources added to `datasource` and check for column fields."
   ]
  },
  {
   "cell_type": "code",
   "execution_count": 7,
   "id": "05752c43-0fe9-4fd4-a626-151c157a6010",
   "metadata": {
    "microsoft": {
     "language": "python",
     "language_group": "synapse_pyspark"
    }
   },
   "outputs": [
    {
     "data": {
      "application/vnd.livy.statement-meta+json": {
       "execution_finish_time": "2025-03-03T23:24:53.1792929Z",
       "execution_start_time": "2025-03-03T23:24:52.2889069Z",
       "livy_statement_state": "available",
       "normalized_state": "finished",
       "parent_msg_id": "11196a1c-fa7d-4c6b-8917-6ef46a36b24f",
       "queued_time": "2025-03-03T23:23:47.805952Z",
       "session_id": "dcaeaad8-6824-4b3f-b781-84c0269606d7",
       "session_start_time": null,
       "spark_pool": null,
       "state": "finished",
       "statement_id": 14,
       "statement_ids": [
        14
       ]
      },
      "text/plain": [
       "StatementMeta(, dcaeaad8-6824-4b3f-b781-84c0269606d7, 14, Finished, Available, Finished)"
      ]
     },
     "metadata": {},
     "output_type": "display_data"
    },
    {
     "data": {
      "text/plain": [
       "[Datasource(c379c093-3137-4547-84ca-824299351f9c)]"
      ]
     },
     "execution_count": 22,
     "metadata": {},
     "output_type": "execute_result"
    }
   ],
   "source": [
    "# we can check which datasources are added to the Data Agent\n",
    "data_agent.get_datasources()"
   ]
  },
  {
   "cell_type": "markdown",
   "id": "f4ebf6e8",
   "metadata": {},
   "source": [
    "Publish the Data Source"
   ]
  },
  {
   "cell_type": "code",
   "execution_count": 8,
   "id": "d04eff24",
   "metadata": {
    "microsoft": {
     "language": "python",
     "language_group": "synapse_pyspark"
    }
   },
   "outputs": [
    {
     "data": {
      "application/vnd.livy.statement-meta+json": {
       "execution_finish_time": "2025-03-03T23:24:55.7627931Z",
       "execution_start_time": "2025-03-03T23:24:53.1819688Z",
       "livy_statement_state": "available",
       "normalized_state": "finished",
       "parent_msg_id": "ce35ef0d-a5d6-4283-a4b9-e89f2a099b00",
       "queued_time": "2025-03-03T23:23:47.8064983Z",
       "session_id": "dcaeaad8-6824-4b3f-b781-84c0269606d7",
       "session_start_time": null,
       "spark_pool": null,
       "state": "finished",
       "statement_id": 15,
       "statement_ids": [
        15
       ]
      },
      "text/plain": [
       "StatementMeta(, dcaeaad8-6824-4b3f-b781-84c0269606d7, 15, Finished, Available, Finished)"
      ]
     },
     "metadata": {},
     "output_type": "display_data"
    }
   ],
   "source": [
    "data_agent.publish()"
   ]
  },
  {
   "cell_type": "code",
   "execution_count": 9,
   "id": "c7ee6f54-1fe2-4413-b13f-b42f8a8f8f84",
   "metadata": {
    "microsoft": {
     "language": "python",
     "language_group": "synapse_pyspark"
    }
   },
   "outputs": [
    {
     "data": {
      "application/vnd.livy.statement-meta+json": {
       "execution_finish_time": "2025-03-03T23:24:57.4058204Z",
       "execution_start_time": "2025-03-03T23:24:55.7649912Z",
       "livy_statement_state": "available",
       "normalized_state": "finished",
       "parent_msg_id": "36d4f03c-1940-4618-81e9-c25291d3397b",
       "queued_time": "2025-03-03T23:23:47.8070539Z",
       "session_id": "dcaeaad8-6824-4b3f-b781-84c0269606d7",
       "session_start_time": null,
       "spark_pool": null,
       "state": "finished",
       "statement_id": 16,
       "statement_ids": [
        16
       ]
      },
      "text/plain": [
       "StatementMeta(, dcaeaad8-6824-4b3f-b781-84c0269606d7, 16, Finished, Available, Finished)"
      ]
     },
     "metadata": {},
     "output_type": "display_data"
    }
   ],
   "source": [
    "datasource = data_agent.get_datasources()[0]"
   ]
  },
  {
   "cell_type": "code",
   "execution_count": 10,
   "id": "225d5853-2c92-4c7c-be67-540de00683d1",
   "metadata": {
    "microsoft": {
     "language": "python",
     "language_group": "synapse_pyspark"
    }
   },
   "outputs": [
    {
     "data": {
      "application/vnd.livy.statement-meta+json": {
       "execution_finish_time": "2025-03-03T23:24:58.3382864Z",
       "execution_start_time": "2025-03-03T23:24:57.4085459Z",
       "livy_statement_state": "available",
       "normalized_state": "finished",
       "parent_msg_id": "ef0a92bc-b28e-4647-afa6-9ec0513579cd",
       "queued_time": "2025-03-03T23:23:47.807627Z",
       "session_id": "dcaeaad8-6824-4b3f-b781-84c0269606d7",
       "session_start_time": null,
       "spark_pool": null,
       "state": "finished",
       "statement_id": 17,
       "statement_ids": [
        17
       ]
      },
      "text/plain": [
       "StatementMeta(, dcaeaad8-6824-4b3f-b781-84c0269606d7, 17, Finished, Available, Finished)"
      ]
     },
     "metadata": {},
     "output_type": "display_data"
    },
    {
     "name": "stdout",
     "output_type": "stream",
     "text": [
      " dbo\n",
      "  | dimaccount\n",
      "  |  | AccountKey\n",
      "  |  | ParentAccountKey\n",
      "  |  | AccountCodeAlternateKey\n",
      "  |  | ParentAccountCodeAlternateKey\n",
      "  |  | AccountDescription\n",
      "  |  | AccountType\n",
      "  |  | Operator\n",
      "  |  | CustomMembers\n",
      "  |  | ValueType\n",
      "  | factinternetsales\n",
      "  |  | ProductKey\n",
      "  |  | OrderDateKey\n",
      "  |  | DueDateKey\n",
      "  |  | ShipDateKey\n",
      "  |  | CustomerKey\n",
      "  |  | PromotionKey\n",
      "  |  | CurrencyKey\n",
      "  |  | SalesTerritoryKey\n",
      "  |  | SalesOrderNumber\n",
      "  |  | SalesOrderLineNumber\n",
      "  |  | RevisionNumber\n",
      "  |  | OrderQuantity\n",
      "  |  | UnitPrice\n",
      "  |  | ExtendedAmount\n",
      "  |  | UnitPriceDiscountPct\n",
      "  |  | DiscountAmount\n",
      "  |  | ProductStandardCost\n",
      "  |  | TotalProductCost\n",
      "  |  | SalesAmount\n",
      "  |  | TaxAmt\n",
      "  |  | Freight\n",
      "  |  | OrderDate\n",
      "  |  | DueDate\n",
      "  |  | ShipDate\n",
      "  | dimemployee\n",
      "  |  | EmployeeKey\n",
      "  |  | ParentEmployeeKey\n",
      "  |  | EmployeeNationalIDAlternateKey\n",
      "  |  | SalesTerritoryKey\n",
      "  |  | FirstName\n",
      "  |  | LastName\n",
      "  |  | MiddleName\n",
      "  |  | NameStyle\n",
      "  |  | Title\n",
      "  |  | HireDate\n",
      "  |  | BirthDate\n",
      "  |  | LoginID\n",
      "  |  | EmailAddress\n",
      "  |  | Phone\n",
      "  |  | MaritalStatus\n",
      "  |  | EmergencyContactName\n",
      "  |  | EmergencyContactPhone\n",
      "  |  | SalariedFlag\n",
      "  |  | Gender\n",
      "  |  | PayFrequency\n",
      "  |  | BaseRate\n",
      "  |  | VacationHours\n",
      "  |  | SickLeaveHours\n",
      "  |  | CurrentFlag\n",
      "  |  | SalesPersonFlag\n",
      "  |  | DepartmentName\n",
      "  |  | StartDate\n",
      "  |  | EndDate\n",
      "  |  | Status\n",
      "  | factinternetsalesreason\n",
      "  |  | SalesOrderNumber\n",
      "  |  | SalesOrderLineNumber\n",
      "  |  | SalesReasonKey\n",
      "  | newfactcurrencyrate\n",
      "  |  | AverageRate\n",
      "  |  | CurrencyID\n",
      "  |  | CurrencyDate\n",
      "  |  | EndOfDayRate\n",
      "  |  | CurrencyKey\n",
      "  |  | DateKey\n",
      "  | dimproductcategory\n",
      "  |  | ProductCategoryKey\n",
      "  |  | ProductCategoryAlternateKey\n",
      "  |  | EnglishProductCategoryName\n",
      "  |  | SpanishProductCategoryName\n",
      "  |  | FrenchProductCategoryName\n",
      "  | factsurveyresponse\n",
      "  |  | SurveyResponseKey\n",
      "  |  | DateKey\n",
      "  |  | CustomerKey\n",
      "  |  | ProductCategoryKey\n",
      "  |  | EnglishProductCategoryName\n",
      "  |  | ProductSubcategoryKey\n",
      "  |  | EnglishProductSubcategoryName\n",
      "  |  | Date\n",
      "  | factcurrencyrate\n",
      "  |  | CurrencyKey\n",
      "  |  | DateKey\n",
      "  |  | AverageRate\n",
      "  |  | EndOfDayRate\n",
      "  |  | Date\n",
      "  | dimgeography\n",
      "  |  | GeographyKey\n",
      "  |  | City\n",
      "  |  | StateProvinceCode\n",
      "  |  | StateProvinceName\n",
      "  |  | CountryRegionCode\n",
      "  |  | EnglishCountryRegionName\n",
      "  |  | SpanishCountryRegionName\n",
      "  |  | FrenchCountryRegionName\n",
      "  |  | PostalCode\n",
      "  |  | SalesTerritoryKey\n",
      "  |  | IpAddressLocator\n",
      "  | dimscenario\n",
      "  |  | ScenarioKey\n",
      "  |  | ScenarioName\n",
      "  | dimcurrency\n",
      "  |  | CurrencyKey\n",
      "  |  | CurrencyAlternateKey\n",
      "  |  | CurrencyName\n",
      "  | dimorganization\n",
      "  |  | OrganizationKey\n",
      "  |  | ParentOrganizationKey\n",
      "  |  | PercentageOfOwnership\n",
      "  |  | OrganizationName\n",
      "  |  | CurrencyKey\n",
      "  | factproductinventory\n",
      "  |  | ProductKey\n",
      "  |  | DateKey\n",
      "  |  | MovementDate\n",
      "  |  | UnitCost\n",
      "  |  | UnitsIn\n",
      "  |  | UnitsOut\n",
      "  |  | UnitsBalance\n",
      "  | factcallcenter\n",
      "  |  | FactCallCenterID\n",
      "  |  | DateKey\n",
      "  |  | WageType\n",
      "  |  | Shift\n",
      "  |  | LevelOneOperators\n",
      "  |  | LevelTwoOperators\n",
      "  |  | TotalOperators\n",
      "  |  | Calls\n",
      "  |  | AutomaticResponses\n",
      "  |  | Orders\n",
      "  |  | IssuesRaised\n",
      "  |  | AverageTimePerIssue\n",
      "  |  | ServiceGrade\n",
      "  |  | Date\n",
      "  | dimdate\n",
      "  |  | DateKey\n",
      "  |  | FullDateAlternateKey\n",
      "  |  | DayNumberOfWeek\n",
      "  |  | EnglishDayNameOfWeek\n",
      "  |  | SpanishDayNameOfWeek\n",
      "  |  | FrenchDayNameOfWeek\n",
      "  |  | DayNumberOfMonth\n",
      "  |  | DayNumberOfYear\n",
      "  |  | WeekNumberOfYear\n",
      "  |  | EnglishMonthName\n",
      "  |  | SpanishMonthName\n",
      "  |  | FrenchMonthName\n",
      "  |  | MonthNumberOfYear\n",
      "  |  | CalendarQuarter\n",
      "  |  | CalendarYear\n",
      "  |  | CalendarSemester\n",
      "  |  | FiscalQuarter\n",
      "  |  | FiscalYear\n",
      "  |  | FiscalSemester\n",
      "  | dimcustomer\n",
      "  |  | CustomerKey\n",
      "  |  | GeographyKey\n",
      "  |  | CustomerAlternateKey\n",
      "  |  | Title\n",
      "  |  | FirstName\n",
      "  |  | MiddleName\n",
      "  |  | LastName\n",
      "  |  | NameStyle\n",
      "  |  | BirthDate\n",
      "  |  | MaritalStatus\n",
      "  |  | Suffix\n",
      "  |  | Gender\n",
      "  |  | EmailAddress\n",
      "  |  | YearlyIncome\n",
      "  |  | TotalChildren\n",
      "  |  | NumberChildrenAtHome\n",
      "  |  | EnglishEducation\n",
      "  |  | SpanishEducation\n",
      "  |  | FrenchEducation\n",
      "  |  | EnglishOccupation\n",
      "  |  | SpanishOccupation\n",
      "  |  | FrenchOccupation\n",
      "  |  | HouseOwnerFlag\n",
      "  |  | NumberCarsOwned\n",
      "  |  | AddressLine1\n",
      "  |  | AddressLine2\n",
      "  |  | Phone\n",
      "  |  | DateFirstPurchase\n",
      "  |  | CommuteDistance\n",
      "  | dimproduct\n",
      "  |  | ProductKey\n",
      "  |  | ProductAlternateKey\n",
      "  |  | ProductSubcategoryKey\n",
      "  |  | WeightUnitMeasureCode\n",
      "  |  | SizeUnitMeasureCode\n",
      "  |  | EnglishProductName\n",
      "  |  | SpanishProductName\n",
      "  |  | FrenchProductName\n",
      "  |  | StandardCost\n",
      "  |  | FinishedGoodsFlag\n",
      "  |  | Color\n",
      "  |  | SafetyStockLevel\n",
      "  |  | ReorderPoint\n",
      "  |  | ListPrice\n",
      "  |  | Size\n",
      "  |  | SizeRange\n",
      "  |  | Weight\n",
      "  |  | DaysToManufacture\n",
      "  |  | ProductLine\n",
      "  |  | DealerPrice\n",
      "  |  | Class\n",
      "  |  | Style\n",
      "  |  | ModelName\n",
      "  |  | EnglishDescription\n",
      "  |  | FrenchDescription\n",
      "  |  | ChineseDescription\n",
      "  |  | ArabicDescription\n",
      "  |  | HebrewDescription\n",
      "  |  | ThaiDescription\n",
      "  |  | GermanDescription\n",
      "  |  | JapaneseDescription\n",
      "  |  | TurkishDescription\n",
      "  |  | StartDate\n",
      "  |  | EndDate\n",
      "  |  | Status\n",
      "  | factadditionalinternationalproductdescription\n",
      "  |  | ProductKey\n",
      "  |  | CultureName\n",
      "  |  | ProductDescription\n",
      "  | dimproductsubcategory\n",
      "  |  | ProductSubcategoryKey\n",
      "  |  | ProductSubcategoryAlternateKey\n",
      "  |  | EnglishProductSubcategoryName\n",
      "  |  | SpanishProductSubcategoryName\n",
      "  |  | FrenchProductSubcategoryName\n",
      "  |  | ProductCategoryKey\n",
      "  | dimdepartmentgroup\n",
      "  |  | DepartmentGroupKey\n",
      "  |  | ParentDepartmentGroupKey\n",
      "  |  | DepartmentGroupName\n",
      "  | dimpromotion\n",
      "  |  | PromotionKey\n",
      "  |  | PromotionAlternateKey\n",
      "  |  | EnglishPromotionName\n",
      "  |  | SpanishPromotionName\n",
      "  |  | FrenchPromotionName\n",
      "  |  | DiscountPct\n",
      "  |  | EnglishPromotionType\n",
      "  |  | SpanishPromotionType\n",
      "  |  | FrenchPromotionType\n",
      "  |  | EnglishPromotionCategory\n",
      "  |  | SpanishPromotionCategory\n",
      "  |  | FrenchPromotionCategory\n",
      "  |  | StartDate\n",
      "  |  | EndDate\n",
      "  |  | MinQty\n",
      "  |  | MaxQty\n",
      "  | dimsalesterritory\n",
      "  |  | SalesTerritoryKey\n",
      "  |  | SalesTerritoryAlternateKey\n",
      "  |  | SalesTerritoryRegion\n",
      "  |  | SalesTerritoryCountry\n",
      "  |  | SalesTerritoryGroup\n",
      "  | dimreseller\n",
      "  |  | ResellerKey\n",
      "  |  | GeographyKey\n",
      "  |  | ResellerAlternateKey\n",
      "  |  | Phone\n",
      "  |  | BusinessType\n",
      "  |  | ResellerName\n",
      "  |  | NumberEmployees\n",
      "  |  | OrderFrequency\n",
      "  |  | OrderMonth\n",
      "  |  | FirstOrderYear\n",
      "  |  | LastOrderYear\n",
      "  |  | ProductLine\n",
      "  |  | AddressLine1\n",
      "  |  | AddressLine2\n",
      "  |  | AnnualSales\n",
      "  |  | BankName\n",
      "  |  | MinPaymentType\n",
      "  |  | MinPaymentAmount\n",
      "  |  | AnnualRevenue\n",
      "  |  | YearOpened\n",
      "  | dimsalesreason\n",
      "  |  | SalesReasonKey\n",
      "  |  | SalesReasonAlternateKey\n",
      "  |  | SalesReasonName\n",
      "  |  | SalesReasonReasonType\n",
      "  | factresellersales\n",
      "  |  | ProductKey\n",
      "  |  | OrderDateKey\n",
      "  |  | DueDateKey\n",
      "  |  | ShipDateKey\n",
      "  |  | ResellerKey\n",
      "  |  | EmployeeKey\n",
      "  |  | PromotionKey\n",
      "  |  | CurrencyKey\n",
      "  |  | SalesTerritoryKey\n",
      "  |  | SalesOrderNumber\n",
      "  |  | SalesOrderLineNumber\n",
      "  |  | RevisionNumber\n",
      "  |  | OrderQuantity\n",
      "  |  | UnitPrice\n",
      "  |  | ExtendedAmount\n",
      "  |  | UnitPriceDiscountPct\n",
      "  |  | DiscountAmount\n",
      "  |  | ProductStandardCost\n",
      "  |  | TotalProductCost\n",
      "  |  | SalesAmount\n",
      "  |  | TaxAmt\n",
      "  |  | Freight\n",
      "  |  | CarrierTrackingNumber\n",
      "  |  | CustomerPONumber\n",
      "  |  | OrderDate\n",
      "  |  | DueDate\n",
      "  |  | ShipDate\n",
      "  | prospectivebuyer\n",
      "  |  | ProspectiveBuyerKey\n",
      "  |  | ProspectAlternateKey\n",
      "  |  | FirstName\n",
      "  |  | MiddleName\n",
      "  |  | LastName\n",
      "  |  | BirthDate\n",
      "  |  | MaritalStatus\n",
      "  |  | Gender\n",
      "  |  | EmailAddress\n",
      "  |  | YearlyIncome\n",
      "  |  | TotalChildren\n",
      "  |  | NumberChildrenAtHome\n",
      "  |  | Education\n",
      "  |  | Occupation\n",
      "  |  | HouseOwnerFlag\n",
      "  |  | NumberCarsOwned\n",
      "  |  | AddressLine1\n",
      "  |  | AddressLine2\n",
      "  |  | City\n",
      "  |  | StateProvinceCode\n",
      "  |  | PostalCode\n",
      "  |  | Phone\n",
      "  |  | Salutation\n",
      "  |  | Unknown\n",
      "  | factfinance\n",
      "  |  | FinanceKey\n",
      "  |  | DateKey\n",
      "  |  | OrganizationKey\n",
      "  |  | DepartmentGroupKey\n",
      "  |  | ScenarioKey\n",
      "  |  | AccountKey\n",
      "  |  | Amount\n",
      "  |  | Date\n",
      "  | factsalesquota\n",
      "  |  | SalesQuotaKey\n",
      "  |  | EmployeeKey\n",
      "  |  | DateKey\n",
      "  |  | CalendarYear\n",
      "  |  | CalendarQuarter\n",
      "  |  | SalesAmountQuota\n",
      "  |  | Date\n"
     ]
    }
   ],
   "source": [
    "datasource.pretty_print()"
   ]
  },
  {
   "cell_type": "markdown",
   "id": "c64b66cf-ff8e-45e1-bcdb-808ece3075e6",
   "metadata": {
    "microsoft": {
     "language": "python",
     "language_group": "synapse_pyspark"
    },
    "nteract": {
     "transient": {
      "deleting": false
     }
    }
   },
   "source": [
    "#### Select particular tables that you need to ask questions about.\n",
    "- Note that by default, no table is selected. A `*` in front of table indicates selected table.\n",
    "- You can select the tables using `datasource.select` to pick the tables applicable to the context of the question.\n",
    "- Calling `datasource.select` without any arguments will enable all data sources for the data agent.\n",
    "- Selecting a table will also select all columns in the table."
   ]
  },
  {
   "cell_type": "code",
   "execution_count": 11,
   "id": "1222c233-fa67-4dba-b667-ba847022ecb3",
   "metadata": {
    "microsoft": {
     "language": "python",
     "language_group": "synapse_pyspark"
    }
   },
   "outputs": [
    {
     "data": {
      "application/vnd.livy.statement-meta+json": {
       "execution_finish_time": "2025-03-03T23:25:01.9734472Z",
       "execution_start_time": "2025-03-03T23:24:58.3407428Z",
       "livy_statement_state": "available",
       "normalized_state": "finished",
       "parent_msg_id": "81ac7d10-764f-42e0-b76e-c3df875fa12b",
       "queued_time": "2025-03-03T23:23:47.808183Z",
       "session_id": "dcaeaad8-6824-4b3f-b781-84c0269606d7",
       "session_start_time": null,
       "spark_pool": null,
       "state": "finished",
       "statement_id": 18,
       "statement_ids": [
        18
       ]
      },
      "text/plain": [
       "StatementMeta(, dcaeaad8-6824-4b3f-b781-84c0269606d7, 18, Finished, Available, Finished)"
      ]
     },
     "metadata": {},
     "output_type": "display_data"
    },
    {
     "name": "stdout",
     "output_type": "stream",
     "text": [
      " dbo\n",
      "  | dimaccount\n",
      "  |  | AccountKey\n",
      "  |  | ParentAccountKey\n",
      "  |  | AccountCodeAlternateKey\n",
      "  |  | ParentAccountCodeAlternateKey\n",
      "  |  | AccountDescription\n",
      "  |  | AccountType\n",
      "  |  | Operator\n",
      "  |  | CustomMembers\n",
      "  |  | ValueType\n",
      "  | factinternetsales *\n",
      "  |  | ProductKey\n",
      "  |  | OrderDateKey\n",
      "  |  | DueDateKey\n",
      "  |  | ShipDateKey\n",
      "  |  | CustomerKey\n",
      "  |  | PromotionKey\n",
      "  |  | CurrencyKey\n",
      "  |  | SalesTerritoryKey\n",
      "  |  | SalesOrderNumber\n",
      "  |  | SalesOrderLineNumber\n",
      "  |  | RevisionNumber\n",
      "  |  | OrderQuantity\n",
      "  |  | UnitPrice\n",
      "  |  | ExtendedAmount\n",
      "  |  | UnitPriceDiscountPct\n",
      "  |  | DiscountAmount\n",
      "  |  | ProductStandardCost\n",
      "  |  | TotalProductCost\n",
      "  |  | SalesAmount\n",
      "  |  | TaxAmt\n",
      "  |  | Freight\n",
      "  |  | OrderDate\n",
      "  |  | DueDate\n",
      "  |  | ShipDate\n",
      "  | dimemployee\n",
      "  |  | EmployeeKey\n",
      "  |  | ParentEmployeeKey\n",
      "  |  | EmployeeNationalIDAlternateKey\n",
      "  |  | SalesTerritoryKey\n",
      "  |  | FirstName\n",
      "  |  | LastName\n",
      "  |  | MiddleName\n",
      "  |  | NameStyle\n",
      "  |  | Title\n",
      "  |  | HireDate\n",
      "  |  | BirthDate\n",
      "  |  | LoginID\n",
      "  |  | EmailAddress\n",
      "  |  | Phone\n",
      "  |  | MaritalStatus\n",
      "  |  | EmergencyContactName\n",
      "  |  | EmergencyContactPhone\n",
      "  |  | SalariedFlag\n",
      "  |  | Gender\n",
      "  |  | PayFrequency\n",
      "  |  | BaseRate\n",
      "  |  | VacationHours\n",
      "  |  | SickLeaveHours\n",
      "  |  | CurrentFlag\n",
      "  |  | SalesPersonFlag\n",
      "  |  | DepartmentName\n",
      "  |  | StartDate\n",
      "  |  | EndDate\n",
      "  |  | Status\n",
      "  | factinternetsalesreason\n",
      "  |  | SalesOrderNumber\n",
      "  |  | SalesOrderLineNumber\n",
      "  |  | SalesReasonKey\n",
      "  | newfactcurrencyrate\n",
      "  |  | AverageRate\n",
      "  |  | CurrencyID\n",
      "  |  | CurrencyDate\n",
      "  |  | EndOfDayRate\n",
      "  |  | CurrencyKey\n",
      "  |  | DateKey\n",
      "  | dimproductcategory\n",
      "  |  | ProductCategoryKey\n",
      "  |  | ProductCategoryAlternateKey\n",
      "  |  | EnglishProductCategoryName\n",
      "  |  | SpanishProductCategoryName\n",
      "  |  | FrenchProductCategoryName\n",
      "  | factsurveyresponse\n",
      "  |  | SurveyResponseKey\n",
      "  |  | DateKey\n",
      "  |  | CustomerKey\n",
      "  |  | ProductCategoryKey\n",
      "  |  | EnglishProductCategoryName\n",
      "  |  | ProductSubcategoryKey\n",
      "  |  | EnglishProductSubcategoryName\n",
      "  |  | Date\n",
      "  | factcurrencyrate\n",
      "  |  | CurrencyKey\n",
      "  |  | DateKey\n",
      "  |  | AverageRate\n",
      "  |  | EndOfDayRate\n",
      "  |  | Date\n",
      "  | dimgeography\n",
      "  |  | GeographyKey\n",
      "  |  | City\n",
      "  |  | StateProvinceCode\n",
      "  |  | StateProvinceName\n",
      "  |  | CountryRegionCode\n",
      "  |  | EnglishCountryRegionName\n",
      "  |  | SpanishCountryRegionName\n",
      "  |  | FrenchCountryRegionName\n",
      "  |  | PostalCode\n",
      "  |  | SalesTerritoryKey\n",
      "  |  | IpAddressLocator\n",
      "  | dimscenario\n",
      "  |  | ScenarioKey\n",
      "  |  | ScenarioName\n",
      "  | dimcurrency\n",
      "  |  | CurrencyKey\n",
      "  |  | CurrencyAlternateKey\n",
      "  |  | CurrencyName\n",
      "  | dimorganization\n",
      "  |  | OrganizationKey\n",
      "  |  | ParentOrganizationKey\n",
      "  |  | PercentageOfOwnership\n",
      "  |  | OrganizationName\n",
      "  |  | CurrencyKey\n",
      "  | factproductinventory\n",
      "  |  | ProductKey\n",
      "  |  | DateKey\n",
      "  |  | MovementDate\n",
      "  |  | UnitCost\n",
      "  |  | UnitsIn\n",
      "  |  | UnitsOut\n",
      "  |  | UnitsBalance\n",
      "  | factcallcenter\n",
      "  |  | FactCallCenterID\n",
      "  |  | DateKey\n",
      "  |  | WageType\n",
      "  |  | Shift\n",
      "  |  | LevelOneOperators\n",
      "  |  | LevelTwoOperators\n",
      "  |  | TotalOperators\n",
      "  |  | Calls\n",
      "  |  | AutomaticResponses\n",
      "  |  | Orders\n",
      "  |  | IssuesRaised\n",
      "  |  | AverageTimePerIssue\n",
      "  |  | ServiceGrade\n",
      "  |  | Date\n",
      "  | dimdate\n",
      "  |  | DateKey\n",
      "  |  | FullDateAlternateKey\n",
      "  |  | DayNumberOfWeek\n",
      "  |  | EnglishDayNameOfWeek\n",
      "  |  | SpanishDayNameOfWeek\n",
      "  |  | FrenchDayNameOfWeek\n",
      "  |  | DayNumberOfMonth\n",
      "  |  | DayNumberOfYear\n",
      "  |  | WeekNumberOfYear\n",
      "  |  | EnglishMonthName\n",
      "  |  | SpanishMonthName\n",
      "  |  | FrenchMonthName\n",
      "  |  | MonthNumberOfYear\n",
      "  |  | CalendarQuarter\n",
      "  |  | CalendarYear\n",
      "  |  | CalendarSemester\n",
      "  |  | FiscalQuarter\n",
      "  |  | FiscalYear\n",
      "  |  | FiscalSemester\n",
      "  | dimcustomer *\n",
      "  |  | CustomerKey\n",
      "  |  | GeographyKey\n",
      "  |  | CustomerAlternateKey\n",
      "  |  | Title\n",
      "  |  | FirstName\n",
      "  |  | MiddleName\n",
      "  |  | LastName\n",
      "  |  | NameStyle\n",
      "  |  | BirthDate\n",
      "  |  | MaritalStatus\n",
      "  |  | Suffix\n",
      "  |  | Gender\n",
      "  |  | EmailAddress\n",
      "  |  | YearlyIncome\n",
      "  |  | TotalChildren\n",
      "  |  | NumberChildrenAtHome\n",
      "  |  | EnglishEducation\n",
      "  |  | SpanishEducation\n",
      "  |  | FrenchEducation\n",
      "  |  | EnglishOccupation\n",
      "  |  | SpanishOccupation\n",
      "  |  | FrenchOccupation\n",
      "  |  | HouseOwnerFlag\n",
      "  |  | NumberCarsOwned\n",
      "  |  | AddressLine1\n",
      "  |  | AddressLine2\n",
      "  |  | Phone\n",
      "  |  | DateFirstPurchase\n",
      "  |  | CommuteDistance\n",
      "  | dimproduct *\n",
      "  |  | ProductKey\n",
      "  |  | ProductAlternateKey\n",
      "  |  | ProductSubcategoryKey\n",
      "  |  | WeightUnitMeasureCode\n",
      "  |  | SizeUnitMeasureCode\n",
      "  |  | EnglishProductName\n",
      "  |  | SpanishProductName\n",
      "  |  | FrenchProductName\n",
      "  |  | StandardCost\n",
      "  |  | FinishedGoodsFlag\n",
      "  |  | Color\n",
      "  |  | SafetyStockLevel\n",
      "  |  | ReorderPoint\n",
      "  |  | ListPrice\n",
      "  |  | Size\n",
      "  |  | SizeRange\n",
      "  |  | Weight\n",
      "  |  | DaysToManufacture\n",
      "  |  | ProductLine\n",
      "  |  | DealerPrice\n",
      "  |  | Class\n",
      "  |  | Style\n",
      "  |  | ModelName\n",
      "  |  | EnglishDescription\n",
      "  |  | FrenchDescription\n",
      "  |  | ChineseDescription\n",
      "  |  | ArabicDescription\n",
      "  |  | HebrewDescription\n",
      "  |  | ThaiDescription\n",
      "  |  | GermanDescription\n",
      "  |  | JapaneseDescription\n",
      "  |  | TurkishDescription\n",
      "  |  | StartDate\n",
      "  |  | EndDate\n",
      "  |  | Status\n",
      "  | factadditionalinternationalproductdescription\n",
      "  |  | ProductKey\n",
      "  |  | CultureName\n",
      "  |  | ProductDescription\n",
      "  | dimproductsubcategory\n",
      "  |  | ProductSubcategoryKey\n",
      "  |  | ProductSubcategoryAlternateKey\n",
      "  |  | EnglishProductSubcategoryName\n",
      "  |  | SpanishProductSubcategoryName\n",
      "  |  | FrenchProductSubcategoryName\n",
      "  |  | ProductCategoryKey\n",
      "  | dimdepartmentgroup\n",
      "  |  | DepartmentGroupKey\n",
      "  |  | ParentDepartmentGroupKey\n",
      "  |  | DepartmentGroupName\n",
      "  | dimpromotion\n",
      "  |  | PromotionKey\n",
      "  |  | PromotionAlternateKey\n",
      "  |  | EnglishPromotionName\n",
      "  |  | SpanishPromotionName\n",
      "  |  | FrenchPromotionName\n",
      "  |  | DiscountPct\n",
      "  |  | EnglishPromotionType\n",
      "  |  | SpanishPromotionType\n",
      "  |  | FrenchPromotionType\n",
      "  |  | EnglishPromotionCategory\n",
      "  |  | SpanishPromotionCategory\n",
      "  |  | FrenchPromotionCategory\n",
      "  |  | StartDate\n",
      "  |  | EndDate\n",
      "  |  | MinQty\n",
      "  |  | MaxQty\n",
      "  | dimsalesterritory\n",
      "  |  | SalesTerritoryKey\n",
      "  |  | SalesTerritoryAlternateKey\n",
      "  |  | SalesTerritoryRegion\n",
      "  |  | SalesTerritoryCountry\n",
      "  |  | SalesTerritoryGroup\n",
      "  | dimreseller\n",
      "  |  | ResellerKey\n",
      "  |  | GeographyKey\n",
      "  |  | ResellerAlternateKey\n",
      "  |  | Phone\n",
      "  |  | BusinessType\n",
      "  |  | ResellerName\n",
      "  |  | NumberEmployees\n",
      "  |  | OrderFrequency\n",
      "  |  | OrderMonth\n",
      "  |  | FirstOrderYear\n",
      "  |  | LastOrderYear\n",
      "  |  | ProductLine\n",
      "  |  | AddressLine1\n",
      "  |  | AddressLine2\n",
      "  |  | AnnualSales\n",
      "  |  | BankName\n",
      "  |  | MinPaymentType\n",
      "  |  | MinPaymentAmount\n",
      "  |  | AnnualRevenue\n",
      "  |  | YearOpened\n",
      "  | dimsalesreason\n",
      "  |  | SalesReasonKey\n",
      "  |  | SalesReasonAlternateKey\n",
      "  |  | SalesReasonName\n",
      "  |  | SalesReasonReasonType\n",
      "  | factresellersales\n",
      "  |  | ProductKey\n",
      "  |  | OrderDateKey\n",
      "  |  | DueDateKey\n",
      "  |  | ShipDateKey\n",
      "  |  | ResellerKey\n",
      "  |  | EmployeeKey\n",
      "  |  | PromotionKey\n",
      "  |  | CurrencyKey\n",
      "  |  | SalesTerritoryKey\n",
      "  |  | SalesOrderNumber\n",
      "  |  | SalesOrderLineNumber\n",
      "  |  | RevisionNumber\n",
      "  |  | OrderQuantity\n",
      "  |  | UnitPrice\n",
      "  |  | ExtendedAmount\n",
      "  |  | UnitPriceDiscountPct\n",
      "  |  | DiscountAmount\n",
      "  |  | ProductStandardCost\n",
      "  |  | TotalProductCost\n",
      "  |  | SalesAmount\n",
      "  |  | TaxAmt\n",
      "  |  | Freight\n",
      "  |  | CarrierTrackingNumber\n",
      "  |  | CustomerPONumber\n",
      "  |  | OrderDate\n",
      "  |  | DueDate\n",
      "  |  | ShipDate\n",
      "  | prospectivebuyer\n",
      "  |  | ProspectiveBuyerKey\n",
      "  |  | ProspectAlternateKey\n",
      "  |  | FirstName\n",
      "  |  | MiddleName\n",
      "  |  | LastName\n",
      "  |  | BirthDate\n",
      "  |  | MaritalStatus\n",
      "  |  | Gender\n",
      "  |  | EmailAddress\n",
      "  |  | YearlyIncome\n",
      "  |  | TotalChildren\n",
      "  |  | NumberChildrenAtHome\n",
      "  |  | Education\n",
      "  |  | Occupation\n",
      "  |  | HouseOwnerFlag\n",
      "  |  | NumberCarsOwned\n",
      "  |  | AddressLine1\n",
      "  |  | AddressLine2\n",
      "  |  | City\n",
      "  |  | StateProvinceCode\n",
      "  |  | PostalCode\n",
      "  |  | Phone\n",
      "  |  | Salutation\n",
      "  |  | Unknown\n",
      "  | factfinance\n",
      "  |  | FinanceKey\n",
      "  |  | DateKey\n",
      "  |  | OrganizationKey\n",
      "  |  | DepartmentGroupKey\n",
      "  |  | ScenarioKey\n",
      "  |  | AccountKey\n",
      "  |  | Amount\n",
      "  |  | Date\n",
      "  | factsalesquota\n",
      "  |  | SalesQuotaKey\n",
      "  |  | EmployeeKey\n",
      "  |  | DateKey\n",
      "  |  | CalendarYear\n",
      "  |  | CalendarQuarter\n",
      "  |  | SalesAmountQuota\n",
      "  |  | Date\n"
     ]
    }
   ],
   "source": [
    "datasource.select(\"dbo\", \"dimcustomer\")\n",
    "datasource.select(\"dbo\", \"dimproduct\")\n",
    "datasource.select(\"dbo\", \"factinternetsales\")\n",
    "datasource.pretty_print()"
   ]
  },
  {
   "cell_type": "markdown",
   "id": "86f39c60-0654-4d88-9bf3-3e4613f9f795",
   "metadata": {
    "microsoft": {
     "language": "python",
     "language_group": "synapse_pyspark"
    },
    "nteract": {
     "transient": {
      "deleting": false
     }
    }
   },
   "source": [
    "#### Add IDs to Fabric Client"
   ]
  },
  {
   "cell_type": "markdown",
   "id": "de79e63d-e777-4515-9216-a2120acf6b69",
   "metadata": {
    "microsoft": {
     "language": "python",
     "language_group": "synapse_pyspark"
    },
    "nteract": {
     "transient": {
      "deleting": false
     }
    }
   },
   "source": [
    "Now that the Data Agent is created and relevant datasources and tables are selected. We can start with adding the fabric client. Pass the `data_agent_name` to the `FabricOpenAI` class imported and create the `fabric_client` instance."
   ]
  },
  {
   "cell_type": "code",
   "execution_count": null,
   "id": "d683a9d1-07b0-44fa-9dfb-7504346b49e6",
   "metadata": {
    "jupyter": {
     "outputs_hidden": false,
     "source_hidden": false
    },
    "microsoft": {
     "language": "python",
     "language_group": "synapse_pyspark"
    },
    "ms_comment_ranges": {
     "ae28a1da-0969-4bd1-b5f9-f65d005c7f27": {
      "end": {
       "column": 30,
       "line": 1
      },
      "start": {
       "column": 1,
       "line": 1
      },
      "text": "import sempy.fabric as fabric"
     }
    },
    "ms_comments": [
     {
      "createdDateUTC": 1729115635061,
      "modifiedDateUTC": 1729203866248,
      "replies": [],
      "status": "resolved",
      "text": "add a cell before this one using sempy.fabric.list_items(type=\"AIskill or whatever the type is\") to make sure that the Data Agent names doesn't come out of nowhere.",
      "threadId": "ae28a1da-0969-4bd1-b5f9-f65d005c7f27",
      "user": {
       "idType": "aad",
       "name": "Markus Cozowicz"
      }
     },
     {
      "createdDateUTC": 1729115521263,
      "modifiedDateUTC": 1729115521263,
      "replies": [
       {
        "createdDateUTC": 1729204036656,
        "modifiedDateUTC": 1729204036656,
        "replyId": "b08824c1-5ac9-4ecd-b36c-e7a24239225c",
        "text": "For now we kept the data_agentstage = sandbox too, because we are assuming that we want it to be defaulted to production, but since we are testing, we kept the sandbox in the function init.",
        "user": {
         "idType": "aad",
         "name": "Aydan Aksoylar"
        }
       },
       {
        "createdDateUTC": 1729204091949,
        "modifiedDateUTC": 1729204091949,
        "replyId": "1298ec5e-0c22-422b-8a0e-0b99f37cbaa6",
        "text": "but we can remove for the final version",
        "user": {
         "idType": "aad",
         "name": "Aydan Aksoylar"
        }
       },
       {
        "createdDateUTC": 1729533009900,
        "modifiedDateUTC": 1729533009900,
        "replyId": "8fe18e41-d1fa-4619-8879-dc16d0b12035",
        "text": "I'd suggest to keep it in the final version too. I hope we can re-use the same library for internal testing. so we can just default to production (later on)",
        "user": {
         "idType": "aad",
         "name": "Markus Cozowicz"
        }
       }
      ],
      "status": "active",
      "text": "ideally this should look like:\n\n\nfabric_oai_client = FabricOpenAI(\"Test_with_SemanticModel\")",
      "threadId": "a74d5c56-4aee-4354-890b-edc766fb2681",
      "user": {
       "idType": "aad",
       "name": "Markus Cozowicz"
      }
     },
     {
      "createdDateUTC": 1731449360428,
      "modifiedDateUTC": 1731449360428,
      "replies": [],
      "status": "active",
      "text": "Given that these don't actually take effect, how do we warn the user of that? I personally was confused when these were ignored",
      "threadId": "dd546a59-bd6a-4f15-9804-a00acf0be3e2",
      "user": {
       "idType": "aad",
       "name": "Aydan Aksoylar"
      }
     }
    ],
    "nteract": {
     "transient": {
      "deleting": false
     }
    }
   },
   "outputs": [
    {
     "data": {
      "application/vnd.livy.statement-meta+json": {
       "execution_finish_time": "2025-03-03T23:25:04.5280391Z",
       "execution_start_time": "2025-03-03T23:25:01.9756271Z",
       "livy_statement_state": "available",
       "normalized_state": "finished",
       "parent_msg_id": "c713e11d-7d4f-4ac6-a3da-b16dd990cada",
       "queued_time": "2025-03-03T23:23:47.8087423Z",
       "session_id": "dcaeaad8-6824-4b3f-b781-84c0269606d7",
       "session_start_time": null,
       "spark_pool": null,
       "state": "finished",
       "statement_id": 19,
       "statement_ids": [
        19
       ]
      },
      "text/plain": [
       "StatementMeta(, dcaeaad8-6824-4b3f-b781-84c0269606d7, 19, Finished, Available, Finished)"
      ]
     },
     "metadata": {},
     "output_type": "display_data"
    },
    {
     "name": "stdout",
     "output_type": "stream",
     "text": [
      "asst_4ZxQTwBAe8hSULQ7FHzHlwfX\n",
      "thread_zIqnt8BPaijC9Irh3rXr9shH\n"
     ]
    }
   ],
   "source": [
    "import sempy.fabric as fabric\n",
    "from fabric.dataagent.client import FabricOpenAI\n",
    "\n",
    "\n",
    "fabric_client = FabricOpenAI(artifact_name=data_agent_name)\n",
    "assistant = fabric_client.beta.assistants.create(model=\"gpt-4o\")\n",
    "thread = fabric_client.beta.threads.create()\n",
    "\n",
    "print(assistant.id)\n",
    "print(thread.id)"
   ]
  },
  {
   "cell_type": "markdown",
   "id": "862f1cca-b461-4c22-b97b-3f67abb1cfec",
   "metadata": {
    "microsoft": {
     "language": "python",
     "language_group": "synapse_pyspark"
    },
    "nteract": {
     "transient": {
      "deleting": false
     }
    }
   },
   "source": [
    "#### Example Showing Message Submission and Query to Response Steps\n",
    "- Message appended to a thread, run creation, checking the status and final response\n",
    "- Submit message using the create method in messages, pass an example question in content.\n",
    "- Then, create a run for the particular `thread.id`."
   ]
  },
  {
   "cell_type": "code",
   "execution_count": 13,
   "id": "fe93e864-5646-4886-9710-99d091a28d3d",
   "metadata": {
    "microsoft": {
     "language": "python",
     "language_group": "synapse_pyspark"
    }
   },
   "outputs": [
    {
     "data": {
      "application/vnd.livy.statement-meta+json": {
       "execution_finish_time": "2025-03-03T23:25:05.4311816Z",
       "execution_start_time": "2025-03-03T23:25:04.5305277Z",
       "livy_statement_state": "available",
       "normalized_state": "finished",
       "parent_msg_id": "2937c322-7067-468d-b653-c01b9c009007",
       "queued_time": "2025-03-03T23:23:47.8093107Z",
       "session_id": "dcaeaad8-6824-4b3f-b781-84c0269606d7",
       "session_start_time": null,
       "spark_pool": null,
       "state": "finished",
       "statement_id": 20,
       "statement_ids": [
        20
       ]
      },
      "text/plain": [
       "StatementMeta(, dcaeaad8-6824-4b3f-b781-84c0269606d7, 20, Finished, Available, Finished)"
      ]
     },
     "metadata": {},
     "output_type": "display_data"
    }
   ],
   "source": [
    "# Create a message to append to our thread\n",
    "fabric_client.beta.threads.messages.create(\n",
    "    thread_id=thread.id,\n",
    "    role=\"user\",\n",
    "    content=\"What was the best selling product by volume in 2013?\",\n",
    ")\n",
    "run = fabric_client.beta.threads.runs.create(\n",
    "    thread_id=thread.id, assistant_id=assistant.id\n",
    ")"
   ]
  },
  {
   "cell_type": "markdown",
   "id": "1cfe8c1b-c124-43f5-bce1-da00d933a904",
   "metadata": {
    "microsoft": {
     "language": "python",
     "language_group": "synapse_pyspark"
    },
    "nteract": {
     "transient": {
      "deleting": false
     }
    }
   },
   "source": [
    "#### Checking Status\n",
    "Below cell is to show you how we can check the status of the run. Note that if multiple questions are asked, you will use this to check status of various questions in the interim, as they are in a queue. You can always only have 1x run active per thread."
   ]
  },
  {
   "cell_type": "code",
   "execution_count": 14,
   "id": "16424163-7c94-470e-81a8-a34ded269ac2",
   "metadata": {
    "jupyter": {
     "outputs_hidden": false,
     "source_hidden": false
    },
    "microsoft": {
     "language": "python",
     "language_group": "synapse_pyspark"
    },
    "ms_comment_ranges": {},
    "ms_comments": [
     {
      "createdDateUTC": 1729115564753,
      "modifiedDateUTC": 1729790304435,
      "replies": [
       {
        "createdDateUTC": 1729204211410,
        "modifiedDateUTC": 1729204256905,
        "replyId": "e9c4ac7c-920c-41d0-9446-d39fa45a6df5",
        "text": "If we want to demo two questions, then we'll need to call this code block twice in different cells, that's why we had put it in a function. Do you feel strong about removing the function?",
        "user": {
         "idType": "aad",
         "name": "Aydan Aksoylar"
        }
       },
       {
        "createdDateUTC": 1729533050182,
        "modifiedDateUTC": 1729533050182,
        "replyId": "3af6ab99-2582-42de-9e65-fb8ad2b094ca",
        "text": "yep, please remove :). we want to avoid building something on-top of OAI SDK for now",
        "user": {
         "idType": "aad",
         "name": "Markus Cozowicz"
        }
       }
      ],
      "status": "resolved",
      "text": "just stick it into the cell, the purpose of the notebook is show-case the OAI API and not hide it",
      "threadId": "8055e94e-1b38-47b9-b8a2-753a6aab0454",
      "user": {
       "idType": "aad",
       "name": "Markus Cozowicz"
      }
     }
    ],
    "nteract": {
     "transient": {
      "deleting": false
     }
    }
   },
   "outputs": [
    {
     "data": {
      "application/vnd.livy.statement-meta+json": {
       "execution_finish_time": "2025-03-03T23:25:31.063146Z",
       "execution_start_time": "2025-03-03T23:25:05.4336543Z",
       "livy_statement_state": "available",
       "normalized_state": "finished",
       "parent_msg_id": "7f0445e0-fec7-4913-a3b2-e957c710d408",
       "queued_time": "2025-03-03T23:23:47.8098774Z",
       "session_id": "dcaeaad8-6824-4b3f-b781-84c0269606d7",
       "session_start_time": null,
       "spark_pool": null,
       "state": "finished",
       "statement_id": 21,
       "statement_ids": [
        21
       ]
      },
      "text/plain": [
       "StatementMeta(, dcaeaad8-6824-4b3f-b781-84c0269606d7, 21, Finished, Available, Finished)"
      ]
     },
     "metadata": {},
     "output_type": "display_data"
    },
    {
     "name": "stdout",
     "output_type": "stream",
     "text": [
      "completed\n"
     ]
    }
   ],
   "source": [
    "import time\n",
    "\n",
    "# Wait for completion\n",
    "while run.status == \"queued\" or run.status == \"in_progress\":\n",
    "    run = fabric_client.beta.threads.runs.retrieve(\n",
    "        thread_id=thread.id,\n",
    "        run_id=run.id,\n",
    "    )\n",
    "    time.sleep(2)\n",
    "print(run.status)"
   ]
  },
  {
   "cell_type": "markdown",
   "id": "f023e173",
   "metadata": {
    "vscode": {
     "languageId": "markdown"
    }
   },
   "source": [
    "#### Retrieving and Displaying Results\n",
    "Once the run is completed, we can retrieve and display the results generated by the Data Agent. The following steps demonstrate how to access and present the response data."
   ]
  },
  {
   "cell_type": "markdown",
   "id": "a99c9949-6b28-4dd3-9882-45c23a5d13bf",
   "metadata": {
    "microsoft": {
     "language": "python",
     "language_group": "synapse_pyspark"
    },
    "nteract": {
     "transient": {
      "deleting": false
     }
    }
   },
   "source": [
    "\n",
    "- Response from the agent can be read from the messages list for particular thread id.\n",
    "- In order to improve readability, we can use a pretty_print function for all the messages."
   ]
  },
  {
   "cell_type": "code",
   "execution_count": 15,
   "id": "a452e2eb-c699-401e-bf65-8a32b7a8a65a",
   "metadata": {
    "jupyter": {
     "outputs_hidden": false,
     "source_hidden": false
    },
    "microsoft": {
     "language": "python",
     "language_group": "synapse_pyspark"
    },
    "nteract": {
     "transient": {
      "deleting": false
     }
    }
   },
   "outputs": [
    {
     "data": {
      "application/vnd.livy.statement-meta+json": {
       "execution_finish_time": "2025-03-03T23:25:31.9963853Z",
       "execution_start_time": "2025-03-03T23:25:31.065742Z",
       "livy_statement_state": "available",
       "normalized_state": "finished",
       "parent_msg_id": "dc429762-1761-4e78-a8b3-28846d5c85ca",
       "queued_time": "2025-03-03T23:23:47.8104263Z",
       "session_id": "dcaeaad8-6824-4b3f-b781-84c0269606d7",
       "session_start_time": null,
       "spark_pool": null,
       "state": "finished",
       "statement_id": 22,
       "statement_ids": [
        22
       ]
      },
      "text/plain": [
       "StatementMeta(, dcaeaad8-6824-4b3f-b781-84c0269606d7, 22, Finished, Available, Finished)"
      ]
     },
     "metadata": {},
     "output_type": "display_data"
    }
   ],
   "source": [
    "# Retrieve all the messages added after our last user message\n",
    "response = fabric_client.beta.threads.messages.list(thread_id=thread.id, order=\"asc\")"
   ]
  },
  {
   "cell_type": "code",
   "execution_count": 16,
   "id": "2441f4c0-5e0c-4976-94f8-bd63c8226001",
   "metadata": {
    "jupyter": {
     "outputs_hidden": false,
     "source_hidden": false
    },
    "microsoft": {
     "language": "python",
     "language_group": "synapse_pyspark"
    },
    "nteract": {
     "transient": {
      "deleting": false
     }
    }
   },
   "outputs": [
    {
     "data": {
      "application/vnd.livy.statement-meta+json": {
       "execution_finish_time": "2025-03-03T23:25:32.324081Z",
       "execution_start_time": "2025-03-03T23:25:31.9991455Z",
       "livy_statement_state": "available",
       "normalized_state": "finished",
       "parent_msg_id": "3912ea9c-e959-48aa-b2dc-54a00d9f4026",
       "queued_time": "2025-03-03T23:23:47.8110082Z",
       "session_id": "dcaeaad8-6824-4b3f-b781-84c0269606d7",
       "session_start_time": null,
       "spark_pool": null,
       "state": "finished",
       "statement_id": 23,
       "statement_ids": [
        23
       ]
      },
      "text/plain": [
       "StatementMeta(, dcaeaad8-6824-4b3f-b781-84c0269606d7, 23, Finished, Available, Finished)"
      ]
     },
     "metadata": {},
     "output_type": "display_data"
    }
   ],
   "source": [
    "# Pretty printing helper\n",
    "def pretty_print(messages):\n",
    "    print(\"# Messages\")\n",
    "    for m in messages:\n",
    "        print(f\"{m.role}: {m.content[0].text.value}\")\n",
    "    print()"
   ]
  },
  {
   "cell_type": "code",
   "execution_count": 17,
   "id": "39408436-20a9-4c11-8d79-7c59abf3dcd0",
   "metadata": {
    "jupyter": {
     "outputs_hidden": false,
     "source_hidden": false
    },
    "microsoft": {
     "language": "python",
     "language_group": "synapse_pyspark"
    },
    "nteract": {
     "transient": {
      "deleting": false
     }
    }
   },
   "outputs": [
    {
     "data": {
      "application/vnd.livy.statement-meta+json": {
       "execution_finish_time": "2025-03-03T23:25:32.6392303Z",
       "execution_start_time": "2025-03-03T23:25:32.3265211Z",
       "livy_statement_state": "available",
       "normalized_state": "finished",
       "parent_msg_id": "d38feff0-23e1-4a83-a470-2b2cc456454f",
       "queued_time": "2025-03-03T23:23:47.8115581Z",
       "session_id": "dcaeaad8-6824-4b3f-b781-84c0269606d7",
       "session_start_time": null,
       "spark_pool": null,
       "state": "finished",
       "statement_id": 24,
       "statement_ids": [
        24
       ]
      },
      "text/plain": [
       "StatementMeta(, dcaeaad8-6824-4b3f-b781-84c0269606d7, 24, Finished, Available, Finished)"
      ]
     },
     "metadata": {},
     "output_type": "display_data"
    },
    {
     "name": "stdout",
     "output_type": "stream",
     "text": [
      "# Messages\n",
      "user: What was the best selling product by volume in 2013?\n",
      "assistant: To answer your question comprehensively, I'll need to gather additional details. Specifically, I will look into:\n",
      "\n",
      "1. The top 3 best selling products by volume in 2013.\n",
      "2. The top 3 best selling products by volume in 2012.\n",
      "3. The top 3 best selling products by volume across all years.\n",
      "\n",
      "After gathering this information, I can provide a detailed comparison and answer your original question. I'll start by querying these three pieces of information.\n",
      "assistant: Here is a comprehensive look at the best selling products by volume:\n",
      "\n",
      "### Top 3 Best Selling Products by Volume in 2013:\n",
      "1. **Water Bottle - 30 oz.** with a total quantity of 4080 units.\n",
      "2. **Patch Kit/8 Patches** with a total quantity of 3026 units.\n",
      "3. **Mountain Tire Tube** with a total quantity of 2926 units.\n",
      "\n",
      "### Top 3 Best Selling Products by Volume in 2012:\n",
      "1. **Mountain-200 Black, 46** with a total quantity of 206 units.\n",
      "2. **Mountain-200 Black, 42** with a total quantity of 191 units.\n",
      "3. **Mountain-200 Silver, 46** with a total quantity of 182 units.\n",
      "\n",
      "### Top 3 Best Selling Products by Volume Across All Years:\n",
      "1. **Water Bottle - 30 oz.** with a total quantity of 4244 units.\n",
      "2. **Patch Kit/8 Patches** with a total quantity of 3191 units.\n",
      "3. **Mountain Tire Tube** with a total quantity of 3095 units.\n",
      "\n",
      "From this data, we can see that in 2013, the best selling product by volume was the **Water Bottle - 30 oz.** with 4080 units sold. This product also happens to be the highest selling product across all years as well.\n",
      "\n"
     ]
    }
   ],
   "source": [
    "pretty_print(response)"
   ]
  },
  {
   "cell_type": "markdown",
   "id": "5aab492d-5414-4baa-a303-89b7484e5923",
   "metadata": {
    "microsoft": {
     "language": "python",
     "language_group": "synapse_pyspark"
    },
    "nteract": {
     "transient": {
      "deleting": false
     }
    }
   },
   "source": [
    "#### Some debugging and verification tools: `run_steps`\n",
    "We can use `run_steps` to check the data from the run. It can be parsed to separate out specifics such as generation of SQL query or some intermediate answers.\n"
   ]
  },
  {
   "cell_type": "code",
   "execution_count": 18,
   "id": "9bbf6bfd-c052-4d0e-914f-1c468dfad013",
   "metadata": {
    "jupyter": {
     "outputs_hidden": false,
     "source_hidden": false
    },
    "microsoft": {
     "language": "python",
     "language_group": "synapse_pyspark"
    },
    "nteract": {
     "transient": {
      "deleting": false
     }
    }
   },
   "outputs": [
    {
     "data": {
      "application/vnd.livy.statement-meta+json": {
       "execution_finish_time": "2025-03-03T23:25:33.5924248Z",
       "execution_start_time": "2025-03-03T23:25:32.641769Z",
       "livy_statement_state": "available",
       "normalized_state": "finished",
       "parent_msg_id": "5d5e32b6-3dd6-468c-a370-42fb05513368",
       "queued_time": "2025-03-03T23:23:47.8121188Z",
       "session_id": "dcaeaad8-6824-4b3f-b781-84c0269606d7",
       "session_start_time": null,
       "spark_pool": null,
       "state": "finished",
       "statement_id": 25,
       "statement_ids": [
        25
       ]
      },
      "text/plain": [
       "StatementMeta(, dcaeaad8-6824-4b3f-b781-84c0269606d7, 25, Finished, Available, Finished)"
      ]
     },
     "metadata": {},
     "output_type": "display_data"
    }
   ],
   "source": [
    "run_steps = fabric_client.beta.threads.runs.steps.list(\n",
    "    thread_id=thread.id,\n",
    "    run_id=run.id,\n",
    ")"
   ]
  },
  {
   "cell_type": "code",
   "execution_count": 19,
   "id": "0a775aed-3b54-41d8-b4d8-6acc4d43e1dc",
   "metadata": {
    "jupyter": {
     "outputs_hidden": false,
     "source_hidden": false
    },
    "microsoft": {
     "language": "python",
     "language_group": "synapse_pyspark"
    },
    "nteract": {
     "transient": {
      "deleting": false
     }
    }
   },
   "outputs": [
    {
     "data": {
      "application/vnd.livy.statement-meta+json": {
       "execution_finish_time": "2025-03-03T23:25:33.9131759Z",
       "execution_start_time": "2025-03-03T23:25:33.5949144Z",
       "livy_statement_state": "available",
       "normalized_state": "finished",
       "parent_msg_id": "ffcaad06-123b-4ab8-be94-3ce3f9f97a93",
       "queued_time": "2025-03-03T23:23:47.8126821Z",
       "session_id": "dcaeaad8-6824-4b3f-b781-84c0269606d7",
       "session_start_time": null,
       "spark_pool": null,
       "state": "finished",
       "statement_id": 26,
       "statement_ids": [
        26
       ]
      },
      "text/plain": [
       "StatementMeta(, dcaeaad8-6824-4b3f-b781-84c0269606d7, 26, Finished, Available, Finished)"
      ]
     },
     "metadata": {},
     "output_type": "display_data"
    },
    {
     "data": {
      "text/plain": [
       "[RunStep(id='step_3y7Fr6yFWGwqve5n8qn6FLoC', assistant_id='asst_4ZxQTwBAe8hSULQ7FHzHlwfX', cancelled_at=None, completed_at=1741044324, created_at=1741044322, expired_at=None, failed_at=None, last_error=None, metadata=None, object='thread.run.step', run_id='5864aeeb-47a0-4bc1-8246-99a290c45e6d', status='completed', step_details=MessageCreationStepDetails(message_creation=MessageCreation(message_id='msg_VBpGY52TT0M7j6thtAn4Vhpj'), type='message_creation'), thread_id='thread_zIqnt8BPaijC9Irh3rXr9shH', type='message_creation', usage=Usage(completion_tokens=285, prompt_tokens=1857, total_tokens=2142, prompt_token_details={'cached_tokens': 0}), expires_at=None),\n",
       " RunStep(id='step_znxVXb24YnGtGfIyunz6jAoI', assistant_id='asst_4ZxQTwBAe8hSULQ7FHzHlwfX', cancelled_at=None, completed_at=1741044321, created_at=1741044309, expired_at=None, failed_at=None, last_error=None, metadata=None, object='thread.run.step', run_id='5864aeeb-47a0-4bc1-8246-99a290c45e6d', status='completed', step_details=ToolCallsStepDetails(tool_calls=[FunctionToolCall(id='call_lgTpTGwtrCGsewcrNLUc91Uk', function=Function(arguments='{\"query\": \"What were the top 3 best selling products by volume in 2013?\"}', name='analyze_database', output='| ProductName           |   TotalQuantity |\\n|:----------------------|----------------:|\\n| Water Bottle - 30 oz. |            4080 |\\n| Patch Kit/8 Patches   |            3026 |\\n| Mountain Tire Tube    |            2926 |\\n\\n```sql\\nSELECT TOP 3 \\n    dp.EnglishProductName AS ProductName,\\n    SUM(fis.OrderQuantity) AS TotalQuantity\\nFROM \\n    dbo.factinternetsales fis\\nJOIN \\n    dbo.dimproduct dp ON fis.ProductKey = dp.ProductKey\\nWHERE \\n    YEAR(fis.OrderDate) = 2013\\nGROUP BY \\n    dp.EnglishProductName\\nORDER BY \\n    TotalQuantity DESC;\\n```'), type='function'), FunctionToolCall(id='call_zamSOHxpyyeTCFxzveodLAgt', function=Function(arguments='{\"query\": \"What were the top 3 best selling products by volume in 2012?\"}', name='analyze_database', output='| ProductName             |   TotalQuantity |\\n|:------------------------|----------------:|\\n| Mountain-200 Black, 46  |             206 |\\n| Mountain-200 Black, 42  |             191 |\\n| Mountain-200 Silver, 46 |             182 |\\n\\n```sql\\nSELECT TOP 3 \\n    dp.EnglishProductName AS ProductName,\\n    SUM(fis.OrderQuantity) AS TotalQuantity\\nFROM \\n    dbo.factinternetsales fis\\nJOIN \\n    dbo.dimproduct dp ON fis.ProductKey = dp.ProductKey\\nWHERE \\n    YEAR(fis.OrderDate) = 2012\\nGROUP BY \\n    dp.EnglishProductName\\nORDER BY \\n    TotalQuantity DESC;\\n```'), type='function'), FunctionToolCall(id='call_y0jEhV9Hrmem172NqKgr8Fl1', function=Function(arguments='{\"query\": \"What were the top 3 best selling products by volume across all years?\"}', name='analyze_database', output='| ProductName           |   TotalQuantity |\\n|:----------------------|----------------:|\\n| Water Bottle - 30 oz. |            4244 |\\n| Patch Kit/8 Patches   |            3191 |\\n| Mountain Tire Tube    |            3095 |\\n\\n```sql\\nSELECT TOP 3 \\n    dp.EnglishProductName AS ProductName,\\n    SUM(fis.OrderQuantity) AS TotalQuantity\\nFROM \\n    dbo.factinternetsales fis\\nJOIN \\n    dbo.dimproduct dp ON fis.ProductKey = dp.ProductKey\\nGROUP BY \\n    dp.EnglishProductName\\nORDER BY \\n    TotalQuantity DESC;\\n```'), type='function')], type='tool_calls'), thread_id='thread_zIqnt8BPaijC9Irh3rXr9shH', type='tool_calls', usage=Usage(completion_tokens=0, prompt_tokens=0, total_tokens=0, prompt_token_details={'cached_tokens': 0}), expires_at=None),\n",
       " RunStep(id='step_rnQmcZo0iuXZC8WfNVkNyFtT', assistant_id='asst_4ZxQTwBAe8hSULQ7FHzHlwfX', cancelled_at=None, completed_at=1741044309, created_at=1741044308, expired_at=None, failed_at=None, last_error=None, metadata=None, object='thread.run.step', run_id='5864aeeb-47a0-4bc1-8246-99a290c45e6d', status='completed', step_details=MessageCreationStepDetails(message_creation=MessageCreation(message_id='msg_MoawkTwEzzRwsf4yuOTtZiGl'), type='message_creation'), thread_id='thread_zIqnt8BPaijC9Irh3rXr9shH', type='message_creation', usage=Usage(completion_tokens=97, prompt_tokens=1178, total_tokens=1275, prompt_token_details={'cached_tokens': 0}), expires_at=None)]"
      ]
     },
     "execution_count": 58,
     "metadata": {},
     "output_type": "execute_result"
    }
   ],
   "source": [
    "run_steps.data"
   ]
  },
  {
   "cell_type": "markdown",
   "id": "718cf715-301d-4e0e-ad8b-c77307171d76",
   "metadata": {
    "microsoft": {
     "language": "python",
     "language_group": "synapse_pyspark"
    },
    "nteract": {
     "transient": {
      "deleting": false
     }
    }
   },
   "source": [
    "#### Clean Up\n",
    "- After all required tasks with the run are over, you can delete the thread. If you want to retain the previous information, you can skip this step.\n",
    "- If you don't need the Data Agent anymore, you can delete it entirely also."
   ]
  },
  {
   "cell_type": "code",
   "execution_count": 20,
   "id": "4fc5c0df-4f60-4a63-8b38-8930f7dbcbf6",
   "metadata": {
    "jupyter": {
     "outputs_hidden": false,
     "source_hidden": false
    },
    "microsoft": {
     "language": "python",
     "language_group": "synapse_pyspark"
    },
    "nteract": {
     "transient": {
      "deleting": false
     }
    }
   },
   "outputs": [
    {
     "data": {
      "application/vnd.livy.statement-meta+json": {
       "execution_finish_time": "2025-03-03T23:25:34.7928852Z",
       "execution_start_time": "2025-03-03T23:25:33.9157733Z",
       "livy_statement_state": "available",
       "normalized_state": "finished",
       "parent_msg_id": "98bae29e-1749-4ff4-91fe-99d1810639d8",
       "queued_time": "2025-03-03T23:23:47.813249Z",
       "session_id": "dcaeaad8-6824-4b3f-b781-84c0269606d7",
       "session_start_time": null,
       "spark_pool": null,
       "state": "finished",
       "statement_id": 27,
       "statement_ids": [
        27
       ]
      },
      "text/plain": [
       "StatementMeta(, dcaeaad8-6824-4b3f-b781-84c0269606d7, 27, Finished, Available, Finished)"
      ]
     },
     "metadata": {},
     "output_type": "display_data"
    },
    {
     "data": {
      "text/plain": [
       "ThreadDeleted(id='thread_zIqnt8BPaijC9Irh3rXr9shH', deleted=None, object=None, messages=None, metadata=None)"
      ]
     },
     "execution_count": 61,
     "metadata": {},
     "output_type": "execute_result"
    }
   ],
   "source": [
    "fabric_client.beta.threads.delete(thread.id)"
   ]
  },
  {
   "cell_type": "code",
   "execution_count": null,
   "id": "3597bcca-6dcf-491f-8993-91e719c428a8",
   "metadata": {
    "microsoft": {
     "language": "python",
     "language_group": "synapse_pyspark"
    }
   },
   "outputs": [
    {
     "data": {
      "application/vnd.livy.statement-meta+json": {
       "execution_finish_time": "2025-03-03T23:25:35.7016802Z",
       "execution_start_time": "2025-03-03T23:25:34.7955941Z",
       "livy_statement_state": "available",
       "normalized_state": "finished",
       "parent_msg_id": "ec3614a9-36c4-4684-b196-a4f86a4cb0c5",
       "queued_time": "2025-03-03T23:23:47.8138002Z",
       "session_id": "dcaeaad8-6824-4b3f-b781-84c0269606d7",
       "session_start_time": null,
       "spark_pool": null,
       "state": "finished",
       "statement_id": 28,
       "statement_ids": [
        28
       ]
      },
      "text/plain": [
       "StatementMeta(, dcaeaad8-6824-4b3f-b781-84c0269606d7, 28, Finished, Available, Finished)"
      ]
     },
     "metadata": {},
     "output_type": "display_data"
    }
   ],
   "source": [
    "delete_data_agent(data_agent_name)"
   ]
  }
 ],
 "metadata": {
  "a365ComputeOptions": null,
  "dependencies": {
   "lakehouse": {
    "default_lakehouse": "c379c093-3137-4547-84ca-824299351f9c",
    "default_lakehouse_name": "AdventureWorksUni",
    "default_lakehouse_workspace_id": "80e42b2e-9533-49a4-882a-bd08540d6db2",
    "known_lakehouses": [
     {
      "id": "20899a6c-2b9e-4079-8791-11141436be7d"
     },
     {
      "id": "c379c093-3137-4547-84ca-824299351f9c"
     }
    ]
   }
  },
  "kernel_info": {
   "name": "synapse_pyspark"
  },
  "kernelspec": {
   "display_name": "agent-sdk",
   "language": "python",
   "name": "python3"
  },
  "language_info": {
   "codemirror_mode": {
    "name": "ipython",
    "version": 3
   },
   "file_extension": ".py",
   "mimetype": "text/x-python",
   "name": "python",
   "nbconvert_exporter": "python",
   "pygments_lexer": "ipython3",
   "version": "3.10.16"
  },
  "microsoft": {
   "language": "python",
   "language_group": "synapse_pyspark",
   "ms_spell_check": {
    "ms_spell_check_language": "en"
   }
  },
  "nteract": {
   "version": "nteract-front-end@1.0.0"
  },
  "sessionKeepAliveTimeout": 0,
  "spark_compute": {
   "compute_id": "/trident/default",
   "session_options": {
    "conf": {
     "spark.synapse.nbs.session.timeout": "1200000"
    }
   }
  },
  "widgets": {}
 },
 "nbformat": 4,
 "nbformat_minor": 5
}
