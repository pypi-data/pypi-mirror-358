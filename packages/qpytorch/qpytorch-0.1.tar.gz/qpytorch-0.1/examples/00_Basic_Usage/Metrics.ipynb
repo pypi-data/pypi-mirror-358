{
 "cells": [
  {
   "cell_type": "markdown",
   "metadata": {},
   "source": [
    "# Metrics in QPyTorch\n",
    "\n",
    "In this notebook, we will see how to evaluate QPyTorch models with probabilistic metrics. \n",
    "\n",
    "**Note:** It is encouraged to check the Simple QP Regression notebook first if not done already. We'll reuse most of the code from there.\n",
    "\n",
    "We'll be modeling the function\n",
    "\n",
    "$$\n",
    "\\begin{align}\n",
    "  y &= \\sin(2\\pi x) + \\epsilon \\\\\n",
    "  \\epsilon &\\sim \\mathcal{N}(0, 0.04) \n",
    "\\end{align}\n",
    "$$\n"
   ]
  },
  {
   "cell_type": "code",
   "execution_count": 1,
   "metadata": {},
   "outputs": [
    {
     "name": "stdout",
     "output_type": "stream",
     "text": [
      "\n",
      "[KeOps] Warning : There were warnings or errors :\n",
      "/bin/sh: brew: command not found\n",
      "\n",
      "[KeOps] Warning : CUDA libraries not found or could not be loaded; Switching to CPU only.\n",
      "[KeOps] Warning : OpenMP library 'libomp' not found.\n",
      "[KeOps] Warning : OpenMP support is not available. Disabling OpenMP.\n"
     ]
    }
   ],
   "source": [
    "import math\n",
    "import torch\n",
    "import qpytorch\n",
    "from matplotlib import pyplot as plt\n",
    "\n",
    "%matplotlib inline\n",
    "%load_ext autoreload\n",
    "%autoreload 2"
   ]
  },
  {
   "cell_type": "markdown",
   "metadata": {},
   "source": [
    "In the next cell, we set up the train and test data."
   ]
  },
  {
   "cell_type": "code",
   "execution_count": 2,
   "metadata": {},
   "outputs": [],
   "source": [
    "# Training data is 100 points in [0,1] inclusive regularly spaced\n",
    "train_x = torch.linspace(0, 1, 100)\n",
    "# True function is sin(2*pi*x) with Gaussian noise\n",
    "train_y = torch.sin(train_x * (2 * math.pi)) + torch.randn(train_x.size()) * math.sqrt(0.04)\n",
    "\n",
    "test_x = torch.linspace(0, 1, 51)\n",
    "test_y = torch.sin(test_x * (2 * math.pi)) + torch.randn(test_x.size()) * math.sqrt(0.04)"
   ]
  },
  {
   "cell_type": "markdown",
   "metadata": {},
   "source": [
    "In the next cell, we define a simple QP regression model."
   ]
  },
  {
   "cell_type": "code",
   "execution_count": 3,
   "metadata": {},
   "outputs": [],
   "source": [
    "# We will use the simplest form of QP model, exact inference\n",
    "POWER = 1.0\n",
    "class ExactQEPModel(qpytorch.models.ExactQEP):\n",
    "    def __init__(self, train_x, train_y, likelihood):\n",
    "        super(ExactQEPModel, self).__init__(train_x, train_y, likelihood)\n",
    "        self.power = torch.tensor(POWER)\n",
    "        self.mean_module = qpytorch.means.ConstantMean()\n",
    "        self.covar_module = qpytorch.kernels.ScaleKernel(qpytorch.kernels.RBFKernel())\n",
    "    \n",
    "    def forward(self, x):\n",
    "        mean_x = self.mean_module(x)\n",
    "        covar_x = self.covar_module(x)\n",
    "        return qpytorch.distributions.MultivariateQExponential(mean_x, covar_x, power=self.power)\n",
    "\n",
    "# initialize likelihood and model\n",
    "likelihood = qpytorch.likelihoods.QExponentialLikelihood(power=torch.tensor(POWER))\n",
    "model = ExactQEPModel(train_x, train_y, likelihood)"
   ]
  },
  {
   "cell_type": "markdown",
   "metadata": {},
   "source": [
    "Our model is ready for hyperparameter learning, but, first let us check how it performs on the test data."
   ]
  },
  {
   "cell_type": "code",
   "execution_count": 4,
   "metadata": {},
   "outputs": [
    {
     "data": {
      "image/png": "[encoded data removed]",
      "text/plain": [
       "<Figure size 400x300 with 1 Axes>"
      ]
     },
     "metadata": {},
     "output_type": "display_data"
    }
   ],
   "source": [
    "model.eval()\n",
    "with torch.no_grad():\n",
    "    untrained_pred_dist = likelihood(model(test_x))\n",
    "    predictive_mean = untrained_pred_dist.mean\n",
    "    lower, upper = untrained_pred_dist.confidence_region()\n",
    "    \n",
    "f, ax = plt.subplots(1, 1, figsize=(4, 3))\n",
    "# Plot training data as black stars\n",
    "ax.plot(train_x, train_y, 'k*')\n",
    "# Plot predictive means as blue line\n",
    "ax.plot(test_x, predictive_mean, 'b')\n",
    "# Shade between the lower and upper confidence bounds\n",
    "ax.fill_between(test_x, lower, upper, alpha=0.5)\n",
    "ax.set_ylim([-3, 3])\n",
    "ax.legend(['Observed Data', 'Mean', 'Confidence'], bbox_to_anchor=(1.6,1));"
   ]
  },
  {
   "cell_type": "markdown",
   "metadata": {},
   "source": [
    "Visually, this does not look like a good fit. Now, let us train the model hyperparameters."
   ]
  },
  {
   "cell_type": "code",
   "execution_count": 5,
   "metadata": {},
   "outputs": [
    {
     "name": "stdout",
     "output_type": "stream",
     "text": [
      "Iter 1/80 - Loss: 1.700   lengthscale: 0.693   noise: 0.693\n",
      "Iter 2/80 - Loss: 1.670   lengthscale: 0.644   noise: 0.644\n",
      "Iter 3/80 - Loss: 1.636   lengthscale: 0.598   noise: 0.598\n",
      "Iter 4/80 - Loss: 1.597   lengthscale: 0.555   noise: 0.554\n",
      "Iter 5/80 - Loss: 1.551   lengthscale: 0.514   noise: 0.513\n",
      "Iter 6/80 - Loss: 1.496   lengthscale: 0.475   noise: 0.474\n",
      "Iter 7/80 - Loss: 1.434   lengthscale: 0.439   noise: 0.437\n",
      "Iter 8/80 - Loss: 1.368   lengthscale: 0.405   noise: 0.402\n",
      "Iter 9/80 - Loss: 1.304   lengthscale: 0.372   noise: 0.369\n",
      "Iter 10/80 - Loss: 1.249   lengthscale: 0.342   noise: 0.339\n",
      "Iter 11/80 - Loss: 1.204   lengthscale: 0.314   noise: 0.310\n",
      "Iter 12/80 - Loss: 1.170   lengthscale: 0.289   noise: 0.284\n",
      "Iter 13/80 - Loss: 1.143   lengthscale: 0.267   noise: 0.260\n",
      "Iter 14/80 - Loss: 1.121   lengthscale: 0.248   noise: 0.237\n",
      "Iter 15/80 - Loss: 1.101   lengthscale: 0.232   noise: 0.217\n",
      "Iter 16/80 - Loss: 1.082   lengthscale: 0.219   noise: 0.198\n",
      "Iter 17/80 - Loss: 1.065   lengthscale: 0.208   noise: 0.181\n",
      "Iter 18/80 - Loss: 1.048   lengthscale: 0.199   noise: 0.165\n",
      "Iter 19/80 - Loss: 1.032   lengthscale: 0.192   noise: 0.151\n",
      "Iter 20/80 - Loss: 1.015   lengthscale: 0.186   noise: 0.138\n",
      "Iter 21/80 - Loss: 0.998   lengthscale: 0.182   noise: 0.126\n",
      "Iter 22/80 - Loss: 0.981   lengthscale: 0.180   noise: 0.115\n",
      "Iter 23/80 - Loss: 0.963   lengthscale: 0.178   noise: 0.105\n",
      "Iter 24/80 - Loss: 0.945   lengthscale: 0.177   noise: 0.096\n",
      "Iter 25/80 - Loss: 0.926   lengthscale: 0.178   noise: 0.087\n",
      "Iter 26/80 - Loss: 0.907   lengthscale: 0.179   noise: 0.080\n",
      "Iter 27/80 - Loss: 0.888   lengthscale: 0.181   noise: 0.073\n",
      "Iter 28/80 - Loss: 0.867   lengthscale: 0.184   noise: 0.066\n",
      "Iter 29/80 - Loss: 0.847   lengthscale: 0.188   noise: 0.060\n",
      "Iter 30/80 - Loss: 0.826   lengthscale: 0.193   noise: 0.055\n",
      "Iter 31/80 - Loss: 0.805   lengthscale: 0.198   noise: 0.050\n",
      "Iter 32/80 - Loss: 0.783   lengthscale: 0.205   noise: 0.046\n",
      "Iter 33/80 - Loss: 0.761   lengthscale: 0.212   noise: 0.042\n",
      "Iter 34/80 - Loss: 0.739   lengthscale: 0.220   noise: 0.038\n",
      "Iter 35/80 - Loss: 0.717   lengthscale: 0.228   noise: 0.035\n",
      "Iter 36/80 - Loss: 0.694   lengthscale: 0.238   noise: 0.032\n",
      "Iter 37/80 - Loss: 0.672   lengthscale: 0.248   noise: 0.029\n",
      "Iter 38/80 - Loss: 0.650   lengthscale: 0.259   noise: 0.026\n",
      "Iter 39/80 - Loss: 0.627   lengthscale: 0.270   noise: 0.024\n",
      "Iter 40/80 - Loss: 0.606   lengthscale: 0.283   noise: 0.022\n",
      "Iter 41/80 - Loss: 0.584   lengthscale: 0.295   noise: 0.020\n",
      "Iter 42/80 - Loss: 0.563   lengthscale: 0.309   noise: 0.018\n",
      "Iter 43/80 - Loss: 0.542   lengthscale: 0.322   noise: 0.017\n",
      "Iter 44/80 - Loss: 0.521   lengthscale: 0.336   noise: 0.015\n",
      "Iter 45/80 - Loss: 0.501   lengthscale: 0.351   noise: 0.014\n",
      "Iter 46/80 - Loss: 0.481   lengthscale: 0.365   noise: 0.013\n",
      "Iter 47/80 - Loss: 0.462   lengthscale: 0.380   noise: 0.012\n",
      "Iter 48/80 - Loss: 0.444   lengthscale: 0.394   noise: 0.011\n",
      "Iter 49/80 - Loss: 0.426   lengthscale: 0.408   noise: 0.010\n",
      "Iter 50/80 - Loss: 0.409   lengthscale: 0.421   noise: 0.009\n",
      "Iter 51/80 - Loss: 0.393   lengthscale: 0.433   noise: 0.008\n",
      "Iter 52/80 - Loss: 0.377   lengthscale: 0.444   noise: 0.007\n",
      "Iter 53/80 - Loss: 0.362   lengthscale: 0.453   noise: 0.007\n",
      "Iter 54/80 - Loss: 0.346   lengthscale: 0.461   noise: 0.006\n",
      "Iter 55/80 - Loss: 0.331   lengthscale: 0.467   noise: 0.006\n",
      "Iter 56/80 - Loss: 0.316   lengthscale: 0.471   noise: 0.005\n",
      "Iter 57/80 - Loss: 0.302   lengthscale: 0.473   noise: 0.005\n",
      "Iter 58/80 - Loss: 0.288   lengthscale: 0.474   noise: 0.004\n",
      "Iter 59/80 - Loss: 0.274   lengthscale: 0.474   noise: 0.004\n",
      "Iter 60/80 - Loss: 0.260   lengthscale: 0.473   noise: 0.004\n",
      "Iter 61/80 - Loss: 0.247   lengthscale: 0.471   noise: 0.003\n",
      "Iter 62/80 - Loss: 0.235   lengthscale: 0.468   noise: 0.003\n",
      "Iter 63/80 - Loss: 0.224   lengthscale: 0.466   noise: 0.003\n",
      "Iter 64/80 - Loss: 0.213   lengthscale: 0.463   noise: 0.003\n",
      "Iter 65/80 - Loss: 0.202   lengthscale: 0.461   noise: 0.002\n",
      "Iter 66/80 - Loss: 0.192   lengthscale: 0.458   noise: 0.002\n",
      "Iter 67/80 - Loss: 0.183   lengthscale: 0.457   noise: 0.002\n",
      "Iter 68/80 - Loss: 0.175   lengthscale: 0.456   noise: 0.002\n",
      "Iter 69/80 - Loss: 0.166   lengthscale: 0.455   noise: 0.002\n",
      "Iter 70/80 - Loss: 0.159   lengthscale: 0.455   noise: 0.002\n",
      "Iter 71/80 - Loss: 0.151   lengthscale: 0.455   noise: 0.002\n",
      "Iter 72/80 - Loss: 0.145   lengthscale: 0.456   noise: 0.001\n",
      "Iter 73/80 - Loss: 0.138   lengthscale: 0.458   noise: 0.001\n",
      "Iter 74/80 - Loss: 0.132   lengthscale: 0.460   noise: 0.001\n",
      "Iter 75/80 - Loss: 0.127   lengthscale: 0.462   noise: 0.001\n",
      "Iter 76/80 - Loss: 0.122   lengthscale: 0.464   noise: 0.001\n",
      "Iter 77/80 - Loss: 0.117   lengthscale: 0.467   noise: 0.001\n",
      "Iter 78/80 - Loss: 0.113   lengthscale: 0.469   noise: 0.001\n",
      "Iter 79/80 - Loss: 0.109   lengthscale: 0.472   noise: 0.001\n",
      "Iter 80/80 - Loss: 0.106   lengthscale: 0.474   noise: 0.001\n"
     ]
    }
   ],
   "source": [
    "# this is for running the notebook in our testing framework\n",
    "import os\n",
    "smoke_test = ('CI' in os.environ)\n",
    "training_iter = 2 if smoke_test else 80\n",
    "\n",
    "\n",
    "# Find optimal model hyperparameters\n",
    "model.train()\n",
    "\n",
    "# Use the adam optimizer\n",
    "optimizer = torch.optim.Adam(model.parameters(), lr=0.1)  # Includes QExponentialLikelihood parameters\n",
    "\n",
    "# \"Loss\" for QEPs - the marginal log likelihood\n",
    "mll = qpytorch.mlls.ExactMarginalLogLikelihood(likelihood, model)\n",
    "\n",
    "for i in range(training_iter):\n",
    "    # Zero gradients from previous iteration\n",
    "    optimizer.zero_grad()\n",
    "    # Output from model\n",
    "    output = model(train_x)\n",
    "    # Calc loss and backprop gradients\n",
    "    loss = -mll(output, train_y)\n",
    "    loss.backward()\n",
    "    print('Iter %d/%d - Loss: %.3f   lengthscale: %.3f   noise: %.3f' % (\n",
    "        i + 1, training_iter, loss.item(),\n",
    "        model.covar_module.base_kernel.lengthscale.item(),\n",
    "        model.likelihood.noise.item()\n",
    "    ))\n",
    "    optimizer.step()"
   ]
  },
  {
   "cell_type": "markdown",
   "metadata": {},
   "source": [
    "In the next cell, we reevaluate the model on the test data."
   ]
  },
  {
   "cell_type": "code",
   "execution_count": 6,
   "metadata": {},
   "outputs": [
    {
     "data": {
      "image/png": "[encoded data removed]",
      "text/plain": [
       "<Figure size 400x300 with 1 Axes>"
      ]
     },
     "metadata": {},
     "output_type": "display_data"
    }
   ],
   "source": [
    "model.eval()\n",
    "with torch.no_grad():\n",
    "    trained_pred_dist = likelihood(model(test_x))\n",
    "    predictive_mean = trained_pred_dist.mean\n",
    "    lower, upper = trained_pred_dist.confidence_region(rescale=True)\n",
    "    \n",
    "f, ax = plt.subplots(1, 1, figsize=(4, 3))\n",
    "# Plot training data as black stars\n",
    "ax.plot(train_x, train_y, 'k*')\n",
    "# Plot predictive means as blue line\n",
    "ax.plot(test_x, predictive_mean, 'b')\n",
    "# Shade between the lower and upper confidence bounds\n",
    "ax.fill_between(test_x, lower, upper, alpha=0.5)\n",
    "ax.set_ylim([-3, 3])\n",
    "ax.legend(['Observed Data', 'Mean', 'Confidence'], bbox_to_anchor=(1.6,1));"
   ]
  },
  {
   "cell_type": "markdown",
   "metadata": {},
   "source": [
    "Now our model seems to fit well on the data. It is not always possible to visually evaluate the model in high dimensional cases. Thus, now we evaluate the models with help of probabilistic metrics. We have saved predictive distributions from untrained and trained models as `untrained_pred_dist` and `trained_pred_dist` respectively."
   ]
  },
  {
   "cell_type": "markdown",
   "metadata": {},
   "source": [
    "## Negative Log Predictive Density (NLPD)\n",
    "\n",
    "Negative Log Predictive Density (NLPD) is the most standard probabilistic metric for evaluating GP models. In simple terms, it is negative log likelihood of the test data given the predictive distribution. It can be computed as follows:"
   ]
  },
  {
   "cell_type": "code",
   "execution_count": 7,
   "metadata": {},
   "outputs": [
    {
     "name": "stdout",
     "output_type": "stream",
     "text": [
      "Untrained model NLPD: 1.45, \n",
      "Trained model NLPD: -0.29\n"
     ]
    }
   ],
   "source": [
    "init_nlpd = qpytorch.metrics.negative_log_predictive_density(untrained_pred_dist, test_y)\n",
    "final_nlpd = qpytorch.metrics.negative_log_predictive_density(trained_pred_dist, test_y)\n",
    "\n",
    "print(f'Untrained model NLPD: {init_nlpd:.2f}, \\nTrained model NLPD: {final_nlpd:.2f}')"
   ]
  },
  {
   "cell_type": "markdown",
   "metadata": {},
   "source": [
    "## Mean Standardized Log Loss (MSLL)\n",
    "\n",
    "This metric computes average negative log likelihood of all test points w.r.t their univariate predicitve densities. For more details, see \"page No. 23, Gaussian Processes for Machine Learning, Carl Edward Rasmussen and Christopher K. I. Williams, The MIT Press, 2006. ISBN 0-262-18253-X\""
   ]
  },
  {
   "cell_type": "code",
   "execution_count": 8,
   "metadata": {},
   "outputs": [
    {
     "name": "stdout",
     "output_type": "stream",
     "text": [
      "Untrained model MSLL: 0.88, \n",
      "Trained model MSLL: 13.94\n"
     ]
    }
   ],
   "source": [
    "init_msll = qpytorch.metrics.mean_standardized_log_loss(untrained_pred_dist, test_y)\n",
    "final_msll = qpytorch.metrics.mean_standardized_log_loss(trained_pred_dist, test_y)\n",
    "\n",
    "print(f'Untrained model MSLL: {init_msll:.2f}, \\nTrained model MSLL: {final_msll:.2f}')"
   ]
  },
  {
   "cell_type": "markdown",
   "metadata": {},
   "source": [
    "It is also possible to calculate the quantile coverage error with `qpytorch.metrics.quantile_coverage_error` function."
   ]
  },
  {
   "cell_type": "code",
   "execution_count": 9,
   "metadata": {},
   "outputs": [
    {
     "name": "stdout",
     "output_type": "stream",
     "text": [
      "Quantile 95% Coverage Error: 0.56\n"
     ]
    }
   ],
   "source": [
    "quantile = 95\n",
    "qce = qpytorch.metrics.quantile_coverage_error(trained_pred_dist, test_y, quantile=quantile)\n",
    "print(f'Quantile {quantile}% Coverage Error: {qce:.2f}')"
   ]
  },
  {
   "cell_type": "markdown",
   "metadata": {},
   "source": [
    "## Mean Squared Error (MSE)\n",
    "\n",
    "Mean Squared Error (MSE) is the mean of the squared difference between the test observations and the predictive mean. It is a well-known conventional metric for evaluating regression models. However, it can not take uncertainty into account unlike NLPD, MLSS and ACE."
   ]
  },
  {
   "cell_type": "code",
   "execution_count": 10,
   "metadata": {},
   "outputs": [
    {
     "name": "stdout",
     "output_type": "stream",
     "text": [
      "Untrained model MSE: 0.19, \n",
      "Trained model MSE: 0.03\n"
     ]
    }
   ],
   "source": [
    "init_mse = qpytorch.metrics.mean_squared_error(untrained_pred_dist, test_y, squared=True)\n",
    "final_mse = qpytorch.metrics.mean_squared_error(trained_pred_dist, test_y, squared=True)\n",
    "\n",
    "print(f'Untrained model MSE: {init_mse:.2f}, \\nTrained model MSE: {final_mse:.2f}')"
   ]
  },
  {
   "cell_type": "markdown",
   "metadata": {},
   "source": [
    "## Mean Absolute Error (MAE)\n",
    "\n",
    "Mean Absolute Error (MAE) is the mean of the absolute difference between the test observations and the predictive mean. It is less sensitive to the outliers than MSE."
   ]
  },
  {
   "cell_type": "code",
   "execution_count": 11,
   "metadata": {},
   "outputs": [
    {
     "name": "stdout",
     "output_type": "stream",
     "text": [
      "Untrained model MAE: 0.37, \n",
      "Trained model MAE: 0.13\n"
     ]
    }
   ],
   "source": [
    "init_mae = qpytorch.metrics.mean_absolute_error(untrained_pred_dist, test_y)\n",
    "final_mae = qpytorch.metrics.mean_absolute_error(trained_pred_dist, test_y)\n",
    "\n",
    "print(f'Untrained model MAE: {init_mae:.2f}, \\nTrained model MAE: {final_mae:.2f}')"
   ]
  },
  {
   "cell_type": "code",
   "execution_count": null,
   "metadata": {},
   "outputs": [],
   "source": []
  }
 ],
 "metadata": {
  "interpreter": {
   "hash": "d4d1e4263499bec80672ea0156c357c1ee493ec2b1c70f0acce89fc37c4a6abe"
  },
  "kernelspec": {
   "display_name": "Python 3 (ipykernel)",
   "language": "python",
   "name": "python3"
  },
  "language_info": {
   "codemirror_mode": {
    "name": "ipython",
    "version": 3
   },
   "file_extension": ".py",
   "mimetype": "text/x-python",
   "name": "python",
   "nbconvert_exporter": "python",
   "pygments_lexer": "ipython3",
   "version": "3.10.18"
  }
 },
 "nbformat": 4,
 "nbformat_minor": 4
}
