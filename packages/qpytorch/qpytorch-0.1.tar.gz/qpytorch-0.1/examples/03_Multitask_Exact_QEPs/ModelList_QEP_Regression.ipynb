{
 "cells": [
  {
   "cell_type": "markdown",
   "metadata": {},
   "source": [
    "# ModelList (Multi-Output) QEP Regression\n",
    "\n",
    "## Introduction\n",
    "\n",
    "This notebook demonstrates how to wrap uncorrelated QEP models into a convenient Multi-Output QEP model using a ModelList. \n",
    "\n",
    "Unlike in the Multitask case, this do not model correlations between outcomes, but treats outcomes independently. This is equivalent to setting up a separate QEP for each outcome, but can be much more convenient to handle, in particular it does not require manually looping over models when fitting or predicting.\n",
    "\n",
    "This type of model is useful if \n",
    "- when the number of training / test points is different for the different outcomes\n",
    "- using different covariance modules and / or likelihoods for each outcome\n",
    "\n",
    "For block designs (i.e. when the above points do not apply), you should instead use a batch mode GP as described in the [batch uncorrelated multioutput example](./Batch_Uncorrelated_Multioutput_QEP.ipynb). This will be much faster because it uses additional parallelism."
   ]
  },
  {
   "cell_type": "code",
   "execution_count": 1,
   "metadata": {},
   "outputs": [
    {
     "name": "stdout",
     "output_type": "stream",
     "text": [
      "\n",
      "[KeOps] Warning : There were warnings or errors :\n",
      "/bin/sh: brew: command not found\n",
      "\n",
      "[KeOps] Warning : CUDA libraries not found or could not be loaded; Switching to CPU only.\n",
      "[KeOps] Warning : OpenMP library 'libomp' not found.\n",
      "[KeOps] Warning : OpenMP support is not available. Disabling OpenMP.\n"
     ]
    }
   ],
   "source": [
    "import math\n",
    "import torch\n",
    "import qpytorch\n",
    "from matplotlib import pyplot as plt\n",
    "\n",
    "%matplotlib inline\n",
    "%load_ext autoreload\n",
    "%autoreload 2"
   ]
  },
  {
   "cell_type": "markdown",
   "metadata": {},
   "source": [
    "### Set up training data\n",
    "\n",
    "In the next cell, we set up the training data for this example. We'll be using a different number of training examples for the different QEPs."
   ]
  },
  {
   "cell_type": "code",
   "execution_count": 2,
   "metadata": {},
   "outputs": [],
   "source": [
    "train_x1 = torch.linspace(0, 0.95, 50) + 0.05 * torch.rand(50)\n",
    "train_x2 = torch.linspace(0, 0.95, 25) + 0.05 * torch.rand(25)\n",
    "\n",
    "train_y1 = torch.sin(train_x1 * (2 * math.pi)) + 0.2 * torch.randn_like(train_x1)\n",
    "train_y2 = torch.cos(train_x2 * (2 * math.pi)) + 0.2 * torch.randn_like(train_x2)"
   ]
  },
  {
   "cell_type": "markdown",
   "metadata": {},
   "source": [
    "## Set up the sub-models\n",
    "\n",
    "Each individual model uses the `ExactQEP` model from the [simple regression example](../01_Exact_QEPs/Simple_QEP_Regression.ipynb)."
   ]
  },
  {
   "cell_type": "code",
   "execution_count": 3,
   "metadata": {},
   "outputs": [],
   "source": [
    "POWER = 1.0\n",
    "class ExactQEPModel(qpytorch.models.ExactQEP):\n",
    "    def __init__(self, train_x, train_y, likelihood):\n",
    "        super().__init__(train_x, train_y, likelihood)\n",
    "        self.power = torch.tensor(POWER)\n",
    "        self.mean_module = qpytorch.means.ConstantMean()\n",
    "        self.covar_module = qpytorch.kernels.ScaleKernel(qpytorch.kernels.RBFKernel())\n",
    "    \n",
    "    def forward(self, x):\n",
    "        mean_x = self.mean_module(x)\n",
    "        covar_x = self.covar_module(x)\n",
    "        return qpytorch.distributions.MultivariateQExponential(mean_x, covar_x, power=self.power)\n",
    "    \n",
    "\n",
    "likelihood1 = qpytorch.likelihoods.QExponentialLikelihood(power=torch.tensor(POWER))\n",
    "model1 = ExactQEPModel(train_x1, train_y1, likelihood1)\n",
    "\n",
    "likelihood2 = qpytorch.likelihoods.QExponentialLikelihood(power=torch.tensor(POWER))\n",
    "model2 = ExactQEPModel(train_x2, train_y2, likelihood2)"
   ]
  },
  {
   "cell_type": "markdown",
   "metadata": {},
   "source": [
    "We now collect the submodels in an `UncorrelatedMultiOutputQEP`, and the respective likelihoods in a `MultiOutputLikelihood`. These are container modules that make it easy to work with multiple outputs. In particular, they will take in and return lists of inputs / outputs and delegate the data to / from the appropriate sub-model (it is important that the order of the inputs / outputs corresponds to the order of models with which the containers were instantiated)."
   ]
  },
  {
   "cell_type": "code",
   "execution_count": 4,
   "metadata": {},
   "outputs": [],
   "source": [
    "model = qpytorch.models.UncorrelatedModelList(model1, model2)\n",
    "likelihood = qpytorch.likelihoods.LikelihoodList(model1.likelihood, model2.likelihood)"
   ]
  },
  {
   "cell_type": "markdown",
   "metadata": {},
   "source": [
    "### Set up overall Marginal Log Likelihood\n",
    "\n",
    "Assuming independence, the MLL for the container model is simply the sum of the MLLs for the individual models. `SumMarginalLogLikelihood` is a convenient container for this (by default it uses an `ExactMarginalLogLikelihood` for each submodel)"
   ]
  },
  {
   "cell_type": "code",
   "execution_count": 5,
   "metadata": {},
   "outputs": [],
   "source": [
    "from qpytorch.mlls import SumMarginalLogLikelihood\n",
    "\n",
    "mll = SumMarginalLogLikelihood(likelihood, model)"
   ]
  },
  {
   "cell_type": "markdown",
   "metadata": {},
   "source": [
    "### Train the model hyperparameters\n",
    "\n",
    "With the containers in place, the models can be trained in a single loop on the container (note that this means that optimization is performed jointly, which can be an issue if the individual submodels require training via very different step sizes)."
   ]
  },
  {
   "cell_type": "code",
   "execution_count": 6,
   "metadata": {},
   "outputs": [
    {
     "name": "stdout",
     "output_type": "stream",
     "text": [
      "Iter 1/60 - Loss: 1.629\n",
      "Iter 2/60 - Loss: 1.598\n",
      "Iter 3/60 - Loss: 1.564\n",
      "Iter 4/60 - Loss: 1.525\n",
      "Iter 5/60 - Loss: 1.481\n",
      "Iter 6/60 - Loss: 1.431\n",
      "Iter 7/60 - Loss: 1.375\n",
      "Iter 8/60 - Loss: 1.316\n",
      "Iter 9/60 - Loss: 1.256\n",
      "Iter 10/60 - Loss: 1.199\n",
      "Iter 11/60 - Loss: 1.148\n",
      "Iter 12/60 - Loss: 1.105\n",
      "Iter 13/60 - Loss: 1.071\n",
      "Iter 14/60 - Loss: 1.043\n",
      "Iter 15/60 - Loss: 1.020\n",
      "Iter 16/60 - Loss: 1.002\n",
      "Iter 17/60 - Loss: 0.986\n",
      "Iter 18/60 - Loss: 0.971\n",
      "Iter 19/60 - Loss: 0.957\n",
      "Iter 20/60 - Loss: 0.943\n",
      "Iter 21/60 - Loss: 0.928\n",
      "Iter 22/60 - Loss: 0.912\n",
      "Iter 23/60 - Loss: 0.895\n",
      "Iter 24/60 - Loss: 0.876\n",
      "Iter 25/60 - Loss: 0.857\n",
      "Iter 26/60 - Loss: 0.837\n",
      "Iter 27/60 - Loss: 0.815\n",
      "Iter 28/60 - Loss: 0.794\n",
      "Iter 29/60 - Loss: 0.772\n",
      "Iter 30/60 - Loss: 0.751\n",
      "Iter 31/60 - Loss: 0.730\n",
      "Iter 32/60 - Loss: 0.711\n",
      "Iter 33/60 - Loss: 0.692\n",
      "Iter 34/60 - Loss: 0.674\n",
      "Iter 35/60 - Loss: 0.658\n",
      "Iter 36/60 - Loss: 0.641\n",
      "Iter 37/60 - Loss: 0.624\n",
      "Iter 38/60 - Loss: 0.607\n",
      "Iter 39/60 - Loss: 0.590\n",
      "Iter 40/60 - Loss: 0.573\n",
      "Iter 41/60 - Loss: 0.557\n",
      "Iter 42/60 - Loss: 0.541\n",
      "Iter 43/60 - Loss: 0.526\n",
      "Iter 44/60 - Loss: 0.512\n",
      "Iter 45/60 - Loss: 0.498\n",
      "Iter 46/60 - Loss: 0.484\n",
      "Iter 47/60 - Loss: 0.470\n",
      "Iter 48/60 - Loss: 0.457\n",
      "Iter 49/60 - Loss: 0.443\n",
      "Iter 50/60 - Loss: 0.429\n",
      "Iter 51/60 - Loss: 0.416\n",
      "Iter 52/60 - Loss: 0.403\n",
      "Iter 53/60 - Loss: 0.391\n",
      "Iter 54/60 - Loss: 0.380\n",
      "Iter 55/60 - Loss: 0.369\n",
      "Iter 56/60 - Loss: 0.358\n",
      "Iter 57/60 - Loss: 0.348\n",
      "Iter 58/60 - Loss: 0.338\n",
      "Iter 59/60 - Loss: 0.329\n",
      "Iter 60/60 - Loss: 0.320\n"
     ]
    }
   ],
   "source": [
    "# this is for running the notebook in our testing framework\n",
    "import os\n",
    "smoke_test = ('CI' in os.environ)\n",
    "training_iterations = 2 if smoke_test else 60\n",
    "\n",
    "\n",
    "# Find optimal model hyperparameters\n",
    "model.train()\n",
    "likelihood.train()\n",
    "\n",
    "# Use the Adam optimizer\n",
    "optimizer = torch.optim.Adam(model.parameters(), lr=0.1)  # Includes GaussianLikelihood parameters\n",
    "\n",
    "for i in range(training_iterations):\n",
    "    optimizer.zero_grad()\n",
    "    output = model(*model.train_inputs)\n",
    "    loss = -mll(output, model.train_targets)\n",
    "    loss.backward()\n",
    "    print('Iter %d/%d - Loss: %.3f' % (i + 1, training_iterations, loss.item()))\n",
    "    optimizer.step()"
   ]
  },
  {
   "cell_type": "markdown",
   "metadata": {},
   "source": [
    "### Make predictions with the model"
   ]
  },
  {
   "cell_type": "code",
   "execution_count": 7,
   "metadata": {},
   "outputs": [
    {
     "data": {
      "image/png": "[encoded data removed]",
      "text/plain": [
       "<Figure size 800x300 with 2 Axes>"
      ]
     },
     "metadata": {},
     "output_type": "display_data"
    }
   ],
   "source": [
    "# Set into eval mode\n",
    "model.eval()\n",
    "likelihood.eval()\n",
    "\n",
    "# Initialize plots\n",
    "f, axs = plt.subplots(1, 2, figsize=(8, 3))\n",
    "\n",
    "# Make predictions (use the same test points)\n",
    "with torch.no_grad(), qpytorch.settings.fast_pred_var():\n",
    "    test_x = torch.linspace(0, 1, 51)\n",
    "    # This contains predictions for both outcomes as a list\n",
    "    predictions = likelihood(*model(test_x, test_x))\n",
    "    \n",
    "for submodel, prediction, ax in zip(model.models, predictions, axs):\n",
    "    mean = prediction.mean\n",
    "    lower, upper = prediction.confidence_region(rescale=True)\n",
    "    \n",
    "    tr_x = submodel.train_inputs[0].detach().numpy()\n",
    "    tr_y = submodel.train_targets.detach().numpy()\n",
    "    \n",
    "    # Plot training data as black stars\n",
    "    ax.plot(tr_x, tr_y, 'k*')\n",
    "    # Predictive mean as blue line\n",
    "    ax.plot(test_x.numpy(), mean.numpy(), 'b')\n",
    "    # Shade in confidence \n",
    "    ax.fill_between(test_x.numpy(), lower.detach().numpy(), upper.detach().numpy(), alpha=0.5)\n",
    "    ax.set_ylim([-3, 3])\n",
    "    ax.legend(['Observed Data', 'Mean', 'Confidence'])\n",
    "    ax.set_title('Observed Values (Likelihood)')\n",
    "\n",
    "None"
   ]
  }
 ],
 "metadata": {
  "anaconda-cloud": {},
  "bento_stylesheets": {
   "bento/extensions/flow/main.css": true,
   "bento/extensions/kernel_selector/main.css": true,
   "bento/extensions/kernel_ui/main.css": true,
   "bento/extensions/new_kernel/main.css": true,
   "bento/extensions/system_usage/main.css": true
  },
  "kernelspec": {
   "display_name": "Python 3 (ipykernel)",
   "language": "python",
   "name": "python3"
  },
  "language_info": {
   "codemirror_mode": {
    "name": "ipython",
    "version": 3
   },
   "file_extension": ".py",
   "mimetype": "text/x-python",
   "name": "python",
   "nbconvert_exporter": "python",
   "pygments_lexer": "ipython3",
   "version": "3.10.18"
  }
 },
 "nbformat": 4,
 "nbformat_minor": 4
}
