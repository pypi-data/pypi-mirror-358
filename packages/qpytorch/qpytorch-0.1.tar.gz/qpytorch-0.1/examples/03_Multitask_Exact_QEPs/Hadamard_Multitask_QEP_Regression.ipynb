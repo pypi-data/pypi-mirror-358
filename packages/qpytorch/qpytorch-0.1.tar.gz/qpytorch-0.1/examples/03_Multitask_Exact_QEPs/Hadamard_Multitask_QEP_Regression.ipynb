{
 "cells": [
  {
   "cell_type": "markdown",
   "metadata": {},
   "source": [
    "# Hadamard Multitask QEP Regression\n",
    "\n",
    "## Introduction\n",
    "\n",
    "This notebook demonstrates how to perform \"Hadamard\" multitask regression. \n",
    "This differs from the [multitask qep regression example notebook](./Multitask_QEP_Regression.ipynb) in one key way:\n",
    "\n",
    "- Here, we assume that we have observations for **one task per input**. For each input, we specify the task of the input that we observe. (The kernel that we learn is expressed as a Hadamard product of an input kernel and a task kernel)\n",
    "- In the other notebook, we assume that we observe all tasks per input. (The kernel in that notebook is the Kronecker product of an input kernel and a task kernel).\n",
    "\n",
    "Multitask regression, first introduced in [this paper](https://papers.nips.cc/paper/3189-multi-task-gaussian-process-prediction.pdf) learns similarities in the outputs simultaneously. It's useful when you are performing regression on multiple functions that share the same inputs, especially if they have similarities (such as being sinusodial).\n",
    "\n",
    "Given inputs $x$ and $x'$, and tasks $i$ and $j$, the covariance between two datapoints and two tasks is given by\n",
    "\n",
    "$$  k([x, i], [x', j]) = k_\\text{inputs}(x, x') * k_\\text{tasks}(i, j)\n",
    "$$\n",
    "\n",
    "where $k_\\text{inputs}$ is a standard kernel (e.g. RBF) that operates on the inputs.\n",
    "$k_\\text{task}$ is a special kernel - the `IndexKernel` - which is a lookup table containing inter-task covariance."
   ]
  },
  {
   "cell_type": "code",
   "execution_count": 1,
   "metadata": {},
   "outputs": [
    {
     "name": "stdout",
     "output_type": "stream",
     "text": [
      "\n",
      "[KeOps] Warning : There were warnings or errors :\n",
      "/bin/sh: brew: command not found\n",
      "\n",
      "[KeOps] Warning : CUDA libraries not found or could not be loaded; Switching to CPU only.\n",
      "[KeOps] Warning : OpenMP library 'libomp' not found.\n",
      "[KeOps] Warning : OpenMP support is not available. Disabling OpenMP.\n"
     ]
    }
   ],
   "source": [
    "import math\n",
    "import torch\n",
    "import qpytorch\n",
    "from matplotlib import pyplot as plt\n",
    "\n",
    "%matplotlib inline\n",
    "%load_ext autoreload\n",
    "%autoreload 2"
   ]
  },
  {
   "cell_type": "markdown",
   "metadata": {},
   "source": [
    "### Set up training data\n",
    "\n",
    "In the next cell, we set up the training data for this example. For each task we'll be using 50 random points on [0,1), which we evaluate the function on and add Gaussian noise to get the training labels. Note that different inputs are used for each task.\n",
    "\n",
    "We'll have two functions - a sine function (y1) and a cosine function (y2)."
   ]
  },
  {
   "cell_type": "code",
   "execution_count": 2,
   "metadata": {},
   "outputs": [],
   "source": [
    "train_x1 = torch.rand(2000)\n",
    "train_x2 = torch.rand(2000)\n",
    "\n",
    "train_y1 = torch.sin(train_x1 * (2 * math.pi)) + torch.randn(train_x1.size()) * 0.2\n",
    "train_y2 = torch.cos(train_x2 * (2 * math.pi)) + torch.randn(train_x2.size()) * 0.2"
   ]
  },
  {
   "cell_type": "markdown",
   "metadata": {},
   "source": [
    "## Set up a Hadamard multitask model\n",
    "\n",
    "The model should be somewhat similar to the `ExactQEP` model in the [simple regression example](../01_Exact_QEPs/Simple_QEP_Regression.ipynb).\n",
    "\n",
    "The differences:\n",
    "\n",
    "1. The model takes two input: the inputs (x) and indices. The indices indicate which task the observation is for.\n",
    "2. Rather than just using a RBFKernel, we're using that in conjunction with a IndexKernel.\n",
    "3. We don't use a ScaleKernel, since the IndexKernel will do some scaling for us. (This way we're not overparameterizing the kernel.)"
   ]
  },
  {
   "cell_type": "code",
   "execution_count": 3,
   "metadata": {},
   "outputs": [],
   "source": [
    "POWER = 1.0\n",
    "class MultitaskQEPModel(qpytorch.models.ExactQEP):\n",
    "    def __init__(self, train_x, train_y, likelihood):\n",
    "        super(MultitaskQEPModel, self).__init__(train_x, train_y, likelihood)\n",
    "        self.power = torch.tensor(POWER)\n",
    "        self.mean_module = qpytorch.means.ConstantMean()\n",
    "        self.covar_module = qpytorch.kernels.RBFKernel()\n",
    "        \n",
    "        # We learn an IndexKernel for 2 tasks\n",
    "        # (so we'll actually learn 2x2=4 tasks with correlations)\n",
    "        self.task_covar_module = qpytorch.kernels.IndexKernel(num_tasks=2, rank=1)\n",
    "\n",
    "    def forward(self,x,i):\n",
    "        mean_x = self.mean_module(x)\n",
    "        \n",
    "        # Get input-input covariance\n",
    "        covar_x = self.covar_module(x)\n",
    "        # Get task-task covariance\n",
    "        covar_i = self.task_covar_module(i)\n",
    "        # Multiply the two together to get the covariance we want\n",
    "        covar = covar_x.mul(covar_i)\n",
    "        \n",
    "        return qpytorch.distributions.MultivariateQExponential(mean_x, covar, power=self.power)\n",
    "\n",
    "likelihood = qpytorch.likelihoods.QExponentialLikelihood(power=torch.tensor(POWER))\n",
    "\n",
    "train_i_task1 = torch.full((train_x1.shape[0],1), dtype=torch.long, fill_value=0)\n",
    "train_i_task2 = torch.full((train_x2.shape[0],1), dtype=torch.long, fill_value=1)\n",
    "\n",
    "full_train_x = torch.cat([train_x1, train_x2])\n",
    "full_train_i = torch.cat([train_i_task1, train_i_task2])\n",
    "full_train_y = torch.cat([train_y1, train_y2])\n",
    "\n",
    "# Here we have two iterms that we're passing in as train_inputs\n",
    "model = MultitaskQEPModel((full_train_x, full_train_i), full_train_y, likelihood)"
   ]
  },
  {
   "cell_type": "markdown",
   "metadata": {},
   "source": [
    "### Training the model\n",
    "\n",
    "In the next cell, we handle using Type-II MLE to train the hyperparameters of the q-exponential process.\n",
    "\n",
    "See the [simple regression example](../01_Exact_QEPs/Simple_QEP_Regression.ipynb) for more info on this step."
   ]
  },
  {
   "cell_type": "code",
   "execution_count": 4,
   "metadata": {},
   "outputs": [
    {
     "name": "stderr",
     "output_type": "stream",
     "text": [
      "/Users/shiweilan/miniconda/envs/qpytorch/lib/python3.10/site-packages/linear_operator/utils/interpolation.py:71: UserWarning: torch.sparse.SparseTensor(indices, values, shape, *, device=) is deprecated.  Please use torch.sparse_coo_tensor(indices, values, shape, dtype=, device=). (Triggered internally at /Users/runner/work/pytorch/pytorch/pytorch/torch/csrc/utils/tensor_new.cpp:620.)\n",
      "  summing_matrix = cls(summing_matrix_indices, summing_matrix_values, size)\n"
     ]
    },
    {
     "name": "stdout",
     "output_type": "stream",
     "text": [
      "Iter 1/60 - Loss: 2.301\n",
      "Iter 2/60 - Loss: 2.240\n",
      "Iter 3/60 - Loss: 2.182\n",
      "Iter 4/60 - Loss: 2.131\n",
      "Iter 5/60 - Loss: 2.086\n",
      "Iter 6/60 - Loss: 2.047\n",
      "Iter 7/60 - Loss: 2.012\n",
      "Iter 8/60 - Loss: 1.982\n",
      "Iter 9/60 - Loss: 1.956\n",
      "Iter 10/60 - Loss: 1.933\n",
      "Iter 11/60 - Loss: 1.910\n",
      "Iter 12/60 - Loss: 1.889\n",
      "Iter 13/60 - Loss: 1.867\n",
      "Iter 14/60 - Loss: 1.845\n",
      "Iter 15/60 - Loss: 1.823\n",
      "Iter 16/60 - Loss: 1.801\n",
      "Iter 17/60 - Loss: 1.779\n",
      "Iter 18/60 - Loss: 1.756\n",
      "Iter 19/60 - Loss: 1.734\n",
      "Iter 20/60 - Loss: 1.711\n",
      "Iter 21/60 - Loss: 1.688\n",
      "Iter 22/60 - Loss: 1.665\n",
      "Iter 23/60 - Loss: 1.641\n",
      "Iter 24/60 - Loss: 1.618\n",
      "Iter 25/60 - Loss: 1.594\n",
      "Iter 26/60 - Loss: 1.571\n",
      "Iter 27/60 - Loss: 1.547\n",
      "Iter 28/60 - Loss: 1.523\n",
      "Iter 29/60 - Loss: 1.499\n",
      "Iter 30/60 - Loss: 1.474\n",
      "Iter 31/60 - Loss: 1.450\n",
      "Iter 32/60 - Loss: 1.426\n",
      "Iter 33/60 - Loss: 1.401\n",
      "Iter 34/60 - Loss: 1.377\n",
      "Iter 35/60 - Loss: 1.353\n",
      "Iter 36/60 - Loss: 1.328\n",
      "Iter 37/60 - Loss: 1.303\n",
      "Iter 38/60 - Loss: 1.279\n",
      "Iter 39/60 - Loss: 1.254\n",
      "Iter 40/60 - Loss: 1.229\n",
      "Iter 41/60 - Loss: 1.205\n",
      "Iter 42/60 - Loss: 1.181\n",
      "Iter 43/60 - Loss: 1.156\n",
      "Iter 44/60 - Loss: 1.131\n",
      "Iter 45/60 - Loss: 1.106\n",
      "Iter 46/60 - Loss: 1.083\n",
      "Iter 47/60 - Loss: 1.058\n",
      "Iter 48/60 - Loss: 1.033\n",
      "Iter 49/60 - Loss: 1.009\n",
      "Iter 50/60 - Loss: 0.985\n",
      "Iter 51/60 - Loss: 0.961\n",
      "Iter 52/60 - Loss: 0.938\n",
      "Iter 53/60 - Loss: 0.913\n",
      "Iter 54/60 - Loss: 0.889\n",
      "Iter 55/60 - Loss: 0.866\n",
      "Iter 56/60 - Loss: 0.843\n",
      "Iter 57/60 - Loss: 0.820\n",
      "Iter 58/60 - Loss: 0.797\n",
      "Iter 59/60 - Loss: 0.774\n",
      "Iter 60/60 - Loss: 0.751\n"
     ]
    }
   ],
   "source": [
    "# this is for running the notebook in our testing framework\n",
    "import os\n",
    "smoke_test = ('CI' in os.environ)\n",
    "training_iterations = 2 if smoke_test else 60\n",
    "\n",
    "\n",
    "# Find optimal model hyperparameters\n",
    "model.train()\n",
    "likelihood.train()\n",
    "\n",
    "# Use the adam optimizer\n",
    "optimizer = torch.optim.Adam(model.parameters(), lr=0.1)  # Includes QExponentialLikelihood parameters\n",
    "\n",
    "# \"Loss\" for QEPs - the marginal log likelihood\n",
    "mll = qpytorch.mlls.ExactMarginalLogLikelihood(likelihood, model)\n",
    "\n",
    "for i in range(training_iterations):\n",
    "    optimizer.zero_grad()\n",
    "    output = model(full_train_x, full_train_i)\n",
    "    loss = -mll(output, full_train_y)\n",
    "    loss.backward()\n",
    "    print('Iter %d/%d - Loss: %.3f' % (i + 1, training_iterations, loss.item()))\n",
    "    optimizer.step()"
   ]
  },
  {
   "cell_type": "markdown",
   "metadata": {},
   "source": [
    "### Make predictions with the model"
   ]
  },
  {
   "cell_type": "code",
   "execution_count": 5,
   "metadata": {},
   "outputs": [
    {
     "data": {
      "image/png": "[encoded data removed]",
      "text/plain": [
       "<Figure size 800x300 with 2 Axes>"
      ]
     },
     "metadata": {},
     "output_type": "display_data"
    }
   ],
   "source": [
    "# Set into eval mode\n",
    "model.eval()\n",
    "likelihood.eval()\n",
    "\n",
    "# Initialize plots\n",
    "f, (y1_ax, y2_ax) = plt.subplots(1, 2, figsize=(8, 3))\n",
    "\n",
    "# Test points every 0.02 in [0,1]\n",
    "test_x = torch.linspace(0, 1, 51)\n",
    "test_i_task1 = torch.full((test_x.shape[0],1), dtype=torch.long, fill_value=0)\n",
    "test_i_task2 = torch.full((test_x.shape[0],1), dtype=torch.long, fill_value=1)\n",
    "\n",
    "# Make predictions - one task at a time\n",
    "# We control the task we cae about using the indices\n",
    "\n",
    "# The qpytorch.settings.fast_pred_var flag activates LOVE (for fast variances)\n",
    "# See https://arxiv.org/abs/1803.06058\n",
    "with torch.no_grad(), qpytorch.settings.fast_pred_var():\n",
    "    observed_pred_y1 = likelihood(model(test_x, test_i_task1))\n",
    "    observed_pred_y2 = likelihood(model(test_x, test_i_task2))\n",
    "\n",
    "# Define plotting function\n",
    "def ax_plot(ax, train_y, train_x, rand_var, title):\n",
    "    # Get lower and upper confidence bounds\n",
    "    lower, upper = rand_var.confidence_region(rescale=True)\n",
    "    # Plot training data as black stars\n",
    "    ax.plot(train_x.detach().numpy(), train_y.detach().numpy(), 'k*')\n",
    "    # Predictive mean as blue line\n",
    "    ax.plot(test_x.detach().numpy(), rand_var.mean.detach().numpy(), 'b')\n",
    "    # Shade in confidence \n",
    "    ax.fill_between(test_x.detach().numpy(), lower.detach().numpy(), upper.detach().numpy(), alpha=0.5)\n",
    "    ax.set_ylim([-3, 3])\n",
    "    ax.legend(['Observed Data', 'Mean', 'Confidence'])\n",
    "    ax.set_title(title)\n",
    "\n",
    "# Plot both tasks\n",
    "ax_plot(y1_ax, train_y1, train_x1, observed_pred_y1, 'Observed Values (Likelihood)')\n",
    "ax_plot(y2_ax, train_y2, train_x2, observed_pred_y2, 'Observed Values (Likelihood)')"
   ]
  }
 ],
 "metadata": {
  "@webio": {
   "lastCommId": null,
   "lastKernelId": null
  },
  "anaconda-cloud": {},
  "kernelspec": {
   "display_name": "Python 3 (ipykernel)",
   "language": "python",
   "name": "python3"
  },
  "language_info": {
   "codemirror_mode": {
    "name": "ipython",
    "version": 3
   },
   "file_extension": ".py",
   "mimetype": "text/x-python",
   "name": "python",
   "nbconvert_exporter": "python",
   "pygments_lexer": "ipython3",
   "version": "3.10.18"
  }
 },
 "nbformat": 4,
 "nbformat_minor": 4
}
