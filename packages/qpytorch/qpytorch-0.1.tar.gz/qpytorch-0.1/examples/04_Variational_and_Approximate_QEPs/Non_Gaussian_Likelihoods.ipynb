{
 "cells": [
  {
   "cell_type": "markdown",
   "metadata": {},
   "source": [
    "# Non-Gaussian Likelihoods\n",
    "\n",
    "## Introduction\n",
    "\n",
    "This example is the simplest form of using an RBF kernel in an `ApproximateQEP` module for classification. This basic model is usable when there is not much training data and no advanced techniques are required.\n",
    "\n",
    "In this example, we’re modeling a unit wave with period 1/2 centered with positive values @ x=0. We are going to classify the points as either +1 or -1.\n",
    "\n",
    "Variational inference uses the assumption that the posterior distribution factors multiplicatively over the input variables. This makes approximating the distribution via the KL divergence possible to obtain a fast approximation to the posterior. For a good explanation of variational techniques, sections 4-6 of the following may be useful: https://www.cs.princeton.edu/courses/archive/fall11/cos597C/lectures/variational-inference-i.pdf"
   ]
  },
  {
   "cell_type": "code",
   "execution_count": 1,
   "metadata": {},
   "outputs": [
    {
     "name": "stdout",
     "output_type": "stream",
     "text": [
      "\n",
      "[KeOps] Warning : There were warnings or errors :\n",
      "/bin/sh: brew: command not found\n",
      "\n",
      "[KeOps] Warning : CUDA libraries not found or could not be loaded; Switching to CPU only.\n",
      "[KeOps] Warning : OpenMP library 'libomp' not found.\n",
      "[KeOps] Warning : OpenMP support is not available. Disabling OpenMP.\n"
     ]
    }
   ],
   "source": [
    "import math\n",
    "import torch\n",
    "import qpytorch\n",
    "from matplotlib import pyplot as plt\n",
    "\n",
    "%matplotlib inline"
   ]
  },
  {
   "cell_type": "markdown",
   "metadata": {},
   "source": [
    "### Set up training data\n",
    "\n",
    "In the next cell, we set up the training data for this example. We'll be using 10 regularly spaced points on [0,1] which we evaluate the function on and add Gaussian noise to get the training labels. Labels are unit wave with period 1/2 centered with positive values @ x=0."
   ]
  },
  {
   "cell_type": "code",
   "execution_count": 2,
   "metadata": {},
   "outputs": [],
   "source": [
    "train_x = torch.linspace(0, 1, 10)\n",
    "train_y = torch.sign(torch.cos(train_x * (4 * math.pi))).add(1).div(2)"
   ]
  },
  {
   "cell_type": "markdown",
   "metadata": {},
   "source": [
    "## Setting up the classification model\n",
    "\n",
    "The next cell demonstrates the simplest way to define a classification Gaussian process model in QPyTorch. If you have already done the [QEP regression tutorial](../01_Exact_QEPs/Simple_QEP_Regression.ipynb), you have already seen how QPyTorch model construction differs from other QEP packages. In particular, the QEP model expects a user to write out a `forward` method in a way analogous to PyTorch models. This gives the user the most possible flexibility.\n",
    "\n",
    "Since exact inference is intractable for QEP classification, QPyTorch approximates the classification posterior using **variational inference.** We believe that variational inference is ideal for a number of reasons. Firstly, variational inference commonly relies on gradient descent techniques, which take full advantage of PyTorch's autograd. This reduces the amount of code needed to develop complex variational models. Additionally, variational inference can be performed with stochastic gradient decent, which can be extremely scalable for large datasets.\n",
    "\n",
    "If you are unfamiliar with variational inference, we recommend the following resources:\n",
    "- [Variational Inference: A Review for Statisticians](https://arxiv.org/abs/1601.00670) by David M. Blei, Alp Kucukelbir, Jon D. McAuliffe.\n",
    "- [Scalable Variational Gaussian Process Classification](https://arxiv.org/abs/1411.2005) by James Hensman, Alex Matthews, Zoubin Ghahramani.\n",
    "  \n",
    "In this example, we're using an `UnwhitenedVariationalStrategy` because we are using the training data as inducing points. In general, you'll probably want to use the standard `VariationalStrategy` class for improved optimization."
   ]
  },
  {
   "cell_type": "code",
   "execution_count": 3,
   "metadata": {},
   "outputs": [],
   "source": [
    "from qpytorch.models import ApproximateQEP\n",
    "from qpytorch.variational import CholeskyVariationalDistribution\n",
    "from qpytorch.variational import UnwhitenedVariationalStrategy\n",
    "POWER = 1.0\n",
    "\n",
    "class QEPClassificationModel(ApproximateQEP):\n",
    "    def __init__(self, train_x):\n",
    "        self.power = torch.tensor(POWER)\n",
    "        variational_distribution = CholeskyVariationalDistribution(train_x.size(0), power=self.power)\n",
    "        variational_strategy = UnwhitenedVariationalStrategy(\n",
    "            self, train_x, variational_distribution, learn_inducing_locations=False\n",
    "        )\n",
    "        super(QEPClassificationModel, self).__init__(variational_strategy)\n",
    "        self.mean_module = qpytorch.means.ConstantMean()\n",
    "        self.covar_module = qpytorch.kernels.ScaleKernel(qpytorch.kernels.RBFKernel())\n",
    "\n",
    "    def forward(self, x):\n",
    "        mean_x = self.mean_module(x)\n",
    "        covar_x = self.covar_module(x)\n",
    "        latent_pred = qpytorch.distributions.MultivariateQExponential(mean_x, covar_x, power=self.power)\n",
    "        return latent_pred\n",
    "\n",
    "\n",
    "# Initialize model and likelihood\n",
    "model = QEPClassificationModel(train_x)\n",
    "likelihood = qpytorch.likelihoods.BernoulliLikelihood()"
   ]
  },
  {
   "cell_type": "markdown",
   "metadata": {},
   "source": [
    "### Model modes\n",
    "\n",
    "Like most PyTorch modules, the `ApproximateGP` has a `.train()` and `.eval()` mode.\n",
    "- `.train()` mode is for optimizing variational parameters model hyperameters.\n",
    "- `.eval()` mode is for computing predictions through the model posterior."
   ]
  },
  {
   "cell_type": "markdown",
   "metadata": {},
   "source": [
    "## Learn the variational parameters (and other hyperparameters)\n",
    "\n",
    "In the next cell, we optimize the variational parameters of our q-exponential process.\n",
    "In addition, this optimization loop also performs Type-II MLE to train the hyperparameters of the q-exponential process."
   ]
  },
  {
   "cell_type": "code",
   "execution_count": 6,
   "metadata": {
    "scrolled": true
   },
   "outputs": [
    {
     "name": "stdout",
     "output_type": "stream",
     "text": [
      "Iter 1/100 - Loss: 0.482\n",
      "Iter 2/100 - Loss: 1.555\n",
      "Iter 3/100 - Loss: 0.807\n",
      "Iter 4/100 - Loss: 0.801\n",
      "Iter 5/100 - Loss: 0.823\n",
      "Iter 6/100 - Loss: 0.729\n",
      "Iter 7/100 - Loss: 0.636\n",
      "Iter 8/100 - Loss: 0.606\n",
      "Iter 9/100 - Loss: 0.614\n",
      "Iter 10/100 - Loss: 0.613\n",
      "Iter 11/100 - Loss: 0.601\n",
      "Iter 12/100 - Loss: 0.587\n",
      "Iter 13/100 - Loss: 0.572\n",
      "Iter 14/100 - Loss: 0.554\n",
      "Iter 15/100 - Loss: 0.532\n",
      "Iter 16/100 - Loss: 0.509\n",
      "Iter 17/100 - Loss: 0.491\n",
      "Iter 18/100 - Loss: 0.480\n",
      "Iter 19/100 - Loss: 0.473\n",
      "Iter 20/100 - Loss: 0.470\n",
      "Iter 21/100 - Loss: 0.467\n",
      "Iter 22/100 - Loss: 0.464\n",
      "Iter 23/100 - Loss: 0.460\n",
      "Iter 24/100 - Loss: 0.457\n",
      "Iter 25/100 - Loss: 0.454\n",
      "Iter 26/100 - Loss: 0.451\n",
      "Iter 27/100 - Loss: 0.449\n",
      "Iter 28/100 - Loss: 0.447\n",
      "Iter 29/100 - Loss: 0.446\n",
      "Iter 30/100 - Loss: 0.445\n",
      "Iter 31/100 - Loss: 0.445\n",
      "Iter 32/100 - Loss: 0.444\n",
      "Iter 33/100 - Loss: 0.444\n",
      "Iter 34/100 - Loss: 0.443\n",
      "Iter 35/100 - Loss: 0.442\n",
      "Iter 36/100 - Loss: 0.442\n",
      "Iter 37/100 - Loss: 0.441\n",
      "Iter 38/100 - Loss: 0.440\n",
      "Iter 39/100 - Loss: 0.439\n",
      "Iter 40/100 - Loss: 0.438\n",
      "Iter 41/100 - Loss: 0.437\n",
      "Iter 42/100 - Loss: 0.437\n",
      "Iter 43/100 - Loss: 0.437\n",
      "Iter 44/100 - Loss: 0.436\n",
      "Iter 45/100 - Loss: 0.436\n",
      "Iter 46/100 - Loss: 0.436\n",
      "Iter 47/100 - Loss: 0.436\n",
      "Iter 48/100 - Loss: 0.436\n",
      "Iter 49/100 - Loss: 0.436\n",
      "Iter 50/100 - Loss: 0.435\n",
      "Iter 51/100 - Loss: 0.435\n",
      "Iter 52/100 - Loss: 0.435\n",
      "Iter 53/100 - Loss: 0.435\n",
      "Iter 54/100 - Loss: 0.434\n",
      "Iter 55/100 - Loss: 0.434\n",
      "Iter 56/100 - Loss: 0.434\n",
      "Iter 57/100 - Loss: 0.434\n",
      "Iter 58/100 - Loss: 0.434\n",
      "Iter 59/100 - Loss: 0.434\n",
      "Iter 60/100 - Loss: 0.433\n",
      "Iter 61/100 - Loss: 0.433\n",
      "Iter 62/100 - Loss: 0.433\n",
      "Iter 63/100 - Loss: 0.433\n",
      "Iter 64/100 - Loss: 0.433\n",
      "Iter 65/100 - Loss: 0.433\n",
      "Iter 66/100 - Loss: 0.433\n",
      "Iter 67/100 - Loss: 0.433\n",
      "Iter 68/100 - Loss: 0.433\n",
      "Iter 69/100 - Loss: 0.433\n",
      "Iter 70/100 - Loss: 0.433\n",
      "Iter 71/100 - Loss: 0.432\n",
      "Iter 72/100 - Loss: 0.432\n",
      "Iter 73/100 - Loss: 0.432\n",
      "Iter 74/100 - Loss: 0.432\n",
      "Iter 75/100 - Loss: 0.432\n",
      "Iter 76/100 - Loss: 0.432\n",
      "Iter 77/100 - Loss: 0.432\n",
      "Iter 78/100 - Loss: 0.432\n",
      "Iter 79/100 - Loss: 0.432\n",
      "Iter 80/100 - Loss: 0.432\n",
      "Iter 81/100 - Loss: 0.432\n",
      "Iter 82/100 - Loss: 0.432\n",
      "Iter 83/100 - Loss: 0.432\n",
      "Iter 84/100 - Loss: 0.432\n",
      "Iter 85/100 - Loss: 0.432\n",
      "Iter 86/100 - Loss: 0.432\n",
      "Iter 87/100 - Loss: 0.432\n",
      "Iter 88/100 - Loss: 0.432\n",
      "Iter 89/100 - Loss: 0.432\n",
      "Iter 90/100 - Loss: 0.432\n",
      "Iter 91/100 - Loss: 0.432\n",
      "Iter 92/100 - Loss: 0.432\n",
      "Iter 93/100 - Loss: 0.432\n",
      "Iter 94/100 - Loss: 0.432\n",
      "Iter 95/100 - Loss: 0.432\n",
      "Iter 96/100 - Loss: 0.432\n",
      "Iter 97/100 - Loss: 0.431\n",
      "Iter 98/100 - Loss: 0.431\n",
      "Iter 99/100 - Loss: 0.431\n",
      "Iter 100/100 - Loss: 0.431\n"
     ]
    }
   ],
   "source": [
    "# this is for running the notebook in our testing framework\n",
    "import os\n",
    "smoke_test = ('CI' in os.environ)\n",
    "training_iterations = 2 if smoke_test else 100\n",
    "\n",
    "\n",
    "# Find optimal model hyperparameters\n",
    "model.train()\n",
    "likelihood.train()\n",
    "\n",
    "# Use the adam optimizer\n",
    "optimizer = torch.optim.Adam(model.parameters(), lr=0.1)\n",
    "\n",
    "# \"Loss\" for QEPs - the marginal log likelihood\n",
    "# num_data refers to the number of training datapoints\n",
    "mll = qpytorch.mlls.VariationalELBO(likelihood, model, train_y.numel())\n",
    "\n",
    "for i in range(training_iterations):\n",
    "    # Zero backpropped gradients from previous iteration\n",
    "    optimizer.zero_grad()\n",
    "    # Get predictive output\n",
    "    output = model(train_x)\n",
    "    # Calc loss and backprop gradients\n",
    "    loss = -mll(output, train_y)\n",
    "    loss.backward()\n",
    "    print('Iter %d/%d - Loss: %.3f' % (i + 1, training_iterations, loss.item()))\n",
    "    optimizer.step()"
   ]
  },
  {
   "cell_type": "markdown",
   "metadata": {},
   "source": [
    "## Make predictions with the model\n",
    "\n",
    "In the next cell, we make predictions with the model. To do this, we simply put the model and likelihood in eval mode, and call both modules on the test data.\n",
    "\n",
    "In `.eval()` mode, when we call `model()` - we get QEP's latent posterior predictions. These will be MultivariateQExponential distributions. But since we are performing binary classification, we want to transform these outputs to classification probabilities using our likelihood.\n",
    "\n",
    "When we call `likelihood(model())`, we get a `torch.distributions.Bernoulli` distribution, which represents our posterior probability that the data points belong to the positive class.\n",
    "\n",
    "```python\n",
    "f_preds = model(test_x)\n",
    "y_preds = likelihood(model(test_x))\n",
    "\n",
    "f_mean = f_preds.mean\n",
    "f_samples = f_preds.sample(sample_shape=torch.Size((1000,))\n",
    "```"
   ]
  },
  {
   "cell_type": "code",
   "execution_count": 7,
   "metadata": {},
   "outputs": [
    {
     "data": {
      "image/png": "[encoded data removed]",
      "text/plain": [
       "<Figure size 400x300 with 1 Axes>"
      ]
     },
     "metadata": {},
     "output_type": "display_data"
    }
   ],
   "source": [
    "# Go into eval mode\n",
    "model.eval()\n",
    "likelihood.eval()\n",
    "\n",
    "with torch.no_grad():\n",
    "    # Test x are regularly spaced by 0.01 0,1 inclusive\n",
    "    test_x = torch.linspace(0, 1, 101)\n",
    "    # Get classification predictions\n",
    "    observed_pred = likelihood(model(test_x))\n",
    "\n",
    "    # Initialize fig and axes for plot\n",
    "    f, ax = plt.subplots(1, 1, figsize=(4, 3))\n",
    "    ax.plot(train_x.numpy(), train_y.numpy(), 'k*')\n",
    "    # Get the predicted labels (probabilites of belonging to the positive class)\n",
    "    # Transform these probabilities to be 0/1 labels\n",
    "    pred_labels = observed_pred.mean.ge(0.5).float()\n",
    "    ax.plot(test_x.numpy(), pred_labels.numpy(), 'b')\n",
    "    ax.set_ylim([-1, 2])\n",
    "    ax.legend(['Observed Data', 'Mean'])"
   ]
  },
  {
   "cell_type": "markdown",
   "metadata": {},
   "source": [
    "## Notes on other Non-Gaussian Likeihoods\n",
    "\n",
    "The Bernoulli likelihood is special in that we can compute the analytic (approximate) posterior predictive in closed form. That is: $q(\\mathbf y) = E_{q(\\mathbf f)}[ p(y \\mid \\mathbf f) ]$ is a Bernoulli distribution when $q(\\mathbf f)$ is a multivariate Gaussian.\n",
    "\n",
    "Most other non-Gaussian likelihoods do not admit an analytic (approximate) posterior predictive. To that end, calling `likelihood(model)` will generally return Monte Carlo samples from the posterior predictive."
   ]
  },
  {
   "cell_type": "code",
   "execution_count": 8,
   "metadata": {},
   "outputs": [
    {
     "name": "stdout",
     "output_type": "stream",
     "text": [
      "Type of output: Bernoulli\n",
      "Shape of output: torch.Size([101])\n"
     ]
    }
   ],
   "source": [
    "# Analytic marginal\n",
    "likelihood = qpytorch.likelihoods.BernoulliLikelihood()\n",
    "observed_pred = likelihood(model(test_x))\n",
    "print(\n",
    "    f\"Type of output: {observed_pred.__class__.__name__}\\n\"\n",
    "    f\"Shape of output: {observed_pred.batch_shape + observed_pred.event_shape}\"\n",
    ")"
   ]
  },
  {
   "cell_type": "code",
   "execution_count": 9,
   "metadata": {},
   "outputs": [
    {
     "name": "stdout",
     "output_type": "stream",
     "text": [
      "Type of output: Beta\n",
      "Shape of output: torch.Size([15, 101])\n"
     ]
    }
   ],
   "source": [
    "# Monte Carlo marginal\n",
    "likelihood = qpytorch.likelihoods.BetaLikelihood()\n",
    "with qpytorch.settings.num_likelihood_samples(15):\n",
    "    observed_pred = likelihood(model(test_x))\n",
    "print(\n",
    "    f\"Type of output: {observed_pred.__class__.__name__}\\n\"\n",
    "    f\"Shape of output: {observed_pred.batch_shape + observed_pred.event_shape}\"\n",
    ")\n",
    "# There are 15 MC samples for each test datapoint"
   ]
  },
  {
   "cell_type": "markdown",
   "metadata": {},
   "source": [
    "See [the Likelihood documentation](https://qepytorch.readthedocs.io/en/stable/likelihoods.html#likelihood) for more details."
   ]
  },
  {
   "cell_type": "code",
   "execution_count": null,
   "metadata": {},
   "outputs": [],
   "source": []
  }
 ],
 "metadata": {
  "anaconda-cloud": {},
  "kernelspec": {
   "display_name": "Python 3 (ipykernel)",
   "language": "python",
   "name": "python3"
  },
  "language_info": {
   "codemirror_mode": {
    "name": "ipython",
    "version": 3
   },
   "file_extension": ".py",
   "mimetype": "text/x-python",
   "name": "python",
   "nbconvert_exporter": "python",
   "pygments_lexer": "ipython3",
   "version": "3.10.18"
  }
 },
 "nbformat": 4,
 "nbformat_minor": 4
}
