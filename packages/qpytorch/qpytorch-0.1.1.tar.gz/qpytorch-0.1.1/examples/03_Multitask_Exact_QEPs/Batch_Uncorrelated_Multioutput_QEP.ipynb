{
 "cells": [
  {
   "cell_type": "markdown",
   "metadata": {},
   "source": [
    "# Batch Uncorrelated Multioutput QEP\n",
    "\n",
    "## Introduction\n",
    "\n",
    "This notebook demonstrates how to wrap uncorrelated QEP models into a convenient Multi-Output QEP model.\n",
    "It uses batch dimensions for efficient computation. Unlike in the [Multitask QEP Example](./Multitask_QEP_Regression.ipynb), this do not model correlations between outcomes, but treats outcomes independently.\n",
    "\n",
    "This type of model is useful if \n",
    "- when the number of training / test points is equal for the different outcomes\n",
    "- using the same covariance modules and / or likelihoods for each outcome\n",
    "\n",
    "For non-block designs (i.e. when the above points do not apply), you should instead use a `ModelList` QEP as described in the [ModelList multioutput example](./ModelList_QEP_Regression.ipynb)."
   ]
  },
  {
   "cell_type": "code",
   "execution_count": 1,
   "metadata": {},
   "outputs": [
    {
     "name": "stdout",
     "output_type": "stream",
     "text": [
      "\n",
      "[KeOps] Warning : There were warnings or errors :\n",
      "/bin/sh: brew: command not found\n",
      "\n",
      "[KeOps] Warning : CUDA libraries not found or could not be loaded; Switching to CPU only.\n",
      "[KeOps] Warning : OpenMP library 'libomp' not found.\n",
      "[KeOps] Warning : OpenMP support is not available. Disabling OpenMP.\n"
     ]
    }
   ],
   "source": [
    "import math\n",
    "import torch\n",
    "import qpytorch\n",
    "from matplotlib import pyplot as plt\n",
    "\n",
    "%matplotlib inline"
   ]
  },
  {
   "cell_type": "markdown",
   "metadata": {},
   "source": [
    "### Set up training data\n",
    "\n",
    "In the next cell, we set up the training data for this example. We'll be using 100 regularly spaced points on [0,1] which we evaluate the function on and add Gaussian noise to get the training labels.\n",
    "\n",
    "We'll have two functions - a sine function (y1) and a cosine function (y2).\n",
    "\n",
    "For MTGPs, our `train_targets` will actually have two dimensions: with the second dimension corresponding to the different tasks."
   ]
  },
  {
   "cell_type": "code",
   "execution_count": 2,
   "metadata": {},
   "outputs": [],
   "source": [
    "train_x = torch.linspace(0, 1, 100)\n",
    "\n",
    "train_y = torch.stack([\n",
    "    torch.sin(train_x * (2 * math.pi)) + torch.randn(train_x.size()) * 0.2,\n",
    "    torch.cos(train_x * (2 * math.pi)) + torch.randn(train_x.size()) * 0.2,\n",
    "], -1)"
   ]
  },
  {
   "cell_type": "markdown",
   "metadata": {},
   "source": [
    "## Define a batch QEP model\n",
    "\n",
    "The model should be somewhat similar to the `ExactQEP` model in the [simple regression example](../01_Exact_QEPs/Simple_QEP_Regression.ipynb).\n",
    "The differences:\n",
    "\n",
    "1. The model will use the batch dimension to learn multiple uncorrelated QEPs simultaneously.\n",
    "1. We're going to give the mean and covariance modules a `batch_shape` argument. This allows us to learn different hyperparameters for each model.\n",
    "1. The model will return a `MultitaskMultivariateQExponential` distribution rather than a `MultivariateQExponential`. We will construct this distribution to convert the batch dimensions into distinct outputs."
   ]
  },
  {
   "cell_type": "code",
   "execution_count": 3,
   "metadata": {},
   "outputs": [],
   "source": [
    "POWER = 1.0\n",
    "class BatchUncorrelatedMultitaskQEPModel(qpytorch.models.ExactQEP):\n",
    "    def __init__(self, train_x, train_y, likelihood):\n",
    "        super().__init__(train_x, train_y, likelihood)\n",
    "        self.power = torch.tensor(POWER)\n",
    "        self.mean_module = qpytorch.means.ConstantMean(batch_shape=torch.Size([2]))\n",
    "        self.covar_module = qpytorch.kernels.ScaleKernel(\n",
    "            qpytorch.kernels.RBFKernel(batch_shape=torch.Size([2])),\n",
    "            batch_shape=torch.Size([2])\n",
    "        )\n",
    "\n",
    "    def forward(self, x):\n",
    "        mean_x = self.mean_module(x)\n",
    "        covar_x = self.covar_module(x)\n",
    "        return qpytorch.distributions.MultitaskMultivariateQExponential.from_batch_qep(\n",
    "            qpytorch.distributions.MultivariateQExponential(mean_x, covar_x, power=self.power)\n",
    "        )\n",
    "\n",
    "\n",
    "likelihood = qpytorch.likelihoods.MultitaskQExponentialLikelihood(num_tasks=2, power=torch.tensor(POWER))\n",
    "model = BatchUncorrelatedMultitaskQEPModel(train_x, train_y, likelihood)"
   ]
  },
  {
   "cell_type": "markdown",
   "metadata": {},
   "source": [
    "### Train the model hyperparameters"
   ]
  },
  {
   "cell_type": "code",
   "execution_count": 4,
   "metadata": {},
   "outputs": [
    {
     "name": "stdout",
     "output_type": "stream",
     "text": [
      "Iter 1/80 - Loss: 2.100\n",
      "Iter 2/80 - Loss: 2.058\n",
      "Iter 3/80 - Loss: 2.012\n",
      "Iter 4/80 - Loss: 1.961\n",
      "Iter 5/80 - Loss: 1.906\n",
      "Iter 6/80 - Loss: 1.847\n",
      "Iter 7/80 - Loss: 1.785\n",
      "Iter 8/80 - Loss: 1.721\n",
      "Iter 9/80 - Loss: 1.656\n",
      "Iter 10/80 - Loss: 1.595\n",
      "Iter 11/80 - Loss: 1.540\n",
      "Iter 12/80 - Loss: 1.493\n",
      "Iter 13/80 - Loss: 1.455\n",
      "Iter 14/80 - Loss: 1.423\n",
      "Iter 15/80 - Loss: 1.394\n",
      "Iter 16/80 - Loss: 1.369\n",
      "Iter 17/80 - Loss: 1.345\n",
      "Iter 18/80 - Loss: 1.324\n",
      "Iter 19/80 - Loss: 1.303\n",
      "Iter 20/80 - Loss: 1.284\n",
      "Iter 21/80 - Loss: 1.265\n",
      "Iter 22/80 - Loss: 1.246\n",
      "Iter 23/80 - Loss: 1.228\n",
      "Iter 24/80 - Loss: 1.209\n",
      "Iter 25/80 - Loss: 1.190\n",
      "Iter 26/80 - Loss: 1.170\n",
      "Iter 27/80 - Loss: 1.151\n",
      "Iter 28/80 - Loss: 1.131\n",
      "Iter 29/80 - Loss: 1.110\n",
      "Iter 30/80 - Loss: 1.089\n",
      "Iter 31/80 - Loss: 1.068\n",
      "Iter 32/80 - Loss: 1.046\n",
      "Iter 33/80 - Loss: 1.024\n",
      "Iter 34/80 - Loss: 1.002\n",
      "Iter 35/80 - Loss: 0.979\n",
      "Iter 36/80 - Loss: 0.956\n",
      "Iter 37/80 - Loss: 0.934\n",
      "Iter 38/80 - Loss: 0.911\n",
      "Iter 39/80 - Loss: 0.888\n",
      "Iter 40/80 - Loss: 0.865\n",
      "Iter 41/80 - Loss: 0.842\n",
      "Iter 42/80 - Loss: 0.820\n",
      "Iter 43/80 - Loss: 0.798\n",
      "Iter 44/80 - Loss: 0.776\n",
      "Iter 45/80 - Loss: 0.754\n",
      "Iter 46/80 - Loss: 0.732\n",
      "Iter 47/80 - Loss: 0.710\n",
      "Iter 48/80 - Loss: 0.689\n",
      "Iter 49/80 - Loss: 0.669\n",
      "Iter 50/80 - Loss: 0.648\n",
      "Iter 51/80 - Loss: 0.628\n",
      "Iter 52/80 - Loss: 0.608\n",
      "Iter 53/80 - Loss: 0.589\n",
      "Iter 54/80 - Loss: 0.569\n",
      "Iter 55/80 - Loss: 0.550\n",
      "Iter 56/80 - Loss: 0.531\n",
      "Iter 57/80 - Loss: 0.513\n",
      "Iter 58/80 - Loss: 0.494\n",
      "Iter 59/80 - Loss: 0.476\n",
      "Iter 60/80 - Loss: 0.458\n",
      "Iter 61/80 - Loss: 0.440\n",
      "Iter 62/80 - Loss: 0.423\n",
      "Iter 63/80 - Loss: 0.406\n",
      "Iter 64/80 - Loss: 0.389\n",
      "Iter 65/80 - Loss: 0.372\n",
      "Iter 66/80 - Loss: 0.356\n",
      "Iter 67/80 - Loss: 0.341\n",
      "Iter 68/80 - Loss: 0.325\n",
      "Iter 69/80 - Loss: 0.311\n",
      "Iter 70/80 - Loss: 0.296\n",
      "Iter 71/80 - Loss: 0.282\n",
      "Iter 72/80 - Loss: 0.268\n",
      "Iter 73/80 - Loss: 0.255\n",
      "Iter 74/80 - Loss: 0.243\n",
      "Iter 75/80 - Loss: 0.230\n",
      "Iter 76/80 - Loss: 0.218\n",
      "Iter 77/80 - Loss: 0.207\n",
      "Iter 78/80 - Loss: 0.196\n",
      "Iter 79/80 - Loss: 0.186\n",
      "Iter 80/80 - Loss: 0.175\n"
     ]
    }
   ],
   "source": [
    "# this is for running the notebook in our testing framework\n",
    "import os\n",
    "smoke_test = ('CI' in os.environ)\n",
    "training_iterations = 2 if smoke_test else 80\n",
    "\n",
    "\n",
    "# Find optimal model hyperparameters\n",
    "model.train()\n",
    "likelihood.train()\n",
    "\n",
    "# Use the adam optimizer\n",
    "optimizer = torch.optim.Adam(model.parameters(), lr=0.1)  # Includes QExponentialLikelihood parameters\n",
    "\n",
    "# \"Loss\" for QEPs - the marginal log likelihood\n",
    "mll = qpytorch.mlls.ExactMarginalLogLikelihood(likelihood, model)\n",
    "\n",
    "for i in range(training_iterations):\n",
    "    optimizer.zero_grad()\n",
    "    output = model(train_x)\n",
    "    loss = -mll(output, train_y)\n",
    "    loss.backward()\n",
    "    print('Iter %d/%d - Loss: %.3f' % (i + 1, training_iterations, loss.item()))\n",
    "    optimizer.step()"
   ]
  },
  {
   "cell_type": "markdown",
   "metadata": {},
   "source": [
    "### Make predictions with the model"
   ]
  },
  {
   "cell_type": "code",
   "execution_count": 5,
   "metadata": {},
   "outputs": [
    {
     "data": {
      "image/png": "[encoded data removed]",
      "text/plain": [
       "<Figure size 800x300 with 2 Axes>"
      ]
     },
     "metadata": {},
     "output_type": "display_data"
    }
   ],
   "source": [
    "# Set into eval mode\n",
    "model.eval()\n",
    "likelihood.eval()\n",
    "\n",
    "# Initialize plots\n",
    "f, (y1_ax, y2_ax) = plt.subplots(1, 2, figsize=(8, 3))\n",
    "\n",
    "# Make predictions\n",
    "with torch.no_grad(), qpytorch.settings.fast_pred_var():\n",
    "    test_x = torch.linspace(0, 1, 51)\n",
    "    predictions = likelihood(model(test_x))\n",
    "    mean = predictions.mean\n",
    "    lower, upper = predictions.confidence_region(rescale=True)\n",
    "    \n",
    "# This contains predictions for both tasks, flattened out\n",
    "# The first half of the predictions is for the first task\n",
    "# The second half is for the second task\n",
    "\n",
    "# Plot training data as black stars\n",
    "y1_ax.plot(train_x.detach().numpy(), train_y[:, 0].detach().numpy(), 'k*')\n",
    "# Predictive mean as blue line\n",
    "y1_ax.plot(test_x.numpy(), mean[:, 0].numpy(), 'b')\n",
    "# Shade in confidence \n",
    "y1_ax.fill_between(test_x.numpy(), lower[:, 0].numpy(), upper[:, 0].numpy(), alpha=0.5)\n",
    "y1_ax.set_ylim([-3, 3])\n",
    "y1_ax.legend(['Observed Data', 'Mean', 'Confidence'])\n",
    "y1_ax.set_title('Observed Values (Likelihood)')\n",
    "\n",
    "# Plot training data as black stars\n",
    "y2_ax.plot(train_x.detach().numpy(), train_y[:, 1].detach().numpy(), 'k*')\n",
    "# Predictive mean as blue line\n",
    "y2_ax.plot(test_x.numpy(), mean[:, 1].numpy(), 'b')\n",
    "# Shade in confidence \n",
    "y2_ax.fill_between(test_x.numpy(), lower[:, 1].numpy(), upper[:, 1].numpy(), alpha=0.5)\n",
    "y2_ax.set_ylim([-3, 3])\n",
    "y2_ax.legend(['Observed Data', 'Mean', 'Confidence'])\n",
    "y2_ax.set_title('Observed Values (Likelihood)')\n",
    "\n",
    "None"
   ]
  },
  {
   "cell_type": "code",
   "execution_count": null,
   "metadata": {},
   "outputs": [],
   "source": []
  }
 ],
 "metadata": {
  "kernelspec": {
   "display_name": "Python 3 (ipykernel)",
   "language": "python",
   "name": "python3"
  },
  "language_info": {
   "codemirror_mode": {
    "name": "ipython",
    "version": 3
   },
   "file_extension": ".py",
   "mimetype": "text/x-python",
   "name": "python",
   "nbconvert_exporter": "python",
   "pygments_lexer": "ipython3",
   "version": "3.10.18"
  }
 },
 "nbformat": 4,
 "nbformat_minor": 4
}
