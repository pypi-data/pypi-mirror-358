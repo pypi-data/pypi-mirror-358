{
 "cells": [
  {
   "cell_type": "markdown",
   "id": "62cb84c2",
   "metadata": {},
   "source": [
    "# NodeMapper tutorial\n",
    "\n",
    "Returning node ids based on similarity of text embeddings.\n",
    "\n",
    "Start by importing `NodeMapper`"
   ]
  },
  {
   "cell_type": "code",
   "execution_count": null,
   "id": "825cc996",
   "metadata": {},
   "outputs": [],
   "source": [
    "# from hugger import *\n",
    "from hugger.mapper import NodeMapper"
   ]
  },
  {
   "cell_type": "markdown",
   "id": "147974dd",
   "metadata": {},
   "source": [
    "Demo data for the tutorial"
   ]
  },
  {
   "cell_type": "code",
   "execution_count": 4,
   "id": "7d3e69e5",
   "metadata": {},
   "outputs": [],
   "source": [
    "# An example dataframe\n",
    "import pandas as pd\n",
    "\n",
    "# generate data\n",
    "ids = [\"id1\", \"id2\", \"id3\", \"id4\", \"id5\"]\n",
    "texts = [\n",
    "    \"happy\",\n",
    "    \"doughnut\",\n",
    "    \"green\",\n",
    "    \"sad\",\n",
    "    \"foundation\",\n",
    "]\n",
    "# to dataframe\n",
    "df = pd.DataFrame({\"id\": ids, \"text\": texts})"
   ]
  },
  {
   "cell_type": "markdown",
   "id": "f97c59e7",
   "metadata": {},
   "source": [
    "Initializing `NodeMapper` will \n",
    "- load the given huggingface model\n",
    "- generate embeddings for the text column\n",
    "- creating a dictionary of the node ids : text embeddings"
   ]
  },
  {
   "cell_type": "code",
   "execution_count": 5,
   "id": "65b84996",
   "metadata": {},
   "outputs": [
    {
     "name": "stdout",
     "output_type": "stream",
     "text": [
      "Loading tokenizer for model: sentence-transformers/all-MiniLM-L6-v2\n",
      "Loading model: sentence-transformers/all-MiniLM-L6-v2\n",
      "Generating embeddings for 5 nodes ...\n"
     ]
    }
   ],
   "source": [
    "# init\n",
    "mapper = NodeMapper(\n",
    "    df=df,\n",
    "    text_col=\"text\",\n",
    "    id_col=\"id\",\n",
    "    model_name=\"sentence-transformers/all-MiniLM-L6-v2\",\n",
    ")"
   ]
  },
  {
   "cell_type": "markdown",
   "id": "c8e72b8e",
   "metadata": {},
   "source": [
    "Like `HuggingMapper` can simply get embeddings for given text"
   ]
  },
  {
   "cell_type": "code",
   "execution_count": 6,
   "id": "085029b8",
   "metadata": {},
   "outputs": [
    {
     "name": "stdout",
     "output_type": "stream",
     "text": [
      "torch.Size([1, 384])\n",
      "torch.Size([3, 384])\n"
     ]
    }
   ],
   "source": [
    "# generate embedding for a single text\n",
    "embedding = mapper.embed_text(\"Good morning\")\n",
    "print(embedding.shape)\n",
    "\n",
    "# generate embeddings for a list of texts\n",
    "embeddings = mapper.embed_text([\"Hello world\", \"Good evening\", \"Lunch time!\"])\n",
    "print(embeddings.shape)"
   ]
  },
  {
   "cell_type": "markdown",
   "id": "02599eda",
   "metadata": {},
   "source": [
    "But the main purpose of `NodeMapper` is to find similar texts and their corresponding ids"
   ]
  },
  {
   "cell_type": "code",
   "execution_count": 10,
   "id": "8cb44884",
   "metadata": {},
   "outputs": [
    {
     "data": {
      "text/plain": [
       "{'id5': {'text': 'foundation', 'score': 0.5212345123291016},\n",
       " 'id2': {'text': 'doughnut', 'score': 0.31617769598960876},\n",
       " 'id3': {'text': 'green', 'score': 0.30093249678611755},\n",
       " 'id4': {'text': 'sad', 'score': 0.1695406585931778},\n",
       " 'id1': {'text': 'happy', 'score': 0.1568318009376526}}"
      ]
     },
     "execution_count": 10,
     "metadata": {},
     "output_type": "execute_result"
    }
   ],
   "source": [
    "# retrieve those most similar to given text, above threshold\n",
    "mapper.get_similar(\"concrete\", threshold=0)  # threshold 0 returns all"
   ]
  },
  {
   "cell_type": "code",
   "execution_count": 31,
   "id": "763d4ede",
   "metadata": {},
   "outputs": [
    {
     "name": "stdout",
     "output_type": "stream",
     "text": [
      "('id1', {'text': 'happy', 'score': 0.6841421127319336}) \n",
      "\n",
      "('id5', {'text': 'foundation', 'score': 0.5212345123291016}) \n",
      "\n",
      "('id2', {'text': 'doughnut', 'score': 0.7036362886428833}) \n",
      "\n"
     ]
    }
   ],
   "source": [
    "# retrieve top match, above threshold\n",
    "print(mapper.get_match(\"joyful\", threshold=0.5), \"\\n\")\n",
    "print(mapper.get_match(\"concrete\", threshold=0.5), \"\\n\")\n",
    "print(mapper.get_match(\"donut\", threshold=0.5), \"\\n\")"
   ]
  }
 ],
 "metadata": {
  "jupytext": {
   "cell_metadata_filter": "-all",
   "main_language": "python",
   "notebook_metadata_filter": "-all"
  },
  "kernelspec": {
   "display_name": ".venv",
   "language": "python",
   "name": "python3"
  },
  "language_info": {
   "codemirror_mode": {
    "name": "ipython",
    "version": 3
   },
   "file_extension": ".py",
   "mimetype": "text/x-python",
   "name": "python",
   "nbconvert_exporter": "python",
   "pygments_lexer": "ipython3",
   "version": "3.11.0"
  }
 },
 "nbformat": 4,
 "nbformat_minor": 5
}
