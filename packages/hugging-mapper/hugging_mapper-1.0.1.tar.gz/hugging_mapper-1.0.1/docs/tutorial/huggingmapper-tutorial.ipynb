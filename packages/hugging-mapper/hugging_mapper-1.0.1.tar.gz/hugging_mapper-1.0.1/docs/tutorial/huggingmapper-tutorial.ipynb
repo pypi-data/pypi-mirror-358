{
 "cells": [
  {
   "cell_type": "markdown",
   "id": "62cb84c2",
   "metadata": {},
   "source": [
    "# HuggingMapper tutorial\n",
    "\n",
    "Getting Embeddings.\n",
    "\n",
    "Start by importing `HuggingMapper`"
   ]
  },
  {
   "cell_type": "code",
   "execution_count": null,
   "id": "825cc996",
   "metadata": {},
   "outputs": [],
   "source": [
    "# from hugger import *\n",
    "from hugger.mapper import HuggingMapper"
   ]
  },
  {
   "cell_type": "markdown",
   "id": "f97c59e7",
   "metadata": {},
   "source": [
    "Initializing `HuggingMapper` will load the given huggingface model"
   ]
  },
  {
   "cell_type": "code",
   "execution_count": 2,
   "id": "65b84996",
   "metadata": {},
   "outputs": [
    {
     "name": "stdout",
     "output_type": "stream",
     "text": [
      "Loading tokenizer for model: sentence-transformers/all-MiniLM-L6-v2\n",
      "Loading model: sentence-transformers/all-MiniLM-L6-v2\n"
     ]
    }
   ],
   "source": [
    "# init\n",
    "mapper = HuggingMapper(\n",
    "    model_name=\"sentence-transformers/all-MiniLM-L6-v2\",\n",
    ")"
   ]
  },
  {
   "cell_type": "markdown",
   "id": "c8e72b8e",
   "metadata": {},
   "source": [
    "Get embeddings for given text"
   ]
  },
  {
   "cell_type": "code",
   "execution_count": 3,
   "id": "085029b8",
   "metadata": {},
   "outputs": [
    {
     "name": "stdout",
     "output_type": "stream",
     "text": [
      "torch.Size([1, 384])\n",
      "torch.Size([3, 384])\n"
     ]
    }
   ],
   "source": [
    "# generate embedding for a single text\n",
    "embedding = mapper.embed_text(\"Good morning\")\n",
    "print(embedding.shape)\n",
    "\n",
    "# generate embeddings for a list of texts\n",
    "embeddings = mapper.embed_text([\"Hello world\", \"Good evening\", \"Lunch time!\"])\n",
    "print(embeddings.shape)"
   ]
  }
 ],
 "metadata": {
  "jupytext": {
   "cell_metadata_filter": "-all",
   "main_language": "python",
   "notebook_metadata_filter": "-all"
  },
  "kernelspec": {
   "display_name": ".venv",
   "language": "python",
   "name": "python3"
  },
  "language_info": {
   "codemirror_mode": {
    "name": "ipython",
    "version": 3
   },
   "file_extension": ".py",
   "mimetype": "text/x-python",
   "name": "python",
   "nbconvert_exporter": "python",
   "pygments_lexer": "ipython3",
   "version": "3.11.0"
  }
 },
 "nbformat": 4,
 "nbformat_minor": 5
}
