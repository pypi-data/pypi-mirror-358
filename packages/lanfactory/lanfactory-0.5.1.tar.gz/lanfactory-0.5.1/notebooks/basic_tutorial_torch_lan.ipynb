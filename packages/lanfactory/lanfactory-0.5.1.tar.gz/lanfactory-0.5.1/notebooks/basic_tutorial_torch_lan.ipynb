{
 "cells": [
  {
   "cell_type": "markdown",
   "metadata": {},
   "source": [
    "### Quick Start"
   ]
  },
  {
   "cell_type": "markdown",
   "metadata": {},
   "source": [
    "The `LANfactory` package is a light-weight convenience package for training `likelihood approximation networks` (LANs) in torch (or keras), \n",
    "starting from supplied training data.\n",
    "\n",
    "[LANs](https://elifesciences.org/articles/65074), although more general in potential scope of applications, were conceived in the context of sequential sampling modeling\n",
    "to account for cognitive processes giving rise to *choice* and *reaction time* data in *n-alternative forced choice experiments* commonly encountered in the cognitive sciences.\n",
    "\n",
    "In this quick tutorial we will use the [`ssms`](https://github.com/AlexanderFengler/ssm_simulators) package to generate our training data using such a sequential sampling model (SSM). The use of of the `LANfactory` package is in no way bound to utilize this `ssms` package."
   ]
  },
  {
   "cell_type": "markdown",
   "metadata": {},
   "source": [
    "#### Install\n",
    "\n",
    "To install the `ssms` package type,\n",
    "\n",
    "`pip install git+https://github.com/AlexanderFengler/ssm_simulators`\n",
    "\n",
    "To install the `LANfactory` package type,\n",
    "\n",
    "`pip install git+https://github.com/AlexanderFengler/LANfactory`\n",
    "\n",
    "Necessary dependency should be installed automatically in the process."
   ]
  },
  {
   "cell_type": "markdown",
   "metadata": {},
   "source": [
    "#### Basic Tutorial"
   ]
  },
  {
   "cell_type": "code",
   "execution_count": 42,
   "metadata": {},
   "outputs": [],
   "source": [
    "# Load necessary packages\n",
    "import ssms\n",
    "import lanfactory\n",
    "import os\n",
    "import numpy as np\n",
    "from copy import deepcopy\n",
    "import torch\n",
    "from pathlib import Path"
   ]
  },
  {
   "cell_type": "markdown",
   "metadata": {},
   "source": [
    "#### Generate Training Data\n",
    "First we need to generate some training data. As mentioned above we will do so using the `ssms` python package, however without delving into a detailed explanation\n",
    "of this package. Please refer to the [basic ssms tutorial] (https://github.com/AlexanderFengler/ssm_simulators) in case you want to learn more."
   ]
  },
  {
   "cell_type": "code",
   "execution_count": 43,
   "metadata": {},
   "outputs": [],
   "source": [
    "# MAKE CONFIGS\n",
    "# MAKE CONFIGS\n",
    "RUN_SIMS = True\n",
    "DEVICE = \"cpu\"\n",
    "\n",
    "# Define a model\n",
    "MODEL = \"ddm\" #list(ssms.config.model_config.keys())[np.random.randint(0, len(ssms.config.model_config.keys()))]\n",
    "OUT_FOLDER = Path(\"torch_nb_data\") / \"lan_mlp\" / \"training_data\"\n",
    "MODEL_FOLDER = Path(\"torch_nb_data\") / \"jax_models\" / \"lan\"\n",
    "N_DATA_FILES = 2\n",
    "os.makedirs(OUT_FOLDER, exist_ok=True)\n",
    "\n",
    "# Initialize the generator config (for MLP LANs)\n",
    "generator_config = deepcopy(ssms.config.data_generator_config[\"lan\"])\n",
    "# Specify generative model (one from the list of included models mentioned above)\n",
    "generator_config[\"model\"] = MODEL\n",
    "# Specify number of parameter sets to simulate\n",
    "generator_config[\"n_parameter_sets\"] = 1000\n",
    "# Specify how many samples a simulation run should entail\n",
    "generator_config[\"n_samples\"] = 2000\n",
    "# Specify folder in which to save generated data\n",
    "generator_config[\"output_folder\"] = OUT_FOLDER\n",
    "# Specify number of training samples per parameter set\n",
    "generator_config[\"n_training_samples_by_parameter_set\"] = 2000\n",
    "\n",
    "# Make model config dict\n",
    "model_config = ssms.config.model_config[MODEL]"
   ]
  },
  {
   "cell_type": "code",
   "execution_count": 3,
   "metadata": {},
   "outputs": [
    {
     "name": "stdout",
     "output_type": "stream",
     "text": [
      "n_cpus used:  12\n",
      "checking:  torch_nb_data/lan_mlp/ddm\n",
      "0\n",
      "simulation round: 1  of 10\n",
      "simulation round: 2  of 10\n",
      "simulation round: 3  of 10\n",
      "simulation round: 4  of 10\n",
      "simulation round: 5  of 10\n",
      "simulation round: 6  of 10\n",
      "simulation round: 7  of 10\n",
      "simulation round: 8  of 10\n",
      "simulation round: 9  of 10\n",
      "simulation round: 10  of 10\n",
      "Writing to file:  torch_nb_data/lan_mlp/ddm/training_data_f6f87598521311f088336ae25f443f62.pickle\n",
      "1\n",
      "simulation round: 1  of 10\n",
      "simulation round: 2  of 10\n",
      "simulation round: 3  of 10\n",
      "simulation round: 4  of 10\n",
      "simulation round: 5  of 10\n",
      "simulation round: 6  of 10\n",
      "simulation round: 7  of 10\n",
      "simulation round: 8  of 10\n",
      "simulation round: 9  of 10\n",
      "simulation round: 10  of 10\n",
      "Writing to file:  torch_nb_data/lan_mlp/ddm/training_data_0456bed4521411f088336ae25f443f62.pickle\n"
     ]
    }
   ],
   "source": [
    "# MAKE DATA\n",
    "my_dataset_generator = ssms.dataset_generators.lan_mlp.data_generator(\n",
    "    generator_config=generator_config, model_config=model_config\n",
    ")\n",
    "\n",
    "for i in range(2):\n",
    "    print(i)\n",
    "    training_data = my_dataset_generator.generate_data_training_uniform(save=True)"
   ]
  },
  {
   "cell_type": "markdown",
   "metadata": {},
   "source": [
    "#### Prepare for Training"
   ]
  },
  {
   "cell_type": "markdown",
   "metadata": {},
   "source": [
    "Now we define two configuration dictionariers,\n",
    "\n",
    "1. The `network_config` dictionary defines the architecture and properties of the network\n",
    "2. The `train_config` dictionary defines properties concerning training hyperparameters\n",
    "\n",
    "Two examples (which we take as provided by the package, but which you can adjust according to your needs) are provided below."
   ]
  },
  {
   "cell_type": "code",
   "execution_count": 44,
   "metadata": {},
   "outputs": [
    {
     "name": "stdout",
     "output_type": "stream",
     "text": [
      "Network config: \n",
      "{'layer_sizes': [100, 100, 100, 1], 'activations': ['tanh', 'tanh', 'tanh', 'linear'], 'train_output_type': 'logprob'}\n",
      "Train config: \n",
      "{'cpu_batch_size': 4096, 'gpu_batch_size': 4096, 'n_epochs': 5, 'optimizer': 'adam', 'learning_rate': 0.001, 'lr_scheduler': 'reduce_on_plateau', 'lr_scheduler_params': {}, 'weight_decay': 0.0, 'loss': 'huber', 'save_history': True}\n"
     ]
    }
   ],
   "source": [
    "# SPECIFY NETWORK CONFIGS AND TRAINING CONFIGS\n",
    "\n",
    "network_config = deepcopy(lanfactory.config.network_configs.network_config_mlp)\n",
    "network_config[\"layer_sizes\"] = [100, 100, 100, 1]\n",
    "network_config[\"activations\"] = [\"tanh\", \"tanh\", \"tanh\", \"linear\"]\n",
    "\n",
    "print(\"Network config: \")\n",
    "print(network_config)\n",
    "\n",
    "train_config = deepcopy(lanfactory.config.network_configs.train_config_mlp)\n",
    "train_config[\"cpu_batch_size\"] = 4096\n",
    "train_config[\"gpu_batch_size\"] = 4096\n",
    "train_config[\"learning_rate\"] = 1e-3\n",
    "\n",
    "print(\"Train config: \")\n",
    "print(train_config)"
   ]
  },
  {
   "cell_type": "markdown",
   "metadata": {},
   "source": [
    "Next we set up dataloaders for training with pytorch. The `LANfactory` uses custom dataloaders, taking into account particularities of the expected training data.\n",
    "Specifically, we expect to receive a bunch of training data files (the present example generates only one), where each file hosts a large number of training examples. \n",
    "So we want to define a dataloader which spits out batches from data with a specific training data file, and keeps checking when to load in a new file. \n",
    "The way this is implemented here, is via the `DatasetTorch` class in `lanfactory.trainers`, which inherits from `torch.utils.data.Dataset` and prespecifies a `batch_size`. Finally this is supplied to a [`DataLoader`](https://pytorch.org/docs/stable/data.html), for which we keep the `batch_size` argument at 0.\n",
    "\n",
    "The `DatasetTorch` class is then called as an iterator via the DataLoader and takes care of batching as well as file loading internally. \n",
    "\n",
    "You may choose your own way of defining the `DataLoader` classes, downstream you are simply expected to supply one."
   ]
  },
  {
   "cell_type": "code",
   "execution_count": 45,
   "metadata": {},
   "outputs": [],
   "source": [
    "# \n",
    "TRAINING_TYPE = 'lan' # 'lan', 'cpn', 'opn'\n",
    "\n",
    "# MAKE DATALOADERS\n",
    "\n",
    "# List of datafiles (here only one)\n",
    "folder_ = Path(\"torch_nb_data/lan_mlp\") / MODEL  # + \"/training_data_0_nbins_0_n_1000/\"\n",
    "file_list_ = [str(p) for p in folder_.iterdir()]\n",
    "\n",
    "# Training dataset\n",
    "torch_training_dataset = lanfactory.trainers.DatasetTorch(\n",
    "    file_ids=file_list_,\n",
    "    batch_size=train_config[\"cpu_batch_size\"],\n",
    "    features_key=f\"{TRAINING_TYPE}_data\",\n",
    "    label_key=f\"{TRAINING_TYPE}_labels\",\n",
    "    label_lower_bound=np.log(1e-10)\n",
    ")\n",
    "\n",
    "torch_training_dataloader = torch.utils.data.DataLoader(\n",
    "    torch_training_dataset,\n",
    "    shuffle=True,\n",
    "    batch_size=None,\n",
    "    num_workers=1,\n",
    "    pin_memory=True,\n",
    ")\n",
    "\n",
    "# Validation dataset\n",
    "torch_validation_dataset = lanfactory.trainers.DatasetTorch(\n",
    "    file_ids=file_list_,\n",
    "    batch_size=train_config[\"cpu_batch_size\"],\n",
    "    features_key=f\"{TRAINING_TYPE}_data\",\n",
    "    label_key=f\"{TRAINING_TYPE}_labels\",\n",
    "    label_lower_bound=np.log(1e-10)\n",
    ")\n",
    "\n",
    "torch_validation_dataloader = torch.utils.data.DataLoader(\n",
    "    torch_validation_dataset,\n",
    "    shuffle=True,\n",
    "    batch_size=None,\n",
    "    num_workers=1,\n",
    "    pin_memory=True,\n",
    ")"
   ]
  },
  {
   "cell_type": "markdown",
   "metadata": {},
   "source": [
    "We can now load a network, and save the configuration files for convenience."
   ]
  },
  {
   "cell_type": "code",
   "execution_count": 46,
   "metadata": {},
   "outputs": [
    {
     "name": "stdout",
     "output_type": "stream",
     "text": [
      "tanh\n",
      "tanh\n",
      "tanh\n",
      "linear\n",
      "Found folder:  torch_nb_data\n",
      "Moving on...\n",
      "Found folder:  torch_nb_data/torch_models\n",
      "Moving on...\n",
      "Found folder:  torch_nb_data/torch_models/ddm_lan\n",
      "Moving on...\n",
      "Saved network config\n",
      "Saved train config\n"
     ]
    }
   ],
   "source": [
    "# LOAD NETWORK\n",
    "net = lanfactory.trainers.TorchMLP(\n",
    "    network_config=deepcopy(network_config),\n",
    "    network_type=\"lan\",\n",
    "    input_shape=torch_training_dataset.input_dim,\n",
    "    save_folder=str(Path(\"/torch_nb_data/torch_models/\")),\n",
    "    generative_model_id=MODEL,\n",
    ")\n",
    "\n",
    "# SAVE CONFIGS\n",
    "lanfactory.utils.save_configs(\n",
    "    model_id=MODEL + \"_torch_\",\n",
    "    save_folder=str(Path(\"torch_nb_data/torch_models/\" + MODEL + \"_lan\" + \"/\")),\n",
    "    network_config=network_config,\n",
    "    train_config=train_config,\n",
    "    allow_abs_path_folder_generation=True,\n",
    ")"
   ]
  },
  {
   "cell_type": "markdown",
   "metadata": {},
   "source": [
    "### Architecture\n",
    "\n",
    "Quick look at the simple MLP architecture of the network."
   ]
  },
  {
   "cell_type": "code",
   "execution_count": 47,
   "metadata": {},
   "outputs": [
    {
     "name": "stdout",
     "output_type": "stream",
     "text": [
      "TorchMLP(\n",
      "  (layers): ModuleList(\n",
      "    (0): Linear(in_features=6, out_features=100, bias=True)\n",
      "    (1): Tanh()\n",
      "    (2): Linear(in_features=100, out_features=100, bias=True)\n",
      "    (3): Tanh()\n",
      "    (4): Linear(in_features=100, out_features=100, bias=True)\n",
      "    (5): Tanh()\n",
      "    (6): Linear(in_features=100, out_features=1, bias=True)\n",
      "  )\n",
      ")\n"
     ]
    }
   ],
   "source": [
    "print(net)"
   ]
  },
  {
   "cell_type": "markdown",
   "metadata": {},
   "source": [
    "To finally train the network we supply our network, the dataloaders and training config to the `ModelTrainerTorchMLP` class, from `lanfactory.trainers`."
   ]
  },
  {
   "cell_type": "code",
   "execution_count": 48,
   "metadata": {},
   "outputs": [
    {
     "name": "stdout",
     "output_type": "stream",
     "text": [
      "train_config is passed as dictionary: \n",
      "\n",
      "{'cpu_batch_size': 4096, 'gpu_batch_size': 4096, 'n_epochs': 5, 'optimizer': 'adam', 'learning_rate': 0.001, 'lr_scheduler': 'reduce_on_plateau', 'lr_scheduler_params': {}, 'weight_decay': 0.0, 'loss': 'huber', 'save_history': True}\n"
     ]
    },
    {
     "name": "stderr",
     "output_type": "stream",
     "text": [
      "/Users/afengler/Library/CloudStorage/OneDrive-Personal/proj_lanfactory/LANfactory/.venv/lib/python3.11/site-packages/torch/utils/data/dataloader.py:683: UserWarning: 'pin_memory' argument is set as true but not supported on MPS now, then device pinned memory won't be used.\n",
      "  warnings.warn(warn_msg)\n"
     ]
    },
    {
     "name": "stdout",
     "output_type": "stream",
     "text": [
      "wandb not available\n",
      "wandb not available\n",
      "epoch: 0/5, batch: 0/976, batch_loss: 4.6360\n",
      "epoch: 0/5, batch: 100/976, batch_loss: 2.8933\n",
      "epoch: 0/5, batch: 200/976, batch_loss: 0.8874\n",
      "epoch: 0/5, batch: 300/976, batch_loss: 0.6737\n",
      "epoch: 0/5, batch: 400/976, batch_loss: 0.5093\n",
      "epoch: 0/5, batch: 500/976, batch_loss: 0.3759\n",
      "epoch: 0/5, batch: 600/976, batch_loss: 0.2766\n",
      "epoch: 0/5, batch: 700/976, batch_loss: 0.2904\n",
      "epoch: 0/5, batch: 800/976, batch_loss: 0.2527\n",
      "epoch: 0/5, batch: 900/976, batch_loss: 0.2654\n",
      "Epoch took 0 / 5, took 11.991927146911621 seconds\n",
      "wandb not available\n",
      "wandb not available\n",
      "epoch 0 / 5, validation_loss: 0.2389\n",
      "wandb not available\n",
      "wandb not available\n",
      "epoch: 1/5, batch: 0/976, batch_loss: 0.2436\n",
      "epoch: 1/5, batch: 100/976, batch_loss: 0.2326\n",
      "epoch: 1/5, batch: 200/976, batch_loss: 0.2030\n",
      "epoch: 1/5, batch: 300/976, batch_loss: 0.2105\n",
      "epoch: 1/5, batch: 400/976, batch_loss: 0.2169\n",
      "epoch: 1/5, batch: 500/976, batch_loss: 0.1898\n",
      "epoch: 1/5, batch: 600/976, batch_loss: 0.1826\n",
      "epoch: 1/5, batch: 700/976, batch_loss: 0.1839\n",
      "epoch: 1/5, batch: 800/976, batch_loss: 0.1632\n",
      "epoch: 1/5, batch: 900/976, batch_loss: 0.1396\n",
      "Epoch took 1 / 5, took 11.366123914718628 seconds\n",
      "wandb not available\n",
      "wandb not available\n",
      "epoch 1 / 5, validation_loss: 0.1588\n",
      "wandb not available\n",
      "wandb not available\n",
      "epoch: 2/5, batch: 0/976, batch_loss: 0.1741\n",
      "epoch: 2/5, batch: 100/976, batch_loss: 0.1684\n",
      "epoch: 2/5, batch: 200/976, batch_loss: 0.1553\n",
      "epoch: 2/5, batch: 300/976, batch_loss: 0.1244\n",
      "epoch: 2/5, batch: 400/976, batch_loss: 0.1220\n",
      "epoch: 2/5, batch: 500/976, batch_loss: 0.1240\n",
      "epoch: 2/5, batch: 600/976, batch_loss: 0.1369\n",
      "epoch: 2/5, batch: 700/976, batch_loss: 0.1444\n",
      "epoch: 2/5, batch: 800/976, batch_loss: 0.1312\n",
      "epoch: 2/5, batch: 900/976, batch_loss: 0.1392\n",
      "Epoch took 2 / 5, took 12.270922899246216 seconds\n",
      "wandb not available\n",
      "wandb not available\n",
      "epoch 2 / 5, validation_loss: 0.1255\n",
      "wandb not available\n",
      "wandb not available\n",
      "epoch: 3/5, batch: 0/976, batch_loss: 0.1098\n",
      "epoch: 3/5, batch: 100/976, batch_loss: 0.1127\n",
      "epoch: 3/5, batch: 200/976, batch_loss: 0.1221\n",
      "epoch: 3/5, batch: 300/976, batch_loss: 0.1244\n",
      "epoch: 3/5, batch: 400/976, batch_loss: 0.1071\n",
      "epoch: 3/5, batch: 500/976, batch_loss: 0.1168\n",
      "epoch: 3/5, batch: 600/976, batch_loss: 0.0910\n",
      "epoch: 3/5, batch: 700/976, batch_loss: 0.1009\n",
      "epoch: 3/5, batch: 800/976, batch_loss: 0.1044\n",
      "epoch: 3/5, batch: 900/976, batch_loss: 0.1055\n",
      "Epoch took 3 / 5, took 11.839808940887451 seconds\n",
      "wandb not available\n",
      "wandb not available\n",
      "epoch 3 / 5, validation_loss: 0.1037\n",
      "wandb not available\n",
      "wandb not available\n",
      "epoch: 4/5, batch: 0/976, batch_loss: 0.0953\n",
      "epoch: 4/5, batch: 100/976, batch_loss: 0.1008\n",
      "epoch: 4/5, batch: 200/976, batch_loss: 0.0988\n",
      "epoch: 4/5, batch: 300/976, batch_loss: 0.1045\n",
      "epoch: 4/5, batch: 400/976, batch_loss: 0.1101\n",
      "epoch: 4/5, batch: 500/976, batch_loss: 0.0923\n",
      "epoch: 4/5, batch: 600/976, batch_loss: 0.1145\n",
      "epoch: 4/5, batch: 700/976, batch_loss: 0.0911\n",
      "epoch: 4/5, batch: 800/976, batch_loss: 0.0970\n",
      "epoch: 4/5, batch: 900/976, batch_loss: 0.0907\n",
      "Epoch took 4 / 5, took 12.093141078948975 seconds\n",
      "wandb not available\n",
      "wandb not available\n",
      "epoch 4 / 5, validation_loss: 0.08981\n"
     ]
    }
   ],
   "source": [
    "# TRAIN MODEL\n",
    "model_trainer = lanfactory.trainers.ModelTrainerTorchMLP(\n",
    "    model=net,\n",
    "    train_config=train_config,\n",
    "    train_dl=torch_training_dataloader,\n",
    "    valid_dl=torch_validation_dataloader,\n",
    "    allow_abs_path_folder_generation=False,\n",
    "    pin_memory=True,\n",
    "    seed=None,\n",
    ")\n",
    "\n",
    "# model_trainer.train_model(save_history=True, save_model=True, verbose=0)\n",
    "model_trainer.train_and_evaluate(\n",
    "    wandb_on=False,\n",
    "    output_folder=Path(\"torch_nb_data/torch_models/\" + MODEL + \"_lan\" + \"/\"),\n",
    "    output_file_id=MODEL,\n",
    ")\n",
    "# LOAD MODEL"
   ]
  },
  {
   "cell_type": "markdown",
   "metadata": {},
   "source": [
    "#### Load Model for Inference and Call"
   ]
  },
  {
   "cell_type": "markdown",
   "metadata": {},
   "source": [
    "The `LANfactory` provides some convenience functions to use networks for inference after training. \n",
    "We can load a model using the `LoadTorchMLPInfer` class, which then allows us to run fast inference via either\n",
    "a direct call, which expects a `torch.tensor` as input, or the `predict_on_batch` method, which expects a `numpy.array` \n",
    "of `dtype`, `np.float32`. "
   ]
  },
  {
   "cell_type": "code",
   "execution_count": 49,
   "metadata": {},
   "outputs": [
    {
     "name": "stdout",
     "output_type": "stream",
     "text": [
      "Setting network type to \"lan\" or \"cpn\" based on train_output_type. \n",
      "Note: This is only a default setting, and can be overwritten by the network_type argument.\n",
      "tanh\n",
      "tanh\n",
      "tanh\n",
      "linear\n"
     ]
    }
   ],
   "source": [
    "model_path = Path(\"torch_nb_data/torch_models\") / (MODEL + \"_lan\")\n",
    "network_file_path = next(model_path.glob(\"*state_dict*\"))\n",
    "\n",
    "network = lanfactory.trainers.LoadTorchMLPInfer(\n",
    "    model_file_path=network_file_path,\n",
    "    network_config=network_config,\n",
    "    input_dim=torch_training_dataset.input_dim,\n",
    ")"
   ]
  },
  {
   "cell_type": "code",
   "execution_count": 51,
   "metadata": {},
   "outputs": [
    {
     "name": "stdout",
     "output_type": "stream",
     "text": [
      "direct call out:  tensor([-1.0772])\n",
      "predict_on_batch out:  [-1.0771531]\n"
     ]
    }
   ],
   "source": [
    "# Two ways to call the network\n",
    "\n",
    "# Direct call --> need tensor input\n",
    "direct_out = network(\n",
    "    torch.from_numpy(np.array(ssms.config.model_config[MODEL]['default_params'] + [0.65, 1.0], dtype=np.float32))\n",
    ")\n",
    "print(\"direct call out: \", direct_out)\n",
    "\n",
    "# predict_on_batch method\n",
    "predict_on_batch_out = network.predict_on_batch(\n",
    "    np.array(ssms.config.model_config[MODEL]['default_params'] + [0.65, 1.0], dtype=np.float32)\n",
    ")\n",
    "print(\"predict_on_batch out: \", predict_on_batch_out)"
   ]
  },
  {
   "cell_type": "markdown",
   "metadata": {},
   "source": [
    "#### A peek into the first passage distribution computed by the network\n",
    "\n",
    "We can compare the learned likelihood function in our `network` with simulation data from the underlying generative model.\n",
    "For this purpose we recruit the [`ssms`](https://github.com/AlexanderFengler/ssm_simulators) package again."
   ]
  },
  {
   "cell_type": "code",
   "execution_count": 52,
   "metadata": {},
   "outputs": [],
   "source": [
    "import pandas as pd\n",
    "import matplotlib.pyplot as plt\n",
    "\n",
    "# Initialize Data\n",
    "data = pd.DataFrame(\n",
    "    np.zeros((2000, len(ssms.config.model_config[MODEL]['params']) + 2), dtype=np.float32),\n",
    "    columns=ssms.config.model_config[MODEL]['params'] + [\"rt\", \"choice\"],\n",
    ")\n",
    "\n",
    "# Set parameters\n",
    "for i, param in enumerate(ssms.config.model_config[MODEL]['params']):\n",
    "    data.loc[:, param] = np.float32(ssms.config.model_config[MODEL]['default_params'][i])\n",
    "\n",
    "# Set rt and choice\n",
    "data.loc[:999, \"rt\"] = np.linspace(5, 0, 1000).astype(np.float32)\n",
    "data.loc[1000:, \"rt\"] = np.linspace(0, 5, 1000).astype(np.float32)\n",
    "data.loc[:999, \"choice\"] = -1.\n",
    "data.loc[1000:, \"choice\"] = 1.\n",
    "\n",
    "# Network predictions\n",
    "predict_on_batch_out = network.predict_on_batch(data.values.astype(np.float32))\n",
    "\n",
    "# Simulations\n",
    "from ssms.basic_simulators.simulator import simulator\n",
    "\n",
    "sim_out = {}\n",
    "for i in range(10):\n",
    "    sim_out[i] = simulator(model=MODEL, theta=data.values[0, :-2], n_samples=2000)"
   ]
  },
  {
   "cell_type": "code",
   "execution_count": null,
   "metadata": {},
   "outputs": [
    {
     "data": {
      "image/png": "[encoded data removed]",
      "text/plain": [
       "<Figure size 1500x600 with 2 Axes>"
      ]
     },
     "metadata": {},
     "output_type": "display_data"
    }
   ],
   "source": [
    "import matplotlib.pyplot as plt\n",
    "\n",
    "# Create figure with specific spacing\n",
    "fig = plt.figure(figsize=(15, 6))\n",
    "\n",
    "# First subplot\n",
    "ax1 = plt.subplot(1, 2, 1)\n",
    "ax1.plot(\n",
    "    data[\"rt\"] * data[\"choice\"],\n",
    "    np.exp(predict_on_batch_out),\n",
    "    color=\"black\",\n",
    "    label=\"network\",\n",
    ")\n",
    "\n",
    "# Plot simulations\n",
    "for i in range(10):\n",
    "    my_seed = np.random.choice(1000000)\n",
    "    sim_out = simulator(\n",
    "        model=MODEL, \n",
    "        theta=data.values[0, :-2], \n",
    "        n_samples=2000, \n",
    "        random_state=my_seed\n",
    "    )\n",
    "    ax1.hist(\n",
    "        sim_out[\"rts\"] * sim_out[\"choices\"],\n",
    "        bins=100,\n",
    "        histtype=\"step\",\n",
    "        label=\"simulations\" if i == 0 else None,\n",
    "        color=\"blue\",\n",
    "        alpha=0.2,\n",
    "        density=True,\n",
    "    )\n",
    "\n",
    "ax1.legend()\n",
    "ax1.set_title(\"Network Likelihood with Simulations\")\n",
    "ax1.set_xlabel(\"rt\")\n",
    "ax1.set_ylabel(\"likelihood\")\n",
    "\n",
    "# Second subplot\n",
    "ax2 = plt.subplot(1, 2, 2)\n",
    "ax2.plot(\n",
    "    data[\"rt\"] * data[\"choice\"],\n",
    "    predict_on_batch_out,\n",
    "    color=\"black\",\n",
    "    label=\"network\",\n",
    ")\n",
    "\n",
    "ax2.legend()\n",
    "ax2.set_title(\"Network Log Likelihood\")\n",
    "ax2.set_xlabel(\"rt\")\n",
    "ax2.set_ylabel(\"likelihood\")\n",
    "\n",
    "# Adjust spacing\n",
    "plt.subplots_adjust(wspace=0.3)\n",
    "plt.show()"
   ]
  },
  {
   "cell_type": "markdown",
   "metadata": {},
   "source": [
    "We hope this package may be helpful in case you attempt to train [LANs](https://elifesciences.org/articles/65074) for your own research."
   ]
  },
  {
   "cell_type": "markdown",
   "metadata": {},
   "source": [
    "#### END"
   ]
  }
 ],
 "metadata": {
  "kernelspec": {
   "display_name": ".venv",
   "language": "python",
   "name": "python3"
  },
  "language_info": {
   "codemirror_mode": {
    "name": "ipython",
    "version": 3
   },
   "file_extension": ".py",
   "mimetype": "text/x-python",
   "name": "python",
   "nbconvert_exporter": "python",
   "pygments_lexer": "ipython3",
   "version": "3.11.12"
  },
  "orig_nbformat": 4
 },
 "nbformat": 4,
 "nbformat_minor": 2
}
