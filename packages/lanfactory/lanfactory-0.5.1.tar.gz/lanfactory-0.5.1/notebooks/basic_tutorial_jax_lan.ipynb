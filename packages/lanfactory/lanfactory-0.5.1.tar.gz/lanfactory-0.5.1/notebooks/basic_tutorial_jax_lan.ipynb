{
 "cells": [
  {
   "cell_type": "markdown",
   "metadata": {},
   "source": [
    "### Basic Tutorial: Jax Version"
   ]
  },
  {
   "cell_type": "markdown",
   "metadata": {},
   "source": [
    "\n",
    "The `LANfactory` package is a light-weight convenience package for training `likelihood approximation networks` (LANs) in torch (or keras), \n",
    "starting from supplied training data.\n",
    "\n",
    "[LANs](https://elifesciences.org/articles/65074), although more general in potential scope of applications, were conceived in the context of sequential sampling modeling\n",
    "to account for cognitive processes giving rise to *choice* and *reaction time* data in *n-alternative forced choice experiments* commonly encountered in the cognitive sciences.\n",
    "\n",
    "In this quick tutorial we will use the [`ssms`](https://github.com/AlexanderFengler/ssm_simulators) package to generate our training data using such a sequential sampling model (SSM). The use of of the `LANfactory` package is in no way bound to utilize this `ssms` package."
   ]
  },
  {
   "cell_type": "markdown",
   "metadata": {},
   "source": [
    "#### Install\n",
    "\n",
    "To install the `ssms` package type,\n",
    "\n",
    "`pip install git+https://github.com/AlexanderFengler/ssm_simulators`\n",
    "\n",
    "To install the `LANfactory` package type,\n",
    "\n",
    "`pip install git+https://github.com/AlexanderFengler/LANfactory`\n",
    "\n",
    "Necessary dependency should be installed automatically in the process."
   ]
  },
  {
   "cell_type": "code",
   "execution_count": 1,
   "metadata": {},
   "outputs": [
    {
     "name": "stdout",
     "output_type": "stream",
     "text": [
      "wandb not available\n",
      "wandb not available\n"
     ]
    }
   ],
   "source": [
    "import ssms\n",
    "import lanfactory\n",
    "import os\n",
    "import numpy as np\n",
    "from copy import deepcopy\n",
    "import torch\n",
    "import pickle\n",
    "from pathlib import Path"
   ]
  },
  {
   "cell_type": "code",
   "execution_count": 2,
   "metadata": {},
   "outputs": [],
   "source": [
    "# MAKE CONFIGS\n",
    "RUN_SIMS = True\n",
    "DEVICE = \"cpu\"\n",
    "\n",
    "# Define a model\n",
    "MODEL = \"ddm\" #list(ssms.config.model_config.keys())[np.random.randint(0, len(ssms.config.model_config.keys()))]\n",
    "OUT_FOLDER = Path(\"jax_nb_data\") / \"lan_mlp\" / \"training_data\"\n",
    "MODEL_FOLDER = Path(\"jax_nb_data\") / \"jax_models\" / \"lan\"\n",
    "N_DATA_FILES = 2\n",
    "os.makedirs(OUT_FOLDER, exist_ok=True)\n",
    "\n",
    "# Initialize the generator config (for MLP LANs)\n",
    "\n",
    "# Initialize the generator config (for MLP LANs)\n",
    "generator_config = deepcopy(ssms.config.data_generator_config[\"lan\"])\n",
    "# Specify generative model (one from the list of included models mentioned above)\n",
    "generator_config[\"model\"] = MODEL\n",
    "# Specify number of parameter sets to simulate\n",
    "generator_config[\"n_parameter_sets\"] = 1000\n",
    "# Specify how many samples a simulation run should entail\n",
    "generator_config[\"n_samples\"] = 2000\n",
    "# Specify folder in which to save generated data\n",
    "generator_config[\"output_folder\"] = OUT_FOLDER\n",
    "generator_config['n_training_samples_by_parameter_set'] = 2000\n",
    "\n",
    "# Make model config dict\n",
    "model_config = ssms.config.model_config[MODEL]"
   ]
  },
  {
   "cell_type": "code",
   "execution_count": 3,
   "metadata": {},
   "outputs": [
    {
     "name": "stdout",
     "output_type": "stream",
     "text": [
      "n_cpus used:  12\n",
      "checking:  jax_nb_data/lan_mlp/training_data\n",
      "simulation round: 1  of 10\n",
      "simulation round: 2  of 10\n",
      "simulation round: 3  of 10\n",
      "simulation round: 4  of 10\n",
      "simulation round: 5  of 10\n",
      "simulation round: 6  of 10\n",
      "simulation round: 7  of 10\n",
      "simulation round: 8  of 10\n",
      "simulation round: 9  of 10\n",
      "simulation round: 10  of 10\n",
      "Writing to file:  jax_nb_data/lan_mlp/training_data/training_data_e8898b3a521011f08a636ae25f443f62.pickle\n",
      "n_cpus used:  12\n",
      "checking:  jax_nb_data/lan_mlp/training_data\n",
      "simulation round: 1  of 10\n",
      "simulation round: 2  of 10\n",
      "simulation round: 3  of 10\n",
      "simulation round: 4  of 10\n",
      "simulation round: 5  of 10\n",
      "simulation round: 6  of 10\n",
      "simulation round: 7  of 10\n",
      "simulation round: 8  of 10\n",
      "simulation round: 9  of 10\n",
      "simulation round: 10  of 10\n",
      "Writing to file:  jax_nb_data/lan_mlp/training_data/training_data_f520086a521011f08a636ae25f443f62.pickle\n"
     ]
    }
   ],
   "source": [
    "# MAKE DATA\n",
    "if RUN_SIMS:\n",
    "    for i in range(N_DATA_FILES):\n",
    "        my_dataset_generator = ssms.dataset_generators.lan_mlp.data_generator(\n",
    "            generator_config=generator_config, model_config=model_config\n",
    "        )\n",
    "        _ = my_dataset_generator.generate_data_training_uniform(save=True)"
   ]
  },
  {
   "cell_type": "code",
   "execution_count": 4,
   "metadata": {},
   "outputs": [
    {
     "name": "stdout",
     "output_type": "stream",
     "text": [
      "Network config: \n",
      "{'layer_sizes': [100, 100, 100, 1], 'activations': ['tanh', 'tanh', 'tanh', 'linear'], 'train_output_type': 'logprob'}\n",
      "Train config: \n",
      "{'cpu_batch_size': 128, 'gpu_batch_size': 256, 'n_epochs': 5, 'optimizer': 'adam', 'learning_rate': 2e-06, 'lr_scheduler': 'reduce_on_plateau', 'lr_scheduler_params': {}, 'weight_decay': 0.0, 'loss': 'huber', 'save_history': True}\n"
     ]
    }
   ],
   "source": [
    "from copy import deepcopy\n",
    "\n",
    "# MAKE FIXTURE WITH SOMEWHAT RANDOM PROPERTIES\n",
    "network_config = deepcopy(lanfactory.config.network_configs.network_config_mlp)\n",
    "network_config[\"layer_sizes\"] = [100, 100, 100, 1]\n",
    "network_config[\"activations\"] = [\"tanh\", \"tanh\", \"tanh\", \"linear\"]\n",
    "\n",
    "print(\"Network config: \")\n",
    "print(network_config)\n",
    "\n",
    "train_config = deepcopy(lanfactory.config.network_configs.train_config_mlp)\n",
    "train_config[\"learning_rate\"] = 0.000002\n",
    "\n",
    "# CHECK CORNER CASES\n",
    "train_config[\"cpu_batch_size\"] = 4096\n",
    "train_config[\"gpu_batch_size\"] = 4096\n",
    "train_config[\"n_epochs\"] = 2\n",
    "\n",
    "\n",
    "print(\"Train config: \")\n",
    "print(train_config)"
   ]
  },
  {
   "cell_type": "markdown",
   "metadata": {},
   "source": [
    "#### Prepare for Training\n",
    "\n",
    "Next we set up dataloaders for training with pytorch. The `LANfactory` uses custom dataloaders, taking into account particularities of the expected training data.\n",
    "Specifically, we expect to receive a bunch of training data files (the present example generates only one), where each file hosts a large number of training examples. \n",
    "So we want to define a dataloader which spits out batches from data with a specific training data file, and keeps checking when to load in a new file. \n",
    "The way this is implemented here, is via the `DatasetTorch` class in `lanfactory.trainers`, which inherits from `torch.utils.data.Dataset` and prespecifies a `batch_size`. Finally this is supplied to a [`DataLoader`](https://pytorch.org/docs/stable/data.html), for which we keep the `batch_size` argument at 0.\n",
    "\n",
    "The `DatasetTorch` class is then called as an iterator via the DataLoader and takes care of batching as well as file loading internally. \n",
    "\n",
    "You may choose your own way of defining the `DataLoader` classes, downstream you are simply expected to supply one."
   ]
  },
  {
   "cell_type": "code",
   "execution_count": 8,
   "metadata": {},
   "outputs": [],
   "source": [
    "# folder_ = OUT_FOLDER\n",
    "file_list_ = [os.path.join(OUT_FOLDER, file_) for file_ in os.listdir(OUT_FOLDER)]\n",
    "\n",
    "\n",
    "# INDEPENDENT TESTS OF DATALOADERS\n",
    "# Training dataset\n",
    "jax_training_dataset = lanfactory.trainers.DatasetTorch(\n",
    "    file_ids=file_list_,\n",
    "    batch_size=(\n",
    "        train_config[DEVICE + \"_batch_size\"]\n",
    "        if torch.cuda.is_available()\n",
    "        else train_config[DEVICE + \"_batch_size\"]\n",
    "    ),\n",
    "    label_lower_bound=np.log(1e-10),\n",
    "    features_key=\"lan_data\",\n",
    "    label_key=\"lan_labels\",\n",
    "    out_framework=\"jax\",\n",
    ")\n",
    "\n",
    "jax_training_dataloader = torch.utils.data.DataLoader(\n",
    "    jax_training_dataset, shuffle=True, batch_size=None, num_workers=1, pin_memory=True\n",
    ")\n",
    "\n",
    "# Validation dataset\n",
    "jax_validation_dataset = lanfactory.trainers.DatasetTorch(\n",
    "    file_ids=file_list_,\n",
    "    batch_size=(\n",
    "        train_config[DEVICE + \"_batch_size\"]\n",
    "        if torch.cuda.is_available()\n",
    "        else train_config[DEVICE + \"_batch_size\"]\n",
    "    ),\n",
    "    label_lower_bound=np.log(1e-10),\n",
    "    features_key=\"lan_data\",\n",
    "    label_key=\"lan_labels\",\n",
    "    out_framework=\"jax\",\n",
    ")\n",
    "\n",
    "jax_validation_dataloader = torch.utils.data.DataLoader(\n",
    "    jax_validation_dataset,\n",
    "    shuffle=True,\n",
    "    batch_size=None,\n",
    "    num_workers=1,\n",
    "    pin_memory=True,\n",
    ")"
   ]
  },
  {
   "cell_type": "markdown",
   "metadata": {},
   "source": [
    "#### Define Network"
   ]
  },
  {
   "cell_type": "code",
   "execution_count": 9,
   "metadata": {},
   "outputs": [],
   "source": [
    "# LOAD NETWORK\n",
    "# Test properties of network\n",
    "jax_net = lanfactory.trainers.MLPJaxFactory(network_config=network_config, train=True)\n",
    "\n",
    "# Save model config\n",
    "# model_folder = os.path.join(\"data\", \"jax_models\", MODEL)\n",
    "# os.makedirs(model_folder, exist_ok = True)\n",
    "\n",
    "# pickle.dump(\n",
    "#     network_config,\n",
    "#     open(os.path.join(model_folder,\n",
    "# \t\t\t\t\t  \"jax_network_config.pickle\"), \"wb\")\n",
    "# \t\t)"
   ]
  },
  {
   "cell_type": "markdown",
   "metadata": {},
   "source": [
    "#### Train "
   ]
  },
  {
   "cell_type": "code",
   "execution_count": 10,
   "metadata": {},
   "outputs": [],
   "source": [
    "# Test properties of jax trainer\n",
    "jax_trainer = lanfactory.trainers.ModelTrainerJaxMLP(\n",
    "    train_config=train_config,\n",
    "    model=jax_net,\n",
    "    train_dl=jax_training_dataloader,\n",
    "    valid_dl=jax_validation_dataloader,\n",
    "    pin_memory=True,\n",
    ")"
   ]
  },
  {
   "cell_type": "code",
   "execution_count": 14,
   "metadata": {},
   "outputs": [
    {
     "name": "stdout",
     "output_type": "stream",
     "text": [
      "Epoch: 0 of 2\n"
     ]
    },
    {
     "name": "stderr",
     "output_type": "stream",
     "text": [
      "/Users/afengler/Library/CloudStorage/OneDrive-Personal/proj_lanfactory/LANfactory/.venv/lib/python3.11/site-packages/torch/utils/data/dataloader.py:683: UserWarning: 'pin_memory' argument is set as true but not supported on MPS now, then device pinned memory won't be used.\n",
      "  warnings.warn(warn_msg)\n"
     ]
    },
    {
     "name": "stdout",
     "output_type": "stream",
     "text": [
      "wandb not available\n",
      "wandb not available\n",
      "Training - Step: 0 of 952 - Loss: 4.155462\n",
      "Epoch 0/2 time: 10.643912076950073s\n",
      "wandb not available\n",
      "wandb not available\n",
      "Validation - Step: 0 of 952 - Loss: 0.09997503\n",
      "Epoch 0/2 time: 8.438811779022217s\n",
      "Epoch: 0 / 2, test_loss: 0.10196932405233383\n",
      "Epoch: 1 of 2\n",
      "wandb not available\n",
      "wandb not available\n",
      "Training - Step: 0 of 952 - Loss: 0.1102554\n",
      "Epoch 1/2 time: 9.941360235214233s\n",
      "wandb not available\n",
      "wandb not available\n",
      "Validation - Step: 0 of 952 - Loss: 0.05326052\n",
      "Epoch 1/2 time: 8.238975048065186s\n",
      "Epoch: 1 / 2, test_loss: 0.0613735094666481\n",
      "Saving training history to: jax_nb_data/jax_models/lan/jax_lan_ddm__jax_training_history.csv\n",
      "Saving model parameters to: jax_nb_data/jax_models/lan/jax_lan_ddm__train_state.jax\n",
      "Saving training config to: jax_nb_data/jax_models/lan/jax_lan_ddm__train_config.pickle\n",
      "Saving training data details to: jax_nb_data/jax_models/lan/jax_lan_ddm__data_details.pickle\n"
     ]
    }
   ],
   "source": [
    "# Test if training loop works\n",
    "train_state = jax_trainer.train_and_evaluate(\n",
    "    output_folder=MODEL_FOLDER,\n",
    "    output_file_id=MODEL,\n",
    "    run_id=\"jax\",\n",
    "    wandb_on=False,\n",
    "    wandb_project_id=\"jax\",\n",
    "    verbose=1,\n",
    "    save_outputs=True,\n",
    ")"
   ]
  },
  {
   "cell_type": "markdown",
   "metadata": {},
   "source": [
    "#### Check Trained Network\n",
    "\n",
    "We can now re-instantiate our network from the trained weights and check that the output are reasonable."
   ]
  },
  {
   "cell_type": "code",
   "execution_count": 15,
   "metadata": {},
   "outputs": [],
   "source": [
    "# Loaded Net\n",
    "# Test passing network config as path and as object\n",
    "\n",
    "jax_infer = lanfactory.trainers.MLPJaxFactory(\n",
    "\t            network_config=network_config,\n",
    "                train=False,\n",
    "            )"
   ]
  },
  {
   "cell_type": "code",
   "execution_count": 17,
   "metadata": {},
   "outputs": [],
   "source": [
    "# Test passing train state as path and as object\n",
    "forward_pass, forward_pass_jitted = jax_infer.make_forward_partial(\n",
    "    seed=42,\n",
    "    input_dim=model_config[\"n_params\"] + 2,\n",
    "    state=os.path.join(MODEL_FOLDER,\n",
    "\t\t\t\t\t   \"jax_lan_\" + MODEL + \"__train_state.jax\"),\n",
    "    add_jitted=True,\n",
    ")"
   ]
  },
  {
   "cell_type": "code",
   "execution_count": 22,
   "metadata": {},
   "outputs": [],
   "source": [
    "import jax.numpy as jnp\n",
    "\n",
    "# Test parameters:\n",
    "theta = deepcopy(ssms.config.model_config[MODEL][\"default_params\"])\n",
    "\n",
    "# Comparison simulator run\n",
    "sim_out = ssms.basic_simulators.simulator.simulator(\n",
    "    model=MODEL, theta=theta, n_samples=50000\n",
    ")\n",
    "\n",
    "# Make input matrix\n",
    "input_mat = jnp.zeros((2000, len(theta) + 2))\n",
    "for i in range(len(theta)):\n",
    "    input_mat = input_mat.at[:, i].set(jnp.ones(2000) * theta[i])\n",
    "\n",
    "input_mat = input_mat.at[:, len(theta)].set(\n",
    "    jnp.array(\n",
    "        np.concatenate(\n",
    "            [\n",
    "                np.linspace(5, 0, 1000).astype(np.float32),\n",
    "                np.linspace(0, 5, 1000).astype(np.float32),\n",
    "            ]\n",
    "        )\n",
    "    )\n",
    ")\n",
    "input_mat = input_mat.at[:, len(theta) + 1].set(\n",
    "    jnp.array(\n",
    "        np.concatenate([np.repeat(-1.0, 1000), np.repeat(1.0, 1000)]).astype(np.float32)\n",
    "    )\n",
    ")\n",
    "\n",
    "net_out = forward_pass_jitted(input_mat)"
   ]
  },
  {
   "cell_type": "code",
   "execution_count": 23,
   "metadata": {},
   "outputs": [
    {
     "data": {
      "text/plain": [
       "(array([1.20920274e-04, 1.20920274e-04, 1.20920274e-04, 1.20920274e-04,\n",
       "        2.41840549e-04, 2.41840549e-04, 3.62760823e-04, 1.20920274e-04,\n",
       "        3.62760823e-04, 2.41840549e-04, 4.83681098e-04, 4.83681098e-04,\n",
       "        4.83681098e-04, 1.08828247e-03, 4.83681098e-04, 6.04601372e-04,\n",
       "        1.57196357e-03, 1.08828247e-03, 2.90208659e-03, 1.81380412e-03,\n",
       "        2.53932576e-03, 4.23220960e-03, 3.50668796e-03, 3.86944878e-03,\n",
       "        6.77153537e-03, 6.04601372e-03, 7.37613674e-03, 1.03991436e-02,\n",
       "        1.24547883e-02, 1.37849113e-02, 1.47522735e-02, 2.28539319e-02,\n",
       "        2.64815401e-02, 3.01091483e-02, 3.91781689e-02, 4.82471895e-02,\n",
       "        5.84044925e-02, 7.20684835e-02, 8.46441921e-02, 1.01452110e-01,\n",
       "        1.33737823e-01, 1.57438197e-01, 1.93956120e-01, 2.31320485e-01,\n",
       "        2.87669333e-01, 3.27331183e-01, 4.03027275e-01, 4.46316733e-01,\n",
       "        2.71103255e-01, 5.44141235e-03, 2.16568211e-01, 4.34224705e-01,\n",
       "        4.17054026e-01, 3.46557506e-01, 2.95287310e-01, 2.27692877e-01,\n",
       "        1.96011765e-01, 1.57075436e-01, 1.32528621e-01, 1.01452110e-01,\n",
       "        8.94810031e-02, 7.08592808e-02, 5.90090939e-02, 4.51032624e-02,\n",
       "        3.72434445e-02, 2.95045470e-02, 2.64815401e-02, 2.29748521e-02,\n",
       "        2.01936858e-02, 1.41476721e-02, 1.06409841e-02, 9.91546250e-03,\n",
       "        8.70625976e-03, 7.98073811e-03, 4.83681098e-03, 4.83681098e-03,\n",
       "        4.35312988e-03, 3.74852851e-03, 1.57196357e-03, 1.45104329e-03,\n",
       "        1.33012302e-03, 7.25521646e-04, 1.33012302e-03, 1.08828247e-03,\n",
       "        8.46441921e-04, 9.67362195e-04, 6.04601372e-04, 1.08828247e-03,\n",
       "        2.41840549e-04, 1.20920274e-04, 2.41840549e-04, 1.20920274e-04,\n",
       "        1.20920274e-04, 0.00000000e+00, 0.00000000e+00, 0.00000000e+00,\n",
       "        0.00000000e+00, 0.00000000e+00, 0.00000000e+00, 1.20920274e-04]),\n",
       " array([-8.19598579, -8.03058756, -7.86518932, -7.69979109, -7.53439285,\n",
       "        -7.36899462, -7.20359638, -7.03819815, -6.87279991, -6.70740168,\n",
       "        -6.54200344, -6.37660521, -6.21120697, -6.04580873, -5.8804105 ,\n",
       "        -5.71501226, -5.54961403, -5.38421579, -5.21881756, -5.05341932,\n",
       "        -4.88802109, -4.72262285, -4.55722462, -4.39182638, -4.22642815,\n",
       "        -4.06102991, -3.89563168, -3.73023344, -3.56483521, -3.39943697,\n",
       "        -3.23403873, -3.0686405 , -2.90324226, -2.73784403, -2.57244579,\n",
       "        -2.40704756, -2.24164932, -2.07625109, -1.91085285, -1.74545462,\n",
       "        -1.58005638, -1.41465815, -1.24925991, -1.08386168, -0.91846344,\n",
       "        -0.7530652 , -0.58766697, -0.42226873, -0.2568705 , -0.09147226,\n",
       "         0.07392597,  0.23932421,  0.40472244,  0.57012068,  0.73551891,\n",
       "         0.90091715,  1.06631538,  1.23171362,  1.39711185,  1.56251009,\n",
       "         1.72790833,  1.89330656,  2.0587048 ,  2.22410303,  2.38950127,\n",
       "         2.5548995 ,  2.72029774,  2.88569597,  3.05109421,  3.21649244,\n",
       "         3.38189068,  3.54728891,  3.71268715,  3.87808538,  4.04348362,\n",
       "         4.20888186,  4.37428009,  4.53967833,  4.70507656,  4.8704748 ,\n",
       "         5.03587303,  5.20127127,  5.3666695 ,  5.53206774,  5.69746597,\n",
       "         5.86286421,  6.02826244,  6.19366068,  6.35905891,  6.52445715,\n",
       "         6.68985538,  6.85525362,  7.02065186,  7.18605009,  7.35144833,\n",
       "         7.51684656,  7.6822448 ,  7.84764303,  8.01304127,  8.1784395 ,\n",
       "         8.34383774]),\n",
       " [<matplotlib.patches.Polygon at 0x2fb8b9010>])"
      ]
     },
     "execution_count": 23,
     "metadata": {},
     "output_type": "execute_result"
    },
    {
     "data": {
      "image/png": "[encoded data removed]",
      "text/plain": [
       "<Figure size 640x480 with 1 Axes>"
      ]
     },
     "metadata": {},
     "output_type": "display_data"
    }
   ],
   "source": [
    "from matplotlib import pyplot as plt\n",
    "\n",
    "# Plot network log likelihood\n",
    "plt.plot(np.linspace(-5, 5, 2000).astype(np.float32), np.exp(net_out));\n",
    "\n",
    "# Plot simulation histogram\n",
    "plt.hist(\n",
    "    sim_out[\"rts\"] * sim_out[\"choices\"],\n",
    "    bins=100,\n",
    "    histtype=\"step\",\n",
    "    fill=None,\n",
    "    density=True,\n",
    ");"
   ]
  }
 ],
 "metadata": {
  "kernelspec": {
   "display_name": ".venv",
   "language": "python",
   "name": "python3"
  },
  "language_info": {
   "codemirror_mode": {
    "name": "ipython",
    "version": 3
   },
   "file_extension": ".py",
   "mimetype": "text/x-python",
   "name": "python",
   "nbconvert_exporter": "python",
   "pygments_lexer": "ipython3",
   "version": "3.11.12"
  },
  "orig_nbformat": 4
 },
 "nbformat": 4,
 "nbformat_minor": 2
}
