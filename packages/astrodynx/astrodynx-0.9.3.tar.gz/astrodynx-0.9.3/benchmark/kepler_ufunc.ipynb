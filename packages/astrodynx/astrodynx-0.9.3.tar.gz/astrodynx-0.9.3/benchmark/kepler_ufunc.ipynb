{
 "cells": [
  {
   "cell_type": "code",
   "execution_count": null,
   "id": "0cfb1372",
   "metadata": {},
   "outputs": [
    {
     "data": {
      "text/plain": [
       "[CudaDevice(id=0), CudaDevice(id=1)]"
      ]
     },
     "execution_count": 1,
     "metadata": {},
     "output_type": "execute_result"
    }
   ],
   "source": [
    "from jax import numpy as jnp\n",
    "from astrodynx.twobody.ivp import U3\n",
    "import jax\n",
    "from jax.typing import ArrayLike\n",
    "from jax import Array\n",
    "\n",
    "\n",
    "jax.config.update(\"jax_enable_x64\", True)\n",
    "jax.devices()"
   ]
  },
  {
   "cell_type": "code",
   "execution_count": 2,
   "id": "c23029b6",
   "metadata": {},
   "outputs": [],
   "source": [
    "def U3v2(chi: ArrayLike, alpha: ArrayLike) -> Array:\n",
    "    alpha_c = jax.lax.complex(alpha, 0.0)\n",
    "    return jnp.where(\n",
    "        alpha == 0.0,\n",
    "        chi**3 / 6.0,\n",
    "        jax.lax.real(\n",
    "            (jnp.sqrt(alpha_c) * chi - jnp.sin(jnp.sqrt(alpha_c) * chi))\n",
    "            / alpha_c\n",
    "            / jnp.sqrt(alpha_c)\n",
    "        ),\n",
    "    )\n",
    "\n",
    "\n",
    "# --- JIT 编译版本 ---\n",
    "U3_jit = jax.jit(U3)\n",
    "U3v2_jit = jax.jit(U3v2)"
   ]
  },
  {
   "cell_type": "code",
   "execution_count": 3,
   "id": "fb99fdca",
   "metadata": {},
   "outputs": [
    {
     "name": "stdout",
     "output_type": "stream",
     "text": [
      "Testing with chi grid shape: (100, 100)\n",
      "Testing with alpha grid shape: (100, 100)\n",
      "\n",
      "✅ 测试通过：两个函数的结果在容差范围内一致。\n"
     ]
    }
   ],
   "source": [
    "# --- 测试代码 ---\n",
    "def run_test():\n",
    "    # 使用一个固定的随机种子以保证测试的可复现性\n",
    "    key = jax.random.PRNGKey(0)\n",
    "\n",
    "    # 生成测试数据\n",
    "    # chi 可以是任意值\n",
    "    chi_values = jax.random.uniform(key, shape=(100,), minval=-10.0, maxval=10.0)\n",
    "\n",
    "    # alpha 的值需要覆盖 >0, <0, 和 =0 三种情况\n",
    "    key, subkey = jax.random.split(key)\n",
    "    alpha_pos = jax.random.uniform(subkey, shape=(50,), minval=0.1, maxval=20.0)\n",
    "    key, subkey = jax.random.split(key)\n",
    "    alpha_neg = jax.random.uniform(subkey, shape=(49,), minval=-20.0, maxval=-0.1)\n",
    "    alpha_zero = jnp.array([0.0])\n",
    "    alpha_values = jnp.concatenate([alpha_pos, alpha_neg, alpha_zero])\n",
    "\n",
    "    # 为了测试所有 chi 和 alpha 的组合，我们创建网格\n",
    "    chi_grid, alpha_grid = jnp.meshgrid(chi_values, alpha_values)\n",
    "\n",
    "    print(f\"Testing with chi grid shape: {chi_grid.shape}\")\n",
    "    print(f\"Testing with alpha grid shape: {alpha_grid.shape}\")\n",
    "\n",
    "    result1 = U3_jit(chi_grid, alpha_grid)\n",
    "    result2 = U3v2_jit(chi_grid, alpha_grid)\n",
    "\n",
    "    # 检查结果是否“足够接近”\n",
    "    # jnp.allclose 会逐元素比较，看它们的差是否在容差 (tolerance) 以内\n",
    "    are_they_close = jnp.allclose(result1, result2, atol=1e-6, rtol=1e-6)\n",
    "\n",
    "    if are_they_close:\n",
    "        print(\"\\n✅ 测试通过：两个函数的结果在容差范围内一致。\")\n",
    "    else:\n",
    "        print(\"\\n❌ 测试失败：两个函数的结果不一致。\")\n",
    "        # 找出不一致的地方以便调试\n",
    "        diff = jnp.abs(result1 - result2)\n",
    "        max_diff = jnp.max(diff)\n",
    "        print(f\"最大差值: {max_diff}\")\n",
    "\n",
    "        # 找到最大差异发生的位置\n",
    "        idx = jnp.unravel_index(jnp.argmax(diff), diff.shape)\n",
    "        print(f\"最大差异发生在索引 {idx} 处\")\n",
    "        print(f\"  - chi: {chi_grid[idx]}\")\n",
    "        print(f\"  - alpha: {alpha_grid[idx]}\")\n",
    "        print(f\"  - U3 result: {result1[idx]}\")\n",
    "        print(f\"  - U3_ result:   {result2[idx]}\")\n",
    "\n",
    "\n",
    "run_test()"
   ]
  },
  {
   "cell_type": "code",
   "execution_count": 4,
   "id": "4465ff73",
   "metadata": {},
   "outputs": [
    {
     "data": {
      "text/plain": [
       "Array([3.24633870e+01, 1.07914181e+00, 6.30361776e+00, 1.30161151e+01,\n",
       "       8.48328728e-01, 1.55862004e+00, 3.84984327e+00, 1.15542347e+00,\n",
       "       8.34801777e-03, 4.98232697e+00], dtype=float64)"
      ]
     },
     "execution_count": 4,
     "metadata": {},
     "output_type": "execute_result"
    }
   ],
   "source": [
    "# --- 准备测试数据 ---\n",
    "key = jax.random.PRNGKey(0)\n",
    "key_chi, key_alpha = jax.random.split(key)\n",
    "\n",
    "# 创建一个包含 10 万个元素的大数组\n",
    "N = 1_000_00\n",
    "chi = jax.random.uniform(key_chi, (N,)) * jnp.pi * 2\n",
    "\n",
    "# 案例 1: 所有 alpha > 0\n",
    "alpha_pos = jax.random.uniform(key_alpha, (N,))\n",
    "\n",
    "# 案例 2: 所有 alpha < 0\n",
    "alpha_neg = -jax.random.uniform(key_alpha, (N,))\n",
    "\n",
    "# 案例 3: alpha 正负混合\n",
    "alpha_mix = jax.random.normal(key_alpha, (N,))\n",
    "\n",
    "# 确保 JIT 编译已完成（预热）\n",
    "U3_jit(chi[:10], alpha_pos[:10]).block_until_ready()\n",
    "U3v2_jit(chi[:10], alpha_pos[:10]).block_until_ready()"
   ]
  },
  {
   "cell_type": "code",
   "execution_count": 5,
   "id": "848ad4bc",
   "metadata": {},
   "outputs": [
    {
     "name": "stdout",
     "output_type": "stream",
     "text": [
      "86.6 μs ± 7.51 μs per loop (mean ± std. dev. of 7 runs, 10,000 loops each)\n",
      "The slowest run took 6.69 times longer than the fastest. This could mean that an intermediate result is being cached.\n",
      "345 μs ± 287 μs per loop (mean ± std. dev. of 7 runs, 1 loop each)\n"
     ]
    }
   ],
   "source": [
    "%timeit U3_jit(chi, alpha_pos).block_until_ready()\n",
    "\n",
    "%timeit U3v2_jit(chi, alpha_pos).block_until_ready()"
   ]
  },
  {
   "cell_type": "code",
   "execution_count": 6,
   "id": "81d19b67",
   "metadata": {},
   "outputs": [
    {
     "name": "stdout",
     "output_type": "stream",
     "text": [
      "89.2 μs ± 6.64 μs per loop (mean ± std. dev. of 7 runs, 10,000 loops each)\n",
      "199 μs ± 4.47 μs per loop (mean ± std. dev. of 7 runs, 1,000 loops each)\n"
     ]
    }
   ],
   "source": [
    "%timeit U3_jit(chi, alpha_neg).block_until_ready()\n",
    "\n",
    "%timeit U3v2_jit(chi, alpha_neg).block_until_ready()"
   ]
  },
  {
   "cell_type": "code",
   "execution_count": 7,
   "id": "227d2e95",
   "metadata": {},
   "outputs": [
    {
     "name": "stdout",
     "output_type": "stream",
     "text": [
      "92.9 μs ± 4.3 μs per loop (mean ± std. dev. of 7 runs, 10,000 loops each)\n",
      "194 μs ± 15.7 μs per loop (mean ± std. dev. of 7 runs, 10,000 loops each)\n"
     ]
    }
   ],
   "source": [
    "%timeit U3_jit(chi, alpha_mix).block_until_ready()\n",
    "\n",
    "%timeit U3v2_jit(chi, alpha_mix).block_until_ready()"
   ]
  }
 ],
 "metadata": {
  "kernelspec": {
   "display_name": "Python 3",
   "language": "python",
   "name": "python3"
  },
  "language_info": {
   "codemirror_mode": {
    "name": "ipython",
    "version": 3
   },
   "file_extension": ".py",
   "mimetype": "text/x-python",
   "name": "python",
   "nbconvert_exporter": "python",
   "pygments_lexer": "ipython3",
   "version": "3.12.3"
  }
 },
 "nbformat": 4,
 "nbformat_minor": 5
}
