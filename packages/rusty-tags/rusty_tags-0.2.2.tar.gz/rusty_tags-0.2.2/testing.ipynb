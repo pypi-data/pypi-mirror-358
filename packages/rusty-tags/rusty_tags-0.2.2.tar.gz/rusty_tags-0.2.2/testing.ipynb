{
 "cells": [
  {
   "cell_type": "raw",
   "metadata": {
    "vscode": {
     "languageId": "raw"
    }
   },
   "source": [
    "# Testing Rust Implementation\n",
    "\n",
    "Let's test our new Rust-based Tag system and compare it with the Python version.\n"
   ]
  },
  {
   "cell_type": "code",
   "execution_count": 1,
   "metadata": {},
   "outputs": [
    {
     "name": "stdout",
     "output_type": "stream",
     "text": [
      "Rust Tag: <tag id=\"rust-tag\" class=\"greeting\">Hello from Rust!</tag>\n",
      "Name: tag\n",
      "Attrs:  id=\"rust-tag\" class=\"greeting\"\n"
     ]
    }
   ],
   "source": [
    "# Import the Rust implementation\n",
    "from rusty_tags import *\n",
    "\n",
    "# Test basic tag creation\n",
    "rust_tag = Tag(\"Hello from Rust!\", cls=\"greeting\", id=\"rust-tag\")\n",
    "print(\"Rust Tag:\", rust_tag.render())\n",
    "print(\"Name:\", rust_tag.name)\n",
    "print(\"Attrs:\", rust_tag.attrs)\n"
   ]
  },
  {
   "cell_type": "code",
   "execution_count": 2,
   "metadata": {},
   "outputs": [
    {
     "name": "stdout",
     "output_type": "stream",
     "text": [
      "Rust Nested: <div style=\"color: blue\">Outer text<span class=\"inner\">Inner content</span> more text</div>\n"
     ]
    },
    {
     "data": {
      "text/html": [
       "<div style=\"color: blue\">Outer text<span class=\"inner\">Inner content</span> more text</div>"
      ],
      "text/plain": [
       "<div style=\"color: blue\">Outer text<span class=\"inner\">Inner content</span> more text</div>"
      ]
     },
     "execution_count": 2,
     "metadata": {},
     "output_type": "execute_result"
    }
   ],
   "source": [
    "# Test nested tags in Rust\n",
    "rust_nested = Div(\n",
    "    \"Outer text\",\n",
    "    Span(\"Inner content\", cls=\"inner\"),\n",
    "    \" more text\",\n",
    "    style=\"color: blue\"\n",
    ")\n",
    "print(\"Rust Nested:\", rust_nested.render())\n",
    "rust_nested\n"
   ]
  },
  {
   "cell_type": "code",
   "execution_count": 6,
   "metadata": {},
   "outputs": [
    {
     "name": "stdout",
     "output_type": "stream",
     "text": [
      "Mixed children: <tag data-value=\"test\">String423.14<tag>Another tag</tag></tag>\n"
     ]
    }
   ],
   "source": [
    "# Test different child types\n",
    "rust_mixed = Tag(\n",
    "    \"String\",\n",
    "    42,\n",
    "    3.14,\n",
    "    \n",
    "    Tag(\"Another tag\"),\n",
    "    data_value=\"test\"\n",
    ")\n",
    "print(\"Mixed children:\", rust_mixed.render())\n"
   ]
  },
  {
   "cell_type": "code",
   "execution_count": 7,
   "metadata": {},
   "outputs": [
    {
     "name": "stdout",
     "output_type": "stream",
     "text": [
      "Attribute mapping: <tag data-test=\"value\" for=\"input-id\" class=\"other-class\" class=\"my-class\">Content</tag>\n"
     ]
    }
   ],
   "source": [
    "# Test attribute mapping\n",
    "rust_attrs = Tag(\n",
    "    \"Content\",\n",
    "    cls=\"my-class\",          # Should become class\n",
    "    _class=\"other-class\",    # Should become class\n",
    "    _for=\"input-id\",         # Should become for\n",
    "    data_test=\"value\"        # Should become data-test\n",
    ")\n",
    "print(\"Attribute mapping:\", rust_attrs.render())\n"
   ]
  },
  {
   "cell_type": "code",
   "execution_count": 9,
   "metadata": {},
   "outputs": [
    {
     "name": "stdout",
     "output_type": "stream",
     "text": [
      "Available Rust tags: ['A', 'B', 'H1', 'H2', 'H3', 'H4', 'H5', 'H6', 'I', 'P']\n",
      "\n",
      "Form demo:\n",
      "<form action=\"/submit\" method=\"post\"><label for=\"email\">Email:</label><input name=\"email\" type=\"email\" id=\"email\"></input><button type=\"submit\">Submit</button></form>\n"
     ]
    }
   ],
   "source": [
    "# Test all available HTML tags\n",
    "import rusty_tags\n",
    "print(\"Available Rust tags:\", [name for name in dir(rusty_tags) if not name.startswith('_') and name.isupper()])\n",
    "\n",
    "# Test form elements\n",
    "form_demo = Form(\n",
    "    Label(\"Email:\", _for=\"email\"),\n",
    "    Input(type=\"email\", id=\"email\", name=\"email\"),\n",
    "    Button(\"Submit\", type=\"submit\"),\n",
    "    action=\"/submit\",\n",
    "    method=\"post\"\n",
    ")\n",
    "print(\"\\nForm demo:\")\n",
    "print(form_demo.render())\n"
   ]
  },
  {
   "cell_type": "code",
   "execution_count": 19,
   "metadata": {},
   "outputs": [
    {
     "name": "stdout",
     "output_type": "stream",
     "text": [
      "Rust time: 0.0870s\n",
      "Python time: 0.0136s\n",
      "Speedup: 0.2x faster\n"
     ]
    }
   ],
   "source": [
    "# Performance comparison setup\n",
    "import time\n",
    "from air import Div as PyDiv, Span as PySpan, H1 as PyH1, P as PyP\n",
    "\n",
    "def test_rust_performance(iterations=1000):\n",
    "    start = time.time()\n",
    "    for i in range(iterations):\n",
    "        content = Div(\n",
    "            H1(f\"Title {i}\"),\n",
    "            P(\"Some content here\", cls=\"content\"),\n",
    "            Span(f\"Item {i}\", data_index=str(i)),\n",
    "            cls=\"container\"\n",
    "        )\n",
    "        _ = content.render()\n",
    "    return time.time() - start\n",
    "\n",
    "def test_python_performance(iterations=1000):\n",
    "    start = time.time()\n",
    "    for i in range(iterations):\n",
    "        content = PyDiv(\n",
    "            PyH1(f\"Title {i}\"),\n",
    "            PyP(\"Some content here\", cls=\"content\"),\n",
    "            PySpan(f\"Item {i}\", data_index=str(i)),\n",
    "            cls=\"container\"\n",
    "        )\n",
    "        _ = content.render()\n",
    "    return time.time() - start\n",
    "\n",
    "rust_time = test_rust_performance()\n",
    "python_time = test_python_performance()\n",
    "\n",
    "print(f\"Rust time: {rust_time:.4f}s\")\n",
    "print(f\"Python time: {python_time:.4f}s\") \n",
    "print(f\"Speedup: {python_time/rust_time:.1f}x faster\")\n"
   ]
  }
 ],
 "metadata": {
  "kernelspec": {
   "display_name": ".venv",
   "language": "python",
   "name": "python3"
  },
  "language_info": {
   "codemirror_mode": {
    "name": "ipython",
    "version": 3
   },
   "file_extension": ".py",
   "mimetype": "text/x-python",
   "name": "python",
   "nbconvert_exporter": "python",
   "pygments_lexer": "ipython3",
   "version": "3.12.9"
  }
 },
 "nbformat": 4,
 "nbformat_minor": 2
}
