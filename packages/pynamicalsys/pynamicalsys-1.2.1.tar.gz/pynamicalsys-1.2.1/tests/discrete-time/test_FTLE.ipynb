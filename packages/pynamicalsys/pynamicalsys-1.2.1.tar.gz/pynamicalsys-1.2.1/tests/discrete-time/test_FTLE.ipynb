{
 "cells": [
  {
   "cell_type": "code",
   "execution_count": 2,
   "id": "c7c2d019",
   "metadata": {},
   "outputs": [],
   "source": [
    "import numpy as np\n",
    "import matplotlib.pyplot as plt\n",
    "from pycandy import DiscreteDynamicalSystem as dds"
   ]
  },
  {
   "cell_type": "code",
   "execution_count": 8,
   "id": "173f8df7",
   "metadata": {},
   "outputs": [],
   "source": [
    "ds = dds(model=\"standard map\")\n",
    "u = np.array([0.2, 0.5])\n",
    "parameters = np.array([1.5])\n",
    "N = int(1e8)\n",
    "n = 100"
   ]
  },
  {
   "cell_type": "code",
   "execution_count": 9,
   "id": "26545272",
   "metadata": {},
   "outputs": [
    {
     "name": "stdout",
     "output_type": "stream",
     "text": [
      "CPU times: user 41.1 s, sys: 217 ms, total: 41.3 s\n",
      "Wall time: 41.5 s\n"
     ]
    }
   ],
   "source": [
    "%%time\n",
    "ftle = ds.finite_time_lyapunov(u, N, n, parameters=parameters)"
   ]
  },
  {
   "cell_type": "code",
   "execution_count": 10,
   "id": "a89eeaa8",
   "metadata": {},
   "outputs": [
    {
     "data": {
      "image/png": "[encoded data removed]",
      "text/plain": [
       "<Figure size 640x480 with 1 Axes>"
      ]
     },
     "metadata": {},
     "output_type": "display_data"
    }
   ],
   "source": [
    "plt.hist(ftle[:, 0], bins=\"auto\", density=True);\n",
    "plt.hist(ftle[:, 1], bins=\"auto\", density=True);"
   ]
  },
  {
   "cell_type": "code",
   "execution_count": null,
   "id": "fe391306",
   "metadata": {},
   "outputs": [],
   "source": []
  }
 ],
 "metadata": {
  "kernelspec": {
   "display_name": "base",
   "language": "python",
   "name": "python3"
  },
  "language_info": {
   "codemirror_mode": {
    "name": "ipython",
    "version": 3
   },
   "file_extension": ".py",
   "mimetype": "text/x-python",
   "name": "python",
   "nbconvert_exporter": "python",
   "pygments_lexer": "ipython3",
   "version": "3.12.2"
  }
 },
 "nbformat": 4,
 "nbformat_minor": 5
}
