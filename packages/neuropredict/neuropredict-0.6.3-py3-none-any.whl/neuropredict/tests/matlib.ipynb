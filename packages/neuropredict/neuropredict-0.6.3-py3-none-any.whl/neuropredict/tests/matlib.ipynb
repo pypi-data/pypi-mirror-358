{
 "cells": [
  {
   "cell_type": "code",
   "execution_count": null,
   "id": "initial_id",
   "metadata": {
    "collapsed": true
   },
   "outputs": [],
   "source": [
    ""
   ]
  },
  {
   "metadata": {
    "ExecuteTime": {
     "end_time": "2025-06-26T15:14:18.083808Z",
     "start_time": "2025-06-26T15:14:18.078260Z"
    }
   },
   "cell_type": "code",
   "source": [
    "import numpy as np\n",
    "import numpy.matlib\n",
    "\n",
    "# Example confusion matrix average for 3 classes\n",
    "avg_cfmat = np.array([\n",
    "    [5, 1, 0],\n",
    "    [2, 6, 1],\n",
    "    [0, 3, 7]\n",
    "])\n",
    "num_classes = avg_cfmat.shape[0]"
   ],
   "id": "11f31dd29cbdc569",
   "outputs": [],
   "execution_count": 2
  },
  {
   "metadata": {
    "ExecuteTime": {
     "end_time": "2025-06-26T15:14:19.380318Z",
     "start_time": "2025-06-26T15:14:19.377521Z"
    }
   },
   "cell_type": "code",
   "source": [
    "class_size_elementwise_old = np.transpose(\n",
    "    np.matlib.repmat(np.sum(avg_cfmat, axis=1), num_classes, 1)\n",
    ")"
   ],
   "id": "7cc0c0ea33d80f73",
   "outputs": [],
   "execution_count": 3
  },
  {
   "metadata": {
    "ExecuteTime": {
     "end_time": "2025-06-26T15:14:21.141334Z",
     "start_time": "2025-06-26T15:14:21.137739Z"
    }
   },
   "cell_type": "code",
   "source": [
    "class_sums = np.sum(avg_cfmat, axis=1, keepdims=True)\n",
    "class_size_elementwise_new = np.tile(class_sums, (1, num_classes))"
   ],
   "id": "59dd4f9875c89181",
   "outputs": [],
   "execution_count": 4
  },
  {
   "metadata": {
    "ExecuteTime": {
     "end_time": "2025-06-26T15:14:22.223775Z",
     "start_time": "2025-06-26T15:14:22.217990Z"
    }
   },
   "cell_type": "code",
   "source": [
    "print(np.allclose(class_size_elementwise_old, class_size_elementwise_new))  # Should print: True\n",
    "print(class_size_elementwise_old)\n",
    "print(class_size_elementwise_new)"
   ],
   "id": "b02e3715220c37fd",
   "outputs": [
    {
     "name": "stdout",
     "output_type": "stream",
     "text": [
      "True\n",
      "[[ 6  6  6]\n",
      " [ 9  9  9]\n",
      " [10 10 10]]\n",
      "[[ 6  6  6]\n",
      " [ 9  9  9]\n",
      " [10 10 10]]\n"
     ]
    }
   ],
   "execution_count": 5
  },
  {
   "metadata": {},
   "cell_type": "code",
   "outputs": [],
   "execution_count": null,
   "source": "",
   "id": "9d87c899772b0ac7"
  }
 ],
 "metadata": {
  "kernelspec": {
   "display_name": "Python 3",
   "language": "python",
   "name": "python3"
  },
  "language_info": {
   "codemirror_mode": {
    "name": "ipython",
    "version": 2
   },
   "file_extension": ".py",
   "mimetype": "text/x-python",
   "name": "python",
   "nbconvert_exporter": "python",
   "pygments_lexer": "ipython2",
   "version": "2.7.6"
  }
 },
 "nbformat": 4,
 "nbformat_minor": 5
}
