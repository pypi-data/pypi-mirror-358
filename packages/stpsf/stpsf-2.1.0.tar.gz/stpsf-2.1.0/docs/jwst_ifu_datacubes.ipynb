{
 "cells": [
  {
   "cell_type": "markdown",
   "id": "74185321-c269-45be-96c5-6e39e8d317ee",
   "metadata": {},
   "source": [
    "# Simulating IFU mode and Datacubes"
   ]
  },
  {
   "cell_type": "markdown",
   "id": "54d3884f-b190-43b3-9dff-f169c4833678",
   "metadata": {},
   "source": [
    "This page describes how to simulate IFU mode data and spectral datacubes for JWST's NIRSpec IFU and MIRI MRS.\n",
    "\n",
    "<div class=\"alert alert-info\">\n",
    "IFU support is a relatively recent addition, and efforts are still in progress to refine and improve the fidelity of IFU mode simulations. \n",
    "</div>\n",
    "\n",
    "\n",
    "## Selecting IFU mode simulations\n",
    "\n",
    "These instruments have a `mode` attribute, which can be set to either 'IFU' or 'imaging'. Selecting IFU mode has the following effects:\n",
    "\n",
    " - The normal `filter` attribute for selecting spectral bandpass is superceded by a `band` attribute for selected IFU bands, the specific details of which differ for NIRSpec and MIRI. A `get_IFU_wavelengths()` function is added, which allows looking up the wavelength range for each band. \n",
    " - The PSF simulation gets an added step for adding \"IFU broadening\" effects, which are empirical models for slightly broadening/blurring the simulated PSF to better match the observed PSF FWHMs. Physically this is a simplified model for optical blurring effects due to imperfect wavefront quality in the IFU image slicer optics, for example.\n",
    " - For NIRSpec IFU simulations only, the PSF output is rotated by an additional 90 degrees to match the orientation of JWST pipeline output dataproducts created with the \"orient='IFUalign'\" option in the Cube Build step."
   ]
  },
  {
   "cell_type": "markdown",
   "id": "4eac3034-b525-4576-b3c8-ddfd02d7a7b7",
   "metadata": {},
   "source": [
    "Note there are *three options* for computing PSFs in IFU mode. \n",
    "\n",
    "1. If you only need one wavelength, use regular `calc_psf()` with the `monochromatic` keyword to specify a wavelength.\n",
    "2. If you want a datacube at all wavelengths, use `calc_datacube()` with a list or array of wavelengths. This is the recommended path for many typical use cases. \n",
    "3. If you want a datacube at all wavelengths, you can also use `calc_datacube_fast()` which achieves a much-faster calculation runtime by making a simplifying assumption in the optical calculation, and currently by not including the detector effects or distortion modeling steps.\n",
    "  \n",
    "   *  Specifically, it assumes that the wavefront optical path difference in the IFU exit pupil is independent of wavelength. This assumption is reasonably true for both MIRI and NIRSpec IFU modes within the current level of fidelity."
   ]
  },
  {
   "cell_type": "markdown",
   "id": "ef5ecc18-2412-4ca3-bb1f-7f1c8ee8f9e6",
   "metadata": {
    "editable": true,
    "slideshow": {
     "slide_type": ""
    },
    "tags": []
   },
   "source": [
    "## Datacube Coordinate Frames for IFU PSFs: SkyAlign vs IFUAlign\n",
    "\n",
    "<div class=\"alert alert-warning\">\n",
    "STPSF is intended to simulate IFU PSFs in <I>IFUAlign</I> orientation only.\n",
    "</div>\n",
    "\n",
    "For IFU observations, the JWST pipeline ``cube_build`` step (see [pipeline docs](https://jwst-pipeline.readthedocs.io/en/latest/jwst/cube_build/main.html)) can produce output datacubes in two different reference frames or orientations: \n",
    "\n",
    " - ``coord_system='skyalign'``. In these cubes, north is up and east is left. This is the default orientation.\n",
    " - ``coord_system='ifualign'``. These cubes are build on the local IFU slicer plane's native coordinate system. The X and Y coordinates corresponds to the along-slice and across-slice directions, respectively (which are often labeled as the $\\alpha$ and $\\beta$ axes for MIRI MRS; see [JDox](https://jwst-docs.stsci.edu/jwst-mid-infrared-instrument/miri-instrumentation/miri-mrs-field-and-coordinates#MIRIMRSFieldandCoordinates-CoordinatesMRScoordinateframes).)\n",
    "\n",
    "<B>PSF simulations are always produced in the ifualign orientation only.</b> For PSF modeling work, we recommend reducing your science data using the ifualign frame. This allows PSF models and orientations to be consistent between multiple datasets, independent of position angles on the sky. \n",
    "\n",
    "If your science data has been reduced in skyalign frame, you can rotate the PSF based on the aperture position angle to match your data. However this will introduce numerical interpolation noise, particularly for spatially undersampled IFU data. That can be avoided by working in IFUalign frame, as we recommend here. \n",
    "\n",
    "\n",
    "**Pixelscales:** By default, IFU PSFs are made using the same default pixel scales as the pipeline defaults (0.1 arcsec/pixel for NIRSpec, and variously 0.13 - 0.35 arcsec/pixel for MIRI depending on which MRS channel). If you have reduced your science data using a different pixelscale in the JWST pipeline, e.g. 0.123 arcsec/pix, simply set e.g. `miri.pixelscale = 0.123` to the same value for creating the PSF model. "
   ]
  },
  {
   "cell_type": "code",
   "execution_count": 1,
   "id": "7ce1366f-dcc8-47b7-9e73-f0ebbee3f1ba",
   "metadata": {
    "editable": true,
    "nbsphinx": "hidden",
    "slideshow": {
     "slide_type": ""
    },
    "tags": []
   },
   "outputs": [
    {
     "name": "stderr",
     "output_type": "stream",
     "text": [
      "**WARNING**: LOCAL JWST PRD VERSION PRDOPSSOC-065 DOESN'T MATCH THE CURRENT ONLINE VERSION PRDOPSSOC-067\n",
      "Please consider updating pysiaf, e.g. pip install --upgrade pysiaf or conda update pysiaf\n"
     ]
    }
   ],
   "source": [
    "%matplotlib inline\n",
    "import stpsf\n",
    "import astropy.units as u"
   ]
  },
  {
   "cell_type": "markdown",
   "id": "e25e70a8-7a8b-456f-9719-e52951207bac",
   "metadata": {},
   "source": [
    "## NIRSpec IFU example\n",
    "\n",
    "For NIRSpec, the `band` attribute is derived from the `prism` and `disperser` elements. "
   ]
  },
  {
   "cell_type": "code",
   "execution_count": 2,
   "id": "b3ec32d8-5ede-46fb-8f51-da8c06039fbe",
   "metadata": {},
   "outputs": [
    {
     "name": "stdout",
     "output_type": "stream",
     "text": [
      "Band is PRISM/CLEAR\n"
     ]
    }
   ],
   "source": [
    "nrs = stpsf.NIRSpec()\n",
    "nrs.mode = 'IFU'\n",
    "\n",
    "nrs.disperser = 'PRISM'\n",
    "nrs.filter = 'CLEAR'\n",
    "print(\"Band is\", nrs.band)"
   ]
  },
  {
   "cell_type": "markdown",
   "id": "d950963b-b4df-42ff-8729-04ad44e17889",
   "metadata": {},
   "source": [
    "The wavelength sampling can be obtained using the `get_IFU_wavelengths()` function.  By default this returns the same wavelength sampling as the pipeline uses. But if desired you can also specify some other number of wavelengths `nlambda`, for instance to reduce simulation runtimes when the full spectral resolution is not needed. "
   ]
  },
  {
   "cell_type": "code",
   "execution_count": 3,
   "id": "e68eb5e3-229f-4bcf-a8a0-5133788ba767",
   "metadata": {},
   "outputs": [
    {
     "name": "stdout",
     "output_type": "stream",
     "text": [
      "PRISM/CLEAR default wavelength sampling uses 940 wavelengths\n"
     ]
    },
    {
     "data": {
      "text/latex": [
       "$[0.6,~0.605,~0.61,~\\dots,~5.285,~5.29,~5.295] \\; \\mathrm{\\mu m}$"
      ],
      "text/plain": [
       "<Quantity [0.6  , 0.605, 0.61 , 0.615, 0.62 , 0.625, 0.63 , 0.635, 0.64 ,\n",
       "           0.645, 0.65 , 0.655, 0.66 , 0.665, 0.67 , 0.675, 0.68 , 0.685,\n",
       "           0.69 , 0.695, 0.7  , 0.705, 0.71 , 0.715, 0.72 , 0.725, 0.73 ,\n",
       "           0.735, 0.74 , 0.745, 0.75 , 0.755, 0.76 , 0.765, 0.77 , 0.775,\n",
       "           0.78 , 0.785, 0.79 , 0.795, 0.8  , 0.805, 0.81 , 0.815, 0.82 ,\n",
       "           0.825, 0.83 , 0.835, 0.84 , 0.845, 0.85 , 0.855, 0.86 , 0.865,\n",
       "           0.87 , 0.875, 0.88 , 0.885, 0.89 , 0.895, 0.9  , 0.905, 0.91 ,\n",
       "           0.915, 0.92 , 0.925, 0.93 , 0.935, 0.94 , 0.945, 0.95 , 0.955,\n",
       "           0.96 , 0.965, 0.97 , 0.975, 0.98 , 0.985, 0.99 , 0.995, 1.   ,\n",
       "           1.005, 1.01 , 1.015, 1.02 , 1.025, 1.03 , 1.035, 1.04 , 1.045,\n",
       "           1.05 , 1.055, 1.06 , 1.065, 1.07 , 1.075, 1.08 , 1.085, 1.09 ,\n",
       "           1.095, 1.1  , 1.105, 1.11 , 1.115, 1.12 , 1.125, 1.13 , 1.135,\n",
       "           1.14 , 1.145, 1.15 , 1.155, 1.16 , 1.165, 1.17 , 1.175, 1.18 ,\n",
       "           1.185, 1.19 , 1.195, 1.2  , 1.205, 1.21 , 1.215, 1.22 , 1.225,\n",
       "           1.23 , 1.235, 1.24 , 1.245, 1.25 , 1.255, 1.26 , 1.265, 1.27 ,\n",
       "           1.275, 1.28 , 1.285, 1.29 , 1.295, 1.3  , 1.305, 1.31 , 1.315,\n",
       "           1.32 , 1.325, 1.33 , 1.335, 1.34 , 1.345, 1.35 , 1.355, 1.36 ,\n",
       "           1.365, 1.37 , 1.375, 1.38 , 1.385, 1.39 , 1.395, 1.4  , 1.405,\n",
       "           1.41 , 1.415, 1.42 , 1.425, 1.43 , 1.435, 1.44 , 1.445, 1.45 ,\n",
       "           1.455, 1.46 , 1.465, 1.47 , 1.475, 1.48 , 1.485, 1.49 , 1.495,\n",
       "           1.5  , 1.505, 1.51 , 1.515, 1.52 , 1.525, 1.53 , 1.535, 1.54 ,\n",
       "           1.545, 1.55 , 1.555, 1.56 , 1.565, 1.57 , 1.575, 1.58 , 1.585,\n",
       "           1.59 , 1.595, 1.6  , 1.605, 1.61 , 1.615, 1.62 , 1.625, 1.63 ,\n",
       "           1.635, 1.64 , 1.645, 1.65 , 1.655, 1.66 , 1.665, 1.67 , 1.675,\n",
       "           1.68 , 1.685, 1.69 , 1.695, 1.7  , 1.705, 1.71 , 1.715, 1.72 ,\n",
       "           1.725, 1.73 , 1.735, 1.74 , 1.745, 1.75 , 1.755, 1.76 , 1.765,\n",
       "           1.77 , 1.775, 1.78 , 1.785, 1.79 , 1.795, 1.8  , 1.805, 1.81 ,\n",
       "           1.815, 1.82 , 1.825, 1.83 , 1.835, 1.84 , 1.845, 1.85 , 1.855,\n",
       "           1.86 , 1.865, 1.87 , 1.875, 1.88 , 1.885, 1.89 , 1.895, 1.9  ,\n",
       "           1.905, 1.91 , 1.915, 1.92 , 1.925, 1.93 , 1.935, 1.94 , 1.945,\n",
       "           1.95 , 1.955, 1.96 , 1.965, 1.97 , 1.975, 1.98 , 1.985, 1.99 ,\n",
       "           1.995, 2.   , 2.005, 2.01 , 2.015, 2.02 , 2.025, 2.03 , 2.035,\n",
       "           2.04 , 2.045, 2.05 , 2.055, 2.06 , 2.065, 2.07 , 2.075, 2.08 ,\n",
       "           2.085, 2.09 , 2.095, 2.1  , 2.105, 2.11 , 2.115, 2.12 , 2.125,\n",
       "           2.13 , 2.135, 2.14 , 2.145, 2.15 , 2.155, 2.16 , 2.165, 2.17 ,\n",
       "           2.175, 2.18 , 2.185, 2.19 , 2.195, 2.2  , 2.205, 2.21 , 2.215,\n",
       "           2.22 , 2.225, 2.23 , 2.235, 2.24 , 2.245, 2.25 , 2.255, 2.26 ,\n",
       "           2.265, 2.27 , 2.275, 2.28 , 2.285, 2.29 , 2.295, 2.3  , 2.305,\n",
       "           2.31 , 2.315, 2.32 , 2.325, 2.33 , 2.335, 2.34 , 2.345, 2.35 ,\n",
       "           2.355, 2.36 , 2.365, 2.37 , 2.375, 2.38 , 2.385, 2.39 , 2.395,\n",
       "           2.4  , 2.405, 2.41 , 2.415, 2.42 , 2.425, 2.43 , 2.435, 2.44 ,\n",
       "           2.445, 2.45 , 2.455, 2.46 , 2.465, 2.47 , 2.475, 2.48 , 2.485,\n",
       "           2.49 , 2.495, 2.5  , 2.505, 2.51 , 2.515, 2.52 , 2.525, 2.53 ,\n",
       "           2.535, 2.54 , 2.545, 2.55 , 2.555, 2.56 , 2.565, 2.57 , 2.575,\n",
       "           2.58 , 2.585, 2.59 , 2.595, 2.6  , 2.605, 2.61 , 2.615, 2.62 ,\n",
       "           2.625, 2.63 , 2.635, 2.64 , 2.645, 2.65 , 2.655, 2.66 , 2.665,\n",
       "           2.67 , 2.675, 2.68 , 2.685, 2.69 , 2.695, 2.7  , 2.705, 2.71 ,\n",
       "           2.715, 2.72 , 2.725, 2.73 , 2.735, 2.74 , 2.745, 2.75 , 2.755,\n",
       "           2.76 , 2.765, 2.77 , 2.775, 2.78 , 2.785, 2.79 , 2.795, 2.8  ,\n",
       "           2.805, 2.81 , 2.815, 2.82 , 2.825, 2.83 , 2.835, 2.84 , 2.845,\n",
       "           2.85 , 2.855, 2.86 , 2.865, 2.87 , 2.875, 2.88 , 2.885, 2.89 ,\n",
       "           2.895, 2.9  , 2.905, 2.91 , 2.915, 2.92 , 2.925, 2.93 , 2.935,\n",
       "           2.94 , 2.945, 2.95 , 2.955, 2.96 , 2.965, 2.97 , 2.975, 2.98 ,\n",
       "           2.985, 2.99 , 2.995, 3.   , 3.005, 3.01 , 3.015, 3.02 , 3.025,\n",
       "           3.03 , 3.035, 3.04 , 3.045, 3.05 , 3.055, 3.06 , 3.065, 3.07 ,\n",
       "           3.075, 3.08 , 3.085, 3.09 , 3.095, 3.1  , 3.105, 3.11 , 3.115,\n",
       "           3.12 , 3.125, 3.13 , 3.135, 3.14 , 3.145, 3.15 , 3.155, 3.16 ,\n",
       "           3.165, 3.17 , 3.175, 3.18 , 3.185, 3.19 , 3.195, 3.2  , 3.205,\n",
       "           3.21 , 3.215, 3.22 , 3.225, 3.23 , 3.235, 3.24 , 3.245, 3.25 ,\n",
       "           3.255, 3.26 , 3.265, 3.27 , 3.275, 3.28 , 3.285, 3.29 , 3.295,\n",
       "           3.3  , 3.305, 3.31 , 3.315, 3.32 , 3.325, 3.33 , 3.335, 3.34 ,\n",
       "           3.345, 3.35 , 3.355, 3.36 , 3.365, 3.37 , 3.375, 3.38 , 3.385,\n",
       "           3.39 , 3.395, 3.4  , 3.405, 3.41 , 3.415, 3.42 , 3.425, 3.43 ,\n",
       "           3.435, 3.44 , 3.445, 3.45 , 3.455, 3.46 , 3.465, 3.47 , 3.475,\n",
       "           3.48 , 3.485, 3.49 , 3.495, 3.5  , 3.505, 3.51 , 3.515, 3.52 ,\n",
       "           3.525, 3.53 , 3.535, 3.54 , 3.545, 3.55 , 3.555, 3.56 , 3.565,\n",
       "           3.57 , 3.575, 3.58 , 3.585, 3.59 , 3.595, 3.6  , 3.605, 3.61 ,\n",
       "           3.615, 3.62 , 3.625, 3.63 , 3.635, 3.64 , 3.645, 3.65 , 3.655,\n",
       "           3.66 , 3.665, 3.67 , 3.675, 3.68 , 3.685, 3.69 , 3.695, 3.7  ,\n",
       "           3.705, 3.71 , 3.715, 3.72 , 3.725, 3.73 , 3.735, 3.74 , 3.745,\n",
       "           3.75 , 3.755, 3.76 , 3.765, 3.77 , 3.775, 3.78 , 3.785, 3.79 ,\n",
       "           3.795, 3.8  , 3.805, 3.81 , 3.815, 3.82 , 3.825, 3.83 , 3.835,\n",
       "           3.84 , 3.845, 3.85 , 3.855, 3.86 , 3.865, 3.87 , 3.875, 3.88 ,\n",
       "           3.885, 3.89 , 3.895, 3.9  , 3.905, 3.91 , 3.915, 3.92 , 3.925,\n",
       "           3.93 , 3.935, 3.94 , 3.945, 3.95 , 3.955, 3.96 , 3.965, 3.97 ,\n",
       "           3.975, 3.98 , 3.985, 3.99 , 3.995, 4.   , 4.005, 4.01 , 4.015,\n",
       "           4.02 , 4.025, 4.03 , 4.035, 4.04 , 4.045, 4.05 , 4.055, 4.06 ,\n",
       "           4.065, 4.07 , 4.075, 4.08 , 4.085, 4.09 , 4.095, 4.1  , 4.105,\n",
       "           4.11 , 4.115, 4.12 , 4.125, 4.13 , 4.135, 4.14 , 4.145, 4.15 ,\n",
       "           4.155, 4.16 , 4.165, 4.17 , 4.175, 4.18 , 4.185, 4.19 , 4.195,\n",
       "           4.2  , 4.205, 4.21 , 4.215, 4.22 , 4.225, 4.23 , 4.235, 4.24 ,\n",
       "           4.245, 4.25 , 4.255, 4.26 , 4.265, 4.27 , 4.275, 4.28 , 4.285,\n",
       "           4.29 , 4.295, 4.3  , 4.305, 4.31 , 4.315, 4.32 , 4.325, 4.33 ,\n",
       "           4.335, 4.34 , 4.345, 4.35 , 4.355, 4.36 , 4.365, 4.37 , 4.375,\n",
       "           4.38 , 4.385, 4.39 , 4.395, 4.4  , 4.405, 4.41 , 4.415, 4.42 ,\n",
       "           4.425, 4.43 , 4.435, 4.44 , 4.445, 4.45 , 4.455, 4.46 , 4.465,\n",
       "           4.47 , 4.475, 4.48 , 4.485, 4.49 , 4.495, 4.5  , 4.505, 4.51 ,\n",
       "           4.515, 4.52 , 4.525, 4.53 , 4.535, 4.54 , 4.545, 4.55 , 4.555,\n",
       "           4.56 , 4.565, 4.57 , 4.575, 4.58 , 4.585, 4.59 , 4.595, 4.6  ,\n",
       "           4.605, 4.61 , 4.615, 4.62 , 4.625, 4.63 , 4.635, 4.64 , 4.645,\n",
       "           4.65 , 4.655, 4.66 , 4.665, 4.67 , 4.675, 4.68 , 4.685, 4.69 ,\n",
       "           4.695, 4.7  , 4.705, 4.71 , 4.715, 4.72 , 4.725, 4.73 , 4.735,\n",
       "           4.74 , 4.745, 4.75 , 4.755, 4.76 , 4.765, 4.77 , 4.775, 4.78 ,\n",
       "           4.785, 4.79 , 4.795, 4.8  , 4.805, 4.81 , 4.815, 4.82 , 4.825,\n",
       "           4.83 , 4.835, 4.84 , 4.845, 4.85 , 4.855, 4.86 , 4.865, 4.87 ,\n",
       "           4.875, 4.88 , 4.885, 4.89 , 4.895, 4.9  , 4.905, 4.91 , 4.915,\n",
       "           4.92 , 4.925, 4.93 , 4.935, 4.94 , 4.945, 4.95 , 4.955, 4.96 ,\n",
       "           4.965, 4.97 , 4.975, 4.98 , 4.985, 4.99 , 4.995, 5.   , 5.005,\n",
       "           5.01 , 5.015, 5.02 , 5.025, 5.03 , 5.035, 5.04 , 5.045, 5.05 ,\n",
       "           5.055, 5.06 , 5.065, 5.07 , 5.075, 5.08 , 5.085, 5.09 , 5.095,\n",
       "           5.1  , 5.105, 5.11 , 5.115, 5.12 , 5.125, 5.13 , 5.135, 5.14 ,\n",
       "           5.145, 5.15 , 5.155, 5.16 , 5.165, 5.17 , 5.175, 5.18 , 5.185,\n",
       "           5.19 , 5.195, 5.2  , 5.205, 5.21 , 5.215, 5.22 , 5.225, 5.23 ,\n",
       "           5.235, 5.24 , 5.245, 5.25 , 5.255, 5.26 , 5.265, 5.27 , 5.275,\n",
       "           5.28 , 5.285, 5.29 , 5.295] micron>"
      ]
     },
     "execution_count": 3,
     "metadata": {},
     "output_type": "execute_result"
    }
   ],
   "source": [
    "allwaves = nrs.get_IFU_wavelengths()\n",
    "print(f\"{nrs.band} default wavelength sampling uses {len(allwaves)} wavelengths\")\n",
    "allwaves"
   ]
  },
  {
   "cell_type": "code",
   "execution_count": 4,
   "id": "7417534b-6550-4830-9f23-a590aad7357f",
   "metadata": {},
   "outputs": [],
   "source": [
    "# let's get a subset for a faster PSF sim runtime\n",
    "waves = nrs.get_IFU_wavelengths(nlambda=50)\n",
    "\n",
    "# convert waves from  microns to meters\n",
    "# (this is a work around for a current issue with the poppy library upstream)\n",
    "waves = waves.to_value(u.meter)"
   ]
  },
  {
   "cell_type": "markdown",
   "id": "7f5180f4-2890-47db-aea7-b89c6d176130",
   "metadata": {},
   "source": [
    "Compute a datacube:"
   ]
  },
  {
   "cell_type": "code",
   "execution_count": 5,
   "id": "212dcbf1-4fef-43a3-8675-a7dbad84ace1",
   "metadata": {},
   "outputs": [],
   "source": [
    "cube = nrs.calc_datacube(waves)"
   ]
  },
  {
   "cell_type": "markdown",
   "id": "8662db59-3a15-4a6d-b3de-341a4189a05a",
   "metadata": {},
   "source": [
    "The output FITS file has the same extensions as a regular PSF calculation, but each extension contains a 3D datacube rather than a 2D image: "
   ]
  },
  {
   "cell_type": "code",
   "execution_count": 6,
   "id": "58429d9f-621b-4bcd-96c1-917abf609318",
   "metadata": {},
   "outputs": [
    {
     "name": "stdout",
     "output_type": "stream",
     "text": [
      "Filename: (No file associated with this HDUList)\n",
      "No.    Name      Ver    Type      Cards   Dimensions   Format\n",
      "  0  OVERSAMP      1 PrimaryHDU    1288   (192, 192, 50)   float64   \n",
      "  1  DET_SAMP      1 ImageHDU      1290   (48, 48, 50)   float64   \n",
      "  2  OVERDIST      1 ImageHDU      1343   (192, 192, 50)   float64   \n",
      "  3  DET_DIST      1 ImageHDU      1344   (48, 48, 50)   float64   \n"
     ]
    }
   ],
   "source": [
    "cube.info()"
   ]
  },
  {
   "cell_type": "markdown",
   "id": "dd3b4280-6ec4-4f62-b6ea-8108780dfe20",
   "metadata": {},
   "source": [
    "The `calc_datacube_fast` routine does a simplified calculation, much faster: "
   ]
  },
  {
   "cell_type": "code",
   "execution_count": 7,
   "id": "228264f6-0f16-489d-99a7-4dadbea39bc7",
   "metadata": {},
   "outputs": [],
   "source": [
    "quickcube = nrs.calc_datacube_fast(waves)"
   ]
  },
  {
   "cell_type": "markdown",
   "id": "7b12112c-d610-4579-8072-f644c01d4a83",
   "metadata": {},
   "source": [
    "Note that in this case, the output FITS file only contains the first oversampled extension:"
   ]
  },
  {
   "cell_type": "code",
   "execution_count": 8,
   "id": "de797cb5-3b4f-4a4a-8152-59e68f7bc78f",
   "metadata": {},
   "outputs": [
    {
     "name": "stdout",
     "output_type": "stream",
     "text": [
      "Filename: (No file associated with this HDUList)\n",
      "No.    Name      Ver    Type      Cards   Dimensions   Format\n",
      "  0  OVERSAMP      1 PrimaryHDU     159   (192, 192, 50)   float64   \n"
     ]
    }
   ],
   "source": [
    "quickcube.info()"
   ]
  },
  {
   "cell_type": "markdown",
   "id": "e550c2b5-20fa-493d-ae39-317f7c5a4cdf",
   "metadata": {},
   "source": [
    "The display_psf function works with datacubes, but you have to specify which slice of the cube to display. "
   ]
  },
  {
   "cell_type": "code",
   "execution_count": 9,
   "id": "2ffd3c45-4d4c-4a0f-9a41-6d28e7618eac",
   "metadata": {},
   "outputs": [
    {
     "data": {
      "image/png": "[encoded data removed]",
      "text/plain": [
       "<Figure size 640x480 with 2 Axes>"
      ]
     },
     "metadata": {},
     "output_type": "display_data"
    }
   ],
   "source": [
    "index = 20\n",
    "stpsf.display_psf(cube, ext=3, cube_slice=index, \n",
    "                    # Note that currently the default plot title isn't very informative for datacube modes\n",
    "                    # so we can specify a better title directly here:\n",
    "                    title=f'NRS IFU cube slice {index}, $\\\\lambda$={cube[0].header[\"WAVELN\"+str(index)]*1e6:.4} micron') "
   ]
  },
  {
   "cell_type": "markdown",
   "id": "03938bc2-f831-4dbd-9188-f9c4ef3dc33c",
   "metadata": {},
   "source": [
    "## MIRI MRS example\n",
    "\n",
    "This is mostly the same, except the selection of the IFU bands is done via setting `band` directly. \n"
   ]
  },
  {
   "cell_type": "code",
   "execution_count": 10,
   "id": "b9196827-456e-4f09-b40a-831550af07d7",
   "metadata": {},
   "outputs": [
    {
     "name": "stdout",
     "output_type": "stream",
     "text": [
      "Band is 2A\n"
     ]
    }
   ],
   "source": [
    "miri = stpsf.MIRI()\n",
    "miri.mode = 'IFU'\n",
    "miri.band= '2A'  \n",
    "print(\"Band is\", miri.band)"
   ]
  },
  {
   "cell_type": "markdown",
   "id": "b7612fcf-5793-497a-a4f5-38843792d31b",
   "metadata": {},
   "source": [
    "Note that selecting an IFU band automatically configures the simulated pixelscale to match the default scale used in pipeline output datacubes: "
   ]
  },
  {
   "cell_type": "code",
   "execution_count": 11,
   "id": "2bc6face-54c4-42ad-b4a5-d80de8d120fb",
   "metadata": {},
   "outputs": [
    {
     "name": "stdout",
     "output_type": "stream",
     "text": [
      "Pixelscale for band 2A is 0.17 arcsec/pix\n",
      "Pixelscale for band 3B is 0.2 arcsec/pix\n"
     ]
    }
   ],
   "source": [
    "print(f\"Pixelscale for band {miri.band} is {miri.pixelscale} arcsec/pix\")\n",
    "\n",
    "miri.band = '3B'\n",
    "print(f\"Pixelscale for band {miri.band} is {miri.pixelscale} arcsec/pix\")"
   ]
  },
  {
   "cell_type": "code",
   "execution_count": 12,
   "id": "4e131678-a7b0-476f-b458-5ad3e731ecf5",
   "metadata": {},
   "outputs": [],
   "source": [
    "# let's get a subset for a faster PSF sim runtime\n",
    "waves = miri.get_IFU_wavelengths(nlambda=50)\n",
    "\n",
    "# convert waves from  microns to meters\n",
    "# (this is a work around for a current issue with the poppy library upstream)\n",
    "waves = waves.to_value(u.meter)"
   ]
  },
  {
   "cell_type": "markdown",
   "id": "4d747fa7-1851-4176-b1f7-8222f550a866",
   "metadata": {},
   "source": [
    "Compute a datacube:\n",
    "\n",
    "(Note, for MIRI MRS you may see a warning message about the valid region of the field dependence model; this is a benign warning and can be mostly ignored.)"
   ]
  },
  {
   "cell_type": "code",
   "execution_count": 13,
   "id": "e18451d5-5144-4e4f-b643-c811840362e5",
   "metadata": {},
   "outputs": [
    {
     "name": "stderr",
     "output_type": "stream",
     "text": [
      "/Users/mperrin/Dropbox (Personal)/Documents/software/stpsf/stpsf/opds.py:1759: UserWarning: For (V2,V3) = [-8.40143167 -5.31995333] arcmin, Field point -8.254199999999999 arcmin, -2.4800466666666674 arcmin not within valid region for field dependence model of OTE WFE for MIRI: -8.254199999999999 arcmin--6.21738 arcmin, -2.557224 arcmin--0.5632056 arcmin.  Clipping to closest available valid location, 0.14723166666666643 arcmin away from the requested coordinates.\n",
      "  warnings.warn(warning_message)\n"
     ]
    }
   ],
   "source": [
    "cube = miri.calc_datacube(waves)"
   ]
  },
  {
   "cell_type": "markdown",
   "id": "695ff9ec-44f3-481c-8752-f6a7220cf77d",
   "metadata": {},
   "source": [
    "The output FITS file has the same extensions as a regular PSF calculation, but each extension contains a 3D datacube rather than a 2D image: "
   ]
  },
  {
   "cell_type": "code",
   "execution_count": 14,
   "id": "5986841b-97c2-443d-9677-ac48adc3fdc8",
   "metadata": {},
   "outputs": [
    {
     "name": "stdout",
     "output_type": "stream",
     "text": [
      "Filename: (No file associated with this HDUList)\n",
      "No.    Name      Ver    Type      Cards   Dimensions   Format\n",
      "  0  OVERSAMP      1 PrimaryHDU     990   (240, 240, 50)   float64   \n",
      "  1  DET_SAMP      1 ImageHDU       992   (60, 60, 50)   float64   \n",
      "  2  OVERDIST      1 ImageHDU      1097   (240, 240, 50)   float64   \n",
      "  3  DET_DIST      1 ImageHDU      1098   (60, 60, 50)   float64   \n"
     ]
    }
   ],
   "source": [
    "cube.info()"
   ]
  },
  {
   "cell_type": "markdown",
   "id": "e6436fd6-e24e-4f01-af0a-c31f74c215fa",
   "metadata": {},
   "source": [
    "The display_psf function works with datacubes, but you have to specify which slice of the cube to display. "
   ]
  },
  {
   "cell_type": "code",
   "execution_count": 15,
   "id": "c73ffde0-7f85-49fc-9552-d0daabd124f2",
   "metadata": {},
   "outputs": [
    {
     "data": {
      "image/png": "[encoded data removed]",
      "text/plain": [
       "<Figure size 640x480 with 2 Axes>"
      ]
     },
     "metadata": {},
     "output_type": "display_data"
    }
   ],
   "source": [
    "index = 20\n",
    "stpsf.display_psf(cube, ext=3, cube_slice=index, \n",
    "                    # Note that currently the default plot title isn't very informative for datacube modes\n",
    "                    # so we can specify a better title directly here:\n",
    "                    title=f'MIRI MRS band {miri.band}, cube slice {index}, $\\\\lambda$={cube[0].header[\"WAVELN\"+str(index)]*1e6:.4} micron') "
   ]
  }
 ],
 "metadata": {
  "kernelspec": {
   "display_name": "Python 3 (ipykernel)",
   "language": "python",
   "name": "python3"
  },
  "language_info": {
   "codemirror_mode": {
    "name": "ipython",
    "version": 3
   },
   "file_extension": ".py",
   "mimetype": "text/x-python",
   "name": "python",
   "nbconvert_exporter": "python",
   "pygments_lexer": "ipython3",
   "version": "3.12.5"
  }
 },
 "nbformat": 4,
 "nbformat_minor": 5
}
