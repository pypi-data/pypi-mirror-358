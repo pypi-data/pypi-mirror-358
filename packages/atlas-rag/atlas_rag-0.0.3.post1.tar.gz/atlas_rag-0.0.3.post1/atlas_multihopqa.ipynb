{
 "cells": [
  {
   "cell_type": "markdown",
   "id": "3d6b8561",
   "metadata": {},
   "source": [
    "# ATLAS Multihop QA Benchmarking"
   ]
  },
  {
   "cell_type": "code",
   "execution_count": null,
   "id": "ee016968",
   "metadata": {},
   "outputs": [],
   "source": [
    "# print python version\n",
    "print(\"Python version:\", __import__('sys').version)"
   ]
  },
  {
   "cell_type": "code",
   "execution_count": null,
   "id": "4752da40",
   "metadata": {},
   "outputs": [],
   "source": [
    "import os \n",
    "os.environ['CUDA_VISIBLE_DEVICES'] = '7'  # Set to the GPU you want to use, or '0' for the first GPU\n",
    "import torch\n",
    "num_gpus = torch.cuda.device_count()\n",
    "print(\"number of GPUs available:\", torch.cuda.device_count())\n",
    "for i in range(num_gpus):\n",
    "    print(f\"GPU {i}: {torch.cuda.get_device_name(i)}\")"
   ]
  },
  {
   "cell_type": "code",
   "execution_count": null,
   "id": "bee560d1",
   "metadata": {},
   "outputs": [],
   "source": [
    "from atlas_rag.retrieval import NvEmbed\n",
    "from transformers import AutoModel\n",
    "# Load the SentenceTransformer model\n",
    "encoder_model_name = \"nvidia/NV-Embed-v2\"\n",
    "sentence_model = AutoModel.from_pretrained(encoder_model_name, trust_remote_code=True, device_map=\"auto\")\n",
    "sentence_encoder = NvEmbed(sentence_model)"
   ]
  },
  {
   "cell_type": "code",
   "execution_count": 8,
   "id": "9d3d69d4",
   "metadata": {},
   "outputs": [],
   "source": [
    "from azure.ai.projects import AIProjectClient\n",
    "from azure.identity import DefaultAzureCredential\n",
    "from atlas_rag.reader import LLMGenerator\n",
    "from configparser import ConfigParser\n",
    "config = ConfigParser()\n",
    "config.read('config.ini')\n",
    "# Added support for Azure Foundry. To use it, please do az-login in cmd first.\n",
    "reader_model_name = \"deepseek-ai/DeepSeek-V3-0324\"\n",
    "reader_model_name = \"DeepSeek-V3\"\n",
    "connection = AIProjectClient(\n",
    "    endpoint=config[\"urls\"][\"AFMR_AZURE_URL\"],\n",
    "    credential=DefaultAzureCredential(),\n",
    ")\n",
    "client = connection.inference.get_azure_openai_client(api_version=\"2024-12-01-preview\")\n",
    "llm_generator = LLMGenerator(client=client, model_name=reader_model_name)"
   ]
  },
  {
   "cell_type": "code",
   "execution_count": 4,
   "id": "aef32633",
   "metadata": {},
   "outputs": [],
   "source": [
    "from openai import OpenAI\n",
    "from atlas_rag.reader import LLMGenerator\n",
    "from configparser import ConfigParser\n",
    "# Load OpenRouter API key from config file\n",
    "config = ConfigParser()\n",
    "config.read('config.ini')\n",
    "reader_model_name = \"meta-llama/Llama-3.3-70B-Instruct\"\n",
    "client = OpenAI(\n",
    "  base_url=\"https://api.deepinfra.com/v1/openai\",\n",
    "  api_key=config['settings']['DEEPINFRA_API_KEY'],\n",
    ")\n",
    "llm_generator = LLMGenerator(client=client, model_name=reader_model_name)"
   ]
  },
  {
   "cell_type": "code",
   "execution_count": null,
   "id": "ae785d41",
   "metadata": {},
   "outputs": [],
   "source": [
    "from atlas_rag import create_embeddings_and_index\n",
    "keyword = 'musique'\n",
    "working_directory = f'/data/httsangaj/atomic-rag/8b'\n",
    "data = create_embeddings_and_index(\n",
    "    sentence_encoder=sentence_encoder,\n",
    "    model_name = 'nvidia/NV-Embed-v2',\n",
    "    working_directory=working_directory,\n",
    "    keyword=keyword,\n",
    "    include_concept=True,\n",
    "    include_events=True,\n",
    "    normalize_embeddings= True,\n",
    "    text_batch_size=64,\n",
    "    node_and_edge_batch_size=64,\n",
    ")"
   ]
  },
  {
   "cell_type": "code",
   "execution_count": 10,
   "id": "805d5ce8",
   "metadata": {},
   "outputs": [],
   "source": [
    "from atlas_rag.evaluation import BenchMarkConfig\n",
    "benchmark_config = BenchMarkConfig(\n",
    "    dataset_name= 'hotpotqa',\n",
    "    question_file= \"benchmark_data/hotpotqa.json\",\n",
    "    include_concept=True,\n",
    "    include_events=True,\n",
    "    reader_model_name=reader_model_name,\n",
    "    encoder_model_name=encoder_model_name,\n",
    "    number_of_samples=2, # -1 for all samples\n",
    ")"
   ]
  },
  {
   "cell_type": "code",
   "execution_count": 11,
   "id": "5a0905b9",
   "metadata": {},
   "outputs": [],
   "source": [
    "from atlas_rag import setup_logger\n",
    "logger = setup_logger(benchmark_config)"
   ]
  },
  {
   "cell_type": "code",
   "execution_count": null,
   "id": "86925bc9",
   "metadata": {},
   "outputs": [],
   "source": [
    "# Initialize desired RAG method for benchmarking\n",
    "from atlas_rag.retrieval import HippoRAG2Retriever\n",
    "hipporag2_retriever = HippoRAG2Retriever(\n",
    "    llm_generator=llm_generator,\n",
    "    sentence_encoder=sentence_encoder,\n",
    "    data = data,\n",
    "    logger=logger\n",
    ")"
   ]
  },
  {
   "cell_type": "code",
   "execution_count": null,
   "id": "19e3ad93",
   "metadata": {},
   "outputs": [],
   "source": [
    "# start benchmarking\n",
    "from atlas_rag.evaluation import RAGBenchmark\n",
    "benchmark = RAGBenchmark(config=benchmark_config, logger=logger)\n",
    "benchmark.run([hipporag2_retriever], llm_generator=llm_generator) \n",
    "# benchmark.run([hipporag2_retriever], llm_generator=llm_generator, use_react=True) # use_react=True to enable RAG with REACT"
   ]
  },
  {
   "cell_type": "code",
   "execution_count": null,
   "id": "0573bc60",
   "metadata": {},
   "outputs": [],
   "source": []
  }
 ],
 "metadata": {
  "kernelspec": {
   "display_name": "atlas-rag-gpu-test",
   "language": "python",
   "name": "python3"
  },
  "language_info": {
   "codemirror_mode": {
    "name": "ipython",
    "version": 3
   },
   "file_extension": ".py",
   "mimetype": "text/x-python",
   "name": "python",
   "nbconvert_exporter": "python",
   "pygments_lexer": "ipython3",
   "version": "3.10.18"
  }
 },
 "nbformat": 4,
 "nbformat_minor": 5
}
