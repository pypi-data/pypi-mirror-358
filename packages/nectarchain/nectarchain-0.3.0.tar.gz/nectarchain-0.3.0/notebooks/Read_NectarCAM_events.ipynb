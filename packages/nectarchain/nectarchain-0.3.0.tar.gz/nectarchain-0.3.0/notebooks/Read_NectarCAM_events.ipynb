{
 "cells": [
  {
   "cell_type": "code",
   "execution_count": null,
   "metadata": {},
   "outputs": [],
   "source": [
    "%matplotlib inline"
   ]
  },
  {
   "cell_type": "code",
   "execution_count": null,
   "metadata": {},
   "outputs": [],
   "source": [
    "import numpy as np\n",
    "from matplotlib import pyplot as plt\n",
    "\n",
    "from astropy import time as astropytime\n",
    "from ctapipe.io import EventSource, EventSeeker\n",
    "from ctapipe.visualization import CameraDisplay\n",
    "from ctapipe.instrument import CameraGeometry\n",
    "from ctapipe.image import tailcuts_clean, dilate, hillas_parameters, HillasParameterizationError"
   ]
  },
  {
   "cell_type": "code",
   "execution_count": null,
   "metadata": {},
   "outputs": [],
   "source": [
    "path = '../obs/NectarCAM.Run1388.0001.fits.fz'\n",
    "cmap = 'gnuplot2'"
   ]
  },
  {
   "cell_type": "code",
   "execution_count": null,
   "metadata": {},
   "outputs": [],
   "source": [
    "reader=EventSource(input_url=path)"
   ]
  },
  {
   "cell_type": "code",
   "execution_count": null,
   "metadata": {},
   "outputs": [],
   "source": [
    "seeker = EventSeeker(reader)"
   ]
  },
  {
   "cell_type": "markdown",
   "metadata": {},
   "source": [
    "## Look at waveform image for a particular event"
   ]
  },
  {
   "cell_type": "code",
   "execution_count": null,
   "metadata": {},
   "outputs": [],
   "source": [
    "evt = seeker.get_event_index(25)\n",
    "import time\n",
    "from IPython import display\n",
    "\n",
    "adcsum = evt.r0.tel[0].waveform[0].sum(axis=1)\n",
    "\n",
    "camera = CameraGeometry.from_name(\"NectarCam-003\")\n",
    "\n",
    "for i in range(len(evt.r0.tel[0].waveform[0].T)):\n",
    "    image = evt.r0.tel[0].waveform[0].T[i]\n",
    "    plt.clf()\n",
    "\n",
    "    fig = plt.figure(figsize=(13,9))\n",
    "    ax1 = fig.add_subplot(121)\n",
    "    ax2 = fig.add_subplot(122)\n",
    "    \n",
    "    disp2= CameraDisplay(geometry=camera, image=adcsum, ax=ax1, title='Sum ADC', cmap=cmap)\n",
    "    #disp2.cmap = cmap\n",
    "    #disp2.add_colorbar()\n",
    "    \n",
    "    disp = CameraDisplay(geometry=camera, image=image, ax=ax2, title='Waveform (ADC), T={} ns'.format(i), cmap=cmap)\n",
    "    #disp.cmap = cmap\n",
    "    disp.add_colorbar()\n",
    "    \n",
    "    display.display(plt.gcf())\n",
    "    display.clear_output(wait=True)\n",
    "    time.sleep(0.2)"
   ]
  },
  {
   "cell_type": "markdown",
   "metadata": {},
   "source": [
    "## Or look at an integrated charge image for a particular event"
   ]
  },
  {
   "cell_type": "code",
   "execution_count": null,
   "metadata": {},
   "outputs": [],
   "source": [
    "evt=seeker.get_event_index(0)\n",
    "image = evt.r0.tel[0].waveform.sum(axis=2)\n",
    "disp = CameraDisplay(geometry=camera, image=image[0], cmap=cmap)"
   ]
  },
  {
   "cell_type": "code",
   "execution_count": null,
   "metadata": {},
   "outputs": [],
   "source": [
    "run_start = astropytime.Time(evt.nectarcam.tel[0].svc.date, format='unix').iso\n",
    "print('Run started at {}'.format(run_start))"
   ]
  },
  {
   "cell_type": "code",
   "execution_count": null,
   "metadata": {},
   "outputs": [],
   "source": [
    "evt.index.event_id"
   ]
  },
  {
   "cell_type": "markdown",
   "metadata": {},
   "source": [
    "## Extract interleaved pedestals"
   ]
  },
  {
   "cell_type": "code",
   "execution_count": null,
   "metadata": {},
   "outputs": [],
   "source": [
    "# Evaluate pedestal from interleaved pedestals from same input run\n",
    "max_events = 500\n",
    "read_ped = EventSource(input_url=path)\n",
    "peds = []\n",
    "for i, ev in enumerate(read_ped):\n",
    "    if len(peds) > max_events:\n",
    "        break\n",
    "    if ev.trigger.event_type == 32:\n",
    "        # print('Event {}, trigger type {}'.format(i,ev.r0.tel[0].trigger_type))\n",
    "        wfs = ev.r0.tel[0].waveform\n",
    "        wfs_hi = wfs[0].sum(axis=1)\n",
    "        peds.append(wfs_hi)\n",
    "peds = np.array(peds)\n",
    "peds = peds.mean(axis=0)"
   ]
  },
  {
   "cell_type": "code",
   "execution_count": null,
   "metadata": {},
   "outputs": [],
   "source": [
    "disp = CameraDisplay(geometry=camera, image=peds, cmap=cmap)\n",
    "disp.cmap = cmap\n",
    "disp.add_colorbar()"
   ]
  },
  {
   "cell_type": "code",
   "execution_count": null,
   "metadata": {},
   "outputs": [],
   "source": [
    "plt.plot(peds)"
   ]
  },
  {
   "cell_type": "markdown",
   "metadata": {},
   "source": [
    "## Calibration"
   ]
  },
  {
   "cell_type": "code",
   "execution_count": null,
   "metadata": {},
   "outputs": [],
   "source": [
    "adc_to_pe = 58.\n",
    "evt = next(iter(seeker))\n",
    "print('Event {}, trigger type {}'.format(evt.index.event_id,\n",
    "                                         evt.trigger.event_type))\n",
    "if evt.trigger.event_type ==1:\n",
    "    raw = evt.r0.tel[0].waveform[0].sum(axis=1)\n",
    "    charges = ((raw - peds)/adc_to_pe)\n",
    "disp = CameraDisplay(geometry=camera, image=charges, cmap='gnuplot2')\n",
    "disp.cmap = cmap\n",
    "disp.add_colorbar()\n",
    "\n",
    "#Comment: if this cell says that \"charges\" is not defined it's because the event type is not 1. Re-run it."
   ]
  },
  {
   "cell_type": "markdown",
   "metadata": {},
   "source": [
    "## Hillas cleaning"
   ]
  },
  {
   "cell_type": "code",
   "execution_count": null,
   "metadata": {},
   "outputs": [],
   "source": [
    "cleanmask = tailcuts_clean(camera, charges,\n",
    "                           picture_thresh=10,\n",
    "                           boundary_thresh=5,\n",
    "                           min_number_picture_neighbors=3)\n",
    "charges[~cleanmask] = 0\n",
    "try:\n",
    "    hillas_param = hillas_parameters(camera, charges)\n",
    "    disp = CameraDisplay(geometry=camera, image=charges, cmap='gnuplot2')\n",
    "    disp.cmap = cmap\n",
    "    disp.add_colorbar()\n",
    "    disp.overlay_moments(hillas_param, with_label=False,\n",
    "                     color='red', alpha=0.7,\n",
    "                     linewidth=2, linestyle='dashed')\n",
    "    disp.highlight_pixels(cleanmask, color='white', alpha=0.3, linewidth=2)\n",
    "    print(hillas_param)\n",
    "except HillasParameterizationError:\n",
    "    pass\n",
    "print('Cleaned image: charge = {} pe'.format(charges.sum()))"
   ]
  },
  {
   "cell_type": "markdown",
   "metadata": {},
   "source": [
    "## Loop over events"
   ]
  },
  {
   "cell_type": "code",
   "execution_count": null,
   "metadata": {},
   "outputs": [],
   "source": [
    "import time\n",
    "from IPython import display\n",
    "for i, evt in enumerate(reader):\n",
    "    if evt.trigger.event_type == 1:\n",
    "        raw = evt.r0.tel[0].waveform[0].sum(axis=1)\n",
    "        charges = ((raw - peds)/adc_to_pe)\n",
    "        cleanmask = tailcuts_clean(camera, charges,\n",
    "                                   picture_thresh=10,\n",
    "                                   boundary_thresh=5,\n",
    "                                   min_number_picture_neighbors=3)\n",
    "        charges[~cleanmask] = 0\n",
    "\n",
    "        plt.clf()\n",
    "        disp = CameraDisplay(geometry=camera, image=charges, cmap='gnuplot2')\n",
    "        disp.cmap = cmap\n",
    "        disp.add_colorbar()\n",
    "        try:\n",
    "            hillas_param = hillas_parameters(camera, charges)\n",
    "            disp.overlay_moments(hillas_param, with_label=False,\n",
    "                                 color='red', alpha=0.7,\n",
    "                                 linewidth=2, linestyle='dashed')\n",
    "            disp.highlight_pixels(cleanmask, color='white', alpha=0.3, linewidth=2)\n",
    "        except HillasParameterizationError:\n",
    "            pass\n",
    "        display.display(plt.gcf())\n",
    "        display.clear_output(wait=True)\n",
    "        time.sleep(0.2)"
   ]
  },
  {
   "cell_type": "code",
   "execution_count": null,
   "metadata": {},
   "outputs": [],
   "source": []
  }
 ],
 "metadata": {
  "kernelspec": {
   "display_name": "Python 3",
   "language": "python",
   "name": "python3"
  },
  "language_info": {
   "codemirror_mode": {
    "name": "ipython",
    "version": 3
   },
   "file_extension": ".py",
   "mimetype": "text/x-python",
   "name": "python",
   "nbconvert_exporter": "python",
   "pygments_lexer": "ipython3",
   "version": "3.7.10"
  }
 },
 "nbformat": 4,
 "nbformat_minor": 2
}
