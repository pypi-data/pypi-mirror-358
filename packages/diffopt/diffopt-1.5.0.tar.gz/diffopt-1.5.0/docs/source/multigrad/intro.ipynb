{
 "cells": [
  {
   "cell_type": "markdown",
   "metadata": {},
   "source": [
    "# Quickstart Tutorial\n",
    "\n",
    "MultiGrad allows you to easily implement data-parallelized, differentiable models in the Jax framework. All you need to provide is two Jax traceable functions: (1) a function that accepts model parameters and predicts a set of summary statistics that multigrad will automatically **sum over all MPI ranks**, and (2) a function that accepts the summary statistic predictions, compares them to a set of targets, and returns a loss function. All of the specific details of these functions are up to you!"
   ]
  },
  {
   "cell_type": "code",
   "execution_count": 1,
   "metadata": {},
   "outputs": [],
   "source": [
    "from mpi4py import MPI\n",
    "import jax.scipy\n",
    "from jax import numpy as jnp\n",
    "import numpy as np\n",
    "import matplotlib.pyplot as plt\n",
    "\n",
    "from diffopt import multigrad"
   ]
  },
  {
   "cell_type": "markdown",
   "metadata": {},
   "source": [
    "## Example Model\n",
    "\n",
    "Let's imagine we have a model that probabilistically predicts the stellar mass of a galaxy residing in a halo based on two parameters: a stellar-to-halo mass ratio $f$ and a scatter of $\\sigma$ (both of which must be positive, and could reasonably span a range of orders of magnitude, so we will actually parameterize their logarithmic counterparts $\\log f$ and $\\log \\sigma$). We will define the probability of a stellar mass given the halo mass using a log-normal distribution $P(\\log M_\\star | M_h; f, \\sigma) = \\mathcal{N}(\\log f + \\log M_h, \\sigma)$. Imagine we have a simulated dataset of 10,000 halos with masses ranging from $10^{10}$ to $10^{11}$ $M_\\odot$. We want to fit our model parameters to reproduce an observed stellar mass function, which is the number density of galaxies as a function of stellar mass $\\Phi(\\log M_\\star)$."
   ]
  },
  {
   "cell_type": "code",
   "execution_count": 2,
   "metadata": {},
   "outputs": [],
   "source": [
    "# Generate fake halo masses between 10^10 < M_h < 10^11 as a power law\n",
    "def load_halo_masses(num_halos=10_000, comm=MPI.COMM_WORLD):\n",
    "    quantile = jnp.linspace(0, 0.9, num_halos)\n",
    "    mhalo = 1e10 / (1 - quantile)\n",
    "\n",
    "    # Assign halos evenly across given MPI ranks (only one rank for now)\n",
    "    return np.array_split(mhalo, comm.size)[comm.rank]\n",
    "\n",
    "\n",
    "# Compute one bin of the stellar mass function (SMF)\n",
    "@jax.jit\n",
    "def calc_smf_bin(params, logsm_low, logsm_high, volume, log_halo_masses):\n",
    "    # Unpack model parameters f and sigma\n",
    "    log_f, log_sigma = params\n",
    "    mean_logsm = log_f + log_halo_masses\n",
    "    sigma = 10 ** log_sigma\n",
    "\n",
    "    # Integrating the log-normal PDF over the bin, we get erf:\n",
    "    erf_high = 0.5 * (1 + jax.scipy.special.erf(\n",
    "        (logsm_high - mean_logsm)/(jnp.sqrt(2) * sigma)))\n",
    "    erf_low = 0.5 * (1 + jax.scipy.special.erf(\n",
    "        (logsm_low - mean_logsm)/(jnp.sqrt(2) * sigma)))\n",
    "    prob_in_bin = erf_high - erf_low\n",
    "\n",
    "    # Sum probabilities, convert to number density, divide by bin width\n",
    "    return jnp.sum(prob_in_bin) / volume / (logsm_high - logsm_low)\n",
    "\n",
    "\n",
    "# Compute the stellar mass function over all bins (loop over calc_smf_bin)\n",
    "@jax.jit\n",
    "def calc_smf(params, smf_bin_edges, volume, log_halo_masses):\n",
    "    smf = []\n",
    "    logsm_low = smf_bin_edges[0]\n",
    "    for logsm_high in smf_bin_edges[1:]:\n",
    "        smf_bin = calc_smf_bin(\n",
    "            params, logsm_low, logsm_high, volume, log_halo_masses)\n",
    "        smf.append(smf_bin)\n",
    "        logsm_low = logsm_high\n",
    "    return jnp.array(smf)"
   ]
  },
  {
   "cell_type": "markdown",
   "metadata": {},
   "source": [
    "## Inspecting the \"truth\"\n",
    "\n",
    "We've now defined a model that will predict the stellar mass function, given two parameters and a set of halo data. Now we just have some auxiliary data to define, such as the volume spanned by our 10,000 halos and the stellar mass bins over which we are measuring the stellar mass function. Let's set a volume of 1.0 for simplicity (in whatever units happens to make this a reasonable assumption) and ten bins evenly dividing the range over $9 < \\log M_\\star < 10$.\n",
    "\n",
    "Let's also set fiducial \"truth\" values for our stellar-to-halo mass fraction $\\log f = -2$ and $\\log \\sigma = -0.5$ (roughly corresponding to $f = 0.01$ and $\\sigma = 0.316$). Then, let's go ahead and \"load\" our simulated halos and compute the \"true\" stellar mass function, which will be our target summary statistic."
   ]
  },
  {
   "cell_type": "code",
   "execution_count": 3,
   "metadata": {},
   "outputs": [
    {
     "name": "stderr",
     "output_type": "stream",
     "text": [
      "An NVIDIA GPU may be present on this machine, but a CUDA-enabled jaxlib is not installed. Falling back to cpu.\n"
     ]
    }
   ],
   "source": [
    "volume = 1.0\n",
    "smf_bin_edges = jnp.linspace(9, 10, 11)\n",
    "\n",
    "true_params = jnp.array([-2.0, -0.5])\n",
    "log_halo_masses = jnp.log10(load_halo_masses(10_000))\n",
    "true_smf = calc_smf(true_params, smf_bin_edges, volume, log_halo_masses)"
   ]
  },
  {
   "cell_type": "code",
   "execution_count": 4,
   "metadata": {},
   "outputs": [
    {
     "data": {
      "image/png": "[encoded data removed]",
      "text/plain": [
       "<Figure size 1000x400 with 2 Axes>"
      ]
     },
     "metadata": {},
     "output_type": "display_data"
    }
   ],
   "source": [
    "def plot_hmf_and_smf(smf, plotarg=\"C0o-\", label=None, axes=None):\n",
    "    if axes is None:\n",
    "        _, axes = plt.subplots(ncols=2, figsize=(10, 4))\n",
    "    axes[0].hist(log_halo_masses, bins=50, color=\"C0\")\n",
    "    axes[0].semilogy()\n",
    "    axes[0].set_xlabel(\"$\\\\log M_h$\", fontsize=14)\n",
    "    axes[0].set_ylabel(\"$\\\\Phi(\\\\log M_h)$\", fontsize=14)\n",
    "\n",
    "    smf_bin_cens = 0.5 * (smf_bin_edges[:-1] + smf_bin_edges[1:])\n",
    "    axes[1].semilogy(smf_bin_cens, smf, plotarg, label=label)\n",
    "    axes[1].legend(frameon=False)\n",
    "    axes[1].set_xlabel(\"$\\\\log M_\\\\star$\", fontsize=14)\n",
    "    axes[1].set_ylabel(\"$\\\\Phi(\\\\log M_\\\\star)$\", fontsize=14)\n",
    "    return axes\n",
    "\n",
    "plot_hmf_and_smf(true_smf, label=\"truth\")\n",
    "plt.show()"
   ]
  },
  {
   "cell_type": "markdown",
   "metadata": {},
   "source": [
    "## Introducing MultiGrad\n",
    "\n",
    "To fit such a model with multigrad, we have to define a class that inherits from an abstract base class called `OnePointModel`. To make this class useable, you must define two methods: `calc_particle_sumstats_from_params` (which simply calls the `calc_smf` function we already defined above) and `calc_loss_from_sumstats` (which in this example simply computes a mean-squared error of the log of the stellar mass function in each bin). **Important:** The sumstats that we return **must** be summable over all ranks, so be careful not to return log quantities here. You can always take the logarithm of your sumstats in the loss function!"
   ]
  },
  {
   "cell_type": "code",
   "execution_count": 5,
   "metadata": {},
   "outputs": [],
   "source": [
    "class MySMFModel(multigrad.OnePointModel):\n",
    "    def calc_partial_sumstats_from_params(self, params):\n",
    "        # Accessing global variables is fine, but I prefer to store them in\n",
    "        # the `aux_data` attribute, which we will define during construction\n",
    "        bin_edges = self.aux_data[\"smf_bin_edges\"]\n",
    "        volume = self.aux_data[\"volume\"]\n",
    "        log_halo_masses = self.aux_data[\"log_halo_masses\"]\n",
    "\n",
    "        return calc_smf(params, bin_edges, volume, log_halo_masses)\n",
    "\n",
    "    def calc_loss_from_sumstats(self, sumstats):\n",
    "        # Add 1e-10 so that log values always remain finite\n",
    "        target_sumstats = jnp.log10(self.aux_data[\"target_sumstats\"] + 1e-10)\n",
    "        sumstats = jnp.log10(sumstats + 1e-10)\n",
    "        # Reduced chi2 loss function assuming unit errors (mean squared error)\n",
    "        return jnp.mean((sumstats - target_sumstats)**2)"
   ]
  },
  {
   "cell_type": "code",
   "execution_count": 6,
   "metadata": {},
   "outputs": [],
   "source": [
    "aux_data = dict(\n",
    "    log_halo_masses=log_halo_masses,\n",
    "    smf_bin_edges=smf_bin_edges,\n",
    "    volume=volume,\n",
    "    target_sumstats=true_smf  # SMF at truth: params=(-2.0, 0.2)\n",
    ")\n",
    "model = MySMFModel(aux_data=aux_data)"
   ]
  },
  {
   "cell_type": "code",
   "execution_count": 7,
   "metadata": {},
   "outputs": [
    {
     "name": "stdout",
     "output_type": "stream",
     "text": [
      "At true_params:\n",
      "Loss = 0.0\n",
      "Grad(loss) = [0. 0.]\n",
      "At true_params + [0.1, 0.1]:\n",
      "Loss = 0.44032094\n",
      "Grad(loss) = [2.6187496 4.2603974]\n"
     ]
    }
   ],
   "source": [
    "# Since this notebook kernel is only a single MPI rank, the partial sumstats\n",
    "# are identical to the total sumstats:\n",
    "assert np.all(model.calc_partial_sumstats_from_params(true_params) ==\n",
    "              model.calc_sumstats_from_params(true_params))\n",
    "\n",
    "# Using the `calc_loss_and_grad_from_params` method:\n",
    "\n",
    "# At the true set of parameters, the loss is at a global minimum of 0 :)\n",
    "loss, gradloss = model.calc_loss_and_grad_from_params(true_params)\n",
    "print(\"At true_params:\")\n",
    "print(\"Loss =\", loss)\n",
    "print(\"Grad(loss) =\", gradloss)\n",
    "\n",
    "# Perturbing these parameters yields a descendable gradient\n",
    "loss, gradloss = model.calc_loss_and_grad_from_params(\n",
    "    true_params + jnp.array([0.1, 0.1]))\n",
    "print(\"At true_params + [0.1, 0.1]:\")\n",
    "print(\"Loss =\", loss)\n",
    "print(\"Grad(loss) =\", gradloss)"
   ]
  },
  {
   "cell_type": "markdown",
   "metadata": {},
   "source": [
    "## Recovering the truth with gradient descent\n",
    "\n",
    "MultiGrad provides several built-in gradient descent methods, notably Adam and BFGS. Adam is particularly useful for stochastic problems, but BFGS will likely be more powerful in this case. Running it is as simple as..."
   ]
  },
  {
   "cell_type": "code",
   "execution_count": null,
   "metadata": {},
   "outputs": [
    {
     "name": "stderr",
     "output_type": "stream",
     "text": [
      "BFGS Gradient Descent Progress:  15%|█▌        | 15/100 [00:00<00:05, 16.69it/s]"
     ]
    },
    {
     "name": "stdout",
     "output_type": "stream",
     "text": [
      "BGFS has converged: True\n",
      "Initial guess = [-3.5         0.19999999]\n",
      "True params = [-2.  -0.5]\n",
      "Converged params = [-1.99999865 -0.50000094]\n",
      "\n",
      "Full results info:\n",
      "  message: CONVERGENCE: REL_REDUCTION_OF_F_<=_FACTR*EPSMCH\n",
      "  success: True\n",
      "   status: 0\n",
      "      fun: 5.930545117494024e-12\n",
      "        x: [-2.000e+00 -5.000e-01]\n",
      "      nit: 15\n",
      "      jac: [-1.169e-05 -2.370e-05]\n",
      "     nfev: 31\n",
      "     njev: 31\n",
      " hess_inv: <2x2 LbfgsInvHessProduct with dtype=float64>\n"
     ]
    },
    {
     "name": "stderr",
     "output_type": "stream",
     "text": [
      "\n"
     ]
    }
   ],
   "source": [
    "# Initial guess for our parameters. If it's too far off, there is always a\n",
    "# risk of getting stuck in local minima or other zero-valued gradients\n",
    "init_params = true_params + jnp.array([-1.5, 0.7])\n",
    "\n",
    "# Run gradient descent using the BFGS method powered by scipy\n",
    "params, loss, results = model.run_bfgs(init_params)\n",
    "print(\"BGFS has converged:\", results.success, flush=True)\n",
    "print(\"Initial guess =\", init_params, flush=True)\n",
    "print(\"True params =\", true_params, flush=True)\n",
    "print(\"Converged params =\", results.x, flush=True)\n",
    "print(\"\\nFull results info:\", flush=True)\n",
    "print(results, flush=True)"
   ]
  },
  {
   "cell_type": "code",
   "execution_count": 9,
   "metadata": {},
   "outputs": [
    {
     "data": {
      "image/png": "[encoded data removed]",
      "text/plain": [
       "<Figure size 1000x400 with 2 Axes>"
      ]
     },
     "metadata": {},
     "output_type": "display_data"
    }
   ],
   "source": [
    "axes = plot_hmf_and_smf(true_smf, label=\"Truth\")\n",
    "axes = plot_hmf_and_smf(model.calc_sumstats_from_params(init_params),\n",
    "                        \"k--\", label=\"Initial guess\", axes=axes)\n",
    "axes = plot_hmf_and_smf(model.calc_sumstats_from_params(results.x),\n",
    "                        \"r--\", label=\"Best fit\", axes=axes)"
   ]
  },
  {
   "cell_type": "markdown",
   "metadata": {},
   "source": [
    "## The same thing, but parallel!\n",
    "\n",
    "The power of multigrad is that it sums summary statistics over all given MPI ranks. Note that our halo loading function will automatically distribute the halos evenly across all available ranks, which is what makes this sum mathematically valid. So let's redo this whole fit, but this time in the script `smf_grad_descent.py` which is copied below (this is essentially just copy-and-pasting everything we've done in this notebook):"
   ]
  },
  {
   "cell_type": "markdown",
   "metadata": {},
   "source": [
    "```python\n",
    "\"\"\"\n",
    "smf_grad_descent.py\n",
    "\"\"\"\n",
    "\n",
    "from mpi4py import MPI\n",
    "import jax.scipy\n",
    "from jax import numpy as jnp\n",
    "import numpy as np\n",
    "import matplotlib.pyplot as plt\n",
    "\n",
    "from diffopt import multigrad\n",
    "\n",
    "\n",
    "def load_halo_masses(num_halos=10_000, comm=MPI.COMM_WORLD):\n",
    "    # Generate fake halo masses between 10^10 < M_h < 10^11 as a power law\n",
    "    quantile = jnp.linspace(0, 0.9, num_halos)\n",
    "    mhalo = 1e10 / (1 - quantile)\n",
    "\n",
    "    # Assign halos evenly across given MPI ranks\n",
    "    return np.array_split(mhalo, comm.size)[comm.rank]\n",
    "\n",
    "\n",
    "# Compute one bin of the stellar mass function (SMF)\n",
    "@jax.jit\n",
    "def calc_smf_bin(params, logsm_low, logsm_high, volume, log_halo_masses):\n",
    "    # Unpack model parameters f and sigma\n",
    "    log_f, log_sigma = params\n",
    "    mean_logsm = log_f + log_halo_masses\n",
    "    sigma = 10 ** log_sigma\n",
    "\n",
    "    # Integrating the log-normal PDF over the bin, we get erf:\n",
    "    erf_high = 0.5 * (1 + jax.scipy.special.erf(\n",
    "        (logsm_high - mean_logsm)/(jnp.sqrt(2) * sigma)))\n",
    "    erf_low = 0.5 * (1 + jax.scipy.special.erf(\n",
    "        (logsm_low - mean_logsm)/(jnp.sqrt(2) * sigma)))\n",
    "    prob_in_bin = erf_high - erf_low\n",
    "\n",
    "    # Sum probabilities, convert to number density, divide by bin width\n",
    "    return jnp.sum(prob_in_bin) / volume / (logsm_high - logsm_low)\n",
    "\n",
    "\n",
    "# Compute the stellar mass function over all bins (loop over calc_smf_bin)\n",
    "@jax.jit\n",
    "def calc_smf(params, smf_bin_edges, volume, log_halo_masses):\n",
    "    smf = []\n",
    "    logsm_low = smf_bin_edges[0]\n",
    "    for logsm_high in smf_bin_edges[1:]:\n",
    "        smf_bin = calc_smf_bin(\n",
    "            params, logsm_low, logsm_high, volume, log_halo_masses)\n",
    "        smf.append(smf_bin)\n",
    "        logsm_low = logsm_high\n",
    "    return jnp.array(smf)\n",
    "\n",
    "\n",
    "def plot_hmf_and_smf(smf, logmh_per_rank=None, plotarg=\"C0o-\",\n",
    "                     label=None, axes=None):\n",
    "    if axes is None:\n",
    "        _, axes = plt.subplots(ncols=2, figsize=(10.5, 4))\n",
    "    if logmh_per_rank is not None:\n",
    "        colors = [f\"C{i}\" for i in range(len(logmh_per_rank))]\n",
    "        axes[0].hist(logmh_per_rank, bins=np.linspace(10, 11, 50),\n",
    "                     color=colors, stacked=True)\n",
    "        for i in range(len(colors)):\n",
    "            axes[0].hist([], bins=np.linspace(10, 11, 50),\n",
    "                         color=f\"C{i}\", label=f\"MPI Rank = {i}\")\n",
    "        axes[0].legend(frameon=False)\n",
    "        axes[0].semilogy()\n",
    "        axes[0].set_xlabel(\"$\\\\log M_h$\", fontsize=14)\n",
    "        axes[0].set_ylabel(\"$\\\\Phi(\\\\log M_h)$\", fontsize=14)\n",
    "\n",
    "    smf_bin_cens = 0.5 * (smf_bin_edges[:-1] + smf_bin_edges[1:])\n",
    "    axes[1].semilogy(smf_bin_cens, smf, plotarg, label=label)\n",
    "    if label is not None:\n",
    "        axes[1].legend(frameon=False)\n",
    "    axes[1].set_xlabel(\"$\\\\log M_\\\\star$\", fontsize=14)\n",
    "    axes[1].set_ylabel(\"$\\\\Phi(\\\\log M_\\\\star)$\", fontsize=14)\n",
    "    return axes\n",
    "\n",
    "\n",
    "class MySMFModel(multigrad.OnePointModel):\n",
    "    def calc_partial_sumstats_from_params(self, params):\n",
    "        # Accessing global variables is fine, but I prefer to store them in\n",
    "        # the `aux_data` attribute, which we will define during construction\n",
    "        bin_edges = self.aux_data[\"smf_bin_edges\"]\n",
    "        volume = self.aux_data[\"volume\"]\n",
    "        log_halo_masses = self.aux_data[\"log_halo_masses\"]\n",
    "\n",
    "        return calc_smf(params, bin_edges, volume, log_halo_masses)\n",
    "\n",
    "    def calc_loss_from_sumstats(self, sumstats):\n",
    "        # Add 1e-10 so that log values always remain finite\n",
    "        target_sumstats = jnp.log10(self.aux_data[\"target_sumstats\"] + 1e-10)\n",
    "        sumstats = jnp.log10(sumstats + 1e-10)\n",
    "        # Reduced chi2 loss function assuming unit errors (mean squared error)\n",
    "        return jnp.mean((sumstats - target_sumstats)**2)\n",
    "\n",
    "\n",
    "if __name__ == \"__main__\":\n",
    "    volume = 1.0\n",
    "    smf_bin_edges = jnp.linspace(9, 10, 11)\n",
    "    true_params = jnp.array([-2.0, -0.5])\n",
    "\n",
    "    log_halo_masses = jnp.log10(load_halo_masses(10_000))\n",
    "    logmh_per_rank = MPI.COMM_WORLD.allgather(log_halo_masses)  # for plotting\n",
    "\n",
    "    # We must sum calc_smf over all MPI ranks this time\n",
    "    # Could equivalently use model.calc_sumstats_from_params(true_params)\n",
    "    true_smf = multigrad.reduce_sum(\n",
    "        calc_smf(true_params, smf_bin_edges, volume, log_halo_masses))\n",
    "\n",
    "    aux_data = dict(\n",
    "        log_halo_masses=log_halo_masses,\n",
    "        smf_bin_edges=smf_bin_edges,\n",
    "        volume=volume,\n",
    "        target_sumstats=true_smf  # SMF at truth: params=(-2.0, -0.5)\n",
    "    )\n",
    "    model = MySMFModel(aux_data=aux_data)\n",
    "\n",
    "    # Initial guess for our parameters. If it's too far off, there is always a\n",
    "    # risk of getting stuck in local minima or other zero-valued gradients\n",
    "    init_params = true_params + jnp.array([-1.5, 0.7])\n",
    "\n",
    "    # Run gradient descent using the BFGS method powered by scipy\n",
    "    _, _, results = model.run_bfgs(init_params)\n",
    "\n",
    "    init_smf = model.calc_sumstats_from_params(init_params)\n",
    "    final_smf = model.calc_sumstats_from_params(results.x)\n",
    "    # Print and plot results from the root rank only\n",
    "    if not MPI.COMM_WORLD.rank:\n",
    "        print(\"BGFS has converged:\", results.success, flush=True)\n",
    "        print(\"Initial guess =\", init_params, flush=True)\n",
    "        print(\"True params =\", true_params, flush=True)\n",
    "        print(\"Converged params =\", results.x, flush=True)\n",
    "        print(\"\\nFull results info:\", flush=True)\n",
    "        print(results, flush=True)\n",
    "\n",
    "        axes = plot_hmf_and_smf(\n",
    "            true_smf, logmh_per_rank, label=\"Truth\")\n",
    "        axes = plot_hmf_and_smf(\n",
    "            init_smf, None, \"k--\", label=\"Initial guess\", axes=axes)\n",
    "        axes = plot_hmf_and_smf(\n",
    "            final_smf, None, \"r--\", label=\"Best fit\", axes=axes)\n",
    "\n",
    "        plt.savefig(\"smf_gradient_descent.png\", bbox_inches=\"tight\")\n",
    "```"
   ]
  },
  {
   "cell_type": "markdown",
   "metadata": {},
   "source": [
    "Now let's run this with three MPI ranks. Executing `mpiexec -n 3 python smf_gradient_descent.py` yields approximately the same results down to machine precision, but with each rank only loading 1/3 of the halo data. There is no speedup observed here due to the computation being very cheap with a small dataset of 10,000 halos, but if we increased this significantly, we would see a 3x speedup.\n",
    "\n",
    "```txt\n",
    "BFGS Gradient Descent Progress:  16%|█▌        | 16/100 [00:03<00:15,  5.26it/s]\n",
    "BGFS has converged: True\n",
    "Initial guess = [-3.5         0.19999999]\n",
    "True params = [-2.  -0.5]\n",
    "Converged params = [-2.00000006 -0.49999987]\n",
    "\n",
    "Full results info:\n",
    "  message: CONVERGENCE: NORM_OF_PROJECTED_GRADIENT_<=_PGTOL\n",
    "  success: True\n",
    "   status: 0\n",
    "      fun: 4.862954657014473e-12\n",
    "        x: [-2.000e+00 -5.000e-01]\n",
    "      nit: 16\n",
    "      jac: [ 5.082e-06  9.755e-06]\n",
    "     nfev: 29\n",
    "     njev: 29\n",
    " hess_inv: <2x2 LbfgsInvHessProduct with dtype=float64>\n",
    "```\n",
    "![Results plot](./smf_gradient_descent.png)"
   ]
  }
 ],
 "metadata": {
  "kernelspec": {
   "display_name": "main311",
   "language": "python",
   "name": "python3"
  },
  "language_info": {
   "codemirror_mode": {
    "name": "ipython",
    "version": 3
   },
   "file_extension": ".py",
   "mimetype": "text/x-python",
   "name": "python",
   "nbconvert_exporter": "python",
   "pygments_lexer": "ipython3",
   "version": "3.11.8"
  }
 },
 "nbformat": 4,
 "nbformat_minor": 2
}
