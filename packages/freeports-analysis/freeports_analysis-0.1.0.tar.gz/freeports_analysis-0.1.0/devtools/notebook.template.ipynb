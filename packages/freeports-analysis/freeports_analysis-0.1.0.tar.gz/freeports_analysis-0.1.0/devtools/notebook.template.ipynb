{
 "cells": [
  {
   "cell_type": "code",
   "execution_count": null,
   "id": "6bc82d25",
   "metadata": {},
   "outputs": [],
   "source": [
    "\"\"\" \n",
    "This scratchbook is for analizing the pdf structure in order to construct the module in the main package.\n",
    "NB: This is only a template; creata a copy and change the exstension from `*.template.ipynb` to `*.ipynb` \n",
    "    so that is ignored by git.\n",
    "\"\"\""
   ]
  },
  {
   "cell_type": "markdown",
   "id": "0aa601fe",
   "metadata": {},
   "source": [
    "# Developer Scratchbook"
   ]
  },
  {
   "cell_type": "code",
   "execution_count": null,
   "id": "dc3875d3",
   "metadata": {},
   "outputs": [],
   "source": [
    "import freeports_analysis as fra"
   ]
  }
 ],
 "metadata": {
  "language_info": {
   "name": "python"
  }
 },
 "nbformat": 4,
 "nbformat_minor": 5
}
