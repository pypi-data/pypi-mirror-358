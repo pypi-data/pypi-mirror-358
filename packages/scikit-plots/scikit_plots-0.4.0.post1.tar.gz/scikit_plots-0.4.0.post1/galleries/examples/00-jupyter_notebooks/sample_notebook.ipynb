{
 "cells": [
  {
   "cell_type": "markdown",
   "id": "62360ff0",
   "metadata": {},
   "source": [
    "# This is a Jupyter Notebook"
   ]
  },
  {
   "cell_type": "code",
   "execution_count": 1,
   "id": "b9f8bed0",
   "metadata": {},
   "outputs": [
    {
     "name": "stdout",
     "output_type": "stream",
     "text": [
      "2025-05-29 12:51:26.825813: D scikitplot 132020496942144 _citation.py:61:_get_bibtex] _bibtex from attr CITATION text\n",
      "2025-05-29 12:51:29.950477: D scikitplot 132020496942144 165456975.py:6:<module>] Falling back to logging.setup_logging_for_jupyter\n"
     ]
    },
    {
     "ename": "TypeError",
     "evalue": "'NoneType' object is not callable",
     "output_type": "error",
     "traceback": [
      "\u001b[0;31m---------------------------------------------------------------------------\u001b[0m",
      "\u001b[0;31mTypeError\u001b[0m                                 Traceback (most recent call last)",
      "Cell \u001b[0;32mIn[1], line 6\u001b[0m\n\u001b[1;32m      3\u001b[0m \u001b[38;5;28;01mfrom\u001b[39;00m\u001b[38;5;250m \u001b[39m\u001b[38;5;21;01mscikitplot\u001b[39;00m\u001b[38;5;250m \u001b[39m\u001b[38;5;28;01mimport\u001b[39;00m stats\n\u001b[1;32m      5\u001b[0m \u001b[38;5;66;03m# Enable notebook info logger mode\u001b[39;00m\n\u001b[0;32m----> 6\u001b[0m logger \u001b[38;5;241m=\u001b[39m sp\u001b[38;5;241m.\u001b[39msp_logging\u001b[38;5;241m.\u001b[39msetup_logging_for_jupyter()\n\u001b[1;32m      7\u001b[0m sp\u001b[38;5;241m.\u001b[39m__version__\n",
      "\u001b[0;31mTypeError\u001b[0m: 'NoneType' object is not callable"
     ]
    }
   ],
   "source": [
    "# Import scikit-plot\n",
    "import scikitplot as sp\n",
    "from scikitplot import stats\n",
    "\n",
    "# Enable notebook info logger mode\n",
    "logger = sp.sp_logging.setup_logging_for_jupyter()\n",
    "sp.__version__"
   ]
  },
  {
   "cell_type": "code",
   "execution_count": null,
   "id": "5a7d9405",
   "metadata": {},
   "outputs": [],
   "source": [
    "# Set up logging\n",
    "# import logging\n",
    "# logging.basicConfig(level=logging.DEBUG)\n",
    "# logger = logging.getLogger(__name__)"
   ]
  },
  {
   "cell_type": "code",
   "execution_count": null,
   "id": "a5077823",
   "metadata": {},
   "outputs": [],
   "source": [
    "import os\n",
    "import time\n",
    "from pprint import pprint\n",
    "\n",
    "import numpy as np\n",
    "np.random.seed(0)\n",
    "import matplotlib.pyplot as plt\n",
    "import seaborn as sns"
   ]
  },
  {
   "cell_type": "code",
   "execution_count": null,
   "metadata": {},
   "outputs": [],
   "source": []
  },
  {
   "cell_type": "code",
   "execution_count": null,
   "metadata": {},
   "outputs": [],
   "source": []
  }
 ],
 "metadata": {
  "kernelspec": {
   "display_name": "py311",
   "language": "python",
   "name": "python3"
  },
  "language_info": {
   "codemirror_mode": {
    "name": "ipython",
    "version": 3
   },
   "file_extension": ".py",
   "mimetype": "text/x-python",
   "name": "python",
   "nbconvert_exporter": "python",
   "pygments_lexer": "ipython3",
   "version": "3.11.11"
  }
 },
 "nbformat": 4,
 "nbformat_minor": 5
}
