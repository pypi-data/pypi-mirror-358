{
 "cells": [
  {
   "cell_type": "code",
   "execution_count": 12,
   "metadata": {},
   "outputs": [],
   "source": [
    "from pangaeapy.pandataset import PanDataSet\n",
    "import pandas as pd\n",
    "import matplotlib.pyplot as plt\n",
    "ds = PanDataSet('10.1594/PANGAEA.864110')"
   ]
  },
  {
   "cell_type": "code",
   "execution_count": 16,
   "metadata": {},
   "outputs": [
    {
     "data": {
      "text/plain": [
       "'Moored current and temperature measurements in the Faroe Bank Channel overflow region at mooring site C3, June 2012-June 2013'"
      ]
     },
     "execution_count": 16,
     "metadata": {},
     "output_type": "execute_result"
    }
   ],
   "source": [
    "ds.title"
   ]
  },
  {
   "cell_type": "code",
   "execution_count": 17,
   "metadata": {
    "scrolled": true
   },
   "outputs": [
    {
     "data": {
      "text/html": [
       "<div>\n",
       "<style scoped>\n",
       "    .dataframe tbody tr th:only-of-type {\n",
       "        vertical-align: middle;\n",
       "    }\n",
       "\n",
       "    .dataframe tbody tr th {\n",
       "        vertical-align: top;\n",
       "    }\n",
       "\n",
       "    .dataframe thead th {\n",
       "        text-align: right;\n",
       "    }\n",
       "</style>\n",
       "<table border=\"1\" class=\"dataframe\">\n",
       "  <thead>\n",
       "    <tr style=\"text-align: right;\">\n",
       "      <th></th>\n",
       "      <th>Date/Time</th>\n",
       "      <th>Depth water</th>\n",
       "      <th>Temp</th>\n",
       "      <th>UC</th>\n",
       "      <th>VC</th>\n",
       "      <th>Latitude</th>\n",
       "      <th>Longitude</th>\n",
       "      <th>Elevation</th>\n",
       "      <th>Event</th>\n",
       "    </tr>\n",
       "  </thead>\n",
       "  <tbody>\n",
       "    <tr>\n",
       "      <th>0</th>\n",
       "      <td>2012-05-28 20:00:00</td>\n",
       "      <td>833</td>\n",
       "      <td>-0.2551</td>\n",
       "      <td>-34.15</td>\n",
       "      <td>62.68</td>\n",
       "      <td>61.5601</td>\n",
       "      <td>-8.6284</td>\n",
       "      <td>-859.0</td>\n",
       "      <td>FBC2012_C3</td>\n",
       "    </tr>\n",
       "    <tr>\n",
       "      <th>1</th>\n",
       "      <td>2012-05-28 21:00:00</td>\n",
       "      <td>833</td>\n",
       "      <td>-0.2582</td>\n",
       "      <td>-29.16</td>\n",
       "      <td>46.27</td>\n",
       "      <td>61.5601</td>\n",
       "      <td>-8.6284</td>\n",
       "      <td>-859.0</td>\n",
       "      <td>FBC2012_C3</td>\n",
       "    </tr>\n",
       "    <tr>\n",
       "      <th>2</th>\n",
       "      <td>2012-05-28 22:00:00</td>\n",
       "      <td>833</td>\n",
       "      <td>-0.2578</td>\n",
       "      <td>-18.63</td>\n",
       "      <td>41.89</td>\n",
       "      <td>61.5601</td>\n",
       "      <td>-8.6284</td>\n",
       "      <td>-859.0</td>\n",
       "      <td>FBC2012_C3</td>\n",
       "    </tr>\n",
       "    <tr>\n",
       "      <th>3</th>\n",
       "      <td>2012-05-28 23:00:00</td>\n",
       "      <td>833</td>\n",
       "      <td>-0.2577</td>\n",
       "      <td>-20.44</td>\n",
       "      <td>46.77</td>\n",
       "      <td>61.5601</td>\n",
       "      <td>-8.6284</td>\n",
       "      <td>-859.0</td>\n",
       "      <td>FBC2012_C3</td>\n",
       "    </tr>\n",
       "    <tr>\n",
       "      <th>4</th>\n",
       "      <td>2012-05-29 00:00:00</td>\n",
       "      <td>833</td>\n",
       "      <td>-0.2579</td>\n",
       "      <td>-20.79</td>\n",
       "      <td>44.63</td>\n",
       "      <td>61.5601</td>\n",
       "      <td>-8.6284</td>\n",
       "      <td>-859.0</td>\n",
       "      <td>FBC2012_C3</td>\n",
       "    </tr>\n",
       "  </tbody>\n",
       "</table>\n",
       "</div>"
      ],
      "text/plain": [
       "            Date/Time  Depth water    Temp     UC     VC  Latitude  Longitude  \\\n",
       "0 2012-05-28 20:00:00          833 -0.2551 -34.15  62.68   61.5601    -8.6284   \n",
       "1 2012-05-28 21:00:00          833 -0.2582 -29.16  46.27   61.5601    -8.6284   \n",
       "2 2012-05-28 22:00:00          833 -0.2578 -18.63  41.89   61.5601    -8.6284   \n",
       "3 2012-05-28 23:00:00          833 -0.2577 -20.44  46.77   61.5601    -8.6284   \n",
       "4 2012-05-29 00:00:00          833 -0.2579 -20.79  44.63   61.5601    -8.6284   \n",
       "\n",
       "   Elevation       Event  \n",
       "0     -859.0  FBC2012_C3  \n",
       "1     -859.0  FBC2012_C3  \n",
       "2     -859.0  FBC2012_C3  \n",
       "3     -859.0  FBC2012_C3  \n",
       "4     -859.0  FBC2012_C3  "
      ]
     },
     "execution_count": 17,
     "metadata": {},
     "output_type": "execute_result"
    }
   ],
   "source": [
    "ds.data.head()"
   ]
  },
  {
   "cell_type": "code",
   "execution_count": 5,
   "metadata": {},
   "outputs": [
    {
     "data": {
      "text/plain": [
       "Index(['Date/Time', 'Depth water', 'Temp', 'UC', 'VC', 'Latitude', 'Longitude',\n",
       "       'Elevation', 'Event'],\n",
       "      dtype='object')"
      ]
     },
     "execution_count": 5,
     "metadata": {},
     "output_type": "execute_result"
    }
   ],
   "source": [
    "ds.data.columns"
   ]
  },
  {
   "cell_type": "code",
   "execution_count": 6,
   "metadata": {},
   "outputs": [
    {
     "data": {
      "text/plain": [
       "array([833, 828, 823, 818, 813, 808, 803, 798, 793, 788, 783, 778, 773,\n",
       "       768, 763, 758, 753, 748, 743, 738, 733, 728, 723], dtype=int64)"
      ]
     },
     "execution_count": 6,
     "metadata": {},
     "output_type": "execute_result"
    }
   ],
   "source": [
    "ds.data['Depth water'].unique()"
   ]
  },
  {
   "cell_type": "code",
   "execution_count": 21,
   "metadata": {},
   "outputs": [],
   "source": [
    "ds.data.set_index(['Date/Time'], inplace=True)"
   ]
  },
  {
   "cell_type": "code",
   "execution_count": 22,
   "metadata": {},
   "outputs": [
    {
     "data": {
      "text/html": [
       "<div>\n",
       "<style scoped>\n",
       "    .dataframe tbody tr th:only-of-type {\n",
       "        vertical-align: middle;\n",
       "    }\n",
       "\n",
       "    .dataframe tbody tr th {\n",
       "        vertical-align: top;\n",
       "    }\n",
       "\n",
       "    .dataframe thead th {\n",
       "        text-align: right;\n",
       "    }\n",
       "</style>\n",
       "<table border=\"1\" class=\"dataframe\">\n",
       "  <thead>\n",
       "    <tr style=\"text-align: right;\">\n",
       "      <th>Date/Time</th>\n",
       "      <th>2012-05-28 18:00:00</th>\n",
       "      <th>2012-05-28 19:00:00</th>\n",
       "      <th>2012-05-28 20:00:00</th>\n",
       "      <th>2012-05-28 21:00:00</th>\n",
       "      <th>2012-05-28 22:00:00</th>\n",
       "      <th>2012-05-28 23:00:00</th>\n",
       "      <th>2012-05-29 00:00:00</th>\n",
       "      <th>2012-05-29 01:00:00</th>\n",
       "      <th>2012-05-29 02:00:00</th>\n",
       "      <th>2012-05-29 03:00:00</th>\n",
       "      <th>...</th>\n",
       "      <th>2012-06-20 14:00:00</th>\n",
       "      <th>2012-06-20 15:00:00</th>\n",
       "      <th>2012-06-20 16:00:00</th>\n",
       "      <th>2012-06-20 17:00:00</th>\n",
       "      <th>2012-06-20 18:00:00</th>\n",
       "      <th>2012-06-20 19:00:00</th>\n",
       "      <th>2012-06-20 20:00:00</th>\n",
       "      <th>2012-06-20 21:00:00</th>\n",
       "      <th>2012-06-20 22:00:00</th>\n",
       "      <th>2012-06-20 23:00:00</th>\n",
       "    </tr>\n",
       "    <tr>\n",
       "      <th>Depth water</th>\n",
       "      <th></th>\n",
       "      <th></th>\n",
       "      <th></th>\n",
       "      <th></th>\n",
       "      <th></th>\n",
       "      <th></th>\n",
       "      <th></th>\n",
       "      <th></th>\n",
       "      <th></th>\n",
       "      <th></th>\n",
       "      <th></th>\n",
       "      <th></th>\n",
       "      <th></th>\n",
       "      <th></th>\n",
       "      <th></th>\n",
       "      <th></th>\n",
       "      <th></th>\n",
       "      <th></th>\n",
       "      <th></th>\n",
       "      <th></th>\n",
       "      <th></th>\n",
       "    </tr>\n",
       "  </thead>\n",
       "  <tbody>\n",
       "    <tr>\n",
       "      <th>728</th>\n",
       "      <td>62.64</td>\n",
       "      <td>69.31</td>\n",
       "      <td>54.24</td>\n",
       "      <td>42.62</td>\n",
       "      <td>47.04</td>\n",
       "      <td>52.68</td>\n",
       "      <td>49.00</td>\n",
       "      <td>46.68</td>\n",
       "      <td>43.72</td>\n",
       "      <td>48.20</td>\n",
       "      <td>...</td>\n",
       "      <td>-15.08</td>\n",
       "      <td>-1.74</td>\n",
       "      <td>12.11</td>\n",
       "      <td>9.72</td>\n",
       "      <td>14.72</td>\n",
       "      <td>11.51</td>\n",
       "      <td>12.56</td>\n",
       "      <td>8.96</td>\n",
       "      <td>20.63</td>\n",
       "      <td>34.84</td>\n",
       "    </tr>\n",
       "    <tr>\n",
       "      <th>733</th>\n",
       "      <td>63.89</td>\n",
       "      <td>67.39</td>\n",
       "      <td>51.93</td>\n",
       "      <td>45.14</td>\n",
       "      <td>46.02</td>\n",
       "      <td>51.32</td>\n",
       "      <td>49.76</td>\n",
       "      <td>44.90</td>\n",
       "      <td>44.38</td>\n",
       "      <td>50.22</td>\n",
       "      <td>...</td>\n",
       "      <td>-13.39</td>\n",
       "      <td>1.37</td>\n",
       "      <td>11.71</td>\n",
       "      <td>10.84</td>\n",
       "      <td>15.19</td>\n",
       "      <td>13.47</td>\n",
       "      <td>12.04</td>\n",
       "      <td>12.72</td>\n",
       "      <td>23.23</td>\n",
       "      <td>36.84</td>\n",
       "    </tr>\n",
       "    <tr>\n",
       "      <th>738</th>\n",
       "      <td>65.03</td>\n",
       "      <td>66.63</td>\n",
       "      <td>57.84</td>\n",
       "      <td>46.47</td>\n",
       "      <td>44.50</td>\n",
       "      <td>50.59</td>\n",
       "      <td>48.76</td>\n",
       "      <td>41.94</td>\n",
       "      <td>45.02</td>\n",
       "      <td>49.09</td>\n",
       "      <td>...</td>\n",
       "      <td>-9.61</td>\n",
       "      <td>4.89</td>\n",
       "      <td>9.21</td>\n",
       "      <td>11.47</td>\n",
       "      <td>17.30</td>\n",
       "      <td>11.30</td>\n",
       "      <td>14.19</td>\n",
       "      <td>13.46</td>\n",
       "      <td>27.27</td>\n",
       "      <td>36.73</td>\n",
       "    </tr>\n",
       "    <tr>\n",
       "      <th>743</th>\n",
       "      <td>65.97</td>\n",
       "      <td>69.51</td>\n",
       "      <td>63.43</td>\n",
       "      <td>46.06</td>\n",
       "      <td>46.61</td>\n",
       "      <td>49.73</td>\n",
       "      <td>49.05</td>\n",
       "      <td>39.80</td>\n",
       "      <td>48.14</td>\n",
       "      <td>48.97</td>\n",
       "      <td>...</td>\n",
       "      <td>-7.42</td>\n",
       "      <td>5.06</td>\n",
       "      <td>10.84</td>\n",
       "      <td>12.63</td>\n",
       "      <td>16.70</td>\n",
       "      <td>8.66</td>\n",
       "      <td>16.99</td>\n",
       "      <td>14.16</td>\n",
       "      <td>29.06</td>\n",
       "      <td>38.06</td>\n",
       "    </tr>\n",
       "    <tr>\n",
       "      <th>748</th>\n",
       "      <td>65.34</td>\n",
       "      <td>68.43</td>\n",
       "      <td>64.76</td>\n",
       "      <td>50.04</td>\n",
       "      <td>47.80</td>\n",
       "      <td>52.62</td>\n",
       "      <td>48.30</td>\n",
       "      <td>36.16</td>\n",
       "      <td>47.53</td>\n",
       "      <td>48.34</td>\n",
       "      <td>...</td>\n",
       "      <td>-6.28</td>\n",
       "      <td>6.77</td>\n",
       "      <td>10.12</td>\n",
       "      <td>10.65</td>\n",
       "      <td>18.58</td>\n",
       "      <td>10.23</td>\n",
       "      <td>16.81</td>\n",
       "      <td>13.72</td>\n",
       "      <td>30.16</td>\n",
       "      <td>39.06</td>\n",
       "    </tr>\n",
       "  </tbody>\n",
       "</table>\n",
       "<p>5 rows × 558 columns</p>\n",
       "</div>"
      ],
      "text/plain": [
       "Date/Time    2012-05-28 18:00:00  2012-05-28 19:00:00  2012-05-28 20:00:00  \\\n",
       "Depth water                                                                  \n",
       "728                        62.64                69.31                54.24   \n",
       "733                        63.89                67.39                51.93   \n",
       "738                        65.03                66.63                57.84   \n",
       "743                        65.97                69.51                63.43   \n",
       "748                        65.34                68.43                64.76   \n",
       "\n",
       "Date/Time    2012-05-28 21:00:00  2012-05-28 22:00:00  2012-05-28 23:00:00  \\\n",
       "Depth water                                                                  \n",
       "728                        42.62                47.04                52.68   \n",
       "733                        45.14                46.02                51.32   \n",
       "738                        46.47                44.50                50.59   \n",
       "743                        46.06                46.61                49.73   \n",
       "748                        50.04                47.80                52.62   \n",
       "\n",
       "Date/Time    2012-05-29 00:00:00  2012-05-29 01:00:00  2012-05-29 02:00:00  \\\n",
       "Depth water                                                                  \n",
       "728                        49.00                46.68                43.72   \n",
       "733                        49.76                44.90                44.38   \n",
       "738                        48.76                41.94                45.02   \n",
       "743                        49.05                39.80                48.14   \n",
       "748                        48.30                36.16                47.53   \n",
       "\n",
       "Date/Time    2012-05-29 03:00:00         ...           2012-06-20 14:00:00  \\\n",
       "Depth water                              ...                                 \n",
       "728                        48.20         ...                        -15.08   \n",
       "733                        50.22         ...                        -13.39   \n",
       "738                        49.09         ...                         -9.61   \n",
       "743                        48.97         ...                         -7.42   \n",
       "748                        48.34         ...                         -6.28   \n",
       "\n",
       "Date/Time    2012-06-20 15:00:00  2012-06-20 16:00:00  2012-06-20 17:00:00  \\\n",
       "Depth water                                                                  \n",
       "728                        -1.74                12.11                 9.72   \n",
       "733                         1.37                11.71                10.84   \n",
       "738                         4.89                 9.21                11.47   \n",
       "743                         5.06                10.84                12.63   \n",
       "748                         6.77                10.12                10.65   \n",
       "\n",
       "Date/Time    2012-06-20 18:00:00  2012-06-20 19:00:00  2012-06-20 20:00:00  \\\n",
       "Depth water                                                                  \n",
       "728                        14.72                11.51                12.56   \n",
       "733                        15.19                13.47                12.04   \n",
       "738                        17.30                11.30                14.19   \n",
       "743                        16.70                 8.66                16.99   \n",
       "748                        18.58                10.23                16.81   \n",
       "\n",
       "Date/Time    2012-06-20 21:00:00  2012-06-20 22:00:00  2012-06-20 23:00:00  \n",
       "Depth water                                                                 \n",
       "728                         8.96                20.63                34.84  \n",
       "733                        12.72                23.23                36.84  \n",
       "738                        13.46                27.27                36.73  \n",
       "743                        14.16                29.06                38.06  \n",
       "748                        13.72                30.16                39.06  \n",
       "\n",
       "[5 rows x 558 columns]"
      ]
     },
     "execution_count": 22,
     "metadata": {},
     "output_type": "execute_result"
    }
   ],
   "source": [
    "mf= pd.pivot_table(ds.data.loc['2012-04-01':'2012-06-20'], index='Depth water', columns='Date/Time', values='VC',fill_value=0)\n",
    "mf.head()"
   ]
  },
  {
   "cell_type": "code",
   "execution_count": 23,
   "metadata": {},
   "outputs": [
    {
     "data": {
      "image/png": "[encoded data removed]",
      "text/plain": [
       "<Figure size 1296x288 with 2 Axes>"
      ]
     },
     "metadata": {
      "needs_background": "light"
     },
     "output_type": "display_data"
    }
   ],
   "source": [
    "#import matplotlib.pyplot as plt\n",
    "import seaborn as sns\n",
    "import numpy as np\n",
    "import matplotlib.ticker as ticker\n",
    "import matplotlib.dates as mdates\n",
    "fig=plt.figure(figsize=(18,4))\n",
    "ax=sns.heatmap(mf, square=False,cmap=\"jet\")\n",
    "#ax.xaxis.set_major_locator(ticker.LinearLocator(numticks=6))\n",
    "plt.show()"
   ]
  },
  {
   "cell_type": "markdown",
   "metadata": {},
   "source": [
    "# References:"
   ]
  },
  {
   "cell_type": "code",
   "execution_count": 25,
   "metadata": {},
   "outputs": [
    {
     "data": {
      "text/plain": [
       "'Fer, Ilker; Darelius, Elin; Ullgren, Jenny (2016): Moored current and temperature measurements in the Faroe Bank Channel overflow region at mooring site C3, June 2012-June 2013. Geophysical Institute, University of Bergen, PANGAEA, https://doi.org/10.1594/PANGAEA.864110, In: Fer, I et al. (2016): Moored current and temperature measurements in the Faroe Bank Channel overflow region, June 2012-June 2013. Geophysical Institute, University of Bergen, PANGAEA, https://doi.org/10.1594/PANGAEA.864129'"
      ]
     },
     "execution_count": 25,
     "metadata": {},
     "output_type": "execute_result"
    }
   ],
   "source": [
    "ds.citation"
   ]
  }
 ],
 "metadata": {
  "kernelspec": {
   "display_name": "Python 3",
   "language": "python",
   "name": "python3"
  },
  "language_info": {
   "codemirror_mode": {
    "name": "ipython",
    "version": 3
   },
   "file_extension": ".py",
   "mimetype": "text/x-python",
   "name": "python",
   "nbconvert_exporter": "python",
   "pygments_lexer": "ipython3",
   "version": "3.7.0"
  }
 },
 "nbformat": 4,
 "nbformat_minor": 2
}
