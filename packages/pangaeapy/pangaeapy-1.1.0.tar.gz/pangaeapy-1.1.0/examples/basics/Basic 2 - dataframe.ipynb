{
 "cells": [
  {
   "cell_type": "markdown",
   "metadata": {},
   "source": [
    "# Basic pangaeapy example: dataframe"
   ]
  },
  {
   "cell_type": "code",
   "execution_count": 2,
   "metadata": {},
   "outputs": [],
   "source": [
    "from pangaeapy import PanDataSet"
   ]
  },
  {
   "cell_type": "code",
   "execution_count": 3,
   "metadata": {},
   "outputs": [],
   "source": [
    "ds=PanDataSet(896621)"
   ]
  },
  {
   "cell_type": "markdown",
   "metadata": {},
   "source": [
    "After the dataset object has been instantiated, the data can be accessed using standard pandas data frame methods.\n",
    "Let's look at the first rows of data with head()"
   ]
  },
  {
   "cell_type": "code",
   "execution_count": 8,
   "metadata": {},
   "outputs": [
    {
     "data": {
      "text/html": [
       "<div>\n",
       "<style scoped>\n",
       "    .dataframe tbody tr th:only-of-type {\n",
       "        vertical-align: middle;\n",
       "    }\n",
       "\n",
       "    .dataframe tbody tr th {\n",
       "        vertical-align: top;\n",
       "    }\n",
       "\n",
       "    .dataframe thead th {\n",
       "        text-align: right;\n",
       "    }\n",
       "</style>\n",
       "<table border=\"1\" class=\"dataframe\">\n",
       "  <thead>\n",
       "    <tr style=\"text-align: right;\">\n",
       "      <th></th>\n",
       "      <th>Event</th>\n",
       "      <th>Latitude</th>\n",
       "      <th>Longitude</th>\n",
       "      <th>Elevation</th>\n",
       "      <th>Sample label</th>\n",
       "      <th>Depth</th>\n",
       "      <th>DPA conc</th>\n",
       "    </tr>\n",
       "  </thead>\n",
       "  <tbody>\n",
       "    <tr>\n",
       "      <th>0</th>\n",
       "      <td>201-1226B</td>\n",
       "      <td>-3.0945</td>\n",
       "      <td>-90.818</td>\n",
       "      <td>-3297.0</td>\n",
       "      <td>201-1226B-2H-3</td>\n",
       "      <td>7.9</td>\n",
       "      <td>0.06</td>\n",
       "    </tr>\n",
       "    <tr>\n",
       "      <th>1</th>\n",
       "      <td>201-1226B</td>\n",
       "      <td>-3.0945</td>\n",
       "      <td>-90.818</td>\n",
       "      <td>-3297.0</td>\n",
       "      <td>201-1226B-3H-3</td>\n",
       "      <td>16.9</td>\n",
       "      <td>0.10</td>\n",
       "    </tr>\n",
       "    <tr>\n",
       "      <th>2</th>\n",
       "      <td>201-1226B</td>\n",
       "      <td>-3.0945</td>\n",
       "      <td>-90.818</td>\n",
       "      <td>-3297.0</td>\n",
       "      <td>201-1226B-5H-3</td>\n",
       "      <td>35.9</td>\n",
       "      <td>NaN</td>\n",
       "    </tr>\n",
       "    <tr>\n",
       "      <th>3</th>\n",
       "      <td>201-1226B</td>\n",
       "      <td>-3.0945</td>\n",
       "      <td>-90.818</td>\n",
       "      <td>-3297.0</td>\n",
       "      <td>201-1226B-9H-3</td>\n",
       "      <td>73.9</td>\n",
       "      <td>0.04</td>\n",
       "    </tr>\n",
       "    <tr>\n",
       "      <th>4</th>\n",
       "      <td>201-1226B</td>\n",
       "      <td>-3.0945</td>\n",
       "      <td>-90.818</td>\n",
       "      <td>-3297.0</td>\n",
       "      <td>201-1226B-18H-3</td>\n",
       "      <td>159.7</td>\n",
       "      <td>0.04</td>\n",
       "    </tr>\n",
       "  </tbody>\n",
       "</table>\n",
       "</div>"
      ],
      "text/plain": [
       "       Event  Latitude  Longitude  Elevation     Sample label  Depth  DPA conc\n",
       "0  201-1226B   -3.0945    -90.818    -3297.0   201-1226B-2H-3    7.9      0.06\n",
       "1  201-1226B   -3.0945    -90.818    -3297.0   201-1226B-3H-3   16.9      0.10\n",
       "2  201-1226B   -3.0945    -90.818    -3297.0   201-1226B-5H-3   35.9       NaN\n",
       "3  201-1226B   -3.0945    -90.818    -3297.0   201-1226B-9H-3   73.9      0.04\n",
       "4  201-1226B   -3.0945    -90.818    -3297.0  201-1226B-18H-3  159.7      0.04"
      ]
     },
     "execution_count": 8,
     "metadata": {},
     "output_type": "execute_result"
    }
   ],
   "source": [
    "ds.data.head()"
   ]
  },
  {
   "cell_type": "markdown",
   "metadata": {},
   "source": [
    "Now we can take a look at some basic statistics of the data with describe()"
   ]
  },
  {
   "cell_type": "code",
   "execution_count": 7,
   "metadata": {},
   "outputs": [
    {
     "data": {
      "text/html": [
       "<div>\n",
       "<style scoped>\n",
       "    .dataframe tbody tr th:only-of-type {\n",
       "        vertical-align: middle;\n",
       "    }\n",
       "\n",
       "    .dataframe tbody tr th {\n",
       "        vertical-align: top;\n",
       "    }\n",
       "\n",
       "    .dataframe thead th {\n",
       "        text-align: right;\n",
       "    }\n",
       "</style>\n",
       "<table border=\"1\" class=\"dataframe\">\n",
       "  <thead>\n",
       "    <tr style=\"text-align: right;\">\n",
       "      <th></th>\n",
       "      <th>Latitude</th>\n",
       "      <th>Longitude</th>\n",
       "      <th>Elevation</th>\n",
       "      <th>Depth</th>\n",
       "      <th>DPA conc</th>\n",
       "    </tr>\n",
       "  </thead>\n",
       "  <tbody>\n",
       "    <tr>\n",
       "      <th>count</th>\n",
       "      <td>331.000000</td>\n",
       "      <td>331.000000</td>\n",
       "      <td>314.000000</td>\n",
       "      <td>331.000000</td>\n",
       "      <td>220.000000</td>\n",
       "    </tr>\n",
       "    <tr>\n",
       "      <th>mean</th>\n",
       "      <td>19.755276</td>\n",
       "      <td>-5.090480</td>\n",
       "      <td>-2365.742038</td>\n",
       "      <td>53.237631</td>\n",
       "      <td>0.740091</td>\n",
       "    </tr>\n",
       "    <tr>\n",
       "      <th>std</th>\n",
       "      <td>28.704238</td>\n",
       "      <td>101.973219</td>\n",
       "      <td>1727.865345</td>\n",
       "      <td>89.039942</td>\n",
       "      <td>1.976623</td>\n",
       "    </tr>\n",
       "    <tr>\n",
       "      <th>min</th>\n",
       "      <td>-45.964200</td>\n",
       "      <td>-165.644200</td>\n",
       "      <td>-5697.000000</td>\n",
       "      <td>0.015000</td>\n",
       "      <td>0.010000</td>\n",
       "    </tr>\n",
       "    <tr>\n",
       "      <th>25%</th>\n",
       "      <td>-3.094100</td>\n",
       "      <td>-89.002300</td>\n",
       "      <td>-3655.000000</td>\n",
       "      <td>3.487500</td>\n",
       "      <td>0.070000</td>\n",
       "    </tr>\n",
       "    <tr>\n",
       "      <th>50%</th>\n",
       "      <td>33.020500</td>\n",
       "      <td>4.859200</td>\n",
       "      <td>-2197.500000</td>\n",
       "      <td>15.120000</td>\n",
       "      <td>0.120000</td>\n",
       "    </tr>\n",
       "    <tr>\n",
       "      <th>75%</th>\n",
       "      <td>41.176700</td>\n",
       "      <td>87.670000</td>\n",
       "      <td>-903.000000</td>\n",
       "      <td>67.005000</td>\n",
       "      <td>0.290000</td>\n",
       "    </tr>\n",
       "    <tr>\n",
       "      <th>max</th>\n",
       "      <td>58.622200</td>\n",
       "      <td>142.201700</td>\n",
       "      <td>-29.000000</td>\n",
       "      <td>629.250000</td>\n",
       "      <td>12.030000</td>\n",
       "    </tr>\n",
       "  </tbody>\n",
       "</table>\n",
       "</div>"
      ],
      "text/plain": [
       "         Latitude   Longitude    Elevation       Depth    DPA conc\n",
       "count  331.000000  331.000000   314.000000  331.000000  220.000000\n",
       "mean    19.755276   -5.090480 -2365.742038   53.237631    0.740091\n",
       "std     28.704238  101.973219  1727.865345   89.039942    1.976623\n",
       "min    -45.964200 -165.644200 -5697.000000    0.015000    0.010000\n",
       "25%     -3.094100  -89.002300 -3655.000000    3.487500    0.070000\n",
       "50%     33.020500    4.859200 -2197.500000   15.120000    0.120000\n",
       "75%     41.176700   87.670000  -903.000000   67.005000    0.290000\n",
       "max     58.622200  142.201700   -29.000000  629.250000   12.030000"
      ]
     },
     "execution_count": 7,
     "metadata": {},
     "output_type": "execute_result"
    }
   ],
   "source": [
    "ds.data.describe()"
   ]
  },
  {
   "cell_type": "code",
   "execution_count": 9,
   "metadata": {},
   "outputs": [
    {
     "data": {
      "text/plain": [
       "'Wörmer, Lars; Hoshino, Tatsuhiko; Bowles, Marshall W; Viehweger, Bernhard; Adhikari, Rishi Ram; Xiao, Nan; Uramoto, Goichiro; Könneke, Martin; Lazar, Cassandre S; Morono, Yuki; Inagaki, Fumio; Hinrichs, Kai-Uwe (2018): Dipicolinic acid concentration in sediment samples. PANGAEA, https://doi.org/10.1594/PANGAEA.896621, Supplement to: Wörmer, L et al. (2019): Microbial dormancy in the marine subsurface: Global endospore abundance and response to burial. Science Advances, 5(2), eaav1024, https://doi.org/10.1126/sciadv.aav1024'"
      ]
     },
     "execution_count": 9,
     "metadata": {},
     "output_type": "execute_result"
    }
   ],
   "source": [
    "ds.citation"
   ]
  },
  {
   "cell_type": "code",
   "execution_count": null,
   "metadata": {},
   "outputs": [],
   "source": []
  }
 ],
 "metadata": {
  "kernelspec": {
   "display_name": "Python 3",
   "language": "python",
   "name": "python3"
  },
  "language_info": {
   "codemirror_mode": {
    "name": "ipython",
    "version": 3
   },
   "file_extension": ".py",
   "mimetype": "text/x-python",
   "name": "python",
   "nbconvert_exporter": "python",
   "pygments_lexer": "ipython3",
   "version": "3.7.0"
  }
 },
 "nbformat": 4,
 "nbformat_minor": 2
}
