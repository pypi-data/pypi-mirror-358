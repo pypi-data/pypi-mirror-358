{
 "cells": [
  {
   "cell_type": "markdown",
   "metadata": {},
   "source": [
    "# Basic pangaeapy example: how to load a PANGAEA dataset"
   ]
  },
  {
   "cell_type": "markdown",
   "metadata": {},
   "source": [
    "First we need to import the PanDataSet class from the pangaeapy module:"
   ]
  },
  {
   "cell_type": "code",
   "execution_count": 1,
   "metadata": {},
   "outputs": [],
   "source": [
    "from pangaeapy import PanDataSet"
   ]
  },
  {
   "cell_type": "markdown",
   "metadata": {},
   "source": [
    "Then we create an PANGAEA dataset object. To initialize the object we need to use either a integer ID or an DOI of the dataset we want to use within the constructor. "
   ]
  },
  {
   "cell_type": "code",
   "execution_count": 2,
   "metadata": {},
   "outputs": [],
   "source": [
    "ds=PanDataSet(896621)"
   ]
  },
  {
   "cell_type": "markdown",
   "metadata": {},
   "source": [
    "A simple test would be to print the title of the database:"
   ]
  },
  {
   "cell_type": "code",
   "execution_count": 6,
   "metadata": {},
   "outputs": [
    {
     "data": {
      "text/plain": [
       "'Dipicolinic acid concentration in sediment samples'"
      ]
     },
     "execution_count": 6,
     "metadata": {},
     "output_type": "execute_result"
    }
   ],
   "source": [
    "ds.title"
   ]
  },
  {
   "cell_type": "code",
   "execution_count": 7,
   "metadata": {},
   "outputs": [
    {
     "data": {
      "text/plain": [
       "'Wörmer, Lars; Hoshino, Tatsuhiko; Bowles, Marshall W; Viehweger, Bernhard; Adhikari, Rishi Ram; Xiao, Nan; Uramoto, Goichiro; Könneke, Martin; Lazar, Cassandre S; Morono, Yuki; Inagaki, Fumio; Hinrichs, Kai-Uwe (2018): Dipicolinic acid concentration in sediment samples. PANGAEA, https://doi.org/10.1594/PANGAEA.896621, Supplement to: Wörmer, L et al. (2019): Microbial dormancy in the marine subsurface: Global endospore abundance and response to burial. Science Advances, 5(2), eaav1024, https://doi.org/10.1126/sciadv.aav1024'"
      ]
     },
     "execution_count": 7,
     "metadata": {},
     "output_type": "execute_result"
    }
   ],
   "source": [
    "ds.citation"
   ]
  },
  {
   "cell_type": "code",
   "execution_count": null,
   "metadata": {},
   "outputs": [],
   "source": []
  }
 ],
 "metadata": {
  "kernelspec": {
   "display_name": "Python 3",
   "language": "python",
   "name": "python3"
  },
  "language_info": {
   "codemirror_mode": {
    "name": "ipython",
    "version": 3
   },
   "file_extension": ".py",
   "mimetype": "text/x-python",
   "name": "python",
   "nbconvert_exporter": "python",
   "pygments_lexer": "ipython3",
   "version": "3.7.0"
  }
 },
 "nbformat": 4,
 "nbformat_minor": 2
}
