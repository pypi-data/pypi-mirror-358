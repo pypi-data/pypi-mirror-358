{
 "cells": [
  {
   "cell_type": "markdown",
   "id": "1a108871",
   "metadata": {},
   "source": [
    "# Interest Rate Swaps Fundamentals"
   ]
  },
  {
   "cell_type": "markdown",
   "id": "3a4cef20",
   "metadata": {},
   "source": [
    "This notebook demonstrates how to access and use the functinalities of **Swaps** which are part of our **QPS** module within LSEG Financial Analytics SDK."
   ]
  },
  {
   "cell_type": "markdown",
   "id": "b9c3dd46",
   "metadata": {},
   "source": [
    "## Interest rate swaps templates"
   ]
  },
  {
   "cell_type": "markdown",
   "id": "fd1afec0",
   "metadata": {},
   "source": [
    "### Imports"
   ]
  },
  {
   "cell_type": "markdown",
   "id": "722a9f23",
   "metadata": {},
   "source": [
    "Import the following necessary modules:"
   ]
  },
  {
   "cell_type": "code",
   "execution_count": 1,
   "id": "f075d05d",
   "metadata": {
    "execution": {
     "iopub.execute_input": "2025-06-16T11:15:57.491847Z",
     "iopub.status.busy": "2025-06-16T11:15:57.491614Z",
     "iopub.status.idle": "2025-06-16T11:15:58.083055Z",
     "shell.execute_reply": "2025-06-16T11:15:58.082184Z"
    }
   },
   "outputs": [],
   "source": [
    "from lseg_analytics.templates.instrument_templates import search, load, delete"
   ]
  },
  {
   "cell_type": "markdown",
   "id": "99cc4078",
   "metadata": {},
   "source": [
    "### Searching for instrument templates"
   ]
  },
  {
   "cell_type": "markdown",
   "id": "38a624be",
   "metadata": {},
   "source": [
    "Before any further calculations can take place a user might want to search and retrieve a number of swap templates from the available set (e.g. 'LSEG' space), sorted in expected order.\n",
    "\n",
    "System returns a list of InstrumentTemplates existing in the platform (depending on permissions).\n",
    "\n",
    "Search function takes no mandatory arguments in which case it simply returns all templates available to the user."
   ]
  },
  {
   "cell_type": "code",
   "execution_count": 2,
   "id": "b44c8367",
   "metadata": {
    "execution": {
     "iopub.execute_input": "2025-06-16T11:15:58.087411Z",
     "iopub.status.busy": "2025-06-16T11:15:58.085949Z",
     "iopub.status.idle": "2025-06-16T11:15:58.645728Z",
     "shell.execute_reply": "2025-06-16T11:15:58.644991Z"
    }
   },
   "outputs": [
    {
     "name": "stdout",
     "output_type": "stream",
     "text": [
      "[{'type': 0, 'id': '033afcd3-ab70-4d1f-8b4a-a9552c8450ba', 'location': {'space': 'HOME', 'name': 'Dummy_CrossCcySwap_Template'}, 'description': {'summary': 'this is a leg template summary', 'tags': ['tag1Test', 'tag2Test', 'tag3Test']}}, {'type': 0, 'id': '1adafa94-84f8-4aaa-8788-bcd3ac2fc80d', 'location': {'space': 'HOME', 'name': 'TEMPLATE_FXFORWARD_SDKTest_DO_NOT_DELETE'}, 'description': {'summary': '', 'tags': []}}, {'type': 0, 'id': '40c96e9c-f66f-4eab-91ff-9a322014a1cc', 'location': {'space': 'HOME', 'name': 'TEMPLATE_FXSPOT_SDKTest_DO_NOT_DELETE'}, 'description': {'summary': '', 'tags': []}}, {'type': 0, 'id': '53384cdf-1a11-4fcd-bb3f-789f5456189c', 'location': {'space': 'HOME', 'name': 'TestInstrumentTemplate1744336856818232'}, 'description': {'summary': 'Test instrument_template description', 'tags': ['tag1', 'tag2']}}, {'type': 0, 'id': 'ee630d2a-ad6a-4d84-97b5-f0e8cb2a961e', 'location': {'space': 'HOME', 'name': 'TestInstrumentTemplate1744336996396009'}, 'description': {'summary': 'Test instrument_template description', 'tags': ['tag1', 'tag2']}}, {'type': 0, 'id': 'e04e35c4-5b74-4115-8468-ec58a6fb8b03', 'location': {'space': 'HOME', 'name': 'TestIrSwap17443010968391104'}, 'description': {'summary': 'Test description', 'tags': ['tag1', 'tag2']}}, {'type': 0, 'id': '7d2f5b51-3a40-41aa-9b3c-556d2a3bc7cf', 'location': {'space': 'LSEG', 'name': 'AED'}, 'description': {'summary': 'Default deposit template for AED', 'tags': ['instrumentType:Deposit', 'currency:AED']}}, {'type': 0, 'id': 'e25bee89-8b9c-44ac-805a-c8fddbbab2ce', 'location': {'space': 'LSEG', 'name': 'AED_12E3E'}, 'description': {'summary': 'United Arab Emirates Dirham 6-Month Aeibor vs 3-Month Aeibor Basis Swap', 'tags': ['instrumentType:TenorBasisSwap', 'currency:AED', 'index:AED_AEIBOR_3M', 'index:AED_AEIBOR_1Y']}}, {'type': 0, 'id': '400c6020-9416-4e78-97eb-14cc663b60cc', 'location': {'space': 'LSEG', 'name': 'AED_12E3E_1Y'}, 'description': {'summary': 'United Arab Emirates Dirham 6-Month Aeibor vs 3-Month Aeibor Basis Swap - 1Y Leg', 'tags': ['instrumentType:InterestRateLeg', 'template:AED_12E3E', 'legId:1Y', 'currency:AED', 'index:AED_AEIBOR_1Y']}}, {'type': 0, 'id': 'f668c179-b5e9-4399-bf2c-1321b2fe2924', 'location': {'space': 'LSEG', 'name': 'AED_12E3E_3M'}, 'description': {'summary': 'United Arab Emirates Dirham 6-Month Aeibor vs 3-Month Aeibor Basis Swap - 3M Leg', 'tags': ['instrumentType:InterestRateLeg', 'template:AED_12E3E', 'legId:3M', 'currency:AED', 'index:AED_AEIBOR_3M']}}, {'type': 0, 'id': '73989a88-4305-4f4b-9b14-2311d1dadbb4', 'location': {'space': 'LSEG', 'name': 'AED_6E3E'}, 'description': {'summary': 'United Arab Emirates Dirham 12-Month Aeibor vs 3-Month Aeibor Basis Swap', 'tags': ['instrumentType:TenorBasisSwap', 'currency:AED', 'index:AED_AEIBOR_3M', 'index:AED_AEIBOR_6M']}}, {'type': 0, 'id': '126675c7-f6dc-402f-a1b6-c9392c7a2f2b', 'location': {'space': 'LSEG', 'name': 'AED_6E3E_3M'}, 'description': {'summary': 'United Arab Emirates Dirham 12-Month Aeibor vs 3-Month Aeibor Basis Swap - 3M Leg', 'tags': ['instrumentType:InterestRateLeg', 'template:AED_6E3E', 'legId:3M', 'currency:AED', 'index:AED_AEIBOR_3M']}}, {'type': 0, 'id': 'bef7def4-62f4-4ba3-b5ee-d64f0f7381fa', 'location': {'space': 'LSEG', 'name': 'AED_6E3E_6M'}, 'description': {'summary': 'United Arab Emirates Dirham 12-Month Aeibor vs 3-Month Aeibor Basis Swap - 6M Leg', 'tags': ['instrumentType:InterestRateLeg', 'template:AED_6E3E', 'legId:6M', 'currency:AED', 'index:AED_AEIBOR_6M']}}, {'type': 0, 'id': '2d466e6c-f911-4c5d-9507-13b1cee24d11', 'location': {'space': 'LSEG', 'name': 'AED_AM12A'}, 'description': {'summary': 'United Arab Emirates Annual Money Market vs 12-Month AEibor', 'tags': ['instrumentType:VanillaSwap', 'currency:AED', 'index:AED_AEIBOR_1Y']}}, {'type': 0, 'id': '772a358f-98e3-45de-9fab-df6191e0cd33', 'location': {'space': 'LSEG', 'name': 'AED_AM12A_FLT'}, 'description': {'summary': 'United Arab Emirates Annual Money Market vs 12-Month AEibor - FLT Leg', 'tags': ['instrumentType:InterestRateLeg', 'template:AED_AM12A', 'legId:FLT', 'currency:AED', 'index:AED_AEIBOR_1Y']}}, {'type': 0, 'id': '8d58d1b2-691d-43d0-b73d-4c27ee950ce1', 'location': {'space': 'LSEG', 'name': 'AED_AM12A_FXD'}, 'description': {'summary': 'United Arab Emirates Annual Money Market vs 12-Month AEibor - FXD Leg', 'tags': ['instrumentType:InterestRateLeg', 'template:AED_AM12A', 'legId:FXD', 'currency:AED']}}, {'type': 0, 'id': 'b67e57f4-79d4-455c-88c3-e49bdeb4d9e7', 'location': {'space': 'LSEG', 'name': 'AED_AM1A'}, 'description': {'summary': 'United Arab Emirates Annual Money Market vs 1-Month AEibor', 'tags': ['instrumentType:VanillaSwap', 'currency:AED', 'index:AED_AEIBOR_1M']}}, {'type': 0, 'id': '7c407add-0468-4162-a5df-1f0040e36cca', 'location': {'space': 'LSEG', 'name': 'AED_AM1A_FLT'}, 'description': {'summary': 'United Arab Emirates Annual Money Market vs 1-Month AEibor - FLT Leg', 'tags': ['instrumentType:InterestRateLeg', 'template:AED_AM1A', 'legId:FLT', 'currency:AED', 'index:AED_AEIBOR_1M']}}, {'type': 0, 'id': 'bf559e4d-9be6-4b16-906a-a3c577e0bd03', 'location': {'space': 'LSEG', 'name': 'AED_AM1A_FXD'}, 'description': {'summary': 'United Arab Emirates Annual Money Market vs 1-Month AEibor - FXD Leg', 'tags': ['instrumentType:InterestRateLeg', 'template:AED_AM1A', 'legId:FXD', 'currency:AED']}}, {'type': 0, 'id': 'e4cc1bbf-7bc5-423e-a31a-557cf9a77658', 'location': {'space': 'LSEG', 'name': 'AED_AM3A'}, 'description': {'summary': 'United Arab Emirates Annual Money Market vs 3-Month AEibor', 'tags': ['instrumentType:VanillaSwap', 'currency:AED', 'index:AED_AEIBOR_3M']}}, {'type': 0, 'id': '2031c27d-bc7b-492d-92ec-033fa97294ee', 'location': {'space': 'LSEG', 'name': 'AED_AM3A_FLT'}, 'description': {'summary': 'United Arab Emirates Annual Money Market vs 3-Month AEibor - FLT Leg', 'tags': ['instrumentType:InterestRateLeg', 'template:AED_AM3A', 'legId:FLT', 'currency:AED', 'index:AED_AEIBOR_3M']}}, {'type': 0, 'id': '57314e51-34ea-4af0-9e5d-a7bafea2b4aa', 'location': {'space': 'LSEG', 'name': 'AED_AM3A_FXD'}, 'description': {'summary': 'United Arab Emirates Annual Money Market vs 3-Month AEibor - FXD Leg', 'tags': ['instrumentType:InterestRateLeg', 'template:AED_AM3A', 'legId:FXD', 'currency:AED']}}, {'type': 0, 'id': '55e63ed5-e81e-4658-adbb-d9cf8c6d6eba', 'location': {'space': 'LSEG', 'name': 'AED_AM6A'}, 'description': {'summary': 'United Arab Emirates Annual Money Market vs 6-Month AEibor', 'tags': ['instrumentType:VanillaSwap', 'currency:AED', 'index:AED_AEIBOR_6M']}}, {'type': 0, 'id': '07b91f17-4d04-4444-8167-acffcb75de20', 'location': {'space': 'LSEG', 'name': 'AED_AM6A_FLT'}, 'description': {'summary': 'United Arab Emirates Annual Money Market vs 6-Month AEibor - FLT Leg', 'tags': ['instrumentType:InterestRateLeg', 'template:AED_AM6A', 'legId:FLT', 'currency:AED', 'index:AED_AEIBOR_6M']}}, {'type': 0, 'id': '5b4d14bd-fb38-455c-9c59-8c8a0f80b445', 'location': {'space': 'LSEG', 'name': 'AED_AM6A_FXD'}, 'description': {'summary': 'United Arab Emirates Annual Money Market vs 6-Month AEibor - FXD Leg', 'tags': ['instrumentType:InterestRateLeg', 'template:AED_AM6A', 'legId:FXD', 'currency:AED']}}, {'type': 0, 'id': '51ed129a-4265-4d6b-aef3-4626660403a7', 'location': {'space': 'LSEG', 'name': 'AEDCBS'}, 'description': {'summary': 'US dollar 3-Month Libor vs Arab Emirati dirham 3-Month Libor Basis Swap', 'tags': ['instrumentType:CurrencyBasisSwap', 'currency:AED', 'currency:USD', 'index:AED_AEIBOR_3M', 'index:USD_LIBOR_3M']}}, {'type': 0, 'id': '0b1b5058-fb61-494a-844d-82f3507e0f2a', 'location': {'space': 'LSEG', 'name': 'AEDCBS_AED'}, 'description': {'summary': 'US dollar 3-Month Libor vs Arab Emirati dirham 3-Month Libor Basis Swap - AED Leg', 'tags': ['instrumentType:InterestRateLeg', 'template:AEDCBS', 'legId:AED', 'currency:AED', 'index:AED_AEIBOR_3M']}}, {'type': 0, 'id': 'f5560572-cb5d-46f4-be99-5ff909f2e5fe', 'location': {'space': 'LSEG', 'name': 'AEDCBS_USD'}, 'description': {'summary': 'US dollar 3-Month Libor vs Arab Emirati dirham 3-Month Libor Basis Swap - USD Leg', 'tags': ['instrumentType:InterestRateLeg', 'template:AEDCBS', 'legId:USD', 'currency:USD', 'index:USD_LIBOR_3M']}}, {'type': 0, 'id': 'd7fb4cf3-6159-4cdd-8eef-f733879d7cfb', 'location': {'space': 'LSEG', 'name': 'ARS'}, 'description': {'summary': 'Default deposit template for ARS', 'tags': ['instrumentType:Deposit', 'currency:ARS']}}, {'type': 0, 'id': '494c4e44-72d5-447a-9ac7-7d35fbeb2096', 'location': {'space': 'LSEG', 'name': 'AUD'}, 'description': {'summary': 'Default deposit template for AUD', 'tags': ['instrumentType:Deposit', 'currency:AUD']}}, {'type': 0, 'id': '17fd7cf5-66ec-4418-bf9e-f6ce1710fa49', 'location': {'space': 'LSEG', 'name': 'AUD_QM1AB'}, 'description': {'summary': 'Australian Quarterly Money Market Basis vs 1-Month BBSW', 'tags': ['instrumentType:VanillaSwap', 'currency:AUD', 'index:AUD_BBSW_1M']}}, {'type': 0, 'id': '19acaadc-fd07-4b58-8b5a-d6760d7f2654', 'location': {'space': 'LSEG', 'name': 'AUD_QM1AB_FLT'}, 'description': {'summary': 'Australian Quarterly Money Market Basis vs 1-Month BBSW - FLT Leg', 'tags': ['instrumentType:InterestRateLeg', 'template:AUD_QM1AB', 'legId:FLT', 'currency:AUD', 'index:AUD_BBSW_1M']}}, {'type': 0, 'id': '2378d241-0a87-4752-a792-a8bb29b6304d', 'location': {'space': 'LSEG', 'name': 'AUD_QM1AB_FXD'}, 'description': {'summary': 'Australian Quarterly Money Market Basis vs 1-Month BBSW - FXD Leg', 'tags': ['instrumentType:InterestRateLeg', 'template:AUD_QM1AB', 'legId:FXD', 'currency:AUD']}}, {'type': 0, 'id': '0bc316fc-b7e5-449a-8fd3-5f403aade703', 'location': {'space': 'LSEG', 'name': 'AUD_QM3AB'}, 'description': {'summary': 'Australian Quarterly Money Market Basis vs 3-Month BBSW', 'tags': ['instrumentType:VanillaSwap', 'currency:AUD', 'index:AUD_BBSW_3M']}}, {'type': 0, 'id': '67384f5a-3902-4eb1-a377-6ccd94f963a7', 'location': {'space': 'LSEG', 'name': 'AUD_QM3AB_FLT'}, 'description': {'summary': 'Australian Quarterly Money Market Basis vs 3-Month BBSW - FLT Leg', 'tags': ['instrumentType:InterestRateLeg', 'template:AUD_QM3AB', 'legId:FLT', 'currency:AUD', 'index:AUD_BBSW_3M']}}, {'type': 0, 'id': '6764e5ec-c660-4663-b774-b4032c2a1a8d', 'location': {'space': 'LSEG', 'name': 'AUD_QM3AB_FXD'}, 'description': {'summary': 'Australian Quarterly Money Market Basis vs 3-Month BBSW - FXD Leg', 'tags': ['instrumentType:InterestRateLeg', 'template:AUD_QM3AB', 'legId:FXD', 'currency:AUD']}}, {'type': 0, 'id': '76e06767-68e2-4eb4-87d9-0c7a62194a40', 'location': {'space': 'LSEG', 'name': 'AUD_SM6AB'}, 'description': {'summary': 'Australian Semi-Annual Money Market Basis vs 6-Month BBSW', 'tags': ['instrumentType:VanillaSwap', 'currency:AUD', 'index:AUD_BBSW_6M']}}, {'type': 0, 'id': '9b51c9a8-e482-4077-af2c-00d4c1d0f8c1', 'location': {'space': 'LSEG', 'name': 'AUD_SM6AB_FLT'}, 'description': {'summary': 'Australian Semi-Annual Money Market Basis vs 6-Month BBSW - FLT Leg', 'tags': ['instrumentType:InterestRateLeg', 'template:AUD_SM6AB', 'legId:FLT', 'currency:AUD', 'index:AUD_BBSW_6M']}}, {'type': 0, 'id': 'dda82d0d-bba3-4a7f-b29c-0613a322ba18', 'location': {'space': 'LSEG', 'name': 'AUD_SM6AB_FXD'}, 'description': {'summary': 'Australian Semi-Annual Money Market Basis vs 6-Month BBSW - FXD Leg', 'tags': ['instrumentType:InterestRateLeg', 'template:AUD_SM6AB', 'legId:FXD', 'currency:AUD']}}, {'type': 0, 'id': '75ed0249-3e61-45f9-9eaa-317cf8d0bd7c', 'location': {'space': 'LSEG', 'name': 'AUDOIS'}, 'description': {'summary': 'Overnight Indexed Swap AONIA', 'tags': ['instrumentType:VanillaSwap', 'currency:AUD', 'index:AUD_AONIA_ON']}}, {'type': 0, 'id': '42c06f84-a474-4d3d-9fa9-dd048f6cdf0a', 'location': {'space': 'LSEG', 'name': 'AUDOIS_FLT'}, 'description': {'summary': 'Overnight Indexed Swap AONIA - FLT Leg', 'tags': ['instrumentType:InterestRateLeg', 'template:AUDOIS', 'legId:FLT', 'currency:AUD', 'index:AUD_AONIA_ON']}}, {'type': 0, 'id': '7ea76f67-058b-4f51-85a7-5ebc50af2a3f', 'location': {'space': 'LSEG', 'name': 'AUDOIS_FXD'}, 'description': {'summary': 'Overnight Indexed Swap AONIA - FXD Leg', 'tags': ['instrumentType:InterestRateLeg', 'template:AUDOIS', 'legId:FXD', 'currency:AUD']}}, {'type': 0, 'id': '9dccb8f6-0c0e-4a5b-96e8-1bdaa3bf16ba', 'location': {'space': 'LSEG', 'name': 'AUUSAOSRBS'}, 'description': {'summary': 'Australian AONIA vs US Dollar OIS SOFR Basis Swap', 'tags': ['instrumentType:CurrencyBasisSwap', 'currency:AUD', 'currency:USD', 'index:AUD_AONIA_ON', 'index:USD_SOFR_ON']}}, {'type': 0, 'id': 'bb74080c-e4aa-42c8-970b-99a7c671a34a', 'location': {'space': 'LSEG', 'name': 'AUUSAOSRBS_AUD'}, 'description': {'summary': 'Australian AONIA vs US Dollar OIS SOFR Basis Swap - AUD Leg', 'tags': ['instrumentType:InterestRateLeg', 'template:AUUSAOSRBS', 'legId:AUD', 'currency:AUD', 'index:AUD_AONIA_ON']}}, {'type': 0, 'id': '238be4d5-373c-480b-b341-cab38e1bc13f', 'location': {'space': 'LSEG', 'name': 'AUUSAOSRBS_USD'}, 'description': {'summary': 'Australian AONIA vs US Dollar OIS SOFR Basis Swap - USD Leg', 'tags': ['instrumentType:InterestRateLeg', 'template:AUUSAOSRBS', 'legId:USD', 'currency:USD', 'index:USD_SOFR_ON']}}, {'type': 0, 'id': 'c98be6b3-88f9-470d-8e01-a0a587b4e05a', 'location': {'space': 'LSEG', 'name': 'BGN'}, 'description': {'summary': 'Default deposit template for BGN', 'tags': ['instrumentType:Deposit', 'currency:BGN']}}, {'type': 0, 'id': 'dc367d70-e640-4086-a885-02d41de1ca73', 'location': {'space': 'LSEG', 'name': 'BHD'}, 'description': {'summary': 'Default deposit template for BHD', 'tags': ['instrumentType:Deposit', 'currency:BHD']}}, {'type': 0, 'id': '71fab437-0e98-407d-8e22-5aa203fdbf8e', 'location': {'space': 'LSEG', 'name': 'BHD_AM3B'}, 'description': {'summary': 'Bahrain Annual Money vs 3-Month BHIBOR', 'tags': ['instrumentType:VanillaSwap', 'currency:BHD', 'index:BHD_BHIBOR_3M']}}, {'type': 0, 'id': 'f2f52764-de5b-4181-bdd0-ff8d01299e41', 'location': {'space': 'LSEG', 'name': 'BHD_AM3B_FLT'}, 'description': {'summary': 'Bahrain Annual Money vs 3-Month BHIBOR - FLT Leg', 'tags': ['instrumentType:InterestRateLeg', 'template:BHD_AM3B', 'legId:FLT', 'currency:BHD', 'index:BHD_BHIBOR_3M']}}, {'type': 0, 'id': '2d09541d-173c-4acb-872c-6978d19fa41b', 'location': {'space': 'LSEG', 'name': 'BHD_AM3B_FXD'}, 'description': {'summary': 'Bahrain Annual Money vs 3-Month BHIBOR - FXD Leg', 'tags': ['instrumentType:InterestRateLeg', 'template:BHD_AM3B', 'legId:FXD', 'currency:BHD']}}]\n"
     ]
    }
   ],
   "source": [
    "# Full search with no filters\n",
    "instrument_templates = search()\n",
    "\n",
    "print(instrument_templates)"
   ]
  },
  {
   "cell_type": "markdown",
   "id": "a120b720",
   "metadata": {},
   "source": [
    "### Loading a specific template"
   ]
  },
  {
   "cell_type": "markdown",
   "id": "0c5fcfe5",
   "metadata": {},
   "source": [
    "User can load a specific template by either providing a unique template name or resource ID.\n",
    "\n",
    "Mandatory arguments: \n",
    "- resource_id - mutually exclusive with name\n",
    "- name - mutually exclusive with resource_id"
   ]
  },
  {
   "cell_type": "code",
   "execution_count": 3,
   "id": "bb2ba0b4",
   "metadata": {
    "execution": {
     "iopub.execute_input": "2025-06-16T11:15:58.648353Z",
     "iopub.status.busy": "2025-06-16T11:15:58.648088Z",
     "iopub.status.idle": "2025-06-16T11:15:58.926527Z",
     "shell.execute_reply": "2025-06-16T11:15:58.925891Z"
    }
   },
   "outputs": [
    {
     "name": "stdout",
     "output_type": "stream",
     "text": [
      "<InstrumentTemplate space='LSEG' name='OIS_SOFR' a839a456‥>\n"
     ]
    }
   ],
   "source": [
    "# Loading using template resource_id\n",
    "template_by_id = load(resource_id = \"LSEG/OIS_SOFR\")\n",
    "\n",
    "print(template_by_id)\n"
   ]
  },
  {
   "cell_type": "code",
   "execution_count": 4,
   "id": "01eea776",
   "metadata": {
    "execution": {
     "iopub.execute_input": "2025-06-16T11:15:58.928608Z",
     "iopub.status.busy": "2025-06-16T11:15:58.928329Z",
     "iopub.status.idle": "2025-06-16T11:15:59.215234Z",
     "shell.execute_reply": "2025-06-16T11:15:59.214561Z"
    }
   },
   "outputs": [
    {
     "name": "stdout",
     "output_type": "stream",
     "text": [
      "<InstrumentTemplate space='LSEG' name='OIS_SOFR' a839a456‥>\n"
     ]
    }
   ],
   "source": [
    "# Load using template name\n",
    "template_by_name = load(name = 'OIS_SOFR')\n",
    "\n",
    "print(template_by_name)"
   ]
  },
  {
   "cell_type": "markdown",
   "id": "e54c698a",
   "metadata": {},
   "source": [
    "### Deleting a template\n",
    "\n",
    "Given they have right set of access rights, users can perform a deletion operations on their own or shared resources.\n"
   ]
  },
  {
   "cell_type": "code",
   "execution_count": null,
   "id": "5f2159c7",
   "metadata": {
    "tags": [
     "skip-execution"
    ]
   },
   "outputs": [],
   "source": [
    "# Provide an id of an existing teamplate\n",
    "swap_id = \"SOFR_OIS_1Y2Y\"\n",
    "\n",
    "delete(name=swap_id, space=\"HOME\")"
   ]
  },
  {
   "cell_type": "markdown",
   "id": "9f1cc35e",
   "metadata": {},
   "source": [
    "### Searching for swaps\n",
    "\n",
    "Instead of searching through all instrument templates, users can perform direct search for just swaps templates using *search* method from *ir_swaps* library."
   ]
  },
  {
   "cell_type": "markdown",
   "id": "68da7110",
   "metadata": {},
   "source": [
    "#### Imports\n",
    "\n",
    "Import the following necessary modules:"
   ]
  },
  {
   "cell_type": "code",
   "execution_count": 5,
   "id": "7df1f746",
   "metadata": {
    "execution": {
     "iopub.execute_input": "2025-06-16T11:15:59.218824Z",
     "iopub.status.busy": "2025-06-16T11:15:59.218369Z",
     "iopub.status.idle": "2025-06-16T11:15:59.224435Z",
     "shell.execute_reply": "2025-06-16T11:15:59.223704Z"
    }
   },
   "outputs": [],
   "source": [
    "from lseg_analytics.instruments.ir_swaps import search, load, delete"
   ]
  },
  {
   "cell_type": "markdown",
   "id": "392df013",
   "metadata": {},
   "source": [
    "Search code:"
   ]
  },
  {
   "cell_type": "code",
   "execution_count": 6,
   "id": "663f4ea8",
   "metadata": {
    "execution": {
     "iopub.execute_input": "2025-06-16T11:15:59.227760Z",
     "iopub.status.busy": "2025-06-16T11:15:59.227222Z",
     "iopub.status.idle": "2025-06-16T11:15:59.464540Z",
     "shell.execute_reply": "2025-06-16T11:15:59.463940Z"
    }
   },
   "outputs": [
    {
     "name": "stdout",
     "output_type": "stream",
     "text": [
      "[{'type': 0, 'id': 'c594359d-f1ca-472a-af1a-915b6e742b2f', 'location': {'space': 'HOME', 'name': 'Dummy_OisSwap_EUR'}, 'description': {'summary': '', 'tags': []}}, {'type': 0, 'id': '3aafd38f-9aa7-4111-81ea-171dc62033c2', 'location': {'space': 'HOME', 'name': 'TestFxSp17442139226868882'}, 'description': {'summary': 'Test description', 'tags': ['tag1', 'tag2']}}, {'type': 0, 'id': 'bcd2386c-2402-4681-8190-5b1bf6d5eca7', 'location': {'space': 'HOME', 'name': 'TestIrSwap17500707400624428'}, 'description': {'summary': 'Test ir_swap_saved description', 'tags': ['tag1', 'tag2']}}, {'type': 0, 'id': '4f276496-ae11-4ce0-9870-cc3262fae588', 'location': {'space': 'HOME', 'name': 'TestSwapResource3'}, 'description': {'summary': '(overwritten)', 'tags': ['test']}}, {'type': 0, 'id': 'a09cf5b6-9d05-4aea-b7c4-a167e0cfc6e9', 'location': {'space': 'MYSPACE', 'name': 'TestFxSpotClone17442142162523232'}, 'description': {'summary': 'Test ir_swap_saved description', 'tags': ['tag1', 'tag2']}}, {'type': 0, 'id': '13fa9515-47cb-4742-ae92-f83ee8b9bdb6', 'location': {'space': 'MYSPACE', 'name': 'TestFxSpotClone17442143814989772'}, 'description': {'summary': 'Test ir_swap_saved description', 'tags': ['tag1', 'tag2']}}]\n"
     ]
    }
   ],
   "source": [
    "# execute the search of swap templates\n",
    "swap_templates = search()\n",
    "\n",
    "print(swap_templates)"
   ]
  },
  {
   "cell_type": "markdown",
   "id": "5ccccb77",
   "metadata": {},
   "source": [
    "### Loading a specific swap template"
   ]
  },
  {
   "cell_type": "markdown",
   "id": "bd0a0656",
   "metadata": {},
   "source": [
    "User can load a specific swap template by either providing a unique template name or resource ID.\n",
    "\n",
    "Mandatory arguments: \n",
    "- resource_id - mutually exclusive with name\n",
    "- name - mutually exclusive with resource_id"
   ]
  },
  {
   "cell_type": "code",
   "execution_count": 7,
   "id": "f5ae18b3",
   "metadata": {
    "execution": {
     "iopub.execute_input": "2025-06-16T11:15:59.467284Z",
     "iopub.status.busy": "2025-06-16T11:15:59.467055Z",
     "iopub.status.idle": "2025-06-16T11:15:59.619724Z",
     "shell.execute_reply": "2025-06-16T11:15:59.619077Z"
    }
   },
   "outputs": [
    {
     "name": "stdout",
     "output_type": "stream",
     "text": [
      "<IrSwap space='HOME' name='Dummy_OisSwap_EUR' c594359d‥>\n"
     ]
    }
   ],
   "source": [
    "# execute the search of swap templates\n",
    "swap_templates = load(resource_id = \"HOME/Dummy_OisSwap_EUR\")\n",
    "\n",
    "print(swap_templates)"
   ]
  },
  {
   "cell_type": "markdown",
   "id": "6b7ec6ed",
   "metadata": {},
   "source": [
    "## Interest rate indices"
   ]
  },
  {
   "cell_type": "markdown",
   "id": "03568fc6",
   "metadata": {},
   "source": [
    "### Imports"
   ]
  },
  {
   "cell_type": "markdown",
   "id": "720fba1d",
   "metadata": {},
   "source": [
    "Import the following necessary modules:"
   ]
  },
  {
   "cell_type": "code",
   "execution_count": 8,
   "id": "29374993",
   "metadata": {
    "execution": {
     "iopub.execute_input": "2025-06-16T11:15:59.622566Z",
     "iopub.status.busy": "2025-06-16T11:15:59.622247Z",
     "iopub.status.idle": "2025-06-16T11:15:59.652151Z",
     "shell.execute_reply": "2025-06-16T11:15:59.651256Z"
    }
   },
   "outputs": [],
   "source": [
    "from lseg_analytics.reference_data.floating_rate_indices import search, load\n",
    "from lseg_analytics.reference_data.floating_rate_indices import FloatingRateIndex"
   ]
  },
  {
   "cell_type": "markdown",
   "id": "49b149da",
   "metadata": {},
   "source": [
    "### Searching for LSEG index templates"
   ]
  },
  {
   "cell_type": "markdown",
   "id": "5a4bd41e",
   "metadata": {},
   "source": [
    "In order to better formulate his calculation a user might want to search and retrieve a number of index templates from the available set (e.g. 'LSEG' space), sorted in expected order.\n",
    "\n",
    "System returns a list of FloatingRateIndexs existing in the platform (depending on permissions).\n",
    "\n",
    "Search function takes no mandatory arguments in which case it simply returns all templates available to the user."
   ]
  },
  {
   "cell_type": "code",
   "execution_count": 9,
   "id": "6be03632",
   "metadata": {
    "execution": {
     "iopub.execute_input": "2025-06-16T11:15:59.655899Z",
     "iopub.status.busy": "2025-06-16T11:15:59.655649Z",
     "iopub.status.idle": "2025-06-16T11:15:59.903817Z",
     "shell.execute_reply": "2025-06-16T11:15:59.903293Z"
    }
   },
   "outputs": [
    {
     "name": "stdout",
     "output_type": "stream",
     "text": [
      "[{'type': 'FloatingRateIndex', 'id': '4436d66b-addb-46a5-9f66-13bb946f150e', 'location': {'space': 'HOME', 'name': 'TestIrIndex'}, 'description': {'summary': 'EUROSTR (overwritten)', 'tags': ['Tests', 'EUR', 'ESTR', 'ON', 'RFTB']}}, {'type': 'FloatingRateIndex', 'id': 'c1051f64-fb15-4984-91fb-2c97e97ac7e3', 'location': {'space': 'HOME', 'name': 'TestRefFri17443031935839942'}, 'description': {'summary': 'Test description', 'tags': ['tag1', 'tag2']}}, {'type': 'FloatingRateIndex', 'id': 'f882ded9-13b9-4456-ab56-134d93cec3d4', 'location': {'space': 'LSEG', 'name': 'AED_AEIBOR_1M'}, 'description': {'summary': 'AED AEIBOR', 'tags': ['currency:AED', 'indexTenor:1M', 'sourceLongName:Refinitiv', 'sourceShortName:RFTB']}}, {'type': 'FloatingRateIndex', 'id': '7a102320-d152-4ebf-9fce-b4b254ddc471', 'location': {'space': 'LSEG', 'name': 'AED_AEIBOR_1Y'}, 'description': {'summary': 'AED AEIBOR', 'tags': ['currency:AED', 'indexTenor:1Y', 'sourceLongName:Refinitiv', 'sourceShortName:RFTB']}}, {'type': 'FloatingRateIndex', 'id': '3d8b26aa-940a-45d0-9756-6af902ce5738', 'location': {'space': 'LSEG', 'name': 'AED_AEIBOR_3M'}, 'description': {'summary': 'AED AEIBOR', 'tags': ['currency:AED', 'indexTenor:3M', 'sourceLongName:Refinitiv', 'sourceShortName:RFTB']}}, {'type': 'FloatingRateIndex', 'id': 'cf329043-2c48-42e4-916b-0dc04c92477d', 'location': {'space': 'LSEG', 'name': 'AED_AEIBOR_6M'}, 'description': {'summary': 'AED AEIBOR', 'tags': ['currency:AED', 'indexTenor:6M', 'sourceLongName:Refinitiv', 'sourceShortName:RFTB']}}, {'type': 'FloatingRateIndex', 'id': '5c00e9c0-7a19-4385-8400-dec3c1c6b529', 'location': {'space': 'LSEG', 'name': 'AED_AEIBOR_SW'}, 'description': {'summary': 'AED AEIBOR', 'tags': ['currency:AED', 'indexTenor:SW', 'sourceLongName:Refinitiv', 'sourceShortName:RFTB']}}, {'type': 'FloatingRateIndex', 'id': '71042ed6-c977-49bf-92c6-c1e2a2d14967', 'location': {'space': 'LSEG', 'name': 'ARS_BADLAR_1M'}, 'description': {'summary': 'Argentinian Badlar Rate', 'tags': ['currency:ARS', 'indexTenor:1M', 'sourceLongName:Refinitiv', 'sourceShortName:RFTB']}}, {'type': 'FloatingRateIndex', 'id': '224f494f-38fd-40be-b7ef-41ef8a1f193f', 'location': {'space': 'LSEG', 'name': 'AUD_AONIA_ON_RBAA'}, 'description': {'summary': 'Australian Dollar AONIA Overnight Cash Rate (Reserve Bank Of Australia)', 'tags': ['currency:AUD', 'indexTenor:ON', 'sourceLongName:Reserve Bank Of Australia', 'sourceShortName:RBAA']}}, {'type': 'FloatingRateIndex', 'id': '559134f5-9bc1-49a6-9295-4bf1074385a8', 'location': {'space': 'LSEG', 'name': 'AUD_AUDRBA_ON'}, 'description': {'summary': 'Australian Dollar RBA Overnight Cash Rate', 'tags': ['currency:AUD', 'indexTenor:ON', 'sourceLongName:Refinitiv', 'sourceShortName:RFTB']}}, {'type': 'FloatingRateIndex', 'id': 'ceaf5d97-44ed-4df1-8f2c-105191707db3', 'location': {'space': 'LSEG', 'name': 'AUD_BBSW_1M'}, 'description': {'summary': 'AUD BBSW MID', 'tags': ['currency:AUD', 'indexTenor:1M', 'sourceLongName:Refinitiv', 'sourceShortName:RFTB']}}, {'type': 'FloatingRateIndex', 'id': '4ab4d165-24fd-4646-b29e-7e2c7768bff0', 'location': {'space': 'LSEG', 'name': 'AUD_BBSW_2M'}, 'description': {'summary': 'AUD BBSW MID', 'tags': ['currency:AUD', 'indexTenor:2M', 'sourceLongName:Refinitiv', 'sourceShortName:RFTB']}}, {'type': 'FloatingRateIndex', 'id': '5f6a0c45-cfca-4305-812e-3b7e4ac007fd', 'location': {'space': 'LSEG', 'name': 'AUD_BBSW_3M'}, 'description': {'summary': 'AUD BBSW MID', 'tags': ['currency:AUD', 'indexTenor:3M', 'sourceLongName:Refinitiv', 'sourceShortName:RFTB']}}, {'type': 'FloatingRateIndex', 'id': '9b94a919-184a-4e25-ad81-7d36dec97e33', 'location': {'space': 'LSEG', 'name': 'AUD_BBSW_4M'}, 'description': {'summary': 'AUD BBSW MID', 'tags': ['currency:AUD', 'indexTenor:4M', 'sourceLongName:Refinitiv', 'sourceShortName:RFTB']}}, {'type': 'FloatingRateIndex', 'id': '56cbd1cd-61e9-4d94-ac18-acaa329d45e3', 'location': {'space': 'LSEG', 'name': 'AUD_BBSW_5M'}, 'description': {'summary': 'AUD BBSW MID', 'tags': ['currency:AUD', 'indexTenor:5M', 'sourceLongName:Refinitiv', 'sourceShortName:RFTB']}}, {'type': 'FloatingRateIndex', 'id': 'fe030259-a56f-4482-b4b6-3e26b1d97310', 'location': {'space': 'LSEG', 'name': 'AUD_BBSW_6M'}, 'description': {'summary': 'AUD BBSW MID', 'tags': ['currency:AUD', 'indexTenor:6M', 'sourceLongName:Refinitiv', 'sourceShortName:RFTB']}}, {'type': 'FloatingRateIndex', 'id': 'bc163ec5-329a-4662-b356-47713cb587d8', 'location': {'space': 'LSEG', 'name': 'BGN_SOFIBOR_1M'}, 'description': {'summary': 'BGN SOFIBOR', 'tags': ['currency:BGN', 'indexTenor:1M', 'sourceLongName:Refinitiv', 'sourceShortName:RFTB']}}, {'type': 'FloatingRateIndex', 'id': '0fa3a4bf-52f9-4bf4-9afb-a41a740215d6', 'location': {'space': 'LSEG', 'name': 'BGN_SOFIBOR_3M'}, 'description': {'summary': 'BGN SOFIBOR', 'tags': ['currency:BGN', 'indexTenor:3M', 'sourceLongName:Refinitiv', 'sourceShortName:RFTB']}}, {'type': 'FloatingRateIndex', 'id': '156ce343-f63d-41fb-8796-765df6d1239e', 'location': {'space': 'LSEG', 'name': 'BHD_BHIBOR_1M'}, 'description': {'summary': 'BHD BHIBOR', 'tags': ['currency:BHD', 'indexTenor:1M', 'sourceLongName:Refinitiv', 'sourceShortName:RFTB']}}, {'type': 'FloatingRateIndex', 'id': '4ad80f6d-324b-4494-8ac0-7323cc469e95', 'location': {'space': 'LSEG', 'name': 'BHD_BHIBOR_1Y'}, 'description': {'summary': 'BHD BHIBOR', 'tags': ['currency:BHD', 'indexTenor:1Y', 'sourceLongName:Refinitiv', 'sourceShortName:RFTB']}}, {'type': 'FloatingRateIndex', 'id': '101f256d-9e5a-43de-8024-4f94d310e335', 'location': {'space': 'LSEG', 'name': 'BHD_BHIBOR_2M'}, 'description': {'summary': 'BHD BHIBOR', 'tags': ['currency:BHD', 'indexTenor:2M', 'sourceLongName:Refinitiv', 'sourceShortName:RFTB']}}, {'type': 'FloatingRateIndex', 'id': 'f9b77aa8-bb2e-4818-a578-dc1059776eb2', 'location': {'space': 'LSEG', 'name': 'BHD_BHIBOR_3M'}, 'description': {'summary': 'BHD BHIBOR', 'tags': ['currency:BHD', 'indexTenor:3M', 'sourceLongName:Refinitiv', 'sourceShortName:RFTB']}}, {'type': 'FloatingRateIndex', 'id': '41fe0552-d86e-4963-8de6-876fdc19ab40', 'location': {'space': 'LSEG', 'name': 'BHD_BHIBOR_6M'}, 'description': {'summary': 'BHD BHIBOR', 'tags': ['currency:BHD', 'indexTenor:6M', 'sourceLongName:Refinitiv', 'sourceShortName:RFTB']}}, {'type': 'FloatingRateIndex', 'id': 'b5b47c70-f585-49eb-b2fa-f30e0d0e191b', 'location': {'space': 'LSEG', 'name': 'BHD_BHIBOR_9M'}, 'description': {'summary': 'BHD BHIBOR', 'tags': ['currency:BHD', 'indexTenor:9M', 'sourceLongName:Refinitiv', 'sourceShortName:RFTB']}}, {'type': 'FloatingRateIndex', 'id': 'a7ec0b32-0172-4b4f-8718-965420df8f5a', 'location': {'space': 'LSEG', 'name': 'BHD_BHIBOR_ON'}, 'description': {'summary': 'BHD BHIBOR', 'tags': ['currency:BHD', 'indexTenor:ON', 'sourceLongName:Refinitiv', 'sourceShortName:RFTB']}}, {'type': 'FloatingRateIndex', 'id': 'b23a009c-de07-47d6-b875-adf909498e4d', 'location': {'space': 'LSEG', 'name': 'BHD_BHIBOR_SW'}, 'description': {'summary': 'BHD BHIBOR', 'tags': ['currency:BHD', 'indexTenor:SW', 'sourceLongName:Refinitiv', 'sourceShortName:RFTB']}}, {'type': 'FloatingRateIndex', 'id': '7ec14518-fe1d-4c15-a4a9-2a67abb2c7c2', 'location': {'space': 'LSEG', 'name': 'BRL_ABRPTAXA'}, 'description': {'summary': 'Daily Brazil Real Exchange Rate (Ask)', 'tags': ['currency:BRL', 'indexTenor:<MISSING_TENOR>', 'sourceLongName:Refinitiv', 'sourceShortName:RFTB']}}, {'type': 'FloatingRateIndex', 'id': '4c191527-2c2d-4e89-b012-7f0ac08f0ee7', 'location': {'space': 'LSEG', 'name': 'BRL_ABRSELIC_ON'}, 'description': {'summary': 'Brazil SELIC Rate', 'tags': ['currency:BRL', 'indexTenor:ON', 'sourceLongName:Refinitiv', 'sourceShortName:RFTB']}}, {'type': 'FloatingRateIndex', 'id': '380387e0-ea96-46f4-941f-b926c2ac5458', 'location': {'space': 'LSEG', 'name': 'BRL_BRPRE'}, 'description': {'summary': 'SWAP PRExDI', 'tags': ['currency:BRL', 'indexTenor:<MISSING_TENOR>', 'sourceLongName:Refinitiv', 'sourceShortName:RFTB']}}, {'type': 'FloatingRateIndex', 'id': 'de35e0cf-7c3e-418d-8278-cac68a97c391', 'location': {'space': 'LSEG', 'name': 'BRL_CDI_1D'}, 'description': {'summary': 'One Day Interbank Deposit rate (CETIP ID rate)', 'tags': ['currency:BRL', 'indexTenor:1D', 'sourceLongName:Refinitiv', 'sourceShortName:RFTB']}}, {'type': 'FloatingRateIndex', 'id': '9861f979-63f6-45f2-a54f-51a5623d2e71', 'location': {'space': 'LSEG', 'name': 'BRL_DI_Close_1D'}, 'description': {'summary': 'DI Close', 'tags': ['currency:BRL', 'indexTenor:1D', 'sourceLongName:Refinitiv', 'sourceShortName:RFTB']}}, {'type': 'FloatingRateIndex', 'id': '87c90811-e0cc-4455-8ff4-7c4c42af9dd2', 'location': {'space': 'LSEG', 'name': 'BRL_DI_Close_1M'}, 'description': {'summary': 'DI Close', 'tags': ['currency:BRL', 'indexTenor:1M', 'sourceLongName:Refinitiv', 'sourceShortName:RFTB']}}, {'type': 'FloatingRateIndex', 'id': '7117886c-7525-4575-a69f-3f28c7cfc6c0', 'location': {'space': 'LSEG', 'name': 'BRL_DI_Close_1Y'}, 'description': {'summary': 'DI Close', 'tags': ['currency:BRL', 'indexTenor:1Y', 'sourceLongName:Refinitiv', 'sourceShortName:RFTB']}}, {'type': 'FloatingRateIndex', 'id': 'b0fd9acc-4a9b-420f-8aaf-f968ee420ea0', 'location': {'space': 'LSEG', 'name': 'BRL_DI_Close_2M'}, 'description': {'summary': 'DI Close', 'tags': ['currency:BRL', 'indexTenor:2M', 'sourceLongName:Refinitiv', 'sourceShortName:RFTB']}}, {'type': 'FloatingRateIndex', 'id': '3e925b4f-d892-42c5-8bc1-b657ee3ecfac', 'location': {'space': 'LSEG', 'name': 'BRL_DI_Close_3M'}, 'description': {'summary': 'DI Close', 'tags': ['currency:BRL', 'indexTenor:3M', 'sourceLongName:Refinitiv', 'sourceShortName:RFTB']}}, {'type': 'FloatingRateIndex', 'id': '5dc052cb-b075-4163-be0b-9db6f4dd0d64', 'location': {'space': 'LSEG', 'name': 'BRL_DI_Close_4M'}, 'description': {'summary': 'DI Close', 'tags': ['currency:BRL', 'indexTenor:4M', 'sourceLongName:Refinitiv', 'sourceShortName:RFTB']}}, {'type': 'FloatingRateIndex', 'id': 'bfb71559-a53f-405b-abf6-3d671080179d', 'location': {'space': 'LSEG', 'name': 'BRL_DI_Close_5M'}, 'description': {'summary': 'DI Close', 'tags': ['currency:BRL', 'indexTenor:5M', 'sourceLongName:Refinitiv', 'sourceShortName:RFTB']}}, {'type': 'FloatingRateIndex', 'id': '1c0e6f50-4ab8-43cf-ab3c-c2237f790332', 'location': {'space': 'LSEG', 'name': 'BRL_DI_Close_6M'}, 'description': {'summary': 'DI Close', 'tags': ['currency:BRL', 'indexTenor:6M', 'sourceLongName:Refinitiv', 'sourceShortName:RFTB']}}, {'type': 'FloatingRateIndex', 'id': '2d22b04d-9b86-475d-9afb-9791a666d7d8', 'location': {'space': 'LSEG', 'name': 'CAD_BA_1M'}, 'description': {'summary': 'CAD BA', 'tags': ['currency:CAD', 'indexTenor:1M', 'sourceLongName:Refinitiv', 'sourceShortName:RFTB']}}, {'type': 'FloatingRateIndex', 'id': 'be6b8ce2-8836-483b-bda4-25c4bf148c71', 'location': {'space': 'LSEG', 'name': 'CAD_BA_2M'}, 'description': {'summary': 'CAD BA', 'tags': ['currency:CAD', 'indexTenor:2M', 'sourceLongName:Refinitiv', 'sourceShortName:RFTB']}}, {'type': 'FloatingRateIndex', 'id': 'b80ffc54-4f6e-4027-8591-b0a2a837a93b', 'location': {'space': 'LSEG', 'name': 'CAD_BA_3M'}, 'description': {'summary': 'CAD BA', 'tags': ['currency:CAD', 'indexTenor:3M', 'sourceLongName:Refinitiv', 'sourceShortName:RFTB']}}, {'type': 'FloatingRateIndex', 'id': '955a9709-52eb-4ebd-8f4a-baafee43c9fa', 'location': {'space': 'LSEG', 'name': 'CAD_CORRA_1M_CNDL'}, 'description': {'summary': 'Canadian Dollar Bank of Canada CORRA (Candeal)', 'tags': ['currency:CAD', 'indexTenor:1M', 'sourceLongName:Candeal', 'sourceShortName:CNDL']}}, {'type': 'FloatingRateIndex', 'id': 'fd775f25-84dc-48a0-ad84-f2d290672184', 'location': {'space': 'LSEG', 'name': 'CAD_CORRA_3M_CNDL'}, 'description': {'summary': 'Canadian Dollar Bank of Canada CORRA (Candeal)', 'tags': ['currency:CAD', 'indexTenor:3M', 'sourceLongName:Candeal', 'sourceShortName:CNDL']}}, {'type': 'FloatingRateIndex', 'id': '1669bf33-fc23-4482-9aa8-e3ae817f7554', 'location': {'space': 'LSEG', 'name': 'CAD_CORRA_ON'}, 'description': {'summary': 'Canadian Dollar Bank of Canada CORRA', 'tags': ['currency:CAD', 'indexTenor:ON', 'sourceLongName:Refinitiv', 'sourceShortName:RFTB']}}, {'type': 'FloatingRateIndex', 'id': 'e1ce1d83-bc11-4f46-a8e7-4aaabc3d6c2b', 'location': {'space': 'LSEG', 'name': 'CHF_CHFSFIX_10Y'}, 'description': {'summary': 'ISDA Swap Fixing', 'tags': ['currency:CHF', 'indexTenor:10Y', 'sourceLongName:Refinitiv', 'sourceShortName:RFTB']}}, {'type': 'FloatingRateIndex', 'id': '53578e30-8189-4c19-b377-769c1ab6e36d', 'location': {'space': 'LSEG', 'name': 'CHF_CHFSFIX_1Y'}, 'description': {'summary': 'ISDA Swap Fixing', 'tags': ['currency:CHF', 'indexTenor:1Y', 'sourceLongName:Refinitiv', 'sourceShortName:RFTB']}}, {'type': 'FloatingRateIndex', 'id': '163beff8-6db3-41d9-8432-12f14708b413', 'location': {'space': 'LSEG', 'name': 'CHF_CHFSFIX_2Y'}, 'description': {'summary': 'ISDA Swap Fixing', 'tags': ['currency:CHF', 'indexTenor:2Y', 'sourceLongName:Refinitiv', 'sourceShortName:RFTB']}}, {'type': 'FloatingRateIndex', 'id': 'c0009024-6370-4a5e-912d-8c668b6c2735', 'location': {'space': 'LSEG', 'name': 'CHF_CHFSFIX_3Y'}, 'description': {'summary': 'ISDA Swap Fixing', 'tags': ['currency:CHF', 'indexTenor:3Y', 'sourceLongName:Refinitiv', 'sourceShortName:RFTB']}}, {'type': 'FloatingRateIndex', 'id': 'a4e11789-c3ce-4140-88ad-3cb8a89d0e59', 'location': {'space': 'LSEG', 'name': 'CHF_CHFSFIX_4Y'}, 'description': {'summary': 'ISDA Swap Fixing', 'tags': ['currency:CHF', 'indexTenor:4Y', 'sourceLongName:Refinitiv', 'sourceShortName:RFTB']}}, {'type': 'FloatingRateIndex', 'id': 'b1efb7af-2c84-4998-b96a-14804dc0c2a3', 'location': {'space': 'LSEG', 'name': 'CHF_CHFSFIX_5Y'}, 'description': {'summary': 'ISDA Swap Fixing', 'tags': ['currency:CHF', 'indexTenor:5Y', 'sourceLongName:Refinitiv', 'sourceShortName:RFTB']}}]\n"
     ]
    }
   ],
   "source": [
    "# Full search with no filters\n",
    "index_templates = search()\n",
    "\n",
    "print(index_templates)"
   ]
  },
  {
   "cell_type": "markdown",
   "id": "240b8c33",
   "metadata": {},
   "source": [
    "### Load a specific index template"
   ]
  },
  {
   "cell_type": "markdown",
   "id": "c886a9cf",
   "metadata": {},
   "source": [
    "User can load a specific template by either providing a unique template name or resource ID.\n",
    "\n",
    "Mandatory arguments: \n",
    "- resource_id - mutually exclusive with name\n",
    "- name - mutually exclusive with resource_id"
   ]
  },
  {
   "cell_type": "code",
   "execution_count": 10,
   "id": "da8a238e",
   "metadata": {
    "execution": {
     "iopub.execute_input": "2025-06-16T11:15:59.907057Z",
     "iopub.status.busy": "2025-06-16T11:15:59.906435Z",
     "iopub.status.idle": "2025-06-16T11:16:00.355661Z",
     "shell.execute_reply": "2025-06-16T11:16:00.354966Z"
    }
   },
   "outputs": [
    {
     "name": "stdout",
     "output_type": "stream",
     "text": [
      "<FloatingRateIndex space='LSEG' name='USD_SOFR_ON' 70e69888‥>\n"
     ]
    }
   ],
   "source": [
    "# Load using template name\n",
    "index_by_name = load(name = \"USD_SOFR_ON\")\n",
    "\n",
    "print(index_by_name)"
   ]
  },
  {
   "cell_type": "code",
   "execution_count": 11,
   "id": "4f475f0c",
   "metadata": {
    "execution": {
     "iopub.execute_input": "2025-06-16T11:16:00.358525Z",
     "iopub.status.busy": "2025-06-16T11:16:00.358105Z",
     "iopub.status.idle": "2025-06-16T11:16:00.490553Z",
     "shell.execute_reply": "2025-06-16T11:16:00.489990Z"
    }
   },
   "outputs": [
    {
     "name": "stdout",
     "output_type": "stream",
     "text": [
      "<FloatingRateIndex space='LSEG' name='USD_SOFR_ON' 70e69888‥>\n"
     ]
    }
   ],
   "source": [
    "# Load using template name\n",
    "index_by_name = load(resource_id = \"70e69888-b814-4a4e-a837-dc3f422ee7df\")\n",
    "\n",
    "print(index_by_name)"
   ]
  },
  {
   "cell_type": "markdown",
   "id": "68ffb20c",
   "metadata": {},
   "source": [
    "## Valuing interest rate swaps"
   ]
  },
  {
   "cell_type": "markdown",
   "id": "99ae730e",
   "metadata": {},
   "source": [
    "### Imports"
   ]
  },
  {
   "cell_type": "markdown",
   "id": "bd105127",
   "metadata": {},
   "source": [
    "Import the following necessary modules:"
   ]
  },
  {
   "cell_type": "code",
   "execution_count": 12,
   "id": "52182b71",
   "metadata": {
    "execution": {
     "iopub.execute_input": "2025-06-16T11:16:00.492817Z",
     "iopub.status.busy": "2025-06-16T11:16:00.492607Z",
     "iopub.status.idle": "2025-06-16T11:16:00.495381Z",
     "shell.execute_reply": "2025-06-16T11:16:00.494972Z"
    }
   },
   "outputs": [],
   "source": [
    "from lseg_analytics.instruments.ir_swaps import IrSwapDefinitionInstrument, IrPricingParameters, IrSwapSolvingParameters, IrSwapSolvingVariable, IrSwapSolvingTarget, IrMeasure, IrPricingParameters\n",
    "from lseg_analytics.instruments.ir_swaps import solve, value, create_from_vanilla_irs_template, create_from_cbs_template, create_from_ccs_template, create_from_leg_template, create_from_tbs_template"
   ]
  },
  {
   "cell_type": "markdown",
   "id": "7a5258f4",
   "metadata": {},
   "source": [
    "### Template-based setup for swap valuation"
   ]
  },
  {
   "cell_type": "markdown",
   "id": "527cd8a1",
   "metadata": {},
   "source": [
    "Using an existing swap template to build a swap, user can adjust it with his own settings.\n",
    "- Swap conventions provide a standardized set of market-accepted terms, such as leg frequencies and interest calculation methods.\n",
    "- By referencing a swap convention, you ensure alignment with market standards while streamlining the setup process."
   ]
  },
  {
   "cell_type": "code",
   "execution_count": 13,
   "id": "2ccce599",
   "metadata": {
    "execution": {
     "iopub.execute_input": "2025-06-16T11:16:00.497237Z",
     "iopub.status.busy": "2025-06-16T11:16:00.496939Z",
     "iopub.status.idle": "2025-06-16T11:16:00.816166Z",
     "shell.execute_reply": "2025-06-16T11:16:00.815608Z"
    }
   },
   "outputs": [
    {
     "name": "stdout",
     "output_type": "stream",
     "text": [
      "{'definition': {'firstLeg': {'rate': {'interestRateType': 'FixedRate', 'rate': {'value': 0.0, 'unit': 'Percentage'}}, 'interestPeriods': {'startDate': {'dateType': 'RelativeAdjustableDate', 'tenor': '0D', 'referenceDate': 'SpotDate'}, 'endDate': {'dateType': 'RelativeAdjustableDate', 'tenor': '10Y', 'referenceDate': 'StartDate'}, 'frequency': 'Annual', 'businessDayAdjustment': {'calendars': ['USA'], 'convention': 'NextBusinessDay'}, 'rollConvention': 'Same'}, 'paymentOffset': {'tenor': '2D', 'businessDayAdjustment': {'calendars': ['USA'], 'convention': 'NextBusinessDay'}, 'referenceDate': 'PeriodEndDate', 'direction': 'Forward'}, 'couponDayCount': 'Dcb_Actual_360', 'accrualDayCount': 'Dcb_Actual_360', 'principal': {'currency': 'USD', 'amount': 10000000.0, 'initialPrincipalExchange': False, 'finalPrincipalExchange': False, 'interimPrincipalExchange': False, 'repaymentCurrency': 'USD'}, 'payer': 'Party1', 'receiver': 'Party2'}, 'secondLeg': {'rate': {'interestRateType': 'FloatingRate', 'index': 'LSEG/USD_SOFR_ON', 'spreadSchedule': [{'rate': {'value': 0.0, 'unit': 'BasisPoint'}}], 'resetDates': {'offset': {'tenor': '0D', 'businessDayAdjustment': {'calendars': [], 'convention': 'ModifiedFollowing'}, 'referenceDate': 'PeriodEndDate', 'direction': 'Backward'}}, 'leverage': 1.0}, 'interestPeriods': {'startDate': {'dateType': 'RelativeAdjustableDate', 'tenor': '0D', 'referenceDate': 'SpotDate'}, 'endDate': {'dateType': 'RelativeAdjustableDate', 'tenor': '10Y', 'referenceDate': 'StartDate'}, 'frequency': 'Annual', 'businessDayAdjustment': {'calendars': ['USA'], 'convention': 'NextBusinessDay'}, 'rollConvention': 'Same'}, 'paymentOffset': {'tenor': '2D', 'businessDayAdjustment': {'calendars': ['USA'], 'convention': 'NextBusinessDay'}, 'referenceDate': 'PeriodEndDate', 'direction': 'Forward'}, 'couponDayCount': 'Dcb_Actual_360', 'accrualDayCount': 'Dcb_Actual_360', 'principal': {'currency': 'USD', 'amount': 10000000.0, 'initialPrincipalExchange': False, 'finalPrincipalExchange': False, 'interimPrincipalExchange': False, 'repaymentCurrency': 'USD'}, 'payer': 'Party2', 'receiver': 'Party1'}}}\n"
     ]
    }
   ],
   "source": [
    "# build the swap from 'LSEG/OIS_SOFR' template\n",
    "fwd_start_sofr = create_from_vanilla_irs_template(template_reference = \"LSEG/OIS_SOFR\")\n",
    "\n",
    "fwd_start_sofr_def = IrSwapDefinitionInstrument(definition = fwd_start_sofr.definition)\n",
    "\n",
    "print(fwd_start_sofr_def)"
   ]
  },
  {
   "cell_type": "markdown",
   "id": "173ba1b3",
   "metadata": {},
   "source": [
    "### Solve a SOFR swap par rate\n",
    "\n",
    "Solving a swap for a prefered value (e.g. fixed rate or spread) can be done in 2 ways:\n",
    "1. Invoking a general ir_swaps method 'solve' which then requires as an input argument a swap definition object (IRSwapDefinitionInstrument)\n",
    "2. Invoking a 'solve' method directly on the IRSwap Object\n",
    "\n",
    "Both ways require preparation of execution parameters in forms of solving variable and solving target(s), as displayed in following codes."
   ]
  },
  {
   "cell_type": "markdown",
   "id": "b986924a",
   "metadata": {},
   "source": [
    "#### General solve method"
   ]
  },
  {
   "cell_type": "code",
   "execution_count": 14,
   "id": "7963e9b0",
   "metadata": {
    "execution": {
     "iopub.execute_input": "2025-06-16T11:16:00.818484Z",
     "iopub.status.busy": "2025-06-16T11:16:00.818172Z",
     "iopub.status.idle": "2025-06-16T11:16:02.349525Z",
     "shell.execute_reply": "2025-06-16T11:16:02.349024Z"
    }
   },
   "outputs": [
    {
     "name": "stdout",
     "output_type": "stream",
     "text": [
      "{'analytics': [{'solving': {'result': 3.89901188002691}, 'description': {'instrumentTag': '', 'instrumentDescription': 'Pay USD Annual 3.9% vs Receive USD Annual +0bp SOFR 2035-06-18', 'startDate': '2025-06-18', 'endDate': '2035-06-18', 'tenor': '10Y'}, 'valuation': {'accrued': {'value': 0.0, 'percent': 0.0, 'dealCurrency': {'value': 0.0, 'currency': 'USD'}, 'reportCurrency': {'value': 0.0, 'currency': 'USD'}}, 'marketValue': {'value': 2.60770320892334e-08, 'dealCurrency': {'value': 2.60770320892334e-08, 'currency': 'USD'}, 'reportCurrency': {'value': 2.60770320892334e-08, 'currency': 'USD'}}, 'cleanMarketValue': {'value': 2.60770320892334e-08, 'dealCurrency': {'value': 2.60770320892334e-08, 'currency': 'USD'}, 'reportCurrency': {'value': 2.60770320892334e-08, 'currency': 'USD'}}}, 'risk': {'duration': {'value': -8.44998402393154}, 'modifiedDuration': {'value': -8.12077024231318}, 'benchmarkHedgeNotional': {'value': -9269800.0656322, 'currency': 'USD'}, 'annuity': {'value': -8287.76955592399, 'dealCurrency': {'value': -8287.76955592399, 'currency': 'USD'}, 'reportCurrency': {'value': -8287.76955592399, 'currency': 'USD'}}, 'dv01': {'value': -8116.01238869689, 'bp': -8.11601238869689, 'dealCurrency': {'value': -8116.01238869689, 'currency': 'USD'}, 'reportCurrency': {'value': -8116.01238869689, 'currency': 'USD'}}, 'pv01': {'value': -8116.01238869689, 'bp': -8.11601238869689, 'dealCurrency': {'value': -8116.01238869689, 'currency': 'USD'}, 'reportCurrency': {'value': -8116.01238869689, 'currency': 'USD'}}, 'br01': {'value': 0.0, 'dealCurrency': {'value': 0.0, 'currency': 'USD'}, 'reportCurrency': {'value': 0.0, 'currency': 'USD'}}}, 'firstLeg': {'description': {'legTag': 'PaidLeg', 'legDescription': 'Pay USD Annual 3.9%', 'interestType': 'Fixed', 'currency': 'USD', 'startDate': '2025-06-18', 'endDate': '2035-06-18', 'index': ''}, 'valuation': {'accrued': {'value': 0.0, 'percent': 0.0, 'dealCurrency': {'value': 0.0, 'currency': 'USD'}, 'reportCurrency': {'value': 0.0, 'currency': 'USD'}}, 'marketValue': {'value': 3231411.195747271, 'dealCurrency': {'value': 3231411.195747271, 'currency': 'USD'}, 'reportCurrency': {'value': 3231411.195747271, 'currency': 'USD'}}, 'cleanMarketValue': {'value': 3231411.195747271, 'dealCurrency': {'value': 3231411.195747271, 'currency': 'USD'}, 'reportCurrency': {'value': 3231411.195747271, 'currency': 'USD'}}}, 'risk': {'duration': {'value': 8.44998402393154}, 'modifiedDuration': {'value': 8.133707175928615}, 'benchmarkHedgeNotional': {'value': 0.0, 'currency': 'USD'}, 'annuity': {'value': 8287.769555923995, 'dealCurrency': {'value': 8287.769555923995, 'currency': 'USD'}, 'reportCurrency': {'value': 8287.769555923995, 'currency': 'USD'}}, 'dv01': {'value': 8128.941742731258, 'bp': 8.128941742731259, 'dealCurrency': {'value': 8128.941742731258, 'currency': 'USD'}, 'reportCurrency': {'value': 8128.941742731258, 'currency': 'USD'}}, 'pv01': {'value': 1616.3774005714804, 'bp': 1.6163774005714804, 'dealCurrency': {'value': 1616.3774005714804, 'currency': 'USD'}, 'reportCurrency': {'value': 1616.3774005714804, 'currency': 'USD'}}, 'br01': {'value': 0.0, 'dealCurrency': {'value': 0.0, 'currency': 'USD'}, 'reportCurrency': {'value': 0.0, 'currency': 'USD'}}}}, 'secondLeg': {'description': {'legTag': 'ReceivedLeg', 'legDescription': 'Receive USD Annual +0bp SOFR', 'interestType': 'Float', 'currency': 'USD', 'startDate': '2025-06-18', 'endDate': '2035-06-18', 'index': 'SOFR'}, 'valuation': {'accrued': {'value': 0.0, 'percent': 0.0, 'dealCurrency': {'value': 0.0, 'currency': 'USD'}, 'reportCurrency': {'value': 0.0, 'currency': 'USD'}}, 'marketValue': {'value': 3231411.1957472973, 'dealCurrency': {'value': 3231411.1957472973, 'currency': 'USD'}, 'reportCurrency': {'value': 3231411.1957472973, 'currency': 'USD'}}, 'cleanMarketValue': {'value': 3231411.1957472973, 'dealCurrency': {'value': 3231411.1957472973, 'currency': 'USD'}, 'reportCurrency': {'value': 3231411.1957472973, 'currency': 'USD'}}}, 'risk': {'duration': {'value': 0.0}, 'modifiedDuration': {'value': 0.012936933615432142}, 'benchmarkHedgeNotional': {'value': 0.0, 'currency': 'USD'}, 'annuity': {'value': 0.0, 'dealCurrency': {'value': 0.0, 'currency': 'USD'}, 'reportCurrency': {'value': 0.0, 'currency': 'USD'}}, 'dv01': {'value': 12.929354034364223, 'bp': 0.012929354034364224, 'dealCurrency': {'value': 12.929354034364223, 'currency': 'USD'}, 'reportCurrency': {'value': 12.929354034364223, 'currency': 'USD'}}, 'pv01': {'value': -6499.634988125414, 'bp': -6.499634988125414, 'dealCurrency': {'value': -6499.634988125414, 'currency': 'USD'}, 'reportCurrency': {'value': -6499.634988125414, 'currency': 'USD'}}, 'br01': {'value': 0.0, 'dealCurrency': {'value': 0.0, 'currency': 'USD'}, 'reportCurrency': {'value': 0.0, 'currency': 'USD'}}}}}]}\n"
     ]
    }
   ],
   "source": [
    "# build the swap from 'LSEG/OIS_SOFR' template\n",
    "fwd_start_sofr = create_from_vanilla_irs_template(template_reference = \"LSEG/OIS_SOFR\")\n",
    "\n",
    "# prepare the Definition Instrument\n",
    "fwd_start_sofr_def = IrSwapDefinitionInstrument(definition = fwd_start_sofr.definition)\n",
    "\n",
    "# set a solving variable between first and second leg and Fixed Rate or Spread\n",
    "solving_variable = IrSwapSolvingVariable(leg='FirstLeg', name='FixedRate')\n",
    "\n",
    "# Apply solving target(s)\n",
    "solving_target=IrSwapSolvingTarget(market_value=IrMeasure(value=0.0))\n",
    "\n",
    "# Setup the solving parameter object\n",
    "solving_parameters = IrSwapSolvingParameters(variable=solving_variable, target=solving_target) \n",
    "\n",
    "# instantiate pricing parameters\n",
    "pricing_parameters = IrPricingParameters(solving_parameters=solving_parameters)\n",
    "\n",
    "# solve the swap par rate\n",
    "solving_response_general = solve(\n",
    "    definitions=[fwd_start_sofr_def],\n",
    "    pricing_preferences=pricing_parameters\n",
    "    )\n",
    "\n",
    "print(solving_response_general)"
   ]
  },
  {
   "cell_type": "markdown",
   "id": "5272a59b",
   "metadata": {},
   "source": [
    "#### Class solve method\n",
    "\n",
    "In this case there are a few rules to abide.\n",
    "1. Swap needs to be saved before solving\n",
    "2. Each swap needs a unique name\n",
    "3. Pricing Parameters needs to be instantiated, even if not populated explicitly"
   ]
  },
  {
   "cell_type": "code",
   "execution_count": 15,
   "id": "5b3cadc4",
   "metadata": {
    "execution": {
     "iopub.execute_input": "2025-06-16T11:16:02.351852Z",
     "iopub.status.busy": "2025-06-16T11:16:02.351467Z",
     "iopub.status.idle": "2025-06-16T11:16:03.891398Z",
     "shell.execute_reply": "2025-06-16T11:16:03.890756Z"
    }
   },
   "outputs": [
    {
     "name": "stdout",
     "output_type": "stream",
     "text": [
      "{'result': 3.8990118812297263}\n"
     ]
    }
   ],
   "source": [
    "# build the swap from 'LSEG/OIS_SOFR' template\n",
    "fwd_start_sofr = create_from_vanilla_irs_template(template_reference = \"LSEG/OIS_SOFR\")\n",
    "\n",
    "# save the swap before solving\n",
    "fwd_start_sofr.save(name=\"sofr_fwd_start_swap_exm_1\")\n",
    "\n",
    "# set a solving variable between first and second leg and Fixed Rate or Spread\n",
    "solving_variable = IrSwapSolvingVariable(leg='FirstLeg', name='FixedRate')\n",
    "\n",
    "# Apply solving target(s)\n",
    "solving_target=IrSwapSolvingTarget(market_value=IrMeasure(value=0.0))\n",
    "\n",
    "# Setup the solving parameter object\n",
    "solving_parameters = IrSwapSolvingParameters(variable=solving_variable, target=solving_target) \n",
    "\n",
    "# instantiate pricing parameters\n",
    "pricing_parameters = IrPricingParameters(solving_parameters=solving_parameters)\n",
    "\n",
    "# solve the swap par rate\n",
    "solving_response_object = fwd_start_sofr.solve(pricing_preferences=pricing_parameters)\n",
    "\n",
    "print(solving_response_object.analytics.solving)"
   ]
  },
  {
   "cell_type": "markdown",
   "id": "dbacd89c",
   "metadata": {},
   "source": [
    "### Value a swap\n",
    "\n",
    "Valuing a swap can be done in 2 ways:\n",
    "1. Invoking a general ir_swaps method 'value' which then requires as an input argument a swap definition object (IRSwapDefinitionInstrument)\n",
    "2. Invoking a 'solve' method directly on the IRSwap Object\n",
    "\n",
    "Both ways require preparation of execution parameters in forms of solving variable and solving target(s), as displayed in following codes."
   ]
  },
  {
   "cell_type": "markdown",
   "id": "bf63ef71",
   "metadata": {},
   "source": [
    "#### General Value method"
   ]
  },
  {
   "cell_type": "code",
   "execution_count": 16,
   "id": "f1a056ce",
   "metadata": {
    "execution": {
     "iopub.execute_input": "2025-06-16T11:16:03.894391Z",
     "iopub.status.busy": "2025-06-16T11:16:03.894104Z",
     "iopub.status.idle": "2025-06-16T11:16:04.941658Z",
     "shell.execute_reply": "2025-06-16T11:16:04.941095Z"
    }
   },
   "outputs": [
    {
     "name": "stdout",
     "output_type": "stream",
     "text": [
      "{'accrued': {'value': 0.0, 'percent': 0.0, 'dealCurrency': {'value': 0.0, 'currency': 'USD'}, 'reportCurrency': {'value': 0.0, 'currency': 'USD'}}, 'marketValue': {'value': 3231411.1957473, 'dealCurrency': {'value': 3231411.1957473, 'currency': 'USD'}, 'reportCurrency': {'value': 3231411.1957473, 'currency': 'USD'}}, 'cleanMarketValue': {'value': 3231411.1957473, 'dealCurrency': {'value': 3231411.1957473, 'currency': 'USD'}, 'reportCurrency': {'value': 3231411.1957473, 'currency': 'USD'}}}\n"
     ]
    }
   ],
   "source": [
    "# build the swap from 'LSEG/OIS_SOFR' template\n",
    "fwd_start_sofr = create_from_vanilla_irs_template(template_reference = \"LSEG/OIS_SOFR\")\n",
    "\n",
    "fwd_start_sofr_def = IrSwapDefinitionInstrument(definition = fwd_start_sofr.definition)\n",
    "\n",
    "# instantiate pricing parameters\n",
    "pricing_parameters = IrPricingParameters()\n",
    "\n",
    "# value the swap\n",
    "valuation_response = value(\n",
    "    definitions=[fwd_start_sofr_def],\n",
    "    pricing_preferences=pricing_parameters\n",
    ")\n",
    "\n",
    "print(valuation_response.analytics[0].valuation)"
   ]
  },
  {
   "cell_type": "markdown",
   "id": "c8d754a1",
   "metadata": {},
   "source": [
    "#### Class Value method"
   ]
  },
  {
   "cell_type": "code",
   "execution_count": 17,
   "id": "db0f8a2f",
   "metadata": {
    "execution": {
     "iopub.execute_input": "2025-06-16T11:16:04.943636Z",
     "iopub.status.busy": "2025-06-16T11:16:04.943434Z",
     "iopub.status.idle": "2025-06-16T11:16:06.174093Z",
     "shell.execute_reply": "2025-06-16T11:16:06.173414Z"
    }
   },
   "outputs": [
    {
     "name": "stdout",
     "output_type": "stream",
     "text": [
      "{'accrued': {'value': 0.0, 'percent': 0.0, 'dealCurrency': {'value': 0.0, 'currency': 'USD'}, 'reportCurrency': {'value': 0.0, 'currency': 'USD'}}, 'marketValue': {'value': 3231403.89168649, 'dealCurrency': {'value': 3231403.89168649, 'currency': 'USD'}, 'reportCurrency': {'value': 3231403.89168649, 'currency': 'USD'}}, 'cleanMarketValue': {'value': 3231403.89168649, 'dealCurrency': {'value': 3231403.89168649, 'currency': 'USD'}, 'reportCurrency': {'value': 3231403.89168649, 'currency': 'USD'}}}\n"
     ]
    }
   ],
   "source": [
    "# build the swap from 'LSEG/OIS_SOFR' template\n",
    "fwd_start_sofr = create_from_vanilla_irs_template(template_reference = \"LSEG/OIS_SOFR\")\n",
    "\n",
    "# save the swap before solving\n",
    "fwd_start_sofr.save(name=\"sofr_fwd_start_swap_exm_2\")\n",
    "\n",
    "# instantiate pricing parameters\n",
    "pricing_parameters = IrPricingParameters()\n",
    "\n",
    "# solve the swap par rate\n",
    "valuing_response_object = fwd_start_sofr.value(pricing_preferences=pricing_parameters)\n",
    "\n",
    "print(valuing_response_object.analytics.valuation)"
   ]
  },
  {
   "cell_type": "markdown",
   "id": "e9cbbd51",
   "metadata": {},
   "source": [
    "## Creating a swap from CBS template"
   ]
  },
  {
   "cell_type": "code",
   "execution_count": 18,
   "id": "ff31c35c",
   "metadata": {
    "execution": {
     "iopub.execute_input": "2025-06-16T11:16:06.176762Z",
     "iopub.status.busy": "2025-06-16T11:16:06.176458Z",
     "iopub.status.idle": "2025-06-16T11:16:06.411833Z",
     "shell.execute_reply": "2025-06-16T11:16:06.411315Z"
    }
   },
   "outputs": [
    {
     "name": "stdout",
     "output_type": "stream",
     "text": [
      "{'firstLeg': {'rate': {'interestRateType': 'FloatingRate', 'index': 'LSEG/GBP_SONIA_ON_Composite', 'spreadSchedule': [{'rate': {'value': 0.0, 'unit': 'BasisPoint'}}], 'resetDates': {'offset': {'tenor': '0D', 'businessDayAdjustment': {'calendars': [], 'convention': 'ModifiedFollowing'}, 'referenceDate': 'PeriodEndDate', 'direction': 'Backward'}}, 'leverage': 1.0}, 'interestPeriods': {'startDate': {'dateType': 'RelativeAdjustableDate', 'tenor': '0D', 'referenceDate': 'SpotDate'}, 'endDate': {'dateType': 'RelativeAdjustableDate', 'tenor': '10Y', 'referenceDate': 'StartDate'}, 'frequency': 'Quarterly', 'businessDayAdjustment': {'calendars': ['UKG', 'USA'], 'convention': 'ModifiedFollowing'}, 'rollConvention': 'Same'}, 'paymentOffset': {'tenor': '2D', 'businessDayAdjustment': {'calendars': ['UKG', 'USA'], 'convention': 'ModifiedFollowing'}, 'referenceDate': 'PeriodEndDate', 'direction': 'Forward'}, 'couponDayCount': 'Dcb_Actual_365', 'accrualDayCount': 'Dcb_Actual_365', 'principal': {'currency': 'GBP', 'amount': 10000000.0, 'initialPrincipalExchange': True, 'finalPrincipalExchange': True, 'interimPrincipalExchange': False, 'repaymentCurrency': 'GBP'}, 'payer': 'Party1', 'receiver': 'Party2'}, 'secondLeg': {'rate': {'interestRateType': 'FloatingRate', 'index': 'LSEG/USD_SOFR_ON', 'spreadSchedule': [{'rate': {'value': 0.0, 'unit': 'BasisPoint'}}], 'resetDates': {'offset': {'tenor': '0D', 'businessDayAdjustment': {'calendars': [], 'convention': 'ModifiedFollowing'}, 'referenceDate': 'PeriodEndDate', 'direction': 'Backward'}}, 'leverage': 1.0}, 'interestPeriods': {'startDate': {'dateType': 'RelativeAdjustableDate', 'tenor': '0D', 'referenceDate': 'SpotDate'}, 'endDate': {'dateType': 'RelativeAdjustableDate', 'tenor': '10Y', 'referenceDate': 'StartDate'}, 'frequency': 'Quarterly', 'businessDayAdjustment': {'calendars': ['UKG', 'USA'], 'convention': 'ModifiedFollowing'}, 'rollConvention': 'Same'}, 'paymentOffset': {'tenor': '2D', 'businessDayAdjustment': {'calendars': ['UKG', 'USA'], 'convention': 'ModifiedFollowing'}, 'referenceDate': 'PeriodEndDate', 'direction': 'Forward'}, 'couponDayCount': 'Dcb_Actual_360', 'accrualDayCount': 'Dcb_Actual_360', 'principal': {'currency': 'USD', 'amount': 10000000.0, 'initialPrincipalExchange': True, 'finalPrincipalExchange': True, 'interimPrincipalExchange': False, 'repaymentCurrency': 'USD'}, 'payer': 'Party2', 'receiver': 'Party1'}}\n"
     ]
    }
   ],
   "source": [
    "swap_from_cbs = create_from_cbs_template(template_reference = \"LSEG/GBUSSOSRBS\")\n",
    "print(swap_from_cbs.definition)"
   ]
  },
  {
   "cell_type": "markdown",
   "id": "9961bae5",
   "metadata": {},
   "source": [
    "## Create a swap from CCS Template"
   ]
  },
  {
   "cell_type": "code",
   "execution_count": 19,
   "id": "f620a4f9",
   "metadata": {
    "execution": {
     "iopub.execute_input": "2025-06-16T11:16:06.414187Z",
     "iopub.status.busy": "2025-06-16T11:16:06.413748Z",
     "iopub.status.idle": "2025-06-16T11:16:06.634758Z",
     "shell.execute_reply": "2025-06-16T11:16:06.634239Z"
    }
   },
   "outputs": [
    {
     "name": "stdout",
     "output_type": "stream",
     "text": [
      "{'firstLeg': {'rate': {'interestRateType': 'FixedRate', 'rate': {'value': 0.0, 'unit': 'Percentage'}}, 'interestPeriods': {'startDate': {'dateType': 'RelativeAdjustableDate', 'tenor': '0D', 'referenceDate': 'SpotDate'}, 'endDate': {'dateType': 'RelativeAdjustableDate', 'tenor': '10Y', 'referenceDate': 'StartDate'}, 'frequency': 'Quarterly', 'businessDayAdjustment': {'calendars': ['CHN', 'USA'], 'convention': 'ModifiedFollowing'}, 'rollConvention': 'Same'}, 'paymentOffset': {'tenor': '2D', 'businessDayAdjustment': {'calendars': ['CHN', 'USA'], 'convention': 'ModifiedFollowing'}, 'referenceDate': 'PeriodEndDate', 'direction': 'Forward'}, 'couponDayCount': 'Dcb_Actual_360', 'accrualDayCount': 'Dcb_Actual_360', 'principal': {'currency': 'CNY', 'amount': 10000000.0, 'initialPrincipalExchange': False, 'finalPrincipalExchange': True, 'interimPrincipalExchange': False, 'repaymentCurrency': 'CNY'}, 'payer': 'Party1', 'receiver': 'Party2'}, 'secondLeg': {'rate': {'interestRateType': 'FloatingRate', 'index': 'LSEG/USD_SOFR_ON', 'spreadSchedule': [{'rate': {'value': 0.0, 'unit': 'BasisPoint'}}], 'resetDates': {'offset': {'tenor': '0D', 'businessDayAdjustment': {'calendars': [], 'convention': 'ModifiedFollowing'}, 'referenceDate': 'PeriodEndDate', 'direction': 'Backward'}}, 'leverage': 1.0}, 'interestPeriods': {'startDate': {'dateType': 'RelativeAdjustableDate', 'tenor': '0D', 'referenceDate': 'SpotDate'}, 'endDate': {'dateType': 'RelativeAdjustableDate', 'tenor': '10Y', 'referenceDate': 'StartDate'}, 'frequency': 'Quarterly', 'businessDayAdjustment': {'calendars': ['CHN', 'USA'], 'convention': 'ModifiedFollowing'}, 'rollConvention': 'Same'}, 'paymentOffset': {'tenor': '2D', 'businessDayAdjustment': {'calendars': ['CHN', 'USA'], 'convention': 'ModifiedFollowing'}, 'referenceDate': 'PeriodEndDate', 'direction': 'Forward'}, 'couponDayCount': 'Dcb_Actual_360', 'accrualDayCount': 'Dcb_Actual_360', 'principal': {'currency': 'USD', 'amount': 10000000.0, 'initialPrincipalExchange': False, 'finalPrincipalExchange': True, 'interimPrincipalExchange': False, 'repaymentCurrency': 'USD'}, 'payer': 'Party2', 'receiver': 'Party1'}}\n"
     ]
    }
   ],
   "source": [
    "swap_from_ccs = create_from_ccs_template(template_reference = \"LSEG/CNUSQMSRBS\")\n",
    "print(swap_from_ccs.definition)"
   ]
  },
  {
   "cell_type": "markdown",
   "id": "04c86c78",
   "metadata": {},
   "source": [
    "## Create a swap from LEG Template"
   ]
  },
  {
   "cell_type": "code",
   "execution_count": 20,
   "id": "0c8337af",
   "metadata": {
    "execution": {
     "iopub.execute_input": "2025-06-16T11:16:06.636932Z",
     "iopub.status.busy": "2025-06-16T11:16:06.636631Z",
     "iopub.status.idle": "2025-06-16T11:16:06.914083Z",
     "shell.execute_reply": "2025-06-16T11:16:06.913563Z"
    }
   },
   "outputs": [
    {
     "name": "stdout",
     "output_type": "stream",
     "text": [
      "{'firstLeg': {'rate': {'interestRateType': 'FloatingRate', 'index': 'LSEG/EUR_EURIBOR_3M_EMMI', 'spreadSchedule': [{'rate': {'value': 0.0, 'unit': 'BasisPoint'}}], 'resetDates': {'offset': {'tenor': '2D', 'businessDayAdjustment': {'calendars': [], 'convention': 'ModifiedFollowing'}, 'referenceDate': 'PeriodStartDate', 'direction': 'Backward'}}, 'leverage': 1.0}, 'interestPeriods': {'startDate': {'dateType': 'RelativeAdjustableDate', 'tenor': '0D', 'referenceDate': 'SpotDate'}, 'endDate': {'dateType': 'RelativeAdjustableDate', 'tenor': '10Y', 'referenceDate': 'StartDate'}, 'frequency': 'Quarterly', 'businessDayAdjustment': {'calendars': ['EMU'], 'convention': 'ModifiedFollowing'}, 'rollConvention': 'Same'}, 'paymentOffset': {'tenor': '0D', 'businessDayAdjustment': {'calendars': ['EMU'], 'convention': 'ModifiedFollowing'}, 'referenceDate': 'PeriodEndDate', 'direction': 'Forward'}, 'couponDayCount': 'Dcb_Actual_360', 'accrualDayCount': 'Dcb_Actual_360', 'principal': {'currency': 'EUR', 'amount': 10000000.0, 'initialPrincipalExchange': False, 'finalPrincipalExchange': False, 'interimPrincipalExchange': False, 'repaymentCurrency': 'EUR'}, 'payer': 'Party2', 'receiver': 'Party1'}, 'secondLeg': {'rate': {'interestRateType': 'FixedRate', 'rate': {'value': 0.0, 'unit': 'Percentage'}}, 'interestPeriods': {'startDate': {'dateType': 'RelativeAdjustableDate', 'tenor': '0D', 'referenceDate': 'SpotDate'}, 'endDate': {'dateType': 'RelativeAdjustableDate', 'tenor': '10Y', 'referenceDate': 'StartDate'}, 'frequency': 'Annual', 'businessDayAdjustment': {'calendars': ['EMU'], 'convention': 'ModifiedFollowing'}, 'rollConvention': 'Same'}, 'paymentOffset': {'tenor': '0D', 'businessDayAdjustment': {'calendars': ['EMU'], 'convention': 'ModifiedFollowing'}, 'referenceDate': 'PeriodEndDate', 'direction': 'Forward'}, 'couponDayCount': 'Dcb_30_360', 'accrualDayCount': 'Dcb_30_360', 'principal': {'currency': 'EUR', 'amount': 10000000.0, 'initialPrincipalExchange': False, 'finalPrincipalExchange': False, 'interimPrincipalExchange': False, 'repaymentCurrency': 'EUR'}, 'payer': 'Party1', 'receiver': 'Party2'}}\n"
     ]
    }
   ],
   "source": [
    "swap_from_leg = create_from_leg_template(first_leg_reference = \"LSEG/EUR_AB3E_FLT\", second_leg_reference = \"LSEG/EUR_AB3E_FXD\")\n",
    "print(swap_from_leg.definition)"
   ]
  },
  {
   "cell_type": "markdown",
   "id": "5b72c646",
   "metadata": {},
   "source": [
    "## Create a swap from TBS Template"
   ]
  },
  {
   "cell_type": "code",
   "execution_count": 21,
   "id": "863d701a",
   "metadata": {
    "execution": {
     "iopub.execute_input": "2025-06-16T11:16:06.916230Z",
     "iopub.status.busy": "2025-06-16T11:16:06.915895Z",
     "iopub.status.idle": "2025-06-16T11:16:07.156572Z",
     "shell.execute_reply": "2025-06-16T11:16:07.155933Z"
    }
   },
   "outputs": [
    {
     "name": "stdout",
     "output_type": "stream",
     "text": [
      "{'firstLeg': {'rate': {'interestRateType': 'FloatingRate', 'index': 'LSEG/USD_SOFR_ON', 'spreadSchedule': [{'rate': {'value': 0.0, 'unit': 'BasisPoint'}}], 'resetDates': {'offset': {'tenor': '0D', 'businessDayAdjustment': {'calendars': [], 'convention': 'ModifiedFollowing'}, 'referenceDate': 'PeriodEndDate', 'direction': 'Backward'}}, 'leverage': 1.0}, 'interestPeriods': {'startDate': {'dateType': 'RelativeAdjustableDate', 'tenor': '0D', 'referenceDate': 'SpotDate'}, 'endDate': {'dateType': 'RelativeAdjustableDate', 'tenor': '10Y', 'referenceDate': 'StartDate'}, 'frequency': 'Quarterly', 'businessDayAdjustment': {'calendars': ['USA'], 'convention': 'ModifiedFollowing'}, 'rollConvention': 'Same'}, 'paymentOffset': {'tenor': '2D', 'businessDayAdjustment': {'calendars': ['USA'], 'convention': 'ModifiedFollowing'}, 'referenceDate': 'PeriodEndDate', 'direction': 'Forward'}, 'couponDayCount': 'Dcb_Actual_360', 'accrualDayCount': 'Dcb_Actual_360', 'principal': {'currency': 'USD', 'amount': 10000000.0, 'initialPrincipalExchange': False, 'finalPrincipalExchange': False, 'interimPrincipalExchange': False, 'repaymentCurrency': 'USD'}, 'payer': 'Party1', 'receiver': 'Party2'}, 'secondLeg': {'rate': {'interestRateType': 'FloatingRate', 'index': 'LSEG/USD_LIBOR_3M_IBA', 'spreadSchedule': [{'rate': {'value': 0.0, 'unit': 'BasisPoint'}}], 'resetDates': {'offset': {'tenor': '2D', 'businessDayAdjustment': {'calendars': [], 'convention': 'ModifiedFollowing'}, 'referenceDate': 'PeriodStartDate', 'direction': 'Backward'}}, 'leverage': 1.0}, 'interestPeriods': {'startDate': {'dateType': 'RelativeAdjustableDate', 'tenor': '0D', 'referenceDate': 'SpotDate'}, 'endDate': {'dateType': 'RelativeAdjustableDate', 'tenor': '10Y', 'referenceDate': 'StartDate'}, 'frequency': 'Quarterly', 'businessDayAdjustment': {'calendars': ['USA'], 'convention': 'ModifiedFollowing'}, 'rollConvention': 'Same'}, 'paymentOffset': {'tenor': '2D', 'businessDayAdjustment': {'calendars': ['USA'], 'convention': 'ModifiedFollowing'}, 'referenceDate': 'PeriodEndDate', 'direction': 'Forward'}, 'couponDayCount': 'Dcb_Actual_360', 'accrualDayCount': 'Dcb_Actual_360', 'principal': {'currency': 'USD', 'amount': 10000000.0, 'initialPrincipalExchange': False, 'finalPrincipalExchange': False, 'interimPrincipalExchange': False, 'repaymentCurrency': 'USD'}, 'payer': 'Party2', 'receiver': 'Party1'}}\n"
     ]
    }
   ],
   "source": [
    "swap_from_tbs = create_from_tbs_template(template_reference = \"LSEG/CBS_USDSR3LIMM\")\n",
    "print(swap_from_tbs.definition)"
   ]
  },
  {
   "cell_type": "markdown",
   "id": "ca41ccdb",
   "metadata": {},
   "source": [
    "### Saving a swap"
   ]
  },
  {
   "cell_type": "code",
   "execution_count": 22,
   "id": "c71b8802",
   "metadata": {
    "execution": {
     "iopub.execute_input": "2025-06-16T11:16:07.159307Z",
     "iopub.status.busy": "2025-06-16T11:16:07.159062Z",
     "iopub.status.idle": "2025-06-16T11:16:07.615452Z",
     "shell.execute_reply": "2025-06-16T11:16:07.614802Z"
    }
   },
   "outputs": [
    {
     "name": "stdout",
     "output_type": "stream",
     "text": [
      "Instrument SOFR_OIS_1Y2Y saved in HOME space.\n"
     ]
    }
   ],
   "source": [
    "# build the swap from 'LSEG/OIS_SOFR' template\n",
    "fwd_start_sofr = create_from_vanilla_irs_template(template_reference = \"LSEG/OIS_SOFR\")\n",
    "\n",
    "swap_id = \"SOFR_OIS_1Y2Y\"\n",
    "\n",
    "swap_space = \"HOME\"\n",
    "\n",
    "try:\n",
    "    # If the instrument does not exist in HOME space, we can save it\n",
    "    fwd_start_sofr.save(name=swap_id, space=swap_space)\n",
    "    print(f\"Instrument {swap_id} saved in {swap_space} space.\")\n",
    "except:\n",
    "    # Check if the instrument already exists in HOME space\n",
    "    fwd_start_sofr = load(name=swap_id, space=swap_space)\n",
    "    print(f\"Instrument {swap_id} already exists in {swap_space} space.\")"
   ]
  },
  {
   "cell_type": "markdown",
   "id": "b0a6bc0f",
   "metadata": {},
   "source": [
    "### Deleting the saved swap"
   ]
  },
  {
   "cell_type": "code",
   "execution_count": 23,
   "id": "cacc52eb",
   "metadata": {
    "execution": {
     "iopub.execute_input": "2025-06-16T11:16:07.618400Z",
     "iopub.status.busy": "2025-06-16T11:16:07.617798Z",
     "iopub.status.idle": "2025-06-16T11:16:07.890310Z",
     "shell.execute_reply": "2025-06-16T11:16:07.889747Z"
    }
   },
   "outputs": [
    {
     "data": {
      "text/plain": [
       "True"
      ]
     },
     "execution_count": 23,
     "metadata": {},
     "output_type": "execute_result"
    }
   ],
   "source": [
    "# Let's delete the instrument we created in HOME space\n",
    "from lseg_analytics.instruments.ir_swaps import delete\n",
    "\n",
    "swap_id = \"SOFR_OIS_1Y2Y\"\n",
    "\n",
    "delete(name=swap_id, space=\"HOME\")"
   ]
  },
  {
   "cell_type": "code",
   "execution_count": 24,
   "id": "2bc89762",
   "metadata": {
    "execution": {
     "iopub.execute_input": "2025-06-16T11:16:07.892512Z",
     "iopub.status.busy": "2025-06-16T11:16:07.892147Z",
     "iopub.status.idle": "2025-06-16T11:16:08.473131Z",
     "shell.execute_reply": "2025-06-16T11:16:08.472424Z"
    }
   },
   "outputs": [
    {
     "data": {
      "text/plain": [
       "True"
      ]
     },
     "execution_count": 24,
     "metadata": {},
     "output_type": "execute_result"
    }
   ],
   "source": [
    "delete(name=\"sofr_fwd_start_swap_exm_1\", space=\"HOME\")\n",
    "delete(name=\"sofr_fwd_start_swap_exm_2\", space=\"HOME\")"
   ]
  }
 ],
 "metadata": {
  "kernelspec": {
   "display_name": "env",
   "language": "python",
   "name": "python3"
  },
  "language_info": {
   "codemirror_mode": {
    "name": "ipython",
    "version": 3
   },
   "file_extension": ".py",
   "mimetype": "text/x-python",
   "name": "python",
   "nbconvert_exporter": "python",
   "pygments_lexer": "ipython3",
   "version": "3.11.6"
  }
 },
 "nbformat": 4,
 "nbformat_minor": 5
}
