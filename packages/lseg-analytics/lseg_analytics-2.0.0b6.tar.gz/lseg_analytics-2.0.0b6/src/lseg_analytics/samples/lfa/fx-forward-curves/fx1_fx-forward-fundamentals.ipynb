{
 "cells": [
  {
   "cell_type": "markdown",
   "metadata": {
    "tags": [
     "ide-samples-no-python"
    ]
   },
   "source": [
    "# FX Forward Curves Fundamentals"
   ]
  },
  {
   "cell_type": "markdown",
   "metadata": {},
   "source": [
    "## Namespaces\n",
    "\n",
    "You can use namespaces in your Python by importing the necessary modules."
   ]
  },
  {
   "cell_type": "code",
   "execution_count": 1,
   "metadata": {
    "execution": {
     "iopub.execute_input": "2025-06-16T11:15:49.861269Z",
     "iopub.status.busy": "2025-06-16T11:15:49.860916Z",
     "iopub.status.idle": "2025-06-16T11:15:50.197473Z",
     "shell.execute_reply": "2025-06-16T11:15:50.196555Z"
    }
   },
   "outputs": [],
   "source": [
    "import datetime\n",
    "\n",
    "from lseg_analytics.common import Description, TenorType, Quote, QuoteDefinition\n",
    "\n",
    "from lseg_analytics.market_data.fx_forward_curves import (\n",
    "    DepositFxConstituent,\n",
    "    DepositConstituentDefinition,\n",
    "    CurrencyBasisSwapConstituent,\n",
    "    CurrencyBasisSwapConstituentDefinition,\n",
    "    FxForwardConstituent,\n",
    "    FxSpotConstituentDefinition,\n",
    "    FxForwardConstituentDefinition,\n",
    "    FxSpotConstituent,\n",
    "    IndirectSourcesDeposits,\n",
    "    IndirectSourcesSwaps,\n",
    "    FxForwardCurve,\n",
    "    FxForwardCurveDefinition,\n",
    "    delete,\n",
    "    load,\n",
    "    search,\n",
    ")"
   ]
  },
  {
   "cell_type": "markdown",
   "metadata": {},
   "source": [
    "You can import api modules using their original names:"
   ]
  },
  {
   "cell_type": "code",
   "execution_count": 2,
   "metadata": {
    "execution": {
     "iopub.execute_input": "2025-06-16T11:15:50.201605Z",
     "iopub.status.busy": "2025-06-16T11:15:50.200312Z",
     "iopub.status.idle": "2025-06-16T11:15:50.207403Z",
     "shell.execute_reply": "2025-06-16T11:15:50.206773Z"
    }
   },
   "outputs": [
    {
     "data": {
      "text/plain": [
       "'lseg_analytics.market_data.fx_forward_curves'"
      ]
     },
     "execution_count": 2,
     "metadata": {},
     "output_type": "execute_result"
    }
   ],
   "source": [
    "from lseg_analytics.market_data import fx_forward_curves\n",
    "\n",
    "fx_forward_curves.__name__"
   ]
  },
  {
   "cell_type": "markdown",
   "metadata": {},
   "source": [
    "Or you can import them using an alias to prevent name conflicts:"
   ]
  },
  {
   "cell_type": "code",
   "execution_count": 3,
   "metadata": {
    "execution": {
     "iopub.execute_input": "2025-06-16T11:15:50.209629Z",
     "iopub.status.busy": "2025-06-16T11:15:50.209289Z",
     "iopub.status.idle": "2025-06-16T11:15:50.213336Z",
     "shell.execute_reply": "2025-06-16T11:15:50.212860Z"
    }
   },
   "outputs": [
    {
     "data": {
      "text/plain": [
       "(lseg_analytics.market_data.fx_forward_curves._fx_forward_curve.FxForwardCurve,\n",
       " <function lseg_analytics.market_data.fx_forward_curves._functions.load(*, resource_id: Optional[str] = None, name: Optional[str] = None, space: Optional[str] = None)>)"
      ]
     },
     "execution_count": 3,
     "metadata": {},
     "output_type": "execute_result"
    }
   ],
   "source": [
    "from lseg_analytics.market_data import fx_forward_curves as ffc\n",
    "\n",
    "ffc.FxForwardCurve, ffc.load"
   ]
  },
  {
   "cell_type": "markdown",
   "metadata": {},
   "source": [
    "## Constructors\n",
    "\n",
    "Each object might have the following parameters:\n",
    "\n",
    "- A definition containing information that *defines* a resource, used to build the resource object itself.\n",
    "- A description containing information that *describes* a resource, for example a summary and/or tags.\n",
    "\n",
    "The definition is mandatory while description is optional.\n"
   ]
  },
  {
   "cell_type": "markdown",
   "metadata": {},
   "source": [
    "### Definition\n",
    "\n",
    "You can construct objects in more than one way. \n",
    "\n",
    "In this case, define the FxForwardCurve with a simple 'definition':"
   ]
  },
  {
   "cell_type": "code",
   "execution_count": 4,
   "metadata": {
    "execution": {
     "iopub.execute_input": "2025-06-16T11:15:50.215599Z",
     "iopub.status.busy": "2025-06-16T11:15:50.215206Z",
     "iopub.status.idle": "2025-06-16T11:15:50.220929Z",
     "shell.execute_reply": "2025-06-16T11:15:50.220408Z"
    }
   },
   "outputs": [
    {
     "data": {
      "text/plain": [
       "<FxForwardCurve space=None name='' unsaved>"
      ]
     },
     "execution_count": 4,
     "metadata": {},
     "output_type": "execute_result"
    }
   ],
   "source": [
    "# Create a FxForwardCurve instance.\n",
    "new_curve = FxForwardCurve(\n",
    "    FxForwardCurveDefinition(\n",
    "        cross_currency=\"USDJPY\", reference_currency=\"JPY\"\n",
    "    )\n",
    ")\n",
    "\n",
    "new_curve"
   ]
  },
  {
   "cell_type": "markdown",
   "metadata": {},
   "source": [
    "### Description\n",
    "\n",
    "You can add the description later:"
   ]
  },
  {
   "cell_type": "code",
   "execution_count": 5,
   "metadata": {
    "execution": {
     "iopub.execute_input": "2025-06-16T11:15:50.223208Z",
     "iopub.status.busy": "2025-06-16T11:15:50.222946Z",
     "iopub.status.idle": "2025-06-16T11:15:50.226716Z",
     "shell.execute_reply": "2025-06-16T11:15:50.226300Z"
    }
   },
   "outputs": [
    {
     "data": {
      "text/plain": [
       "'New curve'"
      ]
     },
     "execution_count": 5,
     "metadata": {},
     "output_type": "execute_result"
    }
   ],
   "source": [
    "new_curve.description.summary=\"New curve\"\n",
    "\n",
    "new_curve.description.summary"
   ]
  },
  {
   "cell_type": "markdown",
   "metadata": {},
   "source": [
    "## Builders\n",
    "\n",
    "Curves can have a large number of parameters to enable them to cover many use cases. This provides flexibility, but makes curve creation complex.\n",
    "\n",
    "The platform provides dedicated endpoints to create curves for specific use cases, allowing creation using only the parameters necessary for that use.\n",
    "\n",
    "These endpoints are exposed as functions."
   ]
  },
  {
   "cell_type": "markdown",
   "metadata": {},
   "source": [
    "### Create FxForwardCurve from scratch.\n",
    "This example creates a FX forward curve without using one of the dedicated functions."
   ]
  },
  {
   "cell_type": "code",
   "execution_count": 6,
   "metadata": {
    "execution": {
     "iopub.execute_input": "2025-06-16T11:15:50.228860Z",
     "iopub.status.busy": "2025-06-16T11:15:50.228387Z",
     "iopub.status.idle": "2025-06-16T11:15:50.235440Z",
     "shell.execute_reply": "2025-06-16T11:15:50.234891Z"
    }
   },
   "outputs": [
    {
     "data": {
      "text/plain": [
       "<FxForwardCurve space=None name='' unsaved>"
      ]
     },
     "execution_count": 6,
     "metadata": {},
     "output_type": "execute_result"
    }
   ],
   "source": [
    "curve_from_scratch = FxForwardCurve(\n",
    "    description=Description(summary=\"My FX Forward Curve\", tags=[\"tag1\", \"tag2\"]),\n",
    "    definition=FxForwardCurveDefinition(\n",
    "        cross_currency=\"EURCHF\",\n",
    "        reference_currency=\"TRY\",\n",
    "        constituents=[\n",
    "            FxSpotConstituent(\n",
    "                quote=Quote(definition=QuoteDefinition(instrument_code=\"TRY=\")),\n",
    "                definition=FxSpotConstituentDefinition(template=\"USDEUR\"),\n",
    "            ),\n",
    "            FxForwardConstituent(\n",
    "                definition=FxForwardConstituentDefinition(template=\"USDEUR\"),\n",
    "            ),\n",
    "            CurrencyBasisSwapConstituent(\n",
    "                definition=CurrencyBasisSwapConstituentDefinition(\n",
    "                    template=\"USDEUR\", tenor=\"1W\"\n",
    "                ),\n",
    "            ),\n",
    "            DepositFxConstituent(\n",
    "                definition=DepositConstituentDefinition(\n",
    "                    tenor=\"1D\", template=\"USDEUR\"\n",
    "                )\n",
    "            ),\n",
    "        ],\n",
    "    ),\n",
    ")\n",
    "\n",
    "curve_from_scratch"
   ]
  },
  {
   "cell_type": "markdown",
   "metadata": {},
   "source": [
    "### Create definition from FXForwards\n",
    "This example creates a curve from FXForwards."
   ]
  },
  {
   "cell_type": "code",
   "execution_count": 7,
   "metadata": {
    "execution": {
     "iopub.execute_input": "2025-06-16T11:15:50.237608Z",
     "iopub.status.busy": "2025-06-16T11:15:50.237344Z",
     "iopub.status.idle": "2025-06-16T11:15:51.339280Z",
     "shell.execute_reply": "2025-06-16T11:15:51.338794Z"
    }
   },
   "outputs": [
    {
     "data": {
      "text/plain": [
       "<FxForwardCurve space=None name='' unsaved>"
      ]
     },
     "execution_count": 7,
     "metadata": {},
     "output_type": "execute_result"
    }
   ],
   "source": [
    "from_fx_forwards = fx_forward_curves.create_from_fx_forwards(\n",
    "            cross_currency=\"EURGBP\",\n",
    "            reference_currency=\"USD\",\n",
    "            sources=IndirectSourcesSwaps(base_fx_forwards=\"RFB\"),\n",
    "            additional_tenor_types=[TenorType.LONG, TenorType.END_OF_MONTH],\n",
    "        )\n",
    "\n",
    "from_fx_forwards"
   ]
  },
  {
   "cell_type": "markdown",
   "metadata": {},
   "source": [
    "### Create definition from deposits\n",
    "This example creates a curve from Deposits."
   ]
  },
  {
   "cell_type": "code",
   "execution_count": 8,
   "metadata": {
    "execution": {
     "iopub.execute_input": "2025-06-16T11:15:51.341397Z",
     "iopub.status.busy": "2025-06-16T11:15:51.341065Z",
     "iopub.status.idle": "2025-06-16T11:15:51.985254Z",
     "shell.execute_reply": "2025-06-16T11:15:51.984739Z"
    }
   },
   "outputs": [
    {
     "data": {
      "text/plain": [
       "<FxForwardCurve space=None name='' unsaved>"
      ]
     },
     "execution_count": 8,
     "metadata": {},
     "output_type": "execute_result"
    }
   ],
   "source": [
    "from_deposits = fx_forward_curves.create_from_deposits(\n",
    "            cross_currency=\"EURGBP\",\n",
    "            additional_tenor_types=[TenorType.LONG, TenorType.END_OF_MONTH],\n",
    "        )\n",
    "\n",
    "from_deposits"
   ]
  },
  {
   "cell_type": "markdown",
   "metadata": {},
   "source": [
    "## Save\n",
    "This example illustrates how you can save a curve to a space.\n"
   ]
  },
  {
   "cell_type": "code",
   "execution_count": 9,
   "metadata": {
    "execution": {
     "iopub.execute_input": "2025-06-16T11:15:51.987311Z",
     "iopub.status.busy": "2025-06-16T11:15:51.987014Z",
     "iopub.status.idle": "2025-06-16T11:15:51.990848Z",
     "shell.execute_reply": "2025-06-16T11:15:51.990421Z"
    }
   },
   "outputs": [
    {
     "data": {
      "text/plain": [
       "<FxForwardCurve space=None name='' unsaved>"
      ]
     },
     "execution_count": 9,
     "metadata": {},
     "output_type": "execute_result"
    }
   ],
   "source": [
    "from os import name\n",
    "\n",
    "\n",
    "curve = FxForwardCurve(\n",
    "    definition=from_fx_forwards.definition,\n",
    "    description=Description(summary=\"EURGBP Fx Forward Curve via USD\", tags=[\"EURGBP\", \"EUR\", \"GBP\", \"FxCurve\"]),\n",
    ")\n",
    "\n",
    "curve"
   ]
  },
  {
   "cell_type": "code",
   "execution_count": 10,
   "metadata": {
    "execution": {
     "iopub.execute_input": "2025-06-16T11:15:51.992687Z",
     "iopub.status.busy": "2025-06-16T11:15:51.992331Z",
     "iopub.status.idle": "2025-06-16T11:15:52.441634Z",
     "shell.execute_reply": "2025-06-16T11:15:52.440973Z"
    }
   },
   "outputs": [
    {
     "data": {
      "text/plain": [
       "True"
      ]
     },
     "execution_count": 10,
     "metadata": {},
     "output_type": "execute_result"
    }
   ],
   "source": [
    "curve.save(name=\"EURGBP_Fx_Forward_Curve\", space=\"HOME\")"
   ]
  },
  {
   "cell_type": "markdown",
   "metadata": {},
   "source": [
    "## Clone\n",
    "\n",
    "Clone the existing instance on definition and description."
   ]
  },
  {
   "cell_type": "code",
   "execution_count": 11,
   "metadata": {
    "execution": {
     "iopub.execute_input": "2025-06-16T11:15:52.444268Z",
     "iopub.status.busy": "2025-06-16T11:15:52.443833Z",
     "iopub.status.idle": "2025-06-16T11:15:52.897533Z",
     "shell.execute_reply": "2025-06-16T11:15:52.896906Z"
    }
   },
   "outputs": [
    {
     "name": "stdout",
     "output_type": "stream",
     "text": [
      "Curve_id: 6bd829d3-74b5-4bb8-bc71-249e6524f52a\n",
      "Cloned_fx_forwards_id: 84c4b5ca-4ca9-46ce-81df-35039d4d10d3\n"
     ]
    },
    {
     "data": {
      "text/plain": [
       "True"
      ]
     },
     "execution_count": 11,
     "metadata": {},
     "output_type": "execute_result"
    }
   ],
   "source": [
    "cloned_fx_forward = curve.clone()\n",
    "cloned_fx_forward.save(name=\"my_saved_curve2\", space=\"HOME\")\n",
    "\n",
    "print(f\"Curve_id: {curve.id}\")\n",
    "print(f\"Cloned_fx_forwards_id: {cloned_fx_forward.id}\")\n",
    "\n",
    "delete(resource_id=cloned_fx_forward.id)"
   ]
  },
  {
   "cell_type": "markdown",
   "metadata": {},
   "source": [
    "## Location\n",
    "\n",
    "Name and space are location attributes, which are automatically set when a resource object is saved for the first time.\n",
    "\n",
    "Unsaved resources have thier name and space set to None.\n",
    "\n",
    "Location attributes are read-only."
   ]
  },
  {
   "cell_type": "code",
   "execution_count": 12,
   "metadata": {
    "execution": {
     "iopub.execute_input": "2025-06-16T11:15:52.899805Z",
     "iopub.status.busy": "2025-06-16T11:15:52.899443Z",
     "iopub.status.idle": "2025-06-16T11:15:52.902977Z",
     "shell.execute_reply": "2025-06-16T11:15:52.902429Z"
    }
   },
   "outputs": [
    {
     "name": "stdout",
     "output_type": "stream",
     "text": [
      "Curve name: EURGBP_Fx_Forward_Curve\n",
      "Curve space: HOME\n"
     ]
    }
   ],
   "source": [
    "print(f\"Curve name: {curve.location.name}\")\n",
    "print(f\"Curve space: {curve.location.space}\")"
   ]
  },
  {
   "cell_type": "markdown",
   "metadata": {},
   "source": [
    "## Resource ID\n",
    "\n",
    "A resource ID is the unique resource identifier for an object on the platform.\n",
    "\n",
    "The resource ID is created on saving.\n",
    "\n",
    "IDs are read-only."
   ]
  },
  {
   "cell_type": "code",
   "execution_count": 13,
   "metadata": {
    "execution": {
     "iopub.execute_input": "2025-06-16T11:15:52.904901Z",
     "iopub.status.busy": "2025-06-16T11:15:52.904658Z",
     "iopub.status.idle": "2025-06-16T11:15:52.908317Z",
     "shell.execute_reply": "2025-06-16T11:15:52.907782Z"
    }
   },
   "outputs": [
    {
     "data": {
      "text/plain": [
       "'6bd829d3-74b5-4bb8-bc71-249e6524f52a'"
      ]
     },
     "execution_count": 13,
     "metadata": {},
     "output_type": "execute_result"
    }
   ],
   "source": [
    "curve_id = curve.id\n",
    "\n",
    "curve_id"
   ]
  },
  {
   "cell_type": "markdown",
   "metadata": {},
   "source": [
    "## Load\n",
    "\n",
    "Previously saved resources can be loaded in either by name or by ID."
   ]
  },
  {
   "cell_type": "markdown",
   "metadata": {},
   "source": [
    "### By name"
   ]
  },
  {
   "cell_type": "code",
   "execution_count": 14,
   "metadata": {
    "execution": {
     "iopub.execute_input": "2025-06-16T11:15:52.910578Z",
     "iopub.status.busy": "2025-06-16T11:15:52.910145Z",
     "iopub.status.idle": "2025-06-16T11:15:53.209318Z",
     "shell.execute_reply": "2025-06-16T11:15:53.208743Z"
    }
   },
   "outputs": [
    {
     "data": {
      "text/plain": [
       "<FxForwardCurve space='HOME' name='EURGBP_Fx_Forward_Curve' 6bd829d3‥>"
      ]
     },
     "execution_count": 14,
     "metadata": {},
     "output_type": "execute_result"
    }
   ],
   "source": [
    "loaded_by_name_curve = load(name=\"EURGBP_Fx_Forward_Curve\")\n",
    "loaded_by_name_curve"
   ]
  },
  {
   "cell_type": "markdown",
   "metadata": {},
   "source": [
    "### By ID"
   ]
  },
  {
   "cell_type": "code",
   "execution_count": 15,
   "metadata": {
    "execution": {
     "iopub.execute_input": "2025-06-16T11:15:53.212612Z",
     "iopub.status.busy": "2025-06-16T11:15:53.212249Z",
     "iopub.status.idle": "2025-06-16T11:15:53.354124Z",
     "shell.execute_reply": "2025-06-16T11:15:53.353466Z"
    }
   },
   "outputs": [
    {
     "data": {
      "text/plain": [
       "<FxForwardCurve space='HOME' name='EURGBP_Fx_Forward_Curve' 6bd829d3‥>"
      ]
     },
     "execution_count": 15,
     "metadata": {},
     "output_type": "execute_result"
    }
   ],
   "source": [
    "loaded_by_id_curve = load(resource_id=curve_id)\n",
    "loaded_by_id_curve"
   ]
  },
  {
   "cell_type": "markdown",
   "metadata": {},
   "source": [
    "Space is optional, but crucial if you need to have resources with the same name in different spaces:"
   ]
  },
  {
   "cell_type": "code",
   "execution_count": 16,
   "metadata": {
    "execution": {
     "iopub.execute_input": "2025-06-16T11:15:53.356736Z",
     "iopub.status.busy": "2025-06-16T11:15:53.356329Z",
     "iopub.status.idle": "2025-06-16T11:15:53.624692Z",
     "shell.execute_reply": "2025-06-16T11:15:53.624067Z"
    }
   },
   "outputs": [
    {
     "data": {
      "text/plain": [
       "<FxForwardCurve space='HOME' name='EURGBP_Fx_Forward_Curve' 6bd829d3‥>"
      ]
     },
     "execution_count": 16,
     "metadata": {},
     "output_type": "execute_result"
    }
   ],
   "source": [
    "loaded_by_name_and_space_curve = load(name=\"EURGBP_Fx_Forward_Curve\", space=\"HOME\")\n",
    "loaded_by_name_and_space_curve"
   ]
  },
  {
   "cell_type": "markdown",
   "metadata": {},
   "source": [
    "## Search\n",
    "\n",
    "You can search for previously saved curves using the following techniques."
   ]
  },
  {
   "cell_type": "markdown",
   "metadata": {},
   "source": [
    "### Search for all curves"
   ]
  },
  {
   "cell_type": "code",
   "execution_count": 17,
   "metadata": {
    "execution": {
     "iopub.execute_input": "2025-06-16T11:15:53.627189Z",
     "iopub.status.busy": "2025-06-16T11:15:53.626674Z",
     "iopub.status.idle": "2025-06-16T11:15:53.751415Z",
     "shell.execute_reply": "2025-06-16T11:15:53.750957Z"
    }
   },
   "outputs": [
    {
     "data": {
      "text/plain": [
       "[{'type': 'FxForwardCurve', 'id': '3b4e3e18-810b-43b1-8e87-de25cb1c658e', 'location': {'space': 'HOME', 'name': 'EURGBP_curve_from_FxForward_testnNVlpi'}, 'description': {'summary': 'My EURGBP curve from FxForward', 'tags': []}},\n",
       " {'type': 'FxForwardCurve', 'id': '6bd829d3-74b5-4bb8-bc71-249e6524f52a', 'location': {'space': 'HOME', 'name': 'EURGBP_Fx_Forward_Curve'}, 'description': {'summary': 'EURGBP Fx Forward Curve via USD', 'tags': ['EURGBP', 'EUR', 'GBP', 'FxCurve']}},\n",
       " {'type': 'FxForwardCurve', 'id': '07fbe09d-9968-4056-a87f-80b13c395547', 'location': {'space': 'HOME', 'name': 'GBPAUD_curve_from_FxForward_testIQs2kK'}, 'description': {'summary': 'My GBPAUD curve from FxForward', 'tags': []}},\n",
       " {'type': 'FxForwardCurve', 'id': '4bb6f784-18e1-4e98-a87f-14c5ea65aa2d', 'location': {'space': 'HOME', 'name': 'GBPAUD_curve_from_FxForward_testv2Padw'}, 'description': {'summary': 'My GBPAUD curve from FxForward', 'tags': []}},\n",
       " {'type': 'FxForwardCurve', 'id': '76b14964-65b3-49c9-97a0-eabf6ffc65d1', 'location': {'space': 'HOME', 'name': 'TestCurve_fn6fVj'}, 'description': {'summary': '', 'tags': []}},\n",
       " {'type': 'FxForwardCurve', 'id': 'd48d6311-6f3a-434e-81ef-68e0ed6172ca', 'location': {'space': 'HOME', 'name': 'TestCurve_jfr6FN'}, 'description': {'summary': '', 'tags': []}},\n",
       " {'type': 'FxForwardCurve', 'id': '803e3b96-9285-4558-9c01-33a59bb9b5cc', 'location': {'space': 'HOME', 'name': 'TestCurve_qnn6Mc'}, 'description': {'summary': '', 'tags': []}},\n",
       " {'type': 'FxForwardCurve', 'id': '8624ce0d-ad56-42ac-acd0-f7d21f32be2b', 'location': {'space': 'LSEG', 'name': 'AUD_AONIAUSD_SOFR_FxCross'}, 'description': {'summary': 'LSEG AUD AONIA/USD SOFR FxCross', 'tags': []}},\n",
       " {'type': 'FxForwardCurve', 'id': '3a45f4cb-29b7-4607-9f2e-7ab8a8086535', 'location': {'space': 'LSEG', 'name': 'AUD_BBSWUSD_SOFR_FxCross'}, 'description': {'summary': 'LSEG AUD BBSW/USD SOFR FxCross', 'tags': []}},\n",
       " {'type': 'FxForwardCurve', 'id': '1d3c2ac9-2761-499a-8df4-cc7e054bb029', 'location': {'space': 'LSEG', 'name': 'AUD_CAD_FxForward'}, 'description': {'summary': 'LSEG AUD CAD FxForward', 'tags': []}},\n",
       " {'type': 'FxForwardCurve', 'id': '9bac7c80-4d50-45ad-b66a-d935a8cf5655', 'location': {'space': 'LSEG', 'name': 'AUD_CHF_FxForward'}, 'description': {'summary': 'LSEG AUD CHF FxForward', 'tags': []}},\n",
       " {'type': 'FxForwardCurve', 'id': '11edca10-aa9b-4cc3-9b86-54d5d78119df', 'location': {'space': 'LSEG', 'name': 'AUD_JPY_FxForward'}, 'description': {'summary': 'LSEG AUD JPY FxForward', 'tags': []}},\n",
       " {'type': 'FxForwardCurve', 'id': '01ea94d4-710e-4769-b937-fa485a0dea36', 'location': {'space': 'LSEG', 'name': 'AUD_NZD_FxForward'}, 'description': {'summary': 'LSEG AUD NZD FxForward', 'tags': []}},\n",
       " {'type': 'FxForwardCurve', 'id': '310211eb-0490-4d16-9550-86780aa4639b', 'location': {'space': 'LSEG', 'name': 'AUD_USD_FxCross'}, 'description': {'summary': 'LSEG AUD USD FxCross', 'tags': []}},\n",
       " {'type': 'FxForwardCurve', 'id': 'cc31e969-e64c-4e11-b266-75b335c0d788', 'location': {'space': 'LSEG', 'name': 'AUD_USD_FxForward'}, 'description': {'summary': 'LSEG AUD USD FxForward', 'tags': []}},\n",
       " {'type': 'FxForwardCurve', 'id': '35c6b411-1f40-4442-81fd-0250b33fa879', 'location': {'space': 'LSEG', 'name': 'CAD_CHF_FxForward'}, 'description': {'summary': 'LSEG CAD CHF FxForward', 'tags': []}},\n",
       " {'type': 'FxForwardCurve', 'id': 'f719ef29-9348-42d5-86e6-e36f8468ad17', 'location': {'space': 'LSEG', 'name': 'CAD_JPY_FxForward'}, 'description': {'summary': 'LSEG CAD JPY FxForward', 'tags': []}},\n",
       " {'type': 'FxForwardCurve', 'id': '2f01b9d5-39a6-44f5-b1ef-9c88a5530c42', 'location': {'space': 'LSEG', 'name': 'CHF_JPY_FxForward'}, 'description': {'summary': 'LSEG CHF JPY FxForward', 'tags': []}},\n",
       " {'type': 'FxForwardCurve', 'id': 'a88b2f89-2c5b-4427-9a17-a6c06ba73f6d', 'location': {'space': 'LSEG', 'name': 'CLF_CLP_FxCross'}, 'description': {'summary': 'LSEG CLF CLP FxCross', 'tags': []}},\n",
       " {'type': 'FxForwardCurve', 'id': 'ffc4704e-78f1-4b76-81fb-238abdda27c9', 'location': {'space': 'LSEG', 'name': 'EUR_AUD_FxForward'}, 'description': {'summary': 'LSEG EUR AUD FxForward', 'tags': []}},\n",
       " {'type': 'FxForwardCurve', 'id': 'c5568d63-c7c8-483f-baa9-2eb1a0a4e577', 'location': {'space': 'LSEG', 'name': 'EUR_CAD_FxForward'}, 'description': {'summary': 'LSEG EUR CAD FxForward', 'tags': []}},\n",
       " {'type': 'FxForwardCurve', 'id': 'b4abc17d-c199-4dc5-87de-7c2f206dfcaa', 'location': {'space': 'LSEG', 'name': 'EUR_CHF_FxCross'}, 'description': {'summary': 'LSEG EUR CHF FxCross', 'tags': []}},\n",
       " {'type': 'FxForwardCurve', 'id': 'd53ef572-55dd-4b43-8c13-6f0c831f81b2', 'location': {'space': 'LSEG', 'name': 'EUR_CHF_FxForward'}, 'description': {'summary': 'LSEG EUR CHF FxForward', 'tags': []}},\n",
       " {'type': 'FxForwardCurve', 'id': 'fea72a89-3fb8-4e3b-a972-e586c2862f50', 'location': {'space': 'LSEG', 'name': 'EUR_DKK_FxCross'}, 'description': {'summary': 'LSEG EUR DKK FxCross', 'tags': []}},\n",
       " {'type': 'FxForwardCurve', 'id': '1b62cb08-f23c-4880-af20-dfa0bc5a7634', 'location': {'space': 'LSEG', 'name': 'EUR_EONIAUSD_SOFR_FxCross'}, 'description': {'summary': 'LSEG EUR EONIA/USD SOFR FxCross', 'tags': []}},\n",
       " {'type': 'FxForwardCurve', 'id': 'd410fda2-e29c-4d92-be5b-e53b590f8814', 'location': {'space': 'LSEG', 'name': 'EUR_ESTRCAD_CORRA_FxCross'}, 'description': {'summary': 'LSEG EUR ESTR/CAD CORRA FxCross', 'tags': []}},\n",
       " {'type': 'FxForwardCurve', 'id': 'be1fb842-fa7b-42a5-9a39-f077aca70636', 'location': {'space': 'LSEG', 'name': 'EUR_ESTRCHF_SARON_FxCross'}, 'description': {'summary': 'LSEG EUR ESTR/CHF SARON FxCross', 'tags': []}},\n",
       " {'type': 'FxForwardCurve', 'id': 'a9b1d9b5-8d8f-417c-908d-9ff346300c4d', 'location': {'space': 'LSEG', 'name': 'EUR_ESTRDKK_CIBOR_FxCross'}, 'description': {'summary': 'LSEG EUR ESTR/DKK CIBOR FxCross', 'tags': []}},\n",
       " {'type': 'FxForwardCurve', 'id': 'c0782845-1551-4efb-9562-0f1ea2c48f9d', 'location': {'space': 'LSEG', 'name': 'EUR_ESTRDKK_DESTR_FxCross'}, 'description': {'summary': 'LSEG EUR ESTR/DKK DESTR FxCross', 'tags': []}},\n",
       " {'type': 'FxForwardCurve', 'id': '6449fcf8-dead-4ceb-be17-109ff3af1108', 'location': {'space': 'LSEG', 'name': 'EUR_ESTRNOK_OIBOR_FxCross'}, 'description': {'summary': 'LSEG EUR ESTR/NOK OIBOR FxCross', 'tags': []}},\n",
       " {'type': 'FxForwardCurve', 'id': '3c3ee380-37f2-468e-9b6f-faba92e13880', 'location': {'space': 'LSEG', 'name': 'EUR_ESTRSEK_STIBOR_FxCross'}, 'description': {'summary': 'LSEG EUR ESTR/SEK STIBOR FxCross', 'tags': []}},\n",
       " {'type': 'FxForwardCurve', 'id': '99b3b2d3-d541-4fef-9b14-7e335bb5a6e5', 'location': {'space': 'LSEG', 'name': 'EUR_ESTRUSD_SOFR_FxCross'}, 'description': {'summary': 'LSEG EUR ESTR/USD SOFR FxCross', 'tags': []}},\n",
       " {'type': 'FxForwardCurve', 'id': '882c9997-df44-4a23-b06f-bb1729d87b4e', 'location': {'space': 'LSEG', 'name': 'EUR_EURIBORUSD_SOFR_FxCross'}, 'description': {'summary': 'LSEG EUR EURIBOR/USD SOFR FxCross', 'tags': []}},\n",
       " {'type': 'FxForwardCurve', 'id': '402b67df-9193-4516-bb6e-57dcf3264f41', 'location': {'space': 'LSEG', 'name': 'EUR_GBP_FxCross'}, 'description': {'summary': 'LSEG EUR GBP FxCross', 'tags': []}},\n",
       " {'type': 'FxForwardCurve', 'id': '765d23ef-c270-43c0-b274-9ec724bb77b5', 'location': {'space': 'LSEG', 'name': 'EUR_GBP_FxForward'}, 'description': {'summary': 'LSEG EUR GBP FxForward', 'tags': []}},\n",
       " {'type': 'FxForwardCurve', 'id': '99cd7624-df17-485d-8ffb-b1b4f1a788c3', 'location': {'space': 'LSEG', 'name': 'EUR_JPY_FxCross'}, 'description': {'summary': 'LSEG EUR JPY FxCross', 'tags': []}},\n",
       " {'type': 'FxForwardCurve', 'id': '345d2beb-487f-4e60-93e9-42e106720233', 'location': {'space': 'LSEG', 'name': 'EUR_JPY_FxForward'}, 'description': {'summary': 'LSEG EUR JPY FxForward', 'tags': []}},\n",
       " {'type': 'FxForwardCurve', 'id': 'fa0dd0c7-5d79-493a-909b-31bc6bb68b2d', 'location': {'space': 'LSEG', 'name': 'EUR_NOK_FxCross'}, 'description': {'summary': 'LSEG EUR NOK FxCross', 'tags': []}},\n",
       " {'type': 'FxForwardCurve', 'id': 'ba918d6f-693f-476f-a4a3-000fa701188e', 'location': {'space': 'LSEG', 'name': 'EUR_NZD_FxForward'}, 'description': {'summary': 'LSEG EUR NZD FxForward', 'tags': []}},\n",
       " {'type': 'FxForwardCurve', 'id': 'cd524336-5956-4eae-bfdc-40a3fc607f39', 'location': {'space': 'LSEG', 'name': 'EUR_RON_FxCross'}, 'description': {'summary': 'LSEG EUR RON FxCross', 'tags': []}},\n",
       " {'type': 'FxForwardCurve', 'id': 'cef9add0-e4e1-48b1-b2f7-aedebda0224b', 'location': {'space': 'LSEG', 'name': 'EUR_SEK_FxCross'}, 'description': {'summary': 'LSEG EUR SEK FxCross', 'tags': []}},\n",
       " {'type': 'FxForwardCurve', 'id': 'd1822c9c-b08e-42bb-9a11-ce40a73b0b41', 'location': {'space': 'LSEG', 'name': 'EUR_USD_FxCross'}, 'description': {'summary': 'LSEG EUR USD FxCross', 'tags': []}},\n",
       " {'type': 'FxForwardCurve', 'id': '7b7fe9d2-9beb-409d-8078-efe07698a1e1', 'location': {'space': 'LSEG', 'name': 'EUR_USD_FxForward'}, 'description': {'summary': 'LSEG EUR USD FxForward', 'tags': []}},\n",
       " {'type': 'FxForwardCurve', 'id': '2a080cda-d54e-4476-8ca7-c1894d263840', 'location': {'space': 'LSEG', 'name': 'EURUSD_WMR_Fixing'}, 'description': {'summary': 'LSEG EURUSD WMR Fixing', 'tags': []}},\n",
       " {'type': 'FxForwardCurve', 'id': '9c0a63f9-8559-4ac5-8c9e-cded045000f4', 'location': {'space': 'LSEG', 'name': 'GBP_AUD_FxForward'}, 'description': {'summary': 'LSEG GBP AUD FxForward', 'tags': []}},\n",
       " {'type': 'FxForwardCurve', 'id': '08b1e53f-1cb9-4aeb-8827-efcf74861387', 'location': {'space': 'LSEG', 'name': 'GBP_CAD_FxForward'}, 'description': {'summary': 'LSEG GBP CAD FxForward', 'tags': []}},\n",
       " {'type': 'FxForwardCurve', 'id': '31e2572a-a683-495e-ae73-fa8e10c0ad0e', 'location': {'space': 'LSEG', 'name': 'GBP_CHF_FxForward'}, 'description': {'summary': 'LSEG GBP CHF FxForward', 'tags': []}},\n",
       " {'type': 'FxForwardCurve', 'id': '5631a762-9d8a-4062-a941-f65ed3d8ae5c', 'location': {'space': 'LSEG', 'name': 'GBP_JPY_FxForward'}, 'description': {'summary': 'LSEG GBP JPY FxForward', 'tags': []}},\n",
       " {'type': 'FxForwardCurve', 'id': 'd1a51af9-44b5-4dc4-bee0-56b404d52f09', 'location': {'space': 'LSEG', 'name': 'GBP_NZD_FxForward'}, 'description': {'summary': 'LSEG GBP NZD FxForward', 'tags': []}},\n",
       " {'type': 'FxForwardCurve', 'id': 'd9bbda8a-d873-4383-8137-cbf7c6d246cc', 'location': {'space': 'LSEG', 'name': 'GBP_SONIAEUR_ESTR_FxCross'}, 'description': {'summary': 'LSEG GBP SONIA/EUR ESTR FxCross', 'tags': []}}]"
      ]
     },
     "execution_count": 17,
     "metadata": {},
     "output_type": "execute_result"
    }
   ],
   "source": [
    "curves = search()\n",
    "\n",
    "curves"
   ]
  },
  {
   "cell_type": "markdown",
   "metadata": {},
   "source": [
    "### Search for curves by names"
   ]
  },
  {
   "cell_type": "code",
   "execution_count": 18,
   "metadata": {
    "execution": {
     "iopub.execute_input": "2025-06-16T11:15:53.753452Z",
     "iopub.status.busy": "2025-06-16T11:15:53.753241Z",
     "iopub.status.idle": "2025-06-16T11:15:53.884379Z",
     "shell.execute_reply": "2025-06-16T11:15:53.883856Z"
    }
   },
   "outputs": [
    {
     "data": {
      "text/plain": [
       "<FxForwardCurve space=None name='' unsaved>"
      ]
     },
     "execution_count": 18,
     "metadata": {},
     "output_type": "execute_result"
    }
   ],
   "source": [
    "curves_by_name = search(names=[\"EURGBP_Fx_Forward_Curve\"])\n",
    "\n",
    "new_curve"
   ]
  },
  {
   "cell_type": "markdown",
   "metadata": {},
   "source": [
    "### Search for curves by spaces"
   ]
  },
  {
   "cell_type": "code",
   "execution_count": 19,
   "metadata": {
    "execution": {
     "iopub.execute_input": "2025-06-16T11:15:53.886958Z",
     "iopub.status.busy": "2025-06-16T11:15:53.886510Z",
     "iopub.status.idle": "2025-06-16T11:15:54.013746Z",
     "shell.execute_reply": "2025-06-16T11:15:54.013245Z"
    }
   },
   "outputs": [
    {
     "data": {
      "text/plain": [
       "[{'type': 'FxForwardCurve', 'id': '8624ce0d-ad56-42ac-acd0-f7d21f32be2b', 'location': {'space': 'LSEG', 'name': 'AUD_AONIAUSD_SOFR_FxCross'}, 'description': {'summary': 'LSEG AUD AONIA/USD SOFR FxCross', 'tags': []}},\n",
       " {'type': 'FxForwardCurve', 'id': '3a45f4cb-29b7-4607-9f2e-7ab8a8086535', 'location': {'space': 'LSEG', 'name': 'AUD_BBSWUSD_SOFR_FxCross'}, 'description': {'summary': 'LSEG AUD BBSW/USD SOFR FxCross', 'tags': []}},\n",
       " {'type': 'FxForwardCurve', 'id': '1d3c2ac9-2761-499a-8df4-cc7e054bb029', 'location': {'space': 'LSEG', 'name': 'AUD_CAD_FxForward'}, 'description': {'summary': 'LSEG AUD CAD FxForward', 'tags': []}},\n",
       " {'type': 'FxForwardCurve', 'id': '9bac7c80-4d50-45ad-b66a-d935a8cf5655', 'location': {'space': 'LSEG', 'name': 'AUD_CHF_FxForward'}, 'description': {'summary': 'LSEG AUD CHF FxForward', 'tags': []}},\n",
       " {'type': 'FxForwardCurve', 'id': '11edca10-aa9b-4cc3-9b86-54d5d78119df', 'location': {'space': 'LSEG', 'name': 'AUD_JPY_FxForward'}, 'description': {'summary': 'LSEG AUD JPY FxForward', 'tags': []}},\n",
       " {'type': 'FxForwardCurve', 'id': '01ea94d4-710e-4769-b937-fa485a0dea36', 'location': {'space': 'LSEG', 'name': 'AUD_NZD_FxForward'}, 'description': {'summary': 'LSEG AUD NZD FxForward', 'tags': []}},\n",
       " {'type': 'FxForwardCurve', 'id': '310211eb-0490-4d16-9550-86780aa4639b', 'location': {'space': 'LSEG', 'name': 'AUD_USD_FxCross'}, 'description': {'summary': 'LSEG AUD USD FxCross', 'tags': []}},\n",
       " {'type': 'FxForwardCurve', 'id': 'cc31e969-e64c-4e11-b266-75b335c0d788', 'location': {'space': 'LSEG', 'name': 'AUD_USD_FxForward'}, 'description': {'summary': 'LSEG AUD USD FxForward', 'tags': []}},\n",
       " {'type': 'FxForwardCurve', 'id': '35c6b411-1f40-4442-81fd-0250b33fa879', 'location': {'space': 'LSEG', 'name': 'CAD_CHF_FxForward'}, 'description': {'summary': 'LSEG CAD CHF FxForward', 'tags': []}},\n",
       " {'type': 'FxForwardCurve', 'id': 'f719ef29-9348-42d5-86e6-e36f8468ad17', 'location': {'space': 'LSEG', 'name': 'CAD_JPY_FxForward'}, 'description': {'summary': 'LSEG CAD JPY FxForward', 'tags': []}},\n",
       " {'type': 'FxForwardCurve', 'id': '2f01b9d5-39a6-44f5-b1ef-9c88a5530c42', 'location': {'space': 'LSEG', 'name': 'CHF_JPY_FxForward'}, 'description': {'summary': 'LSEG CHF JPY FxForward', 'tags': []}},\n",
       " {'type': 'FxForwardCurve', 'id': 'a88b2f89-2c5b-4427-9a17-a6c06ba73f6d', 'location': {'space': 'LSEG', 'name': 'CLF_CLP_FxCross'}, 'description': {'summary': 'LSEG CLF CLP FxCross', 'tags': []}},\n",
       " {'type': 'FxForwardCurve', 'id': 'ffc4704e-78f1-4b76-81fb-238abdda27c9', 'location': {'space': 'LSEG', 'name': 'EUR_AUD_FxForward'}, 'description': {'summary': 'LSEG EUR AUD FxForward', 'tags': []}},\n",
       " {'type': 'FxForwardCurve', 'id': 'c5568d63-c7c8-483f-baa9-2eb1a0a4e577', 'location': {'space': 'LSEG', 'name': 'EUR_CAD_FxForward'}, 'description': {'summary': 'LSEG EUR CAD FxForward', 'tags': []}},\n",
       " {'type': 'FxForwardCurve', 'id': 'b4abc17d-c199-4dc5-87de-7c2f206dfcaa', 'location': {'space': 'LSEG', 'name': 'EUR_CHF_FxCross'}, 'description': {'summary': 'LSEG EUR CHF FxCross', 'tags': []}},\n",
       " {'type': 'FxForwardCurve', 'id': 'd53ef572-55dd-4b43-8c13-6f0c831f81b2', 'location': {'space': 'LSEG', 'name': 'EUR_CHF_FxForward'}, 'description': {'summary': 'LSEG EUR CHF FxForward', 'tags': []}},\n",
       " {'type': 'FxForwardCurve', 'id': 'fea72a89-3fb8-4e3b-a972-e586c2862f50', 'location': {'space': 'LSEG', 'name': 'EUR_DKK_FxCross'}, 'description': {'summary': 'LSEG EUR DKK FxCross', 'tags': []}},\n",
       " {'type': 'FxForwardCurve', 'id': '1b62cb08-f23c-4880-af20-dfa0bc5a7634', 'location': {'space': 'LSEG', 'name': 'EUR_EONIAUSD_SOFR_FxCross'}, 'description': {'summary': 'LSEG EUR EONIA/USD SOFR FxCross', 'tags': []}},\n",
       " {'type': 'FxForwardCurve', 'id': 'd410fda2-e29c-4d92-be5b-e53b590f8814', 'location': {'space': 'LSEG', 'name': 'EUR_ESTRCAD_CORRA_FxCross'}, 'description': {'summary': 'LSEG EUR ESTR/CAD CORRA FxCross', 'tags': []}},\n",
       " {'type': 'FxForwardCurve', 'id': 'be1fb842-fa7b-42a5-9a39-f077aca70636', 'location': {'space': 'LSEG', 'name': 'EUR_ESTRCHF_SARON_FxCross'}, 'description': {'summary': 'LSEG EUR ESTR/CHF SARON FxCross', 'tags': []}},\n",
       " {'type': 'FxForwardCurve', 'id': 'a9b1d9b5-8d8f-417c-908d-9ff346300c4d', 'location': {'space': 'LSEG', 'name': 'EUR_ESTRDKK_CIBOR_FxCross'}, 'description': {'summary': 'LSEG EUR ESTR/DKK CIBOR FxCross', 'tags': []}},\n",
       " {'type': 'FxForwardCurve', 'id': 'c0782845-1551-4efb-9562-0f1ea2c48f9d', 'location': {'space': 'LSEG', 'name': 'EUR_ESTRDKK_DESTR_FxCross'}, 'description': {'summary': 'LSEG EUR ESTR/DKK DESTR FxCross', 'tags': []}},\n",
       " {'type': 'FxForwardCurve', 'id': '6449fcf8-dead-4ceb-be17-109ff3af1108', 'location': {'space': 'LSEG', 'name': 'EUR_ESTRNOK_OIBOR_FxCross'}, 'description': {'summary': 'LSEG EUR ESTR/NOK OIBOR FxCross', 'tags': []}},\n",
       " {'type': 'FxForwardCurve', 'id': '3c3ee380-37f2-468e-9b6f-faba92e13880', 'location': {'space': 'LSEG', 'name': 'EUR_ESTRSEK_STIBOR_FxCross'}, 'description': {'summary': 'LSEG EUR ESTR/SEK STIBOR FxCross', 'tags': []}},\n",
       " {'type': 'FxForwardCurve', 'id': '99b3b2d3-d541-4fef-9b14-7e335bb5a6e5', 'location': {'space': 'LSEG', 'name': 'EUR_ESTRUSD_SOFR_FxCross'}, 'description': {'summary': 'LSEG EUR ESTR/USD SOFR FxCross', 'tags': []}},\n",
       " {'type': 'FxForwardCurve', 'id': '882c9997-df44-4a23-b06f-bb1729d87b4e', 'location': {'space': 'LSEG', 'name': 'EUR_EURIBORUSD_SOFR_FxCross'}, 'description': {'summary': 'LSEG EUR EURIBOR/USD SOFR FxCross', 'tags': []}},\n",
       " {'type': 'FxForwardCurve', 'id': '402b67df-9193-4516-bb6e-57dcf3264f41', 'location': {'space': 'LSEG', 'name': 'EUR_GBP_FxCross'}, 'description': {'summary': 'LSEG EUR GBP FxCross', 'tags': []}},\n",
       " {'type': 'FxForwardCurve', 'id': '765d23ef-c270-43c0-b274-9ec724bb77b5', 'location': {'space': 'LSEG', 'name': 'EUR_GBP_FxForward'}, 'description': {'summary': 'LSEG EUR GBP FxForward', 'tags': []}},\n",
       " {'type': 'FxForwardCurve', 'id': '99cd7624-df17-485d-8ffb-b1b4f1a788c3', 'location': {'space': 'LSEG', 'name': 'EUR_JPY_FxCross'}, 'description': {'summary': 'LSEG EUR JPY FxCross', 'tags': []}},\n",
       " {'type': 'FxForwardCurve', 'id': '345d2beb-487f-4e60-93e9-42e106720233', 'location': {'space': 'LSEG', 'name': 'EUR_JPY_FxForward'}, 'description': {'summary': 'LSEG EUR JPY FxForward', 'tags': []}},\n",
       " {'type': 'FxForwardCurve', 'id': 'fa0dd0c7-5d79-493a-909b-31bc6bb68b2d', 'location': {'space': 'LSEG', 'name': 'EUR_NOK_FxCross'}, 'description': {'summary': 'LSEG EUR NOK FxCross', 'tags': []}},\n",
       " {'type': 'FxForwardCurve', 'id': 'ba918d6f-693f-476f-a4a3-000fa701188e', 'location': {'space': 'LSEG', 'name': 'EUR_NZD_FxForward'}, 'description': {'summary': 'LSEG EUR NZD FxForward', 'tags': []}},\n",
       " {'type': 'FxForwardCurve', 'id': 'cd524336-5956-4eae-bfdc-40a3fc607f39', 'location': {'space': 'LSEG', 'name': 'EUR_RON_FxCross'}, 'description': {'summary': 'LSEG EUR RON FxCross', 'tags': []}},\n",
       " {'type': 'FxForwardCurve', 'id': 'cef9add0-e4e1-48b1-b2f7-aedebda0224b', 'location': {'space': 'LSEG', 'name': 'EUR_SEK_FxCross'}, 'description': {'summary': 'LSEG EUR SEK FxCross', 'tags': []}},\n",
       " {'type': 'FxForwardCurve', 'id': 'd1822c9c-b08e-42bb-9a11-ce40a73b0b41', 'location': {'space': 'LSEG', 'name': 'EUR_USD_FxCross'}, 'description': {'summary': 'LSEG EUR USD FxCross', 'tags': []}},\n",
       " {'type': 'FxForwardCurve', 'id': '7b7fe9d2-9beb-409d-8078-efe07698a1e1', 'location': {'space': 'LSEG', 'name': 'EUR_USD_FxForward'}, 'description': {'summary': 'LSEG EUR USD FxForward', 'tags': []}},\n",
       " {'type': 'FxForwardCurve', 'id': '2a080cda-d54e-4476-8ca7-c1894d263840', 'location': {'space': 'LSEG', 'name': 'EURUSD_WMR_Fixing'}, 'description': {'summary': 'LSEG EURUSD WMR Fixing', 'tags': []}},\n",
       " {'type': 'FxForwardCurve', 'id': '9c0a63f9-8559-4ac5-8c9e-cded045000f4', 'location': {'space': 'LSEG', 'name': 'GBP_AUD_FxForward'}, 'description': {'summary': 'LSEG GBP AUD FxForward', 'tags': []}},\n",
       " {'type': 'FxForwardCurve', 'id': '08b1e53f-1cb9-4aeb-8827-efcf74861387', 'location': {'space': 'LSEG', 'name': 'GBP_CAD_FxForward'}, 'description': {'summary': 'LSEG GBP CAD FxForward', 'tags': []}},\n",
       " {'type': 'FxForwardCurve', 'id': '31e2572a-a683-495e-ae73-fa8e10c0ad0e', 'location': {'space': 'LSEG', 'name': 'GBP_CHF_FxForward'}, 'description': {'summary': 'LSEG GBP CHF FxForward', 'tags': []}},\n",
       " {'type': 'FxForwardCurve', 'id': '5631a762-9d8a-4062-a941-f65ed3d8ae5c', 'location': {'space': 'LSEG', 'name': 'GBP_JPY_FxForward'}, 'description': {'summary': 'LSEG GBP JPY FxForward', 'tags': []}},\n",
       " {'type': 'FxForwardCurve', 'id': 'd1a51af9-44b5-4dc4-bee0-56b404d52f09', 'location': {'space': 'LSEG', 'name': 'GBP_NZD_FxForward'}, 'description': {'summary': 'LSEG GBP NZD FxForward', 'tags': []}},\n",
       " {'type': 'FxForwardCurve', 'id': 'd9bbda8a-d873-4383-8137-cbf7c6d246cc', 'location': {'space': 'LSEG', 'name': 'GBP_SONIAEUR_ESTR_FxCross'}, 'description': {'summary': 'LSEG GBP SONIA/EUR ESTR FxCross', 'tags': []}},\n",
       " {'type': 'FxForwardCurve', 'id': '3940f35a-ef55-4eec-b537-2f48d2dce4fd', 'location': {'space': 'LSEG', 'name': 'GBP_SONIAUSD_FFER_FxCross'}, 'description': {'summary': 'LSEG GBP SONIA/USD FFER FxCross', 'tags': []}},\n",
       " {'type': 'FxForwardCurve', 'id': 'b1c9ff9a-b6fb-445f-a9c1-7d6f5010efc8', 'location': {'space': 'LSEG', 'name': 'GBP_SONIAUSD_SOFR_FxCross'}, 'description': {'summary': 'LSEG GBP SONIA/USD SOFR FxCross', 'tags': []}},\n",
       " {'type': 'FxForwardCurve', 'id': '0d8ca898-3903-4313-9bba-9579e67c5542', 'location': {'space': 'LSEG', 'name': 'GBP_USD_FxCross'}, 'description': {'summary': 'LSEG GBP USD FxCross', 'tags': []}},\n",
       " {'type': 'FxForwardCurve', 'id': 'c6c1f844-8566-4e1c-b8a9-3d3e49904b14', 'location': {'space': 'LSEG', 'name': 'GBP_USD_FxForward'}, 'description': {'summary': 'LSEG GBP USD FxForward', 'tags': []}},\n",
       " {'type': 'FxForwardCurve', 'id': 'f772fe45-8a62-4f01-98df-83939a70b465', 'location': {'space': 'LSEG', 'name': 'MXV_MXN_FxCross'}, 'description': {'summary': 'LSEG MXV MXN FxCross', 'tags': []}},\n",
       " {'type': 'FxForwardCurve', 'id': '62f42329-a40e-4470-a7f9-4e2ad7ec7d77', 'location': {'space': 'LSEG', 'name': 'NOK_NOWAEUR_ESTR_FxCross'}, 'description': {'summary': 'LSEG NOK NOWA/EUR ESTR FxCross', 'tags': []}},\n",
       " {'type': 'FxForwardCurve', 'id': '4e724ca1-3a75-4134-bea1-c93e8e67c775', 'location': {'space': 'LSEG', 'name': 'NZD_BKBMUSD_SOFR_FxCross'}, 'description': {'summary': 'LSEG NZD BKBM/USD SOFR FxCross', 'tags': []}}]"
      ]
     },
     "execution_count": 19,
     "metadata": {},
     "output_type": "execute_result"
    }
   ],
   "source": [
    "curves_by_spaces = search(spaces=[\"LSEG\"])\n",
    "\n",
    "curves_by_spaces"
   ]
  },
  {
   "cell_type": "markdown",
   "metadata": {},
   "source": [
    "### Search for curves by tags"
   ]
  },
  {
   "cell_type": "code",
   "execution_count": 20,
   "metadata": {
    "execution": {
     "iopub.execute_input": "2025-06-16T11:15:54.015686Z",
     "iopub.status.busy": "2025-06-16T11:15:54.015460Z",
     "iopub.status.idle": "2025-06-16T11:15:54.136249Z",
     "shell.execute_reply": "2025-06-16T11:15:54.135559Z"
    }
   },
   "outputs": [
    {
     "data": {
      "text/plain": [
       "[]"
      ]
     },
     "execution_count": 20,
     "metadata": {},
     "output_type": "execute_result"
    }
   ],
   "source": [
    "curves_by_tags = search(tags=[\"EUR\", \"USD\"])\n",
    "\n",
    "curves_by_tags"
   ]
  },
  {
   "cell_type": "markdown",
   "metadata": {},
   "source": [
    "### Combine search criteria\n",
    "It's also possible to combine search items:"
   ]
  },
  {
   "cell_type": "code",
   "execution_count": 21,
   "metadata": {
    "execution": {
     "iopub.execute_input": "2025-06-16T11:15:54.139094Z",
     "iopub.status.busy": "2025-06-16T11:15:54.138882Z",
     "iopub.status.idle": "2025-06-16T11:15:54.263772Z",
     "shell.execute_reply": "2025-06-16T11:15:54.263270Z"
    }
   },
   "outputs": [
    {
     "data": {
      "text/plain": [
       "[]"
      ]
     },
     "execution_count": 21,
     "metadata": {},
     "output_type": "execute_result"
    }
   ],
   "source": [
    "searched_curves = search(spaces=[\"LSEG\"], tags=[\"EUR\"])\n",
    "\n",
    "searched_curves"
   ]
  },
  {
   "cell_type": "markdown",
   "metadata": {},
   "source": [
    "## Data access\n",
    "\n",
    "You can access resource data through the root attributes of the resource object:"
   ]
  },
  {
   "cell_type": "code",
   "execution_count": 22,
   "metadata": {
    "execution": {
     "iopub.execute_input": "2025-06-16T11:15:54.266370Z",
     "iopub.status.busy": "2025-06-16T11:15:54.266199Z",
     "iopub.status.idle": "2025-06-16T11:15:54.270277Z",
     "shell.execute_reply": "2025-06-16T11:15:54.269548Z"
    }
   },
   "outputs": [
    {
     "name": "stdout",
     "output_type": "stream",
     "text": [
      "Curve cross currency: EURGBP\n",
      "Curve reference currency: USD\n"
     ]
    }
   ],
   "source": [
    "print(f\"Curve cross currency: {curve.definition.cross_currency}\")\n",
    "print(f\"Curve reference currency: {curve.definition.reference_currency}\")\n"
   ]
  },
  {
   "cell_type": "markdown",
   "metadata": {},
   "source": [
    "## Curves functions"
   ]
  },
  {
   "cell_type": "markdown",
   "metadata": {},
   "source": [
    "### Calculate\n",
    "\n",
    "You can use Calculte to calculate an FxForward curve.\n",
    "\n",
    "You can pass in the valuation date as a datetime.date object, or as a date string:"
   ]
  },
  {
   "cell_type": "code",
   "execution_count": 23,
   "metadata": {
    "execution": {
     "iopub.execute_input": "2025-06-16T11:15:54.273068Z",
     "iopub.status.busy": "2025-06-16T11:15:54.272452Z",
     "iopub.status.idle": "2025-06-16T11:15:55.301902Z",
     "shell.execute_reply": "2025-06-16T11:15:55.301436Z"
    }
   },
   "outputs": [
    {
     "data": {
      "text/plain": [
       "{'resource': {'type': 'FxForwardCurve', 'id': '6bd829d3-74b5-4bb8-bc71-249e6524f52a', 'location': {'space': 'HOME', 'name': 'EURGBP_Fx_Forward_Curve'}, 'description': {'summary': 'EURGBP Fx Forward Curve via USD', 'tags': ['EURGBP', 'EUR', 'GBP', 'FxCurve']}, 'definition': {'crossCurrency': 'EURGBP', 'referenceCurrency': 'USD', 'constituents': [{'type': 'FxSpot', 'definition': {'template': 'EURUSD'}, 'quote': {'definition': {'instrumentCode': 'EUR=', 'source': 'Composite'}, 'values': {'bid': {'value': 1.1578}, 'ask': {'value': 1.1579}}}}, {'type': 'FxForward', 'definition': {'tenor': 'ON', 'template': 'EURUSD'}, 'quote': {'definition': {'instrumentCode': 'EURON=RFB', 'source': 'RFB'}, 'values': {'bid': {'value': 0.763}, 'ask': {'value': 0.765}}}}, {'type': 'FxForward', 'definition': {'tenor': 'TN', 'template': 'EURUSD'}, 'quote': {'definition': {'instrumentCode': 'EURTN=RFB', 'source': 'RFB'}, 'values': {'bid': {'value': 0.7617}, 'ask': {'value': 0.7637}}}}, {'type': 'FxForward', 'definition': {'tenor': 'SN', 'template': 'EURUSD'}, 'quote': {'definition': {'instrumentCode': 'EURSN=RFB', 'source': 'RFB'}, 'values': {'bid': {'value': 1.5252}, 'ask': {'value': 1.5312}}}}, {'type': 'FxForward', 'definition': {'tenor': 'SW', 'template': 'EURUSD'}, 'quote': {'definition': {'instrumentCode': 'EURSW=RFB', 'source': 'RFB'}, 'values': {'bid': {'value': 5.36}, 'ask': {'value': 5.38}}}}, {'type': 'FxForward', 'definition': {'tenor': 'JUNM', 'template': 'EURUSD'}, 'quote': {'definition': {'instrumentCode': 'EURJUNM=RFB', 'source': 'RFB'}, 'values': {'bid': {'value': 9.2}, 'ask': {'value': 9.22}}}}, {'type': 'FxForward', 'definition': {'tenor': '1M', 'template': 'EURUSD'}, 'quote': {'definition': {'instrumentCode': 'EUR1M=RFB', 'source': 'RFB'}, 'values': {'bid': {'value': 23.17}, 'ask': {'value': 23.19}}}}, {'type': 'FxForward', 'definition': {'tenor': 'JULM', 'template': 'EURUSD'}, 'quote': {'definition': {'instrumentCode': 'EURJULM=RFB', 'source': 'RFB'}, 'values': {'bid': {'value': 33.18}, 'ask': {'value': 33.22}}}}, {'type': 'FxForward', 'definition': {'tenor': '2M', 'template': 'EURUSD'}, 'quote': {'definition': {'instrumentCode': 'EUR2M=RFB', 'source': 'RFB'}, 'values': {'bid': {'value': 47.08}, 'ask': {'value': 47.13}}}}, {'type': 'FxForward', 'definition': {'tenor': 'AUGM', 'template': 'EURUSD'}, 'quote': {'definition': {'instrumentCode': 'EURAUGM=RFB', 'source': 'RFB'}, 'values': {'bid': {'value': 55.54}, 'ask': {'value': 55.6}}}}, {'type': 'FxForward', 'definition': {'tenor': '3M', 'template': 'EURUSD'}, 'quote': {'definition': {'instrumentCode': 'EUR3M=RFB', 'source': 'RFB'}, 'values': {'bid': {'value': 71.12}, 'ask': {'value': 71.2}}}}, {'type': 'FxForward', 'definition': {'tenor': 'SEPM', 'template': 'EURUSD'}, 'quote': {'definition': {'instrumentCode': 'EURSEPM=RFB', 'source': 'RFB'}, 'values': {'bid': {'value': 80.33}, 'ask': {'value': 80.42}}}}, {'type': 'FxForward', 'definition': {'tenor': 'OCTM', 'template': 'EURUSD'}, 'quote': {'definition': {'instrumentCode': 'EUROCTM=RFB', 'source': 'RFB'}, 'values': {'bid': {'value': 104.37}, 'ask': {'value': 104.49}}}}, {'type': 'FxForward', 'definition': {'tenor': 'NOVM', 'template': 'EURUSD'}, 'quote': {'definition': {'instrumentCode': 'EURNOVM=RFB', 'source': 'RFB'}, 'values': {'bid': {'value': 125.52}, 'ask': {'value': 125.7}}}}, {'type': 'FxForward', 'definition': {'tenor': '6M', 'template': 'EURUSD'}, 'quote': {'definition': {'instrumentCode': 'EUR6M=RFB', 'source': 'RFB'}, 'values': {'bid': {'value': 140.28}, 'ask': {'value': 140.54}}}}, {'type': 'FxForward', 'definition': {'tenor': 'DECM', 'template': 'EURUSD'}, 'quote': {'definition': {'instrumentCode': 'EURDECM=RFB', 'source': 'RFB'}, 'values': {'bid': {'value': 149.76}, 'ask': {'value': 150.0}}}}, {'type': 'FxForward', 'definition': {'tenor': 'JANM', 'template': 'EURUSD'}, 'quote': {'definition': {'instrumentCode': 'EURJANM=RFB', 'source': 'RFB'}, 'values': {'bid': {'value': 173.06}, 'ask': {'value': 173.3}}}}, {'type': 'FxForward', 'definition': {'tenor': 'FEBM', 'template': 'EURUSD'}, 'quote': {'definition': {'instrumentCode': 'EURFEBM=RFB', 'source': 'RFB'}, 'values': {'bid': {'value': 193.13}, 'ask': {'value': 193.39}}}}, {'type': 'FxForward', 'definition': {'tenor': '9M', 'template': 'EURUSD'}, 'quote': {'definition': {'instrumentCode': 'EUR9M=RFB', 'source': 'RFB'}, 'values': {'bid': {'value': 206.71}, 'ask': {'value': 207.0}}}}, {'type': 'FxForward', 'definition': {'tenor': 'MARM', 'template': 'EURUSD'}, 'quote': {'definition': {'instrumentCode': 'EURMARM=RFB', 'source': 'RFB'}, 'values': {'bid': {'value': 215.62}, 'ask': {'value': 215.93}}}}, {'type': 'FxForward', 'definition': {'tenor': 'APRM', 'template': 'EURUSD'}, 'quote': {'definition': {'instrumentCode': 'EURAPRM=RFB', 'source': 'RFB'}, 'values': {'bid': {'value': 235.89}, 'ask': {'value': 236.25}}}}, {'type': 'FxForward', 'definition': {'tenor': 'MAYM', 'template': 'EURUSD'}, 'quote': {'definition': {'instrumentCode': 'EURMAYM=RFB', 'source': 'RFB'}, 'values': {'bid': {'value': 254.57}, 'ask': {'value': 255.17}}}}, {'type': 'FxForward', 'definition': {'tenor': '1Y', 'template': 'EURUSD'}, 'quote': {'definition': {'instrumentCode': 'EUR1Y=RFB', 'source': 'RFB'}, 'values': {'bid': {'value': 267.54}, 'ask': {'value': 268.54}}}}, {'type': 'FxForward', 'definition': {'tenor': '2Y', 'template': 'EURUSD'}, 'quote': {'definition': {'instrumentCode': 'EUR2Y=RFB', 'source': 'RFB'}, 'values': {'bid': {'value': 465.86}, 'ask': {'value': 469.28}}}}, {'type': 'FxForward', 'definition': {'tenor': '3Y', 'template': 'EURUSD'}, 'quote': {'definition': {'instrumentCode': 'EUR3Y=RFB', 'source': 'RFB'}, 'values': {'bid': {'value': 647.46}, 'ask': {'value': 650.98}}}}, {'type': 'FxForward', 'definition': {'tenor': '4Y', 'template': 'EURUSD'}, 'quote': {'definition': {'instrumentCode': 'EUR4Y=RFB', 'source': 'RFB'}, 'values': {'bid': {'value': 816.88}, 'ask': {'value': 821.56}}}}, {'type': 'FxForward', 'definition': {'tenor': '5Y', 'template': 'EURUSD'}, 'quote': {'definition': {'instrumentCode': 'EUR5Y=RFB', 'source': 'RFB'}, 'values': {'bid': {'value': 985.4}, 'ask': {'value': 996.4}}}}, {'type': 'FxForward', 'definition': {'tenor': '6Y', 'template': 'EURUSD'}, 'quote': {'definition': {'instrumentCode': 'EUR6Y=RFB', 'source': 'RFB'}, 'values': {'bid': {'value': 1161.88}, 'ask': {'value': 1175.88}}}}, {'type': 'FxForward', 'definition': {'tenor': '7Y', 'template': 'EURUSD'}, 'quote': {'definition': {'instrumentCode': 'EUR7Y=RFB', 'source': 'RFB'}, 'values': {'bid': {'value': 1344.38}, 'ask': {'value': 1360.38}}}}, {'type': 'FxForward', 'definition': {'tenor': '8Y', 'template': 'EURUSD'}, 'quote': {'definition': {'instrumentCode': 'EUR8Y=RFB', 'source': 'RFB'}, 'values': {'bid': {'value': 1515.0}, 'ask': {'value': 1554.0}}}}, {'type': 'FxForward', 'definition': {'tenor': '9Y', 'template': 'EURUSD'}, 'quote': {'definition': {'instrumentCode': 'EUR9Y=RFB', 'source': 'RFB'}, 'values': {'bid': {'value': 1692.25}, 'ask': {'value': 1742.25}}}}, {'type': 'FxForward', 'definition': {'tenor': '10Y', 'template': 'EURUSD'}, 'quote': {'definition': {'instrumentCode': 'EUR10Y=RFB', 'source': 'RFB'}, 'values': {'bid': {'value': 1893.0}, 'ask': {'value': 1928.0}}}}, {'type': 'FxSpot', 'definition': {'template': 'GBPUSD'}, 'quote': {'definition': {'instrumentCode': 'GBP=', 'source': 'Composite'}, 'values': {'bid': {'value': 1.3585}, 'ask': {'value': 1.3587}}}}, {'type': 'FxForward', 'definition': {'tenor': 'ON', 'template': 'GBPUSD'}, 'quote': {'definition': {'instrumentCode': 'GBPON=', 'source': 'Composite'}, 'values': {'bid': {'value': 0.06}, 'ask': {'value': 0.09}}}}, {'type': 'FxForward', 'definition': {'tenor': 'TN', 'template': 'GBPUSD'}, 'quote': {'definition': {'instrumentCode': 'GBPTN=', 'source': 'Composite'}, 'values': {'bid': {'value': 0.053}, 'ask': {'value': 0.097}}}}, {'type': 'FxForward', 'definition': {'tenor': 'SN', 'template': 'GBPUSD'}, 'quote': {'definition': {'instrumentCode': 'GBPSN=', 'source': 'Composite'}, 'values': {'bid': {'value': 0.13}, 'ask': {'value': 0.15}}}}, {'type': 'FxForward', 'definition': {'tenor': 'SW', 'template': 'GBPUSD'}, 'quote': {'definition': {'instrumentCode': 'GBPSW=', 'source': 'Composite'}, 'values': {'bid': {'value': 0.46}, 'ask': {'value': 0.53}}}}, {'type': 'FxForward', 'definition': {'tenor': '1M', 'template': 'GBPUSD'}, 'quote': {'definition': {'instrumentCode': 'GBP1M=', 'source': 'Composite'}, 'values': {'bid': {'value': 1.99}, 'ask': {'value': 2.06}}}}, {'type': 'FxForward', 'definition': {'tenor': '2M', 'template': 'GBPUSD'}, 'quote': {'definition': {'instrumentCode': 'GBP2M=', 'source': 'Composite'}, 'values': {'bid': {'value': 4.34}, 'ask': {'value': 4.46}}}}, {'type': 'FxForward', 'definition': {'tenor': '3M', 'template': 'GBPUSD'}, 'quote': {'definition': {'instrumentCode': 'GBP3M=', 'source': 'Composite'}, 'values': {'bid': {'value': 7.87}, 'ask': {'value': 8.03}}}}, {'type': 'FxForward', 'definition': {'tenor': '6M', 'template': 'GBPUSD'}, 'quote': {'definition': {'instrumentCode': 'GBP6M=', 'source': 'Composite'}, 'values': {'bid': {'value': 15.95}, 'ask': {'value': 16.41}}}}, {'type': 'FxForward', 'definition': {'tenor': '9M', 'template': 'GBPUSD'}, 'quote': {'definition': {'instrumentCode': 'GBP9M=', 'source': 'Composite'}, 'values': {'bid': {'value': 21.34}, 'ask': {'value': 24.99}}}}, {'type': 'FxForward', 'definition': {'tenor': '1Y', 'template': 'GBPUSD'}, 'quote': {'definition': {'instrumentCode': 'GBP1Y=', 'source': 'Composite'}, 'values': {'bid': {'value': 26.68}, 'ask': {'value': 27.79}}}}, {'type': 'FxForward', 'definition': {'tenor': '2Y', 'template': 'GBPUSD'}, 'quote': {'definition': {'instrumentCode': 'GBP2Y=', 'source': 'Composite'}, 'values': {'bid': {'value': 9.67}, 'ask': {'value': 12.65}}}}, {'type': 'FxForward', 'definition': {'tenor': '3Y', 'template': 'GBPUSD'}, 'quote': {'definition': {'instrumentCode': 'GBP3Y=', 'source': 'Composite'}, 'values': {'bid': {'value': -7.85}, 'ask': {'value': -3.36}}}}, {'type': 'FxForward', 'definition': {'tenor': '4Y', 'template': 'GBPUSD'}, 'quote': {'definition': {'instrumentCode': 'GBP4Y=', 'source': 'Composite'}, 'values': {'bid': {'value': -17.6}, 'ask': {'value': -14.0}}}}, {'type': 'FxForward', 'definition': {'tenor': '5Y', 'template': 'GBPUSD'}, 'quote': {'definition': {'instrumentCode': 'GBP5Y=', 'source': 'Composite'}, 'values': {'bid': {'value': -25.9}, 'ask': {'value': -21.5}}}}, {'type': 'FxForward', 'definition': {'tenor': '6Y', 'template': 'GBPUSD'}, 'quote': {'definition': {'instrumentCode': 'GBP6Y=', 'source': 'Composite'}, 'values': {'bid': {'value': -51.0}, 'ask': {'value': 6.0}}}}, {'type': 'FxForward', 'definition': {'tenor': '7Y', 'template': 'GBPUSD'}, 'quote': {'definition': {'instrumentCode': 'GBP7Y=', 'source': 'Composite'}, 'values': {'bid': {'value': -56.0}, 'ask': {'value': 8.0}}}}, {'type': 'FxForward', 'definition': {'tenor': '8Y', 'template': 'GBPUSD'}, 'quote': {'definition': {'instrumentCode': 'GBP8Y=', 'source': 'Composite'}, 'values': {'bid': {'value': -42.0}, 'ask': {'value': -33.0}}}}, {'type': 'FxForward', 'definition': {'tenor': '9Y', 'template': 'GBPUSD'}, 'quote': {'definition': {'instrumentCode': 'GBP9Y=', 'source': 'Composite'}, 'values': {'bid': {'value': -82.0}, 'ask': {'value': -5.0}}}}, {'type': 'FxForward', 'definition': {'tenor': '10Y', 'template': 'GBPUSD'}, 'quote': {'definition': {'instrumentCode': 'GBP10Y=', 'source': 'Composite'}, 'values': {'bid': {'value': -71.0}, 'ask': {'value': -60.0}}}}]}}, 'pricingPreferences': {'fxForwardCurveCalculationPreferences': {'extrapolationMode': 'Constant', 'interpolationMode': 'Linear', 'useDelayedDataIfDenied': False, 'ignoreInvalidInstruments': True, 'ignorePivotCurrencyHolidays': False}, 'valuationDate': '2023-10-10'}, 'analytics': {'constituents': [{'type': 'FxSpot', 'definition': {'template': 'EURUSD'}, 'quote': {'startDate': '2023-10-10', 'endDate': '2023-10-12', 'definition': {'instrumentCode': 'EUR='}, 'values': {'bid': {'value': 1.1578, 'isOverridden': True, 'marketValue': 1.0603}, 'ask': {'value': 1.1579, 'isOverridden': True, 'marketValue': 1.0607}}}}, {'type': 'FxForward', 'definition': {'tenor': 'ON', 'template': 'EURUSD'}, 'quote': {'startDate': '2023-10-10', 'endDate': '2023-10-11', 'definition': {'instrumentCode': 'EURON=RFB'}, 'values': {'bid': {'value': 0.763, 'isOverridden': True, 'marketValue': 0.4151}, 'ask': {'value': 0.765, 'isOverridden': True, 'marketValue': 0.4171}}}}, {'type': 'FxForward', 'definition': {'tenor': 'TN', 'template': 'EURUSD'}, 'quote': {'startDate': '2023-10-11', 'endDate': '2023-10-12', 'definition': {'instrumentCode': 'EURTN=RFB'}, 'values': {'bid': {'value': 0.7617, 'isOverridden': True, 'marketValue': 0.4124}, 'ask': {'value': 0.7637, 'isOverridden': True, 'marketValue': 0.4134}}}}, {'type': 'FxForward', 'definition': {'tenor': 'SN', 'template': 'EURUSD'}, 'quote': {'startDate': '2023-10-12', 'endDate': '2023-10-13', 'definition': {'instrumentCode': 'EURSN=RFB'}, 'values': {'bid': {'value': 1.5252, 'isOverridden': True, 'marketValue': 0.4131}, 'ask': {'value': 1.5312, 'isOverridden': True, 'marketValue': 0.4191}}}}, {'type': 'FxForward', 'definition': {'tenor': 'SW', 'template': 'EURUSD'}, 'quote': {'startDate': '2023-10-12', 'endDate': '2023-10-19', 'definition': {'instrumentCode': 'EURSW=RFB'}, 'values': {'bid': {'value': 5.36, 'isOverridden': True, 'marketValue': 2.92}, 'ask': {'value': 5.38, 'isOverridden': True, 'marketValue': 2.96}}}}, {'type': 'FxForward', 'definition': {'tenor': 'OCTM', 'template': 'EURUSD'}, 'quote': {'startDate': '2023-10-12', 'endDate': '2023-10-31', 'definition': {'instrumentCode': 'EUROCTM=RFB'}, 'values': {'bid': {'value': 104.37, 'isOverridden': True, 'marketValue': 8.09}, 'ask': {'value': 104.49, 'isOverridden': True, 'marketValue': 8.14}}}}, {'type': 'FxForward', 'definition': {'tenor': '1M', 'template': 'EURUSD'}, 'quote': {'startDate': '2023-10-12', 'endDate': '2023-11-13', 'definition': {'instrumentCode': 'EUR1M=RFB'}, 'values': {'bid': {'value': 23.17, 'isOverridden': True, 'marketValue': 13.91}, 'ask': {'value': 23.19, 'isOverridden': True, 'marketValue': 13.93}}}}, {'type': 'FxForward', 'definition': {'tenor': 'NOVM', 'template': 'EURUSD'}, 'quote': {'startDate': '2023-10-12', 'endDate': '2023-11-30', 'definition': {'instrumentCode': 'EURNOVM=RFB'}, 'values': {'bid': {'value': 125.52, 'isOverridden': True, 'marketValue': 21.7}, 'ask': {'value': 125.7, 'isOverridden': True, 'marketValue': 21.76}}}}, {'type': 'FxForward', 'definition': {'tenor': '2M', 'template': 'EURUSD'}, 'quote': {'startDate': '2023-10-12', 'endDate': '2023-12-12', 'definition': {'instrumentCode': 'EUR2M=RFB'}, 'values': {'bid': {'value': 47.08, 'isOverridden': True, 'marketValue': 27.11}, 'ask': {'value': 47.13, 'isOverridden': True, 'marketValue': 27.2}}}}, {'type': 'FxForward', 'definition': {'tenor': 'DECM', 'template': 'EURUSD'}, 'quote': {'startDate': '2023-10-12', 'endDate': '2023-12-29', 'definition': {'instrumentCode': 'EURDECM=RFB'}, 'values': {'bid': {'value': 149.76, 'isOverridden': True, 'marketValue': 35.05}, 'ask': {'value': 150.0, 'isOverridden': True, 'marketValue': 35.16}}}}, {'type': 'FxForward', 'definition': {'tenor': '3M', 'template': 'EURUSD'}, 'quote': {'startDate': '2023-10-12', 'endDate': '2024-01-12', 'definition': {'instrumentCode': 'EUR3M=RFB'}, 'values': {'bid': {'value': 71.12, 'isOverridden': True, 'marketValue': 47.4}, 'ask': {'value': 71.2, 'isOverridden': True, 'marketValue': 47.53}}}}, {'type': 'FxForward', 'definition': {'tenor': 'JANM', 'template': 'EURUSD'}, 'quote': {'startDate': '2023-10-12', 'endDate': '2024-01-31', 'definition': {'instrumentCode': 'EURJANM=RFB'}, 'values': {'bid': {'value': 173.06, 'isOverridden': True, 'marketValue': 56.39}, 'ask': {'value': 173.3, 'isOverridden': True, 'marketValue': 56.61}}}}, {'type': 'FxForward', 'definition': {'tenor': 'FEBM', 'template': 'EURUSD'}, 'quote': {'startDate': '2023-10-12', 'endDate': '2024-02-29', 'definition': {'instrumentCode': 'EURFEBM=RFB'}, 'values': {'bid': {'value': 193.13, 'isOverridden': True, 'marketValue': 70.42}, 'ask': {'value': 193.39, 'isOverridden': True, 'marketValue': 70.71}}}}, {'type': 'FxForward', 'definition': {'tenor': 'MARM', 'template': 'EURUSD'}, 'quote': {'startDate': '2023-10-12', 'endDate': '2024-03-28', 'definition': {'instrumentCode': 'EURMARM=RFB'}, 'values': {'bid': {'value': 215.62, 'isOverridden': True, 'marketValue': 84.0}, 'ask': {'value': 215.93, 'isOverridden': True, 'marketValue': 84.33}}}}, {'type': 'FxForward', 'definition': {'tenor': '6M', 'template': 'EURUSD'}, 'quote': {'startDate': '2023-10-12', 'endDate': '2024-04-12', 'definition': {'instrumentCode': 'EUR6M=RFB'}, 'values': {'bid': {'value': 140.28, 'isOverridden': True, 'marketValue': 92.06}, 'ask': {'value': 140.54, 'isOverridden': True, 'marketValue': 92.41}}}}, {'type': 'FxForward', 'definition': {'tenor': 'APRM', 'template': 'EURUSD'}, 'quote': {'startDate': '2023-10-12', 'endDate': '2024-04-30', 'definition': {'instrumentCode': 'EURAPRM=RFB'}, 'values': {'bid': {'value': 235.89, 'isOverridden': True, 'marketValue': 100.69}, 'ask': {'value': 236.25, 'isOverridden': True, 'marketValue': 101.18}}}}, {'type': 'FxForward', 'definition': {'tenor': 'MAYM', 'template': 'EURUSD'}, 'quote': {'startDate': '2023-10-12', 'endDate': '2024-05-31', 'definition': {'instrumentCode': 'EURMAYM=RFB'}, 'values': {'bid': {'value': 254.57, 'isOverridden': True, 'marketValue': 116.11}, 'ask': {'value': 255.17, 'isOverridden': True, 'marketValue': 116.62}}}}, {'type': 'FxForward', 'definition': {'tenor': 'JUNM', 'template': 'EURUSD'}, 'quote': {'startDate': '2023-10-12', 'endDate': '2024-06-28', 'definition': {'instrumentCode': 'EURJUNM=RFB'}, 'values': {'bid': {'value': 9.2, 'isOverridden': True, 'marketValue': 129.45}, 'ask': {'value': 9.22, 'isOverridden': True, 'marketValue': 129.93}}}}, {'type': 'FxForward', 'definition': {'tenor': '9M', 'template': 'EURUSD'}, 'quote': {'startDate': '2023-10-12', 'endDate': '2024-07-12', 'definition': {'instrumentCode': 'EUR9M=RFB'}, 'values': {'bid': {'value': 206.71, 'isOverridden': True, 'marketValue': 136.88}, 'ask': {'value': 207.0, 'isOverridden': True, 'marketValue': 137.38}}}}, {'type': 'FxForward', 'definition': {'tenor': 'JULM', 'template': 'EURUSD'}, 'quote': {'startDate': '2023-10-12', 'endDate': '2024-07-31', 'definition': {'instrumentCode': 'EURJULM=RFB'}, 'values': {'bid': {'value': 33.18, 'isOverridden': True, 'marketValue': 146.1}, 'ask': {'value': 33.22, 'isOverridden': True, 'marketValue': 146.67}}}}, {'type': 'FxForward', 'definition': {'tenor': 'AUGM', 'template': 'EURUSD'}, 'quote': {'startDate': '2023-10-12', 'endDate': '2024-08-30', 'definition': {'instrumentCode': 'EURAUGM=RFB'}, 'values': {'bid': {'value': 55.54, 'isOverridden': True, 'marketValue': 161.24}, 'ask': {'value': 55.6, 'isOverridden': True, 'marketValue': 161.9}}}}, {'type': 'FxForward', 'definition': {'tenor': 'SEPM', 'template': 'EURUSD'}, 'quote': {'startDate': '2023-10-12', 'endDate': '2024-09-30', 'definition': {'instrumentCode': 'EURSEPM=RFB'}, 'values': {'bid': {'value': 80.33, 'isOverridden': True, 'marketValue': 176.37}, 'ask': {'value': 80.42, 'isOverridden': True, 'marketValue': 177.23}}}}, {'type': 'FxForward', 'definition': {'tenor': '1Y', 'template': 'EURUSD'}, 'quote': {'startDate': '2023-10-12', 'endDate': '2024-10-15', 'definition': {'instrumentCode': 'EUR1Y=RFB'}, 'values': {'bid': {'value': 267.54, 'isOverridden': True, 'marketValue': 183.65}, 'ask': {'value': 268.54, 'isOverridden': True, 'marketValue': 184.65}}}}, {'type': 'FxForward', 'definition': {'tenor': '2Y', 'template': 'EURUSD'}, 'quote': {'startDate': '2023-10-12', 'endDate': '2025-10-14', 'definition': {'instrumentCode': 'EUR2Y=RFB'}, 'values': {'bid': {'value': 465.86, 'isOverridden': True, 'marketValue': 354.24}, 'ask': {'value': 469.28, 'isOverridden': True, 'marketValue': 357.66}}}}, {'type': 'FxForward', 'definition': {'tenor': '3Y', 'template': 'EURUSD'}, 'quote': {'startDate': '2023-10-12', 'endDate': '2026-10-13', 'definition': {'instrumentCode': 'EUR3Y=RFB'}, 'values': {'bid': {'value': 647.46, 'isOverridden': True, 'marketValue': 513.63}, 'ask': {'value': 650.98, 'isOverridden': True, 'marketValue': 518.63}}}}, {'type': 'FxForward', 'definition': {'tenor': '4Y', 'template': 'EURUSD'}, 'quote': {'startDate': '2023-10-12', 'endDate': '2027-10-12', 'definition': {'instrumentCode': 'EUR4Y=RFB'}, 'values': {'bid': {'value': 816.88, 'isOverridden': True, 'marketValue': 673.65}, 'ask': {'value': 821.56, 'isOverridden': True, 'marketValue': 680.65}}}}, {'type': 'FxForward', 'definition': {'tenor': '5Y', 'template': 'EURUSD'}, 'quote': {'startDate': '2023-10-12', 'endDate': '2028-10-12', 'definition': {'instrumentCode': 'EUR5Y=RFB'}, 'values': {'bid': {'value': 985.4, 'isOverridden': True, 'marketValue': 836.68}, 'ask': {'value': 996.4, 'isOverridden': True, 'marketValue': 847.68}}}}, {'type': 'FxForward', 'definition': {'tenor': '6Y', 'template': 'EURUSD'}, 'quote': {'startDate': '2023-10-12', 'endDate': '2029-10-12', 'definition': {'instrumentCode': 'EUR6Y=RFB'}, 'values': {'bid': {'value': 1161.88, 'isOverridden': True, 'marketValue': 1001.63}, 'ask': {'value': 1175.88, 'isOverridden': True, 'marketValue': 1015.63}}}}, {'type': 'FxForward', 'definition': {'tenor': '7Y', 'template': 'EURUSD'}, 'quote': {'startDate': '2023-10-12', 'endDate': '2030-10-15', 'definition': {'instrumentCode': 'EUR7Y=RFB'}, 'values': {'bid': {'value': 1344.38, 'isOverridden': True, 'marketValue': 1165.75}, 'ask': {'value': 1360.38, 'isOverridden': True, 'marketValue': 1181.75}}}}, {'type': 'FxForward', 'definition': {'tenor': '8Y', 'template': 'EURUSD'}, 'quote': {'startDate': '2023-10-12', 'endDate': '2031-10-14', 'definition': {'instrumentCode': 'EUR8Y=RFB'}, 'values': {'bid': {'value': 1515.0, 'isOverridden': True, 'marketValue': 1315.0}, 'ask': {'value': 1554.0, 'isOverridden': True, 'marketValue': 1354.0}}}}, {'type': 'FxForward', 'definition': {'tenor': '9Y', 'template': 'EURUSD'}, 'quote': {'startDate': '2023-10-12', 'endDate': '2032-10-12', 'definition': {'instrumentCode': 'EUR9Y=RFB'}, 'values': {'bid': {'value': 1692.25, 'isOverridden': True, 'marketValue': 1469.5}, 'ask': {'value': 1742.25, 'isOverridden': True, 'marketValue': 1519.5}}}}, {'type': 'FxForward', 'definition': {'tenor': '10Y', 'template': 'EURUSD'}, 'quote': {'startDate': '2023-10-12', 'endDate': '2033-10-12', 'definition': {'instrumentCode': 'EUR10Y=RFB'}, 'values': {'bid': {'value': 1893.0, 'isOverridden': True, 'marketValue': 1629.67}, 'ask': {'value': 1928.0, 'isOverridden': True, 'marketValue': 1664.67}}}}, {'type': 'FxSpot', 'definition': {'template': 'GBPUSD'}, 'quote': {'startDate': '2023-10-10', 'endDate': '2023-10-12', 'definition': {'instrumentCode': 'GBP='}, 'values': {'bid': {'value': 1.3585, 'isOverridden': True, 'marketValue': 1.2285}, 'ask': {'value': 1.3587, 'isOverridden': True, 'marketValue': 1.2288}}}}, {'type': 'FxForward', 'definition': {'tenor': 'ON', 'template': 'GBPUSD'}, 'quote': {'startDate': '2023-10-10', 'endDate': '2023-10-11', 'definition': {'instrumentCode': 'GBPON='}, 'values': {'bid': {'value': 0.06, 'isOverridden': True, 'marketValue': 0.03}, 'ask': {'value': 0.09, 'isOverridden': True, 'marketValue': 0.13}}}}, {'type': 'FxForward', 'definition': {'tenor': 'TN', 'template': 'GBPUSD'}, 'quote': {'startDate': '2023-10-11', 'endDate': '2023-10-12', 'definition': {'instrumentCode': 'GBPTN='}, 'values': {'bid': {'value': 0.053, 'isOverridden': True, 'marketValue': 0.025}, 'ask': {'value': 0.097, 'isOverridden': True, 'marketValue': 0.125}}}}, {'type': 'FxForward', 'definition': {'tenor': 'SN', 'template': 'GBPUSD'}, 'quote': {'startDate': '2023-10-12', 'endDate': '2023-10-13', 'definition': {'instrumentCode': 'GBPSN='}, 'values': {'bid': {'value': 0.13, 'isOverridden': True, 'marketValue': 0.068}, 'ask': {'value': 0.15, 'isOverridden': True, 'marketValue': 0.082}}}}, {'type': 'FxForward', 'definition': {'tenor': 'SW', 'template': 'GBPUSD'}, 'quote': {'startDate': '2023-10-12', 'endDate': '2023-10-19', 'definition': {'instrumentCode': 'GBPSW='}, 'values': {'bid': {'value': 0.46, 'isOverridden': True, 'marketValue': 0.41}, 'ask': {'value': 0.53, 'isOverridden': True, 'marketValue': 0.61}}}}, {'type': 'FxForward', 'definition': {'tenor': '1M', 'template': 'GBPUSD'}, 'quote': {'startDate': '2023-10-12', 'endDate': '2023-11-13', 'definition': {'instrumentCode': 'GBP1M='}, 'values': {'bid': {'value': 1.99, 'isOverridden': True, 'marketValue': 2.23}, 'ask': {'value': 2.06, 'isOverridden': True, 'marketValue': 2.28}}}}, {'type': 'FxForward', 'definition': {'tenor': '2M', 'template': 'GBPUSD'}, 'quote': {'startDate': '2023-10-12', 'endDate': '2023-12-12', 'definition': {'instrumentCode': 'GBP2M='}, 'values': {'bid': {'value': 4.34, 'isOverridden': True, 'marketValue': 3.81}, 'ask': {'value': 4.46, 'isOverridden': True, 'marketValue': 4.49}}}}, {'type': 'FxForward', 'definition': {'tenor': '3M', 'template': 'GBPUSD'}, 'quote': {'startDate': '2023-10-12', 'endDate': '2024-01-12', 'definition': {'instrumentCode': 'GBP3M='}, 'values': {'bid': {'value': 7.87, 'isOverridden': True, 'marketValue': 9.03}, 'ask': {'value': 8.03, 'isOverridden': True, 'marketValue': 9.27}}}}, {'type': 'FxForward', 'definition': {'tenor': '6M', 'template': 'GBPUSD'}, 'quote': {'startDate': '2023-10-12', 'endDate': '2024-04-12', 'definition': {'instrumentCode': 'GBP6M='}, 'values': {'bid': {'value': 15.95, 'isOverridden': True, 'marketValue': 13.56}, 'ask': {'value': 16.41, 'isOverridden': True, 'marketValue': 16.06}}}}, {'type': 'FxForward', 'definition': {'tenor': '9M', 'template': 'GBPUSD'}, 'quote': {'startDate': '2023-10-12', 'endDate': '2024-07-12', 'definition': {'instrumentCode': 'GBP9M='}, 'values': {'bid': {'value': 21.34, 'isOverridden': True, 'marketValue': 15.49}, 'ask': {'value': 24.99, 'isOverridden': True, 'marketValue': 18.89}}}}, {'type': 'FxForward', 'definition': {'tenor': '1Y', 'template': 'GBPUSD'}, 'quote': {'startDate': '2023-10-12', 'endDate': '2024-10-15', 'definition': {'instrumentCode': 'GBP1Y='}, 'values': {'bid': {'value': 26.68, 'isOverridden': True, 'marketValue': 13.85}, 'ask': {'value': 27.79, 'isOverridden': True, 'marketValue': 18.85}}}}, {'type': 'FxForward', 'definition': {'tenor': '2Y', 'template': 'GBPUSD'}, 'quote': {'startDate': '2023-10-12', 'endDate': '2025-10-14', 'definition': {'instrumentCode': 'GBP2Y='}, 'values': {'bid': {'value': 9.67, 'isOverridden': True, 'marketValue': -18.4}, 'ask': {'value': 12.65, 'isOverridden': True, 'marketValue': -0.6}}}}, {'type': 'FxForward', 'definition': {'tenor': '3Y', 'template': 'GBPUSD'}, 'quote': {'startDate': '2023-10-12', 'endDate': '2026-10-13', 'definition': {'instrumentCode': 'GBP3Y='}, 'values': {'bid': {'value': -7.85, 'isOverridden': True, 'marketValue': -36.0}, 'ask': {'value': -3.36, 'isOverridden': True, 'marketValue': 15.25}}}}, {'type': 'FxForward', 'definition': {'tenor': '4Y', 'template': 'GBPUSD'}, 'quote': {'startDate': '2023-10-12', 'endDate': '2027-10-12', 'definition': {'instrumentCode': 'GBP4Y='}, 'values': {'bid': {'value': -17.6, 'isOverridden': True, 'marketValue': -22.25}, 'ask': {'value': -14.0, 'isOverridden': True, 'marketValue': 43.5}}}}, {'type': 'FxForward', 'definition': {'tenor': '5Y', 'template': 'GBPUSD'}, 'quote': {'startDate': '2023-10-12', 'endDate': '2028-10-12', 'definition': {'instrumentCode': 'GBP5Y='}, 'values': {'bid': {'value': -25.9, 'isOverridden': True, 'marketValue': 23.75}, 'ask': {'value': -21.5, 'isOverridden': True, 'marketValue': 103.25}}}}, {'type': 'FxForward', 'definition': {'tenor': '6Y', 'template': 'GBPUSD'}, 'quote': {'startDate': '2023-10-12', 'endDate': '2029-10-12', 'definition': {'instrumentCode': 'GBP6Y='}, 'values': {'bid': {'value': -51.0, 'isOverridden': True, 'marketValue': 113.0}, 'ask': {'value': 6.0, 'isOverridden': True, 'marketValue': 155.0}}}}, {'type': 'FxForward', 'definition': {'tenor': '7Y', 'template': 'GBPUSD'}, 'quote': {'startDate': '2023-10-12', 'endDate': '2030-10-15', 'definition': {'instrumentCode': 'GBP7Y='}, 'values': {'bid': {'value': -56.0, 'isOverridden': True, 'marketValue': 175.0}, 'ask': {'value': 8.0, 'isOverridden': True, 'marketValue': 222.0}}}}, {'type': 'FxForward', 'definition': {'tenor': '8Y', 'template': 'GBPUSD'}, 'quote': {'startDate': '2023-10-12', 'endDate': '2031-10-14', 'definition': {'instrumentCode': 'GBP8Y='}, 'values': {'bid': {'value': -42.0, 'isOverridden': True, 'marketValue': 245.0}, 'ask': {'value': -33.0, 'isOverridden': True, 'marketValue': 275.0}}}}, {'type': 'FxForward', 'definition': {'tenor': '9Y', 'template': 'GBPUSD'}, 'quote': {'startDate': '2023-10-12', 'endDate': '2032-10-12', 'definition': {'instrumentCode': 'GBP9Y='}, 'values': {'bid': {'value': -82.0, 'isOverridden': True, 'marketValue': 289.0}, 'ask': {'value': -5.0, 'isOverridden': True, 'marketValue': 347.0}}}}, {'type': 'FxForward', 'definition': {'tenor': '10Y', 'template': 'GBPUSD'}, 'quote': {'startDate': '2023-10-12', 'endDate': '2033-10-12', 'definition': {'instrumentCode': 'GBP10Y='}, 'values': {'bid': {'value': -71.0, 'isOverridden': True, 'marketValue': 350.0}, 'ask': {'value': -60.0, 'isOverridden': True, 'marketValue': 386.0}}}}], 'outrightCurve': {'curveType': 'FxOutrightCurve', 'points': [{'startDate': '2023-10-10', 'tenor': 'ON', 'endDate': '2023-10-11', 'outright': {'bid': 0.85203264736065, 'ask': 0.8522366336584831, 'mid': 0.8521346405095666}, 'instruments': [{'instrumentCode': 'EURON=RFB'}, {'instrumentCode': 'GBPON='}]}, {'startDate': '2023-10-11', 'tenor': 'TN', 'endDate': '2023-10-12', 'outright': {'bid': 0.8520851888213004, 'ask': 0.8522871528784561, 'mid': 0.8521861708498782}, 'instruments': [{'instrumentCode': 'EURTN=RFB'}, {'instrumentCode': 'GBPTN='}]}, {'startDate': '2023-10-12', 'tenor': 'SPOT', 'endDate': '2023-10-12', 'outright': {'bid': 0.8521380731581658, 'ask': 0.8523371365476627, 'mid': 0.8522376048529143}, 'instruments': [{'instrumentCode': 'EUR='}, {'instrumentCode': 'GBP='}]}, {'startDate': '2023-10-12', 'tenor': 'SN', 'endDate': '2023-10-13', 'outright': {'bid': 0.8522409188093161, 'ask': 0.8524416917615067, 'mid': 0.8523413052854114}, 'instruments': [{'instrumentCode': 'EURSN=RFB'}, {'instrumentCode': 'GBPSN='}]}, {'startDate': '2023-10-12', 'tenor': 'SW', 'endDate': '2023-10-19', 'outright': {'bid': 0.8524993137089669, 'ask': 0.8527042882611261, 'mid': 0.8526018009850465}, 'instruments': [{'instrumentCode': 'EURSW=RFB'}, {'instrumentCode': 'GBPSW='}]}, {'startDate': '2023-10-12', 'tenor': 'OCTM', 'endDate': '2023-10-31', 'outright': {'bid': 0.8597396735965779, 'ask': 0.8599531006269128, 'mid': 0.8598463871117453}, 'instruments': [{'instrumentCode': 'EUROCTM=RFB'}]}, {'startDate': '2023-10-12', 'tenor': '1M', 'endDate': '2023-11-13', 'outright': {'bid': 0.853713943422135, 'ask': 0.8539190799433869, 'mid': 0.853816511682761}, 'instruments': [{'instrumentCode': 'EUR1M=RFB'}, {'instrumentCode': 'GBP1M='}]}, {'startDate': '2023-10-12', 'tenor': 'NOVM', 'endDate': '2023-11-30', 'outright': {'bid': 0.8611565804975768, 'ask': 0.8613764623118567, 'mid': 0.8612665214047168}, 'instruments': [{'instrumentCode': 'EURNOVM=RFB'}]}, {'startDate': '2023-10-12', 'tenor': '2M', 'endDate': '2023-12-12', 'outright': {'bid': 0.8553223862631387, 'ask': 0.8555330869637523, 'mid': 0.8554277366134455}, 'instruments': [{'instrumentCode': 'EUR2M=RFB'}, {'instrumentCode': 'GBP2M='}]}, {'startDate': '2023-10-12', 'tenor': 'DECM', 'endDate': '2023-12-29', 'outright': {'bid': 0.8627528574966135, 'ask': 0.8629800591959428, 'mid': 0.8628664583462782}, 'instruments': [{'instrumentCode': 'EURDECM=RFB'}]}, {'startDate': '2023-10-12', 'tenor': '3M', 'endDate': '2024-01-12', 'outright': {'bid': 0.8568660753231143, 'ask': 0.8570816906216272, 'mid': 0.8569738829723708}, 'instruments': [{'instrumentCode': 'EUR3M=RFB'}, {'instrumentCode': 'GBP3M='}]}, {'startDate': '2023-10-12', 'tenor': 'JANM', 'endDate': '2024-01-31', 'outright': {'bid': 0.8642531750104531, 'ask': 0.864485688757675, 'mid': 0.864369431884064}, 'instruments': [{'instrumentCode': 'EURJANM=RFB'}]}, {'startDate': '2023-10-12', 'tenor': 'FEBM', 'endDate': '2024-02-29', 'outright': {'bid': 0.8655592549527514, 'ask': 0.8657994949985451, 'mid': 0.8656793749756483}, 'instruments': [{'instrumentCode': 'EURFEBM=RFB'}]}, {'startDate': '2023-10-12', 'tenor': 'MARM', 'endDate': '2024-03-28', 'outright': {'bid': 0.867048605492033, 'ask': 0.8672986171840231, 'mid': 0.8671736113380281}, 'instruments': [{'instrumentCode': 'EURMARM=RFB'}]}, {'startDate': '2023-10-12', 'tenor': '6M', 'endDate': '2024-04-12', 'outright': {'bid': 0.8614222463338236, 'ask': 0.8616706921207709, 'mid': 0.8615464692272972}, 'instruments': [{'instrumentCode': 'EUR6M=RFB'}, {'instrumentCode': 'GBP6M='}]}, {'startDate': '2023-10-12', 'tenor': 'APRM', 'endDate': '2024-04-30', 'outright': {'bid': 0.8683422979290865, 'ask': 0.8686396094787078, 'mid': 0.8684909537038972}, 'instruments': [{'instrumentCode': 'EURAPRM=RFB'}]}, {'startDate': '2023-10-12', 'tenor': 'MAYM', 'endDate': '2024-05-31', 'outright': {'bid': 0.8695285063304534, 'ask': 0.8699131490356125, 'mid': 0.8697208276830329}, 'instruments': [{'instrumentCode': 'EURMAYM=RFB'}]}, {'startDate': '2023-10-12', 'tenor': 'JUNM', 'endDate': '2024-06-28', 'outright': {'bid': 0.8513320799049569, 'ask': 0.8517298759710714, 'mid': 0.8515309779380141}, 'instruments': [{'instrumentCode': 'EURJUNM=RFB'}]}, {'startDate': '2023-10-12', 'tenor': '9M', 'endDate': '2024-07-12', 'outright': {'bid': 0.8657595252420843, 'ask': 0.866213838548794, 'mid': 0.8659866818954391}, 'instruments': [{'instrumentCode': 'EUR9M=RFB'}, {'instrumentCode': 'GBP9M='}]}, {'startDate': '2023-10-12', 'tenor': 'JULM', 'endDate': '2024-07-31', 'outright': {'bid': 0.8529761139536676, 'ask': 0.8533748675721342, 'mid': 0.8531754907629009}, 'instruments': [{'instrumentCode': 'EURJULM=RFB'}]}, {'startDate': '2023-10-12', 'tenor': 'AUGM', 'endDate': '2024-08-30', 'outright': {'bid': 0.8545632072034107, 'ask': 0.8549136136488791, 'mid': 0.8547384104261448}, 'instruments': [{'instrumentCode': 'EURAUGM=RFB'}]}, {'startDate': '2023-10-12', 'tenor': 'SEPM', 'endDate': '2024-09-30', 'outright': {'bid': 0.8563267289876573, 'ask': 0.856627710349996, 'mid': 0.8564772196688266}, 'instruments': [{'instrumentCode': 'EURSEPM=RFB'}]}, {'startDate': '2023-10-12', 'tenor': '1Y', 'endDate': '2024-10-15', 'outright': {'bid': 0.87004940950246, 'ask': 0.8703951312402289, 'mid': 0.8702222703713445}, 'instruments': [{'instrumentCode': 'EUR1Y=RFB'}, {'instrumentCode': 'GBP1Y='}]}, {'startDate': '2023-10-12', 'tenor': '2Y', 'endDate': '2025-10-14', 'outright': {'bid': 0.8856007323717889, 'ask': 0.8862502730849664, 'mid': 0.8859255027283777}, 'instruments': [{'instrumentCode': 'EUR2Y=RFB'}, {'instrumentCode': 'GBP2Y='}]}, {'startDate': '2023-10-12', 'tenor': '3Y', 'endDate': '2026-10-13', 'outright': {'bid': 0.9000135457064526, 'ask': 0.900776672571195, 'mid': 0.9003951091388238}, 'instruments': [{'instrumentCode': 'EUR3Y=RFB'}, {'instrumentCode': 'GBP3Y='}]}, {'startDate': '2023-10-12', 'tenor': '4Y', 'endDate': '2027-10-12', 'outright': {'bid': 0.9132012082811464, 'ask': 0.9139967864144934, 'mid': 0.9135989973478199}, 'instruments': [{'instrumentCode': 'EUR4Y=RFB'}, {'instrumentCode': 'GBP4Y='}]}, {'startDate': '2023-10-12', 'tenor': '5Y', 'endDate': '2028-10-12', 'outright': {'bid': 0.92612878257344, 'ask': 0.9274509370090934, 'mid': 0.9267898597912667}, 'instruments': [{'instrumentCode': 'EUR5Y=RFB'}, {'instrumentCode': 'GBP5Y='}]}, {'startDate': '2023-10-12', 'tenor': '6Y', 'endDate': '2029-10-12', 'outright': {'bid': 0.9372382844110939, 'ask': 0.9424323924929806, 'mid': 0.9398353384520373}, 'instruments': [{'instrumentCode': 'EUR6Y=RFB'}, {'instrumentCode': 'GBP6Y='}]}, {'startDate': '2023-10-12', 'tenor': '7Y', 'endDate': '2030-10-15', 'outright': {'bid': 0.9505244575211476, 'ask': 0.9564180648976274, 'mid': 0.9534712612093874}, 'instruments': [{'instrumentCode': 'EUR7Y=RFB'}, {'instrumentCode': 'GBP7Y='}]}, {'startDate': '2023-10-12', 'tenor': '8Y', 'endDate': '2031-10-14', 'outright': {'bid': 0.9659879002508485, 'ask': 0.9697260577420068, 'mid': 0.9678569789964276}, 'instruments': [{'instrumentCode': 'EUR8Y=RFB'}, {'instrumentCode': 'GBP8Y='}]}, {'startDate': '2023-10-12', 'tenor': '9Y', 'endDate': '2032-10-12', 'outright': {'bid': 0.9770468266823736, 'ask': 0.9865400281418943, 'mid': 0.981793427412134}, 'instruments': [{'instrumentCode': 'EUR9Y=RFB'}, {'instrumentCode': 'GBP9Y='}]}, {'startDate': '2023-10-12', 'tenor': '10Y', 'endDate': '2033-10-12', 'outright': {'bid': 0.9958601315886745, 'ask': 0.9994820186473288, 'mid': 0.9976710751180016}, 'instruments': [{'instrumentCode': 'EUR10Y=RFB'}, {'instrumentCode': 'GBP10Y='}]}]}, 'underlyingCurves': [{'curveType': 'FxOutrightCurve', 'crossCurrency': 'EURGBP', 'points': [{'startDate': '2023-10-10', 'tenor': 'ON', 'endDate': '2023-10-11', 'outright': {'bid': 0.85203264736065, 'ask': 0.8522366336584831, 'mid': 0.8521346405095666}, 'instruments': [{'instrumentCode': 'EURON=RFB'}, {'instrumentCode': 'GBPON='}]}, {'startDate': '2023-10-11', 'tenor': 'TN', 'endDate': '2023-10-12', 'outright': {'bid': 0.8520851888213004, 'ask': 0.8522871528784561, 'mid': 0.8521861708498782}, 'instruments': [{'instrumentCode': 'EURTN=RFB'}, {'instrumentCode': 'GBPTN='}]}, {'startDate': '2023-10-12', 'tenor': 'SPOT', 'endDate': '2023-10-12', 'outright': {'bid': 0.8521380731581658, 'ask': 0.8523371365476627, 'mid': 0.8522376048529143}, 'instruments': [{'instrumentCode': 'EUR='}, {'instrumentCode': 'GBP='}]}, {'startDate': '2023-10-12', 'tenor': 'SN', 'endDate': '2023-10-13', 'outright': {'bid': 0.8522409188093161, 'ask': 0.8524416917615067, 'mid': 0.8523413052854114}, 'instruments': [{'instrumentCode': 'EURSN=RFB'}, {'instrumentCode': 'GBPSN='}]}, {'startDate': '2023-10-12', 'tenor': 'SW', 'endDate': '2023-10-19', 'outright': {'bid': 0.8524993137089669, 'ask': 0.8527042882611261, 'mid': 0.8526018009850465}, 'instruments': [{'instrumentCode': 'EURSW=RFB'}, {'instrumentCode': 'GBPSW='}]}, {'startDate': '2023-10-12', 'tenor': 'OCTM', 'endDate': '2023-10-31', 'outright': {'bid': 0.8597396735965779, 'ask': 0.8599531006269128, 'mid': 0.8598463871117453}, 'instruments': [{'instrumentCode': 'EUROCTM=RFB'}]}, {'startDate': '2023-10-12', 'tenor': '1M', 'endDate': '2023-11-13', 'outright': {'bid': 0.853713943422135, 'ask': 0.8539190799433869, 'mid': 0.853816511682761}, 'instruments': [{'instrumentCode': 'EUR1M=RFB'}, {'instrumentCode': 'GBP1M='}]}, {'startDate': '2023-10-12', 'tenor': 'NOVM', 'endDate': '2023-11-30', 'outright': {'bid': 0.8611565804975768, 'ask': 0.8613764623118567, 'mid': 0.8612665214047168}, 'instruments': [{'instrumentCode': 'EURNOVM=RFB'}]}, {'startDate': '2023-10-12', 'tenor': '2M', 'endDate': '2023-12-12', 'outright': {'bid': 0.8553223862631387, 'ask': 0.8555330869637523, 'mid': 0.8554277366134455}, 'instruments': [{'instrumentCode': 'EUR2M=RFB'}, {'instrumentCode': 'GBP2M='}]}, {'startDate': '2023-10-12', 'tenor': 'DECM', 'endDate': '2023-12-29', 'outright': {'bid': 0.8627528574966135, 'ask': 0.8629800591959428, 'mid': 0.8628664583462782}, 'instruments': [{'instrumentCode': 'EURDECM=RFB'}]}, {'startDate': '2023-10-12', 'tenor': '3M', 'endDate': '2024-01-12', 'outright': {'bid': 0.8568660753231143, 'ask': 0.8570816906216272, 'mid': 0.8569738829723708}, 'instruments': [{'instrumentCode': 'EUR3M=RFB'}, {'instrumentCode': 'GBP3M='}]}, {'startDate': '2023-10-12', 'tenor': 'JANM', 'endDate': '2024-01-31', 'outright': {'bid': 0.8642531750104531, 'ask': 0.864485688757675, 'mid': 0.864369431884064}, 'instruments': [{'instrumentCode': 'EURJANM=RFB'}]}, {'startDate': '2023-10-12', 'tenor': 'FEBM', 'endDate': '2024-02-29', 'outright': {'bid': 0.8655592549527514, 'ask': 0.8657994949985451, 'mid': 0.8656793749756483}, 'instruments': [{'instrumentCode': 'EURFEBM=RFB'}]}, {'startDate': '2023-10-12', 'tenor': 'MARM', 'endDate': '2024-03-28', 'outright': {'bid': 0.867048605492033, 'ask': 0.8672986171840231, 'mid': 0.8671736113380281}, 'instruments': [{'instrumentCode': 'EURMARM=RFB'}]}, {'startDate': '2023-10-12', 'tenor': '6M', 'endDate': '2024-04-12', 'outright': {'bid': 0.8614222463338236, 'ask': 0.8616706921207709, 'mid': 0.8615464692272972}, 'instruments': [{'instrumentCode': 'EUR6M=RFB'}, {'instrumentCode': 'GBP6M='}]}, {'startDate': '2023-10-12', 'tenor': 'APRM', 'endDate': '2024-04-30', 'outright': {'bid': 0.8683422979290865, 'ask': 0.8686396094787078, 'mid': 0.8684909537038972}, 'instruments': [{'instrumentCode': 'EURAPRM=RFB'}]}, {'startDate': '2023-10-12', 'tenor': 'MAYM', 'endDate': '2024-05-31', 'outright': {'bid': 0.8695285063304534, 'ask': 0.8699131490356125, 'mid': 0.8697208276830329}, 'instruments': [{'instrumentCode': 'EURMAYM=RFB'}]}, {'startDate': '2023-10-12', 'tenor': 'JUNM', 'endDate': '2024-06-28', 'outright': {'bid': 0.8513320799049569, 'ask': 0.8517298759710714, 'mid': 0.8515309779380141}, 'instruments': [{'instrumentCode': 'EURJUNM=RFB'}]}, {'startDate': '2023-10-12', 'tenor': '9M', 'endDate': '2024-07-12', 'outright': {'bid': 0.8657595252420843, 'ask': 0.866213838548794, 'mid': 0.8659866818954391}, 'instruments': [{'instrumentCode': 'EUR9M=RFB'}, {'instrumentCode': 'GBP9M='}]}, {'startDate': '2023-10-12', 'tenor': 'JULM', 'endDate': '2024-07-31', 'outright': {'bid': 0.8529761139536676, 'ask': 0.8533748675721342, 'mid': 0.8531754907629009}, 'instruments': [{'instrumentCode': 'EURJULM=RFB'}]}, {'startDate': '2023-10-12', 'tenor': 'AUGM', 'endDate': '2024-08-30', 'outright': {'bid': 0.8545632072034107, 'ask': 0.8549136136488791, 'mid': 0.8547384104261448}, 'instruments': [{'instrumentCode': 'EURAUGM=RFB'}]}, {'startDate': '2023-10-12', 'tenor': 'SEPM', 'endDate': '2024-09-30', 'outright': {'bid': 0.8563267289876573, 'ask': 0.856627710349996, 'mid': 0.8564772196688266}, 'instruments': [{'instrumentCode': 'EURSEPM=RFB'}]}, {'startDate': '2023-10-12', 'tenor': '1Y', 'endDate': '2024-10-15', 'outright': {'bid': 0.87004940950246, 'ask': 0.8703951312402289, 'mid': 0.8702222703713445}, 'instruments': [{'instrumentCode': 'EUR1Y=RFB'}, {'instrumentCode': 'GBP1Y='}]}, {'startDate': '2023-10-12', 'tenor': '2Y', 'endDate': '2025-10-14', 'outright': {'bid': 0.8856007323717889, 'ask': 0.8862502730849664, 'mid': 0.8859255027283777}, 'instruments': [{'instrumentCode': 'EUR2Y=RFB'}, {'instrumentCode': 'GBP2Y='}]}, {'startDate': '2023-10-12', 'tenor': '3Y', 'endDate': '2026-10-13', 'outright': {'bid': 0.9000135457064526, 'ask': 0.900776672571195, 'mid': 0.9003951091388238}, 'instruments': [{'instrumentCode': 'EUR3Y=RFB'}, {'instrumentCode': 'GBP3Y='}]}, {'startDate': '2023-10-12', 'tenor': '4Y', 'endDate': '2027-10-12', 'outright': {'bid': 0.9132012082811464, 'ask': 0.9139967864144934, 'mid': 0.9135989973478199}, 'instruments': [{'instrumentCode': 'EUR4Y=RFB'}, {'instrumentCode': 'GBP4Y='}]}, {'startDate': '2023-10-12', 'tenor': '5Y', 'endDate': '2028-10-12', 'outright': {'bid': 0.92612878257344, 'ask': 0.9274509370090934, 'mid': 0.9267898597912667}, 'instruments': [{'instrumentCode': 'EUR5Y=RFB'}, {'instrumentCode': 'GBP5Y='}]}, {'startDate': '2023-10-12', 'tenor': '6Y', 'endDate': '2029-10-12', 'outright': {'bid': 0.9372382844110939, 'ask': 0.9424323924929806, 'mid': 0.9398353384520373}, 'instruments': [{'instrumentCode': 'EUR6Y=RFB'}, {'instrumentCode': 'GBP6Y='}]}, {'startDate': '2023-10-12', 'tenor': '7Y', 'endDate': '2030-10-15', 'outright': {'bid': 0.9505244575211476, 'ask': 0.9564180648976274, 'mid': 0.9534712612093874}, 'instruments': [{'instrumentCode': 'EUR7Y=RFB'}, {'instrumentCode': 'GBP7Y='}]}, {'startDate': '2023-10-12', 'tenor': '8Y', 'endDate': '2031-10-14', 'outright': {'bid': 0.9659879002508485, 'ask': 0.9697260577420068, 'mid': 0.9678569789964276}, 'instruments': [{'instrumentCode': 'EUR8Y=RFB'}, {'instrumentCode': 'GBP8Y='}]}, {'startDate': '2023-10-12', 'tenor': '9Y', 'endDate': '2032-10-12', 'outright': {'bid': 0.9770468266823736, 'ask': 0.9865400281418943, 'mid': 0.981793427412134}, 'instruments': [{'instrumentCode': 'EUR9Y=RFB'}, {'instrumentCode': 'GBP9Y='}]}, {'startDate': '2023-10-12', 'tenor': '10Y', 'endDate': '2033-10-12', 'outright': {'bid': 0.9958601315886745, 'ask': 0.9994820186473288, 'mid': 0.9976710751180016}, 'instruments': [{'instrumentCode': 'EUR10Y=RFB'}, {'instrumentCode': 'GBP10Y='}]}]}, {'curveType': 'FxOutrightCurve', 'crossCurrency': 'EURUSD', 'points': [{'startDate': '2023-10-10', 'tenor': 'ON', 'endDate': '2023-10-11', 'outright': {'bid': 1.1578762999999999, 'ask': 1.1579765, 'mid': 1.1579264}, 'instruments': [{'instrumentCode': 'EURON=RFB'}]}, {'startDate': '2023-10-11', 'tenor': 'TN', 'endDate': '2023-10-12', 'outright': {'bid': 1.15787617, 'ask': 1.1579763699999999, 'mid': 1.15792627}, 'instruments': [{'instrumentCode': 'EURTN=RFB'}]}, {'startDate': '2023-10-12', 'tenor': 'SPOT', 'endDate': '2023-10-12', 'outright': {'bid': 1.1578, 'ask': 1.1579, 'mid': 1.1578499999999998}, 'instruments': [{'instrumentCode': 'EUR='}]}, {'startDate': '2023-10-12', 'tenor': 'SN', 'endDate': '2023-10-13', 'outright': {'bid': 1.15795252, 'ask': 1.15805312, 'mid': 1.15800282}, 'instruments': [{'instrumentCode': 'EURSN=RFB'}]}, {'startDate': '2023-10-12', 'tenor': 'SW', 'endDate': '2023-10-19', 'outright': {'bid': 1.158336, 'ask': 1.1584379999999999, 'mid': 1.1583869999999998}, 'instruments': [{'instrumentCode': 'EURSW=RFB'}]}, {'startDate': '2023-10-12', 'tenor': 'OCTM', 'endDate': '2023-10-31', 'outright': {'bid': 1.168237, 'ask': 1.1683489999999999, 'mid': 1.1682929999999998}, 'instruments': [{'instrumentCode': 'EUROCTM=RFB'}]}, {'startDate': '2023-10-12', 'tenor': '1M', 'endDate': '2023-11-13', 'outright': {'bid': 1.1601169999999998, 'ask': 1.160219, 'mid': 1.1601679999999999}, 'instruments': [{'instrumentCode': 'EUR1M=RFB'}]}, {'startDate': '2023-10-12', 'tenor': 'NOVM', 'endDate': '2023-11-30', 'outright': {'bid': 1.1703519999999998, 'ask': 1.17047, 'mid': 1.1704109999999999}, 'instruments': [{'instrumentCode': 'EURNOVM=RFB'}]}, {'startDate': '2023-10-12', 'tenor': '2M', 'endDate': '2023-12-12', 'outright': {'bid': 1.1625079999999999, 'ask': 1.162613, 'mid': 1.1625604999999999}, 'instruments': [{'instrumentCode': 'EUR2M=RFB'}]}, {'startDate': '2023-10-12', 'tenor': 'DECM', 'endDate': '2023-12-29', 'outright': {'bid': 1.172776, 'ask': 1.1728999999999998, 'mid': 1.172838}, 'instruments': [{'instrumentCode': 'EURDECM=RFB'}]}, {'startDate': '2023-10-12', 'tenor': '3M', 'endDate': '2024-01-12', 'outright': {'bid': 1.164912, 'ask': 1.16502, 'mid': 1.164966}, 'instruments': [{'instrumentCode': 'EUR3M=RFB'}]}, {'startDate': '2023-10-12', 'tenor': 'JANM', 'endDate': '2024-01-31', 'outright': {'bid': 1.175106, 'ask': 1.17523, 'mid': 1.175168}, 'instruments': [{'instrumentCode': 'EURJANM=RFB'}]}, {'startDate': '2023-10-12', 'tenor': 'FEBM', 'endDate': '2024-02-29', 'outright': {'bid': 1.1771129999999999, 'ask': 1.177239, 'mid': 1.1771759999999998}, 'instruments': [{'instrumentCode': 'EURFEBM=RFB'}]}, {'startDate': '2023-10-12', 'tenor': 'MARM', 'endDate': '2024-03-28', 'outright': {'bid': 1.179362, 'ask': 1.179493, 'mid': 1.1794275}, 'instruments': [{'instrumentCode': 'EURMARM=RFB'}]}, {'startDate': '2023-10-12', 'tenor': '6M', 'endDate': '2024-04-12', 'outright': {'bid': 1.1718279999999999, 'ask': 1.171954, 'mid': 1.171891}, 'instruments': [{'instrumentCode': 'EUR6M=RFB'}]}, {'startDate': '2023-10-12', 'tenor': 'APRM', 'endDate': '2024-04-30', 'outright': {'bid': 1.181389, 'ask': 1.181525, 'mid': 1.181457}, 'instruments': [{'instrumentCode': 'EURAPRM=RFB'}]}, {'startDate': '2023-10-12', 'tenor': 'MAYM', 'endDate': '2024-05-31', 'outright': {'bid': 1.183257, 'ask': 1.183417, 'mid': 1.1833369999999999}, 'instruments': [{'instrumentCode': 'EURMAYM=RFB'}]}, {'startDate': '2023-10-12', 'tenor': 'JUNM', 'endDate': '2024-06-28', 'outright': {'bid': 1.15872, 'ask': 1.158822, 'mid': 1.158771}, 'instruments': [{'instrumentCode': 'EURJUNM=RFB'}]}, {'startDate': '2023-10-12', 'tenor': '9M', 'endDate': '2024-07-12', 'outright': {'bid': 1.178471, 'ask': 1.1785999999999999, 'mid': 1.1785355}, 'instruments': [{'instrumentCode': 'EUR9M=RFB'}]}, {'startDate': '2023-10-12', 'tenor': 'JULM', 'endDate': '2024-07-31', 'outright': {'bid': 1.1611179999999999, 'ask': 1.161222, 'mid': 1.1611699999999998}, 'instruments': [{'instrumentCode': 'EURJULM=RFB'}]}, {'startDate': '2023-10-12', 'tenor': 'AUGM', 'endDate': '2024-08-30', 'outright': {'bid': 1.163354, 'ask': 1.16346, 'mid': 1.1634069999999999}, 'instruments': [{'instrumentCode': 'EURAUGM=RFB'}]}, {'startDate': '2023-10-12', 'tenor': 'SEPM', 'endDate': '2024-09-30', 'outright': {'bid': 1.165833, 'ask': 1.165942, 'mid': 1.1658875}, 'instruments': [{'instrumentCode': 'EURSEPM=RFB'}]}, {'startDate': '2023-10-12', 'tenor': '1Y', 'endDate': '2024-10-15', 'outright': {'bid': 1.1845539999999999, 'ask': 1.1847539999999999, 'mid': 1.1846539999999999}, 'instruments': [{'instrumentCode': 'EUR1Y=RFB'}]}, {'startDate': '2023-10-12', 'tenor': '2Y', 'endDate': '2025-10-14', 'outright': {'bid': 1.204386, 'ask': 1.204828, 'mid': 1.204607}, 'instruments': [{'instrumentCode': 'EUR2Y=RFB'}]}, {'startDate': '2023-10-12', 'tenor': '3Y', 'endDate': '2026-10-13', 'outright': {'bid': 1.222546, 'ask': 1.222998, 'mid': 1.222772}, 'instruments': [{'instrumentCode': 'EUR3Y=RFB'}]}, {'startDate': '2023-10-12', 'tenor': '4Y', 'endDate': '2027-10-12', 'outright': {'bid': 1.239488, 'ask': 1.2400559999999998, 'mid': 1.2397719999999999}, 'instruments': [{'instrumentCode': 'EUR4Y=RFB'}]}, {'startDate': '2023-10-12', 'tenor': '5Y', 'endDate': '2028-10-12', 'outright': {'bid': 1.25634, 'ask': 1.2575399999999999, 'mid': 1.25694}, 'instruments': [{'instrumentCode': 'EUR5Y=RFB'}]}, {'startDate': '2023-10-12', 'tenor': '6Y', 'endDate': '2029-10-12', 'outright': {'bid': 1.273988, 'ask': 1.275488, 'mid': 1.274738}, 'instruments': [{'instrumentCode': 'EUR6Y=RFB'}]}, {'startDate': '2023-10-12', 'tenor': '7Y', 'endDate': '2030-10-15', 'outright': {'bid': 1.292238, 'ask': 1.293938, 'mid': 1.293088}, 'instruments': [{'instrumentCode': 'EUR7Y=RFB'}]}, {'startDate': '2023-10-12', 'tenor': '8Y', 'endDate': '2031-10-14', 'outright': {'bid': 1.3093, 'ask': 1.3133, 'mid': 1.3113}, 'instruments': [{'instrumentCode': 'EUR8Y=RFB'}]}, {'startDate': '2023-10-12', 'tenor': '9Y', 'endDate': '2032-10-12', 'outright': {'bid': 1.327025, 'ask': 1.332125, 'mid': 1.329575}, 'instruments': [{'instrumentCode': 'EUR9Y=RFB'}]}, {'startDate': '2023-10-12', 'tenor': '10Y', 'endDate': '2033-10-12', 'outright': {'bid': 1.3471, 'ask': 1.3507, 'mid': 1.3489}, 'instruments': [{'instrumentCode': 'EUR10Y=RFB'}]}]}, {'curveType': 'FxOutrightCurve', 'crossCurrency': 'GBPUSD', 'points': [{'startDate': '2023-10-10', 'tenor': 'ON', 'endDate': '2023-10-11', 'outright': {'bid': 1.358506, 'ask': 1.358709, 'mid': 1.3586075}, 'instruments': [{'instrumentCode': 'GBPON='}]}, {'startDate': '2023-10-11', 'tenor': 'TN', 'endDate': '2023-10-12', 'outright': {'bid': 1.3585053, 'ask': 1.3587097, 'mid': 1.3586075}, 'instruments': [{'instrumentCode': 'GBPTN='}]}, {'startDate': '2023-10-12', 'tenor': 'SPOT', 'endDate': '2023-10-12', 'outright': {'bid': 1.3585, 'ask': 1.3587, 'mid': 1.3586}, 'instruments': [{'instrumentCode': 'GBP='}]}, {'startDate': '2023-10-12', 'tenor': 'SN', 'endDate': '2023-10-13', 'outright': {'bid': 1.358513, 'ask': 1.3587150000000001, 'mid': 1.3586140000000002}, 'instruments': [{'instrumentCode': 'GBPSN='}]}, {'startDate': '2023-10-12', 'tenor': 'SW', 'endDate': '2023-10-19', 'outright': {'bid': 1.358546, 'ask': 1.358753, 'mid': 1.3586495}, 'instruments': [{'instrumentCode': 'GBPSW='}]}, {'startDate': '2023-10-12', 'tenor': 'OCTM', 'endDate': '2023-10-31', 'outright': {'bid': 1.35861944, 'ask': 1.35882644, 'mid': 1.35872294}}, {'startDate': '2023-10-12', 'tenor': '1M', 'endDate': '2023-11-13', 'outright': {'bid': 1.358699, 'ask': 1.358906, 'mid': 1.3588025}, 'instruments': [{'instrumentCode': 'GBP1M='}]}, {'startDate': '2023-10-12', 'tenor': 'NOVM', 'endDate': '2023-11-30', 'outright': {'bid': 1.3588367586206895, 'ask': 1.3590466896551725, 'mid': 1.3589417241379311}}, {'startDate': '2023-10-12', 'tenor': '2M', 'endDate': '2023-12-12', 'outright': {'bid': 1.358934, 'ask': 1.359146, 'mid': 1.35904}, 'instruments': [{'instrumentCode': 'GBP2M='}]}, {'startDate': '2023-10-12', 'tenor': 'DECM', 'endDate': '2023-12-29', 'outright': {'bid': 1.3591275806451613, 'ask': 1.3593417741935483, 'mid': 1.3592346774193547}}, {'startDate': '2023-10-12', 'tenor': '3M', 'endDate': '2024-01-12', 'outright': {'bid': 1.3592870000000001, 'ask': 1.3595030000000001, 'mid': 1.3593950000000001}, 'instruments': [{'instrumentCode': 'GBP3M='}]}, {'startDate': '2023-10-12', 'tenor': 'JANM', 'endDate': '2024-01-31', 'outright': {'bid': 1.3594557032967034, 'ask': 1.359677967032967, 'mid': 1.3595668351648351}}, {'startDate': '2023-10-12', 'tenor': 'FEBM', 'endDate': '2024-02-29', 'outright': {'bid': 1.359713197802198, 'ask': 1.359945021978022, 'mid': 1.3598291098901099}}, {'startDate': '2023-10-12', 'tenor': 'MARM', 'endDate': '2024-03-28', 'outright': {'bid': 1.3599618131868132, 'ask': 1.3602028681318683, 'mid': 1.3600823406593407}}, {'startDate': '2023-10-12', 'tenor': '6M', 'endDate': '2024-04-12', 'outright': {'bid': 1.360095, 'ask': 1.360341, 'mid': 1.3602180000000001}, 'instruments': [{'instrumentCode': 'GBP6M='}]}, {'startDate': '2023-10-12', 'tenor': 'APRM', 'endDate': '2024-04-30', 'outright': {'bid': 1.3602016153846155, 'ask': 1.3605107142857145, 'mid': 1.360356164835165}}, {'startDate': '2023-10-12', 'tenor': 'MAYM', 'endDate': '2024-05-31', 'outright': {'bid': 1.3603852307692308, 'ask': 1.360803, 'mid': 1.3605941153846155}}, {'startDate': '2023-10-12', 'tenor': 'JUNM', 'endDate': '2024-06-28', 'outright': {'bid': 1.360551076923077, 'ask': 1.361067, 'mid': 1.3608090384615386}}, {'startDate': '2023-10-12', 'tenor': '9M', 'endDate': '2024-07-12', 'outright': {'bid': 1.3606340000000001, 'ask': 1.361199, 'mid': 1.3609165}, 'instruments': [{'instrumentCode': 'GBP9M='}]}, {'startDate': '2023-10-12', 'tenor': 'JULM', 'endDate': '2024-07-31', 'outright': {'bid': 1.3607408, 'ask': 1.361255, 'mid': 1.3609979}}, {'startDate': '2023-10-12', 'tenor': 'AUGM', 'endDate': '2024-08-30', 'outright': {'bid': 1.3609094315789474, 'ask': 1.3613434210526316, 'mid': 1.3611264263157894}}, {'startDate': '2023-10-12', 'tenor': 'SEPM', 'endDate': '2024-09-30', 'outright': {'bid': 1.3610836842105263, 'ask': 1.3614347894736842, 'mid': 1.3612592368421053}}, {'startDate': '2023-10-12', 'tenor': '1Y', 'endDate': '2024-10-15', 'outright': {'bid': 1.361168, 'ask': 1.361479, 'mid': 1.3613235000000001}, 'instruments': [{'instrumentCode': 'GBP1Y='}]}, {'startDate': '2023-10-12', 'tenor': '2Y', 'endDate': '2025-10-14', 'outright': {'bid': 1.359467, 'ask': 1.359965, 'mid': 1.3597160000000001}, 'instruments': [{'instrumentCode': 'GBP2Y='}]}, {'startDate': '2023-10-12', 'tenor': '3Y', 'endDate': '2026-10-13', 'outright': {'bid': 1.357715, 'ask': 1.3583640000000001, 'mid': 1.3580395}, 'instruments': [{'instrumentCode': 'GBP3Y='}]}, {'startDate': '2023-10-12', 'tenor': '4Y', 'endDate': '2027-10-12', 'outright': {'bid': 1.35674, 'ask': 1.3573, 'mid': 1.35702}, 'instruments': [{'instrumentCode': 'GBP4Y='}]}, {'startDate': '2023-10-12', 'tenor': '5Y', 'endDate': '2028-10-12', 'outright': {'bid': 1.35591, 'ask': 1.35655, 'mid': 1.35623}, 'instruments': [{'instrumentCode': 'GBP5Y='}]}, {'startDate': '2023-10-12', 'tenor': '6Y', 'endDate': '2029-10-12', 'outright': {'bid': 1.3534, 'ask': 1.3593, 'mid': 1.35635}, 'instruments': [{'instrumentCode': 'GBP6Y='}]}, {'startDate': '2023-10-12', 'tenor': '7Y', 'endDate': '2030-10-15', 'outright': {'bid': 1.3529, 'ask': 1.3595, 'mid': 1.3561999999999999}, 'instruments': [{'instrumentCode': 'GBP7Y='}]}, {'startDate': '2023-10-12', 'tenor': '8Y', 'endDate': '2031-10-14', 'outright': {'bid': 1.3543, 'ask': 1.3554, 'mid': 1.3548499999999999}, 'instruments': [{'instrumentCode': 'GBP8Y='}]}, {'startDate': '2023-10-12', 'tenor': '9Y', 'endDate': '2032-10-12', 'outright': {'bid': 1.3503, 'ask': 1.3582, 'mid': 1.35425}, 'instruments': [{'instrumentCode': 'GBP9Y='}]}, {'startDate': '2023-10-12', 'tenor': '10Y', 'endDate': '2033-10-12', 'outright': {'bid': 1.3514, 'ask': 1.3527, 'mid': 1.35205}, 'instruments': [{'instrumentCode': 'GBP10Y='}]}]}], 'invalidConstituents': []}}"
      ]
     },
     "execution_count": 23,
     "metadata": {},
     "output_type": "execute_result"
    }
   ],
   "source": [
    "from lseg_analytics_basic_client.models import (\n",
    "    FxForwardCurveCalculationParameters,\n",
    ")\n",
    "\n",
    "curve.calculate(\n",
    "    pricing_preferences=FxForwardCurveCalculationParameters(\n",
    "        valuation_date=datetime.date(2023, 10, 10)\n",
    "    )\n",
    ")\n",
    "\n",
    "curve.calculate(\n",
    "    pricing_preferences=FxForwardCurveCalculationParameters(valuation_date=\"2023-10-10\")\n",
    ")"
   ]
  },
  {
   "cell_type": "markdown",
   "metadata": {},
   "source": [
    "## Delete\n",
    "\n",
    "You can delete a curve from the server in the following ways:"
   ]
  },
  {
   "cell_type": "markdown",
   "metadata": {},
   "source": [
    "### By ID:"
   ]
  },
  {
   "cell_type": "code",
   "execution_count": 24,
   "metadata": {
    "execution": {
     "iopub.execute_input": "2025-06-16T11:15:55.304229Z",
     "iopub.status.busy": "2025-06-16T11:15:55.303778Z",
     "iopub.status.idle": "2025-06-16T11:15:55.471865Z",
     "shell.execute_reply": "2025-06-16T11:15:55.470974Z"
    }
   },
   "outputs": [
    {
     "data": {
      "text/plain": [
       "True"
      ]
     },
     "execution_count": 24,
     "metadata": {},
     "output_type": "execute_result"
    }
   ],
   "source": [
    "delete(resource_id=curve_id)"
   ]
  },
  {
   "cell_type": "markdown",
   "metadata": {},
   "source": [
    "### By name and space unique pair:"
   ]
  },
  {
   "cell_type": "code",
   "execution_count": 25,
   "metadata": {
    "execution": {
     "iopub.execute_input": "2025-06-16T11:15:55.474649Z",
     "iopub.status.busy": "2025-06-16T11:15:55.474413Z",
     "iopub.status.idle": "2025-06-16T11:15:55.950470Z",
     "shell.execute_reply": "2025-06-16T11:15:55.949839Z"
    }
   },
   "outputs": [
    {
     "data": {
      "text/plain": [
       "True"
      ]
     },
     "execution_count": 25,
     "metadata": {},
     "output_type": "execute_result"
    }
   ],
   "source": [
    "new_curve = FxForwardCurve(\n",
    "    definition=FxForwardCurveDefinition(cross_currency=\"GPBEUR\"),\n",
    "    description=Description(summary=\"GPBCurve\", tags=[\"GPB\", \"EUR\"]),\n",
    ")\n",
    "\n",
    "new_curve.save(name=\"new_curve\", space=\"newspace\")\n",
    "\n",
    "delete(name=\"new_curve\", space=\"newspace\")"
   ]
  }
 ],
 "metadata": {
  "kernelspec": {
   "display_name": "Python 3",
   "language": "python",
   "name": "python3"
  },
  "language_info": {
   "codemirror_mode": {
    "name": "ipython",
    "version": 3
   },
   "file_extension": ".py",
   "mimetype": "text/x-python",
   "name": "python",
   "nbconvert_exporter": "python",
   "pygments_lexer": "ipython3",
   "version": "3.11.6"
  }
 },
 "nbformat": 4,
 "nbformat_minor": 2
}
