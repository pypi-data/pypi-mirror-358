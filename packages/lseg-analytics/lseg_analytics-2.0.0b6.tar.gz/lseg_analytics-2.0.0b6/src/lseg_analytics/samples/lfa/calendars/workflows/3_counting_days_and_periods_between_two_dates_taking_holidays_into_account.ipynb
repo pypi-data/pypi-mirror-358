{
 "cells": [
  {
   "cell_type": "markdown",
   "metadata": {},
   "source": [
    "# Counting days and periods between two dates, taking holidays into account\n",
    "This notebook explains how to count periods and days between two dates, taking holidays into account. The example demonstrates how to do this referencing an individual calendar or multiple calendars."
   ]
  },
  {
   "cell_type": "markdown",
   "metadata": {},
   "source": [
    "## Start by importing the required libraries"
   ]
  },
  {
   "cell_type": "code",
   "execution_count": 1,
   "metadata": {
    "execution": {
     "iopub.execute_input": "2025-06-16T11:16:20.682211Z",
     "iopub.status.busy": "2025-06-16T11:16:20.681950Z",
     "iopub.status.idle": "2025-06-16T11:16:21.050611Z",
     "shell.execute_reply": "2025-06-16T11:16:21.049757Z"
    }
   },
   "outputs": [],
   "source": [
    "from lseg_analytics.reference_data import calendars\n",
    "from lseg_analytics.common import PeriodType"
   ]
  },
  {
   "cell_type": "markdown",
   "metadata": {},
   "source": [
    "## Load an individual calendar\n",
    "To load the calendar, you need to provide the space where to load the calendar from and the name of the calendar. The space can either be 'HOME' or 'LSEG'. This example loads an LSEG-defined calendar, so it loads the calendar from the 'LSEG' space. \n",
    "\n",
    "To see the possible calendar names, place your cursor after the equals sign and trigger the autocompletion using the _Trigger Suggest_ command (`Ctrl`/`Cmd` + `i`)."
   ]
  },
  {
   "cell_type": "code",
   "execution_count": 2,
   "metadata": {
    "execution": {
     "iopub.execute_input": "2025-06-16T11:16:21.054534Z",
     "iopub.status.busy": "2025-06-16T11:16:21.053381Z",
     "iopub.status.idle": "2025-06-16T11:16:21.595263Z",
     "shell.execute_reply": "2025-06-16T11:16:21.594725Z"
    }
   },
   "outputs": [],
   "source": [
    "lseg_ukg_cal = calendars.load(name=\"UKG\", space = \"LSEG\")"
   ]
  },
  {
   "cell_type": "markdown",
   "metadata": {},
   "source": [
    "## Count the working days\n",
    "Select the period in which you want to count the working days by setting the start_date and end_date. Specify the tenors to set each date that you wish to compute. Hover over 'PeriodType' to see the possible options. "
   ]
  },
  {
   "cell_type": "code",
   "execution_count": 3,
   "metadata": {
    "execution": {
     "iopub.execute_input": "2025-06-16T11:16:21.598142Z",
     "iopub.status.busy": "2025-06-16T11:16:21.597799Z",
     "iopub.status.idle": "2025-06-16T11:16:21.732175Z",
     "shell.execute_reply": "2025-06-16T11:16:21.731662Z"
    }
   },
   "outputs": [],
   "source": [
    "# Count working days between the 1st of January and the 31st of July 2024\n",
    "count = lseg_ukg_cal.count_periods(\n",
    "    start_date=\"2024-01-01\",\n",
    "    end_date=\"2024-07-31\",\n",
    "    period_type = PeriodType.WORKING_DAY\n",
    ")"
   ]
  },
  {
   "cell_type": "markdown",
   "metadata": {},
   "source": [
    "## Print the computed dates"
   ]
  },
  {
   "cell_type": "code",
   "execution_count": 4,
   "metadata": {
    "execution": {
     "iopub.execute_input": "2025-06-16T11:16:21.735239Z",
     "iopub.status.busy": "2025-06-16T11:16:21.734846Z",
     "iopub.status.idle": "2025-06-16T11:16:21.738320Z",
     "shell.execute_reply": "2025-06-16T11:16:21.737766Z"
    }
   },
   "outputs": [
    {
     "name": "stdout",
     "output_type": "stream",
     "text": [
      "{'count': 147.0, 'periodType': 'WorkingDay'}\n"
     ]
    }
   ],
   "source": [
    "# Display the number of counted periods\n",
    "print(count)"
   ]
  },
  {
   "cell_type": "markdown",
   "metadata": {},
   "source": [
    "## Reference multiple calendars\n",
    "To follow the same process for multiple calendars, simply pass the names of the calendars into the 'count_periods' method in the format 'SPACE/NAME'"
   ]
  },
  {
   "cell_type": "code",
   "execution_count": 5,
   "metadata": {
    "execution": {
     "iopub.execute_input": "2025-06-16T11:16:21.740636Z",
     "iopub.status.busy": "2025-06-16T11:16:21.740402Z",
     "iopub.status.idle": "2025-06-16T11:16:21.948337Z",
     "shell.execute_reply": "2025-06-16T11:16:21.947843Z"
    }
   },
   "outputs": [
    {
     "name": "stdout",
     "output_type": "stream",
     "text": [
      "{'count': 136.0, 'periodType': 'WorkingDay'}\n"
     ]
    }
   ],
   "source": [
    "# Count working days between the 1st of January and the 31st of July 2024\n",
    "count = calendars.count_periods(\n",
    "    calendars=[\n",
    "        \"LSEG/UKG\",\n",
    "        \"LSEG/EUR\",\n",
    "        \"LSEG/USA\",\n",
    "        \"LSEG/HKG\",\n",
    "    ],   \n",
    "    start_date=\"2024-01-01\",\n",
    "    end_date=\"2024-07-31\",\n",
    "    period_type = PeriodType.WORKING_DAY\n",
    ")\n",
    " \n",
    "# Display the number of counted periods\n",
    "print(count)"
   ]
  }
 ],
 "metadata": {
  "kernelspec": {
   "display_name": ".venv",
   "language": "python",
   "name": "python3"
  },
  "language_info": {
   "codemirror_mode": {
    "name": "ipython",
    "version": 3
   },
   "file_extension": ".py",
   "mimetype": "text/x-python",
   "name": "python",
   "nbconvert_exporter": "python",
   "pygments_lexer": "ipython3",
   "version": "3.11.6"
  }
 },
 "nbformat": 4,
 "nbformat_minor": 2
}
