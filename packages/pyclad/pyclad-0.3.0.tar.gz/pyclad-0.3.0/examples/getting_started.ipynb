{
 "cells": [
  {
   "metadata": {},
   "cell_type": "markdown",
   "source": "# Getting Started with the `pyCLAD` library",
   "id": "1af66810d6fe7c75"
  },
  {
   "metadata": {},
   "cell_type": "markdown",
   "source": [
    "## Installation\n",
    "\n",
    "To install the `pyCLAD` library, you can use pip or conda."
   ],
   "id": "13a8d3a7d736b65b"
  },
  {
   "cell_type": "code",
   "id": "initial_id",
   "metadata": {
    "collapsed": true,
    "ExecuteTime": {
     "end_time": "2025-06-19T12:00:12.436404Z",
     "start_time": "2025-06-19T12:00:10.141714Z"
    }
   },
   "source": "! pip install pyclad",
   "outputs": [
    {
     "name": "stdout",
     "output_type": "stream",
     "text": [
      "Requirement already satisfied: pyclad in /home/nyder/research/lifelong learning/pyclad/.venv/lib/python3.11/site-packages (0.2.0)\r\n",
      "Requirement already satisfied: numpy>=2.0.0 in /home/nyder/research/lifelong learning/pyclad/.venv/lib64/python3.11/site-packages (from pyclad) (2.0.0)\r\n",
      "Requirement already satisfied: pyod>=2.0.1 in /home/nyder/research/lifelong learning/pyclad/.venv/lib/python3.11/site-packages (from pyclad) (2.0.1)\r\n",
      "Requirement already satisfied: scikit-learn>=1.5.0 in /home/nyder/research/lifelong learning/pyclad/.venv/lib64/python3.11/site-packages (from pyclad) (1.5.0)\r\n",
      "Requirement already satisfied: seaborn>=0.13.2 in /home/nyder/research/lifelong learning/pyclad/.venv/lib/python3.11/site-packages (from pyclad) (0.13.2)\r\n",
      "Requirement already satisfied: joblib in /home/nyder/research/lifelong learning/pyclad/.venv/lib/python3.11/site-packages (from pyod>=2.0.1->pyclad) (1.4.2)\r\n",
      "Requirement already satisfied: matplotlib in /home/nyder/research/lifelong learning/pyclad/.venv/lib64/python3.11/site-packages (from pyod>=2.0.1->pyclad) (3.9.1)\r\n",
      "Requirement already satisfied: numba>=0.51 in /home/nyder/research/lifelong learning/pyclad/.venv/lib64/python3.11/site-packages (from pyod>=2.0.1->pyclad) (0.60.0)\r\n",
      "Requirement already satisfied: scipy>=1.5.1 in /home/nyder/research/lifelong learning/pyclad/.venv/lib64/python3.11/site-packages (from pyod>=2.0.1->pyclad) (1.14.0)\r\n",
      "Requirement already satisfied: threadpoolctl>=3.1.0 in /home/nyder/research/lifelong learning/pyclad/.venv/lib/python3.11/site-packages (from scikit-learn>=1.5.0->pyclad) (3.5.0)\r\n",
      "Requirement already satisfied: pandas>=1.2 in /home/nyder/research/lifelong learning/pyclad/.venv/lib64/python3.11/site-packages (from seaborn>=0.13.2->pyclad) (2.2.2)\r\n",
      "Requirement already satisfied: contourpy>=1.0.1 in /home/nyder/research/lifelong learning/pyclad/.venv/lib64/python3.11/site-packages (from matplotlib->pyod>=2.0.1->pyclad) (1.2.1)\r\n",
      "Requirement already satisfied: cycler>=0.10 in /home/nyder/research/lifelong learning/pyclad/.venv/lib/python3.11/site-packages (from matplotlib->pyod>=2.0.1->pyclad) (0.12.1)\r\n",
      "Requirement already satisfied: fonttools>=4.22.0 in /home/nyder/research/lifelong learning/pyclad/.venv/lib64/python3.11/site-packages (from matplotlib->pyod>=2.0.1->pyclad) (4.53.1)\r\n",
      "Requirement already satisfied: kiwisolver>=1.3.1 in /home/nyder/research/lifelong learning/pyclad/.venv/lib64/python3.11/site-packages (from matplotlib->pyod>=2.0.1->pyclad) (1.4.5)\r\n",
      "Requirement already satisfied: packaging>=20.0 in /home/nyder/research/lifelong learning/pyclad/.venv/lib/python3.11/site-packages (from matplotlib->pyod>=2.0.1->pyclad) (24.1)\r\n",
      "Requirement already satisfied: pillow>=8 in /home/nyder/research/lifelong learning/pyclad/.venv/lib64/python3.11/site-packages (from matplotlib->pyod>=2.0.1->pyclad) (10.4.0)\r\n",
      "Requirement already satisfied: pyparsing>=2.3.1 in /home/nyder/research/lifelong learning/pyclad/.venv/lib/python3.11/site-packages (from matplotlib->pyod>=2.0.1->pyclad) (3.1.2)\r\n",
      "Requirement already satisfied: python-dateutil>=2.7 in /home/nyder/research/lifelong learning/pyclad/.venv/lib/python3.11/site-packages (from matplotlib->pyod>=2.0.1->pyclad) (2.9.0.post0)\r\n",
      "Requirement already satisfied: llvmlite<0.44,>=0.43.0dev0 in /home/nyder/research/lifelong learning/pyclad/.venv/lib64/python3.11/site-packages (from numba>=0.51->pyod>=2.0.1->pyclad) (0.43.0)\r\n",
      "Requirement already satisfied: pytz>=2020.1 in /home/nyder/research/lifelong learning/pyclad/.venv/lib/python3.11/site-packages (from pandas>=1.2->seaborn>=0.13.2->pyclad) (2024.1)\r\n",
      "Requirement already satisfied: tzdata>=2022.7 in /home/nyder/research/lifelong learning/pyclad/.venv/lib/python3.11/site-packages (from pandas>=1.2->seaborn>=0.13.2->pyclad) (2024.1)\r\n",
      "Requirement already satisfied: six>=1.5 in /home/nyder/research/lifelong learning/pyclad/.venv/lib/python3.11/site-packages (from python-dateutil>=2.7->matplotlib->pyod>=2.0.1->pyclad) (1.16.0)\r\n",
      "\r\n",
      "\u001B[1m[\u001B[0m\u001B[34;49mnotice\u001B[0m\u001B[1;39;49m]\u001B[0m\u001B[39;49m A new release of pip is available: \u001B[0m\u001B[31;49m23.2.1\u001B[0m\u001B[39;49m -> \u001B[0m\u001B[32;49m25.1.1\u001B[0m\r\n",
      "\u001B[1m[\u001B[0m\u001B[34;49mnotice\u001B[0m\u001B[1;39;49m]\u001B[0m\u001B[39;49m To update, run: \u001B[0m\u001B[32;49mpip install --upgrade pip\u001B[0m\r\n"
     ]
    }
   ],
   "execution_count": 1
  },
  {
   "metadata": {},
   "cell_type": "markdown",
   "source": "# Importing the library",
   "id": "9a5c0e1ce16462"
  },
  {
   "metadata": {
    "ExecuteTime": {
     "end_time": "2025-06-19T12:00:12.625574Z",
     "start_time": "2025-06-19T12:00:12.622044Z"
    }
   },
   "cell_type": "code",
   "source": "import pyclad",
   "id": "bc3644ec57ef1d23",
   "outputs": [],
   "execution_count": 2
  },
  {
   "metadata": {},
   "cell_type": "markdown",
   "source": [
    "# Example usage\n",
    "In this example, we will show how to use the `pyCLAD` library with a simple synthetic dataset to demonstrate the functionality of the library."
   ],
   "id": "c09f884f33bae500"
  },
  {
   "metadata": {},
   "cell_type": "markdown",
   "source": [
    "## Dataset creation\n",
    "We start with creating a synthetic dataset with three concepts, each having training and testing data. The `Concept` class is used to represent each concept."
   ],
   "id": "66232291a0d8f10"
  },
  {
   "metadata": {
    "ExecuteTime": {
     "end_time": "2025-06-19T12:00:12.879088Z",
     "start_time": "2025-06-19T12:00:12.671536Z"
    }
   },
   "cell_type": "code",
   "source": [
    "import numpy as np\n",
    "from pyclad.data.concept import Concept\n",
    "\n",
    "concept1_train = Concept(\"concept1\", data=np.random.rand(100, 10))\n",
    "concept1_test = Concept(\"concept1\", data=np.random.rand(100, 10), labels=np.random.randint(0, 2, 100))\n",
    "\n",
    "concept2_train = Concept(\"concept2\", data=np.random.rand(100, 10))\n",
    "concept2_test = Concept(\"concept2\", data=np.random.rand(100, 10), labels=np.random.randint(0, 2, 100))\n",
    "\n",
    "concept3_train = Concept(\"concept3\", data=np.random.rand(100, 10))\n",
    "concept3_test = Concept(\"concept3\", data=np.random.rand(100, 10), labels=np.random.randint(0, 2, 100))\n"
   ],
   "id": "6d5acc71ad1a9e89",
   "outputs": [],
   "execution_count": 3
  },
  {
   "metadata": {
    "ExecuteTime": {
     "end_time": "2025-06-19T12:00:12.919573Z",
     "start_time": "2025-06-19T12:00:12.914720Z"
    }
   },
   "cell_type": "code",
   "source": [
    "from pyclad.data.datasets.concepts_dataset import ConceptsDataset\n",
    "\n",
    "dataset = ConceptsDataset(\n",
    "    name=\"GeneratedDataset\",\n",
    "    train_concepts=[concept1_train, concept2_train, concept3_train],\n",
    "    test_concepts=[concept1_test, concept2_test, concept3_test],\n",
    ")\n"
   ],
   "id": "77a8e81525830ed8",
   "outputs": [],
   "execution_count": 4
  },
  {
   "metadata": {},
   "cell_type": "markdown",
   "source": [
    "## Model\n",
    "The next step is to define a model that will be used for anomaly detection. In this example, we will use the `OneClassSVM` model from the `pyod` library, which is adapted to work with the `pyCLAD` library. `pyCLAD` provides adapters for various models, allowing you to use them seamlessly within the library's framework. It is also possile to implement your own model if needed."
   ],
   "id": "6e001c0c1325eb8a"
  },
  {
   "metadata": {
    "ExecuteTime": {
     "end_time": "2025-06-19T12:00:14.780637Z",
     "start_time": "2025-06-19T12:00:13.033066Z"
    }
   },
   "cell_type": "code",
   "source": [
    "from pyclad.models.adapters.pyod_adapters import OneClassSVMAdapter\n",
    "\n",
    "model = OneClassSVMAdapter()"
   ],
   "id": "c69e01a13b86d65d",
   "outputs": [],
   "execution_count": 5
  },
  {
   "metadata": {},
   "cell_type": "markdown",
   "source": [
    "## Strategy\n",
    "\n",
    "The next step is defining a continual learning strategy that is responsible for managing the learning process across different concepts and ensuring that the model can adapt to new data without forgetting previous knowledge. In this example, we will use a simple cumulative strategy, which trains the model on all available data from previous concepts."
   ],
   "id": "b26fe5b6e5907365"
  },
  {
   "metadata": {
    "ExecuteTime": {
     "end_time": "2025-06-19T12:00:14.826298Z",
     "start_time": "2025-06-19T12:00:14.821961Z"
    }
   },
   "cell_type": "code",
   "source": [
    "from pyclad.strategies.baselines.cumulative import CumulativeStrategy\n",
    "\n",
    "strategy = CumulativeStrategy(model)"
   ],
   "id": "6ba0c880d40497c9",
   "outputs": [],
   "execution_count": 6
  },
  {
   "metadata": {},
   "cell_type": "markdown",
   "source": [
    "## Callbacks definition\n",
    "\n",
    "`pyCLAD` follows a callback-based architecture, allowing you to monitor and evaluate the model's performance during training and testing. You can define custom callbacks or use built-in ones to track metrics, log information, and visualize results. In this example, we will use the `RocAuc` metric to evaluate the model's performance on each concept. We also define `TimeEvaluationCallback` to measure the execution time."
   ],
   "id": "49dd1535079dcfa5"
  },
  {
   "metadata": {
    "ExecuteTime": {
     "end_time": "2025-06-19T12:00:14.877375Z",
     "start_time": "2025-06-19T12:00:14.870221Z"
    }
   },
   "cell_type": "code",
   "source": [
    "from pyclad.metrics.continual.backward_transfer import BackwardTransfer\n",
    "from pyclad.metrics.continual.average_continual import ContinualAverage\n",
    "from pyclad.metrics.base.roc_auc import RocAuc\n",
    "from pyclad.metrics.continual.forward_transfer import ForwardTransfer\n",
    "from pyclad.callbacks.evaluation.concept_metric_evaluation import ConceptMetricCallback\n",
    "from pyclad.callbacks.evaluation.time_evaluation import TimeEvaluationCallback\n",
    "\n",
    "time_callback = TimeEvaluationCallback()\n",
    "metric_callback = ConceptMetricCallback(\n",
    "    base_metric=RocAuc(), metrics=[ContinualAverage(), BackwardTransfer(), ForwardTransfer()]\n",
    ")\n"
   ],
   "id": "142bc5c25e13a801",
   "outputs": [],
   "execution_count": 7
  },
  {
   "metadata": {},
   "cell_type": "markdown",
   "source": [
    "## Scenario creation & execution\n",
    "\n",
    "The scenario class is responsible for orchestrating the entire process, including dataset loading, model training, and evaluation. You can create a scenario by providing the dataset, strategy, and callbacks. The scenario handles the execution process that depends on the selected scenario type. In this example, we will use the `ConceptAgnosticScenario`, which means that the model is not aware of the concept boundaries."
   ],
   "id": "a1955308a0e7894b"
  },
  {
   "metadata": {
    "ExecuteTime": {
     "end_time": "2025-06-19T12:00:14.988410Z",
     "start_time": "2025-06-19T12:00:14.953332Z"
    }
   },
   "cell_type": "code",
   "source": [
    "from pyclad.scenarios.concept_agnostic import ConceptAgnosticScenario\n",
    "\n",
    "scenario = ConceptAgnosticScenario(dataset=dataset, strategy=strategy, callbacks=[metric_callback, time_callback])\n",
    "scenario.run()"
   ],
   "id": "9c100c97652ce0c3",
   "outputs": [],
   "execution_count": 8
  },
  {
   "metadata": {},
   "cell_type": "markdown",
   "source": [
    "## See the results from callbacks\n",
    "We can inspect the results of the callbacks to see how the model performed on each concept and how the metrics evolved over time. All callbacks provide an `info()` method that prints the results in a dict-like format."
   ],
   "id": "e59be85629979734"
  },
  {
   "metadata": {
    "ExecuteTime": {
     "end_time": "2025-06-19T12:00:15.041042Z",
     "start_time": "2025-06-19T12:00:15.033103Z"
    }
   },
   "cell_type": "code",
   "source": "metric_callback.info()",
   "id": "c6c11d973fdf6d60",
   "outputs": [
    {
     "data": {
      "text/plain": [
       "{'concept_metric_callback_ROC-AUC': {'base_metric_name': 'ROC-AUC',\n",
       "  'metrics': {'ContinualAverage': np.float64(0.48015482609381044),\n",
       "   'BackwardTransfer': np.float64(0.004275623292795387),\n",
       "   'ForwardTransfer': np.float64(0.5273225003659786)},\n",
       "  'concepts_order': ['concept1', 'concept2', 'concept3'],\n",
       "  'metric_matrix': defaultdict(dict,\n",
       "              {'concept1': {'concept1': np.float64(0.48579431772709086),\n",
       "                'concept2': np.float64(0.4033816425120773),\n",
       "                'concept3': np.float64(0.5991919191919192)},\n",
       "               'concept2': {'concept1': np.float64(0.491796718687475),\n",
       "                'concept2': np.float64(0.40700483091787437),\n",
       "                'concept3': np.float64(0.5793939393939394)},\n",
       "               'concept3': {'concept1': np.float64(0.4949979991996799),\n",
       "                'concept2': np.float64(0.4106280193236715),\n",
       "                'concept3': np.float64(0.5907070707070707)}})}}"
      ]
     },
     "execution_count": 9,
     "metadata": {},
     "output_type": "execute_result"
    }
   ],
   "execution_count": 9
  },
  {
   "metadata": {
    "ExecuteTime": {
     "end_time": "2025-06-19T12:00:15.120927Z",
     "start_time": "2025-06-19T12:00:15.116379Z"
    }
   },
   "cell_type": "code",
   "source": "time_callback.info()",
   "id": "856b1d6c636cac27",
   "outputs": [
    {
     "data": {
      "text/plain": [
       "{'time_evaluation_callback': {'time_by_concept': defaultdict(<function pyclad.callbacks.evaluation.time_evaluation.TimeEvaluationCallback.__init__.<locals>.<lambda>()>,\n",
       "              {'concept1': {'train_time': 0.0021162033081054688,\n",
       "                'eval_time': 0.007302761077880859},\n",
       "               'concept2': {'train_time': 0.0030100345611572266,\n",
       "                'eval_time': 0.0068700313568115234},\n",
       "               'concept3': {'train_time': 0.004237174987792969,\n",
       "                'eval_time': 0.006573915481567383}}),\n",
       "  'train_time_total': 0.009363412857055664,\n",
       "  'eval_time_total': 0.020746707916259766}}"
      ]
     },
     "execution_count": 10,
     "metadata": {},
     "output_type": "execute_result"
    }
   ],
   "execution_count": 10
  },
  {
   "metadata": {},
   "cell_type": "markdown",
   "source": [
    "## Write results to file\n",
    "We can leverage the `JsonOutputWriter` to save the results of the scenario execution saved in the callbacks, as well as an additional information about the model, dataset, and strategy. This allows for easy sharing and reproducibility of the results."
   ],
   "id": "73042e8fdd095a15"
  },
  {
   "metadata": {
    "ExecuteTime": {
     "end_time": "2025-06-19T12:00:26.571206Z",
     "start_time": "2025-06-19T12:00:26.562761Z"
    }
   },
   "cell_type": "code",
   "source": [
    "import pathlib\n",
    "from pyclad.output.json_writer import JsonOutputWriter\n",
    "\n",
    "# Save the results\n",
    "output_writer = JsonOutputWriter(pathlib.Path(\"output.json\"))\n",
    "output_writer.write([model, dataset, strategy, metric_callback, time_callback])\n"
   ],
   "id": "18c11f6d66c27cb1",
   "outputs": [],
   "execution_count": 11
  },
  {
   "metadata": {},
   "cell_type": "markdown",
   "source": [
    "# UNSW Dataset Example\n",
    "We can also leverage real-world datasets to test the functionality of the `pyCLAD` library. In this example, we will use the UNSW dataset, which is a well-known dataset for anomaly detection tasks. The dataset is adapted to continual anomaly detection. `pyCLAD` provides a few datasets out of the box, including the UNSW dataset. You can find more datasets in the `pyclad.data.datasets` module. It is also possible to implement your own dataset by following the structure of the existing datasets (see [docs](https://pyclad.readthedocs.io/en/latest/) for more details)."
   ],
   "id": "4b56230c2a7aeb4e"
  },
  {
   "metadata": {},
   "cell_type": "code",
   "outputs": [],
   "execution_count": null,
   "source": [
    "import logging\n",
    "import pathlib\n",
    "\n",
    "from pyod.models.vae import VAE\n",
    "\n",
    "from pyclad.callbacks.evaluation.concept_metric_evaluation import ConceptMetricCallback\n",
    "from pyclad.callbacks.evaluation.memory_usage import MemoryUsageCallback\n",
    "from pyclad.callbacks.evaluation.time_evaluation import TimeEvaluationCallback\n",
    "from pyclad.data.datasets.unsw_dataset import UnswDataset\n",
    "from pyclad.metrics.base.roc_auc import RocAuc\n",
    "from pyclad.metrics.continual.average_continual import ContinualAverage\n",
    "from pyclad.metrics.continual.backward_transfer import BackwardTransfer\n",
    "from pyclad.metrics.continual.forward_transfer import ForwardTransfer\n",
    "from pyclad.models.adapters.pyod_adapters import PyODAdapter\n",
    "from pyclad.output.json_writer import JsonOutputWriter\n",
    "from pyclad.scenarios.concept_aware import ConceptAwareScenario\n",
    "from pyclad.strategies.replay.buffers.adaptive_balanced import (\n",
    "    AdaptiveBalancedReplayBuffer,\n",
    ")\n",
    "from pyclad.strategies.replay.replay import ReplayEnhancedStrategy\n",
    "from pyclad.strategies.replay.selection.random import RandomSelection\n",
    "\n",
    "logging.basicConfig(level=logging.INFO, handlers=[logging.FileHandler(\"debug.log\"), logging.StreamHandler()])\n",
    "\n",
    "\"\"\"\n",
    "This example showcase how to run a concept aware scenario using the UNSW dataset adopted to continual anomaly\n",
    "detection using the method proposed here <https://github.com/lifelonglab/lifelong-anomaly-detection-scenarios>\n",
    "\"\"\"\n",
    "dataset = UnswDataset(dataset_type=\"random_anomalies\")\n",
    "model = PyODAdapter(\n",
    "    VAE(\n",
    "        encoder_neuron_list=[32, 24, 16],\n",
    "        decoder_neuron_list=[16, 24, 32],\n",
    "        latent_dim=8,\n",
    "        epoch_num=20,\n",
    "        preprocessing=False,\n",
    "    ),\n",
    "    model_name=\"VAE\",\n",
    ")\n",
    "replay_buffer = AdaptiveBalancedReplayBuffer(selection_method=RandomSelection(), max_size=1000)\n",
    "strategy = ReplayEnhancedStrategy(model, replay_buffer)\n",
    "callbacks = [\n",
    "    ConceptMetricCallback(\n",
    "        base_metric=RocAuc(),\n",
    "        metrics=[ContinualAverage(), BackwardTransfer(), ForwardTransfer()],\n",
    "    ),\n",
    "    TimeEvaluationCallback(),\n",
    "    MemoryUsageCallback(),\n",
    "]\n",
    "scenario = ConceptAwareScenario(dataset, strategy=strategy, callbacks=callbacks)\n",
    "scenario.run()\n",
    "\n",
    "output_writer = JsonOutputWriter(pathlib.Path(\"output-unsw.json\"))\n",
    "output_writer.write([model, dataset, strategy, *callbacks])\n"
   ],
   "id": "61aaabe727fb4e54"
  },
  {
   "metadata": {},
   "cell_type": "markdown",
   "source": [
    "# Try it yourself!\n",
    "In this section, we will guide you through the process of running experiments with different datasets, models, and strategies using the `pyCLAD` library. You can follow the steps below to set up your own experiments and analyze the results. You will experiment with two strategies on the same dataset to compare their performance. This will help you understand how different strategies affect the performance of the model on the same dataset."
   ],
   "id": "58121a43d73a9d31"
  },
  {
   "metadata": {
    "ExecuteTime": {
     "end_time": "2025-06-25T07:27:52.475696Z",
     "start_time": "2025-06-25T07:27:49.591619Z"
    }
   },
   "cell_type": "code",
   "source": [
    "# Imports\n",
    "\n",
    "import pathlib\n",
    "\n",
    "# Datasets\n",
    "from pyclad.data.datasets.unsw_dataset import UnswDataset\n",
    "from pyclad.data.datasets.nsl_kdd_dataset import NslKddDataset\n",
    "from pyclad.data.datasets.wind_energy_dataset import WindEnergyDataset\n",
    "from pyclad.data.datasets.energy_plants_dataset import EnergyPlantsDataset\n",
    "\n",
    "\n",
    "# Scenarios\n",
    "from pyclad.scenarios.concept_aware import ConceptAwareScenario\n",
    "\n",
    "# Models\n",
    "from pyclad.models.adapters.pyod_adapters import IsolationForestAdapter, OneClassSVMAdapter, LocalOutlierFactorAdapter, PyODAdapter\n",
    "\n",
    "# Strategies\n",
    "from pyclad.strategies.baselines.cumulative import CumulativeStrategy\n",
    "from pyclad.strategies.baselines.naive import NaiveStrategy\n",
    "from pyclad.strategies.replay.replay import ReplayEnhancedStrategy\n",
    "\n",
    "# Additional imports for replay strategies\n",
    "from pyclad.strategies.replay.buffers.adaptive_balanced import (\n",
    "    AdaptiveBalancedReplayBuffer,\n",
    ")\n",
    "from pyclad.strategies.replay.selection.random import RandomSelection\n",
    "\n",
    "\n",
    "# Callback and metrics\n",
    "from pyclad.callbacks.evaluation.concept_metric_evaluation import ConceptMetricCallback\n",
    "from pyclad.callbacks.evaluation.memory_usage import MemoryUsageCallback\n",
    "from pyclad.callbacks.evaluation.time_evaluation import TimeEvaluationCallback\n",
    "from pyclad.metrics.base.roc_auc import RocAuc\n",
    "from pyclad.metrics.continual.average_continual import ContinualAverage\n",
    "from pyclad.metrics.continual.backward_transfer import BackwardTransfer\n",
    "from pyclad.metrics.continual.forward_transfer import ForwardTransfer\n",
    "from pyclad.output.json_writer import JsonOutputWriter\n"
   ],
   "id": "62512d18558f63bb",
   "outputs": [
    {
     "name": "stderr",
     "output_type": "stream",
     "text": [
      "/home/nyder/research/lifelong learning/pyclad/.venv/lib/python3.11/site-packages/tqdm/auto.py:21: TqdmWarning: IProgress not found. Please update jupyter and ipywidgets. See https://ipywidgets.readthedocs.io/en/stable/user_install.html\n",
      "  from .autonotebook import tqdm as notebook_tqdm\n"
     ]
    }
   ],
   "execution_count": 3
  },
  {
   "metadata": {},
   "cell_type": "markdown",
   "source": "Select the dataset that you want to use.",
   "id": "fcd98444f7271a7d"
  },
  {
   "metadata": {},
   "cell_type": "code",
   "outputs": [],
   "execution_count": null,
   "source": "dataset = ...  # Replace with your dataset, e.g., `UnswDataset(dataset_type=\"random_anomalies\")`",
   "id": "6e6fea7eac2fa8a0"
  },
  {
   "metadata": {},
   "cell_type": "markdown",
   "source": "Select the base model that you want to use. You can choose from the available models in `pyCLAD` or implement your own model.",
   "id": "e0343dea27a1cc5e"
  },
  {
   "metadata": {
    "ExecuteTime": {
     "end_time": "2025-06-24T16:00:02.364051Z",
     "start_time": "2025-06-24T16:00:02.359625Z"
    }
   },
   "cell_type": "code",
   "source": "model = ...  # Replace with your model, e.g., `IsolationForestAdapter()`",
   "id": "e18f1f3b7b179633",
   "outputs": [],
   "execution_count": 1
  },
  {
   "metadata": {},
   "cell_type": "markdown",
   "source": "Select the strategy that you want to use. You can choose from the available strategies in `pyCLAD` or implement your own strategy.",
   "id": "9c4a5b47b455cf38"
  },
  {
   "metadata": {
    "ExecuteTime": {
     "end_time": "2025-06-24T16:00:35.400801Z",
     "start_time": "2025-06-24T16:00:35.397723Z"
    }
   },
   "cell_type": "code",
   "source": "strategy = ...  # Replace with your strategy, e.g., `CumulativeStrategy(model)`",
   "id": "4933b9585b9dc41f",
   "outputs": [],
   "execution_count": 2
  },
  {
   "metadata": {},
   "cell_type": "markdown",
   "source": "Let's run the experiment with the selected dataset, model, and strategy. We will also use the `ConceptMetricCallback` to evaluate the model's performance on each concept and the `TimeEvaluationCallback` to measure the execution time. The results will be saved to a JSON file (`output-strategy1.json`) using the `JsonOutputWriter`.",
   "id": "249f3516cd57d53a"
  },
  {
   "metadata": {},
   "cell_type": "code",
   "outputs": [],
   "execution_count": null,
   "source": [
    "# Run the experiment\n",
    "callbacks = [\n",
    "    ConceptMetricCallback(\n",
    "        base_metric=RocAuc(),\n",
    "        metrics=[ContinualAverage(), BackwardTransfer(), ForwardTransfer()],\n",
    "    ),\n",
    "    TimeEvaluationCallback(),\n",
    "    MemoryUsageCallback(),\n",
    "]\n",
    "scenario = ConceptAwareScenario(dataset, strategy=strategy, callbacks=callbacks)\n",
    "scenario.run()\n",
    "\n",
    "output_writer = JsonOutputWriter(pathlib.Path(\"output-strategy1.json\"))\n",
    "output_writer.write([model, dataset, strategy, *callbacks])\n",
    "\n"
   ],
   "id": "f890bb0a0fbc8eb2"
  },
  {
   "metadata": {},
   "cell_type": "markdown",
   "source": "Let's recreate the model and select another strategy to compare the results with the previous experiment. This will help you understand how different strategies affect the performance of the model on the same dataset.",
   "id": "206304a1299409ef"
  },
  {
   "metadata": {},
   "cell_type": "code",
   "outputs": [],
   "execution_count": null,
   "source": "model = ... # Use the same model as before",
   "id": "e59e121361d2e196"
  },
  {
   "metadata": {},
   "cell_type": "markdown",
   "source": "Select a different strategy to compare the results with the previous experiment.",
   "id": "ae2235c93648ce43"
  },
  {
   "metadata": {
    "ExecuteTime": {
     "end_time": "2025-06-25T07:21:30.477134Z",
     "start_time": "2025-06-25T07:21:30.470569Z"
    }
   },
   "cell_type": "code",
   "source": "strategy = ...  # Replace with your strategy, e.g., `CumulativeStrategy(model)`",
   "id": "2a1f352c55cca620",
   "outputs": [],
   "execution_count": 1
  },
  {
   "metadata": {},
   "cell_type": "markdown",
   "source": " Now, let's run the experiment again with the new strategy. The results will be saved in `output-strategy2.json` file.",
   "id": "63ad6d51d7e196c9"
  },
  {
   "metadata": {},
   "cell_type": "code",
   "outputs": [],
   "execution_count": null,
   "source": [
    "# Run the experiment\n",
    "callbacks = [\n",
    "    ConceptMetricCallback(\n",
    "        base_metric=RocAuc(),\n",
    "        metrics=[ContinualAverage(), BackwardTransfer(), ForwardTransfer()],\n",
    "    ),\n",
    "    TimeEvaluationCallback(),\n",
    "    MemoryUsageCallback(),\n",
    "]\n",
    "scenario = ConceptAwareScenario(dataset, strategy=strategy, callbacks=callbacks)\n",
    "scenario.run()\n",
    "\n",
    "output_writer = JsonOutputWriter(pathlib.Path(\"output-strategy2.json\"))\n",
    "output_writer.write([model, dataset, strategy, *callbacks])"
   ],
   "id": "17694740cc3eec1"
  },
  {
   "metadata": {},
   "cell_type": "markdown",
   "source": "You can analyze the results from both experiments by inspecting the output files (`output-strategy1.json` and `output-strategy2.json`). This will help you understand how different strategies affect the performance of the model on the same dataset. You can focus on the summarized metrics such as `ContinualAverage`, `BackwardTransfer`, and `ForwardTransfer` to compare the performance of the model across different strategies. You can find them in the `concept_metric_callback_ROC-AUC` -> `metrics` section of the output files.",
   "id": "87f22e9a78fc629d"
  },
  {
   "metadata": {},
   "cell_type": "markdown",
   "source": [
    "# Extend the `pyCLAD` library :)\n",
    "You can try the `pyCLAD` library with your own datasets and models. The library is designed to be flexible and extensible, allowing you to adapt it to your specific needs. You can also contribute to the library by implementing new models, strategies, or datasets. Check out the [documentation](https://pyclad.readthedocs.io/en/latest/) for more information on how to get started."
   ],
   "id": "b3512916de17a38b"
  },
  {
   "metadata": {},
   "cell_type": "markdown",
   "source": "",
   "id": "390ea9788735416"
  }
 ],
 "metadata": {
  "kernelspec": {
   "display_name": "Python 3",
   "language": "python",
   "name": "python3"
  },
  "language_info": {
   "codemirror_mode": {
    "name": "ipython",
    "version": 2
   },
   "file_extension": ".py",
   "mimetype": "text/x-python",
   "name": "python",
   "nbconvert_exporter": "python",
   "pygments_lexer": "ipython2",
   "version": "2.7.6"
  }
 },
 "nbformat": 4,
 "nbformat_minor": 5
}
