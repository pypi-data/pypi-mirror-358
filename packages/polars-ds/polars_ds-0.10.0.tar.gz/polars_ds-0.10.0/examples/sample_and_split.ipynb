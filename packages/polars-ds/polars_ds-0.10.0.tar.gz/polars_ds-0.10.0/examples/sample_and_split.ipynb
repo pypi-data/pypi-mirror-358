{
 "cells": [
  {
   "cell_type": "markdown",
   "metadata": {},
   "source": [
    "# Sampling and Splitting"
   ]
  },
  {
   "cell_type": "markdown",
   "metadata": {},
   "source": [
    "## Sampling\n",
    "\n",
    "Sampling for basic tabular datasets. (Not designed for time series as of now.)"
   ]
  },
  {
   "cell_type": "code",
   "execution_count": 1,
   "metadata": {},
   "outputs": [],
   "source": [
    "import polars as pl\n",
    "import polars_ds as pds\n",
    "import polars_ds.sample_and_split as ss"
   ]
  },
  {
   "cell_type": "code",
   "execution_count": 2,
   "metadata": {},
   "outputs": [
    {
     "data": {
      "text/html": [
       "<div><style>\n",
       ".dataframe > thead > tr,\n",
       ".dataframe > tbody > tr {\n",
       "  text-align: right;\n",
       "  white-space: pre-wrap;\n",
       "}\n",
       "</style>\n",
       "<small>shape: (5, 8)</small><table border=\"1\" class=\"dataframe\"><thead><tr><th>row_num</th><th>uniform_1</th><th>uniform_2</th><th>exp</th><th>normal</th><th>fat_normal</th><th>flags</th><th>category</th></tr><tr><td>i64</td><td>f64</td><td>f64</td><td>f64</td><td>f64</td><td>f64</td><td>i32</td><td>str</td></tr></thead><tbody><tr><td>0</td><td>1.42563</td><td>0.688449</td><td>1.088206</td><td>-1.078369</td><td>-1.638006</td><td>2</td><td>&quot;A&quot;</td></tr><tr><td>1</td><td>7.802092</td><td>0.426101</td><td>2.444241</td><td>-0.686859</td><td>-1176.657982</td><td>2</td><td>&quot;A&quot;</td></tr><tr><td>2</td><td>4.831859</td><td>0.615212</td><td>2.494902</td><td>0.862842</td><td>-384.930746</td><td>2</td><td>&quot;A&quot;</td></tr><tr><td>3</td><td>0.066878</td><td>0.899334</td><td>3.8919</td><td>-1.176123</td><td>147.074087</td><td>1</td><td>&quot;A&quot;</td></tr><tr><td>4</td><td>9.138838</td><td>0.06889</td><td>2.742155</td><td>-0.055659</td><td>-52.394874</td><td>1</td><td>&quot;A&quot;</td></tr></tbody></table></div>"
      ],
      "text/plain": [
       "shape: (5, 8)\n",
       "┌─────────┬───────────┬───────────┬──────────┬───────────┬──────────────┬───────┬──────────┐\n",
       "│ row_num ┆ uniform_1 ┆ uniform_2 ┆ exp      ┆ normal    ┆ fat_normal   ┆ flags ┆ category │\n",
       "│ ---     ┆ ---       ┆ ---       ┆ ---      ┆ ---       ┆ ---          ┆ ---   ┆ ---      │\n",
       "│ i64     ┆ f64       ┆ f64       ┆ f64      ┆ f64       ┆ f64          ┆ i32   ┆ str      │\n",
       "╞═════════╪═══════════╪═══════════╪══════════╪═══════════╪══════════════╪═══════╪══════════╡\n",
       "│ 0       ┆ 1.42563   ┆ 0.688449  ┆ 1.088206 ┆ -1.078369 ┆ -1.638006    ┆ 2     ┆ A        │\n",
       "│ 1       ┆ 7.802092  ┆ 0.426101  ┆ 2.444241 ┆ -0.686859 ┆ -1176.657982 ┆ 2     ┆ A        │\n",
       "│ 2       ┆ 4.831859  ┆ 0.615212  ┆ 2.494902 ┆ 0.862842  ┆ -384.930746  ┆ 2     ┆ A        │\n",
       "│ 3       ┆ 0.066878  ┆ 0.899334  ┆ 3.8919   ┆ -1.176123 ┆ 147.074087   ┆ 1     ┆ A        │\n",
       "│ 4       ┆ 9.138838  ┆ 0.06889   ┆ 2.742155 ┆ -0.055659 ┆ -52.394874   ┆ 1     ┆ A        │\n",
       "└─────────┴───────────┴───────────┴──────────┴───────────┴──────────────┴───────┴──────────┘"
      ]
     },
     "execution_count": 2,
     "metadata": {},
     "output_type": "execute_result"
    }
   ],
   "source": [
    "df = pds.frame(size=100_000).with_columns(\n",
    "    pds.random(0.0, 12.0).alias(\"uniform_1\"),\n",
    "    pds.random(0.0, 1.0).alias(\"uniform_2\"),\n",
    "    pds.random_exp(0.5).alias(\"exp\"),\n",
    "    pds.random_normal(0.0, 1.0).alias(\"normal\"),\n",
    "    pds.random_normal(0.0, 1000.0).alias(\"fat_normal\"),\n",
    "    (pds.random_int(0, 3)).alias(\"flags\"),\n",
    "    pl.Series([\"A\"] * 30_000 + [\"B\"] * 30_000 + [\"C\"] * 40_000).alias(\"category\"),\n",
    ")\n",
    "df.head()"
   ]
  },
  {
   "cell_type": "code",
   "execution_count": 3,
   "metadata": {},
   "outputs": [
    {
     "data": {
      "text/plain": [
       "['row_num', 'flags', 'category']"
      ]
     },
     "execution_count": 3,
     "metadata": {},
     "output_type": "execute_result"
    }
   ],
   "source": [
    "ss.random_cols(df.columns, 2, keep = [\"row_num\"])"
   ]
  },
  {
   "cell_type": "code",
   "execution_count": 4,
   "metadata": {},
   "outputs": [
    {
     "data": {
      "text/html": [
       "<div><style>\n",
       ".dataframe > thead > tr,\n",
       ".dataframe > tbody > tr {\n",
       "  text-align: right;\n",
       "  white-space: pre-wrap;\n",
       "}\n",
       "</style>\n",
       "<small>shape: (60_000, 8)</small><table border=\"1\" class=\"dataframe\"><thead><tr><th>row_num</th><th>uniform_1</th><th>uniform_2</th><th>exp</th><th>normal</th><th>fat_normal</th><th>flags</th><th>category</th></tr><tr><td>i64</td><td>f64</td><td>f64</td><td>f64</td><td>f64</td><td>f64</td><td>i32</td><td>str</td></tr></thead><tbody><tr><td>0</td><td>1.42563</td><td>0.688449</td><td>1.088206</td><td>-1.078369</td><td>-1.638006</td><td>2</td><td>&quot;A&quot;</td></tr><tr><td>2</td><td>4.831859</td><td>0.615212</td><td>2.494902</td><td>0.862842</td><td>-384.930746</td><td>2</td><td>&quot;A&quot;</td></tr><tr><td>4</td><td>9.138838</td><td>0.06889</td><td>2.742155</td><td>-0.055659</td><td>-52.394874</td><td>1</td><td>&quot;A&quot;</td></tr><tr><td>5</td><td>0.638747</td><td>0.120555</td><td>1.538502</td><td>1.718381</td><td>-89.007553</td><td>1</td><td>&quot;A&quot;</td></tr><tr><td>9</td><td>10.706496</td><td>0.841814</td><td>3.118728</td><td>0.711647</td><td>6.35076</td><td>2</td><td>&quot;A&quot;</td></tr><tr><td>&hellip;</td><td>&hellip;</td><td>&hellip;</td><td>&hellip;</td><td>&hellip;</td><td>&hellip;</td><td>&hellip;</td><td>&hellip;</td></tr><tr><td>99993</td><td>2.991675</td><td>0.424785</td><td>1.207897</td><td>-1.353958</td><td>1954.324746</td><td>1</td><td>&quot;C&quot;</td></tr><tr><td>99994</td><td>8.110839</td><td>0.10436</td><td>0.006254</td><td>-0.829466</td><td>-831.69489</td><td>1</td><td>&quot;C&quot;</td></tr><tr><td>99995</td><td>3.62334</td><td>0.571694</td><td>1.225951</td><td>0.053878</td><td>472.492566</td><td>1</td><td>&quot;C&quot;</td></tr><tr><td>99998</td><td>0.242871</td><td>0.236259</td><td>1.314217</td><td>-0.655093</td><td>598.864029</td><td>0</td><td>&quot;C&quot;</td></tr><tr><td>99999</td><td>6.821932</td><td>0.082013</td><td>2.094454</td><td>0.577883</td><td>-268.726616</td><td>2</td><td>&quot;C&quot;</td></tr></tbody></table></div>"
      ],
      "text/plain": [
       "shape: (60_000, 8)\n",
       "┌─────────┬───────────┬───────────┬──────────┬───────────┬─────────────┬───────┬──────────┐\n",
       "│ row_num ┆ uniform_1 ┆ uniform_2 ┆ exp      ┆ normal    ┆ fat_normal  ┆ flags ┆ category │\n",
       "│ ---     ┆ ---       ┆ ---       ┆ ---      ┆ ---       ┆ ---         ┆ ---   ┆ ---      │\n",
       "│ i64     ┆ f64       ┆ f64       ┆ f64      ┆ f64       ┆ f64         ┆ i32   ┆ str      │\n",
       "╞═════════╪═══════════╪═══════════╪══════════╪═══════════╪═════════════╪═══════╪══════════╡\n",
       "│ 0       ┆ 1.42563   ┆ 0.688449  ┆ 1.088206 ┆ -1.078369 ┆ -1.638006   ┆ 2     ┆ A        │\n",
       "│ 2       ┆ 4.831859  ┆ 0.615212  ┆ 2.494902 ┆ 0.862842  ┆ -384.930746 ┆ 2     ┆ A        │\n",
       "│ 4       ┆ 9.138838  ┆ 0.06889   ┆ 2.742155 ┆ -0.055659 ┆ -52.394874  ┆ 1     ┆ A        │\n",
       "│ 5       ┆ 0.638747  ┆ 0.120555  ┆ 1.538502 ┆ 1.718381  ┆ -89.007553  ┆ 1     ┆ A        │\n",
       "│ 9       ┆ 10.706496 ┆ 0.841814  ┆ 3.118728 ┆ 0.711647  ┆ 6.35076     ┆ 2     ┆ A        │\n",
       "│ …       ┆ …         ┆ …         ┆ …        ┆ …         ┆ …           ┆ …     ┆ …        │\n",
       "│ 99993   ┆ 2.991675  ┆ 0.424785  ┆ 1.207897 ┆ -1.353958 ┆ 1954.324746 ┆ 1     ┆ C        │\n",
       "│ 99994   ┆ 8.110839  ┆ 0.10436   ┆ 0.006254 ┆ -0.829466 ┆ -831.69489  ┆ 1     ┆ C        │\n",
       "│ 99995   ┆ 3.62334   ┆ 0.571694  ┆ 1.225951 ┆ 0.053878  ┆ 472.492566  ┆ 1     ┆ C        │\n",
       "│ 99998   ┆ 0.242871  ┆ 0.236259  ┆ 1.314217 ┆ -0.655093 ┆ 598.864029  ┆ 0     ┆ C        │\n",
       "│ 99999   ┆ 6.821932  ┆ 0.082013  ┆ 2.094454 ┆ 0.577883  ┆ -268.726616 ┆ 2     ┆ C        │\n",
       "└─────────┴───────────┴───────────┴──────────┴───────────┴─────────────┴───────┴──────────┘"
      ]
     },
     "execution_count": 4,
     "metadata": {},
     "output_type": "execute_result"
    }
   ],
   "source": [
    "# Random Sample\n",
    "ss.sample(df, 0.6) # by ratio"
   ]
  },
  {
   "cell_type": "code",
   "execution_count": 5,
   "metadata": {},
   "outputs": [
    {
     "data": {
      "text/html": [
       "<div><style>\n",
       ".dataframe > thead > tr,\n",
       ".dataframe > tbody > tr {\n",
       "  text-align: right;\n",
       "  white-space: pre-wrap;\n",
       "}\n",
       "</style>\n",
       "<small>shape: (30_000, 8)</small><table border=\"1\" class=\"dataframe\"><thead><tr><th>row_num</th><th>uniform_1</th><th>uniform_2</th><th>exp</th><th>normal</th><th>fat_normal</th><th>flags</th><th>category</th></tr><tr><td>i64</td><td>f64</td><td>f64</td><td>f64</td><td>f64</td><td>f64</td><td>i32</td><td>str</td></tr></thead><tbody><tr><td>2</td><td>4.831859</td><td>0.615212</td><td>2.494902</td><td>0.862842</td><td>-384.930746</td><td>2</td><td>&quot;A&quot;</td></tr><tr><td>5</td><td>0.638747</td><td>0.120555</td><td>1.538502</td><td>1.718381</td><td>-89.007553</td><td>1</td><td>&quot;A&quot;</td></tr><tr><td>11</td><td>9.847271</td><td>0.901699</td><td>0.656346</td><td>-1.812715</td><td>-1296.98553</td><td>2</td><td>&quot;A&quot;</td></tr><tr><td>14</td><td>9.185885</td><td>0.001916</td><td>4.715927</td><td>-0.615937</td><td>224.645881</td><td>2</td><td>&quot;A&quot;</td></tr><tr><td>18</td><td>3.683518</td><td>0.151237</td><td>5.535248</td><td>0.299322</td><td>-1615.920814</td><td>1</td><td>&quot;A&quot;</td></tr><tr><td>&hellip;</td><td>&hellip;</td><td>&hellip;</td><td>&hellip;</td><td>&hellip;</td><td>&hellip;</td><td>&hellip;</td><td>&hellip;</td></tr><tr><td>99990</td><td>8.829486</td><td>0.992849</td><td>2.151165</td><td>-1.396253</td><td>-315.051661</td><td>0</td><td>&quot;C&quot;</td></tr><tr><td>99991</td><td>5.539581</td><td>0.891651</td><td>1.35365</td><td>0.354068</td><td>-1455.428714</td><td>2</td><td>&quot;C&quot;</td></tr><tr><td>99995</td><td>3.62334</td><td>0.571694</td><td>1.225951</td><td>0.053878</td><td>472.492566</td><td>1</td><td>&quot;C&quot;</td></tr><tr><td>99997</td><td>1.328283</td><td>0.707218</td><td>0.307802</td><td>-0.220496</td><td>906.190389</td><td>2</td><td>&quot;C&quot;</td></tr><tr><td>99999</td><td>6.821932</td><td>0.082013</td><td>2.094454</td><td>0.577883</td><td>-268.726616</td><td>2</td><td>&quot;C&quot;</td></tr></tbody></table></div>"
      ],
      "text/plain": [
       "shape: (30_000, 8)\n",
       "┌─────────┬───────────┬───────────┬──────────┬───────────┬──────────────┬───────┬──────────┐\n",
       "│ row_num ┆ uniform_1 ┆ uniform_2 ┆ exp      ┆ normal    ┆ fat_normal   ┆ flags ┆ category │\n",
       "│ ---     ┆ ---       ┆ ---       ┆ ---      ┆ ---       ┆ ---          ┆ ---   ┆ ---      │\n",
       "│ i64     ┆ f64       ┆ f64       ┆ f64      ┆ f64       ┆ f64          ┆ i32   ┆ str      │\n",
       "╞═════════╪═══════════╪═══════════╪══════════╪═══════════╪══════════════╪═══════╪══════════╡\n",
       "│ 2       ┆ 4.831859  ┆ 0.615212  ┆ 2.494902 ┆ 0.862842  ┆ -384.930746  ┆ 2     ┆ A        │\n",
       "│ 5       ┆ 0.638747  ┆ 0.120555  ┆ 1.538502 ┆ 1.718381  ┆ -89.007553   ┆ 1     ┆ A        │\n",
       "│ 11      ┆ 9.847271  ┆ 0.901699  ┆ 0.656346 ┆ -1.812715 ┆ -1296.98553  ┆ 2     ┆ A        │\n",
       "│ 14      ┆ 9.185885  ┆ 0.001916  ┆ 4.715927 ┆ -0.615937 ┆ 224.645881   ┆ 2     ┆ A        │\n",
       "│ 18      ┆ 3.683518  ┆ 0.151237  ┆ 5.535248 ┆ 0.299322  ┆ -1615.920814 ┆ 1     ┆ A        │\n",
       "│ …       ┆ …         ┆ …         ┆ …        ┆ …         ┆ …            ┆ …     ┆ …        │\n",
       "│ 99990   ┆ 8.829486  ┆ 0.992849  ┆ 2.151165 ┆ -1.396253 ┆ -315.051661  ┆ 0     ┆ C        │\n",
       "│ 99991   ┆ 5.539581  ┆ 0.891651  ┆ 1.35365  ┆ 0.354068  ┆ -1455.428714 ┆ 2     ┆ C        │\n",
       "│ 99995   ┆ 3.62334   ┆ 0.571694  ┆ 1.225951 ┆ 0.053878  ┆ 472.492566   ┆ 1     ┆ C        │\n",
       "│ 99997   ┆ 1.328283  ┆ 0.707218  ┆ 0.307802 ┆ -0.220496 ┆ 906.190389   ┆ 2     ┆ C        │\n",
       "│ 99999   ┆ 6.821932  ┆ 0.082013  ┆ 2.094454 ┆ 0.577883  ┆ -268.726616  ┆ 2     ┆ C        │\n",
       "└─────────┴───────────┴───────────┴──────────┴───────────┴──────────────┴───────┴──────────┘"
      ]
     },
     "execution_count": 5,
     "metadata": {},
     "output_type": "execute_result"
    }
   ],
   "source": [
    "ss.sample(df, 30_000) # by count"
   ]
  },
  {
   "cell_type": "code",
   "execution_count": 6,
   "metadata": {},
   "outputs": [
    {
     "data": {
      "text/html": [
       "<div><style>\n",
       ".dataframe > thead > tr,\n",
       ".dataframe > tbody > tr {\n",
       "  text-align: right;\n",
       "  white-space: pre-wrap;\n",
       "}\n",
       "</style>\n",
       "<small>shape: (3, 2)</small><table border=\"1\" class=\"dataframe\"><thead><tr><th>flags</th><th>len</th></tr><tr><td>i32</td><td>u32</td></tr></thead><tbody><tr><td>0</td><td>33511</td></tr><tr><td>1</td><td>33100</td></tr><tr><td>2</td><td>33389</td></tr></tbody></table></div>"
      ],
      "text/plain": [
       "shape: (3, 2)\n",
       "┌───────┬───────┐\n",
       "│ flags ┆ len   │\n",
       "│ ---   ┆ ---   │\n",
       "│ i32   ┆ u32   │\n",
       "╞═══════╪═══════╡\n",
       "│ 0     ┆ 33511 │\n",
       "│ 1     ┆ 33100 │\n",
       "│ 2     ┆ 33389 │\n",
       "└───────┴───────┘"
      ]
     },
     "execution_count": 6,
     "metadata": {},
     "output_type": "execute_result"
    }
   ],
   "source": [
    "df.group_by(\"flags\").len().sort(\"flags\")"
   ]
  },
  {
   "cell_type": "code",
   "execution_count": 7,
   "metadata": {},
   "outputs": [
    {
     "data": {
      "text/html": [
       "<div><style>\n",
       ".dataframe > thead > tr,\n",
       ".dataframe > tbody > tr {\n",
       "  text-align: right;\n",
       "  white-space: pre-wrap;\n",
       "}\n",
       "</style>\n",
       "<small>shape: (3, 2)</small><table border=\"1\" class=\"dataframe\"><thead><tr><th>flags</th><th>len</th></tr><tr><td>i32</td><td>u32</td></tr></thead><tbody><tr><td>0</td><td>16755</td></tr><tr><td>1</td><td>33100</td></tr><tr><td>2</td><td>33389</td></tr></tbody></table></div>"
      ],
      "text/plain": [
       "shape: (3, 2)\n",
       "┌───────┬───────┐\n",
       "│ flags ┆ len   │\n",
       "│ ---   ┆ ---   │\n",
       "│ i32   ┆ u32   │\n",
       "╞═══════╪═══════╡\n",
       "│ 0     ┆ 16755 │\n",
       "│ 1     ┆ 33100 │\n",
       "│ 2     ┆ 33389 │\n",
       "└───────┴───────┘"
      ]
     },
     "execution_count": 7,
     "metadata": {},
     "output_type": "execute_result"
    }
   ],
   "source": [
    "# Downsample on one group\n",
    "sa1 = ss.downsample(\n",
    "    df, \n",
    "    (pl.col(\"flags\") == 0, 0.5)\n",
    ")\n",
    "sa1.group_by(\"flags\").len().sort(\"flags\")"
   ]
  },
  {
   "cell_type": "code",
   "execution_count": 8,
   "metadata": {},
   "outputs": [
    {
     "data": {
      "text/html": [
       "<div><style>\n",
       ".dataframe > thead > tr,\n",
       ".dataframe > tbody > tr {\n",
       "  text-align: right;\n",
       "  white-space: pre-wrap;\n",
       "}\n",
       "</style>\n",
       "<small>shape: (3, 2)</small><table border=\"1\" class=\"dataframe\"><thead><tr><th>flags</th><th>len</th></tr><tr><td>i32</td><td>u32</td></tr></thead><tbody><tr><td>0</td><td>16755</td></tr><tr><td>1</td><td>9930</td></tr><tr><td>2</td><td>13355</td></tr></tbody></table></div>"
      ],
      "text/plain": [
       "shape: (3, 2)\n",
       "┌───────┬───────┐\n",
       "│ flags ┆ len   │\n",
       "│ ---   ┆ ---   │\n",
       "│ i32   ┆ u32   │\n",
       "╞═══════╪═══════╡\n",
       "│ 0     ┆ 16755 │\n",
       "│ 1     ┆ 9930  │\n",
       "│ 2     ┆ 13355 │\n",
       "└───────┴───────┘"
      ]
     },
     "execution_count": 8,
     "metadata": {},
     "output_type": "execute_result"
    }
   ],
   "source": [
    "# Downsample on multiple groups\n",
    "sa2 = ss.downsample(\n",
    "    df, \n",
    "    (pl.col(\"flags\") == 0, 0.5),\n",
    "    (pl.col(\"flags\") == 1, 0.3),\n",
    "    (pl.col(\"flags\") == 2, 0.4),\n",
    ")\n",
    "sa2.group_by(\"flags\").len().sort(\"flags\")"
   ]
  },
  {
   "cell_type": "code",
   "execution_count": 9,
   "metadata": {},
   "outputs": [
    {
     "data": {
      "text/html": [
       "<div><style>\n",
       ".dataframe > thead > tr,\n",
       ".dataframe > tbody > tr {\n",
       "  text-align: right;\n",
       "  white-space: pre-wrap;\n",
       "}\n",
       "</style>\n",
       "<small>shape: (3, 2)</small><table border=\"1\" class=\"dataframe\"><thead><tr><th>category</th><th>len</th></tr><tr><td>str</td><td>u32</td></tr></thead><tbody><tr><td>&quot;A&quot;</td><td>30000</td></tr><tr><td>&quot;B&quot;</td><td>30000</td></tr><tr><td>&quot;C&quot;</td><td>40000</td></tr></tbody></table></div>"
      ],
      "text/plain": [
       "shape: (3, 2)\n",
       "┌──────────┬───────┐\n",
       "│ category ┆ len   │\n",
       "│ ---      ┆ ---   │\n",
       "│ str      ┆ u32   │\n",
       "╞══════════╪═══════╡\n",
       "│ A        ┆ 30000 │\n",
       "│ B        ┆ 30000 │\n",
       "│ C        ┆ 40000 │\n",
       "└──────────┴───────┘"
      ]
     },
     "execution_count": 9,
     "metadata": {},
     "output_type": "execute_result"
    }
   ],
   "source": [
    "df.group_by(\"category\").len().sort(\"category\")"
   ]
  },
  {
   "cell_type": "code",
   "execution_count": 10,
   "metadata": {},
   "outputs": [
    {
     "data": {
      "text/html": [
       "<div><style>\n",
       ".dataframe > thead > tr,\n",
       ".dataframe > tbody > tr {\n",
       "  text-align: right;\n",
       "  white-space: pre-wrap;\n",
       "}\n",
       "</style>\n",
       "<small>shape: (3, 2)</small><table border=\"1\" class=\"dataframe\"><thead><tr><th>category</th><th>len</th></tr><tr><td>str</td><td>u32</td></tr></thead><tbody><tr><td>&quot;A&quot;</td><td>30000</td></tr><tr><td>&quot;B&quot;</td><td>30000</td></tr><tr><td>&quot;C&quot;</td><td>30000</td></tr></tbody></table></div>"
      ],
      "text/plain": [
       "shape: (3, 2)\n",
       "┌──────────┬───────┐\n",
       "│ category ┆ len   │\n",
       "│ ---      ┆ ---   │\n",
       "│ str      ┆ u32   │\n",
       "╞══════════╪═══════╡\n",
       "│ A        ┆ 30000 │\n",
       "│ B        ┆ 30000 │\n",
       "│ C        ┆ 30000 │\n",
       "└──────────┴───────┘"
      ]
     },
     "execution_count": 10,
     "metadata": {},
     "output_type": "execute_result"
    }
   ],
   "source": [
    "# Volume neutral by each category, will take the greatest possible value so that we get neutral volume.\n",
    "vn = ss.volume_neutral(\n",
    "    df,\n",
    "    by = pl.col(\"category\"),\n",
    ")\n",
    "vn.group_by(\"category\").len().sort(\"category\")"
   ]
  },
  {
   "cell_type": "code",
   "execution_count": 11,
   "metadata": {},
   "outputs": [
    {
     "data": {
      "text/html": [
       "<div><style>\n",
       ".dataframe > thead > tr,\n",
       ".dataframe > tbody > tr {\n",
       "  text-align: right;\n",
       "  white-space: pre-wrap;\n",
       "}\n",
       "</style>\n",
       "<small>shape: (3, 2)</small><table border=\"1\" class=\"dataframe\"><thead><tr><th>category</th><th>len</th></tr><tr><td>str</td><td>u32</td></tr></thead><tbody><tr><td>&quot;A&quot;</td><td>10000</td></tr><tr><td>&quot;B&quot;</td><td>10000</td></tr><tr><td>&quot;C&quot;</td><td>10000</td></tr></tbody></table></div>"
      ],
      "text/plain": [
       "shape: (3, 2)\n",
       "┌──────────┬───────┐\n",
       "│ category ┆ len   │\n",
       "│ ---      ┆ ---   │\n",
       "│ str      ┆ u32   │\n",
       "╞══════════╪═══════╡\n",
       "│ A        ┆ 10000 │\n",
       "│ B        ┆ 10000 │\n",
       "│ C        ┆ 10000 │\n",
       "└──────────┴───────┘"
      ]
     },
     "execution_count": 11,
     "metadata": {},
     "output_type": "execute_result"
    }
   ],
   "source": [
    "# Volume neutral (10_000) by each category\n",
    "vn = ss.volume_neutral(\n",
    "    df,\n",
    "    by = pl.col(\"category\"),\n",
    "    target_volume = 10_000\n",
    ")\n",
    "vn.group_by(\"category\").len().sort(\"category\")"
   ]
  },
  {
   "cell_type": "code",
   "execution_count": 12,
   "metadata": {},
   "outputs": [
    {
     "data": {
      "text/html": [
       "<div><style>\n",
       ".dataframe > thead > tr,\n",
       ".dataframe > tbody > tr {\n",
       "  text-align: right;\n",
       "  white-space: pre-wrap;\n",
       "}\n",
       "</style>\n",
       "<small>shape: (3, 2)</small><table border=\"1\" class=\"dataframe\"><thead><tr><th>category</th><th>len</th></tr><tr><td>str</td><td>u32</td></tr></thead><tbody><tr><td>&quot;A&quot;</td><td>10000</td></tr><tr><td>&quot;B&quot;</td><td>4301</td></tr><tr><td>&quot;C&quot;</td><td>5699</td></tr></tbody></table></div>"
      ],
      "text/plain": [
       "shape: (3, 2)\n",
       "┌──────────┬───────┐\n",
       "│ category ┆ len   │\n",
       "│ ---      ┆ ---   │\n",
       "│ str      ┆ u32   │\n",
       "╞══════════╪═══════╡\n",
       "│ A        ┆ 10000 │\n",
       "│ B        ┆ 4301  │\n",
       "│ C        ┆ 5699  │\n",
       "└──────────┴───────┘"
      ]
     },
     "execution_count": 12,
     "metadata": {},
     "output_type": "execute_result"
    }
   ],
   "source": [
    "# Volume neutral (10_000) by a more complicated condition\n",
    "vn = ss.volume_neutral(\n",
    "    df,\n",
    "    by = pl.col(\"category\") == \"A\",\n",
    "    target_volume = 10_000\n",
    ") # This makes sense because count for B + count for C = 10_000\n",
    "vn.group_by(\"category\").len().sort(\"category\")"
   ]
  },
  {
   "cell_type": "code",
   "execution_count": 13,
   "metadata": {},
   "outputs": [
    {
     "data": {
      "text/html": [
       "<div><style>\n",
       ".dataframe > thead > tr,\n",
       ".dataframe > tbody > tr {\n",
       "  text-align: right;\n",
       "  white-space: pre-wrap;\n",
       "}\n",
       "</style>\n",
       "<small>shape: (9, 3)</small><table border=\"1\" class=\"dataframe\"><thead><tr><th>category</th><th>flags</th><th>len</th></tr><tr><td>str</td><td>i32</td><td>u32</td></tr></thead><tbody><tr><td>&quot;A&quot;</td><td>0</td><td>9839</td></tr><tr><td>&quot;A&quot;</td><td>1</td><td>9839</td></tr><tr><td>&quot;A&quot;</td><td>2</td><td>9839</td></tr><tr><td>&quot;B&quot;</td><td>0</td><td>9959</td></tr><tr><td>&quot;B&quot;</td><td>1</td><td>9959</td></tr><tr><td>&quot;B&quot;</td><td>2</td><td>9959</td></tr><tr><td>&quot;C&quot;</td><td>0</td><td>13302</td></tr><tr><td>&quot;C&quot;</td><td>1</td><td>13302</td></tr><tr><td>&quot;C&quot;</td><td>2</td><td>13302</td></tr></tbody></table></div>"
      ],
      "text/plain": [
       "shape: (9, 3)\n",
       "┌──────────┬───────┬───────┐\n",
       "│ category ┆ flags ┆ len   │\n",
       "│ ---      ┆ ---   ┆ ---   │\n",
       "│ str      ┆ i32   ┆ u32   │\n",
       "╞══════════╪═══════╪═══════╡\n",
       "│ A        ┆ 0     ┆ 9839  │\n",
       "│ A        ┆ 1     ┆ 9839  │\n",
       "│ A        ┆ 2     ┆ 9839  │\n",
       "│ B        ┆ 0     ┆ 9959  │\n",
       "│ B        ┆ 1     ┆ 9959  │\n",
       "│ B        ┆ 2     ┆ 9959  │\n",
       "│ C        ┆ 0     ┆ 13302 │\n",
       "│ C        ┆ 1     ┆ 13302 │\n",
       "│ C        ┆ 2     ┆ 13302 │\n",
       "└──────────┴───────┴───────┘"
      ]
     },
     "execution_count": 13,
     "metadata": {},
     "output_type": "execute_result"
    }
   ],
   "source": [
    "# Volume neutral sample with a control level. Volume neutral happens under the category level, meaning\n",
    "# the volume for each flag in each category is neutral.\n",
    "vn = ss.volume_neutral(\n",
    "    df,\n",
    "    by = pl.col(\"flags\"),\n",
    "    control = pl.col(\"category\")\n",
    ") \n",
    "vn.group_by([\"category\", \"flags\"]).len().sort([\"category\", \"flags\"])"
   ]
  },
  {
   "cell_type": "code",
   "execution_count": 14,
   "metadata": {},
   "outputs": [
    {
     "data": {
      "text/html": [
       "<div><style>\n",
       ".dataframe > thead > tr,\n",
       ".dataframe > tbody > tr {\n",
       "  text-align: right;\n",
       "  white-space: pre-wrap;\n",
       "}\n",
       "</style>\n",
       "<small>shape: (9, 3)</small><table border=\"1\" class=\"dataframe\"><thead><tr><th>category</th><th>flags</th><th>len</th></tr><tr><td>str</td><td>i32</td><td>u32</td></tr></thead><tbody><tr><td>&quot;A&quot;</td><td>0</td><td>9839</td></tr><tr><td>&quot;A&quot;</td><td>1</td><td>9839</td></tr><tr><td>&quot;A&quot;</td><td>2</td><td>9839</td></tr><tr><td>&quot;B&quot;</td><td>0</td><td>9959</td></tr><tr><td>&quot;B&quot;</td><td>1</td><td>9959</td></tr><tr><td>&quot;B&quot;</td><td>2</td><td>9959</td></tr><tr><td>&quot;C&quot;</td><td>0</td><td>10000</td></tr><tr><td>&quot;C&quot;</td><td>1</td><td>10000</td></tr><tr><td>&quot;C&quot;</td><td>2</td><td>10000</td></tr></tbody></table></div>"
      ],
      "text/plain": [
       "shape: (9, 3)\n",
       "┌──────────┬───────┬───────┐\n",
       "│ category ┆ flags ┆ len   │\n",
       "│ ---      ┆ ---   ┆ ---   │\n",
       "│ str      ┆ i32   ┆ u32   │\n",
       "╞══════════╪═══════╪═══════╡\n",
       "│ A        ┆ 0     ┆ 9839  │\n",
       "│ A        ┆ 1     ┆ 9839  │\n",
       "│ A        ┆ 2     ┆ 9839  │\n",
       "│ B        ┆ 0     ┆ 9959  │\n",
       "│ B        ┆ 1     ┆ 9959  │\n",
       "│ B        ┆ 2     ┆ 9959  │\n",
       "│ C        ┆ 0     ┆ 10000 │\n",
       "│ C        ┆ 1     ┆ 10000 │\n",
       "│ C        ┆ 2     ┆ 10000 │\n",
       "└──────────┴───────┴───────┘"
      ]
     },
     "execution_count": 14,
     "metadata": {},
     "output_type": "execute_result"
    }
   ],
   "source": [
    "# We may not meet the target volume for all categories.\n",
    "vn = ss.volume_neutral(\n",
    "    df,\n",
    "    by = pl.col(\"flags\"),\n",
    "    control = pl.col(\"category\"),\n",
    "    target_volume= 10_000\n",
    ") # \n",
    "vn.group_by([\"category\", \"flags\"]).len().sort([\"category\", \"flags\"])"
   ]
  },
  {
   "cell_type": "markdown",
   "metadata": {},
   "source": [
    "## Splitting\n",
    "\n",
    "Split by ratios."
   ]
  },
  {
   "cell_type": "code",
   "execution_count": 15,
   "metadata": {},
   "outputs": [
    {
     "data": {
      "text/html": [
       "<div><style>\n",
       ".dataframe > thead > tr,\n",
       ".dataframe > tbody > tr {\n",
       "  text-align: right;\n",
       "  white-space: pre-wrap;\n",
       "}\n",
       "</style>\n",
       "<small>shape: (2, 2)</small><table border=\"1\" class=\"dataframe\"><thead><tr><th>my_splits</th><th>cnt</th></tr><tr><td>str</td><td>u32</td></tr></thead><tbody><tr><td>&quot;train&quot;</td><td>60000</td></tr><tr><td>&quot;test&quot;</td><td>40000</td></tr></tbody></table></div>"
      ],
      "text/plain": [
       "shape: (2, 2)\n",
       "┌───────────┬───────┐\n",
       "│ my_splits ┆ cnt   │\n",
       "│ ---       ┆ ---   │\n",
       "│ str       ┆ u32   │\n",
       "╞═══════════╪═══════╡\n",
       "│ train     ┆ 60000 │\n",
       "│ test      ┆ 40000 │\n",
       "└───────────┴───────┘"
      ]
     },
     "execution_count": 15,
     "metadata": {},
     "output_type": "execute_result"
    }
   ],
   "source": [
    "df_with_splits = ss.split_by_ratio(\n",
    "    df,\n",
    "    split_ratio = 0.6,\n",
    "    split_col = \"my_splits\"\n",
    ")\n",
    "df_with_splits.group_by(\"my_splits\").agg(\n",
    "    cnt = pl.len()\n",
    ")\n"
   ]
  },
  {
   "cell_type": "code",
   "execution_count": 16,
   "metadata": {},
   "outputs": [
    {
     "data": {
      "text/html": [
       "<div><style>\n",
       ".dataframe > thead > tr,\n",
       ".dataframe > tbody > tr {\n",
       "  text-align: right;\n",
       "  white-space: pre-wrap;\n",
       "}\n",
       "</style>\n",
       "<small>shape: (4, 2)</small><table border=\"1\" class=\"dataframe\"><thead><tr><th>my_splits</th><th>cnt</th></tr><tr><td>str</td><td>u32</td></tr></thead><tbody><tr><td>&quot;split_0&quot;</td><td>25000</td></tr><tr><td>&quot;split_1&quot;</td><td>40000</td></tr><tr><td>&quot;split_2&quot;</td><td>10000</td></tr><tr><td>&quot;split_3&quot;</td><td>25000</td></tr></tbody></table></div>"
      ],
      "text/plain": [
       "shape: (4, 2)\n",
       "┌───────────┬───────┐\n",
       "│ my_splits ┆ cnt   │\n",
       "│ ---       ┆ ---   │\n",
       "│ str       ┆ u32   │\n",
       "╞═══════════╪═══════╡\n",
       "│ split_0   ┆ 25000 │\n",
       "│ split_1   ┆ 40000 │\n",
       "│ split_2   ┆ 10000 │\n",
       "│ split_3   ┆ 25000 │\n",
       "└───────────┴───────┘"
      ]
     },
     "execution_count": 16,
     "metadata": {},
     "output_type": "execute_result"
    }
   ],
   "source": [
    "df_with_splits = ss.split_by_ratio(\n",
    "    df, \n",
    "    split_ratio = [0.25, 0.4, 0.10, 0.25],\n",
    "    split_col = \"my_splits\"\n",
    ")\n",
    "df_with_splits.group_by(\"my_splits\").agg(\n",
    "    cnt = pl.len()\n",
    ").sort(\"my_splits\")"
   ]
  },
  {
   "cell_type": "code",
   "execution_count": 17,
   "metadata": {},
   "outputs": [
    {
     "data": {
      "text/html": [
       "<div><style>\n",
       ".dataframe > thead > tr,\n",
       ".dataframe > tbody > tr {\n",
       "  text-align: right;\n",
       "  white-space: pre-wrap;\n",
       "}\n",
       "</style>\n",
       "<small>shape: (4, 2)</small><table border=\"1\" class=\"dataframe\"><thead><tr><th>my_splits</th><th>cnt</th></tr><tr><td>str</td><td>u32</td></tr></thead><tbody><tr><td>&quot;test&quot;</td><td>30000</td></tr><tr><td>&quot;train&quot;</td><td>60000</td></tr><tr><td>&quot;validation1&quot;</td><td>5000</td></tr><tr><td>&quot;validation2&quot;</td><td>5000</td></tr></tbody></table></div>"
      ],
      "text/plain": [
       "shape: (4, 2)\n",
       "┌─────────────┬───────┐\n",
       "│ my_splits   ┆ cnt   │\n",
       "│ ---         ┆ ---   │\n",
       "│ str         ┆ u32   │\n",
       "╞═════════════╪═══════╡\n",
       "│ test        ┆ 30000 │\n",
       "│ train       ┆ 60000 │\n",
       "│ validation1 ┆ 5000  │\n",
       "│ validation2 ┆ 5000  │\n",
       "└─────────────┴───────┘"
      ]
     },
     "execution_count": 17,
     "metadata": {},
     "output_type": "execute_result"
    }
   ],
   "source": [
    "df_with_splits = ss.split_by_ratio(\n",
    "    df, \n",
    "    split_ratio = {'train': 0.6, 'test': 0.3, 'validation1': 0.05, 'validation2': 0.05},\n",
    "    split_col = \"my_splits\"\n",
    ")\n",
    "\n",
    "df_with_splits.group_by(\"my_splits\").agg(\n",
    "    cnt = pl.len()\n",
    ").sort(\"my_splits\")"
   ]
  },
  {
   "cell_type": "code",
   "execution_count": 18,
   "metadata": {},
   "outputs": [
    {
     "data": {
      "text/html": [
       "<div><style>\n",
       ".dataframe > thead > tr,\n",
       ".dataframe > tbody > tr {\n",
       "  text-align: right;\n",
       "  white-space: pre-wrap;\n",
       "}\n",
       "</style>\n",
       "<small>shape: (5, 9)</small><table border=\"1\" class=\"dataframe\"><thead><tr><th>my_splits</th><th>row_num</th><th>uniform_1</th><th>uniform_2</th><th>exp</th><th>normal</th><th>fat_normal</th><th>flags</th><th>category</th></tr><tr><td>str</td><td>i64</td><td>f64</td><td>f64</td><td>f64</td><td>f64</td><td>f64</td><td>i32</td><td>str</td></tr></thead><tbody><tr><td>&quot;train&quot;</td><td>46813</td><td>1.744022</td><td>0.729093</td><td>1.010762</td><td>1.274261</td><td>-661.762735</td><td>0</td><td>&quot;B&quot;</td></tr><tr><td>&quot;train&quot;</td><td>62409</td><td>1.906721</td><td>0.537013</td><td>2.083227</td><td>0.652801</td><td>-360.7415</td><td>0</td><td>&quot;C&quot;</td></tr><tr><td>&quot;train&quot;</td><td>86917</td><td>9.07718</td><td>0.220533</td><td>0.217066</td><td>1.681312</td><td>-760.02373</td><td>1</td><td>&quot;C&quot;</td></tr><tr><td>&quot;train&quot;</td><td>39567</td><td>3.006608</td><td>0.143211</td><td>7.729981</td><td>1.055814</td><td>-115.14681</td><td>0</td><td>&quot;B&quot;</td></tr><tr><td>&quot;train&quot;</td><td>76224</td><td>0.189889</td><td>0.101562</td><td>1.765515</td><td>-1.234191</td><td>618.427717</td><td>0</td><td>&quot;C&quot;</td></tr></tbody></table></div>"
      ],
      "text/plain": [
       "shape: (5, 9)\n",
       "┌───────────┬─────────┬───────────┬───────────┬───┬───────────┬─────────────┬───────┬──────────┐\n",
       "│ my_splits ┆ row_num ┆ uniform_1 ┆ uniform_2 ┆ … ┆ normal    ┆ fat_normal  ┆ flags ┆ category │\n",
       "│ ---       ┆ ---     ┆ ---       ┆ ---       ┆   ┆ ---       ┆ ---         ┆ ---   ┆ ---      │\n",
       "│ str       ┆ i64     ┆ f64       ┆ f64       ┆   ┆ f64       ┆ f64         ┆ i32   ┆ str      │\n",
       "╞═══════════╪═════════╪═══════════╪═══════════╪═══╪═══════════╪═════════════╪═══════╪══════════╡\n",
       "│ train     ┆ 46813   ┆ 1.744022  ┆ 0.729093  ┆ … ┆ 1.274261  ┆ -661.762735 ┆ 0     ┆ B        │\n",
       "│ train     ┆ 62409   ┆ 1.906721  ┆ 0.537013  ┆ … ┆ 0.652801  ┆ -360.7415   ┆ 0     ┆ C        │\n",
       "│ train     ┆ 86917   ┆ 9.07718   ┆ 0.220533  ┆ … ┆ 1.681312  ┆ -760.02373  ┆ 1     ┆ C        │\n",
       "│ train     ┆ 39567   ┆ 3.006608  ┆ 0.143211  ┆ … ┆ 1.055814  ┆ -115.14681  ┆ 0     ┆ B        │\n",
       "│ train     ┆ 76224   ┆ 0.189889  ┆ 0.101562  ┆ … ┆ -1.234191 ┆ 618.427717  ┆ 0     ┆ C        │\n",
       "└───────────┴─────────┴───────────┴───────────┴───┴───────────┴─────────────┴───────┴──────────┘"
      ]
     },
     "execution_count": 18,
     "metadata": {},
     "output_type": "execute_result"
    }
   ],
   "source": [
    "df_with_splits.head()"
   ]
  },
  {
   "cell_type": "code",
   "execution_count": 19,
   "metadata": {},
   "outputs": [],
   "source": [
    "# If you need to do work with the splits individually\n",
    "# you can filter, or use .partition_by(\"my_splits\") to get separated dataframes"
   ]
  }
 ],
 "metadata": {
  "kernelspec": {
   "display_name": ".venv",
   "language": "python",
   "name": "python3"
  },
  "language_info": {
   "codemirror_mode": {
    "name": "ipython",
    "version": 3
   },
   "file_extension": ".py",
   "mimetype": "text/x-python",
   "name": "python",
   "nbconvert_exporter": "python",
   "pygments_lexer": "ipython3",
   "version": "3.13.3"
  }
 },
 "nbformat": 4,
 "nbformat_minor": 2
}
