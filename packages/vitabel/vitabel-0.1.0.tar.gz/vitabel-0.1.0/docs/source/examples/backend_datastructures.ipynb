{
 "cells": [
  {
   "cell_type": "code",
   "execution_count": null,
   "metadata": {},
   "outputs": [],
   "source": [
    "import numpy as np\n",
    "import pandas as pd\n",
    "\n",
    "from vitabel import Channel, Label, IntervalLabel, TimeDataCollection"
   ]
  },
  {
   "cell_type": "code",
   "execution_count": null,
   "metadata": {},
   "outputs": [],
   "source": [
    "ch1 = Channel(\n",
    "    name=\"some data\",\n",
    "    time_index=pd.date_range(\"2020-02-02 00:00\", \"2020-02-05 00:00\", periods=1001),\n",
    "    data=np.random.rand(1001),\n",
    "    time_unit=\"s\",\n",
    ")\n",
    "ch2 = Channel(\n",
    "    name=\"other data\",\n",
    "    time_index=pd.date_range(\"2020-02-02 18:00\", \"2020-02-03 20:00\", periods=4001),\n",
    "    data=2 + np.random.rand(4001) * 0.25,\n",
    "    time_unit=\"s\",\n",
    ")\n",
    "lab1 = Label(\n",
    "    \"local\",\n",
    "    time_index=[\"2020-02-02 19:34\", \"2020-02-03 12:34\", \"2020-02-04 12:34\"],\n",
    "    data=[1.5, 1.5, 1.5],\n",
    "    time_unit=\"s\",\n",
    "    anchored_channel=ch1,\n",
    ")\n",
    "lab2 = Label(\n",
    "    \"global\",\n",
    "    time_index=[\"2020-02-03 17:00\", \"2020-02-04 00:30\"],\n",
    "    time_unit=\"s\",\n",
    ")\n",
    "lab3 = IntervalLabel(\n",
    "    \"intervals\",\n",
    "    time_index=[\n",
    "        \"2020-02-02 18:00\",\n",
    "        \"2020-02-02 23:15\",\n",
    "        \"2020-02-03 14:00\",\n",
    "        \"2020-02-03 18:42\",\n",
    "    ],\n",
    "    data=[2.0, 2.0],\n",
    "    time_unit=\"s\",\n",
    "    anchored_channel=ch2,\n",
    ")\n",
    "lab4 = IntervalLabel(\n",
    "    \"another one\", time_index=[\"2020-02-02 06:00\", \"2020-02-04 06:00\"], time_unit=\"s\"\n",
    ")\n",
    "collection = TimeDataCollection(channels=[ch1, ch2], labels=[lab1, lab2, lab3, lab4])"
   ]
  },
  {
   "cell_type": "code",
   "execution_count": null,
   "metadata": {},
   "outputs": [],
   "source": [
    "wg1 = collection.plot_interactive(\n",
    "    start=\"2020-02-02 00:00\",\n",
    "    stop=\"2020-02-02 12:00\",\n",
    "    time_unit=\"min\",\n",
    "    include_attached_labels=True,\n",
    "    channel_overviews=True,\n",
    ")\n",
    "wg1"
   ]
  },
  {
   "cell_type": "code",
   "execution_count": null,
   "metadata": {},
   "outputs": [],
   "source": [
    "wg = collection.plot_interactive(\n",
    "    channels=[[0], [1]],\n",
    "    start=\"2020-02-02 00:00\",\n",
    "    stop=\"2020-02-02 12:00\",\n",
    "    time_unit=\"min\",\n",
    ")\n",
    "wg"
   ]
  },
  {
   "cell_type": "code",
   "execution_count": null,
   "metadata": {},
   "outputs": [],
   "source": []
  }
 ],
 "metadata": {
  "kernelspec": {
   "display_name": "Python 3 (ipykernel)",
   "language": "python",
   "name": "python3"
  },
  "language_info": {
   "codemirror_mode": {
    "name": "ipython",
    "version": 3
   },
   "file_extension": ".py",
   "mimetype": "text/x-python",
   "name": "python",
   "nbconvert_exporter": "python",
   "pygments_lexer": "ipython3",
   "version": "3.10.15"
  }
 },
 "nbformat": 4,
 "nbformat_minor": 4
}
