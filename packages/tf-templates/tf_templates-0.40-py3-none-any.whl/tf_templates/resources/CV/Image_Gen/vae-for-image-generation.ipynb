{
 "metadata": {
  "kernelspec": {
   "language": "python",
   "display_name": "Python 3",
   "name": "python3"
  },
  "language_info": {
   "name": "python",
   "version": "3.11.11",
   "mimetype": "text/x-python",
   "codemirror_mode": {
    "name": "ipython",
    "version": 3
   },
   "pygments_lexer": "ipython3",
   "nbconvert_exporter": "python",
   "file_extension": ".py"
  },
  "kaggle": {
   "accelerator": "gpu",
   "dataSources": [
    {
     "sourceId": 5111220,
     "sourceType": "datasetVersion",
     "datasetId": 2968449
    }
   ],
   "dockerImageVersionId": 31040,
   "isInternetEnabled": true,
   "language": "python",
   "sourceType": "notebook",
   "isGpuEnabled": true
  }
 },
 "nbformat_minor": 4,
 "nbformat": 4,
 "cells": [
  {
   "cell_type": "code",
   "source": "!pip install torcheval",
   "metadata": {
    "_uuid": "8f2839f25d086af736a60e9eeb907d3b93b6e0e5",
    "_cell_guid": "b1076dfc-b9ad-4769-8c92-a6c4dae69d19",
    "trusted": true,
    "execution": {
     "iopub.status.busy": "2025-06-17T03:04:29.840479Z",
     "iopub.execute_input": "2025-06-17T03:04:29.840854Z",
     "iopub.status.idle": "2025-06-17T03:04:33.870181Z",
     "shell.execute_reply.started": "2025-06-17T03:04:29.840815Z",
     "shell.execute_reply": "2025-06-17T03:04:33.869516Z"
    }
   },
   "outputs": [
    {
     "name": "stdout",
     "text": "Collecting torcheval\n  Downloading torcheval-0.0.7-py3-none-any.whl.metadata (8.6 kB)\nRequirement already satisfied: typing-extensions in /usr/local/lib/python3.11/dist-packages (from torcheval) (4.13.2)\nDownloading torcheval-0.0.7-py3-none-any.whl (179 kB)\n\u001B[2K   \u001B[90m━━━━━━━━━━━━━━━━━━━━━━━━━━━━━━━━━━━━━━━━\u001B[0m \u001B[32m179.2/179.2 kB\u001B[0m \u001B[31m13.0 MB/s\u001B[0m eta \u001B[36m0:00:00\u001B[0m\n\u001B[?25hInstalling collected packages: torcheval\nSuccessfully installed torcheval-0.0.7\n",
     "output_type": "stream"
    }
   ],
   "execution_count": 1
  },
  {
   "cell_type": "code",
   "source": "# !pip install muon_optimizer",
   "metadata": {
    "trusted": true,
    "execution": {
     "iopub.status.busy": "2025-06-17T03:04:33.871870Z",
     "iopub.execute_input": "2025-06-17T03:04:33.872131Z",
     "iopub.status.idle": "2025-06-17T03:04:33.875960Z",
     "shell.execute_reply.started": "2025-06-17T03:04:33.872101Z",
     "shell.execute_reply": "2025-06-17T03:04:33.875378Z"
    }
   },
   "outputs": [],
   "execution_count": 2
  },
  {
   "cell_type": "code",
   "source": "import torch\nimport torch.nn as nn\nimport torch.nn.functional as F\nfrom torch.optim import *\nfrom torch.optim.lr_scheduler import *\nimport matplotlib.pyplot as plt\nfrom torchvision import datasets\nfrom torch.utils.data import DataLoader, random_split\nfrom PIL import Image\nimport numpy as np\nfrom tqdm import tqdm\nfrom einops import rearrange",
   "metadata": {
    "trusted": true,
    "execution": {
     "iopub.status.busy": "2025-06-17T03:04:33.876572Z",
     "iopub.execute_input": "2025-06-17T03:04:33.876749Z",
     "iopub.status.idle": "2025-06-17T03:04:42.589159Z",
     "shell.execute_reply.started": "2025-06-17T03:04:33.876734Z",
     "shell.execute_reply": "2025-06-17T03:04:42.588609Z"
    }
   },
   "outputs": [],
   "execution_count": 3
  },
  {
   "cell_type": "code",
   "source": "device = \"cuda\" if torch.cuda.is_available() else \"cpu\"\ndevice",
   "metadata": {
    "trusted": true,
    "execution": {
     "iopub.status.busy": "2025-06-17T03:04:42.589875Z",
     "iopub.execute_input": "2025-06-17T03:04:42.590172Z",
     "iopub.status.idle": "2025-06-17T03:04:42.649120Z",
     "shell.execute_reply.started": "2025-06-17T03:04:42.590154Z",
     "shell.execute_reply": "2025-06-17T03:04:42.648258Z"
    }
   },
   "outputs": [
    {
     "execution_count": 4,
     "output_type": "execute_result",
     "data": {
      "text/plain": "'cuda'"
     },
     "metadata": {}
    }
   ],
   "execution_count": 4
  },
  {
   "cell_type": "code",
   "source": "torch.backends.cudnn.benchmark = True",
   "metadata": {
    "trusted": true,
    "execution": {
     "iopub.status.busy": "2025-06-17T03:04:42.652256Z",
     "iopub.execute_input": "2025-06-17T03:04:42.652591Z",
     "iopub.status.idle": "2025-06-17T03:04:42.719932Z",
     "shell.execute_reply.started": "2025-06-17T03:04:42.652568Z",
     "shell.execute_reply": "2025-06-17T03:04:42.719217Z"
    }
   },
   "outputs": [],
   "execution_count": 5
  },
  {
   "cell_type": "markdown",
   "source": "# Dataset and DataLoader",
   "metadata": {}
  },
  {
   "cell_type": "code",
   "source": "dataroot = \"/kaggle/input/50k-celeba-dataset-64x64\"\ndataset = datasets.ImageFolder(root=dataroot)\n                           # transform=transforms.Compose([\n                           #     transforms.Resize(image_size),\n                           #     transforms.CenterCrop(image_size),\n                           #     transforms.ToTensor(),\n                           #     transforms.Normalize((0.5, 0.5, 0.5), (0.5, 0.5, 0.5)),\n                           # ]))",
   "metadata": {
    "trusted": true,
    "execution": {
     "iopub.status.busy": "2025-06-17T03:04:42.720731Z",
     "iopub.execute_input": "2025-06-17T03:04:42.721073Z",
     "iopub.status.idle": "2025-06-17T03:05:25.545897Z",
     "shell.execute_reply.started": "2025-06-17T03:04:42.721054Z",
     "shell.execute_reply": "2025-06-17T03:05:25.545352Z"
    }
   },
   "outputs": [],
   "execution_count": 6
  },
  {
   "cell_type": "code",
   "source": "train_ds, test_ds = random_split(dataset, [0.8, 0.2])\ntrain_ds, test_ds",
   "metadata": {
    "trusted": true,
    "execution": {
     "iopub.status.busy": "2025-06-17T03:05:25.546648Z",
     "iopub.execute_input": "2025-06-17T03:05:25.546849Z",
     "iopub.status.idle": "2025-06-17T03:05:25.556067Z",
     "shell.execute_reply.started": "2025-06-17T03:05:25.546833Z",
     "shell.execute_reply": "2025-06-17T03:05:25.555467Z"
    }
   },
   "outputs": [
    {
     "execution_count": 7,
     "output_type": "execute_result",
     "data": {
      "text/plain": "(<torch.utils.data.dataset.Subset at 0x7898581b5090>,\n <torch.utils.data.dataset.Subset at 0x789858c46690>)"
     },
     "metadata": {}
    }
   ],
   "execution_count": 7
  },
  {
   "cell_type": "code",
   "source": "def collate_fn(batch):\n    batch_size = len(batch)\n    images = np.zeros((batch_size, 64, 64, 3)).astype(np.float32)\n    labels = np.zeros(batch_size).astype(np.int32)\n    cnt = 0\n    for im, label in batch:\n        # im = Image.open(pil_file)  \n        im.draft('RGB',(64, 64))\n        images[cnt] = np.asarray(im)\n        labels[cnt] = label\n        cnt += 1\n    images = images.swapaxes(2, 3).swapaxes(1, 2) / 256\n    return torch.from_numpy(images), torch.from_numpy(labels)",
   "metadata": {
    "trusted": true,
    "execution": {
     "iopub.status.busy": "2025-06-17T03:05:25.556756Z",
     "iopub.execute_input": "2025-06-17T03:05:25.556995Z",
     "iopub.status.idle": "2025-06-17T03:05:25.562955Z",
     "shell.execute_reply.started": "2025-06-17T03:05:25.556977Z",
     "shell.execute_reply": "2025-06-17T03:05:25.562055Z"
    }
   },
   "outputs": [],
   "execution_count": 8
  },
  {
   "cell_type": "code",
   "source": "train_loader = DataLoader(\n    train_ds,\n    batch_size=64,\n    shuffle=True,\n    collate_fn=collate_fn,\n    num_workers=4,\n)\ntest_loader = DataLoader(\n    test_ds,\n    batch_size=128,\n    shuffle=True,\n    collate_fn=collate_fn,\n    num_workers=4,\n)",
   "metadata": {
    "trusted": true,
    "execution": {
     "iopub.status.busy": "2025-06-17T03:05:25.563679Z",
     "iopub.execute_input": "2025-06-17T03:05:25.563858Z",
     "iopub.status.idle": "2025-06-17T03:05:25.576472Z",
     "shell.execute_reply.started": "2025-06-17T03:05:25.563843Z",
     "shell.execute_reply": "2025-06-17T03:05:25.575771Z"
    }
   },
   "outputs": [],
   "execution_count": 9
  },
  {
   "cell_type": "code",
   "source": "%%time\nfor x in train_loader:\n    print(x[0].shape)\n    break",
   "metadata": {
    "trusted": true,
    "execution": {
     "iopub.status.busy": "2025-06-17T03:05:25.577215Z",
     "iopub.execute_input": "2025-06-17T03:05:25.577473Z",
     "iopub.status.idle": "2025-06-17T03:05:26.296918Z",
     "shell.execute_reply.started": "2025-06-17T03:05:25.577453Z",
     "shell.execute_reply": "2025-06-17T03:05:26.296168Z"
    }
   },
   "outputs": [
    {
     "name": "stdout",
     "text": "torch.Size([64, 3, 64, 64])\nCPU times: user 30.5 ms, sys: 60.6 ms, total: 91.1 ms\nWall time: 705 ms\n",
     "output_type": "stream"
    }
   ],
   "execution_count": 10
  },
  {
   "cell_type": "markdown",
   "source": "# Model Definition",
   "metadata": {}
  },
  {
   "cell_type": "code",
   "source": "class ResNetBlock(nn.Module):\n    def __init__(self, in_channels, out_channels, stride=1, upsample=False):\n        super().__init__()\n        if not upsample:\n            self.conv1 = nn.Conv2d(in_channels, out_channels, kernel_size=3, stride=1, padding=1)\n            self.conv2 = nn.Conv2d(out_channels, out_channels, kernel_size=3, stride=stride, padding=1)\n            self.skip = nn.Conv2d(in_channels, out_channels, kernel_size=3, stride=stride, padding=1)\n        else:\n            self.conv1 = nn.Conv2d(in_channels, out_channels, kernel_size=3, stride=1, padding=1)\n            self.conv2 = nn.ConvTranspose2d(out_channels, out_channels, kernel_size=4, stride=stride, padding=1)\n            self.skip = nn.ConvTranspose2d(in_channels, out_channels, kernel_size=2, stride=stride, padding=0)\n        g = min(16, out_channels)\n        self.gn1 = nn.GroupNorm(g, out_channels, eps=1e-3)\n        self.gn2 = nn.GroupNorm(g, out_channels, eps=1e-3)\n    def forward(self, x):\n        x1 = F.silu(self.gn1(self.conv1(x)))\n        x1 = F.silu(self.gn2(self.conv2(x1)))\n        x = self.skip(x) + x1\n        return x",
   "metadata": {
    "trusted": true,
    "execution": {
     "iopub.status.busy": "2025-06-17T03:05:26.298142Z",
     "iopub.execute_input": "2025-06-17T03:05:26.298898Z",
     "iopub.status.idle": "2025-06-17T03:05:26.305368Z",
     "shell.execute_reply.started": "2025-06-17T03:05:26.298869Z",
     "shell.execute_reply": "2025-06-17T03:05:26.304812Z"
    }
   },
   "outputs": [],
   "execution_count": 11
  },
  {
   "cell_type": "code",
   "source": "class ViT(nn.Module):\n    def __init__(self, in_channels, out_channels):\n        super().__init__()\n        self.in_channels = in_channels\n        self.out_channels = out_channels\n        self.to_patch = nn.Conv2d(in_channels, 64, kernel_size=1, padding=0, stride=1)\n        encoder_layer = nn.TransformerEncoderLayer(\n            d_model=64,\n            nhead=8,\n            dim_feedforward=128,\n            activation=\"gelu\",\n            batch_first=True,\n        )\n        self.encoder = nn.TransformerEncoder(\n            encoder_layer,\n            num_layers=2,\n        )\n        self.to_out = nn.Conv2d(64, out_channels, kernel_size=1, padding=0, stride=1)\n    def forward(self, x):\n        x = F.silu(self.to_patch(x))\n        h = x.shape[2]\n        w = x.shape[3]\n        x = rearrange(x, 'b c h w -> b (h w) c')\n        x = self.encoder(x)\n        x = rearrange(x, 'b (h w) c -> b c h w', h=h, w=w)\n        x = self.to_out(x)\n        return x",
   "metadata": {
    "trusted": true,
    "execution": {
     "iopub.status.busy": "2025-06-17T03:05:26.306209Z",
     "iopub.execute_input": "2025-06-17T03:05:26.306479Z",
     "iopub.status.idle": "2025-06-17T03:05:26.326498Z",
     "shell.execute_reply.started": "2025-06-17T03:05:26.306455Z",
     "shell.execute_reply": "2025-06-17T03:05:26.325737Z"
    }
   },
   "outputs": [],
   "execution_count": 12
  },
  {
   "cell_type": "code",
   "source": "class Encoder(nn.Module):\n    def __init__(self):\n        super().__init__()\n        self.resnet_1 = ResNetBlock(3, 16, 1)\n        self.resnet_2 = ResNetBlock(16, 32, 2)\n        self.resnet_3 = ResNetBlock(32, 64, 2)\n        self.resnet_4 = ResNetBlock(64, 128, 2)\n        self.vit = nn.Sequential(\n            ViT(64, 128),\n            nn.Conv2d(128, 128, kernel_size=3, stride=2, padding=1),\n        )\n        self.to_mean = nn.Conv2d(128, 8, kernel_size=1, stride=1, padding=0)\n        self.to_logstd = nn.Conv2d(128, 8, kernel_size=1, stride=1, padding=0)\n    def forward(self, x):\n        x = self.resnet_1(x)\n        x = self.resnet_2(x)\n        x = self.resnet_3(x)\n        x = self.resnet_4(x) + self.vit(x)\n        return self.to_mean(x), self.to_logstd(x)",
   "metadata": {
    "trusted": true,
    "execution": {
     "iopub.status.busy": "2025-06-17T03:05:26.327312Z",
     "iopub.execute_input": "2025-06-17T03:05:26.327598Z",
     "iopub.status.idle": "2025-06-17T03:05:26.342472Z",
     "shell.execute_reply.started": "2025-06-17T03:05:26.327573Z",
     "shell.execute_reply": "2025-06-17T03:05:26.341883Z"
    }
   },
   "outputs": [],
   "execution_count": 13
  },
  {
   "cell_type": "code",
   "source": "class Decoder(nn.Module):\n    def __init__(self):\n        super().__init__()\n        self.to_in = nn.Conv2d(8, 128, kernel_size=1, stride=1, padding=0)\n        self.vit = ViT(8, 128)\n        self.resnet_1 = nn.Sequential(\n            ResNetBlock(128, 128, 2, upsample=True),\n            ResNetBlock(128, 64, 1),\n        )\n        self.resnet_2 = nn.Sequential(\n            ResNetBlock(64, 64, 2, upsample=True),\n            ResNetBlock(64, 32, 1),\n        )\n        self.resnet_3 = nn.Sequential(\n            ResNetBlock(32, 32, 2, upsample=True),\n            ResNetBlock(32, 16, 1),\n        )\n        self.resnet_4 = ResNetBlock(16, 3, 1)\n    def forward(self, x):\n        y = self.to_in(x) + self.vit(x)\n        y = self.resnet_1(y)\n        y = self.resnet_2(y)\n        y = self.resnet_3(y)\n        y = self.resnet_4(y)\n        y = F.tanh(y)\n        return y",
   "metadata": {
    "trusted": true,
    "execution": {
     "iopub.status.busy": "2025-06-17T03:05:26.345681Z",
     "iopub.execute_input": "2025-06-17T03:05:26.346080Z",
     "iopub.status.idle": "2025-06-17T03:05:26.355213Z",
     "shell.execute_reply.started": "2025-06-17T03:05:26.346061Z",
     "shell.execute_reply": "2025-06-17T03:05:26.354468Z"
    }
   },
   "outputs": [],
   "execution_count": 14
  },
  {
   "cell_type": "code",
   "source": "class VAE(nn.Module):\n    def __init__(self):\n        super().__init__()\n        self.encoder = Encoder()\n        self.decoder = Decoder()\n    def forward(self, img):\n        mean_vals, log_std = self.encoder(img)\n        # Obtain predicted mean and standard deviation\n        std_vals = torch.exp(log_std)\n        # Sample a normal distribution and then scale\n        sampled_normal = torch.randn(mean_vals.shape).to(device)\n        sampled_img = sampled_normal * std_vals + mean_vals\n        # sampled_img = sampled_img.unsqueeze(1)\n        # Pass the sampled through decoder\n        pred = self.decoder(sampled_img)\n        return mean_vals, std_vals, pred",
   "metadata": {
    "trusted": true,
    "execution": {
     "iopub.status.busy": "2025-06-17T03:05:26.355943Z",
     "iopub.execute_input": "2025-06-17T03:05:26.356189Z",
     "iopub.status.idle": "2025-06-17T03:05:26.369847Z",
     "shell.execute_reply.started": "2025-06-17T03:05:26.356163Z",
     "shell.execute_reply": "2025-06-17T03:05:26.369224Z"
    }
   },
   "outputs": [],
   "execution_count": 15
  },
  {
   "cell_type": "code",
   "source": "model = VAE().to(device)",
   "metadata": {
    "trusted": true,
    "execution": {
     "iopub.status.busy": "2025-06-17T03:05:26.370529Z",
     "iopub.execute_input": "2025-06-17T03:05:26.370724Z",
     "iopub.status.idle": "2025-06-17T03:05:26.591302Z",
     "shell.execute_reply.started": "2025-06-17T03:05:26.370700Z",
     "shell.execute_reply": "2025-06-17T03:05:26.590454Z"
    }
   },
   "outputs": [],
   "execution_count": 16
  },
  {
   "cell_type": "code",
   "source": "sum(p.numel() for p in model.parameters())",
   "metadata": {
    "trusted": true,
    "execution": {
     "iopub.status.busy": "2025-06-17T03:05:26.592053Z",
     "iopub.execute_input": "2025-06-17T03:05:26.592298Z",
     "iopub.status.idle": "2025-06-17T03:05:26.600052Z",
     "shell.execute_reply.started": "2025-06-17T03:05:26.592277Z",
     "shell.execute_reply": "2025-06-17T03:05:26.599561Z"
    }
   },
   "outputs": [
    {
     "execution_count": 17,
     "output_type": "execute_result",
     "data": {
      "text/plain": "1566838"
     },
     "metadata": {}
    }
   ],
   "execution_count": 17
  },
  {
   "cell_type": "code",
   "source": "%%time\nfor x in train_loader:\n    img = x[0].to(device)\n    print(torch.max(img))\n    mean, std, pred = model(img)\n    print(mean.shape)\n    print(std.shape)\n    print(pred.shape)\n    break",
   "metadata": {
    "trusted": true,
    "execution": {
     "iopub.status.busy": "2025-06-17T03:05:26.600805Z",
     "iopub.execute_input": "2025-06-17T03:05:26.601300Z",
     "iopub.status.idle": "2025-06-17T03:05:29.192706Z",
     "shell.execute_reply.started": "2025-06-17T03:05:26.601276Z",
     "shell.execute_reply": "2025-06-17T03:05:29.191797Z"
    }
   },
   "outputs": [
    {
     "name": "stdout",
     "text": "tensor(0.9961, device='cuda:0')\ntorch.Size([64, 8, 8, 8])\ntorch.Size([64, 8, 8, 8])\ntorch.Size([64, 3, 64, 64])\nCPU times: user 1.14 s, sys: 525 ms, total: 1.66 s\nWall time: 2.58 s\n",
     "output_type": "stream"
    }
   ],
   "execution_count": 18
  },
  {
   "cell_type": "markdown",
   "source": "# Training",
   "metadata": {}
  },
  {
   "cell_type": "code",
   "source": "from tqdm import tqdm",
   "metadata": {
    "trusted": true,
    "execution": {
     "iopub.status.busy": "2025-06-17T03:05:29.193831Z",
     "iopub.execute_input": "2025-06-17T03:05:29.194638Z",
     "iopub.status.idle": "2025-06-17T03:05:29.198153Z",
     "shell.execute_reply.started": "2025-06-17T03:05:29.194597Z",
     "shell.execute_reply": "2025-06-17T03:05:29.197478Z"
    }
   },
   "outputs": [],
   "execution_count": 19
  },
  {
   "cell_type": "code",
   "source": "kl_weight = 1e-6",
   "metadata": {
    "trusted": true,
    "execution": {
     "iopub.status.busy": "2025-06-17T03:05:29.198929Z",
     "iopub.execute_input": "2025-06-17T03:05:29.199614Z",
     "iopub.status.idle": "2025-06-17T03:05:29.212100Z",
     "shell.execute_reply.started": "2025-06-17T03:05:29.199589Z",
     "shell.execute_reply": "2025-06-17T03:05:29.211421Z"
    }
   },
   "outputs": [],
   "execution_count": 20
  },
  {
   "cell_type": "code",
   "source": "def train():\n    model.train()\n    total_loss = 0\n    cnt = 0\n    t_recon_loss = 0\n    t_kl_div_loss = 0\n    for x in (pbar := tqdm(train_loader)):\n        img = x[0].to(device)\n        img = img * 2 - 1\n        mean_vals, std_vals, pred = model(img)\n        # Compute Losses\n        recon_loss = criteria(pred, img) # Reconstruction loss\n        kl_div_loss = torch.sum(torch.square(mean_vals) + torch.square(std_vals) - 2 * torch.log(torch.abs(std_vals) + 1e-6))\n        # FID Loss\n        \n        # Sum them\n        loss = recon_loss + kl_div_loss * kl_weight\n        total_loss += loss.item()\n        t_recon_loss += recon_loss.item()\n        t_kl_div_loss += kl_div_loss * kl_weight\n        cnt += 1\n        # Back prop\n        optimizer.zero_grad()\n        loss.backward()\n        optimizer.step()\n        # Update tqdm\n        pbar.set_description(f\"Average Loss: {total_loss / cnt :6f}\")\n    print(f\"Reconstruction Loss to KL Divergence Loss: {t_recon_loss / t_kl_div_loss : 6f}\")\n    if scheduler is not None:\n        scheduler.step()",
   "metadata": {
    "trusted": true,
    "execution": {
     "iopub.status.busy": "2025-06-17T03:05:29.212750Z",
     "iopub.execute_input": "2025-06-17T03:05:29.212914Z",
     "iopub.status.idle": "2025-06-17T03:05:29.226784Z",
     "shell.execute_reply.started": "2025-06-17T03:05:29.212901Z",
     "shell.execute_reply": "2025-06-17T03:05:29.226178Z"
    }
   },
   "outputs": [],
   "execution_count": 21
  },
  {
   "cell_type": "code",
   "source": "def test():\n    model.eval()\n    total_loss = 0\n    cnt = 0\n    with torch.no_grad():\n        for x in (pbar := tqdm(test_loader)):\n            img = x[0].to(device)\n            img = img * 2 - 1\n            mean_vals, std_vals, pred = model(img)\n            # Compute Losses\n            recon_loss = criteria(pred, img) # Reconstruction loss\n            kl_div_loss = torch.sum(torch.square(mean_vals) + torch.square(std_vals) - 2 * torch.log(torch.abs(std_vals) + 1e-6))\n            # Sum them\n            loss = recon_loss + kl_div_loss * kl_weight\n            total_loss += loss.item()\n            cnt += 1\n            # Update tqdm\n            pbar.set_description(f\"Testing: Average Loss: {total_loss / cnt :6f}\")",
   "metadata": {
    "trusted": true,
    "execution": {
     "iopub.status.busy": "2025-06-17T03:05:29.227594Z",
     "iopub.execute_input": "2025-06-17T03:05:29.227967Z",
     "iopub.status.idle": "2025-06-17T03:05:29.244368Z",
     "shell.execute_reply.started": "2025-06-17T03:05:29.227944Z",
     "shell.execute_reply": "2025-06-17T03:05:29.243698Z"
    }
   },
   "outputs": [],
   "execution_count": 22
  },
  {
   "cell_type": "code",
   "source": "import matplotlib.pyplot as plt\n\ndef generate_image(num_image=1):\n    model.eval()\n    with torch.no_grad():\n        sample_noise = torch.randn(num_image, 8, 8, 8).to(device)\n        sample_noise = torch.clamp(sample_noise, -3, 3)\n        pred = model.decoder(sample_noise)\n        pred = (pred + 1) / 2\n    return pred.detach().cpu().squeeze()\n\ndef generate_w_grad(num_image=64):\n    model.train()\n    sample_noise = torch.randn(num_image, 8, 8, 8).to(device)\n    sample_noise.requires_grad = False\n    sample_noise = torch.clamp(sample_noise, -3, 3)\n    pred = model.decoder(sample_noise)\n    pred = (pred + 1) / 2\n    return pred",
   "metadata": {
    "trusted": true,
    "execution": {
     "iopub.status.busy": "2025-06-17T03:05:29.245117Z",
     "iopub.execute_input": "2025-06-17T03:05:29.245274Z",
     "iopub.status.idle": "2025-06-17T03:05:29.257859Z",
     "shell.execute_reply.started": "2025-06-17T03:05:29.245261Z",
     "shell.execute_reply": "2025-06-17T03:05:29.257241Z"
    }
   },
   "outputs": [],
   "execution_count": 23
  },
  {
   "cell_type": "markdown",
   "source": "# Model Definition and Optimizers",
   "metadata": {}
  },
  {
   "cell_type": "code",
   "source": "class MultipleOptimizer(object):\n    def __init__(self, *op):\n        self.optimizers = op\n\n    def zero_grad(self):\n        for op in self.optimizers:\n            op.zero_grad()\n\n    def step(self):\n        for op in self.optimizers:\n            op.step()",
   "metadata": {
    "trusted": true,
    "execution": {
     "iopub.status.busy": "2025-06-17T03:05:29.258476Z",
     "iopub.execute_input": "2025-06-17T03:05:29.258627Z",
     "iopub.status.idle": "2025-06-17T03:05:29.274476Z",
     "shell.execute_reply.started": "2025-06-17T03:05:29.258615Z",
     "shell.execute_reply": "2025-06-17T03:05:29.273858Z"
    }
   },
   "outputs": [],
   "execution_count": 24
  },
  {
   "cell_type": "code",
   "source": "class MultipleScheduler(object):\n    def __init__(self, *op):\n        self.schedulers = op\n\n    def step(self):\n        for op in self.schedulers:\n            op.step()",
   "metadata": {
    "trusted": true,
    "execution": {
     "iopub.status.busy": "2025-06-17T03:05:29.275195Z",
     "iopub.execute_input": "2025-06-17T03:05:29.275435Z",
     "iopub.status.idle": "2025-06-17T03:05:29.287915Z",
     "shell.execute_reply.started": "2025-06-17T03:05:29.275413Z",
     "shell.execute_reply": "2025-06-17T03:05:29.287147Z"
    }
   },
   "outputs": [],
   "execution_count": 25
  },
  {
   "cell_type": "code",
   "source": "from torch.optim import *\nfrom torch.optim.lr_scheduler import *\n# from muon import SingleDeviceMuon",
   "metadata": {
    "trusted": true,
    "execution": {
     "iopub.status.busy": "2025-06-17T03:05:29.288481Z",
     "iopub.execute_input": "2025-06-17T03:05:29.288690Z",
     "iopub.status.idle": "2025-06-17T03:05:29.300294Z",
     "shell.execute_reply.started": "2025-06-17T03:05:29.288676Z",
     "shell.execute_reply": "2025-06-17T03:05:29.299693Z"
    }
   },
   "outputs": [],
   "execution_count": 26
  },
  {
   "cell_type": "markdown",
   "source": "## Muon",
   "metadata": {}
  },
  {
   "cell_type": "code",
   "source": "def zeropower_via_newtonschulz5(G, steps: int):\n    \"\"\"\n    Newton-Schulz iteration to compute the zeroth power / orthogonalization of G. We opt to use a\n    quintic iteration whose coefficients are selected to maximize the slope at zero. For the purpose\n    of minimizing steps, it turns out to be empirically effective to keep increasing the slope at\n    zero even beyond the point where the iteration no longer converges all the way to one everywhere\n    on the interval. This iteration therefore does not produce UV^T but rather something like US'V^T\n    where S' is diagonal with S_{ii}' ~ Uniform(0.5, 1.5), which turns out not to hurt model\n    performance at all relative to UV^T, where USV^T = G is the SVD.\n    \"\"\"\n    assert G.ndim >= 2 # batched Muon implementation by @scottjmaddox, and put into practice in the record by @YouJiacheng\n    a, b, c = (3.4445, -4.7750,  2.0315)\n    X = G.bfloat16()\n    if G.size(-2) > G.size(-1):\n        X = X.mT\n\n    # Ensure spectral norm is at most 1\n    X = X / (X.norm(dim=(-2, -1), keepdim=True) + 1e-7)\n    # Perform the NS iterations\n    for _ in range(steps):\n        A = X @ X.mT\n        B = b * A + c * A @ A # quintic computation strategy adapted from suggestion by @jxbz, @leloykun, and @YouJiacheng\n        X = a * X + B @ X\n    \n    if G.size(-2) > G.size(-1):\n        X = X.mT\n    return X\n\n\ndef muon_update(grad, momentum, beta=0.95, ns_steps=5, nesterov=True):\n    momentum.lerp_(grad, 1 - beta)\n    update = grad.lerp_(momentum, beta) if nesterov else momentum\n    if update.ndim == 4: # for the case of conv filters\n        update = update.view(len(update), -1)\n    update = zeropower_via_newtonschulz5(update, steps=ns_steps)\n    update *= max(1, grad.size(-2) / grad.size(-1))**0.5\n    return update",
   "metadata": {
    "trusted": true,
    "execution": {
     "iopub.status.busy": "2025-06-17T03:05:29.300992Z",
     "iopub.execute_input": "2025-06-17T03:05:29.301153Z",
     "iopub.status.idle": "2025-06-17T03:05:29.314582Z",
     "shell.execute_reply.started": "2025-06-17T03:05:29.301139Z",
     "shell.execute_reply": "2025-06-17T03:05:29.313960Z"
    }
   },
   "outputs": [],
   "execution_count": 27
  },
  {
   "cell_type": "code",
   "source": "class SingleDeviceMuon(torch.optim.Optimizer):\n    \"\"\"\n    Muon variant for usage in non-distributed settings.\n    \"\"\"\n    def __init__(self, params, lr=0.02, weight_decay=0, momentum=0.95):\n        defaults = dict(lr=lr, weight_decay=weight_decay, momentum=momentum)\n        super().__init__(params, defaults)\n\n    @torch.no_grad()\n    def step(self):\n        for group in self.param_groups:\n            for p in group[\"params\"]:\n                state = self.state[p]\n                if len(state) == 0:\n                    state[\"momentum_buffer\"] = torch.zeros_like(p)\n                if p.grad is not None:\n                    update = muon_update(p.grad, state[\"momentum_buffer\"], beta=group[\"momentum\"])\n                    p.mul_(1 - group[\"lr\"] * group[\"weight_decay\"])\n                    p.add_(update.reshape(p.shape), alpha=-group[\"lr\"])",
   "metadata": {
    "trusted": true,
    "execution": {
     "iopub.status.busy": "2025-06-17T03:05:29.315136Z",
     "iopub.execute_input": "2025-06-17T03:05:29.315308Z",
     "iopub.status.idle": "2025-06-17T03:05:29.330181Z",
     "shell.execute_reply.started": "2025-06-17T03:05:29.315294Z",
     "shell.execute_reply": "2025-06-17T03:05:29.329671Z"
    }
   },
   "outputs": [],
   "execution_count": 28
  },
  {
   "cell_type": "markdown",
   "source": "## SPlus",
   "metadata": {}
  },
  {
   "cell_type": "code",
   "source": "import torch\nfrom torch.optim.optimizer import Optimizer\nfrom typing import Any\n\nclass SPlus(Optimizer):\n\n    def __init__(\n        self,\n        params: Any,\n        lr: float = 1e-1,\n        b1: float = 0.9,\n        b2: float = 0.999,\n        ema_rate: float = 0.999,\n        inverse_every: int = 100,\n        eps: float = 1e-30,\n        weight_decay: float = 1e-2,\n        max_dim: int = 10000,\n        nonstandard_constant: float = 0.001,\n    ):\n        defaults = dict(\n            lr=lr,\n            b1=b1,\n            b2=b2,\n            ema_rate=ema_rate,\n            inverse_every=inverse_every,\n            weight_decay=weight_decay,\n            eps=eps,\n            max_dim=max_dim,\n            nonstandard_constant=nonstandard_constant,\n        )\n        super(SPlus, self).__init__(params, defaults)\n\n    def __setstate__(self, state):\n        super().__setstate__(state)\n        for group in self.param_groups:\n            for p in group[\"params\"]:\n                p_state = self.state.get(p, [])\n                step_val = float(p_state[\"step\"])\n                p_state[\"step\"] = torch.tensor(step_val)\n\n    @torch.no_grad()\n    def eval(self): # Sets parameters to EMA values for evaluation.\n        for group in self.param_groups:\n            if 'train_mode' in group:\n                train_mode = group['train_mode']\n                ema_rate = group['ema_rate']\n                if train_mode:\n                    for p in group['params']:\n                        state = self.state[p]\n                        state['param_buffer'] = p.clone()\n                        p.lerp_(state['ema'], 1)\n                        p.mul_(1 / (1 - ema_rate ** state['step']))\n                    group['train_mode'] = False\n\n    @torch.no_grad()\n    def train(self): # Resets parameters back from buffer.\n        for group in self.param_groups:\n            if 'train_mode' in group:\n                train_mode = group['train_mode']\n                if not train_mode:\n                    for p in group['params']:\n                        state = self.state[p]\n                        if 'param_buffer' in state:\n                            p.lerp_(state['param_buffer'], 1) # p.copy_(state['param_buffer'])\n                            del state['param_buffer']\n                    group['train_mode'] = True\n\n    @torch.no_grad()\n    def step(self, closure = None):\n        loss = None\n        if closure is not None:\n            loss = closure()\n\n        for group in self.param_groups:\n            for p in group['params']:\n                if p.grad is None:\n                    continue\n                grad = p.grad.data\n\n                state = self.state[p]\n                if len(state) == 0: # Initialization\n                    state[\"step\"] = torch.tensor(0.0)\n                    state['momentum'] = torch.zeros_like(p)\n                    state['ema'] = torch.zeros_like(p)\n                    group['train_mode'] = True\n                    if len(p.shape) == 2:\n                        state['sides'] = [torch.zeros((d, d), device=p.device) if d < group['max_dim'] else None for d in p.shape]\n                        state['q_sides'] = [torch.eye(d, device=p.device) if d < group['max_dim'] else None for d in p.shape]\n\n                # Shape-dependent scaling\n                if len(p.shape) != 2 or p.shape[0] > group['max_dim'] or p.shape[1] > group['max_dim']:\n                    scaled_lr = group['lr'] * group['nonstandard_constant']\n                else:\n                    scaled_lr = group['lr'] * (2 / (p.shape[0] + p.shape[1]))\n\n                # Main splus update\n                state['step'] += 1\n                m = state['momentum']\n                m.lerp_(grad, 1-group[\"b1\"])\n                if len(p.shape) == 2:\n                    m = state['q_sides'][0].T @ m if state['q_sides'][0] is not None else m\n                    m = m @ state['q_sides'][1] if state['q_sides'][1] is not None else m\n                    state['sides'][0] = torch.lerp(state['sides'][0], grad @ grad.T, 1 - group['b2']) if state['sides'][0] is not None else None\n                    state['sides'][1] = torch.lerp(state['sides'][1], grad.T @ grad, 1 - group['b2']) if state['sides'][1] is not None else None\n                    u = torch.sign(m)\n                    u = state['q_sides'][0] @ u if state['q_sides'][0] is not None else u\n                    u = u @ state['q_sides'][1].T if state['q_sides'][1] is not None else u\n\n                    # Every `inverse_every` steps, we update the inverse eigendecomposition.\n                    if state['step'] == 1 or state['step'] % group['inverse_every'] == 0:\n                        if state['sides'][0] is not None:\n                            _, eigvecs = torch.linalg.eigh(state['sides'][0] + group['eps'] * torch.eye(state['sides'][0].shape[0], device=p.device))\n                            state['q_sides'][0] = eigvecs\n                        if state['sides'][1] is not None:\n                            _, eigvecs = torch.linalg.eigh(state['sides'][1] + group['eps'] * torch.eye(state['sides'][1].shape[0], device=p.device))\n                            state['q_sides'][1] = eigvecs\n                else:\n                    u = torch.sign(m)\n\n                p.add_(u, alpha=-scaled_lr)\n                state['ema'].lerp_(p, 1 - group['ema_rate'])\n                p.mul_(1 - scaled_lr * group[\"weight_decay\"])\n\n        return loss",
   "metadata": {
    "trusted": true,
    "execution": {
     "iopub.status.busy": "2025-06-17T03:05:29.330881Z",
     "iopub.execute_input": "2025-06-17T03:05:29.331124Z",
     "iopub.status.idle": "2025-06-17T03:05:29.349610Z",
     "shell.execute_reply.started": "2025-06-17T03:05:29.331097Z",
     "shell.execute_reply": "2025-06-17T03:05:29.348989Z"
    }
   },
   "outputs": [],
   "execution_count": 29
  },
  {
   "cell_type": "markdown",
   "source": "## FID Loss",
   "metadata": {}
  },
  {
   "cell_type": "code",
   "source": "import torch\nfrom torch.autograd import Function\nimport numpy as np\nimport scipy.linalg\n\n\nclass MatrixSquareRoot(Function):\n    \"\"\"Square root of a positive definite matrix.\n\n    NOTE: matrix square root is not differentiable for matrices with\n          zero eigenvalues.\n    \"\"\"\n    @staticmethod\n    def forward(ctx, input):\n        m = input.detach().cpu().numpy().astype(np.float_)\n        sqrtm = torch.from_numpy(scipy.linalg.sqrtm(m).real).to(input)\n        ctx.save_for_backward(sqrtm)\n        return sqrtm\n\n    @staticmethod\n    def backward(ctx, grad_output):\n        grad_input = None\n        if ctx.needs_input_grad[0]:\n            sqrtm, = ctx.saved_tensors\n            sqrtm = sqrtm.data.cpu().numpy().astype(np.float_)\n            gm = grad_output.data.cpu().numpy().astype(np.float_)\n\n            # Given a positive semi-definite matrix X,\n            # since X = X^{1/2}X^{1/2}, we can compute the gradient of the\n            # matrix square root dX^{1/2} by solving the Sylvester equation:\n            # dX = (d(X^{1/2})X^{1/2} + X^{1/2}(dX^{1/2}).\n            grad_sqrtm = scipy.linalg.solve_sylvester(sqrtm, sqrtm, gm)\n\n            grad_input = torch.from_numpy(grad_sqrtm).to(grad_output)\n        return grad_input\n\n\nsqrtm = MatrixSquareRoot.apply",
   "metadata": {
    "trusted": true,
    "execution": {
     "iopub.status.busy": "2025-06-17T03:05:29.350337Z",
     "iopub.execute_input": "2025-06-17T03:05:29.350592Z",
     "iopub.status.idle": "2025-06-17T03:05:29.660431Z",
     "shell.execute_reply.started": "2025-06-17T03:05:29.350572Z",
     "shell.execute_reply": "2025-06-17T03:05:29.659676Z"
    }
   },
   "outputs": [],
   "execution_count": 30
  },
  {
   "cell_type": "code",
   "source": [
    "import torch\n",
    "from torch import nn\n",
    "from torchvision.models import inception_v3\n",
    "import cv2\n",
    "import multiprocessing\n",
    "import numpy as np\n",
    "import glob\n",
    "import os\n",
    "from scipy import linalg\n",
    "\n",
    "\n",
    "def to_cuda(elements):\n",
    "    \"\"\"\n",
    "    Transfers elements to cuda if GPU is available\n",
    "    Args:\n",
    "        elements: torch.tensor or torch.nn.module\n",
    "        --\n",
    "    Returns:\n",
    "        elements: same as input on GPU memory, if available\n",
    "    \"\"\"\n",
    "    if torch.cuda.is_available():\n",
    "        return elements.cuda()\n",
    "    return elements\n",
    "\n",
    "\n",
    "class PartialInceptionNetwork(nn.Module):\n",
    "\n",
    "    def __init__(self, transform_input=True):\n",
    "        super().__init__()\n",
    "        self.inception_network = inception_v3(pretrained=True)\n",
    "        self.inception_network.Mixed_7c.register_forward_hook(self.output_hook)\n",
    "        self.transform_input = transform_input\n",
    "\n",
    "    def output_hook(self, module, input, output):\n",
    "        # N x 2048 x 8 x 8\n",
    "        self.mixed_7c_output = output\n",
    "\n",
    "    def forward(self, x):\n",
    "        \"\"\"\n",
    "        Args:\n",
    "            x: shape (N, 3, 299, 299) dtype: torch.float32 in range 0-1\n",
    "        Returns:\n",
    "            inception activations: torch.tensor, shape: (N, 2048), dtype: torch.float32\n",
    "        \"\"\"\n",
    "        assert x.shape[1:] == (3, 299, 299), \"Expected input shape to be: (N,3,299,299)\" +\\\n",
    "                                             \", but got {}\".format(x.shape)\n",
    "\n",
    "        x = x * 2 - 1 # Normalize to [-1, 1]\n",
    "\n",
    "        # Trigger output hook\n",
    "        self.inception_network(x)\n",
    "\n",
    "        # Output: N x 2048 x 1 x 1 \n",
    "        activations = self.mixed_7c_output\n",
    "        activations = torch.nn.functional.adaptive_avg_pool2d(activations, (1,1))\n",
    "        activations = activations.view(x.shape[0], 2048)\n",
    "        return activations\n",
    "\n",
    "inception_network = PartialInceptionNetwork()\n",
    "inception_network = to_cuda(inception_network)\n",
    "inception_network.eval()\n",
    "for p in inception_network.parameters(): \n",
    "    p.requires_grad_(False)\n",
    "\n",
    "from torchvision.transforms import Resize\n",
    "inception_resize = Resize(size=(299, 299))\n",
    "\n",
    "def get_activations(images, batch_size):\n",
    "    \"\"\"\n",
    "    Calculates activations for last pool layer for all iamges\n",
    "    --\n",
    "        Images: torch.array shape: (N, 3, 299, 299), dtype: torch.float32\n",
    "        batch size: batch size used for inception network\n",
    "    --\n",
    "    Returns: np array shape: (N, 2048), dtype: np.float32\n",
    "    \"\"\"\n",
    "\n",
    "    images = inception_resize(images)\n",
    "    assert images.shape[1:] == (3, 299, 299), \"Expected input shape to be: (N,3,299,299)\" +\\\n",
    "                                              \", but got {}\".format(images.shape)\n",
    "\n",
    "    num_images = images.shape[0]\n",
    "    n_batches = int(np.ceil(num_images  / batch_size))\n",
    "    inception_activations = torch.zeros((num_images, 2048), dtype=torch.float32).to(device)\n",
    "    for batch_idx in range(n_batches):\n",
    "        start_idx = batch_size * batch_idx\n",
    "        end_idx = batch_size * (batch_idx + 1)\n",
    "\n",
    "        ims = images[start_idx:end_idx]\n",
    "        # ims = to_cuda(ims)\n",
    "        activations = inception_network(ims)\n",
    "        # activations = activations\n",
    "        assert activations.shape == (ims.shape[0], 2048), \"Expexted output shape to be: {}, but was: {}\".format((ims.shape[0], 2048), activations.shape)\n",
    "        inception_activations[start_idx:end_idx, :] = activations\n",
    "    return inception_activations\n",
    "\n",
    "\n",
    "\n",
    "def calculate_activation_statistics(images, batch_size):\n",
    "    \"\"\"Calculates the statistics used by FID\n",
    "    Args:\n",
    "        images: torch.tensor, shape: (N, 3, H, W), dtype: torch.float32 in range 0 - 1\n",
    "        batch_size: batch size to use to calculate inception scores\n",
    "    Returns:\n",
    "        mu:     mean over all activations from the last pool layer of the inception model\n",
    "        sigma:  covariance matrix over all activations from the last pool layer \n",
    "                of the inception model.\n",
    "\n",
    "    \"\"\"\n",
    "    act = get_activations(images, batch_size)\n",
    "    # print(act)\n",
    "    mu = torch.mean(act, axis=0)\n",
    "    sigma = torch.cov(act.permute(0, 1))\n",
    "    return mu, sigma\n",
    "\n",
    "\n",
    "# Modified from: https://github.com/bioinf-jku/TTUR/blob/master/fid.py\n",
    "def calculate_frechet_distance(mu1, sigma1, mu2, sigma2, eps=1e-6):\n",
    "    \"\"\"Numpy implementation of the Frechet Distance.\n",
    "    The Frechet distance between two multivariate Gaussians X_1 ~ N(mu_1, C_1)\n",
    "    and X_2 ~ N(mu_2, C_2) is\n",
    "            d^2 = ||mu_1 - mu_2||^2 + Tr(C_1 + C_2 - 2*sqrt(C_1*C_2)).\n",
    "            \n",
    "    Stable version by Dougal J. Sutherland.\n",
    "\n",
    "    Params:\n",
    "    -- mu1 : Numpy array containing the activations of the pool_3 layer of the\n",
    "             inception net ( like returned by the function 'get_predictions')\n",
    "             for generated samples.\n",
    "    -- mu2   : The sample mean over activations of the pool_3 layer, precalcualted\n",
    "               on an representive resources set.\n",
    "    -- sigma1: The covariance matrix over activations of the pool_3 layer for\n",
    "               generated samples.\n",
    "    -- sigma2: The covariance matrix over activations of the pool_3 layer,\n",
    "               precalcualted on an representive resources set.\n",
    "\n",
    "    Returns:\n",
    "    --   : The Frechet Distance.\n",
    "    \"\"\"\n",
    "\n",
    "    mu1 = torch.atleast_1d(mu1)\n",
    "    mu2 = torch.atleast_1d(mu2)\n",
    "\n",
    "    sigma1 = torch.atleast_2d(sigma1)\n",
    "    sigma2 = torch.atleast_2d(sigma2)\n",
    "\n",
    "    assert mu1.shape == mu2.shape, \"Training and test mean vectors have different lengths\"\n",
    "    assert sigma1.shape == sigma2.shape, \"Training and test covariances have different dimensions\"\n",
    "\n",
    "    diff = mu1 - mu2\n",
    "    # product might be almost singular\n",
    "    covmean = sqrtm(sigma1 @ sigma2)\n",
    "    if not torch.isfinite(covmean).all():\n",
    "        msg = \"fid calculation produces singular product; adding %s to diagonal of cov estimates\" % eps\n",
    "        warnings.warn(msg)\n",
    "        offset = torch.eye(sigma1.shape[0]) * eps\n",
    "        covmean = sqrtm((sigma1 + offset).dot(sigma2 + offset))\n",
    "\n",
    "    # numerical error might give slight imaginary component\n",
    "    if torch.is_complex(covmean):\n",
    "        if not torch.allclose(torch.diagonal(covmean).imag, 0, atol=1e-3):\n",
    "            m = torch.max(torch.abs(covmean.imag))\n",
    "            raise ValueError(\"Imaginary component {}\".format(m))\n",
    "        covmean = covmean.real\n",
    "\n",
    "    tr_covmean = torch.trace(covmean)\n",
    "\n",
    "    return diff.dot(diff) + torch.trace(sigma1) + torch.trace(sigma2) - 2 * tr_covmean\n",
    "\n",
    "def calculate_fid(images1, images2, batch_size=64):\n",
    "    \"\"\" Calculate FID between images1 and images2\n",
    "    Args:\n",
    "        images1: np.array, shape: (N, H, W, 3), dtype: np.float32 between 0-1 or np.uint8\n",
    "        images2: np.array, shape: (N, H, W, 3), dtype: np.float32 between 0-1 or np.uint8\n",
    "        use_multiprocessing: If multiprocessing should be used to pre-process the images\n",
    "        batch size: batch size used for inception network\n",
    "    Returns:\n",
    "        FID (scalar)\n",
    "    \"\"\"\n",
    "    mu1, sigma1 = calculate_activation_statistics(images1, batch_size)\n",
    "    mu2, sigma2 = calculate_activation_statistics(images2, batch_size)\n",
    "    fid = calculate_frechet_distance(mu1, sigma1, mu2, sigma2)\n",
    "    return fid"
   ],
   "metadata": {
    "trusted": true,
    "execution": {
     "iopub.status.busy": "2025-06-17T03:05:29.661242Z",
     "iopub.execute_input": "2025-06-17T03:05:29.661692Z",
     "iopub.status.idle": "2025-06-17T03:05:31.091571Z",
     "shell.execute_reply.started": "2025-06-17T03:05:29.661674Z",
     "shell.execute_reply": "2025-06-17T03:05:31.090783Z"
    }
   },
   "outputs": [
    {
     "name": "stderr",
     "text": "/usr/local/lib/python3.11/dist-packages/torchvision/models/_utils.py:208: UserWarning: The parameter 'pretrained' is deprecated since 0.13 and may be removed in the future, please use 'weights' instead.\n  warnings.warn(\n/usr/local/lib/python3.11/dist-packages/torchvision/models/_utils.py:223: UserWarning: Arguments other than a weight enum or `None` for 'weights' are deprecated since 0.13 and may be removed in the future. The current behavior is equivalent to passing `weights=Inception_V3_Weights.IMAGENET1K_V1`. You can also use `weights=Inception_V3_Weights.DEFAULT` to get the most up-to-date weights.\n  warnings.warn(msg)\nDownloading: \"https://download.pytorch.org/models/inception_v3_google-0cc3c7bd.pth\" to /root/.cache/torch/hub/checkpoints/inception_v3_google-0cc3c7bd.pth\n100%|██████████| 104M/104M [00:00<00:00, 211MB/s] \n",
     "output_type": "stream"
    }
   ],
   "execution_count": 31
  },
  {
   "cell_type": "code",
   "source": "# idl = iter(train_loader)\n# for i in tqdm(range(1)):\n#     reals = ((next(idl))[0] * 1).to(device)\n\n# for i in tqdm(range(1)):\n#     fakes = generate_w_grad(num_image=64)\n#     fakes = torch.clamp(fakes, 0, 1)",
   "metadata": {
    "trusted": true,
    "execution": {
     "iopub.status.busy": "2025-06-17T03:05:31.092466Z",
     "iopub.execute_input": "2025-06-17T03:05:31.092669Z",
     "iopub.status.idle": "2025-06-17T03:05:31.096431Z",
     "shell.execute_reply.started": "2025-06-17T03:05:31.092652Z",
     "shell.execute_reply": "2025-06-17T03:05:31.095651Z"
    }
   },
   "outputs": [],
   "execution_count": 32
  },
  {
   "cell_type": "code",
   "source": "# enable memory history, which will\n# add tracebacks and event history to snapshots\n# torch.cuda.memory._record_memory_history()",
   "metadata": {
    "trusted": true,
    "execution": {
     "iopub.status.busy": "2025-06-17T03:05:31.097158Z",
     "iopub.execute_input": "2025-06-17T03:05:31.097484Z",
     "iopub.status.idle": "2025-06-17T03:05:31.112536Z",
     "shell.execute_reply.started": "2025-06-17T03:05:31.097467Z",
     "shell.execute_reply": "2025-06-17T03:05:31.111847Z"
    }
   },
   "outputs": [],
   "execution_count": 33
  },
  {
   "cell_type": "code",
   "source": "# %%time\n# calculate_fid(reals[:2], fakes[:2], 2)",
   "metadata": {
    "trusted": true,
    "execution": {
     "iopub.status.busy": "2025-06-17T03:05:31.113268Z",
     "iopub.execute_input": "2025-06-17T03:05:31.113945Z",
     "iopub.status.idle": "2025-06-17T03:05:31.125971Z",
     "shell.execute_reply.started": "2025-06-17T03:05:31.113920Z",
     "shell.execute_reply": "2025-06-17T03:05:31.125362Z"
    }
   },
   "outputs": [],
   "execution_count": 34
  },
  {
   "cell_type": "code",
   "source": "# torch.cuda.memory._dump_snapshot(\"my_snapshot.pickle\")",
   "metadata": {
    "trusted": true,
    "execution": {
     "iopub.status.busy": "2025-06-17T03:05:31.126762Z",
     "iopub.execute_input": "2025-06-17T03:05:31.126995Z",
     "iopub.status.idle": "2025-06-17T03:05:31.139679Z",
     "shell.execute_reply.started": "2025-06-17T03:05:31.126974Z",
     "shell.execute_reply": "2025-06-17T03:05:31.139072Z"
    }
   },
   "outputs": [],
   "execution_count": 35
  },
  {
   "cell_type": "code",
   "source": "# import gc\n# torch.cuda.empty_cache()\n# gc.collect()",
   "metadata": {
    "trusted": true,
    "execution": {
     "iopub.status.busy": "2025-06-17T03:05:31.140388Z",
     "iopub.execute_input": "2025-06-17T03:05:31.140626Z",
     "iopub.status.idle": "2025-06-17T03:05:31.152180Z",
     "shell.execute_reply.started": "2025-06-17T03:05:31.140607Z",
     "shell.execute_reply": "2025-06-17T03:05:31.151523Z"
    }
   },
   "outputs": [],
   "execution_count": 36
  },
  {
   "cell_type": "code",
   "source": "def symmetric_matrix_sqrt(A):\n    # A: (D,D), symmetric PSD\n    eigval, eigvec = torch.linalg.eigh(A + 1e-6)\n    eigval = torch.clamp(eigval, min=1e-8)\n    sqrt_eig = torch.sqrt(eigval)\n    # V diag(sqrt) Vᵀ\n    return eigvec @ (sqrt_eig.unsqueeze(-2) * eigvec.transpose(-2,-1))",
   "metadata": {
    "trusted": true,
    "execution": {
     "iopub.status.busy": "2025-06-17T03:05:31.152830Z",
     "iopub.execute_input": "2025-06-17T03:05:31.153055Z",
     "iopub.status.idle": "2025-06-17T03:05:31.164915Z",
     "shell.execute_reply.started": "2025-06-17T03:05:31.153039Z",
     "shell.execute_reply": "2025-06-17T03:05:31.164349Z"
    }
   },
   "outputs": [],
   "execution_count": 37
  },
  {
   "cell_type": "code",
   "source": "from mpmath import *\nimport numpy as np\nimport torch\n\nmp.dps = 32\none = mpf(1)\nmp.pretty = True\n\ndef f(x):\n    return sqrt(one-x)\n\n# Derive the taylor and pade' coefficients for MTP, MPA\na = taylor(f, 0, 10)\npade_p, pade_q = pade(a, 5, 5)\na = torch.from_numpy(np.array(a).astype(float))\npade_p = torch.from_numpy(np.array(pade_p).astype(float))\npade_q = torch.from_numpy(np.array(pade_q).astype(float))\n\ndef matrix_taylor_polynomial(p, I):\n    p_sqrt= I\n    p_app = I - p\n    p_hat = p_app\n    for i in range(10):\n      p_sqrt += a[i+1]*p_hat\n      p_hat = p_hat.bmm(p_app)\n    return p_sqrt\n\ndef matrix_pade_approximant(p,I):\n    p_sqrt = pade_p[0]*I\n    q_sqrt = pade_q[0]*I\n    p_app = I - p\n    p_hat = p_app\n    for i in range(5):\n        p_sqrt += pade_p[i+1]*p_hat\n        q_sqrt += pade_q[i+1]*p_hat\n        p_hat = p_hat.bmm(p_app)\n    #There are 4 options to compute the MPA: comput Matrix Inverse or Matrix Linear System on CPU/GPU;\n    #It seems that single matrix is faster on CPU and batched matrices are faster on GPU\n    #Please check which one is faster before running the code;\n    return torch.linalg.solve(q_sqrt, p_sqrt)\n    #return torch.linalg.solve(q_sqrt.cpu(), p_sqrt.cpu()).cuda()\n    #return torch.linalg.inv(q_sqrt).mm(p_sqrt)\n    #return torch.linalg.inv(q_sqrt.cpu()).cuda().bmm(p_sqrt)\n\ndef matrix_pade_approximant_inverse(p,I):\n    p_sqrt = pade_p[0]*I\n    q_sqrt = pade_q[0]*I\n    p_app = I - p\n    p_hat = p_app\n    for i in range(5):\n        p_sqrt += pade_p[i+1]*p_hat\n        q_sqrt += pade_q[i+1]*p_hat\n        p_hat = p_hat.bmm(p_app)\n    #There are 4 options to compute the MPA_inverse: comput Matrix Inverse or Matrix Linear System on CPU/GPU;\n    #It seems that single matrix is faster on CPU and batched matrices are faster on GPU\n    #Please check which one is faster before running the code;\n    return torch.linalg.solve(p_sqrt, q_sqrt)\n    #return torch.linalg.solve(p_sqrt.cpu(), q_sqrt.cpu()).cuda()\n    #return torch.linalg.inv(p_sqrt).mm(q_sqrt)\n    #return torch.linalg.inv(p_sqrt.cpu()).cuda().bmm(q_sqrt)\n\n#Differentiable Matrix Square Root by MPA_Lya\nclass MPA_Lya(torch.autograd.Function):\n    @staticmethod\n    def forward(ctx, M):\n        normM = torch.norm(M,dim=[1,2]).reshape(M.size(0),1,1)\n        I = torch.eye(M.size(1), requires_grad=False, device=M.device).reshape(1,M.size(1),M.size(1)).repeat(M.size(0),1,1)\n        #This is for MTP calculation\n        #M_sqrt = matrix_taylor_polynomial(M/normM,I)\n        M_sqrt = matrix_pade_approximant(M / normM, I)\n        M_sqrt = M_sqrt * torch.sqrt(normM)\n        ctx.save_for_backward(M, M_sqrt, normM,  I)\n        return M_sqrt\n\n    @staticmethod\n    def backward(ctx, grad_output):\n        M, M_sqrt, normM,  I = ctx.saved_tensors\n        b = M_sqrt / torch.sqrt(normM)\n        c = grad_output / torch.sqrt(normM)\n        for i in range(8):\n            #In case you might terminate the iteration by checking convergence\n            #if th.norm(b-I)<1e-4:\n            #    break\n            b_2 = b.bmm(b)\n            c = 0.5 * (c.bmm(3.0*I-b_2)-b_2.bmm(c)+b.bmm(c).bmm(b))\n            b = 0.5 * b.bmm(3.0 * I - b_2)\n        grad_input = 0.5 * c\n        return grad_input\n\n#Differentiable Inverse Square Root by MPA_Lya_Inv\nclass MPA_Lya_Inv(torch.autograd.Function):\n    @staticmethod\n    def forward(ctx, M):\n        normM = torch.norm(M,dim=[1,2]).reshape(M.size(0),1,1)\n        I = torch.eye(M.size(1), requires_grad=False, device=M.device).reshape(1,M.size(1),M.size(1)).repeat(M.size(0),1,1)\n        #M_sqrt = matrix_taylor_polynomial(M/normM,I)\n        M_sqrt_inv = matrix_pade_approximant_inverse(M / normM, I)\n        M_sqrt_inv = M_sqrt_inv / torch.sqrt(normM)\n        ctx.save_for_backward(M, M_sqrt_inv,  I)\n        return M_sqrt_inv\n\n    @staticmethod\n    def backward(ctx, grad_output):\n        M, M_sqrt_inv,  I = ctx.saved_tensors\n        M_inv = M_sqrt_inv.bmm(M_sqrt_inv)\n        grad_lya = - M_inv.bmm(grad_output).bmm(M_inv)\n        norm_sqrt_inv = torch.norm(M_sqrt_inv)\n        b = M_sqrt_inv / norm_sqrt_inv\n        c = grad_lya / norm_sqrt_inv\n        for i in range(8):\n            #In case you might terminate the iteration by checking convergence\n            #if th.norm(b-I)<1e-4:\n            #    break\n            b_2 = b.bmm(b)\n            c = 0.5 * (c.bmm(3.0 * I - b_2) - b_2.bmm(c) + b.bmm(c).bmm(b))\n            b = 0.5 * b.bmm(3.0 * I - b_2)\n        grad_input = 0.5 * c\n        return grad_input",
   "metadata": {
    "trusted": true,
    "execution": {
     "iopub.status.busy": "2025-06-17T03:05:31.165639Z",
     "iopub.execute_input": "2025-06-17T03:05:31.165907Z",
     "iopub.status.idle": "2025-06-17T03:05:31.186130Z",
     "shell.execute_reply.started": "2025-06-17T03:05:31.165886Z",
     "shell.execute_reply": "2025-06-17T03:05:31.185435Z"
    }
   },
   "outputs": [],
   "execution_count": 38
  },
  {
   "cell_type": "code",
   "source": "FastMatSqrt = MPA_Lya.apply",
   "metadata": {
    "trusted": true,
    "execution": {
     "iopub.status.busy": "2025-06-17T03:05:31.186768Z",
     "iopub.execute_input": "2025-06-17T03:05:31.187466Z",
     "iopub.status.idle": "2025-06-17T03:05:31.203266Z",
     "shell.execute_reply.started": "2025-06-17T03:05:31.187449Z",
     "shell.execute_reply": "2025-06-17T03:05:31.202558Z"
    }
   },
   "outputs": [],
   "execution_count": 39
  },
  {
   "cell_type": "code",
   "source": "def train_fid_loss(num_batches=10):\n    model.train()\n    idl = iter(train_loader)\n    reals = ((next(idl))[0] * 1).to(device)\n    for i in range(num_batches - 1):\n        new_reals = ((next(idl))[0] * 1).to(device)\n        reals = torch.cat([reals, new_reals], dim=0)\n    reals = inception_resize(reals).to(device)\n    # total_loss = 0\n    for i in tqdm(range(0, 64 * num_batches, 8)):\n        real_images = reals[i:i+8]\n        fake_images = generate_w_grad(num_image=8)\n        if torch.isnan(fake_images).any():\n            fake_images = generate_w_grad(num_image=8)\n        # print(fake_images[0])\n        fake_images = torch.clamp(fake_images, 0, 1)\n        fake_images = inception_resize(fake_images).to(device)\n        # 2) Compute 2048‑d features in one forward per batch\n        feats_real = inception_network(real_images)   # → (B,2048)\n        feats_fake = inception_network(fake_images)   # → (B,2048)\n    \n        # 3) Batch‑wise μ & Σ (differentiable)\n        mu_r    = feats_real.mean(dim=0)\n        mu_f    = feats_fake.mean(dim=0)\n        x_r     = feats_real - mu_r\n        x_f     = feats_fake - mu_f\n        sigma_r = x_r.T @ x_r / (8 - 1)\n        sigma_f = x_f.T @ x_f / (8 - 1)\n    \n        # 4) Compute the symmetric sqrt of Σ_r Σ_f on GPU\n        covmean = FastMatSqrt((sigma_r @ sigma_f).unsqueeze(0)).squeeze()\n    \n        # 5) FID² as your loss\n        diff   = mu_r - mu_f\n        fid2   = diff.dot(diff) + torch.trace(sigma_r) + torch.trace(sigma_f) - 2 * torch.trace(covmean)\n        fid2 = fid2 * 1e-3\n        # total_loss += fid2\n        fid_optimizer.zero_grad()\n        fid2.backward()\n        # nn.utils.clip_grad_norm_(model.parameters(), 0.1)\n        fid_optimizer.step()\n    # fid_optimizer.zero_grad()\n    # total_loss.backward()\n    # nn.utils.clip_grad_norm_(model.parameters(), 0.1)\n    # fid_optimizer.step()",
   "metadata": {
    "trusted": true,
    "execution": {
     "iopub.status.busy": "2025-06-17T03:05:31.203961Z",
     "iopub.execute_input": "2025-06-17T03:05:31.204188Z",
     "iopub.status.idle": "2025-06-17T03:05:31.217953Z",
     "shell.execute_reply.started": "2025-06-17T03:05:31.204169Z",
     "shell.execute_reply": "2025-06-17T03:05:31.217365Z"
    }
   },
   "outputs": [],
   "execution_count": 40
  },
  {
   "cell_type": "code",
   "source": "# train_fid_loss()",
   "metadata": {
    "trusted": true,
    "execution": {
     "iopub.status.busy": "2025-06-17T03:05:31.222019Z",
     "iopub.execute_input": "2025-06-17T03:05:31.222244Z",
     "iopub.status.idle": "2025-06-17T03:05:31.234920Z",
     "shell.execute_reply.started": "2025-06-17T03:05:31.222228Z",
     "shell.execute_reply": "2025-06-17T03:05:31.234304Z"
    }
   },
   "outputs": [],
   "execution_count": 41
  },
  {
   "cell_type": "markdown",
   "source": "## Training",
   "metadata": {}
  },
  {
   "cell_type": "code",
   "source": "model = VAE().to(device)",
   "metadata": {
    "trusted": true,
    "execution": {
     "iopub.status.busy": "2025-06-17T03:28:43.535017Z",
     "iopub.execute_input": "2025-06-17T03:28:43.535393Z",
     "iopub.status.idle": "2025-06-17T03:28:43.573991Z",
     "shell.execute_reply.started": "2025-06-17T03:28:43.535372Z",
     "shell.execute_reply": "2025-06-17T03:28:43.573438Z"
    }
   },
   "outputs": [],
   "execution_count": 60
  },
  {
   "cell_type": "code",
   "source": "sum(p.numel() for p in model.parameters())",
   "metadata": {
    "trusted": true,
    "execution": {
     "iopub.status.busy": "2025-06-17T03:28:43.694826Z",
     "iopub.execute_input": "2025-06-17T03:28:43.695284Z",
     "iopub.status.idle": "2025-06-17T03:28:43.700389Z",
     "shell.execute_reply.started": "2025-06-17T03:28:43.695263Z",
     "shell.execute_reply": "2025-06-17T03:28:43.699874Z"
    }
   },
   "outputs": [
    {
     "execution_count": 61,
     "output_type": "execute_result",
     "data": {
      "text/plain": "1566838"
     },
     "metadata": {}
    }
   ],
   "execution_count": 61
  },
  {
   "cell_type": "code",
   "source": "criteria = nn.MSELoss()\n# criteria = nn.L1Loss()\n# optimizer = AdamW(model.parameters(), lr=1e-4)\n# optimizer = SGD(model.parameters(), lr=1e-4, momentum=0.9)\noptimizer = SPlus(model.parameters(), lr=0.2)\nscheduler = ExponentialLR(optimizer, gamma=0.9)",
   "metadata": {
    "trusted": true,
    "execution": {
     "iopub.status.busy": "2025-06-17T03:28:43.931784Z",
     "iopub.execute_input": "2025-06-17T03:28:43.931963Z",
     "iopub.status.idle": "2025-06-17T03:28:43.936999Z",
     "shell.execute_reply.started": "2025-06-17T03:28:43.931949Z",
     "shell.execute_reply": "2025-06-17T03:28:43.936277Z"
    }
   },
   "outputs": [],
   "execution_count": 62
  },
  {
   "cell_type": "code",
   "source": "hidden_weights = [p for p in model.parameters() if p.ndim >= 2]\nhidden_gains_biases = [p for p in model.parameters() if p.ndim < 2]",
   "metadata": {
    "trusted": true,
    "execution": {
     "iopub.status.busy": "2025-06-17T03:28:44.460339Z",
     "iopub.execute_input": "2025-06-17T03:28:44.460982Z",
     "iopub.status.idle": "2025-06-17T03:28:44.465366Z",
     "shell.execute_reply.started": "2025-06-17T03:28:44.460963Z",
     "shell.execute_reply": "2025-06-17T03:28:44.464545Z"
    }
   },
   "outputs": [],
   "execution_count": 63
  },
  {
   "cell_type": "code",
   "source": "# for name, p in model.named_parameters():\n#     print(p.ndim)\n#     print(p.shape)\n#     print(name)\n#     break",
   "metadata": {
    "trusted": true,
    "execution": {
     "iopub.status.busy": "2025-06-17T03:28:44.658835Z",
     "iopub.execute_input": "2025-06-17T03:28:44.659100Z",
     "iopub.status.idle": "2025-06-17T03:28:44.662548Z",
     "shell.execute_reply.started": "2025-06-17T03:28:44.659078Z",
     "shell.execute_reply": "2025-06-17T03:28:44.661757Z"
    }
   },
   "outputs": [],
   "execution_count": 64
  },
  {
   "cell_type": "code",
   "source": "param_groups = [\n    dict(params=hidden_weights, use_muon=True,\n         lr=1e-2, weight_decay=0, momentum=0.95, nesterov=True),\n]\nmuon_optimizer = SingleDeviceMuon(param_groups)\nmuon_scheduler = ExponentialLR(muon_optimizer, gamma=0.8)\nparam_groups = [\n    dict(params=hidden_gains_biases, lr=3e-4, weight_decay=0),\n]\nadamw_optimizer = AdamW(param_groups)\nadamw_scheduler = ExponentialLR(adamw_optimizer, gamma=0.8)",
   "metadata": {
    "trusted": true,
    "execution": {
     "iopub.status.busy": "2025-06-17T03:28:44.808963Z",
     "iopub.execute_input": "2025-06-17T03:28:44.809228Z",
     "iopub.status.idle": "2025-06-17T03:28:44.816865Z",
     "shell.execute_reply.started": "2025-06-17T03:28:44.809206Z",
     "shell.execute_reply": "2025-06-17T03:28:44.816083Z"
    }
   },
   "outputs": [],
   "execution_count": 65
  },
  {
   "cell_type": "code",
   "source": "optimizer = MultipleOptimizer(muon_optimizer, adamw_optimizer)\nscheduler = MultipleScheduler(muon_scheduler, adamw_scheduler)",
   "metadata": {
    "trusted": true,
    "execution": {
     "iopub.status.busy": "2025-06-17T03:28:44.980313Z",
     "iopub.execute_input": "2025-06-17T03:28:44.981069Z",
     "iopub.status.idle": "2025-06-17T03:28:44.985199Z",
     "shell.execute_reply.started": "2025-06-17T03:28:44.981042Z",
     "shell.execute_reply": "2025-06-17T03:28:44.984247Z"
    }
   },
   "outputs": [],
   "execution_count": 66
  },
  {
   "cell_type": "code",
   "source": "fid_optimizer = AdamW(model.parameters(), lr=1e-5, eps=1e-8, weight_decay=0)",
   "metadata": {
    "trusted": true,
    "execution": {
     "iopub.status.busy": "2025-06-17T03:28:45.328021Z",
     "iopub.execute_input": "2025-06-17T03:28:45.328714Z",
     "iopub.status.idle": "2025-06-17T03:28:45.338224Z",
     "shell.execute_reply.started": "2025-06-17T03:28:45.328684Z",
     "shell.execute_reply": "2025-06-17T03:28:45.337647Z"
    }
   },
   "outputs": [],
   "execution_count": 67
  },
  {
   "cell_type": "code",
   "source": "# for p in model.parameters():\n#     p.register_hook(lambda grad: torch.clamp(grad, -1e-0, 1e-0))",
   "metadata": {
    "trusted": true,
    "execution": {
     "iopub.status.busy": "2025-06-17T03:28:45.503320Z",
     "iopub.execute_input": "2025-06-17T03:28:45.503583Z",
     "iopub.status.idle": "2025-06-17T03:28:45.507086Z",
     "shell.execute_reply.started": "2025-06-17T03:28:45.503567Z",
     "shell.execute_reply": "2025-06-17T03:28:45.506354Z"
    }
   },
   "outputs": [],
   "execution_count": 68
  },
  {
   "cell_type": "code",
   "source": "for i in range(5):\n    # kl_weight = 1e-6 * (i + 2) / 2\n    kl_weight = 5e-6\n    # optimizer.train()\n    train()\n    # train_fid_loss(num_batches=10)\n    # optimizer.eval()\n    test()\n\n# with torch.autograd.set_detect_anomaly(True):",
   "metadata": {
    "trusted": true,
    "execution": {
     "iopub.status.busy": "2025-06-17T03:28:45.607827Z",
     "iopub.execute_input": "2025-06-17T03:28:45.608036Z",
     "iopub.status.idle": "2025-06-17T03:35:19.304806Z",
     "shell.execute_reply.started": "2025-06-17T03:28:45.608020Z",
     "shell.execute_reply": "2025-06-17T03:35:19.303908Z"
    }
   },
   "outputs": [
    {
     "name": "stderr",
     "text": "Average Loss: 0.274248: 100%|██████████| 625/625 [01:14<00:00,  8.38it/s]\n",
     "output_type": "stream"
    },
    {
     "name": "stdout",
     "text": "Reconstruction Loss to KL Divergence Loss:  0.384564\n",
     "output_type": "stream"
    },
    {
     "name": "stderr",
     "text": "Testing: Average Loss: 0.446920: 100%|██████████| 79/79 [00:04<00:00, 17.95it/s]\nAverage Loss: 0.253161: 100%|██████████| 625/625 [01:13<00:00,  8.45it/s]\n",
     "output_type": "stream"
    },
    {
     "name": "stdout",
     "text": "Reconstruction Loss to KL Divergence Loss:  0.296834\n",
     "output_type": "stream"
    },
    {
     "name": "stderr",
     "text": "Testing: Average Loss: 0.442020: 100%|██████████| 79/79 [00:04<00:00, 18.04it/s]\nAverage Loss: 0.250330: 100%|██████████| 625/625 [01:13<00:00,  8.45it/s]\n",
     "output_type": "stream"
    },
    {
     "name": "stdout",
     "text": "Reconstruction Loss to KL Divergence Loss:  0.287248\n",
     "output_type": "stream"
    },
    {
     "name": "stderr",
     "text": "Testing: Average Loss: 0.437914: 100%|██████████| 79/79 [00:04<00:00, 18.01it/s]\nAverage Loss: 0.248567: 100%|██████████| 625/625 [01:14<00:00,  8.43it/s]\n",
     "output_type": "stream"
    },
    {
     "name": "stdout",
     "text": "Reconstruction Loss to KL Divergence Loss:  0.282309\n",
     "output_type": "stream"
    },
    {
     "name": "stderr",
     "text": "Testing: Average Loss: 0.437082: 100%|██████████| 79/79 [00:04<00:00, 17.91it/s]\nAverage Loss: 0.247118: 100%|██████████| 625/625 [01:14<00:00,  8.39it/s]\n",
     "output_type": "stream"
    },
    {
     "name": "stdout",
     "text": "Reconstruction Loss to KL Divergence Loss:  0.278977\n",
     "output_type": "stream"
    },
    {
     "name": "stderr",
     "text": "Testing: Average Loss: 0.435088: 100%|██████████| 79/79 [00:04<00:00, 17.53it/s]\n",
     "output_type": "stream"
    }
   ],
   "execution_count": 69
  },
  {
   "cell_type": "code",
   "source": "train_fid_loss()\ntrain_fid_loss()",
   "metadata": {
    "trusted": true,
    "execution": {
     "iopub.status.busy": "2025-06-17T03:36:08.075285Z",
     "iopub.execute_input": "2025-06-17T03:36:08.076076Z",
     "iopub.status.idle": "2025-06-17T03:36:24.962254Z",
     "shell.execute_reply.started": "2025-06-17T03:36:08.076049Z",
     "shell.execute_reply": "2025-06-17T03:36:24.960824Z"
    }
   },
   "outputs": [
    {
     "name": "stderr",
     "text": " 85%|████████▌ | 68/80 [00:16<00:02,  4.18it/s]\n",
     "output_type": "stream"
    },
    {
     "traceback": [
      "\u001B[0;31m---------------------------------------------------------------------------\u001B[0m",
      "\u001B[0;31mKeyboardInterrupt\u001B[0m                         Traceback (most recent call last)",
      "\u001B[0;32m/tmp/ipykernel_35/4012344464.py\u001B[0m in \u001B[0;36m<cell line: 0>\u001B[0;34m()\u001B[0m\n\u001B[0;32m----> 1\u001B[0;31m \u001B[0mtrain_fid_loss\u001B[0m\u001B[0;34m(\u001B[0m\u001B[0;34m)\u001B[0m\u001B[0;34m\u001B[0m\u001B[0;34m\u001B[0m\u001B[0m\n\u001B[0m\u001B[1;32m      2\u001B[0m \u001B[0mtrain_fid_loss\u001B[0m\u001B[0;34m(\u001B[0m\u001B[0;34m)\u001B[0m\u001B[0;34m\u001B[0m\u001B[0;34m\u001B[0m\u001B[0m\n",
      "\u001B[0;32m/tmp/ipykernel_35/1173625265.py\u001B[0m in \u001B[0;36mtrain_fid_loss\u001B[0;34m(num_batches)\u001B[0m\n\u001B[1;32m     29\u001B[0m \u001B[0;34m\u001B[0m\u001B[0m\n\u001B[1;32m     30\u001B[0m         \u001B[0;31m# 4) Compute the symmetric sqrt of Σ_r Σ_f on GPU\u001B[0m\u001B[0;34m\u001B[0m\u001B[0;34m\u001B[0m\u001B[0m\n\u001B[0;32m---> 31\u001B[0;31m         \u001B[0mcovmean\u001B[0m \u001B[0;34m=\u001B[0m \u001B[0mFastMatSqrt\u001B[0m\u001B[0;34m(\u001B[0m\u001B[0;34m(\u001B[0m\u001B[0msigma_r\u001B[0m \u001B[0;34m@\u001B[0m \u001B[0msigma_f\u001B[0m\u001B[0;34m)\u001B[0m\u001B[0;34m.\u001B[0m\u001B[0munsqueeze\u001B[0m\u001B[0;34m(\u001B[0m\u001B[0;36m0\u001B[0m\u001B[0;34m)\u001B[0m\u001B[0;34m)\u001B[0m\u001B[0;34m.\u001B[0m\u001B[0msqueeze\u001B[0m\u001B[0;34m(\u001B[0m\u001B[0;34m)\u001B[0m\u001B[0;34m\u001B[0m\u001B[0;34m\u001B[0m\u001B[0m\n\u001B[0m\u001B[1;32m     32\u001B[0m \u001B[0;34m\u001B[0m\u001B[0m\n\u001B[1;32m     33\u001B[0m         \u001B[0;31m# 5) FID² as your loss\u001B[0m\u001B[0;34m\u001B[0m\u001B[0;34m\u001B[0m\u001B[0m\n",
      "\u001B[0;32m/usr/local/lib/python3.11/dist-packages/torch/autograd/function.py\u001B[0m in \u001B[0;36mapply\u001B[0;34m(cls, *args, **kwargs)\u001B[0m\n\u001B[1;32m    573\u001B[0m             \u001B[0;31m# See NOTE: [functorch vjp and autograd interaction]\u001B[0m\u001B[0;34m\u001B[0m\u001B[0;34m\u001B[0m\u001B[0m\n\u001B[1;32m    574\u001B[0m             \u001B[0margs\u001B[0m \u001B[0;34m=\u001B[0m \u001B[0m_functorch\u001B[0m\u001B[0;34m.\u001B[0m\u001B[0mutils\u001B[0m\u001B[0;34m.\u001B[0m\u001B[0munwrap_dead_wrappers\u001B[0m\u001B[0;34m(\u001B[0m\u001B[0margs\u001B[0m\u001B[0;34m)\u001B[0m\u001B[0;34m\u001B[0m\u001B[0;34m\u001B[0m\u001B[0m\n\u001B[0;32m--> 575\u001B[0;31m             \u001B[0;32mreturn\u001B[0m \u001B[0msuper\u001B[0m\u001B[0;34m(\u001B[0m\u001B[0;34m)\u001B[0m\u001B[0;34m.\u001B[0m\u001B[0mapply\u001B[0m\u001B[0;34m(\u001B[0m\u001B[0;34m*\u001B[0m\u001B[0margs\u001B[0m\u001B[0;34m,\u001B[0m \u001B[0;34m**\u001B[0m\u001B[0mkwargs\u001B[0m\u001B[0;34m)\u001B[0m  \u001B[0;31m# type: ignore[misc]\u001B[0m\u001B[0;34m\u001B[0m\u001B[0;34m\u001B[0m\u001B[0m\n\u001B[0m\u001B[1;32m    576\u001B[0m \u001B[0;34m\u001B[0m\u001B[0m\n\u001B[1;32m    577\u001B[0m         \u001B[0;32mif\u001B[0m \u001B[0;32mnot\u001B[0m \u001B[0mis_setup_ctx_defined\u001B[0m\u001B[0;34m:\u001B[0m\u001B[0;34m\u001B[0m\u001B[0;34m\u001B[0m\u001B[0m\n",
      "\u001B[0;32m/tmp/ipykernel_35/1090256603.py\u001B[0m in \u001B[0;36mforward\u001B[0;34m(ctx, M)\u001B[0m\n\u001B[1;32m     68\u001B[0m         \u001B[0;31m#This is for MTP calculation\u001B[0m\u001B[0;34m\u001B[0m\u001B[0;34m\u001B[0m\u001B[0m\n\u001B[1;32m     69\u001B[0m         \u001B[0;31m#M_sqrt = matrix_taylor_polynomial(M/normM,I)\u001B[0m\u001B[0;34m\u001B[0m\u001B[0;34m\u001B[0m\u001B[0m\n\u001B[0;32m---> 70\u001B[0;31m         \u001B[0mM_sqrt\u001B[0m \u001B[0;34m=\u001B[0m \u001B[0mmatrix_pade_approximant\u001B[0m\u001B[0;34m(\u001B[0m\u001B[0mM\u001B[0m \u001B[0;34m/\u001B[0m \u001B[0mnormM\u001B[0m\u001B[0;34m,\u001B[0m \u001B[0mI\u001B[0m\u001B[0;34m)\u001B[0m\u001B[0;34m\u001B[0m\u001B[0;34m\u001B[0m\u001B[0m\n\u001B[0m\u001B[1;32m     71\u001B[0m         \u001B[0mM_sqrt\u001B[0m \u001B[0;34m=\u001B[0m \u001B[0mM_sqrt\u001B[0m \u001B[0;34m*\u001B[0m \u001B[0mtorch\u001B[0m\u001B[0;34m.\u001B[0m\u001B[0msqrt\u001B[0m\u001B[0;34m(\u001B[0m\u001B[0mnormM\u001B[0m\u001B[0;34m)\u001B[0m\u001B[0;34m\u001B[0m\u001B[0;34m\u001B[0m\u001B[0m\n\u001B[1;32m     72\u001B[0m         \u001B[0mctx\u001B[0m\u001B[0;34m.\u001B[0m\u001B[0msave_for_backward\u001B[0m\u001B[0;34m(\u001B[0m\u001B[0mM\u001B[0m\u001B[0;34m,\u001B[0m \u001B[0mM_sqrt\u001B[0m\u001B[0;34m,\u001B[0m \u001B[0mnormM\u001B[0m\u001B[0;34m,\u001B[0m  \u001B[0mI\u001B[0m\u001B[0;34m)\u001B[0m\u001B[0;34m\u001B[0m\u001B[0;34m\u001B[0m\u001B[0m\n",
      "\u001B[0;32m/tmp/ipykernel_35/1090256603.py\u001B[0m in \u001B[0;36mmatrix_pade_approximant\u001B[0;34m(p, I)\u001B[0m\n\u001B[1;32m     38\u001B[0m     \u001B[0;31m#It seems that single matrix is faster on CPU and batched matrices are faster on GPU\u001B[0m\u001B[0;34m\u001B[0m\u001B[0;34m\u001B[0m\u001B[0m\n\u001B[1;32m     39\u001B[0m     \u001B[0;31m#Please check which one is faster before running the code;\u001B[0m\u001B[0;34m\u001B[0m\u001B[0;34m\u001B[0m\u001B[0m\n\u001B[0;32m---> 40\u001B[0;31m     \u001B[0;32mreturn\u001B[0m \u001B[0mtorch\u001B[0m\u001B[0;34m.\u001B[0m\u001B[0mlinalg\u001B[0m\u001B[0;34m.\u001B[0m\u001B[0msolve\u001B[0m\u001B[0;34m(\u001B[0m\u001B[0mq_sqrt\u001B[0m\u001B[0;34m,\u001B[0m \u001B[0mp_sqrt\u001B[0m\u001B[0;34m)\u001B[0m\u001B[0;34m\u001B[0m\u001B[0;34m\u001B[0m\u001B[0m\n\u001B[0m\u001B[1;32m     41\u001B[0m     \u001B[0;31m#return torch.linalg.solve(q_sqrt.cpu(), p_sqrt.cpu()).cuda()\u001B[0m\u001B[0;34m\u001B[0m\u001B[0;34m\u001B[0m\u001B[0m\n\u001B[1;32m     42\u001B[0m     \u001B[0;31m#return torch.linalg.inv(q_sqrt).mm(p_sqrt)\u001B[0m\u001B[0;34m\u001B[0m\u001B[0;34m\u001B[0m\u001B[0m\n",
      "\u001B[0;31mKeyboardInterrupt\u001B[0m: "
     ],
     "ename": "KeyboardInterrupt",
     "evalue": "",
     "output_type": "error"
    }
   ],
   "execution_count": 78
  },
  {
   "cell_type": "code",
   "source": "for x, _ in test_loader:\n    img = x.to(device)\n    img = img * 2 - 1\n    _, _, output = model(img)\n    output = (output + 1) / 2\n    break",
   "metadata": {
    "trusted": true,
    "execution": {
     "iopub.status.busy": "2025-06-17T03:36:27.728994Z",
     "iopub.execute_input": "2025-06-17T03:36:27.729612Z",
     "iopub.status.idle": "2025-06-17T03:36:28.394114Z",
     "shell.execute_reply.started": "2025-06-17T03:36:27.729579Z",
     "shell.execute_reply": "2025-06-17T03:36:28.393296Z"
    }
   },
   "outputs": [],
   "execution_count": 79
  },
  {
   "cell_type": "code",
   "source": "plt.imshow(x[0].permute(1, 2, 0))",
   "metadata": {
    "trusted": true,
    "execution": {
     "iopub.status.busy": "2025-06-17T03:36:28.396466Z",
     "iopub.execute_input": "2025-06-17T03:36:28.396712Z",
     "iopub.status.idle": "2025-06-17T03:36:28.559174Z",
     "shell.execute_reply.started": "2025-06-17T03:36:28.396691Z",
     "shell.execute_reply": "2025-06-17T03:36:28.558529Z"
    }
   },
   "outputs": [
    {
     "execution_count": 80,
     "output_type": "execute_result",
     "data": {
      "text/plain": "<matplotlib.image.AxesImage at 0x78975809d950>"
     },
     "metadata": {}
    },
    {
     "output_type": "display_data",
     "data": {
      "text/plain": "<Figure size 640x480 with 1 Axes>",
      "image/png": "[encoded data removed]"
     },
     "metadata": {}
    }
   ],
   "execution_count": 80
  },
  {
   "cell_type": "code",
   "source": "plt.imshow(output[0].detach().cpu().permute(1, 2, 0))",
   "metadata": {
    "trusted": true,
    "execution": {
     "iopub.status.busy": "2025-06-17T03:36:28.559998Z",
     "iopub.execute_input": "2025-06-17T03:36:28.560281Z",
     "iopub.status.idle": "2025-06-17T03:36:28.704918Z",
     "shell.execute_reply.started": "2025-06-17T03:36:28.560262Z",
     "shell.execute_reply": "2025-06-17T03:36:28.704114Z"
    }
   },
   "outputs": [
    {
     "execution_count": 81,
     "output_type": "execute_result",
     "data": {
      "text/plain": "<matplotlib.image.AxesImage at 0x789821f40610>"
     },
     "metadata": {}
    },
    {
     "output_type": "display_data",
     "data": {
      "text/plain": "<Figure size 640x480 with 1 Axes>",
      "image/png": "[encoded data removed]"
     },
     "metadata": {}
    }
   ],
   "execution_count": 81
  },
  {
   "cell_type": "code",
   "source": "img = generate_image().permute(1, 2, 0)",
   "metadata": {
    "trusted": true,
    "execution": {
     "iopub.status.busy": "2025-06-17T03:36:30.270507Z",
     "iopub.execute_input": "2025-06-17T03:36:30.270790Z",
     "iopub.status.idle": "2025-06-17T03:36:30.281419Z",
     "shell.execute_reply.started": "2025-06-17T03:36:30.270769Z",
     "shell.execute_reply": "2025-06-17T03:36:30.280691Z"
    }
   },
   "outputs": [],
   "execution_count": 82
  },
  {
   "cell_type": "code",
   "source": "plt.imshow(img)",
   "metadata": {
    "trusted": true,
    "execution": {
     "iopub.status.busy": "2025-06-17T03:36:30.479422Z",
     "iopub.execute_input": "2025-06-17T03:36:30.479615Z",
     "iopub.status.idle": "2025-06-17T03:36:30.629696Z",
     "shell.execute_reply.started": "2025-06-17T03:36:30.479600Z",
     "shell.execute_reply": "2025-06-17T03:36:30.628994Z"
    }
   },
   "outputs": [
    {
     "execution_count": 83,
     "output_type": "execute_result",
     "data": {
      "text/plain": "<matplotlib.image.AxesImage at 0x789748134750>"
     },
     "metadata": {}
    },
    {
     "output_type": "display_data",
     "data": {
      "text/plain": "<Figure size 640x480 with 1 Axes>",
      "image/png": "[encoded data removed]"
     },
     "metadata": {}
    }
   ],
   "execution_count": 83
  },
  {
   "cell_type": "markdown",
   "source": "# FID Computation",
   "metadata": {}
  },
  {
   "cell_type": "code",
   "source": "from torcheval.metrics import FrechetInceptionDistance\nfid = FrechetInceptionDistance(device = \"cuda\")\n\nidl = iter(train_loader)\nfor i in tqdm(range(4)):\n    reals = ((next(idl))[0] * 1).to(device)\n    fid.update(reals, True)\n\nfor i in tqdm(range(4)):\n    fakes = generate_image(num_image=64)\n    fakes = torch.clamp(fakes, 0, 1)\n    fid.update(fakes, False)",
   "metadata": {
    "trusted": true,
    "execution": {
     "iopub.status.busy": "2025-06-17T03:36:31.620606Z",
     "iopub.execute_input": "2025-06-17T03:36:31.621423Z",
     "iopub.status.idle": "2025-06-17T03:36:33.234854Z",
     "shell.execute_reply.started": "2025-06-17T03:36:31.621377Z",
     "shell.execute_reply": "2025-06-17T03:36:33.233837Z"
    }
   },
   "outputs": [
    {
     "name": "stderr",
     "text": "100%|██████████| 4/4 [00:00<00:00,  7.62it/s]\n100%|██████████| 4/4 [00:00<00:00,  7.13it/s]\n",
     "output_type": "stream"
    }
   ],
   "execution_count": 84
  },
  {
   "cell_type": "code",
   "source": "fid.compute()",
   "metadata": {
    "trusted": true,
    "execution": {
     "iopub.status.busy": "2025-06-17T03:36:33.236941Z",
     "iopub.execute_input": "2025-06-17T03:36:33.237239Z",
     "iopub.status.idle": "2025-06-17T03:36:36.469444Z",
     "shell.execute_reply.started": "2025-06-17T03:36:33.237201Z",
     "shell.execute_reply": "2025-06-17T03:36:36.468704Z"
    }
   },
   "outputs": [
    {
     "execution_count": 85,
     "output_type": "execute_result",
     "data": {
      "text/plain": "tensor(156.6248, device='cuda:0')"
     },
     "metadata": {}
    }
   ],
   "execution_count": 85
  },
  {
   "cell_type": "code",
   "source": "",
   "metadata": {
    "trusted": true
   },
   "outputs": [],
   "execution_count": null
  }
 ]
}
