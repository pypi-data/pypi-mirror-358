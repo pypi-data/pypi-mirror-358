{
 "cells": [
  {
   "cell_type": "code",
   "execution_count": 1,
   "id": "808f35b9",
   "metadata": {
    "execution": {
     "iopub.execute_input": "2025-06-07T09:52:38.455636Z",
     "iopub.status.busy": "2025-06-07T09:52:38.455361Z",
     "iopub.status.idle": "2025-06-07T09:52:38.459354Z",
     "shell.execute_reply": "2025-06-07T09:52:38.458685Z"
    },
    "papermill": {
     "duration": 0.011996,
     "end_time": "2025-06-07T09:52:38.460565",
     "exception": false,
     "start_time": "2025-06-07T09:52:38.448569",
     "status": "completed"
    },
    "tags": []
   },
   "outputs": [],
   "source": [
    "# !pip install torchmetrics[image]"
   ]
  },
  {
   "cell_type": "code",
   "execution_count": 2,
   "id": "f758f9c3",
   "metadata": {
    "execution": {
     "iopub.execute_input": "2025-06-07T09:52:38.471475Z",
     "iopub.status.busy": "2025-06-07T09:52:38.471112Z",
     "iopub.status.idle": "2025-06-07T09:52:42.600744Z",
     "shell.execute_reply": "2025-06-07T09:52:42.599979Z"
    },
    "papermill": {
     "duration": 4.136292,
     "end_time": "2025-06-07T09:52:42.602025",
     "exception": false,
     "start_time": "2025-06-07T09:52:38.465733",
     "status": "completed"
    },
    "tags": []
   },
   "outputs": [
    {
     "name": "stdout",
     "output_type": "stream",
     "text": [
      "Collecting torcheval\r\n",
      "  Downloading torcheval-0.0.7-py3-none-any.whl.metadata (8.6 kB)\r\n",
      "Requirement already satisfied: typing-extensions in /usr/local/lib/python3.11/dist-packages (from torcheval) (4.13.2)\r\n",
      "Downloading torcheval-0.0.7-py3-none-any.whl (179 kB)\r\n",
      "\u001b[2K   \u001b[90m━━━━━━━━━━━━━━━━━━━━━━━━━━━━━━━━━━━━━━━━\u001b[0m \u001b[32m179.2/179.2 kB\u001b[0m \u001b[31m6.1 MB/s\u001b[0m eta \u001b[36m0:00:00\u001b[0m\r\n",
      "\u001b[?25hInstalling collected packages: torcheval\r\n",
      "Successfully installed torcheval-0.0.7\r\n"
     ]
    }
   ],
   "source": [
    "!pip install torcheval"
   ]
  },
  {
   "cell_type": "code",
   "execution_count": 3,
   "id": "3b2bfdd6",
   "metadata": {
    "execution": {
     "iopub.execute_input": "2025-06-07T09:52:42.613672Z",
     "iopub.status.busy": "2025-06-07T09:52:42.613414Z",
     "iopub.status.idle": "2025-06-07T09:53:52.848690Z",
     "shell.execute_reply": "2025-06-07T09:53:52.847720Z"
    },
    "papermill": {
     "duration": 70.242667,
     "end_time": "2025-06-07T09:53:52.850180",
     "exception": false,
     "start_time": "2025-06-07T09:52:42.607513",
     "status": "completed"
    },
    "tags": []
   },
   "outputs": [
    {
     "name": "stdout",
     "output_type": "stream",
     "text": [
      "Collecting torchdiffeq\r\n",
      "  Downloading torchdiffeq-0.2.5-py3-none-any.whl.metadata (440 bytes)\r\n",
      "Requirement already satisfied: torch>=1.5.0 in /usr/local/lib/python3.11/dist-packages (from torchdiffeq) (2.6.0+cu124)\r\n",
      "Requirement already satisfied: scipy>=1.4.0 in /usr/local/lib/python3.11/dist-packages (from torchdiffeq) (1.15.2)\r\n",
      "Requirement already satisfied: numpy<2.5,>=1.23.5 in /usr/local/lib/python3.11/dist-packages (from scipy>=1.4.0->torchdiffeq) (1.26.4)\r\n",
      "Requirement already satisfied: filelock in /usr/local/lib/python3.11/dist-packages (from torch>=1.5.0->torchdiffeq) (3.18.0)\r\n",
      "Requirement already satisfied: typing-extensions>=4.10.0 in /usr/local/lib/python3.11/dist-packages (from torch>=1.5.0->torchdiffeq) (4.13.2)\r\n",
      "Requirement already satisfied: networkx in /usr/local/lib/python3.11/dist-packages (from torch>=1.5.0->torchdiffeq) (3.4.2)\r\n",
      "Requirement already satisfied: jinja2 in /usr/local/lib/python3.11/dist-packages (from torch>=1.5.0->torchdiffeq) (3.1.6)\r\n",
      "Requirement already satisfied: fsspec in /usr/local/lib/python3.11/dist-packages (from torch>=1.5.0->torchdiffeq) (2025.3.2)\r\n",
      "Requirement already satisfied: nvidia-cuda-nvrtc-cu12==12.4.127 in /usr/local/lib/python3.11/dist-packages (from torch>=1.5.0->torchdiffeq) (12.4.127)\r\n",
      "Requirement already satisfied: nvidia-cuda-runtime-cu12==12.4.127 in /usr/local/lib/python3.11/dist-packages (from torch>=1.5.0->torchdiffeq) (12.4.127)\r\n",
      "Requirement already satisfied: nvidia-cuda-cupti-cu12==12.4.127 in /usr/local/lib/python3.11/dist-packages (from torch>=1.5.0->torchdiffeq) (12.4.127)\r\n",
      "Collecting nvidia-cudnn-cu12==9.1.0.70 (from torch>=1.5.0->torchdiffeq)\r\n",
      "  Downloading nvidia_cudnn_cu12-9.1.0.70-py3-none-manylinux2014_x86_64.whl.metadata (1.6 kB)\r\n",
      "Collecting nvidia-cublas-cu12==12.4.5.8 (from torch>=1.5.0->torchdiffeq)\r\n",
      "  Downloading nvidia_cublas_cu12-12.4.5.8-py3-none-manylinux2014_x86_64.whl.metadata (1.5 kB)\r\n",
      "Collecting nvidia-cufft-cu12==11.2.1.3 (from torch>=1.5.0->torchdiffeq)\r\n",
      "  Downloading nvidia_cufft_cu12-11.2.1.3-py3-none-manylinux2014_x86_64.whl.metadata (1.5 kB)\r\n",
      "Collecting nvidia-curand-cu12==10.3.5.147 (from torch>=1.5.0->torchdiffeq)\r\n",
      "  Downloading nvidia_curand_cu12-10.3.5.147-py3-none-manylinux2014_x86_64.whl.metadata (1.5 kB)\r\n",
      "Collecting nvidia-cusolver-cu12==11.6.1.9 (from torch>=1.5.0->torchdiffeq)\r\n",
      "  Downloading nvidia_cusolver_cu12-11.6.1.9-py3-none-manylinux2014_x86_64.whl.metadata (1.6 kB)\r\n",
      "Collecting nvidia-cusparse-cu12==12.3.1.170 (from torch>=1.5.0->torchdiffeq)\r\n",
      "  Downloading nvidia_cusparse_cu12-12.3.1.170-py3-none-manylinux2014_x86_64.whl.metadata (1.6 kB)\r\n",
      "Requirement already satisfied: nvidia-cusparselt-cu12==0.6.2 in /usr/local/lib/python3.11/dist-packages (from torch>=1.5.0->torchdiffeq) (0.6.2)\r\n",
      "Requirement already satisfied: nvidia-nccl-cu12==2.21.5 in /usr/local/lib/python3.11/dist-packages (from torch>=1.5.0->torchdiffeq) (2.21.5)\r\n",
      "Requirement already satisfied: nvidia-nvtx-cu12==12.4.127 in /usr/local/lib/python3.11/dist-packages (from torch>=1.5.0->torchdiffeq) (12.4.127)\r\n",
      "Collecting nvidia-nvjitlink-cu12==12.4.127 (from torch>=1.5.0->torchdiffeq)\r\n",
      "  Downloading nvidia_nvjitlink_cu12-12.4.127-py3-none-manylinux2014_x86_64.whl.metadata (1.5 kB)\r\n",
      "Requirement already satisfied: triton==3.2.0 in /usr/local/lib/python3.11/dist-packages (from torch>=1.5.0->torchdiffeq) (3.2.0)\r\n",
      "Requirement already satisfied: sympy==1.13.1 in /usr/local/lib/python3.11/dist-packages (from torch>=1.5.0->torchdiffeq) (1.13.1)\r\n",
      "Requirement already satisfied: mpmath<1.4,>=1.1.0 in /usr/local/lib/python3.11/dist-packages (from sympy==1.13.1->torch>=1.5.0->torchdiffeq) (1.3.0)\r\n",
      "Requirement already satisfied: mkl_fft in /usr/local/lib/python3.11/dist-packages (from numpy<2.5,>=1.23.5->scipy>=1.4.0->torchdiffeq) (1.3.8)\r\n",
      "Requirement already satisfied: mkl_random in /usr/local/lib/python3.11/dist-packages (from numpy<2.5,>=1.23.5->scipy>=1.4.0->torchdiffeq) (1.2.4)\r\n",
      "Requirement already satisfied: mkl_umath in /usr/local/lib/python3.11/dist-packages (from numpy<2.5,>=1.23.5->scipy>=1.4.0->torchdiffeq) (0.1.1)\r\n",
      "Requirement already satisfied: mkl in /usr/local/lib/python3.11/dist-packages (from numpy<2.5,>=1.23.5->scipy>=1.4.0->torchdiffeq) (2025.1.0)\r\n",
      "Requirement already satisfied: tbb4py in /usr/local/lib/python3.11/dist-packages (from numpy<2.5,>=1.23.5->scipy>=1.4.0->torchdiffeq) (2022.1.0)\r\n",
      "Requirement already satisfied: mkl-service in /usr/local/lib/python3.11/dist-packages (from numpy<2.5,>=1.23.5->scipy>=1.4.0->torchdiffeq) (2.4.1)\r\n",
      "Requirement already satisfied: MarkupSafe>=2.0 in /usr/local/lib/python3.11/dist-packages (from jinja2->torch>=1.5.0->torchdiffeq) (3.0.2)\r\n",
      "Requirement already satisfied: intel-openmp<2026,>=2024 in /usr/local/lib/python3.11/dist-packages (from mkl->numpy<2.5,>=1.23.5->scipy>=1.4.0->torchdiffeq) (2024.2.0)\r\n",
      "Requirement already satisfied: tbb==2022.* in /usr/local/lib/python3.11/dist-packages (from mkl->numpy<2.5,>=1.23.5->scipy>=1.4.0->torchdiffeq) (2022.1.0)\r\n",
      "Requirement already satisfied: tcmlib==1.* in /usr/local/lib/python3.11/dist-packages (from tbb==2022.*->mkl->numpy<2.5,>=1.23.5->scipy>=1.4.0->torchdiffeq) (1.3.0)\r\n",
      "Requirement already satisfied: intel-cmplr-lib-rt in /usr/local/lib/python3.11/dist-packages (from mkl_umath->numpy<2.5,>=1.23.5->scipy>=1.4.0->torchdiffeq) (2024.2.0)\r\n",
      "Requirement already satisfied: intel-cmplr-lib-ur==2024.2.0 in /usr/local/lib/python3.11/dist-packages (from intel-openmp<2026,>=2024->mkl->numpy<2.5,>=1.23.5->scipy>=1.4.0->torchdiffeq) (2024.2.0)\r\n",
      "Downloading torchdiffeq-0.2.5-py3-none-any.whl (32 kB)\r\n",
      "Downloading nvidia_cublas_cu12-12.4.5.8-py3-none-manylinux2014_x86_64.whl (363.4 MB)\r\n",
      "\u001b[2K   \u001b[90m━━━━━━━━━━━━━━━━━━━━━━━━━━━━━━━━━━━━━━━━\u001b[0m \u001b[32m363.4/363.4 MB\u001b[0m \u001b[31m4.6 MB/s\u001b[0m eta \u001b[36m0:00:00\u001b[0m\r\n",
      "\u001b[?25hDownloading nvidia_cudnn_cu12-9.1.0.70-py3-none-manylinux2014_x86_64.whl (664.8 MB)\r\n",
      "\u001b[2K   \u001b[90m━━━━━━━━━━━━━━━━━━━━━━━━━━━━━━━━━━━━━━━━\u001b[0m \u001b[32m664.8/664.8 MB\u001b[0m \u001b[31m2.5 MB/s\u001b[0m eta \u001b[36m0:00:00\u001b[0m\r\n",
      "\u001b[?25hDownloading nvidia_cufft_cu12-11.2.1.3-py3-none-manylinux2014_x86_64.whl (211.5 MB)\r\n",
      "\u001b[2K   \u001b[90m━━━━━━━━━━━━━━━━━━━━━━━━━━━━━━━━━━━━━━━━\u001b[0m \u001b[32m211.5/211.5 MB\u001b[0m \u001b[31m7.7 MB/s\u001b[0m eta \u001b[36m0:00:00\u001b[0m\r\n",
      "\u001b[?25hDownloading nvidia_curand_cu12-10.3.5.147-py3-none-manylinux2014_x86_64.whl (56.3 MB)\r\n",
      "\u001b[2K   \u001b[90m━━━━━━━━━━━━━━━━━━━━━━━━━━━━━━━━━━━━━━━━\u001b[0m \u001b[32m56.3/56.3 MB\u001b[0m \u001b[31m13.9 MB/s\u001b[0m eta \u001b[36m0:00:00\u001b[0m\r\n",
      "\u001b[?25hDownloading nvidia_cusolver_cu12-11.6.1.9-py3-none-manylinux2014_x86_64.whl (127.9 MB)\r\n",
      "\u001b[2K   \u001b[90m━━━━━━━━━━━━━━━━━━━━━━━━━━━━━━━━━━━━━━━━\u001b[0m \u001b[32m127.9/127.9 MB\u001b[0m \u001b[31m13.4 MB/s\u001b[0m eta \u001b[36m0:00:00\u001b[0m\r\n",
      "\u001b[?25hDownloading nvidia_cusparse_cu12-12.3.1.170-py3-none-manylinux2014_x86_64.whl (207.5 MB)\r\n",
      "\u001b[2K   \u001b[90m━━━━━━━━━━━━━━━━━━━━━━━━━━━━━━━━━━━━━━━━\u001b[0m \u001b[32m207.5/207.5 MB\u001b[0m \u001b[31m8.3 MB/s\u001b[0m eta \u001b[36m0:00:00\u001b[0m\r\n",
      "\u001b[?25hDownloading nvidia_nvjitlink_cu12-12.4.127-py3-none-manylinux2014_x86_64.whl (21.1 MB)\r\n",
      "\u001b[2K   \u001b[90m━━━━━━━━━━━━━━━━━━━━━━━━━━━━━━━━━━━━━━━━\u001b[0m \u001b[32m21.1/21.1 MB\u001b[0m \u001b[31m23.5 MB/s\u001b[0m eta \u001b[36m0:00:00\u001b[0m\r\n",
      "\u001b[?25hInstalling collected packages: nvidia-nvjitlink-cu12, nvidia-curand-cu12, nvidia-cufft-cu12, nvidia-cublas-cu12, nvidia-cusparse-cu12, nvidia-cudnn-cu12, nvidia-cusolver-cu12, torchdiffeq\r\n",
      "  Attempting uninstall: nvidia-nvjitlink-cu12\r\n",
      "    Found existing installation: nvidia-nvjitlink-cu12 12.9.41\r\n",
      "    Uninstalling nvidia-nvjitlink-cu12-12.9.41:\r\n",
      "      Successfully uninstalled nvidia-nvjitlink-cu12-12.9.41\r\n",
      "  Attempting uninstall: nvidia-curand-cu12\r\n",
      "    Found existing installation: nvidia-curand-cu12 10.3.10.19\r\n",
      "    Uninstalling nvidia-curand-cu12-10.3.10.19:\r\n",
      "      Successfully uninstalled nvidia-curand-cu12-10.3.10.19\r\n",
      "  Attempting uninstall: nvidia-cufft-cu12\r\n",
      "    Found existing installation: nvidia-cufft-cu12 11.4.0.6\r\n",
      "    Uninstalling nvidia-cufft-cu12-11.4.0.6:\r\n",
      "      Successfully uninstalled nvidia-cufft-cu12-11.4.0.6\r\n",
      "  Attempting uninstall: nvidia-cublas-cu12\r\n",
      "    Found existing installation: nvidia-cublas-cu12 12.9.0.13\r\n",
      "    Uninstalling nvidia-cublas-cu12-12.9.0.13:\r\n",
      "      Successfully uninstalled nvidia-cublas-cu12-12.9.0.13\r\n",
      "  Attempting uninstall: nvidia-cusparse-cu12\r\n",
      "    Found existing installation: nvidia-cusparse-cu12 12.5.9.5\r\n",
      "    Uninstalling nvidia-cusparse-cu12-12.5.9.5:\r\n",
      "      Successfully uninstalled nvidia-cusparse-cu12-12.5.9.5\r\n",
      "  Attempting uninstall: nvidia-cudnn-cu12\r\n",
      "    Found existing installation: nvidia-cudnn-cu12 9.3.0.75\r\n",
      "    Uninstalling nvidia-cudnn-cu12-9.3.0.75:\r\n",
      "      Successfully uninstalled nvidia-cudnn-cu12-9.3.0.75\r\n",
      "  Attempting uninstall: nvidia-cusolver-cu12\r\n",
      "    Found existing installation: nvidia-cusolver-cu12 11.7.4.40\r\n",
      "    Uninstalling nvidia-cusolver-cu12-11.7.4.40:\r\n",
      "      Successfully uninstalled nvidia-cusolver-cu12-11.7.4.40\r\n",
      "Successfully installed nvidia-cublas-cu12-12.4.5.8 nvidia-cudnn-cu12-9.1.0.70 nvidia-cufft-cu12-11.2.1.3 nvidia-curand-cu12-10.3.5.147 nvidia-cusolver-cu12-11.6.1.9 nvidia-cusparse-cu12-12.3.1.170 nvidia-nvjitlink-cu12-12.4.127 torchdiffeq-0.2.5\r\n"
     ]
    }
   ],
   "source": [
    "!pip install torchdiffeq"
   ]
  },
  {
   "cell_type": "code",
   "execution_count": 4,
   "id": "5c9e9a9d",
   "metadata": {
    "_cell_guid": "b1076dfc-b9ad-4769-8c92-a6c4dae69d19",
    "_uuid": "8f2839f25d086af736a60e9eeb907d3b93b6e0e5",
    "execution": {
     "iopub.execute_input": "2025-06-07T09:53:52.897632Z",
     "iopub.status.busy": "2025-06-07T09:53:52.897334Z",
     "iopub.status.idle": "2025-06-07T09:54:00.876039Z",
     "shell.execute_reply": "2025-06-07T09:54:00.875235Z"
    },
    "papermill": {
     "duration": 8.003748,
     "end_time": "2025-06-07T09:54:00.877434",
     "exception": false,
     "start_time": "2025-06-07T09:53:52.873686",
     "status": "completed"
    },
    "tags": []
   },
   "outputs": [],
   "source": [
    "import torch\n",
    "import torch.nn as nn\n",
    "import torch.nn.functional as F\n",
    "from torch.optim import *\n",
    "from torch.optim.lr_scheduler import *\n",
    "import matplotlib.pyplot as plt\n",
    "from torchvision import datasets\n",
    "from torch.utils.data import DataLoader, random_split\n",
    "from PIL import Image\n",
    "import numpy as np\n",
    "from tqdm import tqdm\n",
    "from einops import rearrange"
   ]
  },
  {
   "cell_type": "code",
   "execution_count": 5,
   "id": "4fd29aa6",
   "metadata": {
    "execution": {
     "iopub.execute_input": "2025-06-07T09:54:00.924781Z",
     "iopub.status.busy": "2025-06-07T09:54:00.924418Z",
     "iopub.status.idle": "2025-06-07T09:54:00.984455Z",
     "shell.execute_reply": "2025-06-07T09:54:00.983848Z"
    },
    "papermill": {
     "duration": 0.0846,
     "end_time": "2025-06-07T09:54:00.985626",
     "exception": false,
     "start_time": "2025-06-07T09:54:00.901026",
     "status": "completed"
    },
    "tags": []
   },
   "outputs": [
    {
     "data": {
      "text/plain": [
       "'cuda'"
      ]
     },
     "execution_count": 5,
     "metadata": {},
     "output_type": "execute_result"
    }
   ],
   "source": [
    "device = \"cuda\" if torch.cuda.is_available() else \"cpu\"\n",
    "device"
   ]
  },
  {
   "cell_type": "code",
   "execution_count": 6,
   "id": "679bc0b6",
   "metadata": {
    "execution": {
     "iopub.execute_input": "2025-06-07T09:54:01.032525Z",
     "iopub.status.busy": "2025-06-07T09:54:01.032264Z",
     "iopub.status.idle": "2025-06-07T09:55:24.823131Z",
     "shell.execute_reply": "2025-06-07T09:55:24.822539Z"
    },
    "papermill": {
     "duration": 83.815669,
     "end_time": "2025-06-07T09:55:24.824569",
     "exception": false,
     "start_time": "2025-06-07T09:54:01.008900",
     "status": "completed"
    },
    "tags": []
   },
   "outputs": [],
   "source": [
    "dataroot = \"/kaggle/input/50k-celeba-dataset-64x64\"\n",
    "dataset = datasets.ImageFolder(root=dataroot)\n",
    "                           # transform=transforms.Compose([\n",
    "                           #     transforms.Resize(image_size),\n",
    "                           #     transforms.CenterCrop(image_size),\n",
    "                           #     transforms.ToTensor(),\n",
    "                           #     transforms.Normalize((0.5, 0.5, 0.5), (0.5, 0.5, 0.5)),\n",
    "                           # ]))"
   ]
  },
  {
   "cell_type": "code",
   "execution_count": 7,
   "id": "f0919e68",
   "metadata": {
    "execution": {
     "iopub.execute_input": "2025-06-07T09:55:24.871976Z",
     "iopub.status.busy": "2025-06-07T09:55:24.871718Z",
     "iopub.status.idle": "2025-06-07T09:55:24.880053Z",
     "shell.execute_reply": "2025-06-07T09:55:24.879441Z"
    },
    "papermill": {
     "duration": 0.032926,
     "end_time": "2025-06-07T09:55:24.881085",
     "exception": false,
     "start_time": "2025-06-07T09:55:24.848159",
     "status": "completed"
    },
    "tags": []
   },
   "outputs": [
    {
     "data": {
      "text/plain": [
       "(<torch.utils.data.dataset.Subset at 0x7f6e81abb150>,\n",
       " <torch.utils.data.dataset.Subset at 0x7f6e81cbe490>)"
      ]
     },
     "execution_count": 7,
     "metadata": {},
     "output_type": "execute_result"
    }
   ],
   "source": [
    "train_ds, test_ds = random_split(dataset, [0.8, 0.2])\n",
    "train_ds, test_ds"
   ]
  },
  {
   "cell_type": "code",
   "execution_count": 8,
   "id": "922bd4f6",
   "metadata": {
    "execution": {
     "iopub.execute_input": "2025-06-07T09:55:24.927302Z",
     "iopub.status.busy": "2025-06-07T09:55:24.927097Z",
     "iopub.status.idle": "2025-06-07T09:55:24.969049Z",
     "shell.execute_reply": "2025-06-07T09:55:24.968460Z"
    },
    "papermill": {
     "duration": 0.065974,
     "end_time": "2025-06-07T09:55:24.970073",
     "exception": false,
     "start_time": "2025-06-07T09:55:24.904099",
     "status": "completed"
    },
    "tags": []
   },
   "outputs": [
    {
     "data": {
      "text/plain": [
       "(<PIL.Image.Image image mode=RGB size=64x64>, 0)"
      ]
     },
     "execution_count": 8,
     "metadata": {},
     "output_type": "execute_result"
    }
   ],
   "source": [
    "train_ds[0]"
   ]
  },
  {
   "cell_type": "code",
   "execution_count": 9,
   "id": "e2dec456",
   "metadata": {
    "execution": {
     "iopub.execute_input": "2025-06-07T09:55:25.064887Z",
     "iopub.status.busy": "2025-06-07T09:55:25.064304Z",
     "iopub.status.idle": "2025-06-07T09:55:25.069044Z",
     "shell.execute_reply": "2025-06-07T09:55:25.068472Z"
    },
    "papermill": {
     "duration": 0.029678,
     "end_time": "2025-06-07T09:55:25.070018",
     "exception": false,
     "start_time": "2025-06-07T09:55:25.040340",
     "status": "completed"
    },
    "tags": []
   },
   "outputs": [],
   "source": [
    "def collate_fn(batch):\n",
    "    batch_size = len(batch)\n",
    "    images = np.zeros((batch_size, 64, 64, 3)).astype(np.float32)\n",
    "    labels = np.zeros(batch_size).astype(np.int32)\n",
    "    cnt = 0\n",
    "    for im, label in batch:\n",
    "        # im = Image.open(pil_file)  \n",
    "        im.draft('RGB',(64, 64))\n",
    "        images[cnt] = np.asarray(im)\n",
    "        labels[cnt] = label\n",
    "        cnt += 1\n",
    "    images = images.swapaxes(2, 3).swapaxes(1, 2) / 256\n",
    "    return torch.from_numpy(images), torch.from_numpy(labels)"
   ]
  },
  {
   "cell_type": "code",
   "execution_count": 10,
   "id": "bf29ed70",
   "metadata": {
    "execution": {
     "iopub.execute_input": "2025-06-07T09:55:25.117126Z",
     "iopub.status.busy": "2025-06-07T09:55:25.116549Z",
     "iopub.status.idle": "2025-06-07T09:55:25.120629Z",
     "shell.execute_reply": "2025-06-07T09:55:25.119959Z"
    },
    "papermill": {
     "duration": 0.028526,
     "end_time": "2025-06-07T09:55:25.121652",
     "exception": false,
     "start_time": "2025-06-07T09:55:25.093126",
     "status": "completed"
    },
    "tags": []
   },
   "outputs": [],
   "source": [
    "train_loader = DataLoader(\n",
    "    train_ds,\n",
    "    batch_size=64,\n",
    "    shuffle=True,\n",
    "    collate_fn=collate_fn,\n",
    "    num_workers=4,\n",
    ")\n",
    "test_loader = DataLoader(\n",
    "    test_ds,\n",
    "    batch_size=128,\n",
    "    shuffle=True,\n",
    "    collate_fn=collate_fn,\n",
    "    num_workers=4,\n",
    ")"
   ]
  },
  {
   "cell_type": "code",
   "execution_count": 11,
   "id": "82737bd6",
   "metadata": {
    "execution": {
     "iopub.execute_input": "2025-06-07T09:55:25.168211Z",
     "iopub.status.busy": "2025-06-07T09:55:25.167780Z",
     "iopub.status.idle": "2025-06-07T09:55:26.003064Z",
     "shell.execute_reply": "2025-06-07T09:55:26.002222Z"
    },
    "papermill": {
     "duration": 0.859741,
     "end_time": "2025-06-07T09:55:26.004225",
     "exception": false,
     "start_time": "2025-06-07T09:55:25.144484",
     "status": "completed"
    },
    "tags": []
   },
   "outputs": [
    {
     "name": "stdout",
     "output_type": "stream",
     "text": [
      "torch.Size([64, 3, 64, 64])\n",
      "CPU times: user 35.7 ms, sys: 59.8 ms, total: 95.5 ms\n",
      "Wall time: 831 ms\n"
     ]
    }
   ],
   "source": [
    "%%time\n",
    "for x in train_loader:\n",
    "    print(x[0].shape)\n",
    "    break"
   ]
  },
  {
   "cell_type": "code",
   "execution_count": 12,
   "id": "e130c15c",
   "metadata": {
    "execution": {
     "iopub.execute_input": "2025-06-07T09:55:26.052185Z",
     "iopub.status.busy": "2025-06-07T09:55:26.051952Z",
     "iopub.status.idle": "2025-06-07T09:55:26.057050Z",
     "shell.execute_reply": "2025-06-07T09:55:26.056526Z"
    },
    "papermill": {
     "duration": 0.030051,
     "end_time": "2025-06-07T09:55:26.058049",
     "exception": false,
     "start_time": "2025-06-07T09:55:26.027998",
     "status": "completed"
    },
    "tags": []
   },
   "outputs": [],
   "source": [
    "class SE_Conv(nn.Module):\n",
    "    def __init__(self, in_channels, out_channels, stride, kernel_size, padding):\n",
    "        super().__init__()\n",
    "        self.conv = nn.Conv2d(in_channels, out_channels, stride=stride, kernel_size=kernel_size, padding=padding)\n",
    "        self.ffn = nn.Sequential(\n",
    "            nn.AdaptiveMaxPool2d(1),\n",
    "            nn.Flatten(),\n",
    "            nn.Linear(in_channels, 16),\n",
    "            nn.SiLU(),\n",
    "            nn.Linear(16, out_channels)\n",
    "        )\n",
    "    def forward(self, x):\n",
    "        weight = self.ffn(x).unsqueeze(-1).unsqueeze(-1)\n",
    "        x = self.conv(x)\n",
    "        return x * weight"
   ]
  },
  {
   "cell_type": "code",
   "execution_count": 13,
   "id": "670af92d",
   "metadata": {
    "execution": {
     "iopub.execute_input": "2025-06-07T09:55:26.105141Z",
     "iopub.status.busy": "2025-06-07T09:55:26.104930Z",
     "iopub.status.idle": "2025-06-07T09:55:26.112158Z",
     "shell.execute_reply": "2025-06-07T09:55:26.111635Z"
    },
    "papermill": {
     "duration": 0.032108,
     "end_time": "2025-06-07T09:55:26.113212",
     "exception": false,
     "start_time": "2025-06-07T09:55:26.081104",
     "status": "completed"
    },
    "tags": []
   },
   "outputs": [],
   "source": [
    "class ResNetBlock(nn.Module):\n",
    "    def __init__(self, in_channels, out_channels, stride=1, upsample=False):\n",
    "        super().__init__()\n",
    "        if not upsample:\n",
    "            self.conv1 = nn.Conv2d(in_channels, out_channels, stride=1, kernel_size=3, padding=1)\n",
    "            self.conv2 = nn.Conv2d(out_channels, out_channels, stride=stride, kernel_size=3, padding=1)\n",
    "            self.skip = nn.Conv2d(in_channels, out_channels, stride=stride, kernel_size=1, padding=0)\n",
    "        else:\n",
    "            self.conv1 = nn.Conv2d(in_channels, out_channels, stride=1, kernel_size=3, padding=1)\n",
    "            self.conv2 = nn.ConvTranspose2d(out_channels, out_channels, stride=stride, kernel_size=4, padding=1)\n",
    "            # self.conv2 = nn.Sequential(\n",
    "            #     nn.Upsample(scale_factor=2, mode='bilinear'),\n",
    "            #     nn.Conv2d(out_channels, out_channels, stride=1, kernel_size=3, padding=1),\n",
    "            # )\n",
    "            self.skip = nn.ConvTranspose2d(in_channels, out_channels, stride=stride, kernel_size=4, padding=1)\n",
    "            # self.skip = nn.Sequential(\n",
    "            #     nn.Upsample(scale_factor=2, mode='bilinear'),\n",
    "            #     nn.Conv2d(in_channels, out_channels, stride=1, kernel_size=3, padding=1),\n",
    "            # )\n",
    "        g = min(32, out_channels)\n",
    "        self.bn1 = nn.GroupNorm(g, out_channels)\n",
    "        self.bn2 = nn.GroupNorm(g, out_channels)\n",
    "\n",
    "        self.gamma_mlp = nn.Sequential(\n",
    "            nn.Linear(128, 128),\n",
    "            nn.SiLU(),\n",
    "            nn.Linear(128, out_channels),\n",
    "            nn.Tanh(),\n",
    "        )\n",
    "        self.beta_mlp = nn.Sequential(\n",
    "            nn.Linear(128, 128),\n",
    "            nn.SiLU(),\n",
    "            nn.Linear(128, out_channels),\n",
    "            nn.Tanh(),\n",
    "        )\n",
    "    def forward(self, x, t_embed):\n",
    "        gamma = self.gamma_mlp(t_embed).unsqueeze(-1).unsqueeze(-1)\n",
    "        beta = self.beta_mlp(t_embed).unsqueeze(-1).unsqueeze(-1)\n",
    "        # x = x * (1 + gamma) + beta\n",
    "        x1 = F.silu(self.bn1(self.conv1(x)))\n",
    "        # x1 = x1 * (1 + gamma) + beta\n",
    "        x1 = F.silu(self.bn2(self.conv2(x1)))\n",
    "        # x1 = x1 * (1 + gamma) + beta\n",
    "        x = self.skip(x) + x1\n",
    "        x = x * (1 + gamma) + beta\n",
    "        return x"
   ]
  },
  {
   "cell_type": "code",
   "execution_count": 14,
   "id": "8e79731c",
   "metadata": {
    "execution": {
     "iopub.execute_input": "2025-06-07T09:55:26.159979Z",
     "iopub.status.busy": "2025-06-07T09:55:26.159769Z",
     "iopub.status.idle": "2025-06-07T09:55:26.164714Z",
     "shell.execute_reply": "2025-06-07T09:55:26.164135Z"
    },
    "papermill": {
     "duration": 0.02964,
     "end_time": "2025-06-07T09:55:26.165665",
     "exception": false,
     "start_time": "2025-06-07T09:55:26.136025",
     "status": "completed"
    },
    "tags": []
   },
   "outputs": [],
   "source": [
    "class ViT(nn.Module):\n",
    "    # Patch size = 1\n",
    "    def __init__(self, in_channels, out_channels):\n",
    "        super().__init__()\n",
    "        self\n",
    "        self.to_patch = nn.Conv2d(\n",
    "            in_channels, \n",
    "            out_channels, \n",
    "            kernel_size=1, \n",
    "            stride=1,\n",
    "            padding=0\n",
    "        )\n",
    "        encoder_layer = nn.TransformerEncoderLayer(\n",
    "            d_model=out_channels,\n",
    "            dim_feedforward=128,\n",
    "            nhead=2,\n",
    "            activation=nn.GELU(),\n",
    "            batch_first=True\n",
    "        )\n",
    "        self.encoder = nn.TransformerEncoder(encoder_layer, num_layers=4)\n",
    "    def forward(self, x):\n",
    "        h = x.shape[2]\n",
    "        w = x.shape[3]\n",
    "        x = self.to_patch(x)\n",
    "        x = rearrange(x, 'b c h w -> b (h w) c')\n",
    "        x = self.encoder(x)\n",
    "        x = rearrange(x, 'b (h w) c -> b c h w', h = h, w = w)\n",
    "        return x"
   ]
  },
  {
   "cell_type": "code",
   "execution_count": 15,
   "id": "3e173de1",
   "metadata": {
    "execution": {
     "iopub.execute_input": "2025-06-07T09:55:26.212551Z",
     "iopub.status.busy": "2025-06-07T09:55:26.212330Z",
     "iopub.status.idle": "2025-06-07T09:55:26.215095Z",
     "shell.execute_reply": "2025-06-07T09:55:26.214615Z"
    },
    "papermill": {
     "duration": 0.027699,
     "end_time": "2025-06-07T09:55:26.216148",
     "exception": false,
     "start_time": "2025-06-07T09:55:26.188449",
     "status": "completed"
    },
    "tags": []
   },
   "outputs": [],
   "source": [
    "# torch.exp(torch.arange(128) / 16) # [128]\n",
    "# torch.exp(torch.arange(128) / 16).unsqueeze(0).expand(x.shape[0], -1) # [batch size, 128]\n",
    "# t.unsqueeze(-1).expand(-1, 128) # [batch size, 128]\n",
    "# t.unsqueeze(-1).expand(-1, 128) / torch.exp(torch.arange(128) / 16).unsqueeze(0).expand(x.shape[0], -1)"
   ]
  },
  {
   "cell_type": "code",
   "execution_count": 16,
   "id": "71a1bd6a",
   "metadata": {
    "execution": {
     "iopub.execute_input": "2025-06-07T09:55:26.263394Z",
     "iopub.status.busy": "2025-06-07T09:55:26.263170Z",
     "iopub.status.idle": "2025-06-07T09:55:26.272024Z",
     "shell.execute_reply": "2025-06-07T09:55:26.271519Z"
    },
    "papermill": {
     "duration": 0.033607,
     "end_time": "2025-06-07T09:55:26.273016",
     "exception": false,
     "start_time": "2025-06-07T09:55:26.239409",
     "status": "completed"
    },
    "tags": []
   },
   "outputs": [],
   "source": [
    "class UNet(nn.Module):\n",
    "    def __init__(self):\n",
    "        super().__init__()\n",
    "        self.pre_conv = ResNetBlock(3, 16, 1)\n",
    "        self.down1 = ResNetBlock(16, 32, 2)\n",
    "        self.down2 = ResNetBlock(32, 64, 2)\n",
    "        self.down3 = ResNetBlock(64, 128, 2)\n",
    "        self.d3_vit = ViT(64, 64)\n",
    "        self.bottleneck = ResNetBlock(128, 128, 1)\n",
    "        self.b_vit = ViT(128, 128)\n",
    "        self.up2 = ResNetBlock(256, 128, 2, upsample=True)\n",
    "        self.u2_vit = ViT(128, 128)\n",
    "        self.up2_c = ResNetBlock(128, 64, 1)\n",
    "        self.up3 = ResNetBlock(128, 64, 2, upsample=True)\n",
    "        self.up3_c = ResNetBlock(64, 32, 1)\n",
    "        self.up4 = ResNetBlock(64, 32, 2, upsample=True)\n",
    "        self.up4_c = ResNetBlock(32, 32, 1)\n",
    "        self.out_conv = ResNetBlock(32, 3, 1)\n",
    "    def forward(self, t, x):\n",
    "        if t.dim() == 0:\n",
    "            t = t.expand(x.shape[0])\n",
    "            t = t.unsqueeze(-1)\n",
    "        time_embed = torch.exp(torch.arange(128) / 16).unsqueeze(0).expand(x.shape[0], -1)\n",
    "        time_embed = time_embed.to(device)\n",
    "        time_embed = (t.expand(-1, 128)) / time_embed\n",
    "        time_embed = torch.sin(time_embed)\n",
    "        x0 = self.pre_conv(x, time_embed)\n",
    "        x1 = self.down1(x0, time_embed)\n",
    "        x2 = self.down2(x1, time_embed)\n",
    "        x2 = self.d3_vit(x2) + x2\n",
    "        x3 = self.down3(x2, time_embed)\n",
    "        x4 = self.bottleneck(x3, time_embed) + self.b_vit(x3)\n",
    "        y = torch.cat([x3, x4], dim=1)\n",
    "        y = self.up2(y, time_embed)\n",
    "        y = self.u2_vit(y) + y\n",
    "        y = self.up2_c(y, time_embed)\n",
    "        y = torch.cat([y, x2], dim=1)\n",
    "        y = self.up3(y, time_embed)\n",
    "        y = self.up3_c(y, time_embed)\n",
    "        y = torch.cat([y, x1], dim=1)\n",
    "        y = self.up4(y, time_embed)\n",
    "        y = self.up4_c(y, time_embed)\n",
    "        y = self.out_conv(y, time_embed)\n",
    "        return y"
   ]
  },
  {
   "cell_type": "code",
   "execution_count": 17,
   "id": "e1973f8e",
   "metadata": {
    "execution": {
     "iopub.execute_input": "2025-06-07T09:55:26.320117Z",
     "iopub.status.busy": "2025-06-07T09:55:26.319896Z",
     "iopub.status.idle": "2025-06-07T09:55:26.558846Z",
     "shell.execute_reply": "2025-06-07T09:55:26.558178Z"
    },
    "papermill": {
     "duration": 0.263871,
     "end_time": "2025-06-07T09:55:26.560192",
     "exception": false,
     "start_time": "2025-06-07T09:55:26.296321",
     "status": "completed"
    },
    "tags": []
   },
   "outputs": [],
   "source": [
    "model = UNet().to(device)"
   ]
  },
  {
   "cell_type": "code",
   "execution_count": 18,
   "id": "07feacf1",
   "metadata": {
    "execution": {
     "iopub.execute_input": "2025-06-07T09:55:26.608552Z",
     "iopub.status.busy": "2025-06-07T09:55:26.608282Z",
     "iopub.status.idle": "2025-06-07T09:55:26.613948Z",
     "shell.execute_reply": "2025-06-07T09:55:26.613409Z"
    },
    "papermill": {
     "duration": 0.030578,
     "end_time": "2025-06-07T09:55:26.614932",
     "exception": false,
     "start_time": "2025-06-07T09:55:26.584354",
     "status": "completed"
    },
    "tags": []
   },
   "outputs": [
    {
     "data": {
      "text/plain": [
       "3759004"
      ]
     },
     "execution_count": 18,
     "metadata": {},
     "output_type": "execute_result"
    }
   ],
   "source": [
    "sum(p.numel() for p in model.parameters())"
   ]
  },
  {
   "cell_type": "code",
   "execution_count": 19,
   "id": "38dff4ca",
   "metadata": {
    "execution": {
     "iopub.execute_input": "2025-06-07T09:55:26.662519Z",
     "iopub.status.busy": "2025-06-07T09:55:26.662280Z",
     "iopub.status.idle": "2025-06-07T09:55:26.667666Z",
     "shell.execute_reply": "2025-06-07T09:55:26.667123Z"
    },
    "papermill": {
     "duration": 0.030691,
     "end_time": "2025-06-07T09:55:26.668750",
     "exception": false,
     "start_time": "2025-06-07T09:55:26.638059",
     "status": "completed"
    },
    "tags": []
   },
   "outputs": [
    {
     "data": {
      "text/plain": [
       "torch.Size([9, 3, 64, 64])"
      ]
     },
     "execution_count": 19,
     "metadata": {},
     "output_type": "execute_result"
    }
   ],
   "source": [
    "test = torch.rand(9, 3, 64, 64).to(device)\n",
    "test.shape"
   ]
  },
  {
   "cell_type": "code",
   "execution_count": 20,
   "id": "c03700f9",
   "metadata": {
    "execution": {
     "iopub.execute_input": "2025-06-07T09:55:26.717740Z",
     "iopub.status.busy": "2025-06-07T09:55:26.717472Z",
     "iopub.status.idle": "2025-06-07T09:55:26.721086Z",
     "shell.execute_reply": "2025-06-07T09:55:26.720542Z"
    },
    "papermill": {
     "duration": 0.029372,
     "end_time": "2025-06-07T09:55:26.722054",
     "exception": false,
     "start_time": "2025-06-07T09:55:26.692682",
     "status": "completed"
    },
    "tags": []
   },
   "outputs": [],
   "source": [
    "t = torch.rand(9, 1).to(device)"
   ]
  },
  {
   "cell_type": "code",
   "execution_count": 21,
   "id": "765ceaeb",
   "metadata": {
    "execution": {
     "iopub.execute_input": "2025-06-07T09:55:26.769887Z",
     "iopub.status.busy": "2025-06-07T09:55:26.769691Z",
     "iopub.status.idle": "2025-06-07T09:55:27.313667Z",
     "shell.execute_reply": "2025-06-07T09:55:27.312905Z"
    },
    "papermill": {
     "duration": 0.569217,
     "end_time": "2025-06-07T09:55:27.314943",
     "exception": false,
     "start_time": "2025-06-07T09:55:26.745726",
     "status": "completed"
    },
    "tags": []
   },
   "outputs": [
    {
     "data": {
      "text/plain": [
       "torch.Size([9, 3, 64, 64])"
      ]
     },
     "execution_count": 21,
     "metadata": {},
     "output_type": "execute_result"
    }
   ],
   "source": [
    "model(t, test).shape"
   ]
  },
  {
   "cell_type": "code",
   "execution_count": 22,
   "id": "e6996868",
   "metadata": {
    "execution": {
     "iopub.execute_input": "2025-06-07T09:55:27.363540Z",
     "iopub.status.busy": "2025-06-07T09:55:27.363062Z",
     "iopub.status.idle": "2025-06-07T09:55:28.135723Z",
     "shell.execute_reply": "2025-06-07T09:55:28.135140Z"
    },
    "papermill": {
     "duration": 0.7979,
     "end_time": "2025-06-07T09:55:28.137099",
     "exception": false,
     "start_time": "2025-06-07T09:55:27.339199",
     "status": "completed"
    },
    "tags": []
   },
   "outputs": [],
   "source": [
    "# from torchdiffeq import odeint\n",
    "from torchdiffeq import odeint_adjoint as odeint"
   ]
  },
  {
   "cell_type": "code",
   "execution_count": 23,
   "id": "26652e87",
   "metadata": {
    "execution": {
     "iopub.execute_input": "2025-06-07T09:55:28.185904Z",
     "iopub.status.busy": "2025-06-07T09:55:28.185029Z",
     "iopub.status.idle": "2025-06-07T09:55:28.600042Z",
     "shell.execute_reply": "2025-06-07T09:55:28.599452Z"
    },
    "papermill": {
     "duration": 0.439956,
     "end_time": "2025-06-07T09:55:28.601212",
     "exception": false,
     "start_time": "2025-06-07T09:55:28.161256",
     "status": "completed"
    },
    "tags": []
   },
   "outputs": [
    {
     "name": "stdout",
     "output_type": "stream",
     "text": [
      "CPU times: user 358 ms, sys: 26 ms, total: 384 ms\n",
      "Wall time: 409 ms\n"
     ]
    },
    {
     "data": {
      "text/plain": [
       "torch.Size([2, 128, 3, 64, 64])"
      ]
     },
     "execution_count": 23,
     "metadata": {},
     "output_type": "execute_result"
    }
   ],
   "source": [
    "%%time\n",
    "odeint(\n",
    "    model, \n",
    "    torch.rand(128, 3, 64, 64).cuda(), \n",
    "    torch.tensor([0.0, 1]).cuda(),\n",
    "    rtol=1e-4,\n",
    "    atol=1e-4,\n",
    "    method='rk4',\n",
    ").shape"
   ]
  },
  {
   "cell_type": "code",
   "execution_count": 24,
   "id": "94d4d8c8",
   "metadata": {
    "execution": {
     "iopub.execute_input": "2025-06-07T09:55:28.649939Z",
     "iopub.status.busy": "2025-06-07T09:55:28.649648Z",
     "iopub.status.idle": "2025-06-07T09:55:29.522020Z",
     "shell.execute_reply": "2025-06-07T09:55:29.521435Z"
    },
    "papermill": {
     "duration": 0.898092,
     "end_time": "2025-06-07T09:55:29.523357",
     "exception": false,
     "start_time": "2025-06-07T09:55:28.625265",
     "status": "completed"
    },
    "tags": []
   },
   "outputs": [],
   "source": [
    "from torcheval.metrics import FrechetInceptionDistance\n",
    "\n",
    "def train():\n",
    "    model.train()\n",
    "    total_loss = 0\n",
    "    cnt = 0\n",
    "    for img, _ in (pbar := tqdm(train_loader)):\n",
    "        img = img.to(device)\n",
    "        img = img * 2 - 1\n",
    "        x0 = torch.randn(img.shape).to(device)\n",
    "        t = torch.rand(img.shape[0], 1).to(device)\n",
    "        t2 = t.detach().clone().unsqueeze(-1).unsqueeze(-1)\n",
    "        x_t = t2 * img + (1 - t2) * x0\n",
    "        v_target = img - x0\n",
    "        v_pred = model(t, x_t)\n",
    "        loss = criteria(v_pred.reshape(-1), v_target.reshape(-1))\n",
    "        # # Sim ODE: FID loss\n",
    "        # if cnt % 100 == 0:\n",
    "        #     # do it once every 20 batches as this is quite slow\n",
    "        #     fid = FrechetInceptionDistance(device = \"cuda\")\n",
    "        #     x_pred = odeint(\n",
    "        #         model, \n",
    "        #         x0, \n",
    "        #         torch.tensor([0.0, 1]).to(device),\n",
    "        #         rtol=1e-4,\n",
    "        #         atol=1e-4,\n",
    "        #         method='rk4',\n",
    "        #     )[-1]\n",
    "        #     x_pred = (x_pred + 1) / 2\n",
    "        #     x_pred = torch.clamp(x_pred, 0, 1)\n",
    "        #     fid.update((img + 1) / 2, True)\n",
    "        #     fid.update(x_pred, False)\n",
    "        #     loss2 = fid.compute()\n",
    "        #     ## End Sim ODE: FID loss\n",
    "        #     ## Sum the loss\n",
    "        #     loss = loss + 0.002 * loss2 + criteria(x_pred.reshape(-1), img.reshape(-1))\n",
    "        #     ## End Sum the loss\n",
    "        optimizer.zero_grad()\n",
    "        loss.backward()\n",
    "        optimizer.step()\n",
    "        total_loss += loss.item()\n",
    "        cnt += 1\n",
    "        pbar.set_description(f\"Training Loss: {total_loss / cnt :6f}\")\n",
    "    scheduler.step()"
   ]
  },
  {
   "cell_type": "code",
   "execution_count": 25,
   "id": "7d8deb02",
   "metadata": {
    "execution": {
     "iopub.execute_input": "2025-06-07T09:55:29.571991Z",
     "iopub.status.busy": "2025-06-07T09:55:29.571755Z",
     "iopub.status.idle": "2025-06-07T09:55:29.577054Z",
     "shell.execute_reply": "2025-06-07T09:55:29.576529Z"
    },
    "papermill": {
     "duration": 0.030393,
     "end_time": "2025-06-07T09:55:29.578064",
     "exception": false,
     "start_time": "2025-06-07T09:55:29.547671",
     "status": "completed"
    },
    "tags": []
   },
   "outputs": [],
   "source": [
    "def test():\n",
    "    model.eval()\n",
    "    total_loss = 0\n",
    "    cnt = 0\n",
    "    with torch.no_grad():\n",
    "        for img, _ in (pbar := tqdm(test_loader)):\n",
    "            img = img.to(device)\n",
    "            img = img * 2 - 1\n",
    "            x0 = torch.randn(img.shape).to(device)\n",
    "            t = torch.rand(img.shape[0], 1).to(device)\n",
    "            t2 = t.detach().clone().unsqueeze(-1).unsqueeze(-1)\n",
    "            # print(f\"t.shape: {t.shape}\")\n",
    "            # print(f\"x0.shape: {x0.shape}\")\n",
    "            # print(f\"img.shape: {img.shape}\")\n",
    "            x_t = t2 * img + (1 - t2) * x0\n",
    "            v_target = img - x0\n",
    "            v_pred = model(t, x_t)\n",
    "            loss = criteria(v_pred.reshape(-1), v_target.reshape(-1))\n",
    "            total_loss += loss.item()\n",
    "            cnt += 1\n",
    "            pbar.set_description(f\"Testing Loss: {total_loss / cnt :6f}\")"
   ]
  },
  {
   "cell_type": "code",
   "execution_count": 26,
   "id": "600314b6",
   "metadata": {
    "execution": {
     "iopub.execute_input": "2025-06-07T09:55:29.625646Z",
     "iopub.status.busy": "2025-06-07T09:55:29.625029Z",
     "iopub.status.idle": "2025-06-07T09:55:29.695982Z",
     "shell.execute_reply": "2025-06-07T09:55:29.695208Z"
    },
    "papermill": {
     "duration": 0.096086,
     "end_time": "2025-06-07T09:55:29.697369",
     "exception": false,
     "start_time": "2025-06-07T09:55:29.601283",
     "status": "completed"
    },
    "tags": []
   },
   "outputs": [],
   "source": [
    "model = UNet().to(device)"
   ]
  },
  {
   "cell_type": "code",
   "execution_count": 27,
   "id": "6069dabd",
   "metadata": {
    "execution": {
     "iopub.execute_input": "2025-06-07T09:55:29.748064Z",
     "iopub.status.busy": "2025-06-07T09:55:29.747209Z",
     "iopub.status.idle": "2025-06-07T09:55:29.753105Z",
     "shell.execute_reply": "2025-06-07T09:55:29.752374Z"
    },
    "papermill": {
     "duration": 0.031283,
     "end_time": "2025-06-07T09:55:29.754252",
     "exception": false,
     "start_time": "2025-06-07T09:55:29.722969",
     "status": "completed"
    },
    "tags": []
   },
   "outputs": [
    {
     "data": {
      "text/plain": [
       "3759004"
      ]
     },
     "execution_count": 27,
     "metadata": {},
     "output_type": "execute_result"
    }
   ],
   "source": [
    "sum(p.numel() for p in model.parameters())"
   ]
  },
  {
   "cell_type": "code",
   "execution_count": 28,
   "id": "27782573",
   "metadata": {
    "execution": {
     "iopub.execute_input": "2025-06-07T09:55:29.802457Z",
     "iopub.status.busy": "2025-06-07T09:55:29.802235Z",
     "iopub.status.idle": "2025-06-07T09:55:29.807279Z",
     "shell.execute_reply": "2025-06-07T09:55:29.806593Z"
    },
    "papermill": {
     "duration": 0.030355,
     "end_time": "2025-06-07T09:55:29.808411",
     "exception": false,
     "start_time": "2025-06-07T09:55:29.778056",
     "status": "completed"
    },
    "tags": []
   },
   "outputs": [],
   "source": [
    "optimizer = Adam(model.parameters(), lr=1e-3, weight_decay=0)\n",
    "scheduler = ExponentialLR(optimizer, gamma=0.75)\n",
    "criteria = nn.MSELoss()"
   ]
  },
  {
   "cell_type": "code",
   "execution_count": 29,
   "id": "a8b0cf93",
   "metadata": {
    "execution": {
     "iopub.execute_input": "2025-06-07T09:55:29.858646Z",
     "iopub.status.busy": "2025-06-07T09:55:29.857972Z",
     "iopub.status.idle": "2025-06-07T10:05:40.605516Z",
     "shell.execute_reply": "2025-06-07T10:05:40.604573Z"
    },
    "papermill": {
     "duration": 610.775062,
     "end_time": "2025-06-07T10:05:40.606929",
     "exception": false,
     "start_time": "2025-06-07T09:55:29.831867",
     "status": "completed"
    },
    "tags": []
   },
   "outputs": [
    {
     "name": "stderr",
     "output_type": "stream",
     "text": [
      "Training Loss: 0.289295: 100%|██████████| 625/625 [01:52<00:00,  5.53it/s]\n",
      "Testing Loss: 0.176024: 100%|██████████| 79/79 [00:15<00:00,  5.18it/s]\n",
      "Training Loss: 0.161607: 100%|██████████| 625/625 [01:52<00:00,  5.55it/s]\n",
      "Testing Loss: 0.153391: 100%|██████████| 79/79 [00:08<00:00,  9.86it/s]\n",
      "Training Loss: 0.148665: 100%|██████████| 625/625 [01:52<00:00,  5.56it/s]\n",
      "Testing Loss: 0.145205: 100%|██████████| 79/79 [00:08<00:00,  9.85it/s]\n",
      "Training Loss: 0.142320: 100%|██████████| 625/625 [01:52<00:00,  5.55it/s]\n",
      "Testing Loss: 0.140566: 100%|██████████| 79/79 [00:07<00:00,  9.93it/s]\n",
      "Training Loss: 0.138368: 100%|██████████| 625/625 [01:52<00:00,  5.54it/s]\n",
      "Testing Loss: 0.137646: 100%|██████████| 79/79 [00:08<00:00,  9.73it/s]\n"
     ]
    }
   ],
   "source": [
    "for _ in range(5):\n",
    "    train()\n",
    "    test()"
   ]
  },
  {
   "cell_type": "code",
   "execution_count": 30,
   "id": "83c7dfd6",
   "metadata": {
    "execution": {
     "iopub.execute_input": "2025-06-07T10:05:41.204076Z",
     "iopub.status.busy": "2025-06-07T10:05:41.203410Z",
     "iopub.status.idle": "2025-06-07T10:05:41.210279Z",
     "shell.execute_reply": "2025-06-07T10:05:41.209541Z"
    },
    "papermill": {
     "duration": 0.305385,
     "end_time": "2025-06-07T10:05:41.211538",
     "exception": false,
     "start_time": "2025-06-07T10:05:40.906153",
     "status": "completed"
    },
    "tags": []
   },
   "outputs": [],
   "source": [
    "from scipy.integrate import solve_ivp\n",
    "\n",
    "def get_flow(t, x):\n",
    "    with torch.no_grad():\n",
    "        x = torch.from_numpy(x).to(device).float()\n",
    "        x = x.reshape(-1, 3, 64, 64)\n",
    "        # t = torch.from_numpy(t).to(device).unsqueeze(-1).float()\n",
    "        t = torch.tensor([t]).to(device).unsqueeze(-1).float()\n",
    "        return model(t, x).reshape(-1).cpu().numpy()\n",
    "\n",
    "def generate(num=1):\n",
    "    model.eval()\n",
    "    with torch.no_grad():\n",
    "        x0 = torch.randn(num, 3, 64, 64).to(device)\n",
    "        sol = solve_ivp(get_flow, np.array([0, 1]), x0.reshape(-1).cpu().numpy(), rtol=1e-6, atol=1e-6)\n",
    "    return np.clip((sol.y[:, -1] + 1) / 2, 0, 1)"
   ]
  },
  {
   "cell_type": "code",
   "execution_count": 31,
   "id": "b0c00c1d",
   "metadata": {
    "execution": {
     "iopub.execute_input": "2025-06-07T10:05:41.851377Z",
     "iopub.status.busy": "2025-06-07T10:05:41.851080Z",
     "iopub.status.idle": "2025-06-07T10:05:44.948484Z",
     "shell.execute_reply": "2025-06-07T10:05:44.947651Z"
    },
    "papermill": {
     "duration": 3.389094,
     "end_time": "2025-06-07T10:05:44.949667",
     "exception": false,
     "start_time": "2025-06-07T10:05:41.560573",
     "status": "completed"
    },
    "tags": []
   },
   "outputs": [
    {
     "name": "stdout",
     "output_type": "stream",
     "text": [
      "CPU times: user 5.73 s, sys: 41.3 ms, total: 5.77 s\n",
      "Wall time: 3.09 s\n"
     ]
    }
   ],
   "source": [
    "%%time\n",
    "output = generate(num=8)\n",
    "output = output.reshape(-1, 3, 64, 64)"
   ]
  },
  {
   "cell_type": "code",
   "execution_count": 32,
   "id": "f0931680",
   "metadata": {
    "execution": {
     "iopub.execute_input": "2025-06-07T10:05:45.530441Z",
     "iopub.status.busy": "2025-06-07T10:05:45.529735Z",
     "iopub.status.idle": "2025-06-07T10:05:45.708061Z",
     "shell.execute_reply": "2025-06-07T10:05:45.707377Z"
    },
    "papermill": {
     "duration": 0.470374,
     "end_time": "2025-06-07T10:05:45.709170",
     "exception": false,
     "start_time": "2025-06-07T10:05:45.238796",
     "status": "completed"
    },
    "tags": []
   },
   "outputs": [
    {
     "data": {
      "text/plain": [
       "<matplotlib.image.AxesImage at 0x7f6df7067750>"
      ]
     },
     "execution_count": 32,
     "metadata": {},
     "output_type": "execute_result"
    },
    {
     "data": {
      "image/png": "[encoded data removed]",
      "text/plain": [
       "<Figure size 640x480 with 1 Axes>"
      ]
     },
     "metadata": {},
     "output_type": "display_data"
    }
   ],
   "source": [
    "plt.imshow(output[0].swapaxes(0, 1).swapaxes(1, 2))"
   ]
  },
  {
   "cell_type": "code",
   "execution_count": 33,
   "id": "6d1bfb89",
   "metadata": {
    "execution": {
     "iopub.execute_input": "2025-06-07T10:05:46.344238Z",
     "iopub.status.busy": "2025-06-07T10:05:46.343715Z",
     "iopub.status.idle": "2025-06-07T10:05:46.488717Z",
     "shell.execute_reply": "2025-06-07T10:05:46.487958Z"
    },
    "papermill": {
     "duration": 0.488633,
     "end_time": "2025-06-07T10:05:46.490045",
     "exception": false,
     "start_time": "2025-06-07T10:05:46.001412",
     "status": "completed"
    },
    "tags": []
   },
   "outputs": [
    {
     "data": {
      "text/plain": [
       "<matplotlib.image.AxesImage at 0x7f6df7fc5a50>"
      ]
     },
     "execution_count": 33,
     "metadata": {},
     "output_type": "execute_result"
    },
    {
     "data": {
      "image/png": "[encoded data removed]",
      "text/plain": [
       "<Figure size 640x480 with 1 Axes>"
      ]
     },
     "metadata": {},
     "output_type": "display_data"
    }
   ],
   "source": [
    "plt.imshow(output[1].swapaxes(0, 1).swapaxes(1, 2))"
   ]
  },
  {
   "cell_type": "code",
   "execution_count": 34,
   "id": "05baed91",
   "metadata": {
    "execution": {
     "iopub.execute_input": "2025-06-07T10:05:47.090825Z",
     "iopub.status.busy": "2025-06-07T10:05:47.090561Z",
     "iopub.status.idle": "2025-06-07T10:05:47.231332Z",
     "shell.execute_reply": "2025-06-07T10:05:47.230659Z"
    },
    "papermill": {
     "duration": 0.435223,
     "end_time": "2025-06-07T10:05:47.232672",
     "exception": false,
     "start_time": "2025-06-07T10:05:46.797449",
     "status": "completed"
    },
    "tags": []
   },
   "outputs": [
    {
     "data": {
      "text/plain": [
       "<matplotlib.image.AxesImage at 0x7f6dc88237d0>"
      ]
     },
     "execution_count": 34,
     "metadata": {},
     "output_type": "execute_result"
    },
    {
     "data": {
      "image/png": "[encoded data removed]",
      "text/plain": [
       "<Figure size 640x480 with 1 Axes>"
      ]
     },
     "metadata": {},
     "output_type": "display_data"
    }
   ],
   "source": [
    "plt.imshow(output[2].swapaxes(0, 1).swapaxes(1, 2))"
   ]
  },
  {
   "cell_type": "code",
   "execution_count": 35,
   "id": "47299cac",
   "metadata": {
    "execution": {
     "iopub.execute_input": "2025-06-07T10:05:47.869972Z",
     "iopub.status.busy": "2025-06-07T10:05:47.869388Z",
     "iopub.status.idle": "2025-06-07T10:05:48.012408Z",
     "shell.execute_reply": "2025-06-07T10:05:48.011687Z"
    },
    "papermill": {
     "duration": 0.433661,
     "end_time": "2025-06-07T10:05:48.013576",
     "exception": false,
     "start_time": "2025-06-07T10:05:47.579915",
     "status": "completed"
    },
    "tags": []
   },
   "outputs": [
    {
     "data": {
      "text/plain": [
       "<matplotlib.image.AxesImage at 0x7f6dc8907750>"
      ]
     },
     "execution_count": 35,
     "metadata": {},
     "output_type": "execute_result"
    },
    {
     "data": {
      "image/png": "[encoded data removed]",
      "text/plain": [
       "<Figure size 640x480 with 1 Axes>"
      ]
     },
     "metadata": {},
     "output_type": "display_data"
    }
   ],
   "source": [
    "plt.imshow(output[3].swapaxes(0, 1).swapaxes(1, 2))"
   ]
  },
  {
   "cell_type": "code",
   "execution_count": 36,
   "id": "f2769271",
   "metadata": {
    "execution": {
     "iopub.execute_input": "2025-06-07T10:05:48.645238Z",
     "iopub.status.busy": "2025-06-07T10:05:48.644962Z",
     "iopub.status.idle": "2025-06-07T10:06:53.249360Z",
     "shell.execute_reply": "2025-06-07T10:06:53.248262Z"
    },
    "papermill": {
     "duration": 65.248375,
     "end_time": "2025-06-07T10:06:53.550430",
     "exception": false,
     "start_time": "2025-06-07T10:05:48.302055",
     "status": "completed"
    },
    "tags": []
   },
   "outputs": [
    {
     "name": "stderr",
     "output_type": "stream",
     "text": [
      "Downloading: \"https://download.pytorch.org/models/inception_v3_google-0cc3c7bd.pth\" to /root/.cache/torch/hub/checkpoints/inception_v3_google-0cc3c7bd.pth\n",
      "100%|██████████| 104M/104M [00:00<00:00, 218MB/s] \n",
      "100%|██████████| 4/4 [00:00<00:00,  6.13it/s]\n",
      "100%|██████████| 4/4 [01:02<00:00, 15.71s/it]\n"
     ]
    }
   ],
   "source": [
    "# from torchmetrics.image.fid import FrechetInceptionDistance\n",
    "# fid = FrechetInceptionDistance(feature=64)\n",
    "# from torcheval.metrics import FrechetInceptionDistance\n",
    "fid = FrechetInceptionDistance(device = \"cuda\")\n",
    "\n",
    "idl = iter(train_loader)\n",
    "for i in tqdm(range(4)):\n",
    "    # reals = ((next(idl))[0] * 256).type(torch.uint8)\n",
    "    reals = ((next(idl))[0] * 1).to(device)\n",
    "    fid.update(reals, True)\n",
    "\n",
    "for i in tqdm(range(4)):\n",
    "    fakes = generate(num=128)\n",
    "    # fakes = torch.from_numpy((fakes.reshape(-1, 3, 64, 64) * 256)).type(torch.uint8)\n",
    "    fakes = torch.from_numpy((fakes.reshape(-1, 3, 64, 64) * 1)).to(torch.float32).to(device)\n",
    "    fid.update(fakes, False)"
   ]
  },
  {
   "cell_type": "code",
   "execution_count": 37,
   "id": "25e1c1da",
   "metadata": {
    "execution": {
     "iopub.execute_input": "2025-06-07T10:06:54.189419Z",
     "iopub.status.busy": "2025-06-07T10:06:54.188380Z",
     "iopub.status.idle": "2025-06-07T10:06:57.703664Z",
     "shell.execute_reply": "2025-06-07T10:06:57.702906Z"
    },
    "papermill": {
     "duration": 3.861625,
     "end_time": "2025-06-07T10:06:57.704971",
     "exception": false,
     "start_time": "2025-06-07T10:06:53.843346",
     "status": "completed"
    },
    "tags": []
   },
   "outputs": [
    {
     "data": {
      "text/plain": [
       "tensor(87.7930, device='cuda:0')"
      ]
     },
     "execution_count": 37,
     "metadata": {},
     "output_type": "execute_result"
    }
   ],
   "source": [
    "fid.compute()"
   ]
  },
  {
   "cell_type": "code",
   "execution_count": 38,
   "id": "827951b3",
   "metadata": {
    "execution": {
     "iopub.execute_input": "2025-06-07T10:06:58.289253Z",
     "iopub.status.busy": "2025-06-07T10:06:58.288970Z",
     "iopub.status.idle": "2025-06-07T10:06:58.292238Z",
     "shell.execute_reply": "2025-06-07T10:06:58.291707Z"
    },
    "papermill": {
     "duration": 0.295107,
     "end_time": "2025-06-07T10:06:58.293224",
     "exception": false,
     "start_time": "2025-06-07T10:06:57.998117",
     "status": "completed"
    },
    "tags": []
   },
   "outputs": [],
   "source": [
    "# Best: tensor(65.5430, device='cuda:0')"
   ]
  }
 ],
 "metadata": {
  "kaggle": {
   "accelerator": "gpu",
   "dataSources": [
    {
     "datasetId": 2968449,
     "sourceId": 5111220,
     "sourceType": "datasetVersion"
    }
   ],
   "dockerImageVersionId": 31040,
   "isGpuEnabled": true,
   "isInternetEnabled": true,
   "language": "python",
   "sourceType": "notebook"
  },
  "kernelspec": {
   "display_name": "Python 3",
   "language": "python",
   "name": "python3"
  },
  "language_info": {
   "codemirror_mode": {
    "name": "ipython",
    "version": 3
   },
   "file_extension": ".py",
   "mimetype": "text/x-python",
   "name": "python",
   "nbconvert_exporter": "python",
   "pygments_lexer": "ipython3",
   "version": "3.11.11"
  },
  "papermill": {
   "default_parameters": {},
   "duration": 866.996727,
   "end_time": "2025-06-07T10:07:01.324600",
   "environment_variables": {},
   "exception": null,
   "input_path": "__notebook__.ipynb",
   "output_path": "__notebook__.ipynb",
   "parameters": {},
   "start_time": "2025-06-07T09:52:34.327873",
   "version": "2.6.0"
  }
 },
 "nbformat": 4,
 "nbformat_minor": 5
}
