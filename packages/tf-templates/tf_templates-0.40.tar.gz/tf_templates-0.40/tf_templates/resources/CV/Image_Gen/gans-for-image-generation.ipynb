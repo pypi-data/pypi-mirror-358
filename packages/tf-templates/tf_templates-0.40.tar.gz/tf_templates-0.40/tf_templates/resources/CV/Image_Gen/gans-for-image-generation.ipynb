{
 "cells": [
  {
   "cell_type": "code",
   "execution_count": 1,
   "metadata": {
    "_cell_guid": "b1076dfc-b9ad-4769-8c92-a6c4dae69d19",
    "_uuid": "8f2839f25d086af736a60e9eeb907d3b93b6e0e5",
    "execution": {
     "iopub.execute_input": "2025-06-21T03:43:34.167185Z",
     "iopub.status.busy": "2025-06-21T03:43:34.166903Z",
     "iopub.status.idle": "2025-06-21T03:43:38.233304Z",
     "shell.execute_reply": "2025-06-21T03:43:38.232606Z",
     "shell.execute_reply.started": "2025-06-21T03:43:34.167164Z"
    },
    "trusted": true
   },
   "outputs": [
    {
     "name": "stdout",
     "output_type": "stream",
     "text": [
      "Collecting torcheval\n",
      "  Downloading torcheval-0.0.7-py3-none-any.whl.metadata (8.6 kB)\n",
      "Requirement already satisfied: typing-extensions in /usr/local/lib/python3.11/dist-packages (from torcheval) (4.13.2)\n",
      "Downloading torcheval-0.0.7-py3-none-any.whl (179 kB)\n",
      "\u001B[2K   \u001B[90m━━━━━━━━━━━━━━━━━━━━━━━━━━━━━━━━━━━━━━━━\u001B[0m \u001B[32m179.2/179.2 kB\u001B[0m \u001B[31m4.8 MB/s\u001B[0m eta \u001B[36m0:00:00\u001B[0ma \u001B[36m0:00:01\u001B[0m\n",
      "\u001B[?25hInstalling collected packages: torcheval\n",
      "Successfully installed torcheval-0.0.7\n"
     ]
    }
   ],
   "source": [
    "!pip install torcheval"
   ]
  },
  {
   "cell_type": "code",
   "execution_count": 2,
   "metadata": {
    "execution": {
     "iopub.execute_input": "2025-06-21T03:43:38.235405Z",
     "iopub.status.busy": "2025-06-21T03:43:38.235061Z",
     "iopub.status.idle": "2025-06-21T03:43:47.260084Z",
     "shell.execute_reply": "2025-06-21T03:43:47.259535Z",
     "shell.execute_reply.started": "2025-06-21T03:43:38.235380Z"
    },
    "trusted": true
   },
   "outputs": [],
   "source": [
    "import torch\n",
    "import torch.nn as nn\n",
    "import torch.nn.functional as F\n",
    "from torch.optim import *\n",
    "from torch.optim.lr_scheduler import *\n",
    "import matplotlib.pyplot as plt\n",
    "from torchvision import datasets\n",
    "from torch.utils.data import DataLoader, random_split\n",
    "from PIL import Image\n",
    "import numpy as np\n",
    "from tqdm import tqdm\n",
    "from einops import rearrange"
   ]
  },
  {
   "cell_type": "code",
   "execution_count": 3,
   "metadata": {
    "execution": {
     "iopub.execute_input": "2025-06-21T03:43:47.261051Z",
     "iopub.status.busy": "2025-06-21T03:43:47.260765Z",
     "iopub.status.idle": "2025-06-21T03:43:47.322168Z",
     "shell.execute_reply": "2025-06-21T03:43:47.321545Z",
     "shell.execute_reply.started": "2025-06-21T03:43:47.261034Z"
    },
    "trusted": true
   },
   "outputs": [
    {
     "data": {
      "text/plain": [
       "'cuda'"
      ]
     },
     "execution_count": 3,
     "metadata": {},
     "output_type": "execute_result"
    }
   ],
   "source": [
    "device = \"cuda\" if torch.cuda.is_available() else \"cpu\"\n",
    "device"
   ]
  },
  {
   "cell_type": "code",
   "execution_count": 4,
   "metadata": {
    "execution": {
     "iopub.execute_input": "2025-06-21T03:43:47.324487Z",
     "iopub.status.busy": "2025-06-21T03:43:47.323778Z",
     "iopub.status.idle": "2025-06-21T03:43:47.343053Z",
     "shell.execute_reply": "2025-06-21T03:43:47.342512Z",
     "shell.execute_reply.started": "2025-06-21T03:43:47.324460Z"
    },
    "trusted": true
   },
   "outputs": [],
   "source": [
    "torch.backends.cudnn.benchmark = True"
   ]
  },
  {
   "cell_type": "markdown",
   "metadata": {},
   "source": [
    "# Dataset and DataLoader"
   ]
  },
  {
   "cell_type": "code",
   "execution_count": 5,
   "metadata": {
    "execution": {
     "iopub.execute_input": "2025-06-21T03:43:47.344151Z",
     "iopub.status.busy": "2025-06-21T03:43:47.343858Z",
     "iopub.status.idle": "2025-06-21T03:43:47.357506Z",
     "shell.execute_reply": "2025-06-21T03:43:47.356754Z",
     "shell.execute_reply.started": "2025-06-21T03:43:47.344124Z"
    },
    "trusted": true
   },
   "outputs": [],
   "source": [
    "# import torchvision\n",
    "# import torchvision.transforms as transforms\n",
    "\n",
    "# transform = transforms.Compose(\n",
    "#     [transforms.ToTensor(),\n",
    "#      transforms.Normalize((0.5, 0.5, 0.5), (0.5, 0.5, 0.5))])\n",
    "\n",
    "# trainset = torchvision.datasets.CIFAR10(root='./resources', train=True,\n",
    "#                                         download=True, transform=transform)\n",
    "# train_loader = torch.utils.resources.DataLoader(trainset, batch_size=64,\n",
    "#                                           shuffle=True, num_workers=4)\n",
    "\n",
    "# testset = torchvision.datasets.CIFAR10(root='./resources', train=False,\n",
    "#                                        download=True, transform=transform)\n",
    "# test_loader = torch.utils.resources.DataLoader(testset, batch_size=128,\n",
    "#                                          shuffle=False, num_workers=4)"
   ]
  },
  {
   "cell_type": "code",
   "execution_count": 6,
   "metadata": {
    "execution": {
     "iopub.execute_input": "2025-06-21T03:43:47.358347Z",
     "iopub.status.busy": "2025-06-21T03:43:47.358132Z",
     "iopub.status.idle": "2025-06-21T03:45:18.214443Z",
     "shell.execute_reply": "2025-06-21T03:45:18.213831Z",
     "shell.execute_reply.started": "2025-06-21T03:43:47.358322Z"
    },
    "trusted": true
   },
   "outputs": [],
   "source": [
    "dataroot = \"/kaggle/input/50k-celeba-dataset-64x64\"\n",
    "dataset = datasets.ImageFolder(root=dataroot)\n",
    "                           # transform=transforms.Compose([\n",
    "                           #     transforms.Resize(image_size),\n",
    "                           #     transforms.CenterCrop(image_size),\n",
    "                           #     transforms.ToTensor(),\n",
    "                           #     transforms.Normalize((0.5, 0.5, 0.5), (0.5, 0.5, 0.5)),\n",
    "                           # ]))"
   ]
  },
  {
   "cell_type": "code",
   "execution_count": 7,
   "metadata": {
    "execution": {
     "iopub.execute_input": "2025-06-21T03:45:18.215765Z",
     "iopub.status.busy": "2025-06-21T03:45:18.215190Z",
     "iopub.status.idle": "2025-06-21T03:45:18.224233Z",
     "shell.execute_reply": "2025-06-21T03:45:18.223664Z",
     "shell.execute_reply.started": "2025-06-21T03:45:18.215744Z"
    },
    "trusted": true
   },
   "outputs": [
    {
     "data": {
      "text/plain": [
       "(<torch.utils.data.dataset.Subset at 0x7dc13e478450>,\n",
       " <torch.utils.data.dataset.Subset at 0x7dc13e478490>)"
      ]
     },
     "execution_count": 7,
     "metadata": {},
     "output_type": "execute_result"
    }
   ],
   "source": [
    "train_ds, test_ds = random_split(dataset, [0.8, 0.2])\n",
    "train_ds, test_ds"
   ]
  },
  {
   "cell_type": "code",
   "execution_count": 8,
   "metadata": {
    "execution": {
     "iopub.execute_input": "2025-06-21T03:45:18.225159Z",
     "iopub.status.busy": "2025-06-21T03:45:18.224913Z",
     "iopub.status.idle": "2025-06-21T03:45:18.240453Z",
     "shell.execute_reply": "2025-06-21T03:45:18.239632Z",
     "shell.execute_reply.started": "2025-06-21T03:45:18.225134Z"
    },
    "trusted": true
   },
   "outputs": [],
   "source": [
    "def collate_fn(batch):\n",
    "    batch_size = len(batch)\n",
    "    images = np.zeros((batch_size, 64, 64, 3)).astype(np.float32)\n",
    "    labels = np.zeros(batch_size).astype(np.int32)\n",
    "    cnt = 0\n",
    "    for im, label in batch:\n",
    "        # im = Image.open(pil_file)  \n",
    "        im.draft('RGB',(64, 64))\n",
    "        images[cnt] = np.asarray(im)\n",
    "        labels[cnt] = label\n",
    "        cnt += 1\n",
    "    images = images.swapaxes(2, 3).swapaxes(1, 2) / 256\n",
    "    return torch.from_numpy(images), torch.from_numpy(labels)"
   ]
  },
  {
   "cell_type": "code",
   "execution_count": 9,
   "metadata": {
    "execution": {
     "iopub.execute_input": "2025-06-21T03:45:18.241624Z",
     "iopub.status.busy": "2025-06-21T03:45:18.241291Z",
     "iopub.status.idle": "2025-06-21T03:45:18.261252Z",
     "shell.execute_reply": "2025-06-21T03:45:18.260594Z",
     "shell.execute_reply.started": "2025-06-21T03:45:18.241606Z"
    },
    "trusted": true
   },
   "outputs": [],
   "source": [
    "train_loader = DataLoader(\n",
    "    train_ds,\n",
    "    batch_size=64,\n",
    "    shuffle=True,\n",
    "    collate_fn=collate_fn,\n",
    "    num_workers=4,\n",
    ")\n",
    "test_loader = DataLoader(\n",
    "    test_ds,\n",
    "    batch_size=128,\n",
    "    shuffle=True,\n",
    "    collate_fn=collate_fn,\n",
    "    num_workers=4,\n",
    ")"
   ]
  },
  {
   "cell_type": "code",
   "execution_count": 10,
   "metadata": {
    "execution": {
     "iopub.execute_input": "2025-06-21T03:45:18.263807Z",
     "iopub.status.busy": "2025-06-21T03:45:18.263600Z",
     "iopub.status.idle": "2025-06-21T03:45:19.305140Z",
     "shell.execute_reply": "2025-06-21T03:45:19.304439Z",
     "shell.execute_reply.started": "2025-06-21T03:45:18.263792Z"
    },
    "trusted": true
   },
   "outputs": [
    {
     "name": "stdout",
     "output_type": "stream",
     "text": [
      "torch.Size([64, 3, 64, 64])\n",
      "tensor(0.9961)\n",
      "tensor(0.)\n",
      "CPU times: user 66.5 ms, sys: 71.4 ms, total: 138 ms\n",
      "Wall time: 1.03 s\n"
     ]
    }
   ],
   "source": [
    "%%time\n",
    "for x in train_loader:\n",
    "    print(x[0].shape)\n",
    "    print(torch.max(x[0]))\n",
    "    print(torch.min(x[0]))\n",
    "    break"
   ]
  },
  {
   "cell_type": "markdown",
   "metadata": {},
   "source": [
    "# Model Definition"
   ]
  },
  {
   "cell_type": "code",
   "execution_count": null,
   "metadata": {
    "execution": {
     "iopub.execute_input": "2025-06-21T03:45:19.306306Z",
     "iopub.status.busy": "2025-06-21T03:45:19.306048Z",
     "iopub.status.idle": "2025-06-21T03:45:19.313430Z",
     "shell.execute_reply": "2025-06-21T03:45:19.312723Z",
     "shell.execute_reply.started": "2025-06-21T03:45:19.306282Z"
    },
    "trusted": true
   },
   "outputs": [],
   "source": [
    "class ResNetBlock(nn.Module):\n",
    "    def __init__(self, in_channels, out_channels, stride=1, upsample=False):\n",
    "        super().__init__()\n",
    "        if not upsample:\n",
    "            self.conv1 = nn.Conv2d(in_channels, out_channels, kernel_size=3, stride=1, padding=1)\n",
    "            self.conv2 = nn.Conv2d(out_channels, out_channels, kernel_size=4, stride=stride, padding=1)\n",
    "            self.skip = nn.Conv2d(in_channels, out_channels, kernel_size=4, stride=stride, padding=1, bias=False)\n",
    "        else:\n",
    "            self.conv1 = nn.Conv2d(in_channels, out_channels, kernel_size=3, stride=1, padding=1)\n",
    "            self.conv2 = nn.ConvTranspose2d(out_channels, out_channels, kernel_size=4, stride=stride, padding=1)\n",
    "            self.skip = nn.ConvTranspose2d(in_channels, out_channels, kernel_size=4, stride=stride, padding=1, bias=False)\n",
    "        self.gn1 = nn.BatchNorm2d(out_channels)\n",
    "        self.gn2 = nn.BatchNorm2d(out_channels)\n",
    "        self.gn3 = nn.BatchNorm2d(out_channels)\n",
    "    def forward(self, x):\n",
    "        x1 = F.silu(self.gn1(self.conv1(x)))\n",
    "        x1 = F.silu(self.gn2(self.conv2(x1)))\n",
    "        x = self.skip(x) + x1\n",
    "        x = self.gn3(x)\n",
    "        return x"
   ]
  },
  {
   "cell_type": "code",
   "execution_count": 12,
   "metadata": {
    "execution": {
     "iopub.execute_input": "2025-06-21T03:45:19.315085Z",
     "iopub.status.busy": "2025-06-21T03:45:19.314297Z",
     "iopub.status.idle": "2025-06-21T03:45:19.332889Z",
     "shell.execute_reply": "2025-06-21T03:45:19.332228Z",
     "shell.execute_reply.started": "2025-06-21T03:45:19.315050Z"
    },
    "trusted": true
   },
   "outputs": [],
   "source": [
    "class ViT(nn.Module):\n",
    "    def __init__(self, in_channels, out_channels):\n",
    "        super().__init__()\n",
    "        self.in_channels = in_channels\n",
    "        self.out_channels = out_channels\n",
    "        self.to_patch = nn.Conv2d(in_channels, 64, kernel_size=1, padding=0, stride=1)\n",
    "        encoder_layer = nn.TransformerEncoderLayer(\n",
    "            d_model=64,\n",
    "            nhead=8,\n",
    "            dim_feedforward=128,\n",
    "            activation=\"gelu\",\n",
    "            batch_first=True,\n",
    "        )\n",
    "        self.encoder = nn.TransformerEncoder(\n",
    "            encoder_layer,\n",
    "            num_layers=2,\n",
    "        )\n",
    "        self.to_out = nn.Conv2d(64, out_channels, kernel_size=1, padding=0, stride=1)\n",
    "    def forward(self, x):\n",
    "        x = F.leaky_relu(self.to_patch(x))\n",
    "        h = x.shape[2]\n",
    "        w = x.shape[3]\n",
    "        x = rearrange(x, 'b c h w -> b (h w) c')\n",
    "        x = self.encoder(x)\n",
    "        x = rearrange(x, 'b (h w) c -> b c h w', h=h, w=w)\n",
    "        x = self.to_out(x)\n",
    "        return x"
   ]
  },
  {
   "cell_type": "code",
   "execution_count": 13,
   "metadata": {
    "execution": {
     "iopub.execute_input": "2025-06-21T03:45:19.333989Z",
     "iopub.status.busy": "2025-06-21T03:45:19.333749Z",
     "iopub.status.idle": "2025-06-21T03:45:19.353482Z",
     "shell.execute_reply": "2025-06-21T03:45:19.352843Z",
     "shell.execute_reply.started": "2025-06-21T03:45:19.333966Z"
    },
    "trusted": true
   },
   "outputs": [],
   "source": [
    "class Generator(nn.Module):\n",
    "    def __init__(self):\n",
    "        super().__init__()\n",
    "        self.to_in = nn.Linear(128, 100 * 1 * 1)\n",
    "        self.resnet = nn.Sequential(\n",
    "            nn.ConvTranspose2d(100, 256, kernel_size=(4, 4), stride=(1, 1), bias=False),\n",
    "            nn.Dropout(0.25),\n",
    "            nn.BatchNorm2d(256, eps=1e-05, momentum=0.1, affine=True, track_running_stats=True),\n",
    "            nn.SiLU(),\n",
    "            ResNetBlock(256, 256, 2, upsample=True),\n",
    "            nn.Dropout(0.25),\n",
    "            ResNetBlock(256, 128, 2, upsample=True),\n",
    "            nn.Dropout(0.25),\n",
    "            ResNetBlock(128, 96, 2, upsample=True),\n",
    "            nn.Dropout(0.25),\n",
    "            nn.Conv2d(96, 96, kernel_size=3, padding=1, stride=1),\n",
    "            nn.SiLU(),\n",
    "            nn.Dropout(0.25),\n",
    "            nn.ConvTranspose2d(96, 3, kernel_size=(4, 4), stride=(2, 2), padding=(1, 1), bias=False),\n",
    "        )\n",
    "        # self.to_in = nn.Linear(128, 100 * 1 * 1)\n",
    "        # self.main = nn.Sequential(\n",
    "        #     nn.ConvTranspose2d(100, 512, kernel_size=(4, 4), stride=(1, 1), bias=False),\n",
    "        #     nn.BatchNorm2d(512, eps=1e-05, momentum=0.1, affine=True, track_running_stats=True),\n",
    "        #     nn.ReLU(inplace=True),\n",
    "        #     # nn.ConvTranspose2d(512, 256, kernel_size=(4, 4), stride=(2, 2), padding=(1, 1), bias=False),\n",
    "        #     # nn.BatchNorm2d(256, eps=1e-05, momentum=0.1, affine=True, track_running_stats=True),\n",
    "        #     # nn.ReLU(inplace=True),\n",
    "        #     ResNetBlock(512, 256, 2, upsample=True),\n",
    "        #     nn.ConvTranspose2d(256, 128, kernel_size=(4, 4), stride=(2, 2), padding=(1, 1), bias=False),\n",
    "        #     nn.BatchNorm2d(128, eps=1e-05, momentum=0.1, affine=True, track_running_stats=True),\n",
    "        #     nn.ReLU(inplace=True),\n",
    "        #     nn.ConvTranspose2d(128, 64, kernel_size=(4, 4), stride=(2, 2), padding=(1, 1), bias=False),\n",
    "        #     nn.BatchNorm2d(64, eps=1e-05, momentum=0.1, affine=True, track_running_stats=True),\n",
    "        #     nn.ReLU(inplace=True),\n",
    "        #     nn.ConvTranspose2d(64, 3, kernel_size=(4, 4), stride=(2, 2), padding=(1, 1), bias=False),\n",
    "        # )\n",
    "    def forward(self, x):\n",
    "        x = x.squeeze()\n",
    "        x = self.to_in(x)\n",
    "        x = x.reshape(-1, 100, 1, 1)\n",
    "        x = self.resnet(x)\n",
    "        \n",
    "        # x = self.to_in(x)\n",
    "        # x = x.reshape(-1, 100, 1, 1)\n",
    "        # x = self.main(x)\n",
    "        return F.tanh(x)"
   ]
  },
  {
   "cell_type": "code",
   "execution_count": 14,
   "metadata": {
    "execution": {
     "iopub.execute_input": "2025-06-21T03:45:19.354774Z",
     "iopub.status.busy": "2025-06-21T03:45:19.354298Z",
     "iopub.status.idle": "2025-06-21T03:45:19.372002Z",
     "shell.execute_reply": "2025-06-21T03:45:19.371314Z",
     "shell.execute_reply.started": "2025-06-21T03:45:19.354758Z"
    },
    "trusted": true
   },
   "outputs": [],
   "source": [
    "class Discriminator(nn.Module):\n",
    "    def __init__(self):\n",
    "        super().__init__()\n",
    "        self.resnet = nn.Sequential(\n",
    "            nn.Conv2d(3, 64, kernel_size=4, padding=1, stride=2),\n",
    "            nn.BatchNorm2d(64),\n",
    "            nn.LeakyReLU(0.25),\n",
    "            nn.Conv2d(64, 128, kernel_size=4, padding=1, stride=2),\n",
    "            # nn.Conv2d(3, 128, kernel_size=4, padding=1, stride=2),\n",
    "            nn.BatchNorm2d(128),\n",
    "            nn.LeakyReLU(0.25),\n",
    "            nn.Conv2d(128, 256, kernel_size=4, padding=1, stride=2),\n",
    "            nn.BatchNorm2d(256),\n",
    "            nn.LeakyReLU(0.25),\n",
    "            nn.Conv2d(256, 512, kernel_size=4, padding=1, stride=2),\n",
    "            nn.BatchNorm2d(512),\n",
    "            nn.LeakyReLU(0.25),\n",
    "            nn.Conv2d(512, 1, kernel_size=4, padding=0, stride=1),\n",
    "        )\n",
    "        # self.main = nn.Sequential(\n",
    "        #     # input is ``(nc) x 64 x 64``\n",
    "        #     nn.Conv2d(3, 64, 4, 2, 1, bias=False),\n",
    "        #     nn.LeakyReLU(0.2, inplace=True),\n",
    "        #     # state size. ``(ndf) x 32 x 32``\n",
    "        #     nn.Conv2d(64, 128, 4, 2, 1, bias=False),\n",
    "        #     nn.BatchNorm2d(128),\n",
    "        #     nn.LeakyReLU(0.2, inplace=True),\n",
    "        #     # state size. ``(ndf*2) x 16 x 16``\n",
    "        #     nn.Conv2d(128, 256, 4, 2, 1, bias=False),\n",
    "        #     nn.BatchNorm2d(256),\n",
    "        #     nn.LeakyReLU(0.2, inplace=True),\n",
    "        #     # state size. ``(ndf*4) x 8 x 8``\n",
    "        #     nn.Conv2d(256, 512, 4, 2, 1, bias=False),\n",
    "        #     nn.BatchNorm2d(512),\n",
    "        #     nn.LeakyReLU(0.2, inplace=True),\n",
    "        #     # state size. ``(ndf*8) x 4 x 4``\n",
    "        #     nn.Conv2d(512, 1, 4, 1, 0, bias=False),\n",
    "        #     # nn.Sigmoid()\n",
    "        # )\n",
    "    def forward(self, x):\n",
    "        x = self.resnet(x)\n",
    "        return x.squeeze()\n",
    "        # return self.main(x).squeeze()"
   ]
  },
  {
   "cell_type": "code",
   "execution_count": 15,
   "metadata": {
    "execution": {
     "iopub.execute_input": "2025-06-21T03:45:19.372953Z",
     "iopub.status.busy": "2025-06-21T03:45:19.372705Z",
     "iopub.status.idle": "2025-06-21T03:45:19.628898Z",
     "shell.execute_reply": "2025-06-21T03:45:19.628063Z",
     "shell.execute_reply.started": "2025-06-21T03:45:19.372931Z"
    },
    "trusted": true
   },
   "outputs": [],
   "source": [
    "generator = Generator().to(device)\n",
    "discriminator = Discriminator().to(device)"
   ]
  },
  {
   "cell_type": "code",
   "execution_count": 16,
   "metadata": {
    "execution": {
     "iopub.execute_input": "2025-06-21T03:45:19.630351Z",
     "iopub.status.busy": "2025-06-21T03:45:19.629768Z",
     "iopub.status.idle": "2025-06-21T03:45:19.635630Z",
     "shell.execute_reply": "2025-06-21T03:45:19.634974Z",
     "shell.execute_reply.started": "2025-06-21T03:45:19.630318Z"
    },
    "trusted": true
   },
   "outputs": [
    {
     "data": {
      "text/plain": [
       "4737476"
      ]
     },
     "execution_count": 16,
     "metadata": {},
     "output_type": "execute_result"
    }
   ],
   "source": [
    "sum(p.numel() for p in generator.parameters())"
   ]
  },
  {
   "cell_type": "code",
   "execution_count": 17,
   "metadata": {
    "execution": {
     "iopub.execute_input": "2025-06-21T03:45:19.636522Z",
     "iopub.status.busy": "2025-06-21T03:45:19.636281Z",
     "iopub.status.idle": "2025-06-21T03:45:19.652346Z",
     "shell.execute_reply": "2025-06-21T03:45:19.651787Z",
     "shell.execute_reply.started": "2025-06-21T03:45:19.636506Z"
    },
    "trusted": true
   },
   "outputs": [
    {
     "data": {
      "text/plain": [
       "2766657"
      ]
     },
     "execution_count": 17,
     "metadata": {},
     "output_type": "execute_result"
    }
   ],
   "source": [
    "sum(p.numel() for p in discriminator.parameters())"
   ]
  },
  {
   "cell_type": "code",
   "execution_count": 18,
   "metadata": {
    "execution": {
     "iopub.execute_input": "2025-06-21T03:45:19.653397Z",
     "iopub.status.busy": "2025-06-21T03:45:19.653117Z",
     "iopub.status.idle": "2025-06-21T03:45:22.795410Z",
     "shell.execute_reply": "2025-06-21T03:45:22.794494Z",
     "shell.execute_reply.started": "2025-06-21T03:45:19.653348Z"
    },
    "trusted": true
   },
   "outputs": [
    {
     "name": "stdout",
     "output_type": "stream",
     "text": [
      "torch.Size([64])\n",
      "torch.Size([64, 3, 64, 64])\n",
      "CPU times: user 1.71 s, sys: 437 ms, total: 2.15 s\n",
      "Wall time: 3.13 s\n"
     ]
    }
   ],
   "source": [
    "%%time\n",
    "for x in train_loader:\n",
    "    img = x[0].to(device)\n",
    "    img = img * 2 - 1\n",
    "    label = discriminator(img)\n",
    "    print(label.shape)\n",
    "    noise = torch.randn(img.shape[0], 128, 1, 1).to(device)\n",
    "    generated = generator(noise)\n",
    "    print(generated.shape)\n",
    "    break"
   ]
  },
  {
   "cell_type": "markdown",
   "metadata": {},
   "source": [
    "# Training"
   ]
  },
  {
   "cell_type": "code",
   "execution_count": 19,
   "metadata": {
    "execution": {
     "iopub.execute_input": "2025-06-21T03:45:22.796774Z",
     "iopub.status.busy": "2025-06-21T03:45:22.796533Z",
     "iopub.status.idle": "2025-06-21T03:45:22.802080Z",
     "shell.execute_reply": "2025-06-21T03:45:22.801275Z",
     "shell.execute_reply.started": "2025-06-21T03:45:22.796749Z"
    },
    "trusted": true
   },
   "outputs": [],
   "source": [
    "from tqdm import tqdm"
   ]
  },
  {
   "cell_type": "code",
   "execution_count": 20,
   "metadata": {
    "execution": {
     "iopub.execute_input": "2025-06-21T03:45:22.803638Z",
     "iopub.status.busy": "2025-06-21T03:45:22.803008Z",
     "iopub.status.idle": "2025-06-21T03:45:22.819994Z",
     "shell.execute_reply": "2025-06-21T03:45:22.819228Z",
     "shell.execute_reply.started": "2025-06-21T03:45:22.803612Z"
    },
    "trusted": true
   },
   "outputs": [],
   "source": [
    "real_img_labels = 1\n",
    "fake_img_labels = 0"
   ]
  },
  {
   "cell_type": "code",
   "execution_count": 21,
   "metadata": {
    "execution": {
     "iopub.execute_input": "2025-06-21T03:45:22.821114Z",
     "iopub.status.busy": "2025-06-21T03:45:22.820830Z",
     "iopub.status.idle": "2025-06-21T03:45:22.839110Z",
     "shell.execute_reply": "2025-06-21T03:45:22.837767Z",
     "shell.execute_reply.started": "2025-06-21T03:45:22.821097Z"
    },
    "trusted": true
   },
   "outputs": [],
   "source": [
    "from torch.autograd import Variable\n",
    "from collections import deque"
   ]
  },
  {
   "cell_type": "code",
   "execution_count": 76,
   "metadata": {
    "execution": {
     "iopub.execute_input": "2025-06-21T03:58:51.711190Z",
     "iopub.status.busy": "2025-06-21T03:58:51.710690Z",
     "iopub.status.idle": "2025-06-21T03:58:51.721826Z",
     "shell.execute_reply": "2025-06-21T03:58:51.721191Z",
     "shell.execute_reply.started": "2025-06-21T03:58:51.711165Z"
    },
    "trusted": true
   },
   "outputs": [],
   "source": [
    "def train():\n",
    "    discriminator.train()\n",
    "    generator.train()\n",
    "    cnt = 0\n",
    "    cnt2 = 0\n",
    "    t_d_loss = 0\n",
    "    t_g_loss = 0\n",
    "    for x in (pbar := tqdm(train_loader)):\n",
    "        optimizerD.zero_grad()\n",
    "        cnt += 1\n",
    "        \n",
    "        img = x[0].to(device)\n",
    "        img = img * 2 - 1\n",
    "        \n",
    "        # Discriminator Update\n",
    "        # Generate all fake batch WITHOUT grad\n",
    "        noise = torch.randn(img.shape[0], 128, 1, 1, device=device)\n",
    "        with torch.no_grad():\n",
    "            fake_img = generator(noise)\n",
    "        instance_noise = torch.randn(img.shape, device=device) * 0.01\n",
    "        real_d = discriminator(img + instance_noise)\n",
    "        fake_d = discriminator(fake_img + instance_noise)\n",
    "        loss_d = -torch.mean((real_d))\n",
    "        loss_d = loss_d + torch.mean((fake_d))\n",
    "        \n",
    "        # L2 Norm Loss instead of weight clipping\n",
    "        alpha = torch.rand(img.shape[0], 1, 1, 1, device=device)\n",
    "        new_img = (alpha * img + (1 - alpha) * fake_img.detach()) # Similar to flow matching\n",
    "        new_img = Variable(new_img, requires_grad=True)\n",
    "        d_new = discriminator(new_img)\n",
    "        \n",
    "        # Compute gradient\n",
    "        d_grad = torch.autograd.grad(\n",
    "            d_new,\n",
    "            new_img,\n",
    "            grad_outputs=torch.ones(d_new.shape, device=device),\n",
    "            retain_graph=True,\n",
    "            create_graph=True,\n",
    "        )[0]\n",
    "        d_grad = d_grad.reshape(img.shape[0], -1)\n",
    "        loss_d = loss_d + 10 * torch.mean(torch.square((torch.norm(d_grad, 2, dim=-1) - 2.0)))\n",
    "\n",
    "        t_d_loss += loss_d.item()\n",
    "        # Backprop Discriminator\n",
    "        loss_d.backward()\n",
    "        optimizerD.step()\n",
    "        # # Clip Discriminator Weights\n",
    "        # for param in discriminator.parameters():\n",
    "        #     param.resources.clamp_(-0.01, 0.01)\n",
    "\n",
    "        # Generator Update\n",
    "        if cnt % n_critic == 0:\n",
    "            optimizerG.zero_grad()\n",
    "            # Generate all fake batch WITH grad\n",
    "            noise = torch.randn(img.shape[0], 128, 1, 1, device=device)\n",
    "            fake_img = generator(noise)\n",
    "            loss_g = -torch.mean(discriminator(fake_img + instance_noise))\n",
    "            t_g_loss += loss_g.item()\n",
    "            loss_g.backward()\n",
    "            optimizerG.step()\n",
    "            cnt2 += 1\n",
    "            # Update tqdm\n",
    "            pbar.set_description(f\"G Loss: {t_g_loss / cnt2 :6f} | D Loss: {t_d_loss / cnt :6f}\")\n",
    "    if schedulerD is not None:\n",
    "        schedulerD.step()\n",
    "    if schedulerG is not None:\n",
    "        schedulerG.step()"
   ]
  },
  {
   "cell_type": "code",
   "execution_count": 77,
   "metadata": {
    "execution": {
     "iopub.execute_input": "2025-06-21T03:58:54.210438Z",
     "iopub.status.busy": "2025-06-21T03:58:54.210132Z",
     "iopub.status.idle": "2025-06-21T03:58:54.216928Z",
     "shell.execute_reply": "2025-06-21T03:58:54.216078Z",
     "shell.execute_reply.started": "2025-06-21T03:58:54.210415Z"
    },
    "trusted": true
   },
   "outputs": [],
   "source": [
    "def test():\n",
    "    discriminator.eval()\n",
    "    generator.eval()\n",
    "    cnt = 0\n",
    "    cnt2 = 0\n",
    "    t_d_loss = 0\n",
    "    t_g_loss = 0\n",
    "    with torch.no_grad():\n",
    "        for x in (pbar := tqdm(test_loader)):\n",
    "            cnt += 1\n",
    "            \n",
    "            img = x[0].to(device)\n",
    "            img = img * 2 - 1\n",
    "            \n",
    "            # Discriminator Update\n",
    "            # Generate all fake batch WITHOUT grad\n",
    "            noise = torch.randn(img.shape[0], 128, 1, 1).to(device)\n",
    "            with torch.no_grad():\n",
    "                fake_img = generator(noise)\n",
    "            loss_d = -torch.mean(discriminator(img)) + torch.mean(discriminator(fake_img))\n",
    "            t_d_loss += loss_d.item()\n",
    "            \n",
    "            # Generator Update\n",
    "            if cnt % n_critic == 0:\n",
    "                # Generate all fake batch WITH grad\n",
    "                noise = torch.randn(img.shape[0], 128, 1, 1).to(device)\n",
    "                fake_img = generator(noise)\n",
    "                loss_g = -torch.mean(discriminator(fake_img))\n",
    "                t_g_loss += loss_g.item()\n",
    "                cnt2 += 1\n",
    "                # Update tqdm\n",
    "                pbar.set_description(f\"Testing: G Loss: {t_g_loss / cnt2 :6f} | D Loss: {t_d_loss / cnt :6f}\")"
   ]
  },
  {
   "cell_type": "code",
   "execution_count": 78,
   "metadata": {
    "execution": {
     "iopub.execute_input": "2025-06-21T03:58:54.369883Z",
     "iopub.status.busy": "2025-06-21T03:58:54.368988Z",
     "iopub.status.idle": "2025-06-21T03:58:54.375404Z",
     "shell.execute_reply": "2025-06-21T03:58:54.374535Z",
     "shell.execute_reply.started": "2025-06-21T03:58:54.369857Z"
    },
    "trusted": true
   },
   "outputs": [],
   "source": [
    "import matplotlib.pyplot as plt\n",
    "\n",
    "def generate_image(num_image=1):\n",
    "    discriminator.eval()\n",
    "    generator.eval()\n",
    "    with torch.no_grad():\n",
    "        sample_noise = torch.randn(num_image, 128, 1, 1).to(device)\n",
    "        # sample_noise = torch.clamp(sample_noise, -3, 3)\n",
    "        pred = generator(sample_noise)\n",
    "        pred = (pred + 1) / 2\n",
    "    return pred.detach().cpu().squeeze()\n",
    "\n",
    "def generate_w_grad(num_image=64):\n",
    "    discriminator.train()\n",
    "    generator.train()\n",
    "    sample_noise = torch.randn(num_image, 128, 1, 1).to(device)\n",
    "    sample_noise.requires_grad = False\n",
    "    # sample_noise = torch.clamp(sample_noise, -3, 3)\n",
    "    pred = generator(sample_noise)\n",
    "    pred = (pred + 1) / 2\n",
    "    return pred"
   ]
  },
  {
   "cell_type": "markdown",
   "metadata": {},
   "source": [
    "# Training"
   ]
  },
  {
   "cell_type": "code",
   "execution_count": 79,
   "metadata": {
    "execution": {
     "iopub.execute_input": "2025-06-21T03:58:55.099594Z",
     "iopub.status.busy": "2025-06-21T03:58:55.098866Z",
     "iopub.status.idle": "2025-06-21T03:58:55.103489Z",
     "shell.execute_reply": "2025-06-21T03:58:55.102685Z",
     "shell.execute_reply.started": "2025-06-21T03:58:55.099570Z"
    },
    "trusted": true
   },
   "outputs": [],
   "source": [
    "from torch.optim import *\n",
    "from torch.optim.lr_scheduler import *"
   ]
  },
  {
   "cell_type": "code",
   "execution_count": 80,
   "metadata": {
    "execution": {
     "iopub.execute_input": "2025-06-21T03:58:55.220688Z",
     "iopub.status.busy": "2025-06-21T03:58:55.219926Z",
     "iopub.status.idle": "2025-06-21T03:58:55.310238Z",
     "shell.execute_reply": "2025-06-21T03:58:55.309678Z",
     "shell.execute_reply.started": "2025-06-21T03:58:55.220666Z"
    },
    "trusted": true
   },
   "outputs": [],
   "source": [
    "generator = Generator().to(device)\n",
    "discriminator = Discriminator().to(device)"
   ]
  },
  {
   "cell_type": "code",
   "execution_count": 81,
   "metadata": {
    "execution": {
     "iopub.execute_input": "2025-06-21T03:58:55.393261Z",
     "iopub.status.busy": "2025-06-21T03:58:55.392692Z",
     "iopub.status.idle": "2025-06-21T03:58:55.399893Z",
     "shell.execute_reply": "2025-06-21T03:58:55.399316Z",
     "shell.execute_reply.started": "2025-06-21T03:58:55.393241Z"
    },
    "trusted": true
   },
   "outputs": [],
   "source": [
    "# custom weights initialization called on ``netG`` and ``netD``\n",
    "def weights_init(m):\n",
    "    classname = m.__class__.__name__\n",
    "    if classname.find('Conv') != -1:\n",
    "        nn.init.normal_(m.weight.data, 0.0, 0.005)\n",
    "    elif classname.find('BatchNorm') != -1:\n",
    "        nn.init.normal_(m.weight.data, 1.0, 0.005)\n",
    "        nn.init.constant_(m.bias.data, 0)\n",
    "generator.apply(weights_init)\n",
    "discriminator.apply(weights_init);"
   ]
  },
  {
   "cell_type": "code",
   "execution_count": 82,
   "metadata": {
    "execution": {
     "iopub.execute_input": "2025-06-21T03:58:56.155457Z",
     "iopub.status.busy": "2025-06-21T03:58:56.154860Z",
     "iopub.status.idle": "2025-06-21T03:58:56.160247Z",
     "shell.execute_reply": "2025-06-21T03:58:56.159533Z",
     "shell.execute_reply.started": "2025-06-21T03:58:56.155425Z"
    },
    "trusted": true
   },
   "outputs": [],
   "source": [
    "import torch.nn as nn\n",
    "from torch.nn.utils import spectral_norm\n",
    "\n",
    "def apply_spectral_norm(model):\n",
    "    \"\"\"\n",
    "    Recursively wraps all Conv2d and Linear layers in `model`\n",
    "    with spectral_norm, in-place.\n",
    "    \"\"\"\n",
    "    for name, module in model.named_children():\n",
    "        # If this module itself has children, recurse into it\n",
    "        if len(list(module.children())) > 0:\n",
    "            apply_spectral_norm(module)\n",
    "        # Otherwise, if it's Conv2d or Linear, wrap it\n",
    "        elif isinstance(module, (nn.Conv2d, nn.Linear)):\n",
    "            # Replace the module in-place\n",
    "            wrapped = spectral_norm(module)\n",
    "            setattr(model, name, wrapped)"
   ]
  },
  {
   "cell_type": "code",
   "execution_count": 83,
   "metadata": {
    "execution": {
     "iopub.execute_input": "2025-06-21T03:58:56.328149Z",
     "iopub.status.busy": "2025-06-21T03:58:56.327431Z",
     "iopub.status.idle": "2025-06-21T03:58:56.334281Z",
     "shell.execute_reply": "2025-06-21T03:58:56.333619Z",
     "shell.execute_reply.started": "2025-06-21T03:58:56.328122Z"
    },
    "trusted": true
   },
   "outputs": [],
   "source": [
    "apply_spectral_norm(discriminator)\n",
    "discriminator = discriminator.to(device)"
   ]
  },
  {
   "cell_type": "code",
   "execution_count": 84,
   "metadata": {
    "execution": {
     "iopub.execute_input": "2025-06-21T03:58:56.443487Z",
     "iopub.status.busy": "2025-06-21T03:58:56.442910Z",
     "iopub.status.idle": "2025-06-21T03:58:56.448783Z",
     "shell.execute_reply": "2025-06-21T03:58:56.448110Z",
     "shell.execute_reply.started": "2025-06-21T03:58:56.443461Z"
    },
    "trusted": true
   },
   "outputs": [
    {
     "data": {
      "text/plain": [
       "4737476"
      ]
     },
     "execution_count": 84,
     "metadata": {},
     "output_type": "execute_result"
    }
   ],
   "source": [
    "sum(p.numel() for p in generator.parameters())"
   ]
  },
  {
   "cell_type": "code",
   "execution_count": 85,
   "metadata": {
    "execution": {
     "iopub.execute_input": "2025-06-21T03:58:56.623146Z",
     "iopub.status.busy": "2025-06-21T03:58:56.622655Z",
     "iopub.status.idle": "2025-06-21T03:58:56.628176Z",
     "shell.execute_reply": "2025-06-21T03:58:56.627563Z",
     "shell.execute_reply.started": "2025-06-21T03:58:56.623121Z"
    },
    "trusted": true
   },
   "outputs": [
    {
     "data": {
      "text/plain": [
       "2766657"
      ]
     },
     "execution_count": 85,
     "metadata": {},
     "output_type": "execute_result"
    }
   ],
   "source": [
    "sum(p.numel() for p in discriminator.parameters())"
   ]
  },
  {
   "cell_type": "code",
   "execution_count": 86,
   "metadata": {
    "execution": {
     "iopub.execute_input": "2025-06-21T03:58:56.796584Z",
     "iopub.status.busy": "2025-06-21T03:58:56.795959Z",
     "iopub.status.idle": "2025-06-21T03:58:56.803223Z",
     "shell.execute_reply": "2025-06-21T03:58:56.802490Z",
     "shell.execute_reply.started": "2025-06-21T03:58:56.796558Z"
    },
    "trusted": true
   },
   "outputs": [],
   "source": [
    "# criteria = nn.BCEWithLogitsLoss()\n",
    "optimizerD = SGD(discriminator.parameters(), lr=3e-4)\n",
    "schedulerD = ExponentialLR(optimizerD, gamma=0.99)\n",
    "optimizerG = RMSprop(generator.parameters(), lr=3e-4)\n",
    "schedulerG = ExponentialLR(optimizerG, gamma=0.99)"
   ]
  },
  {
   "cell_type": "code",
   "execution_count": 87,
   "metadata": {
    "execution": {
     "iopub.execute_input": "2025-06-21T03:58:57.008198Z",
     "iopub.status.busy": "2025-06-21T03:58:57.007460Z",
     "iopub.status.idle": "2025-06-21T03:58:57.011269Z",
     "shell.execute_reply": "2025-06-21T03:58:57.010650Z",
     "shell.execute_reply.started": "2025-06-21T03:58:57.008173Z"
    },
    "trusted": true
   },
   "outputs": [],
   "source": [
    "# for p in model.parameters():\n",
    "#     p.register_hook(lambda grad: torch.clamp(grad, -1e-0, 1e-0))"
   ]
  },
  {
   "cell_type": "code",
   "execution_count": 88,
   "metadata": {
    "execution": {
     "iopub.execute_input": "2025-06-21T03:58:57.172944Z",
     "iopub.status.busy": "2025-06-21T03:58:57.172659Z",
     "iopub.status.idle": "2025-06-21T04:03:10.547678Z",
     "shell.execute_reply": "2025-06-21T04:03:10.546886Z",
     "shell.execute_reply.started": "2025-06-21T03:58:57.172923Z"
    },
    "trusted": true
   },
   "outputs": [
    {
     "name": "stderr",
     "output_type": "stream",
     "text": [
      "G Loss: 7.482524 | D Loss: -12.566716: 100%|██████████| 625/625 [01:20<00:00,  7.74it/s]\n",
      "Testing: G Loss: -2.390636 | D Loss: -8.829399: 100%|██████████| 79/79 [00:03<00:00, 21.32it/s]\n",
      "G Loss: 6.058546 | D Loss: -9.042709: 100%|██████████| 625/625 [01:20<00:00,  7.74it/s] \n",
      "Testing: G Loss: 7.387847 | D Loss: -4.911545: 100%|██████████| 79/79 [00:03<00:00, 20.88it/s]\n",
      "G Loss: 6.614198 | D Loss: -6.487754: 100%|██████████| 625/625 [01:20<00:00,  7.74it/s]\n",
      "Testing: G Loss: 1.874840 | D Loss: -3.300740: 100%|██████████| 79/79 [00:03<00:00, 21.51it/s]\n"
     ]
    }
   ],
   "source": [
    "n_critic = 4\n",
    "\n",
    "for i in range(3):\n",
    "    train()\n",
    "    test()\n",
    "\n",
    "# with torch.autograd.set_detect_anomaly(True):"
   ]
  },
  {
   "cell_type": "code",
   "execution_count": 89,
   "metadata": {
    "execution": {
     "iopub.execute_input": "2025-06-21T04:03:48.429163Z",
     "iopub.status.busy": "2025-06-21T04:03:48.428229Z",
     "iopub.status.idle": "2025-06-21T04:03:48.433308Z",
     "shell.execute_reply": "2025-06-21T04:03:48.432461Z",
     "shell.execute_reply.started": "2025-06-21T04:03:48.429127Z"
    },
    "trusted": true
   },
   "outputs": [],
   "source": [
    "import cProfile"
   ]
  },
  {
   "cell_type": "code",
   "execution_count": 90,
   "metadata": {
    "execution": {
     "iopub.execute_input": "2025-06-21T04:03:48.590066Z",
     "iopub.status.busy": "2025-06-21T04:03:48.589478Z",
     "iopub.status.idle": "2025-06-21T04:03:48.593077Z",
     "shell.execute_reply": "2025-06-21T04:03:48.592422Z",
     "shell.execute_reply.started": "2025-06-21T04:03:48.590044Z"
    },
    "trusted": true
   },
   "outputs": [],
   "source": [
    "# cProfile.run(\"train()\", sort=\"tottime\")"
   ]
  },
  {
   "cell_type": "code",
   "execution_count": 95,
   "metadata": {
    "execution": {
     "iopub.execute_input": "2025-06-21T04:04:03.866679Z",
     "iopub.status.busy": "2025-06-21T04:04:03.866027Z",
     "iopub.status.idle": "2025-06-21T04:04:03.873843Z",
     "shell.execute_reply": "2025-06-21T04:04:03.873119Z",
     "shell.execute_reply.started": "2025-06-21T04:04:03.866653Z"
    },
    "trusted": true
   },
   "outputs": [],
   "source": [
    "img = generate_image().permute(1, 2, 0)"
   ]
  },
  {
   "cell_type": "code",
   "execution_count": 96,
   "metadata": {
    "execution": {
     "iopub.execute_input": "2025-06-21T04:04:04.033094Z",
     "iopub.status.busy": "2025-06-21T04:04:04.032354Z",
     "iopub.status.idle": "2025-06-21T04:04:04.200195Z",
     "shell.execute_reply": "2025-06-21T04:04:04.199526Z",
     "shell.execute_reply.started": "2025-06-21T04:04:04.033070Z"
    },
    "trusted": true
   },
   "outputs": [
    {
     "data": {
      "text/plain": [
       "<matplotlib.image.AxesImage at 0x7dc09841e350>"
      ]
     },
     "execution_count": 96,
     "metadata": {},
     "output_type": "execute_result"
    },
    {
     "data": {
      "image/png": "[encoded data removed]",
      "text/plain": [
       "<Figure size 640x480 with 1 Axes>"
      ]
     },
     "metadata": {},
     "output_type": "display_data"
    }
   ],
   "source": [
    "plt.imshow(img)"
   ]
  },
  {
   "cell_type": "markdown",
   "metadata": {},
   "source": [
    "# FID Computation"
   ]
  },
  {
   "cell_type": "code",
   "execution_count": 97,
   "metadata": {
    "execution": {
     "iopub.execute_input": "2025-06-21T04:04:05.540482Z",
     "iopub.status.busy": "2025-06-21T04:04:05.539741Z",
     "iopub.status.idle": "2025-06-21T04:04:08.269938Z",
     "shell.execute_reply": "2025-06-21T04:04:08.268912Z",
     "shell.execute_reply.started": "2025-06-21T04:04:05.540460Z"
    },
    "trusted": true
   },
   "outputs": [
    {
     "name": "stderr",
     "output_type": "stream",
     "text": [
      "100%|██████████| 8/8 [00:00<00:00,  8.01it/s]\n",
      "100%|██████████| 8/8 [00:01<00:00,  7.32it/s]\n"
     ]
    }
   ],
   "source": [
    "from torcheval.metrics import FrechetInceptionDistance\n",
    "fid = FrechetInceptionDistance(device = device)\n",
    "\n",
    "idl = iter(train_loader)\n",
    "for i in tqdm(range(8)):\n",
    "    reals = ((next(idl))[0] * 1).to(device)\n",
    "    # reals = (reals + 1) / 2\n",
    "    fid.update(reals, True)\n",
    "\n",
    "for i in tqdm(range(8)):\n",
    "    fakes = generate_image(num_image=64)\n",
    "    fakes = torch.clamp(fakes, 0, 1)\n",
    "    fid.update(fakes, False)"
   ]
  },
  {
   "cell_type": "code",
   "execution_count": 98,
   "metadata": {
    "execution": {
     "iopub.execute_input": "2025-06-21T04:04:08.272122Z",
     "iopub.status.busy": "2025-06-21T04:04:08.271847Z",
     "iopub.status.idle": "2025-06-21T04:04:15.343050Z",
     "shell.execute_reply": "2025-06-21T04:04:15.342332Z",
     "shell.execute_reply.started": "2025-06-21T04:04:08.272083Z"
    },
    "trusted": true
   },
   "outputs": [
    {
     "data": {
      "text/plain": [
       "tensor(79.7854, device='cuda:0')"
      ]
     },
     "execution_count": 98,
     "metadata": {},
     "output_type": "execute_result"
    }
   ],
   "source": [
    "fid.compute()"
   ]
  },
  {
   "cell_type": "code",
   "execution_count": null,
   "metadata": {
    "trusted": true
   },
   "outputs": [],
   "source": []
  }
 ],
 "metadata": {
  "kaggle": {
   "accelerator": "gpu",
   "dataSources": [
    {
     "datasetId": 2968449,
     "sourceId": 5111220,
     "sourceType": "datasetVersion"
    }
   ],
   "dockerImageVersionId": 31040,
   "isGpuEnabled": true,
   "isInternetEnabled": true,
   "language": "python",
   "sourceType": "notebook"
  },
  "kernelspec": {
   "display_name": "Python 3",
   "language": "python",
   "name": "python3"
  },
  "language_info": {
   "codemirror_mode": {
    "name": "ipython",
    "version": 3
   },
   "file_extension": ".py",
   "mimetype": "text/x-python",
   "name": "python",
   "nbconvert_exporter": "python",
   "pygments_lexer": "ipython3",
   "version": "3.11.11"
  }
 },
 "nbformat": 4,
 "nbformat_minor": 4
}
