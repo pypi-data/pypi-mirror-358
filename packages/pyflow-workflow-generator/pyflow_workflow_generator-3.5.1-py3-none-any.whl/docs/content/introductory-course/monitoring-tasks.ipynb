{
 "cells": [
  {
   "cell_type": "markdown",
   "id": "4d657cc5-7d86-46c5-bb9c-6d6990434959",
   "metadata": {},
   "source": [
    "# Monitoring Tasks"
   ]
  },
  {
   "cell_type": "code",
   "execution_count": 1,
   "id": "97ebed2f-d9ea-4eaf-8a55-ed184b210adb",
   "metadata": {
    "jupyter": {
     "source_hidden": true
    },
    "nbsphinx": "hidden",
    "tags": []
   },
   "outputs": [],
   "source": [
    "# Following code is needed to preconfigure this notebook\n",
    "import datetime\n",
    "import sys\n",
    "import os\n",
    "sys.path.insert(0, os.path.abspath('../../..'))\n",
    "\n",
    "import pyflow as pf"
   ]
  },
  {
   "cell_type": "markdown",
   "id": "17c7b74a-1b77-4a3d-a06f-e9878afe277f",
   "metadata": {},
   "source": [
    "## Labels"
   ]
  },
  {
   "cell_type": "markdown",
   "id": "8fc597b9-89d4-4bf5-911c-5fb2be0c26d1",
   "metadata": {},
   "source": [
    "Sometime it is very useful to see task-specific information in GUI. For this, we can define a label. A label is a string that is attached to a task and that can be updated using the child command `ecflow_client --label`."
   ]
  },
  {
   "cell_type": "code",
   "execution_count": 2,
   "id": "992088cd-7d2d-44da-96f5-5dbeb6c65a5f",
   "metadata": {},
   "outputs": [
    {
     "data": {
      "text/html": [
       "<pre><span style=\"text-weight: bold; color: green\">suite</span> test\n",
       "  <span style=\"text-weight: bold; color: green\">edit</span> ECF_FILES <span style=\"color: red\">'/test'</span>\n",
       "  <span style=\"text-weight: bold; color: green\">edit</span> ECF_JOB_CMD <span style=\"color: red\">'bash -c '</span>export ECF_PORT=%ECF_PORT%; export ECF_HOST=%ECF_HOST%; export ECF_NAME=%ECF_NAME%; export ECF_PASS=%ECF_PASS%; export ECF_TRYNO=%ECF_TRYNO%; export PATH=/usr/local/apps/ecflow/%ECF_VERSION%/bin:$PATH; ecflow_client --init=<span style=\"color: red\">\"$$\"</span> && %ECF_JOB% && ecflow_client --complete || ecflow_client --abort <span style=\"color: red\">' 1> %ECF_JOBOUT% 2>&1 &'</span>\n",
       "  <span style=\"text-weight: bold; color: green\">edit</span> ECF_KILL_CMD <span style=\"color: red\">'pkill -15 -P %ECF_RID%'</span>\n",
       "  <span style=\"text-weight: bold; color: green\">edit</span> ECF_STATUS_CMD <span style=\"color: red\">'true'</span>\n",
       "  <span style=\"text-weight: bold; color: green\">edit</span> ECF_OUT <span style=\"color: red\">'%ECF_HOME%'</span>\n",
       "  <span style=\"text-weight: bold; color: green\">label</span> exec_host <span style=\"color: red\">\"localhost\"</span>\n",
       "  <span style=\"text-weight: bold; color: green\">family</span> label\n",
       "    <span style=\"text-weight: bold; color: green\">task</span> t1\n",
       "      <span style=\"text-weight: bold; color: green\">label</span> info <span style=\"color: red\">\"\"</span>\n",
       "  <span style=\"text-weight: bold; color: green\">endfamily</span>\n",
       "<span style=\"text-weight: bold; color: green\">endsuite</span>\n",
       "</pre>"
      ],
      "text/plain": [
       "Suite(/test)"
      ]
     },
     "execution_count": 2,
     "metadata": {},
     "output_type": "execute_result"
    }
   ],
   "source": [
    "with pf.Suite('test', host=pf.LocalHost(), files='/test') as s:\n",
    "    with pf.Family('label'):\n",
    "        with pf.Task('t1', script=[\n",
    "            'n=1',\n",
    "            'while [[ $n -le 5 ]]                   # Loop 5 times',\n",
    "            'do',\n",
    "            '    msg=\\\"The date is now $(date)\\\"',\n",
    "            '    ecflow_client --label=info \\\"$msg\\\"  # Set the label',\n",
    "            '    sleep 60                           # Wait a one minute',\n",
    "            '    (( n = $n + 1 ))',\n",
    "            'done',\n",
    "            '',\n",
    "            'ecflow_client --label=info \\\"I have now finished my work.\\\"',\n",
    "        ]) as t1:\n",
    "            pf.Label('info', '')\n",
    "\n",
    "s"
   ]
  },
  {
   "cell_type": "code",
   "execution_count": 3,
   "id": "485931c9-e5e0-4dca-bd6c-8ffe87dd2a49",
   "metadata": {},
   "outputs": [
    {
     "data": {
      "text/html": [
       "<h3>File: /test/t1.ecf</h3><hr><pre><span style=\"font-style: italic;color: blue\">#!/bin/bash</span>\n",
       "\n",
       "<span style=\"text-weight: bold; color: green\">echo</span> \"Running on: $(hostname)\" || true\n",
       "<span style=\"text-weight: bold; color: green\">set</span> -uex\n",
       "\n",
       "\n",
       "<span style=\"text-weight: bold; color: green\">export</span> ECF_PORT=<span style=\"color: red\">%ECF_PORT%</span>    <span style=\"font-style: italic;color: blue\"># The server port number</span>\n",
       "<span style=\"text-weight: bold; color: green\">export</span> ECF_HOST=<span style=\"color: red\">%ECF_HOST%</span>    <span style=\"font-style: italic;color: blue\"># The host name where the server is running</span>\n",
       "<span style=\"text-weight: bold; color: green\">export</span> ECF_NAME=<span style=\"color: red\">%ECF_NAME%</span>    <span style=\"font-style: italic;color: blue\"># The name of this current task</span>\n",
       "<span style=\"text-weight: bold; color: green\">export</span> ECF_PASS=<span style=\"color: red\">%ECF_PASS%</span>    <span style=\"font-style: italic;color: blue\"># A unique password</span>\n",
       "<span style=\"text-weight: bold; color: green\">export</span> ECF_TRYNO=<span style=\"color: red\">%ECF_TRYNO%</span>  <span style=\"font-style: italic;color: blue\"># Current try number of the task</span>\n",
       "\n",
       "<span style=\"text-weight: bold; color: green\">echo</span> \"Current working directory: $(pwd)\"\n",
       "\n",
       "%nopp\n",
       "\n",
       "n=1\n",
       "while [[ $n -le 5 ]]                   <span style=\"font-style: italic;color: blue\"># Loop 5 times</span>\n",
       "do\n",
       "    msg=\"The date is now $(date)\"\n",
       "    ecflow_client --label=info \"$msg\"  <span style=\"font-style: italic;color: blue\"># Set the label</span>\n",
       "    sleep 60                           <span style=\"font-style: italic;color: blue\"># Wait a one minute</span>\n",
       "    (( n = $n + 1 ))\n",
       "done\n",
       "\n",
       "ecflow_client --label=info \"I have now finished my work.\"\n",
       "\n",
       "%end\n",
       "</pre><hr>"
      ],
      "text/plain": [
       "<pyflow.files.Notebook at 0x7fb9e076f8e0>"
      ]
     },
     "execution_count": 3,
     "metadata": {},
     "output_type": "execute_result"
    }
   ],
   "source": [
    "s.deploy_suite(pf.Notebook)"
   ]
  },
  {
   "cell_type": "markdown",
   "id": "93387015-10f6-44e9-9356-366ec0467564",
   "metadata": {},
   "source": [
    "## Late"
   ]
  },
  {
   "cell_type": "raw",
   "id": "41b35c4a-7f46-45c6-9271-1bae417dc274",
   "metadata": {
    "raw_mimetype": "text/restructuredtext",
    "tags": []
   },
   "source": [
    "Sometimes tasks don't run as expected, and we want to get a notification when this is the case. For this, we use the ``late`` attribute.\n",
    "\n",
    "A node can only have one late attribute. The late attribute only applies to a task. You can define it on a suite/family in which case it will be inherited. Any late defined lower down the hierarchy will override the aspect (submitted, active, complete) defined higher up.\n",
    "\n",
    "``-s submitted``\n",
    "   The time node can stay submitted (format ``[+]hh:mm``). ``submitted`` is always relative, so + is simply ignored, if present. If the node stays submitted longer than the time specified, the late flag is set.\n",
    "\n",
    "``-a active``\n",
    "   The time of day the node must have become active (format ``hh:mm``). If the node is still queued or submitted, the late flag is set.\n",
    "\n",
    "``-c complete``\n",
    "   The time node must become complete (format ``{+}hh:mm``). If relative, time is taken from the time the node became active, otherwise the node must be complete by the time given."
   ]
  },
  {
   "cell_type": "code",
   "execution_count": 4,
   "id": "0f252e57-efb1-439e-aab8-64e3d3fe2927",
   "metadata": {},
   "outputs": [
    {
     "data": {
      "text/html": [
       "<pre><span style=\"text-weight: bold; color: green\">suite</span> test\n",
       "  <span style=\"text-weight: bold; color: green\">edit</span> ECF_JOB_CMD <span style=\"color: red\">'bash -c '</span>export ECF_PORT=%ECF_PORT%; export ECF_HOST=%ECF_HOST%; export ECF_NAME=%ECF_NAME%; export ECF_PASS=%ECF_PASS%; export ECF_TRYNO=%ECF_TRYNO%; export PATH=/usr/local/apps/ecflow/%ECF_VERSION%/bin:$PATH; ecflow_client --init=<span style=\"color: red\">\"$$\"</span> && %ECF_JOB% && ecflow_client --complete || ecflow_client --abort <span style=\"color: red\">' 1> %ECF_JOBOUT% 2>&1 &'</span>\n",
       "  <span style=\"text-weight: bold; color: green\">edit</span> ECF_KILL_CMD <span style=\"color: red\">'pkill -15 -P %ECF_RID%'</span>\n",
       "  <span style=\"text-weight: bold; color: green\">edit</span> ECF_STATUS_CMD <span style=\"color: red\">'true'</span>\n",
       "  <span style=\"text-weight: bold; color: green\">edit</span> ECF_OUT <span style=\"color: red\">'%ECF_HOME%'</span>\n",
       "  <span style=\"text-weight: bold; color: green\">label</span> exec_host <span style=\"color: red\">\"default\"</span>\n",
       "  <span style=\"text-weight: bold; color: green\">family</span> f1\n",
       "    <span style=\"text-weight: bold; color: green\">task</span> t1\n",
       "      late -s +00:15 -a 20:00 -c +02:00\n",
       "  <span style=\"text-weight: bold; color: green\">endfamily</span>\n",
       "<span style=\"text-weight: bold; color: green\">endsuite</span>\n",
       "</pre>"
      ],
      "text/plain": [
       "Suite(/test)"
      ]
     },
     "execution_count": 4,
     "metadata": {},
     "output_type": "execute_result"
    }
   ],
   "source": [
    "with pf.Suite('test') as s:\n",
    "    with pf.Family('f1'):\n",
    "        with pf.Task('t1'):\n",
    "            pf.Late('-s +00:15 -a 20:00 -c +02:00')\n",
    "\n",
    "s"
   ]
  },
  {
   "cell_type": "markdown",
   "id": "ae59e5a7-263a-4c20-9fd0-ee573c0035e1",
   "metadata": {},
   "source": [
    "This is interpreted as: the node can stay submitted for a maximum of 15 minutes, and it must become active by 20:00 and the runtime must not exceed 2 hours."
   ]
  },
  {
   "cell_type": "code",
   "execution_count": 5,
   "id": "622e5dc2-6209-409d-8ab8-e21f297a5e9e",
   "metadata": {},
   "outputs": [
    {
     "data": {
      "text/html": [
       "<pre><span style=\"text-weight: bold; color: green\">suite</span> test\n",
       "  <span style=\"text-weight: bold; color: green\">edit</span> ECF_JOB_CMD <span style=\"color: red\">'bash -c '</span>export ECF_PORT=%ECF_PORT%; export ECF_HOST=%ECF_HOST%; export ECF_NAME=%ECF_NAME%; export ECF_PASS=%ECF_PASS%; export ECF_TRYNO=%ECF_TRYNO%; export PATH=/usr/local/apps/ecflow/%ECF_VERSION%/bin:$PATH; ecflow_client --init=<span style=\"color: red\">\"$$\"</span> && %ECF_JOB% && ecflow_client --complete || ecflow_client --abort <span style=\"color: red\">' 1> %ECF_JOBOUT% 2>&1 &'</span>\n",
       "  <span style=\"text-weight: bold; color: green\">edit</span> ECF_KILL_CMD <span style=\"color: red\">'pkill -15 -P %ECF_RID%'</span>\n",
       "  <span style=\"text-weight: bold; color: green\">edit</span> ECF_STATUS_CMD <span style=\"color: red\">'true'</span>\n",
       "  <span style=\"text-weight: bold; color: green\">edit</span> ECF_OUT <span style=\"color: red\">'%ECF_HOME%'</span>\n",
       "  <span style=\"text-weight: bold; color: green\">label</span> exec_host <span style=\"color: red\">\"default\"</span>\n",
       "  <span style=\"text-weight: bold; color: green\">family</span> f6\n",
       "    <span style=\"text-weight: bold; color: green\">edit</span> SLEEP <span style=\"color: red\">'120'</span>\n",
       "    <span style=\"text-weight: bold; color: green\">task</span> t1\n",
       "      late -c +00:01\n",
       "  <span style=\"text-weight: bold; color: green\">endfamily</span>\n",
       "<span style=\"text-weight: bold; color: green\">endsuite</span>\n",
       "</pre>"
      ],
      "text/plain": [
       "Suite(/test)"
      ]
     },
     "execution_count": 5,
     "metadata": {},
     "output_type": "execute_result"
    }
   ],
   "source": [
    "with pf.Suite('test') as s:\n",
    "    with pf.Family('f6'):\n",
    "        pf.Variable('SLEEP', 120)\n",
    "        with pf.Task('t1'):\n",
    "            pf.Late('-c +00:01') # set late flag if task take longer than a minute\n",
    "\n",
    "s"
   ]
  },
  {
   "cell_type": "code",
   "execution_count": 6,
   "id": "876e37c2-42ec-41dc-a9b0-150adfeb4ca9",
   "metadata": {},
   "outputs": [
    {
     "data": {
      "text/html": [
       "<pre><span style=\"text-weight: bold; color: green\">suite</span> test\n",
       "  <span style=\"text-weight: bold; color: green\">edit</span> ECF_FILES <span style=\"color: red\">'/test'</span>\n",
       "  <span style=\"text-weight: bold; color: green\">edit</span> ECF_JOB_CMD <span style=\"color: red\">'bash -c '</span>export ECF_PORT=%ECF_PORT%; export ECF_HOST=%ECF_HOST%; export ECF_NAME=%ECF_NAME%; export ECF_PASS=%ECF_PASS%; export ECF_TRYNO=%ECF_TRYNO%; export PATH=/usr/local/apps/ecflow/%ECF_VERSION%/bin:$PATH; ecflow_client --init=<span style=\"color: red\">\"$$\"</span> && %ECF_JOB% && ecflow_client --complete || ecflow_client --abort <span style=\"color: red\">' 1> %ECF_JOBOUT% 2>&1 &'</span>\n",
       "  <span style=\"text-weight: bold; color: green\">edit</span> ECF_KILL_CMD <span style=\"color: red\">'pkill -15 -P %ECF_RID%'</span>\n",
       "  <span style=\"text-weight: bold; color: green\">edit</span> ECF_STATUS_CMD <span style=\"color: red\">'true'</span>\n",
       "  <span style=\"text-weight: bold; color: green\">edit</span> ECF_OUT <span style=\"color: red\">'%ECF_HOME%'</span>\n",
       "  <span style=\"text-weight: bold; color: green\">label</span> exec_host <span style=\"color: red\">\"localhost\"</span>\n",
       "  <span style=\"text-weight: bold; color: green\">family</span> label\n",
       "    <span style=\"text-weight: bold; color: green\">task</span> t1\n",
       "      <span style=\"text-weight: bold; color: green\">label</span> info <span style=\"color: red\">\"\"</span>\n",
       "  <span style=\"text-weight: bold; color: green\">endfamily</span>\n",
       "<span style=\"text-weight: bold; color: green\">endsuite</span>\n",
       "</pre>"
      ],
      "text/plain": [
       "Suite(/test)"
      ]
     },
     "execution_count": 6,
     "metadata": {},
     "output_type": "execute_result"
    }
   ],
   "source": [
    "with pf.Suite('test', host=pf.LocalHost(), files='/test') as s:\n",
    "    with pf.Family('label'):\n",
    "        with pf.Task('t1', script=[\n",
    "            'n=1',\n",
    "            'while [[ $n -le 5 ]]                   # Loop 5 times',\n",
    "            'do',\n",
    "            '    msg=\"The date is now $(date)\"',\n",
    "            '    ecflow_client --label=info \"$msg\"  # Set the label',\n",
    "            '    sleep 60                           # Wait a one minute',\n",
    "            '    (( n = $n + 1 ))',\n",
    "            'done',\n",
    "            '',\n",
    "            'ecflow_client --label=info \"I have now finished my work.\"',\n",
    "        ]) as t1:\n",
    "            pf.Label('info', '')\n",
    "\n",
    "s"
   ]
  },
  {
   "cell_type": "markdown",
   "id": "cbafda7d-ab91-4ec1-ab7c-b105cf171512",
   "metadata": {},
   "source": [
    "## Meters"
   ]
  },
  {
   "cell_type": "markdown",
   "id": "9c7be650-2b43-472a-a295-e59564c2ec1b",
   "metadata": {},
   "source": [
    "A meter is very similar to an event. Instead of being a boolean value (on/off), it can take a range of integer values. Other tasks are then triggered when the meter reaches a certain value.\n",
    "\n",
    "Like events, meters have names and a task can have several of them."
   ]
  },
  {
   "cell_type": "code",
   "execution_count": 7,
   "id": "b5362527-6777-4197-8103-a4cb3b7501a8",
   "metadata": {},
   "outputs": [
    {
     "data": {
      "text/html": [
       "<pre><span style=\"text-weight: bold; color: green\">suite</span> test\n",
       "  <span style=\"text-weight: bold; color: green\">edit</span> ECF_FILES <span style=\"color: red\">'/test'</span>\n",
       "  <span style=\"text-weight: bold; color: green\">edit</span> ECF_JOB_CMD <span style=\"color: red\">'bash -c '</span>export ECF_PORT=%ECF_PORT%; export ECF_HOST=%ECF_HOST%; export ECF_NAME=%ECF_NAME%; export ECF_PASS=%ECF_PASS%; export ECF_TRYNO=%ECF_TRYNO%; export PATH=/usr/local/apps/ecflow/%ECF_VERSION%/bin:$PATH; ecflow_client --init=<span style=\"color: red\">\"$$\"</span> && %ECF_JOB% && ecflow_client --complete || ecflow_client --abort <span style=\"color: red\">' 1> %ECF_JOBOUT% 2>&1 &'</span>\n",
       "  <span style=\"text-weight: bold; color: green\">edit</span> ECF_KILL_CMD <span style=\"color: red\">'pkill -15 -P %ECF_RID%'</span>\n",
       "  <span style=\"text-weight: bold; color: green\">edit</span> ECF_STATUS_CMD <span style=\"color: red\">'true'</span>\n",
       "  <span style=\"text-weight: bold; color: green\">edit</span> ECF_OUT <span style=\"color: red\">'%ECF_HOME%'</span>\n",
       "  <span style=\"text-weight: bold; color: green\">label</span> exec_host <span style=\"color: red\">\"localhost\"</span>\n",
       "  <span style=\"text-weight: bold; color: green\">family</span> f1\n",
       "    <span style=\"text-weight: bold; color: green\">edit</span> SLEEP <span style=\"color: red\">'20'</span>\n",
       "    <span style=\"text-weight: bold; color: green\">task</span> t1\n",
       "      <span style=\"text-weight: bold; color: green\">meter</span> progress 1 100 90\n",
       "    <span style=\"text-weight: bold; color: green\">task</span> t2\n",
       "      <span style=\"text-weight: bold; color: green\">trigger</span> t1 <span style=\"text-weight: bold; color: purple\">eq</span> <span style=\"font-style: italic;color: blue\">complete</span>\n",
       "      <span style=\"text-weight: bold; color: green\">event</span> a\n",
       "      <span style=\"text-weight: bold; color: green\">event</span> b\n",
       "    <span style=\"text-weight: bold; color: green\">task</span> t3\n",
       "      <span style=\"text-weight: bold; color: green\">trigger</span> t2:a\n",
       "    <span style=\"text-weight: bold; color: green\">task</span> t4\n",
       "      <span style=\"text-weight: bold; color: green\">complete</span> t2:b\n",
       "      <span style=\"text-weight: bold; color: green\">trigger</span> t2 <span style=\"text-weight: bold; color: purple\">eq</span> <span style=\"font-style: italic;color: blue\">complete</span>\n",
       "    <span style=\"text-weight: bold; color: green\">task</span> t5\n",
       "      <span style=\"text-weight: bold; color: green\">trigger</span> t1:progress <span style=\"text-weight: bold; color: purple\">ge</span> 30\n",
       "    <span style=\"text-weight: bold; color: green\">task</span> t6\n",
       "      <span style=\"text-weight: bold; color: green\">trigger</span> t1:progress <span style=\"text-weight: bold; color: purple\">ge</span> 60\n",
       "    <span style=\"text-weight: bold; color: green\">task</span> t7\n",
       "      <span style=\"text-weight: bold; color: green\">trigger</span> t1:progress <span style=\"text-weight: bold; color: purple\">ge</span> 90\n",
       "  <span style=\"text-weight: bold; color: green\">endfamily</span>\n",
       "<span style=\"text-weight: bold; color: green\">endsuite</span>\n",
       "</pre>"
      ],
      "text/plain": [
       "Suite(/test)"
      ]
     },
     "execution_count": 7,
     "metadata": {},
     "output_type": "execute_result"
    }
   ],
   "source": [
    "with pf.Suite('test', host=pf.LocalHost(), files='/test') as s:\n",
    "    with pf.Family('f1'):\n",
    "        pf.Variable('SLEEP', 20)\n",
    "        with pf.Task('t1') as t1:\n",
    "            pf.Meter('progress', 1, 100, 90)\n",
    "        with pf.Task('t2', script=[\n",
    "            'echo \"I will now sleep for %SLEEP% seconds\"',\n",
    "            'sleep %SLEEP%',\n",
    "            'n=1',\n",
    "            'while [[ $n -le 100 ]]                   # Loop 100 times',\n",
    "            'do',\n",
    "            '    sleep 1                              # Wait a short time',\n",
    "            '    ecflow_client --meter=progress $n    # Notify ecFlow',\n",
    "            '    (( n = $n + 1 ))',\n",
    "            'done',\n",
    "        ]) as t2:\n",
    "            pf.Event('a')\n",
    "            pf.Event('b')\n",
    "        t3 = pf.Task('t3')\n",
    "        t4 = pf.Task('t4')\n",
    "        t5 = pf.Task('t5')\n",
    "        t6 = pf.Task('t6')\n",
    "        t7 = pf.Task('t7')\n",
    "        \n",
    "    t2.triggers = t1\n",
    "    t3.triggers = t2.a\n",
    "    t4.completes = t2.b\n",
    "    t4.triggers = t2\n",
    "    t5.triggers = t1.progress >= 30\n",
    "    t6.triggers = t1.progress >= 60\n",
    "    t7.triggers = t1.progress >= 90\n",
    "    \n",
    "s"
   ]
  }
 ],
 "metadata": {
  "kernelspec": {
   "display_name": "pyflow",
   "language": "python",
   "name": "pyflow"
  },
  "language_info": {
   "codemirror_mode": {
    "name": "ipython",
    "version": 3
   },
   "file_extension": ".py",
   "mimetype": "text/x-python",
   "name": "python",
   "nbconvert_exporter": "python",
   "pygments_lexer": "ipython3",
   "version": "3.9.7"
  }
 },
 "nbformat": 4,
 "nbformat_minor": 5
}
