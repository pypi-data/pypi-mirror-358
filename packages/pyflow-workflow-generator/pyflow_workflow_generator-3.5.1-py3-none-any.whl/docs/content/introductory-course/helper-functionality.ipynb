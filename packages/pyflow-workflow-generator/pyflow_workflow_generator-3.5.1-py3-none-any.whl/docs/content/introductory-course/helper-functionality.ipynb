{
 "cells": [
  {
   "cell_type": "markdown",
   "id": "7ec19c0a-66c9-4211-99d0-67b955e38be6",
   "metadata": {},
   "source": [
    "# Helper Functionality"
   ]
  },
  {
   "cell_type": "code",
   "execution_count": 1,
   "id": "716525b7-1770-4947-943a-553176228217",
   "metadata": {
    "jupyter": {
     "source_hidden": true
    },
    "nbsphinx": "hidden",
    "tags": []
   },
   "outputs": [],
   "source": [
    "# Following code is needed to preconfigure this notebook\n",
    "import datetime\n",
    "import sys\n",
    "import os\n",
    "sys.path.insert(0, os.path.abspath('../../..'))\n",
    "\n",
    "import pyflow as pf\n",
    "\n",
    "scratchdir = os.path.join('/', 'path', 'to', 'scratch')\n",
    "filesdir = os.path.join(scratchdir, 'files')\n",
    "outdir = os.path.join(scratchdir, 'out')\n",
    "\n",
    "\n",
    "class CourseSuite(pf.Suite):\n",
    "    \"\"\"\n",
    "    This CourseSuite object will be used throughout the course to provide sensible\n",
    "    defaults without verbosity\n",
    "    \"\"\"\n",
    "    def __init__(self, name, **kwargs):\n",
    "        \n",
    "        config = {\n",
    "            'host': pf.LocalHost('localhost'),\n",
    "            'files': os.path.join(filesdir, name),\n",
    "            'home': outdir,\n",
    "            'defstatus': pf.state.suspended\n",
    "        }\n",
    "        config.update(kwargs)\n",
    "        \n",
    "        super().__init__(name, **config)"
   ]
  },
  {
   "cell_type": "markdown",
   "id": "59011038-40d6-4e40-9664-c8052c789b0a",
   "metadata": {},
   "source": [
    "**pyflow** aims to contain not just a collection of ecflow functionality, but also helper functionality to assist in building suites. Where idiomatic uses of **ecFlow** result in the same mechanisms being built repeatedly, **pyflow** can incorporate these to help generate clearer suites.\n",
    "\n",
    "The `ecflow_name()` functionality converts an arbitrary string into a name which meets the character restrictions for ecflow nodes. This is very useful for converting strings such as hostnames or the names of various data sets into a form that can be used as the name of a Family or Task."
   ]
  },
  {
   "cell_type": "code",
   "execution_count": 2,
   "id": "869d0e07-5137-46a9-ab44-ebffbb7d1441",
   "metadata": {},
   "outputs": [
    {
     "name": "stdout",
     "output_type": "stream",
     "text": [
      "hyphenated_name\n"
     ]
    }
   ],
   "source": [
    "print(pf.ecflow_name('hyphenated-name'))"
   ]
  },
  {
   "cell_type": "markdown",
   "id": "01b9bf7e-d49f-4268-99d3-8c05f49545b9",
   "metadata": {},
   "source": [
    "The `all_complete()` and `sequence()` functions facilitate working with generated sequences of python tasks. `all_complete()` generates an expression suitable for use in triggers (or completes). `sequence()` generates triggers such that all of the tasks will run sequentially."
   ]
  },
  {
   "cell_type": "code",
   "execution_count": 3,
   "id": "95243dbe-f728-4d11-905d-d6f176a3180c",
   "metadata": {},
   "outputs": [
    {
     "data": {
      "text/html": [
       "<pre><span style=\"text-weight: bold; color: green\">suite</span> sequences\n",
       "  <span style=\"text-weight: bold; color: green\">defstatus</span> suspended\n",
       "  <span style=\"text-weight: bold; color: green\">edit</span> ECF_FILES <span style=\"color: red\">'/path/to/scratch/files/sequences'</span>\n",
       "  <span style=\"text-weight: bold; color: green\">edit</span> ECF_HOME <span style=\"color: red\">'/path/to/scratch/out'</span>\n",
       "  <span style=\"text-weight: bold; color: green\">edit</span> ECF_JOB_CMD <span style=\"color: red\">'bash -c '</span>export ECF_PORT=%ECF_PORT%; export ECF_HOST=%ECF_HOST%; export ECF_NAME=%ECF_NAME%; export ECF_PASS=%ECF_PASS%; export ECF_TRYNO=%ECF_TRYNO%; export PATH=/usr/local/apps/ecflow/%ECF_VERSION%/bin:$PATH; ecflow_client --init=<span style=\"color: red\">\"$$\"</span> && %ECF_JOB% && ecflow_client --complete || ecflow_client --abort <span style=\"color: red\">' 1> %ECF_JOBOUT% 2>&1 &'</span>\n",
       "  <span style=\"text-weight: bold; color: green\">edit</span> ECF_KILL_CMD <span style=\"color: red\">'pkill -15 -P %ECF_RID%'</span>\n",
       "  <span style=\"text-weight: bold; color: green\">edit</span> ECF_STATUS_CMD <span style=\"color: red\">'true'</span>\n",
       "  <span style=\"text-weight: bold; color: green\">edit</span> ECF_OUT <span style=\"color: red\">'%ECF_HOME%'</span>\n",
       "  <span style=\"text-weight: bold; color: green\">label</span> exec_host <span style=\"color: red\">\"localhost\"</span>\n",
       "  <span style=\"text-weight: bold; color: green\">task</span> t_0\n",
       "  <span style=\"text-weight: bold; color: green\">task</span> t_1\n",
       "    <span style=\"text-weight: bold; color: green\">trigger</span> t_0 <span style=\"text-weight: bold; color: purple\">eq</span> <span style=\"font-style: italic;color: blue\">complete</span>\n",
       "  <span style=\"text-weight: bold; color: green\">task</span> t_2\n",
       "    <span style=\"text-weight: bold; color: green\">trigger</span> t_1 <span style=\"text-weight: bold; color: purple\">eq</span> <span style=\"font-style: italic;color: blue\">complete</span>\n",
       "  <span style=\"text-weight: bold; color: green\">task</span> t_3\n",
       "    <span style=\"text-weight: bold; color: green\">trigger</span> t_2 <span style=\"text-weight: bold; color: purple\">eq</span> <span style=\"font-style: italic;color: blue\">complete</span>\n",
       "  <span style=\"text-weight: bold; color: green\">task</span> t_4\n",
       "    <span style=\"text-weight: bold; color: green\">trigger</span> t_3 <span style=\"text-weight: bold; color: purple\">eq</span> <span style=\"font-style: italic;color: blue\">complete</span>\n",
       "  <span style=\"text-weight: bold; color: green\">task</span> t_5\n",
       "    <span style=\"text-weight: bold; color: green\">trigger</span> t_4 <span style=\"text-weight: bold; color: purple\">eq</span> <span style=\"font-style: italic;color: blue\">complete</span>\n",
       "  <span style=\"text-weight: bold; color: green\">task</span> t_6\n",
       "    <span style=\"text-weight: bold; color: green\">trigger</span> t_5 <span style=\"text-weight: bold; color: purple\">eq</span> <span style=\"font-style: italic;color: blue\">complete</span>\n",
       "  <span style=\"text-weight: bold; color: green\">task</span> t_7\n",
       "    <span style=\"text-weight: bold; color: green\">trigger</span> t_6 <span style=\"text-weight: bold; color: purple\">eq</span> <span style=\"font-style: italic;color: blue\">complete</span>\n",
       "  <span style=\"text-weight: bold; color: green\">task</span> t_8\n",
       "    <span style=\"text-weight: bold; color: green\">trigger</span> t_7 <span style=\"text-weight: bold; color: purple\">eq</span> <span style=\"font-style: italic;color: blue\">complete</span>\n",
       "  <span style=\"text-weight: bold; color: green\">task</span> t_9\n",
       "    <span style=\"text-weight: bold; color: green\">trigger</span> t_8 <span style=\"text-weight: bold; color: purple\">eq</span> <span style=\"font-style: italic;color: blue\">complete</span>\n",
       "  <span style=\"text-weight: bold; color: green\">task</span> done\n",
       "    <span style=\"text-weight: bold; color: green\">trigger</span> ((((((((t_0 <span style=\"text-weight: bold; color: purple\">eq</span> <span style=\"font-style: italic;color: blue\">complete</span> <span style=\"text-weight: bold; color: purple\">and</span> t_1 <span style=\"text-weight: bold; color: purple\">eq</span> <span style=\"font-style: italic;color: blue\">complete</span>) <span style=\"text-weight: bold; color: purple\">and</span> t_2 <span style=\"text-weight: bold; color: purple\">eq</span> <span style=\"font-style: italic;color: blue\">complete</span>) <span style=\"text-weight: bold; color: purple\">and</span> t_3 <span style=\"text-weight: bold; color: purple\">eq</span> <span style=\"font-style: italic;color: blue\">complete</span>) <span style=\"text-weight: bold; color: purple\">and</span> t_4 <span style=\"text-weight: bold; color: purple\">eq</span> <span style=\"font-style: italic;color: blue\">complete</span>) <span style=\"text-weight: bold; color: purple\">and</span> t_5 <span style=\"text-weight: bold; color: purple\">eq</span> <span style=\"font-style: italic;color: blue\">complete</span>) <span style=\"text-weight: bold; color: purple\">and</span> t_6 <span style=\"text-weight: bold; color: purple\">eq</span> <span style=\"font-style: italic;color: blue\">complete</span>) <span style=\"text-weight: bold; color: purple\">and</span> t_7 <span style=\"text-weight: bold; color: purple\">eq</span> <span style=\"font-style: italic;color: blue\">complete</span>) <span style=\"text-weight: bold; color: purple\">and</span> t_8 <span style=\"text-weight: bold; color: purple\">eq</span> <span style=\"font-style: italic;color: blue\">complete</span>) <span style=\"text-weight: bold; color: purple\">and</span> t_9 <span style=\"text-weight: bold; color: purple\">eq</span> <span style=\"font-style: italic;color: blue\">complete</span>\n",
       "<span style=\"text-weight: bold; color: green\">endsuite</span>\n",
       "</pre>"
      ],
      "text/plain": [
       "CourseSuite(/sequences)"
      ]
     },
     "execution_count": 3,
     "metadata": {},
     "output_type": "execute_result"
    }
   ],
   "source": [
    "with CourseSuite('sequences') as s:\n",
    "    tasks = [pf.Task('t_{}'.format(i)) for i in range(10)]\n",
    "    pf.Task('done', triggers=pf.all_complete(tasks))\n",
    "    pf.sequence(tasks)\n",
    "\n",
    "s"
   ]
  },
  {
   "cell_type": "markdown",
   "id": "ceb4afbb-2fd1-47a4-b607-dc7d53ed25fb",
   "metadata": {},
   "source": [
    "A common idiom in looping suites is to have two suites that both loop on dates/times, one which runs behind the other. For example the `lag` family running after the forecast has completed. This idiom can be expressed more clearly by encapsulating its functionality."
   ]
  },
  {
   "cell_type": "code",
   "execution_count": 5,
   "id": "b2e2a324-3df0-4874-8c69-d3d93ea39bc4",
   "metadata": {},
   "outputs": [
    {
     "data": {
      "text/html": [
       "<pre><span style=\"text-weight: bold; color: green\">suite</span> follow\n",
       "  <span style=\"text-weight: bold; color: green\">edit</span> ECF_JOB_CMD <span style=\"color: red\">'bash -c '</span>export ECF_PORT=%ECF_PORT%; export ECF_HOST=%ECF_HOST%; export ECF_NAME=%ECF_NAME%; export ECF_PASS=%ECF_PASS%; export ECF_TRYNO=%ECF_TRYNO%; export PATH=/usr/local/apps/ecflow/%ECF_VERSION%/bin:$PATH; ecflow_client --init=<span style=\"color: red\">\"$$\"</span> && %ECF_JOB% && ecflow_client --complete || ecflow_client --abort <span style=\"color: red\">' 1> %ECF_JOBOUT% 2>&1 &'</span>\n",
       "  <span style=\"text-weight: bold; color: green\">edit</span> ECF_KILL_CMD <span style=\"color: red\">'pkill -15 -P %ECF_RID%'</span>\n",
       "  <span style=\"text-weight: bold; color: green\">edit</span> ECF_STATUS_CMD <span style=\"color: red\">'true'</span>\n",
       "  <span style=\"text-weight: bold; color: green\">edit</span> ECF_OUT <span style=\"color: red\">'%ECF_HOME%'</span>\n",
       "  <span style=\"text-weight: bold; color: green\">label</span> exec_host <span style=\"color: red\">\"default\"</span>\n",
       "  <span style=\"text-weight: bold; color: green\">family</span> leader\n",
       "    <span style=\"text-weight: bold; color: green\">repeat date</span> YMD 20190101 20191231 1\n",
       "  <span style=\"text-weight: bold; color: green\">endfamily</span>\n",
       "  <span style=\"text-weight: bold; color: green\">family</span> follower\n",
       "    <span style=\"text-weight: bold; color: green\">trigger</span> leader <span style=\"text-weight: bold; color: purple\">eq</span> <span style=\"font-style: italic;color: blue\">complete</span> <span style=\"text-weight: bold; color: purple\">or</span> follower:YMD <span style=\"text-weight: bold; color: purple\">lt</span> leader:YMD\n",
       "    <span style=\"text-weight: bold; color: green\">repeat date</span> YMD 20190101 20191231 1\n",
       "  <span style=\"text-weight: bold; color: green\">endfamily</span>\n",
       "<span style=\"text-weight: bold; color: green\">endsuite</span>\n",
       "</pre>"
      ],
      "text/plain": [
       "Suite(/follow)"
      ]
     },
     "execution_count": 5,
     "metadata": {},
     "output_type": "execute_result"
    }
   ],
   "source": [
    "with pf.Suite('follow') as s:\n",
    "    with pf.Family('leader') as leader:\n",
    "        pf.RepeatDate(\"YMD\", datetime.date(2019, 1, 1), datetime.date(2019, 12, 31))\n",
    "    with pf.Family('follower') as follower:\n",
    "        pf.RepeatDate(\"YMD\", datetime.date(2019, 1, 1), datetime.date(2019, 12, 31))\n",
    "    follower.follow = leader.YMD\n",
    "\n",
    "s"
   ]
  },
  {
   "cell_type": "markdown",
   "id": "fda70dad-9981-4f50-b649-cbf90416f86d",
   "metadata": {},
   "source": [
    "This collection of utility functionality is (perpetually) in progress, and will be updated to account for useful idioms as they emerge."
   ]
  }
 ],
 "metadata": {
  "kernelspec": {
   "display_name": "Python 3.10.6 64-bit",
   "language": "python",
   "name": "python3"
  },
  "language_info": {
   "codemirror_mode": {
    "name": "ipython",
    "version": 3
   },
   "file_extension": ".py",
   "mimetype": "text/x-python",
   "name": "python",
   "nbconvert_exporter": "python",
   "pygments_lexer": "ipython3",
   "version": "3.10.6"
  },
  "vscode": {
   "interpreter": {
    "hash": "b0fa6594d8f4cbf19f97940f81e996739fb7646882a419484c72d19e05852a7e"
   }
  }
 },
 "nbformat": 4,
 "nbformat_minor": 5
}
