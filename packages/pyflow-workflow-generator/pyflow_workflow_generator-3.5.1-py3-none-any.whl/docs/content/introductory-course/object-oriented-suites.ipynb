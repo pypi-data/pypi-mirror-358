{
 "cells": [
  {
   "cell_type": "markdown",
   "id": "7ec19c0a-66c9-4211-99d0-67b955e38be6",
   "metadata": {
    "tags": []
   },
   "source": [
    "# Object Oriented Suites"
   ]
  },
  {
   "cell_type": "code",
   "execution_count": 1,
   "id": "716525b7-1770-4947-943a-553176228217",
   "metadata": {
    "jupyter": {
     "source_hidden": true
    },
    "nbsphinx": "hidden",
    "tags": []
   },
   "outputs": [],
   "source": [
    "# Following code is needed to preconfigure this notebook\n",
    "import sys\n",
    "import os\n",
    "sys.path.insert(0, os.path.abspath('../../..'))\n",
    "\n",
    "import pyflow as pf\n",
    "\n",
    "scratchdir = os.path.join('/', 'path', 'to', 'scratch')\n",
    "filesdir = os.path.join(scratchdir, 'files')\n",
    "outdir = os.path.join(scratchdir, 'out')"
   ]
  },
  {
   "cell_type": "markdown",
   "id": "254ca5ce-84fa-4c9e-b8a3-fbfef8e39e5b",
   "metadata": {},
   "source": [
    "## Suite Structural Layout"
   ]
  },
  {
   "cell_type": "markdown",
   "id": "64b09adc-c837-49a8-a7dc-2bbb074aa71b",
   "metadata": {},
   "source": [
    "As a **pyflow** user, you are encouraged to use Python `with` statement to build the structure of the suites following the graphical **ecFlow** tree. Dependencies are then added to form the _Directed Graph_ for execution.\n",
    "\n",
    "The example below creates an initial simple suite with interdependent tasks. In software terms it is essentially an example of _procedural programming_."
   ]
  },
  {
   "cell_type": "code",
   "execution_count": 2,
   "id": "e1404c98-7626-47fc-97d0-c1eac62108f1",
   "metadata": {},
   "outputs": [
    {
     "data": {
      "text/html": [
       "<pre><span style=\"text-weight: bold; color: green\">suite</span> first_suite\n",
       "  <span style=\"text-weight: bold; color: green\">edit</span> ECF_JOB_CMD <span style=\"color: red\">'bash -c '</span>export ECF_PORT=%ECF_PORT%; export ECF_HOST=%ECF_HOST%; export ECF_NAME=%ECF_NAME%; export ECF_PASS=%ECF_PASS%; export ECF_TRYNO=%ECF_TRYNO%; export PATH=/usr/local/apps/ecflow/%ECF_VERSION%/bin:$PATH; ecflow_client --init=<span style=\"color: red\">\"$$\"</span> && %ECF_JOB% && ecflow_client --complete || ecflow_client --abort <span style=\"color: red\">' 1> %ECF_JOBOUT% 2>&1 &'</span>\n",
       "  <span style=\"text-weight: bold; color: green\">edit</span> ECF_KILL_CMD <span style=\"color: red\">'pkill -15 -P %ECF_RID%'</span>\n",
       "  <span style=\"text-weight: bold; color: green\">edit</span> ECF_STATUS_CMD <span style=\"color: red\">'true'</span>\n",
       "  <span style=\"text-weight: bold; color: green\">edit</span> ECF_OUT <span style=\"color: red\">'%ECF_HOME%'</span>\n",
       "  <span style=\"text-weight: bold; color: green\">label</span> exec_host <span style=\"color: red\">\"default\"</span>\n",
       "  <span style=\"text-weight: bold; color: green\">family</span> family1\n",
       "    <span style=\"text-weight: bold; color: green\">task</span> t1\n",
       "    <span style=\"text-weight: bold; color: green\">task</span> t2\n",
       "      <span style=\"text-weight: bold; color: green\">trigger</span> t1 <span style=\"text-weight: bold; color: purple\">eq</span> <span style=\"font-style: italic;color: blue\">complete</span>\n",
       "      <span style=\"text-weight: bold; color: green\">edit</span> FOO <span style=\"color: red\">'bar'</span>\n",
       "  <span style=\"text-weight: bold; color: green\">endfamily</span>\n",
       "  <span style=\"text-weight: bold; color: green\">family</span> family2\n",
       "    <span style=\"text-weight: bold; color: green\">trigger</span> family1 <span style=\"text-weight: bold; color: purple\">eq</span> <span style=\"font-style: italic;color: blue\">complete</span>\n",
       "    <span style=\"text-weight: bold; color: green\">task</span> t1\n",
       "    <span style=\"text-weight: bold; color: green\">task</span> t2\n",
       "      <span style=\"text-weight: bold; color: green\">trigger</span> t1 <span style=\"text-weight: bold; color: purple\">eq</span> <span style=\"font-style: italic;color: blue\">complete</span>\n",
       "  <span style=\"text-weight: bold; color: green\">endfamily</span>\n",
       "<span style=\"text-weight: bold; color: green\">endsuite</span>\n",
       "</pre>"
      ],
      "text/plain": [
       "Suite(/first_suite)"
      ]
     },
     "execution_count": 2,
     "metadata": {},
     "output_type": "execute_result"
    }
   ],
   "source": [
    "with pf.Suite('first_suite') as s:\n",
    "    \n",
    "    with pf.Family('family1') as f1:\n",
    "        t1 = pf.Task('t1')\n",
    "        with pf.Task('t2') as t2:\n",
    "            pf.Variable('FOO', 'bar')\n",
    "            \n",
    "        t1 >> t2\n",
    "        \n",
    "    with pf.Family('family2') as f2:\n",
    "        t1 = pf.Task('t1')\n",
    "        t2 = pf.Task('t2')\n",
    "        t1 >> t2\n",
    "        \n",
    "    f1 >> f2\n",
    "\n",
    "s"
   ]
  },
  {
   "cell_type": "markdown",
   "id": "a19dfa26-17ef-49e3-ae46-4010903c61e4",
   "metadata": {},
   "source": [
    "Whilst procedural programming can be used to build simple suites, to manage long-term lifecycles of complex suites we encourage drawing inspiration from object-oriented software development.\n",
    "\n",
    "Suites can be split into objects that are derived from **pyflow** components. Suites can then be assembled from those configurable and reusable objects."
   ]
  },
  {
   "cell_type": "markdown",
   "id": "62993c14-10e1-4946-85d3-866363d1342a",
   "metadata": {},
   "source": [
    "### Deriving From Task"
   ]
  },
  {
   "cell_type": "markdown",
   "id": "06388683-bc6f-48a8-830c-2f47659960ca",
   "metadata": {},
   "source": [
    "Probably the most important **pyflow** class to subclass is `pf.Task`. This object describes what should be carried out as one executable unit.\n",
    "\n",
    "Consider the following _non-object-oriented_ task definition built within a **Family**."
   ]
  },
  {
   "cell_type": "code",
   "execution_count": 3,
   "id": "50698d59-1d43-4063-9663-5cfd74982ae8",
   "metadata": {},
   "outputs": [
    {
     "data": {
      "text/html": [
       "<pre>  <span style=\"text-weight: bold; color: green\">family</span> f\n",
       "    <span style=\"text-weight: bold; color: green\">task</span> my_task\n",
       "      <span style=\"text-weight: bold; color: green\">defstatus</span> suspended\n",
       "      <span style=\"text-weight: bold; color: green\">edit</span> HALF <span style=\"color: red\">'7'</span>\n",
       "      <span style=\"text-weight: bold; color: green\">edit</span> LIMIT <span style=\"color: red\">'14'</span>\n",
       "      <span style=\"text-weight: bold; color: green\">label</span> a_label <span style=\"color: red\">\"with a value\"</span>\n",
       "  <span style=\"text-weight: bold; color: green\">endfamily</span>\n",
       "</pre>"
      ],
      "text/plain": [
       "Family(/f)"
      ]
     },
     "execution_count": 3,
     "metadata": {},
     "output_type": "execute_result"
    }
   ],
   "source": [
    "with pf.Family('f') as f:\n",
    "    \n",
    "    variables = {\n",
    "        'HALF': 7,\n",
    "        'LIMIT': 2*7\n",
    "    }\n",
    "        \n",
    "    labels = {\n",
    "        'a_label': 'with a value'\n",
    "    }\n",
    "    \n",
    "    t = pf.Task('my_task', labels=labels, defstatus=pf.state.suspended, variables=variables)\n",
    "    \n",
    "    # Note that t is incomplete at this point...\n",
    "    t.script = [\n",
    "        'echo \"This is a counting task ...\"',\n",
    "        'for i in $(seq 1 $HALF); do echo \"count $i/$LIMIT\"; done',\n",
    "        'i=$[$HALF+1]; while [ $i -lt $LIMIT ]; do echo \"count $i/$LIMIT\" ; i=$[$i+1]; done'\n",
    "    ]\n",
    "\n",
    "f"
   ]
  },
  {
   "cell_type": "markdown",
   "id": "b9220833-0bf4-4d4b-b5fa-b6b2c6625160",
   "metadata": {},
   "source": [
    "As a suite grows, and the number of tasks increases, the complexity of managing all of these components becomes prohibitive.\n",
    "\n",
    "We wish to _encapsulate_ all of the functionality related to this task into a single object. As we want to reuse functionality we organise objects into classes. These classes should be appropriately configurable.\n",
    "\n",
    "As the number of tasks increases, we can re-use the class to create objects with similar behaviour. This in turn will dramatically reduce the complexity of the families and then of the suites.\n",
    "\n",
    "The above task should now be defined as a reusable class."
   ]
  },
  {
   "cell_type": "code",
   "execution_count": 4,
   "id": "5d93ba1a-e547-4dc0-adf4-76da7414b502",
   "metadata": {},
   "outputs": [
    {
     "data": {
      "text/html": [
       "<pre><span style=\"text-weight: bold; color: green\">suite</span> CountingSuite\n",
       "  <span style=\"text-weight: bold; color: green\">edit</span> ECF_FILES <span style=\"color: red\">'/path/to/scratch/files/CountingSuite'</span>\n",
       "  <span style=\"text-weight: bold; color: green\">edit</span> ECF_JOB_CMD <span style=\"color: red\">'bash -c '</span>export ECF_PORT=%ECF_PORT%; export ECF_HOST=%ECF_HOST%; export ECF_NAME=%ECF_NAME%; export ECF_PASS=%ECF_PASS%; export ECF_TRYNO=%ECF_TRYNO%; export PATH=/usr/local/apps/ecflow/%ECF_VERSION%/bin:$PATH; ecflow_client --init=<span style=\"color: red\">\"$$\"</span> && %ECF_JOB% && ecflow_client --complete || ecflow_client --abort <span style=\"color: red\">' 1> %ECF_JOBOUT% 2>&1 &'</span>\n",
       "  <span style=\"text-weight: bold; color: green\">edit</span> ECF_KILL_CMD <span style=\"color: red\">'pkill -15 -P %ECF_RID%'</span>\n",
       "  <span style=\"text-weight: bold; color: green\">edit</span> ECF_STATUS_CMD <span style=\"color: red\">'true'</span>\n",
       "  <span style=\"text-weight: bold; color: green\">edit</span> ECF_OUT <span style=\"color: red\">'%ECF_HOME%'</span>\n",
       "  <span style=\"text-weight: bold; color: green\">label</span> exec_host <span style=\"color: red\">\"default\"</span>\n",
       "  <span style=\"text-weight: bold; color: green\">family</span> F\n",
       "    <span style=\"text-weight: bold; color: green\">task</span> Seven\n",
       "      <span style=\"text-weight: bold; color: green\">defstatus</span> suspended\n",
       "      <span style=\"text-weight: bold; color: green\">edit</span> HALF <span style=\"color: red\">'7'</span>\n",
       "      <span style=\"text-weight: bold; color: green\">edit</span> LIMIT <span style=\"color: red\">'14'</span>\n",
       "      <span style=\"text-weight: bold; color: green\">label</span> counter_label <span style=\"color: red\">\"count to 14\"</span>\n",
       "    <span style=\"text-weight: bold; color: green\">task</span> Five\n",
       "      <span style=\"text-weight: bold; color: green\">edit</span> HALF <span style=\"color: red\">'5'</span>\n",
       "      <span style=\"text-weight: bold; color: green\">edit</span> LIMIT <span style=\"color: red\">'10'</span>\n",
       "      <span style=\"text-weight: bold; color: green\">label</span> counter_label <span style=\"color: red\">\"count to 10\"</span>\n",
       "  <span style=\"text-weight: bold; color: green\">endfamily</span>\n",
       "<span style=\"text-weight: bold; color: green\">endsuite</span>\n",
       "</pre>"
      ],
      "text/plain": [
       "Suite(/CountingSuite)"
      ]
     },
     "execution_count": 4,
     "metadata": {},
     "output_type": "execute_result"
    }
   ],
   "source": [
    "class MyTask(pf.Task):\n",
    "    \n",
    "    \"\"\"Counts to the double of a number, first half using a for loop then a while loop\"\"\"\n",
    "    \n",
    "    def __init__(self, name, default_value=0, **kwargs):\n",
    "        \n",
    "        variables = {\n",
    "            'HALF': default_value,\n",
    "            'LIMIT': 2*default_value,\n",
    "        }\n",
    "        variables.update(kwargs.pop('variables', {}))\n",
    "        \n",
    "        labels = {\n",
    "            'counter_label': 'count to {}'.format(2*default_value)\n",
    "        }\n",
    "        \n",
    "        script = [\n",
    "            'echo \"This is a counting task named {}\"'.format(name),\n",
    "            'for i in $(seq 1 $HALF); do echo \"count $i/$LIMIT\"; done',\n",
    "            'i=$[$HALF+1]; while [ $i -lt $LIMIT ]; do echo \"count $i/$LIMIT\" ; i=$[$i+1]; done'\n",
    "        ]\n",
    "        \n",
    "        super().__init__(name,\n",
    "                         script=script,\n",
    "                         labels=labels,\n",
    "                         variables=variables,\n",
    "                         **kwargs)\n",
    "\n",
    "\n",
    "with pf.Suite('CountingSuite', files=os.path.join(filesdir, 'CountingSuite')) as s:\n",
    "    with pf.Family('F') as f:\n",
    "        MyTask('Seven', 7, defstatus=pf.state.suspended)\n",
    "        MyTask('Five', 5)\n",
    "    \n",
    "s"
   ]
  },
  {
   "cell_type": "markdown",
   "id": "0c3efd57-ff44-4c69-b945-fc846d9fa916",
   "metadata": {},
   "source": [
    "### Deriving from Family and other pyflow objects"
   ]
  },
  {
   "cell_type": "markdown",
   "id": "943ef397-f2f0-42ef-a266-ba3abe504ce1",
   "metadata": {},
   "source": [
    "The same process can be used for deriving from families or other **pyflow** related classes. In this manner we can build up configurable functionality piece by piece.\n",
    "\n",
    "Note how the family takes an input parameter `counters`, to control how many tasks it generates internally."
   ]
  },
  {
   "cell_type": "code",
   "execution_count": 5,
   "id": "2baf5b28-839d-4e2e-8507-1785d95b7774",
   "metadata": {},
   "outputs": [
    {
     "data": {
      "text/html": [
       "<pre>  <span style=\"text-weight: bold; color: green\">family</span> TaskCounter\n",
       "    <span style=\"text-weight: bold; color: green\">label</span> total_counters <span style=\"color: red\">\"7\"</span>\n",
       "    <span style=\"text-weight: bold; color: green\">task</span> TaskCounter_0\n",
       "      <span style=\"text-weight: bold; color: green\">edit</span> HALF <span style=\"color: red\">'0'</span>\n",
       "      <span style=\"text-weight: bold; color: green\">edit</span> LIMIT <span style=\"color: red\">'0'</span>\n",
       "      <span style=\"text-weight: bold; color: green\">label</span> counter_label <span style=\"color: red\">\"count to 0\"</span>\n",
       "    <span style=\"text-weight: bold; color: green\">task</span> TaskCounter_1\n",
       "      <span style=\"text-weight: bold; color: green\">trigger</span> TaskCounter_0 <span style=\"text-weight: bold; color: purple\">eq</span> <span style=\"font-style: italic;color: blue\">complete</span>\n",
       "      <span style=\"text-weight: bold; color: green\">edit</span> HALF <span style=\"color: red\">'1'</span>\n",
       "      <span style=\"text-weight: bold; color: green\">edit</span> LIMIT <span style=\"color: red\">'2'</span>\n",
       "      <span style=\"text-weight: bold; color: green\">label</span> counter_label <span style=\"color: red\">\"count to 2\"</span>\n",
       "    <span style=\"text-weight: bold; color: green\">task</span> TaskCounter_2\n",
       "      <span style=\"text-weight: bold; color: green\">trigger</span> TaskCounter_1 <span style=\"text-weight: bold; color: purple\">eq</span> <span style=\"font-style: italic;color: blue\">complete</span>\n",
       "      <span style=\"text-weight: bold; color: green\">edit</span> HALF <span style=\"color: red\">'2'</span>\n",
       "      <span style=\"text-weight: bold; color: green\">edit</span> LIMIT <span style=\"color: red\">'4'</span>\n",
       "      <span style=\"text-weight: bold; color: green\">label</span> counter_label <span style=\"color: red\">\"count to 4\"</span>\n",
       "    <span style=\"text-weight: bold; color: green\">task</span> TaskCounter_3\n",
       "      <span style=\"text-weight: bold; color: green\">trigger</span> TaskCounter_2 <span style=\"text-weight: bold; color: purple\">eq</span> <span style=\"font-style: italic;color: blue\">complete</span>\n",
       "      <span style=\"text-weight: bold; color: green\">edit</span> HALF <span style=\"color: red\">'3'</span>\n",
       "      <span style=\"text-weight: bold; color: green\">edit</span> LIMIT <span style=\"color: red\">'6'</span>\n",
       "      <span style=\"text-weight: bold; color: green\">label</span> counter_label <span style=\"color: red\">\"count to 6\"</span>\n",
       "    <span style=\"text-weight: bold; color: green\">task</span> TaskCounter_4\n",
       "      <span style=\"text-weight: bold; color: green\">trigger</span> TaskCounter_3 <span style=\"text-weight: bold; color: purple\">eq</span> <span style=\"font-style: italic;color: blue\">complete</span>\n",
       "      <span style=\"text-weight: bold; color: green\">edit</span> HALF <span style=\"color: red\">'4'</span>\n",
       "      <span style=\"text-weight: bold; color: green\">edit</span> LIMIT <span style=\"color: red\">'8'</span>\n",
       "      <span style=\"text-weight: bold; color: green\">label</span> counter_label <span style=\"color: red\">\"count to 8\"</span>\n",
       "    <span style=\"text-weight: bold; color: green\">task</span> TaskCounter_5\n",
       "      <span style=\"text-weight: bold; color: green\">trigger</span> TaskCounter_4 <span style=\"text-weight: bold; color: purple\">eq</span> <span style=\"font-style: italic;color: blue\">complete</span>\n",
       "      <span style=\"text-weight: bold; color: green\">edit</span> HALF <span style=\"color: red\">'5'</span>\n",
       "      <span style=\"text-weight: bold; color: green\">edit</span> LIMIT <span style=\"color: red\">'10'</span>\n",
       "      <span style=\"text-weight: bold; color: green\">label</span> counter_label <span style=\"color: red\">\"count to 10\"</span>\n",
       "    <span style=\"text-weight: bold; color: green\">task</span> TaskCounter_6\n",
       "      <span style=\"text-weight: bold; color: green\">trigger</span> TaskCounter_5 <span style=\"text-weight: bold; color: purple\">eq</span> <span style=\"font-style: italic;color: blue\">complete</span>\n",
       "      <span style=\"text-weight: bold; color: green\">edit</span> HALF <span style=\"color: red\">'6'</span>\n",
       "      <span style=\"text-weight: bold; color: green\">edit</span> LIMIT <span style=\"color: red\">'12'</span>\n",
       "      <span style=\"text-weight: bold; color: green\">label</span> counter_label <span style=\"color: red\">\"count to 12\"</span>\n",
       "  <span style=\"text-weight: bold; color: green\">endfamily</span>\n",
       "</pre>"
      ],
      "text/plain": [
       "MyFamily(/CountingSuite/TaskCounter)"
      ]
     },
     "execution_count": 5,
     "metadata": {},
     "output_type": "execute_result"
    }
   ],
   "source": [
    "class MyFamily(pf.Family):\n",
    "    \n",
    "    def __init__(self, name, counters, **kwargs):\n",
    "        \n",
    "        labels = {\n",
    "            'total_counters': counters\n",
    "        }\n",
    "        \n",
    "        super().__init__(name, labels=labels, **kwargs)\n",
    "        \n",
    "        with self:\n",
    "            pf.sequence(MyTask('{}_{}'.format(name,i), i) for i in range(counters))\n",
    "\n",
    "\n",
    "with pf.Suite('CountingSuite', files=os.path.join(filesdir, 'CountingSuite')) as s:\n",
    "    f = MyFamily('TaskCounter', 7)\n",
    "    \n",
    "f"
   ]
  },
  {
   "cell_type": "markdown",
   "id": "294e566b-1a63-4b3f-bad7-43c0e1cf9b9a",
   "metadata": {},
   "source": [
    "### Composing Suites from Reusable Components"
   ]
  },
  {
   "cell_type": "markdown",
   "id": "a5ab4b1f-c667-490a-a39d-9411d42eab32",
   "metadata": {},
   "source": [
    "All objects in the suite can be constructed and configured. It is worth noting that the derived class can be used within Python `with` statements in the same way as the base classes. This allows us to set some values or defaults without _forcing_ us to build the entire suite inside the constructor of a derived type."
   ]
  },
  {
   "cell_type": "code",
   "execution_count": 6,
   "id": "b6d97de4-ffd1-472f-bf63-4ed0b7d3b57b",
   "metadata": {},
   "outputs": [
    {
     "data": {
      "text/html": [
       "<pre><span style=\"text-weight: bold; color: green\">suite</span> configurable_suite\n",
       "  <span style=\"text-weight: bold; color: green\">defstatus</span> suspended\n",
       "  <span style=\"text-weight: bold; color: green\">edit</span> ECF_FILES <span style=\"color: red\">'/path/to/scratch/files/configurable_suite'</span>\n",
       "  <span style=\"text-weight: bold; color: green\">edit</span> ECF_HOME <span style=\"color: red\">'/path/to/scratch/out'</span>\n",
       "  <span style=\"text-weight: bold; color: green\">edit</span> ECF_JOB_CMD <span style=\"color: red\">'bash -c '</span>export ECF_PORT=%ECF_PORT%; export ECF_HOST=%ECF_HOST%; export ECF_NAME=%ECF_NAME%; export ECF_PASS=%ECF_PASS%; export ECF_TRYNO=%ECF_TRYNO%; export PATH=/usr/local/apps/ecflow/%ECF_VERSION%/bin:$PATH; ecflow_client --init=<span style=\"color: red\">\"$$\"</span> && %ECF_JOB% && ecflow_client --complete || ecflow_client --abort <span style=\"color: red\">' 1> %ECF_JOBOUT% 2>&1 &'</span>\n",
       "  <span style=\"text-weight: bold; color: green\">edit</span> ECF_KILL_CMD <span style=\"color: red\">'pkill -15 -P %ECF_RID%'</span>\n",
       "  <span style=\"text-weight: bold; color: green\">edit</span> ECF_STATUS_CMD <span style=\"color: red\">'true'</span>\n",
       "  <span style=\"text-weight: bold; color: green\">edit</span> ECF_OUT <span style=\"color: red\">'%ECF_HOME%'</span>\n",
       "  <span style=\"text-weight: bold; color: green\">label</span> exec_host <span style=\"color: red\">\"localhost\"</span>\n",
       "  <span style=\"text-weight: bold; color: green\">family</span> fam1\n",
       "    <span style=\"text-weight: bold; color: green\">label</span> total_counters <span style=\"color: red\">\"3\"</span>\n",
       "    <span style=\"text-weight: bold; color: green\">task</span> fam1_0\n",
       "      <span style=\"text-weight: bold; color: green\">edit</span> HALF <span style=\"color: red\">'0'</span>\n",
       "      <span style=\"text-weight: bold; color: green\">edit</span> LIMIT <span style=\"color: red\">'0'</span>\n",
       "      <span style=\"text-weight: bold; color: green\">label</span> counter_label <span style=\"color: red\">\"count to 0\"</span>\n",
       "    <span style=\"text-weight: bold; color: green\">task</span> fam1_1\n",
       "      <span style=\"text-weight: bold; color: green\">trigger</span> fam1_0 <span style=\"text-weight: bold; color: purple\">eq</span> <span style=\"font-style: italic;color: blue\">complete</span>\n",
       "      <span style=\"text-weight: bold; color: green\">edit</span> HALF <span style=\"color: red\">'1'</span>\n",
       "      <span style=\"text-weight: bold; color: green\">edit</span> LIMIT <span style=\"color: red\">'2'</span>\n",
       "      <span style=\"text-weight: bold; color: green\">label</span> counter_label <span style=\"color: red\">\"count to 2\"</span>\n",
       "    <span style=\"text-weight: bold; color: green\">task</span> fam1_2\n",
       "      <span style=\"text-weight: bold; color: green\">trigger</span> fam1_1 <span style=\"text-weight: bold; color: purple\">eq</span> <span style=\"font-style: italic;color: blue\">complete</span>\n",
       "      <span style=\"text-weight: bold; color: green\">edit</span> HALF <span style=\"color: red\">'2'</span>\n",
       "      <span style=\"text-weight: bold; color: green\">edit</span> LIMIT <span style=\"color: red\">'4'</span>\n",
       "      <span style=\"text-weight: bold; color: green\">label</span> counter_label <span style=\"color: red\">\"count to 4\"</span>\n",
       "  <span style=\"text-weight: bold; color: green\">endfamily</span>\n",
       "  <span style=\"text-weight: bold; color: green\">family</span> fam2\n",
       "    <span style=\"text-weight: bold; color: green\">label</span> total_counters <span style=\"color: red\">\"5\"</span>\n",
       "    <span style=\"text-weight: bold; color: green\">task</span> fam2_0\n",
       "      <span style=\"text-weight: bold; color: green\">edit</span> HALF <span style=\"color: red\">'0'</span>\n",
       "      <span style=\"text-weight: bold; color: green\">edit</span> LIMIT <span style=\"color: red\">'0'</span>\n",
       "      <span style=\"text-weight: bold; color: green\">label</span> counter_label <span style=\"color: red\">\"count to 0\"</span>\n",
       "    <span style=\"text-weight: bold; color: green\">task</span> fam2_1\n",
       "      <span style=\"text-weight: bold; color: green\">trigger</span> fam2_0 <span style=\"text-weight: bold; color: purple\">eq</span> <span style=\"font-style: italic;color: blue\">complete</span>\n",
       "      <span style=\"text-weight: bold; color: green\">edit</span> HALF <span style=\"color: red\">'1'</span>\n",
       "      <span style=\"text-weight: bold; color: green\">edit</span> LIMIT <span style=\"color: red\">'2'</span>\n",
       "      <span style=\"text-weight: bold; color: green\">label</span> counter_label <span style=\"color: red\">\"count to 2\"</span>\n",
       "    <span style=\"text-weight: bold; color: green\">task</span> fam2_2\n",
       "      <span style=\"text-weight: bold; color: green\">trigger</span> fam2_1 <span style=\"text-weight: bold; color: purple\">eq</span> <span style=\"font-style: italic;color: blue\">complete</span>\n",
       "      <span style=\"text-weight: bold; color: green\">edit</span> HALF <span style=\"color: red\">'2'</span>\n",
       "      <span style=\"text-weight: bold; color: green\">edit</span> LIMIT <span style=\"color: red\">'4'</span>\n",
       "      <span style=\"text-weight: bold; color: green\">label</span> counter_label <span style=\"color: red\">\"count to 4\"</span>\n",
       "    <span style=\"text-weight: bold; color: green\">task</span> fam2_3\n",
       "      <span style=\"text-weight: bold; color: green\">trigger</span> fam2_2 <span style=\"text-weight: bold; color: purple\">eq</span> <span style=\"font-style: italic;color: blue\">complete</span>\n",
       "      <span style=\"text-weight: bold; color: green\">edit</span> HALF <span style=\"color: red\">'3'</span>\n",
       "      <span style=\"text-weight: bold; color: green\">edit</span> LIMIT <span style=\"color: red\">'6'</span>\n",
       "      <span style=\"text-weight: bold; color: green\">label</span> counter_label <span style=\"color: red\">\"count to 6\"</span>\n",
       "    <span style=\"text-weight: bold; color: green\">task</span> fam2_4\n",
       "      <span style=\"text-weight: bold; color: green\">trigger</span> fam2_3 <span style=\"text-weight: bold; color: purple\">eq</span> <span style=\"font-style: italic;color: blue\">complete</span>\n",
       "      <span style=\"text-weight: bold; color: green\">edit</span> HALF <span style=\"color: red\">'4'</span>\n",
       "      <span style=\"text-weight: bold; color: green\">edit</span> LIMIT <span style=\"color: red\">'8'</span>\n",
       "      <span style=\"text-weight: bold; color: green\">label</span> counter_label <span style=\"color: red\">\"count to 8\"</span>\n",
       "  <span style=\"text-weight: bold; color: green\">endfamily</span>\n",
       "<span style=\"text-weight: bold; color: green\">endsuite</span>\n",
       "</pre>"
      ],
      "text/plain": [
       "CourseSuite(/configurable_suite)"
      ]
     },
     "execution_count": 6,
     "metadata": {},
     "output_type": "execute_result"
    }
   ],
   "source": [
    "class CourseSuite(pf.Suite):\n",
    "    \"\"\"\n",
    "    This CourseSuite object will be used throughout the course to provide sensible\n",
    "    defaults without verbosity\n",
    "    \"\"\"\n",
    "    def __init__(self, name, **kwargs):\n",
    "        \n",
    "        config = {\n",
    "            'host': pf.LocalHost(),\n",
    "            'files': os.path.join(filesdir, name),\n",
    "            'home': outdir,\n",
    "            'defstatus': pf.state.suspended\n",
    "        }\n",
    "        config.update(kwargs)\n",
    "        \n",
    "        super().__init__(name, **config)\n",
    "\n",
    "         \n",
    "with CourseSuite('configurable_suite') as s:\n",
    "    MyFamily('fam1', 3)\n",
    "    MyFamily('fam2', 5)\n",
    "    \n",
    "s"
   ]
  },
  {
   "cell_type": "markdown",
   "id": "3cec0aa1-ea2e-4f7d-ba92-9c7764de04d2",
   "metadata": {},
   "source": [
    "**pyflow** aims to provide a library of commonly used abstract functionality, but suites should aim to build and collect classes of internally useful functionality which can be used to build a suite out of relevant objects."
   ]
  }
 ],
 "metadata": {
  "kernelspec": {
   "display_name": "Python [conda env:pyflow]",
   "language": "python",
   "name": "conda-env-pyflow-py"
  },
  "language_info": {
   "codemirror_mode": {
    "name": "ipython",
    "version": 3
   },
   "file_extension": ".py",
   "mimetype": "text/x-python",
   "name": "python",
   "nbconvert_exporter": "python",
   "pygments_lexer": "ipython3",
   "version": "3.9.7"
  }
 },
 "nbformat": 4,
 "nbformat_minor": 5
}
