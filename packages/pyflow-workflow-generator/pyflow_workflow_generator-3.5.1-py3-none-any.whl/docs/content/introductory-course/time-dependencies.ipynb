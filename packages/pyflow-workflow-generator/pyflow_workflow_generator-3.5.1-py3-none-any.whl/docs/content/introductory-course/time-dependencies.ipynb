{
 "cells": [
  {
   "cell_type": "markdown",
   "id": "60b4bbb9-a1d0-4f3b-8216-33de7bd5c364",
   "metadata": {},
   "source": [
    "# Time Dependencies"
   ]
  },
  {
   "cell_type": "code",
   "execution_count": 1,
   "id": "716525b7-1770-4947-943a-553176228217",
   "metadata": {
    "jupyter": {
     "source_hidden": true
    },
    "nbsphinx": "hidden",
    "tags": []
   },
   "outputs": [],
   "source": [
    "# Following code is needed to preconfigure this notebook\n",
    "import datetime\n",
    "import sys\n",
    "import os\n",
    "sys.path.insert(0, os.path.abspath('../../..'))\n",
    "\n",
    "import pyflow as pf"
   ]
  },
  {
   "cell_type": "markdown",
   "id": "fafe81be-f1ff-493c-ad2f-4dae4fba5447",
   "metadata": {},
   "source": [
    "Sometimes you want a task to run at a given time, or to run every three hours, or to run only on the first of the month, or on Mondays. For that, **pyflow** supports date and time dependencies.\n",
    "\n",
    "Like triggers, date and time dependencies can be set for a family. In this case, the tasks of this family will only run according to these dependencies."
   ]
  },
  {
   "cell_type": "raw",
   "id": "5b132018-8496-40b2-af9a-a44405081ec9",
   "metadata": {
    "raw_mimetype": "text/restructuredtext",
    "tags": []
   },
   "source": [
    ".. warning::\n",
    "\n",
    "   All time-related dependencies (like cron, time, today and date) are relative to the clock of the suite."
   ]
  },
  {
   "cell_type": "code",
   "execution_count": 2,
   "id": "7c77ebff-96a1-4535-a7bf-873f23f1c5cd",
   "metadata": {},
   "outputs": [
    {
     "data": {
      "text/html": [
       "<pre><span style=\"text-weight: bold; color: green\">suite</span> test\n",
       "  <span style=\"text-weight: bold; color: green\">edit</span> ECF_JOB_CMD <span style=\"color: red\">'bash -c '</span>export ECF_PORT=%ECF_PORT%; export ECF_HOST=%ECF_HOST%; export ECF_NAME=%ECF_NAME%; export ECF_PASS=%ECF_PASS%; export ECF_TRYNO=%ECF_TRYNO%; export PATH=/usr/local/apps/ecflow/%ECF_VERSION%/bin:$PATH; ecflow_client --init=<span style=\"color: red\">\"$$\"</span> && %ECF_JOB% && ecflow_client --complete || ecflow_client --abort <span style=\"color: red\">' 1> %ECF_JOBOUT% 2>&1 &'</span>\n",
       "  <span style=\"text-weight: bold; color: green\">edit</span> ECF_KILL_CMD <span style=\"color: red\">'pkill -15 -P %ECF_RID%'</span>\n",
       "  <span style=\"text-weight: bold; color: green\">edit</span> ECF_STATUS_CMD <span style=\"color: red\">'true'</span>\n",
       "  <span style=\"text-weight: bold; color: green\">edit</span> ECF_OUT <span style=\"color: red\">'%ECF_HOME%'</span>\n",
       "  <span style=\"text-weight: bold; color: green\">label</span> exec_host <span style=\"color: red\">\"default\"</span>\n",
       "  <span style=\"text-weight: bold; color: green\">family</span> f2\n",
       "    <span style=\"text-weight: bold; color: green\">edit</span> SLEEP <span style=\"color: red\">'20'</span>\n",
       "    <span style=\"text-weight: bold; color: green\">task</span> t1\n",
       "      time 00:30 23:30 00:30\n",
       "    <span style=\"text-weight: bold; color: green\">task</span> t2\n",
       "      time 13:00\n",
       "      <span style=\"text-weight: bold; color: green\">day</span> thursday\n",
       "    <span style=\"text-weight: bold; color: green\">task</span> t3\n",
       "      time 12:00\n",
       "      <span style=\"text-weight: bold; color: green\">date</span> 1.*.*\n",
       "    <span style=\"text-weight: bold; color: green\">task</span> t4\n",
       "      time +00:02\n",
       "    <span style=\"text-weight: bold; color: green\">task</span> t5\n",
       "      time 00:02\n",
       "  <span style=\"text-weight: bold; color: green\">endfamily</span>\n",
       "<span style=\"text-weight: bold; color: green\">endsuite</span>\n",
       "</pre>"
      ],
      "text/plain": [
       "Suite(/test)"
      ]
     },
     "execution_count": 2,
     "metadata": {},
     "output_type": "execute_result"
    }
   ],
   "source": [
    "with pf.Suite('test') as s:\n",
    "    with pf.Family('f2'):\n",
    "        pf.Variable('SLEEP', 20)\n",
    "        t1 = pf.Task('t1')\n",
    "        t2 = pf.Task('t2')\n",
    "        t3 = pf.Task('t3')\n",
    "        t4 = pf.Task('t4')\n",
    "        t5 = pf.Task('t5')\n",
    "\n",
    "    t1.time = '00:30 23:30 00:30'  # start(hh:mm) end(hh:mm) increment(hh:mm)\n",
    "    t2.day = 'thursday'            # thursday at 1 pm\n",
    "    t2.time = '13:00'\n",
    "    t3.time = '0 12 * * *'         # time is not considered until date is free\n",
    "    t3.date = '1.*.*'              # `day.month.year` - * means every day, month, year\n",
    "    t4.time = '+00:02'             # + means realative to suite begin/requeue time\n",
    "    t5.time = '00:02'              # 2 minutes past midnight\n",
    "\n",
    "s"
   ]
  },
  {
   "cell_type": "markdown",
   "id": "22b50ef1-1553-40af-95cb-114b7d76745d",
   "metadata": {},
   "source": [
    "## Time"
   ]
  },
  {
   "cell_type": "markdown",
   "id": "989f2777-3f15-448c-86a8-e73ed966f4f3",
   "metadata": {},
   "source": [
    "Time dependencies can be absolute, i.e. they will run at the exact time. They can also be relative; in this case, we provide the time from the moment the suite is begun.\n",
    "\n",
    "Time dependencies can be repeated at regular intervals. The nodes stay complete once all-time instances have run."
   ]
  },
  {
   "cell_type": "code",
   "execution_count": 3,
   "id": "96bc5418-7d5d-4f69-ba90-115b53161751",
   "metadata": {},
   "outputs": [
    {
     "data": {
      "text/html": [
       "<pre><span style=\"text-weight: bold; color: green\">suite</span> test\n",
       "  <span style=\"text-weight: bold; color: green\">edit</span> ECF_JOB_CMD <span style=\"color: red\">'bash -c '</span>export ECF_PORT=%ECF_PORT%; export ECF_HOST=%ECF_HOST%; export ECF_NAME=%ECF_NAME%; export ECF_PASS=%ECF_PASS%; export ECF_TRYNO=%ECF_TRYNO%; export PATH=/usr/local/apps/ecflow/%ECF_VERSION%/bin:$PATH; ecflow_client --init=<span style=\"color: red\">\"$$\"</span> && %ECF_JOB% && ecflow_client --complete || ecflow_client --abort <span style=\"color: red\">' 1> %ECF_JOBOUT% 2>&1 &'</span>\n",
       "  <span style=\"text-weight: bold; color: green\">edit</span> ECF_KILL_CMD <span style=\"color: red\">'pkill -15 -P %ECF_RID%'</span>\n",
       "  <span style=\"text-weight: bold; color: green\">edit</span> ECF_STATUS_CMD <span style=\"color: red\">'true'</span>\n",
       "  <span style=\"text-weight: bold; color: green\">edit</span> ECF_OUT <span style=\"color: red\">'%ECF_HOME%'</span>\n",
       "  <span style=\"text-weight: bold; color: green\">label</span> exec_host <span style=\"color: red\">\"default\"</span>\n",
       "  <span style=\"text-weight: bold; color: green\">family</span> f3\n",
       "    <span style=\"text-weight: bold; color: green\">task</span> t1\n",
       "      time 23:00\n",
       "    <span style=\"text-weight: bold; color: green\">task</span> t2\n",
       "      time 10:00 20:00 01:00\n",
       "    <span style=\"text-weight: bold; color: green\">task</span> t3\n",
       "      time +00:01\n",
       "    <span style=\"text-weight: bold; color: green\">task</span> t4\n",
       "      time +00:10 01:00 00:05\n",
       "  <span style=\"text-weight: bold; color: green\">endfamily</span>\n",
       "<span style=\"text-weight: bold; color: green\">endsuite</span>\n",
       "</pre>"
      ],
      "text/plain": [
       "Suite(/test)"
      ]
     },
     "execution_count": 3,
     "metadata": {},
     "output_type": "execute_result"
    }
   ],
   "source": [
    "with pf.Suite('test') as s:\n",
    "    with pf.Family('f3'):\n",
    "        with pf.Task('t1') as t1:\n",
    "            t1.time = '23:00'               # at next 23:00\n",
    "        with pf.Task('t2') as t2:\n",
    "            t2.time = '0 10-20 * * *'       # every hour between 10 am and 8 pm\n",
    "        with pf.Task('t3') as t3:\n",
    "            t3.time = '+00:01'              # one minute after the suite has begun\n",
    "        with pf.Task('t4') as t4:\n",
    "            t4.time = '+00:10 01:00 00:05'  # 10 to 60 minutes after begin every 5 minutes\n",
    "\n",
    "s"
   ]
  },
  {
   "cell_type": "markdown",
   "id": "d22fc909-b2d0-400d-ab97-0e89c2ef42e1",
   "metadata": {},
   "source": [
    "In the last example, we have a task that runs every hour. However, if the task takes longer than an hour, the time slot will be missed."
   ]
  },
  {
   "cell_type": "markdown",
   "id": "c746a6e3-4ad7-45f4-afb3-fa4467e270e2",
   "metadata": {},
   "source": [
    "## Cron"
   ]
  },
  {
   "cell_type": "markdown",
   "id": "4b6875e6-b974-4a87-8a6a-dab7e90fb9ba",
   "metadata": {},
   "source": [
    "Cron dependencies can be specified using the `pf.Cron` class. Cron differs from time as when the node is complete it queues again immediately. Cron also only works with a real time clock, not a hybrid clock."
   ]
  },
  {
   "cell_type": "code",
   "execution_count": 4,
   "id": "05443a30-f135-4875-8571-7d315f35b7ec",
   "metadata": {},
   "outputs": [
    {
     "data": {
      "text/html": [
       "<pre><span style=\"text-weight: bold; color: green\">suite</span> test\n",
       "  <span style=\"text-weight: bold; color: green\">edit</span> ECF_JOB_CMD <span style=\"color: red\">'bash -c '</span>export ECF_PORT=%ECF_PORT%; export ECF_HOST=%ECF_HOST%; export ECF_NAME=%ECF_NAME%; export ECF_PASS=%ECF_PASS%; export ECF_TRYNO=%ECF_TRYNO%; export PATH=/usr/local/apps/ecflow/%ECF_VERSION%/bin:$PATH; ecflow_client --init=<span style=\"color: red\">\"$$\"</span> && %ECF_JOB% && ecflow_client --complete || ecflow_client --abort <span style=\"color: red\">' 1> %ECF_JOBOUT% 2>&1 &'</span>\n",
       "  <span style=\"text-weight: bold; color: green\">edit</span> ECF_KILL_CMD <span style=\"color: red\">'pkill -15 -P %ECF_RID%'</span>\n",
       "  <span style=\"text-weight: bold; color: green\">edit</span> ECF_STATUS_CMD <span style=\"color: red\">'true'</span>\n",
       "  <span style=\"text-weight: bold; color: green\">edit</span> ECF_OUT <span style=\"color: red\">'%ECF_HOME%'</span>\n",
       "  <span style=\"text-weight: bold; color: green\">label</span> exec_host <span style=\"color: red\">\"default\"</span>\n",
       "  <span style=\"text-weight: bold; color: green\">family</span> f4\n",
       "    <span style=\"text-weight: bold; color: green\">task</span> t1\n",
       "      <span style=\"text-weight: bold; color: green\">cron</span> 23:00\n",
       "    <span style=\"text-weight: bold; color: green\">task</span> t2\n",
       "      <span style=\"text-weight: bold; color: green\">cron</span> 08:00 12:00 01:00\n",
       "    <span style=\"text-weight: bold; color: green\">task</span> t3\n",
       "      <span style=\"text-weight: bold; color: green\">cron</span> -w 0,2 11:00\n",
       "    <span style=\"text-weight: bold; color: green\">task</span> t4\n",
       "      <span style=\"text-weight: bold; color: green\">cron</span> -d 1,15 02:00\n",
       "    <span style=\"text-weight: bold; color: green\">task</span> t5\n",
       "      <span style=\"text-weight: bold; color: green\">cron</span> -d 1 -m 1 14:00\n",
       "    <span style=\"text-weight: bold; color: green\">task</span> t6\n",
       "      <span style=\"text-weight: bold; color: green\">cron</span> -w 5L 23:00\n",
       "    <span style=\"text-weight: bold; color: green\">task</span> t7\n",
       "      <span style=\"text-weight: bold; color: green\">cron</span> -d 1,L 23:00\n",
       "  <span style=\"text-weight: bold; color: green\">endfamily</span>\n",
       "<span style=\"text-weight: bold; color: green\">endsuite</span>\n",
       "</pre>"
      ],
      "text/plain": [
       "Suite(/test)"
      ]
     },
     "execution_count": 4,
     "metadata": {},
     "output_type": "execute_result"
    }
   ],
   "source": [
    "with pf.Suite('test') as s:\n",
    "    with pf.Family('f4'):\n",
    "        with pf.Task('t1') as t1:\n",
    "            t1.cron = '0 23 * * *'                                           # every day at 11 pm\n",
    "        with pf.Task('t2') as t2:\n",
    "            t2.cron = '0 8-12 * * *'                                         # every hour between 8 and 12 am\n",
    "        with pf.Task('t3') as t3:\n",
    "            t3.cron = '0 11 * * SUN,TUE'                                     # every Sunday and Tuesday at 11 am\n",
    "        with pf.Task('t4') as t4:\n",
    "            t4.cron = '0 2 1,15 * *'                                         # every 1st and 15th of each month at 2 am\n",
    "        with pf.Task('t5') as t5:\n",
    "            t5.cron = '0 14 1 1 *'                                           # every first of January at 2 pm\n",
    "        with pf.Task('t6'):\n",
    "            pf.Cron('23:00', last_week_days_of_the_month=[5])                # every *last* Friday of month at 11 pm\n",
    "        with pf.Task('t7'):\n",
    "            pf.Cron('23:00', days_of_month=[1], last_day_of_the_month=True)  # every first and last of month at 11 pm\n",
    "\n",
    "s"
   ]
  },
  {
   "cell_type": "raw",
   "id": "6a57a9e1-6139-4160-bfb5-ff79631b3d94",
   "metadata": {
    "raw_mimetype": "text/restructuredtext",
    "tags": []
   },
   "source": [
    ".. note::\n",
    "\n",
    "   When the time has expired, the associated node is free to run. The time will stay expired until the node is re-queued."
   ]
  },
  {
   "cell_type": "markdown",
   "id": "7300cc72-0836-49a4-a53e-f96b39c8e44e",
   "metadata": {},
   "source": [
    "The **ecFlow** server records all commands sent to it, in a log file `<host>.<port>.ecf.log`. This log file will grow over time to a considerable size.\n",
    "\n",
    "In the following example, we will create a task whose job is to periodically back up and clear this log file. This will be done with cron attribute. A cron will run indefinitely, i.e. once it has completed it will automatically re-queue itself."
   ]
  },
  {
   "cell_type": "code",
   "execution_count": 5,
   "id": "6a175b86-ad98-4b05-8a3a-ec2a988b6e09",
   "metadata": {},
   "outputs": [
    {
     "data": {
      "text/html": [
       "<pre><span style=\"text-weight: bold; color: green\">suite</span> test\n",
       "  <span style=\"text-weight: bold; color: green\">edit</span> ECF_FILES <span style=\"color: red\">'/test'</span>\n",
       "  <span style=\"text-weight: bold; color: green\">edit</span> ECF_JOB_CMD <span style=\"color: red\">'bash -c '</span>export ECF_PORT=%ECF_PORT%; export ECF_HOST=%ECF_HOST%; export ECF_NAME=%ECF_NAME%; export ECF_PASS=%ECF_PASS%; export ECF_TRYNO=%ECF_TRYNO%; export PATH=/usr/local/apps/ecflow/%ECF_VERSION%/bin:$PATH; ecflow_client --init=<span style=\"color: red\">\"$$\"</span> && %ECF_JOB% && ecflow_client --complete || ecflow_client --abort <span style=\"color: red\">' 1> %ECF_JOBOUT% 2>&1 &'</span>\n",
       "  <span style=\"text-weight: bold; color: green\">edit</span> ECF_KILL_CMD <span style=\"color: red\">'pkill -15 -P %ECF_RID%'</span>\n",
       "  <span style=\"text-weight: bold; color: green\">edit</span> ECF_STATUS_CMD <span style=\"color: red\">'true'</span>\n",
       "  <span style=\"text-weight: bold; color: green\">edit</span> ECF_OUT <span style=\"color: red\">'%ECF_HOME%'</span>\n",
       "  <span style=\"text-weight: bold; color: green\">label</span> exec_host <span style=\"color: red\">\"localhost\"</span>\n",
       "  <span style=\"text-weight: bold; color: green\">family</span> house_keeping\n",
       "    <span style=\"text-weight: bold; color: green\">task</span> clear_log\n",
       "      <span style=\"text-weight: bold; color: green\">cron</span> -w 0 22:30\n",
       "  <span style=\"text-weight: bold; color: green\">endfamily</span>\n",
       "<span style=\"text-weight: bold; color: green\">endsuite</span>\n",
       "</pre>"
      ],
      "text/plain": [
       "Suite(/test)"
      ]
     },
     "execution_count": 5,
     "metadata": {},
     "output_type": "execute_result"
    }
   ],
   "source": [
    "with pf.Suite('test', host=pf.LocalHost(), files='/test') as s:\n",
    "    with pf.Family('house_keeping'):\n",
    "        with pf.Task('clear_log', script=[\n",
    "            '# copy the log file to the ECF_HOME/log directory',\n",
    "            'cp %ECF_LOG% %ECF_HOME%/log/.',\n",
    "            '',\n",
    "            '# clear the log file',\n",
    "            'ecflow_client --log=clear',\n",
    "        ]):\n",
    "            pf.Cron('30 22 * * SUN') # run every Sunday at 10:30 pm\n",
    "\n",
    "s"
   ]
  },
  {
   "cell_type": "code",
   "execution_count": 6,
   "id": "a2276a26-e012-44c8-9a55-8d6c5feff16f",
   "metadata": {},
   "outputs": [
    {
     "data": {
      "text/html": [
       "<h3>File: /test/clear_log.ecf</h3><hr><pre><span style=\"font-style: italic;color: blue\">#!/bin/bash</span>\n",
       "\n",
       "<span style=\"text-weight: bold; color: green\">echo</span> \"Running on: $(hostname)\" || true\n",
       "<span style=\"text-weight: bold; color: green\">set</span> -uex\n",
       "\n",
       "\n",
       "<span style=\"text-weight: bold; color: green\">export</span> ECF_PORT=<span style=\"color: red\">%ECF_PORT%</span>    <span style=\"font-style: italic;color: blue\"># The server port number</span>\n",
       "<span style=\"text-weight: bold; color: green\">export</span> ECF_HOST=<span style=\"color: red\">%ECF_HOST%</span>    <span style=\"font-style: italic;color: blue\"># The host name where the server is running</span>\n",
       "<span style=\"text-weight: bold; color: green\">export</span> ECF_NAME=<span style=\"color: red\">%ECF_NAME%</span>    <span style=\"font-style: italic;color: blue\"># The name of this current task</span>\n",
       "<span style=\"text-weight: bold; color: green\">export</span> ECF_PASS=<span style=\"color: red\">%ECF_PASS%</span>    <span style=\"font-style: italic;color: blue\"># A unique password</span>\n",
       "<span style=\"text-weight: bold; color: green\">export</span> ECF_TRYNO=<span style=\"color: red\">%ECF_TRYNO%</span>  <span style=\"font-style: italic;color: blue\"># Current try number of the task</span>\n",
       "\n",
       "<span style=\"text-weight: bold; color: green\">echo</span> \"Current working directory: $(pwd)\"\n",
       "\n",
       "%nopp\n",
       "\n",
       "<span style=\"font-style: italic;color: blue\"># copy the log file to the ECF_HOME/log directory</span>\n",
       "cp <span style=\"color: red\">%ECF_LOG%</span> <span style=\"color: red\">%ECF_HOME%</span>/log/.\n",
       "\n",
       "<span style=\"font-style: italic;color: blue\"># clear the log file</span>\n",
       "ecflow_client --log=clear\n",
       "\n",
       "%end\n",
       "</pre><hr>"
      ],
      "text/plain": [
       "<pyflow.files.Notebook at 0x7fe2390cc190>"
      ]
     },
     "execution_count": 6,
     "metadata": {},
     "output_type": "execute_result"
    }
   ],
   "source": [
    "s.deploy_suite(pf.Notebook)"
   ]
  },
  {
   "cell_type": "markdown",
   "id": "fc2bf0de-f17d-40b7-afc0-8556cb7a7417",
   "metadata": {},
   "source": [
    "## Date or Day"
   ]
  },
  {
   "cell_type": "markdown",
   "id": "747b07e8-d6a2-489f-a29c-624b165d0b9f",
   "metadata": {},
   "source": [
    "Date dependencies can be specified using the `date` or `day` attribute. Date dependencies are always absolute, but wildcards can be used."
   ]
  },
  {
   "cell_type": "code",
   "execution_count": 7,
   "id": "03d7de9d-9ac6-4eaa-b52e-e074f042f24a",
   "metadata": {},
   "outputs": [
    {
     "data": {
      "text/html": [
       "<pre><span style=\"text-weight: bold; color: green\">suite</span> test\n",
       "  <span style=\"text-weight: bold; color: green\">edit</span> ECF_JOB_CMD <span style=\"color: red\">'bash -c '</span>export ECF_PORT=%ECF_PORT%; export ECF_HOST=%ECF_HOST%; export ECF_NAME=%ECF_NAME%; export ECF_PASS=%ECF_PASS%; export ECF_TRYNO=%ECF_TRYNO%; export PATH=/usr/local/apps/ecflow/%ECF_VERSION%/bin:$PATH; ecflow_client --init=<span style=\"color: red\">\"$$\"</span> && %ECF_JOB% && ecflow_client --complete || ecflow_client --abort <span style=\"color: red\">' 1> %ECF_JOBOUT% 2>&1 &'</span>\n",
       "  <span style=\"text-weight: bold; color: green\">edit</span> ECF_KILL_CMD <span style=\"color: red\">'pkill -15 -P %ECF_RID%'</span>\n",
       "  <span style=\"text-weight: bold; color: green\">edit</span> ECF_STATUS_CMD <span style=\"color: red\">'true'</span>\n",
       "  <span style=\"text-weight: bold; color: green\">edit</span> ECF_OUT <span style=\"color: red\">'%ECF_HOME%'</span>\n",
       "  <span style=\"text-weight: bold; color: green\">label</span> exec_host <span style=\"color: red\">\"default\"</span>\n",
       "  <span style=\"text-weight: bold; color: green\">family</span> f5\n",
       "    <span style=\"text-weight: bold; color: green\">task</span> t1\n",
       "      <span style=\"text-weight: bold; color: green\">date</span> 31.12.2012\n",
       "    <span style=\"text-weight: bold; color: green\">task</span> t2\n",
       "      <span style=\"text-weight: bold; color: green\">date</span> 1.*.*\n",
       "    <span style=\"text-weight: bold; color: green\">task</span> t3\n",
       "      <span style=\"text-weight: bold; color: green\">date</span> *.10.*\n",
       "    <span style=\"text-weight: bold; color: green\">task</span> t4\n",
       "      <span style=\"text-weight: bold; color: green\">date</span> 1.*.2008\n",
       "    <span style=\"text-weight: bold; color: green\">task</span> t5\n",
       "      <span style=\"text-weight: bold; color: green\">day</span> monday\n",
       "  <span style=\"text-weight: bold; color: green\">endfamily</span>\n",
       "<span style=\"text-weight: bold; color: green\">endsuite</span>\n",
       "</pre>"
      ],
      "text/plain": [
       "Suite(/test)"
      ]
     },
     "execution_count": 7,
     "metadata": {},
     "output_type": "execute_result"
    }
   ],
   "source": [
    "with pf.Suite('test') as s:\n",
    "    with pf.Family('f5'):\n",
    "        with pf.Task('t1') as t1:\n",
    "            t1.date = '31.12.2012' # the 31st of December 2012\n",
    "        with pf.Task('t2') as t2:\n",
    "            t2.date = '01.*.*'     # every first of the month\n",
    "        with pf.Task('t3') as t3:\n",
    "            t3.date = '*.10.*'     # every day in October\n",
    "        with pf.Task('t4') as t4:\n",
    "            t4.date = '1.*.2008'   # every first of the month, but only in 2008\n",
    "        with pf.Task('t5') as t5:\n",
    "            t5.day = 'monday'      # every monday\n",
    "\n",
    "s"
   ]
  },
  {
   "cell_type": "markdown",
   "id": "bb3e8b2f-8692-42ea-8c5a-65e1693185fd",
   "metadata": {},
   "source": [
    "## Mixing time dependencies on the same node"
   ]
  },
  {
   "cell_type": "markdown",
   "id": "32c97377-7e61-4b9a-b6cc-76292d596826",
   "metadata": {},
   "source": [
    "A single task can have many time and date dependencies."
   ]
  },
  {
   "cell_type": "code",
   "execution_count": 8,
   "id": "8420c180-3f65-4b5f-9e7c-9b0fe20872c2",
   "metadata": {},
   "outputs": [
    {
     "data": {
      "text/html": [
       "<pre><span style=\"text-weight: bold; color: green\">suite</span> test\n",
       "  <span style=\"text-weight: bold; color: green\">edit</span> ECF_JOB_CMD <span style=\"color: red\">'bash -c '</span>export ECF_PORT=%ECF_PORT%; export ECF_HOST=%ECF_HOST%; export ECF_NAME=%ECF_NAME%; export ECF_PASS=%ECF_PASS%; export ECF_TRYNO=%ECF_TRYNO%; export PATH=/usr/local/apps/ecflow/%ECF_VERSION%/bin:$PATH; ecflow_client --init=<span style=\"color: red\">\"$$\"</span> && %ECF_JOB% && ecflow_client --complete || ecflow_client --abort <span style=\"color: red\">' 1> %ECF_JOBOUT% 2>&1 &'</span>\n",
       "  <span style=\"text-weight: bold; color: green\">edit</span> ECF_KILL_CMD <span style=\"color: red\">'pkill -15 -P %ECF_RID%'</span>\n",
       "  <span style=\"text-weight: bold; color: green\">edit</span> ECF_STATUS_CMD <span style=\"color: red\">'true'</span>\n",
       "  <span style=\"text-weight: bold; color: green\">edit</span> ECF_OUT <span style=\"color: red\">'%ECF_HOME%'</span>\n",
       "  <span style=\"text-weight: bold; color: green\">label</span> exec_host <span style=\"color: red\">\"default\"</span>\n",
       "  <span style=\"text-weight: bold; color: green\">family</span> f6\n",
       "    <span style=\"text-weight: bold; color: green\">task</span> t1\n",
       "      time 10:00\n",
       "      <span style=\"text-weight: bold; color: green\">day</span> monday\n",
       "    <span style=\"text-weight: bold; color: green\">task</span> t2\n",
       "      time 01:00 16:00 15:00\n",
       "      <span style=\"text-weight: bold; color: green\">date</span> 1.*.*\n",
       "      <span style=\"text-weight: bold; color: green\">date</span> 10.*.*\n",
       "      <span style=\"text-weight: bold; color: green\">day</span> sunday\n",
       "      <span style=\"text-weight: bold; color: green\">day</span> wednesday\n",
       "  <span style=\"text-weight: bold; color: green\">endfamily</span>\n",
       "<span style=\"text-weight: bold; color: green\">endsuite</span>\n",
       "</pre>"
      ],
      "text/plain": [
       "Suite(/test)"
      ]
     },
     "execution_count": 8,
     "metadata": {},
     "output_type": "execute_result"
    }
   ],
   "source": [
    "with pf.Suite('test') as s:\n",
    "    with pf.Family('f6'):\n",
    "        with pf.Task('t1') as t1:\n",
    "            t1.time = '10:00'                # here day acts like a guard over the time. i.e. time is not considered until Monday\n",
    "            t1.day = 'monday'                # run on Monday at 10 am\n",
    "        with pf.Task('t2') as t2:\n",
    "            t2.time = '0 1,16 * * *'         # on the same node, day/date acts like a guard over the time attributes\n",
    "            t2.date = ['01.*.*', '10.*.*']   # the first and tenth of every month and year\n",
    "            t2.day = ['sunday', 'wednesday'] # the time is only set free *if* we are on one of the day/dates\n",
    "\n",
    "s"
   ]
  },
  {
   "cell_type": "markdown",
   "id": "feacea90-f5ac-4987-9f0f-24fc1e015940",
   "metadata": {},
   "source": [
    "The second task will run on Sundays and Wednesdays at 1 am and 4 pm, but only if the day is the 1st or the 10th of the month."
   ]
  },
  {
   "cell_type": "raw",
   "id": "bc0da6f9-2763-4852-b354-cf9133ed6457",
   "metadata": {
    "raw_mimetype": "text/restructuredtext",
    "tags": []
   },
   "source": [
    ".. note::\n",
    "\n",
    "   With multiple time dependencies on the same node, the dependencies of the same type are *or-ed* together, then *and-ed* with the different types."
   ]
  },
  {
   "cell_type": "markdown",
   "id": "c789dff7-cc8a-4b30-9006-aa1dfd52037f",
   "metadata": {},
   "source": [
    "## Mixing time dependencies on different nodes"
   ]
  },
  {
   "cell_type": "markdown",
   "id": "b385c147-bc56-4364-86e6-165cccf9a9aa",
   "metadata": {},
   "source": [
    "When time dependencies are placed on different nodes in the hierarchy, the results may seem surprising."
   ]
  },
  {
   "cell_type": "code",
   "execution_count": 9,
   "id": "1c38e925-3876-4760-94d2-f29ef5a77e5e",
   "metadata": {},
   "outputs": [
    {
     "data": {
      "text/html": [
       "<pre><span style=\"text-weight: bold; color: green\">suite</span> test\n",
       "  <span style=\"text-weight: bold; color: green\">edit</span> ECF_JOB_CMD <span style=\"color: red\">'bash -c '</span>export ECF_PORT=%ECF_PORT%; export ECF_HOST=%ECF_HOST%; export ECF_NAME=%ECF_NAME%; export ECF_PASS=%ECF_PASS%; export ECF_TRYNO=%ECF_TRYNO%; export PATH=/usr/local/apps/ecflow/%ECF_VERSION%/bin:$PATH; ecflow_client --init=<span style=\"color: red\">\"$$\"</span> && %ECF_JOB% && ecflow_client --complete || ecflow_client --abort <span style=\"color: red\">' 1> %ECF_JOBOUT% 2>&1 &'</span>\n",
       "  <span style=\"text-weight: bold; color: green\">edit</span> ECF_KILL_CMD <span style=\"color: red\">'pkill -15 -P %ECF_RID%'</span>\n",
       "  <span style=\"text-weight: bold; color: green\">edit</span> ECF_STATUS_CMD <span style=\"color: red\">'true'</span>\n",
       "  <span style=\"text-weight: bold; color: green\">edit</span> ECF_OUT <span style=\"color: red\">'%ECF_HOME%'</span>\n",
       "  <span style=\"text-weight: bold; color: green\">label</span> exec_host <span style=\"color: red\">\"default\"</span>\n",
       "  <span style=\"text-weight: bold; color: green\">family</span> f1\n",
       "    <span style=\"text-weight: bold; color: green\">day</span> monday\n",
       "    <span style=\"text-weight: bold; color: green\">task</span> t1\n",
       "      time 10:00\n",
       "  <span style=\"text-weight: bold; color: green\">endfamily</span>\n",
       "  <span style=\"text-weight: bold; color: green\">family</span> f2\n",
       "    time 10:00\n",
       "    <span style=\"text-weight: bold; color: green\">task</span> t2\n",
       "      <span style=\"text-weight: bold; color: green\">day</span> monday\n",
       "  <span style=\"text-weight: bold; color: green\">endfamily</span>\n",
       "<span style=\"text-weight: bold; color: green\">endsuite</span>\n",
       "</pre>"
      ],
      "text/plain": [
       "Suite(/test)"
      ]
     },
     "execution_count": 9,
     "metadata": {},
     "output_type": "execute_result"
    }
   ],
   "source": [
    "with pf.Suite('test') as s:\n",
    "    with pf.Family('f1') as f1:\n",
    "        f1.day = 'monday'     # the day *still* guards the time attribute\n",
    "        with pf.Task('t1') as t1:\n",
    "            t1.time = '10:00' # will run on Monday at 10 am\n",
    "    with pf.Family('f2') as f2:\n",
    "        f2.time = '10:00'\n",
    "        with pf.Task('t2') as t2:\n",
    "            t2.day = 'monday' # this will run on Monday morning at 00:00 and Monday at 10 am\n",
    "\n",
    "s"
   ]
  },
  {
   "cell_type": "markdown",
   "id": "e7b5fd1e-003d-4ea7-8cb0-4094edea3fdf",
   "metadata": {},
   "source": [
    "The example above assumes we have a suite, with an infinite repeat loop.\n",
    "\n",
    "The task `t2` will run on Monday morning at 00:00 because time dependencies on different nodes act independently of each other. In this case, the time attribute was set free on Sunday at 10 am (and once free it stays free until it is re-queued). Hence task `t2` is free to run on Monday morning. After the task has run and re-queued, it will then run on Monday at 10 am."
   ]
  },
  {
   "cell_type": "markdown",
   "id": "e7a3b5b6-ff57-48c9-890c-7ff85dbf510a",
   "metadata": {},
   "source": [
    "## Time Triggers"
   ]
  },
  {
   "cell_type": "raw",
   "id": "a8ded657-ff9a-4534-ac92-965ad0429df2",
   "metadata": {
    "raw_mimetype": "text/restructuredtext",
    "tags": []
   },
   "source": [
    "Time triggers are an alternative to time-based attributes.\n",
    "\n",
    "The following suite based generated variables are available for time-based triggers:\n",
    "\n",
    "   ``DD``\n",
    "      Day of the month\n",
    "   ``DOW``\n",
    "      Day of the week, ``0-6``, where ``0`` is Sunday\n",
    "   ``DOY``\n",
    "      Day of the year\n",
    "   ``ECF_DATE YYYYMMDD``\n",
    "      Year, month, day format. This has the same format as repeat date.\n",
    "   ``MM``\n",
    "      Month ``01-12``\n",
    "   ``TIME``\n",
    "      ``HHMM`` format\n",
    "   ``YYYY``\n",
    "      Year\n",
    "\n",
    "These time-based variables on the suite use the suites calendar. The suites calendar can be configured with the clock attribute."
   ]
  },
  {
   "cell_type": "code",
   "execution_count": 10,
   "id": "cc647116-6e5f-464f-9471-c2b4ae159065",
   "metadata": {},
   "outputs": [
    {
     "data": {
      "text/html": [
       "<pre><span style=\"text-weight: bold; color: green\">suite</span> test\n",
       "  <span style=\"text-weight: bold; color: green\">edit</span> ECF_JOB_CMD <span style=\"color: red\">'bash -c '</span>export ECF_PORT=%ECF_PORT%; export ECF_HOST=%ECF_HOST%; export ECF_NAME=%ECF_NAME%; export ECF_PASS=%ECF_PASS%; export ECF_TRYNO=%ECF_TRYNO%; export PATH=/usr/local/apps/ecflow/%ECF_VERSION%/bin:$PATH; ecflow_client --init=<span style=\"color: red\">\"$$\"</span> && %ECF_JOB% && ecflow_client --complete || ecflow_client --abort <span style=\"color: red\">' 1> %ECF_JOBOUT% 2>&1 &'</span>\n",
       "  <span style=\"text-weight: bold; color: green\">edit</span> ECF_KILL_CMD <span style=\"color: red\">'pkill -15 -P %ECF_RID%'</span>\n",
       "  <span style=\"text-weight: bold; color: green\">edit</span> ECF_STATUS_CMD <span style=\"color: red\">'true'</span>\n",
       "  <span style=\"text-weight: bold; color: green\">edit</span> ECF_OUT <span style=\"color: red\">'%ECF_HOME%'</span>\n",
       "  <span style=\"text-weight: bold; color: green\">label</span> exec_host <span style=\"color: red\">\"default\"</span>\n",
       "  <span style=\"text-weight: bold; color: green\">family</span> f1\n",
       "    <span style=\"text-weight: bold; color: green\">task</span> t1\n",
       "      time 23:00\n",
       "    <span style=\"text-weight: bold; color: green\">task</span> t2\n",
       "      <span style=\"text-weight: bold; color: green\">date</span> 1.*.*\n",
       "    <span style=\"text-weight: bold; color: green\">task</span> t3\n",
       "      <span style=\"text-weight: bold; color: green\">day</span> monday\n",
       "  <span style=\"text-weight: bold; color: green\">endfamily</span>\n",
       "<span style=\"text-weight: bold; color: green\">endsuite</span>\n",
       "</pre>"
      ],
      "text/plain": [
       "Suite(/test)"
      ]
     },
     "execution_count": 10,
     "metadata": {},
     "output_type": "execute_result"
    }
   ],
   "source": [
    "with pf.Suite('test') as s:\n",
    "    with pf.Family('f1') as f1:\n",
    "        with pf.Task('t1') as t1:\n",
    "            t1.time = '23:00' # t1.triggers = ':TIME == 2300'\n",
    "        with pf.Task('t2') as t2:\n",
    "            t2.date = '1.*.*' # t2.triggers = ':DD == 1'\n",
    "        with pf.Task('t3') as t3:\n",
    "            t3.day = 'monday' # t3.triggers = ':DOW == 1'\n",
    "\n",
    "s"
   ]
  },
  {
   "cell_type": "markdown",
   "id": "69b62679-73dd-42e8-811d-56f30cc9c551",
   "metadata": {},
   "source": [
    "The `:` means a search for the variable up the node tree.\n",
    "\n",
    "Triggers can also use AND/OR logic and the full range of operators `<`, `>`, `<=`, `>=`."
   ]
  },
  {
   "cell_type": "code",
   "execution_count": 11,
   "id": "7899754c-866b-4c8d-95db-206178c88832",
   "metadata": {},
   "outputs": [
    {
     "data": {
      "text/html": [
       "<pre><span style=\"text-weight: bold; color: green\">suite</span> test\n",
       "  <span style=\"text-weight: bold; color: green\">edit</span> ECF_JOB_CMD <span style=\"color: red\">'bash -c '</span>export ECF_PORT=%ECF_PORT%; export ECF_HOST=%ECF_HOST%; export ECF_NAME=%ECF_NAME%; export ECF_PASS=%ECF_PASS%; export ECF_TRYNO=%ECF_TRYNO%; export PATH=/usr/local/apps/ecflow/%ECF_VERSION%/bin:$PATH; ecflow_client --init=<span style=\"color: red\">\"$$\"</span> && %ECF_JOB% && ecflow_client --complete || ecflow_client --abort <span style=\"color: red\">' 1> %ECF_JOBOUT% 2>&1 &'</span>\n",
       "  <span style=\"text-weight: bold; color: green\">edit</span> ECF_KILL_CMD <span style=\"color: red\">'pkill -15 -P %ECF_RID%'</span>\n",
       "  <span style=\"text-weight: bold; color: green\">edit</span> ECF_STATUS_CMD <span style=\"color: red\">'true'</span>\n",
       "  <span style=\"text-weight: bold; color: green\">edit</span> ECF_OUT <span style=\"color: red\">'%ECF_HOME%'</span>\n",
       "  <span style=\"text-weight: bold; color: green\">label</span> exec_host <span style=\"color: red\">\"default\"</span>\n",
       "  <span style=\"text-weight: bold; color: green\">family</span> f1\n",
       "    <span style=\"text-weight: bold; color: green\">task</span> t1\n",
       "      time 23:00\n",
       "      <span style=\"text-weight: bold; color: green\">day</span> monday\n",
       "    <span style=\"text-weight: bold; color: green\">task</span> t2\n",
       "      <span style=\"text-weight: bold; color: green\">trigger</span> :DOW == 1 <span style=\"text-weight: bold; color: purple\">and</span> :TIME >= 1300\n",
       "    <span style=\"text-weight: bold; color: green\">task</span> t3\n",
       "      <span style=\"text-weight: bold; color: green\">trigger</span> :TIME >= 1300\n",
       "      <span style=\"text-weight: bold; color: green\">day</span> monday\n",
       "  <span style=\"text-weight: bold; color: green\">endfamily</span>\n",
       "<span style=\"text-weight: bold; color: green\">endsuite</span>\n",
       "</pre>"
      ],
      "text/plain": [
       "Suite(/test)"
      ]
     },
     "execution_count": 11,
     "metadata": {},
     "output_type": "execute_result"
    }
   ],
   "source": [
    "with pf.Suite('test') as s:\n",
    "    with pf.Family('f1') as f1:\n",
    "        with pf.Task('t1') as t1:\n",
    "            t1.time = '23:00'                           # time attributes\n",
    "            t1.day = 'monday'\n",
    "        with pf.Task('t2') as t2:\n",
    "            t2.triggers = ':DOW == 1 and :TIME >= 1300' # time based trigger\n",
    "        with pf.Task('t3') as t3:\n",
    "            t3.triggers = ':TIME >= 1300'               # combination\n",
    "            t3.day = 'monday'\n",
    "\n",
    "s"
   ]
  },
  {
   "cell_type": "code",
   "execution_count": 12,
   "id": "c6280ae3-a866-47f1-a66f-4606faef7e94",
   "metadata": {},
   "outputs": [
    {
     "data": {
      "text/html": [
       "<pre><span style=\"text-weight: bold; color: green\">suite</span> test\n",
       "  <span style=\"text-weight: bold; color: green\">edit</span> ECF_JOB_CMD <span style=\"color: red\">'bash -c '</span>export ECF_PORT=%ECF_PORT%; export ECF_HOST=%ECF_HOST%; export ECF_NAME=%ECF_NAME%; export ECF_PASS=%ECF_PASS%; export ECF_TRYNO=%ECF_TRYNO%; export PATH=/usr/local/apps/ecflow/%ECF_VERSION%/bin:$PATH; ecflow_client --init=<span style=\"color: red\">\"$$\"</span> && %ECF_JOB% && ecflow_client --complete || ecflow_client --abort <span style=\"color: red\">' 1> %ECF_JOBOUT% 2>&1 &'</span>\n",
       "  <span style=\"text-weight: bold; color: green\">edit</span> ECF_KILL_CMD <span style=\"color: red\">'pkill -15 -P %ECF_RID%'</span>\n",
       "  <span style=\"text-weight: bold; color: green\">edit</span> ECF_STATUS_CMD <span style=\"color: red\">'true'</span>\n",
       "  <span style=\"text-weight: bold; color: green\">edit</span> ECF_OUT <span style=\"color: red\">'%ECF_HOME%'</span>\n",
       "  <span style=\"text-weight: bold; color: green\">label</span> exec_host <span style=\"color: red\">\"default\"</span>\n",
       "  <span style=\"text-weight: bold; color: green\">family</span> f1\n",
       "    <span style=\"text-weight: bold; color: green\">task</span> t1\n",
       "      <span style=\"text-weight: bold; color: green\">trigger</span> :ECF_DATE == 20200720 <span style=\"text-weight: bold; color: purple\">and</span> :TIME >= 1000\n",
       "    <span style=\"text-weight: bold; color: green\">task</span> t2\n",
       "      <span style=\"text-weight: bold; color: green\">trigger</span> :DOW == 4 <span style=\"text-weight: bold; color: purple\">and</span> :TIME >= 1300\n",
       "    <span style=\"text-weight: bold; color: green\">task</span> t3\n",
       "      <span style=\"text-weight: bold; color: green\">trigger</span> :DD == 1 <span style=\"text-weight: bold; color: purple\">and</span> :TIME >= 1200\n",
       "    <span style=\"text-weight: bold; color: green\">task</span> t4\n",
       "      <span style=\"text-weight: bold; color: green\">trigger</span> (:DOW == 1 <span style=\"text-weight: bold; color: purple\">and</span> :TIME >= 1300) <span style=\"text-weight: bold; color: purple\">or</span> (:DOW == 5 <span style=\"text-weight: bold; color: purple\">and</span> :TIME >= 1000)\n",
       "    <span style=\"text-weight: bold; color: green\">task</span> t5\n",
       "      <span style=\"text-weight: bold; color: green\">trigger</span> :TIME == 0002\n",
       "  <span style=\"text-weight: bold; color: green\">endfamily</span>\n",
       "<span style=\"text-weight: bold; color: green\">endsuite</span>\n",
       "</pre>"
      ],
      "text/plain": [
       "Suite(/test)"
      ]
     },
     "execution_count": 12,
     "metadata": {},
     "output_type": "execute_result"
    }
   ],
   "source": [
    "with pf.Suite('test') as s:\n",
    "    with pf.Family('f1') as f1:\n",
    "        with pf.Task('t1') as t1:\n",
    "            t1.triggers = ':ECF_DATE == 20200720 and :TIME >= 1000'\n",
    "        with pf.Task('t2') as t2:\n",
    "            t2.triggers = ':DOW == 4 and :TIME >= 1300'\n",
    "        with pf.Task('t3') as t3:\n",
    "            t3.triggers = ':DD == 1 and :TIME >= 1200'\n",
    "        with pf.Task('t4') as t4:\n",
    "            t4.triggers = '(:DOW == 1 and :TIME >= 1300) or (:DOW == 5 and :TIME >= 1000)'\n",
    "        with pf.Task('t5') as t5:\n",
    "            t5.triggers = ':TIME == 0002' # 2 minutes past midnight\n",
    "\n",
    "s            "
   ]
  }
 ],
 "metadata": {
  "interpreter": {
   "hash": "c0f5023ce7011936e4e0ffff9d6d168e6c1b8d570903a3e21b2db29788a1ee1f"
  },
  "kernelspec": {
   "display_name": "Python [conda env:pyflow]",
   "language": "python",
   "name": "conda-env-pyflow-py"
  },
  "language_info": {
   "codemirror_mode": {
    "name": "ipython",
    "version": 3
   },
   "file_extension": ".py",
   "mimetype": "text/x-python",
   "name": "python",
   "nbconvert_exporter": "python",
   "pygments_lexer": "ipython3",
   "version": "3.9.7"
  }
 },
 "nbformat": 4,
 "nbformat_minor": 5
}
