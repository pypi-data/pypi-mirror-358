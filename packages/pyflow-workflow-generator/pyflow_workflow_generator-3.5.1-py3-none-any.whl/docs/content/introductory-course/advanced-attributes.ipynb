{
 "cells": [
  {
   "cell_type": "markdown",
   "id": "6a808589-8cf9-48b1-a5ab-fd24a0fb87d6",
   "metadata": {},
   "source": [
    "# Advanced Attributes"
   ]
  },
  {
   "cell_type": "code",
   "execution_count": 1,
   "id": "aa882dec-e3ff-42a7-9604-23895aede641",
   "metadata": {
    "jupyter": {
     "source_hidden": true
    },
    "nbsphinx": "hidden",
    "tags": []
   },
   "outputs": [],
   "source": [
    "# Following code is needed to preconfigure this notebook\n",
    "import datetime\n",
    "import sys\n",
    "import os\n",
    "sys.path.insert(0, os.path.abspath('../../..'))\n",
    "\n",
    "import pyflow as pf\n",
    "\n",
    "scratchdir = os.path.join('/', 'path', 'to', 'scratch')\n",
    "filesdir = os.path.join(scratchdir, 'files')\n",
    "outdir = os.path.join(scratchdir, 'out')\n",
    "\n",
    "\n",
    "class CourseSuite(pf.Suite):\n",
    "    \"\"\"\n",
    "    This CourseSuite object will be used throughout the course to provide sensible\n",
    "    defaults without verbosity\n",
    "    \"\"\"\n",
    "    def __init__(self, name, **kwargs):\n",
    "\n",
    "        config = {\n",
    "            'host': pf.LocalHost(),\n",
    "            'files': os.path.join(filesdir, name),\n",
    "            'home': outdir,\n",
    "            'defstatus': pf.state.suspended\n",
    "        }\n",
    "        config.update(kwargs)\n",
    "\n",
    "        super().__init__(name, **config)\n",
    "\n",
    "\n",
    "class MyTask(pf.Task):\n",
    "\n",
    "    \"\"\"Counts to the double of a number, first half using a for loop then a while loop\"\"\"\n",
    "\n",
    "    def __init__(self, name, default_value=0, **kwargs):\n",
    "\n",
    "        variables = {\n",
    "            'HALF': default_value,\n",
    "            'LIMIT': 2*default_value,\n",
    "        }\n",
    "        variables.update(**kwargs)\n",
    "\n",
    "        labels = {\n",
    "            'counter_label': 'count to {}'.format(2*default_value)\n",
    "        }\n",
    "\n",
    "        script = [\n",
    "            'echo \"This is a counting task named {}\"'.format(name),\n",
    "            'for i in $(seq 1 $HALF); do echo \"count $i/$LIMIT\"; done',\n",
    "            'i=$[$HALF+1]; while [ $i -lt $LIMIT ]; do echo \"count $i/$LIMIT\" ; i=$[$i+1]; done'\n",
    "        ]\n",
    "\n",
    "        super().__init__(name,\n",
    "                         script=script,\n",
    "                         labels=labels,\n",
    "                         **variables)\n",
    "\n",
    "\n",
    "class MyFamily(pf.Family):\n",
    "\n",
    "    def __init__(self, name, counters, **kwargs):\n",
    "\n",
    "        labels = {\n",
    "            'total_counters': counters\n",
    "        }\n",
    "\n",
    "        super().__init__(name, labels=labels, **kwargs)\n",
    "\n",
    "        with self:\n",
    "            pf.sequence(MyTask('{}_{}'.format(name,i), i) for i in range(counters))\n",
    "\n",
    "\n",
    "class LabelSetter(pf.Task):\n",
    "\n",
    "    def __init__(self, *args, **kwargs):\n",
    "        \"\"\"\n",
    "        Accepts a sequence of label-value tuples\n",
    "        \"\"\"\n",
    "        script = [\n",
    "            pf.TemplateScript(\n",
    "                'ecflow_client --alter=change label {{ LABEL.name }} \"{{ VALUE }}\" {{ LABEL.parent.fullname }}',\n",
    "                LABEL=label, VALUE=value\n",
    "            ) for label, value in args\n",
    "        ]\n",
    "\n",
    "        name = kwargs.pop('name', 'set_labels')\n",
    "        super().__init__(name, script=script, **kwargs)"
   ]
  },
  {
   "cell_type": "markdown",
   "id": "2582fac1-e31a-4743-8366-44fddd7b1869",
   "metadata": {},
   "source": [
    "## Creation of Attributes"
   ]
  },
  {
   "cell_type": "markdown",
   "id": "a39b08f0-b688-4625-bf80-b66c9e0cd506",
   "metadata": {},
   "source": [
    "Typically, we have three methods to construct attributes (or sub nodes) attached to any specific node. We give here examples both within a simple tree formulation of a suite, or within a class derived from a specific pyflow class.\n",
    "\n",
    "These different methods have different constraints on them, and differ in clarity and legibility in different contexts. Ultimately, the choice of which to use should come down to which is most legible in context.\n",
    "\n",
    "Firstly, we can construct the pyflow object within a context manager containing the parent node."
   ]
  },
  {
   "cell_type": "code",
   "execution_count": 2,
   "id": "2089ab0e-853e-4919-82c0-1adc79da0644",
   "metadata": {},
   "outputs": [
    {
     "data": {
      "text/html": [
       "<pre><span style=\"text-weight: bold; color: green\">suite</span> s\n",
       "  <span style=\"text-weight: bold; color: green\">family</span> f\n",
       "    <span style=\"text-weight: bold; color: green\">edit</span> V <span style=\"color: red\">'value'</span>\n",
       "    <span style=\"text-weight: bold; color: green\">label</span> l <span style=\"color: red\">\"text\"</span>\n",
       "  <span style=\"text-weight: bold; color: green\">endfamily</span>\n",
       "<span style=\"text-weight: bold; color: green\">endsuite</span>\n",
       "</pre>"
      ],
      "text/plain": [
       "Suite(/s)"
      ]
     },
     "execution_count": 2,
     "metadata": {},
     "output_type": "execute_result"
    }
   ],
   "source": [
    "with pf.Suite('s', host=pf.NullHost()) as s:\n",
    "    with pf.Family('f') as f:\n",
    "        pf.Label('l', 'text')\n",
    "        pf.Variable('V', 'value')\n",
    "\n",
    "s"
   ]
  },
  {
   "cell_type": "code",
   "execution_count": 3,
   "id": "238dd295-a647-46b4-ac9d-7c9cac0b6096",
   "metadata": {},
   "outputs": [
    {
     "data": {
      "text/html": [
       "<pre><span style=\"text-weight: bold; color: green\">suite</span> s\n",
       "  <span style=\"text-weight: bold; color: green\">family</span> f\n",
       "    <span style=\"text-weight: bold; color: green\">edit</span> V <span style=\"color: red\">'value'</span>\n",
       "    <span style=\"text-weight: bold; color: green\">label</span> l <span style=\"color: red\">\"text\"</span>\n",
       "  <span style=\"text-weight: bold; color: green\">endfamily</span>\n",
       "<span style=\"text-weight: bold; color: green\">endsuite</span>\n",
       "</pre>"
      ],
      "text/plain": [
       "Suite(/s)"
      ]
     },
     "execution_count": 3,
     "metadata": {},
     "output_type": "execute_result"
    }
   ],
   "source": [
    "class DerivedFamily(pf.Family):\n",
    "    def __init__(self):\n",
    "        super().__init__('f')\n",
    "        with self:\n",
    "            pf.Label('l', 'text')\n",
    "            pf.Variable('V', 'value')\n",
    "\n",
    "\n",
    "with pf.Suite('s', host=pf.NullHost()) as s:\n",
    "    DerivedFamily()\n",
    "\n",
    "s"
   ]
  },
  {
   "cell_type": "markdown",
   "id": "df33b29c-513b-4e9e-976d-522c2a785d32",
   "metadata": {},
   "source": [
    "Secondly, objects can be allocated by using keyword arguments on the parent node constructor. These take three forms:\n",
    "\n",
    "1. For an attribute of which there can only be one instance, the keyword argument is the lower-case string of the attribute class name. E.g. `script=`.\n",
    "2. For an attribute of which there cane be multiple instances, the keyword argument is the lower-case, pluralised version of the class name. E.g. `labels=`, and accepts a list or tuple.\n",
    "3. **ecFlow** variables are passed in as direct keyword arguments, identified by being capitalised and valid **ecFlow** variable names."
   ]
  },
  {
   "cell_type": "code",
   "execution_count": 4,
   "id": "4a2eebfa-e808-48a1-be82-1057f118b159",
   "metadata": {},
   "outputs": [
    {
     "data": {
      "text/html": [
       "<pre><span style=\"text-weight: bold; color: green\">suite</span> s\n",
       "  <span style=\"text-weight: bold; color: green\">family</span> f\n",
       "    <span style=\"text-weight: bold; color: green\">edit</span> V <span style=\"color: red\">'value'</span>\n",
       "    <span style=\"text-weight: bold; color: green\">label</span> l <span style=\"color: red\">\"text\"</span>\n",
       "  <span style=\"text-weight: bold; color: green\">endfamily</span>\n",
       "<span style=\"text-weight: bold; color: green\">endsuite</span>\n",
       "</pre>"
      ],
      "text/plain": [
       "Suite(/s)"
      ]
     },
     "execution_count": 4,
     "metadata": {},
     "output_type": "execute_result"
    }
   ],
   "source": [
    "with pf.Suite('s', host=pf.NullHost()) as s:\n",
    "    pf.Family('f', labels={'l': 'text'}, V='value')\n",
    "\n",
    "s"
   ]
  },
  {
   "cell_type": "code",
   "execution_count": 5,
   "id": "2550ed5b-7646-4a02-bb09-6522c3c4a7e4",
   "metadata": {},
   "outputs": [
    {
     "data": {
      "text/html": [
       "<pre><span style=\"text-weight: bold; color: green\">suite</span> s\n",
       "  <span style=\"text-weight: bold; color: green\">family</span> f\n",
       "    <span style=\"text-weight: bold; color: green\">edit</span> V <span style=\"color: red\">'value'</span>\n",
       "    <span style=\"text-weight: bold; color: green\">label</span> l <span style=\"color: red\">\"text\"</span>\n",
       "  <span style=\"text-weight: bold; color: green\">endfamily</span>\n",
       "<span style=\"text-weight: bold; color: green\">endsuite</span>\n",
       "</pre>"
      ],
      "text/plain": [
       "Suite(/s)"
      ]
     },
     "execution_count": 5,
     "metadata": {},
     "output_type": "execute_result"
    }
   ],
   "source": [
    "class DerivedFamily(pf.Family):\n",
    "    def __init__(self, **kwargs):\n",
    "        \n",
    "        variables = {'V': 'value'}\n",
    "        variables.update(kwargs)\n",
    "        \n",
    "        labels = {'l': 'text'}\n",
    "        \n",
    "        super().__init__('f', labels=labels, **variables)\n",
    "\n",
    "\n",
    "with pf.Suite('s', host=pf.NullHost()) as s:\n",
    "    DerivedFamily() \n",
    "\n",
    "s"
   ]
  },
  {
   "cell_type": "markdown",
   "id": "66c64dd9-4096-4c4a-9c86-6b56859cde37",
   "metadata": {},
   "source": [
    "Finally, unambiguously named **pyflow** objects (variables, script, ...) can be directly assigned to their parent nodes."
   ]
  },
  {
   "cell_type": "code",
   "execution_count": 6,
   "id": "1555f21d-a673-4e4a-8980-7c7574765a8c",
   "metadata": {},
   "outputs": [
    {
     "data": {
      "text/html": [
       "<pre><span style=\"text-weight: bold; color: green\">suite</span> s\n",
       "  <span style=\"text-weight: bold; color: green\">family</span> f\n",
       "    <span style=\"text-weight: bold; color: green\">edit</span> V <span style=\"color: red\">'value'</span>\n",
       "  <span style=\"text-weight: bold; color: green\">endfamily</span>\n",
       "<span style=\"text-weight: bold; color: green\">endsuite</span>\n",
       "</pre>"
      ],
      "text/plain": [
       "Suite(/s)"
      ]
     },
     "execution_count": 6,
     "metadata": {},
     "output_type": "execute_result"
    }
   ],
   "source": [
    "with pf.Suite('s', host=pf.NullHost()) as s:\n",
    "    f = pf.Family('f')\n",
    "    f.V = 'value' \n",
    "\n",
    "s"
   ]
  },
  {
   "cell_type": "markdown",
   "id": "dcd658c5-c983-4583-a62c-f877a335cd22",
   "metadata": {},
   "source": [
    "## Best Practice for Variables and Attributes"
   ]
  },
  {
   "cell_type": "markdown",
   "id": "281f7a45-11af-4ed1-bbed-06f5ae6eb431",
   "metadata": {},
   "source": [
    "Best practice for pyflow is to create derived types that encapsulate all of the concerns of a given class. This means that variable and attribute creation should occur within the constructor of the class being written. This should generally take the form of a setup section, in which various children are defined, before passing them through to the constructor of the superclass. Any structural children should then be defined below."
   ]
  },
  {
   "cell_type": "code",
   "execution_count": 7,
   "id": "a5eea334-1939-4e1f-a074-5403676317e1",
   "metadata": {},
   "outputs": [],
   "source": [
    "class ExampleFamily(pf.Family):\n",
    "    def __init__(self, name, example_value, initial_label, **kwargs):\n",
    "        \n",
    "        # This structure allows the kwargs to override any of these variables if needed, or\n",
    "        # to set other more general properties of the superclass (such as host=). The same\n",
    "        # effect could be achieved by using kwargs.setdefault(...) and passing kwargs through.\n",
    "        variables = {\n",
    "            'REQUIRED_VARIABLE': 'required_value',\n",
    "            'EXAMPLE_VARIABLE': example_value\n",
    "        }\n",
    "        variables.update(kwargs)\n",
    "        \n",
    "        labels = {\n",
    "            'a_label': initial_label\n",
    "        }\n",
    "        \n",
    "        super().__init__(name, labels=labels, **variables)\n",
    "        \n",
    "        # Here we define structural children\n",
    "        with self:\n",
    "            (\n",
    "                MyFamily('f1')\n",
    "                >>\n",
    "                MyTask('t1')\n",
    "            )"
   ]
  },
  {
   "cell_type": "markdown",
   "id": "80f799c6-c106-4644-a9ca-0b494f378604",
   "metadata": {},
   "source": [
    "## Variable substitition and expansion"
   ]
  },
  {
   "cell_type": "markdown",
   "id": "36bb3ebf-9703-4c35-81fe-6f4e2ba633a4",
   "metadata": {},
   "source": [
    "Variables and attributes can be directly referred to in scripts by making use of automatically exported environment variables of the same name. For example, a `RepeatDate('YMD', ...)` object may be referred to in a script by writing `$YMD`. This will be automatically detected by **pyflow** and the variable exported.\n",
    "\n",
    "If generating scripts, or using the templating engine, **pyflow** objects can generate their own representations. The `str()` and `repr()` functions in Python will return representations of variables that can be used in scripts (after automatic variable exporting) and in technical contexts (pre variable exporting, such as in other **ecFlow** variables) respectively.\n",
    "\n",
    "We can access the properties of an ecflow `Variable` programatically. This allows us to make interdependencies explicit, and to generate snippets within scripts that are guaranteed to correctly use the objects."
   ]
  },
  {
   "cell_type": "code",
   "execution_count": 8,
   "id": "0a6e0b9a-3037-4c6e-ba9e-5356d74dffd8",
   "metadata": {},
   "outputs": [
    {
     "name": "stdout",
     "output_type": "stream",
     "text": [
      "$A_VARIABLE %A_VARIABLE% 1234\n",
      "A_VARIABLE /s:A_VARIABLE\n"
     ]
    }
   ],
   "source": [
    "with pf.Suite('s'):\n",
    "    v = pf.Variable('A_VARIABLE', 1234)\n",
    "\n",
    "print(str(v), repr(v), v.value)\n",
    "print(v.name, v.fullname)"
   ]
  },
  {
   "cell_type": "markdown",
   "id": "a9b5c7de-3bb9-4d77-a39b-339e19855284",
   "metadata": {},
   "source": [
    "This allows us to automatically generate the correct shell-expansion of variables in the appropriate script context. Note that both Python string substitution and Jinja2 templating use the `str()` representation by default."
   ]
  },
  {
   "cell_type": "code",
   "execution_count": 9,
   "id": "d62e5148-5e3f-4b55-b70c-21278008f402",
   "metadata": {},
   "outputs": [
    {
     "name": "stdout",
     "output_type": "stream",
     "text": [
      "echo \"Variable value: $A_VARIABLE\"\n"
     ]
    }
   ],
   "source": [
    "text_script = 'echo \"Variable value: {}\"'.format(v)\n",
    "\n",
    "print(text_script)"
   ]
  },
  {
   "cell_type": "code",
   "execution_count": 10,
   "id": "71b2a55e-9edb-45f9-ad35-7c903333cf7c",
   "metadata": {},
   "outputs": [
    {
     "name": "stdout",
     "output_type": "stream",
     "text": [
      "echo \"variable A_VARIABLE has value $A_VARIABLE\"\n"
     ]
    }
   ],
   "source": [
    "templated_script = pf.TemplateScript(\n",
    "    'echo \"variable {{ VARIABLE.name }} has value {{ VARIABLE }}\"',\n",
    "    VARIABLE=v\n",
    ")\n",
    "\n",
    "print(templated_script)"
   ]
  },
  {
   "cell_type": "markdown",
   "id": "a6193fd1-7196-447a-8ecb-ea0a4feaef69",
   "metadata": {},
   "source": [
    "Other **ecFlow** objects that set accessible values can be accessed in the same way."
   ]
  },
  {
   "cell_type": "code",
   "execution_count": 11,
   "id": "f7430c57-9a0e-477c-acdf-cb13dfe638f4",
   "metadata": {},
   "outputs": [
    {
     "name": "stdout",
     "output_type": "stream",
     "text": [
      "echo \"The current date object is YMD. Value=$YMD\n"
     ]
    }
   ],
   "source": [
    "with pf.Suite('s') as s:\n",
    "    pf.RepeatDate(\"YMD\", datetime.date(2019, 1, 1), datetime.date(2019, 12, 31))\n",
    "    \n",
    "print(pf.TemplateScript(\n",
    "    'echo \"The current date object is {{ YMD.name }}. Value={{ YMD }}',\n",
    "    YMD=s.YMD\n",
    "))"
   ]
  },
  {
   "cell_type": "markdown",
   "id": "0e19a93b-5230-4144-9f52-42dd88ce19fb",
   "metadata": {},
   "source": [
    "We can also use templating to facilitate accessing attributes using the `ecflow_client`, and to correctly set thew according to mutable values (including **ecFlow** variables)."
   ]
  },
  {
   "cell_type": "code",
   "execution_count": 12,
   "id": "f552265b-9e59-4732-8adc-c4a9559fee1a",
   "metadata": {},
   "outputs": [
    {
     "name": "stdout",
     "output_type": "stream",
     "text": [
      "ecflow_client --alter=change label label \"$FOO\" /s\n"
     ]
    }
   ],
   "source": [
    "with pf.Suite('s', FOO='bar') as s:\n",
    "    pf.Label('label', '')\n",
    "    \n",
    "print(pf.TemplateScript(\n",
    "    'ecflow_client --alter=change label {{ LABEL.name }} \"{{ VALUE }}\" {{ LABEL.parent.fullname }}',\n",
    "    LABEL=s.label,\n",
    "    VALUE=s.FOO\n",
    "))"
   ]
  },
  {
   "cell_type": "markdown",
   "id": "5003df9d-8976-41e9-b8d1-159a979f6f88",
   "metadata": {},
   "source": [
    "## Using attributes belonging to other nodes"
   ]
  },
  {
   "cell_type": "markdown",
   "id": "82fd8a2e-ab77-4833-8fc5-83e44950a797",
   "metadata": {},
   "source": [
    "Attributes associated with other nodes can be used by passing the relevant attribute object to the site where it is needed. This can be facilitated by accessing children of various nodes as attributes of the parent."
   ]
  },
  {
   "cell_type": "code",
   "execution_count": 13,
   "id": "efa0c6f8-5e8a-44c2-aa67-107be9abcc4b",
   "metadata": {},
   "outputs": [
    {
     "name": "stdout",
     "output_type": "stream",
     "text": [
      "ecflow_client --alter=change label the_label \"a value\" /s/family1\n"
     ]
    }
   ],
   "source": [
    "with pf.Suite('s') as s:\n",
    "    with pf.Family('family1') as f1:\n",
    "        pf.Label('the_label', '')\n",
    "        \n",
    "    with pf.Family('family2') as f2:\n",
    "        LabelSetter((f1.the_label, \"a value\"), name='labeller')\n",
    "        \n",
    "print(f2.labeller.script)"
   ]
  },
  {
   "cell_type": "markdown",
   "id": "b6c99bfc-bff1-44be-a1af-29e7afb1a4aa",
   "metadata": {},
   "source": [
    "In contexts where the relative path between nodes and attributes is required, the `relative_path` method is able to interrogate the relationships. Alternatively the `fullname` attribute will give the absolute path of nodes.\n",
    "\n",
    "Within **pyflow** expressions it should not be necessary to generate these paths manually, as the expression generator should do the right thing. However, it is sometimes useful to refer to these components within scripts, especially as expansions within templates scripts."
   ]
  },
  {
   "cell_type": "code",
   "execution_count": 14,
   "id": "2645b373-55b3-40f1-b20e-f2b1ff6cf6af",
   "metadata": {},
   "outputs": [
    {
     "name": "stdout",
     "output_type": "stream",
     "text": [
      "family1:the_label\n",
      "family2/labeller\n",
      "../family2/labeller\n",
      "/s/family2/labeller\n",
      "/s/family1:the_label\n",
      "\n",
      "script: \n",
      " location of external node: /s/family2/labeller\n",
      "\n",
      "script: \n",
      " attribute relative path: ../family1:the_label\n"
     ]
    }
   ],
   "source": [
    "print(s.family1.the_label.relative_path(s.family2))\n",
    "print(s.family2.labeller.relative_path(s.family1))\n",
    "print(s.family2.labeller.relative_path(s.family1.the_label))\n",
    "print(s.family2.labeller.fullname)\n",
    "print(s.family1.the_label.fullname)\n",
    "\n",
    "print('\\nscript: \\n', pf.TemplateScript(\n",
    "    'location of external node: {{ NODE.fullname }}',\n",
    "    NODE=s.family2.labeller\n",
    "))\n",
    "print('\\nscript: \\n', pf.TemplateScript(\n",
    "    'attribute relative path: {{ ATTRIBUTE.relative_path(NODE) }}',\n",
    "    ATTRIBUTE=s.family1.the_label,\n",
    "    NODE=s.family2.labeller\n",
    "))"
   ]
  },
  {
   "cell_type": "markdown",
   "id": "3a05a8a8-e9ba-47ad-9f5e-c3975c38e192",
   "metadata": {},
   "source": [
    "## Using variables defined in parents"
   ]
  },
  {
   "cell_type": "markdown",
   "id": "e200bea2-f907-453f-a590-2ccde3f342f5",
   "metadata": {},
   "source": [
    "**ecFlow** suites inherit variables from above. If a task is making use of these variables it is very easy to end up writing tasks that assume the existence of variables in a suite already, without anything programattically indicating or enforcing that this relationship exists.\n",
    "\n",
    "Derived Tasks that make use of external variables should require that they be passed in from outside. If they are not directly used (i.e. the value is used in the script directly) then validity should be `asserted` in the code."
   ]
  },
  {
   "cell_type": "code",
   "execution_count": 15,
   "id": "7e460206-5dfc-4f23-bc6e-24c7d017eeaf",
   "metadata": {},
   "outputs": [
    {
     "data": {
      "text/html": [
       "<pre><span style=\"text-weight: bold; color: green\">suite</span> assert_external_variable\n",
       "  <span style=\"text-weight: bold; color: green\">defstatus</span> suspended\n",
       "  <span style=\"text-weight: bold; color: green\">edit</span> ECF_FILES <span style=\"color: red\">'/path/to/scratch/files/assert_external_variable'</span>\n",
       "  <span style=\"text-weight: bold; color: green\">edit</span> ECF_HOME <span style=\"color: red\">'/path/to/scratch/out'</span>\n",
       "  <span style=\"text-weight: bold; color: green\">edit</span> ECF_JOB_CMD <span style=\"color: red\">'bash -c '</span>export ECF_PORT=%ECF_PORT%; export ECF_HOST=%ECF_HOST%; export ECF_NAME=%ECF_NAME%; export ECF_PASS=%ECF_PASS%; export ECF_TRYNO=%ECF_TRYNO%; export PATH=/usr/local/apps/ecflow/%ECF_VERSION%/bin:$PATH; ecflow_client --init=<span style=\"color: red\">\"$$\"</span> && %ECF_JOB% && ecflow_client --complete || ecflow_client --abort <span style=\"color: red\">' 1> %ECF_JOBOUT% 2>&1 &'</span>\n",
       "  <span style=\"text-weight: bold; color: green\">edit</span> ECF_KILL_CMD <span style=\"color: red\">'pkill -15 -P %ECF_RID%'</span>\n",
       "  <span style=\"text-weight: bold; color: green\">edit</span> ECF_STATUS_CMD <span style=\"color: red\">'true'</span>\n",
       "  <span style=\"text-weight: bold; color: green\">edit</span> ECF_OUT <span style=\"color: red\">'%ECF_HOME%'</span>\n",
       "  <span style=\"text-weight: bold; color: green\">label</span> exec_host <span style=\"color: red\">\"localhost\"</span>\n",
       "  <span style=\"text-weight: bold; color: green\">family</span> containing_family\n",
       "    <span style=\"text-weight: bold; color: green\">edit</span> EXTERNAL_VAR <span style=\"color: red\">'1234'</span>\n",
       "    <span style=\"text-weight: bold; color: green\">task</span> uses_var\n",
       "  <span style=\"text-weight: bold; color: green\">endfamily</span>\n",
       "<span style=\"text-weight: bold; color: green\">endsuite</span>\n",
       "</pre>"
      ],
      "text/plain": [
       "CourseSuite(/assert_external_variable)"
      ]
     },
     "execution_count": 15,
     "metadata": {},
     "output_type": "execute_result"
    }
   ],
   "source": [
    "class ChildTask(pf.Task):\n",
    "    def __init__(self, external_variable):\n",
    "        \n",
    "        assert external_variable.name == 'EXTERNAL_VAR'\n",
    "        script = 'echo \"external variable: $EXTERNAL_VAR\"'\n",
    "        super().__init__('uses_var', script=script)\n",
    "\n",
    "\n",
    "with CourseSuite('assert_external_variable') as s:\n",
    "    with pf.Family('containing_family', EXTERNAL_VAR=1234) as f:\n",
    "        ChildTask(f.EXTERNAL_VAR)\n",
    "        \n",
    "s"
   ]
  },
  {
   "cell_type": "code",
   "execution_count": 16,
   "id": "d9da501c-e771-48cd-85e2-6c3d7c1a5b9e",
   "metadata": {},
   "outputs": [
    {
     "name": "stdout",
     "output_type": "stream",
     "text": [
      "script:\n",
      " echo \"external variable: $EXTERNAL_VAR\" \n",
      "\n"
     ]
    }
   ],
   "source": [
    "print(\"script:\\n\", f.uses_var.script, '\\n')"
   ]
  },
  {
   "cell_type": "markdown",
   "id": "93ed044d-42b1-46ab-9330-656b859620bf",
   "metadata": {},
   "source": [
    "If scripts are being generated or templated, then the existence of inherited variables can be enforced through generation."
   ]
  },
  {
   "cell_type": "code",
   "execution_count": 17,
   "id": "60af3d5e-d5c9-489c-84e9-f0cd2117beb5",
   "metadata": {},
   "outputs": [
    {
     "data": {
      "text/html": [
       "<pre><span style=\"text-weight: bold; color: green\">suite</span> templated_external_variable\n",
       "  <span style=\"text-weight: bold; color: green\">defstatus</span> suspended\n",
       "  <span style=\"text-weight: bold; color: green\">edit</span> ECF_FILES <span style=\"color: red\">'/path/to/scratch/files/templated_external_variable'</span>\n",
       "  <span style=\"text-weight: bold; color: green\">edit</span> ECF_HOME <span style=\"color: red\">'/path/to/scratch/out'</span>\n",
       "  <span style=\"text-weight: bold; color: green\">edit</span> ECF_JOB_CMD <span style=\"color: red\">'bash -c '</span>export ECF_PORT=%ECF_PORT%; export ECF_HOST=%ECF_HOST%; export ECF_NAME=%ECF_NAME%; export ECF_PASS=%ECF_PASS%; export ECF_TRYNO=%ECF_TRYNO%; export PATH=/usr/local/apps/ecflow/%ECF_VERSION%/bin:$PATH; ecflow_client --init=<span style=\"color: red\">\"$$\"</span> && %ECF_JOB% && ecflow_client --complete || ecflow_client --abort <span style=\"color: red\">' 1> %ECF_JOBOUT% 2>&1 &'</span>\n",
       "  <span style=\"text-weight: bold; color: green\">edit</span> ECF_KILL_CMD <span style=\"color: red\">'pkill -15 -P %ECF_RID%'</span>\n",
       "  <span style=\"text-weight: bold; color: green\">edit</span> ECF_STATUS_CMD <span style=\"color: red\">'true'</span>\n",
       "  <span style=\"text-weight: bold; color: green\">edit</span> ECF_OUT <span style=\"color: red\">'%ECF_HOME%'</span>\n",
       "  <span style=\"text-weight: bold; color: green\">label</span> exec_host <span style=\"color: red\">\"localhost\"</span>\n",
       "  <span style=\"text-weight: bold; color: green\">family</span> containing_family\n",
       "    <span style=\"text-weight: bold; color: green\">edit</span> MY_VAR <span style=\"color: red\">'1234'</span>\n",
       "    <span style=\"text-weight: bold; color: green\">task</span> uses_var\n",
       "  <span style=\"text-weight: bold; color: green\">endfamily</span>\n",
       "<span style=\"text-weight: bold; color: green\">endsuite</span>\n",
       "</pre>"
      ],
      "text/plain": [
       "CourseSuite(/templated_external_variable)"
      ]
     },
     "execution_count": 17,
     "metadata": {},
     "output_type": "execute_result"
    }
   ],
   "source": [
    "class ChildTask(pf.Task):\n",
    "    def __init__(self, external_variable):\n",
    "        script = pf.TemplateScript(\n",
    "            'echo \"external variable: {{ VARIABLE }}\"',\n",
    "            VARIABLE=external_variable\n",
    "        )\n",
    "        super().__init__('uses_var', script=script)\n",
    "\n",
    "\n",
    "with CourseSuite('templated_external_variable') as s:\n",
    "    with pf.Family('containing_family', MY_VAR=1234) as f:\n",
    "        ChildTask(f.MY_VAR)\n",
    "        \n",
    "s"
   ]
  },
  {
   "cell_type": "code",
   "execution_count": 18,
   "id": "21dd01a6-8fbf-44e7-84a5-de3fb1941c47",
   "metadata": {},
   "outputs": [
    {
     "name": "stdout",
     "output_type": "stream",
     "text": [
      "script:\n",
      " echo \"external variable: $MY_VAR\" \n",
      "\n"
     ]
    }
   ],
   "source": [
    "print(\"script:\\n\", f.uses_var.script, '\\n')"
   ]
  },
  {
   "cell_type": "markdown",
   "id": "551d7ae1-9ac3-4837-8721-376d294bd982",
   "metadata": {},
   "source": [
    "Alternatively, we can provide default values which are overridden in the context of an externally supplied variable."
   ]
  },
  {
   "cell_type": "code",
   "execution_count": 19,
   "id": "7cfb6051-c2be-406c-85a2-a2a7049f0a05",
   "metadata": {},
   "outputs": [
    {
     "data": {
      "text/html": [
       "<pre><span style=\"text-weight: bold; color: green\">suite</span> internal_or_external_variable\n",
       "  <span style=\"text-weight: bold; color: green\">defstatus</span> suspended\n",
       "  <span style=\"text-weight: bold; color: green\">edit</span> ECF_FILES <span style=\"color: red\">'/path/to/scratch/files/internal_or_external_variable'</span>\n",
       "  <span style=\"text-weight: bold; color: green\">edit</span> ECF_HOME <span style=\"color: red\">'/path/to/scratch/out'</span>\n",
       "  <span style=\"text-weight: bold; color: green\">edit</span> ECF_JOB_CMD <span style=\"color: red\">'bash -c '</span>export ECF_PORT=%ECF_PORT%; export ECF_HOST=%ECF_HOST%; export ECF_NAME=%ECF_NAME%; export ECF_PASS=%ECF_PASS%; export ECF_TRYNO=%ECF_TRYNO%; export PATH=/usr/local/apps/ecflow/%ECF_VERSION%/bin:$PATH; ecflow_client --init=<span style=\"color: red\">\"$$\"</span> && %ECF_JOB% && ecflow_client --complete || ecflow_client --abort <span style=\"color: red\">' 1> %ECF_JOBOUT% 2>&1 &'</span>\n",
       "  <span style=\"text-weight: bold; color: green\">edit</span> ECF_KILL_CMD <span style=\"color: red\">'pkill -15 -P %ECF_RID%'</span>\n",
       "  <span style=\"text-weight: bold; color: green\">edit</span> ECF_STATUS_CMD <span style=\"color: red\">'true'</span>\n",
       "  <span style=\"text-weight: bold; color: green\">edit</span> ECF_OUT <span style=\"color: red\">'%ECF_HOME%'</span>\n",
       "  <span style=\"text-weight: bold; color: green\">label</span> exec_host <span style=\"color: red\">\"localhost\"</span>\n",
       "  <span style=\"text-weight: bold; color: green\">family</span> containing_family\n",
       "    <span style=\"text-weight: bold; color: green\">edit</span> MY_VAR <span style=\"color: red\">'1234'</span>\n",
       "    <span style=\"text-weight: bold; color: green\">task</span> external_variable\n",
       "    <span style=\"text-weight: bold; color: green\">task</span> external_value\n",
       "      <span style=\"text-weight: bold; color: green\">edit</span> TASK_VALUE <span style=\"color: red\">'1234'</span>\n",
       "    <span style=\"text-weight: bold; color: green\">task</span> default_value\n",
       "      <span style=\"text-weight: bold; color: green\">edit</span> TASK_VALUE <span style=\"color: red\">'1234'</span>\n",
       "  <span style=\"text-weight: bold; color: green\">endfamily</span>\n",
       "<span style=\"text-weight: bold; color: green\">endsuite</span>\n",
       "</pre>"
      ],
      "text/plain": [
       "CourseSuite(/internal_or_external_variable)"
      ]
     },
     "execution_count": 19,
     "metadata": {},
     "output_type": "execute_result"
    }
   ],
   "source": [
    "class TaskWithVariable(pf.Task):\n",
    "    def __init__(self, name, default_value=1234, **kwargs):\n",
    "        super().__init__(name, **kwargs)\n",
    "        \n",
    "        # Note that this sort of introspective setup is one that requires constructing\n",
    "        # components after calling the superclass\n",
    "        if isinstance(default_value, pf.Variable):\n",
    "            var = default_value\n",
    "        else:\n",
    "            self.TASK_VALUE = default_value\n",
    "            var = self.TASK_VALUE\n",
    "        \n",
    "        self.script = pf.TemplateScript(\n",
    "            'echo \"external variable: {{ VARIABLE }}\"',\n",
    "            VARIABLE=var\n",
    "        )\n",
    "\n",
    "\n",
    "with CourseSuite('internal_or_external_variable') as s:\n",
    "    with pf.Family('containing_family', MY_VAR=1234) as f:\n",
    "        TaskWithVariable('external_variable', f.MY_VAR)\n",
    "        TaskWithVariable('external_value', f.MY_VAR.value)\n",
    "        TaskWithVariable('default_value')\n",
    "        \n",
    "s"
   ]
  },
  {
   "cell_type": "code",
   "execution_count": 20,
   "id": "7bbf4b5b-aabb-4124-9dce-3cc78d9a102c",
   "metadata": {},
   "outputs": [
    {
     "name": "stdout",
     "output_type": "stream",
     "text": [
      "script external:\n",
      " echo \"external variable: $MY_VAR\" \n",
      "\n",
      "script default:\n",
      " echo \"external variable: $TASK_VALUE\" \n",
      "\n"
     ]
    }
   ],
   "source": [
    "print(\"script external:\\n\", f.external_variable.script, '\\n')\n",
    "print(\"script default:\\n\", f.default_value.script, '\\n')"
   ]
  },
  {
   "cell_type": "markdown",
   "id": "40221f4a-9bdd-4f8c-bcfd-44ad64c43e6b",
   "metadata": {},
   "source": [
    "## General node properties"
   ]
  },
  {
   "cell_type": "markdown",
   "id": "dca133a3-429a-4e2e-9a49-2811e2568f99",
   "metadata": {},
   "source": [
    "Nodes and attributes have many accessible properties that can be accessed. Here is a non-exhaustive list of useful general node properties:\n",
    "\n",
    "- `suite` - The `Suite` object containing the node\n",
    "- `host()` - The currently active `Host` object\n",
    "- `anchor` - The current anchor (either `Suite` or `AnchorFamily`) containing this node\n",
    "- `name` - The visible name of this node\n",
    "- `fullname` - The full path of this node from the root\n",
    "- `all_children` - All (direct) children of a node\n",
    "- `all_executable_children` - All `Tasks` and `Families` (directly) contained within a `Family`\n",
    "- `all_tasks` - All `Tasks` (directly) contained within a `Family`"
   ]
  }
 ],
 "metadata": {
  "kernelspec": {
   "display_name": "pyflow",
   "language": "python",
   "name": "pyflow"
  },
  "language_info": {
   "codemirror_mode": {
    "name": "ipython",
    "version": 3
   },
   "file_extension": ".py",
   "mimetype": "text/x-python",
   "name": "python",
   "nbconvert_exporter": "python",
   "pygments_lexer": "ipython3",
   "version": "3.9.7"
  }
 },
 "nbformat": 4,
 "nbformat_minor": 5
}
