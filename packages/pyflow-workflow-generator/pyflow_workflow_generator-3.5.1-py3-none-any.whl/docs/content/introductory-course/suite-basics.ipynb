{
 "cells": [
  {
   "cell_type": "markdown",
   "id": "91774263-8587-4af4-8063-dc7791d5ad07",
   "metadata": {},
   "source": [
    "# Suite Basics"
   ]
  },
  {
   "cell_type": "code",
   "execution_count": 1,
   "id": "47cbdbba-1799-4f3f-b924-a3352545efce",
   "metadata": {
    "jupyter": {
     "source_hidden": true
    },
    "nbsphinx": "hidden",
    "tags": []
   },
   "outputs": [],
   "source": [
    "# Following code is needed to preconfigure this notebook\n",
    "import sys\n",
    "import os\n",
    "sys.path.insert(0, os.path.abspath('../../..'))\n",
    "\n",
    "import pyflow as pf"
   ]
  },
  {
   "cell_type": "markdown",
   "id": "065d4286-a267-476f-953f-f32c1f762edf",
   "metadata": {},
   "source": [
    "## Suite"
   ]
  },
  {
   "cell_type": "markdown",
   "id": "e41052a3-91f8-451a-bbd2-51e4ff1ead62",
   "metadata": {},
   "source": [
    "A **Suite** is a collection of interrelated **Tasks**. In **pyflow** suites are described by the `pf.Suite` class."
   ]
  },
  {
   "cell_type": "code",
   "execution_count": 2,
   "id": "06c821ba-a9ca-4bdd-bf92-d5bde13cb9b7",
   "metadata": {},
   "outputs": [
    {
     "data": {
      "text/html": [
       "<pre><span style=\"text-weight: bold; color: green\">suite</span> test\n",
       "  <span style=\"text-weight: bold; color: green\">edit</span> ECF_JOB_CMD <span style=\"color: red\">'bash -c '</span>export ECF_PORT=%ECF_PORT%; export ECF_HOST=%ECF_HOST%; export ECF_NAME=%ECF_NAME%; export ECF_PASS=%ECF_PASS%; export ECF_TRYNO=%ECF_TRYNO%; export PATH=/usr/local/apps/ecflow/%ECF_VERSION%/bin:$PATH; ecflow_client --init=<span style=\"color: red\">\"$$\"</span> && %ECF_JOB% && ecflow_client --complete || ecflow_client --abort <span style=\"color: red\">' 1> %ECF_JOBOUT% 2>&1 &'</span>\n",
       "  <span style=\"text-weight: bold; color: green\">edit</span> ECF_KILL_CMD <span style=\"color: red\">'pkill -15 -P %ECF_RID%'</span>\n",
       "  <span style=\"text-weight: bold; color: green\">edit</span> ECF_STATUS_CMD <span style=\"color: red\">'true'</span>\n",
       "  <span style=\"text-weight: bold; color: green\">edit</span> ECF_OUT <span style=\"color: red\">'%ECF_HOME%'</span>\n",
       "  <span style=\"text-weight: bold; color: green\">label</span> exec_host <span style=\"color: red\">\"default\"</span>\n",
       "  <span style=\"text-weight: bold; color: green\">task</span> t1\n",
       "  <span style=\"text-weight: bold; color: green\">task</span> t2\n",
       "<span style=\"text-weight: bold; color: green\">endsuite</span>\n",
       "</pre>"
      ],
      "text/plain": [
       "Suite(/test)"
      ]
     },
     "execution_count": 2,
     "metadata": {},
     "output_type": "execute_result"
    }
   ],
   "source": [
    "with pf.Suite('test') as s:\n",
    "    pf.Task('t1')\n",
    "    pf.Task('t2')\n",
    "\n",
    "s"
   ]
  },
  {
   "cell_type": "markdown",
   "id": "a49dd7cb-831e-4597-8837-e46321ae438f",
   "metadata": {},
   "source": [
    "The suite definition describes how your tasks run and interact."
   ]
  },
  {
   "cell_type": "markdown",
   "id": "11e102a5-91e5-470f-a17c-f57fa415e6ae",
   "metadata": {},
   "source": [
    "## Task"
   ]
  },
  {
   "cell_type": "markdown",
   "id": "6f00329c-193f-4093-9acb-dbc6a2709aac",
   "metadata": {},
   "source": [
    "A **Task** is a building block of a suite and encapsulates a single job to be executed. In **pyflow** tasks are described by the `pf.Task` class."
   ]
  },
  {
   "cell_type": "code",
   "execution_count": 3,
   "id": "78ce577c-a4b4-42a8-9489-02173949a7e1",
   "metadata": {},
   "outputs": [
    {
     "data": {
      "text/html": [
       "<pre><span style=\"text-weight: bold; color: green\">suite</span> test\n",
       "  <span style=\"text-weight: bold; color: green\">edit</span> ECF_JOB_CMD <span style=\"color: red\">'bash -c '</span>export ECF_PORT=%ECF_PORT%; export ECF_HOST=%ECF_HOST%; export ECF_NAME=%ECF_NAME%; export ECF_PASS=%ECF_PASS%; export ECF_TRYNO=%ECF_TRYNO%; export PATH=/usr/local/apps/ecflow/%ECF_VERSION%/bin:$PATH; ecflow_client --init=<span style=\"color: red\">\"$$\"</span> && %ECF_JOB% && ecflow_client --complete || ecflow_client --abort <span style=\"color: red\">' 1> %ECF_JOBOUT% 2>&1 &'</span>\n",
       "  <span style=\"text-weight: bold; color: green\">edit</span> ECF_KILL_CMD <span style=\"color: red\">'pkill -15 -P %ECF_RID%'</span>\n",
       "  <span style=\"text-weight: bold; color: green\">edit</span> ECF_STATUS_CMD <span style=\"color: red\">'true'</span>\n",
       "  <span style=\"text-weight: bold; color: green\">edit</span> ECF_OUT <span style=\"color: red\">'%ECF_HOME%'</span>\n",
       "  <span style=\"text-weight: bold; color: green\">label</span> exec_host <span style=\"color: red\">\"default\"</span>\n",
       "  <span style=\"text-weight: bold; color: green\">task</span> t1\n",
       "    <span style=\"text-weight: bold; color: green\">defstatus</span> suspended\n",
       "    <span style=\"text-weight: bold; color: green\">label</span> a_label <span style=\"color: red\">\"with a value\"</span>\n",
       "<span style=\"text-weight: bold; color: green\">endsuite</span>\n",
       "</pre>"
      ],
      "text/plain": [
       "Suite(/test)"
      ]
     },
     "execution_count": 3,
     "metadata": {},
     "output_type": "execute_result"
    }
   ],
   "source": [
    "with pf.Suite('test') as s:\n",
    "    pf.Task('t1', script='whoami', labels={'a_label': 'with a value'}, defstatus=pf.state.suspended)\n",
    "\n",
    "s"
   ]
  },
  {
   "cell_type": "markdown",
   "id": "df213f61-8dc2-413b-9f83-d5fac491b4f9",
   "metadata": {},
   "source": [
    "Each task can have a corresponding **Script** which does the actual heavy lifting."
   ]
  },
  {
   "cell_type": "code",
   "execution_count": 4,
   "id": "fdb74a84-690a-4ac5-a8de-ea22eb3959db",
   "metadata": {},
   "outputs": [
    {
     "data": {
      "text/html": [
       "<h3>File: None</h3><hr><pre><span style=\"font-style: italic;color: blue\">#!/bin/bash</span>\n",
       "\n",
       "<span style=\"text-weight: bold; color: green\">echo</span> \"Running on: $(hostname)\" || true\n",
       "<span style=\"text-weight: bold; color: green\">set</span> -uex\n",
       "\n",
       "\n",
       "<span style=\"text-weight: bold; color: green\">export</span> ECF_PORT=<span style=\"color: red\">%ECF_PORT%</span>    <span style=\"font-style: italic;color: blue\"># The server port number</span>\n",
       "<span style=\"text-weight: bold; color: green\">export</span> ECF_HOST=<span style=\"color: red\">%ECF_HOST%</span>    <span style=\"font-style: italic;color: blue\"># The host name where the server is running</span>\n",
       "<span style=\"text-weight: bold; color: green\">export</span> ECF_NAME=<span style=\"color: red\">%ECF_NAME%</span>    <span style=\"font-style: italic;color: blue\"># The name of this current task</span>\n",
       "<span style=\"text-weight: bold; color: green\">export</span> ECF_PASS=<span style=\"color: red\">%ECF_PASS%</span>    <span style=\"font-style: italic;color: blue\"># A unique password</span>\n",
       "<span style=\"text-weight: bold; color: green\">export</span> ECF_TRYNO=<span style=\"color: red\">%ECF_TRYNO%</span>  <span style=\"font-style: italic;color: blue\"># Current try number of the task</span>\n",
       "\n",
       "<span style=\"text-weight: bold; color: green\">echo</span> \"Current working directory: $(pwd)\"\n",
       "\n",
       "%nopp\n",
       "\n",
       "whoami\n",
       "\n",
       "%end\n",
       "</pre><hr>"
      ],
      "text/plain": [
       "<pyflow.files.Notebook at 0x7f909bde7730>"
      ]
     },
     "execution_count": 4,
     "metadata": {},
     "output_type": "execute_result"
    }
   ],
   "source": [
    "s.deploy_suite(pf.Notebook)"
   ]
  },
  {
   "cell_type": "markdown",
   "id": "55ee1bd1-0b27-4c75-b7ba-495dad7f1226",
   "metadata": {},
   "source": [
    "## Family"
   ]
  },
  {
   "cell_type": "markdown",
   "id": "2f926459-c69f-4cd2-b0a3-e07e1a63eb4d",
   "metadata": {},
   "source": [
    "Tasks can be logically grouped together in **Families**, which themselves may be placed in other families and/or suites. A family is described by the `pf.Family` class. All the entities (tasks, families and suites) are called **Nodes** and form a hierarchical tree."
   ]
  },
  {
   "cell_type": "code",
   "execution_count": 5,
   "id": "5df2075c-ff53-41a5-8bce-6d1d7dfe311f",
   "metadata": {},
   "outputs": [
    {
     "data": {
      "text/html": [
       "<pre><span style=\"text-weight: bold; color: green\">suite</span> test\n",
       "  <span style=\"text-weight: bold; color: green\">edit</span> ECF_JOB_CMD <span style=\"color: red\">'bash -c '</span>export ECF_PORT=%ECF_PORT%; export ECF_HOST=%ECF_HOST%; export ECF_NAME=%ECF_NAME%; export ECF_PASS=%ECF_PASS%; export ECF_TRYNO=%ECF_TRYNO%; export PATH=/usr/local/apps/ecflow/%ECF_VERSION%/bin:$PATH; ecflow_client --init=<span style=\"color: red\">\"$$\"</span> && %ECF_JOB% && ecflow_client --complete || ecflow_client --abort <span style=\"color: red\">' 1> %ECF_JOBOUT% 2>&1 &'</span>\n",
       "  <span style=\"text-weight: bold; color: green\">edit</span> ECF_KILL_CMD <span style=\"color: red\">'pkill -15 -P %ECF_RID%'</span>\n",
       "  <span style=\"text-weight: bold; color: green\">edit</span> ECF_STATUS_CMD <span style=\"color: red\">'true'</span>\n",
       "  <span style=\"text-weight: bold; color: green\">edit</span> ECF_OUT <span style=\"color: red\">'%ECF_HOME%'</span>\n",
       "  <span style=\"text-weight: bold; color: green\">label</span> exec_host <span style=\"color: red\">\"default\"</span>\n",
       "  <span style=\"text-weight: bold; color: green\">family</span> f1\n",
       "    <span style=\"text-weight: bold; color: green\">task</span> t1\n",
       "    <span style=\"text-weight: bold; color: green\">task</span> t2\n",
       "  <span style=\"text-weight: bold; color: green\">endfamily</span>\n",
       "<span style=\"text-weight: bold; color: green\">endsuite</span>\n",
       "</pre>"
      ],
      "text/plain": [
       "Suite(/test)"
      ]
     },
     "execution_count": 5,
     "metadata": {},
     "output_type": "execute_result"
    }
   ],
   "source": [
    "with pf.Suite('test') as s:\n",
    "    with pf.Family('f1'):\n",
    "        pf.Task('t1')\n",
    "        pf.Task('t2')\n",
    "\n",
    "s"
   ]
  },
  {
   "cell_type": "markdown",
   "id": "a98b9177-489d-4eeb-94a3-18e6b27d0a94",
   "metadata": {},
   "source": [
    "You can picture a suite as a hierarchical structure very similar to a UNIX file system, where the families are the directories, and the tasks are the files.\n",
    "\n",
    "The suite is a family with some extra attributes, like dates and clocks. Like directories, families can themselves contain other families. And like directories, there can be many tasks with the same name, as long as they are in different families.\n",
    "\n",
    "Unless you tell **pyflow** where to find specific files, the default behaviour is to expect the file structure to reflect the structure of the suite."
   ]
  },
  {
   "cell_type": "markdown",
   "id": "e2ac07ec-5cc4-4fb5-8464-a610e091bb56",
   "metadata": {},
   "source": [
    "## Scripts"
   ]
  },
  {
   "cell_type": "markdown",
   "id": "9e12350d-f7c6-40eb-8d9d-5b45b0b2ad57",
   "metadata": {},
   "source": [
    "**Scripts** are text files with an `.ecf` extension that correspond to the task in the suite definition. The script defines the main work that is to be carried out. The script includes child commands, special comments, and manual sections that provide information for users."
   ]
  },
  {
   "cell_type": "raw",
   "id": "8e052c8a-bc0b-40b4-a920-3bd8d35c1078",
   "metadata": {
    "raw_mimetype": "text/restructuredtext",
    "tags": []
   },
   "source": [
    ".. code:: ecflow_shell\n",
    "\n",
    "   %include <head.h>\n",
    "   echo \"I am part of a suite that lives in %ECF_HOME%\"\n",
    "   %include <tail.h>"
   ]
  },
  {
   "cell_type": "markdown",
   "id": "05aa3b61-da5c-4329-bb90-d5146e162205",
   "metadata": {},
   "source": [
    "The child commands are a restricted set of `ecflow_client` commands that communicate with the **ecFlow** server. They inform the server when an event occurs, for example a label is set."
   ]
  },
  {
   "cell_type": "raw",
   "id": "3f60828a-faa9-4370-b370-45fd14bfe4e6",
   "metadata": {
    "raw_mimetype": "text/restructuredtext",
    "tags": []
   },
   "source": [
    ".. code:: ecflow_shell\n",
    "\n",
    "   ecflow_client --label=info \"I have now finished my work.\""
   ]
  },
  {
   "cell_type": "raw",
   "id": "65e1cc45-cecb-48ad-abb2-fc9601aacb0a",
   "metadata": {
    "raw_mimetype": "text/restructuredtext",
    "tags": []
   },
   "source": [
    ".. seealso::\n",
    "\n",
    "   For more information on scripts, please see :doc:`/content/introductory-course/script-handling` chapter."
   ]
  },
  {
   "cell_type": "markdown",
   "id": "0b58d17a-3dc8-4cf4-8aa2-ccf3b42ba49d",
   "metadata": {},
   "source": [
    "## Hosts"
   ]
  },
  {
   "cell_type": "markdown",
   "id": "854d8572-dd83-4cf3-8324-569234a49fd1",
   "metadata": {},
   "source": [
    "To define an execution contexts to suites, **pyflow** provides the `pf.Host` class. It is required to define a host object for a suite in order to generate the executable nodes. The `host` can be set at any level (`Suite`, `Family` or `Task`) and is inherited unless overridden."
   ]
  },
  {
   "cell_type": "code",
   "execution_count": 6,
   "id": "2846cb4b-90a6-4f73-a476-9a68824a761f",
   "metadata": {},
   "outputs": [
    {
     "data": {
      "text/html": [
       "<pre><span style=\"text-weight: bold; color: green\">suite</span> test\n",
       "  <span style=\"text-weight: bold; color: green\">edit</span> ECF_FILES <span style=\"color: red\">'/test'</span>\n",
       "  <span style=\"text-weight: bold; color: green\">edit</span> ECF_JOB_CMD <span style=\"color: red\">'bash -c '</span>export ECF_PORT=%ECF_PORT%; export ECF_HOST=%ECF_HOST%; export ECF_NAME=%ECF_NAME%; export ECF_PASS=%ECF_PASS%; export ECF_TRYNO=%ECF_TRYNO%; export PATH=/usr/local/apps/ecflow/%ECF_VERSION%/bin:$PATH; ecflow_client --init=<span style=\"color: red\">\"$$\"</span> && %ECF_JOB% && ecflow_client --complete || ecflow_client --abort <span style=\"color: red\">' 1> %ECF_JOBOUT% 2>&1 &'</span>\n",
       "  <span style=\"text-weight: bold; color: green\">edit</span> ECF_KILL_CMD <span style=\"color: red\">'pkill -15 -P %ECF_RID%'</span>\n",
       "  <span style=\"text-weight: bold; color: green\">edit</span> ECF_STATUS_CMD <span style=\"color: red\">'true'</span>\n",
       "  <span style=\"text-weight: bold; color: green\">edit</span> ECF_OUT <span style=\"color: red\">'%ECF_HOME%'</span>\n",
       "  <span style=\"text-weight: bold; color: green\">label</span> exec_host <span style=\"color: red\">\"localhost\"</span>\n",
       "  <span style=\"text-weight: bold; color: green\">family</span> f1\n",
       "    <span style=\"text-weight: bold; color: green\">task</span> t1\n",
       "  <span style=\"text-weight: bold; color: green\">endfamily</span>\n",
       "<span style=\"text-weight: bold; color: green\">endsuite</span>\n",
       "</pre>"
      ],
      "text/plain": [
       "Suite(/test)"
      ]
     },
     "execution_count": 6,
     "metadata": {},
     "output_type": "execute_result"
    }
   ],
   "source": [
    "with pf.Suite('test', host=pf.LocalHost(), files='/test') as s:\n",
    "    with pf.Family('f1'):\n",
    "        pf.Task('t1', script=[\n",
    "            'cmake -DCMAKE_INSTALL_PREFIX=/usr/local .',\n",
    "            'cmake --build .',\n",
    "            'ctest --output-on-failure .',\n",
    "            'cmake --install .',\n",
    "        ])\n",
    "\n",
    "s"
   ]
  },
  {
   "cell_type": "code",
   "execution_count": 7,
   "id": "cb8b10e8-8b69-439d-a5e7-df3f76f9bc43",
   "metadata": {},
   "outputs": [
    {
     "data": {
      "text/html": [
       "<h3>File: /test/t1.ecf</h3><hr><pre><span style=\"font-style: italic;color: blue\">#!/bin/bash</span>\n",
       "\n",
       "<span style=\"text-weight: bold; color: green\">echo</span> \"Running on: $(hostname)\" || true\n",
       "<span style=\"text-weight: bold; color: green\">set</span> -uex\n",
       "\n",
       "\n",
       "<span style=\"text-weight: bold; color: green\">export</span> ECF_PORT=<span style=\"color: red\">%ECF_PORT%</span>    <span style=\"font-style: italic;color: blue\"># The server port number</span>\n",
       "<span style=\"text-weight: bold; color: green\">export</span> ECF_HOST=<span style=\"color: red\">%ECF_HOST%</span>    <span style=\"font-style: italic;color: blue\"># The host name where the server is running</span>\n",
       "<span style=\"text-weight: bold; color: green\">export</span> ECF_NAME=<span style=\"color: red\">%ECF_NAME%</span>    <span style=\"font-style: italic;color: blue\"># The name of this current task</span>\n",
       "<span style=\"text-weight: bold; color: green\">export</span> ECF_PASS=<span style=\"color: red\">%ECF_PASS%</span>    <span style=\"font-style: italic;color: blue\"># A unique password</span>\n",
       "<span style=\"text-weight: bold; color: green\">export</span> ECF_TRYNO=<span style=\"color: red\">%ECF_TRYNO%</span>  <span style=\"font-style: italic;color: blue\"># Current try number of the task</span>\n",
       "\n",
       "<span style=\"text-weight: bold; color: green\">echo</span> \"Current working directory: $(pwd)\"\n",
       "\n",
       "%nopp\n",
       "\n",
       "cmake -DCMAKE_INSTALL_PREFIX=/usr/local .\n",
       "cmake --build .\n",
       "ctest --output-on-failure .\n",
       "cmake --install .\n",
       "\n",
       "%end\n",
       "</pre><hr>"
      ],
      "text/plain": [
       "<pyflow.files.Notebook at 0x7f90b8026430>"
      ]
     },
     "execution_count": 7,
     "metadata": {},
     "output_type": "execute_result"
    }
   ],
   "source": [
    "s.deploy_suite(pf.Notebook)"
   ]
  },
  {
   "cell_type": "raw",
   "id": "0d76eacc-92ca-46d0-bf28-9378107b0db9",
   "metadata": {
    "raw_mimetype": "text/restructuredtext",
    "tags": []
   },
   "source": [
    ".. seealso::\n",
    "\n",
    "   For more information on hosts, please see :doc:`/content/introductory-course/host-management` chapter."
   ]
  }
 ],
 "metadata": {
  "kernelspec": {
   "display_name": "Python [conda env:pyflow]",
   "language": "python",
   "name": "conda-env-pyflow-py"
  },
  "language_info": {
   "codemirror_mode": {
    "name": "ipython",
    "version": 3
   },
   "file_extension": ".py",
   "mimetype": "text/x-python",
   "name": "python",
   "nbconvert_exporter": "python",
   "pygments_lexer": "ipython3",
   "version": "3.9.7"
  }
 },
 "nbformat": 4,
 "nbformat_minor": 5
}
