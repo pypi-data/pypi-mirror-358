{
 "cells": [
  {
   "cell_type": "markdown",
   "id": "7ec19c0a-66c9-4211-99d0-67b955e38be6",
   "metadata": {},
   "source": [
    "# Deployable Resources"
   ]
  },
  {
   "cell_type": "code",
   "execution_count": 1,
   "id": "716525b7-1770-4947-943a-553176228217",
   "metadata": {
    "jupyter": {
     "source_hidden": true
    },
    "nbsphinx": "hidden",
    "tags": []
   },
   "outputs": [],
   "source": [
    "# Following code is needed to preconfigure this notebook\n",
    "import datetime\n",
    "import sys\n",
    "import os\n",
    "sys.path.insert(0, os.path.abspath('../../..'))\n",
    "\n",
    "import pyflow as pf"
   ]
  },
  {
   "cell_type": "markdown",
   "id": "59011038-40d6-4e40-9664-c8052c789b0a",
   "metadata": {},
   "source": [
    "There are many hacks to deploy resources in suites, or resources can be managed and deployed out of band with the suite. It is, however, better to manage versioning of deployed resources in conjunction with the suite. This ensures that a deployed suite always runs what is expected.\n",
    "\n",
    "**pyflow** provides a new mechanism for deploying resources. This can include static data files and anything else that should already be in place for tasks to run correctly."
   ]
  },
  {
   "cell_type": "markdown",
   "id": "ec34b9b9-a096-4c08-b841-b626dc2fd9c2",
   "metadata": {},
   "source": [
    "<div class=\"alert alert-warning\">\n",
    "\n",
    "Important\n",
    "\n",
    "Do not use Resources to deploy scripts or other executable code.\n",
    "\n",
    "</div>"
   ]
  },
  {
   "cell_type": "markdown",
   "id": "78783a39-1c8f-49f7-b6df-b3a931a3ed10",
   "metadata": {},
   "source": [
    "The `Resource` mechanism provides a decoupling between:\n",
    "    \n",
    "1. Specifying what resource should be deployed (at suite generation time)\n",
    "2. Obtaining the resource, and on which host this resource should be obtained\n",
    "3. On which host(s) the resource should be deployed\n",
    " \n",
    "The host that runs the resource task can be selected by setting the host attribute on the Resources family. The hosts onto which the resources are deployed are specified in a list - this enables the suite to retrieve an external resource only once, even if it needs to be deployed to multiple locations."
   ]
  },
  {
   "cell_type": "code",
   "execution_count": 2,
   "id": "b2e2a324-3df0-4874-8c69-d3d93ea39bc4",
   "metadata": {},
   "outputs": [],
   "source": [
    "with pf.Suite('s'):\n",
    "    with pf.Resources(host=pf.LocalHost()):\n",
    "        pf.DataResource('script', [pf.LocalHost(resources_directory='/path/to/data'), pf.SSHHost('remote')], 'some data'.encode('utf-8'))"
   ]
  },
  {
   "cell_type": "markdown",
   "id": "fda70dad-9981-4f50-b649-cbf90416f86d",
   "metadata": {},
   "source": [
    "Data can be retrieved from a number of types of location."
   ]
  },
  {
   "cell_type": "code",
   "execution_count": 3,
   "id": "fb5ffc60-7ffc-436e-840f-f84856c5719e",
   "metadata": {},
   "outputs": [],
   "source": [
    "with pf.Suite('s') as s:\n",
    "    with pf.Resources():\n",
    "        \n",
    "        # Deploy data directly from the python code\n",
    "        pf.DataResource('data1', [pf.LocalHost(resources_directory='/path/to/data')], \"this is some data\".encode('utf-8'))\n",
    "        \n",
    "        # Deploy data from a file accessible at generation time\n",
    "        pf.FileResource('data2', [pf.LocalHost(resources_directory='/path/to/data')], 'path/to/data.dat')\n",
    "        \n",
    "        # Deploy data accessible from a URL\n",
    "        pf.WebResource('data3', [pf.LocalHost(resources_directory='/path/to/data')], 'htts://example.com/data')\n",
    "        pf.WebResource('data4', [pf.LocalHost(resources_directory='/path/to/data')], 'htts://example.com/data', md5='0123456789abcdef')"
   ]
  },
  {
   "cell_type": "markdown",
   "id": "5f36ddbc-d24c-4a8e-9c5c-e94c98e462b8",
   "metadata": {},
   "source": [
    "The resource class can be derived from to obtain more complex resources. The FDB test suite has a `MARSResource` that runs on a host that has a MARS client to obtain test data from MARS, and which is then transferred to the relevant hosts for testing the FDB tools (which do not have a working and configured MARS client able to interact with the operational MARS).\n",
    "\n",
    "To extend the functionality of a `Resource` class, the `get_resource` member function should be overriden to return an array of lines that can be combined into a script to be run on the Resource execution host to obtain the data."
   ]
  }
 ],
 "metadata": {
  "kernelspec": {
   "display_name": "Python 3.10.6 64-bit",
   "language": "python",
   "name": "python3"
  },
  "language_info": {
   "codemirror_mode": {
    "name": "ipython",
    "version": 3
   },
   "file_extension": ".py",
   "mimetype": "text/x-python",
   "name": "python",
   "nbconvert_exporter": "python",
   "pygments_lexer": "ipython3",
   "version": "3.10.6"
  },
  "vscode": {
   "interpreter": {
    "hash": "b0fa6594d8f4cbf19f97940f81e996739fb7646882a419484c72d19e05852a7e"
   }
  }
 },
 "nbformat": 4,
 "nbformat_minor": 5
}
