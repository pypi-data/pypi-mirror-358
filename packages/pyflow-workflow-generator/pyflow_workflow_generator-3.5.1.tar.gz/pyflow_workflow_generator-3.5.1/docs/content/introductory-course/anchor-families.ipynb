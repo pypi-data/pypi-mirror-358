{
 "cells": [
  {
   "cell_type": "markdown",
   "id": "7ec19c0a-66c9-4211-99d0-67b955e38be6",
   "metadata": {},
   "source": [
    "# Anchor Families"
   ]
  },
  {
   "cell_type": "code",
   "execution_count": 1,
   "id": "716525b7-1770-4947-943a-553176228217",
   "metadata": {
    "jupyter": {
     "source_hidden": true
    },
    "nbsphinx": "hidden",
    "tags": []
   },
   "outputs": [],
   "source": [
    "# Following code is needed to preconfigure this notebook\n",
    "import sys\n",
    "import os\n",
    "sys.path.insert(0, os.path.abspath('../../..'))\n",
    "\n",
    "import pyflow as pf\n",
    "\n",
    "scratchdir = os.path.join('/', 'path', 'to', 'scratch')\n",
    "filesdir = os.path.join(scratchdir, 'files')\n",
    "outdir = os.path.join(scratchdir, 'out')\n",
    "\n",
    "\n",
    "class CourseSuite(pf.Suite):\n",
    "    \"\"\"\n",
    "    This CourseSuite object will be used throughout the course to provide sensible\n",
    "    defaults without verbosity\n",
    "    \"\"\"\n",
    "    def __init__(self, name, **kwargs):\n",
    "        \n",
    "        config = {\n",
    "            'host': pf.LocalHost(),\n",
    "            'files': os.path.join(filesdir, name),\n",
    "            'home': outdir,\n",
    "            'defstatus': pf.state.suspended\n",
    "        }\n",
    "        config.update(kwargs)\n",
    "        \n",
    "        super().__init__(name, **config)\n",
    "\n",
    "\n",
    "class MyTask(pf.Task):\n",
    "    \n",
    "    \"\"\"Counts to the double of a number, first half using a for loop then a while loop\"\"\"\n",
    "    \n",
    "    def __init__(self, name, default_value=0, **kwargs):\n",
    "        \n",
    "        variables = {\n",
    "            'HALF': default_value,\n",
    "            'LIMIT': 2*default_value,\n",
    "        }\n",
    "        variables.update(**kwargs)\n",
    "        \n",
    "        labels = {\n",
    "            'counter_label': 'count to {}'.format(2*default_value)\n",
    "        }\n",
    "        \n",
    "        script = [\n",
    "            'echo \"This is a counting task named {}\"'.format(name),\n",
    "            'for i in $(seq 1 $HALF); do echo \"count $i/$LIMIT\"; done',\n",
    "            'i=$[$HALF+1]; while [ $i -lt $LIMIT ]; do echo \"count $i/$LIMIT\" ; i=$[$i+1]; done'\n",
    "        ]\n",
    "        \n",
    "        super().__init__(name,\n",
    "                         script=script,\n",
    "                         labels=labels,\n",
    "                         **variables)\n",
    "\n",
    "\n",
    "class MyFamily(pf.Family):\n",
    "    \n",
    "    def __init__(self, name, counters, **kwargs):\n",
    "        \n",
    "        labels = {\n",
    "            'total_counters': counters\n",
    "        }\n",
    "        \n",
    "        super().__init__(name, labels=labels, **kwargs)\n",
    "        \n",
    "        with self:\n",
    "            pf.sequence(MyTask('{}_{}'.format(name,i), i) for i in range(counters))      \n",
    "\n",
    "\n",
    "class LabelSetter(pf.Task):\n",
    "    \n",
    "    def __init__(self, *args, **kwargs):\n",
    "        \"\"\"\n",
    "        Accepts a sequence of label-value tuples\n",
    "        \"\"\"\n",
    "        script = [\n",
    "            pf.TemplateScript(\n",
    "                'ecflow_client --alter=change label {{ LABEL.name }} \"{{ VALUE }}\" {{ LABEL.parent.fullname }}',\n",
    "                LABEL=label, VALUE=value\n",
    "            ) for label, value in args\n",
    "        ]\n",
    "        \n",
    "        name = kwargs.pop('name', 'set_labels')\n",
    "        super().__init__(name, script=script, **kwargs)"
   ]
  },
  {
   "cell_type": "markdown",
   "id": "0bef132a-4cae-4b38-adc0-3b8972373e56",
   "metadata": {},
   "source": [
    "The `Family` class provides the fundamental visual block of pyflow. Families provide two distinct roles within suites:\n",
    "\n",
    "1. Visually grouping related families/tasks\n",
    "2. Logically grouping related families/tasks from an execution perspective\n",
    " \n",
    "Due to constraints imposed by the order in which **ecFlow** searches for scripts within the configured `files` location, by default _all_ tasks with the same name must share the same script located in the `files` directory (if scripts are deployed by **pyflow**, they will be deployed to this directory). This means that tasks with the same name must either be avoided, or written to have identical scripts, and is a significant constraint on encapsulation in object-oriented suite design.\n",
    "\n",
    "For simple agregation of tasks, it is encouraged to use `pf.Family` or derive from it. This provides minimal encapsulation of tasks, but not of scripts. All tasks with the same name will share the same script. We build such library of classes and objects so we can re-use these components (Tasks, Families, Suites) in different contexts. A given task class could be used in a research workflow and then reused in another operational workflow.\n",
    "\n",
    "However different contexts may require some differences in the suite execution. To ensure that we still have a concise, maintainable and easily checkable suite, we need to cater for those differences preferably in a single entity (as opposed to spreadout through the suite).\n",
    "\n",
    "To that aim, we introduce the use of a _configuration object_ that will handle the differences, and therefore interact and configure our objects under each different context.\n",
    "\n",
    "This results in suites that are _configurable_ for different use-cases and different contexts and build fundamentally different generated suites from the same components\n",
    "\n",
    "A configuration object can be constructed manually for different use cases or as a result of parsing configuration files. It can be used to:\n",
    "\n",
    "* Provide constants and data for specific cases, that will be needed in the suites\n",
    "* Switch functionality on/off or modify it\n",
    "* Configuration for hosts where to run the tasks\n",
    "* Locations of and details of data to process\n",
    " \n",
    "But most importantly, as objects, these configuration objects can be programmable in themselves (can include code). The suite components can delegate part of the suite definition to these _configurators_ and as such the structure of the suite can be determined by logic in the configuration object if necessary."
   ]
  },
  {
   "cell_type": "code",
   "execution_count": 2,
   "id": "869d0e07-5137-46a9-ab44-ebffbb7d1441",
   "metadata": {},
   "outputs": [
    {
     "data": {
      "text/html": [
       "<pre><span style=\"text-weight: bold; color: green\">suite</span> family_example\n",
       "  <span style=\"text-weight: bold; color: green\">defstatus</span> suspended\n",
       "  <span style=\"text-weight: bold; color: green\">edit</span> ECF_FILES <span style=\"color: red\">'/path/to/scratch/files/family_example'</span>\n",
       "  <span style=\"text-weight: bold; color: green\">edit</span> ECF_HOME <span style=\"color: red\">'/path/to/scratch/out'</span>\n",
       "  <span style=\"text-weight: bold; color: green\">edit</span> ECF_JOB_CMD <span style=\"color: red\">'bash -c '</span>export ECF_PORT=%ECF_PORT%; export ECF_HOST=%ECF_HOST%; export ECF_NAME=%ECF_NAME%; export ECF_PASS=%ECF_PASS%; export ECF_TRYNO=%ECF_TRYNO%; export PATH=/usr/local/apps/ecflow/%ECF_VERSION%/bin:$PATH; ecflow_client --init=<span style=\"color: red\">\"$$\"</span> && %ECF_JOB% && ecflow_client --complete || ecflow_client --abort <span style=\"color: red\">' 1> %ECF_JOBOUT% 2>&1 &'</span>\n",
       "  <span style=\"text-weight: bold; color: green\">edit</span> ECF_KILL_CMD <span style=\"color: red\">'pkill -15 -P %ECF_RID%'</span>\n",
       "  <span style=\"text-weight: bold; color: green\">edit</span> ECF_STATUS_CMD <span style=\"color: red\">'true'</span>\n",
       "  <span style=\"text-weight: bold; color: green\">edit</span> ECF_OUT <span style=\"color: red\">'%ECF_HOME%'</span>\n",
       "  <span style=\"text-weight: bold; color: green\">label</span> exec_host <span style=\"color: red\">\"localhost\"</span>\n",
       "  <span style=\"text-weight: bold; color: green\">family</span> simple\n",
       "    <span style=\"text-weight: bold; color: green\">label</span> example <span style=\"color: red\">\"\"</span>\n",
       "    <span style=\"text-weight: bold; color: green\">task</span> set_labels\n",
       "  <span style=\"text-weight: bold; color: green\">endfamily</span>\n",
       "  <span style=\"text-weight: bold; color: green\">family</span> derived_family\n",
       "    <span style=\"text-weight: bold; color: green\">label</span> total_counters <span style=\"color: red\">\"5\"</span>\n",
       "    <span style=\"text-weight: bold; color: green\">task</span> derived_family_0\n",
       "      <span style=\"text-weight: bold; color: green\">edit</span> HALF <span style=\"color: red\">'0'</span>\n",
       "      <span style=\"text-weight: bold; color: green\">edit</span> LIMIT <span style=\"color: red\">'0'</span>\n",
       "      <span style=\"text-weight: bold; color: green\">label</span> counter_label <span style=\"color: red\">\"count to 0\"</span>\n",
       "    <span style=\"text-weight: bold; color: green\">task</span> derived_family_1\n",
       "      <span style=\"text-weight: bold; color: green\">trigger</span> derived_family_0 <span style=\"text-weight: bold; color: purple\">eq</span> <span style=\"font-style: italic;color: blue\">complete</span>\n",
       "      <span style=\"text-weight: bold; color: green\">edit</span> HALF <span style=\"color: red\">'1'</span>\n",
       "      <span style=\"text-weight: bold; color: green\">edit</span> LIMIT <span style=\"color: red\">'2'</span>\n",
       "      <span style=\"text-weight: bold; color: green\">label</span> counter_label <span style=\"color: red\">\"count to 2\"</span>\n",
       "    <span style=\"text-weight: bold; color: green\">task</span> derived_family_2\n",
       "      <span style=\"text-weight: bold; color: green\">trigger</span> derived_family_1 <span style=\"text-weight: bold; color: purple\">eq</span> <span style=\"font-style: italic;color: blue\">complete</span>\n",
       "      <span style=\"text-weight: bold; color: green\">edit</span> HALF <span style=\"color: red\">'2'</span>\n",
       "      <span style=\"text-weight: bold; color: green\">edit</span> LIMIT <span style=\"color: red\">'4'</span>\n",
       "      <span style=\"text-weight: bold; color: green\">label</span> counter_label <span style=\"color: red\">\"count to 4\"</span>\n",
       "    <span style=\"text-weight: bold; color: green\">task</span> derived_family_3\n",
       "      <span style=\"text-weight: bold; color: green\">trigger</span> derived_family_2 <span style=\"text-weight: bold; color: purple\">eq</span> <span style=\"font-style: italic;color: blue\">complete</span>\n",
       "      <span style=\"text-weight: bold; color: green\">edit</span> HALF <span style=\"color: red\">'3'</span>\n",
       "      <span style=\"text-weight: bold; color: green\">edit</span> LIMIT <span style=\"color: red\">'6'</span>\n",
       "      <span style=\"text-weight: bold; color: green\">label</span> counter_label <span style=\"color: red\">\"count to 6\"</span>\n",
       "    <span style=\"text-weight: bold; color: green\">task</span> derived_family_4\n",
       "      <span style=\"text-weight: bold; color: green\">trigger</span> derived_family_3 <span style=\"text-weight: bold; color: purple\">eq</span> <span style=\"font-style: italic;color: blue\">complete</span>\n",
       "      <span style=\"text-weight: bold; color: green\">edit</span> HALF <span style=\"color: red\">'4'</span>\n",
       "      <span style=\"text-weight: bold; color: green\">edit</span> LIMIT <span style=\"color: red\">'8'</span>\n",
       "      <span style=\"text-weight: bold; color: green\">label</span> counter_label <span style=\"color: red\">\"count to 8\"</span>\n",
       "  <span style=\"text-weight: bold; color: green\">endfamily</span>\n",
       "<span style=\"text-weight: bold; color: green\">endsuite</span>\n",
       "</pre>"
      ],
      "text/plain": [
       "CourseSuite(/family_example)"
      ]
     },
     "execution_count": 2,
     "metadata": {},
     "output_type": "execute_result"
    }
   ],
   "source": [
    "with CourseSuite('family_example') as s:\n",
    "    with pf.Family('simple', labels={'example': ''}) as f:\n",
    "        LabelSetter((f.example, 'example text'))\n",
    "    MyFamily('derived_family', 5)\n",
    "\n",
    "s"
   ]
  },
  {
   "cell_type": "markdown",
   "id": "a19dfa26-17ef-49e3-ae46-4010903c61e4",
   "metadata": {},
   "source": [
    "For more complex functionality containing groups of tasks that require encapsulation we encourage the use of `AnchorFamily`.\n",
    "\n",
    "The `AnchorFamily` class updates the `files` location according to the relative path of the family from the suite (or previous `AnchorFamily`). Within an `AnchorFamily`, all script lookups are relative to this new location, providing isolation and encapsulation.\n",
    "\n",
    "All tasks with the same name _within an `AnchorFamily`_ **must share the same script** located in the `files` location _for that `AnchorFamily`_.\n",
    "\n",
    "As such it is encouraged to:\n",
    "\n",
    "* Use `AnchorFamily` to encapsulate independent units within a suite. Typically these are the subtrees that make sense to deploy as a whole.\n",
    "* Use `Family` to aggregate tasks that could share scripts with each other. This can be within an `AnchorFamily`.\n",
    "\n",
    "The following example shows a suite with identical task names using different scripts, by scoping them with the `AnchorFamily`."
   ]
  },
  {
   "cell_type": "code",
   "execution_count": 3,
   "id": "50698d59-1d43-4063-9663-5cfd74982ae8",
   "metadata": {},
   "outputs": [
    {
     "data": {
      "text/html": [
       "<pre><span style=\"text-weight: bold; color: green\">suite</span> anchor_families\n",
       "  <span style=\"text-weight: bold; color: green\">defstatus</span> suspended\n",
       "  <span style=\"text-weight: bold; color: green\">edit</span> ECF_FILES <span style=\"color: red\">'/path/to/scratch/files'</span>\n",
       "  <span style=\"text-weight: bold; color: green\">edit</span> ECF_HOME <span style=\"color: red\">'/path/to/scratch/out'</span>\n",
       "  <span style=\"text-weight: bold; color: green\">edit</span> ECF_JOB_CMD <span style=\"color: red\">'bash -c '</span>export ECF_PORT=%ECF_PORT%; export ECF_HOST=%ECF_HOST%; export ECF_NAME=%ECF_NAME%; export ECF_PASS=%ECF_PASS%; export ECF_TRYNO=%ECF_TRYNO%; export PATH=/usr/local/apps/ecflow/%ECF_VERSION%/bin:$PATH; ecflow_client --init=<span style=\"color: red\">\"$$\"</span> && %ECF_JOB% && ecflow_client --complete || ecflow_client --abort <span style=\"color: red\">' 1> %ECF_JOBOUT% 2>&1 &'</span>\n",
       "  <span style=\"text-weight: bold; color: green\">edit</span> ECF_KILL_CMD <span style=\"color: red\">'pkill -15 -P %ECF_RID%'</span>\n",
       "  <span style=\"text-weight: bold; color: green\">edit</span> ECF_STATUS_CMD <span style=\"color: red\">'true'</span>\n",
       "  <span style=\"text-weight: bold; color: green\">edit</span> ECF_OUT <span style=\"color: red\">'%ECF_HOME%'</span>\n",
       "  <span style=\"text-weight: bold; color: green\">label</span> exec_host <span style=\"color: red\">\"localhost\"</span>\n",
       "  <span style=\"text-weight: bold; color: green\">family</span> f1\n",
       "    <span style=\"text-weight: bold; color: green\">task</span> test1\n",
       "  <span style=\"text-weight: bold; color: green\">endfamily</span>\n",
       "  <span style=\"text-weight: bold; color: green\">family</span> f2\n",
       "    <span style=\"text-weight: bold; color: green\">task</span> test1\n",
       "  <span style=\"text-weight: bold; color: green\">endfamily</span>\n",
       "  <span style=\"text-weight: bold; color: green\">family</span> f\n",
       "    <span style=\"text-weight: bold; color: green\">edit</span> ECF_FILES <span style=\"color: red\">'/path/to/scratch/files/f'</span>\n",
       "    <span style=\"text-weight: bold; color: green\">edit</span> ECF_INCLUDE <span style=\"color: red\">'/path/to/scratch/files/f'</span>\n",
       "    <span style=\"text-weight: bold; color: green\">family</span> f1\n",
       "      <span style=\"text-weight: bold; color: green\">task</span> test1\n",
       "      <span style=\"text-weight: bold; color: green\">task</span> test2\n",
       "    <span style=\"text-weight: bold; color: green\">endfamily</span>\n",
       "    <span style=\"text-weight: bold; color: green\">family</span> f2\n",
       "      <span style=\"text-weight: bold; color: green\">task</span> test2\n",
       "    <span style=\"text-weight: bold; color: green\">endfamily</span>\n",
       "  <span style=\"text-weight: bold; color: green\">endfamily</span>\n",
       "<span style=\"text-weight: bold; color: green\">endsuite</span>\n",
       "</pre>"
      ],
      "text/plain": [
       "CourseSuite(/anchor_families)"
      ]
     },
     "execution_count": 3,
     "metadata": {},
     "output_type": "execute_result"
    }
   ],
   "source": [
    "with CourseSuite('anchor_families', files=filesdir) as s:\n",
    "    with pf.Family('f1'):\n",
    "        pf.Task('test1')        # Script <files>/test1.ecf\n",
    "    with pf.Family('f2'):\n",
    "        pf.Task('test1')        # Script <files>/test1.ecf\n",
    "    with pf.AnchorFamily('f'):\n",
    "        with pf.Family('f1'):\n",
    "            pf.Task('test1')    # Script <files>/f/test1.ecf\n",
    "            pf.Task('test2')    # Script <files>/f/test2.ecf\n",
    "        with pf.Family('f2'):\n",
    "            pf.Task('test2')    # Script <files>/f/test2.ecf\n",
    "            \n",
    "s"
   ]
  },
  {
   "cell_type": "markdown",
   "id": "aefac644-9147-43dc-883b-98727bfc1821",
   "metadata": {},
   "source": [
    "This supports 2 ways of attaching scripts to identical `Tasks` with different parameters:\n",
    "\n",
    "* Generate one script per task containing the parameters\n",
    "* Use one script that is parameterised by the `Variables` on the `Families` and `Tasks`"
   ]
  }
 ],
 "metadata": {
  "kernelspec": {
   "display_name": "pyflow",
   "language": "python",
   "name": "pyflow"
  },
  "language_info": {
   "codemirror_mode": {
    "name": "ipython",
    "version": 3
   },
   "file_extension": ".py",
   "mimetype": "text/x-python",
   "name": "python",
   "nbconvert_exporter": "python",
   "pygments_lexer": "ipython3",
   "version": "3.9.7"
  }
 },
 "nbformat": 4,
 "nbformat_minor": 5
}
