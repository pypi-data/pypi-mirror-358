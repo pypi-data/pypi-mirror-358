{
 "cells": [
  {
   "cell_type": "markdown",
   "id": "9d1d8e1c-75f8-4241-a136-5762c6e95f27",
   "metadata": {},
   "source": [
    "# Flow Control"
   ]
  },
  {
   "cell_type": "code",
   "execution_count": 1,
   "id": "492156ef-77fe-4ab4-83bc-246264e9ce10",
   "metadata": {
    "jupyter": {
     "source_hidden": true
    },
    "nbsphinx": "hidden",
    "tags": []
   },
   "outputs": [],
   "source": [
    "# Following code is needed to preconfigure this notebook\n",
    "import datetime\n",
    "import sys\n",
    "import os\n",
    "sys.path.insert(0, os.path.abspath('../../..'))\n",
    "\n",
    "import pyflow as pf\n",
    "\n",
    "scratchdir = os.path.join('/', 'path', 'to', 'scratch')\n",
    "filesdir = os.path.join(scratchdir, 'files')\n",
    "outdir = os.path.join(scratchdir, 'out')\n",
    "\n",
    "\n",
    "class CourseSuite(pf.Suite):\n",
    "    \"\"\"\n",
    "    This CourseSuite object will be used throughout the course to provide sensible\n",
    "    defaults without verbosity\n",
    "    \"\"\"\n",
    "    def __init__(self, name, **kwargs):\n",
    "        \n",
    "        config = {\n",
    "            'host': pf.LocalHost(),\n",
    "            'files': os.path.join(filesdir, name),\n",
    "            'home': outdir,\n",
    "            'defstatus': pf.state.suspended\n",
    "        }\n",
    "        config.update(kwargs)\n",
    "        \n",
    "        super().__init__(name, **config)\n",
    "\n",
    "\n",
    "class MyTask(pf.Task):\n",
    "    \n",
    "    \"\"\"Counts to the double of a number, first half using a for loop then a while loop\"\"\"\n",
    "    \n",
    "    def __init__(self, name, default_value=0, **kwargs):\n",
    "        \n",
    "        variables = {\n",
    "            'HALF': default_value,\n",
    "            'LIMIT': 2*default_value,\n",
    "        }\n",
    "        variables.update(**kwargs)\n",
    "        \n",
    "        labels = {\n",
    "            'counter_label': 'count to {}'.format(2*default_value)\n",
    "        }\n",
    "        \n",
    "        script = [\n",
    "            'echo \"This is a counting task named {}\"'.format(name),\n",
    "            'for i in $(seq 1 $HALF); do echo \"count $i/$LIMIT\"; done',\n",
    "            'i=$[$HALF+1]; while [ $i -lt $LIMIT ]; do echo \"count $i/$LIMIT\" ; i=$[$i+1]; done'\n",
    "        ]\n",
    "        \n",
    "        super().__init__(name,\n",
    "                         script=script,\n",
    "                         labels=labels,\n",
    "                         **variables)"
   ]
  },
  {
   "cell_type": "markdown",
   "id": "239f35a3-97e9-4b13-8b0a-dc012e41b882",
   "metadata": {},
   "source": [
    "## Triggers"
   ]
  },
  {
   "cell_type": "raw",
   "id": "352786ca-d5da-46af-83c0-6c72a68f3209",
   "metadata": {
    "raw_mimetype": "text/restructuredtext",
    "tags": []
   },
   "source": [
    "Triggers are used to declare dependencies between two tasks. For instance, the second task might need data created by the first task.\n",
    "\n",
    "When **ecFlow** tries to start a task, it first evaluates the trigger expression. If the condition is correct, the task is started, otherwise, the task stays queued.\n",
    "\n",
    "Triggers can be between tasks, or between families, or a mixture. There are two rules regarding triggers:\n",
    "\n",
    "* A family is complete when all its tasks are complete\n",
    "* A task will be started if its triggers and the triggers of all its parent families evaluate to true\n",
    "\n",
    "A node can only have one trigger expression, but very complex expressions can be built. Keep in mind that the triggers of the parent nodes are also implicit triggers.\n",
    "\n",
    "Sometimes triggers can be used to prevent too many jobs from running at the same time. In this case, the use of a :ref:`limit <limits>` may be a better solution.\n",
    "\n",
    "Triggers can be very complex, and **pyflow** supports all kinds of conditions. In addition, they can also reference node attributes like event, meter, variable, repeat, limits and generated variables."
   ]
  },
  {
   "cell_type": "code",
   "execution_count": 2,
   "id": "845ef713-d9c6-4139-826f-e6de768a1caa",
   "metadata": {},
   "outputs": [
    {
     "data": {
      "text/html": [
       "<pre><span style=\"text-weight: bold; color: green\">suite</span> test\n",
       "  <span style=\"text-weight: bold; color: green\">edit</span> ECF_JOB_CMD <span style=\"color: red\">'bash -c '</span>export ECF_PORT=%ECF_PORT%; export ECF_HOST=%ECF_HOST%; export ECF_NAME=%ECF_NAME%; export ECF_PASS=%ECF_PASS%; export ECF_TRYNO=%ECF_TRYNO%; export PATH=/usr/local/apps/ecflow/%ECF_VERSION%/bin:$PATH; ecflow_client --init=<span style=\"color: red\">\"$$\"</span> && %ECF_JOB% && ecflow_client --complete || ecflow_client --abort <span style=\"color: red\">' 1> %ECF_JOBOUT% 2>&1 &'</span>\n",
       "  <span style=\"text-weight: bold; color: green\">edit</span> ECF_KILL_CMD <span style=\"color: red\">'pkill -15 -P %ECF_RID%'</span>\n",
       "  <span style=\"text-weight: bold; color: green\">edit</span> ECF_STATUS_CMD <span style=\"color: red\">'true'</span>\n",
       "  <span style=\"text-weight: bold; color: green\">edit</span> ECF_OUT <span style=\"color: red\">'%ECF_HOME%'</span>\n",
       "  <span style=\"text-weight: bold; color: green\">label</span> exec_host <span style=\"color: red\">\"default\"</span>\n",
       "  <span style=\"text-weight: bold; color: green\">family</span> f1\n",
       "    <span style=\"text-weight: bold; color: green\">edit</span> SLEEP <span style=\"color: red\">'20'</span>\n",
       "    <span style=\"text-weight: bold; color: green\">task</span> t1\n",
       "    <span style=\"text-weight: bold; color: green\">task</span> t2\n",
       "      <span style=\"text-weight: bold; color: green\">trigger</span> t1 <span style=\"text-weight: bold; color: purple\">eq</span> <span style=\"font-style: italic;color: blue\">complete</span>\n",
       "  <span style=\"text-weight: bold; color: green\">endfamily</span>\n",
       "<span style=\"text-weight: bold; color: green\">endsuite</span>\n",
       "</pre>"
      ],
      "text/plain": [
       "Suite(/test)"
      ]
     },
     "execution_count": 2,
     "metadata": {},
     "output_type": "execute_result"
    }
   ],
   "source": [
    "with pf.Suite('test') as s:\n",
    "    with pf.Family('f1'):\n",
    "        pf.Variable('SLEEP', 20)\n",
    "        t1 = pf.Task('t1')\n",
    "        t2 = pf.Task('t2')\n",
    "        \n",
    "    t1 >> t2\n",
    "\n",
    "s"
   ]
  },
  {
   "cell_type": "markdown",
   "id": "e0415a9c-af5d-4aba-8ea2-a011a6b9ddb1",
   "metadata": {},
   "source": [
    "### Embedded Triggers"
   ]
  },
  {
   "cell_type": "markdown",
   "id": "15f97872-e589-45f6-8b89-2ed55d70aa4e",
   "metadata": {},
   "source": [
    "Trigger expressions can be embedded within the scripts using `--wait` child command. Whilst the expression is *not* true, the job will hold.\n",
    "\n",
    "Where possible you should give preference to triggers on the definitions, since these are checked on creation, whereas embedded triggers are checked at run time."
   ]
  },
  {
   "cell_type": "code",
   "execution_count": 3,
   "id": "44284d7a-5c98-444a-9fe9-564011cdac5b",
   "metadata": {},
   "outputs": [
    {
     "data": {
      "text/html": [
       "<pre><span style=\"text-weight: bold; color: green\">suite</span> test\n",
       "  <span style=\"text-weight: bold; color: green\">edit</span> ECF_FILES <span style=\"color: red\">'/test'</span>\n",
       "  <span style=\"text-weight: bold; color: green\">edit</span> ECF_JOB_CMD <span style=\"color: red\">'bash -c '</span>export ECF_PORT=%ECF_PORT%; export ECF_HOST=%ECF_HOST%; export ECF_NAME=%ECF_NAME%; export ECF_PASS=%ECF_PASS%; export ECF_TRYNO=%ECF_TRYNO%; export PATH=/usr/local/apps/ecflow/%ECF_VERSION%/bin:$PATH; ecflow_client --init=<span style=\"color: red\">\"$$\"</span> && %ECF_JOB% && ecflow_client --complete || ecflow_client --abort <span style=\"color: red\">' 1> %ECF_JOBOUT% 2>&1 &'</span>\n",
       "  <span style=\"text-weight: bold; color: green\">edit</span> ECF_KILL_CMD <span style=\"color: red\">'pkill -15 -P %ECF_RID%'</span>\n",
       "  <span style=\"text-weight: bold; color: green\">edit</span> ECF_STATUS_CMD <span style=\"color: red\">'true'</span>\n",
       "  <span style=\"text-weight: bold; color: green\">edit</span> ECF_OUT <span style=\"color: red\">'%ECF_HOME%'</span>\n",
       "  <span style=\"text-weight: bold; color: green\">label</span> exec_host <span style=\"color: red\">\"localhost\"</span>\n",
       "  <span style=\"text-weight: bold; color: green\">family</span> f1\n",
       "    <span style=\"text-weight: bold; color: green\">edit</span> SLEEP <span style=\"color: red\">'20'</span>\n",
       "    <span style=\"text-weight: bold; color: green\">task</span> t1\n",
       "    <span style=\"text-weight: bold; color: green\">task</span> t2\n",
       "  <span style=\"text-weight: bold; color: green\">endfamily</span>\n",
       "<span style=\"text-weight: bold; color: green\">endsuite</span>\n",
       "</pre>"
      ],
      "text/plain": [
       "Suite(/test)"
      ]
     },
     "execution_count": 3,
     "metadata": {},
     "output_type": "execute_result"
    }
   ],
   "source": [
    "with pf.Suite('test', host=pf.LocalHost(), files='/test') as s:\n",
    "    with pf.Family('f1'):\n",
    "        pf.Variable('SLEEP', 20)\n",
    "        pf.Task('t1')\n",
    "        pf.Task('t2', script='ecflow_client --wait=\"t1 == complete\"')\n",
    "    \n",
    "s"
   ]
  },
  {
   "cell_type": "code",
   "execution_count": 4,
   "id": "6ca97ce7-2179-453e-8079-8de262be4f0c",
   "metadata": {},
   "outputs": [
    {
     "data": {
      "text/html": [
       "<h3>File: /test/t1.ecf</h3><hr><pre><span style=\"font-style: italic;color: blue\">#!/bin/bash</span>\n",
       "\n",
       "<span style=\"text-weight: bold; color: green\">echo</span> \"Running on: $(hostname)\" || true\n",
       "<span style=\"text-weight: bold; color: green\">set</span> -uex\n",
       "\n",
       "\n",
       "<span style=\"text-weight: bold; color: green\">export</span> ECF_PORT=<span style=\"color: red\">%ECF_PORT%</span>    <span style=\"font-style: italic;color: blue\"># The server port number</span>\n",
       "<span style=\"text-weight: bold; color: green\">export</span> ECF_HOST=<span style=\"color: red\">%ECF_HOST%</span>    <span style=\"font-style: italic;color: blue\"># The host name where the server is running</span>\n",
       "<span style=\"text-weight: bold; color: green\">export</span> ECF_NAME=<span style=\"color: red\">%ECF_NAME%</span>    <span style=\"font-style: italic;color: blue\"># The name of this current task</span>\n",
       "<span style=\"text-weight: bold; color: green\">export</span> ECF_PASS=<span style=\"color: red\">%ECF_PASS%</span>    <span style=\"font-style: italic;color: blue\"># A unique password</span>\n",
       "<span style=\"text-weight: bold; color: green\">export</span> ECF_TRYNO=<span style=\"color: red\">%ECF_TRYNO%</span>  <span style=\"font-style: italic;color: blue\"># Current try number of the task</span>\n",
       "\n",
       "<span style=\"text-weight: bold; color: green\">echo</span> \"Current working directory: $(pwd)\"\n",
       "\n",
       "%nopp\n",
       "\n",
       "\n",
       "%end\n",
       "</pre><hr><h3>File: /test/t2.ecf</h3><hr><pre><span style=\"font-style: italic;color: blue\">#!/bin/bash</span>\n",
       "\n",
       "<span style=\"text-weight: bold; color: green\">echo</span> \"Running on: $(hostname)\" || true\n",
       "<span style=\"text-weight: bold; color: green\">set</span> -uex\n",
       "\n",
       "\n",
       "<span style=\"text-weight: bold; color: green\">export</span> ECF_PORT=<span style=\"color: red\">%ECF_PORT%</span>    <span style=\"font-style: italic;color: blue\"># The server port number</span>\n",
       "<span style=\"text-weight: bold; color: green\">export</span> ECF_HOST=<span style=\"color: red\">%ECF_HOST%</span>    <span style=\"font-style: italic;color: blue\"># The host name where the server is running</span>\n",
       "<span style=\"text-weight: bold; color: green\">export</span> ECF_NAME=<span style=\"color: red\">%ECF_NAME%</span>    <span style=\"font-style: italic;color: blue\"># The name of this current task</span>\n",
       "<span style=\"text-weight: bold; color: green\">export</span> ECF_PASS=<span style=\"color: red\">%ECF_PASS%</span>    <span style=\"font-style: italic;color: blue\"># A unique password</span>\n",
       "<span style=\"text-weight: bold; color: green\">export</span> ECF_TRYNO=<span style=\"color: red\">%ECF_TRYNO%</span>  <span style=\"font-style: italic;color: blue\"># Current try number of the task</span>\n",
       "\n",
       "<span style=\"text-weight: bold; color: green\">echo</span> \"Current working directory: $(pwd)\"\n",
       "\n",
       "%nopp\n",
       "\n",
       "ecflow_client --<span style=\"text-weight: bold; color: green\">wait</span>=\"t1 == complete\"\n",
       "\n",
       "%end\n",
       "</pre><hr>"
      ],
      "text/plain": [
       "<pyflow.files.Notebook at 0x7f7d186a2a30>"
      ]
     },
     "execution_count": 4,
     "metadata": {},
     "output_type": "execute_result"
    }
   ],
   "source": [
    "s.deploy_suite(target=pf.Notebook)"
   ]
  },
  {
   "cell_type": "markdown",
   "id": "70ff7928-f715-491f-8b9f-e30df556ac0f",
   "metadata": {},
   "source": [
    "## Events"
   ]
  },
  {
   "cell_type": "markdown",
   "id": "6cee970b-b28d-4391-bdf2-e4c5e3b1ca14",
   "metadata": {},
   "source": [
    "Sometimes waiting for the completion of a task is not good enough. If a task is producing several results, another task may start as soon as the first results are ready. For that, **pyflow** introduces the concept of events. An event is a message that a task will report to **ecFlow** server while it is running.\n",
    "\n",
    "Events have names and a task can set several of them."
   ]
  },
  {
   "cell_type": "code",
   "execution_count": 5,
   "id": "f6dfbb9a-3e79-4557-832c-3acdecf9ab60",
   "metadata": {},
   "outputs": [
    {
     "data": {
      "text/html": [
       "<pre><span style=\"text-weight: bold; color: green\">suite</span> test\n",
       "  <span style=\"text-weight: bold; color: green\">edit</span> ECF_FILES <span style=\"color: red\">'/test'</span>\n",
       "  <span style=\"text-weight: bold; color: green\">edit</span> ECF_JOB_CMD <span style=\"color: red\">'bash -c '</span>export ECF_PORT=%ECF_PORT%; export ECF_HOST=%ECF_HOST%; export ECF_NAME=%ECF_NAME%; export ECF_PASS=%ECF_PASS%; export ECF_TRYNO=%ECF_TRYNO%; export PATH=/usr/local/apps/ecflow/%ECF_VERSION%/bin:$PATH; ecflow_client --init=<span style=\"color: red\">\"$$\"</span> && %ECF_JOB% && ecflow_client --complete || ecflow_client --abort <span style=\"color: red\">' 1> %ECF_JOBOUT% 2>&1 &'</span>\n",
       "  <span style=\"text-weight: bold; color: green\">edit</span> ECF_KILL_CMD <span style=\"color: red\">'pkill -15 -P %ECF_RID%'</span>\n",
       "  <span style=\"text-weight: bold; color: green\">edit</span> ECF_STATUS_CMD <span style=\"color: red\">'true'</span>\n",
       "  <span style=\"text-weight: bold; color: green\">edit</span> ECF_OUT <span style=\"color: red\">'%ECF_HOME%'</span>\n",
       "  <span style=\"text-weight: bold; color: green\">label</span> exec_host <span style=\"color: red\">\"localhost\"</span>\n",
       "  <span style=\"text-weight: bold; color: green\">family</span> f1\n",
       "    <span style=\"text-weight: bold; color: green\">edit</span> SLEEP <span style=\"color: red\">'20'</span>\n",
       "    <span style=\"text-weight: bold; color: green\">task</span> t1\n",
       "    <span style=\"text-weight: bold; color: green\">task</span> t2\n",
       "      <span style=\"text-weight: bold; color: green\">trigger</span> t1 <span style=\"text-weight: bold; color: purple\">eq</span> <span style=\"font-style: italic;color: blue\">complete</span>\n",
       "      <span style=\"text-weight: bold; color: green\">event</span> a\n",
       "      <span style=\"text-weight: bold; color: green\">event</span> b\n",
       "    <span style=\"text-weight: bold; color: green\">task</span> t3\n",
       "      <span style=\"text-weight: bold; color: green\">trigger</span> t2:a\n",
       "    <span style=\"text-weight: bold; color: green\">task</span> t4\n",
       "      <span style=\"text-weight: bold; color: green\">trigger</span> t2:b\n",
       "  <span style=\"text-weight: bold; color: green\">endfamily</span>\n",
       "<span style=\"text-weight: bold; color: green\">endsuite</span>\n",
       "</pre>"
      ],
      "text/plain": [
       "Suite(/test)"
      ]
     },
     "execution_count": 5,
     "metadata": {},
     "output_type": "execute_result"
    }
   ],
   "source": [
    "with pf.Suite('test', host=pf.LocalHost(), files='/test') as s:\n",
    "    with pf.Family('f1'):\n",
    "        pf.Variable('SLEEP', 20)\n",
    "        t1 = pf.Task('t1')\n",
    "        with pf.Task('t2', script=[\n",
    "            'echo \"I will now sleep for %SLEEP% seconds\"',\n",
    "            'sleep %SLEEP%',\n",
    "            'ecflow_client --event=a    # Set the first event',\n",
    "            'sleep %SLEEP%              # Sleep a bit more',\n",
    "            'ecflow_client --event=b    # Set the second event',\n",
    "            'sleep %SLEEP%              # A last nap...',\n",
    "        ]) as t2:\n",
    "            pf.Event('a')\n",
    "            pf.Event('b')\n",
    "        t3 = pf.Task('t3')\n",
    "        t4 = pf.Task('t4')\n",
    "\n",
    "    t2.triggers = t1\n",
    "    t3.triggers = t2.a\n",
    "    t4.triggers = t2.b\n",
    "\n",
    "s"
   ]
  },
  {
   "cell_type": "code",
   "execution_count": 6,
   "id": "bad75116-a7b4-4a65-b984-b624da255c1c",
   "metadata": {},
   "outputs": [
    {
     "data": {
      "text/html": [
       "<h3>File: /test/t1.ecf</h3><hr><pre><span style=\"font-style: italic;color: blue\">#!/bin/bash</span>\n",
       "\n",
       "<span style=\"text-weight: bold; color: green\">echo</span> \"Running on: $(hostname)\" || true\n",
       "<span style=\"text-weight: bold; color: green\">set</span> -uex\n",
       "\n",
       "\n",
       "<span style=\"text-weight: bold; color: green\">export</span> ECF_PORT=<span style=\"color: red\">%ECF_PORT%</span>    <span style=\"font-style: italic;color: blue\"># The server port number</span>\n",
       "<span style=\"text-weight: bold; color: green\">export</span> ECF_HOST=<span style=\"color: red\">%ECF_HOST%</span>    <span style=\"font-style: italic;color: blue\"># The host name where the server is running</span>\n",
       "<span style=\"text-weight: bold; color: green\">export</span> ECF_NAME=<span style=\"color: red\">%ECF_NAME%</span>    <span style=\"font-style: italic;color: blue\"># The name of this current task</span>\n",
       "<span style=\"text-weight: bold; color: green\">export</span> ECF_PASS=<span style=\"color: red\">%ECF_PASS%</span>    <span style=\"font-style: italic;color: blue\"># A unique password</span>\n",
       "<span style=\"text-weight: bold; color: green\">export</span> ECF_TRYNO=<span style=\"color: red\">%ECF_TRYNO%</span>  <span style=\"font-style: italic;color: blue\"># Current try number of the task</span>\n",
       "\n",
       "<span style=\"text-weight: bold; color: green\">echo</span> \"Current working directory: $(pwd)\"\n",
       "\n",
       "%nopp\n",
       "\n",
       "\n",
       "%end\n",
       "</pre><hr><h3>File: /test/t2.ecf</h3><hr><pre><span style=\"font-style: italic;color: blue\">#!/bin/bash</span>\n",
       "\n",
       "<span style=\"text-weight: bold; color: green\">echo</span> \"Running on: $(hostname)\" || true\n",
       "<span style=\"text-weight: bold; color: green\">set</span> -uex\n",
       "\n",
       "\n",
       "<span style=\"text-weight: bold; color: green\">export</span> ECF_PORT=<span style=\"color: red\">%ECF_PORT%</span>    <span style=\"font-style: italic;color: blue\"># The server port number</span>\n",
       "<span style=\"text-weight: bold; color: green\">export</span> ECF_HOST=<span style=\"color: red\">%ECF_HOST%</span>    <span style=\"font-style: italic;color: blue\"># The host name where the server is running</span>\n",
       "<span style=\"text-weight: bold; color: green\">export</span> ECF_NAME=<span style=\"color: red\">%ECF_NAME%</span>    <span style=\"font-style: italic;color: blue\"># The name of this current task</span>\n",
       "<span style=\"text-weight: bold; color: green\">export</span> ECF_PASS=<span style=\"color: red\">%ECF_PASS%</span>    <span style=\"font-style: italic;color: blue\"># A unique password</span>\n",
       "<span style=\"text-weight: bold; color: green\">export</span> ECF_TRYNO=<span style=\"color: red\">%ECF_TRYNO%</span>  <span style=\"font-style: italic;color: blue\"># Current try number of the task</span>\n",
       "\n",
       "<span style=\"text-weight: bold; color: green\">echo</span> \"Current working directory: $(pwd)\"\n",
       "\n",
       "%nopp\n",
       "\n",
       "<span style=\"text-weight: bold; color: green\">echo</span> \"I will now sleep for <span style=\"color: red\">%SLEEP%</span> seconds\"\n",
       "sleep <span style=\"color: red\">%SLEEP%</span>\n",
       "ecflow_client --event=a    <span style=\"font-style: italic;color: blue\"># Set the first event</span>\n",
       "sleep <span style=\"color: red\">%SLEEP%</span>              <span style=\"font-style: italic;color: blue\"># Sleep a bit more</span>\n",
       "ecflow_client --event=b    <span style=\"font-style: italic;color: blue\"># Set the second event</span>\n",
       "sleep <span style=\"color: red\">%SLEEP%</span>              <span style=\"font-style: italic;color: blue\"># A last nap...</span>\n",
       "\n",
       "%end\n",
       "</pre><hr><h3>File: /test/t3.ecf</h3><hr><pre><span style=\"font-style: italic;color: blue\">#!/bin/bash</span>\n",
       "\n",
       "<span style=\"text-weight: bold; color: green\">echo</span> \"Running on: $(hostname)\" || true\n",
       "<span style=\"text-weight: bold; color: green\">set</span> -uex\n",
       "\n",
       "\n",
       "<span style=\"text-weight: bold; color: green\">export</span> ECF_PORT=<span style=\"color: red\">%ECF_PORT%</span>    <span style=\"font-style: italic;color: blue\"># The server port number</span>\n",
       "<span style=\"text-weight: bold; color: green\">export</span> ECF_HOST=<span style=\"color: red\">%ECF_HOST%</span>    <span style=\"font-style: italic;color: blue\"># The host name where the server is running</span>\n",
       "<span style=\"text-weight: bold; color: green\">export</span> ECF_NAME=<span style=\"color: red\">%ECF_NAME%</span>    <span style=\"font-style: italic;color: blue\"># The name of this current task</span>\n",
       "<span style=\"text-weight: bold; color: green\">export</span> ECF_PASS=<span style=\"color: red\">%ECF_PASS%</span>    <span style=\"font-style: italic;color: blue\"># A unique password</span>\n",
       "<span style=\"text-weight: bold; color: green\">export</span> ECF_TRYNO=<span style=\"color: red\">%ECF_TRYNO%</span>  <span style=\"font-style: italic;color: blue\"># Current try number of the task</span>\n",
       "\n",
       "<span style=\"text-weight: bold; color: green\">echo</span> \"Current working directory: $(pwd)\"\n",
       "\n",
       "%nopp\n",
       "\n",
       "\n",
       "%end\n",
       "</pre><hr><h3>File: /test/t4.ecf</h3><hr><pre><span style=\"font-style: italic;color: blue\">#!/bin/bash</span>\n",
       "\n",
       "<span style=\"text-weight: bold; color: green\">echo</span> \"Running on: $(hostname)\" || true\n",
       "<span style=\"text-weight: bold; color: green\">set</span> -uex\n",
       "\n",
       "\n",
       "<span style=\"text-weight: bold; color: green\">export</span> ECF_PORT=<span style=\"color: red\">%ECF_PORT%</span>    <span style=\"font-style: italic;color: blue\"># The server port number</span>\n",
       "<span style=\"text-weight: bold; color: green\">export</span> ECF_HOST=<span style=\"color: red\">%ECF_HOST%</span>    <span style=\"font-style: italic;color: blue\"># The host name where the server is running</span>\n",
       "<span style=\"text-weight: bold; color: green\">export</span> ECF_NAME=<span style=\"color: red\">%ECF_NAME%</span>    <span style=\"font-style: italic;color: blue\"># The name of this current task</span>\n",
       "<span style=\"text-weight: bold; color: green\">export</span> ECF_PASS=<span style=\"color: red\">%ECF_PASS%</span>    <span style=\"font-style: italic;color: blue\"># A unique password</span>\n",
       "<span style=\"text-weight: bold; color: green\">export</span> ECF_TRYNO=<span style=\"color: red\">%ECF_TRYNO%</span>  <span style=\"font-style: italic;color: blue\"># Current try number of the task</span>\n",
       "\n",
       "<span style=\"text-weight: bold; color: green\">echo</span> \"Current working directory: $(pwd)\"\n",
       "\n",
       "%nopp\n",
       "\n",
       "\n",
       "%end\n",
       "</pre><hr>"
      ],
      "text/plain": [
       "<pyflow.files.Notebook at 0x7f7d097497f0>"
      ]
     },
     "execution_count": 6,
     "metadata": {},
     "output_type": "execute_result"
    }
   ],
   "source": [
    "s.deploy_suite(target=pf.Notebook)"
   ]
  },
  {
   "cell_type": "markdown",
   "id": "e7024509-797a-4733-83e9-2bfac0e370da",
   "metadata": {},
   "source": [
    "## Complete"
   ]
  },
  {
   "cell_type": "markdown",
   "id": "1c74c9bf-d6c5-4a5e-a1a0-5fb487d42018",
   "metadata": {},
   "source": [
    "Sometimes a task should not be run when a certain condition is met. The condition can be signalled by an event. For example, event `t2.b` might indicate that task `t2` did not manage to produce the expected result, so we do not need to run task `t4`.\n",
    "\n",
    "In this case, you can use the complete attribute. This has a similar usage to the trigger attribute but sets a task complete rather than running it.\n",
    "\n",
    "When **ecFlow** server tries to start a task, it evaluates the trigger and complete expressions. If the complete expression condition is true, the task will set itself complete."
   ]
  },
  {
   "cell_type": "raw",
   "id": "346db03f-5184-4778-97b4-8d42f48b4c3d",
   "metadata": {
    "raw_mimetype": "text/restructuredtext",
    "tags": []
   },
   "source": [
    ".. note::\n",
    "\n",
    "   Complete expression evaluation takes precedence over the trigger."
   ]
  },
  {
   "cell_type": "markdown",
   "id": "eeacb2cc-9fbd-46f5-b3c7-145d416736ea",
   "metadata": {},
   "source": [
    "Completes can be between tasks, between families, or both. It can be used in conjunction with a trigger."
   ]
  },
  {
   "cell_type": "code",
   "execution_count": 7,
   "id": "51f14bb7-ce26-4c6a-8070-05c9164156e2",
   "metadata": {},
   "outputs": [
    {
     "data": {
      "text/html": [
       "<pre><span style=\"text-weight: bold; color: green\">suite</span> test\n",
       "  <span style=\"text-weight: bold; color: green\">edit</span> ECF_FILES <span style=\"color: red\">'/test'</span>\n",
       "  <span style=\"text-weight: bold; color: green\">edit</span> ECF_JOB_CMD <span style=\"color: red\">'bash -c '</span>export ECF_PORT=%ECF_PORT%; export ECF_HOST=%ECF_HOST%; export ECF_NAME=%ECF_NAME%; export ECF_PASS=%ECF_PASS%; export ECF_TRYNO=%ECF_TRYNO%; export PATH=/usr/local/apps/ecflow/%ECF_VERSION%/bin:$PATH; ecflow_client --init=<span style=\"color: red\">\"$$\"</span> && %ECF_JOB% && ecflow_client --complete || ecflow_client --abort <span style=\"color: red\">' 1> %ECF_JOBOUT% 2>&1 &'</span>\n",
       "  <span style=\"text-weight: bold; color: green\">edit</span> ECF_KILL_CMD <span style=\"color: red\">'pkill -15 -P %ECF_RID%'</span>\n",
       "  <span style=\"text-weight: bold; color: green\">edit</span> ECF_STATUS_CMD <span style=\"color: red\">'true'</span>\n",
       "  <span style=\"text-weight: bold; color: green\">edit</span> ECF_OUT <span style=\"color: red\">'%ECF_HOME%'</span>\n",
       "  <span style=\"text-weight: bold; color: green\">label</span> exec_host <span style=\"color: red\">\"localhost\"</span>\n",
       "  <span style=\"text-weight: bold; color: green\">family</span> f1\n",
       "    <span style=\"text-weight: bold; color: green\">edit</span> SLEEP <span style=\"color: red\">'20'</span>\n",
       "    <span style=\"text-weight: bold; color: green\">task</span> t1\n",
       "    <span style=\"text-weight: bold; color: green\">task</span> t2\n",
       "      <span style=\"text-weight: bold; color: green\">trigger</span> t1 <span style=\"text-weight: bold; color: purple\">eq</span> <span style=\"font-style: italic;color: blue\">complete</span>\n",
       "      <span style=\"text-weight: bold; color: green\">event</span> a\n",
       "      <span style=\"text-weight: bold; color: green\">event</span> b\n",
       "    <span style=\"text-weight: bold; color: green\">task</span> t3\n",
       "      <span style=\"text-weight: bold; color: green\">trigger</span> t2:a\n",
       "    <span style=\"text-weight: bold; color: green\">task</span> t4\n",
       "      <span style=\"text-weight: bold; color: green\">complete</span> t2:b\n",
       "      <span style=\"text-weight: bold; color: green\">trigger</span> t2 <span style=\"text-weight: bold; color: purple\">eq</span> <span style=\"font-style: italic;color: blue\">complete</span>\n",
       "  <span style=\"text-weight: bold; color: green\">endfamily</span>\n",
       "<span style=\"text-weight: bold; color: green\">endsuite</span>\n",
       "</pre>"
      ],
      "text/plain": [
       "Suite(/test)"
      ]
     },
     "execution_count": 7,
     "metadata": {},
     "output_type": "execute_result"
    }
   ],
   "source": [
    "with pf.Suite('test', host=pf.LocalHost(), files='/test') as s:\n",
    "    with pf.Family('f1'):\n",
    "        pf.Variable('SLEEP', 20)\n",
    "        t1 = pf.Task('t1')\n",
    "        with pf.Task('t2', script=[\n",
    "            'echo \"I will now sleep for %SLEEP% seconds\"',\n",
    "            'sleep %SLEEP%',\n",
    "            'ecflow_client --event=a    # Set the first event',\n",
    "            'sleep %SLEEP%              # Sleep a bit more',\n",
    "            'ecflow_client --event=b    # Set the second event',\n",
    "            'sleep %SLEEP%              # A last nap...',\n",
    "        ]) as t2:\n",
    "            pf.Event('a')\n",
    "            pf.Event('b')\n",
    "        t3 = pf.Task('t3')\n",
    "        t4 = pf.Task('t4')\n",
    "\n",
    "    t2.triggers = t1\n",
    "    t3.triggers = t2.a\n",
    "    t4.completes = t2.b\n",
    "    t4.triggers = t2\n",
    "\n",
    "s"
   ]
  },
  {
   "cell_type": "markdown",
   "id": "d4c3ff8e-71b4-4d67-80e2-0509774b48b2",
   "metadata": {},
   "source": [
    "## Expressions in Triggers and Completes"
   ]
  },
  {
   "cell_type": "markdown",
   "id": "6a358d65-5dfc-4119-8923-f016e6d82b0b",
   "metadata": {},
   "source": [
    "**ecFlow** has a rich languge and (associated behaviour) for expressions that trigger dependencies and conditional behaviour in suites. These expressions are ultimately strings that are parsed by the **ecFlow** server and evaluated to control the suite.\n",
    "\n",
    "Within **pyflow**, all of the components that make up **ecFlow** expressions are already present as objects in the script. This means we can generate type-safe, validated expressions by using the existing objects directly. These can then be assigned to the `triggers` or `completes` attributes of any appropriate node.\n",
    "\n",
    "Trigger expressions should follow the natural arithmetic expressing the problem."
   ]
  },
  {
   "cell_type": "code",
   "execution_count": 8,
   "id": "fcd58da1-91f5-4b8e-83ac-c54d05a5f0a1",
   "metadata": {},
   "outputs": [
    {
     "data": {
      "text/html": [
       "<pre><span style=\"text-weight: bold; color: green\">suite</span> s\n",
       "  <span style=\"text-weight: bold; color: green\">edit</span> ECF_JOB_CMD <span style=\"color: red\">'bash -c '</span>export ECF_PORT=%ECF_PORT%; export ECF_HOST=%ECF_HOST%; export ECF_NAME=%ECF_NAME%; export ECF_PASS=%ECF_PASS%; export ECF_TRYNO=%ECF_TRYNO%; export PATH=/usr/local/apps/ecflow/%ECF_VERSION%/bin:$PATH; ecflow_client --init=<span style=\"color: red\">\"$$\"</span> && %ECF_JOB% && ecflow_client --complete || ecflow_client --abort <span style=\"color: red\">' 1> %ECF_JOBOUT% 2>&1 &'</span>\n",
       "  <span style=\"text-weight: bold; color: green\">edit</span> ECF_KILL_CMD <span style=\"color: red\">'pkill -15 -P %ECF_RID%'</span>\n",
       "  <span style=\"text-weight: bold; color: green\">edit</span> ECF_STATUS_CMD <span style=\"color: red\">'true'</span>\n",
       "  <span style=\"text-weight: bold; color: green\">edit</span> ECF_OUT <span style=\"color: red\">'%ECF_HOME%'</span>\n",
       "  <span style=\"text-weight: bold; color: green\">label</span> exec_host <span style=\"color: red\">\"default\"</span>\n",
       "  <span style=\"text-weight: bold; color: green\">family</span> repeat1\n",
       "    <span style=\"text-weight: bold; color: green\">repeat date</span> YMD 20190101 20191231 1\n",
       "  <span style=\"text-weight: bold; color: green\">endfamily</span>\n",
       "  <span style=\"text-weight: bold; color: green\">family</span> repeat2\n",
       "    <span style=\"text-weight: bold; color: green\">trigger</span> (repeat1 <span style=\"text-weight: bold; color: purple\">eq</span> <span style=\"font-style: italic;color: blue\">complete</span>) <span style=\"text-weight: bold; color: purple\">eq</span> <span style=\"font-style: italic;color: blue\">complete</span> <span style=\"text-weight: bold; color: purple\">or</span> repeat1:YMD <span style=\"text-weight: bold; color: purple\">gt</span> repeat2:YMD\n",
       "    <span style=\"text-weight: bold; color: green\">repeat date</span> YMD 20190101 20191231 1\n",
       "  <span style=\"text-weight: bold; color: green\">endfamily</span>\n",
       "  <span style=\"text-weight: bold; color: green\">task</span> t3\n",
       "    <span style=\"text-weight: bold; color: green\">complete</span> repeat2:YMD <span style=\"text-weight: bold; color: purple\">gt</span> 20190616\n",
       "<span style=\"text-weight: bold; color: green\">endsuite</span>\n",
       "</pre>"
      ],
      "text/plain": [
       "Suite(/s)"
      ]
     },
     "execution_count": 8,
     "metadata": {},
     "output_type": "execute_result"
    }
   ],
   "source": [
    "with pf.Suite('s') as s:\n",
    "    \n",
    "    with pf.Family('repeat1') as repeat1:\n",
    "        pf.RepeatDate('YMD', datetime.date(2019, 1, 1), datetime.date(2019, 12, 31))\n",
    "        \n",
    "    with pf.Family('repeat2') as repeat2:\n",
    "        pf.RepeatDate('YMD', datetime.date(2019, 1, 1), datetime.date(2019, 12, 31))\n",
    "        \n",
    "    repeat2.triggers = (repeat1 == pf.state.complete) | (repeat1.YMD > repeat2.YMD)\n",
    "        \n",
    "    pf.Task('t3').completes = (repeat2.YMD > '20190616')\n",
    "    \n",
    "s"
   ]
  },
  {
   "cell_type": "markdown",
   "id": "55d1f590-8301-42b5-b557-1162760f1bd8",
   "metadata": {},
   "source": [
    "### Shortcut properties"
   ]
  },
  {
   "cell_type": "markdown",
   "id": "51dec088-1e69-4dfb-8f9a-42ede52d0130",
   "metadata": {},
   "source": [
    "A number of shortcut properties exist to construct standard expression components. The following sets of examples are equivalent."
   ]
  },
  {
   "cell_type": "code",
   "execution_count": 9,
   "id": "259d8c3d-d3e8-4476-b1e7-0d94f74b138b",
   "metadata": {},
   "outputs": [],
   "source": [
    "t = MyTask('a_task')\n",
    "exprn = (t == pf.state.aborted)\n",
    "exprn = (t == pf.state.complete)\n",
    "exprn = (t == pf.state.unknown)\n",
    "exprn = (t == pf.state.queued)\n",
    "exprn = (t == pf.state.submitted)\n",
    "exprn = (t == pf.state.active)\n",
    "\n",
    "t = MyTask('a_task')\n",
    "exprn = t.aborted\n",
    "exprn = t.complete\n",
    "exprn = t.unknown\n",
    "exprn = t.queued\n",
    "exprn = t.submitted\n",
    "exprn = t.active"
   ]
  },
  {
   "cell_type": "markdown",
   "id": "a3aa4b05-8344-49a5-840b-6e40b848b434",
   "metadata": {},
   "source": [
    "### Combined Expressions"
   ]
  },
  {
   "cell_type": "markdown",
   "id": "b2021b5d-ab15-475f-bb8f-bfcc36a8d469",
   "metadata": {},
   "source": [
    "Expressions can be combined with logical operators, both unary and binary."
   ]
  },
  {
   "cell_type": "code",
   "execution_count": 10,
   "id": "1320a048-bda8-40e9-9c50-8a4513e83f2f",
   "metadata": {},
   "outputs": [
    {
     "data": {
      "text/html": [
       "<pre><span style=\"text-weight: bold; color: green\">suite</span> s\n",
       "  <span style=\"text-weight: bold; color: green\">edit</span> ECF_JOB_CMD <span style=\"color: red\">'bash -c '</span>export ECF_PORT=%ECF_PORT%; export ECF_HOST=%ECF_HOST%; export ECF_NAME=%ECF_NAME%; export ECF_PASS=%ECF_PASS%; export ECF_TRYNO=%ECF_TRYNO%; export PATH=/usr/local/apps/ecflow/%ECF_VERSION%/bin:$PATH; ecflow_client --init=<span style=\"color: red\">\"$$\"</span> && %ECF_JOB% && ecflow_client --complete || ecflow_client --abort <span style=\"color: red\">' 1> %ECF_JOBOUT% 2>&1 &'</span>\n",
       "  <span style=\"text-weight: bold; color: green\">edit</span> ECF_KILL_CMD <span style=\"color: red\">'pkill -15 -P %ECF_RID%'</span>\n",
       "  <span style=\"text-weight: bold; color: green\">edit</span> ECF_STATUS_CMD <span style=\"color: red\">'true'</span>\n",
       "  <span style=\"text-weight: bold; color: green\">edit</span> ECF_OUT <span style=\"color: red\">'%ECF_HOME%'</span>\n",
       "  <span style=\"text-weight: bold; color: green\">label</span> exec_host <span style=\"color: red\">\"default\"</span>\n",
       "  <span style=\"text-weight: bold; color: green\">task</span> t1\n",
       "    <span style=\"text-weight: bold; color: green\">trigger</span> t2 <span style=\"text-weight: bold; color: purple\">eq</span> <span style=\"font-style: italic;color: blue\">complete</span> <span style=\"text-weight: bold; color: purple\">and</span> t3 <span style=\"text-weight: bold; color: purple\">eq</span> <span style=\"font-style: italic;color: blue\">aborted</span>\n",
       "    <span style=\"text-weight: bold; color: green\">edit</span> HALF <span style=\"color: red\">'0'</span>\n",
       "    <span style=\"text-weight: bold; color: green\">edit</span> LIMIT <span style=\"color: red\">'0'</span>\n",
       "    <span style=\"text-weight: bold; color: green\">label</span> counter_label <span style=\"color: red\">\"count to 0\"</span>\n",
       "  <span style=\"text-weight: bold; color: green\">task</span> t2\n",
       "    <span style=\"text-weight: bold; color: green\">edit</span> HALF <span style=\"color: red\">'0'</span>\n",
       "    <span style=\"text-weight: bold; color: green\">edit</span> LIMIT <span style=\"color: red\">'0'</span>\n",
       "    <span style=\"text-weight: bold; color: green\">label</span> counter_label <span style=\"color: red\">\"count to 0\"</span>\n",
       "  <span style=\"text-weight: bold; color: green\">task</span> t3\n",
       "    <span style=\"text-weight: bold; color: green\">edit</span> HALF <span style=\"color: red\">'0'</span>\n",
       "    <span style=\"text-weight: bold; color: green\">edit</span> LIMIT <span style=\"color: red\">'0'</span>\n",
       "    <span style=\"text-weight: bold; color: green\">label</span> counter_label <span style=\"color: red\">\"count to 0\"</span>\n",
       "<span style=\"text-weight: bold; color: green\">endsuite</span>\n",
       "</pre>"
      ],
      "text/plain": [
       "Suite(/s)"
      ]
     },
     "execution_count": 10,
     "metadata": {},
     "output_type": "execute_result"
    }
   ],
   "source": [
    "with pf.Suite('s') as s:\n",
    "    t1 = MyTask('t1')\n",
    "    t2 = MyTask('t2')\n",
    "    t3 = MyTask('t3')\n",
    "    \n",
    "    t1.triggers = t2.complete & t3.aborted\n",
    "    \n",
    "s"
   ]
  },
  {
   "cell_type": "code",
   "execution_count": 11,
   "id": "9505af12-949b-49f9-8462-63e812119359",
   "metadata": {},
   "outputs": [
    {
     "data": {
      "text/html": [
       "<pre><span style=\"text-weight: bold; color: green\">suite</span> s\n",
       "  <span style=\"text-weight: bold; color: green\">edit</span> ECF_JOB_CMD <span style=\"color: red\">'bash -c '</span>export ECF_PORT=%ECF_PORT%; export ECF_HOST=%ECF_HOST%; export ECF_NAME=%ECF_NAME%; export ECF_PASS=%ECF_PASS%; export ECF_TRYNO=%ECF_TRYNO%; export PATH=/usr/local/apps/ecflow/%ECF_VERSION%/bin:$PATH; ecflow_client --init=<span style=\"color: red\">\"$$\"</span> && %ECF_JOB% && ecflow_client --complete || ecflow_client --abort <span style=\"color: red\">' 1> %ECF_JOBOUT% 2>&1 &'</span>\n",
       "  <span style=\"text-weight: bold; color: green\">edit</span> ECF_KILL_CMD <span style=\"color: red\">'pkill -15 -P %ECF_RID%'</span>\n",
       "  <span style=\"text-weight: bold; color: green\">edit</span> ECF_STATUS_CMD <span style=\"color: red\">'true'</span>\n",
       "  <span style=\"text-weight: bold; color: green\">edit</span> ECF_OUT <span style=\"color: red\">'%ECF_HOME%'</span>\n",
       "  <span style=\"text-weight: bold; color: green\">label</span> exec_host <span style=\"color: red\">\"default\"</span>\n",
       "  <span style=\"text-weight: bold; color: green\">task</span> t1\n",
       "    <span style=\"text-weight: bold; color: green\">trigger</span> t2 <span style=\"text-weight: bold; color: purple\">eq</span> <span style=\"font-style: italic;color: blue\">complete</span> <span style=\"text-weight: bold; color: purple\">or</span> t3 <span style=\"text-weight: bold; color: purple\">eq</span> <span style=\"font-style: italic;color: blue\">aborted</span>\n",
       "    <span style=\"text-weight: bold; color: green\">edit</span> HALF <span style=\"color: red\">'0'</span>\n",
       "    <span style=\"text-weight: bold; color: green\">edit</span> LIMIT <span style=\"color: red\">'0'</span>\n",
       "    <span style=\"text-weight: bold; color: green\">label</span> counter_label <span style=\"color: red\">\"count to 0\"</span>\n",
       "  <span style=\"text-weight: bold; color: green\">task</span> t2\n",
       "    <span style=\"text-weight: bold; color: green\">edit</span> HALF <span style=\"color: red\">'0'</span>\n",
       "    <span style=\"text-weight: bold; color: green\">edit</span> LIMIT <span style=\"color: red\">'0'</span>\n",
       "    <span style=\"text-weight: bold; color: green\">label</span> counter_label <span style=\"color: red\">\"count to 0\"</span>\n",
       "  <span style=\"text-weight: bold; color: green\">task</span> t3\n",
       "    <span style=\"text-weight: bold; color: green\">edit</span> HALF <span style=\"color: red\">'0'</span>\n",
       "    <span style=\"text-weight: bold; color: green\">edit</span> LIMIT <span style=\"color: red\">'0'</span>\n",
       "    <span style=\"text-weight: bold; color: green\">label</span> counter_label <span style=\"color: red\">\"count to 0\"</span>\n",
       "<span style=\"text-weight: bold; color: green\">endsuite</span>\n",
       "</pre>"
      ],
      "text/plain": [
       "Suite(/s)"
      ]
     },
     "execution_count": 11,
     "metadata": {},
     "output_type": "execute_result"
    }
   ],
   "source": [
    "with pf.Suite('s') as s:\n",
    "    t1 = MyTask('t1')\n",
    "    t2 = MyTask('t2')\n",
    "    t3 = MyTask('t3')\n",
    "    \n",
    "    t1.triggers = t2.complete\n",
    "    t1.triggers |= t3.aborted\n",
    "    \n",
    "s"
   ]
  },
  {
   "cell_type": "markdown",
   "id": "93c4d38c-83a3-41f3-b603-02af3ed4b5fe",
   "metadata": {},
   "source": [
    "### Shortcut Dependencies"
   ]
  },
  {
   "cell_type": "markdown",
   "id": "cb2dd956-6436-41ec-acd5-67534b1c6755",
   "metadata": {},
   "source": [
    "The most common trigger expression to express is one of dependencies. Task A runs only after Task B has completed. We provide a special operator to simplify this approach.\n",
    "\n",
    "The following are equivalent approaches."
   ]
  },
  {
   "cell_type": "code",
   "execution_count": 12,
   "id": "4a6bcfd9-866e-4e0e-81bd-836da2736e41",
   "metadata": {},
   "outputs": [
    {
     "data": {
      "text/html": [
       "<pre><span style=\"text-weight: bold; color: green\">suite</span> s\n",
       "  <span style=\"text-weight: bold; color: green\">edit</span> ECF_JOB_CMD <span style=\"color: red\">'bash -c '</span>export ECF_PORT=%ECF_PORT%; export ECF_HOST=%ECF_HOST%; export ECF_NAME=%ECF_NAME%; export ECF_PASS=%ECF_PASS%; export ECF_TRYNO=%ECF_TRYNO%; export PATH=/usr/local/apps/ecflow/%ECF_VERSION%/bin:$PATH; ecflow_client --init=<span style=\"color: red\">\"$$\"</span> && %ECF_JOB% && ecflow_client --complete || ecflow_client --abort <span style=\"color: red\">' 1> %ECF_JOBOUT% 2>&1 &'</span>\n",
       "  <span style=\"text-weight: bold; color: green\">edit</span> ECF_KILL_CMD <span style=\"color: red\">'pkill -15 -P %ECF_RID%'</span>\n",
       "  <span style=\"text-weight: bold; color: green\">edit</span> ECF_STATUS_CMD <span style=\"color: red\">'true'</span>\n",
       "  <span style=\"text-weight: bold; color: green\">edit</span> ECF_OUT <span style=\"color: red\">'%ECF_HOME%'</span>\n",
       "  <span style=\"text-weight: bold; color: green\">label</span> exec_host <span style=\"color: red\">\"default\"</span>\n",
       "  <span style=\"text-weight: bold; color: green\">task</span> t1\n",
       "    <span style=\"text-weight: bold; color: green\">edit</span> HALF <span style=\"color: red\">'0'</span>\n",
       "    <span style=\"text-weight: bold; color: green\">edit</span> LIMIT <span style=\"color: red\">'0'</span>\n",
       "    <span style=\"text-weight: bold; color: green\">label</span> counter_label <span style=\"color: red\">\"count to 0\"</span>\n",
       "  <span style=\"text-weight: bold; color: green\">task</span> t2\n",
       "    <span style=\"text-weight: bold; color: green\">trigger</span> t1 <span style=\"text-weight: bold; color: purple\">eq</span> <span style=\"font-style: italic;color: blue\">complete</span>\n",
       "    <span style=\"text-weight: bold; color: green\">edit</span> HALF <span style=\"color: red\">'0'</span>\n",
       "    <span style=\"text-weight: bold; color: green\">edit</span> LIMIT <span style=\"color: red\">'0'</span>\n",
       "    <span style=\"text-weight: bold; color: green\">label</span> counter_label <span style=\"color: red\">\"count to 0\"</span>\n",
       "<span style=\"text-weight: bold; color: green\">endsuite</span>\n",
       "</pre>"
      ],
      "text/plain": [
       "Suite(/s)"
      ]
     },
     "execution_count": 12,
     "metadata": {},
     "output_type": "execute_result"
    }
   ],
   "source": [
    "with pf.Suite('s') as s:\n",
    "    t1 = MyTask('t1')\n",
    "    t2 = MyTask('t2')\n",
    "    t2.triggers = t1.complete\n",
    "    \n",
    "with pf.Suite('s') as s:\n",
    "    t1 = MyTask('t1')\n",
    "    t2 = MyTask('t2')\n",
    "    t2.triggers = (t1 == pf.state.complete)\n",
    "    \n",
    "with pf.Suite('s') as s:\n",
    "    t1 = MyTask('t1')\n",
    "    t2 = MyTask('t2')\n",
    "    t1 >> t2\n",
    "    \n",
    "with pf.Suite(\"s\") as s:\n",
    "    (\n",
    "        MyTask('t1')\n",
    "        >>\n",
    "        MyTask('t2')\n",
    "    )\n",
    "    \n",
    "s"
   ]
  },
  {
   "cell_type": "markdown",
   "id": "41c224fb-c105-4d4f-b4d3-0770dd7f97b2",
   "metadata": {},
   "source": [
    "## Looping Constructs"
   ]
  },
  {
   "cell_type": "markdown",
   "id": "b21772b3-5053-4f6a-a40f-cd30ff9c1826",
   "metadata": {},
   "source": [
    "**pyflow** supports **ecFlow** looping constructs, and ensures that they are initialised in a type-safe manner. The values of these looping constructs can be accessed from scripts in the same manner as normal **ecFlow** variables."
   ]
  },
  {
   "cell_type": "code",
   "execution_count": 13,
   "id": "fb2ddf7d-cb07-4bf7-b5c1-2144fbd8d157",
   "metadata": {},
   "outputs": [
    {
     "data": {
      "text/html": [
       "<pre><span style=\"text-weight: bold; color: green\">suite</span> looping_constructs\n",
       "  <span style=\"text-weight: bold; color: green\">defstatus</span> suspended\n",
       "  <span style=\"text-weight: bold; color: green\">edit</span> ECF_FILES <span style=\"color: red\">'/path/to/scratch/files/looping_constructs'</span>\n",
       "  <span style=\"text-weight: bold; color: green\">edit</span> ECF_HOME <span style=\"color: red\">'/path/to/scratch/out'</span>\n",
       "  <span style=\"text-weight: bold; color: green\">edit</span> ECF_JOB_CMD <span style=\"color: red\">'bash -c '</span>export ECF_PORT=%ECF_PORT%; export ECF_HOST=%ECF_HOST%; export ECF_NAME=%ECF_NAME%; export ECF_PASS=%ECF_PASS%; export ECF_TRYNO=%ECF_TRYNO%; export PATH=/usr/local/apps/ecflow/%ECF_VERSION%/bin:$PATH; ecflow_client --init=<span style=\"color: red\">\"$$\"</span> && %ECF_JOB% && ecflow_client --complete || ecflow_client --abort <span style=\"color: red\">' 1> %ECF_JOBOUT% 2>&1 &'</span>\n",
       "  <span style=\"text-weight: bold; color: green\">edit</span> ECF_KILL_CMD <span style=\"color: red\">'pkill -15 -P %ECF_RID%'</span>\n",
       "  <span style=\"text-weight: bold; color: green\">edit</span> ECF_STATUS_CMD <span style=\"color: red\">'true'</span>\n",
       "  <span style=\"text-weight: bold; color: green\">edit</span> ECF_OUT <span style=\"color: red\">'%ECF_HOME%'</span>\n",
       "  <span style=\"text-weight: bold; color: green\">label</span> exec_host <span style=\"color: red\">\"localhost\"</span>\n",
       "  <span style=\"text-weight: bold; color: green\">family</span> date_family\n",
       "    <span style=\"text-weight: bold; color: green\">repeat date</span> REPEAT_DATE 20190101 20191231 1\n",
       "    <span style=\"text-weight: bold; color: green\">family</span> hour_family\n",
       "      <span style=\"text-weight: bold; color: green\">repeat integer</span> REPEAT_HOUR 1 24\n",
       "      <span style=\"text-weight: bold; color: green\">label</span> date_time <span style=\"color: red\">\"\"</span>\n",
       "      <span style=\"text-weight: bold; color: green\">task</span> set_labels\n",
       "      <span style=\"text-weight: bold; color: green\">task</span> wait_2\n",
       "        <span style=\"text-weight: bold; color: green\">trigger</span> set_labels <span style=\"text-weight: bold; color: purple\">eq</span> <span style=\"font-style: italic;color: blue\">complete</span>\n",
       "    <span style=\"text-weight: bold; color: green\">endfamily</span>\n",
       "  <span style=\"text-weight: bold; color: green\">endfamily</span>\n",
       "<span style=\"text-weight: bold; color: green\">endsuite</span>\n",
       "</pre>"
      ],
      "text/plain": [
       "CourseSuite(/looping_constructs)"
      ]
     },
     "execution_count": 13,
     "metadata": {},
     "output_type": "execute_result"
    }
   ],
   "source": [
    "class LabelSetter(pf.Task):\n",
    "    \n",
    "    def __init__(self, *args, **kwargs):\n",
    "        \"\"\"\n",
    "        Accepts a sequence of label-value tuples\n",
    "        \"\"\"\n",
    "        script = [\n",
    "            pf.TemplateScript(\n",
    "                'ecflow_client --alter=change label {{ LABEL.name }} \"{{ VALUE }}\" {{ LABEL.parent.fullname }}',\n",
    "                LABEL=label, VALUE=value\n",
    "            ) for label, value in args\n",
    "        ]\n",
    "        \n",
    "        name = kwargs.pop('name', 'set_labels')\n",
    "        super().__init__(name, script=script, **kwargs)\n",
    "\n",
    "\n",
    "class WaitSeconds(pf.Task):\n",
    "    def __init__(self, seconds, **kwargs):\n",
    "        name = kwargs.pop('name', 'wait_{}'.format(seconds))\n",
    "        super().__init__(name, script='sleep {}'.format(seconds), **kwargs)\n",
    "\n",
    "\n",
    "with CourseSuite('looping_constructs') as s:\n",
    "    \n",
    "    with pf.Family('date_family'):\n",
    "        pf.RepeatDate('REPEAT_DATE',\n",
    "                      datetime.date(year=2019, month=1, day=1),\n",
    "                      datetime.date(year=2019, month=12, day=31))\n",
    "        \n",
    "        with pf.Family('hour_family', labels={'date_time': ''}) as f:\n",
    "            pf.RepeatInteger('REPEAT_HOUR', 1, 24)\n",
    "            (\n",
    "                LabelSetter((f.date_time, '$REPEAT_DATE hour $REPEAT_HOUR'))\n",
    "                >>\n",
    "                WaitSeconds(2)\n",
    "            )\n",
    "\n",
    "s"
   ]
  },
  {
   "cell_type": "markdown",
   "id": "37845f00-05d5-461d-83a0-10fd93787910",
   "metadata": {},
   "source": [
    "## External ecFlow Dependencies"
   ]
  },
  {
   "cell_type": "markdown",
   "id": "723c6805-2a84-4d92-b85f-7dc643b68243",
   "metadata": {},
   "source": [
    "**pyflow** builds its dependency trees using python objects. This means that if we wish to have connections to external suites, that are not built from the same repository, then we must build shadow objects that map to the nodes we wish to connect to.\n",
    "\n",
    "A full range of these `Extern*` objects exist which may be used in the normal way."
   ]
  },
  {
   "cell_type": "code",
   "execution_count": 14,
   "id": "a2937746-a676-49ea-9332-315e763167ca",
   "metadata": {},
   "outputs": [
    {
     "data": {
      "text/html": [
       "<pre><span style=\"text-weight: bold; color: green\">suite</span> s\n",
       "  <span style=\"text-weight: bold; color: green\">edit</span> ECF_JOB_CMD <span style=\"color: red\">'bash -c '</span>export ECF_PORT=%ECF_PORT%; export ECF_HOST=%ECF_HOST%; export ECF_NAME=%ECF_NAME%; export ECF_PASS=%ECF_PASS%; export ECF_TRYNO=%ECF_TRYNO%; export PATH=/usr/local/apps/ecflow/%ECF_VERSION%/bin:$PATH; ecflow_client --init=<span style=\"color: red\">\"$$\"</span> && %ECF_JOB% && ecflow_client --complete || ecflow_client --abort <span style=\"color: red\">' 1> %ECF_JOBOUT% 2>&1 &'</span>\n",
       "  <span style=\"text-weight: bold; color: green\">edit</span> ECF_KILL_CMD <span style=\"color: red\">'pkill -15 -P %ECF_RID%'</span>\n",
       "  <span style=\"text-weight: bold; color: green\">edit</span> ECF_STATUS_CMD <span style=\"color: red\">'true'</span>\n",
       "  <span style=\"text-weight: bold; color: green\">edit</span> ECF_OUT <span style=\"color: red\">'%ECF_HOME%'</span>\n",
       "  <span style=\"text-weight: bold; color: green\">label</span> exec_host <span style=\"color: red\">\"default\"</span>\n",
       "  <span style=\"text-weight: bold; color: green\">task</span> t1\n",
       "    <span style=\"text-weight: bold; color: green\">trigger</span> /a/b/c/d <span style=\"text-weight: bold; color: purple\">eq</span> <span style=\"font-style: italic;color: blue\">complete</span> <span style=\"text-weight: bold; color: purple\">and</span> /f/g/h/i <span style=\"text-weight: bold; color: purple\">eq</span> <span style=\"font-style: italic;color: blue\">complete</span>\n",
       "<span style=\"text-weight: bold; color: green\">endsuite</span>\n",
       "</pre>"
      ],
      "text/plain": [
       "Suite(/s)"
      ]
     },
     "execution_count": 14,
     "metadata": {},
     "output_type": "execute_result"
    }
   ],
   "source": [
    "with pf.Suite('s') as s:\n",
    "    \n",
    "    etask = pf.ExternTask('/a/b/c/d')\n",
    "    efamily = pf.ExternFamily('/f/g/h/i')\n",
    "    \n",
    "    eymd = pf.ExternYMD('/a/b/c/d:YMD')\n",
    "    eevent = pf.ExternEvent('/e/f/g/h:ev')\n",
    "    emeter = pf.ExternMeter('/g/h/i/j:mt')\n",
    "    \n",
    "    t1 = pf.Task('t1')\n",
    "    t1.triggers = etask & efamily\n",
    "    \n",
    "s"
   ]
  }
 ],
 "metadata": {
  "kernelspec": {
   "display_name": "Python 3.10.6 64-bit",
   "language": "python",
   "name": "python3"
  },
  "language_info": {
   "codemirror_mode": {
    "name": "ipython",
    "version": 3
   },
   "file_extension": ".py",
   "mimetype": "text/x-python",
   "name": "python",
   "nbconvert_exporter": "python",
   "pygments_lexer": "ipython3",
   "version": "3.10.6"
  },
  "vscode": {
   "interpreter": {
    "hash": "b0fa6594d8f4cbf19f97940f81e996739fb7646882a419484c72d19e05852a7e"
   }
  }
 },
 "nbformat": 4,
 "nbformat_minor": 5
}
