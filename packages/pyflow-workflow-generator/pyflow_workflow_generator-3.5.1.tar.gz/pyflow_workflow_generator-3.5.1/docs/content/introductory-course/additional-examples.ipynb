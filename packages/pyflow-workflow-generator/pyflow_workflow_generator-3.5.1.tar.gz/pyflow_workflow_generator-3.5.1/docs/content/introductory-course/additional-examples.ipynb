{
 "cells": [
  {
   "cell_type": "markdown",
   "id": "d039a9da-5076-43d1-bfcb-658b0c7bbd3a",
   "metadata": {},
   "source": [
    "# Additional Examples"
   ]
  },
  {
   "cell_type": "code",
   "execution_count": 1,
   "id": "716525b7-1770-4947-943a-553176228217",
   "metadata": {
    "jupyter": {
     "source_hidden": true
    },
    "nbsphinx": "hidden",
    "tags": []
   },
   "outputs": [],
   "source": [
    "# Following code is needed to preconfigure this notebook\n",
    "import datetime\n",
    "import sys\n",
    "import os\n",
    "sys.path.insert(0, os.path.abspath('../../..'))\n",
    "\n",
    "import pyflow as pf\n",
    "\n",
    "scratchdir = os.path.join('/', 'path', 'to', 'scratch')\n",
    "filesdir = os.path.join(scratchdir, 'files')\n",
    "outdir = os.path.join(scratchdir, 'out')\n",
    "\n",
    "\n",
    "class CourseSuite(pf.Suite):\n",
    "    \"\"\"\n",
    "    This CourseSuite object will be used throughout the course to provide sensible\n",
    "    defaults without verbosity\n",
    "    \"\"\"\n",
    "    def __init__(self, name, **kwargs):\n",
    "        \n",
    "        config = {\n",
    "            'host': pf.LocalHost(),\n",
    "            'files': os.path.join(filesdir, name),\n",
    "            'home': outdir,\n",
    "            'defstatus': pf.state.suspended\n",
    "        }\n",
    "        config.update(kwargs)\n",
    "        \n",
    "        super().__init__(name, **config)\n",
    "\n",
    "\n",
    "class LabelSetter(pf.Task):\n",
    "    \n",
    "    def __init__(self, *args, **kwargs):\n",
    "        \"\"\"\n",
    "        Accepts a sequence of label-value tuples\n",
    "        \"\"\"\n",
    "        script = [\n",
    "            pf.TemplateScript(\n",
    "                'ecflow_client --alter=change label {{ LABEL.name }} \"{{ VALUE }}\" {{ LABEL.parent.fullname }}',\n",
    "                LABEL=label, VALUE=value\n",
    "            ) for label, value in args\n",
    "        ]\n",
    "        \n",
    "        name = kwargs.pop('name', 'set_labels')\n",
    "        super().__init__(name, script=script, **kwargs)\n",
    "        \n",
    "\n",
    "class WaitSeconds(pf.Task):\n",
    "    def __init__(self, seconds, **kwargs):\n",
    "        name = kwargs.pop('name', 'wait_{}'.format(seconds))\n",
    "        super().__init__(name, script='sleep {}'.format(seconds), **kwargs)"
   ]
  },
  {
   "cell_type": "markdown",
   "id": "7ec19c0a-66c9-4211-99d0-67b955e38be6",
   "metadata": {},
   "source": [
    "## Suite Example"
   ]
  },
  {
   "cell_type": "markdown",
   "id": "0bef132a-4cae-4b38-adc0-3b8972373e56",
   "metadata": {},
   "source": [
    "In this section we construct a component of a test suite which will obtain testing data from MARS, perform some \"test\" on it, and then clean up after itself. This demonstrates a number of characteristics of object-oriented suite design:\n",
    "\n",
    "1. Functionality that is configurable on a data description.\n",
    "2. Functionality that is encapsulated in re-usable subcomponents\n",
    "3. Delegation or inheritance to fine-tune behaviour within an existing framework\n",
    "\n",
    "Firstly we create a helper class that can understand MARS requests, and output them in a useful format."
   ]
  },
  {
   "cell_type": "code",
   "execution_count": 2,
   "id": "869d0e07-5137-46a9-ab44-ebffbb7d1441",
   "metadata": {},
   "outputs": [],
   "source": [
    "class MarsRequest:\n",
    "    \n",
    "    separator = \",\\n    \"\n",
    "    \n",
    "    def __init__(self, verb, request_dict):\n",
    "        self._verb = verb\n",
    "        self._request_dict = request_dict\n",
    "        \n",
    "    def __str__(self):\n",
    "        return (\n",
    "            self._verb +\n",
    "            self.separator +            \n",
    "            self.separator.join(\"{}={}\".format(k, self._resolve(v)) for k, v in self._request_dict.items())\n",
    "        )\n",
    "        \n",
    "    @staticmethod\n",
    "    def _resolve(v):\n",
    "        '''Convert values into something understood by MARS'''\n",
    "        if isinstance(v, bool):\n",
    "            return \"on\" if v else \"off\"\n",
    "        if isinstance(v, list):\n",
    "            return '/'.join(MarsRequest._resolve(vv) for vv in v)\n",
    "        if isinstance(v, str) and ('/' in v or '$' in v):\n",
    "            return '\"{}\"'.format(v)\n",
    "        return str(v)"
   ]
  },
  {
   "cell_type": "markdown",
   "id": "a19dfa26-17ef-49e3-ae46-4010903c61e4",
   "metadata": {},
   "source": [
    "These requests are useful in the context of a `MarsTask`. This makes use of the `MarsRequest` object defined above to do something in the current working directory. It also creates a label for monitoring in ecflow and a timers file for diagnostics according to the environment variables understood by MARS."
   ]
  },
  {
   "cell_type": "code",
   "execution_count": 3,
   "id": "50698d59-1d43-4063-9663-5cfd74982ae8",
   "metadata": {},
   "outputs": [],
   "source": [
    "mars_task_script = \"\"\"\n",
    "req=$(mktemp req.XXXX)\n",
    "cat > $req <<@\n",
    "{{ REQUEST }}\n",
    "@\n",
    "mars $req\n",
    "rm $req\n",
    "\"\"\"\n",
    "\n",
    "\n",
    "class MarsTask(pf.Task):\n",
    "    \n",
    "    verb = None\n",
    "    \n",
    "    def __init__(self, request_dict, **kwargs):\n",
    "        \n",
    "        # Construct a MarsRequest object from the dictionary supplied\n",
    "        assert self.verb is not None\n",
    "        request = MarsRequest(self.verb, request_dict)\n",
    "        \n",
    "        name = kwargs.get('name', \"{}_data\".format(self.verb))\n",
    "        \n",
    "        super().__init__(name,\n",
    "                         labels={'info': ''},\n",
    "                         script=pf.TemplateScript(mars_task_script, REQUEST=request),\n",
    "                         **kwargs)\n",
    "        \n",
    "        self.script.define_environment_variable('MARS_ECFLOW_LABEL', self.info)\n",
    "        self.script.define_environment_variable('MARS_TIMERS_FILE', \"{}.timers\".format(name))\n",
    "        \n",
    "        \n",
    "class ArchiveTask(MarsTask):\n",
    "    verb = 'archive'\n",
    "\n",
    "\n",
    "class RetrieveTask(MarsTask):\n",
    "    verb = 'retrieve'"
   ]
  },
  {
   "cell_type": "markdown",
   "id": "aefac644-9147-43dc-883b-98727bfc1821",
   "metadata": {},
   "source": [
    "There are two major object-oriented approaches to making encapsulated: inheritance and delegation."
   ]
  },
  {
   "cell_type": "markdown",
   "id": "bf1fe285-4a34-4a8b-b9f2-aa86d6d4ebab",
   "metadata": {},
   "source": [
    "### Suite Objects using Inheritance"
   ]
  },
  {
   "cell_type": "markdown",
   "id": "51db0189-02ad-4646-8d38-be14519d6577",
   "metadata": {},
   "source": [
    "In this first example we are going to choose to use *inheritance*, although this is a fairly arbitrary choice. Which is desirable depends very much on context. We are also going to avoid using the `ArchiveTask` defined above just to avoid having to put lots of safety-related code into these examples.\n",
    "\n",
    "We wish to define a standard test pattern. This will:\n",
    "\n",
    "1. Create a temporary (scratch) directory within the scratch space configured for the given host\n",
    "2. Retrieve testing data, which is specified by the derived class\n",
    "3. Run a test, which is defined by the derived class\n",
    "4. Clean up after ourselves"
   ]
  },
  {
   "cell_type": "code",
   "execution_count": 4,
   "id": "776fb6a4-0855-47fe-8c73-68892c6eb76d",
   "metadata": {},
   "outputs": [],
   "source": [
    "class Cleanup(pf.Task):\n",
    "    def __init__(self, path, name='cleanup', **kwargs):\n",
    "        assert path != \"/\"\n",
    "        super().__init__(name, script='rm -rf \"{}\"'.format(path), **kwargs)\n",
    "      \n",
    "    \n",
    "class TestBase(pf.AnchorFamily):\n",
    "    \n",
    "    \"\"\"This class is an interface\"\"\"\n",
    "    \n",
    "    def __init__(self, name, **kwargs):\n",
    "        super().__init__(name, **kwargs)\n",
    "        \n",
    "        # Generate a unique working directory\n",
    "        self._workdir = os.path.join(self.host.scratch_directory,\n",
    "                                     self.suite.name, self.fullname.replace('/', '_'))\n",
    "        \n",
    "        # Ensure that the data gets put somewhere\n",
    "        self._data_filename = 'retrieved.grib'\n",
    "        request = self.request_dict().copy()\n",
    "        request['target'] = self._data_filename\n",
    "        \n",
    "        with self:\n",
    "            (\n",
    "                RetrieveTask(request, workdir=self._workdir)\n",
    "                >>\n",
    "                self.build_test()\n",
    "                >>\n",
    "                Cleanup(self._workdir)\n",
    "            )\n",
    "            \n",
    "    def request_dict(self):\n",
    "        raise NotImplementedError(\"abstract base property\")\n",
    "        \n",
    "    def build_test(self):\n",
    "        raise NotImplementedError(\"abstract base method\")"
   ]
  },
  {
   "cell_type": "markdown",
   "id": "b057c871-cd04-4a4b-b807-68bc16c578d6",
   "metadata": {},
   "source": [
    "Classes should be derived from this abstract base test class, implementing the `request_dict` property and `build_test` methods. These derived classes can be further derived, or set up according to configuration passed in from outside."
   ]
  },
  {
   "cell_type": "code",
   "execution_count": 5,
   "id": "da1b55e0-aa39-4948-a58f-1d523a633565",
   "metadata": {},
   "outputs": [],
   "source": [
    "class GribLsTest(TestBase):\n",
    "    def __init__(self, date, param, **kwargs):\n",
    "        self._date = date\n",
    "        self._param = param\n",
    "        name = kwargs.pop('name', 'grib_ls')\n",
    "        super().__init__(name, **kwargs)\n",
    "        \n",
    "    def request_dict(self):\n",
    "        return {\n",
    "            'class': 'od',\n",
    "            'expver': '0001',\n",
    "            'stream': 'oper',\n",
    "            'date': self._date,\n",
    "            'time': [0, 12],\n",
    "            'step': 0,\n",
    "            'type': 'an',\n",
    "            'levtype': 'ml',\n",
    "            'levelist': 1,\n",
    "            'param': self._param,\n",
    "        }\n",
    "    \n",
    "    def build_test(self):\n",
    "        return pf.Task('grib_ls', workdir=self._workdir, script='grib_ls -m {}'.format(self._data_filename))\n",
    "\n",
    "\n",
    "class LsTest(TestBase):\n",
    "    def __init__(self, **kwargs):\n",
    "        super().__init__('ls', **kwargs)\n",
    "        \n",
    "    def request_dict(self):\n",
    "        return {\n",
    "            'class': 'od',\n",
    "            'expver': '0001',\n",
    "            'stream': 'oper',\n",
    "            'date': -1,\n",
    "            'time': [0, 12],\n",
    "            'step': 0,\n",
    "            'type': 'an',\n",
    "            'levtype': 'ml',\n",
    "            'levelist': 1,\n",
    "            'param': 't',\n",
    "        }\n",
    "    \n",
    "    def build_test(self):\n",
    "        with pf.Family('test_family') as f:\n",
    "            pf.Task('ls', workdir=self._workdir, script='ls -l {}'.format(self._data_filename))\n",
    "        return f"
   ]
  },
  {
   "cell_type": "markdown",
   "id": "8d0084c7-be56-4425-8bf5-f5e6e6632016",
   "metadata": {},
   "source": [
    "These tests can be combined inside a suite."
   ]
  },
  {
   "cell_type": "code",
   "execution_count": 6,
   "id": "e41b6288-5ca2-4415-87b6-208af4b3838c",
   "metadata": {},
   "outputs": [
    {
     "data": {
      "text/html": [
       "<pre><span style=\"text-weight: bold; color: green\">suite</span> inheritance_example\n",
       "  <span style=\"text-weight: bold; color: green\">defstatus</span> suspended\n",
       "  <span style=\"text-weight: bold; color: green\">edit</span> ECF_FILES <span style=\"color: red\">'/path/to/scratch/files/inheritance_example'</span>\n",
       "  <span style=\"text-weight: bold; color: green\">edit</span> ECF_HOME <span style=\"color: red\">'/path/to/scratch/out'</span>\n",
       "  <span style=\"text-weight: bold; color: green\">edit</span> ECF_JOB_CMD <span style=\"color: red\">'bash -c '</span>export ECF_PORT=%ECF_PORT%; export ECF_HOST=%ECF_HOST%; export ECF_NAME=%ECF_NAME%; export ECF_PASS=%ECF_PASS%; export ECF_TRYNO=%ECF_TRYNO%; export PATH=/usr/local/apps/ecflow/%ECF_VERSION%/bin:$PATH; ecflow_client --init=<span style=\"color: red\">\"$$\"</span> && %ECF_JOB% && ecflow_client --complete || ecflow_client --abort <span style=\"color: red\">' 1> %ECF_JOBOUT% 2>&1 &'</span>\n",
       "  <span style=\"text-weight: bold; color: green\">edit</span> ECF_KILL_CMD <span style=\"color: red\">'pkill -15 -P %ECF_RID%'</span>\n",
       "  <span style=\"text-weight: bold; color: green\">edit</span> ECF_STATUS_CMD <span style=\"color: red\">'true'</span>\n",
       "  <span style=\"text-weight: bold; color: green\">edit</span> ECF_OUT <span style=\"color: red\">'%ECF_HOME%'</span>\n",
       "  <span style=\"text-weight: bold; color: green\">label</span> exec_host <span style=\"color: red\">\"localhost\"</span>\n",
       "  <span style=\"text-weight: bold; color: green\">family</span> tests\n",
       "    <span style=\"text-weight: bold; color: green\">family</span> grib_ls\n",
       "      <span style=\"text-weight: bold; color: green\">edit</span> ECF_FILES <span style=\"color: red\">'/path/to/scratch/files/inheritance_example/tests/grib_ls'</span>\n",
       "      <span style=\"text-weight: bold; color: green\">edit</span> ECF_INCLUDE <span style=\"color: red\">'/path/to/scratch/files/inheritance_example/tests/grib_ls'</span>\n",
       "      <span style=\"text-weight: bold; color: green\">task</span> retrieve_data\n",
       "        <span style=\"text-weight: bold; color: green\">label</span> info <span style=\"color: red\">\"\"</span>\n",
       "      <span style=\"text-weight: bold; color: green\">task</span> grib_ls\n",
       "        <span style=\"text-weight: bold; color: green\">trigger</span> retrieve_data <span style=\"text-weight: bold; color: purple\">eq</span> <span style=\"font-style: italic;color: blue\">complete</span>\n",
       "      <span style=\"text-weight: bold; color: green\">task</span> cleanup\n",
       "        <span style=\"text-weight: bold; color: green\">trigger</span> grib_ls <span style=\"text-weight: bold; color: purple\">eq</span> <span style=\"font-style: italic;color: blue\">complete</span>\n",
       "    <span style=\"text-weight: bold; color: green\">endfamily</span>\n",
       "    <span style=\"text-weight: bold; color: green\">family</span> grib_ls_2\n",
       "      <span style=\"text-weight: bold; color: green\">trigger</span> grib_ls <span style=\"text-weight: bold; color: purple\">eq</span> <span style=\"font-style: italic;color: blue\">complete</span>\n",
       "      <span style=\"text-weight: bold; color: green\">edit</span> ECF_FILES <span style=\"color: red\">'/path/to/scratch/files/inheritance_example/tests/grib_ls_2'</span>\n",
       "      <span style=\"text-weight: bold; color: green\">edit</span> ECF_INCLUDE <span style=\"color: red\">'/path/to/scratch/files/inheritance_example/tests/grib_ls_2'</span>\n",
       "      <span style=\"text-weight: bold; color: green\">task</span> retrieve_data\n",
       "        <span style=\"text-weight: bold; color: green\">label</span> info <span style=\"color: red\">\"\"</span>\n",
       "      <span style=\"text-weight: bold; color: green\">task</span> grib_ls\n",
       "        <span style=\"text-weight: bold; color: green\">trigger</span> retrieve_data <span style=\"text-weight: bold; color: purple\">eq</span> <span style=\"font-style: italic;color: blue\">complete</span>\n",
       "      <span style=\"text-weight: bold; color: green\">task</span> cleanup\n",
       "        <span style=\"text-weight: bold; color: green\">trigger</span> grib_ls <span style=\"text-weight: bold; color: purple\">eq</span> <span style=\"font-style: italic;color: blue\">complete</span>\n",
       "    <span style=\"text-weight: bold; color: green\">endfamily</span>\n",
       "    <span style=\"text-weight: bold; color: green\">family</span> ls\n",
       "      <span style=\"text-weight: bold; color: green\">trigger</span> grib_ls_2 <span style=\"text-weight: bold; color: purple\">eq</span> <span style=\"font-style: italic;color: blue\">complete</span>\n",
       "      <span style=\"text-weight: bold; color: green\">edit</span> ECF_FILES <span style=\"color: red\">'/path/to/scratch/files/inheritance_example/tests/ls'</span>\n",
       "      <span style=\"text-weight: bold; color: green\">edit</span> ECF_INCLUDE <span style=\"color: red\">'/path/to/scratch/files/inheritance_example/tests/ls'</span>\n",
       "      <span style=\"text-weight: bold; color: green\">task</span> retrieve_data\n",
       "        <span style=\"text-weight: bold; color: green\">label</span> info <span style=\"color: red\">\"\"</span>\n",
       "      <span style=\"text-weight: bold; color: green\">family</span> test_family\n",
       "        <span style=\"text-weight: bold; color: green\">trigger</span> retrieve_data <span style=\"text-weight: bold; color: purple\">eq</span> <span style=\"font-style: italic;color: blue\">complete</span>\n",
       "        <span style=\"text-weight: bold; color: green\">task</span> ls\n",
       "      <span style=\"text-weight: bold; color: green\">endfamily</span>\n",
       "      <span style=\"text-weight: bold; color: green\">task</span> cleanup\n",
       "        <span style=\"text-weight: bold; color: green\">trigger</span> test_family <span style=\"text-weight: bold; color: purple\">eq</span> <span style=\"font-style: italic;color: blue\">complete</span>\n",
       "    <span style=\"text-weight: bold; color: green\">endfamily</span>\n",
       "  <span style=\"text-weight: bold; color: green\">endfamily</span>\n",
       "<span style=\"text-weight: bold; color: green\">endsuite</span>\n",
       "</pre>"
      ],
      "text/plain": [
       "CourseSuite(/inheritance_example)"
      ]
     },
     "execution_count": 6,
     "metadata": {},
     "output_type": "execute_result"
    }
   ],
   "source": [
    "with CourseSuite('inheritance_example') as s:\n",
    "    with pf.Family('tests'):\n",
    "        (\n",
    "            GribLsTest(datetime.date.today() - datetime.timedelta(days=2), 't')\n",
    "            >>\n",
    "            GribLsTest(datetime.date.today() - datetime.timedelta(days=1), 'z', name='grib_ls_2')\n",
    "            >>\n",
    "            LsTest()\n",
    "        )\n",
    "\n",
    "s"
   ]
  },
  {
   "cell_type": "markdown",
   "id": "a76623e3-8414-488d-95eb-98f7a084d975",
   "metadata": {},
   "source": [
    "### Suite Objects using Delegation"
   ]
  },
  {
   "cell_type": "markdown",
   "id": "28f85f54-e873-4652-af92-464d55d55c8d",
   "metadata": {},
   "source": [
    "Alternatively, we can take the approach of delegation such that decisions about the data request to use and the test to construct are delegated to a configuration object that is injected from the controlling scope. If we do this then the resultant `Test` class is now a concrete class (and we no longer need to derive from it), changing the structure of the suite somewhat.\n",
    "\n",
    "In this case, we build our `Test` class to delegate the construction to a config object whose type is unknown."
   ]
  },
  {
   "cell_type": "code",
   "execution_count": 7,
   "id": "56f9096f-bbe2-4449-a8c4-049c29efed5f",
   "metadata": {},
   "outputs": [],
   "source": [
    "class DelegatingTest(pf.AnchorFamily):\n",
    "    def __init__(self, config, **kwargs):\n",
    "        \n",
    "        name = config.name\n",
    "        super().__init__(name, **kwargs)\n",
    "        \n",
    "        # Generate a unique working directory\n",
    "        workdir = os.path.join(self.host.scratch_directory,\n",
    "                               self.suite.name, self.fullname.replace('/', '_'))\n",
    "        \n",
    "        # Ensure that the data gets put somewhere\n",
    "        data_filename = 'retrieved.grib'\n",
    "        request = config.request_dict.copy()\n",
    "        request['target'] = data_filename\n",
    "        \n",
    "        with self:\n",
    "            (\n",
    "                RetrieveTask(request, workdir=workdir)\n",
    "                >>\n",
    "                config.build_test(workdir, data_filename)\n",
    "                >>\n",
    "                Cleanup(workdir)\n",
    "            )"
   ]
  },
  {
   "cell_type": "markdown",
   "id": "a4a31f77-5731-4d34-b9a2-9913f389657d",
   "metadata": {},
   "source": [
    "We can now create config classes that provide this functionality. They do not have to be built in the same way, or related to each other in any way other than that they provide the given functionality."
   ]
  },
  {
   "cell_type": "code",
   "execution_count": 8,
   "id": "eaf33484-919c-4b8f-b0b5-74f557ad3596",
   "metadata": {},
   "outputs": [],
   "source": [
    "class LsConfig:\n",
    "    name = 'ls'\n",
    "    request_dict = {\n",
    "        'class': 'od',\n",
    "        'expver': '0001',\n",
    "        'stream': 'oper',\n",
    "        'date': -1,\n",
    "        'time': [0, 12],\n",
    "        'step': 0,\n",
    "        'type': 'an',\n",
    "        'levtype': 'ml',\n",
    "        'levelist': 1,\n",
    "        'param': 't',\n",
    "    }\n",
    "    \n",
    "    @staticmethod\n",
    "    def build_test(workdir, data_filename):\n",
    "        with pf.Family('test_family') as f:\n",
    "            return pf.Task('ls', workdir=workdir, script='ls -l {}'.format(data_filename))\n",
    "\n",
    "\n",
    "class GribLsConfig:\n",
    "    \n",
    "    def __init__(self, date, param, name='grib_ls'):\n",
    "        self.name = name\n",
    "        self._date = date\n",
    "        self._param = param\n",
    "        \n",
    "    @property\n",
    "    def request_dict(self):\n",
    "        return {\n",
    "            'class': 'od',\n",
    "            'expver': '0001',\n",
    "            'stream': 'oper',\n",
    "            'date': self._date,\n",
    "            'time': [0, 12],\n",
    "            'step': 0,\n",
    "            'type': 'an',\n",
    "            'levtype': 'ml',\n",
    "            'levelist': 1,\n",
    "            'param': self._param,\n",
    "        }\n",
    "    \n",
    "    def build_test(self, workdir, data_filename):\n",
    "        return pf.Task('grib_ls', workdir=workdir, script='grib_ls -m {}'.format(data_filename))"
   ]
  },
  {
   "cell_type": "markdown",
   "id": "496c2875-2345-4356-a596-6c8c6cf2567e",
   "metadata": {},
   "source": [
    "We can then construct a combined configuration object."
   ]
  },
  {
   "cell_type": "code",
   "execution_count": 9,
   "id": "7baa9c0f-1e58-4a6c-b003-2fbfd6248dd7",
   "metadata": {},
   "outputs": [],
   "source": [
    "class CombinedConfig:\n",
    "    def __init__(self):\n",
    "        self.tests = [\n",
    "            GribLsConfig(datetime.date.today() - datetime.timedelta(days=2), 't'),\n",
    "            GribLsConfig(datetime.date.today() - datetime.timedelta(days=1), 'z', name='grib_ls_2'),\n",
    "            LsConfig # n.b. here we just used a raw class.\n",
    "        ]"
   ]
  },
  {
   "cell_type": "markdown",
   "id": "e1130643-e9af-40f5-9883-6e03f3cc3019",
   "metadata": {},
   "source": [
    "And we then configure the suite with the config object."
   ]
  },
  {
   "cell_type": "code",
   "execution_count": 10,
   "id": "efec63a7-a396-4cb1-87af-040d4c4f60d1",
   "metadata": {},
   "outputs": [
    {
     "data": {
      "text/html": [
       "<pre><span style=\"text-weight: bold; color: green\">suite</span> delegated_example\n",
       "  <span style=\"text-weight: bold; color: green\">defstatus</span> suspended\n",
       "  <span style=\"text-weight: bold; color: green\">edit</span> ECF_FILES <span style=\"color: red\">'/path/to/scratch/files/delegated_example'</span>\n",
       "  <span style=\"text-weight: bold; color: green\">edit</span> ECF_HOME <span style=\"color: red\">'/path/to/scratch/out'</span>\n",
       "  <span style=\"text-weight: bold; color: green\">edit</span> ECF_JOB_CMD <span style=\"color: red\">'bash -c '</span>export ECF_PORT=%ECF_PORT%; export ECF_HOST=%ECF_HOST%; export ECF_NAME=%ECF_NAME%; export ECF_PASS=%ECF_PASS%; export ECF_TRYNO=%ECF_TRYNO%; export PATH=/usr/local/apps/ecflow/%ECF_VERSION%/bin:$PATH; ecflow_client --init=<span style=\"color: red\">\"$$\"</span> && %ECF_JOB% && ecflow_client --complete || ecflow_client --abort <span style=\"color: red\">' 1> %ECF_JOBOUT% 2>&1 &'</span>\n",
       "  <span style=\"text-weight: bold; color: green\">edit</span> ECF_KILL_CMD <span style=\"color: red\">'pkill -15 -P %ECF_RID%'</span>\n",
       "  <span style=\"text-weight: bold; color: green\">edit</span> ECF_STATUS_CMD <span style=\"color: red\">'true'</span>\n",
       "  <span style=\"text-weight: bold; color: green\">edit</span> ECF_OUT <span style=\"color: red\">'%ECF_HOME%'</span>\n",
       "  <span style=\"text-weight: bold; color: green\">label</span> exec_host <span style=\"color: red\">\"localhost\"</span>\n",
       "  <span style=\"text-weight: bold; color: green\">family</span> grib_ls\n",
       "    <span style=\"text-weight: bold; color: green\">edit</span> ECF_FILES <span style=\"color: red\">'/path/to/scratch/files/delegated_example/grib_ls'</span>\n",
       "    <span style=\"text-weight: bold; color: green\">edit</span> ECF_INCLUDE <span style=\"color: red\">'/path/to/scratch/files/delegated_example/grib_ls'</span>\n",
       "    <span style=\"text-weight: bold; color: green\">task</span> retrieve_data\n",
       "      <span style=\"text-weight: bold; color: green\">label</span> info <span style=\"color: red\">\"\"</span>\n",
       "    <span style=\"text-weight: bold; color: green\">task</span> grib_ls\n",
       "      <span style=\"text-weight: bold; color: green\">trigger</span> retrieve_data <span style=\"text-weight: bold; color: purple\">eq</span> <span style=\"font-style: italic;color: blue\">complete</span>\n",
       "    <span style=\"text-weight: bold; color: green\">task</span> cleanup\n",
       "      <span style=\"text-weight: bold; color: green\">trigger</span> grib_ls <span style=\"text-weight: bold; color: purple\">eq</span> <span style=\"font-style: italic;color: blue\">complete</span>\n",
       "  <span style=\"text-weight: bold; color: green\">endfamily</span>\n",
       "  <span style=\"text-weight: bold; color: green\">family</span> grib_ls_2\n",
       "    <span style=\"text-weight: bold; color: green\">trigger</span> grib_ls <span style=\"text-weight: bold; color: purple\">eq</span> <span style=\"font-style: italic;color: blue\">complete</span>\n",
       "    <span style=\"text-weight: bold; color: green\">edit</span> ECF_FILES <span style=\"color: red\">'/path/to/scratch/files/delegated_example/grib_ls_2'</span>\n",
       "    <span style=\"text-weight: bold; color: green\">edit</span> ECF_INCLUDE <span style=\"color: red\">'/path/to/scratch/files/delegated_example/grib_ls_2'</span>\n",
       "    <span style=\"text-weight: bold; color: green\">task</span> retrieve_data\n",
       "      <span style=\"text-weight: bold; color: green\">label</span> info <span style=\"color: red\">\"\"</span>\n",
       "    <span style=\"text-weight: bold; color: green\">task</span> grib_ls\n",
       "      <span style=\"text-weight: bold; color: green\">trigger</span> retrieve_data <span style=\"text-weight: bold; color: purple\">eq</span> <span style=\"font-style: italic;color: blue\">complete</span>\n",
       "    <span style=\"text-weight: bold; color: green\">task</span> cleanup\n",
       "      <span style=\"text-weight: bold; color: green\">trigger</span> grib_ls <span style=\"text-weight: bold; color: purple\">eq</span> <span style=\"font-style: italic;color: blue\">complete</span>\n",
       "  <span style=\"text-weight: bold; color: green\">endfamily</span>\n",
       "  <span style=\"text-weight: bold; color: green\">family</span> ls\n",
       "    <span style=\"text-weight: bold; color: green\">trigger</span> grib_ls_2 <span style=\"text-weight: bold; color: purple\">eq</span> <span style=\"font-style: italic;color: blue\">complete</span>\n",
       "    <span style=\"text-weight: bold; color: green\">edit</span> ECF_FILES <span style=\"color: red\">'/path/to/scratch/files/delegated_example/ls'</span>\n",
       "    <span style=\"text-weight: bold; color: green\">edit</span> ECF_INCLUDE <span style=\"color: red\">'/path/to/scratch/files/delegated_example/ls'</span>\n",
       "    <span style=\"text-weight: bold; color: green\">task</span> retrieve_data\n",
       "      <span style=\"text-weight: bold; color: green\">label</span> info <span style=\"color: red\">\"\"</span>\n",
       "    <span style=\"text-weight: bold; color: green\">family</span> test_family\n",
       "      <span style=\"text-weight: bold; color: green\">task</span> ls\n",
       "        <span style=\"text-weight: bold; color: green\">trigger</span> ../retrieve_data <span style=\"text-weight: bold; color: purple\">eq</span> <span style=\"font-style: italic;color: blue\">complete</span>\n",
       "    <span style=\"text-weight: bold; color: green\">endfamily</span>\n",
       "    <span style=\"text-weight: bold; color: green\">task</span> cleanup\n",
       "      <span style=\"text-weight: bold; color: green\">trigger</span> test_family/ls <span style=\"text-weight: bold; color: purple\">eq</span> <span style=\"font-style: italic;color: blue\">complete</span>\n",
       "  <span style=\"text-weight: bold; color: green\">endfamily</span>\n",
       "<span style=\"text-weight: bold; color: green\">endsuite</span>\n",
       "</pre>"
      ],
      "text/plain": [
       "DelegatedSuite(/delegated_example)"
      ]
     },
     "execution_count": 10,
     "metadata": {},
     "output_type": "execute_result"
    }
   ],
   "source": [
    "class DelegatedSuite(CourseSuite):\n",
    "    def __init__(self, config):\n",
    "        super().__init__('delegated_example')\n",
    "        \n",
    "        with self:\n",
    "            pf.sequence(DelegatingTest(test_cfg) for test_cfg in config.tests)\n",
    "\n",
    "\n",
    "s = DelegatedSuite(CombinedConfig())\n",
    "s"
   ]
  },
  {
   "cell_type": "markdown",
   "id": "49c2f9e6-a79e-4b1c-9f96-ef47fef4b6ea",
   "metadata": {},
   "source": [
    "## Conditional Suite Structure"
   ]
  },
  {
   "cell_type": "markdown",
   "id": "54674b21-8154-4cc3-92b7-85ef33a4fc89",
   "metadata": {},
   "source": [
    "One of the goals of building an Object-Oriented suite is avoiding tangled, procedural complexity in constructing suites. Making a suite configurable, and multi-purpose requires conditionality in how the suite is constructed.\n",
    "\n",
    "The most obvious way to do this is to put conditional expressions, namely if statements, into the suite structure. This works, but leads to a long-term increase in the complexity of the suite. But worse, it puts the configuration- and system-dependent logic about how a suite should be built into the structure of the suite rather than with the configuration where it belongs.\n",
    "\n",
    "This example shows delegation of conditional behaviour to a configuration, such that the configuration can use arbitrary logic and complexity (in this case just a lookup) to determine which subsections of a suite get built."
   ]
  },
  {
   "cell_type": "code",
   "execution_count": 11,
   "id": "306f4ce9-b605-460a-84bc-366b20547b0f",
   "metadata": {},
   "outputs": [
    {
     "data": {
      "text/html": [
       "<pre><span style=\"text-weight: bold; color: green\">suite</span> default_tests\n",
       "  <span style=\"text-weight: bold; color: green\">defstatus</span> suspended\n",
       "  <span style=\"text-weight: bold; color: green\">edit</span> ECF_FILES <span style=\"color: red\">'/path/to/scratch/files/default_tests'</span>\n",
       "  <span style=\"text-weight: bold; color: green\">edit</span> ECF_HOME <span style=\"color: red\">'/path/to/scratch/out'</span>\n",
       "  <span style=\"text-weight: bold; color: green\">edit</span> ECF_JOB_CMD <span style=\"color: red\">'bash -c '</span>export ECF_PORT=%ECF_PORT%; export ECF_HOST=%ECF_HOST%; export ECF_NAME=%ECF_NAME%; export ECF_PASS=%ECF_PASS%; export ECF_TRYNO=%ECF_TRYNO%; export PATH=/usr/local/apps/ecflow/%ECF_VERSION%/bin:$PATH; ecflow_client --init=<span style=\"color: red\">\"$$\"</span> && %ECF_JOB% && ecflow_client --complete || ecflow_client --abort <span style=\"color: red\">' 1> %ECF_JOBOUT% 2>&1 &'</span>\n",
       "  <span style=\"text-weight: bold; color: green\">edit</span> ECF_KILL_CMD <span style=\"color: red\">'pkill -15 -P %ECF_RID%'</span>\n",
       "  <span style=\"text-weight: bold; color: green\">edit</span> ECF_STATUS_CMD <span style=\"color: red\">'true'</span>\n",
       "  <span style=\"text-weight: bold; color: green\">edit</span> ECF_OUT <span style=\"color: red\">'%ECF_HOME%'</span>\n",
       "  <span style=\"text-weight: bold; color: green\">label</span> exec_host <span style=\"color: red\">\"localhost\"</span>\n",
       "  <span style=\"text-weight: bold; color: green\">task</span> test3\n",
       "<span style=\"text-weight: bold; color: green\">endsuite</span>\n",
       "</pre>"
      ],
      "text/plain": [
       "TestingSuite(/default_tests)"
      ]
     },
     "execution_count": 11,
     "metadata": {},
     "output_type": "execute_result"
    }
   ],
   "source": [
    "class Config:\n",
    "    \n",
    "    def __init__(self, **tests):\n",
    "        \n",
    "        # Default tests that should be built. Otherwise assume not\n",
    "        self.enabled_tests = {\n",
    "            'test3': True\n",
    "        }\n",
    "        self.enabled_tests.update(tests)\n",
    "        \n",
    "    def build_test(self, cls, name, *args, **kwargs):\n",
    "        if self.enabled_tests.get(name, False):\n",
    "            return cls(name, *args, **kwargs)\n",
    "        \n",
    "        \n",
    "class ATest(pf.Task):\n",
    "    def __init__(self, name, val):\n",
    "        super().__init__(name, script=\"echo test={} : val={}\".format(name, val))\n",
    "        \n",
    "\n",
    "class TestingSuite(CourseSuite):\n",
    "    \n",
    "    def __init__(self, name, config, **kwargs):\n",
    "        super().__init__(name, **kwargs)\n",
    "        with self:\n",
    "            config.build_test(ATest, 'test1', 1234)\n",
    "            config.build_test(ATest, 'test2', 4321)\n",
    "            config.build_test(ATest, 'test3', 6666)\n",
    "            config.build_test(ATest, 'test4', 7777)\n",
    "\n",
    "\n",
    "TestingSuite('default_tests', Config())"
   ]
  },
  {
   "cell_type": "code",
   "execution_count": 12,
   "id": "eec86bb2-a685-41f0-ab62-e212b376752f",
   "metadata": {},
   "outputs": [
    {
     "data": {
      "text/html": [
       "<pre><span style=\"text-weight: bold; color: green\">suite</span> add_test4\n",
       "  <span style=\"text-weight: bold; color: green\">defstatus</span> suspended\n",
       "  <span style=\"text-weight: bold; color: green\">edit</span> ECF_FILES <span style=\"color: red\">'/path/to/scratch/files/add_test4'</span>\n",
       "  <span style=\"text-weight: bold; color: green\">edit</span> ECF_HOME <span style=\"color: red\">'/path/to/scratch/out'</span>\n",
       "  <span style=\"text-weight: bold; color: green\">edit</span> ECF_JOB_CMD <span style=\"color: red\">'bash -c '</span>export ECF_PORT=%ECF_PORT%; export ECF_HOST=%ECF_HOST%; export ECF_NAME=%ECF_NAME%; export ECF_PASS=%ECF_PASS%; export ECF_TRYNO=%ECF_TRYNO%; export PATH=/usr/local/apps/ecflow/%ECF_VERSION%/bin:$PATH; ecflow_client --init=<span style=\"color: red\">\"$$\"</span> && %ECF_JOB% && ecflow_client --complete || ecflow_client --abort <span style=\"color: red\">' 1> %ECF_JOBOUT% 2>&1 &'</span>\n",
       "  <span style=\"text-weight: bold; color: green\">edit</span> ECF_KILL_CMD <span style=\"color: red\">'pkill -15 -P %ECF_RID%'</span>\n",
       "  <span style=\"text-weight: bold; color: green\">edit</span> ECF_STATUS_CMD <span style=\"color: red\">'true'</span>\n",
       "  <span style=\"text-weight: bold; color: green\">edit</span> ECF_OUT <span style=\"color: red\">'%ECF_HOME%'</span>\n",
       "  <span style=\"text-weight: bold; color: green\">label</span> exec_host <span style=\"color: red\">\"localhost\"</span>\n",
       "  <span style=\"text-weight: bold; color: green\">task</span> test3\n",
       "  <span style=\"text-weight: bold; color: green\">task</span> test4\n",
       "<span style=\"text-weight: bold; color: green\">endsuite</span>\n",
       "</pre>"
      ],
      "text/plain": [
       "TestingSuite(/add_test4)"
      ]
     },
     "execution_count": 12,
     "metadata": {},
     "output_type": "execute_result"
    }
   ],
   "source": [
    "TestingSuite('add_test4', Config(test4=True))"
   ]
  },
  {
   "cell_type": "code",
   "execution_count": 13,
   "id": "226f1823-f4a1-4a16-88dd-cec839684acc",
   "metadata": {},
   "outputs": [
    {
     "data": {
      "text/html": [
       "<pre><span style=\"text-weight: bold; color: green\">suite</span> override_default_test\n",
       "  <span style=\"text-weight: bold; color: green\">defstatus</span> suspended\n",
       "  <span style=\"text-weight: bold; color: green\">edit</span> ECF_FILES <span style=\"color: red\">'/path/to/scratch/files/override_default_test'</span>\n",
       "  <span style=\"text-weight: bold; color: green\">edit</span> ECF_HOME <span style=\"color: red\">'/path/to/scratch/out'</span>\n",
       "  <span style=\"text-weight: bold; color: green\">edit</span> ECF_JOB_CMD <span style=\"color: red\">'bash -c '</span>export ECF_PORT=%ECF_PORT%; export ECF_HOST=%ECF_HOST%; export ECF_NAME=%ECF_NAME%; export ECF_PASS=%ECF_PASS%; export ECF_TRYNO=%ECF_TRYNO%; export PATH=/usr/local/apps/ecflow/%ECF_VERSION%/bin:$PATH; ecflow_client --init=<span style=\"color: red\">\"$$\"</span> && %ECF_JOB% && ecflow_client --complete || ecflow_client --abort <span style=\"color: red\">' 1> %ECF_JOBOUT% 2>&1 &'</span>\n",
       "  <span style=\"text-weight: bold; color: green\">edit</span> ECF_KILL_CMD <span style=\"color: red\">'pkill -15 -P %ECF_RID%'</span>\n",
       "  <span style=\"text-weight: bold; color: green\">edit</span> ECF_STATUS_CMD <span style=\"color: red\">'true'</span>\n",
       "  <span style=\"text-weight: bold; color: green\">edit</span> ECF_OUT <span style=\"color: red\">'%ECF_HOME%'</span>\n",
       "  <span style=\"text-weight: bold; color: green\">label</span> exec_host <span style=\"color: red\">\"localhost\"</span>\n",
       "  <span style=\"text-weight: bold; color: green\">task</span> test1\n",
       "  <span style=\"text-weight: bold; color: green\">task</span> test2\n",
       "<span style=\"text-weight: bold; color: green\">endsuite</span>\n",
       "</pre>"
      ],
      "text/plain": [
       "TestingSuite(/override_default_test)"
      ]
     },
     "execution_count": 13,
     "metadata": {},
     "output_type": "execute_result"
    }
   ],
   "source": [
    "TestingSuite('override_default_test', Config(test1=True, test2=True, test3=False))"
   ]
  },
  {
   "cell_type": "markdown",
   "id": "c9043ddb-8712-4409-bf11-5a92d6febb64",
   "metadata": {},
   "source": [
    "### Structural Delegation"
   ]
  },
  {
   "cell_type": "markdown",
   "id": "eb218fbb-928c-48f5-98a7-7e3c4c636238",
   "metadata": {},
   "source": [
    "This first example demonstrates delegating a structural decision to a configuration object. We wish to loop over two different axes - one an integer axis, and the other a string based one. The configuration objects decide how this should be done, and the order of the looping.\n",
    "\n",
    "Further configuration objects can be derived from `Config1` and `Config2` to update the values, while leaving the structures the same.\n",
    "\n",
    "Once the suite has delegated construction of the looping structure to the config, the construction of the tasks within the looping structure can be continued in the normal way."
   ]
  },
  {
   "cell_type": "code",
   "execution_count": 14,
   "id": "d9a342c0-d6bf-4456-824a-98bea1bd6f02",
   "metadata": {},
   "outputs": [
    {
     "data": {
      "text/html": [
       "<pre><span style=\"text-weight: bold; color: green\">suite</span> config_string_integer\n",
       "  <span style=\"text-weight: bold; color: green\">defstatus</span> suspended\n",
       "  <span style=\"text-weight: bold; color: green\">edit</span> ECF_FILES <span style=\"color: red\">'/path/to/scratch/files/config_string_integer'</span>\n",
       "  <span style=\"text-weight: bold; color: green\">edit</span> ECF_HOME <span style=\"color: red\">'/path/to/scratch/out'</span>\n",
       "  <span style=\"text-weight: bold; color: green\">edit</span> ECF_JOB_CMD <span style=\"color: red\">'bash -c '</span>export ECF_PORT=%ECF_PORT%; export ECF_HOST=%ECF_HOST%; export ECF_NAME=%ECF_NAME%; export ECF_PASS=%ECF_PASS%; export ECF_TRYNO=%ECF_TRYNO%; export PATH=/usr/local/apps/ecflow/%ECF_VERSION%/bin:$PATH; ecflow_client --init=<span style=\"color: red\">\"$$\"</span> && %ECF_JOB% && ecflow_client --complete || ecflow_client --abort <span style=\"color: red\">' 1> %ECF_JOBOUT% 2>&1 &'</span>\n",
       "  <span style=\"text-weight: bold; color: green\">edit</span> ECF_KILL_CMD <span style=\"color: red\">'pkill -15 -P %ECF_RID%'</span>\n",
       "  <span style=\"text-weight: bold; color: green\">edit</span> ECF_STATUS_CMD <span style=\"color: red\">'true'</span>\n",
       "  <span style=\"text-weight: bold; color: green\">edit</span> ECF_OUT <span style=\"color: red\">'%ECF_HOME%'</span>\n",
       "  <span style=\"text-weight: bold; color: green\">label</span> exec_host <span style=\"color: red\">\"localhost\"</span>\n",
       "  <span style=\"text-weight: bold; color: green\">family</span> string_looper\n",
       "    <span style=\"text-weight: bold; color: green\">repeat enumerated</span> REPEAT_STRING <span style=\"color: red\">\"a\"</span> <span style=\"color: red\">\"b\"</span> <span style=\"color: red\">\"c\"</span> <span style=\"color: red\">\"d\"</span> <span style=\"color: red\">\"e\"</span>\n",
       "    <span style=\"text-weight: bold; color: green\">family</span> integer_looper\n",
       "      <span style=\"text-weight: bold; color: green\">repeat integer</span> REPEAT_INTEGER 1 5\n",
       "      <span style=\"text-weight: bold; color: green\">label</span> info <span style=\"color: red\">\"\"</span>\n",
       "      <span style=\"text-weight: bold; color: green\">task</span> set_labels\n",
       "      <span style=\"text-weight: bold; color: green\">task</span> wait_2\n",
       "        <span style=\"text-weight: bold; color: green\">trigger</span> set_labels <span style=\"text-weight: bold; color: purple\">eq</span> <span style=\"font-style: italic;color: blue\">complete</span>\n",
       "    <span style=\"text-weight: bold; color: green\">endfamily</span>\n",
       "  <span style=\"text-weight: bold; color: green\">endfamily</span>\n",
       "<span style=\"text-weight: bold; color: green\">endsuite</span>\n",
       "</pre>"
      ],
      "text/plain": [
       "NestedLoopingSuite(/config_string_integer)"
      ]
     },
     "execution_count": 14,
     "metadata": {},
     "output_type": "execute_result"
    }
   ],
   "source": [
    "class ConfigBase:\n",
    "    suite_name = None\n",
    "    min_integer = 1\n",
    "    max_integer = 5\n",
    "    strings = ['a', 'b', 'c', 'd', 'e']\n",
    "    \n",
    "    def build_nested_loops(self, **kwargs):\n",
    "        raise NotImplementedError\n",
    "\n",
    "\n",
    "class Config1(ConfigBase):\n",
    "    suite_name = 'config_string_integer'\n",
    "    def build_nested_loops(self, **kwargs):\n",
    "        with pf.Family('string_looper'):\n",
    "            pf.RepeatEnumerated('REPEAT_STRING', self.strings)\n",
    "            with pf.Family('integer_looper', **kwargs) as inner:\n",
    "                pf.RepeatInteger('REPEAT_INTEGER', self.min_integer, self.max_integer)\n",
    "        return inner\n",
    "\n",
    "\n",
    "class Config2(ConfigBase):\n",
    "    suite_name = 'config_integer_string'\n",
    "    def build_nested_loops(self, **kwargs):\n",
    "        with pf.Family('integer_looper'):\n",
    "            pf.RepeatInteger('REPEAT_INTEGER', self.min_integer, self.max_integer)\n",
    "            with pf.Family('string_looper', **kwargs) as inner:\n",
    "                pf.RepeatEnumerated('REPEAT_STRING', self.strings)\n",
    "        return inner\n",
    "\n",
    "\n",
    "class NestedLoopingSuite(CourseSuite):\n",
    "    def __init__(self, config):\n",
    "        super().__init__(config.suite_name)\n",
    "        \n",
    "        with self:\n",
    "            with config.build_nested_loops(labels={'info': ''}) as f:\n",
    "                (                \n",
    "                    LabelSetter((f.info, '$REPEAT_INTEGER : $REPEAT_STRING'))\n",
    "                    >>\n",
    "                    WaitSeconds(2)\n",
    "                )\n",
    "\n",
    "\n",
    "s1 = NestedLoopingSuite(Config1())\n",
    "s2 = NestedLoopingSuite(Config2())\n",
    "s1"
   ]
  },
  {
   "cell_type": "code",
   "execution_count": 15,
   "id": "fff8cc57-e848-43dd-bc1f-87c22690f2a2",
   "metadata": {},
   "outputs": [
    {
     "data": {
      "text/html": [
       "<h3>File: /path/to/scratch/files/config_string_integer/set_labels.ecf</h3><hr><pre><span style=\"font-style: italic;color: blue\">#!/bin/bash</span>\n",
       "\n",
       "<span style=\"text-weight: bold; color: green\">echo</span> \"Running on: $(hostname)\" || true\n",
       "<span style=\"text-weight: bold; color: green\">set</span> -uex\n",
       "\n",
       "\n",
       "<span style=\"text-weight: bold; color: green\">export</span> ECF_PORT=<span style=\"color: red\">%ECF_PORT%</span>    <span style=\"font-style: italic;color: blue\"># The server port number</span>\n",
       "<span style=\"text-weight: bold; color: green\">export</span> ECF_HOST=<span style=\"color: red\">%ECF_HOST%</span>    <span style=\"font-style: italic;color: blue\"># The host name where the server is running</span>\n",
       "<span style=\"text-weight: bold; color: green\">export</span> ECF_NAME=<span style=\"color: red\">%ECF_NAME%</span>    <span style=\"font-style: italic;color: blue\"># The name of this current task</span>\n",
       "<span style=\"text-weight: bold; color: green\">export</span> ECF_PASS=<span style=\"color: red\">%ECF_PASS%</span>    <span style=\"font-style: italic;color: blue\"># A unique password</span>\n",
       "<span style=\"text-weight: bold; color: green\">export</span> ECF_TRYNO=<span style=\"color: red\">%ECF_TRYNO%</span>  <span style=\"font-style: italic;color: blue\"># Current try number of the task</span>\n",
       "\n",
       "<span style=\"text-weight: bold; color: green\">export</span> REPEAT_INTEGER=\"<span style=\"color: red\">%REPEAT_INTEGER%</span>\"\n",
       "<span style=\"text-weight: bold; color: green\">export</span> REPEAT_STRING=\"<span style=\"color: red\">%REPEAT_STRING%</span>\"\n",
       "\n",
       "<span style=\"text-weight: bold; color: green\">echo</span> \"Current working directory: $(pwd)\"\n",
       "\n",
       "%nopp\n",
       "\n",
       "ecflow_client --alter=change label info \"$REPEAT_INTEGER : $REPEAT_STRING\" /config_string_integer/string_looper/integer_looper\n",
       "\n",
       "%end\n",
       "</pre><hr><h3>File: /path/to/scratch/files/config_string_integer/wait_2.ecf</h3><hr><pre><span style=\"font-style: italic;color: blue\">#!/bin/bash</span>\n",
       "\n",
       "<span style=\"text-weight: bold; color: green\">echo</span> \"Running on: $(hostname)\" || true\n",
       "<span style=\"text-weight: bold; color: green\">set</span> -uex\n",
       "\n",
       "\n",
       "<span style=\"text-weight: bold; color: green\">export</span> ECF_PORT=<span style=\"color: red\">%ECF_PORT%</span>    <span style=\"font-style: italic;color: blue\"># The server port number</span>\n",
       "<span style=\"text-weight: bold; color: green\">export</span> ECF_HOST=<span style=\"color: red\">%ECF_HOST%</span>    <span style=\"font-style: italic;color: blue\"># The host name where the server is running</span>\n",
       "<span style=\"text-weight: bold; color: green\">export</span> ECF_NAME=<span style=\"color: red\">%ECF_NAME%</span>    <span style=\"font-style: italic;color: blue\"># The name of this current task</span>\n",
       "<span style=\"text-weight: bold; color: green\">export</span> ECF_PASS=<span style=\"color: red\">%ECF_PASS%</span>    <span style=\"font-style: italic;color: blue\"># A unique password</span>\n",
       "<span style=\"text-weight: bold; color: green\">export</span> ECF_TRYNO=<span style=\"color: red\">%ECF_TRYNO%</span>  <span style=\"font-style: italic;color: blue\"># Current try number of the task</span>\n",
       "\n",
       "<span style=\"text-weight: bold; color: green\">echo</span> \"Current working directory: $(pwd)\"\n",
       "\n",
       "%nopp\n",
       "\n",
       "sleep 2\n",
       "\n",
       "%end\n",
       "</pre><hr>"
      ],
      "text/plain": [
       "<pyflow.files.Notebook at 0x7fdde8459a30>"
      ]
     },
     "execution_count": 15,
     "metadata": {},
     "output_type": "execute_result"
    }
   ],
   "source": [
    "s1.deploy_suite(pf.Notebook)"
   ]
  },
  {
   "cell_type": "code",
   "execution_count": 16,
   "id": "233a99a2-d0cf-4d5a-b89f-349ed35a11ab",
   "metadata": {},
   "outputs": [
    {
     "data": {
      "text/html": [
       "<pre><span style=\"text-weight: bold; color: green\">suite</span> config_integer_string\n",
       "  <span style=\"text-weight: bold; color: green\">defstatus</span> suspended\n",
       "  <span style=\"text-weight: bold; color: green\">edit</span> ECF_FILES <span style=\"color: red\">'/path/to/scratch/files/config_integer_string'</span>\n",
       "  <span style=\"text-weight: bold; color: green\">edit</span> ECF_HOME <span style=\"color: red\">'/path/to/scratch/out'</span>\n",
       "  <span style=\"text-weight: bold; color: green\">edit</span> ECF_JOB_CMD <span style=\"color: red\">'bash -c '</span>export ECF_PORT=%ECF_PORT%; export ECF_HOST=%ECF_HOST%; export ECF_NAME=%ECF_NAME%; export ECF_PASS=%ECF_PASS%; export ECF_TRYNO=%ECF_TRYNO%; export PATH=/usr/local/apps/ecflow/%ECF_VERSION%/bin:$PATH; ecflow_client --init=<span style=\"color: red\">\"$$\"</span> && %ECF_JOB% && ecflow_client --complete || ecflow_client --abort <span style=\"color: red\">' 1> %ECF_JOBOUT% 2>&1 &'</span>\n",
       "  <span style=\"text-weight: bold; color: green\">edit</span> ECF_KILL_CMD <span style=\"color: red\">'pkill -15 -P %ECF_RID%'</span>\n",
       "  <span style=\"text-weight: bold; color: green\">edit</span> ECF_STATUS_CMD <span style=\"color: red\">'true'</span>\n",
       "  <span style=\"text-weight: bold; color: green\">edit</span> ECF_OUT <span style=\"color: red\">'%ECF_HOME%'</span>\n",
       "  <span style=\"text-weight: bold; color: green\">label</span> exec_host <span style=\"color: red\">\"localhost\"</span>\n",
       "  <span style=\"text-weight: bold; color: green\">family</span> integer_looper\n",
       "    <span style=\"text-weight: bold; color: green\">repeat integer</span> REPEAT_INTEGER 1 5\n",
       "    <span style=\"text-weight: bold; color: green\">family</span> string_looper\n",
       "      <span style=\"text-weight: bold; color: green\">repeat enumerated</span> REPEAT_STRING <span style=\"color: red\">\"a\"</span> <span style=\"color: red\">\"b\"</span> <span style=\"color: red\">\"c\"</span> <span style=\"color: red\">\"d\"</span> <span style=\"color: red\">\"e\"</span>\n",
       "      <span style=\"text-weight: bold; color: green\">label</span> info <span style=\"color: red\">\"\"</span>\n",
       "      <span style=\"text-weight: bold; color: green\">task</span> set_labels\n",
       "      <span style=\"text-weight: bold; color: green\">task</span> wait_2\n",
       "        <span style=\"text-weight: bold; color: green\">trigger</span> set_labels <span style=\"text-weight: bold; color: purple\">eq</span> <span style=\"font-style: italic;color: blue\">complete</span>\n",
       "    <span style=\"text-weight: bold; color: green\">endfamily</span>\n",
       "  <span style=\"text-weight: bold; color: green\">endfamily</span>\n",
       "<span style=\"text-weight: bold; color: green\">endsuite</span>\n",
       "</pre>"
      ],
      "text/plain": [
       "NestedLoopingSuite(/config_integer_string)"
      ]
     },
     "execution_count": 16,
     "metadata": {},
     "output_type": "execute_result"
    }
   ],
   "source": [
    "s2"
   ]
  },
  {
   "cell_type": "code",
   "execution_count": 17,
   "id": "6076be54-57fc-47bf-941e-9e260770b860",
   "metadata": {},
   "outputs": [
    {
     "data": {
      "text/html": [
       "<h3>File: /path/to/scratch/files/config_integer_string/set_labels.ecf</h3><hr><pre><span style=\"font-style: italic;color: blue\">#!/bin/bash</span>\n",
       "\n",
       "<span style=\"text-weight: bold; color: green\">echo</span> \"Running on: $(hostname)\" || true\n",
       "<span style=\"text-weight: bold; color: green\">set</span> -uex\n",
       "\n",
       "\n",
       "<span style=\"text-weight: bold; color: green\">export</span> ECF_PORT=<span style=\"color: red\">%ECF_PORT%</span>    <span style=\"font-style: italic;color: blue\"># The server port number</span>\n",
       "<span style=\"text-weight: bold; color: green\">export</span> ECF_HOST=<span style=\"color: red\">%ECF_HOST%</span>    <span style=\"font-style: italic;color: blue\"># The host name where the server is running</span>\n",
       "<span style=\"text-weight: bold; color: green\">export</span> ECF_NAME=<span style=\"color: red\">%ECF_NAME%</span>    <span style=\"font-style: italic;color: blue\"># The name of this current task</span>\n",
       "<span style=\"text-weight: bold; color: green\">export</span> ECF_PASS=<span style=\"color: red\">%ECF_PASS%</span>    <span style=\"font-style: italic;color: blue\"># A unique password</span>\n",
       "<span style=\"text-weight: bold; color: green\">export</span> ECF_TRYNO=<span style=\"color: red\">%ECF_TRYNO%</span>  <span style=\"font-style: italic;color: blue\"># Current try number of the task</span>\n",
       "\n",
       "<span style=\"text-weight: bold; color: green\">export</span> REPEAT_INTEGER=\"<span style=\"color: red\">%REPEAT_INTEGER%</span>\"\n",
       "<span style=\"text-weight: bold; color: green\">export</span> REPEAT_STRING=\"<span style=\"color: red\">%REPEAT_STRING%</span>\"\n",
       "\n",
       "<span style=\"text-weight: bold; color: green\">echo</span> \"Current working directory: $(pwd)\"\n",
       "\n",
       "%nopp\n",
       "\n",
       "ecflow_client --alter=change label info \"$REPEAT_INTEGER : $REPEAT_STRING\" /config_integer_string/integer_looper/string_looper\n",
       "\n",
       "%end\n",
       "</pre><hr><h3>File: /path/to/scratch/files/config_integer_string/wait_2.ecf</h3><hr><pre><span style=\"font-style: italic;color: blue\">#!/bin/bash</span>\n",
       "\n",
       "<span style=\"text-weight: bold; color: green\">echo</span> \"Running on: $(hostname)\" || true\n",
       "<span style=\"text-weight: bold; color: green\">set</span> -uex\n",
       "\n",
       "\n",
       "<span style=\"text-weight: bold; color: green\">export</span> ECF_PORT=<span style=\"color: red\">%ECF_PORT%</span>    <span style=\"font-style: italic;color: blue\"># The server port number</span>\n",
       "<span style=\"text-weight: bold; color: green\">export</span> ECF_HOST=<span style=\"color: red\">%ECF_HOST%</span>    <span style=\"font-style: italic;color: blue\"># The host name where the server is running</span>\n",
       "<span style=\"text-weight: bold; color: green\">export</span> ECF_NAME=<span style=\"color: red\">%ECF_NAME%</span>    <span style=\"font-style: italic;color: blue\"># The name of this current task</span>\n",
       "<span style=\"text-weight: bold; color: green\">export</span> ECF_PASS=<span style=\"color: red\">%ECF_PASS%</span>    <span style=\"font-style: italic;color: blue\"># A unique password</span>\n",
       "<span style=\"text-weight: bold; color: green\">export</span> ECF_TRYNO=<span style=\"color: red\">%ECF_TRYNO%</span>  <span style=\"font-style: italic;color: blue\"># Current try number of the task</span>\n",
       "\n",
       "<span style=\"text-weight: bold; color: green\">echo</span> \"Current working directory: $(pwd)\"\n",
       "\n",
       "%nopp\n",
       "\n",
       "sleep 2\n",
       "\n",
       "%end\n",
       "</pre><hr>"
      ],
      "text/plain": [
       "<pyflow.files.Notebook at 0x7fddc8547280>"
      ]
     },
     "execution_count": 17,
     "metadata": {},
     "output_type": "execute_result"
    }
   ],
   "source": [
    "s2.deploy_suite(pf.Notebook)"
   ]
  }
 ],
 "metadata": {
  "kernelspec": {
   "display_name": "Python 3.10.6 64-bit",
   "language": "python",
   "name": "python3"
  },
  "language_info": {
   "codemirror_mode": {
    "name": "ipython",
    "version": 3
   },
   "file_extension": ".py",
   "mimetype": "text/x-python",
   "name": "python",
   "nbconvert_exporter": "python",
   "pygments_lexer": "ipython3",
   "version": "3.10.6"
  },
  "vscode": {
   "interpreter": {
    "hash": "b0fa6594d8f4cbf19f97940f81e996739fb7646882a419484c72d19e05852a7e"
   }
  }
 },
 "nbformat": 4,
 "nbformat_minor": 5
}
