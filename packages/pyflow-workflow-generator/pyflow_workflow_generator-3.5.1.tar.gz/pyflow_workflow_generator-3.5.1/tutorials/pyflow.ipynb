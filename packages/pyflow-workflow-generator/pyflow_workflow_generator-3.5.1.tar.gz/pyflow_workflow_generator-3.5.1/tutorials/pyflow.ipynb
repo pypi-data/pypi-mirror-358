{
 "cells": [
  {
   "cell_type": "markdown",
   "metadata": {
    "slideshow": {
     "slide_type": "slide"
    }
   },
   "source": [
    "# About pyflow"
   ]
  },
  {
   "cell_type": "markdown",
   "metadata": {},
   "source": [
    "- pyflow classes wrap ecFlow classes (`pyflow.Family` wraps `ecflow.Family`)\n",
    "- Provides higher level API\n",
    "- Attemps to implement common idioms\n",
    "- Explore ideas for script generation "
   ]
  },
  {
   "cell_type": "markdown",
   "metadata": {
    "slideshow": {
     "slide_type": "slide"
    }
   },
   "source": [
    "# Setup"
   ]
  },
  {
   "cell_type": "code",
   "execution_count": 1,
   "metadata": {
    "collapsed": true,
    "slideshow": {
     "slide_type": "-"
    }
   },
   "outputs": [],
   "source": [
    "%load_ext autoreload\n",
    "%autoreload 2"
   ]
  },
  {
   "cell_type": "code",
   "execution_count": 2,
   "metadata": {
    "collapsed": true,
    "slideshow": {
     "slide_type": "-"
    }
   },
   "outputs": [],
   "source": [
    "from pyflow import *"
   ]
  },
  {
   "cell_type": "markdown",
   "metadata": {
    "slideshow": {
     "slide_type": "-"
    }
   },
   "source": [
    "Create two variables `now` and `then` that will be used later to create date `repeats`"
   ]
  },
  {
   "cell_type": "code",
   "execution_count": 3,
   "metadata": {
    "collapsed": true,
    "slideshow": {
     "slide_type": "-"
    }
   },
   "outputs": [],
   "source": [
    "import datetime\n",
    "\n",
    "now = datetime.datetime.now()\n",
    "then = now + datetime.timedelta(days=365)"
   ]
  },
  {
   "cell_type": "markdown",
   "metadata": {
    "slideshow": {
     "slide_type": "slide"
    }
   },
   "source": [
    "# Build a suite the hard way"
   ]
  },
  {
   "cell_type": "code",
   "execution_count": 4,
   "metadata": {
    "slideshow": {
     "slide_type": "-"
    }
   },
   "outputs": [
    {
     "data": {
      "text/html": [
       "<pre><span style=\"text-weight: bold; color: green\">suite</span> test\n",
       "  <span style=\"text-weight: bold; color: green\">edit</span> ECF_JOB_CMD <span style=\"color: red\">'bash -c '</span>export ECF_PORT=%ECF_PORT%; export ECF_HOST=%ECF_HOST%; export ECF_NAME=%ECF_NAME%; export ECF_PASS=%ECF_PASS%; export ECF_TRYNO=%ECF_TRYNO%; export PATH=/usr/local/apps/ecflow/%ECF_VERSION%/bin:$PATH; ecflow_client --init=<span style=\"color: red\">\"$$\"</span> && %ECF_JOB% && ecflow_client --complete || ecflow_client --abort <span style=\"color: red\">' 1> %ECF_JOBOUT% 2>&1 &'</span>\n",
       "  <span style=\"text-weight: bold; color: green\">edit</span> ECF_KILL_CMD <span style=\"color: red\">'pkill -15 -P %ECF_RID%'</span>\n",
       "  <span style=\"text-weight: bold; color: green\">edit</span> ECF_STATUS_CMD <span style=\"color: red\">'true'</span>\n",
       "  <span style=\"text-weight: bold; color: green\">edit</span> ECF_OUT <span style=\"color: red\">'%ECF_HOME%'</span>\n",
       "  <span style=\"text-weight: bold; color: green\">label</span> exec_host <span style=\"color: red\">\"default\"</span>\n",
       "  <span style=\"text-weight: bold; color: green\">family</span> f1\n",
       "    <span style=\"text-weight: bold; color: green\">task</span> t1\n",
       "      <span style=\"text-weight: bold; color: green\">edit</span> FOO <span style=\"color: red\">'42'</span>\n",
       "  <span style=\"text-weight: bold; color: green\">endfamily</span>\n",
       "<span style=\"text-weight: bold; color: green\">endsuite</span>\n",
       "</pre>"
      ],
      "text/plain": [
       "Suite(/test)"
      ]
     },
     "execution_count": 4,
     "metadata": {},
     "output_type": "execute_result"
    }
   ],
   "source": [
    "S = Suite(\"test\")\n",
    "f1 = S.add_node(Family(\"f1\"))\n",
    "t1 = f1.add_node(Task(\"t1\"))\n",
    "v = t1.add_node(Variable(\"FOO\", 42))\n",
    "\n",
    "S"
   ]
  },
  {
   "cell_type": "markdown",
   "metadata": {
    "slideshow": {
     "slide_type": "slide"
    }
   },
   "source": [
    "The `add_node()` function returns the node that has just been added"
   ]
  },
  {
   "cell_type": "code",
   "execution_count": 5,
   "metadata": {
    "slideshow": {
     "slide_type": "-"
    }
   },
   "outputs": [
    {
     "data": {
      "text/plain": [
       "%FOO%"
      ]
     },
     "execution_count": 5,
     "metadata": {},
     "output_type": "execute_result"
    }
   ],
   "source": [
    "Suite(\"test\").add_node(Family(\"f1\")).add_node(Task(\"t1\")).add_node(Variable(\"FOO\", 42))"
   ]
  },
  {
   "cell_type": "markdown",
   "metadata": {
    "slideshow": {
     "slide_type": "slide"
    }
   },
   "source": [
    "`append_node()` gives you another behaviour"
   ]
  },
  {
   "cell_type": "code",
   "execution_count": 6,
   "metadata": {
    "slideshow": {
     "slide_type": "-"
    }
   },
   "outputs": [
    {
     "data": {
      "text/html": [
       "<pre><span style=\"text-weight: bold; color: green\">suite</span> test\n",
       "  <span style=\"text-weight: bold; color: green\">edit</span> ECF_JOB_CMD <span style=\"color: red\">'bash -c '</span>export ECF_PORT=%ECF_PORT%; export ECF_HOST=%ECF_HOST%; export ECF_NAME=%ECF_NAME%; export ECF_PASS=%ECF_PASS%; export ECF_TRYNO=%ECF_TRYNO%; export PATH=/usr/local/apps/ecflow/%ECF_VERSION%/bin:$PATH; ecflow_client --init=<span style=\"color: red\">\"$$\"</span> && %ECF_JOB% && ecflow_client --complete || ecflow_client --abort <span style=\"color: red\">' 1> %ECF_JOBOUT% 2>&1 &'</span>\n",
       "  <span style=\"text-weight: bold; color: green\">edit</span> ECF_KILL_CMD <span style=\"color: red\">'pkill -15 -P %ECF_RID%'</span>\n",
       "  <span style=\"text-weight: bold; color: green\">edit</span> ECF_STATUS_CMD <span style=\"color: red\">'true'</span>\n",
       "  <span style=\"text-weight: bold; color: green\">edit</span> ECF_OUT <span style=\"color: red\">'%ECF_HOME%'</span>\n",
       "  <span style=\"text-weight: bold; color: green\">edit</span> FOO <span style=\"color: red\">'42'</span>\n",
       "  <span style=\"text-weight: bold; color: green\">label</span> exec_host <span style=\"color: red\">\"default\"</span>\n",
       "  <span style=\"text-weight: bold; color: green\">family</span> f1\n",
       "  <span style=\"text-weight: bold; color: green\">endfamily</span>\n",
       "  <span style=\"text-weight: bold; color: green\">family</span> t1\n",
       "  <span style=\"text-weight: bold; color: green\">endfamily</span>\n",
       "<span style=\"text-weight: bold; color: green\">endsuite</span>\n",
       "</pre>"
      ],
      "text/plain": [
       "Suite(/test)"
      ]
     },
     "execution_count": 6,
     "metadata": {},
     "output_type": "execute_result"
    }
   ],
   "source": [
    "Suite(\"test\").append_node(Family(\"f1\")).append_node(Family(\"t1\")).append_node(Variable(\"FOO\", 42))"
   ]
  },
  {
   "cell_type": "markdown",
   "metadata": {
    "slideshow": {
     "slide_type": "slide"
    }
   },
   "source": [
    "# Using the `with` statement\n",
    "\n",
    "Ensures that the Python indentation matches the definition tree."
   ]
  },
  {
   "cell_type": "code",
   "execution_count": 7,
   "metadata": {
    "slideshow": {
     "slide_type": "-"
    }
   },
   "outputs": [
    {
     "data": {
      "text/html": [
       "<pre><span style=\"text-weight: bold; color: green\">suite</span> test\n",
       "  <span style=\"text-weight: bold; color: green\">edit</span> ECF_JOB_CMD <span style=\"color: red\">'bash -c '</span>export ECF_PORT=%ECF_PORT%; export ECF_HOST=%ECF_HOST%; export ECF_NAME=%ECF_NAME%; export ECF_PASS=%ECF_PASS%; export ECF_TRYNO=%ECF_TRYNO%; export PATH=/usr/local/apps/ecflow/%ECF_VERSION%/bin:$PATH; ecflow_client --init=<span style=\"color: red\">\"$$\"</span> && %ECF_JOB% && ecflow_client --complete || ecflow_client --abort <span style=\"color: red\">' 1> %ECF_JOBOUT% 2>&1 &'</span>\n",
       "  <span style=\"text-weight: bold; color: green\">edit</span> ECF_KILL_CMD <span style=\"color: red\">'pkill -15 -P %ECF_RID%'</span>\n",
       "  <span style=\"text-weight: bold; color: green\">edit</span> ECF_STATUS_CMD <span style=\"color: red\">'true'</span>\n",
       "  <span style=\"text-weight: bold; color: green\">edit</span> ECF_OUT <span style=\"color: red\">'%ECF_HOME%'</span>\n",
       "  <span style=\"text-weight: bold; color: green\">limit</span> max 10\n",
       "  <span style=\"text-weight: bold; color: green\">label</span> exec_host <span style=\"color: red\">\"default\"</span>\n",
       "  <span style=\"text-weight: bold; color: green\">family</span> f1\n",
       "    <span style=\"text-weight: bold; color: green\">task</span> t1\n",
       "      <span style=\"text-weight: bold; color: green\">edit</span> FOO <span style=\"color: red\">'42'</span>\n",
       "      <span style=\"text-weight: bold; color: green\">label</span> hello <span style=\"color: red\">\"world\"</span>\n",
       "      <span style=\"text-weight: bold; color: green\">event</span> foo\n",
       "    <span style=\"text-weight: bold; color: green\">task</span> t2\n",
       "      <span style=\"text-weight: bold; color: green\">edit</span> BAR <span style=\"color: red\">'42'</span>\n",
       "      <span style=\"text-weight: bold; color: green\">meter</span> progress 0 100 100\n",
       "    <span style=\"text-weight: bold; color: green\">task</span> t3\n",
       "      <span style=\"text-weight: bold; color: green\">repeat date</span> YMD 20221018 20231018 1\n",
       "      <span style=\"text-weight: bold; color: green\">inlimit</span> max\n",
       "  <span style=\"text-weight: bold; color: green\">endfamily</span>\n",
       "<span style=\"text-weight: bold; color: green\">endsuite</span>\n",
       "</pre>"
      ],
      "text/plain": [
       "Suite(/test)"
      ]
     },
     "execution_count": 7,
     "metadata": {},
     "output_type": "execute_result"
    }
   ],
   "source": [
    "with Suite(\"test\") as S:\n",
    "    \n",
    "    Limit(\"max\", 10)\n",
    "    \n",
    "    with Family(\"f1\"):\n",
    "        \n",
    "        with Task(\"t1\"):\n",
    "            Variable(\"FOO\", 42)\n",
    "            Label(\"hello\", \"world\")\n",
    "            Event(\"foo\")\n",
    "        \n",
    "        with Task(\"t2\"):\n",
    "            Variable(\"BAR\", 42)\n",
    "            Meter(\"progress\", 0, 100)\n",
    "        \n",
    "        with Task(\"t3\"):\n",
    "            RepeatDate(\"YMD\", now, then)\n",
    "            InLimit(\"max\")\n",
    "S"
   ]
  },
  {
   "cell_type": "markdown",
   "metadata": {
    "slideshow": {
     "slide_type": "slide"
    }
   },
   "source": [
    "# Using shortcuts"
   ]
  },
  {
   "cell_type": "code",
   "execution_count": 8,
   "metadata": {},
   "outputs": [
    {
     "data": {
      "text/html": [
       "<pre><span style=\"text-weight: bold; color: green\">suite</span> s\n",
       "  <span style=\"text-weight: bold; color: green\">edit</span> ECF_JOB_CMD <span style=\"color: red\">'bash -c '</span>export ECF_PORT=%ECF_PORT%; export ECF_HOST=%ECF_HOST%; export ECF_NAME=%ECF_NAME%; export ECF_PASS=%ECF_PASS%; export ECF_TRYNO=%ECF_TRYNO%; export PATH=/usr/local/apps/ecflow/%ECF_VERSION%/bin:$PATH; ecflow_client --init=<span style=\"color: red\">\"$$\"</span> && %ECF_JOB% && ecflow_client --complete || ecflow_client --abort <span style=\"color: red\">' 1> %ECF_JOBOUT% 2>&1 &'</span>\n",
       "  <span style=\"text-weight: bold; color: green\">edit</span> ECF_KILL_CMD <span style=\"color: red\">'pkill -15 -P %ECF_RID%'</span>\n",
       "  <span style=\"text-weight: bold; color: green\">edit</span> ECF_STATUS_CMD <span style=\"color: red\">'true'</span>\n",
       "  <span style=\"text-weight: bold; color: green\">edit</span> ECF_OUT <span style=\"color: red\">'%ECF_HOME%'</span>\n",
       "  <span style=\"text-weight: bold; color: green\">label</span> exec_host <span style=\"color: red\">\"default\"</span>\n",
       "  <span style=\"text-weight: bold; color: green\">family</span> f1\n",
       "  <span style=\"text-weight: bold; color: green\">endfamily</span>\n",
       "  <span style=\"text-weight: bold; color: green\">family</span> f2\n",
       "  <span style=\"text-weight: bold; color: green\">endfamily</span>\n",
       "  <span style=\"text-weight: bold; color: green\">family</span> f3\n",
       "  <span style=\"text-weight: bold; color: green\">endfamily</span>\n",
       "<span style=\"text-weight: bold; color: green\">endsuite</span>\n",
       "</pre>"
      ],
      "text/plain": [
       "Suite(/s)"
      ]
     },
     "execution_count": 8,
     "metadata": {},
     "output_type": "execute_result"
    }
   ],
   "source": [
    "S = Suite(\"s\")\n",
    "S.families += [\"f1\", \"f2\", \"f3\"]\n",
    "S"
   ]
  },
  {
   "cell_type": "markdown",
   "metadata": {},
   "source": [
    "... we will come back to shortcuts"
   ]
  },
  {
   "cell_type": "markdown",
   "metadata": {
    "slideshow": {
     "slide_type": "slide"
    }
   },
   "source": [
    "# Navigation using dot"
   ]
  },
  {
   "cell_type": "code",
   "execution_count": 9,
   "metadata": {
    "slideshow": {
     "slide_type": "-"
    }
   },
   "outputs": [
    {
     "data": {
      "text/plain": [
       "%BAR%"
      ]
     },
     "execution_count": 9,
     "metadata": {},
     "output_type": "execute_result"
    }
   ],
   "source": [
    "S = Suite(\"test\")\n",
    "S.add_node(Family(\"f1\")).add_node(Task(\"t1\")).add_node(Variable(\"FOO\", 42))\n",
    "S.add_node(Family(\"f2\")).add_node(Task(\"t2\")).add_node(Variable(\"BAR\", 42))"
   ]
  },
  {
   "cell_type": "code",
   "execution_count": 10,
   "metadata": {},
   "outputs": [
    {
     "name": "stdout",
     "output_type": "stream",
     "text": [
      "suite test\n",
      "  edit ECF_JOB_CMD 'bash -c 'export ECF_PORT=%ECF_PORT%; export ECF_HOST=%ECF_HOST%; export ECF_NAME=%ECF_NAME%; export ECF_PASS=%ECF_PASS%; export ECF_TRYNO=%ECF_TRYNO%; export PATH=/usr/local/apps/ecflow/%ECF_VERSION%/bin:$PATH; ecflow_client --init=\"$$\" && %ECF_JOB% && ecflow_client --complete || ecflow_client --abort ' 1> %ECF_JOBOUT% 2>&1 &'\n",
      "  edit ECF_KILL_CMD 'pkill -15 -P %ECF_RID%'\n",
      "  edit ECF_STATUS_CMD 'true'\n",
      "  edit ECF_OUT '%ECF_HOME%'\n",
      "  label exec_host \"default\"\n",
      "  family f1\n",
      "    task t1\n",
      "      edit FOO '42'\n",
      "  endfamily\n",
      "  family f2\n",
      "    task t2\n",
      "      edit BAR '42'\n",
      "  endfamily\n",
      "endsuite\n",
      "\n",
      "  family f1\n",
      "    task t1\n",
      "      edit FOO '42'\n",
      "  endfamily\n",
      "\n",
      "  task t1\n",
      "    edit FOO '42'\n",
      "\n",
      "$FOO\n"
     ]
    }
   ],
   "source": [
    "print(S)\n",
    "print(S.f1)\n",
    "print(S.f1.t1)\n",
    "print(S.f1.t1.FOO)"
   ]
  },
  {
   "cell_type": "markdown",
   "metadata": {
    "slideshow": {
     "slide_type": "slide"
    }
   },
   "source": [
    "# Navigation using dot (cont.)"
   ]
  },
  {
   "cell_type": "code",
   "execution_count": 11,
   "metadata": {
    "slideshow": {
     "slide_type": "-"
    }
   },
   "outputs": [
    {
     "name": "stdout",
     "output_type": "stream",
     "text": [
      "  task t1\n",
      "    edit FOO '42'\n",
      "\n",
      "  task t1\n",
      "    edit FOO '42'\n",
      "\n",
      "  family f1\n",
      "    task t1\n",
      "      edit FOO '42'\n",
      "  endfamily\n",
      "\n",
      "suite test\n",
      "  edit ECF_JOB_CMD 'bash -c 'export ECF_PORT=%ECF_PORT%; export ECF_HOST=%ECF_HOST%; export ECF_NAME=%ECF_NAME%; export ECF_PASS=%ECF_PASS%; export ECF_TRYNO=%ECF_TRYNO%; export PATH=/usr/local/apps/ecflow/%ECF_VERSION%/bin:$PATH; ecflow_client --init=\"$$\" && %ECF_JOB% && ecflow_client --complete || ecflow_client --abort ' 1> %ECF_JOBOUT% 2>&1 &'\n",
      "  edit ECF_KILL_CMD 'pkill -15 -P %ECF_RID%'\n",
      "  edit ECF_STATUS_CMD 'true'\n",
      "  edit ECF_OUT '%ECF_HOME%'\n",
      "  label exec_host \"default\"\n",
      "  family f1\n",
      "    task t1\n",
      "      edit FOO '42'\n",
      "  endfamily\n",
      "  family f2\n",
      "    task t2\n",
      "      edit BAR '42'\n",
      "  endfamily\n",
      "endsuite\n",
      "\n",
      "odict_values([Label(/test:exec_host), %ECF_JOB_CMD%, %ECF_KILL_CMD%, %ECF_STATUS_CMD%, %ECF_OUT%, Family(/test/f1), Family(/test/f2)])\n"
     ]
    }
   ],
   "source": [
    "print(S.f1.t1.FOO.parent)\n",
    "print(S.f1.t1.FOO.task)\n",
    "print(S.f1.t1.FOO.family)\n",
    "print(S.f1.t1.FOO.suite)\n",
    "print(S.children)"
   ]
  },
  {
   "cell_type": "code",
   "execution_count": 12,
   "metadata": {},
   "outputs": [
    {
     "name": "stdout",
     "output_type": "stream",
     "text": [
      "Tasks<  family f1\n",
      "    task t1\n",
      "      edit FOO '42'\n",
      "  endfamily\n",
      ">\n",
      "Families<suite test\n",
      "  edit ECF_JOB_CMD 'bash -c 'export ECF_PORT=%ECF_PORT%; export ECF_HOST=%ECF_HOST%; export ECF_NAME=%ECF_NAME%; export ECF_PASS=%ECF_PASS%; export ECF_TRYNO=%ECF_TRYNO%; export PATH=/usr/local/apps/ecflow/%ECF_VERSION%/bin:$PATH; ecflow_client --init=\"$$\" && %ECF_JOB% && ecflow_client --complete || ecflow_client --abort ' 1> %ECF_JOBOUT% 2>&1 &'\n",
      "  edit ECF_KILL_CMD 'pkill -15 -P %ECF_RID%'\n",
      "  edit ECF_STATUS_CMD 'true'\n",
      "  edit ECF_OUT '%ECF_HOME%'\n",
      "  label exec_host \"default\"\n",
      "  family f1\n",
      "    task t1\n",
      "      edit FOO '42'\n",
      "  endfamily\n",
      "  family f2\n",
      "    task t2\n",
      "      edit BAR '42'\n",
      "  endfamily\n",
      "endsuite\n",
      ">\n"
     ]
    }
   ],
   "source": [
    "print(S.f1.tasks)\n",
    "print(S.families)"
   ]
  },
  {
   "cell_type": "markdown",
   "metadata": {
    "slideshow": {
     "slide_type": "slide"
    }
   },
   "source": [
    "# Using the array notation "
   ]
  },
  {
   "cell_type": "code",
   "execution_count": 13,
   "metadata": {},
   "outputs": [
    {
     "name": "stdout",
     "output_type": "stream",
     "text": [
      "  task t1\n",
      "    edit FOO '42'\n",
      "\n",
      "  task t1\n",
      "    edit FOO '42'\n",
      "\n",
      "  task t1\n",
      "    edit FOO '42'\n",
      "\n"
     ]
    }
   ],
   "source": [
    "print(S[\"f1\"][\"t1\"])\n",
    "print(S.f1[\"t1\"])\n",
    "print(S[\"f1\"].t1)"
   ]
  },
  {
   "cell_type": "markdown",
   "metadata": {},
   "source": [
    "Needed for digit only node names"
   ]
  },
  {
   "cell_type": "code",
   "execution_count": 14,
   "metadata": {},
   "outputs": [
    {
     "data": {
      "text/html": [
       "<pre>  <span style=\"text-weight: bold; color: green\">family</span> 12\n",
       "    <span style=\"text-weight: bold; color: green\">task</span> t\n",
       "  <span style=\"text-weight: bold; color: green\">endfamily</span>\n",
       "</pre>"
      ],
      "text/plain": [
       "Family(/s/12)"
      ]
     },
     "execution_count": 14,
     "metadata": {},
     "output_type": "execute_result"
    }
   ],
   "source": [
    "with Suite(\"s\") as S:\n",
    "    with Family(\"12\"):\n",
    "        Task(\"t\")\n",
    "        \n",
    "S[\"12\"]"
   ]
  },
  {
   "cell_type": "markdown",
   "metadata": {
    "slideshow": {
     "slide_type": "slide"
    }
   },
   "source": [
    "# Using the array notation with classes"
   ]
  },
  {
   "cell_type": "code",
   "execution_count": 15,
   "metadata": {
    "slideshow": {
     "slide_type": "-"
    }
   },
   "outputs": [
    {
     "name": "stdout",
     "output_type": "stream",
     "text": [
      "Families<suite s\n",
      "  edit ECF_JOB_CMD 'bash -c 'export ECF_PORT=%ECF_PORT%; export ECF_HOST=%ECF_HOST%; export ECF_NAME=%ECF_NAME%; export ECF_PASS=%ECF_PASS%; export ECF_TRYNO=%ECF_TRYNO%; export PATH=/usr/local/apps/ecflow/%ECF_VERSION%/bin:$PATH; ecflow_client --init=\"$$\" && %ECF_JOB% && ecflow_client --complete || ecflow_client --abort ' 1> %ECF_JOBOUT% 2>&1 &'\n",
      "  edit ECF_KILL_CMD 'pkill -15 -P %ECF_RID%'\n",
      "  edit ECF_STATUS_CMD 'true'\n",
      "  edit ECF_OUT '%ECF_HOME%'\n",
      "  label exec_host \"default\"\n",
      "  family 12\n",
      "    task t\n",
      "  endfamily\n",
      "endsuite\n",
      ">\n"
     ]
    }
   ],
   "source": [
    "print(S[Family])"
   ]
  },
  {
   "cell_type": "code",
   "execution_count": 16,
   "metadata": {},
   "outputs": [
    {
     "data": {
      "text/plain": [
       "odict_values([Label(/s:exec_host), %ECF_JOB_CMD%, %ECF_KILL_CMD%, %ECF_STATUS_CMD%, %ECF_OUT%, Family(/s/12)])"
      ]
     },
     "execution_count": 16,
     "metadata": {},
     "output_type": "execute_result"
    }
   ],
   "source": [
    "S[:]"
   ]
  },
  {
   "cell_type": "code",
   "execution_count": 17,
   "metadata": {
    "collapsed": true
   },
   "outputs": [],
   "source": [
    "S[Family] += [\"f4\", \"f5\"]"
   ]
  },
  {
   "cell_type": "code",
   "execution_count": 18,
   "metadata": {},
   "outputs": [
    {
     "name": "stdout",
     "output_type": "stream",
     "text": [
      "  family 12\n",
      "    task t\n",
      "  endfamily\n",
      "\n",
      "  family f4\n",
      "  endfamily\n",
      "\n",
      "  family f5\n",
      "  endfamily\n",
      "\n"
     ]
    }
   ],
   "source": [
    "for n in S[Family]:\n",
    "    print(n)"
   ]
  },
  {
   "cell_type": "markdown",
   "metadata": {
    "slideshow": {
     "slide_type": "slide"
    }
   },
   "source": [
    "# Using the array notation with classes (cont.)"
   ]
  },
  {
   "cell_type": "code",
   "execution_count": 19,
   "metadata": {
    "slideshow": {
     "slide_type": "-"
    }
   },
   "outputs": [
    {
     "data": {
      "text/plain": [
       "odict_values([Label(/s:exec_host), %ECF_JOB_CMD%, %ECF_KILL_CMD%, %ECF_STATUS_CMD%, %ECF_OUT%, Family(/s/12), Family(/s/f4), Family(/s/f5)])"
      ]
     },
     "execution_count": 19,
     "metadata": {},
     "output_type": "execute_result"
    }
   ],
   "source": [
    "S[:]"
   ]
  },
  {
   "cell_type": "code",
   "execution_count": 20,
   "metadata": {
    "collapsed": true
   },
   "outputs": [],
   "source": [
    "S[\"FOO\"] = 42"
   ]
  },
  {
   "cell_type": "code",
   "execution_count": 21,
   "metadata": {},
   "outputs": [
    {
     "data": {
      "text/plain": [
       "odict_values([Label(/s:exec_host), %ECF_JOB_CMD%, %ECF_KILL_CMD%, %ECF_STATUS_CMD%, %ECF_OUT%, Family(/s/12), Family(/s/f4), Family(/s/f5), %FOO%])"
      ]
     },
     "execution_count": 21,
     "metadata": {},
     "output_type": "execute_result"
    }
   ],
   "source": [
    "S[:]"
   ]
  },
  {
   "cell_type": "markdown",
   "metadata": {
    "slideshow": {
     "slide_type": "slide"
    }
   },
   "source": [
    "# Using shortcuts (part 2)"
   ]
  },
  {
   "cell_type": "code",
   "execution_count": 22,
   "metadata": {},
   "outputs": [
    {
     "data": {
      "text/html": [
       "<pre><span style=\"text-weight: bold; color: green\">suite</span> s\n",
       "  <span style=\"text-weight: bold; color: green\">edit</span> ECF_JOB_CMD <span style=\"color: red\">'bash -c '</span>export ECF_PORT=%ECF_PORT%; export ECF_HOST=%ECF_HOST%; export ECF_NAME=%ECF_NAME%; export ECF_PASS=%ECF_PASS%; export ECF_TRYNO=%ECF_TRYNO%; export PATH=/usr/local/apps/ecflow/%ECF_VERSION%/bin:$PATH; ecflow_client --init=<span style=\"color: red\">\"$$\"</span> && %ECF_JOB% && ecflow_client --complete || ecflow_client --abort <span style=\"color: red\">' 1> %ECF_JOBOUT% 2>&1 &'</span>\n",
       "  <span style=\"text-weight: bold; color: green\">edit</span> ECF_KILL_CMD <span style=\"color: red\">'pkill -15 -P %ECF_RID%'</span>\n",
       "  <span style=\"text-weight: bold; color: green\">edit</span> ECF_STATUS_CMD <span style=\"color: red\">'true'</span>\n",
       "  <span style=\"text-weight: bold; color: green\">edit</span> ECF_OUT <span style=\"color: red\">'%ECF_HOME%'</span>\n",
       "  <span style=\"text-weight: bold; color: green\">label</span> exec_host <span style=\"color: red\">\"default\"</span>\n",
       "  <span style=\"text-weight: bold; color: green\">family</span> f1\n",
       "    <span style=\"text-weight: bold; color: green\">task</span> t1\n",
       "    <span style=\"text-weight: bold; color: green\">task</span> t2\n",
       "  <span style=\"text-weight: bold; color: green\">endfamily</span>\n",
       "  <span style=\"text-weight: bold; color: green\">family</span> f2\n",
       "    <span style=\"text-weight: bold; color: green\">task</span> t1\n",
       "    <span style=\"text-weight: bold; color: green\">task</span> t2\n",
       "  <span style=\"text-weight: bold; color: green\">endfamily</span>\n",
       "<span style=\"text-weight: bold; color: green\">endsuite</span>\n",
       "</pre>"
      ],
      "text/plain": [
       "Suite(/s)"
      ]
     },
     "execution_count": 22,
     "metadata": {},
     "output_type": "execute_result"
    }
   ],
   "source": [
    "S = Suite(\"s\")\n",
    "\n",
    "S.families += [\"f1\", \"f2\"]\n",
    "S.f1.tasks += [\"t1\", \"t2\"]\n",
    "S.f2.tasks += [\"t1\", \"t2\"]\n",
    "\n",
    "S"
   ]
  },
  {
   "cell_type": "markdown",
   "metadata": {
    "slideshow": {
     "slide_type": "slide"
    }
   },
   "source": [
    "# Triggers are defined using the dot notation"
   ]
  },
  {
   "cell_type": "code",
   "execution_count": 23,
   "metadata": {},
   "outputs": [
    {
     "data": {
      "text/plain": [
       "(/s/f1/t1 eq complete)"
      ]
     },
     "execution_count": 23,
     "metadata": {},
     "output_type": "execute_result"
    }
   ],
   "source": [
    "S.f1.t1.complete"
   ]
  },
  {
   "cell_type": "markdown",
   "metadata": {},
   "source": [
    "Using the Trigger class"
   ]
  },
  {
   "cell_type": "code",
   "execution_count": 24,
   "metadata": {},
   "outputs": [
    {
     "data": {
      "text/plain": [
       "Trigger((/s/f1/t1 eq complete))"
      ]
     },
     "execution_count": 24,
     "metadata": {},
     "output_type": "execute_result"
    }
   ],
   "source": [
    "S.f2.t2.add_node(Trigger(S.f1.t1.complete))"
   ]
  },
  {
   "cell_type": "markdown",
   "metadata": {},
   "source": [
    "Using the dot notation shortcut:"
   ]
  },
  {
   "cell_type": "code",
   "execution_count": 25,
   "metadata": {},
   "outputs": [
    {
     "data": {
      "text/html": [
       "<pre><span style=\"text-weight: bold; color: green\">suite</span> s\n",
       "  <span style=\"text-weight: bold; color: green\">edit</span> ECF_JOB_CMD <span style=\"color: red\">'bash -c '</span>export ECF_PORT=%ECF_PORT%; export ECF_HOST=%ECF_HOST%; export ECF_NAME=%ECF_NAME%; export ECF_PASS=%ECF_PASS%; export ECF_TRYNO=%ECF_TRYNO%; export PATH=/usr/local/apps/ecflow/%ECF_VERSION%/bin:$PATH; ecflow_client --init=<span style=\"color: red\">\"$$\"</span> && %ECF_JOB% && ecflow_client --complete || ecflow_client --abort <span style=\"color: red\">' 1> %ECF_JOBOUT% 2>&1 &'</span>\n",
       "  <span style=\"text-weight: bold; color: green\">edit</span> ECF_KILL_CMD <span style=\"color: red\">'pkill -15 -P %ECF_RID%'</span>\n",
       "  <span style=\"text-weight: bold; color: green\">edit</span> ECF_STATUS_CMD <span style=\"color: red\">'true'</span>\n",
       "  <span style=\"text-weight: bold; color: green\">edit</span> ECF_OUT <span style=\"color: red\">'%ECF_HOME%'</span>\n",
       "  <span style=\"text-weight: bold; color: green\">label</span> exec_host <span style=\"color: red\">\"default\"</span>\n",
       "  <span style=\"text-weight: bold; color: green\">family</span> f1\n",
       "    <span style=\"text-weight: bold; color: green\">task</span> t1\n",
       "      <span style=\"text-weight: bold; color: green\">trigger</span> ../f2/t2 <span style=\"text-weight: bold; color: purple\">eq</span> <span style=\"font-style: italic;color: blue\">complete</span>\n",
       "    <span style=\"text-weight: bold; color: green\">task</span> t2\n",
       "  <span style=\"text-weight: bold; color: green\">endfamily</span>\n",
       "  <span style=\"text-weight: bold; color: green\">family</span> f2\n",
       "    <span style=\"text-weight: bold; color: green\">task</span> t1\n",
       "    <span style=\"text-weight: bold; color: green\">task</span> t2\n",
       "      <span style=\"text-weight: bold; color: green\">trigger</span> ../f1/t1 <span style=\"text-weight: bold; color: purple\">eq</span> <span style=\"font-style: italic;color: blue\">complete</span>\n",
       "  <span style=\"text-weight: bold; color: green\">endfamily</span>\n",
       "<span style=\"text-weight: bold; color: green\">endsuite</span>\n",
       "</pre>"
      ],
      "text/plain": [
       "Suite(/s)"
      ]
     },
     "execution_count": 25,
     "metadata": {},
     "output_type": "execute_result"
    }
   ],
   "source": [
    "S.f1.t1.triggers = S.f2.t2.complete\n",
    "\n",
    "S"
   ]
  },
  {
   "cell_type": "markdown",
   "metadata": {
    "slideshow": {
     "slide_type": "slide"
    }
   },
   "source": [
    "# Trigger expressions"
   ]
  },
  {
   "cell_type": "code",
   "execution_count": 26,
   "metadata": {},
   "outputs": [
    {
     "data": {
      "text/html": [
       "<pre><span style=\"text-weight: bold; color: green\">suite</span> s\n",
       "  <span style=\"text-weight: bold; color: green\">edit</span> ECF_JOB_CMD <span style=\"color: red\">'bash -c '</span>export ECF_PORT=%ECF_PORT%; export ECF_HOST=%ECF_HOST%; export ECF_NAME=%ECF_NAME%; export ECF_PASS=%ECF_PASS%; export ECF_TRYNO=%ECF_TRYNO%; export PATH=/usr/local/apps/ecflow/%ECF_VERSION%/bin:$PATH; ecflow_client --init=<span style=\"color: red\">\"$$\"</span> && %ECF_JOB% && ecflow_client --complete || ecflow_client --abort <span style=\"color: red\">' 1> %ECF_JOBOUT% 2>&1 &'</span>\n",
       "  <span style=\"text-weight: bold; color: green\">edit</span> ECF_KILL_CMD <span style=\"color: red\">'pkill -15 -P %ECF_RID%'</span>\n",
       "  <span style=\"text-weight: bold; color: green\">edit</span> ECF_STATUS_CMD <span style=\"color: red\">'true'</span>\n",
       "  <span style=\"text-weight: bold; color: green\">edit</span> ECF_OUT <span style=\"color: red\">'%ECF_HOME%'</span>\n",
       "  <span style=\"text-weight: bold; color: green\">label</span> exec_host <span style=\"color: red\">\"default\"</span>\n",
       "  <span style=\"text-weight: bold; color: green\">task</span> t1\n",
       "  <span style=\"text-weight: bold; color: green\">task</span> t2\n",
       "  <span style=\"text-weight: bold; color: green\">task</span> t3\n",
       "    <span style=\"text-weight: bold; color: green\">trigger</span> t1 <span style=\"text-weight: bold; color: purple\">eq</span> <span style=\"font-style: italic;color: blue\">complete</span> <span style=\"text-weight: bold; color: purple\">and</span> (t2 <span style=\"text-weight: bold; color: purple\">eq</span> <span style=\"font-style: italic;color: blue\">aborted</span> <span style=\"text-weight: bold; color: purple\">or</span> t2 <span style=\"text-weight: bold; color: purple\">eq</span> <span style=\"font-style: italic;color: blue\">active</span>)\n",
       "<span style=\"text-weight: bold; color: green\">endsuite</span>\n",
       "</pre>"
      ],
      "text/plain": [
       "Suite(/s)"
      ]
     },
     "execution_count": 26,
     "metadata": {},
     "output_type": "execute_result"
    }
   ],
   "source": [
    "S = Suite(\"s\")\n",
    "\n",
    "S.tasks += [\"t1\", \"t2\", \"t3\"]\n",
    "S.t3.triggers = S.t1.complete & (S.t2.aborted | S.t2.active)\n",
    "\n",
    "S"
   ]
  },
  {
   "cell_type": "markdown",
   "metadata": {
    "slideshow": {
     "slide_type": "slide"
    }
   },
   "source": [
    "# Trigger composition"
   ]
  },
  {
   "cell_type": "code",
   "execution_count": 27,
   "metadata": {},
   "outputs": [
    {
     "data": {
      "text/html": [
       "<pre><span style=\"text-weight: bold; color: green\">suite</span> s\n",
       "  <span style=\"text-weight: bold; color: green\">edit</span> ECF_JOB_CMD <span style=\"color: red\">'bash -c '</span>export ECF_PORT=%ECF_PORT%; export ECF_HOST=%ECF_HOST%; export ECF_NAME=%ECF_NAME%; export ECF_PASS=%ECF_PASS%; export ECF_TRYNO=%ECF_TRYNO%; export PATH=/usr/local/apps/ecflow/%ECF_VERSION%/bin:$PATH; ecflow_client --init=<span style=\"color: red\">\"$$\"</span> && %ECF_JOB% && ecflow_client --complete || ecflow_client --abort <span style=\"color: red\">' 1> %ECF_JOBOUT% 2>&1 &'</span>\n",
       "  <span style=\"text-weight: bold; color: green\">edit</span> ECF_KILL_CMD <span style=\"color: red\">'pkill -15 -P %ECF_RID%'</span>\n",
       "  <span style=\"text-weight: bold; color: green\">edit</span> ECF_STATUS_CMD <span style=\"color: red\">'true'</span>\n",
       "  <span style=\"text-weight: bold; color: green\">edit</span> ECF_OUT <span style=\"color: red\">'%ECF_HOME%'</span>\n",
       "  <span style=\"text-weight: bold; color: green\">label</span> exec_host <span style=\"color: red\">\"default\"</span>\n",
       "  <span style=\"text-weight: bold; color: green\">task</span> t1\n",
       "  <span style=\"text-weight: bold; color: green\">task</span> t2\n",
       "  <span style=\"text-weight: bold; color: green\">task</span> t3\n",
       "    <span style=\"text-weight: bold; color: green\">trigger</span> (/test/f1/t1 <span style=\"text-weight: bold; color: purple\">eq</span> <span style=\"font-style: italic;color: blue\">complete</span> <span style=\"text-weight: bold; color: purple\">and</span> t2 <span style=\"text-weight: bold; color: purple\">eq</span> <span style=\"font-style: italic;color: blue\">aborted</span>) <span style=\"text-weight: bold; color: purple\">or</span> t2 <span style=\"text-weight: bold; color: purple\">eq</span> <span style=\"font-style: italic;color: blue\">active</span>\n",
       "<span style=\"text-weight: bold; color: green\">endsuite</span>\n",
       "</pre>"
      ],
      "text/plain": [
       "Suite(/s)"
      ]
     },
     "execution_count": 27,
     "metadata": {},
     "output_type": "execute_result"
    }
   ],
   "source": [
    "S = Suite(\"s\")\n",
    "\n",
    "S.tasks += [\"t1\", \"t2\", \"t3\"]\n",
    "S.t3.triggers = t1.complete \n",
    "S.t3.triggers &= S.t2.aborted \n",
    "S.t3.triggers |= S.t2.active\n",
    "\n",
    "S"
   ]
  },
  {
   "cell_type": "markdown",
   "metadata": {
    "slideshow": {
     "slide_type": "slide"
    }
   },
   "source": [
    "# Defining pipelines"
   ]
  },
  {
   "cell_type": "code",
   "execution_count": 28,
   "metadata": {},
   "outputs": [
    {
     "data": {
      "text/html": [
       "<pre><span style=\"text-weight: bold; color: green\">suite</span> s\n",
       "  <span style=\"text-weight: bold; color: green\">edit</span> ECF_JOB_CMD <span style=\"color: red\">'bash -c '</span>export ECF_PORT=%ECF_PORT%; export ECF_HOST=%ECF_HOST%; export ECF_NAME=%ECF_NAME%; export ECF_PASS=%ECF_PASS%; export ECF_TRYNO=%ECF_TRYNO%; export PATH=/usr/local/apps/ecflow/%ECF_VERSION%/bin:$PATH; ecflow_client --init=<span style=\"color: red\">\"$$\"</span> && %ECF_JOB% && ecflow_client --complete || ecflow_client --abort <span style=\"color: red\">' 1> %ECF_JOBOUT% 2>&1 &'</span>\n",
       "  <span style=\"text-weight: bold; color: green\">edit</span> ECF_KILL_CMD <span style=\"color: red\">'pkill -15 -P %ECF_RID%'</span>\n",
       "  <span style=\"text-weight: bold; color: green\">edit</span> ECF_STATUS_CMD <span style=\"color: red\">'true'</span>\n",
       "  <span style=\"text-weight: bold; color: green\">edit</span> ECF_OUT <span style=\"color: red\">'%ECF_HOME%'</span>\n",
       "  <span style=\"text-weight: bold; color: green\">label</span> exec_host <span style=\"color: red\">\"default\"</span>\n",
       "  <span style=\"text-weight: bold; color: green\">task</span> t1\n",
       "  <span style=\"text-weight: bold; color: green\">task</span> t2\n",
       "    <span style=\"text-weight: bold; color: green\">trigger</span> t1 <span style=\"text-weight: bold; color: purple\">eq</span> <span style=\"font-style: italic;color: blue\">complete</span>\n",
       "  <span style=\"text-weight: bold; color: green\">task</span> t3\n",
       "    <span style=\"text-weight: bold; color: green\">trigger</span> t2 <span style=\"text-weight: bold; color: purple\">eq</span> <span style=\"font-style: italic;color: blue\">complete</span>\n",
       "<span style=\"text-weight: bold; color: green\">endsuite</span>\n",
       "</pre>"
      ],
      "text/plain": [
       "Suite(/s)"
      ]
     },
     "execution_count": 28,
     "metadata": {},
     "output_type": "execute_result"
    }
   ],
   "source": [
    "S = Suite(\"s\")\n",
    "S.tasks += [\"t1\", \"t2\", \"t3\"]\n",
    "\n",
    "S.t1 >> S.t2 >> S.t3\n",
    "\n",
    "S"
   ]
  },
  {
   "cell_type": "markdown",
   "metadata": {
    "slideshow": {
     "slide_type": "slide"
    }
   },
   "source": [
    "# Variables and repeats\n",
    "Attributes following the ecFlow variable name convention (only capital letters, `_` and digits, can not start with a digit) are turned into variables"
   ]
  },
  {
   "cell_type": "code",
   "execution_count": 29,
   "metadata": {
    "collapsed": true
   },
   "outputs": [],
   "source": [
    "S = Suite(\"s\")\n",
    "S.tasks += \"t1\""
   ]
  },
  {
   "cell_type": "code",
   "execution_count": 30,
   "metadata": {
    "collapsed": true
   },
   "outputs": [],
   "source": [
    "S.t1.BAR = 61"
   ]
  },
  {
   "cell_type": "markdown",
   "metadata": {},
   "source": [
    "Reassigning to the same variable overwrites its value:"
   ]
  },
  {
   "cell_type": "code",
   "execution_count": 31,
   "metadata": {},
   "outputs": [
    {
     "data": {
      "text/html": [
       "<pre><span style=\"text-weight: bold; color: green\">suite</span> s\n",
       "  <span style=\"text-weight: bold; color: green\">edit</span> ECF_JOB_CMD <span style=\"color: red\">'bash -c '</span>export ECF_PORT=%ECF_PORT%; export ECF_HOST=%ECF_HOST%; export ECF_NAME=%ECF_NAME%; export ECF_PASS=%ECF_PASS%; export ECF_TRYNO=%ECF_TRYNO%; export PATH=/usr/local/apps/ecflow/%ECF_VERSION%/bin:$PATH; ecflow_client --init=<span style=\"color: red\">\"$$\"</span> && %ECF_JOB% && ecflow_client --complete || ecflow_client --abort <span style=\"color: red\">' 1> %ECF_JOBOUT% 2>&1 &'</span>\n",
       "  <span style=\"text-weight: bold; color: green\">edit</span> ECF_KILL_CMD <span style=\"color: red\">'pkill -15 -P %ECF_RID%'</span>\n",
       "  <span style=\"text-weight: bold; color: green\">edit</span> ECF_STATUS_CMD <span style=\"color: red\">'true'</span>\n",
       "  <span style=\"text-weight: bold; color: green\">edit</span> ECF_OUT <span style=\"color: red\">'%ECF_HOME%'</span>\n",
       "  <span style=\"text-weight: bold; color: green\">label</span> exec_host <span style=\"color: red\">\"default\"</span>\n",
       "  <span style=\"text-weight: bold; color: green\">task</span> t1\n",
       "    <span style=\"text-weight: bold; color: green\">edit</span> BAR <span style=\"color: red\">'62'</span>\n",
       "<span style=\"text-weight: bold; color: green\">endsuite</span>\n",
       "</pre>"
      ],
      "text/plain": [
       "Suite(/s)"
      ]
     },
     "execution_count": 31,
     "metadata": {},
     "output_type": "execute_result"
    }
   ],
   "source": [
    "S.t1.BAR = 62\n",
    "S"
   ]
  },
  {
   "cell_type": "markdown",
   "metadata": {
    "slideshow": {
     "slide_type": "slide"
    }
   },
   "source": [
    "Assigning a tuple to a variable creates a `repeat`"
   ]
  },
  {
   "cell_type": "code",
   "execution_count": 32,
   "metadata": {
    "slideshow": {
     "slide_type": "-"
    }
   },
   "outputs": [
    {
     "data": {
      "text/html": [
       "<pre><span style=\"text-weight: bold; color: green\">suite</span> s\n",
       "  <span style=\"text-weight: bold; color: green\">edit</span> ECF_JOB_CMD <span style=\"color: red\">'bash -c '</span>export ECF_PORT=%ECF_PORT%; export ECF_HOST=%ECF_HOST%; export ECF_NAME=%ECF_NAME%; export ECF_PASS=%ECF_PASS%; export ECF_TRYNO=%ECF_TRYNO%; export PATH=/usr/local/apps/ecflow/%ECF_VERSION%/bin:$PATH; ecflow_client --init=<span style=\"color: red\">\"$$\"</span> && %ECF_JOB% && ecflow_client --complete || ecflow_client --abort <span style=\"color: red\">' 1> %ECF_JOBOUT% 2>&1 &'</span>\n",
       "  <span style=\"text-weight: bold; color: green\">edit</span> ECF_KILL_CMD <span style=\"color: red\">'pkill -15 -P %ECF_RID%'</span>\n",
       "  <span style=\"text-weight: bold; color: green\">edit</span> ECF_STATUS_CMD <span style=\"color: red\">'true'</span>\n",
       "  <span style=\"text-weight: bold; color: green\">edit</span> ECF_OUT <span style=\"color: red\">'%ECF_HOME%'</span>\n",
       "  <span style=\"text-weight: bold; color: green\">label</span> exec_host <span style=\"color: red\">\"default\"</span>\n",
       "  <span style=\"text-weight: bold; color: green\">task</span> t1\n",
       "    <span style=\"text-weight: bold; color: green\">repeat integer</span> BAR 1 10\n",
       "<span style=\"text-weight: bold; color: green\">endsuite</span>\n",
       "</pre>"
      ],
      "text/plain": [
       "Suite(/s)"
      ]
     },
     "execution_count": 32,
     "metadata": {},
     "output_type": "execute_result"
    }
   ],
   "source": [
    "S = Suite(\"s\")\n",
    "S.tasks += \"t1\"\n",
    "\n",
    "S.t1.BAR = (1, 10)\n",
    "S"
   ]
  },
  {
   "cell_type": "markdown",
   "metadata": {
    "slideshow": {
     "slide_type": "-"
    }
   },
   "source": [
    "A 3-tuple yields a repeat with a step"
   ]
  },
  {
   "cell_type": "code",
   "execution_count": 33,
   "metadata": {
    "slideshow": {
     "slide_type": "-"
    }
   },
   "outputs": [
    {
     "data": {
      "text/html": [
       "<pre><span style=\"text-weight: bold; color: green\">suite</span> s\n",
       "  <span style=\"text-weight: bold; color: green\">edit</span> ECF_JOB_CMD <span style=\"color: red\">'bash -c '</span>export ECF_PORT=%ECF_PORT%; export ECF_HOST=%ECF_HOST%; export ECF_NAME=%ECF_NAME%; export ECF_PASS=%ECF_PASS%; export ECF_TRYNO=%ECF_TRYNO%; export PATH=/usr/local/apps/ecflow/%ECF_VERSION%/bin:$PATH; ecflow_client --init=<span style=\"color: red\">\"$$\"</span> && %ECF_JOB% && ecflow_client --complete || ecflow_client --abort <span style=\"color: red\">' 1> %ECF_JOBOUT% 2>&1 &'</span>\n",
       "  <span style=\"text-weight: bold; color: green\">edit</span> ECF_KILL_CMD <span style=\"color: red\">'pkill -15 -P %ECF_RID%'</span>\n",
       "  <span style=\"text-weight: bold; color: green\">edit</span> ECF_STATUS_CMD <span style=\"color: red\">'true'</span>\n",
       "  <span style=\"text-weight: bold; color: green\">edit</span> ECF_OUT <span style=\"color: red\">'%ECF_HOME%'</span>\n",
       "  <span style=\"text-weight: bold; color: green\">label</span> exec_host <span style=\"color: red\">\"default\"</span>\n",
       "  <span style=\"text-weight: bold; color: green\">task</span> t1\n",
       "    <span style=\"text-weight: bold; color: green\">repeat integer</span> BAR 1 10 2\n",
       "<span style=\"text-weight: bold; color: green\">endsuite</span>\n",
       "</pre>"
      ],
      "text/plain": [
       "Suite(/s)"
      ]
     },
     "execution_count": 33,
     "metadata": {},
     "output_type": "execute_result"
    }
   ],
   "source": [
    "S = Suite(\"s\")\n",
    "S.tasks += \"t1\"\n",
    "\n",
    "S.t1.BAR = (1, 10, 2)\n",
    "S"
   ]
  },
  {
   "cell_type": "markdown",
   "metadata": {
    "slideshow": {
     "slide_type": "slide"
    }
   },
   "source": [
    "This also works with dates"
   ]
  },
  {
   "cell_type": "code",
   "execution_count": 34,
   "metadata": {
    "slideshow": {
     "slide_type": "-"
    }
   },
   "outputs": [
    {
     "data": {
      "text/html": [
       "<pre><span style=\"text-weight: bold; color: green\">suite</span> s\n",
       "  <span style=\"text-weight: bold; color: green\">edit</span> ECF_JOB_CMD <span style=\"color: red\">'bash -c '</span>export ECF_PORT=%ECF_PORT%; export ECF_HOST=%ECF_HOST%; export ECF_NAME=%ECF_NAME%; export ECF_PASS=%ECF_PASS%; export ECF_TRYNO=%ECF_TRYNO%; export PATH=/usr/local/apps/ecflow/%ECF_VERSION%/bin:$PATH; ecflow_client --init=<span style=\"color: red\">\"$$\"</span> && %ECF_JOB% && ecflow_client --complete || ecflow_client --abort <span style=\"color: red\">' 1> %ECF_JOBOUT% 2>&1 &'</span>\n",
       "  <span style=\"text-weight: bold; color: green\">edit</span> ECF_KILL_CMD <span style=\"color: red\">'pkill -15 -P %ECF_RID%'</span>\n",
       "  <span style=\"text-weight: bold; color: green\">edit</span> ECF_STATUS_CMD <span style=\"color: red\">'true'</span>\n",
       "  <span style=\"text-weight: bold; color: green\">edit</span> ECF_OUT <span style=\"color: red\">'%ECF_HOME%'</span>\n",
       "  <span style=\"text-weight: bold; color: green\">label</span> exec_host <span style=\"color: red\">\"default\"</span>\n",
       "  <span style=\"text-weight: bold; color: green\">task</span> t1\n",
       "    <span style=\"text-weight: bold; color: green\">repeat date</span> BAR 20221018 20231018 1\n",
       "  <span style=\"text-weight: bold; color: green\">task</span> t2\n",
       "    <span style=\"text-weight: bold; color: green\">repeat date</span> FOO 19900101 19951231 7\n",
       "<span style=\"text-weight: bold; color: green\">endsuite</span>\n",
       "</pre>"
      ],
      "text/plain": [
       "Suite(/s)"
      ]
     },
     "execution_count": 34,
     "metadata": {},
     "output_type": "execute_result"
    }
   ],
   "source": [
    "S = Suite(\"s\")\n",
    "S.tasks += [\"t1\", \"t2\"]\n",
    "\n",
    "S.t1.BAR = (now, then)\n",
    "S.t2.FOO = ['1990-01-01', '1995-12-31', 7]\n",
    "\n",
    "S"
   ]
  },
  {
   "cell_type": "code",
   "execution_count": 35,
   "metadata": {
    "slideshow": {
     "slide_type": "-"
    }
   },
   "outputs": [
    {
     "data": {
      "text/html": [
       "<pre><span style=\"text-weight: bold; color: green\">suite</span> s\n",
       "  <span style=\"text-weight: bold; color: green\">edit</span> ECF_JOB_CMD <span style=\"color: red\">'bash -c '</span>export ECF_PORT=%ECF_PORT%; export ECF_HOST=%ECF_HOST%; export ECF_NAME=%ECF_NAME%; export ECF_PASS=%ECF_PASS%; export ECF_TRYNO=%ECF_TRYNO%; export PATH=/usr/local/apps/ecflow/%ECF_VERSION%/bin:$PATH; ecflow_client --init=<span style=\"color: red\">\"$$\"</span> && %ECF_JOB% && ecflow_client --complete || ecflow_client --abort <span style=\"color: red\">' 1> %ECF_JOBOUT% 2>&1 &'</span>\n",
       "  <span style=\"text-weight: bold; color: green\">edit</span> ECF_KILL_CMD <span style=\"color: red\">'pkill -15 -P %ECF_RID%'</span>\n",
       "  <span style=\"text-weight: bold; color: green\">edit</span> ECF_STATUS_CMD <span style=\"color: red\">'true'</span>\n",
       "  <span style=\"text-weight: bold; color: green\">edit</span> ECF_OUT <span style=\"color: red\">'%ECF_HOME%'</span>\n",
       "  <span style=\"text-weight: bold; color: green\">label</span> exec_host <span style=\"color: red\">\"default\"</span>\n",
       "  <span style=\"text-weight: bold; color: green\">task</span> t1\n",
       "    <span style=\"text-weight: bold; color: green\">repeat date</span> BAR 20221018 20231018 2\n",
       "<span style=\"text-weight: bold; color: green\">endsuite</span>\n",
       "</pre>"
      ],
      "text/plain": [
       "Suite(/s)"
      ]
     },
     "execution_count": 35,
     "metadata": {},
     "output_type": "execute_result"
    }
   ],
   "source": [
    "S = Suite(\"s\")\n",
    "S.tasks += \"t1\"\n",
    "\n",
    "S.t1.BAR = (now, then, 2)\n",
    "\n",
    "S"
   ]
  },
  {
   "cell_type": "markdown",
   "metadata": {
    "slideshow": {
     "slide_type": "slide"
    }
   },
   "source": [
    "List of strings create a `repeat string`"
   ]
  },
  {
   "cell_type": "code",
   "execution_count": 36,
   "metadata": {
    "slideshow": {
     "slide_type": "-"
    }
   },
   "outputs": [
    {
     "data": {
      "text/html": [
       "<pre><span style=\"text-weight: bold; color: green\">suite</span> s\n",
       "  <span style=\"text-weight: bold; color: green\">edit</span> ECF_JOB_CMD <span style=\"color: red\">'bash -c '</span>export ECF_PORT=%ECF_PORT%; export ECF_HOST=%ECF_HOST%; export ECF_NAME=%ECF_NAME%; export ECF_PASS=%ECF_PASS%; export ECF_TRYNO=%ECF_TRYNO%; export PATH=/usr/local/apps/ecflow/%ECF_VERSION%/bin:$PATH; ecflow_client --init=<span style=\"color: red\">\"$$\"</span> && %ECF_JOB% && ecflow_client --complete || ecflow_client --abort <span style=\"color: red\">' 1> %ECF_JOBOUT% 2>&1 &'</span>\n",
       "  <span style=\"text-weight: bold; color: green\">edit</span> ECF_KILL_CMD <span style=\"color: red\">'pkill -15 -P %ECF_RID%'</span>\n",
       "  <span style=\"text-weight: bold; color: green\">edit</span> ECF_STATUS_CMD <span style=\"color: red\">'true'</span>\n",
       "  <span style=\"text-weight: bold; color: green\">edit</span> ECF_OUT <span style=\"color: red\">'%ECF_HOME%'</span>\n",
       "  <span style=\"text-weight: bold; color: green\">label</span> exec_host <span style=\"color: red\">\"default\"</span>\n",
       "  <span style=\"text-weight: bold; color: green\">task</span> t1\n",
       "    <span style=\"text-weight: bold; color: green\">repeat string</span> BAR <span style=\"color: red\">\"a\"</span> <span style=\"color: red\">\"b\"</span> <span style=\"color: red\">\"c\"</span>\n",
       "<span style=\"text-weight: bold; color: green\">endsuite</span>\n",
       "</pre>"
      ],
      "text/plain": [
       "Suite(/s)"
      ]
     },
     "execution_count": 36,
     "metadata": {},
     "output_type": "execute_result"
    }
   ],
   "source": [
    "S = Suite(\"s\")\n",
    "S.tasks += \"t1\"\n",
    "\n",
    "S.t1.BAR = ['a', 'b', 'c']\n",
    "\n",
    "S"
   ]
  },
  {
   "cell_type": "markdown",
   "metadata": {},
   "source": [
    "Lists of integers create a `repeat enum`"
   ]
  },
  {
   "cell_type": "code",
   "execution_count": 37,
   "metadata": {
    "slideshow": {
     "slide_type": "-"
    }
   },
   "outputs": [
    {
     "data": {
      "text/html": [
       "<pre><span style=\"text-weight: bold; color: green\">suite</span> s\n",
       "  <span style=\"text-weight: bold; color: green\">edit</span> ECF_JOB_CMD <span style=\"color: red\">'bash -c '</span>export ECF_PORT=%ECF_PORT%; export ECF_HOST=%ECF_HOST%; export ECF_NAME=%ECF_NAME%; export ECF_PASS=%ECF_PASS%; export ECF_TRYNO=%ECF_TRYNO%; export PATH=/usr/local/apps/ecflow/%ECF_VERSION%/bin:$PATH; ecflow_client --init=<span style=\"color: red\">\"$$\"</span> && %ECF_JOB% && ecflow_client --complete || ecflow_client --abort <span style=\"color: red\">' 1> %ECF_JOBOUT% 2>&1 &'</span>\n",
       "  <span style=\"text-weight: bold; color: green\">edit</span> ECF_KILL_CMD <span style=\"color: red\">'pkill -15 -P %ECF_RID%'</span>\n",
       "  <span style=\"text-weight: bold; color: green\">edit</span> ECF_STATUS_CMD <span style=\"color: red\">'true'</span>\n",
       "  <span style=\"text-weight: bold; color: green\">edit</span> ECF_OUT <span style=\"color: red\">'%ECF_HOME%'</span>\n",
       "  <span style=\"text-weight: bold; color: green\">label</span> exec_host <span style=\"color: red\">\"default\"</span>\n",
       "  <span style=\"text-weight: bold; color: green\">task</span> t1\n",
       "    <span style=\"text-weight: bold; color: green\">repeat enumerated</span> BAR <span style=\"color: red\">\"1\"</span> <span style=\"color: red\">\"2\"</span> <span style=\"color: red\">\"3\"</span> <span style=\"color: red\">\"4\"</span> <span style=\"color: red\">\"5\"</span>\n",
       "<span style=\"text-weight: bold; color: green\">endsuite</span>\n",
       "</pre>"
      ],
      "text/plain": [
       "Suite(/s)"
      ]
     },
     "execution_count": 37,
     "metadata": {},
     "output_type": "execute_result"
    }
   ],
   "source": [
    "S = Suite(\"s\")\n",
    "S.tasks += \"t1\"\n",
    "\n",
    "S.t1.BAR = [1, 2, 3, 4, 5]\n",
    "\n",
    "S"
   ]
  },
  {
   "cell_type": "markdown",
   "metadata": {
    "slideshow": {
     "slide_type": "slide"
    }
   },
   "source": [
    "# Repeat and triggers"
   ]
  },
  {
   "cell_type": "code",
   "execution_count": 38,
   "metadata": {},
   "outputs": [
    {
     "data": {
      "text/html": [
       "<pre><span style=\"text-weight: bold; color: green\">suite</span> s\n",
       "  <span style=\"text-weight: bold; color: green\">edit</span> ECF_JOB_CMD <span style=\"color: red\">'bash -c '</span>export ECF_PORT=%ECF_PORT%; export ECF_HOST=%ECF_HOST%; export ECF_NAME=%ECF_NAME%; export ECF_PASS=%ECF_PASS%; export ECF_TRYNO=%ECF_TRYNO%; export PATH=/usr/local/apps/ecflow/%ECF_VERSION%/bin:$PATH; ecflow_client --init=<span style=\"color: red\">\"$$\"</span> && %ECF_JOB% && ecflow_client --complete || ecflow_client --abort <span style=\"color: red\">' 1> %ECF_JOBOUT% 2>&1 &'</span>\n",
       "  <span style=\"text-weight: bold; color: green\">edit</span> ECF_KILL_CMD <span style=\"color: red\">'pkill -15 -P %ECF_RID%'</span>\n",
       "  <span style=\"text-weight: bold; color: green\">edit</span> ECF_STATUS_CMD <span style=\"color: red\">'true'</span>\n",
       "  <span style=\"text-weight: bold; color: green\">edit</span> ECF_OUT <span style=\"color: red\">'%ECF_HOME%'</span>\n",
       "  <span style=\"text-weight: bold; color: green\">label</span> exec_host <span style=\"color: red\">\"default\"</span>\n",
       "  <span style=\"text-weight: bold; color: green\">task</span> t1\n",
       "    <span style=\"text-weight: bold; color: green\">trigger</span> <span style=\"font-style: italic;color: blue\">cal::date_to_julian</span>(t4:YMD) <span style=\"text-weight: bold; color: purple\">%</span> 7 <span style=\"text-weight: bold; color: purple\">eq</span> 6 <span style=\"text-weight: bold; color: purple\">or</span> (t2 <span style=\"text-weight: bold; color: purple\">eq</span> <span style=\"font-style: italic;color: blue\">complete</span> <span style=\"text-weight: bold; color: purple\">and</span> t3 <span style=\"text-weight: bold; color: purple\">eq</span> <span style=\"font-style: italic;color: blue\">aborted</span>)\n",
       "  <span style=\"text-weight: bold; color: green\">task</span> t2\n",
       "    <span style=\"text-weight: bold; color: green\">trigger</span> t2:YMD <span style=\"text-weight: bold; color: purple\">ge</span> t4:YMD <span style=\"text-weight: bold; color: purple\">and</span> <span style=\"text-weight: bold; color: purple\">not</span> (t4 <span style=\"text-weight: bold; color: purple\">eq</span> <span style=\"font-style: italic;color: blue\">complete</span>)\n",
       "    <span style=\"text-weight: bold; color: green\">repeat date</span> YMD 20221018 20231018 1\n",
       "  <span style=\"text-weight: bold; color: green\">task</span> t3\n",
       "  <span style=\"text-weight: bold; color: green\">task</span> t4\n",
       "    <span style=\"text-weight: bold; color: green\">repeat date</span> YMD 20221018 20231018 1\n",
       "<span style=\"text-weight: bold; color: green\">endsuite</span>\n",
       "</pre>"
      ],
      "text/plain": [
       "Suite(/s)"
      ]
     },
     "execution_count": 38,
     "metadata": {},
     "output_type": "execute_result"
    }
   ],
   "source": [
    "S = Suite(\"s\")\n",
    "S.tasks = [\"t1\", \"t2\", \"t3\", \"t4\"]\n",
    "\n",
    "(t1, t2, t3, t4) = (S.t1, S.t2, S.t3, S.t4)\n",
    "\n",
    "t2.YMD = (now, then)\n",
    "t4.YMD = (now, then)\n",
    "\n",
    "t2.triggers = (t2.YMD >= t4.YMD) & (~t4.complete)\n",
    "t1.triggers = t4.YMD.monday | (t2.complete & t3.aborted)\n",
    "\n",
    "S"
   ]
  },
  {
   "cell_type": "code",
   "execution_count": 39,
   "metadata": {
    "slideshow": {
     "slide_type": "slide"
    }
   },
   "outputs": [
    {
     "data": {
      "image/svg+xml": "<?xml version=\"1.0\" encoding=\"UTF-8\" standalone=\"no\"?>\n<!DOCTYPE svg PUBLIC \"-//W3C//DTD SVG 1.1//EN\"\n \"http://www.w3.org/Graphics/SVG/1.1/DTD/svg11.dtd\">\n<!-- Generated by graphviz version 2.40.1 (0)\n -->\n<!-- Title: %3 Pages: 1 -->\n<svg width=\"250pt\" height=\"188pt\"\n viewBox=\"0.00 0.00 250.00 188.00\" xmlns=\"http://www.w3.org/2000/svg\" xmlns:xlink=\"http://www.w3.org/1999/xlink\">\n<g id=\"graph0\" class=\"graph\" transform=\"scale(1 1) rotate(0) translate(4 184)\">\n<title>%3</title>\n<polygon fill=\"#ffffff\" stroke=\"transparent\" points=\"-4,4 -4,-184 246,-184 246,4 -4,4\"/>\n<!-- id0 -->\n<g id=\"node1\" class=\"node\">\n<title>id0</title>\n<ellipse fill=\"none\" stroke=\"#000000\" cx=\"122\" cy=\"-162\" rx=\"27\" ry=\"18\"/>\n<text text-anchor=\"middle\" x=\"122\" y=\"-158.3\" font-family=\"Times,serif\" font-size=\"14.00\" fill=\"#000000\">/s/t1</text>\n</g>\n<!-- id1 -->\n<g id=\"node2\" class=\"node\">\n<title>id1</title>\n<polygon fill=\"none\" stroke=\"#000000\" points=\"76,-36 0,-36 0,0 76,0 76,-36\"/>\n<text text-anchor=\"middle\" x=\"38\" y=\"-14.3\" font-family=\"Times,serif\" font-size=\"14.00\" fill=\"#000000\">/s/t4:YMD</text>\n</g>\n<!-- id0&#45;&gt;id1 -->\n<g id=\"edge1\" class=\"edge\">\n<title>id0&#45;&gt;id1</title>\n<path fill=\"none\" stroke=\"#000000\" d=\"M110.2165,-145.2495C102.9664,-134.7225 93.6337,-120.7644 86,-108 73.7299,-87.4829 61.0525,-63.5767 51.8096,-45.5615\"/>\n<polygon fill=\"#000000\" stroke=\"#000000\" points=\"54.7087,-43.5414 47.0524,-36.218 48.4707,-46.7175 54.7087,-43.5414\"/>\n</g>\n<!-- id2 -->\n<g id=\"node3\" class=\"node\">\n<title>id2</title>\n<ellipse fill=\"none\" stroke=\"#000000\" cx=\"122\" cy=\"-90\" rx=\"27\" ry=\"18\"/>\n<text text-anchor=\"middle\" x=\"122\" y=\"-86.3\" font-family=\"Times,serif\" font-size=\"14.00\" fill=\"#000000\">/s/t2</text>\n</g>\n<!-- id0&#45;&gt;id2 -->\n<g id=\"edge2\" class=\"edge\">\n<title>id0&#45;&gt;id2</title>\n<path fill=\"none\" stroke=\"#000000\" d=\"M122,-143.8314C122,-136.131 122,-126.9743 122,-118.4166\"/>\n<polygon fill=\"#000000\" stroke=\"#000000\" points=\"125.5001,-118.4132 122,-108.4133 118.5001,-118.4133 125.5001,-118.4132\"/>\n</g>\n<!-- id3 -->\n<g id=\"node4\" class=\"node\">\n<title>id3</title>\n<ellipse fill=\"none\" stroke=\"#000000\" cx=\"194\" cy=\"-90\" rx=\"27\" ry=\"18\"/>\n<text text-anchor=\"middle\" x=\"194\" y=\"-86.3\" font-family=\"Times,serif\" font-size=\"14.00\" fill=\"#000000\">/s/t3</text>\n</g>\n<!-- id0&#45;&gt;id3 -->\n<g id=\"edge3\" class=\"edge\">\n<title>id0&#45;&gt;id3</title>\n<path fill=\"none\" stroke=\"#000000\" d=\"M137.2693,-146.7307C147.197,-136.803 160.3153,-123.6847 171.4363,-112.5637\"/>\n<polygon fill=\"#000000\" stroke=\"#000000\" points=\"174.1564,-114.7933 178.7527,-105.2473 169.2067,-109.8436 174.1564,-114.7933\"/>\n</g>\n<!-- id2&#45;&gt;id1 -->\n<g id=\"edge5\" class=\"edge\">\n<title>id2&#45;&gt;id1</title>\n<path fill=\"none\" stroke=\"#000000\" d=\"M105.4043,-75.7751C94.3969,-66.3402 79.6605,-53.709 66.774,-42.6634\"/>\n<polygon fill=\"#000000\" stroke=\"#000000\" points=\"68.9096,-39.8842 59.0392,-36.0336 64.3541,-45.199 68.9096,-39.8842\"/>\n</g>\n<!-- id4 -->\n<g id=\"node5\" class=\"node\">\n<title>id4</title>\n<polygon fill=\"none\" stroke=\"#000000\" points=\"170,-36 94,-36 94,0 170,0 170,-36\"/>\n<text text-anchor=\"middle\" x=\"132\" y=\"-14.3\" font-family=\"Times,serif\" font-size=\"14.00\" fill=\"#000000\">/s/t2:YMD</text>\n</g>\n<!-- id2&#45;&gt;id4 -->\n<g id=\"edge4\" class=\"edge\">\n<title>id2&#45;&gt;id4</title>\n<path fill=\"none\" stroke=\"#000000\" d=\"M124.5234,-71.8314C125.5929,-64.131 126.8647,-54.9743 128.0532,-46.4166\"/>\n<polygon fill=\"#000000\" stroke=\"#000000\" points=\"131.5336,-46.7997 129.4426,-36.4133 124.6001,-45.8367 131.5336,-46.7997\"/>\n</g>\n<!-- id5 -->\n<g id=\"node6\" class=\"node\">\n<title>id5</title>\n<ellipse fill=\"none\" stroke=\"#000000\" cx=\"215\" cy=\"-18\" rx=\"27\" ry=\"18\"/>\n<text text-anchor=\"middle\" x=\"215\" y=\"-14.3\" font-family=\"Times,serif\" font-size=\"14.00\" fill=\"#000000\">/s/t4</text>\n</g>\n<!-- id2&#45;&gt;id5 -->\n<g id=\"edge6\" class=\"edge\">\n<title>id2&#45;&gt;id5</title>\n<path fill=\"none\" stroke=\"#000000\" d=\"M139.9313,-76.1177C153.8264,-65.3602 173.2781,-50.3009 188.8991,-38.2072\"/>\n<polygon fill=\"#000000\" stroke=\"#000000\" points=\"191.3591,-40.729 197.1237,-31.8397 187.0738,-35.1939 191.3591,-40.729\"/>\n</g>\n</g>\n</svg>\n",
      "text/plain": [
       "<pyflow.graph.Dot at 0x147c04b1ef70>"
      ]
     },
     "execution_count": 39,
     "metadata": {},
     "output_type": "execute_result"
    }
   ],
   "source": [
    "S.draw_graph()"
   ]
  },
  {
   "cell_type": "markdown",
   "metadata": {
    "slideshow": {
     "slide_type": "slide"
    }
   },
   "source": [
    "# External nodes"
   ]
  },
  {
   "cell_type": "code",
   "execution_count": 40,
   "metadata": {},
   "outputs": [
    {
     "data": {
      "text/html": [
       "<pre><span style=\"text-weight: bold; color: green\">suite</span> s\n",
       "  <span style=\"text-weight: bold; color: green\">edit</span> ECF_JOB_CMD <span style=\"color: red\">'bash -c '</span>export ECF_PORT=%ECF_PORT%; export ECF_HOST=%ECF_HOST%; export ECF_NAME=%ECF_NAME%; export ECF_PASS=%ECF_PASS%; export ECF_TRYNO=%ECF_TRYNO%; export PATH=/usr/local/apps/ecflow/%ECF_VERSION%/bin:$PATH; ecflow_client --init=<span style=\"color: red\">\"$$\"</span> && %ECF_JOB% && ecflow_client --complete || ecflow_client --abort <span style=\"color: red\">' 1> %ECF_JOBOUT% 2>&1 &'</span>\n",
       "  <span style=\"text-weight: bold; color: green\">edit</span> ECF_KILL_CMD <span style=\"color: red\">'pkill -15 -P %ECF_RID%'</span>\n",
       "  <span style=\"text-weight: bold; color: green\">edit</span> ECF_STATUS_CMD <span style=\"color: red\">'true'</span>\n",
       "  <span style=\"text-weight: bold; color: green\">edit</span> ECF_OUT <span style=\"color: red\">'%ECF_HOME%'</span>\n",
       "  <span style=\"text-weight: bold; color: green\">label</span> exec_host <span style=\"color: red\">\"default\"</span>\n",
       "  <span style=\"text-weight: bold; color: green\">task</span> t\n",
       "    <span style=\"text-weight: bold; color: green\">trigger</span> /a/b/c <span style=\"text-weight: bold; color: purple\">eq</span> <span style=\"font-style: italic;color: blue\">complete</span>\n",
       "<span style=\"text-weight: bold; color: green\">endsuite</span>\n",
       "</pre>"
      ],
      "text/plain": [
       "Suite(/s)"
      ]
     },
     "execution_count": 40,
     "metadata": {},
     "output_type": "execute_result"
    }
   ],
   "source": [
    "S = Suite(\"s\")\n",
    "t = S.add_node(Task(\"t\"))\n",
    "\n",
    "e = ExternNode(\"/a/b/c\")\n",
    "\n",
    "t.triggers = e.complete\n",
    "\n",
    "S"
   ]
  },
  {
   "cell_type": "markdown",
   "metadata": {
    "slideshow": {
     "slide_type": "slide"
    }
   },
   "source": [
    "# External nodes (cont.)"
   ]
  },
  {
   "cell_type": "code",
   "execution_count": 41,
   "metadata": {},
   "outputs": [
    {
     "data": {
      "text/html": [
       "<pre><span style=\"text-weight: bold; color: green\">suite</span> s\n",
       "  <span style=\"text-weight: bold; color: green\">edit</span> ECF_JOB_CMD <span style=\"color: red\">'bash -c '</span>export ECF_PORT=%ECF_PORT%; export ECF_HOST=%ECF_HOST%; export ECF_NAME=%ECF_NAME%; export ECF_PASS=%ECF_PASS%; export ECF_TRYNO=%ECF_TRYNO%; export PATH=/usr/local/apps/ecflow/%ECF_VERSION%/bin:$PATH; ecflow_client --init=<span style=\"color: red\">\"$$\"</span> && %ECF_JOB% && ecflow_client --complete || ecflow_client --abort <span style=\"color: red\">' 1> %ECF_JOBOUT% 2>&1 &'</span>\n",
       "  <span style=\"text-weight: bold; color: green\">edit</span> ECF_KILL_CMD <span style=\"color: red\">'pkill -15 -P %ECF_RID%'</span>\n",
       "  <span style=\"text-weight: bold; color: green\">edit</span> ECF_STATUS_CMD <span style=\"color: red\">'true'</span>\n",
       "  <span style=\"text-weight: bold; color: green\">edit</span> ECF_OUT <span style=\"color: red\">'%ECF_HOME%'</span>\n",
       "  <span style=\"text-weight: bold; color: green\">label</span> exec_host <span style=\"color: red\">\"default\"</span>\n",
       "  <span style=\"text-weight: bold; color: green\">task</span> t\n",
       "    <span style=\"text-weight: bold; color: green\">trigger</span> /a/b/c:YMD <span style=\"text-weight: bold; color: purple\">gt</span> t:YMD\n",
       "    <span style=\"text-weight: bold; color: green\">repeat date</span> YMD 20221018 20231018 1\n",
       "<span style=\"text-weight: bold; color: green\">endsuite</span>\n",
       "</pre>"
      ],
      "text/plain": [
       "Suite(/s)"
      ]
     },
     "execution_count": 41,
     "metadata": {},
     "output_type": "execute_result"
    }
   ],
   "source": [
    "with Suite(\"s\") as S:\n",
    "    \n",
    "    Task(\"t\", YMD=(now, then))\n",
    "\n",
    "e = ExternYMD(\"/a/b/c:YMD\")\n",
    "\n",
    "S.t.triggers = (e > S.t.YMD)\n",
    "\n",
    "S"
   ]
  },
  {
   "cell_type": "markdown",
   "metadata": {
    "slideshow": {
     "slide_type": "slide"
    }
   },
   "source": [
    "# Constructor initialisation"
   ]
  },
  {
   "cell_type": "code",
   "execution_count": 42,
   "metadata": {},
   "outputs": [
    {
     "data": {
      "text/html": [
       "<pre><span style=\"text-weight: bold; color: green\">suite</span> s\n",
       "  <span style=\"text-weight: bold; color: green\">repeat date</span> YMD 20221018 20231018 1\n",
       "  <span style=\"text-weight: bold; color: green\">edit</span> FOO <span style=\"color: red\">'42'</span>\n",
       "  <span style=\"text-weight: bold; color: green\">edit</span> ECF_JOB_CMD <span style=\"color: red\">'bash -c '</span>export ECF_PORT=%ECF_PORT%; export ECF_HOST=%ECF_HOST%; export ECF_NAME=%ECF_NAME%; export ECF_PASS=%ECF_PASS%; export ECF_TRYNO=%ECF_TRYNO%; export PATH=/usr/local/apps/ecflow/%ECF_VERSION%/bin:$PATH; ecflow_client --init=<span style=\"color: red\">\"$$\"</span> && %ECF_JOB% && ecflow_client --complete || ecflow_client --abort <span style=\"color: red\">' 1> %ECF_JOBOUT% 2>&1 &'</span>\n",
       "  <span style=\"text-weight: bold; color: green\">edit</span> ECF_KILL_CMD <span style=\"color: red\">'pkill -15 -P %ECF_RID%'</span>\n",
       "  <span style=\"text-weight: bold; color: green\">edit</span> ECF_STATUS_CMD <span style=\"color: red\">'true'</span>\n",
       "  <span style=\"text-weight: bold; color: green\">edit</span> ECF_OUT <span style=\"color: red\">'%ECF_HOME%'</span>\n",
       "  <span style=\"text-weight: bold; color: green\">label</span> exec_host <span style=\"color: red\">\"default\"</span>\n",
       "  <span style=\"text-weight: bold; color: green\">family</span> f\n",
       "    <span style=\"text-weight: bold; color: green\">repeat integer</span> BAR 1 10\n",
       "    <span style=\"text-weight: bold; color: green\">task</span> t\n",
       "  <span style=\"text-weight: bold; color: green\">endfamily</span>\n",
       "<span style=\"text-weight: bold; color: green\">endsuite</span>\n",
       "</pre>"
      ],
      "text/plain": [
       "Suite(/s)"
      ]
     },
     "execution_count": 42,
     "metadata": {},
     "output_type": "execute_result"
    }
   ],
   "source": [
    "with Suite(\"s\", YMD=(now, then), FOO=42) as S:\n",
    "    \n",
    "    with Family(\"f\", BAR=(1, 10)):\n",
    "        Task(\"t\")\n",
    "        \n",
    "S"
   ]
  },
  {
   "cell_type": "markdown",
   "metadata": {},
   "source": [
    "...to be continued"
   ]
  },
  {
   "cell_type": "markdown",
   "metadata": {
    "slideshow": {
     "slide_type": "slide"
    }
   },
   "source": [
    "# Cron"
   ]
  },
  {
   "cell_type": "code",
   "execution_count": 43,
   "metadata": {},
   "outputs": [
    {
     "data": {
      "text/html": [
       "<pre><span style=\"text-weight: bold; color: green\">suite</span> a\n",
       "  <span style=\"text-weight: bold; color: green\">edit</span> ECF_JOB_CMD <span style=\"color: red\">'bash -c '</span>export ECF_PORT=%ECF_PORT%; export ECF_HOST=%ECF_HOST%; export ECF_NAME=%ECF_NAME%; export ECF_PASS=%ECF_PASS%; export ECF_TRYNO=%ECF_TRYNO%; export PATH=/usr/local/apps/ecflow/%ECF_VERSION%/bin:$PATH; ecflow_client --init=<span style=\"color: red\">\"$$\"</span> && %ECF_JOB% && ecflow_client --complete || ecflow_client --abort <span style=\"color: red\">' 1> %ECF_JOBOUT% 2>&1 &'</span>\n",
       "  <span style=\"text-weight: bold; color: green\">edit</span> ECF_KILL_CMD <span style=\"color: red\">'pkill -15 -P %ECF_RID%'</span>\n",
       "  <span style=\"text-weight: bold; color: green\">edit</span> ECF_STATUS_CMD <span style=\"color: red\">'true'</span>\n",
       "  <span style=\"text-weight: bold; color: green\">edit</span> ECF_OUT <span style=\"color: red\">'%ECF_HOME%'</span>\n",
       "  <span style=\"text-weight: bold; color: green\">label</span> exec_host <span style=\"color: red\">\"default\"</span>\n",
       "  <span style=\"text-weight: bold; color: green\">task</span> f1\n",
       "    <span style=\"text-weight: bold; color: green\">cron</span> 00:00 23:59 00:01\n",
       "  <span style=\"text-weight: bold; color: green\">task</span> f2\n",
       "    <span style=\"text-weight: bold; color: green\">cron</span> 05:10\n",
       "  <span style=\"text-weight: bold; color: green\">task</span> f3\n",
       "    <span style=\"text-weight: bold; color: green\">cron</span> 05:10 17:40 00:30\n",
       "<span style=\"text-weight: bold; color: green\">endsuite</span>\n",
       "</pre>"
      ],
      "text/plain": [
       "Suite(/a)"
      ]
     },
     "execution_count": 43,
     "metadata": {},
     "output_type": "execute_result"
    }
   ],
   "source": [
    "S = Suite(\"a\")\n",
    "S.tasks = [\"f1\", \"f2\", \"f3\"]\n",
    "\n",
    "S.f1.cron = \"* * * * *\"\n",
    "S.f2.cron = \"10 5 * * *\"\n",
    "S.f3.cron = \"10,40 5-17 * * *\"\n",
    "\n",
    "S"
   ]
  },
  {
   "cell_type": "markdown",
   "metadata": {
    "slideshow": {
     "slide_type": "slide"
    }
   },
   "source": [
    "# Time"
   ]
  },
  {
   "cell_type": "code",
   "execution_count": 44,
   "metadata": {},
   "outputs": [
    {
     "data": {
      "text/html": [
       "<pre><span style=\"text-weight: bold; color: green\">suite</span> a\n",
       "  <span style=\"text-weight: bold; color: green\">edit</span> ECF_JOB_CMD <span style=\"color: red\">'bash -c '</span>export ECF_PORT=%ECF_PORT%; export ECF_HOST=%ECF_HOST%; export ECF_NAME=%ECF_NAME%; export ECF_PASS=%ECF_PASS%; export ECF_TRYNO=%ECF_TRYNO%; export PATH=/usr/local/apps/ecflow/%ECF_VERSION%/bin:$PATH; ecflow_client --init=<span style=\"color: red\">\"$$\"</span> && %ECF_JOB% && ecflow_client --complete || ecflow_client --abort <span style=\"color: red\">' 1> %ECF_JOBOUT% 2>&1 &'</span>\n",
       "  <span style=\"text-weight: bold; color: green\">edit</span> ECF_KILL_CMD <span style=\"color: red\">'pkill -15 -P %ECF_RID%'</span>\n",
       "  <span style=\"text-weight: bold; color: green\">edit</span> ECF_STATUS_CMD <span style=\"color: red\">'true'</span>\n",
       "  <span style=\"text-weight: bold; color: green\">edit</span> ECF_OUT <span style=\"color: red\">'%ECF_HOME%'</span>\n",
       "  <span style=\"text-weight: bold; color: green\">label</span> exec_host <span style=\"color: red\">\"default\"</span>\n",
       "  <span style=\"text-weight: bold; color: green\">task</span> f1\n",
       "    time 00:00 23:59 00:01\n",
       "  <span style=\"text-weight: bold; color: green\">task</span> f2\n",
       "    time 05:10\n",
       "  <span style=\"text-weight: bold; color: green\">task</span> f3\n",
       "    time 05:10 17:40 00:30\n",
       "<span style=\"text-weight: bold; color: green\">endsuite</span>\n",
       "</pre>"
      ],
      "text/plain": [
       "Suite(/a)"
      ]
     },
     "execution_count": 44,
     "metadata": {},
     "output_type": "execute_result"
    }
   ],
   "source": [
    "S = Suite(\"a\")\n",
    "S.tasks = [\"f1\", \"f2\", \"f3\"]\n",
    "\n",
    "S.f1.time = \"* * * * *\"\n",
    "S.f2.time = \"10 5 * * *\"\n",
    "S.f3.time = \"10,40 5-17 * * *\"\n",
    "\n",
    "S"
   ]
  },
  {
   "cell_type": "markdown",
   "metadata": {
    "slideshow": {
     "slide_type": "slide"
    }
   },
   "source": [
    "# Today"
   ]
  },
  {
   "cell_type": "code",
   "execution_count": 45,
   "metadata": {},
   "outputs": [
    {
     "data": {
      "text/html": [
       "<pre><span style=\"text-weight: bold; color: green\">suite</span> a\n",
       "  <span style=\"text-weight: bold; color: green\">edit</span> ECF_JOB_CMD <span style=\"color: red\">'bash -c '</span>export ECF_PORT=%ECF_PORT%; export ECF_HOST=%ECF_HOST%; export ECF_NAME=%ECF_NAME%; export ECF_PASS=%ECF_PASS%; export ECF_TRYNO=%ECF_TRYNO%; export PATH=/usr/local/apps/ecflow/%ECF_VERSION%/bin:$PATH; ecflow_client --init=<span style=\"color: red\">\"$$\"</span> && %ECF_JOB% && ecflow_client --complete || ecflow_client --abort <span style=\"color: red\">' 1> %ECF_JOBOUT% 2>&1 &'</span>\n",
       "  <span style=\"text-weight: bold; color: green\">edit</span> ECF_KILL_CMD <span style=\"color: red\">'pkill -15 -P %ECF_RID%'</span>\n",
       "  <span style=\"text-weight: bold; color: green\">edit</span> ECF_STATUS_CMD <span style=\"color: red\">'true'</span>\n",
       "  <span style=\"text-weight: bold; color: green\">edit</span> ECF_OUT <span style=\"color: red\">'%ECF_HOME%'</span>\n",
       "  <span style=\"text-weight: bold; color: green\">label</span> exec_host <span style=\"color: red\">\"default\"</span>\n",
       "  <span style=\"text-weight: bold; color: green\">task</span> f1\n",
       "    today 00:00 23:59 00:01\n",
       "  <span style=\"text-weight: bold; color: green\">task</span> f2\n",
       "    today 05:10\n",
       "  <span style=\"text-weight: bold; color: green\">task</span> f3\n",
       "    today 05:10 17:40 00:30\n",
       "<span style=\"text-weight: bold; color: green\">endsuite</span>\n",
       "</pre>"
      ],
      "text/plain": [
       "Suite(/a)"
      ]
     },
     "execution_count": 45,
     "metadata": {},
     "output_type": "execute_result"
    }
   ],
   "source": [
    "S = Suite(\"a\")\n",
    "S.tasks = [\"f1\", \"f2\", \"f3\"]\n",
    "\n",
    "S.f1.today = \"* * * * *\"\n",
    "S.f2.today = \"10 5 * * *\"\n",
    "S.f3.today = \"10,40 5-17 * * *\"\n",
    "\n",
    "S"
   ]
  },
  {
   "cell_type": "markdown",
   "metadata": {
    "slideshow": {
     "slide_type": "slide"
    }
   },
   "source": [
    "# Autocancel"
   ]
  },
  {
   "cell_type": "code",
   "execution_count": 46,
   "metadata": {},
   "outputs": [
    {
     "data": {
      "text/html": [
       "<pre><span style=\"text-weight: bold; color: green\">suite</span> a\n",
       "  <span style=\"text-weight: bold; color: green\">edit</span> ECF_JOB_CMD <span style=\"color: red\">'bash -c '</span>export ECF_PORT=%ECF_PORT%; export ECF_HOST=%ECF_HOST%; export ECF_NAME=%ECF_NAME%; export ECF_PASS=%ECF_PASS%; export ECF_TRYNO=%ECF_TRYNO%; export PATH=/usr/local/apps/ecflow/%ECF_VERSION%/bin:$PATH; ecflow_client --init=<span style=\"color: red\">\"$$\"</span> && %ECF_JOB% && ecflow_client --complete || ecflow_client --abort <span style=\"color: red\">' 1> %ECF_JOBOUT% 2>&1 &'</span>\n",
       "  <span style=\"text-weight: bold; color: green\">edit</span> ECF_KILL_CMD <span style=\"color: red\">'pkill -15 -P %ECF_RID%'</span>\n",
       "  <span style=\"text-weight: bold; color: green\">edit</span> ECF_STATUS_CMD <span style=\"color: red\">'true'</span>\n",
       "  <span style=\"text-weight: bold; color: green\">edit</span> ECF_OUT <span style=\"color: red\">'%ECF_HOME%'</span>\n",
       "  <span style=\"text-weight: bold; color: green\">label</span> exec_host <span style=\"color: red\">\"default\"</span>\n",
       "  <span style=\"text-weight: bold; color: green\">task</span> f1\n",
       "    <span style=\"text-weight: bold; color: green\">autocancel</span> 3\n",
       "  <span style=\"text-weight: bold; color: green\">task</span> f2\n",
       "    <span style=\"text-weight: bold; color: green\">autocancel</span> 10:10\n",
       "  <span style=\"text-weight: bold; color: green\">task</span> f3\n",
       "    <span style=\"text-weight: bold; color: green\">autocancel</span> +10:10\n",
       "  <span style=\"text-weight: bold; color: green\">task</span> f4\n",
       "    <span style=\"text-weight: bold; color: green\">autocancel</span> 4\n",
       "  <span style=\"text-weight: bold; color: green\">task</span> f5\n",
       "    <span style=\"text-weight: bold; color: green\">autocancel</span> 10:10\n",
       "  <span style=\"text-weight: bold; color: green\">task</span> f6\n",
       "    <span style=\"text-weight: bold; color: green\">autocancel</span> +00:00\n",
       "<span style=\"text-weight: bold; color: green\">endsuite</span>\n",
       "</pre>"
      ],
      "text/plain": [
       "Suite(/a)"
      ]
     },
     "execution_count": 46,
     "metadata": {},
     "output_type": "execute_result"
    }
   ],
   "source": [
    "S = Suite(\"a\")\n",
    "S.tasks = [\"f1\", \"f2\", \"f3\", \"f4\", \"f5\", \"f6\"]\n",
    "\n",
    "S.f1.autocancel = \"3\"\n",
    "S.f2.autocancel = \"10:10\"\n",
    "S.f3.autocancel = \"+10:10\"\n",
    "S.f4.autocancel = 4\n",
    "S.f5.autocancel = (10, 10)\n",
    "S.f6.autocancel = True\n",
    "\n",
    "S"
   ]
  },
  {
   "cell_type": "markdown",
   "metadata": {
    "slideshow": {
     "slide_type": "slide"
    }
   },
   "source": [
    "# Defstatus"
   ]
  },
  {
   "cell_type": "code",
   "execution_count": 47,
   "metadata": {},
   "outputs": [
    {
     "data": {
      "text/html": [
       "<pre><span style=\"text-weight: bold; color: green\">suite</span> s\n",
       "  <span style=\"text-weight: bold; color: green\">defstatus</span> <span style=\"font-style: italic;color: blue\">complete</span>\n",
       "  <span style=\"text-weight: bold; color: green\">edit</span> ECF_JOB_CMD <span style=\"color: red\">'bash -c '</span>export ECF_PORT=%ECF_PORT%; export ECF_HOST=%ECF_HOST%; export ECF_NAME=%ECF_NAME%; export ECF_PASS=%ECF_PASS%; export ECF_TRYNO=%ECF_TRYNO%; export PATH=/usr/local/apps/ecflow/%ECF_VERSION%/bin:$PATH; ecflow_client --init=<span style=\"color: red\">\"$$\"</span> && %ECF_JOB% && ecflow_client --complete || ecflow_client --abort <span style=\"color: red\">' 1> %ECF_JOBOUT% 2>&1 &'</span>\n",
       "  <span style=\"text-weight: bold; color: green\">edit</span> ECF_KILL_CMD <span style=\"color: red\">'pkill -15 -P %ECF_RID%'</span>\n",
       "  <span style=\"text-weight: bold; color: green\">edit</span> ECF_STATUS_CMD <span style=\"color: red\">'true'</span>\n",
       "  <span style=\"text-weight: bold; color: green\">edit</span> ECF_OUT <span style=\"color: red\">'%ECF_HOME%'</span>\n",
       "  <span style=\"text-weight: bold; color: green\">label</span> exec_host <span style=\"color: red\">\"default\"</span>\n",
       "  <span style=\"text-weight: bold; color: green\">task</span> t\n",
       "<span style=\"text-weight: bold; color: green\">endsuite</span>\n",
       "</pre>"
      ],
      "text/plain": [
       "Suite(/s)"
      ]
     },
     "execution_count": 47,
     "metadata": {},
     "output_type": "execute_result"
    }
   ],
   "source": [
    "with Suite(\"s\") as s:\n",
    "    s.defstatus = state.complete\n",
    "    s.tasks = [\"t\"]\n",
    "    \n",
    "s"
   ]
  },
  {
   "cell_type": "markdown",
   "metadata": {
    "slideshow": {
     "slide_type": "slide"
    }
   },
   "source": [
    "# Day"
   ]
  },
  {
   "cell_type": "code",
   "execution_count": 48,
   "metadata": {},
   "outputs": [
    {
     "data": {
      "text/html": [
       "<pre><span style=\"text-weight: bold; color: green\">suite</span> a\n",
       "  <span style=\"text-weight: bold; color: green\">edit</span> ECF_JOB_CMD <span style=\"color: red\">'bash -c '</span>export ECF_PORT=%ECF_PORT%; export ECF_HOST=%ECF_HOST%; export ECF_NAME=%ECF_NAME%; export ECF_PASS=%ECF_PASS%; export ECF_TRYNO=%ECF_TRYNO%; export PATH=/usr/local/apps/ecflow/%ECF_VERSION%/bin:$PATH; ecflow_client --init=<span style=\"color: red\">\"$$\"</span> && %ECF_JOB% && ecflow_client --complete || ecflow_client --abort <span style=\"color: red\">' 1> %ECF_JOBOUT% 2>&1 &'</span>\n",
       "  <span style=\"text-weight: bold; color: green\">edit</span> ECF_KILL_CMD <span style=\"color: red\">'pkill -15 -P %ECF_RID%'</span>\n",
       "  <span style=\"text-weight: bold; color: green\">edit</span> ECF_STATUS_CMD <span style=\"color: red\">'true'</span>\n",
       "  <span style=\"text-weight: bold; color: green\">edit</span> ECF_OUT <span style=\"color: red\">'%ECF_HOME%'</span>\n",
       "  <span style=\"text-weight: bold; color: green\">label</span> exec_host <span style=\"color: red\">\"default\"</span>\n",
       "  <span style=\"text-weight: bold; color: green\">task</span> t1\n",
       "    <span style=\"text-weight: bold; color: green\">day</span> monday\n",
       "  <span style=\"text-weight: bold; color: green\">task</span> t2\n",
       "    <span style=\"text-weight: bold; color: green\">day</span> monday\n",
       "    <span style=\"text-weight: bold; color: green\">day</span> friday\n",
       "<span style=\"text-weight: bold; color: green\">endsuite</span>\n",
       "</pre>"
      ],
      "text/plain": [
       "Suite(/a)"
      ]
     },
     "execution_count": 48,
     "metadata": {},
     "output_type": "execute_result"
    }
   ],
   "source": [
    "S = Suite(\"a\")\n",
    "\n",
    "S.tasks = [\"t1\", \"t2\"]\n",
    "S.t1.day = \"monday\"\n",
    "S.t2.day = [\"monday\", \"friday\"]\n",
    "\n",
    "S"
   ]
  },
  {
   "cell_type": "markdown",
   "metadata": {
    "slideshow": {
     "slide_type": "slide"
    }
   },
   "source": [
    "# Date"
   ]
  },
  {
   "cell_type": "code",
   "execution_count": 49,
   "metadata": {},
   "outputs": [
    {
     "data": {
      "text/html": [
       "<pre><span style=\"text-weight: bold; color: green\">suite</span> a\n",
       "  <span style=\"text-weight: bold; color: green\">edit</span> ECF_JOB_CMD <span style=\"color: red\">'bash -c '</span>export ECF_PORT=%ECF_PORT%; export ECF_HOST=%ECF_HOST%; export ECF_NAME=%ECF_NAME%; export ECF_PASS=%ECF_PASS%; export ECF_TRYNO=%ECF_TRYNO%; export PATH=/usr/local/apps/ecflow/%ECF_VERSION%/bin:$PATH; ecflow_client --init=<span style=\"color: red\">\"$$\"</span> && %ECF_JOB% && ecflow_client --complete || ecflow_client --abort <span style=\"color: red\">' 1> %ECF_JOBOUT% 2>&1 &'</span>\n",
       "  <span style=\"text-weight: bold; color: green\">edit</span> ECF_KILL_CMD <span style=\"color: red\">'pkill -15 -P %ECF_RID%'</span>\n",
       "  <span style=\"text-weight: bold; color: green\">edit</span> ECF_STATUS_CMD <span style=\"color: red\">'true'</span>\n",
       "  <span style=\"text-weight: bold; color: green\">edit</span> ECF_OUT <span style=\"color: red\">'%ECF_HOME%'</span>\n",
       "  <span style=\"text-weight: bold; color: green\">label</span> exec_host <span style=\"color: red\">\"default\"</span>\n",
       "  <span style=\"text-weight: bold; color: green\">task</span> t1\n",
       "    <span style=\"text-weight: bold; color: green\">date</span> 10.*.*\n",
       "  <span style=\"text-weight: bold; color: green\">task</span> t2\n",
       "    <span style=\"text-weight: bold; color: green\">date</span> 1.*.*\n",
       "  <span style=\"text-weight: bold; color: green\">task</span> t3\n",
       "    <span style=\"text-weight: bold; color: green\">date</span> 18.10.2022\n",
       "<span style=\"text-weight: bold; color: green\">endsuite</span>\n",
       "</pre>"
      ],
      "text/plain": [
       "Suite(/a)"
      ]
     },
     "execution_count": 49,
     "metadata": {},
     "output_type": "execute_result"
    }
   ],
   "source": [
    "S = Suite(\"a\")\n",
    "S.tasks = [\"t1\", \"t2\", \"t3\"]\n",
    "\n",
    "S.t1.date = (10, None, None)\n",
    "S.t2.date = \"1.*.*\"\n",
    "S.t3.date = now\n",
    "\n",
    "S"
   ]
  },
  {
   "cell_type": "markdown",
   "metadata": {
    "slideshow": {
     "slide_type": "slide"
    }
   },
   "source": [
    "# Suite repeat"
   ]
  },
  {
   "cell_type": "code",
   "execution_count": 50,
   "metadata": {},
   "outputs": [
    {
     "data": {
      "text/html": [
       "<pre><span style=\"text-weight: bold; color: green\">suite</span> a\n",
       "  <span style=\"text-weight: bold; color: green\">repeat day</span> 1\n",
       "  <span style=\"text-weight: bold; color: green\">edit</span> ECF_JOB_CMD <span style=\"color: red\">'bash -c '</span>export ECF_PORT=%ECF_PORT%; export ECF_HOST=%ECF_HOST%; export ECF_NAME=%ECF_NAME%; export ECF_PASS=%ECF_PASS%; export ECF_TRYNO=%ECF_TRYNO%; export PATH=/usr/local/apps/ecflow/%ECF_VERSION%/bin:$PATH; ecflow_client --init=<span style=\"color: red\">\"$$\"</span> && %ECF_JOB% && ecflow_client --complete || ecflow_client --abort <span style=\"color: red\">' 1> %ECF_JOBOUT% 2>&1 &'</span>\n",
       "  <span style=\"text-weight: bold; color: green\">edit</span> ECF_KILL_CMD <span style=\"color: red\">'pkill -15 -P %ECF_RID%'</span>\n",
       "  <span style=\"text-weight: bold; color: green\">edit</span> ECF_STATUS_CMD <span style=\"color: red\">'true'</span>\n",
       "  <span style=\"text-weight: bold; color: green\">edit</span> ECF_OUT <span style=\"color: red\">'%ECF_HOME%'</span>\n",
       "  <span style=\"text-weight: bold; color: green\">label</span> exec_host <span style=\"color: red\">\"default\"</span>\n",
       "<span style=\"text-weight: bold; color: green\">endsuite</span>\n",
       "</pre>"
      ],
      "text/plain": [
       "Suite(/a)"
      ]
     },
     "execution_count": 50,
     "metadata": {},
     "output_type": "execute_result"
    }
   ],
   "source": [
    "S = Suite(\"a\")\n",
    "S.repeat = True\n",
    "S"
   ]
  },
  {
   "cell_type": "markdown",
   "metadata": {
    "collapsed": true,
    "slideshow": {
     "slide_type": "slide"
    }
   },
   "source": [
    "# Zombies (needs work)"
   ]
  },
  {
   "cell_type": "code",
   "execution_count": 51,
   "metadata": {},
   "outputs": [
    {
     "data": {
      "text/html": [
       "<pre><span style=\"text-weight: bold; color: green\">suite</span> a\n",
       "  <span style=\"text-weight: bold; color: green\">edit</span> ECF_JOB_CMD <span style=\"color: red\">'bash -c '</span>export ECF_PORT=%ECF_PORT%; export ECF_HOST=%ECF_HOST%; export ECF_NAME=%ECF_NAME%; export ECF_PASS=%ECF_PASS%; export ECF_TRYNO=%ECF_TRYNO%; export PATH=/usr/local/apps/ecflow/%ECF_VERSION%/bin:$PATH; ecflow_client --init=<span style=\"color: red\">\"$$\"</span> && %ECF_JOB% && ecflow_client --complete || ecflow_client --abort <span style=\"color: red\">' 1> %ECF_JOBOUT% 2>&1 &'</span>\n",
       "  <span style=\"text-weight: bold; color: green\">edit</span> ECF_KILL_CMD <span style=\"color: red\">'pkill -15 -P %ECF_RID%'</span>\n",
       "  <span style=\"text-weight: bold; color: green\">edit</span> ECF_STATUS_CMD <span style=\"color: red\">'true'</span>\n",
       "  <span style=\"text-weight: bold; color: green\">edit</span> ECF_OUT <span style=\"color: red\">'%ECF_HOME%'</span>\n",
       "  <span style=\"text-weight: bold; color: green\">label</span> exec_host <span style=\"color: red\">\"default\"</span>\n",
       "  zombie ecf:fob::300\n",
       "  zombie path:fob::300\n",
       "  zombie user:fob::300\n",
       "<span style=\"text-weight: bold; color: green\">endsuite</span>\n",
       "</pre>"
      ],
      "text/plain": [
       "Suite(/a)"
      ]
     },
     "execution_count": 51,
     "metadata": {},
     "output_type": "execute_result"
    }
   ],
   "source": [
    "S = Suite(\"a\")\n",
    "S.zombies = False\n",
    "S"
   ]
  },
  {
   "cell_type": "markdown",
   "metadata": {
    "slideshow": {
     "slide_type": "slide"
    }
   },
   "source": [
    "# Constructor initialisation (part 2)\n"
   ]
  },
  {
   "cell_type": "markdown",
   "metadata": {},
   "source": [
    "List version"
   ]
  },
  {
   "cell_type": "code",
   "execution_count": 52,
   "metadata": {},
   "outputs": [
    {
     "data": {
      "text/html": [
       "<pre><span style=\"text-weight: bold; color: green\">suite</span> s\n",
       "  <span style=\"text-weight: bold; color: green\">repeat day</span> 1\n",
       "  <span style=\"text-weight: bold; color: green\">edit</span> ECF_JOB_CMD <span style=\"color: red\">'bash -c '</span>export ECF_PORT=%ECF_PORT%; export ECF_HOST=%ECF_HOST%; export ECF_NAME=%ECF_NAME%; export ECF_PASS=%ECF_PASS%; export ECF_TRYNO=%ECF_TRYNO%; export PATH=/usr/local/apps/ecflow/%ECF_VERSION%/bin:$PATH; ecflow_client --init=<span style=\"color: red\">\"$$\"</span> && %ECF_JOB% && ecflow_client --complete || ecflow_client --abort <span style=\"color: red\">' 1> %ECF_JOBOUT% 2>&1 &'</span>\n",
       "  <span style=\"text-weight: bold; color: green\">edit</span> ECF_KILL_CMD <span style=\"color: red\">'pkill -15 -P %ECF_RID%'</span>\n",
       "  <span style=\"text-weight: bold; color: green\">edit</span> ECF_STATUS_CMD <span style=\"color: red\">'true'</span>\n",
       "  <span style=\"text-weight: bold; color: green\">edit</span> ECF_OUT <span style=\"color: red\">'%ECF_HOME%'</span>\n",
       "  <span style=\"text-weight: bold; color: green\">limit</span> foo 2\n",
       "  <span style=\"text-weight: bold; color: green\">limit</span> bar 5\n",
       "  <span style=\"text-weight: bold; color: green\">label</span> exec_host <span style=\"color: red\">\"default\"</span>\n",
       "  <span style=\"text-weight: bold; color: green\">family</span> f\n",
       "    <span style=\"text-weight: bold; color: green\">meter</span> progress 1 10 10\n",
       "    <span style=\"text-weight: bold; color: green\">task</span> t\n",
       "      <span style=\"text-weight: bold; color: green\">label</span> info <span style=\"color: red\">\"hello\"</span>\n",
       "      <span style=\"text-weight: bold; color: green\">label</span> status <span style=\"color: red\">\"-\"</span>\n",
       "  <span style=\"text-weight: bold; color: green\">endfamily</span>\n",
       "<span style=\"text-weight: bold; color: green\">endsuite</span>\n",
       "</pre>"
      ],
      "text/plain": [
       "Suite(/s)"
      ]
     },
     "execution_count": 52,
     "metadata": {},
     "output_type": "execute_result"
    }
   ],
   "source": [
    "with Suite(\"s\", repeat=True, limits=[(\"foo\", 2), (\"bar\", 5)]) as S:\n",
    "    \n",
    "    with Family(\"f\", meters=(\"progress\", 1, 10)):\n",
    "        Task(\"t\", labels=[(\"info\", \"hello\"), (\"status\", \"-\")])\n",
    "        \n",
    "S"
   ]
  },
  {
   "cell_type": "markdown",
   "metadata": {
    "slideshow": {
     "slide_type": "slide"
    }
   },
   "source": [
    "# Constructor initialisation (part 3)\n"
   ]
  },
  {
   "cell_type": "markdown",
   "metadata": {},
   "source": [
    "Dictionary version"
   ]
  },
  {
   "cell_type": "code",
   "execution_count": 53,
   "metadata": {},
   "outputs": [
    {
     "data": {
      "text/html": [
       "<pre><span style=\"text-weight: bold; color: green\">suite</span> s\n",
       "  <span style=\"text-weight: bold; color: green\">repeat day</span> 1\n",
       "  <span style=\"text-weight: bold; color: green\">edit</span> ECF_JOB_CMD <span style=\"color: red\">'bash -c '</span>export ECF_PORT=%ECF_PORT%; export ECF_HOST=%ECF_HOST%; export ECF_NAME=%ECF_NAME%; export ECF_PASS=%ECF_PASS%; export ECF_TRYNO=%ECF_TRYNO%; export PATH=/usr/local/apps/ecflow/%ECF_VERSION%/bin:$PATH; ecflow_client --init=<span style=\"color: red\">\"$$\"</span> && %ECF_JOB% && ecflow_client --complete || ecflow_client --abort <span style=\"color: red\">' 1> %ECF_JOBOUT% 2>&1 &'</span>\n",
       "  <span style=\"text-weight: bold; color: green\">edit</span> ECF_KILL_CMD <span style=\"color: red\">'pkill -15 -P %ECF_RID%'</span>\n",
       "  <span style=\"text-weight: bold; color: green\">edit</span> ECF_STATUS_CMD <span style=\"color: red\">'true'</span>\n",
       "  <span style=\"text-weight: bold; color: green\">edit</span> ECF_OUT <span style=\"color: red\">'%ECF_HOME%'</span>\n",
       "  <span style=\"text-weight: bold; color: green\">limit</span> foo 2\n",
       "  <span style=\"text-weight: bold; color: green\">limit</span> bar 5\n",
       "  <span style=\"text-weight: bold; color: green\">label</span> exec_host <span style=\"color: red\">\"default\"</span>\n",
       "  <span style=\"text-weight: bold; color: green\">family</span> f\n",
       "    <span style=\"text-weight: bold; color: green\">meter</span> progress 1 10 10\n",
       "    <span style=\"text-weight: bold; color: green\">task</span> t\n",
       "      <span style=\"text-weight: bold; color: green\">label</span> info <span style=\"color: red\">\"hello\"</span>\n",
       "      <span style=\"text-weight: bold; color: green\">label</span> status <span style=\"color: red\">\"-\"</span>\n",
       "  <span style=\"text-weight: bold; color: green\">endfamily</span>\n",
       "<span style=\"text-weight: bold; color: green\">endsuite</span>\n",
       "</pre>"
      ],
      "text/plain": [
       "Suite(/s)"
      ]
     },
     "execution_count": 53,
     "metadata": {},
     "output_type": "execute_result"
    }
   ],
   "source": [
    "with Suite(\"s\", repeat=True, limits={\"foo\": 2, \"bar\": 5}) as S:\n",
    "    \n",
    "    with Family(\"f\", meters={\"progress\": (1, 10)}):\n",
    "        Task(\"t\", labels={\"info\": \"hello\", \"status\": \"-\"})\n",
    "        \n",
    "S"
   ]
  },
  {
   "cell_type": "markdown",
   "metadata": {
    "slideshow": {
     "slide_type": "slide"
    }
   },
   "source": [
    "# Using shortcuts (part 3)"
   ]
  },
  {
   "cell_type": "code",
   "execution_count": 54,
   "metadata": {},
   "outputs": [
    {
     "data": {
      "text/html": [
       "<pre><span style=\"text-weight: bold; color: green\">suite</span> test\n",
       "  <span style=\"text-weight: bold; color: green\">edit</span> ECF_JOB_CMD <span style=\"color: red\">'bash -c '</span>export ECF_PORT=%ECF_PORT%; export ECF_HOST=%ECF_HOST%; export ECF_NAME=%ECF_NAME%; export ECF_PASS=%ECF_PASS%; export ECF_TRYNO=%ECF_TRYNO%; export PATH=/usr/local/apps/ecflow/%ECF_VERSION%/bin:$PATH; ecflow_client --init=<span style=\"color: red\">\"$$\"</span> && %ECF_JOB% && ecflow_client --complete || ecflow_client --abort <span style=\"color: red\">' 1> %ECF_JOBOUT% 2>&1 &'</span>\n",
       "  <span style=\"text-weight: bold; color: green\">edit</span> ECF_KILL_CMD <span style=\"color: red\">'pkill -15 -P %ECF_RID%'</span>\n",
       "  <span style=\"text-weight: bold; color: green\">edit</span> ECF_STATUS_CMD <span style=\"color: red\">'true'</span>\n",
       "  <span style=\"text-weight: bold; color: green\">edit</span> ECF_OUT <span style=\"color: red\">'%ECF_HOME%'</span>\n",
       "  <span style=\"text-weight: bold; color: green\">label</span> exec_host <span style=\"color: red\">\"default\"</span>\n",
       "  <span style=\"text-weight: bold; color: green\">family</span> f1\n",
       "    <span style=\"text-weight: bold; color: green\">task</span> t1\n",
       "      <span style=\"text-weight: bold; color: green\">edit</span> FOO <span style=\"color: red\">'42'</span>\n",
       "    <span style=\"text-weight: bold; color: green\">task</span> t2\n",
       "      <span style=\"text-weight: bold; color: green\">label</span> info <span style=\"color: red\">\"-\"</span>\n",
       "      <span style=\"text-weight: bold; color: green\">label</span> hello <span style=\"color: red\">\"world\"</span>\n",
       "    <span style=\"text-weight: bold; color: green\">task</span> t3\n",
       "      <span style=\"text-weight: bold; color: green\">meter</span> progress 1 100 100\n",
       "    <span style=\"text-weight: bold; color: green\">task</span> t4\n",
       "      <span style=\"text-weight: bold; color: green\">repeat date</span> YMD 20221018 20231018 1\n",
       "  <span style=\"text-weight: bold; color: green\">endfamily</span>\n",
       "  <span style=\"text-weight: bold; color: green\">family</span> f2\n",
       "    <span style=\"text-weight: bold; color: green\">task</span> t1\n",
       "      <span style=\"text-weight: bold; color: green\">edit</span> FOO <span style=\"color: red\">'42'</span>\n",
       "    <span style=\"text-weight: bold; color: green\">task</span> t2\n",
       "      <span style=\"text-weight: bold; color: green\">label</span> info <span style=\"color: red\">\"-\"</span>\n",
       "      <span style=\"text-weight: bold; color: green\">label</span> hello <span style=\"color: red\">\"world\"</span>\n",
       "    <span style=\"text-weight: bold; color: green\">task</span> t3\n",
       "      <span style=\"text-weight: bold; color: green\">meter</span> progress 1 100 100\n",
       "    <span style=\"text-weight: bold; color: green\">task</span> t4\n",
       "      <span style=\"text-weight: bold; color: green\">repeat date</span> YMD 20221018 20231018 1\n",
       "  <span style=\"text-weight: bold; color: green\">endfamily</span>\n",
       "<span style=\"text-weight: bold; color: green\">endsuite</span>\n",
       "</pre>"
      ],
      "text/plain": [
       "Suite(/test)"
      ]
     },
     "execution_count": 54,
     "metadata": {},
     "output_type": "execute_result"
    }
   ],
   "source": [
    "S = Suite(\"test\")\n",
    "S.families += [\"f1\", \"f2\"]\n",
    "\n",
    "tasks = {\"t1\": {\"FOO\": 42}, \n",
    "         \"t2\": {\"labels\":[(\"info\",\"-\"), (\"hello\",\"world\")]}, \n",
    "         \"t3\": {\"meters\":(\"progress\",1, 100)},\n",
    "         \"t4\": {\"YMD\": (now, then)}\n",
    "        }\n",
    "\n",
    "S.f1.tasks += tasks\n",
    "S.f2.tasks += tasks\n",
    "\n",
    "S"
   ]
  },
  {
   "cell_type": "markdown",
   "metadata": {
    "slideshow": {
     "slide_type": "slide"
    }
   },
   "source": [
    "# Using shortcuts (part 4)"
   ]
  },
  {
   "cell_type": "code",
   "execution_count": 55,
   "metadata": {
    "scrolled": false
   },
   "outputs": [
    {
     "data": {
      "text/html": [
       "<pre><span style=\"text-weight: bold; color: green\">suite</span> s\n",
       "  <span style=\"text-weight: bold; color: green\">edit</span> ECF_JOB_CMD <span style=\"color: red\">'bash -c '</span>export ECF_PORT=%ECF_PORT%; export ECF_HOST=%ECF_HOST%; export ECF_NAME=%ECF_NAME%; export ECF_PASS=%ECF_PASS%; export ECF_TRYNO=%ECF_TRYNO%; export PATH=/usr/local/apps/ecflow/%ECF_VERSION%/bin:$PATH; ecflow_client --init=<span style=\"color: red\">\"$$\"</span> && %ECF_JOB% && ecflow_client --complete || ecflow_client --abort <span style=\"color: red\">' 1> %ECF_JOBOUT% 2>&1 &'</span>\n",
       "  <span style=\"text-weight: bold; color: green\">edit</span> ECF_KILL_CMD <span style=\"color: red\">'pkill -15 -P %ECF_RID%'</span>\n",
       "  <span style=\"text-weight: bold; color: green\">edit</span> ECF_STATUS_CMD <span style=\"color: red\">'true'</span>\n",
       "  <span style=\"text-weight: bold; color: green\">edit</span> ECF_OUT <span style=\"color: red\">'%ECF_HOME%'</span>\n",
       "  <span style=\"text-weight: bold; color: green\">label</span> exec_host <span style=\"color: red\">\"default\"</span>\n",
       "  <span style=\"text-weight: bold; color: green\">task</span> s0000\n",
       "    <span style=\"text-weight: bold; color: green\">edit</span> STEP <span style=\"color: red\">'0'</span>\n",
       "  <span style=\"text-weight: bold; color: green\">task</span> s0006\n",
       "    <span style=\"text-weight: bold; color: green\">edit</span> STEP <span style=\"color: red\">'6'</span>\n",
       "  <span style=\"text-weight: bold; color: green\">task</span> s0012\n",
       "    <span style=\"text-weight: bold; color: green\">edit</span> STEP <span style=\"color: red\">'12'</span>\n",
       "  <span style=\"text-weight: bold; color: green\">task</span> s0018\n",
       "    <span style=\"text-weight: bold; color: green\">edit</span> STEP <span style=\"color: red\">'18'</span>\n",
       "  <span style=\"text-weight: bold; color: green\">task</span> s0024\n",
       "    <span style=\"text-weight: bold; color: green\">edit</span> STEP <span style=\"color: red\">'24'</span>\n",
       "  <span style=\"text-weight: bold; color: green\">task</span> s0030\n",
       "    <span style=\"text-weight: bold; color: green\">edit</span> STEP <span style=\"color: red\">'30'</span>\n",
       "  <span style=\"text-weight: bold; color: green\">task</span> s0036\n",
       "    <span style=\"text-weight: bold; color: green\">edit</span> STEP <span style=\"color: red\">'36'</span>\n",
       "  <span style=\"text-weight: bold; color: green\">task</span> s0042\n",
       "    <span style=\"text-weight: bold; color: green\">edit</span> STEP <span style=\"color: red\">'42'</span>\n",
       "  <span style=\"text-weight: bold; color: green\">task</span> s0048\n",
       "    <span style=\"text-weight: bold; color: green\">edit</span> STEP <span style=\"color: red\">'48'</span>\n",
       "<span style=\"text-weight: bold; color: green\">endsuite</span>\n",
       "</pre>"
      ],
      "text/plain": [
       "Suite(/s)"
      ]
     },
     "execution_count": 55,
     "metadata": {},
     "output_type": "execute_result"
    }
   ],
   "source": [
    "with Suite(\"s\") as s:\n",
    "    t = [(\"s%004d\" % n, {'STEP': n}) for n in range(0, 48 + 6, 6)]\n",
    "    s.tasks += t\n",
    "    \n",
    "s"
   ]
  },
  {
   "cell_type": "markdown",
   "metadata": {
    "slideshow": {
     "slide_type": "slide"
    }
   },
   "source": [
    "# Using JSON (needs more work)"
   ]
  },
  {
   "cell_type": "code",
   "execution_count": 56,
   "metadata": {},
   "outputs": [
    {
     "data": {
      "text/html": [
       "<pre><span style=\"text-weight: bold; color: green\">suite</span> s\n",
       "  <span style=\"text-weight: bold; color: green\">repeat day</span> 1\n",
       "  <span style=\"text-weight: bold; color: green\">edit</span> FOO <span style=\"color: red\">'42'</span>\n",
       "  <span style=\"text-weight: bold; color: green\">edit</span> ECF_JOB_CMD <span style=\"color: red\">'bash -c '</span>export ECF_PORT=%ECF_PORT%; export ECF_HOST=%ECF_HOST%; export ECF_NAME=%ECF_NAME%; export ECF_PASS=%ECF_PASS%; export ECF_TRYNO=%ECF_TRYNO%; export PATH=/usr/local/apps/ecflow/%ECF_VERSION%/bin:$PATH; ecflow_client --init=<span style=\"color: red\">\"$$\"</span> && %ECF_JOB% && ecflow_client --complete || ecflow_client --abort <span style=\"color: red\">' 1> %ECF_JOBOUT% 2>&1 &'</span>\n",
       "  <span style=\"text-weight: bold; color: green\">edit</span> ECF_KILL_CMD <span style=\"color: red\">'pkill -15 -P %ECF_RID%'</span>\n",
       "  <span style=\"text-weight: bold; color: green\">edit</span> ECF_STATUS_CMD <span style=\"color: red\">'true'</span>\n",
       "  <span style=\"text-weight: bold; color: green\">edit</span> ECF_OUT <span style=\"color: red\">'%ECF_HOME%'</span>\n",
       "  <span style=\"text-weight: bold; color: green\">label</span> exec_host <span style=\"color: red\">\"default\"</span>\n",
       "  <span style=\"text-weight: bold; color: green\">family</span> f1\n",
       "    <span style=\"text-weight: bold; color: green\">repeat date</span> YMD 20100101 20110101 1\n",
       "    <span style=\"text-weight: bold; color: green\">label</span> foo <span style=\"color: red\">\"bar\"</span>\n",
       "    <span style=\"text-weight: bold; color: green\">task</span> t1\n",
       "      <span style=\"text-weight: bold; color: green\">autocancel</span> +00:00\n",
       "    <span style=\"text-weight: bold; color: green\">task</span> t2\n",
       "      <span style=\"text-weight: bold; color: green\">cron</span> 00:10 23:10 01:00\n",
       "    <span style=\"text-weight: bold; color: green\">task</span> t3\n",
       "      <span style=\"text-weight: bold; color: green\">defstatus</span> <span style=\"font-style: italic;color: blue\">complete</span>\n",
       "      <span style=\"text-weight: bold; color: green\">trigger</span> t1 <span style=\"text-weight: bold; color: purple\">eq</span> <span style=\"font-style: italic;color: blue\">complete</span> <span style=\"text-weight: bold; color: purple\">or</span> t2 <span style=\"text-weight: bold; color: purple\">eq</span> <span style=\"font-style: italic;color: blue\">complete</span>\n",
       "      <span style=\"text-weight: bold; color: green\">day</span> monday\n",
       "      <span style=\"text-weight: bold; color: green\">day</span> sunday\n",
       "    <span style=\"text-weight: bold; color: green\">task</span> t4\n",
       "      time 00:00 23:59 00:01\n",
       "    <span style=\"text-weight: bold; color: green\">task</span> t5\n",
       "      today 00:00 23:59 00:01\n",
       "    <span style=\"text-weight: bold; color: green\">task</span> t6\n",
       "      <span style=\"text-weight: bold; color: green\">meter</span> foo 1 100 100\n",
       "      <span style=\"text-weight: bold; color: green\">meter</span> bar 1 100 100\n",
       "    <span style=\"text-weight: bold; color: green\">task</span> t7\n",
       "      <span style=\"text-weight: bold; color: green\">limit</span> foo 1\n",
       "      <span style=\"text-weight: bold; color: green\">limit</span> bar 2\n",
       "    <span style=\"text-weight: bold; color: green\">task</span> t8\n",
       "      <span style=\"text-weight: bold; color: green\">inlimit</span> foo\n",
       "      <span style=\"text-weight: bold; color: green\">inlimit</span> bar\n",
       "    <span style=\"text-weight: bold; color: green\">task</span> t9\n",
       "  <span style=\"text-weight: bold; color: green\">endfamily</span>\n",
       "  <span style=\"text-weight: bold; color: green\">task</span> f2\n",
       "    <span style=\"text-weight: bold; color: green\">edit</span> FOO <span style=\"color: red\">'42'</span>\n",
       "<span style=\"text-weight: bold; color: green\">endsuite</span>\n",
       "</pre>"
      ],
      "text/plain": [
       "Suite(/s)"
      ]
     },
     "execution_count": 56,
     "metadata": {},
     "output_type": "execute_result"
    }
   ],
   "source": [
    "Suite(\"s\", json={\n",
    "    \"FOO\": 42,\n",
    "    \"f1\": {\n",
    "        \"YMD\": [\"2010-01-01\", \"2011-01-01\"],\n",
    "        \"labels\": {\"foo\": \"bar\"},\n",
    "        \"t1\": {\"autocancel\": True},\n",
    "        \"t2\": {\"cron\": \"10 * * * *\"},\n",
    "        \"t3\": {\n",
    "            \"day\": [\"monday\", \"sunday\"],\n",
    "            \"defstatus\": \"complete\",\n",
    "            \"triggers\": {\"or\": [{\"complete\": \"t1\"}, {\"complete\": \"t2\"}]}\n",
    "        },\n",
    "        \"t4\": {\"time\": \"* * * * *\"},\n",
    "        \"t5\": {\"today\": \"* * * * *\"},\n",
    "        \"t6\": {\"meters\": {\"foo\": [1, 100], \"bar\": [1, 100]}},\n",
    "        \"t7\": {\"limits\": {\"foo\": 1, \"bar\": 2 }},\n",
    "        \"t8\": {\"inlimits\": [\"foo\", \"bar\"]\n",
    "        },\n",
    "        \"t9\": {}\n",
    "    },\n",
    "    \"f2\": {\n",
    "        \"FOO\": 42\n",
    "    },\n",
    "    \"repeat\": True\n",
    "})"
   ]
  },
  {
   "cell_type": "markdown",
   "metadata": {
    "slideshow": {
     "slide_type": "slide"
    }
   },
   "source": [
    "# Just an idea: plural versions: 'Family' becomes 'Families'"
   ]
  },
  {
   "cell_type": "code",
   "execution_count": 57,
   "metadata": {
    "scrolled": false
   },
   "outputs": [
    {
     "data": {
      "text/html": [
       "<pre><span style=\"text-weight: bold; color: green\">suite</span> s\n",
       "  <span style=\"text-weight: bold; color: green\">edit</span> ECF_JOB_CMD <span style=\"color: red\">'bash -c '</span>export ECF_PORT=%ECF_PORT%; export ECF_HOST=%ECF_HOST%; export ECF_NAME=%ECF_NAME%; export ECF_PASS=%ECF_PASS%; export ECF_TRYNO=%ECF_TRYNO%; export PATH=/usr/local/apps/ecflow/%ECF_VERSION%/bin:$PATH; ecflow_client --init=<span style=\"color: red\">\"$$\"</span> && %ECF_JOB% && ecflow_client --complete || ecflow_client --abort <span style=\"color: red\">' 1> %ECF_JOBOUT% 2>&1 &'</span>\n",
       "  <span style=\"text-weight: bold; color: green\">edit</span> ECF_KILL_CMD <span style=\"color: red\">'pkill -15 -P %ECF_RID%'</span>\n",
       "  <span style=\"text-weight: bold; color: green\">edit</span> ECF_STATUS_CMD <span style=\"color: red\">'true'</span>\n",
       "  <span style=\"text-weight: bold; color: green\">edit</span> ECF_OUT <span style=\"color: red\">'%ECF_HOME%'</span>\n",
       "  <span style=\"text-weight: bold; color: green\">label</span> exec_host <span style=\"color: red\">\"default\"</span>\n",
       "  <span style=\"text-weight: bold; color: green\">family</span> oper\n",
       "    <span style=\"text-weight: bold; color: green\">inlimit</span> foo\n",
       "    <span style=\"text-weight: bold; color: green\">inlimit</span> bar\n",
       "    <span style=\"text-weight: bold; color: green\">task</span> ta\n",
       "      <span style=\"text-weight: bold; color: green\">event</span> a\n",
       "      <span style=\"text-weight: bold; color: green\">event</span> b\n",
       "      <span style=\"text-weight: bold; color: green\">event</span> c\n",
       "    <span style=\"text-weight: bold; color: green\">task</span> tb\n",
       "      <span style=\"text-weight: bold; color: green\">event</span> a\n",
       "      <span style=\"text-weight: bold; color: green\">event</span> b\n",
       "      <span style=\"text-weight: bold; color: green\">event</span> c\n",
       "    <span style=\"text-weight: bold; color: green\">task</span> tc\n",
       "      <span style=\"text-weight: bold; color: green\">event</span> a\n",
       "      <span style=\"text-weight: bold; color: green\">event</span> b\n",
       "      <span style=\"text-weight: bold; color: green\">event</span> c\n",
       "  <span style=\"text-weight: bold; color: green\">endfamily</span>\n",
       "  <span style=\"text-weight: bold; color: green\">family</span> test\n",
       "    <span style=\"text-weight: bold; color: green\">inlimit</span> foo\n",
       "    <span style=\"text-weight: bold; color: green\">inlimit</span> bar\n",
       "    <span style=\"text-weight: bold; color: green\">task</span> ta\n",
       "      <span style=\"text-weight: bold; color: green\">event</span> a\n",
       "      <span style=\"text-weight: bold; color: green\">event</span> b\n",
       "      <span style=\"text-weight: bold; color: green\">event</span> c\n",
       "    <span style=\"text-weight: bold; color: green\">task</span> tb\n",
       "      <span style=\"text-weight: bold; color: green\">event</span> a\n",
       "      <span style=\"text-weight: bold; color: green\">event</span> b\n",
       "      <span style=\"text-weight: bold; color: green\">event</span> c\n",
       "    <span style=\"text-weight: bold; color: green\">task</span> tc\n",
       "      <span style=\"text-weight: bold; color: green\">event</span> a\n",
       "      <span style=\"text-weight: bold; color: green\">event</span> b\n",
       "      <span style=\"text-weight: bold; color: green\">event</span> c\n",
       "  <span style=\"text-weight: bold; color: green\">endfamily</span>\n",
       "<span style=\"text-weight: bold; color: green\">endsuite</span>\n",
       "</pre>"
      ],
      "text/plain": [
       "Suite(/s)"
      ]
     },
     "execution_count": 57,
     "metadata": {},
     "output_type": "execute_result"
    }
   ],
   "source": [
    "with Suite(\"s\") as s:\n",
    "    with Families(\"oper\", \"test\"):\n",
    "        InLimits(\"foo\", \"bar\")\n",
    "        with Tasks(\"ta\", \"tb\", \"tc\"):\n",
    "            Events(\"a\", \"b\", \"c\")\n",
    "s"
   ]
  },
  {
   "cell_type": "markdown",
   "metadata": {
    "slideshow": {
     "slide_type": "slide"
    }
   },
   "source": [
    "# Assigning different values to each element of a \"plural\""
   ]
  },
  {
   "cell_type": "code",
   "execution_count": 58,
   "metadata": {
    "scrolled": false
   },
   "outputs": [
    {
     "data": {
      "text/html": [
       "<pre><span style=\"text-weight: bold; color: green\">suite</span> s\n",
       "  <span style=\"text-weight: bold; color: green\">edit</span> ECF_JOB_CMD <span style=\"color: red\">'bash -c '</span>export ECF_PORT=%ECF_PORT%; export ECF_HOST=%ECF_HOST%; export ECF_NAME=%ECF_NAME%; export ECF_PASS=%ECF_PASS%; export ECF_TRYNO=%ECF_TRYNO%; export PATH=/usr/local/apps/ecflow/%ECF_VERSION%/bin:$PATH; ecflow_client --init=<span style=\"color: red\">\"$$\"</span> && %ECF_JOB% && ecflow_client --complete || ecflow_client --abort <span style=\"color: red\">' 1> %ECF_JOBOUT% 2>&1 &'</span>\n",
       "  <span style=\"text-weight: bold; color: green\">edit</span> ECF_KILL_CMD <span style=\"color: red\">'pkill -15 -P %ECF_RID%'</span>\n",
       "  <span style=\"text-weight: bold; color: green\">edit</span> ECF_STATUS_CMD <span style=\"color: red\">'true'</span>\n",
       "  <span style=\"text-weight: bold; color: green\">edit</span> ECF_OUT <span style=\"color: red\">'%ECF_HOME%'</span>\n",
       "  <span style=\"text-weight: bold; color: green\">label</span> exec_host <span style=\"color: red\">\"default\"</span>\n",
       "  <span style=\"text-weight: bold; color: green\">family</span> oper\n",
       "    <span style=\"text-weight: bold; color: green\">edit</span> FOO <span style=\"color: red\">'oper'</span>\n",
       "    <span style=\"text-weight: bold; color: green\">inlimit</span> foo\n",
       "    <span style=\"text-weight: bold; color: green\">inlimit</span> bar\n",
       "    <span style=\"text-weight: bold; color: green\">task</span> ta\n",
       "      <span style=\"text-weight: bold; color: green\">inlimit</span> ta\n",
       "      <span style=\"text-weight: bold; color: green\">event</span> a\n",
       "      <span style=\"text-weight: bold; color: green\">event</span> b\n",
       "      <span style=\"text-weight: bold; color: green\">event</span> c\n",
       "    <span style=\"text-weight: bold; color: green\">task</span> tb\n",
       "      <span style=\"text-weight: bold; color: green\">inlimit</span> tb\n",
       "      <span style=\"text-weight: bold; color: green\">event</span> a\n",
       "      <span style=\"text-weight: bold; color: green\">event</span> b\n",
       "      <span style=\"text-weight: bold; color: green\">event</span> c\n",
       "    <span style=\"text-weight: bold; color: green\">task</span> tc\n",
       "      <span style=\"text-weight: bold; color: green\">inlimit</span> tc\n",
       "      <span style=\"text-weight: bold; color: green\">event</span> a\n",
       "      <span style=\"text-weight: bold; color: green\">event</span> b\n",
       "      <span style=\"text-weight: bold; color: green\">event</span> c\n",
       "  <span style=\"text-weight: bold; color: green\">endfamily</span>\n",
       "  <span style=\"text-weight: bold; color: green\">family</span> test\n",
       "    <span style=\"text-weight: bold; color: green\">edit</span> FOO <span style=\"color: red\">'test'</span>\n",
       "    <span style=\"text-weight: bold; color: green\">inlimit</span> foo\n",
       "    <span style=\"text-weight: bold; color: green\">inlimit</span> bar\n",
       "    <span style=\"text-weight: bold; color: green\">task</span> ta\n",
       "      <span style=\"text-weight: bold; color: green\">inlimit</span> ta\n",
       "      <span style=\"text-weight: bold; color: green\">event</span> a\n",
       "      <span style=\"text-weight: bold; color: green\">event</span> b\n",
       "      <span style=\"text-weight: bold; color: green\">event</span> c\n",
       "    <span style=\"text-weight: bold; color: green\">task</span> tb\n",
       "      <span style=\"text-weight: bold; color: green\">inlimit</span> tb\n",
       "      <span style=\"text-weight: bold; color: green\">event</span> a\n",
       "      <span style=\"text-weight: bold; color: green\">event</span> b\n",
       "      <span style=\"text-weight: bold; color: green\">event</span> c\n",
       "    <span style=\"text-weight: bold; color: green\">task</span> tc\n",
       "      <span style=\"text-weight: bold; color: green\">inlimit</span> tc\n",
       "      <span style=\"text-weight: bold; color: green\">event</span> a\n",
       "      <span style=\"text-weight: bold; color: green\">event</span> b\n",
       "      <span style=\"text-weight: bold; color: green\">event</span> c\n",
       "  <span style=\"text-weight: bold; color: green\">endfamily</span>\n",
       "<span style=\"text-weight: bold; color: green\">endsuite</span>\n",
       "</pre>"
      ],
      "text/plain": [
       "Suite(/s)"
      ]
     },
     "execution_count": 58,
     "metadata": {},
     "output_type": "execute_result"
    }
   ],
   "source": [
    "def parent_name(n):\n",
    "    return n.parent.name\n",
    "\n",
    "with Suite(\"s\") as s:\n",
    "    with Families(\"oper\", \"test\", FOO=parent_name):\n",
    "        InLimits(\"foo\", \"bar\")\n",
    "        with Tasks(\"ta\", \"tb\", \"tc\", inlimits=parent_name):\n",
    "            Events(\"a\", \"b\", \"c\")\n",
    "s"
   ]
  },
  {
   "cell_type": "markdown",
   "metadata": {
    "collapsed": true,
    "slideshow": {
     "slide_type": "slide"
    }
   },
   "source": [
    "# Idea for higher level idioms: following dates"
   ]
  },
  {
   "cell_type": "code",
   "execution_count": 59,
   "metadata": {},
   "outputs": [
    {
     "data": {
      "text/html": [
       "<pre><span style=\"text-weight: bold; color: green\">suite</span> s\n",
       "  <span style=\"text-weight: bold; color: green\">edit</span> ECF_JOB_CMD <span style=\"color: red\">'bash -c '</span>export ECF_PORT=%ECF_PORT%; export ECF_HOST=%ECF_HOST%; export ECF_NAME=%ECF_NAME%; export ECF_PASS=%ECF_PASS%; export ECF_TRYNO=%ECF_TRYNO%; export PATH=/usr/local/apps/ecflow/%ECF_VERSION%/bin:$PATH; ecflow_client --init=<span style=\"color: red\">\"$$\"</span> && %ECF_JOB% && ecflow_client --complete || ecflow_client --abort <span style=\"color: red\">' 1> %ECF_JOBOUT% 2>&1 &'</span>\n",
       "  <span style=\"text-weight: bold; color: green\">edit</span> ECF_KILL_CMD <span style=\"color: red\">'pkill -15 -P %ECF_RID%'</span>\n",
       "  <span style=\"text-weight: bold; color: green\">edit</span> ECF_STATUS_CMD <span style=\"color: red\">'true'</span>\n",
       "  <span style=\"text-weight: bold; color: green\">edit</span> ECF_OUT <span style=\"color: red\">'%ECF_HOME%'</span>\n",
       "  <span style=\"text-weight: bold; color: green\">label</span> exec_host <span style=\"color: red\">\"default\"</span>\n",
       "  <span style=\"text-weight: bold; color: green\">task</span> t1\n",
       "    <span style=\"text-weight: bold; color: green\">repeat date</span> YMD 20221018 20221018 1\n",
       "  <span style=\"text-weight: bold; color: green\">task</span> t2\n",
       "    <span style=\"text-weight: bold; color: green\">trigger</span> t1 <span style=\"text-weight: bold; color: purple\">eq</span> <span style=\"font-style: italic;color: blue\">complete</span> <span style=\"text-weight: bold; color: purple\">or</span> t2:YMD <span style=\"text-weight: bold; color: purple\">lt</span> t1:YMD\n",
       "    <span style=\"text-weight: bold; color: green\">repeat date</span> YMD 20221018 20221018 1\n",
       "  <span style=\"text-weight: bold; color: green\">task</span> t3\n",
       "<span style=\"text-weight: bold; color: green\">endsuite</span>\n",
       "</pre>"
      ],
      "text/plain": [
       "Suite(/s)"
      ]
     },
     "execution_count": 59,
     "metadata": {},
     "output_type": "execute_result"
    }
   ],
   "source": [
    "from pyflow import Suite, Task\n",
    "import datetime\n",
    "\n",
    "now = datetime.datetime.now()\n",
    "\n",
    "with Suite(\"s\") as s:\n",
    "\n",
    "    t1 = Task(\"t1\", YMD=(now, now)) \n",
    "    t2 = Task(\"t2\")\n",
    "    t3 = Task(\"t3\")\n",
    "\n",
    "    t2.follow = t1.YMD \n",
    "\n",
    "s"
   ]
  },
  {
   "cell_type": "markdown",
   "metadata": {
    "collapsed": true,
    "slideshow": {
     "slide_type": "slide"
    }
   },
   "source": [
    "# Finally, exploring script generation\n",
    "Rationale: keep definitions and code together"
   ]
  },
  {
   "cell_type": "code",
   "execution_count": 60,
   "metadata": {},
   "outputs": [
    {
     "data": {
      "text/html": [
       "<h3>File: None</h3><hr><pre><span style=\"font-style: italic;color: blue\">#!/bin/bash</span>\n",
       "\n",
       "<span style=\"text-weight: bold; color: green\">echo</span> \"Running on: $(hostname)\" || true\n",
       "<span style=\"text-weight: bold; color: green\">set</span> -uex\n",
       "\n",
       "\n",
       "<span style=\"text-weight: bold; color: green\">export</span> ECF_PORT=<span style=\"color: red\">%ECF_PORT%</span>    <span style=\"font-style: italic;color: blue\"># The server port number</span>\n",
       "<span style=\"text-weight: bold; color: green\">export</span> ECF_HOST=<span style=\"color: red\">%ECF_HOST%</span>    <span style=\"font-style: italic;color: blue\"># The host name where the server is running</span>\n",
       "<span style=\"text-weight: bold; color: green\">export</span> ECF_NAME=<span style=\"color: red\">%ECF_NAME%</span>    <span style=\"font-style: italic;color: blue\"># The name of this current task</span>\n",
       "<span style=\"text-weight: bold; color: green\">export</span> ECF_PASS=<span style=\"color: red\">%ECF_PASS%</span>    <span style=\"font-style: italic;color: blue\"># A unique password</span>\n",
       "<span style=\"text-weight: bold; color: green\">export</span> ECF_TRYNO=<span style=\"color: red\">%ECF_TRYNO%</span>  <span style=\"font-style: italic;color: blue\"># Current try number of the task</span>\n",
       "\n",
       "<span style=\"text-weight: bold; color: green\">echo</span> \"Current working directory: $(pwd)\"\n",
       "\n",
       "%nopp\n",
       "\n",
       "\n",
       "%end\n",
       "</pre><hr>"
      ],
      "text/plain": [
       "<pyflow.files.Notebook at 0x147c04a52880>"
      ]
     },
     "execution_count": 60,
     "metadata": {},
     "output_type": "execute_result"
    }
   ],
   "source": [
    "with Suite(\"s\") as S:\n",
    "    Task(\"t1\")\n",
    "\n",
    "S.deploy_suite(target=Notebook)"
   ]
  },
  {
   "cell_type": "markdown",
   "metadata": {
    "collapsed": true,
    "slideshow": {
     "slide_type": "slide"
    }
   },
   "source": [
    "# Adding a script to a task"
   ]
  },
  {
   "cell_type": "code",
   "execution_count": 61,
   "metadata": {},
   "outputs": [
    {
     "data": {
      "text/html": [
       "<h3>File: None</h3><hr><pre><span style=\"font-style: italic;color: blue\">#!/bin/bash</span>\n",
       "\n",
       "<span style=\"text-weight: bold; color: green\">echo</span> \"Running on: $(hostname)\" || true\n",
       "<span style=\"text-weight: bold; color: green\">set</span> -uex\n",
       "\n",
       "\n",
       "<span style=\"text-weight: bold; color: green\">export</span> ECF_PORT=<span style=\"color: red\">%ECF_PORT%</span>    <span style=\"font-style: italic;color: blue\"># The server port number</span>\n",
       "<span style=\"text-weight: bold; color: green\">export</span> ECF_HOST=<span style=\"color: red\">%ECF_HOST%</span>    <span style=\"font-style: italic;color: blue\"># The host name where the server is running</span>\n",
       "<span style=\"text-weight: bold; color: green\">export</span> ECF_NAME=<span style=\"color: red\">%ECF_NAME%</span>    <span style=\"font-style: italic;color: blue\"># The name of this current task</span>\n",
       "<span style=\"text-weight: bold; color: green\">export</span> ECF_PASS=<span style=\"color: red\">%ECF_PASS%</span>    <span style=\"font-style: italic;color: blue\"># A unique password</span>\n",
       "<span style=\"text-weight: bold; color: green\">export</span> ECF_TRYNO=<span style=\"color: red\">%ECF_TRYNO%</span>  <span style=\"font-style: italic;color: blue\"># Current try number of the task</span>\n",
       "\n",
       "<span style=\"text-weight: bold; color: green\">echo</span> \"Current working directory: $(pwd)\"\n",
       "\n",
       "%nopp\n",
       "\n",
       "mars&lt;&lt;@\n",
       "retrieve,target=data\n",
       "@\n",
       "\n",
       "%end\n",
       "</pre><hr>"
      ],
      "text/plain": [
       "<pyflow.files.Notebook at 0x147c04a333d0>"
      ]
     },
     "execution_count": 61,
     "metadata": {},
     "output_type": "execute_result"
    }
   ],
   "source": [
    "with Suite(\"s\") as S:\n",
    "\n",
    "    t1 = Task(\"t1\") \n",
    "    t1.script = \"\"\"mars<<@\n",
    "retrieve,target=data\n",
    "@\"\"\"\n",
    "\n",
    "S.deploy_suite(target=Notebook, headers=False)"
   ]
  },
  {
   "cell_type": "markdown",
   "metadata": {
    "collapsed": true,
    "slideshow": {
     "slide_type": "slide"
    }
   },
   "source": [
    "# Scripts as classes"
   ]
  },
  {
   "cell_type": "code",
   "execution_count": 62,
   "metadata": {},
   "outputs": [
    {
     "data": {
      "text/html": [
       "<h3>File: None</h3><hr><pre><span style=\"font-style: italic;color: blue\">#!/bin/bash</span>\n",
       "\n",
       "<span style=\"text-weight: bold; color: green\">echo</span> \"Running on: $(hostname)\" || true\n",
       "<span style=\"text-weight: bold; color: green\">set</span> -uex\n",
       "\n",
       "\n",
       "<span style=\"text-weight: bold; color: green\">export</span> ECF_PORT=<span style=\"color: red\">%ECF_PORT%</span>    <span style=\"font-style: italic;color: blue\"># The server port number</span>\n",
       "<span style=\"text-weight: bold; color: green\">export</span> ECF_HOST=<span style=\"color: red\">%ECF_HOST%</span>    <span style=\"font-style: italic;color: blue\"># The host name where the server is running</span>\n",
       "<span style=\"text-weight: bold; color: green\">export</span> ECF_NAME=<span style=\"color: red\">%ECF_NAME%</span>    <span style=\"font-style: italic;color: blue\"># The name of this current task</span>\n",
       "<span style=\"text-weight: bold; color: green\">export</span> ECF_PASS=<span style=\"color: red\">%ECF_PASS%</span>    <span style=\"font-style: italic;color: blue\"># A unique password</span>\n",
       "<span style=\"text-weight: bold; color: green\">export</span> ECF_TRYNO=<span style=\"color: red\">%ECF_TRYNO%</span>  <span style=\"font-style: italic;color: blue\"># Current try number of the task</span>\n",
       "\n",
       "<span style=\"text-weight: bold; color: green\">echo</span> \"Current working directory: $(pwd)\"\n",
       "\n",
       "%nopp\n",
       "\n",
       "mars&lt;&lt;@\n",
       "retrieve,target=data,date=-1\n",
       "@\n",
       "\n",
       "%end\n",
       "</pre><hr>"
      ],
      "text/plain": [
       "<pyflow.files.Notebook at 0x147c04a524f0>"
      ]
     },
     "execution_count": 62,
     "metadata": {},
     "output_type": "execute_result"
    }
   ],
   "source": [
    "class Request(Script):\n",
    "\n",
    "    def __init__(self, **request):\n",
    "        super().__init__(\"\"\"mars<<@\n",
    "{}\n",
    "@\"\"\".format(','.join([self._verb] + ['%s=%s' % it for it in request.items()])))\n",
    "\n",
    "class Retrieve(Request):\n",
    "    _verb = 'retrieve'\n",
    "\n",
    "with Suite(\"s\") as S:\n",
    "\n",
    "    t1 = Task(\"t1\") \n",
    "    t1.script = Retrieve(target=\"data\",date=-1)\n",
    "\n",
    "S.deploy_suite(target=Notebook, headers=False)"
   ]
  },
  {
   "cell_type": "markdown",
   "metadata": {
    "slideshow": {
     "slide_type": "slide"
    }
   },
   "source": [
    "# Extra headers"
   ]
  },
  {
   "cell_type": "code",
   "execution_count": 63,
   "metadata": {
    "collapsed": true
   },
   "outputs": [],
   "source": [
    "class MySuite(Suite):\n",
    "    \n",
    "    head = \"\"\"WORKDIR=%WORKDIR%/%FAMILY:%\n",
    "mkdir -p $WORKDIR\n",
    "cd $WORKDIR\"\"\"\n",
    "    \n",
    "    tail = 'rm -fr $WORKDIR'\n",
    "    \n",
    "    \n",
    "with MySuite(\"s\", ECF_FILES=\"/\") as S:\n",
    "    t1 = Task(\"t1\") \n",
    "    t1.script = 'echo \"I am in directory $(pwd)\"'"
   ]
  },
  {
   "cell_type": "code",
   "execution_count": 64,
   "metadata": {
    "slideshow": {
     "slide_type": "slide"
    }
   },
   "outputs": [
    {
     "data": {
      "text/html": [
       "<h3>File: /t1.ecf</h3><hr><pre><span style=\"font-style: italic;color: blue\">#!/bin/bash</span>\n",
       "\n",
       "<span style=\"text-weight: bold; color: green\">echo</span> \"Running on: $(hostname)\" || true\n",
       "<span style=\"text-weight: bold; color: green\">set</span> -uex\n",
       "\n",
       "\n",
       "<span style=\"text-weight: bold; color: green\">export</span> ECF_PORT=<span style=\"color: red\">%ECF_PORT%</span>    <span style=\"font-style: italic;color: blue\"># The server port number</span>\n",
       "<span style=\"text-weight: bold; color: green\">export</span> ECF_HOST=<span style=\"color: red\">%ECF_HOST%</span>    <span style=\"font-style: italic;color: blue\"># The host name where the server is running</span>\n",
       "<span style=\"text-weight: bold; color: green\">export</span> ECF_NAME=<span style=\"color: red\">%ECF_NAME%</span>    <span style=\"font-style: italic;color: blue\"># The name of this current task</span>\n",
       "<span style=\"text-weight: bold; color: green\">export</span> ECF_PASS=<span style=\"color: red\">%ECF_PASS%</span>    <span style=\"font-style: italic;color: blue\"># A unique password</span>\n",
       "<span style=\"text-weight: bold; color: green\">export</span> ECF_TRYNO=<span style=\"color: red\">%ECF_TRYNO%</span>  <span style=\"font-style: italic;color: blue\"># Current try number of the task</span>\n",
       "\n",
       "<span style=\"color: red\">%include &lt;mysuite_head.h&gt;</span>\n",
       "\n",
       "<span style=\"text-weight: bold; color: green\">echo</span> \"Current working directory: $(pwd)\"\n",
       "\n",
       "%nopp\n",
       "\n",
       "<span style=\"text-weight: bold; color: green\">echo</span> \"I am in directory $(pwd)\"\n",
       "\n",
       "%end\n",
       "\n",
       "<span style=\"color: red\">%include &lt;mysuite_tail.h&gt;</span>\n",
       "</pre><hr><h3>File: /mysuite_tail.h</h3><hr><pre><span style=\"text-weight: bold; color: green\">rm</span> -fr $WORKDIR</pre><hr><h3>File: /mysuite_head.h</h3><hr><pre>WORKDIR=<span style=\"color: red\">%WORKDIR%</span>/<span style=\"color: red\">%FAMILY:%</span>\n",
       "<span style=\"text-weight: bold; color: green\">mkdir</span> -p $WORKDIR\n",
       "<span style=\"text-weight: bold; color: green\">cd</span> $WORKDIR</pre><hr>"
      ],
      "text/plain": [
       "<pyflow.files.Notebook at 0x147c04a52970>"
      ]
     },
     "execution_count": 64,
     "metadata": {},
     "output_type": "execute_result"
    }
   ],
   "source": [
    "S.deploy_suite(target=Notebook)"
   ]
  },
  {
   "cell_type": "markdown",
   "metadata": {
    "slideshow": {
     "slide_type": "slide"
    }
   },
   "source": [
    "# What next?"
   ]
  },
  {
   "cell_type": "code",
   "execution_count": 65,
   "metadata": {
    "collapsed": true,
    "slideshow": {
     "slide_type": "slide"
    }
   },
   "outputs": [],
   "source": [
    "import pyflow\n",
    "\n",
    "class EcSuite(pyflow.Suite):\n",
    "\n",
    "    def __init__(self, name, user=\"emos\", account=\"oesu\", host=\"lxop\", limits={}, **kwargs):        \n",
    "        \n",
    "        cmd = \"%TRIMURTI% %USER% %HOST% %ECF_JOB% %ECF_JOBOUT%\"\n",
    "        out = \"/vol/emos_nc/output\"\n",
    "        home = \"/home/ma/emos/def/\"\n",
    "\n",
    "        variables = {\"ACCOUNT\": account,\n",
    "                     \"USER\": user,\n",
    "                     \"HOST\": host,\n",
    "                     \"DELTA_DAY\": 0,\n",
    "                     \"ECF_EXTN\": \".ecf\",\n",
    "                     \"ECF_FILES\": home + name + \"/smsfiles\",\n",
    "                     \"ECF_HOME\": out,\n",
    "                     \"ECF_INCLUDE\": home + name + \"/include\",\n",
    "                     \"ECF_JOB_CMD\": cmd,\n",
    "                     \"ECF_KILL_CMD\": cmd + \" kill\",\n",
    "                     \"ECF_OUT\": out,\n",
    "                     \"ECF_STATUS_CMD\": cmd + \" stat\",\n",
    "                     \"ECF_TRIES\": 1,\n",
    "                     }\n",
    "\n",
    "        variables.update(kwargs)\n",
    "\n",
    "        super().__init__(name, **variables)\n",
    "\n",
    "        if limits:\n",
    "            with self:\n",
    "                with pyflow.Family(\"limits\"):\n",
    "                    for k, v in sorted(limits.items()):\n",
    "                        pyflow.Limit(k, v)\n",
    "\n",
    "    @property\n",
    "    def limits(self):\n",
    "        return self[\"limits\"]"
   ]
  },
  {
   "cell_type": "code",
   "execution_count": 66,
   "metadata": {
    "collapsed": true,
    "slideshow": {
     "slide_type": "slide"
    }
   },
   "outputs": [],
   "source": [
    "class EMOSSuite(EcSuite):\n",
    "    \n",
    "        def __init__(self, name, schosts=(\"ccb\", \"cca\"), **kwargs):\n",
    "            \n",
    "            out = \"%STHOST%/tcwork/emos/logs/\" + name\n",
    "            \n",
    "            variables = {\"LOGDIR\": out,\n",
    "                         \"ECF_OUT\": out,\n",
    "                         \"ECF_LOGPORT\": 9316,\n",
    "                         \"SCHOST\": schosts[0],\n",
    "                         \"SCHOST_BKUP\": schosts[1],}\n",
    "\n",
    "            variables.update(kwargs)\n",
    "            \n",
    "            super().__init__(name, \n",
    "                                            user=\"emos\", \n",
    "                                            account=\"oesu\", \n",
    "                                            **variables)"
   ]
  },
  {
   "cell_type": "code",
   "execution_count": 67,
   "metadata": {
    "collapsed": true,
    "slideshow": {
     "slide_type": "slide"
    }
   },
   "outputs": [],
   "source": [
    "class OSuite(EMOSSuite):\n",
    "    \n",
    "    def __init__(self, name, **kwargs):\n",
    "        super().__init__(name, **kwargs)\n",
    "        \n",
    "        self.EXPVER = \"0001\"\n",
    "    \n",
    "\n",
    "with OSuite(\"o\", defstatus=state.suspended):\n",
    "    \n",
    "    with Families(\"00\", \"12\"):\n",
    "        pass"
   ]
  },
  {
   "cell_type": "markdown",
   "metadata": {
    "slideshow": {
     "slide_type": "slide"
    }
   },
   "source": [
    "# More idioms"
   ]
  },
  {
   "cell_type": "code",
   "execution_count": 68,
   "metadata": {
    "collapsed": true
   },
   "outputs": [],
   "source": [
    "def STEPS(start, hourly_until, three_hourly_until, six_hourly_until):\n",
    "    yield start\n",
    "    while start < hourly_until:\n",
    "        start += 1\n",
    "        yield start\n",
    "    while start < three_hourly_until:\n",
    "        start += 3\n",
    "        yield start\n",
    "    while start < six_hourly_until:\n",
    "        start += 6\n",
    "        yield start"
   ]
  },
  {
   "cell_type": "code",
   "execution_count": 69,
   "metadata": {},
   "outputs": [
    {
     "name": "stdout",
     "output_type": "stream",
     "text": [
      "[0, 1, 2, 3, 4, 5, 6, 7, 8, 9, 10, 11, 12, 13, 14, 15, 16, 17, 18, 19, 20, 21, 22, 23, 24, 25, 26, 27, 28, 29, 30, 31, 32, 33, 34, 35, 36, 37, 38, 39, 40, 41, 42, 43, 44, 45, 46, 47, 48, 49, 50, 51, 52, 53, 54, 55, 56, 57, 58, 59, 60, 61, 62, 63, 64, 65, 66, 67, 68, 69, 70, 71, 72, 73, 74, 75, 76, 77, 78, 79, 80, 81, 82, 83, 84, 85, 86, 87, 88, 89, 90, 91, 92, 93, 94, 95, 96, 97, 98, 99, 100, 101, 102, 103, 104, 105, 106, 107, 108, 109, 110, 111, 112, 113, 114, 115, 116, 117, 118, 119, 120, 123, 126, 129, 132, 135, 138, 141, 144, 150, 156, 162, 168, 174, 180, 186, 192, 198, 204, 210, 216, 222, 228, 234, 240]\n"
     ]
    }
   ],
   "source": [
    "print(list(STEPS(0, 120, 144, 240)))"
   ]
  },
  {
   "cell_type": "markdown",
   "metadata": {
    "slideshow": {
     "slide_type": "slide"
    }
   },
   "source": [
    "# Incremental suite building"
   ]
  },
  {
   "cell_type": "code",
   "execution_count": 70,
   "metadata": {},
   "outputs": [],
   "source": [
    "S = Suite(\"s\")"
   ]
  },
  {
   "cell_type": "code",
   "execution_count": 71,
   "metadata": {
    "collapsed": true
   },
   "outputs": [],
   "source": [
    "S.A = 3"
   ]
  },
  {
   "cell_type": "code",
   "execution_count": 72,
   "metadata": {},
   "outputs": [
    {
     "data": {
      "text/plain": [
       "%A%"
      ]
     },
     "execution_count": 72,
     "metadata": {},
     "output_type": "execute_result"
    }
   ],
   "source": [
    "S.A"
   ]
  },
  {
   "cell_type": "code",
   "execution_count": 73,
   "metadata": {},
   "outputs": [
    {
     "data": {
      "text/html": [
       "<pre><span style=\"text-weight: bold; color: green\">suite</span> s\n",
       "  <span style=\"text-weight: bold; color: green\">edit</span> ECF_JOB_CMD <span style=\"color: red\">'bash -c '</span>export ECF_PORT=%ECF_PORT%; export ECF_HOST=%ECF_HOST%; export ECF_NAME=%ECF_NAME%; export ECF_PASS=%ECF_PASS%; export ECF_TRYNO=%ECF_TRYNO%; export PATH=/usr/local/apps/ecflow/%ECF_VERSION%/bin:$PATH; ecflow_client --init=<span style=\"color: red\">\"$$\"</span> && %ECF_JOB% && ecflow_client --complete || ecflow_client --abort <span style=\"color: red\">' 1> %ECF_JOBOUT% 2>&1 &'</span>\n",
       "  <span style=\"text-weight: bold; color: green\">edit</span> ECF_KILL_CMD <span style=\"color: red\">'pkill -15 -P %ECF_RID%'</span>\n",
       "  <span style=\"text-weight: bold; color: green\">edit</span> ECF_STATUS_CMD <span style=\"color: red\">'true'</span>\n",
       "  <span style=\"text-weight: bold; color: green\">edit</span> ECF_OUT <span style=\"color: red\">'%ECF_HOME%'</span>\n",
       "  <span style=\"text-weight: bold; color: green\">edit</span> A <span style=\"color: red\">'3'</span>\n",
       "  <span style=\"text-weight: bold; color: green\">label</span> exec_host <span style=\"color: red\">\"default\"</span>\n",
       "<span style=\"text-weight: bold; color: green\">endsuite</span>\n",
       "</pre>"
      ],
      "text/plain": [
       "Suite(/s)"
      ]
     },
     "execution_count": 73,
     "metadata": {},
     "output_type": "execute_result"
    }
   ],
   "source": [
    "S"
   ]
  },
  {
   "cell_type": "code",
   "execution_count": 74,
   "metadata": {
    "collapsed": true
   },
   "outputs": [],
   "source": [
    "S.tasks += [\"a\", \"b\", \"c\"]"
   ]
  },
  {
   "cell_type": "code",
   "execution_count": 75,
   "metadata": {},
   "outputs": [
    {
     "data": {
      "text/html": [
       "<pre><span style=\"text-weight: bold; color: green\">suite</span> s\n",
       "  <span style=\"text-weight: bold; color: green\">edit</span> ECF_JOB_CMD <span style=\"color: red\">'bash -c '</span>export ECF_PORT=%ECF_PORT%; export ECF_HOST=%ECF_HOST%; export ECF_NAME=%ECF_NAME%; export ECF_PASS=%ECF_PASS%; export ECF_TRYNO=%ECF_TRYNO%; export PATH=/usr/local/apps/ecflow/%ECF_VERSION%/bin:$PATH; ecflow_client --init=<span style=\"color: red\">\"$$\"</span> && %ECF_JOB% && ecflow_client --complete || ecflow_client --abort <span style=\"color: red\">' 1> %ECF_JOBOUT% 2>&1 &'</span>\n",
       "  <span style=\"text-weight: bold; color: green\">edit</span> ECF_KILL_CMD <span style=\"color: red\">'pkill -15 -P %ECF_RID%'</span>\n",
       "  <span style=\"text-weight: bold; color: green\">edit</span> ECF_STATUS_CMD <span style=\"color: red\">'true'</span>\n",
       "  <span style=\"text-weight: bold; color: green\">edit</span> ECF_OUT <span style=\"color: red\">'%ECF_HOME%'</span>\n",
       "  <span style=\"text-weight: bold; color: green\">edit</span> A <span style=\"color: red\">'3'</span>\n",
       "  <span style=\"text-weight: bold; color: green\">label</span> exec_host <span style=\"color: red\">\"default\"</span>\n",
       "  <span style=\"text-weight: bold; color: green\">task</span> a\n",
       "  <span style=\"text-weight: bold; color: green\">task</span> b\n",
       "  <span style=\"text-weight: bold; color: green\">task</span> c\n",
       "<span style=\"text-weight: bold; color: green\">endsuite</span>\n",
       "</pre>"
      ],
      "text/plain": [
       "Suite(/s)"
      ]
     },
     "execution_count": 75,
     "metadata": {},
     "output_type": "execute_result"
    }
   ],
   "source": [
    "S"
   ]
  },
  {
   "cell_type": "markdown",
   "metadata": {
    "slideshow": {
     "slide_type": "slide"
    }
   },
   "source": [
    "# Adding nodes programmatically"
   ]
  },
  {
   "cell_type": "code",
   "execution_count": 76,
   "metadata": {
    "collapsed": true
   },
   "outputs": [],
   "source": [
    "def create_nodes(s, n):\n",
    "    for i in range(n):\n",
    "        Task('{}_{}'.format(s, i))"
   ]
  },
  {
   "cell_type": "code",
   "execution_count": 77,
   "metadata": {},
   "outputs": [
    {
     "data": {
      "text/html": [
       "<pre><span style=\"text-weight: bold; color: green\">suite</span> s\n",
       "  <span style=\"text-weight: bold; color: green\">edit</span> ECF_JOB_CMD <span style=\"color: red\">'bash -c '</span>export ECF_PORT=%ECF_PORT%; export ECF_HOST=%ECF_HOST%; export ECF_NAME=%ECF_NAME%; export ECF_PASS=%ECF_PASS%; export ECF_TRYNO=%ECF_TRYNO%; export PATH=/usr/local/apps/ecflow/%ECF_VERSION%/bin:$PATH; ecflow_client --init=<span style=\"color: red\">\"$$\"</span> && %ECF_JOB% && ecflow_client --complete || ecflow_client --abort <span style=\"color: red\">' 1> %ECF_JOBOUT% 2>&1 &'</span>\n",
       "  <span style=\"text-weight: bold; color: green\">edit</span> ECF_KILL_CMD <span style=\"color: red\">'pkill -15 -P %ECF_RID%'</span>\n",
       "  <span style=\"text-weight: bold; color: green\">edit</span> ECF_STATUS_CMD <span style=\"color: red\">'true'</span>\n",
       "  <span style=\"text-weight: bold; color: green\">edit</span> ECF_OUT <span style=\"color: red\">'%ECF_HOME%'</span>\n",
       "  <span style=\"text-weight: bold; color: green\">label</span> exec_host <span style=\"color: red\">\"default\"</span>\n",
       "  <span style=\"text-weight: bold; color: green\">family</span> f\n",
       "    <span style=\"text-weight: bold; color: green\">task</span> foo_0\n",
       "    <span style=\"text-weight: bold; color: green\">task</span> foo_1\n",
       "    <span style=\"text-weight: bold; color: green\">task</span> foo_2\n",
       "    <span style=\"text-weight: bold; color: green\">task</span> foo_3\n",
       "    <span style=\"text-weight: bold; color: green\">task</span> foo_4\n",
       "    <span style=\"text-weight: bold; color: green\">task</span> bar_0\n",
       "    <span style=\"text-weight: bold; color: green\">task</span> bar_1\n",
       "    <span style=\"text-weight: bold; color: green\">task</span> bar_2\n",
       "  <span style=\"text-weight: bold; color: green\">endfamily</span>\n",
       "<span style=\"text-weight: bold; color: green\">endsuite</span>\n",
       "</pre>"
      ],
      "text/plain": [
       "Suite(/s)"
      ]
     },
     "execution_count": 77,
     "metadata": {},
     "output_type": "execute_result"
    }
   ],
   "source": [
    "with Suite('s') as s:\n",
    "    with Family('f'):\n",
    "        create_nodes('foo', 5)\n",
    "        create_nodes('bar', 3)\n",
    "s"
   ]
  },
  {
   "cell_type": "code",
   "execution_count": 78,
   "metadata": {
    "collapsed": true,
    "slideshow": {
     "slide_type": "slide"
    }
   },
   "outputs": [],
   "source": [
    "def create_more_nodes(s, n):\n",
    "    return [Task('{}_{}'.format(s, i)) for i in range(n)]"
   ]
  },
  {
   "cell_type": "code",
   "execution_count": 79,
   "metadata": {},
   "outputs": [
    {
     "data": {
      "text/html": [
       "<pre><span style=\"text-weight: bold; color: green\">suite</span> s\n",
       "  <span style=\"text-weight: bold; color: green\">edit</span> ECF_JOB_CMD <span style=\"color: red\">'bash -c '</span>export ECF_PORT=%ECF_PORT%; export ECF_HOST=%ECF_HOST%; export ECF_NAME=%ECF_NAME%; export ECF_PASS=%ECF_PASS%; export ECF_TRYNO=%ECF_TRYNO%; export PATH=/usr/local/apps/ecflow/%ECF_VERSION%/bin:$PATH; ecflow_client --init=<span style=\"color: red\">\"$$\"</span> && %ECF_JOB% && ecflow_client --complete || ecflow_client --abort <span style=\"color: red\">' 1> %ECF_JOBOUT% 2>&1 &'</span>\n",
       "  <span style=\"text-weight: bold; color: green\">edit</span> ECF_KILL_CMD <span style=\"color: red\">'pkill -15 -P %ECF_RID%'</span>\n",
       "  <span style=\"text-weight: bold; color: green\">edit</span> ECF_STATUS_CMD <span style=\"color: red\">'true'</span>\n",
       "  <span style=\"text-weight: bold; color: green\">edit</span> ECF_OUT <span style=\"color: red\">'%ECF_HOME%'</span>\n",
       "  <span style=\"text-weight: bold; color: green\">label</span> exec_host <span style=\"color: red\">\"default\"</span>\n",
       "  <span style=\"text-weight: bold; color: green\">family</span> f\n",
       "    <span style=\"text-weight: bold; color: green\">task</span> foo_0\n",
       "    <span style=\"text-weight: bold; color: green\">task</span> foo_1\n",
       "    <span style=\"text-weight: bold; color: green\">task</span> foo_2\n",
       "    <span style=\"text-weight: bold; color: green\">task</span> foo_3\n",
       "    <span style=\"text-weight: bold; color: green\">task</span> foo_4\n",
       "    <span style=\"text-weight: bold; color: green\">task</span> bar_0\n",
       "    <span style=\"text-weight: bold; color: green\">task</span> bar_1\n",
       "    <span style=\"text-weight: bold; color: green\">task</span> bar_2\n",
       "  <span style=\"text-weight: bold; color: green\">endfamily</span>\n",
       "<span style=\"text-weight: bold; color: green\">endsuite</span>\n",
       "</pre>"
      ],
      "text/plain": [
       "Suite(/s)"
      ]
     },
     "execution_count": 79,
     "metadata": {},
     "output_type": "execute_result"
    }
   ],
   "source": [
    "with Suite('s') as s:\n",
    "    f = Family('f')\n",
    "    f.add_node(create_more_nodes('foo', 5))\n",
    "    f.add_node(create_more_nodes('bar', 3))\n",
    "s"
   ]
  },
  {
   "cell_type": "markdown",
   "metadata": {},
   "source": [
    "# Using inheritance"
   ]
  },
  {
   "cell_type": "code",
   "execution_count": 80,
   "metadata": {
    "collapsed": true
   },
   "outputs": [],
   "source": [
    "class MyFamily(Family):\n",
    "    def __init__(self, name='MyFamily', extra=[]):\n",
    "        super().__init__(name)\n",
    "        with self:\n",
    "            Task('foo')\n",
    "            for e in extra:\n",
    "                Task(e)\n",
    "            Task('bar')"
   ]
  },
  {
   "cell_type": "code",
   "execution_count": 81,
   "metadata": {
    "collapsed": true
   },
   "outputs": [],
   "source": [
    "class MyOtherFamily(MyFamily):\n",
    "    def __init__(self, name='MyOtherFamily'):\n",
    "        super().__init__(name)\n",
    "        with self:\n",
    "            Task('quux')"
   ]
  },
  {
   "cell_type": "code",
   "execution_count": 82,
   "metadata": {},
   "outputs": [
    {
     "data": {
      "text/html": [
       "<pre><span style=\"text-weight: bold; color: green\">suite</span> s\n",
       "  <span style=\"text-weight: bold; color: green\">edit</span> ECF_JOB_CMD <span style=\"color: red\">'bash -c '</span>export ECF_PORT=%ECF_PORT%; export ECF_HOST=%ECF_HOST%; export ECF_NAME=%ECF_NAME%; export ECF_PASS=%ECF_PASS%; export ECF_TRYNO=%ECF_TRYNO%; export PATH=/usr/local/apps/ecflow/%ECF_VERSION%/bin:$PATH; ecflow_client --init=<span style=\"color: red\">\"$$\"</span> && %ECF_JOB% && ecflow_client --complete || ecflow_client --abort <span style=\"color: red\">' 1> %ECF_JOBOUT% 2>&1 &'</span>\n",
       "  <span style=\"text-weight: bold; color: green\">edit</span> ECF_KILL_CMD <span style=\"color: red\">'pkill -15 -P %ECF_RID%'</span>\n",
       "  <span style=\"text-weight: bold; color: green\">edit</span> ECF_STATUS_CMD <span style=\"color: red\">'true'</span>\n",
       "  <span style=\"text-weight: bold; color: green\">edit</span> ECF_OUT <span style=\"color: red\">'%ECF_HOME%'</span>\n",
       "  <span style=\"text-weight: bold; color: green\">label</span> exec_host <span style=\"color: red\">\"default\"</span>\n",
       "  <span style=\"text-weight: bold; color: green\">family</span> MyFamily\n",
       "    <span style=\"text-weight: bold; color: green\">task</span> foo\n",
       "    <span style=\"text-weight: bold; color: green\">task</span> baz\n",
       "    <span style=\"text-weight: bold; color: green\">task</span> a\n",
       "    <span style=\"text-weight: bold; color: green\">task</span> b\n",
       "    <span style=\"text-weight: bold; color: green\">task</span> bar\n",
       "  <span style=\"text-weight: bold; color: green\">endfamily</span>\n",
       "  <span style=\"text-weight: bold; color: green\">family</span> MyOtherFamily\n",
       "    <span style=\"text-weight: bold; color: green\">task</span> foo\n",
       "    <span style=\"text-weight: bold; color: green\">task</span> bar\n",
       "    <span style=\"text-weight: bold; color: green\">task</span> quux\n",
       "  <span style=\"text-weight: bold; color: green\">endfamily</span>\n",
       "<span style=\"text-weight: bold; color: green\">endsuite</span>\n",
       "</pre>"
      ],
      "text/plain": [
       "Suite(/s)"
      ]
     },
     "execution_count": 82,
     "metadata": {},
     "output_type": "execute_result"
    }
   ],
   "source": [
    "with Suite('s') as s:\n",
    "    MyFamily(extra=['baz', 'a', 'b'])\n",
    "    MyOtherFamily()\n",
    "s"
   ]
  },
  {
   "cell_type": "markdown",
   "metadata": {
    "slideshow": {
     "slide_type": "slide"
    }
   },
   "source": [
    "# Miscellaneous"
   ]
  },
  {
   "cell_type": "markdown",
   "metadata": {},
   "source": [
    "Adding children to a node"
   ]
  },
  {
   "cell_type": "code",
   "execution_count": 83,
   "metadata": {},
   "outputs": [
    {
     "data": {
      "text/html": [
       "<pre><span style=\"text-weight: bold; color: green\">suite</span> s\n",
       "  <span style=\"text-weight: bold; color: green\">edit</span> ECF_JOB_CMD <span style=\"color: red\">'bash -c '</span>export ECF_PORT=%ECF_PORT%; export ECF_HOST=%ECF_HOST%; export ECF_NAME=%ECF_NAME%; export ECF_PASS=%ECF_PASS%; export ECF_TRYNO=%ECF_TRYNO%; export PATH=/usr/local/apps/ecflow/%ECF_VERSION%/bin:$PATH; ecflow_client --init=<span style=\"color: red\">\"$$\"</span> && %ECF_JOB% && ecflow_client --complete || ecflow_client --abort <span style=\"color: red\">' 1> %ECF_JOBOUT% 2>&1 &'</span>\n",
       "  <span style=\"text-weight: bold; color: green\">edit</span> ECF_KILL_CMD <span style=\"color: red\">'pkill -15 -P %ECF_RID%'</span>\n",
       "  <span style=\"text-weight: bold; color: green\">edit</span> ECF_STATUS_CMD <span style=\"color: red\">'true'</span>\n",
       "  <span style=\"text-weight: bold; color: green\">edit</span> ECF_OUT <span style=\"color: red\">'%ECF_HOME%'</span>\n",
       "  <span style=\"text-weight: bold; color: green\">edit</span> FOO <span style=\"color: red\">'bar'</span>\n",
       "  <span style=\"text-weight: bold; color: green\">label</span> exec_host <span style=\"color: red\">\"default\"</span>\n",
       "  <span style=\"text-weight: bold; color: green\">family</span> f\n",
       "  <span style=\"text-weight: bold; color: green\">endfamily</span>\n",
       "  <span style=\"text-weight: bold; color: green\">task</span> t\n",
       "<span style=\"text-weight: bold; color: green\">endsuite</span>\n",
       "</pre>"
      ],
      "text/plain": [
       "Suite(/s)"
      ]
     },
     "execution_count": 83,
     "metadata": {},
     "output_type": "execute_result"
    }
   ],
   "source": [
    "s = Suite('s')\n",
    "s += [Family('f'), Task('t'), Variable('FOO', 'bar')]\n",
    "s"
   ]
  },
  {
   "cell_type": "markdown",
   "metadata": {},
   "source": [
    "Defining variables with `Edit`"
   ]
  },
  {
   "cell_type": "code",
   "execution_count": 84,
   "metadata": {},
   "outputs": [
    {
     "data": {
      "text/html": [
       "<pre><span style=\"text-weight: bold; color: green\">suite</span> s\n",
       "  <span style=\"text-weight: bold; color: green\">edit</span> ECF_JOB_CMD <span style=\"color: red\">'bash -c '</span>export ECF_PORT=%ECF_PORT%; export ECF_HOST=%ECF_HOST%; export ECF_NAME=%ECF_NAME%; export ECF_PASS=%ECF_PASS%; export ECF_TRYNO=%ECF_TRYNO%; export PATH=/usr/local/apps/ecflow/%ECF_VERSION%/bin:$PATH; ecflow_client --init=<span style=\"color: red\">\"$$\"</span> && %ECF_JOB% && ecflow_client --complete || ecflow_client --abort <span style=\"color: red\">' 1> %ECF_JOBOUT% 2>&1 &'</span>\n",
       "  <span style=\"text-weight: bold; color: green\">edit</span> ECF_KILL_CMD <span style=\"color: red\">'pkill -15 -P %ECF_RID%'</span>\n",
       "  <span style=\"text-weight: bold; color: green\">edit</span> ECF_STATUS_CMD <span style=\"color: red\">'true'</span>\n",
       "  <span style=\"text-weight: bold; color: green\">edit</span> ECF_OUT <span style=\"color: red\">'%ECF_HOME%'</span>\n",
       "  <span style=\"text-weight: bold; color: green\">label</span> exec_host <span style=\"color: red\">\"default\"</span>\n",
       "  <span style=\"text-weight: bold; color: green\">family</span> f\n",
       "    <span style=\"text-weight: bold; color: green\">edit</span> MYVAR <span style=\"color: red\">'0'</span>\n",
       "    <span style=\"text-weight: bold; color: green\">edit</span> X <span style=\"color: red\">'0'</span>\n",
       "  <span style=\"text-weight: bold; color: green\">endfamily</span>\n",
       "<span style=\"text-weight: bold; color: green\">endsuite</span>\n",
       "</pre>"
      ],
      "text/plain": [
       "Suite(/s)"
      ]
     },
     "execution_count": 84,
     "metadata": {},
     "output_type": "execute_result"
    }
   ],
   "source": [
    "with Suite('s') as s:\n",
    "    with Family('f', MYVAR=0):\n",
    "        Edit(X=0)\n",
    "\n",
    "s"
   ]
  }
 ],
 "metadata": {
  "celltoolbar": "Slideshow",
  "kernelspec": {
   "display_name": "pyflow",
   "language": "python",
   "name": "pyflow"
  },
  "language_info": {
   "codemirror_mode": {
    "name": "ipython",
    "version": 3
   },
   "file_extension": ".py",
   "mimetype": "text/x-python",
   "name": "python",
   "nbconvert_exporter": "python",
   "pygments_lexer": "ipython3",
   "version": "3.9.13"
  }
 },
 "nbformat": 4,
 "nbformat_minor": 1
}
